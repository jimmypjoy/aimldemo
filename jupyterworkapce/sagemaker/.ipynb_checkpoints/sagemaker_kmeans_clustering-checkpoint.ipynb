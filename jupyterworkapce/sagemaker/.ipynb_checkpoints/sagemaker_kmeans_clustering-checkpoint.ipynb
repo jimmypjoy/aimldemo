{
 "cells": [
  {
   "cell_type": "code",
   "execution_count": 1,
   "metadata": {},
   "outputs": [
    {
     "name": "stdout",
     "output_type": "stream",
     "text": [
      "--2021-03-18 14:48:17--  https://test-s3-jj-bucket.s3.amazonaws.com/aiml/technical_support_data.csv\n",
      "Resolving test-s3-jj-bucket.s3.amazonaws.com (test-s3-jj-bucket.s3.amazonaws.com)... 52.217.97.204\n",
      "Connecting to test-s3-jj-bucket.s3.amazonaws.com (test-s3-jj-bucket.s3.amazonaws.com)|52.217.97.204|:443... connected.\n",
      "HTTP request sent, awaiting response... 200 OK\n",
      "Length: 1397 (1.4K) [text/csv]\n",
      "Saving to: ‘technical_support_data.csv.2’\n",
      "\n",
      "technical_support_d 100%[===================>]   1.36K  --.-KB/s    in 0s      \n",
      "\n",
      "2021-03-18 14:48:17 (70.2 MB/s) - ‘technical_support_data.csv.2’ saved [1397/1397]\n",
      "\n"
     ]
    }
   ],
   "source": [
    "%sc\n",
    "\n",
    "!wget 'https://test-s3-jj-bucket.s3.amazonaws.com/aiml/technical_support_data.csv'"
   ]
  },
  {
   "cell_type": "code",
   "execution_count": 2,
   "metadata": {},
   "outputs": [],
   "source": [
    "import pandas as pd\n",
    "import numpy as np\n",
    "import matplotlib.pylab as plt\n",
    "%matplotlib inline\n",
    "import seaborn as sns\n",
    "from sklearn.model_selection  import train_test_split\n",
    "from scipy.stats import zscore"
   ]
  },
  {
   "cell_type": "code",
   "execution_count": 3,
   "metadata": {},
   "outputs": [
    {
     "data": {
      "text/plain": [
       "PROBLEM_TYPE              object\n",
       "no_of_cases                int64\n",
       "Avg_pending_calls        float64\n",
       "Avg_resol_time             int64\n",
       "recurrence_freq          float64\n",
       "Replace_percent          float64\n",
       "In_warranty_percent        int64\n",
       "Post_warranty_percent      int64\n",
       "dtype: object"
      ]
     },
     "execution_count": 3,
     "metadata": {},
     "output_type": "execute_result"
    }
   ],
   "source": [
    "tech_supp_df = pd.read_csv(\"technical_support_data.csv\")\n",
    "tech_supp_df.dtypes"
   ]
  },
  {
   "cell_type": "code",
   "execution_count": 4,
   "metadata": {},
   "outputs": [
    {
     "data": {
      "text/plain": [
       "(23, 8)"
      ]
     },
     "execution_count": 4,
     "metadata": {},
     "output_type": "execute_result"
    }
   ],
   "source": [
    "tech_supp_df.shape"
   ]
  },
  {
   "cell_type": "code",
   "execution_count": 5,
   "metadata": {},
   "outputs": [
    {
     "data": {
      "text/plain": [
       "(23, 8)"
      ]
     },
     "execution_count": 5,
     "metadata": {},
     "output_type": "execute_result"
    }
   ],
   "source": [
    "tech_supp_df.shape"
   ]
  },
  {
   "cell_type": "code",
   "execution_count": 6,
   "metadata": {},
   "outputs": [],
   "source": [
    "techSuppAttr=tech_supp_df.iloc[:,1:]"
   ]
  },
  {
   "cell_type": "code",
   "execution_count": 7,
   "metadata": {},
   "outputs": [],
   "source": [
    "techSuppScaled=techSuppAttr.apply(zscore)"
   ]
  },
  {
   "cell_type": "code",
   "execution_count": 8,
   "metadata": {},
   "outputs": [
    {
     "name": "stderr",
     "output_type": "stream",
     "text": [
      "train_instance_count has been renamed in sagemaker>=2.\n",
      "See: https://sagemaker.readthedocs.io/en/stable/v2.html for details.\n",
      "train_instance_type has been renamed in sagemaker>=2.\n",
      "See: https://sagemaker.readthedocs.io/en/stable/v2.html for details.\n"
     ]
    },
    {
     "name": "stdout",
     "output_type": "stream",
     "text": [
      "arn:aws:iam::312296519090:role/service-role/AmazonSageMakerServiceCatalogProductsUseRole\n",
      "training data will be uploaded to: s3://test-s3-jj-bucket/aiml/data\n",
      "training artifacts will be uploaded to: s3://test-s3-jj-bucket/aiml/output\n"
     ]
    }
   ],
   "source": [
    "from sagemaker import KMeans\n",
    "from sagemaker import get_execution_role\n",
    "\n",
    "role = get_execution_role()\n",
    "print(role)\n",
    "\n",
    "bucket = \"test-s3-jj-bucket\"\n",
    "data_location = \"test-s3-jj-bucket\"\n",
    "\n",
    "\n",
    "data_location = 's3://{}/aiml/data'.format(bucket)\n",
    "output_location = 's3://{}/aiml/output'.format(bucket)\n",
    "\n",
    "print('training data will be uploaded to: {}'.format(data_location))\n",
    "print('training artifacts will be uploaded to: {}'.format(output_location))\n",
    "\n",
    "kmeans = KMeans(role=role,\n",
    "                train_instance_count=1,\n",
    "                train_instance_type='ml.c4.8xlarge',\n",
    "                output_path=output_location,\n",
    "                k=5,\n",
    "                data_location=data_location)"
   ]
  },
  {
   "cell_type": "code",
   "execution_count": 9,
   "metadata": {},
   "outputs": [
    {
     "data": {
      "text/plain": [
       "pandas.core.frame.DataFrame"
      ]
     },
     "execution_count": 9,
     "metadata": {},
     "output_type": "execute_result"
    }
   ],
   "source": [
    "type(techSuppScaled)"
   ]
  },
  {
   "cell_type": "code",
   "execution_count": 10,
   "metadata": {},
   "outputs": [
    {
     "data": {
      "text/plain": [
       "numpy.ndarray"
      ]
     },
     "execution_count": 10,
     "metadata": {},
     "output_type": "execute_result"
    }
   ],
   "source": [
    "type(techSuppScaled.values)"
   ]
  },
  {
   "cell_type": "code",
   "execution_count": 11,
   "metadata": {},
   "outputs": [],
   "source": [
    "techSuppScaledArray = techSuppScaled.values.astype(np.float32)"
   ]
  },
  {
   "cell_type": "code",
   "execution_count": 12,
   "metadata": {},
   "outputs": [
    {
     "name": "stderr",
     "output_type": "stream",
     "text": [
      "Defaulting to the only supported framework/algorithm version: 1. Ignoring framework/algorithm version: 1.\n",
      "Defaulting to the only supported framework/algorithm version: 1. Ignoring framework/algorithm version: 1.\n"
     ]
    },
    {
     "name": "stdout",
     "output_type": "stream",
     "text": [
      "2021-03-18 14:48:20 Starting - Starting the training job...\n",
      "2021-03-18 14:48:43 Starting - Launching requested ML instancesProfilerReport-1616078899: InProgress\n",
      "......\n",
      "2021-03-18 14:49:44 Starting - Preparing the instances for training.........\n",
      "2021-03-18 14:51:16 Downloading - Downloading input data\n",
      "2021-03-18 14:51:16 Training - Downloading the training image..\n",
      "2021-03-18 14:51:44 Uploading - Uploading generated training model\n",
      "2021-03-18 14:51:44 Completed - Training job completed\n",
      "\u001b[34mDocker entrypoint called with argument(s): train\u001b[0m\n",
      "\u001b[34mRunning default environment configuration script\u001b[0m\n",
      "\u001b[34m[03/18/2021 14:51:34 INFO 140225803806080] Reading default configuration from /opt/amazon/lib/python3.6/site-packages/algorithm/resources/default-input.json: {'init_method': 'random', 'mini_batch_size': '5000', 'epochs': '1', 'extra_center_factor': 'auto', 'local_lloyd_max_iter': '300', 'local_lloyd_tol': '0.0001', 'local_lloyd_init_method': 'kmeans++', 'local_lloyd_num_trials': 'auto', 'half_life_time_size': '0', 'eval_metrics': '[\"msd\"]', 'force_dense': 'true', '_disable_wait_to_read': 'false', '_enable_profiler': 'false', '_kvstore': 'auto', '_log_level': 'info', '_num_gpus': 'auto', '_num_kv_servers': '1', '_num_slices': '1', '_tuning_objective_metric': ''}\u001b[0m\n",
      "\u001b[34m[03/18/2021 14:51:34 INFO 140225803806080] Merging with provided configuration from /opt/ml/input/config/hyperparameters.json: {'feature_dim': '7', 'k': '5', 'force_dense': 'True'}\u001b[0m\n",
      "\u001b[34m[03/18/2021 14:51:34 INFO 140225803806080] Final configuration: {'init_method': 'random', 'mini_batch_size': '5000', 'epochs': '1', 'extra_center_factor': 'auto', 'local_lloyd_max_iter': '300', 'local_lloyd_tol': '0.0001', 'local_lloyd_init_method': 'kmeans++', 'local_lloyd_num_trials': 'auto', 'half_life_time_size': '0', 'eval_metrics': '[\"msd\"]', 'force_dense': 'True', '_disable_wait_to_read': 'false', '_enable_profiler': 'false', '_kvstore': 'auto', '_log_level': 'info', '_num_gpus': 'auto', '_num_kv_servers': '1', '_num_slices': '1', '_tuning_objective_metric': '', 'feature_dim': '7', 'k': '5'}\u001b[0m\n",
      "\u001b[34m[03/18/2021 14:51:34 WARNING 140225803806080] Loggers have already been setup.\u001b[0m\n",
      "\u001b[34mProcess 1 is a worker.\u001b[0m\n",
      "\u001b[34m[03/18/2021 14:51:34 INFO 140225803806080] Using default worker.\u001b[0m\n",
      "\u001b[34m[03/18/2021 14:51:34 INFO 140225803806080] Loaded iterator creator application/x-recordio-protobuf for content type ('application/x-recordio-protobuf', '1.0')\u001b[0m\n",
      "\u001b[34m[03/18/2021 14:51:34 INFO 140225803806080] Create Store: local\u001b[0m\n",
      "\u001b[34m[03/18/2021 14:51:34 INFO 140225803806080] nvidia-smi took: 0.025408267974853516 secs to identify 0 gpus\u001b[0m\n",
      "\u001b[34m[03/18/2021 14:51:34 INFO 140225803806080] Number of GPUs being used: 0\u001b[0m\n",
      "\u001b[34m[03/18/2021 14:51:34 INFO 140225803806080] Checkpoint loading and saving are disabled.\u001b[0m\n",
      "\u001b[34m[03/18/2021 14:51:34 INFO 140225803806080] Setting up with params: {'init_method': 'random', 'mini_batch_size': '5000', 'epochs': '1', 'extra_center_factor': 'auto', 'local_lloyd_max_iter': '300', 'local_lloyd_tol': '0.0001', 'local_lloyd_init_method': 'kmeans++', 'local_lloyd_num_trials': 'auto', 'half_life_time_size': '0', 'eval_metrics': '[\"msd\"]', 'force_dense': 'True', '_disable_wait_to_read': 'false', '_enable_profiler': 'false', '_kvstore': 'auto', '_log_level': 'info', '_num_gpus': 'auto', '_num_kv_servers': '1', '_num_slices': '1', '_tuning_objective_metric': '', 'feature_dim': '7', 'k': '5'}\u001b[0m\n",
      "\u001b[34m[03/18/2021 14:51:34 INFO 140225803806080] 'extra_center_factor' was set to 'auto', evaluated to 10.\u001b[0m\n",
      "\u001b[34m[03/18/2021 14:51:34 INFO 140225803806080] Number of GPUs being used: 0\u001b[0m\n",
      "\u001b[34m[03/18/2021 14:51:34 INFO 140225803806080] number of center slices 1\u001b[0m\n",
      "\u001b[34m[03/18/2021 14:51:34 WARNING 140225803806080] Batch size 5000 is bigger than the first batch data. Effective batch size used to initialize is 23\u001b[0m\n",
      "\u001b[34m#metrics {\"StartTime\": 1616079094.364108, \"EndTime\": 1616079094.3641493, \"Dimensions\": {\"Algorithm\": \"AWS/KMeansWebscale\", \"Host\": \"algo-1\", \"Operation\": \"training\", \"Meta\": \"init_train_data_iter\"}, \"Metrics\": {\"Total Records Seen\": {\"sum\": 23.0, \"count\": 1, \"min\": 23, \"max\": 23}, \"Total Batches Seen\": {\"sum\": 1.0, \"count\": 1, \"min\": 1, \"max\": 1}, \"Max Records Seen Between Resets\": {\"sum\": 23.0, \"count\": 1, \"min\": 23, \"max\": 23}, \"Max Batches Seen Between Resets\": {\"sum\": 1.0, \"count\": 1, \"min\": 1, \"max\": 1}, \"Reset Count\": {\"sum\": 0.0, \"count\": 1, \"min\": 0, \"max\": 0}, \"Number of Records Since Last Reset\": {\"sum\": 23.0, \"count\": 1, \"min\": 23, \"max\": 23}, \"Number of Batches Since Last Reset\": {\"sum\": 1.0, \"count\": 1, \"min\": 1, \"max\": 1}}}\n",
      "\u001b[0m\n",
      "\u001b[34m[2021-03-18 14:51:34.364] [tensorio] [info] epoch_stats={\"data_pipeline\": \"/opt/ml/input/data/train\", \"epoch\": 0, \"duration\": 20, \"num_examples\": 1, \"num_bytes\": 1196}\u001b[0m\n",
      "\u001b[34m[2021-03-18 14:51:34.445] [tensorio] [info] epoch_stats={\"data_pipeline\": \"/opt/ml/input/data/train\", \"epoch\": 1, \"duration\": 79, \"num_examples\": 1, \"num_bytes\": 1196}\u001b[0m\n",
      "\u001b[34m[03/18/2021 14:51:34 INFO 140225803806080] processed a total of 23 examples\u001b[0m\n",
      "\u001b[34m[03/18/2021 14:51:34 INFO 140225803806080] #progress_metric: host=algo-1, completed 100.0 % of epochs\u001b[0m\n",
      "\u001b[34m#metrics {\"StartTime\": 1616079094.3644478, \"EndTime\": 1616079094.446083, \"Dimensions\": {\"Algorithm\": \"AWS/KMeansWebscale\", \"Host\": \"algo-1\", \"Operation\": \"training\", \"epoch\": 0, \"Meta\": \"training_data_iter\"}, \"Metrics\": {\"Total Records Seen\": {\"sum\": 46.0, \"count\": 1, \"min\": 46, \"max\": 46}, \"Total Batches Seen\": {\"sum\": 2.0, \"count\": 1, \"min\": 2, \"max\": 2}, \"Max Records Seen Between Resets\": {\"sum\": 23.0, \"count\": 1, \"min\": 23, \"max\": 23}, \"Max Batches Seen Between Resets\": {\"sum\": 1.0, \"count\": 1, \"min\": 1, \"max\": 1}, \"Reset Count\": {\"sum\": 1.0, \"count\": 1, \"min\": 1, \"max\": 1}, \"Number of Records Since Last Reset\": {\"sum\": 23.0, \"count\": 1, \"min\": 23, \"max\": 23}, \"Number of Batches Since Last Reset\": {\"sum\": 1.0, \"count\": 1, \"min\": 1, \"max\": 1}}}\n",
      "\u001b[0m\n",
      "\u001b[34m[03/18/2021 14:51:34 INFO 140225803806080] #throughput_metric: host=algo-1, train throughput=281.37047256266516 records/second\u001b[0m\n",
      "\u001b[34m[03/18/2021 14:51:34 WARNING 140225803806080] wait_for_all_workers will not sync workers since the kv store is not running distributed\u001b[0m\n",
      "\u001b[34m[03/18/2021 14:51:34 INFO 140225803806080] shrinking 50 centers into 5\u001b[0m\n",
      "\u001b[34m[03/18/2021 14:51:34 INFO 140225803806080] local kmeans attempt #0. Current mean square distance 1.464612\u001b[0m\n",
      "\u001b[34m[03/18/2021 14:51:34 INFO 140225803806080] local kmeans attempt #1. Current mean square distance 1.416972\u001b[0m\n",
      "\u001b[34m[03/18/2021 14:51:34 INFO 140225803806080] local kmeans attempt #2. Current mean square distance 1.653941\u001b[0m\n",
      "\u001b[34m[03/18/2021 14:51:34 INFO 140225803806080] local kmeans attempt #3. Current mean square distance 1.211747\u001b[0m\n",
      "\u001b[34m[03/18/2021 14:51:34 INFO 140225803806080] local kmeans attempt #4. Current mean square distance 1.439113\u001b[0m\n",
      "\u001b[34m[03/18/2021 14:51:34 INFO 140225803806080] local kmeans attempt #5. Current mean square distance 1.211747\u001b[0m\n",
      "\u001b[34m[03/18/2021 14:51:34 INFO 140225803806080] local kmeans attempt #6. Current mean square distance 1.416972\u001b[0m\n",
      "\u001b[34m[03/18/2021 14:51:34 INFO 140225803806080] local kmeans attempt #7. Current mean square distance 1.427501\u001b[0m\n",
      "\u001b[34m[03/18/2021 14:51:34 INFO 140225803806080] local kmeans attempt #8. Current mean square distance 1.651167\u001b[0m\n",
      "\u001b[34m[03/18/2021 14:51:34 INFO 140225803806080] local kmeans attempt #9. Current mean square distance 1.211747\u001b[0m\n",
      "\u001b[34m[03/18/2021 14:51:34 INFO 140225803806080] finished shrinking process. Mean Square Distance = 1\u001b[0m\n",
      "\u001b[34m[03/18/2021 14:51:34 INFO 140225803806080] #quality_metric: host=algo-1, train msd <loss>=1.2117466926574707\u001b[0m\n",
      "\u001b[34m[03/18/2021 14:51:34 INFO 140225803806080] compute all data-center distances: inner product took: 50.7444%, (0.044734 secs)\u001b[0m\n",
      "\u001b[34m[03/18/2021 14:51:34 INFO 140225803806080] gradient: cluster center took: 20.1392%, (0.017754 secs)\u001b[0m\n",
      "\u001b[34m[03/18/2021 14:51:34 INFO 140225803806080] collect from kv store took: 7.7710%, (0.006850 secs)\u001b[0m\n",
      "\u001b[34m[03/18/2021 14:51:34 INFO 140225803806080] splitting centers key-value pair took: 7.6831%, (0.006773 secs)\u001b[0m\n",
      "\u001b[34m[03/18/2021 14:51:34 INFO 140225803806080] compute all data-center distances: point norm took: 4.0214%, (0.003545 secs)\u001b[0m\n",
      "\u001b[34m[03/18/2021 14:51:34 INFO 140225803806080] gradient: one_hot took: 3.4488%, (0.003040 secs)\u001b[0m\n",
      "\u001b[34m[03/18/2021 14:51:34 INFO 140225803806080] batch data loading with context took: 2.2629%, (0.001995 secs)\u001b[0m\n",
      "\u001b[34m[03/18/2021 14:51:34 INFO 140225803806080] update state and report convergance took: 1.8607%, (0.001640 secs)\u001b[0m\n",
      "\u001b[34m[03/18/2021 14:51:34 INFO 140225803806080] predict compute msd took: 1.2798%, (0.001128 secs)\u001b[0m\n",
      "\u001b[34m[03/18/2021 14:51:34 INFO 140225803806080] compute all data-center distances: center norm took: 0.2905%, (0.000256 secs)\u001b[0m\n",
      "\u001b[34m[03/18/2021 14:51:34 INFO 140225803806080] update set-up time took: 0.2723%, (0.000240 secs)\u001b[0m\n",
      "\u001b[34m[03/18/2021 14:51:34 INFO 140225803806080] gradient: cluster size  took: 0.1980%, (0.000175 secs)\u001b[0m\n",
      "\u001b[34m[03/18/2021 14:51:34 INFO 140225803806080] predict minus dist took: 0.0279%, (0.000025 secs)\u001b[0m\n",
      "\u001b[34m[03/18/2021 14:51:34 INFO 140225803806080] TOTAL took: 0.08815455436706543\u001b[0m\n",
      "\u001b[34m[03/18/2021 14:51:34 INFO 140225803806080] Number of GPUs being used: 0\u001b[0m\n",
      "\u001b[34m#metrics {\"StartTime\": 1616079094.3430548, \"EndTime\": 1616079094.617116, \"Dimensions\": {\"Algorithm\": \"AWS/KMeansWebscale\", \"Host\": \"algo-1\", \"Operation\": \"training\"}, \"Metrics\": {\"initialize.time\": {\"sum\": 16.149282455444336, \"count\": 1, \"min\": 16.149282455444336, \"max\": 16.149282455444336}, \"epochs\": {\"sum\": 1.0, \"count\": 1, \"min\": 1, \"max\": 1}, \"update.time\": {\"sum\": 81.4657211303711, \"count\": 1, \"min\": 81.4657211303711, \"max\": 81.4657211303711}, \"_shrink.time\": {\"sum\": 167.89603233337402, \"count\": 1, \"min\": 167.89603233337402, \"max\": 167.89603233337402}, \"finalize.time\": {\"sum\": 169.3577766418457, \"count\": 1, \"min\": 169.3577766418457, \"max\": 169.3577766418457}, \"model.serialize.time\": {\"sum\": 1.3079643249511719, \"count\": 1, \"min\": 1.3079643249511719, \"max\": 1.3079643249511719}}}\n",
      "\u001b[0m\n",
      "\u001b[34m[03/18/2021 14:51:34 INFO 140225803806080] Test data is not provided.\u001b[0m\n",
      "\u001b[34m#metrics {\"StartTime\": 1616079094.6171927, \"EndTime\": 1616079094.6173856, \"Dimensions\": {\"Algorithm\": \"AWS/KMeansWebscale\", \"Host\": \"algo-1\", \"Operation\": \"training\"}, \"Metrics\": {\"setuptime\": {\"sum\": 12.624740600585938, \"count\": 1, \"min\": 12.624740600585938, \"max\": 12.624740600585938}, \"totaltime\": {\"sum\": 340.00420570373535, \"count\": 1, \"min\": 340.00420570373535, \"max\": 340.00420570373535}}}\n",
      "\u001b[0m\n",
      "Training seconds: 39\n",
      "Billable seconds: 39\n",
      "CPU times: user 581 ms, sys: 42.1 ms, total: 623 ms\n",
      "Wall time: 3min 42s\n"
     ]
    }
   ],
   "source": [
    "%%time\n",
    "kmeans.fit(kmeans.record_set(techSuppScaledArray))"
   ]
  },
  {
   "cell_type": "code",
   "execution_count": 13,
   "metadata": {},
   "outputs": [
    {
     "name": "stderr",
     "output_type": "stream",
     "text": [
      "Defaulting to the only supported framework/algorithm version: 1. Ignoring framework/algorithm version: 1.\n"
     ]
    },
    {
     "name": "stdout",
     "output_type": "stream",
     "text": [
      "---------------!CPU times: user 322 ms, sys: 7.12 ms, total: 329 ms\n",
      "Wall time: 7min 32s\n"
     ]
    }
   ],
   "source": [
    "%%time\n",
    "kmeans_predictor = kmeans.deploy(initial_instance_count=1,\n",
    "                                 instance_type='ml.m4.xlarge')"
   ]
  },
  {
   "cell_type": "code",
   "execution_count": 14,
   "metadata": {},
   "outputs": [
    {
     "name": "stdout",
     "output_type": "stream",
     "text": [
      "CPU times: user 16.5 ms, sys: 0 ns, total: 16.5 ms\n",
      "Wall time: 242 ms\n"
     ]
    }
   ],
   "source": [
    "%%time\n",
    "\n",
    "result = kmeans_predictor.predict(techSuppScaledArray)"
   ]
  },
  {
   "cell_type": "code",
   "execution_count": 15,
   "metadata": {},
   "outputs": [],
   "source": [
    "clusters = [r.label['closest_cluster'].float32_tensor.values[0] for r in result]"
   ]
  },
  {
   "cell_type": "code",
   "execution_count": 16,
   "metadata": {},
   "outputs": [
    {
     "name": "stdout",
     "output_type": "stream",
     "text": [
      "Groups Assigned : \n",
      "\n"
     ]
    },
    {
     "data": {
      "text/html": [
       "<div>\n",
       "<style scoped>\n",
       "    .dataframe tbody tr th:only-of-type {\n",
       "        vertical-align: middle;\n",
       "    }\n",
       "\n",
       "    .dataframe tbody tr th {\n",
       "        vertical-align: top;\n",
       "    }\n",
       "\n",
       "    .dataframe thead th {\n",
       "        text-align: right;\n",
       "    }\n",
       "</style>\n",
       "<table border=\"1\" class=\"dataframe\">\n",
       "  <thead>\n",
       "    <tr style=\"text-align: right;\">\n",
       "      <th></th>\n",
       "      <th>PROBLEM_TYPE</th>\n",
       "      <th>no_of_cases</th>\n",
       "      <th>Avg_pending_calls</th>\n",
       "      <th>Avg_resol_time</th>\n",
       "      <th>recurrence_freq</th>\n",
       "      <th>Replace_percent</th>\n",
       "      <th>In_warranty_percent</th>\n",
       "      <th>Post_warranty_percent</th>\n",
       "      <th>GROUP</th>\n",
       "    </tr>\n",
       "  </thead>\n",
       "  <tbody>\n",
       "    <tr>\n",
       "      <th>0</th>\n",
       "      <td>Temperature control not working</td>\n",
       "      <td>170</td>\n",
       "      <td>1.3</td>\n",
       "      <td>32</td>\n",
       "      <td>0.04</td>\n",
       "      <td>0.0</td>\n",
       "      <td>75</td>\n",
       "      <td>25</td>\n",
       "      <td>0.0</td>\n",
       "    </tr>\n",
       "    <tr>\n",
       "      <th>1</th>\n",
       "      <td>power chord does not tightly fit</td>\n",
       "      <td>12</td>\n",
       "      <td>2.0</td>\n",
       "      <td>150</td>\n",
       "      <td>0.01</td>\n",
       "      <td>0.5</td>\n",
       "      <td>5</td>\n",
       "      <td>95</td>\n",
       "      <td>4.0</td>\n",
       "    </tr>\n",
       "    <tr>\n",
       "      <th>2</th>\n",
       "      <td>Fan swing not working</td>\n",
       "      <td>5</td>\n",
       "      <td>1.0</td>\n",
       "      <td>35</td>\n",
       "      <td>0.02</td>\n",
       "      <td>0.2</td>\n",
       "      <td>90</td>\n",
       "      <td>10</td>\n",
       "      <td>0.0</td>\n",
       "    </tr>\n",
       "    <tr>\n",
       "      <th>3</th>\n",
       "      <td>Main switch does not on</td>\n",
       "      <td>3</td>\n",
       "      <td>2.0</td>\n",
       "      <td>8</td>\n",
       "      <td>0.01</td>\n",
       "      <td>0.7</td>\n",
       "      <td>5</td>\n",
       "      <td>95</td>\n",
       "      <td>4.0</td>\n",
       "    </tr>\n",
       "    <tr>\n",
       "      <th>4</th>\n",
       "      <td>Forgot mobile app password</td>\n",
       "      <td>45</td>\n",
       "      <td>2.3</td>\n",
       "      <td>54</td>\n",
       "      <td>0.15</td>\n",
       "      <td>0.0</td>\n",
       "      <td>99</td>\n",
       "      <td>1</td>\n",
       "      <td>0.0</td>\n",
       "    </tr>\n",
       "  </tbody>\n",
       "</table>\n",
       "</div>"
      ],
      "text/plain": [
       "                       PROBLEM_TYPE  no_of_cases  Avg_pending_calls  \\\n",
       "0   Temperature control not working          170                1.3   \n",
       "1  power chord does not tightly fit           12                2.0   \n",
       "2             Fan swing not working            5                1.0   \n",
       "3           Main switch does not on            3                2.0   \n",
       "4        Forgot mobile app password           45                2.3   \n",
       "\n",
       "   Avg_resol_time  recurrence_freq  Replace_percent  In_warranty_percent  \\\n",
       "0              32             0.04              0.0                   75   \n",
       "1             150             0.01              0.5                    5   \n",
       "2              35             0.02              0.2                   90   \n",
       "3               8             0.01              0.7                    5   \n",
       "4              54             0.15              0.0                   99   \n",
       "\n",
       "   Post_warranty_percent  GROUP  \n",
       "0                     25    0.0  \n",
       "1                     95    4.0  \n",
       "2                     10    0.0  \n",
       "3                     95    4.0  \n",
       "4                      1    0.0  "
      ]
     },
     "execution_count": 16,
     "metadata": {},
     "output_type": "execute_result"
    }
   ],
   "source": [
    "#Append the prediction \n",
    "tech_supp_df[\"GROUP\"] = clusters\n",
    "techSuppScaled[\"GROUP\"] = clusters\n",
    "print(\"Groups Assigned : \\n\")\n",
    "tech_supp_df.head()"
   ]
  },
  {
   "cell_type": "code",
   "execution_count": 17,
   "metadata": {},
   "outputs": [
    {
     "data": {
      "text/html": [
       "<div>\n",
       "<style scoped>\n",
       "    .dataframe tbody tr th:only-of-type {\n",
       "        vertical-align: middle;\n",
       "    }\n",
       "\n",
       "    .dataframe tbody tr th {\n",
       "        vertical-align: top;\n",
       "    }\n",
       "\n",
       "    .dataframe thead th {\n",
       "        text-align: right;\n",
       "    }\n",
       "</style>\n",
       "<table border=\"1\" class=\"dataframe\">\n",
       "  <thead>\n",
       "    <tr style=\"text-align: right;\">\n",
       "      <th></th>\n",
       "      <th>no_of_cases</th>\n",
       "      <th>Avg_pending_calls</th>\n",
       "      <th>Avg_resol_time</th>\n",
       "      <th>recurrence_freq</th>\n",
       "      <th>Replace_percent</th>\n",
       "      <th>In_warranty_percent</th>\n",
       "      <th>Post_warranty_percent</th>\n",
       "    </tr>\n",
       "    <tr>\n",
       "      <th>GROUP</th>\n",
       "      <th></th>\n",
       "      <th></th>\n",
       "      <th></th>\n",
       "      <th></th>\n",
       "      <th></th>\n",
       "      <th></th>\n",
       "      <th></th>\n",
       "    </tr>\n",
       "  </thead>\n",
       "  <tbody>\n",
       "    <tr>\n",
       "      <th>0.0</th>\n",
       "      <td>119.666667</td>\n",
       "      <td>1.450</td>\n",
       "      <td>34.833333</td>\n",
       "      <td>0.053333</td>\n",
       "      <td>0.040</td>\n",
       "      <td>86.500000</td>\n",
       "      <td>13.500000</td>\n",
       "    </tr>\n",
       "    <tr>\n",
       "      <th>1.0</th>\n",
       "      <td>33.333333</td>\n",
       "      <td>3.300</td>\n",
       "      <td>145.666667</td>\n",
       "      <td>0.121667</td>\n",
       "      <td>0.025</td>\n",
       "      <td>99.166667</td>\n",
       "      <td>0.833333</td>\n",
       "    </tr>\n",
       "    <tr>\n",
       "      <th>2.0</th>\n",
       "      <td>154.000000</td>\n",
       "      <td>1.760</td>\n",
       "      <td>35.400000</td>\n",
       "      <td>0.228000</td>\n",
       "      <td>0.142</td>\n",
       "      <td>27.000000</td>\n",
       "      <td>73.000000</td>\n",
       "    </tr>\n",
       "    <tr>\n",
       "      <th>3.0</th>\n",
       "      <td>395.250000</td>\n",
       "      <td>1.025</td>\n",
       "      <td>7.750000</td>\n",
       "      <td>0.240000</td>\n",
       "      <td>0.000</td>\n",
       "      <td>87.500000</td>\n",
       "      <td>12.500000</td>\n",
       "    </tr>\n",
       "    <tr>\n",
       "      <th>4.0</th>\n",
       "      <td>7.500000</td>\n",
       "      <td>2.000</td>\n",
       "      <td>79.000000</td>\n",
       "      <td>0.010000</td>\n",
       "      <td>0.600</td>\n",
       "      <td>5.000000</td>\n",
       "      <td>95.000000</td>\n",
       "    </tr>\n",
       "  </tbody>\n",
       "</table>\n",
       "</div>"
      ],
      "text/plain": [
       "       no_of_cases  Avg_pending_calls  Avg_resol_time  recurrence_freq  \\\n",
       "GROUP                                                                    \n",
       "0.0     119.666667              1.450       34.833333         0.053333   \n",
       "1.0      33.333333              3.300      145.666667         0.121667   \n",
       "2.0     154.000000              1.760       35.400000         0.228000   \n",
       "3.0     395.250000              1.025        7.750000         0.240000   \n",
       "4.0       7.500000              2.000       79.000000         0.010000   \n",
       "\n",
       "       Replace_percent  In_warranty_percent  Post_warranty_percent  \n",
       "GROUP                                                               \n",
       "0.0              0.040            86.500000              13.500000  \n",
       "1.0              0.025            99.166667               0.833333  \n",
       "2.0              0.142            27.000000              73.000000  \n",
       "3.0              0.000            87.500000              12.500000  \n",
       "4.0              0.600             5.000000              95.000000  "
      ]
     },
     "execution_count": 17,
     "metadata": {},
     "output_type": "execute_result"
    }
   ],
   "source": [
    "techSuppClust = tech_supp_df.groupby(['GROUP'])\n",
    "techSuppClust.mean()"
   ]
  },
  {
   "cell_type": "code",
   "execution_count": 18,
   "metadata": {},
   "outputs": [
    {
     "data": {
      "text/plain": [
       "array([[<AxesSubplot:title={'center':'Avg_pending_calls'}, xlabel='[GROUP]'>,\n",
       "        <AxesSubplot:title={'center':'Avg_resol_time'}, xlabel='[GROUP]'>,\n",
       "        <AxesSubplot:title={'center':'In_warranty_percent'}, xlabel='[GROUP]'>,\n",
       "        <AxesSubplot:title={'center':'Post_warranty_percent'}, xlabel='[GROUP]'>],\n",
       "       [<AxesSubplot:title={'center':'Replace_percent'}, xlabel='[GROUP]'>,\n",
       "        <AxesSubplot:title={'center':'no_of_cases'}, xlabel='[GROUP]'>,\n",
       "        <AxesSubplot:title={'center':'recurrence_freq'}, xlabel='[GROUP]'>,\n",
       "        <AxesSubplot:>]], dtype=object)"
      ]
     },
     "execution_count": 18,
     "metadata": {},
     "output_type": "execute_result"
    },
    {
     "data": {
      "image/png": "[encoded data removed]",
      "text/plain": [
       "<Figure size 1080x720 with 8 Axes>"
      ]
     },
     "metadata": {
      "needs_background": "light"
     },
     "output_type": "display_data"
    }
   ],
   "source": [
    "techSuppScaled.boxplot(by='GROUP', layout = (2,4),figsize=(15,10))"
   ]
  },
  {
   "cell_type": "code",
   "execution_count": null,
   "metadata": {},
   "outputs": [],
   "source": []
  }
 ],
 "metadata": {
  "kernelspec": {
   "display_name": "Python 3",
   "language": "python",
   "name": "python3"
  },
  "language_info": {
   "codemirror_mode": {
    "name": "ipython",
    "version": 3
   },
   "file_extension": ".py",
   "mimetype": "text/x-python",
   "name": "python",
   "nbconvert_exporter": "python",
   "pygments_lexer": "ipython3",
   "version": "3.8.3"
  }
 },
 "nbformat": 4,
 "nbformat_minor": 5
}
