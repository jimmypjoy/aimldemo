{
 "cells": [
  {
   "cell_type": "markdown",
   "metadata": {},
   "source": [
    "# General Basics"
   ]
  },
  {
   "cell_type": "code",
   "execution_count": 1,
   "metadata": {},
   "outputs": [
    {
     "name": "stdout",
     "output_type": "stream",
     "text": [
      "Number of CPUs: 12\r\n"
     ]
    }
   ],
   "source": [
    "Runtime rt = Runtime.getRuntime();\n",
    "int cpus = rt.availableProcessors();\n",
    "System.out.println(\"Number of CPUs: \" + cpus);"
   ]
  },
  {
   "cell_type": "code",
   "execution_count": 2,
   "metadata": {},
   "outputs": [
    {
     "name": "stdout",
     "output_type": "stream",
     "text": [
      "Java Version: 21.0.2\r\n"
     ]
    }
   ],
   "source": [
    "String javaVersion = System.getProperty(\"java.version\");\n",
    "System.out.println(\"Java Version: \" + javaVersion);"
   ]
  },
  {
   "cell_type": "markdown",
   "metadata": {},
   "source": [
    "# JVM"
   ]
  },
  {
   "cell_type": "markdown",
   "metadata": {},
   "source": [
    "![](pictures/jvm.png)"
   ]
  },
  {
   "cell_type": "markdown",
   "metadata": {},
   "source": [
    "![](pictures/classloader.png)"
   ]
  },
  {
   "cell_type": "code",
   "execution_count": 3,
   "metadata": {},
   "outputs": [
    {
     "name": "stdout",
     "output_type": "stream",
     "text": [
      "null\r\n"
     ]
    }
   ],
   "source": [
    "System.out.println(String.class.getClassLoader());"
   ]
  },
  {
   "cell_type": "markdown",
   "metadata": {},
   "source": [
    "# Global imports"
   ]
  },
  {
   "cell_type": "code",
   "execution_count": 602,
   "metadata": {},
   "outputs": [],
   "source": [
    "import java.util.function.Function;\n",
    "import java.util.function.ToIntFunction;\n",
    "import java.util.function.BiFunction;\n",
    "import java.util.stream.IntStream;\n",
    "import java.util.stream.Stream;\n",
    "import java.util.stream.LongStream;\n",
    "import java.util.function.IntSupplier;\n",
    "import java.util.function.Supplier;\n",
    "import java.util.function.UnaryOperator;"
   ]
  },
  {
   "cell_type": "markdown",
   "metadata": {},
   "source": [
    "# Data Types"
   ]
  },
  {
   "cell_type": "markdown",
   "metadata": {},
   "source": [
    "![](pictures/byte.png)"
   ]
  },
  {
   "cell_type": "markdown",
   "metadata": {},
   "source": [
    "![](pictures/byte2.png)"
   ]
  },
  {
   "cell_type": "code",
   "execution_count": 5,
   "metadata": {},
   "outputs": [],
   "source": [
    "byte b = 100;\n",
    "int i = b;"
   ]
  },
  {
   "cell_type": "code",
   "execution_count": 6,
   "metadata": {},
   "outputs": [
    {
     "data": {
      "text/plain": [
       "200"
      ]
     },
     "execution_count": 6,
     "metadata": {},
     "output_type": "execute_result"
    }
   ],
   "source": [
    "i+b"
   ]
  },
  {
   "cell_type": "code",
   "execution_count": 7,
   "metadata": {},
   "outputs": [],
   "source": [
    "char ch ='A';"
   ]
  },
  {
   "cell_type": "code",
   "execution_count": 8,
   "metadata": {},
   "outputs": [
    {
     "data": {
      "text/plain": [
       "A"
      ]
     },
     "execution_count": 8,
     "metadata": {},
     "output_type": "execute_result"
    }
   ],
   "source": [
    "ch"
   ]
  },
  {
   "cell_type": "code",
   "execution_count": 9,
   "metadata": {},
   "outputs": [
    {
     "data": {
      "text/plain": [
       "65"
      ]
     },
     "execution_count": 9,
     "metadata": {},
     "output_type": "execute_result"
    }
   ],
   "source": [
    "(int)ch"
   ]
  },
  {
   "cell_type": "code",
   "execution_count": 10,
   "metadata": {},
   "outputs": [],
   "source": [
    "byte b1= 50;"
   ]
  },
  {
   "cell_type": "code",
   "execution_count": 11,
   "metadata": {},
   "outputs": [
    {
     "data": {
      "text/plain": [
       "150"
      ]
     },
     "execution_count": 11,
     "metadata": {},
     "output_type": "execute_result"
    }
   ],
   "source": [
    "b+b1"
   ]
  },
  {
   "cell_type": "code",
   "execution_count": 12,
   "metadata": {},
   "outputs": [],
   "source": [
    "int  m = 612;"
   ]
  },
  {
   "cell_type": "code",
   "execution_count": 13,
   "metadata": {},
   "outputs": [
    {
     "data": {
      "text/plain": [
       "100"
      ]
     },
     "execution_count": 13,
     "metadata": {},
     "output_type": "execute_result"
    }
   ],
   "source": [
    "(byte)m"
   ]
  },
  {
   "cell_type": "code",
   "execution_count": 586,
   "metadata": {},
   "outputs": [
    {
     "data": {
      "text/plain": [
       "ɤ"
      ]
     },
     "execution_count": 586,
     "metadata": {},
     "output_type": "execute_result"
    }
   ],
   "source": [
    "(char)m"
   ]
  },
  {
   "cell_type": "markdown",
   "metadata": {},
   "source": [
    "# Strings"
   ]
  },
  {
   "cell_type": "code",
   "execution_count": 587,
   "metadata": {},
   "outputs": [],
   "source": [
    "String str = \"\";"
   ]
  },
  {
   "cell_type": "code",
   "execution_count": 627,
   "metadata": {},
   "outputs": [
    {
     "data": {
      "text/plain": [
       "true"
      ]
     },
     "execution_count": 627,
     "metadata": {},
     "output_type": "execute_result"
    }
   ],
   "source": [
    "str.isBlank()"
   ]
  },
  {
   "cell_type": "code",
   "execution_count": 628,
   "metadata": {},
   "outputs": [
    {
     "data": {
      "text/plain": [
       "##########"
      ]
     },
     "execution_count": 628,
     "metadata": {},
     "output_type": "execute_result"
    }
   ],
   "source": [
    "\"#\".repeat(10)"
   ]
  },
  {
   "cell_type": "markdown",
   "metadata": {},
   "source": [
    "# Wrapper Classes"
   ]
  },
  {
   "cell_type": "code",
   "execution_count": 15,
   "metadata": {},
   "outputs": [],
   "source": [
    "byte x = 100;"
   ]
  },
  {
   "cell_type": "code",
   "execution_count": 16,
   "metadata": {},
   "outputs": [
    {
     "data": {
      "text/plain": [
       "100"
      ]
     },
     "execution_count": 16,
     "metadata": {},
     "output_type": "execute_result"
    }
   ],
   "source": [
    "Byte.toString(x);"
   ]
  },
  {
   "cell_type": "code",
   "execution_count": 17,
   "metadata": {},
   "outputs": [
    {
     "data": {
      "text/plain": [
       "100"
      ]
     },
     "execution_count": 17,
     "metadata": {},
     "output_type": "execute_result"
    }
   ],
   "source": [
    "Integer.toString(x);"
   ]
  },
  {
   "cell_type": "code",
   "execution_count": 18,
   "metadata": {},
   "outputs": [],
   "source": [
    "int x = 200;"
   ]
  },
  {
   "cell_type": "code",
   "execution_count": 19,
   "metadata": {},
   "outputs": [],
   "source": [
    "Integer y = Integer.valueOf(x);"
   ]
  },
  {
   "cell_type": "code",
   "execution_count": 20,
   "metadata": {},
   "outputs": [
    {
     "data": {
      "text/plain": [
       "200"
      ]
     },
     "execution_count": 20,
     "metadata": {},
     "output_type": "execute_result"
    }
   ],
   "source": [
    "y"
   ]
  },
  {
   "cell_type": "code",
   "execution_count": 21,
   "metadata": {},
   "outputs": [],
   "source": [
    "Long l = Long.valueOf(\"23\")"
   ]
  },
  {
   "cell_type": "code",
   "execution_count": 22,
   "metadata": {},
   "outputs": [
    {
     "data": {
      "text/plain": [
       "23"
      ]
     },
     "execution_count": 22,
     "metadata": {},
     "output_type": "execute_result"
    }
   ],
   "source": [
    "l"
   ]
  },
  {
   "cell_type": "markdown",
   "metadata": {},
   "source": [
    "# Operators and Assignments"
   ]
  },
  {
   "cell_type": "markdown",
   "metadata": {},
   "source": [
    "![](pictures/bit.png)"
   ]
  },
  {
   "cell_type": "markdown",
   "metadata": {},
   "source": [
    "![](pictures/bit2.png)"
   ]
  },
  {
   "cell_type": "code",
   "execution_count": 23,
   "metadata": {},
   "outputs": [],
   "source": [
    "i = 2;"
   ]
  },
  {
   "cell_type": "code",
   "execution_count": 24,
   "metadata": {},
   "outputs": [
    {
     "data": {
      "text/plain": [
       "2"
      ]
     },
     "execution_count": 24,
     "metadata": {},
     "output_type": "execute_result"
    }
   ],
   "source": [
    "i++"
   ]
  },
  {
   "cell_type": "code",
   "execution_count": 25,
   "metadata": {},
   "outputs": [
    {
     "data": {
      "text/plain": [
       "4"
      ]
     },
     "execution_count": 25,
     "metadata": {},
     "output_type": "execute_result"
    }
   ],
   "source": [
    "++i"
   ]
  },
  {
   "cell_type": "code",
   "execution_count": 26,
   "metadata": {},
   "outputs": [],
   "source": [
    "int x = 20, y = 3;"
   ]
  },
  {
   "cell_type": "code",
   "execution_count": 27,
   "metadata": {},
   "outputs": [
    {
     "data": {
      "text/plain": [
       "23"
      ]
     },
     "execution_count": 27,
     "metadata": {},
     "output_type": "execute_result"
    }
   ],
   "source": [
    "x+y"
   ]
  },
  {
   "cell_type": "code",
   "execution_count": 28,
   "metadata": {},
   "outputs": [
    {
     "data": {
      "text/plain": [
       "17"
      ]
     },
     "execution_count": 28,
     "metadata": {},
     "output_type": "execute_result"
    }
   ],
   "source": [
    "x-y"
   ]
  },
  {
   "cell_type": "code",
   "execution_count": 29,
   "metadata": {},
   "outputs": [
    {
     "data": {
      "text/plain": [
       "6"
      ]
     },
     "execution_count": 29,
     "metadata": {},
     "output_type": "execute_result"
    }
   ],
   "source": [
    "x/y"
   ]
  },
  {
   "cell_type": "code",
   "execution_count": 30,
   "metadata": {},
   "outputs": [
    {
     "data": {
      "text/plain": [
       "60"
      ]
     },
     "execution_count": 30,
     "metadata": {},
     "output_type": "execute_result"
    }
   ],
   "source": [
    "x*y"
   ]
  },
  {
   "cell_type": "code",
   "execution_count": 31,
   "metadata": {},
   "outputs": [
    {
     "data": {
      "text/plain": [
       "2"
      ]
     },
     "execution_count": 31,
     "metadata": {},
     "output_type": "execute_result"
    }
   ],
   "source": [
    "x%y"
   ]
  },
  {
   "cell_type": "code",
   "execution_count": 32,
   "metadata": {},
   "outputs": [
    {
     "data": {
      "text/plain": [
       "true"
      ]
     },
     "execution_count": 32,
     "metadata": {},
     "output_type": "execute_result"
    }
   ],
   "source": [
    "true & true"
   ]
  },
  {
   "cell_type": "code",
   "execution_count": 33,
   "metadata": {},
   "outputs": [
    {
     "data": {
      "text/plain": [
       "false"
      ]
     },
     "execution_count": 33,
     "metadata": {},
     "output_type": "execute_result"
    }
   ],
   "source": [
    "true & false"
   ]
  },
  {
   "cell_type": "code",
   "execution_count": 34,
   "metadata": {},
   "outputs": [
    {
     "data": {
      "text/plain": [
       "true"
      ]
     },
     "execution_count": 34,
     "metadata": {},
     "output_type": "execute_result"
    }
   ],
   "source": [
    "true | false"
   ]
  },
  {
   "cell_type": "code",
   "execution_count": 35,
   "metadata": {},
   "outputs": [
    {
     "data": {
      "text/plain": [
       "4"
      ]
     },
     "execution_count": 35,
     "metadata": {},
     "output_type": "execute_result"
    }
   ],
   "source": [
    "4&5"
   ]
  },
  {
   "cell_type": "code",
   "execution_count": 36,
   "metadata": {},
   "outputs": [
    {
     "data": {
      "text/plain": [
       "5"
      ]
     },
     "execution_count": 36,
     "metadata": {},
     "output_type": "execute_result"
    }
   ],
   "source": [
    "4|5"
   ]
  },
  {
   "cell_type": "code",
   "execution_count": 37,
   "metadata": {},
   "outputs": [
    {
     "data": {
      "text/plain": [
       "1"
      ]
     },
     "execution_count": 37,
     "metadata": {},
     "output_type": "execute_result"
    }
   ],
   "source": [
    "4^5"
   ]
  },
  {
   "cell_type": "code",
   "execution_count": 38,
   "metadata": {},
   "outputs": [
    {
     "data": {
      "text/plain": [
       "false"
      ]
     },
     "execution_count": 38,
     "metadata": {},
     "output_type": "execute_result"
    }
   ],
   "source": [
    "true ^ true"
   ]
  },
  {
   "cell_type": "code",
   "execution_count": 39,
   "metadata": {},
   "outputs": [
    {
     "data": {
      "text/plain": [
       "false"
      ]
     },
     "execution_count": 39,
     "metadata": {},
     "output_type": "execute_result"
    }
   ],
   "source": [
    "false ^ false"
   ]
  },
  {
   "cell_type": "code",
   "execution_count": 40,
   "metadata": {},
   "outputs": [
    {
     "data": {
      "text/plain": [
       "true"
      ]
     },
     "execution_count": 40,
     "metadata": {},
     "output_type": "execute_result"
    }
   ],
   "source": [
    "true ^ false"
   ]
  },
  {
   "cell_type": "code",
   "execution_count": 41,
   "metadata": {},
   "outputs": [
    {
     "data": {
      "text/plain": [
       "65"
      ]
     },
     "execution_count": 41,
     "metadata": {},
     "output_type": "execute_result"
    }
   ],
   "source": [
    "(int) 'A'"
   ]
  },
  {
   "cell_type": "code",
   "execution_count": 42,
   "metadata": {},
   "outputs": [
    {
     "data": {
      "text/plain": [
       "30thirty"
      ]
     },
     "execution_count": 42,
     "metadata": {},
     "output_type": "execute_result"
    }
   ],
   "source": [
    "10+20+\"thirty\""
   ]
  },
  {
   "cell_type": "code",
   "execution_count": 43,
   "metadata": {},
   "outputs": [
    {
     "data": {
      "text/plain": [
       "thirty2010"
      ]
     },
     "execution_count": 43,
     "metadata": {},
     "output_type": "execute_result"
    }
   ],
   "source": [
    "\"thirty\"+20+10"
   ]
  },
  {
   "cell_type": "code",
   "execution_count": 44,
   "metadata": {},
   "outputs": [
    {
     "data": {
      "text/plain": [
       "Odd"
      ]
     },
     "execution_count": 44,
     "metadata": {},
     "output_type": "execute_result"
    }
   ],
   "source": [
    "(10%2==1)?\"Even\":\"Odd\""
   ]
  },
  {
   "cell_type": "markdown",
   "metadata": {},
   "source": [
    "# Flow Control"
   ]
  },
  {
   "cell_type": "code",
   "execution_count": 45,
   "metadata": {},
   "outputs": [
    {
     "name": "stdout",
     "output_type": "stream",
     "text": [
      "Inside the loop\r\n"
     ]
    }
   ],
   "source": [
    "int x = 1;\n",
    "    do {\n",
    "\t\tSystem.out.println(\"Inside the loop\");\n",
    "\t} while (x < 1);"
   ]
  },
  {
   "cell_type": "code",
   "execution_count": 46,
   "metadata": {},
   "outputs": [
    {
     "name": "stdout",
     "output_type": "stream",
     "text": [
      "0\n",
      "2\n"
     ]
    }
   ],
   "source": [
    "for(int i=0;i<5;i++) {\n",
    "    if(i==1){\n",
    "        continue;\n",
    "    }\n",
    "    if(i==3){\n",
    "        break;\n",
    "    }\n",
    "    System.out.println(i);    \n",
    "}"
   ]
  },
  {
   "cell_type": "code",
   "execution_count": 47,
   "metadata": {},
   "outputs": [
    {
     "name": "stdout",
     "output_type": "stream",
     "text": [
      "X is greater\r\n"
     ]
    }
   ],
   "source": [
    "int x = 20, y = 10;\n",
    "\n",
    "\t\tif (x > y)\n",
    "\t\t\tSystem.out.println(\"X is greater\");\n",
    "\t\telse if (y > x)\n",
    "\t\t\tSystem.out.println(\"Y is greater\");\n",
    "\t\telse\n",
    "\t\t\tSystem.out.println(\"Both the numbers are equal\");"
   ]
  },
  {
   "cell_type": "code",
   "execution_count": 48,
   "metadata": {},
   "outputs": [
    {
     "name": "stdout",
     "output_type": "stream",
     "text": [
      "Block Begins\n",
      "Outside the block\n"
     ]
    }
   ],
   "source": [
    "//Labled block \n",
    "\tint x = 20;\n",
    "\n",
    "\t\tl1: {\n",
    "\t\t\tSystem.out.println(\"Block Begins\");\n",
    "\n",
    "\t\t\tif (x == 20) {\n",
    "\t\t\t\tbreak l1;\n",
    "\t\t\t}\n",
    "\t\t\tSystem.out.println(\"Block Ends\");\n",
    "\t\t}\n",
    "\n",
    "\t\tSystem.out.println(\"Outside the block\");"
   ]
  },
  {
   "cell_type": "code",
   "execution_count": 49,
   "metadata": {},
   "outputs": [
    {
     "name": "stdout",
     "output_type": "stream",
     "text": [
      "Default\r\n"
     ]
    }
   ],
   "source": [
    "int x = 4;\n",
    "\n",
    "\t\tswitch (x) {\n",
    "\n",
    "\t\tcase 1:\n",
    "\t\tcase 2:\n",
    "\t\t\tSystem.out.println(\"Common Logic\");\n",
    "\t\t\tbreak;\n",
    "\t\tdefault:\n",
    "\t\t\tSystem.out.println(\"Default\");\n",
    "\t\t}"
   ]
  },
  {
   "cell_type": "code",
   "execution_count": 599,
   "metadata": {},
   "outputs": [
    {
     "name": "stdout",
     "output_type": "stream",
     "text": [
      "1\n",
      "2\n",
      "3\n"
     ]
    }
   ],
   "source": [
    "int i = 1;\n",
    "\t\twhile (i <= 3) {\n",
    "\t\t\tSystem.out.println(i);\n",
    "\t\t\ti++;\n",
    "\t\t}"
   ]
  },
  {
   "cell_type": "markdown",
   "metadata": {},
   "source": [
    "# Switch"
   ]
  },
  {
   "cell_type": "code",
   "execution_count": 600,
   "metadata": {},
   "outputs": [
    {
     "name": "stdout",
     "output_type": "stream",
     "text": [
      "Supports multi line block!\r\n"
     ]
    }
   ],
   "source": [
    "String mode = \"d\";\n",
    "\n",
    "\t\tint result = switch (mode) {\n",
    "\t\tcase \"a\", \"b\":\n",
    "\t\t\tyield 1;\n",
    "\t\tcase \"c\":\n",
    "\t\t\tyield 2;\n",
    "\t\tcase \"d\", \"e\", \"f\":\n",
    "\t\t\tSystem.out.println(\"Supports multi line block!\");\n",
    "\t\t\tyield 3;\n",
    "\t\tdefault:\n",
    "\t\t\tyield -1;\n",
    "\t\t};"
   ]
  },
  {
   "cell_type": "code",
   "execution_count": 601,
   "metadata": {},
   "outputs": [
    {
     "data": {
      "text/plain": [
       "3"
      ]
     },
     "execution_count": 601,
     "metadata": {},
     "output_type": "execute_result"
    }
   ],
   "source": [
    "result"
   ]
  },
  {
   "cell_type": "markdown",
   "metadata": {},
   "source": [
    "# Access Modifiers"
   ]
  },
  {
   "cell_type": "code",
   "execution_count": 51,
   "metadata": {},
   "outputs": [],
   "source": [
    "public class A {\n",
    "\t\n",
    "\tprivate int a = 30;\n",
    "\t\t\tint b = 40;\n",
    "\tprotected int c = 50;\n",
    "\tpublic int d = 60;\n",
    "}"
   ]
  },
  {
   "cell_type": "code",
   "execution_count": 52,
   "metadata": {},
   "outputs": [
    {
     "name": "stdout",
     "output_type": "stream",
     "text": [
      "40\n",
      "50\n",
      "60\n"
     ]
    }
   ],
   "source": [
    "A a = new A();\n",
    "// System.out.println(a.a); //This line will not compile\n",
    "System.out.println(a.b);\n",
    "System.out.println(a.c);\n",
    "System.out.println(a.d);"
   ]
  },
  {
   "cell_type": "code",
   "execution_count": 53,
   "metadata": {},
   "outputs": [],
   "source": [
    "public class C extends A{\n",
    "\t}"
   ]
  },
  {
   "cell_type": "code",
   "execution_count": 54,
   "metadata": {},
   "outputs": [],
   "source": [
    "C c = new C();"
   ]
  },
  {
   "cell_type": "code",
   "execution_count": 55,
   "metadata": {},
   "outputs": [
    {
     "data": {
      "text/plain": [
       "50"
      ]
     },
     "execution_count": 55,
     "metadata": {},
     "output_type": "execute_result"
    }
   ],
   "source": [
    "c.c"
   ]
  },
  {
   "cell_type": "code",
   "execution_count": 56,
   "metadata": {},
   "outputs": [],
   "source": [
    "//c.a // THis line will not compile"
   ]
  },
  {
   "cell_type": "code",
   "execution_count": 57,
   "metadata": {},
   "outputs": [
    {
     "data": {
      "text/plain": [
       "40"
      ]
     },
     "execution_count": 57,
     "metadata": {},
     "output_type": "execute_result"
    }
   ],
   "source": [
    "c.b"
   ]
  },
  {
   "cell_type": "markdown",
   "metadata": {},
   "source": [
    "# Packages"
   ]
  },
  {
   "cell_type": "code",
   "execution_count": null,
   "metadata": {},
   "outputs": [],
   "source": []
  },
  {
   "cell_type": "code",
   "execution_count": null,
   "metadata": {},
   "outputs": [],
   "source": []
  },
  {
   "cell_type": "markdown",
   "metadata": {},
   "source": [
    "# Enums"
   ]
  },
  {
   "cell_type": "code",
   "execution_count": 58,
   "metadata": {},
   "outputs": [],
   "source": [
    "enum EnumSample {\n",
    "\t\tSMALL(8), MEDIUM(12), LARGE(16) {\n",
    "\t\t\tpublic String getLidSize() {\n",
    "\t\t\t\treturn \"Large\";\n",
    "\t\t\t}\n",
    "\n",
    "\t\t};\n",
    "\n",
    "\t\tEnumSample(int size) {\n",
    "\t\t\tSystem.out.println(\"inside the constructor\");\n",
    "\t\t\tthis.size = size;\n",
    "\t\t}\n",
    "\n",
    "\t\tprivate int size;\n",
    "\n",
    "\t\tpublic int getSize() {\n",
    "\t\t\treturn size;\n",
    "\t\t}\n",
    "\n",
    "\t\tpublic String getLidSize() {\n",
    "\t\t\treturn \"Small\";\n",
    "\t\t}\n",
    "\t}"
   ]
  },
  {
   "cell_type": "code",
   "execution_count": 59,
   "metadata": {},
   "outputs": [
    {
     "name": "stdout",
     "output_type": "stream",
     "text": [
      "inside the constructor\n",
      "inside the constructor\n",
      "inside the constructor\n"
     ]
    },
    {
     "data": {
      "text/plain": [
       "16"
      ]
     },
     "execution_count": 59,
     "metadata": {},
     "output_type": "execute_result"
    }
   ],
   "source": [
    "EnumSample.LARGE.getSize()"
   ]
  },
  {
   "cell_type": "code",
   "execution_count": 60,
   "metadata": {},
   "outputs": [
    {
     "data": {
      "text/plain": [
       "2"
      ]
     },
     "execution_count": 60,
     "metadata": {},
     "output_type": "execute_result"
    }
   ],
   "source": [
    "EnumSample.LARGE.ordinal()"
   ]
  },
  {
   "cell_type": "code",
   "execution_count": 61,
   "metadata": {},
   "outputs": [
    {
     "data": {
      "text/plain": [
       "class REPL.$JShell$76$EnumSample"
      ]
     },
     "execution_count": 61,
     "metadata": {},
     "output_type": "execute_result"
    }
   ],
   "source": [
    "EnumSample.LARGE.getDeclaringClass()"
   ]
  },
  {
   "cell_type": "code",
   "execution_count": 62,
   "metadata": {},
   "outputs": [
    {
     "name": "stdout",
     "output_type": "stream",
     "text": [
      "SMALL:8:Small\n",
      "MEDIUM:12:Small\n",
      "LARGE:16:Large\n"
     ]
    }
   ],
   "source": [
    "for (EnumSample enumDemo : EnumSample.values()) {\n",
    "\t\t\tSystem.out.println(enumDemo.toString() + \":\" + enumDemo.getSize() + \":\" + enumDemo.getLidSize());\n",
    "\t\t}"
   ]
  },
  {
   "cell_type": "markdown",
   "metadata": {},
   "source": [
    "# Annotations"
   ]
  },
  {
   "cell_type": "code",
   "execution_count": 63,
   "metadata": {},
   "outputs": [],
   "source": [
    "import java.lang.annotation.ElementType;\n",
    "import java.lang.annotation.Retention;\n",
    "import java.lang.annotation.RetentionPolicy;\n",
    "import java.lang.annotation.Target;\n",
    "import java.lang.reflect.Method;"
   ]
  },
  {
   "cell_type": "code",
   "execution_count": 64,
   "metadata": {},
   "outputs": [],
   "source": [
    "@Retention(RetentionPolicy.RUNTIME)\n",
    "@Target(ElementType.METHOD)\n",
    "public @interface MyAnnotation {\n",
    "\n",
    "}"
   ]
  },
  {
   "cell_type": "code",
   "execution_count": 65,
   "metadata": {},
   "outputs": [],
   "source": [
    "@Retention(RetentionPolicy.RUNTIME)\n",
    "@Target({ElementType.TYPE, ElementType.METHOD})\n",
    "public @interface MyAnnotation2 {\n",
    "    String param1();\n",
    "    String param2();\n",
    "\n",
    "}"
   ]
  },
  {
   "cell_type": "code",
   "execution_count": 66,
   "metadata": {},
   "outputs": [],
   "source": [
    "public class AnnotationTest {\n",
    "\t\n",
    "\t@MyAnnotation\n",
    "\tpublic void myMethod(){\n",
    "\t\tSystem.out.println(\"Inside AnnotationTest.myMethod() \");\n",
    "\t}\n",
    "    \n",
    "    @MyAnnotation2(param1 = \"Hello\", param2 = \"World\")\n",
    "\tpublic void myMethod2(){\n",
    "\t\tSystem.out.println(\"Inside AnnotationTest.myMethod2() \");\n",
    "\t}\n",
    "\n",
    "}"
   ]
  },
  {
   "cell_type": "code",
   "execution_count": 67,
   "metadata": {},
   "outputs": [],
   "source": [
    "public class A {\n",
    "\n",
    "\t@Deprecated\n",
    "\tpublic void myMethod() {\n",
    "        System.out.println(\"Inside deprecated method:myMethod() \");\n",
    "\n",
    "\t}\n",
    "\n",
    "\tpublic void myMethod2() {\n",
    "    System.out.println(\"Inside Non-deprecated method:myMethod2() \");\n",
    "\n",
    "\t}\n",
    "}"
   ]
  },
  {
   "cell_type": "code",
   "execution_count": 68,
   "metadata": {},
   "outputs": [],
   "source": [
    "A a = new A();"
   ]
  },
  {
   "cell_type": "code",
   "execution_count": 69,
   "metadata": {},
   "outputs": [
    {
     "name": "stdout",
     "output_type": "stream",
     "text": [
      "Inside deprecated method:myMethod() \r\n"
     ]
    }
   ],
   "source": [
    "a.myMethod()"
   ]
  },
  {
   "cell_type": "code",
   "execution_count": 70,
   "metadata": {},
   "outputs": [
    {
     "name": "stdout",
     "output_type": "stream",
     "text": [
      "Inside Non-deprecated method:myMethod2() \r\n"
     ]
    }
   ],
   "source": [
    "a.myMethod2();"
   ]
  },
  {
   "cell_type": "code",
   "execution_count": 71,
   "metadata": {},
   "outputs": [],
   "source": [
    "AnnotationTest testInstance = new AnnotationTest();\n",
    "Method method = AnnotationTest.class.getMethod(\"myMethod\");\n",
    "Method method2 = AnnotationTest.class.getMethod(\"myMethod2\");"
   ]
  },
  {
   "cell_type": "code",
   "execution_count": 72,
   "metadata": {},
   "outputs": [
    {
     "name": "stdout",
     "output_type": "stream",
     "text": [
      "MyAnnotation is present on method: myMethod\n",
      "Inside AnnotationTest.myMethod() \n"
     ]
    }
   ],
   "source": [
    "if (method.isAnnotationPresent(MyAnnotation.class)) {\n",
    "    System.out.println(\"MyAnnotation is present on method: \" + method.getName());\n",
    "    method.invoke(testInstance);\n",
    "    } else {\n",
    "    System.out.println(\"MyAnnotation is not present on method: \" + method.getName());\n",
    "}"
   ]
  },
  {
   "cell_type": "code",
   "execution_count": 73,
   "metadata": {},
   "outputs": [
    {
     "name": "stdout",
     "output_type": "stream",
     "text": [
      "MyAnnotation2 is present on method: myMethod\n",
      "Hello\n",
      "World\n",
      "Inside AnnotationTest.myMethod2() \n"
     ]
    }
   ],
   "source": [
    "if (method2.isAnnotationPresent(MyAnnotation2.class)) {\n",
    "    MyAnnotation2 annotation2 = method2.getAnnotation(MyAnnotation2.class);\n",
    "    System.out.println(\"MyAnnotation2 is present on method: \" + method.getName());\n",
    "      System.out.println(annotation2.param1());\n",
    "      System.out.println(annotation2.param2());\n",
    "    method2.invoke(testInstance);\n",
    "    } else {\n",
    "    System.out.println(\"MyAnnotation2 is not present on method: \" + method2.getName());\n",
    "}"
   ]
  },
  {
   "cell_type": "code",
   "execution_count": null,
   "metadata": {},
   "outputs": [],
   "source": []
  },
  {
   "cell_type": "code",
   "execution_count": null,
   "metadata": {},
   "outputs": [],
   "source": []
  },
  {
   "cell_type": "markdown",
   "metadata": {},
   "source": [
    "# Var Sample"
   ]
  },
  {
   "cell_type": "code",
   "execution_count": 74,
   "metadata": {},
   "outputs": [],
   "source": [
    "// No need to spcify teyh type for var variables\n",
    "var i = 10;"
   ]
  },
  {
   "cell_type": "code",
   "execution_count": 75,
   "metadata": {},
   "outputs": [
    {
     "data": {
      "text/plain": [
       "10"
      ]
     },
     "execution_count": 75,
     "metadata": {},
     "output_type": "execute_result"
    }
   ],
   "source": [
    "i"
   ]
  },
  {
   "cell_type": "code",
   "execution_count": 76,
   "metadata": {},
   "outputs": [],
   "source": [
    "var s = \"str\";"
   ]
  },
  {
   "cell_type": "code",
   "execution_count": 77,
   "metadata": {},
   "outputs": [
    {
     "data": {
      "text/plain": [
       "str"
      ]
     },
     "execution_count": 77,
     "metadata": {},
     "output_type": "execute_result"
    }
   ],
   "source": [
    "s"
   ]
  },
  {
   "cell_type": "code",
   "execution_count": 78,
   "metadata": {},
   "outputs": [
    {
     "data": {
      "text/plain": [
       "true"
      ]
     },
     "execution_count": 78,
     "metadata": {},
     "output_type": "execute_result"
    }
   ],
   "source": [
    "s instanceof String"
   ]
  },
  {
   "cell_type": "code",
   "execution_count": null,
   "metadata": {},
   "outputs": [],
   "source": []
  },
  {
   "cell_type": "code",
   "execution_count": 79,
   "metadata": {},
   "outputs": [],
   "source": [
    "class TestClass {\n",
    "\tpublic void method1() {\n",
    "\t\tSystem.out.println(\"method1\");\n",
    "\t}\n",
    "   }"
   ]
  },
  {
   "cell_type": "code",
   "execution_count": 80,
   "metadata": {},
   "outputs": [],
   "source": [
    "var testClass = new TestClass();"
   ]
  },
  {
   "cell_type": "code",
   "execution_count": 614,
   "metadata": {},
   "outputs": [
    {
     "ename": "CompilationException",
     "evalue": "",
     "output_type": "error",
     "traceback": [
      "\u001b[1m\u001b[30m|   \u001b[1m\u001b[30m\u001b[0m\u001b[1m\u001b[30m\u001b[41mtestClass\u001b[0m\u001b[1m\u001b[30m.method1();\u001b[0m",
      "\u001b[1m\u001b[31mcannot find symbol\u001b[0m",
      "\u001b[1m\u001b[31m  symbol:   variable testClass\u001b[0m",
      ""
     ]
    }
   ],
   "source": [
    "testClass.method1();"
   ]
  },
  {
   "cell_type": "markdown",
   "metadata": {},
   "source": [
    "# VarArgs"
   ]
  },
  {
   "cell_type": "code",
   "execution_count": 616,
   "metadata": {},
   "outputs": [],
   "source": [
    "private void varArgsMethod1(String str1, String... strs2) {\n",
    "\t\tSystem.out.println(str1);\n",
    "\t\tfor (String str2 : strs2) {\n",
    "\t\t\tSystem.out.println(str2);\n",
    "\t\t}\n",
    "\t}"
   ]
  },
  {
   "cell_type": "code",
   "execution_count": 617,
   "metadata": {},
   "outputs": [
    {
     "name": "stdout",
     "output_type": "stream",
     "text": [
      "str1\r\n"
     ]
    }
   ],
   "source": [
    "varArgsMethod1(\"str1\")"
   ]
  },
  {
   "cell_type": "code",
   "execution_count": 618,
   "metadata": {},
   "outputs": [
    {
     "name": "stdout",
     "output_type": "stream",
     "text": [
      "Str1\n",
      "Str21\n",
      "Str22\n"
     ]
    }
   ],
   "source": [
    "varArgsMethod1(\"Str1\", \"Str21\", \"Str22\")"
   ]
  },
  {
   "cell_type": "markdown",
   "metadata": {},
   "source": [
    "# Static-Non Static"
   ]
  },
  {
   "cell_type": "code",
   "execution_count": 82,
   "metadata": {},
   "outputs": [],
   "source": [
    "public class NonStaticMembersDemo {\n",
    "\tint num;\n",
    "\tNonStaticMembersDemo() {\n",
    "\t\tSystem.out.println(\"Inside the constructor\");\n",
    "\t}\n",
    "\n",
    "\t{\n",
    "\t\tSystem.out.println(\"Inside the non static block\");\n",
    "\t}\n",
    "\n",
    "\tstatic {\n",
    "\t\tSystem.out.println(\"Inside the static block\");\n",
    "\t}\n",
    "\n",
    "\tvoid doSomething() {\n",
    "\t\tSystem.out.println(\"Inside doSomething\");\n",
    "\t}\n",
    "\n",
    "}\n"
   ]
  },
  {
   "cell_type": "code",
   "execution_count": 83,
   "metadata": {},
   "outputs": [
    {
     "name": "stdout",
     "output_type": "stream",
     "text": [
      "Inside the static block\n",
      "Inside the non static block\n",
      "Inside the constructor\n"
     ]
    }
   ],
   "source": [
    "NonStaticMembersDemo obj = new NonStaticMembersDemo();"
   ]
  },
  {
   "cell_type": "code",
   "execution_count": 84,
   "metadata": {},
   "outputs": [
    {
     "name": "stdout",
     "output_type": "stream",
     "text": [
      "Inside doSomething\r\n"
     ]
    }
   ],
   "source": [
    "obj.doSomething();"
   ]
  },
  {
   "cell_type": "code",
   "execution_count": 85,
   "metadata": {},
   "outputs": [
    {
     "name": "stdout",
     "output_type": "stream",
     "text": [
      "Inside the non static block\n",
      "Inside the constructor\n"
     ]
    }
   ],
   "source": [
    "NonStaticMembersDemo obj = new NonStaticMembersDemo();"
   ]
  },
  {
   "cell_type": "code",
   "execution_count": 86,
   "metadata": {},
   "outputs": [
    {
     "name": "stdout",
     "output_type": "stream",
     "text": [
      "Inside doSomething\r\n"
     ]
    }
   ],
   "source": [
    "obj.doSomething();"
   ]
  },
  {
   "cell_type": "markdown",
   "metadata": {},
   "source": [
    "* Non static block will get called before the constructur"
   ]
  },
  {
   "cell_type": "markdown",
   "metadata": {},
   "source": [
    "# Atomic Variables"
   ]
  },
  {
   "cell_type": "markdown",
   "metadata": {},
   "source": [
    "* AtomicInteger in Java is a class in the java.util.concurrent.atomic package that provides an integer value that can be updated atomically. This means that the operations on the AtomicInteger instance, such as increment, decrement, add, and set, are thread-safe without using synchronization."
   ]
  },
  {
   "cell_type": "code",
   "execution_count": 87,
   "metadata": {},
   "outputs": [],
   "source": [
    "import java.util.concurrent.atomic.AtomicInteger;\n",
    "import java.util.concurrent.atomic.AtomicReference;\n",
    "AtomicInteger atomicInteger = new AtomicInteger(9);"
   ]
  },
  {
   "cell_type": "code",
   "execution_count": 88,
   "metadata": {},
   "outputs": [
    {
     "data": {
      "text/plain": [
       "9"
      ]
     },
     "execution_count": 88,
     "metadata": {},
     "output_type": "execute_result"
    }
   ],
   "source": [
    "atomicInteger.getAndIncrement()"
   ]
  },
  {
   "cell_type": "code",
   "execution_count": 89,
   "metadata": {},
   "outputs": [
    {
     "data": {
      "text/plain": [
       "12"
      ]
     },
     "execution_count": 89,
     "metadata": {},
     "output_type": "execute_result"
    }
   ],
   "source": [
    "atomicInteger.addAndGet(2)"
   ]
  },
  {
   "cell_type": "code",
   "execution_count": 90,
   "metadata": {},
   "outputs": [
    {
     "data": {
      "text/plain": [
       "false"
      ]
     },
     "execution_count": 90,
     "metadata": {},
     "output_type": "execute_result"
    }
   ],
   "source": [
    "atomicInteger.compareAndSet(9, 10)"
   ]
  },
  {
   "cell_type": "code",
   "execution_count": 91,
   "metadata": {},
   "outputs": [
    {
     "data": {
      "text/plain": [
       "60"
      ]
     },
     "execution_count": 91,
     "metadata": {},
     "output_type": "execute_result"
    }
   ],
   "source": [
    "atomicInteger.updateAndGet(i -> 5 * i)"
   ]
  },
  {
   "cell_type": "code",
   "execution_count": 92,
   "metadata": {},
   "outputs": [
    {
     "data": {
      "text/plain": [
       "62"
      ]
     },
     "execution_count": 92,
     "metadata": {},
     "output_type": "execute_result"
    }
   ],
   "source": [
    "atomicInteger.accumulateAndGet(2, (i1, i2) -> i1 + i2)"
   ]
  },
  {
   "cell_type": "code",
   "execution_count": 93,
   "metadata": {},
   "outputs": [],
   "source": [
    "AtomicReference<String> atomicReference = new AtomicReference<>(\"test jj\");"
   ]
  },
  {
   "cell_type": "code",
   "execution_count": 94,
   "metadata": {},
   "outputs": [
    {
     "data": {
      "text/plain": [
       "TEST JJ"
      ]
     },
     "execution_count": 94,
     "metadata": {},
     "output_type": "execute_result"
    }
   ],
   "source": [
    "atomicReference.updateAndGet(s -> s.toUpperCase())"
   ]
  },
  {
   "cell_type": "code",
   "execution_count": 95,
   "metadata": {},
   "outputs": [
    {
     "data": {
      "text/plain": [
       "hi ..TEST JJ"
      ]
     },
     "execution_count": 95,
     "metadata": {},
     "output_type": "execute_result"
    }
   ],
   "source": [
    "atomicReference.accumulateAndGet(\"hi ..\", ((s1, s2) -> s2 + s1))"
   ]
  },
  {
   "cell_type": "markdown",
   "metadata": {},
   "source": [
    "# Inheritance"
   ]
  },
  {
   "cell_type": "code",
   "execution_count": 96,
   "metadata": {},
   "outputs": [],
   "source": [
    "public class Parent{\n",
    "\t\n",
    "\tParent(){\n",
    "\t\tSystem.out.println(\"Parents Object: \"+this);\n",
    "\t}\n",
    "\t\n",
    "\tvoid f1(){\n",
    "\t\tSystem.out.println(\"Inside Parents f1\");\n",
    "\t}\n",
    "}"
   ]
  },
  {
   "cell_type": "code",
   "execution_count": 97,
   "metadata": {},
   "outputs": [],
   "source": [
    "public class Child extends Parent{\n",
    "\t\n",
    "\tChild(){\n",
    "\t\tSystem.out.println(\"Child Object: \"+this);\n",
    "\t}\n",
    "\t\n",
    "    @Override\n",
    "    void f1(){\n",
    "\t\tSystem.out.println(\"Inside childs f1\");\n",
    "\t}\n",
    "    \n",
    "\tvoid f2(){\n",
    "\t\tSystem.out.println(\"Inside f2\");\n",
    "\t}\n",
    "}"
   ]
  },
  {
   "cell_type": "code",
   "execution_count": 98,
   "metadata": {},
   "outputs": [
    {
     "name": "stdout",
     "output_type": "stream",
     "text": [
      "Parents Object: REPL.$JShell$119$Child@319d6513\n",
      "Child Object: REPL.$JShell$119$Child@319d6513\n"
     ]
    }
   ],
   "source": [
    "Child c = new Child()"
   ]
  },
  {
   "cell_type": "code",
   "execution_count": 99,
   "metadata": {},
   "outputs": [
    {
     "data": {
      "text/plain": [
       "832398611"
      ]
     },
     "execution_count": 99,
     "metadata": {},
     "output_type": "execute_result"
    }
   ],
   "source": [
    "c.hashCode();"
   ]
  },
  {
   "cell_type": "code",
   "execution_count": 100,
   "metadata": {},
   "outputs": [
    {
     "name": "stdout",
     "output_type": "stream",
     "text": [
      "Inside childs f1\r\n"
     ]
    }
   ],
   "source": [
    "c.f1()"
   ]
  },
  {
   "cell_type": "code",
   "execution_count": 101,
   "metadata": {},
   "outputs": [
    {
     "name": "stdout",
     "output_type": "stream",
     "text": [
      "Parents Object: REPL.$JShell$119$Child@617f8ba1\n",
      "Child Object: REPL.$JShell$119$Child@617f8ba1\n"
     ]
    }
   ],
   "source": [
    "Parent c1 = new Child();"
   ]
  },
  {
   "cell_type": "code",
   "execution_count": 102,
   "metadata": {},
   "outputs": [
    {
     "name": "stdout",
     "output_type": "stream",
     "text": [
      "Inside childs f1\r\n"
     ]
    }
   ],
   "source": [
    "c1.f1()"
   ]
  },
  {
   "cell_type": "code",
   "execution_count": 103,
   "metadata": {},
   "outputs": [
    {
     "name": "stdout",
     "output_type": "stream",
     "text": [
      "Parents Object: REPL.$JShell$118$Parent@37660c23\r\n"
     ]
    }
   ],
   "source": [
    "Parent c2 = new Parent();"
   ]
  },
  {
   "cell_type": "code",
   "execution_count": 104,
   "metadata": {},
   "outputs": [
    {
     "name": "stdout",
     "output_type": "stream",
     "text": [
      "Inside Parents f1\r\n"
     ]
    }
   ],
   "source": [
    "c2.f1();"
   ]
  },
  {
   "cell_type": "markdown",
   "metadata": {},
   "source": [
    "# Interfaces"
   ]
  },
  {
   "cell_type": "code",
   "execution_count": 105,
   "metadata": {},
   "outputs": [],
   "source": [
    "public interface A {\n",
    "\n",
    "\tdefault void m1() {\n",
    "\t\tSystem.out.println(\"m1 inside A\");\n",
    "\t}\n",
    "\n",
    "}"
   ]
  },
  {
   "cell_type": "code",
   "execution_count": 106,
   "metadata": {},
   "outputs": [],
   "source": [
    "public interface X {\n",
    "\tdefault void m1(){\n",
    "        testPrivateInterfaceMethod1();\n",
    "\t\tSystem.out.println(\"m1 inside X\");\n",
    "\t}\n",
    "    default void m2(){\n",
    "        testPrivateInterfaceMethod1();\n",
    "\t\tSystem.out.println(\"m2 inside X\");\n",
    "\t}\n",
    "    private static void testPrivateInterfaceMethod1() {\n",
    "\t\tSystem.out.println(\"inside testPrivateInterfaceMethod1\");\n",
    "\t}\n",
    "}"
   ]
  },
  {
   "cell_type": "code",
   "execution_count": 107,
   "metadata": {},
   "outputs": [],
   "source": [
    "public class B implements A,X{\n",
    "\n",
    "\t@Override\n",
    "\tpublic void m1() {\n",
    "    System.out.println(\"m1 inside B\");\n",
    "\t\n",
    "\t}\n",
    "}"
   ]
  },
  {
   "cell_type": "code",
   "execution_count": 108,
   "metadata": {},
   "outputs": [],
   "source": [
    "A a = new B();"
   ]
  },
  {
   "cell_type": "code",
   "execution_count": 109,
   "metadata": {},
   "outputs": [
    {
     "name": "stdout",
     "output_type": "stream",
     "text": [
      "m1 inside B\r\n"
     ]
    }
   ],
   "source": [
    "a.m1();"
   ]
  },
  {
   "cell_type": "code",
   "execution_count": 110,
   "metadata": {},
   "outputs": [],
   "source": [
    "X x = new B();"
   ]
  },
  {
   "cell_type": "code",
   "execution_count": 111,
   "metadata": {},
   "outputs": [
    {
     "name": "stdout",
     "output_type": "stream",
     "text": [
      "inside testPrivateInterfaceMethod1\n",
      "m2 inside X\n"
     ]
    }
   ],
   "source": [
    "x.m2()"
   ]
  },
  {
   "cell_type": "code",
   "execution_count": null,
   "metadata": {},
   "outputs": [],
   "source": []
  },
  {
   "cell_type": "markdown",
   "metadata": {},
   "source": [
    "# Exception Handling"
   ]
  },
  {
   "cell_type": "code",
   "execution_count": 112,
   "metadata": {},
   "outputs": [
    {
     "name": "stdout",
     "output_type": "stream",
     "text": [
      "Please do not enter 0\n",
      "Finally\n"
     ]
    }
   ],
   "source": [
    "try{\n",
    "    int c =10/0;\n",
    "    System.out.println(\"Result\"+c);\n",
    "    }catch(ArithmeticException e){\n",
    "        System.out.println(\"Please do not enter 0\");\n",
    "    }finally{\n",
    "        System.out.println(\"Finally\");\n",
    "    }"
   ]
  },
  {
   "cell_type": "code",
   "execution_count": 113,
   "metadata": {},
   "outputs": [],
   "source": [
    "assert (10 <= 20):\"Assertion error demo\";"
   ]
  },
  {
   "cell_type": "markdown",
   "metadata": {},
   "source": [
    "# AutoCloseable"
   ]
  },
  {
   "cell_type": "code",
   "execution_count": 114,
   "metadata": {},
   "outputs": [],
   "source": [
    "public class MyWorker implements AutoCloseable {\n",
    "\t\n",
    "\tpublic MyWorker(){\n",
    "\t\tSystem.out.println(\"Creating the resource\");\n",
    "\t}\n",
    "\t\n",
    "\tpublic void doSomething() {\n",
    "\t\tSystem.out.println(\"Doing Something\");\n",
    "\t}\n",
    "\n",
    "\t@Override\n",
    "\tpublic void close() throws Exception {\n",
    "\t\tSystem.out.println(\"Closing the resource\");\n",
    "\n",
    "\t}\n",
    "\n",
    "}"
   ]
  },
  {
   "cell_type": "code",
   "execution_count": 115,
   "metadata": {},
   "outputs": [
    {
     "name": "stdout",
     "output_type": "stream",
     "text": [
      "Creating the resource\n",
      "Doing Something\n",
      "Closing the resource\n"
     ]
    }
   ],
   "source": [
    "// AutoCloseable variable can be defined before try block with Java 9. It is not working in notebook\n",
    "//final MyWorker worker = new MyWorker();\n",
    "\n",
    "\t\ttry (MyWorker worker = new MyWorker();) {\n",
    "\t\t\tworker.doSomething();\n",
    "\t\t} catch (Exception e) {\n",
    "\n",
    "\t\t}"
   ]
  },
  {
   "cell_type": "markdown",
   "metadata": {},
   "source": [
    "# Locale"
   ]
  },
  {
   "cell_type": "code",
   "execution_count": 116,
   "metadata": {},
   "outputs": [],
   "source": [
    "Locale l = Locale.getDefault();"
   ]
  },
  {
   "cell_type": "code",
   "execution_count": 117,
   "metadata": {},
   "outputs": [
    {
     "data": {
      "text/plain": [
       "en_US"
      ]
     },
     "execution_count": 117,
     "metadata": {},
     "output_type": "execute_result"
    }
   ],
   "source": [
    "l"
   ]
  },
  {
   "cell_type": "code",
   "execution_count": 118,
   "metadata": {},
   "outputs": [
    {
     "data": {
      "text/plain": [
       "US"
      ]
     },
     "execution_count": 118,
     "metadata": {},
     "output_type": "execute_result"
    }
   ],
   "source": [
    "l.getCountry()"
   ]
  },
  {
   "cell_type": "code",
   "execution_count": 119,
   "metadata": {},
   "outputs": [
    {
     "data": {
      "text/plain": [
       "en"
      ]
     },
     "execution_count": 119,
     "metadata": {},
     "output_type": "execute_result"
    }
   ],
   "source": [
    "l.getLanguage()"
   ]
  },
  {
   "cell_type": "code",
   "execution_count": 120,
   "metadata": {},
   "outputs": [
    {
     "data": {
      "text/plain": [
       "United States"
      ]
     },
     "execution_count": 120,
     "metadata": {},
     "output_type": "execute_result"
    }
   ],
   "source": [
    "l.getDisplayCountry()"
   ]
  },
  {
   "cell_type": "code",
   "execution_count": 121,
   "metadata": {},
   "outputs": [
    {
     "data": {
      "text/plain": [
       "English"
      ]
     },
     "execution_count": 121,
     "metadata": {},
     "output_type": "execute_result"
    }
   ],
   "source": [
    "l.getDisplayLanguage()"
   ]
  },
  {
   "cell_type": "code",
   "execution_count": 122,
   "metadata": {},
   "outputs": [],
   "source": [
    "//Locale.setDefault(Locale.UK);"
   ]
  },
  {
   "cell_type": "code",
   "execution_count": 123,
   "metadata": {},
   "outputs": [
    {
     "data": {
      "text/plain": [
       "United States"
      ]
     },
     "execution_count": 123,
     "metadata": {},
     "output_type": "execute_result"
    }
   ],
   "source": [
    "Locale.getDefault().getDisplayCountry()"
   ]
  },
  {
   "cell_type": "code",
   "execution_count": 124,
   "metadata": {},
   "outputs": [],
   "source": [
    "String[] isoCountries = Locale.getISOCountries();"
   ]
  },
  {
   "cell_type": "code",
   "execution_count": 125,
   "metadata": {},
   "outputs": [
    {
     "name": "stdout",
     "output_type": "stream",
     "text": [
      "AD\n",
      "AE\n",
      "AF\n",
      "AG\n",
      "AI\n",
      "AL\n",
      "AM\n",
      "AO\n",
      "AQ\n",
      "AR\n",
      "AS\n",
      "AT\n",
      "AU\n",
      "AW\n",
      "AX\n",
      "AZ\n",
      "BA\n",
      "BB\n",
      "BD\n",
      "BE\n",
      "BF\n",
      "BG\n",
      "BH\n",
      "BI\n",
      "BJ\n",
      "BL\n",
      "BM\n",
      "BN\n",
      "BO\n",
      "BQ\n",
      "BR\n",
      "BS\n",
      "BT\n",
      "BV\n",
      "BW\n",
      "BY\n",
      "BZ\n",
      "CA\n",
      "CC\n",
      "CD\n",
      "CF\n",
      "CG\n",
      "CH\n",
      "CI\n",
      "CK\n",
      "CL\n",
      "CM\n",
      "CN\n",
      "CO\n",
      "CR\n",
      "CU\n",
      "CV\n",
      "CW\n",
      "CX\n",
      "CY\n",
      "CZ\n",
      "DE\n",
      "DJ\n",
      "DK\n",
      "DM\n",
      "DO\n",
      "DZ\n",
      "EC\n",
      "EE\n",
      "EG\n",
      "EH\n",
      "ER\n",
      "ES\n",
      "ET\n",
      "FI\n",
      "FJ\n",
      "FK\n",
      "FM\n",
      "FO\n",
      "FR\n",
      "GA\n",
      "GB\n",
      "GD\n",
      "GE\n",
      "GF\n",
      "GG\n",
      "GH\n",
      "GI\n",
      "GL\n",
      "GM\n",
      "GN\n",
      "GP\n",
      "GQ\n",
      "GR\n",
      "GS\n",
      "GT\n",
      "GU\n",
      "GW\n",
      "GY\n",
      "HK\n",
      "HM\n",
      "HN\n",
      "HR\n",
      "HT\n",
      "HU\n",
      "ID\n",
      "IE\n",
      "IL\n",
      "IM\n",
      "IN\n",
      "IO\n",
      "IQ\n",
      "IR\n",
      "IS\n",
      "IT\n",
      "JE\n",
      "JM\n",
      "JO\n",
      "JP\n",
      "KE\n",
      "KG\n",
      "KH\n",
      "KI\n",
      "KM\n",
      "KN\n",
      "KP\n",
      "KR\n",
      "KW\n",
      "KY\n",
      "KZ\n",
      "LA\n",
      "LB\n",
      "LC\n",
      "LI\n",
      "LK\n",
      "LR\n",
      "LS\n",
      "LT\n",
      "LU\n",
      "LV\n",
      "LY\n",
      "MA\n",
      "MC\n",
      "MD\n",
      "ME\n",
      "MF\n",
      "MG\n",
      "MH\n",
      "MK\n",
      "ML\n",
      "MM\n",
      "MN\n",
      "MO\n",
      "MP\n",
      "MQ\n",
      "MR\n",
      "MS\n",
      "MT\n",
      "MU\n",
      "MV\n",
      "MW\n",
      "MX\n",
      "MY\n",
      "MZ\n",
      "NA\n",
      "NC\n",
      "NE\n",
      "NF\n",
      "NG\n",
      "NI\n",
      "NL\n",
      "NO\n",
      "NP\n",
      "NR\n",
      "NU\n",
      "NZ\n",
      "OM\n",
      "PA\n",
      "PE\n",
      "PF\n",
      "PG\n",
      "PH\n",
      "PK\n",
      "PL\n",
      "PM\n",
      "PN\n",
      "PR\n",
      "PS\n",
      "PT\n",
      "PW\n",
      "PY\n",
      "QA\n",
      "RE\n",
      "RO\n",
      "RS\n",
      "RU\n",
      "RW\n",
      "SA\n",
      "SB\n",
      "SC\n",
      "SD\n",
      "SE\n",
      "SG\n",
      "SH\n",
      "SI\n",
      "SJ\n",
      "SK\n",
      "SL\n",
      "SM\n",
      "SN\n",
      "SO\n",
      "SR\n",
      "SS\n",
      "ST\n",
      "SV\n",
      "SX\n",
      "SY\n",
      "SZ\n",
      "TC\n",
      "TD\n",
      "TF\n",
      "TG\n",
      "TH\n",
      "TJ\n",
      "TK\n",
      "TL\n",
      "TM\n",
      "TN\n",
      "TO\n",
      "TR\n",
      "TT\n",
      "TV\n",
      "TW\n",
      "TZ\n",
      "UA\n",
      "UG\n",
      "UM\n",
      "US\n",
      "UY\n",
      "UZ\n",
      "VA\n",
      "VC\n",
      "VE\n",
      "VG\n",
      "VI\n",
      "VN\n",
      "VU\n",
      "WF\n",
      "WS\n",
      "YE\n",
      "YT\n",
      "ZA\n",
      "ZM\n",
      "ZW\n"
     ]
    }
   ],
   "source": [
    "for (String eachCountry : isoCountries) {\n",
    "\t\t\tSystem.out.println(eachCountry);\n",
    "\t\t\t\n",
    "\t\t}"
   ]
  },
  {
   "cell_type": "code",
   "execution_count": 126,
   "metadata": {},
   "outputs": [],
   "source": [
    "String[] languages = Locale.getISOLanguages();"
   ]
  },
  {
   "cell_type": "code",
   "execution_count": 127,
   "metadata": {},
   "outputs": [
    {
     "name": "stdout",
     "output_type": "stream",
     "text": [
      "aa\n",
      "ab\n",
      "ae\n",
      "af\n",
      "ak\n",
      "am\n",
      "an\n",
      "ar\n",
      "as\n",
      "av\n",
      "ay\n",
      "az\n",
      "ba\n",
      "be\n",
      "bg\n",
      "bh\n",
      "bi\n",
      "bm\n",
      "bn\n",
      "bo\n",
      "br\n",
      "bs\n",
      "ca\n",
      "ce\n",
      "ch\n",
      "co\n",
      "cr\n",
      "cs\n",
      "cu\n",
      "cv\n",
      "cy\n",
      "da\n",
      "de\n",
      "dv\n",
      "dz\n",
      "ee\n",
      "el\n",
      "en\n",
      "eo\n",
      "es\n",
      "et\n",
      "eu\n",
      "fa\n",
      "ff\n",
      "fi\n",
      "fj\n",
      "fo\n",
      "fr\n",
      "fy\n",
      "ga\n",
      "gd\n",
      "gl\n",
      "gn\n",
      "gu\n",
      "gv\n",
      "ha\n",
      "he\n",
      "hi\n",
      "ho\n",
      "hr\n",
      "ht\n",
      "hu\n",
      "hy\n",
      "hz\n",
      "ia\n",
      "id\n",
      "ie\n",
      "ig\n",
      "ii\n",
      "ik\n",
      "in\n",
      "io\n",
      "is\n",
      "it\n",
      "iu\n",
      "iw\n",
      "ja\n",
      "ji\n",
      "jv\n",
      "ka\n",
      "kg\n",
      "ki\n",
      "kj\n",
      "kk\n",
      "kl\n",
      "km\n",
      "kn\n",
      "ko\n",
      "kr\n",
      "ks\n",
      "ku\n",
      "kv\n",
      "kw\n",
      "ky\n",
      "la\n",
      "lb\n",
      "lg\n",
      "li\n",
      "ln\n",
      "lo\n",
      "lt\n",
      "lu\n",
      "lv\n",
      "mg\n",
      "mh\n",
      "mi\n",
      "mk\n",
      "ml\n",
      "mn\n",
      "mo\n",
      "mr\n",
      "ms\n",
      "mt\n",
      "my\n",
      "na\n",
      "nb\n",
      "nd\n",
      "ne\n",
      "ng\n",
      "nl\n",
      "nn\n",
      "no\n",
      "nr\n",
      "nv\n",
      "ny\n",
      "oc\n",
      "oj\n",
      "om\n",
      "or\n",
      "os\n",
      "pa\n",
      "pi\n",
      "pl\n",
      "ps\n",
      "pt\n",
      "qu\n",
      "rm\n",
      "rn\n",
      "ro\n",
      "ru\n",
      "rw\n",
      "sa\n",
      "sc\n",
      "sd\n",
      "se\n",
      "sg\n",
      "si\n",
      "sk\n",
      "sl\n",
      "sm\n",
      "sn\n",
      "so\n",
      "sq\n",
      "sr\n",
      "ss\n",
      "st\n",
      "su\n",
      "sv\n",
      "sw\n",
      "ta\n",
      "te\n",
      "tg\n",
      "th\n",
      "ti\n",
      "tk\n",
      "tl\n",
      "tn\n",
      "to\n",
      "tr\n",
      "ts\n",
      "tt\n",
      "tw\n",
      "ty\n",
      "ug\n",
      "uk\n",
      "ur\n",
      "uz\n",
      "ve\n",
      "vi\n",
      "vo\n",
      "wa\n",
      "wo\n",
      "xh\n",
      "yi\n",
      "yo\n",
      "za\n",
      "zh\n",
      "zu\n"
     ]
    }
   ],
   "source": [
    "for (String eachLanguage : languages) {\n",
    "\t\t\tSystem.out.println(eachLanguage);\n",
    "\t\t\t\n",
    "\t\t}"
   ]
  },
  {
   "cell_type": "code",
   "execution_count": null,
   "metadata": {},
   "outputs": [],
   "source": []
  },
  {
   "cell_type": "markdown",
   "metadata": {},
   "source": [
    "# Date/Number Formatting"
   ]
  },
  {
   "cell_type": "code",
   "execution_count": 128,
   "metadata": {},
   "outputs": [],
   "source": [
    "import java.text.DateFormat;\n",
    "import java.text.NumberFormat;\n",
    "import java.text.SimpleDateFormat;"
   ]
  },
  {
   "cell_type": "code",
   "execution_count": 129,
   "metadata": {},
   "outputs": [],
   "source": [
    "Date d = new Date();"
   ]
  },
  {
   "cell_type": "code",
   "execution_count": 130,
   "metadata": {},
   "outputs": [],
   "source": [
    "DateFormat usDF = DateFormat.getDateInstance(0, Locale.US);"
   ]
  },
  {
   "cell_type": "code",
   "execution_count": 131,
   "metadata": {},
   "outputs": [
    {
     "data": {
      "text/plain": [
       "Tuesday, May 28, 2024"
      ]
     },
     "execution_count": 131,
     "metadata": {},
     "output_type": "execute_result"
    }
   ],
   "source": [
    "usDF.format(d)"
   ]
  },
  {
   "cell_type": "code",
   "execution_count": 132,
   "metadata": {},
   "outputs": [],
   "source": [
    "DateFormat ukDF = DateFormat.getDateInstance(0, Locale.UK);"
   ]
  },
  {
   "cell_type": "code",
   "execution_count": 133,
   "metadata": {},
   "outputs": [
    {
     "data": {
      "text/plain": [
       "Tuesday, 28 May 2024"
      ]
     },
     "execution_count": 133,
     "metadata": {},
     "output_type": "execute_result"
    }
   ],
   "source": [
    "ukDF.format(d)"
   ]
  },
  {
   "cell_type": "code",
   "execution_count": 134,
   "metadata": {},
   "outputs": [],
   "source": [
    " Locale indiaLocale = new Locale(\"en\", \"IN\");\n",
    " DateFormat indiaDF = DateFormat.getDateInstance(0, indiaLocale);"
   ]
  },
  {
   "cell_type": "code",
   "execution_count": 135,
   "metadata": {},
   "outputs": [
    {
     "data": {
      "text/plain": [
       "Tuesday, 28 May, 2024"
      ]
     },
     "execution_count": 135,
     "metadata": {},
     "output_type": "execute_result"
    }
   ],
   "source": [
    "indiaDF.format(d)"
   ]
  },
  {
   "cell_type": "code",
   "execution_count": 136,
   "metadata": {},
   "outputs": [],
   "source": [
    "DateFormat timeInstance = DateFormat.getTimeInstance();"
   ]
  },
  {
   "cell_type": "code",
   "execution_count": 137,
   "metadata": {},
   "outputs": [
    {
     "data": {
      "text/plain": [
       "1:26:11 PM"
      ]
     },
     "execution_count": 137,
     "metadata": {},
     "output_type": "execute_result"
    }
   ],
   "source": [
    "timeInstance.format(d)"
   ]
  },
  {
   "cell_type": "code",
   "execution_count": 138,
   "metadata": {},
   "outputs": [],
   "source": [
    "DateFormat dateTimeInstance = DateFormat.getDateTimeInstance(0,0);"
   ]
  },
  {
   "cell_type": "code",
   "execution_count": 139,
   "metadata": {},
   "outputs": [
    {
     "data": {
      "text/plain": [
       "Tuesday, May 28, 2024, 1:26:11 PM Eastern Daylight Time"
      ]
     },
     "execution_count": 139,
     "metadata": {},
     "output_type": "execute_result"
    }
   ],
   "source": [
    "dateTimeInstance.format(d)"
   ]
  },
  {
   "cell_type": "code",
   "execution_count": 140,
   "metadata": {},
   "outputs": [],
   "source": [
    "Double d = 1232322.3434;"
   ]
  },
  {
   "cell_type": "code",
   "execution_count": 141,
   "metadata": {},
   "outputs": [],
   "source": [
    "NumberFormat nf = NumberFormat.getInstance();"
   ]
  },
  {
   "cell_type": "code",
   "execution_count": 142,
   "metadata": {},
   "outputs": [],
   "source": [
    "nf.setMinimumFractionDigits(4);\n",
    "nf.setMaximumFractionDigits(3);"
   ]
  },
  {
   "cell_type": "code",
   "execution_count": 143,
   "metadata": {},
   "outputs": [],
   "source": [
    "nf.setMaximumIntegerDigits(4);"
   ]
  },
  {
   "cell_type": "code",
   "execution_count": 144,
   "metadata": {},
   "outputs": [
    {
     "data": {
      "text/plain": [
       "2,322.343"
      ]
     },
     "execution_count": 144,
     "metadata": {},
     "output_type": "execute_result"
    }
   ],
   "source": [
    "nf.format(d)"
   ]
  },
  {
   "cell_type": "code",
   "execution_count": 145,
   "metadata": {},
   "outputs": [],
   "source": [
    "SimpleDateFormat sdf = new SimpleDateFormat(\"dd/M/yyyy hh:mm:ss\");\n",
    "String date = sdf.format(new Date());"
   ]
  },
  {
   "cell_type": "code",
   "execution_count": 146,
   "metadata": {},
   "outputs": [
    {
     "data": {
      "text/plain": [
       "28/5/2024 01:26:12"
      ]
     },
     "execution_count": 146,
     "metadata": {},
     "output_type": "execute_result"
    }
   ],
   "source": [
    "date"
   ]
  },
  {
   "cell_type": "code",
   "execution_count": 147,
   "metadata": {},
   "outputs": [],
   "source": [
    "String dateAsString = \"05-16-2024\";"
   ]
  },
  {
   "cell_type": "code",
   "execution_count": 148,
   "metadata": {},
   "outputs": [],
   "source": [
    "SimpleDateFormat sdf1 = new SimpleDateFormat(\"MM-dd-yyyy\");"
   ]
  },
  {
   "cell_type": "code",
   "execution_count": 149,
   "metadata": {},
   "outputs": [],
   "source": [
    "Date date1 = sdf1.parse(dateAsString);"
   ]
  },
  {
   "cell_type": "code",
   "execution_count": 150,
   "metadata": {},
   "outputs": [
    {
     "data": {
      "text/plain": [
       "Thu May 16 00:00:00 EDT 2024"
      ]
     },
     "execution_count": 150,
     "metadata": {},
     "output_type": "execute_result"
    }
   ],
   "source": [
    "date1"
   ]
  },
  {
   "cell_type": "code",
   "execution_count": 151,
   "metadata": {},
   "outputs": [],
   "source": [
    "NumberFormat format = NumberFormat.getCompactNumberInstance(Locale.US, NumberFormat.Style.LONG);"
   ]
  },
  {
   "cell_type": "code",
   "execution_count": 152,
   "metadata": {},
   "outputs": [
    {
     "data": {
      "text/plain": [
       "1 thousand"
      ]
     },
     "execution_count": 152,
     "metadata": {},
     "output_type": "execute_result"
    }
   ],
   "source": [
    "format.format(1000)"
   ]
  },
  {
   "cell_type": "code",
   "execution_count": 153,
   "metadata": {},
   "outputs": [
    {
     "data": {
      "text/plain": [
       "1 million"
      ]
     },
     "execution_count": 153,
     "metadata": {},
     "output_type": "execute_result"
    }
   ],
   "source": [
    "format.format(1000000)"
   ]
  },
  {
   "cell_type": "code",
   "execution_count": 154,
   "metadata": {},
   "outputs": [],
   "source": [
    "import java.time.Duration;\n",
    "import java.time.LocalDate;\n",
    "import java.time.LocalDateTime;\n",
    "import java.time.LocalTime;\n",
    "import java.time.Period;\n",
    "import java.time.ZoneId;\n",
    "import java.time.ZonedDateTime;\n",
    "import java.time.format.DateTimeFormatter;\n",
    "import java.time.format.FormatStyle;\n",
    "import java.time.temporal.ChronoField;\n",
    "import java.time.temporal.ChronoUnit;"
   ]
  },
  {
   "cell_type": "code",
   "execution_count": 155,
   "metadata": {},
   "outputs": [],
   "source": [
    "LocalDate date1 = LocalDate.of(2024, 1, 1);"
   ]
  },
  {
   "cell_type": "code",
   "execution_count": 156,
   "metadata": {},
   "outputs": [
    {
     "data": {
      "text/plain": [
       "2024-01-01"
      ]
     },
     "execution_count": 156,
     "metadata": {},
     "output_type": "execute_result"
    }
   ],
   "source": [
    "date1"
   ]
  },
  {
   "cell_type": "code",
   "execution_count": 157,
   "metadata": {},
   "outputs": [
    {
     "data": {
      "text/plain": [
       "true"
      ]
     },
     "execution_count": 157,
     "metadata": {},
     "output_type": "execute_result"
    }
   ],
   "source": [
    "date1.isLeapYear()"
   ]
  },
  {
   "cell_type": "code",
   "execution_count": 158,
   "metadata": {},
   "outputs": [
    {
     "data": {
      "text/plain": [
       "2024-01-11"
      ]
     },
     "execution_count": 158,
     "metadata": {},
     "output_type": "execute_result"
    }
   ],
   "source": [
    "date1.plusDays(10)"
   ]
  },
  {
   "cell_type": "code",
   "execution_count": 159,
   "metadata": {},
   "outputs": [],
   "source": [
    "LocalDate date2 = LocalDate.now();"
   ]
  },
  {
   "cell_type": "code",
   "execution_count": 160,
   "metadata": {},
   "outputs": [
    {
     "data": {
      "text/plain": [
       "2024-05-28"
      ]
     },
     "execution_count": 160,
     "metadata": {},
     "output_type": "execute_result"
    }
   ],
   "source": [
    "date2"
   ]
  },
  {
   "cell_type": "code",
   "execution_count": 161,
   "metadata": {},
   "outputs": [
    {
     "data": {
      "text/plain": [
       "2024-05-28T13:26:14.134133800"
      ]
     },
     "execution_count": 161,
     "metadata": {},
     "output_type": "execute_result"
    }
   ],
   "source": [
    "LocalDateTime.now()"
   ]
  },
  {
   "cell_type": "code",
   "execution_count": 162,
   "metadata": {},
   "outputs": [],
   "source": [
    "LocalTime localTime = LocalTime.of(10, 30);"
   ]
  },
  {
   "cell_type": "code",
   "execution_count": 163,
   "metadata": {},
   "outputs": [
    {
     "data": {
      "text/plain": [
       "10:30"
      ]
     },
     "execution_count": 163,
     "metadata": {},
     "output_type": "execute_result"
    }
   ],
   "source": [
    "localTime"
   ]
  },
  {
   "cell_type": "code",
   "execution_count": 164,
   "metadata": {},
   "outputs": [],
   "source": [
    "Period period = Period.ofWeeks(1);"
   ]
  },
  {
   "cell_type": "code",
   "execution_count": 165,
   "metadata": {},
   "outputs": [
    {
     "name": "stdout",
     "output_type": "stream",
     "text": [
      "3\r\n"
     ]
    }
   ],
   "source": [
    "LocalDateTime before = LocalDateTime.now();\n",
    "\t\ttry {\n",
    "\t\t\tThread.sleep(3000);\n",
    "\t\t} catch (InterruptedException e) {\n",
    "\t\t\te.printStackTrace();\n",
    "\t\t}\n",
    "\t\tLocalDateTime after = LocalDateTime.now();\n",
    "\t\tDuration duration = Duration.between(before, after);\n",
    "\t\tSystem.out.println(duration.getSeconds())"
   ]
  },
  {
   "cell_type": "code",
   "execution_count": 166,
   "metadata": {},
   "outputs": [],
   "source": [
    "ZonedDateTime zonedDateTime = ZonedDateTime.of(after, ZoneId.of(\"Asia/Kolkata\"));"
   ]
  },
  {
   "cell_type": "code",
   "execution_count": 167,
   "metadata": {},
   "outputs": [
    {
     "data": {
      "text/plain": [
       "2024-05-28T13:26:17.443744800+05:30[Asia/Kolkata]"
      ]
     },
     "execution_count": 167,
     "metadata": {},
     "output_type": "execute_result"
    }
   ],
   "source": [
    "zonedDateTime"
   ]
  },
  {
   "cell_type": "code",
   "execution_count": 168,
   "metadata": {},
   "outputs": [
    {
     "name": "stdout",
     "output_type": "stream",
     "text": [
      "Asia/Aden\n",
      "America/Cuiaba\n",
      "Etc/GMT+9\n",
      "Etc/GMT+8\n",
      "Africa/Nairobi\n",
      "America/Marigot\n",
      "Asia/Aqtau\n",
      "Pacific/Kwajalein\n",
      "America/El_Salvador\n",
      "Asia/Pontianak\n",
      "Africa/Cairo\n",
      "Pacific/Pago_Pago\n",
      "Africa/Mbabane\n",
      "Asia/Kuching\n",
      "Pacific/Honolulu\n",
      "Pacific/Rarotonga\n",
      "America/Guatemala\n",
      "Australia/Hobart\n",
      "Europe/London\n",
      "America/Belize\n",
      "America/Panama\n",
      "Asia/Chungking\n",
      "America/Managua\n",
      "America/Indiana/Petersburg\n",
      "Asia/Yerevan\n",
      "Europe/Brussels\n",
      "GMT\n",
      "Europe/Warsaw\n",
      "America/Chicago\n",
      "Asia/Kashgar\n",
      "Chile/Continental\n",
      "Pacific/Yap\n",
      "CET\n",
      "Etc/GMT-1\n",
      "Etc/GMT-0\n",
      "Europe/Jersey\n",
      "America/Tegucigalpa\n",
      "Etc/GMT-5\n",
      "Europe/Istanbul\n",
      "America/Eirunepe\n",
      "Etc/GMT-4\n",
      "America/Miquelon\n",
      "Etc/GMT-3\n",
      "Europe/Luxembourg\n",
      "Etc/GMT-2\n",
      "Etc/GMT-9\n",
      "America/Argentina/Catamarca\n",
      "Etc/GMT-8\n",
      "Etc/GMT-7\n",
      "Etc/GMT-6\n",
      "Europe/Zaporozhye\n",
      "Canada/Yukon\n",
      "Canada/Atlantic\n",
      "Atlantic/St_Helena\n",
      "Australia/Tasmania\n",
      "Libya\n",
      "Europe/Guernsey\n",
      "America/Grand_Turk\n",
      "Asia/Samarkand\n",
      "America/Argentina/Cordoba\n",
      "Asia/Phnom_Penh\n",
      "Africa/Kigali\n",
      "Asia/Almaty\n",
      "US/Alaska\n",
      "Asia/Dubai\n",
      "Europe/Isle_of_Man\n",
      "America/Araguaina\n",
      "Cuba\n",
      "Asia/Novosibirsk\n",
      "America/Argentina/Salta\n",
      "Etc/GMT+3\n",
      "Africa/Tunis\n",
      "Etc/GMT+2\n",
      "Etc/GMT+1\n",
      "Pacific/Fakaofo\n",
      "Africa/Tripoli\n",
      "Etc/GMT+0\n",
      "Israel\n",
      "Africa/Banjul\n",
      "Etc/GMT+7\n",
      "Indian/Comoro\n",
      "Etc/GMT+6\n",
      "Etc/GMT+5\n",
      "Etc/GMT+4\n",
      "Pacific/Port_Moresby\n",
      "US/Arizona\n",
      "Antarctica/Syowa\n",
      "Indian/Reunion\n",
      "Pacific/Palau\n",
      "Europe/Kaliningrad\n",
      "America/Montevideo\n",
      "Africa/Windhoek\n",
      "Asia/Karachi\n",
      "Africa/Mogadishu\n",
      "Australia/Perth\n",
      "Brazil/East\n",
      "Etc/GMT\n",
      "Asia/Chita\n",
      "Pacific/Easter\n",
      "Antarctica/Davis\n",
      "Antarctica/McMurdo\n",
      "Asia/Macao\n",
      "America/Manaus\n",
      "Africa/Freetown\n",
      "Europe/Bucharest\n",
      "Asia/Tomsk\n",
      "America/Argentina/Mendoza\n",
      "Asia/Macau\n",
      "Europe/Malta\n",
      "Mexico/BajaSur\n",
      "Pacific/Tahiti\n",
      "Africa/Asmera\n",
      "Europe/Busingen\n",
      "America/Argentina/Rio_Gallegos\n",
      "Africa/Malabo\n",
      "Europe/Skopje\n",
      "America/Catamarca\n",
      "America/Godthab\n",
      "Europe/Sarajevo\n",
      "Australia/ACT\n",
      "GB-Eire\n",
      "Africa/Lagos\n",
      "America/Cordoba\n",
      "Europe/Rome\n",
      "Asia/Dacca\n",
      "Indian/Mauritius\n",
      "Pacific/Samoa\n",
      "America/Regina\n",
      "America/Fort_Wayne\n",
      "America/Dawson_Creek\n",
      "Africa/Algiers\n",
      "Europe/Mariehamn\n",
      "America/St_Johns\n",
      "America/St_Thomas\n",
      "Europe/Zurich\n",
      "America/Anguilla\n",
      "Asia/Dili\n",
      "America/Denver\n",
      "Africa/Bamako\n",
      "Europe/Saratov\n",
      "GB\n",
      "Mexico/General\n",
      "Pacific/Wallis\n",
      "Europe/Gibraltar\n",
      "Africa/Conakry\n",
      "Africa/Lubumbashi\n",
      "Asia/Istanbul\n",
      "America/Havana\n",
      "NZ-CHAT\n",
      "Asia/Choibalsan\n",
      "America/Porto_Acre\n",
      "Asia/Omsk\n",
      "Europe/Vaduz\n",
      "US/Michigan\n",
      "Asia/Dhaka\n",
      "America/Barbados\n",
      "Europe/Tiraspol\n",
      "Atlantic/Cape_Verde\n",
      "Asia/Yekaterinburg\n",
      "America/Louisville\n",
      "Pacific/Johnston\n",
      "Pacific/Chatham\n",
      "Europe/Ljubljana\n",
      "America/Sao_Paulo\n",
      "Asia/Jayapura\n",
      "America/Curacao\n",
      "Asia/Dushanbe\n",
      "America/Guyana\n",
      "America/Guayaquil\n",
      "America/Martinique\n",
      "Portugal\n",
      "Europe/Berlin\n",
      "Europe/Moscow\n",
      "Europe/Chisinau\n",
      "America/Puerto_Rico\n",
      "America/Rankin_Inlet\n",
      "Pacific/Ponape\n",
      "Europe/Stockholm\n",
      "Europe/Budapest\n",
      "America/Argentina/Jujuy\n",
      "Australia/Eucla\n",
      "Asia/Shanghai\n",
      "Universal\n",
      "Europe/Zagreb\n",
      "America/Port_of_Spain\n",
      "Europe/Helsinki\n",
      "Asia/Beirut\n",
      "Asia/Tel_Aviv\n",
      "Pacific/Bougainville\n",
      "US/Central\n",
      "Africa/Sao_Tome\n",
      "Indian/Chagos\n",
      "America/Cayenne\n",
      "Asia/Yakutsk\n",
      "Pacific/Galapagos\n",
      "Australia/North\n",
      "Europe/Paris\n",
      "Africa/Ndjamena\n",
      "Pacific/Fiji\n",
      "America/Rainy_River\n",
      "Indian/Maldives\n",
      "Australia/Yancowinna\n",
      "SystemV/AST4\n",
      "Asia/Oral\n",
      "America/Yellowknife\n",
      "Pacific/Enderbury\n",
      "America/Juneau\n",
      "Australia/Victoria\n",
      "America/Indiana/Vevay\n",
      "Asia/Tashkent\n",
      "Asia/Jakarta\n",
      "Africa/Ceuta\n",
      "Asia/Barnaul\n",
      "America/Recife\n",
      "America/Buenos_Aires\n",
      "America/Noronha\n",
      "America/Swift_Current\n",
      "Australia/Adelaide\n",
      "America/Metlakatla\n",
      "Africa/Djibouti\n",
      "America/Paramaribo\n",
      "Asia/Qostanay\n",
      "Europe/Simferopol\n",
      "Europe/Sofia\n",
      "Africa/Nouakchott\n",
      "Europe/Prague\n",
      "America/Indiana/Vincennes\n",
      "Antarctica/Mawson\n",
      "America/Kralendijk\n",
      "Antarctica/Troll\n",
      "Europe/Samara\n",
      "Indian/Christmas\n",
      "America/Antigua\n",
      "Pacific/Gambier\n",
      "America/Indianapolis\n",
      "America/Inuvik\n",
      "America/Iqaluit\n",
      "Pacific/Funafuti\n",
      "UTC\n",
      "Antarctica/Macquarie\n",
      "Canada/Pacific\n",
      "America/Moncton\n",
      "Africa/Gaborone\n",
      "Pacific/Chuuk\n",
      "Asia/Pyongyang\n",
      "America/St_Vincent\n",
      "Asia/Gaza\n",
      "Etc/Universal\n",
      "PST8PDT\n",
      "Atlantic/Faeroe\n",
      "Asia/Qyzylorda\n",
      "Canada/Newfoundland\n",
      "America/Kentucky/Louisville\n",
      "America/Yakutat\n",
      "America/Ciudad_Juarez\n",
      "Asia/Ho_Chi_Minh\n",
      "Antarctica/Casey\n",
      "Europe/Copenhagen\n",
      "Africa/Asmara\n",
      "Atlantic/Azores\n",
      "Europe/Vienna\n",
      "ROK\n",
      "Pacific/Pitcairn\n",
      "America/Mazatlan\n",
      "Australia/Queensland\n",
      "Pacific/Nauru\n",
      "Europe/Tirane\n",
      "Asia/Kolkata\n",
      "SystemV/MST7\n",
      "Australia/Canberra\n",
      "MET\n",
      "Australia/Broken_Hill\n",
      "Europe/Riga\n",
      "America/Dominica\n",
      "Africa/Abidjan\n",
      "America/Mendoza\n",
      "America/Santarem\n",
      "Kwajalein\n",
      "America/Asuncion\n",
      "Asia/Ulan_Bator\n",
      "NZ\n",
      "America/Boise\n",
      "Australia/Currie\n",
      "EST5EDT\n",
      "Pacific/Guam\n",
      "Pacific/Wake\n",
      "Atlantic/Bermuda\n",
      "America/Costa_Rica\n",
      "America/Dawson\n",
      "Asia/Chongqing\n",
      "Eire\n",
      "Europe/Amsterdam\n",
      "America/Indiana/Knox\n",
      "America/North_Dakota/Beulah\n",
      "Africa/Accra\n",
      "Atlantic/Faroe\n",
      "Mexico/BajaNorte\n",
      "America/Maceio\n",
      "Etc/UCT\n",
      "Pacific/Apia\n",
      "GMT0\n",
      "America/Atka\n",
      "Pacific/Niue\n",
      "Australia/Lord_Howe\n",
      "Europe/Dublin\n",
      "Pacific/Truk\n",
      "MST7MDT\n",
      "America/Monterrey\n",
      "America/Nassau\n",
      "America/Jamaica\n",
      "Asia/Bishkek\n",
      "America/Atikokan\n",
      "Atlantic/Stanley\n",
      "Australia/NSW\n",
      "US/Hawaii\n",
      "SystemV/CST6\n",
      "Indian/Mahe\n",
      "Asia/Aqtobe\n",
      "America/Sitka\n",
      "Asia/Vladivostok\n",
      "Africa/Libreville\n",
      "Africa/Maputo\n",
      "Zulu\n",
      "America/Kentucky/Monticello\n",
      "Africa/El_Aaiun\n",
      "Africa/Ouagadougou\n",
      "America/Coral_Harbour\n",
      "Pacific/Marquesas\n",
      "Brazil/West\n",
      "America/Aruba\n",
      "America/North_Dakota/Center\n",
      "America/Cayman\n",
      "Asia/Ulaanbaatar\n",
      "Asia/Baghdad\n",
      "Europe/San_Marino\n",
      "America/Indiana/Tell_City\n",
      "America/Tijuana\n",
      "Pacific/Saipan\n",
      "SystemV/YST9\n",
      "Africa/Douala\n",
      "America/Chihuahua\n",
      "America/Ojinaga\n",
      "Asia/Hovd\n",
      "America/Anchorage\n",
      "Chile/EasterIsland\n",
      "America/Halifax\n",
      "Antarctica/Rothera\n",
      "America/Indiana/Indianapolis\n",
      "US/Mountain\n",
      "Asia/Damascus\n",
      "America/Argentina/San_Luis\n",
      "America/Santiago\n",
      "Asia/Baku\n",
      "America/Argentina/Ushuaia\n",
      "Atlantic/Reykjavik\n",
      "Africa/Brazzaville\n",
      "Africa/Porto-Novo\n",
      "America/La_Paz\n",
      "Antarctica/DumontDUrville\n",
      "Asia/Taipei\n",
      "Antarctica/South_Pole\n",
      "Asia/Manila\n",
      "Asia/Bangkok\n",
      "Africa/Dar_es_Salaam\n",
      "Poland\n",
      "Atlantic/Madeira\n",
      "Antarctica/Palmer\n",
      "America/Thunder_Bay\n",
      "Africa/Addis_Ababa\n",
      "Asia/Yangon\n",
      "Europe/Uzhgorod\n",
      "Brazil/DeNoronha\n",
      "Asia/Ashkhabad\n",
      "Etc/Zulu\n",
      "America/Indiana/Marengo\n",
      "America/Creston\n",
      "America/Punta_Arenas\n",
      "America/Mexico_City\n",
      "Antarctica/Vostok\n",
      "Asia/Jerusalem\n",
      "Europe/Andorra\n",
      "US/Samoa\n",
      "PRC\n",
      "Asia/Vientiane\n",
      "Pacific/Kiritimati\n",
      "America/Matamoros\n",
      "America/Blanc-Sablon\n",
      "Asia/Riyadh\n",
      "Iceland\n",
      "Pacific/Pohnpei\n",
      "Asia/Ujung_Pandang\n",
      "Atlantic/South_Georgia\n",
      "Europe/Lisbon\n",
      "Asia/Harbin\n",
      "Europe/Oslo\n",
      "Asia/Novokuznetsk\n",
      "CST6CDT\n",
      "Atlantic/Canary\n",
      "America/Knox_IN\n",
      "Asia/Kuwait\n",
      "SystemV/HST10\n",
      "Pacific/Efate\n",
      "Africa/Lome\n",
      "America/Bogota\n",
      "America/Menominee\n",
      "America/Adak\n",
      "Pacific/Norfolk\n",
      "Europe/Kirov\n",
      "America/Resolute\n",
      "Pacific/Kanton\n",
      "Pacific/Tarawa\n",
      "Africa/Kampala\n",
      "Asia/Krasnoyarsk\n",
      "Greenwich\n",
      "SystemV/EST5\n",
      "America/Edmonton\n",
      "Europe/Podgorica\n",
      "Australia/South\n",
      "Canada/Central\n",
      "Africa/Bujumbura\n",
      "America/Santo_Domingo\n",
      "US/Eastern\n",
      "Europe/Minsk\n",
      "Pacific/Auckland\n",
      "Africa/Casablanca\n",
      "America/Glace_Bay\n",
      "Canada/Eastern\n",
      "Asia/Qatar\n",
      "Europe/Kiev\n",
      "Singapore\n",
      "Asia/Magadan\n",
      "SystemV/PST8\n",
      "America/Port-au-Prince\n",
      "Europe/Belfast\n",
      "America/St_Barthelemy\n",
      "Asia/Ashgabat\n",
      "Africa/Luanda\n",
      "America/Nipigon\n",
      "Atlantic/Jan_Mayen\n",
      "Brazil/Acre\n",
      "Asia/Muscat\n",
      "Asia/Bahrain\n",
      "Europe/Vilnius\n",
      "America/Fortaleza\n",
      "Etc/GMT0\n",
      "US/East-Indiana\n",
      "America/Hermosillo\n",
      "America/Cancun\n",
      "Africa/Maseru\n",
      "Pacific/Kosrae\n",
      "Africa/Kinshasa\n",
      "Asia/Kathmandu\n",
      "Asia/Seoul\n",
      "Australia/Sydney\n",
      "America/Lima\n",
      "Australia/LHI\n",
      "America/St_Lucia\n",
      "Europe/Madrid\n",
      "America/Bahia_Banderas\n",
      "America/Montserrat\n",
      "Asia/Brunei\n",
      "America/Santa_Isabel\n",
      "Canada/Mountain\n",
      "America/Cambridge_Bay\n",
      "Asia/Colombo\n",
      "Australia/West\n",
      "Indian/Antananarivo\n",
      "Australia/Brisbane\n",
      "Indian/Mayotte\n",
      "US/Indiana-Starke\n",
      "Asia/Urumqi\n",
      "US/Aleutian\n",
      "Europe/Volgograd\n",
      "America/Lower_Princes\n",
      "America/Vancouver\n",
      "Africa/Blantyre\n",
      "America/Rio_Branco\n",
      "America/Danmarkshavn\n",
      "America/Detroit\n",
      "America/Thule\n",
      "Africa/Lusaka\n",
      "Asia/Hong_Kong\n",
      "Iran\n",
      "America/Argentina/La_Rioja\n",
      "Africa/Dakar\n",
      "SystemV/CST6CDT\n",
      "America/Tortola\n",
      "America/Porto_Velho\n",
      "Asia/Sakhalin\n",
      "Etc/GMT+10\n",
      "America/Scoresbysund\n",
      "Asia/Kamchatka\n",
      "Asia/Thimbu\n",
      "Africa/Harare\n",
      "Etc/GMT+12\n",
      "Etc/GMT+11\n",
      "Navajo\n",
      "America/Nome\n",
      "Europe/Tallinn\n",
      "Turkey\n",
      "Africa/Khartoum\n",
      "Africa/Johannesburg\n",
      "Africa/Bangui\n",
      "Europe/Belgrade\n",
      "Jamaica\n",
      "Africa/Bissau\n",
      "Asia/Tehran\n",
      "WET\n",
      "Europe/Astrakhan\n",
      "Africa/Juba\n",
      "America/Campo_Grande\n",
      "America/Belem\n",
      "Etc/Greenwich\n",
      "Asia/Saigon\n",
      "America/Ensenada\n",
      "Pacific/Midway\n",
      "America/Jujuy\n",
      "Africa/Timbuktu\n",
      "America/Bahia\n",
      "America/Goose_Bay\n",
      "America/Virgin\n",
      "America/Pangnirtung\n",
      "Asia/Katmandu\n",
      "America/Phoenix\n",
      "Africa/Niamey\n",
      "America/Whitehorse\n",
      "Pacific/Noumea\n",
      "Asia/Tbilisi\n",
      "Europe/Kyiv\n",
      "America/Montreal\n",
      "Asia/Makassar\n",
      "America/Argentina/San_Juan\n",
      "Hongkong\n",
      "UCT\n",
      "Asia/Nicosia\n",
      "America/Indiana/Winamac\n"
     ]
    },
    {
     "name": "stdout",
     "output_type": "stream",
     "text": [
      "SystemV/MST7MDT\n",
      "America/Argentina/ComodRivadavia\n",
      "America/Boa_Vista\n",
      "America/Grenada\n",
      "Asia/Atyrau\n",
      "Australia/Darwin\n",
      "Asia/Khandyga\n",
      "Asia/Kuala_Lumpur\n",
      "Asia/Famagusta\n",
      "Asia/Thimphu\n",
      "Asia/Rangoon\n",
      "Europe/Bratislava\n",
      "Asia/Calcutta\n",
      "America/Argentina/Tucuman\n",
      "Asia/Kabul\n",
      "Indian/Cocos\n",
      "Japan\n",
      "Pacific/Tongatapu\n",
      "America/New_York\n",
      "Etc/GMT-12\n",
      "Etc/GMT-11\n",
      "America/Nuuk\n",
      "Etc/GMT-10\n",
      "SystemV/YST9YDT\n",
      "Europe/Ulyanovsk\n",
      "Etc/GMT-14\n",
      "Etc/GMT-13\n",
      "W-SU\n",
      "America/Merida\n",
      "EET\n",
      "America/Rosario\n",
      "Canada/Saskatchewan\n",
      "America/St_Kitts\n",
      "Arctic/Longyearbyen\n",
      "America/Fort_Nelson\n",
      "America/Caracas\n",
      "America/Guadeloupe\n",
      "Asia/Hebron\n",
      "Indian/Kerguelen\n",
      "SystemV/PST8PDT\n",
      "Africa/Monrovia\n",
      "Asia/Ust-Nera\n",
      "Egypt\n",
      "Asia/Srednekolymsk\n",
      "America/North_Dakota/New_Salem\n",
      "Asia/Anadyr\n",
      "Australia/Melbourne\n",
      "Asia/Irkutsk\n",
      "America/Shiprock\n",
      "America/Winnipeg\n",
      "Europe/Vatican\n",
      "Asia/Amman\n",
      "Etc/UTC\n",
      "SystemV/AST4ADT\n",
      "Asia/Tokyo\n",
      "America/Toronto\n",
      "Asia/Singapore\n",
      "Australia/Lindeman\n",
      "America/Los_Angeles\n",
      "SystemV/EST5EDT\n",
      "Pacific/Majuro\n",
      "America/Argentina/Buenos_Aires\n",
      "Europe/Nicosia\n",
      "Pacific/Guadalcanal\n",
      "Europe/Athens\n",
      "US/Pacific\n",
      "Europe/Monaco\n"
     ]
    }
   ],
   "source": [
    "Set<String> availableZoneIdSet = ZoneId.getAvailableZoneIds();\n",
    "\t\tavailableZoneIdSet.stream().forEach(System.out::println);"
   ]
  },
  {
   "cell_type": "code",
   "execution_count": 169,
   "metadata": {},
   "outputs": [
    {
     "name": "stdout",
     "output_type": "stream",
     "text": [
      "Tuesday, January 1, 2019\r\n"
     ]
    }
   ],
   "source": [
    "LocalDateTime date = LocalDateTime.of(2019, 1, 1, 10, 10);\n",
    "\t\tDateTimeFormatter formatter = DateTimeFormatter.ofLocalizedDate(FormatStyle.FULL);\n",
    "\t\tSystem.out.println(formatter.format(date));"
   ]
  },
  {
   "cell_type": "code",
   "execution_count": 170,
   "metadata": {},
   "outputs": [
    {
     "name": "stdout",
     "output_type": "stream",
     "text": [
      "true\r\n"
     ]
    }
   ],
   "source": [
    "LocalTime t1 = LocalTime.parse(\"11:03:15.987\");\n",
    "System.out.println(t1.plus(22, ChronoUnit.HOURS).equals(t1.plusHours(22)));"
   ]
  },
  {
   "cell_type": "code",
   "execution_count": 171,
   "metadata": {},
   "outputs": [
    {
     "data": {
      "text/plain": [
       "11:03:15.987"
      ]
     },
     "execution_count": 171,
     "metadata": {},
     "output_type": "execute_result"
    }
   ],
   "source": [
    "t1"
   ]
  },
  {
   "cell_type": "code",
   "execution_count": 172,
   "metadata": {},
   "outputs": [],
   "source": [
    "LocalDate dateEpoch = LocalDate.ofEpochDay(0);"
   ]
  },
  {
   "cell_type": "code",
   "execution_count": 173,
   "metadata": {},
   "outputs": [
    {
     "data": {
      "text/plain": [
       "1970-01-01"
      ]
     },
     "execution_count": 173,
     "metadata": {},
     "output_type": "execute_result"
    }
   ],
   "source": [
    "dateEpoch"
   ]
  },
  {
   "cell_type": "code",
   "execution_count": 174,
   "metadata": {},
   "outputs": [],
   "source": [
    "LocalTime time1 = LocalTime.now();"
   ]
  },
  {
   "cell_type": "code",
   "execution_count": 175,
   "metadata": {},
   "outputs": [
    {
     "data": {
      "text/plain": [
       "13:26:18.313929800"
      ]
     },
     "execution_count": 175,
     "metadata": {},
     "output_type": "execute_result"
    }
   ],
   "source": [
    "time1"
   ]
  },
  {
   "cell_type": "markdown",
   "metadata": {},
   "source": [
    "# record"
   ]
  },
  {
   "cell_type": "code",
   "execution_count": 176,
   "metadata": {},
   "outputs": [],
   "source": [
    "// Define a record\n",
    "public record Person(String firstName, String lastName, int age) {\n",
    "\n",
    "}"
   ]
  },
  {
   "cell_type": "code",
   "execution_count": 177,
   "metadata": {},
   "outputs": [],
   "source": [
    " Person person = new Person(\"John\", \"Doe\", 30);"
   ]
  },
  {
   "cell_type": "code",
   "execution_count": 178,
   "metadata": {},
   "outputs": [
    {
     "data": {
      "text/plain": [
       "John"
      ]
     },
     "execution_count": 178,
     "metadata": {},
     "output_type": "execute_result"
    }
   ],
   "source": [
    " person.firstName()"
   ]
  },
  {
   "cell_type": "code",
   "execution_count": 179,
   "metadata": {},
   "outputs": [
    {
     "data": {
      "text/plain": [
       "30"
      ]
     },
     "execution_count": 179,
     "metadata": {},
     "output_type": "execute_result"
    }
   ],
   "source": [
    "person.age()"
   ]
  },
  {
   "cell_type": "code",
   "execution_count": 180,
   "metadata": {},
   "outputs": [
    {
     "data": {
      "text/plain": [
       "Person[firstName=John, lastName=Doe, age=30]"
      ]
     },
     "execution_count": 180,
     "metadata": {},
     "output_type": "execute_result"
    }
   ],
   "source": [
    "person"
   ]
  },
  {
   "cell_type": "markdown",
   "metadata": {},
   "source": [
    "# SafeVarargs"
   ]
  },
  {
   "cell_type": "code",
   "execution_count": 181,
   "metadata": {},
   "outputs": [],
   "source": [
    "// commenting below annotation will give a warning\n",
    "\t@SafeVarargs\n",
    "\tprivate final void print(List<String>... topics) {\n",
    "\t\tObject[] objArray = topics;\n",
    "\t\t// below line will cause runtime exception\n",
    "\t\t// objArray[0] = List.of(1, 2);\n",
    "\t\tobjArray[0] = List.of(\"1\", \"2\");\n",
    "\n",
    "\t\tfor (List<String> topic : topics) {\n",
    "\t\t\tfor (String str : topic) {\n",
    "\t\t\t\tSystem.out.print(str + \"\t\");\n",
    "\t\t\t}\n",
    "\t\t\tSystem.out.println();\n",
    "\t\t}\n",
    "\t}"
   ]
  },
  {
   "cell_type": "code",
   "execution_count": 182,
   "metadata": {},
   "outputs": [
    {
     "data": {
      "text/plain": [
       "true"
      ]
     },
     "execution_count": 182,
     "metadata": {},
     "output_type": "execute_result"
    }
   ],
   "source": [
    "List<String> list = new ArrayList<>();\n",
    "\t\tlist.add(\"OOPS\");\n",
    "\t\tlist.add(\"COLLECTION\");\n",
    "\t\tList<String> list1 = new ArrayList<>();\n",
    "\t\tlist1.add(\"str1\");\n",
    "\t\tlist1.add(\"str2\");"
   ]
  },
  {
   "cell_type": "code",
   "execution_count": 183,
   "metadata": {},
   "outputs": [
    {
     "name": "stdout",
     "output_type": "stream",
     "text": [
      "1\t2\t\n",
      "str1\tstr2\t\n"
     ]
    }
   ],
   "source": [
    "print(list, list1);"
   ]
  },
  {
   "cell_type": "markdown",
   "metadata": {},
   "source": [
    "# Threads"
   ]
  },
  {
   "cell_type": "code",
   "execution_count": 184,
   "metadata": {},
   "outputs": [],
   "source": [
    "int sum = 0;"
   ]
  },
  {
   "cell_type": "code",
   "execution_count": 185,
   "metadata": {},
   "outputs": [],
   "source": [
    "class Thread1 implements Runnable {\n",
    "\n",
    "    @Override\n",
    "    public void run() {\n",
    "        System.out.println(\"Inside run of Thread1\");\n",
    "    }\n",
    "\n",
    "}"
   ]
  },
  {
   "cell_type": "code",
   "execution_count": 186,
   "metadata": {},
   "outputs": [],
   "source": [
    "Thread t = new Thread(new Thread1());"
   ]
  },
  {
   "cell_type": "code",
   "execution_count": 619,
   "metadata": {},
   "outputs": [
    {
     "ename": "EvalException",
     "evalue": "null",
     "output_type": "error",
     "traceback": [
      "\u001b[1m\u001b[31m---------------------------------------------------------------------------\u001b[0m",
      "\u001b[1m\u001b[31mjava.lang.IllegalThreadStateException: null\u001b[0m",
      "\u001b[1m\u001b[31m\tat java.base/java.lang.Thread.start(Thread.java:1525)\u001b[0m",
      "\u001b[1m\u001b[31m\tat .(#718:1)\u001b[0m"
     ]
    }
   ],
   "source": [
    "t.start()"
   ]
  },
  {
   "cell_type": "code",
   "execution_count": 620,
   "metadata": {},
   "outputs": [
    {
     "data": {
      "text/plain": [
       "false"
      ]
     },
     "execution_count": 620,
     "metadata": {},
     "output_type": "execute_result"
    }
   ],
   "source": [
    "Thread.currentThread().isDaemon()"
   ]
  },
  {
   "cell_type": "markdown",
   "metadata": {},
   "source": [
    "# ForkJoinPool and RecursiveTask"
   ]
  },
  {
   "cell_type": "code",
   "execution_count": 188,
   "metadata": {},
   "outputs": [],
   "source": [
    "   static class SumTask extends RecursiveTask<Integer> {\n",
    "\t        private final int[] array;\n",
    "\t        private final int start;\n",
    "\t        private final int end;\n",
    "\t        private static final int THRESHOLD = 2;\n",
    "\n",
    "\t        SumTask(int[] array, int start, int end) {\n",
    "\t            this.array = array;\n",
    "\t            this.start = start;\n",
    "\t            this.end = end;\n",
    "\t        }\n",
    "\n",
    "\t        @Override\n",
    "\t        protected Integer compute() {\n",
    "\t            if (end - start <= THRESHOLD) {\n",
    "\t                int sum = 0;\n",
    "\t                for (int i = start; i < end; i++) {\n",
    "\t                    sum += array[i];\n",
    "\t                }\n",
    "\t                return sum;\n",
    "\t            } else {\n",
    "                    int mid = (start + end) / 2;\n",
    "\t                SumTask leftTask = new SumTask(array, start, mid);\n",
    "\t                SumTask rightTask = new SumTask(array, mid, end);\n",
    "                    System.out.println(\"start: \" +start+\" End: \"+end+\" Mid: \"+mid);\n",
    "\t                leftTask.fork();\n",
    "\t                int rightResult = rightTask.compute();\n",
    "\t                int leftResult = leftTask.join();\n",
    "\t                return leftResult + rightResult;\n",
    "\t            }\n",
    "\t        }\n",
    "\t    }"
   ]
  },
  {
   "cell_type": "code",
   "execution_count": 189,
   "metadata": {},
   "outputs": [],
   "source": [
    " ForkJoinPool forkJoinPool = new ForkJoinPool();"
   ]
  },
  {
   "cell_type": "code",
   "execution_count": 190,
   "metadata": {},
   "outputs": [],
   "source": [
    "int[] array = {1, 2, 3, 4, 5, 6, 7, 8, 9, 10};"
   ]
  },
  {
   "cell_type": "code",
   "execution_count": 191,
   "metadata": {},
   "outputs": [],
   "source": [
    "SumTask task = new SumTask(array, 0, array.length);"
   ]
  },
  {
   "cell_type": "code",
   "execution_count": 192,
   "metadata": {},
   "outputs": [
    {
     "name": "stdout",
     "output_type": "stream",
     "text": [
      "start: 0 End: 10 Mid: 5\n",
      "start: 5 End: 10 Mid: 7\n",
      "start: 7 End: 10 Mid: 8\n",
      "start: 0 End: 5 Mid: 2\n",
      "start: 2 End: 5 Mid: 3\n"
     ]
    }
   ],
   "source": [
    "Integer result = forkJoinPool.invoke(task);"
   ]
  },
  {
   "cell_type": "code",
   "execution_count": 193,
   "metadata": {},
   "outputs": [
    {
     "name": "stdout",
     "output_type": "stream",
     "text": [
      "Sum: 55\r\n"
     ]
    }
   ],
   "source": [
    "System.out.println(\"Sum: \" + result);"
   ]
  },
  {
   "cell_type": "markdown",
   "metadata": {},
   "source": [
    "## ReentrantReadWriteLock"
   ]
  },
  {
   "cell_type": "code",
   "execution_count": 194,
   "metadata": {},
   "outputs": [],
   "source": [
    "import java.util.concurrent.locks.ReentrantReadWriteLock;"
   ]
  },
  {
   "cell_type": "code",
   "execution_count": 195,
   "metadata": {},
   "outputs": [],
   "source": [
    "List<Integer> integers = new ArrayList<>();\n",
    "ReentrantReadWriteLock rwl = new ReentrantReadWriteLock()"
   ]
  },
  {
   "cell_type": "code",
   "execution_count": 196,
   "metadata": {},
   "outputs": [],
   "source": [
    "public void addUsingReentrantReadWriteLock(Integer i) {\n",
    "\t\trwl.writeLock().lock(); // one at a time\n",
    "\t\ttry {\n",
    "\t\t\tintegers.add(i);\n",
    "\t\t} finally {\n",
    "\t\t\trwl.writeLock().unlock();\n",
    "\t\t}\n",
    "\t}"
   ]
  },
  {
   "cell_type": "code",
   "execution_count": 197,
   "metadata": {},
   "outputs": [],
   "source": [
    "public int findMaxUsingReentrantReadWriteLock() {\n",
    "\t\trwl.readLock().lock();\n",
    "\t\t// many at once\n",
    "\t\ttry {\n",
    "\t\t\treturn Collections.max(integers);\n",
    "\t\t} finally {\n",
    "\t\t\trwl.readLock().unlock();\n",
    "\t\t}\n",
    "\t}"
   ]
  },
  {
   "cell_type": "code",
   "execution_count": 198,
   "metadata": {},
   "outputs": [],
   "source": [
    "// Only one thread takes aritelock\n",
    "addUsingReentrantReadWriteLock(10)"
   ]
  },
  {
   "cell_type": "code",
   "execution_count": 199,
   "metadata": {},
   "outputs": [
    {
     "data": {
      "text/plain": [
       "10"
      ]
     },
     "execution_count": 199,
     "metadata": {},
     "output_type": "execute_result"
    }
   ],
   "source": [
    "// Many thread can take read lock if no thread holds write lock. If write is locked, no threads can take read lock\n",
    "findMaxUsingReentrantReadWriteLock()"
   ]
  },
  {
   "cell_type": "code",
   "execution_count": null,
   "metadata": {},
   "outputs": [],
   "source": []
  },
  {
   "cell_type": "markdown",
   "metadata": {},
   "source": [
    "# ExecutorService"
   ]
  },
  {
   "cell_type": "code",
   "execution_count": 200,
   "metadata": {},
   "outputs": [],
   "source": [
    "class MyCallable implements Callable<String> {\n",
    "\t@Override\n",
    "\tpublic String call() {\n",
    "        System.out.println(\"Inside call of MyCallable\");\n",
    "\treturn \"MyCallable::call()return value\";\n",
    "\t}\n",
    "}"
   ]
  },
  {
   "cell_type": "code",
   "execution_count": 201,
   "metadata": {},
   "outputs": [],
   "source": [
    "Callable<String> c = new MyCallable();"
   ]
  },
  {
   "cell_type": "code",
   "execution_count": 202,
   "metadata": {},
   "outputs": [],
   "source": [
    "ExecutorService ex = Executors.newCachedThreadPool();"
   ]
  },
  {
   "cell_type": "code",
   "execution_count": 203,
   "metadata": {},
   "outputs": [],
   "source": [
    "Future<String> f = ex.submit(c); "
   ]
  },
  {
   "cell_type": "code",
   "execution_count": 204,
   "metadata": {},
   "outputs": [],
   "source": [
    "String v = f.get();"
   ]
  },
  {
   "cell_type": "code",
   "execution_count": 205,
   "metadata": {},
   "outputs": [
    {
     "name": "stdout",
     "output_type": "stream",
     "text": [
      "Ran:MyCallable::call()return value\r\n"
     ]
    }
   ],
   "source": [
    "System.out.println(\"Ran:\" + v);"
   ]
  },
  {
   "cell_type": "markdown",
   "metadata": {},
   "source": [
    "# HttpClient"
   ]
  },
  {
   "cell_type": "code",
   "execution_count": 206,
   "metadata": {},
   "outputs": [],
   "source": [
    "import java.net.URI;\n",
    "import java.net.http.HttpClient;\n",
    "import java.net.http.HttpRequest;\n",
    "import java.net.http.HttpResponse;"
   ]
  },
  {
   "cell_type": "code",
   "execution_count": 207,
   "metadata": {},
   "outputs": [],
   "source": [
    "HttpClient client = HttpClient.newHttpClient();"
   ]
  },
  {
   "cell_type": "code",
   "execution_count": 208,
   "metadata": {},
   "outputs": [],
   "source": [
    "HttpRequest request = HttpRequest.newBuilder().uri(new URI(\"https://jsonplaceholder.typicode.com/posts/1\"))\n",
    "\t\t\t\t\t.GET().build();"
   ]
  },
  {
   "cell_type": "code",
   "execution_count": 209,
   "metadata": {},
   "outputs": [],
   "source": [
    "HttpResponse<String> response = client.send(request, HttpResponse.BodyHandlers.ofString());"
   ]
  },
  {
   "cell_type": "code",
   "execution_count": 210,
   "metadata": {},
   "outputs": [
    {
     "data": {
      "text/plain": [
       "200"
      ]
     },
     "execution_count": 210,
     "metadata": {},
     "output_type": "execute_result"
    }
   ],
   "source": [
    "response.statusCode()"
   ]
  },
  {
   "cell_type": "code",
   "execution_count": 211,
   "metadata": {},
   "outputs": [
    {
     "data": {
      "text/plain": [
       "{\n",
       "  \"userId\": 1,\n",
       "  \"id\": 1,\n",
       "  \"title\": \"sunt aut facere repellat provident occaecati excepturi optio reprehenderit\",\n",
       "  \"body\": \"quia et suscipit\\nsuscipit recusandae consequuntur expedita et cum\\nreprehenderit molestiae ut ut quas totam\\nnostrum rerum est autem sunt rem eveniet architecto\"\n",
       "}"
      ]
     },
     "execution_count": 211,
     "metadata": {},
     "output_type": "execute_result"
    }
   ],
   "source": [
    "response.body()"
   ]
  },
  {
   "cell_type": "code",
   "execution_count": null,
   "metadata": {},
   "outputs": [],
   "source": []
  },
  {
   "cell_type": "markdown",
   "metadata": {},
   "source": [
    "# Garbage Collection"
   ]
  },
  {
   "cell_type": "code",
   "execution_count": 212,
   "metadata": {},
   "outputs": [],
   "source": [
    "public class GCDemo {\n",
    "\n",
    "\tint objId;\n",
    "\n",
    "\tGCDemo(int objId) {\n",
    "\t\tthis.objId = objId;\n",
    "\t\tSystem.out.println(\"Created \" + this.objId);\n",
    "\t}\n",
    "\n",
    "\t@Override\n",
    "\tprotected void finalize() {\n",
    "\t\tSystem.out.println(\"Finalized \" + objId);\n",
    "\t}\n",
    "}\n"
   ]
  },
  {
   "cell_type": "code",
   "execution_count": 213,
   "metadata": {},
   "outputs": [
    {
     "name": "stdout",
     "output_type": "stream",
     "text": [
      "Created 1\n",
      "Created 2\n"
     ]
    },
    {
     "data": {
      "text/plain": [
       "REPL.$JShell$256$GCDemo@613bdfa9"
      ]
     },
     "execution_count": 213,
     "metadata": {},
     "output_type": "execute_result"
    }
   ],
   "source": [
    "new GCDemo(1);\n",
    "\t\tnew GCDemo(2);"
   ]
  },
  {
   "cell_type": "code",
   "execution_count": 214,
   "metadata": {},
   "outputs": [],
   "source": [
    "for (int i = 1; i <= 100; i++) {\n",
    "\t\t\tSystem.gc();\n",
    "\t\t}"
   ]
  },
  {
   "cell_type": "markdown",
   "metadata": {},
   "source": [
    "# Inner Classes"
   ]
  },
  {
   "cell_type": "code",
   "execution_count": 215,
   "metadata": {},
   "outputs": [],
   "source": [
    "// Anonymous Inner class\n",
    "Thread t = new Thread(new Runnable() {\n",
    "\n",
    "\t\t\t@Override\n",
    "\t\t\tpublic void run() {\n",
    "\t\t\t\tSystem.out.println(\"Anonymous Runnable Demo Implementation\");\n",
    "\n",
    "\t\t\t}\n",
    "\n",
    "\t\t});"
   ]
  },
  {
   "cell_type": "code",
   "execution_count": 216,
   "metadata": {},
   "outputs": [],
   "source": [
    "\t\tt.start();"
   ]
  },
  {
   "cell_type": "code",
   "execution_count": 217,
   "metadata": {},
   "outputs": [],
   "source": [
    "// Static inner class\n",
    "public class Outer {\n",
    "\n",
    "    private static int x = 50;\n",
    "\tprivate int y;\n",
    "\n",
    "\tOuter(int y) {\n",
    "\t\tthis.y = y;\n",
    "\t}\n",
    "\n",
    "    // Static inner class\n",
    "\tstatic class StaticInner {\n",
    "\n",
    "\t\tstatic void f2() {\n",
    "\t\t\tSystem.out.println(\"Inners Static Method\");\n",
    "\t\t}\n",
    "\n",
    "\t\tvoid f3() {\n",
    "\t\t\tSystem.out.println(\"Non Static Method Inside the Inner class\");\n",
    "            \n",
    "            // method local inner class\n",
    "            class MethodLocalInnerClass {\n",
    "                private void methodLocalInnerMethod1() {\n",
    "\t\t\t\tSystem.out.println(\"inside methodLocalInnerMethod1: #######\");\t\t\t\t\n",
    "\t\t\t}\n",
    "\t\t}\n",
    "        \n",
    "        // involing method local inner class    \n",
    "        MethodLocalInnerClass methodLocalInnerClass = new MethodLocalInnerClass();\n",
    "\t\tmethodLocalInnerClass.methodLocalInnerMethod1();\n",
    "            \n",
    "\t\t}\n",
    "\n",
    "\t}\n",
    "    \n",
    "    // non static inner class\n",
    "    class Inner {\n",
    "\t\tpublic int y;\n",
    "\n",
    "\t\tInner(int y) {\n",
    "\t\t\tthis.y = y;\n",
    "\t\t}\n",
    "\n",
    "\t\tpublic void f2() {\n",
    "\n",
    "\t\t\tSystem.out.println(\"Outer Classes X \" + Outer.x);\n",
    "\t\t\tSystem.out.println(\"Outer Classes Y \" + Outer.this.y);\n",
    "\t\t\tSystem.out.println(\"Inner Classes Y \" + this.y);\n",
    "\t\t}\n",
    "\t}\n",
    "    \n",
    " }"
   ]
  },
  {
   "cell_type": "code",
   "execution_count": 218,
   "metadata": {},
   "outputs": [
    {
     "name": "stdout",
     "output_type": "stream",
     "text": [
      "Inners Static Method\r\n"
     ]
    }
   ],
   "source": [
    "// Invoke static inner classs-static method\n",
    "Outer.StaticInner.f2()"
   ]
  },
  {
   "cell_type": "code",
   "execution_count": 219,
   "metadata": {},
   "outputs": [
    {
     "name": "stdout",
     "output_type": "stream",
     "text": [
      "Non Static Method Inside the Inner class\n",
      "inside methodLocalInnerMethod1: #######\n"
     ]
    }
   ],
   "source": [
    "// Invoke static inner classs-non static method\n",
    "Outer.StaticInner inner = new Outer.StaticInner();\n",
    "inner.f3()"
   ]
  },
  {
   "cell_type": "code",
   "execution_count": 220,
   "metadata": {},
   "outputs": [],
   "source": [
    "Outer outer = new Outer(80);"
   ]
  },
  {
   "cell_type": "code",
   "execution_count": 221,
   "metadata": {},
   "outputs": [],
   "source": [
    "Outer.Inner inner = outer.new Inner(30);"
   ]
  },
  {
   "cell_type": "code",
   "execution_count": 222,
   "metadata": {},
   "outputs": [
    {
     "name": "stdout",
     "output_type": "stream",
     "text": [
      "Outer Classes X 50\n",
      "Outer Classes Y 80\n",
      "Inner Classes Y 30\n"
     ]
    }
   ],
   "source": [
    "inner.f2();"
   ]
  },
  {
   "cell_type": "code",
   "execution_count": 223,
   "metadata": {},
   "outputs": [
    {
     "name": "stdout",
     "output_type": "stream",
     "text": [
      "30\r\n"
     ]
    }
   ],
   "source": [
    "System.out.println(inner.y);"
   ]
  },
  {
   "cell_type": "markdown",
   "metadata": {},
   "source": [
    "# Serialization"
   ]
  },
  {
   "cell_type": "code",
   "execution_count": 224,
   "metadata": {},
   "outputs": [],
   "source": [
    "import java.io.Serializable;\n",
    "\n",
    "public class Employee implements Serializable {\n",
    "\n",
    "\tprivate static final long serialVersionUID = 2L;\n",
    "    String name;\n",
    "\ttransient int ssn;\n",
    "\n",
    "\tEmployee(String name, int ssn) {\n",
    "\t\tthis.name = name;\n",
    "\t\tthis.ssn = ssn;\n",
    "\t}\n",
    "\n",
    "}"
   ]
  },
  {
   "cell_type": "code",
   "execution_count": 225,
   "metadata": {},
   "outputs": [
    {
     "name": "stdout",
     "output_type": "stream",
     "text": [
      "Employee Object Serialized\r\n"
     ]
    }
   ],
   "source": [
    "FileOutputStream fos;\n",
    "\t\tObjectOutputStream oos;\n",
    "\n",
    "\t\ttry {\n",
    "\t\t\tfos = new FileOutputStream(\"io/Emp.ser\");\n",
    "\t\t\toos = new ObjectOutputStream(fos);\n",
    "\n",
    "\t\t\tEmployee emp = new Employee(\"John\", 12345);\n",
    "\t\t\toos.writeObject(emp);\n",
    "\t\t\tSystem.out.println(\"Employee Object Serialized\");\n",
    "\n",
    "\t\t} catch (FileNotFoundException e) {\n",
    "\t\t\te.printStackTrace();\n",
    "\t\t} catch (IOException e) {\n",
    "\t\t\te.printStackTrace();\n",
    "\t\t}"
   ]
  },
  {
   "cell_type": "code",
   "execution_count": 226,
   "metadata": {},
   "outputs": [],
   "source": [
    "// Deserialization\n",
    "FileInputStream fis = new FileInputStream(\"io/Emp.ser\");\n",
    "ObjectInputStream ois = new ObjectInputStream(fis);\n",
    "\n",
    "Object obj = ois.readObject();\n",
    "Employee emp = (Employee) obj;"
   ]
  },
  {
   "cell_type": "code",
   "execution_count": 227,
   "metadata": {},
   "outputs": [
    {
     "data": {
      "text/plain": [
       "John"
      ]
     },
     "execution_count": 227,
     "metadata": {},
     "output_type": "execute_result"
    }
   ],
   "source": [
    "emp.name"
   ]
  },
  {
   "cell_type": "code",
   "execution_count": 228,
   "metadata": {},
   "outputs": [
    {
     "data": {
      "text/plain": [
       "0"
      ]
     },
     "execution_count": 228,
     "metadata": {},
     "output_type": "execute_result"
    }
   ],
   "source": [
    "emp.ssn"
   ]
  },
  {
   "cell_type": "markdown",
   "metadata": {},
   "source": [
    "# Reflection"
   ]
  },
  {
   "cell_type": "code",
   "execution_count": 229,
   "metadata": {},
   "outputs": [],
   "source": [
    "import java.lang.reflect.Constructor;\n",
    "import java.lang.reflect.Field;\n",
    "import java.lang.annotation.Annotation;"
   ]
  },
  {
   "cell_type": "code",
   "execution_count": 230,
   "metadata": {},
   "outputs": [],
   "source": [
    "@MyAnnotation2(param1 = \"Hello\", param2 = \"World\")\n",
    "public class ReflectionDemo {\n",
    "\n",
    "\tint objId;\n",
    "    int field1;\n",
    "    private int privateField1=25;\n",
    "\n",
    "\tpublic ReflectionDemo() {\n",
    "\t\tthis.objId = 10;\n",
    "\t\tSystem.out.println(\"Created \" + this.objId);\n",
    "\t}\n",
    "    \n",
    "    public ReflectionDemo(int objId) {\n",
    "\t\tthis.objId = objId;\n",
    "\t\tSystem.out.println(\"Created \" + this.objId);\n",
    "\t}\n",
    "\n",
    "\t@Override\n",
    "\tprotected void finalize() {\n",
    "\t\tSystem.out.println(\"Finalized \" + objId);\n",
    "\t}\n",
    "    \n",
    "     public void testMethod() {\n",
    "\t\tSystem.out.println(\"inside testMethod\");\n",
    "\t}\n",
    "    \n",
    "    public void testMethod2(int i) {\n",
    "\t\tSystem.out.println(\"inside testMethod invoked with: \"+i);\n",
    "\t}\n",
    "     public void printField1() {\n",
    "\t\tSystem.out.println(\"field 1 is : \"+field1);\n",
    "\t}\n",
    "}"
   ]
  },
  {
   "cell_type": "code",
   "execution_count": 231,
   "metadata": {},
   "outputs": [],
   "source": [
    "Class<?> myClass = Class.forName(ReflectionDemo.class.getName());"
   ]
  },
  {
   "cell_type": "code",
   "execution_count": 232,
   "metadata": {},
   "outputs": [
    {
     "data": {
      "text/plain": [
       "REPL.$JShell$281$ReflectionDemo"
      ]
     },
     "execution_count": 232,
     "metadata": {},
     "output_type": "execute_result"
    }
   ],
   "source": [
    "myClass.getName()"
   ]
  },
  {
   "cell_type": "code",
   "execution_count": 233,
   "metadata": {},
   "outputs": [],
   "source": [
    "Constructor<?>[] constructors = myClass.getConstructors();"
   ]
  },
  {
   "cell_type": "code",
   "execution_count": 234,
   "metadata": {},
   "outputs": [
    {
     "data": {
      "text/plain": [
       "[public REPL.$JShell$281$ReflectionDemo(), public REPL.$JShell$281$ReflectionDemo(int)]"
      ]
     },
     "execution_count": 234,
     "metadata": {},
     "output_type": "execute_result"
    }
   ],
   "source": [
    "Arrays.toString(constructors)"
   ]
  },
  {
   "cell_type": "code",
   "execution_count": 235,
   "metadata": {},
   "outputs": [
    {
     "data": {
      "text/plain": [
       "[public void REPL.$JShell$281$ReflectionDemo.testMethod(), public void REPL.$JShell$281$ReflectionDemo.printField1(), public void REPL.$JShell$281$ReflectionDemo.testMethod2(int), public boolean java.lang.Object.equals(java.lang.Object), public java.lang.String java.lang.Object.toString(), public native int java.lang.Object.hashCode(), public final native java.lang.Class java.lang.Object.getClass(), public final native void java.lang.Object.notify(), public final native void java.lang.Object.notifyAll(), public final void java.lang.Object.wait(long) throws java.lang.InterruptedException, public final void java.lang.Object.wait(long,int) throws java.lang.InterruptedException, public final void java.lang.Object.wait() throws java.lang.InterruptedException]"
      ]
     },
     "execution_count": 235,
     "metadata": {},
     "output_type": "execute_result"
    }
   ],
   "source": [
    "Arrays.toString(myClass.getMethods())"
   ]
  },
  {
   "cell_type": "code",
   "execution_count": 236,
   "metadata": {},
   "outputs": [],
   "source": [
    "Constructor<?> constructor = myClass.getConstructor();"
   ]
  },
  {
   "cell_type": "code",
   "execution_count": 237,
   "metadata": {},
   "outputs": [
    {
     "name": "stdout",
     "output_type": "stream",
     "text": [
      "Created 10\r\n"
     ]
    },
    {
     "data": {
      "text/plain": [
       "REPL.$JShell$281$ReflectionDemo@3127d258"
      ]
     },
     "execution_count": 237,
     "metadata": {},
     "output_type": "execute_result"
    }
   ],
   "source": [
    "constructor.newInstance(null)"
   ]
  },
  {
   "cell_type": "code",
   "execution_count": 238,
   "metadata": {},
   "outputs": [],
   "source": [
    "Constructor<?> constructor2 = myClass.getConstructor(int.class);"
   ]
  },
  {
   "cell_type": "code",
   "execution_count": 239,
   "metadata": {},
   "outputs": [
    {
     "name": "stdout",
     "output_type": "stream",
     "text": [
      "Created 25\r\n"
     ]
    }
   ],
   "source": [
    "Object myObj = constructor2.newInstance(25);"
   ]
  },
  {
   "cell_type": "code",
   "execution_count": 240,
   "metadata": {},
   "outputs": [
    {
     "name": "stdout",
     "output_type": "stream",
     "text": [
      "public void REPL.$JShell$281$ReflectionDemo.testMethod()\n",
      "public void REPL.$JShell$281$ReflectionDemo.printField1()\n",
      "public void REPL.$JShell$281$ReflectionDemo.testMethod2(int)\n",
      "public boolean java.lang.Object.equals(java.lang.Object)\n",
      "public java.lang.String java.lang.Object.toString()\n",
      "public native int java.lang.Object.hashCode()\n",
      "public final native java.lang.Class java.lang.Object.getClass()\n",
      "public final native void java.lang.Object.notify()\n",
      "public final native void java.lang.Object.notifyAll()\n",
      "public final void java.lang.Object.wait(long) throws java.lang.InterruptedException\n",
      "public final void java.lang.Object.wait(long,int) throws java.lang.InterruptedException\n",
      "public final void java.lang.Object.wait() throws java.lang.InterruptedException\n"
     ]
    }
   ],
   "source": [
    "Method[] methods = myClass.getMethods();\n",
    "for (Method method : methods) {\n",
    "    System.out.println(method);\n",
    "}"
   ]
  },
  {
   "cell_type": "code",
   "execution_count": 241,
   "metadata": {},
   "outputs": [],
   "source": [
    "// Accessing private variable\n",
    "Field field1 = myClass.getDeclaredField(\"privateField1\");"
   ]
  },
  {
   "cell_type": "code",
   "execution_count": 242,
   "metadata": {},
   "outputs": [],
   "source": [
    " // Set the field accessible\n",
    " // without this line, the private fild can't be accssessed\n",
    "field1.setAccessible(true);"
   ]
  },
  {
   "cell_type": "code",
   "execution_count": 243,
   "metadata": {},
   "outputs": [],
   "source": [
    "int fieldValue = (int) field1.get(myObj);"
   ]
  },
  {
   "cell_type": "code",
   "execution_count": 244,
   "metadata": {},
   "outputs": [
    {
     "data": {
      "text/plain": [
       "25"
      ]
     },
     "execution_count": 244,
     "metadata": {},
     "output_type": "execute_result"
    }
   ],
   "source": [
    "fieldValue"
   ]
  },
  {
   "cell_type": "code",
   "execution_count": 245,
   "metadata": {},
   "outputs": [],
   "source": [
    "Method method1 = myClass.getMethod(\"testMethod\");"
   ]
  },
  {
   "cell_type": "code",
   "execution_count": 246,
   "metadata": {},
   "outputs": [
    {
     "name": "stdout",
     "output_type": "stream",
     "text": [
      "inside testMethod\r\n"
     ]
    }
   ],
   "source": [
    "method1.invoke(myObj);"
   ]
  },
  {
   "cell_type": "code",
   "execution_count": 247,
   "metadata": {},
   "outputs": [],
   "source": [
    "Method method2 = myClass.getMethod(\"testMethod2\", int.class);"
   ]
  },
  {
   "cell_type": "code",
   "execution_count": 248,
   "metadata": {},
   "outputs": [
    {
     "name": "stdout",
     "output_type": "stream",
     "text": [
      "inside testMethod invoked with: 20\r\n"
     ]
    }
   ],
   "source": [
    "method2.invoke(myObj, 20);"
   ]
  },
  {
   "cell_type": "code",
   "execution_count": 249,
   "metadata": {},
   "outputs": [],
   "source": [
    "Field field = myClass.getDeclaredField(\"field1\");"
   ]
  },
  {
   "cell_type": "code",
   "execution_count": 250,
   "metadata": {},
   "outputs": [],
   "source": [
    "field.set(myObj, 80);"
   ]
  },
  {
   "cell_type": "code",
   "execution_count": 251,
   "metadata": {},
   "outputs": [],
   "source": [
    "Method method = myClass.getMethod(\"printField1\", null);"
   ]
  },
  {
   "cell_type": "code",
   "execution_count": 252,
   "metadata": {},
   "outputs": [
    {
     "name": "stdout",
     "output_type": "stream",
     "text": [
      "field 1 is : 80\r\n"
     ]
    }
   ],
   "source": [
    "method.invoke(myObj, null)"
   ]
  },
  {
   "cell_type": "code",
   "execution_count": 253,
   "metadata": {},
   "outputs": [],
   "source": [
    "Annotation[] annotations = myClass.getAnnotations();"
   ]
  },
  {
   "cell_type": "code",
   "execution_count": 254,
   "metadata": {},
   "outputs": [
    {
     "data": {
      "text/plain": [
       "[@REPL.$JShell$87.MyAnnotation2(param1=\"Hello\", param2=\"World\")]"
      ]
     },
     "execution_count": 254,
     "metadata": {},
     "output_type": "execute_result"
    }
   ],
   "source": [
    "Arrays.toString(annotations)"
   ]
  },
  {
   "cell_type": "code",
   "execution_count": 255,
   "metadata": {},
   "outputs": [],
   "source": [
    "MyAnnotation2 annotation = (MyAnnotation2) annotations[0];"
   ]
  },
  {
   "cell_type": "code",
   "execution_count": 256,
   "metadata": {},
   "outputs": [
    {
     "data": {
      "text/plain": [
       "Hello"
      ]
     },
     "execution_count": 256,
     "metadata": {},
     "output_type": "execute_result"
    }
   ],
   "source": [
    "annotation.param1()"
   ]
  },
  {
   "cell_type": "code",
   "execution_count": 257,
   "metadata": {},
   "outputs": [
    {
     "data": {
      "text/plain": [
       "World"
      ]
     },
     "execution_count": 257,
     "metadata": {},
     "output_type": "execute_result"
    }
   ],
   "source": [
    "annotation.param2()"
   ]
  },
  {
   "cell_type": "markdown",
   "metadata": {},
   "source": [
    "# File IO"
   ]
  },
  {
   "cell_type": "markdown",
   "metadata": {},
   "source": [
    "![](pictures/files.png)"
   ]
  },
  {
   "cell_type": "code",
   "execution_count": 258,
   "metadata": {},
   "outputs": [],
   "source": [
    "import java.lang.reflect.Method;\n",
    "import java.nio.file.Files;\n",
    "import java.nio.file.Path;\n",
    "import java.nio.file.Paths;\n",
    "import java.nio.file.attribute.BasicFileAttributes;\n",
    "import java.util.Scanner;"
   ]
  },
  {
   "cell_type": "code",
   "execution_count": 259,
   "metadata": {},
   "outputs": [
    {
     "name": "stdout",
     "output_type": "stream",
     "text": [
      "File Copied\r\n"
     ]
    }
   ],
   "source": [
    "FileInputStream fis = null;\n",
    "FileOutputStream fos = null;\n",
    "\n",
    "try {\n",
    "\tfis = new FileInputStream(\"io/testimage.png\");\n",
    "\tfos = new FileOutputStream(\"io/newImage.jpg\");\n",
    "\tint data;\n",
    "\twhile ((data = fis.read()) != -1) {\n",
    "\t\tfos.write(data);\n",
    "\t}\n",
    "\tSystem.out.println(\"File Copied\");\n",
    "} catch (FileNotFoundException e) {\n",
    "\te.printStackTrace();\n",
    "} catch (IOException e) {\n",
    "\te.printStackTrace();\n",
    "} finally {\n",
    "\ttry {\n",
    "\t\tfis.close();\n",
    "\t\tfos.close();\n",
    "\t} catch (IOException e) {\n",
    "\t\t// TODO Auto-generated catch block\n",
    "\t\te.printStackTrace();\n",
    "\t}\n",
    "}\n",
    "\n"
   ]
  },
  {
   "cell_type": "code",
   "execution_count": 260,
   "metadata": {},
   "outputs": [],
   "source": [
    "Path path1 = Paths.get(\"C:\\\\gitworkspace\\\\aimldemo\\\\jupyterworkapce\\\\java\\\\io\\\\\");"
   ]
  },
  {
   "cell_type": "code",
   "execution_count": 261,
   "metadata": {},
   "outputs": [
    {
     "data": {
      "text/plain": [
       "io"
      ]
     },
     "execution_count": 261,
     "metadata": {},
     "output_type": "execute_result"
    }
   ],
   "source": [
    "path1.getFileName()"
   ]
  },
  {
   "cell_type": "code",
   "execution_count": 262,
   "metadata": {},
   "outputs": [
    {
     "data": {
      "text/plain": [
       "aimldemo"
      ]
     },
     "execution_count": 262,
     "metadata": {},
     "output_type": "execute_result"
    }
   ],
   "source": [
    "path1.getName(1)"
   ]
  },
  {
   "cell_type": "code",
   "execution_count": 263,
   "metadata": {},
   "outputs": [
    {
     "data": {
      "text/plain": [
       "gitworkspace"
      ]
     },
     "execution_count": 263,
     "metadata": {},
     "output_type": "execute_result"
    }
   ],
   "source": [
    "path1.getName(0)"
   ]
  },
  {
   "cell_type": "code",
   "execution_count": 264,
   "metadata": {},
   "outputs": [
    {
     "data": {
      "text/plain": [
       "5"
      ]
     },
     "execution_count": 264,
     "metadata": {},
     "output_type": "execute_result"
    }
   ],
   "source": [
    "path1.getNameCount()"
   ]
  },
  {
   "cell_type": "code",
   "execution_count": 265,
   "metadata": {},
   "outputs": [
    {
     "data": {
      "text/plain": [
       "C:\\gitworkspace\\aimldemo\\jupyterworkapce\\java"
      ]
     },
     "execution_count": 265,
     "metadata": {},
     "output_type": "execute_result"
    }
   ],
   "source": [
    "path1.getParent()"
   ]
  },
  {
   "cell_type": "code",
   "execution_count": 266,
   "metadata": {},
   "outputs": [
    {
     "data": {
      "text/plain": [
       "C:\\"
      ]
     },
     "execution_count": 266,
     "metadata": {},
     "output_type": "execute_result"
    }
   ],
   "source": [
    "path1.getRoot()"
   ]
  },
  {
   "cell_type": "code",
   "execution_count": 267,
   "metadata": {},
   "outputs": [
    {
     "data": {
      "text/plain": [
       "gitworkspace\\aimldemo"
      ]
     },
     "execution_count": 267,
     "metadata": {},
     "output_type": "execute_result"
    }
   ],
   "source": [
    "path1.subpath(0, 2)"
   ]
  },
  {
   "cell_type": "code",
   "execution_count": 268,
   "metadata": {},
   "outputs": [
    {
     "data": {
      "text/plain": [
       "C:\\gitworkspace\\aimldemo\\jupyterworkapce\\java\\io"
      ]
     },
     "execution_count": 268,
     "metadata": {},
     "output_type": "execute_result"
    }
   ],
   "source": [
    "path1.toString()"
   ]
  },
  {
   "cell_type": "code",
   "execution_count": 269,
   "metadata": {},
   "outputs": [
    {
     "name": "stdout",
     "output_type": "stream",
     "text": [
      " gitworkspace\n",
      "   aimldemo\n",
      "     jupyterworkapce\n",
      "       java\n",
      "         io\n"
     ]
    }
   ],
   "source": [
    "int spaces = 1;\n",
    "\t\tfor (Path subPath : path1) {\n",
    "\t\t\tSystem.out.format(\"%\" + spaces + \"s%s%n\", \"\", subPath);\n",
    "\t\t\tspaces += 2;\n",
    "\t\t}"
   ]
  },
  {
   "cell_type": "code",
   "execution_count": 563,
   "metadata": {},
   "outputs": [
    {
     "name": "stdout",
     "output_type": "stream",
     "text": [
      "test line 1\n",
      "test line 2\n",
      "test line 3\n"
     ]
    }
   ],
   "source": [
    "Path path = Paths.get(\n",
    "\t\t\t\t\"C:\\\\gitworkspace\\\\aimldemo\\\\jupyterworkapce\\\\java\\\\io\\\\testfileinput.txt\");\n",
    "\t\ttry {\n",
    "\t\t\tFiles.lines(path).forEach(System.out::println);\n",
    "\t\t} catch (IOException e) {\n",
    "\t\t\te.printStackTrace();\n",
    "\t\t}"
   ]
  },
  {
   "cell_type": "code",
   "execution_count": null,
   "metadata": {},
   "outputs": [],
   "source": []
  },
  {
   "cell_type": "code",
   "execution_count": 271,
   "metadata": {},
   "outputs": [],
   "source": [
    "BasicFileAttributes basicFileAttributes = Files.readAttributes(path, BasicFileAttributes.class);"
   ]
  },
  {
   "cell_type": "code",
   "execution_count": 272,
   "metadata": {},
   "outputs": [
    {
     "name": "stdout",
     "output_type": "stream",
     "text": [
      "size::37\n",
      "isDirectory::false\n",
      "isRegularFile::true\n",
      "isSymbolicLink::false\n",
      "lastModifiedTime::2019-12-16T18:37:55.2801357Z\n",
      "lastAccessTime::2024-05-28T17:26:29.9024316Z\n",
      "creationTime::2024-05-20T20:49:31.8642018Z\n",
      "isOther::false\n",
      "fileKey::null\n"
     ]
    }
   ],
   "source": [
    "Class<BasicFileAttributes> cl = BasicFileAttributes.class;\n",
    "\t\t\tfor (Method method : cl.getMethods()) {\n",
    "\t\t\t\tSystem.out.println(method.getName() + \"::\" + method.invoke(basicFileAttributes));\n",
    "\n",
    "\t\t\t}"
   ]
  },
  {
   "cell_type": "markdown",
   "metadata": {},
   "source": [
    "* Navifate files and folders"
   ]
  },
  {
   "cell_type": "code",
   "execution_count": 273,
   "metadata": {},
   "outputs": [],
   "source": [
    "String folderName = \"C:\\\\gitworkspace\\\\aimldemo\\\\jupyterworkapce\\\\java\";"
   ]
  },
  {
   "cell_type": "code",
   "execution_count": 274,
   "metadata": {},
   "outputs": [],
   "source": [
    "String extension = \"*.properties\""
   ]
  },
  {
   "cell_type": "code",
   "execution_count": 275,
   "metadata": {},
   "outputs": [],
   "source": [
    "public static void navigateFiles(File dir, String extension) throws IOException {\n",
    "\t\tFile[] list = dir.listFiles();\n",
    "\t\tif (list != null && list.length > 0) {\n",
    "\t\t\tfor (File file : list) {\n",
    "\t\t\t\tif (file.isDirectory()) {\n",
    "\t\t\t\t\tnavigateFiles(file, extension);\n",
    "\t\t\t\t} else if (file.getName().endsWith(extension)) {\n",
    "\t\t\t\t\tSystem.out.println(file.getName());\n",
    "\t\t\t\t}\n",
    "\t\t\t}\n",
    "\t\t}\n",
    "\t}"
   ]
  },
  {
   "cell_type": "code",
   "execution_count": 276,
   "metadata": {},
   "outputs": [],
   "source": [
    "navigateFiles(new File(folderName), extension);"
   ]
  },
  {
   "cell_type": "markdown",
   "metadata": {},
   "source": [
    "# NIO"
   ]
  },
  {
   "cell_type": "code",
   "execution_count": 277,
   "metadata": {},
   "outputs": [],
   "source": [
    "import java.nio.file.*;"
   ]
  },
  {
   "cell_type": "code",
   "execution_count": 278,
   "metadata": {},
   "outputs": [],
   "source": [
    "Path path = Paths.get(\"io/nio_test.txt\");"
   ]
  },
  {
   "cell_type": "code",
   "execution_count": 279,
   "metadata": {},
   "outputs": [
    {
     "data": {
      "text/plain": [
       "io\\nio_test.txt"
      ]
     },
     "execution_count": 279,
     "metadata": {},
     "output_type": "execute_result"
    }
   ],
   "source": [
    "Files.write(path, \"Hello, World!\".getBytes());"
   ]
  },
  {
   "cell_type": "code",
   "execution_count": 280,
   "metadata": {},
   "outputs": [],
   "source": [
    "String content = new String(Files.readAllBytes(path));"
   ]
  },
  {
   "cell_type": "code",
   "execution_count": 281,
   "metadata": {},
   "outputs": [
    {
     "data": {
      "text/plain": [
       "Hello, World!"
      ]
     },
     "execution_count": 281,
     "metadata": {},
     "output_type": "execute_result"
    }
   ],
   "source": [
    "content"
   ]
  },
  {
   "cell_type": "code",
   "execution_count": 282,
   "metadata": {},
   "outputs": [],
   "source": [
    "Path destination = Paths.get(\"io/nio_test_copy.txt\");"
   ]
  },
  {
   "cell_type": "code",
   "execution_count": 283,
   "metadata": {},
   "outputs": [
    {
     "data": {
      "text/plain": [
       "io\\nio_test_copy.txt"
      ]
     },
     "execution_count": 283,
     "metadata": {},
     "output_type": "execute_result"
    }
   ],
   "source": [
    "Files.copy(path, destination, StandardCopyOption.REPLACE_EXISTING);"
   ]
  },
  {
   "cell_type": "code",
   "execution_count": 284,
   "metadata": {},
   "outputs": [],
   "source": [
    "Files.delete(destination);"
   ]
  },
  {
   "cell_type": "code",
   "execution_count": 285,
   "metadata": {},
   "outputs": [
    {
     "data": {
      "text/plain": [
       "nio_test.txt"
      ]
     },
     "execution_count": 285,
     "metadata": {},
     "output_type": "execute_result"
    }
   ],
   "source": [
    "path.getFileName()"
   ]
  },
  {
   "cell_type": "code",
   "execution_count": 286,
   "metadata": {},
   "outputs": [
    {
     "data": {
      "text/plain": [
       "nio_test.txt"
      ]
     },
     "execution_count": 286,
     "metadata": {},
     "output_type": "execute_result"
    }
   ],
   "source": [
    "path.getName(1)"
   ]
  },
  {
   "cell_type": "code",
   "execution_count": 287,
   "metadata": {},
   "outputs": [
    {
     "data": {
      "text/plain": [
       "2"
      ]
     },
     "execution_count": 287,
     "metadata": {},
     "output_type": "execute_result"
    }
   ],
   "source": [
    "path.getNameCount()"
   ]
  },
  {
   "cell_type": "code",
   "execution_count": 288,
   "metadata": {},
   "outputs": [
    {
     "data": {
      "text/plain": [
       "io"
      ]
     },
     "execution_count": 288,
     "metadata": {},
     "output_type": "execute_result"
    }
   ],
   "source": [
    "path.getParent()"
   ]
  },
  {
   "cell_type": "code",
   "execution_count": 289,
   "metadata": {},
   "outputs": [],
   "source": [
    "path.getRoot()"
   ]
  },
  {
   "cell_type": "code",
   "execution_count": 290,
   "metadata": {},
   "outputs": [
    {
     "data": {
      "text/plain": [
       "io\\nio_test.txt"
      ]
     },
     "execution_count": 290,
     "metadata": {},
     "output_type": "execute_result"
    }
   ],
   "source": [
    "path.toString()"
   ]
  },
  {
   "cell_type": "code",
   "execution_count": 291,
   "metadata": {},
   "outputs": [
    {
     "data": {
      "text/plain": [
       "2024-05-28T17:26:32.2056937Z"
      ]
     },
     "execution_count": 291,
     "metadata": {},
     "output_type": "execute_result"
    }
   ],
   "source": [
    "Files.getLastModifiedTime(path)"
   ]
  },
  {
   "cell_type": "code",
   "execution_count": 292,
   "metadata": {},
   "outputs": [
    {
     "name": "stdout",
     "output_type": "stream",
     "text": [
      "size::13\n",
      "isDirectory::false\n",
      "isRegularFile::true\n",
      "isSymbolicLink::false\n",
      "lastModifiedTime::2024-05-28T17:26:32.2056937Z\n",
      "lastAccessTime::2024-05-28T17:26:32.2907203Z\n",
      "creationTime::2024-05-24T18:26:13.169261Z\n",
      "isOther::false\n",
      "fileKey::null\n"
     ]
    }
   ],
   "source": [
    "// loop over BasicFileAttributes\n",
    "\t\t\tBasicFileAttributes basicFileAttributes = Files.readAttributes(path, BasicFileAttributes.class);\n",
    "\t\t\tClass<BasicFileAttributes> cl = BasicFileAttributes.class;\n",
    "\t\t\tfor (Method method : cl.getMethods()) {\n",
    "\t\t\t\tSystem.out.println(method.getName() + \"::\" + method.invoke(basicFileAttributes));\n",
    "\t\t\t}"
   ]
  },
  {
   "cell_type": "code",
   "execution_count": 293,
   "metadata": {},
   "outputs": [],
   "source": [
    "public class NIODemo extends SimpleFileVisitor<Path> {\n",
    "@Override\n",
    "\tpublic FileVisitResult visitFile(Path file, BasicFileAttributes attrs) throws IOException {\n",
    "\t\tif (file.getFileName().toString().endsWith(\".java\")) {\n",
    "\t\t\tSystem.out.println(file.getFileName().toString());\n",
    "\t\t}\n",
    "\t\treturn FileVisitResult.CONTINUE;\n",
    "\t}\n",
    "}"
   ]
  },
  {
   "cell_type": "code",
   "execution_count": 294,
   "metadata": {},
   "outputs": [
    {
     "name": "stdout",
     "output_type": "stream",
     "text": [
      "NIODemo.java\r\n"
     ]
    },
    {
     "data": {
      "text/plain": [
       "C:\\gitworkspace\\java-demo\\spring_demo_new\\src\\main\\java\\com\\demo\\nio"
      ]
     },
     "execution_count": 294,
     "metadata": {},
     "output_type": "execute_result"
    }
   ],
   "source": [
    "// FileVisitResult\n",
    "\t\tFiles.walkFileTree(Paths.get(\"C:\\\\gitworkspace\\\\java-demo\\\\spring_demo_new\\\\src\\\\main\\\\java\\\\com\\\\demo\\\\nio\"),\n",
    "\t\t\t\tnew NIODemo());"
   ]
  },
  {
   "cell_type": "markdown",
   "metadata": {},
   "source": [
    "# Regular expressions"
   ]
  },
  {
   "cell_type": "code",
   "execution_count": 295,
   "metadata": {},
   "outputs": [],
   "source": [
    "// Define the pattern for digits\n",
    "String regex = \"\\\\d+\";"
   ]
  },
  {
   "cell_type": "code",
   "execution_count": 296,
   "metadata": {},
   "outputs": [],
   "source": [
    "Pattern pattern = Pattern.compile(regex);"
   ]
  },
  {
   "cell_type": "code",
   "execution_count": 297,
   "metadata": {},
   "outputs": [],
   "source": [
    "String testString = \"123456\";"
   ]
  },
  {
   "cell_type": "code",
   "execution_count": 298,
   "metadata": {},
   "outputs": [],
   "source": [
    "Matcher matcher = pattern.matcher(testString);"
   ]
  },
  {
   "cell_type": "code",
   "execution_count": 299,
   "metadata": {},
   "outputs": [
    {
     "data": {
      "text/plain": [
       "true"
      ]
     },
     "execution_count": 299,
     "metadata": {},
     "output_type": "execute_result"
    }
   ],
   "source": [
    "matcher.matches()"
   ]
  },
  {
   "cell_type": "code",
   "execution_count": null,
   "metadata": {},
   "outputs": [],
   "source": []
  },
  {
   "cell_type": "markdown",
   "metadata": {},
   "source": [
    "# ResourceBundle"
   ]
  },
  {
   "cell_type": "code",
   "execution_count": 300,
   "metadata": {},
   "outputs": [],
   "source": [
    "public class Messages_en_US extends ListResourceBundle {\n",
    "    @Override\n",
    "    protected Object[][] getContents() {\n",
    "        return new Object[][] {\n",
    "            {\"greeting\", \"Hello\"},\n",
    "            {\"farewell\", \"Goodbye\"}\n",
    "        };\n",
    "    }\n",
    "}"
   ]
  },
  {
   "cell_type": "code",
   "execution_count": 301,
   "metadata": {},
   "outputs": [],
   "source": [
    "import java.util.ListResourceBundle;\n",
    "\n",
    "public class Messages_fr_FR extends ListResourceBundle {\n",
    "    @Override\n",
    "    protected Object[][] getContents() {\n",
    "        return new Object[][] {\n",
    "            {\"greeting\", \"Bonjour\"},\n",
    "            {\"farewell\", \"Au revoir\"}\n",
    "        };\n",
    "    }\n",
    "}"
   ]
  },
  {
   "cell_type": "code",
   "execution_count": 302,
   "metadata": {},
   "outputs": [
    {
     "data": {
      "text/plain": [
       "class REPL.$JShell$356$Messages_en_US"
      ]
     },
     "execution_count": 302,
     "metadata": {},
     "output_type": "execute_result"
    }
   ],
   "source": [
    "Messages_en_US.class"
   ]
  },
  {
   "cell_type": "code",
   "execution_count": 303,
   "metadata": {},
   "outputs": [
    {
     "ename": "EvalException",
     "evalue": "Can't find bundle for base name REPL.$JShell$685$Messages, locale en_US",
     "output_type": "error",
     "traceback": [
      "\u001b[1m\u001b[31m---------------------------------------------------------------------------\u001b[0m",
      "\u001b[1m\u001b[31mjava.util.MissingResourceException: Can't find bundle for base name REPL.$JShell$685$Messages, locale en_US\u001b[0m",
      "\u001b[1m\u001b[31m\tat java.base/java.util.ResourceBundle.throwMissingResourceException(ResourceBundle.java:2059)\u001b[0m",
      "\u001b[1m\u001b[31m\tat java.base/java.util.ResourceBundle.getBundleImpl(ResourceBundle.java:1697)\u001b[0m",
      "\u001b[1m\u001b[31m\tat java.base/java.util.ResourceBundle.getBundleImpl(ResourceBundle.java:1600)\u001b[0m",
      "\u001b[1m\u001b[31m\tat java.base/java.util.ResourceBundle.getBundleImpl(ResourceBundle.java:1555)\u001b[0m",
      "\u001b[1m\u001b[31m\tat java.base/java.util.ResourceBundle.getBundle(ResourceBundle.java:861)\u001b[0m",
      "\u001b[1m\u001b[31m\tat .(#361:1)\u001b[0m"
     ]
    }
   ],
   "source": [
    " Locale.setDefault(new Locale(\"en\", \"US\"));\n",
    "// Load the resource bundle for the default locale. Below syntax is used for notbook only. Full package name is good enough for eclipse\n",
    " ResourceBundle bundle = ResourceBundle.getBundle(\"REPL.$JShell$685$Messages\");"
   ]
  },
  {
   "cell_type": "code",
   "execution_count": 304,
   "metadata": {},
   "outputs": [
    {
     "ename": "EvalException",
     "evalue": "Cannot invoke \"java.util.ResourceBundle.getString(String)\" because \"REPL.$JShell$361.bundle\" is null",
     "output_type": "error",
     "traceback": [
      "\u001b[1m\u001b[31m---------------------------------------------------------------------------\u001b[0m",
      "\u001b[1m\u001b[31mjava.lang.NullPointerException: Cannot invoke \"java.util.ResourceBundle.getString(String)\" because \"REPL.$JShell$361.bundle\" is null\u001b[0m",
      "\u001b[1m\u001b[31m\tat .(#362:1)\u001b[0m"
     ]
    }
   ],
   "source": [
    "bundle.getString(\"greeting\")"
   ]
  },
  {
   "cell_type": "code",
   "execution_count": 305,
   "metadata": {},
   "outputs": [
    {
     "ename": "EvalException",
     "evalue": "Cannot invoke \"java.util.ResourceBundle.getString(String)\" because \"REPL.$JShell$361.bundle\" is null",
     "output_type": "error",
     "traceback": [
      "\u001b[1m\u001b[31m---------------------------------------------------------------------------\u001b[0m",
      "\u001b[1m\u001b[31mjava.lang.NullPointerException: Cannot invoke \"java.util.ResourceBundle.getString(String)\" because \"REPL.$JShell$361.bundle\" is null\u001b[0m",
      "\u001b[1m\u001b[31m\tat .(#363:1)\u001b[0m"
     ]
    }
   ],
   "source": [
    "bundle.getString(\"farewell\")"
   ]
  },
  {
   "cell_type": "code",
   "execution_count": 306,
   "metadata": {},
   "outputs": [],
   "source": [
    "Locale.setDefault(new Locale(\"fr\", \"FR\"));\n",
    "bundle = ResourceBundle.getBundle(Messages_fr_FR.class.getName());"
   ]
  },
  {
   "cell_type": "code",
   "execution_count": 307,
   "metadata": {},
   "outputs": [
    {
     "data": {
      "text/plain": [
       "Bonjour"
      ]
     },
     "execution_count": 307,
     "metadata": {},
     "output_type": "execute_result"
    }
   ],
   "source": [
    "bundle.getString(\"greeting\")"
   ]
  },
  {
   "cell_type": "code",
   "execution_count": 308,
   "metadata": {},
   "outputs": [
    {
     "data": {
      "text/plain": [
       "Au revoir"
      ]
     },
     "execution_count": 308,
     "metadata": {},
     "output_type": "execute_result"
    }
   ],
   "source": [
    "bundle.getString(\"farewell\")"
   ]
  },
  {
   "cell_type": "code",
   "execution_count": 309,
   "metadata": {},
   "outputs": [
    {
     "ename": "EvalException",
     "evalue": "Can't find bundle for base name messages.properties, locale fr",
     "output_type": "error",
     "traceback": [
      "\u001b[1m\u001b[31m---------------------------------------------------------------------------\u001b[0m",
      "\u001b[1m\u001b[31mjava.util.MissingResourceException: Can't find bundle for base name messages.properties, locale fr\u001b[0m",
      "\u001b[1m\u001b[31m\tat java.base/java.util.ResourceBundle.throwMissingResourceException(ResourceBundle.java:2059)\u001b[0m",
      "\u001b[1m\u001b[31m\tat java.base/java.util.ResourceBundle.getBundleImpl(ResourceBundle.java:1697)\u001b[0m",
      "\u001b[1m\u001b[31m\tat java.base/java.util.ResourceBundle.getBundleImpl(ResourceBundle.java:1600)\u001b[0m",
      "\u001b[1m\u001b[31m\tat java.base/java.util.ResourceBundle.getBundleImpl(ResourceBundle.java:1555)\u001b[0m",
      "\u001b[1m\u001b[31m\tat java.base/java.util.ResourceBundle.getBundle(ResourceBundle.java:935)\u001b[0m",
      "\u001b[1m\u001b[31m\tat .(#361:1)\u001b[0m"
     ]
    }
   ],
   "source": [
    "// Read from property file\n",
    "Locale locale = Locale.FRENCH;\n",
    "ResourceBundle bundle = ResourceBundle.getBundle(\"messages.properties\", locale);\n",
    "String greeting = bundle.getString(\"greeting\");\n",
    "String farewell = bundle.getString(\"farewell\");"
   ]
  },
  {
   "cell_type": "code",
   "execution_count": null,
   "metadata": {},
   "outputs": [],
   "source": []
  },
  {
   "cell_type": "markdown",
   "metadata": {},
   "source": [
    "# Arrays"
   ]
  },
  {
   "cell_type": "code",
   "execution_count": 310,
   "metadata": {},
   "outputs": [],
   "source": [
    "int arr[] = {10,20,30};"
   ]
  },
  {
   "cell_type": "code",
   "execution_count": 311,
   "metadata": {},
   "outputs": [
    {
     "name": "stdout",
     "output_type": "stream",
     "text": [
      "10\n",
      "20\n",
      "30\n"
     ]
    }
   ],
   "source": [
    "for (int element : arr) {\n",
    "\t\t\tSystem.out.println(element);\n",
    "\t\t}"
   ]
  },
  {
   "cell_type": "markdown",
   "metadata": {},
   "source": [
    "# java.lang.Object"
   ]
  },
  {
   "cell_type": "code",
   "execution_count": 312,
   "metadata": {},
   "outputs": [],
   "source": [
    "\n",
    "public class TestObjectDemo {\n",
    "\tpublic TestObjectDemo(int id, String name) {\n",
    "\t\tthis.id = id;\n",
    "\t\tthis.name = name;\n",
    "\t}\n",
    "\n",
    "\tprivate int id;\n",
    "\tprivate String name;\n",
    "\n",
    "\tpublic int getId() {\n",
    "\t\treturn id;\n",
    "\t}\n",
    "\n",
    "\tpublic void setId(int id) {\n",
    "\t\tthis.id = id;\n",
    "\t}\n",
    "\n",
    "\tpublic String getName() {\n",
    "\t\treturn name;\n",
    "\t}\n",
    "\n",
    "\tpublic void setName(String name) {\n",
    "\t\tthis.name = name;\n",
    "\t}\n",
    "\n",
    "\t@Override\n",
    "\tpublic boolean equals(Object obj) {\n",
    "\t\tSystem.out.println(\"Inside TestObjectDemo equals method\");\n",
    "\t\tTestObjectDemo testObjectDemo = (TestObjectDemo) obj;\n",
    "\t\tif (testObjectDemo.getId() == this.id && testObjectDemo.getName().equals(this.name)) {\n",
    "\t\t\treturn true;\n",
    "\t\t}\n",
    "\n",
    "\t\treturn false;\n",
    "\n",
    "\t}\n",
    "\n",
    "\t@Override\n",
    "\tpublic String toString() {\n",
    "\t\treturn \"TestObjectDemo id:\" + this.id + \" Name:\" + this.name;\n",
    "\t}\n",
    "\n",
    "}\n"
   ]
  },
  {
   "cell_type": "code",
   "execution_count": 313,
   "metadata": {},
   "outputs": [],
   "source": [
    "TestObjectDemo testObjectDemo1 = new TestObjectDemo(11,\"Name1\");"
   ]
  },
  {
   "cell_type": "code",
   "execution_count": 314,
   "metadata": {},
   "outputs": [],
   "source": [
    "TestObjectDemo testObjectDemo2 = new TestObjectDemo(22,\"Name2\");"
   ]
  },
  {
   "cell_type": "code",
   "execution_count": 315,
   "metadata": {},
   "outputs": [
    {
     "data": {
      "text/plain": [
       "TestObjectDemo id:11 Name:Name1"
      ]
     },
     "execution_count": 315,
     "metadata": {},
     "output_type": "execute_result"
    }
   ],
   "source": [
    "testObjectDemo1"
   ]
  },
  {
   "cell_type": "code",
   "execution_count": 316,
   "metadata": {},
   "outputs": [
    {
     "name": "stdout",
     "output_type": "stream",
     "text": [
      "Inside TestObjectDemo equals method\r\n"
     ]
    },
    {
     "data": {
      "text/plain": [
       "false"
      ]
     },
     "execution_count": 316,
     "metadata": {},
     "output_type": "execute_result"
    }
   ],
   "source": [
    "testObjectDemo1.equals(testObjectDemo2)"
   ]
  },
  {
   "cell_type": "code",
   "execution_count": 317,
   "metadata": {},
   "outputs": [],
   "source": [
    "// method level instanceof check. Not related java.lang.object\n",
    "private static Object method1() {\n",
    "\t\treturn \"test\";\n",
    "\t}"
   ]
  },
  {
   "cell_type": "code",
   "execution_count": 318,
   "metadata": {},
   "outputs": [
    {
     "name": "stdout",
     "output_type": "stream",
     "text": [
      "TEST\r\n"
     ]
    }
   ],
   "source": [
    "if (method1() instanceof String str) {\n",
    "\t\t\tSystem.out.println(str.toUpperCase());\n",
    "\t\t}"
   ]
  },
  {
   "cell_type": "markdown",
   "metadata": {},
   "source": [
    "* java 13 instanceof"
   ]
  },
  {
   "cell_type": "code",
   "execution_count": 632,
   "metadata": {},
   "outputs": [],
   "source": [
    " Object obj = \"Hello, World!\";"
   ]
  },
  {
   "cell_type": "code",
   "execution_count": 634,
   "metadata": {},
   "outputs": [
    {
     "name": "stdout",
     "output_type": "stream",
     "text": [
      "The string is: Hello, World!\r\n"
     ]
    }
   ],
   "source": [
    " if (obj instanceof String str) {\n",
    "            System.out.println(\"The string is: \" + str);\n",
    "        } else {\n",
    "            System.out.println(\"The object is not a string.\");\n",
    "        }"
   ]
  },
  {
   "cell_type": "code",
   "execution_count": null,
   "metadata": {},
   "outputs": [],
   "source": []
  },
  {
   "cell_type": "markdown",
   "metadata": {},
   "source": [
    "# Generics"
   ]
  },
  {
   "cell_type": "code",
   "execution_count": 319,
   "metadata": {},
   "outputs": [],
   "source": [
    "public class MyGenericClass<T> {\n",
    "\n",
    "\tT obj;\n",
    "\n",
    "\tMyGenericClass(T obj) {\n",
    "\t\tthis.obj = obj;\n",
    "\t}\n",
    "\n",
    "\tpublic void displayObjectDetails() {\n",
    "\t\tSystem.out.println(\"The type of object: \" + obj.getClass().getName());\n",
    "\t}\n",
    "\n",
    "\tpublic T getObject() {\n",
    "\t\treturn obj;\n",
    "\t}\n",
    "\n",
    "}"
   ]
  },
  {
   "cell_type": "code",
   "execution_count": 320,
   "metadata": {},
   "outputs": [],
   "source": [
    "MyGenericClass<String> s = new MyGenericClass<>(\"Test JMJ\");"
   ]
  },
  {
   "cell_type": "code",
   "execution_count": 321,
   "metadata": {},
   "outputs": [
    {
     "name": "stdout",
     "output_type": "stream",
     "text": [
      "The type of object: java.lang.String\r\n"
     ]
    }
   ],
   "source": [
    "s.displayObjectDetails();"
   ]
  },
  {
   "cell_type": "code",
   "execution_count": 322,
   "metadata": {},
   "outputs": [
    {
     "data": {
      "text/plain": [
       "Test JMJ"
      ]
     },
     "execution_count": 322,
     "metadata": {},
     "output_type": "execute_result"
    }
   ],
   "source": [
    "s.getObject()"
   ]
  },
  {
   "cell_type": "code",
   "execution_count": 323,
   "metadata": {},
   "outputs": [],
   "source": [
    "MyGenericClass<Integer> i = new MyGenericClass<>(123);"
   ]
  },
  {
   "cell_type": "code",
   "execution_count": 324,
   "metadata": {},
   "outputs": [
    {
     "name": "stdout",
     "output_type": "stream",
     "text": [
      "The type of object: java.lang.Integer\r\n"
     ]
    }
   ],
   "source": [
    "i.displayObjectDetails();"
   ]
  },
  {
   "cell_type": "code",
   "execution_count": 325,
   "metadata": {},
   "outputs": [
    {
     "name": "stdout",
     "output_type": "stream",
     "text": [
      "123\r\n"
     ]
    }
   ],
   "source": [
    "System.out.println(i.getObject());"
   ]
  },
  {
   "cell_type": "code",
   "execution_count": 326,
   "metadata": {},
   "outputs": [],
   "source": [
    "MyGenericClass<TestObjectDemo> i = new MyGenericClass<>(new TestObjectDemo(10, \"Test 123\"));"
   ]
  },
  {
   "cell_type": "code",
   "execution_count": 327,
   "metadata": {},
   "outputs": [
    {
     "name": "stdout",
     "output_type": "stream",
     "text": [
      "The type of object: REPL.$JShell$371$TestObjectDemo\r\n"
     ]
    }
   ],
   "source": [
    "i.displayObjectDetails();"
   ]
  },
  {
   "cell_type": "code",
   "execution_count": 328,
   "metadata": {},
   "outputs": [
    {
     "name": "stdout",
     "output_type": "stream",
     "text": [
      "TestObjectDemo id:10 Name:Test 123\r\n"
     ]
    }
   ],
   "source": [
    "System.out.println(i.getObject());"
   ]
  },
  {
   "cell_type": "code",
   "execution_count": 329,
   "metadata": {},
   "outputs": [],
   "source": [
    "public class TestGeneric<S, T extends Number> {\n",
    "\n",
    "\tprivate S name;\n",
    "\tprivate T age;\n",
    "\n",
    "\tpublic TestGeneric(S name, T age) {\n",
    "\t\tthis.name = name;\n",
    "\t\tthis.age = age;\n",
    "\t}\n",
    "\n",
    "\tpublic S getName() {\n",
    "\t\treturn name;\n",
    "\t}\n",
    "\n",
    "\tpublic void setName(S name) {\n",
    "\t\tthis.name = name;\n",
    "\t}\n",
    "\n",
    "\tpublic T getAge() {\n",
    "\t\treturn age;\n",
    "\t}\n",
    "\n",
    "\tpublic void setAge(T age) {\n",
    "\t\tthis.age = age;\n",
    "\t}\n",
    "}"
   ]
  },
  {
   "cell_type": "code",
   "execution_count": 330,
   "metadata": {},
   "outputs": [],
   "source": [
    "TestGeneric<String, Float> testGeneric = new TestGeneric<String, Float>(\"JJ\", 13.0f);"
   ]
  },
  {
   "cell_type": "code",
   "execution_count": 331,
   "metadata": {},
   "outputs": [
    {
     "data": {
      "text/plain": [
       "JJ"
      ]
     },
     "execution_count": 331,
     "metadata": {},
     "output_type": "execute_result"
    }
   ],
   "source": [
    "testGeneric.getName()"
   ]
  },
  {
   "cell_type": "code",
   "execution_count": 332,
   "metadata": {},
   "outputs": [
    {
     "data": {
      "text/plain": [
       "13.0"
      ]
     },
     "execution_count": 332,
     "metadata": {},
     "output_type": "execute_result"
    }
   ],
   "source": [
    "testGeneric.getAge()"
   ]
  },
  {
   "cell_type": "code",
   "execution_count": 333,
   "metadata": {},
   "outputs": [],
   "source": [
    " private void testGenericMethod(TestGeneric object) {\n",
    "\t\tTestGeneric testGenericLocal = (TestGeneric) object;\n",
    "\t\t// set wrong type in a method. Code will compile. will cause run time error when\n",
    "\t\t// name is accessed\n",
    "\t\ttestGenericLocal.setName(new Integer(1));\n",
    "\t\tSystem.out.println(testGenericLocal.getName());\n",
    "\t\tSystem.out.println(testGenericLocal.getAge());\n",
    "   \n",
    "\t}"
   ]
  },
  {
   "cell_type": "code",
   "execution_count": 334,
   "metadata": {},
   "outputs": [
    {
     "name": "stdout",
     "output_type": "stream",
     "text": [
      "1\n",
      "13.0\n"
     ]
    }
   ],
   "source": [
    "testGenericMethod(testGeneric);"
   ]
  },
  {
   "cell_type": "markdown",
   "metadata": {},
   "source": [
    "# Java 8 Test data"
   ]
  },
  {
   "cell_type": "code",
   "execution_count": 335,
   "metadata": {},
   "outputs": [],
   "source": [
    "public enum Department {\n",
    "\tTECHNOLOGY, BUSINESS, SUPPORT, OPERATIONS\n",
    "}\n",
    "\n",
    "public class Employee implements Serializable{\n",
    "\t/**\n",
    "\t * \n",
    "\t */\n",
    "\tprivate static final long serialVersionUID = -635482957578937357L;\n",
    "\tprivate String firstName;\n",
    "\tprivate String lastName;\n",
    "\tprivate String fullName;\n",
    "\tprivate int age;\n",
    "\tprivate Department department;\n",
    "\n",
    "\tpublic Employee(String firstName, String lastName, String fullName, int age, Department department) {\n",
    "\t\tsuper();\n",
    "\t\tthis.firstName = firstName;\n",
    "\t\tthis.lastName = lastName;\n",
    "\t\tthis.fullName = fullName;\n",
    "\t\tthis.age = age;\n",
    "\t\tthis.department = department;\n",
    "\t}\n",
    "\n",
    "\tpublic String getFirstName() {\n",
    "\t\treturn firstName;\n",
    "\t}\n",
    "\n",
    "\tpublic void setFirstName(String firstName) {\n",
    "\t\tthis.firstName = firstName;\n",
    "\t}\n",
    "\n",
    "\tpublic String getLastName() {\n",
    "\t\treturn lastName;\n",
    "\t}\n",
    "\n",
    "\tpublic void setLastName(String lastName) {\n",
    "\t\tthis.lastName = lastName;\n",
    "\t}\n",
    "\n",
    "\tpublic String getFullName() {\n",
    "\t\treturn fullName;\n",
    "\t}\n",
    "\n",
    "\tpublic void setFullName(String fullName) {\n",
    "\t\tthis.fullName = fullName;\n",
    "\t}\n",
    "\n",
    "\tpublic int getAge() {\n",
    "\t\treturn age;\n",
    "\t}\n",
    "\n",
    "\tpublic void setAge(int age) {\n",
    "\t\tthis.age = age;\n",
    "\t}\n",
    "\n",
    "\tpublic Department getDepartment() {\n",
    "\t\treturn department;\n",
    "\t}\n",
    "\n",
    "\tpublic void setDepartment(Department department) {\n",
    "\t\tthis.department = department;\n",
    "\t}\n",
    "\n",
    "\tpublic void auditAndUpdate() {\n",
    "\t\tthis.setFullName(this.getFirstName() + \" \" + this.getLastName());\n",
    "\t\tSystem.out.println(\n",
    "\t\t\t\tthis.getFullName() + \": Age: \" + this.getAge() + \" :Department: \" + this.getDepartment().toString());\n",
    "\t}\n",
    "\n",
    "}\n",
    "\n",
    "Employee employeel = new Employee(\"first 1\", \"lastl\", \"\", 20, Department.BUSINESS);\n",
    "Employee employee2 = new Employee(\"first 2\", \"last2\", \"\", 18, Department.TECHNOLOGY);\n",
    "Employee employee3 = new Employee(\"first 3\", \"last3\", \"\", 27, Department.OPERATIONS);\n",
    "Employee employee4 = new Employee(\"first 4\", \"last4\", \"\", 32, Department.SUPPORT);\n",
    "Employee employee5 = new Employee(\"first 5\", \"last5\", \" \", 25, Department.TECHNOLOGY);\n",
    "\n",
    "List<Employee> employeeListForStreamDemo = Arrays.asList(employeel, employee2, employee3, employee4, employee5); "
   ]
  },
  {
   "cell_type": "code",
   "execution_count": 336,
   "metadata": {},
   "outputs": [
    {
     "data": {
      "text/plain": [
       "[REPL.$JShell$269D$Employee@a6dde43, REPL.$JShell$269D$Employee@78a99483, REPL.$JShell$269D$Employee@28d02e6a, REPL.$JShell$269D$Employee@588b18a2, REPL.$JShell$269D$Employee@3cf05a36]"
      ]
     },
     "execution_count": 336,
     "metadata": {},
     "output_type": "execute_result"
    }
   ],
   "source": [
    "employeeListForStreamDemo"
   ]
  },
  {
   "cell_type": "code",
   "execution_count": null,
   "metadata": {},
   "outputs": [],
   "source": []
  },
  {
   "cell_type": "markdown",
   "metadata": {},
   "source": [
    "# java.util.Comparator"
   ]
  },
  {
   "cell_type": "code",
   "execution_count": 337,
   "metadata": {},
   "outputs": [],
   "source": [
    "List<String> names = Arrays.asList(\"John\", \"Alice\", \"Bob\");"
   ]
  },
  {
   "cell_type": "code",
   "execution_count": 338,
   "metadata": {},
   "outputs": [],
   "source": [
    " Comparator<String> lengthComparator = Comparator.comparingInt(String::length);"
   ]
  },
  {
   "cell_type": "code",
   "execution_count": 339,
   "metadata": {},
   "outputs": [],
   "source": [
    "Collections.sort(names, lengthComparator);"
   ]
  },
  {
   "cell_type": "code",
   "execution_count": 340,
   "metadata": {},
   "outputs": [
    {
     "data": {
      "text/plain": [
       "[Bob, John, Alice]"
      ]
     },
     "execution_count": 340,
     "metadata": {},
     "output_type": "execute_result"
    }
   ],
   "source": [
    "names"
   ]
  },
  {
   "cell_type": "code",
   "execution_count": 341,
   "metadata": {},
   "outputs": [],
   "source": [
    "Collections.sort(names, lengthComparator.reversed());"
   ]
  },
  {
   "cell_type": "code",
   "execution_count": 342,
   "metadata": {},
   "outputs": [
    {
     "data": {
      "text/plain": [
       "[Alice, John, Bob]"
      ]
     },
     "execution_count": 342,
     "metadata": {},
     "output_type": "execute_result"
    }
   ],
   "source": [
    "names"
   ]
  },
  {
   "cell_type": "markdown",
   "metadata": {},
   "source": [
    "# java.util.stream.Collectors"
   ]
  },
  {
   "cell_type": "code",
   "execution_count": 343,
   "metadata": {},
   "outputs": [],
   "source": [
    "import java.util.stream.Collectors"
   ]
  },
  {
   "cell_type": "code",
   "execution_count": 344,
   "metadata": {},
   "outputs": [],
   "source": [
    "List<String> names = List.of(\"John\", \"Alice\", \"Bob\", \"Bob\");"
   ]
  },
  {
   "cell_type": "code",
   "execution_count": 345,
   "metadata": {},
   "outputs": [],
   "source": [
    "List<String> sortedNames = names.stream()\n",
    "                                .sorted()\n",
    "                                .collect(Collectors.toList());"
   ]
  },
  {
   "cell_type": "code",
   "execution_count": 346,
   "metadata": {},
   "outputs": [
    {
     "data": {
      "text/plain": [
       "[Alice, Bob, Bob, John]"
      ]
     },
     "execution_count": 346,
     "metadata": {},
     "output_type": "execute_result"
    }
   ],
   "source": [
    "sortedNames"
   ]
  },
  {
   "cell_type": "code",
   "execution_count": 347,
   "metadata": {},
   "outputs": [],
   "source": [
    "Set<String> uniqueNames = names.stream()\n",
    "                               .collect(Collectors.toSet());"
   ]
  },
  {
   "cell_type": "code",
   "execution_count": 348,
   "metadata": {},
   "outputs": [
    {
     "data": {
      "text/plain": [
       "[Bob, Alice, John]"
      ]
     },
     "execution_count": 348,
     "metadata": {},
     "output_type": "execute_result"
    }
   ],
   "source": [
    "uniqueNames"
   ]
  },
  {
   "cell_type": "code",
   "execution_count": 349,
   "metadata": {},
   "outputs": [],
   "source": [
    "String joinedNames = names.stream()\n",
    "                          .collect(Collectors.joining(\", \"));"
   ]
  },
  {
   "cell_type": "code",
   "execution_count": 350,
   "metadata": {},
   "outputs": [
    {
     "data": {
      "text/plain": [
       "John, Alice, Bob, Bob"
      ]
     },
     "execution_count": 350,
     "metadata": {},
     "output_type": "execute_result"
    }
   ],
   "source": [
    "joinedNames"
   ]
  },
  {
   "cell_type": "code",
   "execution_count": 351,
   "metadata": {},
   "outputs": [],
   "source": [
    "Map<Integer, List<String>> groupedByLength = names.stream()\n",
    "                                                  .collect(Collectors.groupingBy(String::length));"
   ]
  },
  {
   "cell_type": "code",
   "execution_count": 352,
   "metadata": {},
   "outputs": [
    {
     "data": {
      "text/plain": [
       "{3=[Bob, Bob], 4=[John], 5=[Alice]}"
      ]
     },
     "execution_count": 352,
     "metadata": {},
     "output_type": "execute_result"
    }
   ],
   "source": [
    "groupedByLength"
   ]
  },
  {
   "cell_type": "code",
   "execution_count": 353,
   "metadata": {},
   "outputs": [],
   "source": [
    "Map<Boolean, List<String>> partitioned = names.stream()\n",
    "                                              .collect(Collectors.partitioningBy(name -> name.length() > 3));"
   ]
  },
  {
   "cell_type": "code",
   "execution_count": 354,
   "metadata": {},
   "outputs": [
    {
     "data": {
      "text/plain": [
       "{false=[Bob, Bob], true=[John, Alice]}"
      ]
     },
     "execution_count": 354,
     "metadata": {},
     "output_type": "execute_result"
    }
   ],
   "source": [
    "partitioned"
   ]
  },
  {
   "cell_type": "markdown",
   "metadata": {},
   "source": [
    "*  the Collectors.teeing method is introduced in Java 12 as part of the java.util.stream.Collectors class. It allows you to perform two independent collection operations on the same stream and then combine their results. This is particularly useful when you need to derive two different results from the same dataset in a single pass."
   ]
  },
  {
   "cell_type": "code",
   "execution_count": 630,
   "metadata": {},
   "outputs": [],
   "source": [
    "class Result {\n",
    "        private final int sum;\n",
    "        private final double average;\n",
    "\n",
    "        public Result(int sum, double average) {\n",
    "            this.sum = sum;\n",
    "            this.average = average;\n",
    "        }\n",
    "\n",
    "        public int getSum() {\n",
    "            return sum;\n",
    "        }\n",
    "\n",
    "        public double getAverage() {\n",
    "            return average;\n",
    "        }\n",
    "    }\n"
   ]
  },
  {
   "cell_type": "code",
   "execution_count": 631,
   "metadata": {},
   "outputs": [
    {
     "name": "stdout",
     "output_type": "stream",
     "text": [
      "Sum: 55\n",
      "Average: 5.5\n"
     ]
    }
   ],
   "source": [
    " List<Integer> numbers = Arrays.asList(1, 2, 3, 4, 5, 6, 7, 8, 9, 10);\n",
    "\n",
    "        // Using Collectors.teeing to calculate sum and average\n",
    "        Result result = numbers.stream().collect(\n",
    "            Collectors.teeing(\n",
    "                Collectors.summingInt(Integer::intValue),\n",
    "                Collectors.averagingInt(Integer::intValue),\n",
    "                (sum, avg) -> new Result(sum, avg)\n",
    "            )\n",
    "        );\n",
    "\n",
    "        System.out.println(\"Sum: \" + result.getSum());\n",
    "        System.out.println(\"Average: \" + result.getAverage());"
   ]
  },
  {
   "cell_type": "code",
   "execution_count": null,
   "metadata": {},
   "outputs": [],
   "source": []
  },
  {
   "cell_type": "markdown",
   "metadata": {},
   "source": [
    "# Optional"
   ]
  },
  {
   "cell_type": "code",
   "execution_count": 355,
   "metadata": {},
   "outputs": [],
   "source": [
    "import java.util.OptionalDouble;"
   ]
  },
  {
   "cell_type": "code",
   "execution_count": 356,
   "metadata": {},
   "outputs": [],
   "source": [
    "Optional<String> empty = Optional.empty();"
   ]
  },
  {
   "cell_type": "code",
   "execution_count": 357,
   "metadata": {},
   "outputs": [
    {
     "data": {
      "text/plain": [
       "Optional.empty"
      ]
     },
     "execution_count": 357,
     "metadata": {},
     "output_type": "execute_result"
    }
   ],
   "source": [
    "empty"
   ]
  },
  {
   "cell_type": "code",
   "execution_count": 358,
   "metadata": {},
   "outputs": [
    {
     "data": {
      "text/plain": [
       "false"
      ]
     },
     "execution_count": 358,
     "metadata": {},
     "output_type": "execute_result"
    }
   ],
   "source": [
    "empty.isPresent()"
   ]
  },
  {
   "cell_type": "code",
   "execution_count": 359,
   "metadata": {},
   "outputs": [
    {
     "data": {
      "text/plain": [
       "Deafulat value"
      ]
     },
     "execution_count": 359,
     "metadata": {},
     "output_type": "execute_result"
    }
   ],
   "source": [
    "empty.orElse(\"Deafulat value\")"
   ]
  },
  {
   "cell_type": "code",
   "execution_count": 360,
   "metadata": {},
   "outputs": [],
   "source": [
    "Optional<String> opt = Optional.of(\"Test Optional\");"
   ]
  },
  {
   "cell_type": "code",
   "execution_count": 361,
   "metadata": {},
   "outputs": [
    {
     "data": {
      "text/plain": [
       "true"
      ]
     },
     "execution_count": 361,
     "metadata": {},
     "output_type": "execute_result"
    }
   ],
   "source": [
    "opt.isPresent()"
   ]
  },
  {
   "cell_type": "code",
   "execution_count": 362,
   "metadata": {},
   "outputs": [
    {
     "name": "stdout",
     "output_type": "stream",
     "text": [
      "Test Optional\r\n"
     ]
    }
   ],
   "source": [
    "if (opt.isPresent()) {\n",
    "\tSystem.out.println(opt.get());\n",
    "}"
   ]
  },
  {
   "cell_type": "code",
   "execution_count": 363,
   "metadata": {},
   "outputs": [
    {
     "data": {
      "text/plain": [
       "Optional[Test Optional]"
      ]
     },
     "execution_count": 363,
     "metadata": {},
     "output_type": "execute_result"
    }
   ],
   "source": [
    "opt.filter((s)->s.equals(\"Test Optional\"))"
   ]
  },
  {
   "cell_type": "code",
   "execution_count": 364,
   "metadata": {},
   "outputs": [
    {
     "data": {
      "text/plain": [
       "Optional.empty"
      ]
     },
     "execution_count": 364,
     "metadata": {},
     "output_type": "execute_result"
    }
   ],
   "source": [
    "opt.filter((s)->s.equals(\"##Test Optional\"))"
   ]
  },
  {
   "cell_type": "code",
   "execution_count": 365,
   "metadata": {},
   "outputs": [
    {
     "data": {
      "text/plain": [
       "Default Value"
      ]
     },
     "execution_count": 365,
     "metadata": {},
     "output_type": "execute_result"
    }
   ],
   "source": [
    "empty.orElse(\"Default Value\")"
   ]
  },
  {
   "cell_type": "code",
   "execution_count": 366,
   "metadata": {},
   "outputs": [
    {
     "data": {
      "text/plain": [
       "Test Optional"
      ]
     },
     "execution_count": 366,
     "metadata": {},
     "output_type": "execute_result"
    }
   ],
   "source": [
    "opt.orElse(\"Default Value\")"
   ]
  },
  {
   "cell_type": "code",
   "execution_count": 367,
   "metadata": {},
   "outputs": [
    {
     "name": "stdout",
     "output_type": "stream",
     "text": [
      "Test Optional\r\n"
     ]
    }
   ],
   "source": [
    "opt.ifPresent(System.out::println);"
   ]
  },
  {
   "cell_type": "code",
   "execution_count": 368,
   "metadata": {},
   "outputs": [],
   "source": [
    "// This prints nothing\n",
    "empty.ifPresent(System.out::println);"
   ]
  },
  {
   "cell_type": "code",
   "execution_count": 369,
   "metadata": {},
   "outputs": [],
   "source": [
    "OptionalDouble optionalDouble = OptionalDouble.of(100);"
   ]
  },
  {
   "cell_type": "code",
   "execution_count": 370,
   "metadata": {},
   "outputs": [
    {
     "data": {
      "text/plain": [
       "true"
      ]
     },
     "execution_count": 370,
     "metadata": {},
     "output_type": "execute_result"
    }
   ],
   "source": [
    "optionalDouble.isPresent()"
   ]
  },
  {
   "cell_type": "code",
   "execution_count": 371,
   "metadata": {},
   "outputs": [
    {
     "data": {
      "text/plain": [
       "100.0"
      ]
     },
     "execution_count": 371,
     "metadata": {},
     "output_type": "execute_result"
    }
   ],
   "source": [
    "optionalDouble.getAsDouble()"
   ]
  },
  {
   "cell_type": "code",
   "execution_count": 372,
   "metadata": {},
   "outputs": [],
   "source": [
    "Integer year = 2016;\n",
    "Optional<Integer> yearOptional = Optional.of(year);"
   ]
  },
  {
   "cell_type": "code",
   "execution_count": 373,
   "metadata": {},
   "outputs": [
    {
     "data": {
      "text/plain": [
       "true"
      ]
     },
     "execution_count": 373,
     "metadata": {},
     "output_type": "execute_result"
    }
   ],
   "source": [
    "yearOptional.filter(y -> y == 2016).isPresent()"
   ]
  },
  {
   "cell_type": "code",
   "execution_count": 374,
   "metadata": {},
   "outputs": [
    {
     "data": {
      "text/plain": [
       "false"
      ]
     },
     "execution_count": 374,
     "metadata": {},
     "output_type": "execute_result"
    }
   ],
   "source": [
    "yearOptional.filter(y -> y != 2016).isPresent()"
   ]
  },
  {
   "cell_type": "markdown",
   "metadata": {},
   "source": [
    "# Predicate"
   ]
  },
  {
   "cell_type": "code",
   "execution_count": 375,
   "metadata": {},
   "outputs": [],
   "source": [
    "import java.util.function.Predicate;\n",
    "import java.util.function.BiPredicate;\n",
    "Predicate<String> p = s->(s.length()>5);"
   ]
  },
  {
   "cell_type": "code",
   "execution_count": 376,
   "metadata": {},
   "outputs": [
    {
     "data": {
      "text/plain": [
       "true"
      ]
     },
     "execution_count": 376,
     "metadata": {},
     "output_type": "execute_result"
    }
   ],
   "source": [
    "p.test(\"Hello123\")"
   ]
  },
  {
   "cell_type": "code",
   "execution_count": 377,
   "metadata": {},
   "outputs": [],
   "source": [
    "Predicate<Integer> p1 = i-> i>10;"
   ]
  },
  {
   "cell_type": "code",
   "execution_count": 378,
   "metadata": {},
   "outputs": [
    {
     "data": {
      "text/plain": [
       "false"
      ]
     },
     "execution_count": 378,
     "metadata": {},
     "output_type": "execute_result"
    }
   ],
   "source": [
    "p1.test(8)"
   ]
  },
  {
   "cell_type": "code",
   "execution_count": 379,
   "metadata": {},
   "outputs": [],
   "source": [
    "Predicate<Integer> p2 = i->i%2==0;"
   ]
  },
  {
   "cell_type": "code",
   "execution_count": 380,
   "metadata": {},
   "outputs": [
    {
     "data": {
      "text/plain": [
       "false"
      ]
     },
     "execution_count": 380,
     "metadata": {},
     "output_type": "execute_result"
    }
   ],
   "source": [
    "p1.and(p2).test(13)"
   ]
  },
  {
   "cell_type": "code",
   "execution_count": 381,
   "metadata": {},
   "outputs": [],
   "source": [
    " Predicate<Integer> combinedPredicate = p1.and(p2);"
   ]
  },
  {
   "cell_type": "code",
   "execution_count": 382,
   "metadata": {},
   "outputs": [
    {
     "data": {
      "text/plain": [
       "true"
      ]
     },
     "execution_count": 382,
     "metadata": {},
     "output_type": "execute_result"
    }
   ],
   "source": [
    "combinedPredicate.test(14)"
   ]
  },
  {
   "cell_type": "code",
   "execution_count": 383,
   "metadata": {},
   "outputs": [],
   "source": [
    "BiPredicate<String, String> predicate = String::startsWith;"
   ]
  },
  {
   "cell_type": "code",
   "execution_count": 384,
   "metadata": {},
   "outputs": [
    {
     "data": {
      "text/plain": [
       "true"
      ]
     },
     "execution_count": 384,
     "metadata": {},
     "output_type": "execute_result"
    }
   ],
   "source": [
    "predicate.test(\"Test\",\"Te\")"
   ]
  },
  {
   "cell_type": "code",
   "execution_count": 385,
   "metadata": {},
   "outputs": [],
   "source": [
    "Predicate<Employee> isOld = e -> e.getAge() > 22;"
   ]
  },
  {
   "cell_type": "code",
   "execution_count": 386,
   "metadata": {},
   "outputs": [],
   "source": [
    "Predicate<Employee> isTechnology = e -> e.getDepartment() == Department.TECHNOLOGY;"
   ]
  },
  {
   "cell_type": "code",
   "execution_count": 387,
   "metadata": {},
   "outputs": [
    {
     "name": "stdout",
     "output_type": "stream",
     "text": [
      "first 2 last2: Age: 18 :Department: TECHNOLOGY\n",
      "first 5 last5: Age: 25 :Department: TECHNOLOGY\n"
     ]
    }
   ],
   "source": [
    "employeeListForStreamDemo.stream().filter(isTechnology).forEach(Employee::auditAndUpdate);"
   ]
  },
  {
   "cell_type": "code",
   "execution_count": 388,
   "metadata": {},
   "outputs": [
    {
     "name": "stdout",
     "output_type": "stream",
     "text": [
      "first 5 last5: Age: 25 :Department: TECHNOLOGY\r\n"
     ]
    }
   ],
   "source": [
    "employeeListForStreamDemo.stream().filter(isTechnology).filter(isOld).forEach(Employee::auditAndUpdate);"
   ]
  },
  {
   "cell_type": "code",
   "execution_count": 389,
   "metadata": {},
   "outputs": [],
   "source": [
    "Predicate<String> testStartforVowel = (str) -> str.startsWith(\"a\") || str.startsWith(\"e\") || str.startsWith(\"i\")\n",
    "\t\t\t\t|| str.startsWith(\"o\") || str.startsWith(\"u\");"
   ]
  },
  {
   "cell_type": "code",
   "execution_count": 390,
   "metadata": {},
   "outputs": [
    {
     "data": {
      "text/plain": [
       "true"
      ]
     },
     "execution_count": 390,
     "metadata": {},
     "output_type": "execute_result"
    }
   ],
   "source": [
    "testStartforVowel.test(\"aa\")"
   ]
  },
  {
   "cell_type": "code",
   "execution_count": 391,
   "metadata": {},
   "outputs": [
    {
     "data": {
      "text/plain": [
       "false"
      ]
     },
     "execution_count": 391,
     "metadata": {},
     "output_type": "execute_result"
    }
   ],
   "source": [
    "testStartforVowel.test(\"bb\")"
   ]
  },
  {
   "cell_type": "code",
   "execution_count": 392,
   "metadata": {},
   "outputs": [
    {
     "data": {
      "text/plain": [
       "true"
      ]
     },
     "execution_count": 392,
     "metadata": {},
     "output_type": "execute_result"
    }
   ],
   "source": [
    "testStartforVowel.test(\"aei\")"
   ]
  },
  {
   "cell_type": "code",
   "execution_count": null,
   "metadata": {},
   "outputs": [],
   "source": []
  },
  {
   "cell_type": "markdown",
   "metadata": {},
   "source": [
    "# Consumer"
   ]
  },
  {
   "cell_type": "code",
   "execution_count": 393,
   "metadata": {},
   "outputs": [],
   "source": [
    "import java.util.function.Consumer;\n",
    "import java.util.function.BiConsumer;"
   ]
  },
  {
   "cell_type": "code",
   "execution_count": 394,
   "metadata": {},
   "outputs": [],
   "source": [
    "Consumer<String> printConsumer = s -> System.out.println(s);"
   ]
  },
  {
   "cell_type": "code",
   "execution_count": 395,
   "metadata": {},
   "outputs": [
    {
     "name": "stdout",
     "output_type": "stream",
     "text": [
      "Hello, World!\r\n"
     ]
    }
   ],
   "source": [
    " printConsumer.accept(\"Hello, World!\");"
   ]
  },
  {
   "cell_type": "code",
   "execution_count": 396,
   "metadata": {},
   "outputs": [],
   "source": [
    "BiConsumer<String, Integer> printBiConsumer = (s, i) -> System.out.println(s + \": \" + i);"
   ]
  },
  {
   "cell_type": "code",
   "execution_count": 589,
   "metadata": {},
   "outputs": [
    {
     "name": "stdout",
     "output_type": "stream",
     "text": [
      "Age: 30\r\n"
     ]
    }
   ],
   "source": [
    "printBiConsumer.accept(\"Age\", 30);"
   ]
  },
  {
   "cell_type": "markdown",
   "metadata": {},
   "source": [
    "# Supplier"
   ]
  },
  {
   "cell_type": "code",
   "execution_count": 592,
   "metadata": {},
   "outputs": [],
   "source": [
    "Supplier<Double> randomValue = () -> Math.random();"
   ]
  },
  {
   "cell_type": "code",
   "execution_count": 593,
   "metadata": {},
   "outputs": [
    {
     "data": {
      "text/plain": [
       "0.9787154168881717"
      ]
     },
     "execution_count": 593,
     "metadata": {},
     "output_type": "execute_result"
    }
   ],
   "source": [
    "randomValue.get()"
   ]
  },
  {
   "cell_type": "code",
   "execution_count": 594,
   "metadata": {},
   "outputs": [],
   "source": [
    "Supplier<String> strSupplier = () -> {\n",
    "\t\t\tString str1 = \"Test string for supplier\";\n",
    "\t\t\treturn str1;\n",
    "\n",
    "\t\t};"
   ]
  },
  {
   "cell_type": "code",
   "execution_count": 595,
   "metadata": {},
   "outputs": [
    {
     "data": {
      "text/plain": [
       "Test string for supplier"
      ]
     },
     "execution_count": 595,
     "metadata": {},
     "output_type": "execute_result"
    }
   ],
   "source": [
    "strSupplier.get()"
   ]
  },
  {
   "cell_type": "code",
   "execution_count": 596,
   "metadata": {},
   "outputs": [],
   "source": [
    "// IntSupplier\n",
    "\t\tIntSupplier intSupplier = () -> {\n",
    "\t\t\tint i = 25;\n",
    "\t\t\treturn i;\n",
    "\t\t};"
   ]
  },
  {
   "cell_type": "code",
   "execution_count": 597,
   "metadata": {},
   "outputs": [
    {
     "data": {
      "text/plain": [
       "25"
      ]
     },
     "execution_count": 597,
     "metadata": {},
     "output_type": "execute_result"
    }
   ],
   "source": [
    "intSupplier.getAsInt()"
   ]
  },
  {
   "cell_type": "markdown",
   "metadata": {},
   "source": [
    "# BinaryOperator"
   ]
  },
  {
   "cell_type": "code",
   "execution_count": 398,
   "metadata": {},
   "outputs": [],
   "source": [
    "import java.util.function.BinaryOperator;"
   ]
  },
  {
   "cell_type": "code",
   "execution_count": 399,
   "metadata": {},
   "outputs": [],
   "source": [
    "BinaryOperator<String> concatenate = (s1, s2) -> s1 + s2;"
   ]
  },
  {
   "cell_type": "code",
   "execution_count": 400,
   "metadata": {},
   "outputs": [
    {
     "data": {
      "text/plain": [
       "Hello:World"
      ]
     },
     "execution_count": 400,
     "metadata": {},
     "output_type": "execute_result"
    }
   ],
   "source": [
    "concatenate.apply(\"Hello:\",\"World\")"
   ]
  },
  {
   "cell_type": "markdown",
   "metadata": {},
   "source": [
    "# Collections"
   ]
  },
  {
   "cell_type": "markdown",
   "metadata": {},
   "source": [
    "![](pictures/collections1.png)"
   ]
  },
  {
   "cell_type": "markdown",
   "metadata": {},
   "source": [
    "![](pictures/map1.png)"
   ]
  },
  {
   "cell_type": "markdown",
   "metadata": {},
   "source": [
    "![](pictures/map2.png)"
   ]
  },
  {
   "cell_type": "markdown",
   "metadata": {},
   "source": [
    "![](pictures/queue1.png)"
   ]
  },
  {
   "cell_type": "code",
   "execution_count": 401,
   "metadata": {},
   "outputs": [],
   "source": [
    "int[] array1 = { 40, 10, 15, 7 };"
   ]
  },
  {
   "cell_type": "code",
   "execution_count": 402,
   "metadata": {},
   "outputs": [
    {
     "name": "stdout",
     "output_type": "stream",
     "text": [
      "40\n",
      "10\n",
      "15\n",
      "7\n"
     ]
    }
   ],
   "source": [
    "for (int i :array1) {\n",
    "    System.out.println(i);\n",
    "}"
   ]
  },
  {
   "cell_type": "code",
   "execution_count": 403,
   "metadata": {},
   "outputs": [],
   "source": [
    "Arrays.sort(array1);"
   ]
  },
  {
   "cell_type": "markdown",
   "metadata": {},
   "source": [
    "## List"
   ]
  },
  {
   "cell_type": "code",
   "execution_count": 404,
   "metadata": {},
   "outputs": [
    {
     "name": "stdout",
     "output_type": "stream",
     "text": [
      "7\n",
      "10\n",
      "15\n",
      "40\n"
     ]
    }
   ],
   "source": [
    "for (int i :array1) {\n",
    "    System.out.println(i);\n",
    "}"
   ]
  },
  {
   "cell_type": "code",
   "execution_count": 405,
   "metadata": {},
   "outputs": [
    {
     "data": {
      "text/plain": [
       "true"
      ]
     },
     "execution_count": 405,
     "metadata": {},
     "output_type": "execute_result"
    }
   ],
   "source": [
    "List<Integer> list2 = new ArrayList<>();\n",
    "list2.add(10);\n",
    "list2.add(8);\n",
    "list2.add(50);\n",
    "list2.add(78);"
   ]
  },
  {
   "cell_type": "code",
   "execution_count": 406,
   "metadata": {},
   "outputs": [
    {
     "data": {
      "text/plain": [
       "[10, 8, 50, 78]"
      ]
     },
     "execution_count": 406,
     "metadata": {},
     "output_type": "execute_result"
    }
   ],
   "source": [
    "list2"
   ]
  },
  {
   "cell_type": "code",
   "execution_count": 407,
   "metadata": {},
   "outputs": [],
   "source": [
    "Collections.reverse(list2);"
   ]
  },
  {
   "cell_type": "code",
   "execution_count": 408,
   "metadata": {},
   "outputs": [
    {
     "data": {
      "text/plain": [
       "[78, 50, 8, 10]"
      ]
     },
     "execution_count": 408,
     "metadata": {},
     "output_type": "execute_result"
    }
   ],
   "source": [
    "list2"
   ]
  },
  {
   "cell_type": "code",
   "execution_count": 409,
   "metadata": {},
   "outputs": [],
   "source": [
    "Collections.sort(list2);"
   ]
  },
  {
   "cell_type": "code",
   "execution_count": 410,
   "metadata": {},
   "outputs": [
    {
     "data": {
      "text/plain": [
       "[8, 10, 50, 78]"
      ]
     },
     "execution_count": 410,
     "metadata": {},
     "output_type": "execute_result"
    }
   ],
   "source": [
    "list2"
   ]
  },
  {
   "cell_type": "code",
   "execution_count": 411,
   "metadata": {},
   "outputs": [
    {
     "data": {
      "text/plain": [
       "8"
      ]
     },
     "execution_count": 411,
     "metadata": {},
     "output_type": "execute_result"
    }
   ],
   "source": [
    "Collections.min(list2);"
   ]
  },
  {
   "cell_type": "code",
   "execution_count": 412,
   "metadata": {},
   "outputs": [
    {
     "data": {
      "text/plain": [
       "78"
      ]
     },
     "execution_count": 412,
     "metadata": {},
     "output_type": "execute_result"
    }
   ],
   "source": [
    "Collections.max(list2);"
   ]
  },
  {
   "cell_type": "code",
   "execution_count": 413,
   "metadata": {},
   "outputs": [],
   "source": [
    "public class MyStringComparator implements Comparator<String> {\n",
    "\n",
    "\t@Override\n",
    "\tpublic int compare(String o1, String o2) {\n",
    "\t\treturn o1.compareTo(o2);\n",
    "\t}\n",
    "\n",
    "}"
   ]
  },
  {
   "cell_type": "code",
   "execution_count": 414,
   "metadata": {},
   "outputs": [
    {
     "data": {
      "text/plain": [
       "true"
      ]
     },
     "execution_count": 414,
     "metadata": {},
     "output_type": "execute_result"
    }
   ],
   "source": [
    "List<String> list3 = new ArrayList<>();\n",
    "list3.add(\"Z\");\n",
    "list3.add(\"A\");\n",
    "list3.add(\"X\");\n",
    "list3.add(\"B\");"
   ]
  },
  {
   "cell_type": "code",
   "execution_count": 415,
   "metadata": {},
   "outputs": [
    {
     "data": {
      "text/plain": [
       "[Z, A, X, B]"
      ]
     },
     "execution_count": 415,
     "metadata": {},
     "output_type": "execute_result"
    }
   ],
   "source": [
    "list3"
   ]
  },
  {
   "cell_type": "code",
   "execution_count": 416,
   "metadata": {},
   "outputs": [],
   "source": [
    "list3.add(2, \"JJ\");"
   ]
  },
  {
   "cell_type": "code",
   "execution_count": 417,
   "metadata": {},
   "outputs": [
    {
     "data": {
      "text/plain": [
       "[Z, A, JJ, X, B]"
      ]
     },
     "execution_count": 417,
     "metadata": {},
     "output_type": "execute_result"
    }
   ],
   "source": [
    "list3"
   ]
  },
  {
   "cell_type": "code",
   "execution_count": 418,
   "metadata": {},
   "outputs": [
    {
     "data": {
      "text/plain": [
       "JJ"
      ]
     },
     "execution_count": 418,
     "metadata": {},
     "output_type": "execute_result"
    }
   ],
   "source": [
    "list3.set(2, \"YY\");"
   ]
  },
  {
   "cell_type": "code",
   "execution_count": 419,
   "metadata": {},
   "outputs": [
    {
     "data": {
      "text/plain": [
       "[Z, A, YY, X, B]"
      ]
     },
     "execution_count": 419,
     "metadata": {},
     "output_type": "execute_result"
    }
   ],
   "source": [
    "list3"
   ]
  },
  {
   "cell_type": "code",
   "execution_count": 420,
   "metadata": {},
   "outputs": [],
   "source": [
    "Collections.sort(list3);"
   ]
  },
  {
   "cell_type": "code",
   "execution_count": 421,
   "metadata": {},
   "outputs": [
    {
     "data": {
      "text/plain": [
       "[A, B, X, YY, Z]"
      ]
     },
     "execution_count": 421,
     "metadata": {},
     "output_type": "execute_result"
    }
   ],
   "source": [
    "list3"
   ]
  },
  {
   "cell_type": "code",
   "execution_count": 422,
   "metadata": {},
   "outputs": [],
   "source": [
    "Collections.sort(list3, new MyStringComparator());"
   ]
  },
  {
   "cell_type": "code",
   "execution_count": 423,
   "metadata": {},
   "outputs": [
    {
     "data": {
      "text/plain": [
       "[A, B, X, YY, Z]"
      ]
     },
     "execution_count": 423,
     "metadata": {},
     "output_type": "execute_result"
    }
   ],
   "source": [
    "list3"
   ]
  },
  {
   "cell_type": "code",
   "execution_count": 424,
   "metadata": {},
   "outputs": [],
   "source": [
    "int result = Collections.binarySearch(list3, \"C\");\t"
   ]
  },
  {
   "cell_type": "code",
   "execution_count": 425,
   "metadata": {},
   "outputs": [
    {
     "data": {
      "text/plain": [
       "-3"
      ]
     },
     "execution_count": 425,
     "metadata": {},
     "output_type": "execute_result"
    }
   ],
   "source": [
    "result"
   ]
  },
  {
   "cell_type": "code",
   "execution_count": 426,
   "metadata": {},
   "outputs": [],
   "source": [
    "int result = Collections.binarySearch(list3, \"X\");\t"
   ]
  },
  {
   "cell_type": "code",
   "execution_count": 427,
   "metadata": {},
   "outputs": [
    {
     "data": {
      "text/plain": [
       "2"
      ]
     },
     "execution_count": 427,
     "metadata": {},
     "output_type": "execute_result"
    }
   ],
   "source": [
    "result"
   ]
  },
  {
   "cell_type": "code",
   "execution_count": 428,
   "metadata": {},
   "outputs": [],
   "source": [
    "// LinkedList\n",
    "List<String> list = new LinkedList<>();"
   ]
  },
  {
   "cell_type": "code",
   "execution_count": 429,
   "metadata": {},
   "outputs": [
    {
     "data": {
      "text/plain": [
       "true"
      ]
     },
     "execution_count": 429,
     "metadata": {},
     "output_type": "execute_result"
    }
   ],
   "source": [
    "list.add(\"abc\");\n",
    "list.add(\"def\");\n",
    "list.add(\"xyz\");"
   ]
  },
  {
   "cell_type": "code",
   "execution_count": 430,
   "metadata": {},
   "outputs": [],
   "source": [
    "ListIterator<String> itr = list.listIterator();"
   ]
  },
  {
   "cell_type": "code",
   "execution_count": 431,
   "metadata": {},
   "outputs": [
    {
     "name": "stdout",
     "output_type": "stream",
     "text": [
      "abc\n",
      "def\n",
      "xyz\n"
     ]
    }
   ],
   "source": [
    "while (itr.hasNext()) {\n",
    "    System.out.println(itr.next());\n",
    "}"
   ]
  },
  {
   "cell_type": "code",
   "execution_count": 432,
   "metadata": {},
   "outputs": [
    {
     "name": "stdout",
     "output_type": "stream",
     "text": [
      "xyz\n",
      "def\n",
      "abc\n"
     ]
    }
   ],
   "source": [
    "// Reverse Iterator\n",
    "while (itr.hasPrevious()) {\n",
    "    System.out.println(itr.previous());\n",
    "}"
   ]
  },
  {
   "cell_type": "markdown",
   "metadata": {},
   "source": [
    ". LinkedList takes more time for insertion "
   ]
  },
  {
   "cell_type": "code",
   "execution_count": 433,
   "metadata": {},
   "outputs": [],
   "source": [
    "//Object objects[] = new Object[1000000];\n",
    "Object objects[] = new Object[1000];\n",
    "\n",
    "for (int i = 0; i < objects.length; i++) {\n",
    "objects[i] = new Object();\n",
    "}"
   ]
  },
  {
   "cell_type": "code",
   "execution_count": 434,
   "metadata": {},
   "outputs": [
    {
     "name": "stdout",
     "output_type": "stream",
     "text": [
      "Time Taken for updatting List:49\n",
      "Time Taken for updatting LIkedList:36\n"
     ]
    }
   ],
   "source": [
    "List<Object> list4 = new ArrayList<>();\n",
    "long start = System.currentTimeMillis();\n",
    "for (Object object : objects) {\n",
    "    list4.add(object);\n",
    "}\n",
    "long end = System.currentTimeMillis();\n",
    "System.out.println(\"Time Taken for updatting List:\" + (end - start));\n",
    "\n",
    "List<Object> linkedList = new LinkedList<>();\n",
    "start = System.currentTimeMillis();\n",
    "for (Object object : objects) {\n",
    "    linkedList.add(object);\n",
    "}\n",
    "end = System.currentTimeMillis();\n",
    "System.out.println(\"Time Taken for updatting LIkedList:\" + (end - start));"
   ]
  },
  {
   "cell_type": "markdown",
   "metadata": {},
   "source": [
    "* CopyOnWriteArrayList can be used to modify an interator"
   ]
  },
  {
   "cell_type": "code",
   "execution_count": 435,
   "metadata": {},
   "outputs": [],
   "source": [
    "CopyOnWriteArrayList<String> list = new CopyOnWriteArrayList<>();"
   ]
  },
  {
   "cell_type": "code",
   "execution_count": 436,
   "metadata": {},
   "outputs": [
    {
     "data": {
      "text/plain": [
       "true"
      ]
     },
     "execution_count": 436,
     "metadata": {},
     "output_type": "execute_result"
    }
   ],
   "source": [
    "list.add(\"str1\");\n",
    "list.add(\"str2\")"
   ]
  },
  {
   "cell_type": "code",
   "execution_count": 437,
   "metadata": {},
   "outputs": [
    {
     "data": {
      "text/plain": [
       "true"
      ]
     },
     "execution_count": 437,
     "metadata": {},
     "output_type": "execute_result"
    }
   ],
   "source": [
    "Iterator<String> iterator = list.iterator();\n",
    "// below line will through java.util.ConcurrentModificationException with regular ArrayList\n",
    "list.add(\"str3\");"
   ]
  },
  {
   "cell_type": "code",
   "execution_count": 438,
   "metadata": {},
   "outputs": [
    {
     "name": "stdout",
     "output_type": "stream",
     "text": [
      "#### First iterator####\n",
      "str1\n",
      "str2\n"
     ]
    }
   ],
   "source": [
    "System.out.println(\"#### First iterator####\");\n",
    "\t\twhile (iterator.hasNext()) {\n",
    "\t\t\tSystem.out.println(iterator.next());\n",
    "\t\t}"
   ]
  },
  {
   "cell_type": "code",
   "execution_count": 439,
   "metadata": {},
   "outputs": [
    {
     "name": "stdout",
     "output_type": "stream",
     "text": [
      "#### Second iterator####\n",
      "str1\n",
      "str2\n",
      "str3\n"
     ]
    }
   ],
   "source": [
    "System.out.println(\"#### Second iterator####\");\n",
    "\t\tIterator<String> iterator2 = list.iterator();\n",
    "\t\twhile (iterator2.hasNext()) {\n",
    "\t\t\tSystem.out.println(iterator2.next());\n",
    "\t\t}"
   ]
  },
  {
   "cell_type": "markdown",
   "metadata": {},
   "source": [
    "* Collections.unmodifiableList"
   ]
  },
  {
   "cell_type": "code",
   "execution_count": 440,
   "metadata": {},
   "outputs": [],
   "source": [
    "// Can't modify unmodifiableList\n",
    "List<String> strList1 = new ArrayList<String>();\n",
    "\t\tstrList1.add(\"str4\");\n",
    "\t\tstrList1.add(\"str5\");\n",
    "\t\tList<String> strList2 = Collections.unmodifiableList(strList1);\n",
    "\t\ttry {\n",
    "\t\t\t// below line will throw exception\n",
    "// \t\t\tstrList2.add(\"t\");\n",
    "\n",
    "\t\t} catch (Exception e) {\n",
    "\t\t\te.printStackTrace();\n",
    "\t\t}"
   ]
  },
  {
   "cell_type": "code",
   "execution_count": null,
   "metadata": {},
   "outputs": [],
   "source": []
  },
  {
   "cell_type": "markdown",
   "metadata": {},
   "source": [
    "## Map"
   ]
  },
  {
   "cell_type": "code",
   "execution_count": 441,
   "metadata": {},
   "outputs": [],
   "source": [
    "Map<String, Integer> map = new HashMap<>();"
   ]
  },
  {
   "cell_type": "code",
   "execution_count": 442,
   "metadata": {},
   "outputs": [],
   "source": [
    "map.put(\"John\", 70);\n",
    "map.put(\"Tom\", 60);"
   ]
  },
  {
   "cell_type": "code",
   "execution_count": 443,
   "metadata": {},
   "outputs": [],
   "source": [
    "Set<String> keySet = map.keySet();"
   ]
  },
  {
   "cell_type": "code",
   "execution_count": 444,
   "metadata": {},
   "outputs": [
    {
     "data": {
      "text/plain": [
       "[Tom, John]"
      ]
     },
     "execution_count": 444,
     "metadata": {},
     "output_type": "execute_result"
    }
   ],
   "source": [
    "keySet"
   ]
  },
  {
   "cell_type": "code",
   "execution_count": 445,
   "metadata": {},
   "outputs": [],
   "source": [
    "Collection<Integer> values = map.values();"
   ]
  },
  {
   "cell_type": "code",
   "execution_count": 446,
   "metadata": {},
   "outputs": [
    {
     "data": {
      "text/plain": [
       "[60, 70]"
      ]
     },
     "execution_count": 446,
     "metadata": {},
     "output_type": "execute_result"
    }
   ],
   "source": [
    "values"
   ]
  },
  {
   "cell_type": "code",
   "execution_count": 447,
   "metadata": {},
   "outputs": [
    {
     "name": "stdout",
     "output_type": "stream",
     "text": [
      "Key:Tom Value:60\n",
      "Key:John Value:70\n"
     ]
    }
   ],
   "source": [
    "for (String key : keySet) {\n",
    "\tSystem.out.println(\"Key:\" + key + \" Value:\" + map.get(key));\n",
    "}"
   ]
  },
  {
   "cell_type": "code",
   "execution_count": 448,
   "metadata": {},
   "outputs": [
    {
     "name": "stdout",
     "output_type": "stream",
     "text": [
      "Key: Tom, Value: 60\n",
      "Key: John, Value: 70\n"
     ]
    }
   ],
   "source": [
    "for (Map.Entry<String, Integer> entry : map.entrySet()) {\n",
    "            String key = entry.getKey();\n",
    "            Integer value = entry.getValue();\n",
    "            System.out.println(\"Key: \" + key + \", Value: \" + value);\n",
    "\n",
    "}"
   ]
  },
  {
   "cell_type": "code",
   "execution_count": 449,
   "metadata": {},
   "outputs": [],
   "source": [
    "// IdentityHashMap uses the == for keys. .equals()\n",
    "Map<String, String> identityHashMap = new IdentityHashMap<>();\n",
    "String key1 = new String(\"key\");\n",
    "String key2 = new String(\"key\");"
   ]
  },
  {
   "cell_type": "code",
   "execution_count": 450,
   "metadata": {},
   "outputs": [],
   "source": [
    "identityHashMap.put(key1, \"value1\");\n",
    "identityHashMap.put(key2, \"value2\");"
   ]
  },
  {
   "cell_type": "code",
   "execution_count": 451,
   "metadata": {},
   "outputs": [
    {
     "data": {
      "text/plain": [
       "2"
      ]
     },
     "execution_count": 451,
     "metadata": {},
     "output_type": "execute_result"
    }
   ],
   "source": [
    "identityHashMap.size()"
   ]
  },
  {
   "cell_type": "markdown",
   "metadata": {},
   "source": [
    "* LinkedHashMap preserves the order in which keys are added"
   ]
  },
  {
   "cell_type": "markdown",
   "metadata": {},
   "source": [
    "* WeakHashMap: If the keys are referenced nowhere else, GC can remove the key from memory"
   ]
  },
  {
   "cell_type": "code",
   "execution_count": 452,
   "metadata": {},
   "outputs": [],
   "source": [
    "NavigableMap<Integer, String> map = new TreeMap<>();\n",
    "        map.put(1, \"One\");\n",
    "        map.put(2, \"Two\");\n",
    "        map.put(3, \"Three\");"
   ]
  },
  {
   "cell_type": "code",
   "execution_count": 453,
   "metadata": {},
   "outputs": [
    {
     "data": {
      "text/plain": [
       "{1=One, 2=Two, 3=Three}"
      ]
     },
     "execution_count": 453,
     "metadata": {},
     "output_type": "execute_result"
    }
   ],
   "source": [
    "map"
   ]
  },
  {
   "cell_type": "code",
   "execution_count": 454,
   "metadata": {},
   "outputs": [
    {
     "data": {
      "text/plain": [
       "{3=Three, 2=Two, 1=One}"
      ]
     },
     "execution_count": 454,
     "metadata": {},
     "output_type": "execute_result"
    }
   ],
   "source": [
    "map.descendingMap()"
   ]
  },
  {
   "cell_type": "code",
   "execution_count": 455,
   "metadata": {},
   "outputs": [
    {
     "data": {
      "text/plain": [
       "2=Two"
      ]
     },
     "execution_count": 455,
     "metadata": {},
     "output_type": "execute_result"
    }
   ],
   "source": [
    "map.ceilingEntry(2)"
   ]
  },
  {
   "cell_type": "code",
   "execution_count": 456,
   "metadata": {},
   "outputs": [
    {
     "data": {
      "text/plain": [
       "2=Two"
      ]
     },
     "execution_count": 456,
     "metadata": {},
     "output_type": "execute_result"
    }
   ],
   "source": [
    " map.floorEntry(2)"
   ]
  },
  {
   "cell_type": "code",
   "execution_count": 457,
   "metadata": {},
   "outputs": [
    {
     "data": {
      "text/plain": [
       "3=Three"
      ]
     },
     "execution_count": 457,
     "metadata": {},
     "output_type": "execute_result"
    }
   ],
   "source": [
    "map.higherEntry(2)"
   ]
  },
  {
   "cell_type": "code",
   "execution_count": 458,
   "metadata": {},
   "outputs": [
    {
     "data": {
      "text/plain": [
       "1=One"
      ]
     },
     "execution_count": 458,
     "metadata": {},
     "output_type": "execute_result"
    }
   ],
   "source": [
    "map.lowerEntry(2)"
   ]
  },
  {
   "cell_type": "code",
   "execution_count": 459,
   "metadata": {},
   "outputs": [
    {
     "data": {
      "text/plain": [
       "{1=One, 2=Two, 3=Three}"
      ]
     },
     "execution_count": 459,
     "metadata": {},
     "output_type": "execute_result"
    }
   ],
   "source": [
    "map.subMap(1, true, 3, true)"
   ]
  },
  {
   "cell_type": "markdown",
   "metadata": {},
   "source": [
    "## Set"
   ]
  },
  {
   "cell_type": "markdown",
   "metadata": {},
   "source": [
    "* NavigableTreeSet is implemented by TreeSet. TreeSet maintains teh natural order"
   ]
  },
  {
   "cell_type": "code",
   "execution_count": 460,
   "metadata": {},
   "outputs": [
    {
     "data": {
      "text/plain": [
       "true"
      ]
     },
     "execution_count": 460,
     "metadata": {},
     "output_type": "execute_result"
    }
   ],
   "source": [
    "TreeSet<Integer> s = new TreeSet<Integer>();\n",
    "\n",
    "s.add(10);\n",
    "s.add(20);\n",
    "s.add(50);\n",
    "s.add(40);\n",
    "s.add(30);"
   ]
  },
  {
   "cell_type": "code",
   "execution_count": 461,
   "metadata": {},
   "outputs": [
    {
     "data": {
      "text/plain": [
       "[10, 20, 30, 40, 50]"
      ]
     },
     "execution_count": 461,
     "metadata": {},
     "output_type": "execute_result"
    }
   ],
   "source": [
    "s"
   ]
  },
  {
   "cell_type": "code",
   "execution_count": 462,
   "metadata": {},
   "outputs": [
    {
     "data": {
      "text/plain": [
       "20"
      ]
     },
     "execution_count": 462,
     "metadata": {},
     "output_type": "execute_result"
    }
   ],
   "source": [
    "s.ceiling(20)"
   ]
  },
  {
   "cell_type": "code",
   "execution_count": 463,
   "metadata": {},
   "outputs": [
    {
     "data": {
      "text/plain": [
       "20"
      ]
     },
     "execution_count": 463,
     "metadata": {},
     "output_type": "execute_result"
    }
   ],
   "source": [
    "s.floor(20)"
   ]
  },
  {
   "cell_type": "code",
   "execution_count": 464,
   "metadata": {},
   "outputs": [
    {
     "data": {
      "text/plain": [
       "20"
      ]
     },
     "execution_count": 464,
     "metadata": {},
     "output_type": "execute_result"
    }
   ],
   "source": [
    "s.lower(30)"
   ]
  },
  {
   "cell_type": "code",
   "execution_count": 465,
   "metadata": {},
   "outputs": [
    {
     "data": {
      "text/plain": [
       "10"
      ]
     },
     "execution_count": 465,
     "metadata": {},
     "output_type": "execute_result"
    }
   ],
   "source": [
    "s.pollFirst()"
   ]
  },
  {
   "cell_type": "code",
   "execution_count": 466,
   "metadata": {},
   "outputs": [
    {
     "data": {
      "text/plain": [
       "50"
      ]
     },
     "execution_count": 466,
     "metadata": {},
     "output_type": "execute_result"
    }
   ],
   "source": [
    "s.pollLast()"
   ]
  },
  {
   "cell_type": "code",
   "execution_count": 467,
   "metadata": {},
   "outputs": [
    {
     "data": {
      "text/plain": [
       "[40, 30, 20]"
      ]
     },
     "execution_count": 467,
     "metadata": {},
     "output_type": "execute_result"
    }
   ],
   "source": [
    "s.descendingSet()"
   ]
  },
  {
   "cell_type": "markdown",
   "metadata": {},
   "source": [
    "* HashSet doesn't maintain the order of insertion. Also it doesn't store in teh sort order"
   ]
  },
  {
   "cell_type": "code",
   "execution_count": 468,
   "metadata": {},
   "outputs": [
    {
     "data": {
      "text/plain": [
       "true"
      ]
     },
     "execution_count": 468,
     "metadata": {},
     "output_type": "execute_result"
    }
   ],
   "source": [
    " Set<String> hashSet = new HashSet<>();\n",
    " hashSet.add(\"apple\");\n",
    " hashSet.add(\"banana\");\n",
    " hashSet.add(\"cherry\");\n",
    " hashSet.add(\"date\");"
   ]
  },
  {
   "cell_type": "code",
   "execution_count": 469,
   "metadata": {},
   "outputs": [
    {
     "data": {
      "text/plain": [
       "[banana, date, apple, cherry]"
      ]
     },
     "execution_count": 469,
     "metadata": {},
     "output_type": "execute_result"
    }
   ],
   "source": [
    "hashSet"
   ]
  },
  {
   "cell_type": "code",
   "execution_count": 470,
   "metadata": {},
   "outputs": [],
   "source": [
    "public class Employee implements Comparable<Employee> {\n",
    "\n",
    "\tint id;\n",
    "\tString name;\n",
    "\n",
    "\tEmployee(int id, String name) {\n",
    "\t\tthis.id = id;\n",
    "\t\tthis.name = name;\n",
    "\t}\n",
    "\n",
    "\t@Override\n",
    "\tpublic int compareTo(Employee o) {\n",
    "\n",
    "\t\tint id1 = this.id;\n",
    "\t\tint id2 = o.id;\n",
    "\n",
    "\t\tif (id1 < id2) {\n",
    "\t\t\treturn -1;\n",
    "\t\t} else if (id1 > id2) {\n",
    "\t\t\treturn 1;\n",
    "\t\t} else {\n",
    "\t\t\treturn 0;\n",
    "\t\t}\n",
    "\n",
    "\t}\n",
    "\n",
    "}"
   ]
  },
  {
   "cell_type": "code",
   "execution_count": 471,
   "metadata": {},
   "outputs": [],
   "source": [
    "public class EmployeeNameComparator implements Comparator<Employee> {\n",
    "\n",
    "\t@Override\n",
    "\tpublic int compare(Employee o1, Employee o2) {\n",
    "\t\treturn o1.name.compareTo(o2.name);\n",
    "\t}\n",
    "\n",
    "}"
   ]
  },
  {
   "cell_type": "code",
   "execution_count": 472,
   "metadata": {},
   "outputs": [
    {
     "data": {
      "text/plain": [
       "true"
      ]
     },
     "execution_count": 472,
     "metadata": {},
     "output_type": "execute_result"
    }
   ],
   "source": [
    "Set<Employee> set = new TreeSet<>(new EmployeeNameComparator());\n",
    "\t\tset.add(new Employee(100, \"Obama\"));\n",
    "\t\tset.add(new Employee(400, \"Tom\"));\n",
    "\t\tset.add(new Employee(300, \"Bharath\"));"
   ]
  },
  {
   "cell_type": "code",
   "execution_count": 473,
   "metadata": {},
   "outputs": [
    {
     "name": "stdout",
     "output_type": "stream",
     "text": [
      "300 : Bharath\n",
      "100 : Obama\n",
      "400 : Tom\n"
     ]
    }
   ],
   "source": [
    "for (Employee employee : set) {\n",
    "\t\t\tSystem.out.println(employee.id +\" : \"+employee.name);\n",
    "}"
   ]
  },
  {
   "cell_type": "code",
   "execution_count": null,
   "metadata": {},
   "outputs": [],
   "source": []
  },
  {
   "cell_type": "code",
   "execution_count": null,
   "metadata": {},
   "outputs": [],
   "source": []
  },
  {
   "cell_type": "markdown",
   "metadata": {},
   "source": [
    "## Queue"
   ]
  },
  {
   "cell_type": "code",
   "execution_count": 474,
   "metadata": {},
   "outputs": [],
   "source": [
    "Queue<Integer> q = new PriorityQueue<>();"
   ]
  },
  {
   "cell_type": "code",
   "execution_count": 475,
   "metadata": {},
   "outputs": [
    {
     "name": "stdout",
     "output_type": "stream",
     "text": [
      "null\r\n"
     ]
    }
   ],
   "source": [
    "System.out.println(q.peek());"
   ]
  },
  {
   "cell_type": "code",
   "execution_count": 476,
   "metadata": {},
   "outputs": [],
   "source": [
    "for (int i = 0; i < 5; i++) {\n",
    "    q.offer(i);\n",
    "}"
   ]
  },
  {
   "cell_type": "code",
   "execution_count": 477,
   "metadata": {},
   "outputs": [
    {
     "data": {
      "text/plain": [
       "[0, 1, 2, 3, 4]"
      ]
     },
     "execution_count": 477,
     "metadata": {},
     "output_type": "execute_result"
    }
   ],
   "source": [
    "q"
   ]
  },
  {
   "cell_type": "code",
   "execution_count": 478,
   "metadata": {},
   "outputs": [
    {
     "data": {
      "text/plain": [
       "0"
      ]
     },
     "execution_count": 478,
     "metadata": {},
     "output_type": "execute_result"
    }
   ],
   "source": [
    "q.poll()"
   ]
  },
  {
   "cell_type": "code",
   "execution_count": 479,
   "metadata": {},
   "outputs": [
    {
     "data": {
      "text/plain": [
       "1"
      ]
     },
     "execution_count": 479,
     "metadata": {},
     "output_type": "execute_result"
    }
   ],
   "source": [
    "q.poll()"
   ]
  },
  {
   "cell_type": "code",
   "execution_count": 480,
   "metadata": {},
   "outputs": [
    {
     "data": {
      "text/plain": [
       "2"
      ]
     },
     "execution_count": 480,
     "metadata": {},
     "output_type": "execute_result"
    }
   ],
   "source": [
    "q.remove()"
   ]
  },
  {
   "cell_type": "code",
   "execution_count": 481,
   "metadata": {},
   "outputs": [
    {
     "data": {
      "text/plain": [
       "3"
      ]
     },
     "execution_count": 481,
     "metadata": {},
     "output_type": "execute_result"
    }
   ],
   "source": [
    "q.peek()"
   ]
  },
  {
   "cell_type": "code",
   "execution_count": 482,
   "metadata": {},
   "outputs": [
    {
     "data": {
      "text/plain": [
       "[3, 4]"
      ]
     },
     "execution_count": 482,
     "metadata": {},
     "output_type": "execute_result"
    }
   ],
   "source": [
    "q"
   ]
  },
  {
   "cell_type": "code",
   "execution_count": 483,
   "metadata": {},
   "outputs": [],
   "source": [
    "class PQsort implements Comparator<Integer> {\n",
    "\tpublic int compare(Integer one, Integer two) {\n",
    "\t\treturn two - one;\n",
    "\t}\n",
    "   }"
   ]
  },
  {
   "cell_type": "code",
   "execution_count": 484,
   "metadata": {},
   "outputs": [],
   "source": [
    "int[] ia = { 1, 5, 3, 7, 6, 9, 8 };"
   ]
  },
  {
   "cell_type": "code",
   "execution_count": 485,
   "metadata": {},
   "outputs": [],
   "source": [
    "PQsort pqs = new PQsort();\n",
    "\t\tPriorityQueue<Integer> pq2 = new PriorityQueue<Integer>(10, pqs);\n",
    "\t\tfor (int x : ia)\n",
    "\t\t\tpq2.offer(x);"
   ]
  },
  {
   "cell_type": "code",
   "execution_count": 486,
   "metadata": {},
   "outputs": [
    {
     "data": {
      "text/plain": [
       "7"
      ]
     },
     "execution_count": 486,
     "metadata": {},
     "output_type": "execute_result"
    }
   ],
   "source": [
    "pq2.size()"
   ]
  },
  {
   "cell_type": "code",
   "execution_count": 487,
   "metadata": {},
   "outputs": [
    {
     "data": {
      "text/plain": [
       "9"
      ]
     },
     "execution_count": 487,
     "metadata": {},
     "output_type": "execute_result"
    }
   ],
   "source": [
    "pq2.peek()"
   ]
  },
  {
   "cell_type": "code",
   "execution_count": 488,
   "metadata": {},
   "outputs": [
    {
     "data": {
      "text/plain": [
       "7"
      ]
     },
     "execution_count": 488,
     "metadata": {},
     "output_type": "execute_result"
    }
   ],
   "source": [
    "pq2.size()"
   ]
  },
  {
   "cell_type": "code",
   "execution_count": 489,
   "metadata": {},
   "outputs": [
    {
     "data": {
      "text/plain": [
       "9"
      ]
     },
     "execution_count": 489,
     "metadata": {},
     "output_type": "execute_result"
    }
   ],
   "source": [
    "pq2.poll()"
   ]
  },
  {
   "cell_type": "code",
   "execution_count": 490,
   "metadata": {},
   "outputs": [
    {
     "data": {
      "text/plain": [
       "6"
      ]
     },
     "execution_count": 490,
     "metadata": {},
     "output_type": "execute_result"
    }
   ],
   "source": [
    "pq2.size()"
   ]
  },
  {
   "cell_type": "code",
   "execution_count": 491,
   "metadata": {},
   "outputs": [
    {
     "name": "stdout",
     "output_type": "stream",
     "text": [
      "8 7 6 5 3 1 null "
     ]
    }
   ],
   "source": [
    "for (int x : ia)\n",
    "\t\t\tSystem.out.print(pq2.poll() + \" \");"
   ]
  },
  {
   "cell_type": "markdown",
   "metadata": {},
   "source": [
    "# Functional Programming"
   ]
  },
  {
   "cell_type": "markdown",
   "metadata": {},
   "source": [
    "![](pictures/function.png)"
   ]
  },
  {
   "cell_type": "markdown",
   "metadata": {},
   "source": [
    "![](pictures/function_interface.png)"
   ]
  },
  {
   "cell_type": "markdown",
   "metadata": {},
   "source": [
    "![](pictures/function_lambda.png)"
   ]
  },
  {
   "cell_type": "markdown",
   "metadata": {},
   "source": [
    "![](pictures/predicate.png)"
   ]
  },
  {
   "cell_type": "markdown",
   "metadata": {},
   "source": [
    "## Functions"
   ]
  },
  {
   "cell_type": "code",
   "execution_count": 492,
   "metadata": {},
   "outputs": [],
   "source": [
    "Function<String, Integer> f = str -> str.length();"
   ]
  },
  {
   "cell_type": "code",
   "execution_count": 493,
   "metadata": {},
   "outputs": [
    {
     "data": {
      "text/plain": [
       "5"
      ]
     },
     "execution_count": 493,
     "metadata": {},
     "output_type": "execute_result"
    }
   ],
   "source": [
    "f.apply(\"Hello\")"
   ]
  },
  {
   "cell_type": "code",
   "execution_count": 494,
   "metadata": {},
   "outputs": [],
   "source": [
    "ToIntFunction<String> f2 = String::length;"
   ]
  },
  {
   "cell_type": "code",
   "execution_count": 495,
   "metadata": {},
   "outputs": [
    {
     "data": {
      "text/plain": [
       "5"
      ]
     },
     "execution_count": 495,
     "metadata": {},
     "output_type": "execute_result"
    }
   ],
   "source": [
    "f2.applyAsInt(\"Hello\")"
   ]
  },
  {
   "cell_type": "code",
   "execution_count": 496,
   "metadata": {},
   "outputs": [],
   "source": [
    "BiFunction<String, String, String> bifunc = String::concat;"
   ]
  },
  {
   "cell_type": "code",
   "execution_count": 497,
   "metadata": {},
   "outputs": [
    {
     "data": {
      "text/plain": [
       "Hello World"
      ]
     },
     "execution_count": 497,
     "metadata": {},
     "output_type": "execute_result"
    }
   ],
   "source": [
    "bifunc.apply(\"Hello \", \"World\")"
   ]
  },
  {
   "cell_type": "code",
   "execution_count": 498,
   "metadata": {},
   "outputs": [],
   "source": [
    "BiFunction<Integer, Integer, Integer> compFunc = (i, j) -> i * j;"
   ]
  },
  {
   "cell_type": "code",
   "execution_count": 603,
   "metadata": {},
   "outputs": [
    {
     "data": {
      "text/plain": [
       "20"
      ]
     },
     "execution_count": 603,
     "metadata": {},
     "output_type": "execute_result"
    }
   ],
   "source": [
    "compFunc.apply(2,10)"
   ]
  },
  {
   "cell_type": "markdown",
   "metadata": {},
   "source": [
    "* UnaryOperator;"
   ]
  },
  {
   "cell_type": "code",
   "execution_count": 604,
   "metadata": {},
   "outputs": [],
   "source": [
    "UnaryOperator<Integer> increment = x -> x + 1;"
   ]
  },
  {
   "cell_type": "code",
   "execution_count": 609,
   "metadata": {},
   "outputs": [
    {
     "data": {
      "text/plain": [
       "6"
      ]
     },
     "execution_count": 609,
     "metadata": {},
     "output_type": "execute_result"
    }
   ],
   "source": [
    "increment.apply(5);"
   ]
  },
  {
   "cell_type": "code",
   "execution_count": 611,
   "metadata": {},
   "outputs": [],
   "source": [
    "UnaryOperator<Double> sqrt = (d) -> Math.sqrt(d);"
   ]
  },
  {
   "cell_type": "code",
   "execution_count": 613,
   "metadata": {},
   "outputs": [
    {
     "data": {
      "text/plain": [
       "6.0"
      ]
     },
     "execution_count": 613,
     "metadata": {},
     "output_type": "execute_result"
    }
   ],
   "source": [
    "sqrt.apply(36.0)"
   ]
  },
  {
   "cell_type": "markdown",
   "metadata": {},
   "source": [
    "## flatMap"
   ]
  },
  {
   "cell_type": "code",
   "execution_count": 500,
   "metadata": {},
   "outputs": [],
   "source": [
    "import java.util.stream.Collectors;"
   ]
  },
  {
   "cell_type": "code",
   "execution_count": 501,
   "metadata": {},
   "outputs": [],
   "source": [
    "List<List<String>> listOfLists = Arrays.asList(\n",
    "            Arrays.asList(\"John\", \"Alice\"),\n",
    "            Arrays.asList(\"Bob\", \"Charlie\")\n",
    "        );"
   ]
  },
  {
   "cell_type": "code",
   "execution_count": 502,
   "metadata": {},
   "outputs": [],
   "source": [
    " List<String> flattenedList = listOfLists.stream()\n",
    "                                                .flatMap(Collection::stream)\n",
    "                                                .collect(Collectors.toList());"
   ]
  },
  {
   "cell_type": "code",
   "execution_count": 503,
   "metadata": {},
   "outputs": [
    {
     "data": {
      "text/plain": [
       "[John, Alice, Bob, Charlie]"
      ]
     },
     "execution_count": 503,
     "metadata": {},
     "output_type": "execute_result"
    }
   ],
   "source": [
    "flattenedList"
   ]
  },
  {
   "cell_type": "markdown",
   "metadata": {},
   "source": [
    "## Lambda Expressions"
   ]
  },
  {
   "cell_type": "code",
   "execution_count": 504,
   "metadata": {},
   "outputs": [],
   "source": [
    "@FunctionalInterface\n",
    "public interface A {\n",
    "\n",
    "\tvoid myMethod();\n",
    "\t\n",
    "}"
   ]
  },
  {
   "cell_type": "code",
   "execution_count": 505,
   "metadata": {},
   "outputs": [],
   "source": [
    "A a = ()->System.out.println(\"Inside MyMethod as Lambda\");\t\t"
   ]
  },
  {
   "cell_type": "code",
   "execution_count": 506,
   "metadata": {},
   "outputs": [
    {
     "name": "stdout",
     "output_type": "stream",
     "text": [
      "Inside MyMethod as Lambda\r\n"
     ]
    }
   ],
   "source": [
    "a.myMethod();"
   ]
  },
  {
   "cell_type": "code",
   "execution_count": 507,
   "metadata": {},
   "outputs": [],
   "source": [
    "@FunctionalInterface\n",
    "public interface Sum {\n",
    "\t\n",
    "\tvoid add(int a,int  b);\n",
    "}"
   ]
  },
  {
   "cell_type": "code",
   "execution_count": 508,
   "metadata": {},
   "outputs": [],
   "source": [
    "Sum s = (x,y)->System.out.println(\"Sum is:\"+(x+y));"
   ]
  },
  {
   "cell_type": "code",
   "execution_count": 509,
   "metadata": {},
   "outputs": [
    {
     "name": "stdout",
     "output_type": "stream",
     "text": [
      "Sum is:30\r\n"
     ]
    }
   ],
   "source": [
    "s.add(10, 20);"
   ]
  },
  {
   "cell_type": "markdown",
   "metadata": {},
   "source": [
    "* Lambda with static method reference"
   ]
  },
  {
   "cell_type": "code",
   "execution_count": 510,
   "metadata": {},
   "outputs": [],
   "source": [
    "public class MethodRefDemo {\n",
    "\t\n",
    "\tpublic static void myMethod() {\n",
    "\t\t\n",
    "\t\tfor(int i=0;i<=10;i++) {\n",
    "\t\t\tSystem.out.println(\"Child Thread\"+i);\n",
    "\t\t}\n",
    "\t}\n",
    "}\n"
   ]
  },
  {
   "cell_type": "code",
   "execution_count": 511,
   "metadata": {},
   "outputs": [],
   "source": [
    "// thread will not span in jupyter notebook\n",
    "Runnable r = MethodRefDemo::myMethod;\n",
    "\t\t\n",
    "\t\tThread t = new Thread(r);\n",
    "\t\tt.start();"
   ]
  },
  {
   "cell_type": "markdown",
   "metadata": {},
   "source": [
    "* Lambda with non-static method reference"
   ]
  },
  {
   "cell_type": "code",
   "execution_count": 512,
   "metadata": {},
   "outputs": [],
   "source": [
    "public class MyClass {\n",
    "\t\n",
    "\tpublic void myMethod123(int i) {\n",
    "\t\tSystem.out.println(i);\n",
    "\t}\n",
    " }"
   ]
  },
  {
   "cell_type": "code",
   "execution_count": 513,
   "metadata": {},
   "outputs": [],
   "source": [
    "public interface MyInterface {\n",
    "\t\n",
    "\tpublic void myMethod(int i);\n",
    "\n",
    "}"
   ]
  },
  {
   "cell_type": "code",
   "execution_count": 514,
   "metadata": {},
   "outputs": [],
   "source": [
    "MyClass c = new MyClass();"
   ]
  },
  {
   "cell_type": "code",
   "execution_count": 515,
   "metadata": {},
   "outputs": [],
   "source": [
    "MyInterface f1 = c::myMethod123;"
   ]
  },
  {
   "cell_type": "code",
   "execution_count": 516,
   "metadata": {},
   "outputs": [
    {
     "name": "stdout",
     "output_type": "stream",
     "text": [
      "20\r\n"
     ]
    }
   ],
   "source": [
    "f1.myMethod(20);"
   ]
  },
  {
   "cell_type": "markdown",
   "metadata": {},
   "source": [
    "# Streams"
   ]
  },
  {
   "cell_type": "code",
   "execution_count": 517,
   "metadata": {},
   "outputs": [],
   "source": [
    "public enum Department {\n",
    "\tTECHNOLOGY, BUSINESS, SUPPORT, OPERATIONS\n",
    "}\n",
    "\n",
    "public class Employee implements Serializable{\n",
    "\t/**\n",
    "\t * \n",
    "\t */\n",
    "\tprivate static final long serialVersionUID = -635482957578937357L;\n",
    "\tprivate String firstName;\n",
    "\tprivate String lastName;\n",
    "\tprivate String fullName;\n",
    "\tprivate int age;\n",
    "\tprivate Department department;\n",
    "\n",
    "\tpublic Employee(String firstName, String lastName, String fullName, int age, Department department) {\n",
    "\t\tsuper();\n",
    "\t\tthis.firstName = firstName;\n",
    "\t\tthis.lastName = lastName;\n",
    "\t\tthis.fullName = fullName;\n",
    "\t\tthis.age = age;\n",
    "\t\tthis.department = department;\n",
    "\t}\n",
    "\n",
    "\tpublic String getFirstName() {\n",
    "\t\treturn firstName;\n",
    "\t}\n",
    "\n",
    "\tpublic void setFirstName(String firstName) {\n",
    "\t\tthis.firstName = firstName;\n",
    "\t}\n",
    "\n",
    "\tpublic String getLastName() {\n",
    "\t\treturn lastName;\n",
    "\t}\n",
    "\n",
    "\tpublic void setLastName(String lastName) {\n",
    "\t\tthis.lastName = lastName;\n",
    "\t}\n",
    "\n",
    "\tpublic String getFullName() {\n",
    "\t\treturn fullName;\n",
    "\t}\n",
    "\n",
    "\tpublic void setFullName(String fullName) {\n",
    "\t\tthis.fullName = fullName;\n",
    "\t}\n",
    "\n",
    "\tpublic int getAge() {\n",
    "\t\treturn age;\n",
    "\t}\n",
    "\n",
    "\tpublic void setAge(int age) {\n",
    "\t\tthis.age = age;\n",
    "\t}\n",
    "\n",
    "\tpublic Department getDepartment() {\n",
    "\t\treturn department;\n",
    "\t}\n",
    "\n",
    "\tpublic void setDepartment(Department department) {\n",
    "\t\tthis.department = department;\n",
    "\t}\n",
    "\n",
    "\tpublic void auditAndUpdate() {\n",
    "\t\tthis.setFullName(this.getFirstName() + \" \" + this.getLastName());\n",
    "\t\tSystem.out.println(\n",
    "\t\t\t\tthis.getFullName() + \": Age: \" + this.getAge() + \" :Department: \" + this.getDepartment().toString());\n",
    "\t}\n",
    "\n",
    "}\n",
    "\n",
    "Employee employeel = new Employee(\"first 1\", \"lastl\", \"\", 20, Department.BUSINESS);\n",
    "Employee employee2 = new Employee(\"first 2\", \"last2\", \"\", 18, Department.TECHNOLOGY);\n",
    "Employee employee3 = new Employee(\"first 3\", \"last3\", \"\", 27, Department.OPERATIONS);\n",
    "Employee employee4 = new Employee(\"first 4\", \"last4\", \"\", 32, Department.SUPPORT);\n",
    "Employee employee5 = new Employee(\"first 5\", \"last5\", \" \", 25, Department.TECHNOLOGY);\n",
    "\n",
    "List<Employee> employeeListForStreamDemo = Arrays.asList(employeel, employee2, employee3, employee4, employee5); "
   ]
  },
  {
   "cell_type": "code",
   "execution_count": 518,
   "metadata": {},
   "outputs": [
    {
     "name": "stdout",
     "output_type": "stream",
     "text": [
      "20\n",
      "18\n",
      "32\n"
     ]
    }
   ],
   "source": [
    "employeeListForStreamDemo.stream().forEach(e -> {\n",
    "\t\t\tif (e.getAge() % 2 == 0)\n",
    "\t\t\t\tSystem.out.println(e.getAge());\n",
    "\t\t});"
   ]
  },
  {
   "cell_type": "code",
   "execution_count": 519,
   "metadata": {},
   "outputs": [],
   "source": [
    "Predicate<Employee> isTechnology = e -> e.getDepartment() == Department.TECHNOLOGY;"
   ]
  },
  {
   "cell_type": "code",
   "execution_count": 520,
   "metadata": {},
   "outputs": [],
   "source": [
    "List<Employee> filteredEmployess = employeeListForStreamDemo.stream().filter(isTechnology).collect(Collectors.toList());"
   ]
  },
  {
   "cell_type": "code",
   "execution_count": 521,
   "metadata": {},
   "outputs": [
    {
     "name": "stdout",
     "output_type": "stream",
     "text": [
      "TECHNOLOGY\n",
      "TECHNOLOGY\n"
     ]
    }
   ],
   "source": [
    "for (Employee employee : filteredEmployess) {\n",
    "\t\t\tSystem.out.println(employee.getDepartment());\n",
    "\t\t}"
   ]
  },
  {
   "cell_type": "code",
   "execution_count": 522,
   "metadata": {},
   "outputs": [],
   "source": [
    "Employee emp1 = employeeListForStreamDemo.stream().findFirst().get();"
   ]
  },
  {
   "cell_type": "code",
   "execution_count": 523,
   "metadata": {},
   "outputs": [
    {
     "name": "stdout",
     "output_type": "stream",
     "text": [
      "first 1 lastl: Age: 20 :Department: BUSINESS\r\n"
     ]
    }
   ],
   "source": [
    "emp1.auditAndUpdate()"
   ]
  },
  {
   "cell_type": "code",
   "execution_count": 524,
   "metadata": {},
   "outputs": [
    {
     "name": "stdout",
     "output_type": "stream",
     "text": [
      "true\r\n"
     ]
    }
   ],
   "source": [
    "System.out.println(employeeListForStreamDemo.stream().anyMatch(isTechnology));"
   ]
  },
  {
   "cell_type": "code",
   "execution_count": 525,
   "metadata": {},
   "outputs": [
    {
     "data": {
      "text/plain": [
       "5"
      ]
     },
     "execution_count": 525,
     "metadata": {},
     "output_type": "execute_result"
    }
   ],
   "source": [
    "employeeListForStreamDemo.stream().count()"
   ]
  },
  {
   "cell_type": "code",
   "execution_count": 526,
   "metadata": {},
   "outputs": [
    {
     "name": "stdout",
     "output_type": "stream",
     "text": [
      "32\n",
      "27\n",
      "25\n",
      "20\n",
      "18\n"
     ]
    }
   ],
   "source": [
    "List<Employee> sortedByAgeList = employeeListForStreamDemo.stream().sorted((e1, e2) -> e2.getAge() - e1.getAge())\n",
    "\t\t\t\t.collect(Collectors.toList());\n",
    "\t\tfor (Employee employee : sortedByAgeList) {\n",
    "\t\t\tSystem.out.println(employee.getAge());\n",
    "\t\t}"
   ]
  },
  {
   "cell_type": "code",
   "execution_count": 527,
   "metadata": {},
   "outputs": [],
   "source": [
    "// collect to a custom map\n",
    "\t\tMap<String, Integer> nameAgeMap = employeeListForStreamDemo.stream()\n",
    "\t\t\t\t.collect(Collectors.toMap(Employee::getFirstName, Employee::getAge));\t\t"
   ]
  },
  {
   "cell_type": "code",
   "execution_count": 528,
   "metadata": {},
   "outputs": [
    {
     "data": {
      "text/plain": [
       "{first 4=32, first 5=25, first 1=20, first 2=18, first 3=27}"
      ]
     },
     "execution_count": 528,
     "metadata": {},
     "output_type": "execute_result"
    }
   ],
   "source": [
    "nameAgeMap"
   ]
  },
  {
   "cell_type": "code",
   "execution_count": 529,
   "metadata": {},
   "outputs": [],
   "source": [
    "// grouping\n",
    "\t\tMap<Department, List<Employee>> groupListByDepartmentMap = employeeListForStreamDemo.stream()\n",
    "\t\t\t\t.collect(Collectors.groupingBy(Employee::getDepartment));"
   ]
  },
  {
   "cell_type": "code",
   "execution_count": 530,
   "metadata": {},
   "outputs": [
    {
     "data": {
      "text/plain": [
       "{OPERATIONS=[REPL.$JShell$269H$Employee@4a390363], TECHNOLOGY=[REPL.$JShell$269H$Employee@341523cc, REPL.$JShell$269H$Employee@66d3821f], SUPPORT=[REPL.$JShell$269H$Employee@47ecb41c], BUSINESS=[REPL.$JShell$269H$Employee@454c9599]}"
      ]
     },
     "execution_count": 530,
     "metadata": {},
     "output_type": "execute_result"
    }
   ],
   "source": [
    "groupListByDepartmentMap"
   ]
  },
  {
   "cell_type": "code",
   "execution_count": 531,
   "metadata": {},
   "outputs": [],
   "source": [
    "Map<Boolean, List<Employee>> partitionListByTecMap = employeeListForStreamDemo.stream()\n",
    "\t\t\t\t.collect(Collectors.partitioningBy(isTechnology, Collectors.toList()));"
   ]
  },
  {
   "cell_type": "code",
   "execution_count": 532,
   "metadata": {},
   "outputs": [
    {
     "data": {
      "text/plain": [
       "{false=[REPL.$JShell$269H$Employee@454c9599, REPL.$JShell$269H$Employee@4a390363, REPL.$JShell$269H$Employee@47ecb41c], true=[REPL.$JShell$269H$Employee@341523cc, REPL.$JShell$269H$Employee@66d3821f]}"
      ]
     },
     "execution_count": 532,
     "metadata": {},
     "output_type": "execute_result"
    }
   ],
   "source": [
    "partitionListByTecMap"
   ]
  },
  {
   "cell_type": "code",
   "execution_count": null,
   "metadata": {},
   "outputs": [],
   "source": []
  },
  {
   "cell_type": "code",
   "execution_count": 533,
   "metadata": {},
   "outputs": [
    {
     "data": {
      "text/plain": [
       "true"
      ]
     },
     "execution_count": 533,
     "metadata": {},
     "output_type": "execute_result"
    }
   ],
   "source": [
    "List<String> l1 = new ArrayList<>();\n",
    "\t\tl1.add(\"JOHN\");\n",
    "\t\tl1.add(\"BHARATH\");\n",
    "\t\tl1.add(\"JIM\");"
   ]
  },
  {
   "cell_type": "code",
   "execution_count": 534,
   "metadata": {},
   "outputs": [],
   "source": [
    "List<String> l2 = l1.stream().map(s->s.toLowerCase()).collect(Collectors.toList())"
   ]
  },
  {
   "cell_type": "code",
   "execution_count": 535,
   "metadata": {},
   "outputs": [
    {
     "data": {
      "text/plain": [
       "[john, bharath, jim]"
      ]
     },
     "execution_count": 535,
     "metadata": {},
     "output_type": "execute_result"
    }
   ],
   "source": [
    "l2"
   ]
  },
  {
   "cell_type": "code",
   "execution_count": 536,
   "metadata": {},
   "outputs": [],
   "source": [
    "List<Integer> l3 = new ArrayList<>();\n",
    "\n",
    "\t\tfor (int i = 0; i <= 5; i++) {\n",
    "\t\t\tl3.add(i);\n",
    "\t\t}"
   ]
  },
  {
   "cell_type": "code",
   "execution_count": 537,
   "metadata": {},
   "outputs": [
    {
     "data": {
      "text/plain": [
       "[0, 1, 2, 3, 4, 5]"
      ]
     },
     "execution_count": 537,
     "metadata": {},
     "output_type": "execute_result"
    }
   ],
   "source": [
    "l3"
   ]
  },
  {
   "cell_type": "code",
   "execution_count": 538,
   "metadata": {},
   "outputs": [],
   "source": [
    "List<Integer> l4 = l3.stream().filter(i->i%2==0).collect(Collectors.toList())"
   ]
  },
  {
   "cell_type": "code",
   "execution_count": 539,
   "metadata": {},
   "outputs": [
    {
     "data": {
      "text/plain": [
       "[0, 2, 4]"
      ]
     },
     "execution_count": 539,
     "metadata": {},
     "output_type": "execute_result"
    }
   ],
   "source": [
    "l4"
   ]
  },
  {
   "cell_type": "code",
   "execution_count": 540,
   "metadata": {},
   "outputs": [
    {
     "data": {
      "text/plain": [
       "3"
      ]
     },
     "execution_count": 540,
     "metadata": {},
     "output_type": "execute_result"
    }
   ],
   "source": [
    "l3.stream().filter(i->i%2==0).count()"
   ]
  },
  {
   "cell_type": "code",
   "execution_count": 541,
   "metadata": {},
   "outputs": [],
   "source": [
    "Comparator<String> lengthComparator = (stri1, stri2) -> Integer.compare(stri1.length(), stri2.length());"
   ]
  },
  {
   "cell_type": "code",
   "execution_count": 542,
   "metadata": {},
   "outputs": [],
   "source": [
    "List<String> l4 = l1.stream().sorted(lengthComparator).collect(Collectors.toList())"
   ]
  },
  {
   "cell_type": "code",
   "execution_count": 543,
   "metadata": {},
   "outputs": [
    {
     "data": {
      "text/plain": [
       "[JIM, JOHN, BHARATH]"
      ]
     },
     "execution_count": 543,
     "metadata": {},
     "output_type": "execute_result"
    }
   ],
   "source": [
    "l4"
   ]
  },
  {
   "cell_type": "code",
   "execution_count": 544,
   "metadata": {},
   "outputs": [
    {
     "data": {
      "text/plain": [
       "Optional[BHARATH]"
      ]
     },
     "execution_count": 544,
     "metadata": {},
     "output_type": "execute_result"
    }
   ],
   "source": [
    "l1.stream().max(lengthComparator)"
   ]
  },
  {
   "cell_type": "code",
   "execution_count": 559,
   "metadata": {},
   "outputs": [
    {
     "data": {
      "text/plain": [
       "Optional[JIM]"
      ]
     },
     "execution_count": 559,
     "metadata": {},
     "output_type": "execute_result"
    }
   ],
   "source": [
    "l1.stream().min(lengthComparator)"
   ]
  },
  {
   "cell_type": "code",
   "execution_count": 561,
   "metadata": {},
   "outputs": [
    {
     "data": {
      "text/plain": [
       "3"
      ]
     },
     "execution_count": 561,
     "metadata": {},
     "output_type": "execute_result"
    }
   ],
   "source": [
    "l1.stream().count()"
   ]
  },
  {
   "cell_type": "code",
   "execution_count": 562,
   "metadata": {},
   "outputs": [
    {
     "name": "stdout",
     "output_type": "stream",
     "text": [
      "JOHN\n",
      "BHARATH\n",
      "JIM\n"
     ]
    }
   ],
   "source": [
    "l1.stream().forEach(i -> System.out.println(i))"
   ]
  },
  {
   "cell_type": "code",
   "execution_count": 549,
   "metadata": {},
   "outputs": [],
   "source": [
    "IntStream stream = IntStream.rangeClosed(1, 5);"
   ]
  },
  {
   "cell_type": "code",
   "execution_count": 550,
   "metadata": {},
   "outputs": [
    {
     "data": {
      "text/plain": [
       "15"
      ]
     },
     "execution_count": 550,
     "metadata": {},
     "output_type": "execute_result"
    }
   ],
   "source": [
    "stream.reduce(0, (i, j) -> i + j)"
   ]
  },
  {
   "cell_type": "code",
   "execution_count": 553,
   "metadata": {},
   "outputs": [],
   "source": [
    "Stream<String> stream2 = Stream.of(\"java\", \"python\", \"c\", \"c++\", \"java\", \"python\");"
   ]
  },
  {
   "cell_type": "code",
   "execution_count": 554,
   "metadata": {},
   "outputs": [],
   "source": [
    "Set<String> set = stream2.collect(Collectors.toSet());"
   ]
  },
  {
   "cell_type": "code",
   "execution_count": 555,
   "metadata": {},
   "outputs": [
    {
     "data": {
      "text/plain": [
       "[python, c++, java, c]"
      ]
     },
     "execution_count": 555,
     "metadata": {},
     "output_type": "execute_result"
    }
   ],
   "source": [
    "set"
   ]
  },
  {
   "cell_type": "code",
   "execution_count": 564,
   "metadata": {},
   "outputs": [
    {
     "name": "stdout",
     "output_type": "stream",
     "text": [
      "2: s\n",
      "3: s\n",
      "4: s\n",
      "5: s\n",
      "6: s\n",
      "7: s\n"
     ]
    }
   ],
   "source": [
    "List<Integer> list = Arrays.asList(1, 2, 3, 4, 5, 6, 7);\n",
    "\t\tlist.stream().map((Integer i1) -> i1.intValue() + \": s\")\n",
    "\t\t\t\t.filter(((Predicate<String>) s -> s.startsWith(\"1\")).negate()).forEach(System.out::println);"
   ]
  },
  {
   "cell_type": "code",
   "execution_count": 565,
   "metadata": {},
   "outputs": [],
   "source": [
    "IntStream list1 = IntStream.of(1, 2, 3, 4);\n",
    "OptionalDouble optionalDouble = list1.map(i -> i * i).filter(i -> i > 4).average();"
   ]
  },
  {
   "cell_type": "code",
   "execution_count": 566,
   "metadata": {},
   "outputs": [
    {
     "name": "stdout",
     "output_type": "stream",
     "text": [
      "12.5\r\n"
     ]
    }
   ],
   "source": [
    "if (optionalDouble.isPresent()) {\n",
    "\t\t\tSystem.out.println(optionalDouble.getAsDouble());\n",
    "\t\t}"
   ]
  },
  {
   "cell_type": "code",
   "execution_count": 567,
   "metadata": {},
   "outputs": [],
   "source": [
    "List<String> listStr = Arrays.asList(\"java\", \"java 8\", \"pyhon 3\", \"python\", \"c\", \"c++\", \"java\", \"python\");"
   ]
  },
  {
   "cell_type": "code",
   "execution_count": 568,
   "metadata": {},
   "outputs": [
    {
     "data": {
      "text/plain": [
       "true"
      ]
     },
     "execution_count": 568,
     "metadata": {},
     "output_type": "execute_result"
    }
   ],
   "source": [
    "listStr.stream().anyMatch(s -> s.equalsIgnoreCase(\"python\"))"
   ]
  },
  {
   "cell_type": "code",
   "execution_count": 569,
   "metadata": {},
   "outputs": [
    {
     "data": {
      "text/plain": [
       "false"
      ]
     },
     "execution_count": 569,
     "metadata": {},
     "output_type": "execute_result"
    }
   ],
   "source": [
    "listStr.stream().allMatch(s -> s.equalsIgnoreCase(\"python\"))"
   ]
  },
  {
   "cell_type": "code",
   "execution_count": 570,
   "metadata": {},
   "outputs": [],
   "source": [
    "Optional<String> opt = listStr.stream().filter(s -> s.equalsIgnoreCase(\"python\")).findAny();"
   ]
  },
  {
   "cell_type": "code",
   "execution_count": 571,
   "metadata": {},
   "outputs": [
    {
     "name": "stdout",
     "output_type": "stream",
     "text": [
      "python\r\n"
     ]
    }
   ],
   "source": [
    "opt.ifPresent(s -> System.out.println(s));"
   ]
  },
  {
   "cell_type": "code",
   "execution_count": 573,
   "metadata": {},
   "outputs": [
    {
     "name": "stdout",
     "output_type": "stream",
     "text": [
      "java\n",
      "java 8\n",
      "pyhon 3\n",
      "python\n",
      "c\n"
     ]
    },
    {
     "data": {
      "text/plain": [
       "Optional[c]"
      ]
     },
     "execution_count": 573,
     "metadata": {},
     "output_type": "execute_result"
    }
   ],
   "source": [
    "listStr.stream().peek(System.out::println).filter(s -> s.equalsIgnoreCase(\"c\")).findAny();"
   ]
  },
  {
   "cell_type": "code",
   "execution_count": 574,
   "metadata": {},
   "outputs": [
    {
     "data": {
      "text/plain": [
       "8"
      ]
     },
     "execution_count": 574,
     "metadata": {},
     "output_type": "execute_result"
    }
   ],
   "source": [
    "listStr.stream().collect(Collectors.counting())"
   ]
  },
  {
   "cell_type": "code",
   "execution_count": 575,
   "metadata": {},
   "outputs": [
    {
     "data": {
      "text/plain": [
       "java:java 8:pyhon 3:python:c:c++:java:python"
      ]
     },
     "execution_count": 575,
     "metadata": {},
     "output_type": "execute_result"
    }
   ],
   "source": [
    "listStr.stream().collect(Collectors.joining(\":\"))"
   ]
  },
  {
   "cell_type": "code",
   "execution_count": 576,
   "metadata": {},
   "outputs": [],
   "source": [
    "Optional<String> optLongest = listStr.stream().collect(Collectors.maxBy((s1, s2) -> s1.length() - s2.length()));"
   ]
  },
  {
   "cell_type": "code",
   "execution_count": 577,
   "metadata": {},
   "outputs": [
    {
     "data": {
      "text/plain": [
       "pyhon 3"
      ]
     },
     "execution_count": 577,
     "metadata": {},
     "output_type": "execute_result"
    }
   ],
   "source": [
    "optLongest.get()"
   ]
  },
  {
   "cell_type": "markdown",
   "metadata": {},
   "source": [
    "* Parallel streams"
   ]
  },
  {
   "cell_type": "code",
   "execution_count": 581,
   "metadata": {},
   "outputs": [
    {
     "name": "stdout",
     "output_type": "stream",
     "text": [
      "500000000500000000\r\n"
     ]
    }
   ],
   "source": [
    "// Parallel streams\n",
    "LongStream stream1 = LongStream.rangeClosed(1, 10_000_00000);\n",
    "long start = System.currentTimeMillis();\n",
    "System.out.println(stream1.sum());\n",
    "long end = System.currentTimeMillis()"
   ]
  },
  {
   "cell_type": "code",
   "execution_count": 582,
   "metadata": {},
   "outputs": [
    {
     "name": "stdout",
     "output_type": "stream",
     "text": [
      "Time taken-non parallel:1136\r\n"
     ]
    }
   ],
   "source": [
    "System.out.println(\"Time taken-non parallel:\" + (end - start));"
   ]
  },
  {
   "cell_type": "code",
   "execution_count": 583,
   "metadata": {},
   "outputs": [
    {
     "name": "stdout",
     "output_type": "stream",
     "text": [
      "500000000500000000\r\n"
     ]
    }
   ],
   "source": [
    "LongStream streamParallel = LongStream.rangeClosed(1, 10_000_00000).parallel();\n",
    "\t\tstart = System.currentTimeMillis();\n",
    "\t\tSystem.out.println(streamParallel.sum());\n",
    "\t\tend = System.currentTimeMillis();"
   ]
  },
  {
   "cell_type": "code",
   "execution_count": 584,
   "metadata": {},
   "outputs": [
    {
     "name": "stdout",
     "output_type": "stream",
     "text": [
      "Time taken- parallel:116\r\n"
     ]
    }
   ],
   "source": [
    "System.out.println(\"Time taken- parallel:\" + (end - start));"
   ]
  },
  {
   "cell_type": "code",
   "execution_count": 585,
   "metadata": {},
   "outputs": [
    {
     "data": {
      "text/plain": [
       "10"
      ]
     },
     "execution_count": 585,
     "metadata": {},
     "output_type": "execute_result"
    }
   ],
   "source": [
    "LongStream.rangeClosed(1, 10).parallel()\n",
    "\t\t\t\t.peek((i) -> System.out.println(i + \" :\" + Thread.currentThread().getName())).count();"
   ]
  },
  {
   "cell_type": "markdown",
   "metadata": {},
   "source": [
    "* Stream.ofNullable"
   ]
  },
  {
   "cell_type": "code",
   "execution_count": 623,
   "metadata": {},
   "outputs": [],
   "source": [
    "String nullValue = null;\n",
    "Stream<String> nullStream = Stream.ofNullable(nullValue);"
   ]
  },
  {
   "cell_type": "code",
   "execution_count": 624,
   "metadata": {},
   "outputs": [
    {
     "name": "stdout",
     "output_type": "stream",
     "text": [
      "null\r\n"
     ]
    }
   ],
   "source": [
    "nullStream.forEach(System.out::println);"
   ]
  },
  {
   "cell_type": "code",
   "execution_count": null,
   "metadata": {},
   "outputs": [],
   "source": []
  }
 ],
 "metadata": {
  "kernelspec": {
   "display_name": "Java",
   "language": "java",
   "name": "java"
  },
  "language_info": {
   "codemirror_mode": "java",
   "file_extension": ".jshell",
   "mimetype": "text/x-java-source",
   "name": "Java",
   "pygments_lexer": "java",
   "version": "21.0.2+13-LTS-58"
  }
 },
 "nbformat": 4,
 "nbformat_minor": 4
}
