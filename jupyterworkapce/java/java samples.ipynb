{
 "cells": [
  {
   "cell_type": "markdown",
   "metadata": {},
   "source": [
    "# Notes"
   ]
  },
  {
   "cell_type": "markdown",
   "metadata": {},
   "source": [
    "* A"
   ]
  },
  {
   "cell_type": "markdown",
   "metadata": {},
   "source": [
    "aa"
   ]
  },
  {
   "cell_type": "markdown",
   "metadata": {},
   "source": [
    "# Java 21 Exam Notes"
   ]
  },
  {
   "cell_type": "markdown",
   "metadata": {},
   "source": [
    "* If the divisor is negative, then the negative sign is ignored. Negative values do change the behavior of modulus when applied to the dividend, though."
   ]
  },
  {
   "cell_type": "code",
   "execution_count": 263,
   "metadata": {},
   "outputs": [
    {
     "name": "stdout",
     "output_type": "stream",
     "text": [
      "2\r\n"
     ]
    }
   ],
   "source": [
    "System.out.println(2 % -5);"
   ]
  },
  {
   "cell_type": "code",
   "execution_count": 264,
   "metadata": {},
   "outputs": [
    {
     "name": "stdout",
     "output_type": "stream",
     "text": [
      "2\r\n"
     ]
    }
   ],
   "source": [
    "System.out.println(7 % -5);"
   ]
  },
  {
   "cell_type": "code",
   "execution_count": 265,
   "metadata": {},
   "outputs": [
    {
     "name": "stdout",
     "output_type": "stream",
     "text": [
      "-2\r\n"
     ]
    }
   ],
   "source": [
    "System.out.println(-2 % -5);"
   ]
  },
  {
   "cell_type": "code",
   "execution_count": 266,
   "metadata": {},
   "outputs": [
    {
     "name": "stdout",
     "output_type": "stream",
     "text": [
      "-2\r\n"
     ]
    }
   ],
   "source": [
    "System.out.println(-7 % -5);"
   ]
  },
  {
   "cell_type": "markdown",
   "metadata": {},
   "source": [
    "# General Basics"
   ]
  },
  {
   "cell_type": "code",
   "execution_count": 267,
   "metadata": {},
   "outputs": [
    {
     "name": "stdout",
     "output_type": "stream",
     "text": [
      "Number of CPUs: 12\r\n"
     ]
    }
   ],
   "source": [
    "Runtime rt = Runtime.getRuntime();\n",
    "int cpus = rt.availableProcessors();\n",
    "System.out.println(\"Number of CPUs: \" + cpus);"
   ]
  },
  {
   "cell_type": "code",
   "execution_count": 268,
   "metadata": {},
   "outputs": [
    {
     "name": "stdout",
     "output_type": "stream",
     "text": [
      "Java Version: 21.0.2\r\n"
     ]
    }
   ],
   "source": [
    "String javaVersion = System.getProperty(\"java.version\");\n",
    "System.out.println(\"Java Version: \" + javaVersion);"
   ]
  },
  {
   "cell_type": "markdown",
   "metadata": {},
   "source": [
    "# JVM"
   ]
  },
  {
   "cell_type": "markdown",
   "metadata": {},
   "source": [
    "![](pictures/jvm.png)"
   ]
  },
  {
   "cell_type": "markdown",
   "metadata": {},
   "source": [
    "![](pictures/classloader.png)"
   ]
  },
  {
   "cell_type": "code",
   "execution_count": 269,
   "metadata": {},
   "outputs": [
    {
     "name": "stdout",
     "output_type": "stream",
     "text": [
      "null\r\n"
     ]
    }
   ],
   "source": [
    "System.out.println(String.class.getClassLoader());"
   ]
  },
  {
   "cell_type": "markdown",
   "metadata": {},
   "source": [
    "# Global imports"
   ]
  },
  {
   "cell_type": "code",
   "execution_count": 270,
   "metadata": {},
   "outputs": [],
   "source": [
    "import java.util.function.Function;\n",
    "import java.util.function.ToIntFunction;\n",
    "import java.util.function.BiFunction;\n",
    "import java.util.stream.IntStream;\n",
    "import java.util.stream.Stream;\n",
    "import java.util.stream.LongStream;\n",
    "import java.util.function.IntSupplier;\n",
    "import java.util.function.Supplier;\n",
    "import java.util.function.UnaryOperator;"
   ]
  },
  {
   "cell_type": "markdown",
   "metadata": {},
   "source": [
    "# Data Types"
   ]
  },
  {
   "cell_type": "markdown",
   "metadata": {},
   "source": [
    "![](pictures/byte.png)"
   ]
  },
  {
   "cell_type": "markdown",
   "metadata": {},
   "source": [
    "![](pictures/byte2.png)"
   ]
  },
  {
   "cell_type": "code",
   "execution_count": 271,
   "metadata": {},
   "outputs": [],
   "source": [
    "byte b = 100;\n",
    "int i = b;"
   ]
  },
  {
   "cell_type": "code",
   "execution_count": 272,
   "metadata": {},
   "outputs": [
    {
     "data": {
      "text/plain": [
       "200"
      ]
     },
     "execution_count": 272,
     "metadata": {},
     "output_type": "execute_result"
    }
   ],
   "source": [
    "i+b"
   ]
  },
  {
   "cell_type": "code",
   "execution_count": 275,
   "metadata": {},
   "outputs": [],
   "source": [
    "char ch ='A';"
   ]
  },
  {
   "cell_type": "code",
   "execution_count": 276,
   "metadata": {},
   "outputs": [
    {
     "data": {
      "text/plain": [
       "A"
      ]
     },
     "execution_count": 276,
     "metadata": {},
     "output_type": "execute_result"
    }
   ],
   "source": [
    "ch"
   ]
  },
  {
   "cell_type": "code",
   "execution_count": 277,
   "metadata": {},
   "outputs": [
    {
     "data": {
      "text/plain": [
       "65"
      ]
     },
     "execution_count": 277,
     "metadata": {},
     "output_type": "execute_result"
    }
   ],
   "source": [
    "(int)ch"
   ]
  },
  {
   "cell_type": "code",
   "execution_count": 278,
   "metadata": {},
   "outputs": [],
   "source": [
    "byte b1= 50;"
   ]
  },
  {
   "cell_type": "code",
   "execution_count": 279,
   "metadata": {},
   "outputs": [
    {
     "data": {
      "text/plain": [
       "150"
      ]
     },
     "execution_count": 279,
     "metadata": {},
     "output_type": "execute_result"
    }
   ],
   "source": [
    "b+b1"
   ]
  },
  {
   "cell_type": "code",
   "execution_count": 280,
   "metadata": {},
   "outputs": [],
   "source": [
    "int  m = 612;"
   ]
  },
  {
   "cell_type": "code",
   "execution_count": 281,
   "metadata": {},
   "outputs": [
    {
     "data": {
      "text/plain": [
       "100"
      ]
     },
     "execution_count": 281,
     "metadata": {},
     "output_type": "execute_result"
    }
   ],
   "source": [
    "(byte)m"
   ]
  },
  {
   "cell_type": "code",
   "execution_count": 282,
   "metadata": {},
   "outputs": [
    {
     "data": {
      "text/plain": [
       "ɤ"
      ]
     },
     "execution_count": 282,
     "metadata": {},
     "output_type": "execute_result"
    }
   ],
   "source": [
    "(char)m"
   ]
  },
  {
   "cell_type": "code",
   "execution_count": 283,
   "metadata": {},
   "outputs": [],
   "source": [
    "// First will not compile. Secomd will compile\n",
    "//Long long1 = 8;\n",
    "long long2 = 8;"
   ]
  },
  {
   "cell_type": "markdown",
   "metadata": {},
   "source": [
    "# Strings"
   ]
  },
  {
   "cell_type": "code",
   "execution_count": 284,
   "metadata": {},
   "outputs": [],
   "source": [
    "String str = \"\";"
   ]
  },
  {
   "cell_type": "code",
   "execution_count": 285,
   "metadata": {},
   "outputs": [
    {
     "data": {
      "text/plain": [
       "true"
      ]
     },
     "execution_count": 285,
     "metadata": {},
     "output_type": "execute_result"
    }
   ],
   "source": [
    "str.isBlank()"
   ]
  },
  {
   "cell_type": "code",
   "execution_count": 286,
   "metadata": {},
   "outputs": [
    {
     "data": {
      "text/plain": [
       "##########"
      ]
     },
     "execution_count": 286,
     "metadata": {},
     "output_type": "execute_result"
    }
   ],
   "source": [
    "\"#\".repeat(10)"
   ]
  },
  {
   "cell_type": "code",
   "execution_count": 287,
   "metadata": {},
   "outputs": [
    {
     "name": "stdout",
     "output_type": "stream",
     "text": [
      "s:null\r\n"
     ]
    }
   ],
   "source": [
    "System.out.println(\"s:\" + null);"
   ]
  },
  {
   "cell_type": "code",
   "execution_count": 289,
   "metadata": {},
   "outputs": [],
   "source": [
    "String str = \"TestA String\";"
   ]
  },
  {
   "cell_type": "code",
   "execution_count": 290,
   "metadata": {},
   "outputs": [
    {
     "name": "stdout",
     "output_type": "stream",
     "text": [
      "t\r\n"
     ]
    }
   ],
   "source": [
    "System.out.println(str.charAt(3));"
   ]
  },
  {
   "cell_type": "code",
   "execution_count": 291,
   "metadata": {},
   "outputs": [
    {
     "name": "stdout",
     "output_type": "stream",
     "text": [
      "65\r\n"
     ]
    }
   ],
   "source": [
    "System.out.println(str.codePointAt(4));"
   ]
  },
  {
   "cell_type": "code",
   "execution_count": 292,
   "metadata": {},
   "outputs": [
    {
     "name": "stdout",
     "output_type": "stream",
     "text": [
      "0\r\n"
     ]
    }
   ],
   "source": [
    "System.out.println(str.indexOf('T'));"
   ]
  },
  {
   "cell_type": "code",
   "execution_count": 293,
   "metadata": {},
   "outputs": [
    {
     "name": "stdout",
     "output_type": "stream",
     "text": [
      "3\r\n"
     ]
    }
   ],
   "source": [
    "System.out.println(str.indexOf(\"tA\"));"
   ]
  },
  {
   "cell_type": "code",
   "execution_count": 294,
   "metadata": {},
   "outputs": [],
   "source": [
    "var block = \"\"\"\n",
    "\t\t\t\ta\n",
    "\t\t\t\t b\n",
    "\t\t\t\tc\"\"\";\t"
   ]
  },
  {
   "cell_type": "code",
   "execution_count": 295,
   "metadata": {},
   "outputs": [],
   "source": [
    "var concat = \" a\\n\" \n",
    "\t\t\t\t+ \"  b\\n\" \n",
    "\t\t\t\t+ \" c\";"
   ]
  },
  {
   "cell_type": "code",
   "execution_count": 296,
   "metadata": {},
   "outputs": [
    {
     "name": "stdout",
     "output_type": "stream",
     "text": [
      "6\r\n"
     ]
    }
   ],
   "source": [
    "System.out.println(block.length());"
   ]
  },
  {
   "cell_type": "code",
   "execution_count": 297,
   "metadata": {},
   "outputs": [
    {
     "name": "stdout",
     "output_type": "stream",
     "text": [
      "9\r\n"
     ]
    }
   ],
   "source": [
    "System.out.println(concat.length());"
   ]
  },
  {
   "cell_type": "code",
   "execution_count": 298,
   "metadata": {},
   "outputs": [
    {
     "name": "stdout",
     "output_type": "stream",
     "text": [
      " a\n",
      "  b\n",
      " c\n",
      "\r\n"
     ]
    }
   ],
   "source": [
    "System.out.println(block.indent(1));"
   ]
  },
  {
   "cell_type": "code",
   "execution_count": 299,
   "metadata": {},
   "outputs": [
    {
     "name": "stdout",
     "output_type": "stream",
     "text": [
      "10\r\n"
     ]
    }
   ],
   "source": [
    "System.out.println(block.indent(1).length());"
   ]
  },
  {
   "cell_type": "code",
   "execution_count": 300,
   "metadata": {},
   "outputs": [],
   "source": [
    "var name = \"James\";\n",
    "var score = 90.25;\n",
    "var total = 100;"
   ]
  },
  {
   "cell_type": "code",
   "execution_count": 301,
   "metadata": {},
   "outputs": [
    {
     "data": {
      "text/plain": [
       "James:\r\n",
       "   Score: 90.250000 out of 100"
      ]
     },
     "execution_count": 301,
     "metadata": {},
     "output_type": "execute_result"
    }
   ],
   "source": [
    "\"%s:%n   Score: %f out of %d\".formatted(name, score, total)"
   ]
  },
  {
   "cell_type": "code",
   "execution_count": 302,
   "metadata": {},
   "outputs": [],
   "source": [
    "var format_str = \"%s:%n   Score: %f out of %d\";"
   ]
  },
  {
   "cell_type": "code",
   "execution_count": 303,
   "metadata": {},
   "outputs": [
    {
     "data": {
      "text/plain": [
       "James:\r\n",
       "   Score: 90.250000 out of 100"
      ]
     },
     "execution_count": 303,
     "metadata": {},
     "output_type": "execute_result"
    }
   ],
   "source": [
    "format_str.formatted(name, score, total)"
   ]
  },
  {
   "cell_type": "code",
   "execution_count": 304,
   "metadata": {},
   "outputs": [],
   "source": [
    "var pi = 3.14159265359;"
   ]
  },
  {
   "cell_type": "code",
   "execution_count": 305,
   "metadata": {},
   "outputs": [
    {
     "name": "stdout",
     "output_type": "stream",
     "text": [
      "[3.141593]"
     ]
    },
    {
     "data": {
      "text/plain": [
       "java.io.PrintStream@22390edd"
      ]
     },
     "execution_count": 305,
     "metadata": {},
     "output_type": "execute_result"
    }
   ],
   "source": [
    "System.out.format(\"[%f]\", pi);"
   ]
  },
  {
   "cell_type": "code",
   "execution_count": 306,
   "metadata": {},
   "outputs": [
    {
     "name": "stdout",
     "output_type": "stream",
     "text": [
      "[  3.14159265]"
     ]
    },
    {
     "data": {
      "text/plain": [
       "java.io.PrintStream@22390edd"
      ]
     },
     "execution_count": 306,
     "metadata": {},
     "output_type": "execute_result"
    }
   ],
   "source": [
    "System.out.format(\"[%12.8f]\", pi);"
   ]
  },
  {
   "cell_type": "code",
   "execution_count": 307,
   "metadata": {},
   "outputs": [
    {
     "name": "stdout",
     "output_type": "stream",
     "text": [
      "[00003.141593]"
     ]
    },
    {
     "data": {
      "text/plain": [
       "java.io.PrintStream@22390edd"
      ]
     },
     "execution_count": 307,
     "metadata": {},
     "output_type": "execute_result"
    }
   ],
   "source": [
    "System.out.format(\"[%012f]\", pi);"
   ]
  },
  {
   "cell_type": "code",
   "execution_count": 308,
   "metadata": {},
   "outputs": [
    {
     "name": "stdout",
     "output_type": "stream",
     "text": [
      "[        3.14]"
     ]
    },
    {
     "data": {
      "text/plain": [
       "java.io.PrintStream@22390edd"
      ]
     },
     "execution_count": 308,
     "metadata": {},
     "output_type": "execute_result"
    }
   ],
   "source": [
    "System.out.format(\"[%12.2f]\", pi);"
   ]
  },
  {
   "cell_type": "code",
   "execution_count": 309,
   "metadata": {},
   "outputs": [
    {
     "name": "stdout",
     "output_type": "stream",
     "text": [
      "[3.142]"
     ]
    },
    {
     "data": {
      "text/plain": [
       "java.io.PrintStream@22390edd"
      ]
     },
     "execution_count": 309,
     "metadata": {},
     "output_type": "execute_result"
    }
   ],
   "source": [
    "System.out.format(\"[%.3f]\", pi);"
   ]
  },
  {
   "cell_type": "code",
   "execution_count": 310,
   "metadata": {},
   "outputs": [],
   "source": [
    "String text = \"Hello\\nWorld!\";"
   ]
  },
  {
   "cell_type": "code",
   "execution_count": 311,
   "metadata": {},
   "outputs": [],
   "source": [
    "String indentedText = text.indent(4);"
   ]
  },
  {
   "cell_type": "code",
   "execution_count": 312,
   "metadata": {},
   "outputs": [
    {
     "data": {
      "text/plain": [
       "Hello\n",
       "World!"
      ]
     },
     "execution_count": 312,
     "metadata": {},
     "output_type": "execute_result"
    }
   ],
   "source": [
    "text"
   ]
  },
  {
   "cell_type": "code",
   "execution_count": 313,
   "metadata": {},
   "outputs": [
    {
     "data": {
      "text/plain": [
       "    Hello\n",
       "    World!\n"
      ]
     },
     "execution_count": 313,
     "metadata": {},
     "output_type": "execute_result"
    }
   ],
   "source": [
    "indentedText"
   ]
  },
  {
   "cell_type": "code",
   "execution_count": 314,
   "metadata": {},
   "outputs": [],
   "source": [
    "StringBuilder alpha = new StringBuilder();\n",
    "for (char current = 'a'; current <= 'z'; current++){\n",
    "    alpha.append(current);\n",
    "    }"
   ]
  },
  {
   "cell_type": "code",
   "execution_count": 315,
   "metadata": {},
   "outputs": [
    {
     "data": {
      "text/plain": [
       "abcdefghijklmnopqrstuvwxyz"
      ]
     },
     "execution_count": 315,
     "metadata": {},
     "output_type": "execute_result"
    }
   ],
   "source": [
    "alpha"
   ]
  },
  {
   "cell_type": "code",
   "execution_count": 316,
   "metadata": {},
   "outputs": [
    {
     "name": "stdout",
     "output_type": "stream",
     "text": [
      "pig-dirty\r\n"
     ]
    }
   ],
   "source": [
    "var builder = new StringBuilder(\"pigeondirty\");\n",
    "builder.replace(3, 6, \"-\");\n",
    "System.out.println(builder);"
   ]
  },
  {
   "cell_type": "markdown",
   "metadata": {},
   "source": [
    "* StringBuilder equal works on object reference. Not on string value inside"
   ]
  },
  {
   "cell_type": "code",
   "execution_count": 317,
   "metadata": {},
   "outputs": [
    {
     "name": "stdout",
     "output_type": "stream",
     "text": [
      "true\n",
      "false\n"
     ]
    }
   ],
   "source": [
    "var x = \"Hello World\";\n",
    "var y = \"Hello World\";\n",
    "System.out.println(x == y);    // true\n",
    "\n",
    "var z = \" Hello World\".trim();\n",
    "System.out.println(x == z); // false\n"
   ]
  },
  {
   "cell_type": "markdown",
   "metadata": {},
   "source": [
    "* intern() can be used to use string variable from the ppol while using new"
   ]
  },
  {
   "cell_type": "code",
   "execution_count": 318,
   "metadata": {},
   "outputs": [
    {
     "name": "stdout",
     "output_type": "stream",
     "text": [
      "true\r\n"
     ]
    }
   ],
   "source": [
    "var name = \"Hello World\";\n",
    "var name2 = new String(\"Hello World\").intern();\n",
    "System.out.println(name == name2); // true"
   ]
  },
  {
   "cell_type": "code",
   "execution_count": 319,
   "metadata": {},
   "outputs": [],
   "source": [
    "var first = \"rat\" + 1;\n",
    "var second = \"r\" + \"a\" + \"t\" + \"1\";\n",
    "var third = \"r\" + \"a\" + \"t\" + new String(\"1\");"
   ]
  },
  {
   "cell_type": "code",
   "execution_count": 320,
   "metadata": {},
   "outputs": [
    {
     "data": {
      "text/plain": [
       "true"
      ]
     },
     "execution_count": 320,
     "metadata": {},
     "output_type": "execute_result"
    }
   ],
   "source": [
    "first == second"
   ]
  },
  {
   "cell_type": "code",
   "execution_count": 321,
   "metadata": {},
   "outputs": [
    {
     "data": {
      "text/plain": [
       "true"
      ]
     },
     "execution_count": 321,
     "metadata": {},
     "output_type": "execute_result"
    }
   ],
   "source": [
    "first == second.intern()"
   ]
  },
  {
   "cell_type": "code",
   "execution_count": 322,
   "metadata": {},
   "outputs": [
    {
     "data": {
      "text/plain": [
       "false"
      ]
     },
     "execution_count": 322,
     "metadata": {},
     "output_type": "execute_result"
    }
   ],
   "source": [
    "first == third"
   ]
  },
  {
   "cell_type": "code",
   "execution_count": 323,
   "metadata": {},
   "outputs": [
    {
     "data": {
      "text/plain": [
       "true"
      ]
     },
     "execution_count": 323,
     "metadata": {},
     "output_type": "execute_result"
    }
   ],
   "source": [
    "first == third.intern()"
   ]
  },
  {
   "cell_type": "markdown",
   "metadata": {},
   "source": [
    "# BigInteger and BigDecimal"
   ]
  },
  {
   "cell_type": "code",
   "execution_count": 324,
   "metadata": {},
   "outputs": [
    {
     "name": "stdout",
     "output_type": "stream",
     "text": [
      "12345123451234512345\r\n"
     ]
    }
   ],
   "source": [
    "System.out.println(new BigInteger(\"12345123451234512345\"));"
   ]
  },
  {
   "cell_type": "code",
   "execution_count": 325,
   "metadata": {},
   "outputs": [],
   "source": [
    "double amountInCents1 = 64.1 * 100;"
   ]
  },
  {
   "cell_type": "code",
   "execution_count": 326,
   "metadata": {},
   "outputs": [
    {
     "data": {
      "text/plain": [
       "6409.999999999999"
      ]
     },
     "execution_count": 326,
     "metadata": {},
     "output_type": "execute_result"
    }
   ],
   "source": [
    "amountInCents1"
   ]
  },
  {
   "cell_type": "code",
   "execution_count": 327,
   "metadata": {},
   "outputs": [],
   "source": [
    "BigDecimal amountInCents2 = BigDecimal.valueOf(64.1).multiply(BigDecimal.valueOf(100));"
   ]
  },
  {
   "cell_type": "code",
   "execution_count": 328,
   "metadata": {},
   "outputs": [
    {
     "data": {
      "text/plain": [
       "6410.0"
      ]
     },
     "execution_count": 328,
     "metadata": {},
     "output_type": "execute_result"
    }
   ],
   "source": [
    "amountInCents2"
   ]
  },
  {
   "cell_type": "markdown",
   "metadata": {},
   "source": [
    "# Text Blocks"
   ]
  },
  {
   "cell_type": "code",
   "execution_count": 329,
   "metadata": {},
   "outputs": [],
   "source": [
    "// multiline text block\n",
    "String multiline_text = \"\"\"\n",
    "                          A sample \"multiline\"\n",
    "                          text block\n",
    "                              in Java 21\"\"\""
   ]
  },
  {
   "cell_type": "code",
   "execution_count": 330,
   "metadata": {},
   "outputs": [
    {
     "data": {
      "text/plain": [
       "A sample \"multiline\"\n",
       "text block\n",
       "    in Java 21"
      ]
     },
     "execution_count": 330,
     "metadata": {},
     "output_type": "execute_result"
    }
   ],
   "source": [
    "multiline_text"
   ]
  },
  {
   "cell_type": "code",
   "execution_count": 331,
   "metadata": {},
   "outputs": [],
   "source": [
    "String pyramid = \"\"\"\n",
    "  *\n",
    " * *\n",
    "* * *\n",
    "\"\"\";"
   ]
  },
  {
   "cell_type": "code",
   "execution_count": 332,
   "metadata": {},
   "outputs": [
    {
     "data": {
      "text/plain": [
       "  *\n",
       " * *\n",
       "* * *\n"
      ]
     },
     "execution_count": 332,
     "metadata": {},
     "output_type": "execute_result"
    }
   ],
   "source": [
    "pyramid\n"
   ]
  },
  {
   "cell_type": "code",
   "execution_count": 333,
   "metadata": {},
   "outputs": [],
   "source": [
    "String block = \"\"\"\n",
    "   \"doe\\\"\\\"\\\"\n",
    "\\\"deer\\\"\"\"\n",
    "  \"\"\";"
   ]
  },
  {
   "cell_type": "code",
   "execution_count": 334,
   "metadata": {},
   "outputs": [
    {
     "data": {
      "text/plain": [
       "   \"doe\"\"\"\n",
       "\"deer\"\"\"\n"
      ]
     },
     "execution_count": 334,
     "metadata": {},
     "output_type": "execute_result"
    }
   ],
   "source": [
    "block"
   ]
  },
  {
   "cell_type": "markdown",
   "metadata": {},
   "source": [
    "# Wrapper Classes"
   ]
  },
  {
   "cell_type": "code",
   "execution_count": 335,
   "metadata": {},
   "outputs": [],
   "source": [
    "byte x = 100;"
   ]
  },
  {
   "cell_type": "code",
   "execution_count": 336,
   "metadata": {},
   "outputs": [
    {
     "data": {
      "text/plain": [
       "100"
      ]
     },
     "execution_count": 336,
     "metadata": {},
     "output_type": "execute_result"
    }
   ],
   "source": [
    "Byte.toString(x);"
   ]
  },
  {
   "cell_type": "code",
   "execution_count": 337,
   "metadata": {},
   "outputs": [
    {
     "data": {
      "text/plain": [
       "100"
      ]
     },
     "execution_count": 337,
     "metadata": {},
     "output_type": "execute_result"
    }
   ],
   "source": [
    "Integer.toString(x);"
   ]
  },
  {
   "cell_type": "code",
   "execution_count": 338,
   "metadata": {},
   "outputs": [],
   "source": [
    "int x = 200;"
   ]
  },
  {
   "cell_type": "code",
   "execution_count": 339,
   "metadata": {},
   "outputs": [],
   "source": [
    "Integer y = Integer.valueOf(x);"
   ]
  },
  {
   "cell_type": "code",
   "execution_count": 340,
   "metadata": {},
   "outputs": [
    {
     "data": {
      "text/plain": [
       "200"
      ]
     },
     "execution_count": 340,
     "metadata": {},
     "output_type": "execute_result"
    }
   ],
   "source": [
    "y"
   ]
  },
  {
   "cell_type": "code",
   "execution_count": 341,
   "metadata": {},
   "outputs": [],
   "source": [
    "Long l = Long.valueOf(\"23\")"
   ]
  },
  {
   "cell_type": "code",
   "execution_count": 342,
   "metadata": {},
   "outputs": [
    {
     "data": {
      "text/plain": [
       "23"
      ]
     },
     "execution_count": 342,
     "metadata": {},
     "output_type": "execute_result"
    }
   ],
   "source": [
    "l"
   ]
  },
  {
   "cell_type": "markdown",
   "metadata": {},
   "source": [
    "# Operators and Assignments"
   ]
  },
  {
   "cell_type": "markdown",
   "metadata": {},
   "source": [
    "![](pictures/bit.png)"
   ]
  },
  {
   "cell_type": "markdown",
   "metadata": {},
   "source": [
    "![](pictures/bit2.png)"
   ]
  },
  {
   "cell_type": "code",
   "execution_count": 343,
   "metadata": {},
   "outputs": [],
   "source": [
    "i = 2;"
   ]
  },
  {
   "cell_type": "code",
   "execution_count": 344,
   "metadata": {},
   "outputs": [
    {
     "data": {
      "text/plain": [
       "2"
      ]
     },
     "execution_count": 344,
     "metadata": {},
     "output_type": "execute_result"
    }
   ],
   "source": [
    "i++"
   ]
  },
  {
   "cell_type": "code",
   "execution_count": 345,
   "metadata": {},
   "outputs": [
    {
     "data": {
      "text/plain": [
       "4"
      ]
     },
     "execution_count": 345,
     "metadata": {},
     "output_type": "execute_result"
    }
   ],
   "source": [
    "++i"
   ]
  },
  {
   "cell_type": "code",
   "execution_count": 346,
   "metadata": {},
   "outputs": [],
   "source": [
    "int x = 20, y = 3;"
   ]
  },
  {
   "cell_type": "code",
   "execution_count": 347,
   "metadata": {},
   "outputs": [
    {
     "data": {
      "text/plain": [
       "23"
      ]
     },
     "execution_count": 347,
     "metadata": {},
     "output_type": "execute_result"
    }
   ],
   "source": [
    "x+y"
   ]
  },
  {
   "cell_type": "code",
   "execution_count": 348,
   "metadata": {},
   "outputs": [
    {
     "data": {
      "text/plain": [
       "17"
      ]
     },
     "execution_count": 348,
     "metadata": {},
     "output_type": "execute_result"
    }
   ],
   "source": [
    "x-y"
   ]
  },
  {
   "cell_type": "code",
   "execution_count": 349,
   "metadata": {},
   "outputs": [
    {
     "data": {
      "text/plain": [
       "6"
      ]
     },
     "execution_count": 349,
     "metadata": {},
     "output_type": "execute_result"
    }
   ],
   "source": [
    "x/y"
   ]
  },
  {
   "cell_type": "code",
   "execution_count": 350,
   "metadata": {},
   "outputs": [
    {
     "data": {
      "text/plain": [
       "60"
      ]
     },
     "execution_count": 350,
     "metadata": {},
     "output_type": "execute_result"
    }
   ],
   "source": [
    "x*y"
   ]
  },
  {
   "cell_type": "code",
   "execution_count": 351,
   "metadata": {},
   "outputs": [
    {
     "data": {
      "text/plain": [
       "2"
      ]
     },
     "execution_count": 351,
     "metadata": {},
     "output_type": "execute_result"
    }
   ],
   "source": [
    "x%y"
   ]
  },
  {
   "cell_type": "code",
   "execution_count": 352,
   "metadata": {},
   "outputs": [
    {
     "data": {
      "text/plain": [
       "true"
      ]
     },
     "execution_count": 352,
     "metadata": {},
     "output_type": "execute_result"
    }
   ],
   "source": [
    "true & true"
   ]
  },
  {
   "cell_type": "code",
   "execution_count": 353,
   "metadata": {},
   "outputs": [
    {
     "data": {
      "text/plain": [
       "false"
      ]
     },
     "execution_count": 353,
     "metadata": {},
     "output_type": "execute_result"
    }
   ],
   "source": [
    "true & false"
   ]
  },
  {
   "cell_type": "code",
   "execution_count": 354,
   "metadata": {},
   "outputs": [
    {
     "data": {
      "text/plain": [
       "true"
      ]
     },
     "execution_count": 354,
     "metadata": {},
     "output_type": "execute_result"
    }
   ],
   "source": [
    "true | false"
   ]
  },
  {
   "cell_type": "code",
   "execution_count": 355,
   "metadata": {},
   "outputs": [
    {
     "data": {
      "text/plain": [
       "4"
      ]
     },
     "execution_count": 355,
     "metadata": {},
     "output_type": "execute_result"
    }
   ],
   "source": [
    "4&5"
   ]
  },
  {
   "cell_type": "code",
   "execution_count": 356,
   "metadata": {},
   "outputs": [
    {
     "data": {
      "text/plain": [
       "5"
      ]
     },
     "execution_count": 356,
     "metadata": {},
     "output_type": "execute_result"
    }
   ],
   "source": [
    "4|5"
   ]
  },
  {
   "cell_type": "code",
   "execution_count": 357,
   "metadata": {},
   "outputs": [
    {
     "data": {
      "text/plain": [
       "1"
      ]
     },
     "execution_count": 357,
     "metadata": {},
     "output_type": "execute_result"
    }
   ],
   "source": [
    "4^5"
   ]
  },
  {
   "cell_type": "code",
   "execution_count": 358,
   "metadata": {},
   "outputs": [
    {
     "data": {
      "text/plain": [
       "false"
      ]
     },
     "execution_count": 358,
     "metadata": {},
     "output_type": "execute_result"
    }
   ],
   "source": [
    "true ^ true"
   ]
  },
  {
   "cell_type": "code",
   "execution_count": 359,
   "metadata": {},
   "outputs": [
    {
     "data": {
      "text/plain": [
       "false"
      ]
     },
     "execution_count": 359,
     "metadata": {},
     "output_type": "execute_result"
    }
   ],
   "source": [
    "false ^ false"
   ]
  },
  {
   "cell_type": "code",
   "execution_count": 360,
   "metadata": {},
   "outputs": [
    {
     "data": {
      "text/plain": [
       "true"
      ]
     },
     "execution_count": 360,
     "metadata": {},
     "output_type": "execute_result"
    }
   ],
   "source": [
    "true ^ false"
   ]
  },
  {
   "cell_type": "code",
   "execution_count": 361,
   "metadata": {},
   "outputs": [
    {
     "data": {
      "text/plain": [
       "65"
      ]
     },
     "execution_count": 361,
     "metadata": {},
     "output_type": "execute_result"
    }
   ],
   "source": [
    "(int) 'A'"
   ]
  },
  {
   "cell_type": "code",
   "execution_count": 362,
   "metadata": {},
   "outputs": [
    {
     "data": {
      "text/plain": [
       "30thirty"
      ]
     },
     "execution_count": 362,
     "metadata": {},
     "output_type": "execute_result"
    }
   ],
   "source": [
    "10+20+\"thirty\""
   ]
  },
  {
   "cell_type": "code",
   "execution_count": 363,
   "metadata": {},
   "outputs": [
    {
     "data": {
      "text/plain": [
       "thirty2010"
      ]
     },
     "execution_count": 363,
     "metadata": {},
     "output_type": "execute_result"
    }
   ],
   "source": [
    "\"thirty\"+20+10"
   ]
  },
  {
   "cell_type": "code",
   "execution_count": 364,
   "metadata": {},
   "outputs": [
    {
     "data": {
      "text/plain": [
       "Odd"
      ]
     },
     "execution_count": 364,
     "metadata": {},
     "output_type": "execute_result"
    }
   ],
   "source": [
    "(10%2==1)?\"Even\":\"Odd\""
   ]
  },
  {
   "cell_type": "code",
   "execution_count": 373,
   "metadata": {},
   "outputs": [],
   "source": [
    "// Below will not compile\n",
    "//Double[] summerHours = { 9, 21 }; // DOES NOT COMPILE"
   ]
  },
  {
   "cell_type": "markdown",
   "metadata": {},
   "source": [
    "# Flow Control"
   ]
  },
  {
   "cell_type": "code",
   "execution_count": 374,
   "metadata": {},
   "outputs": [
    {
     "name": "stdout",
     "output_type": "stream",
     "text": [
      "Inside the loop\r\n"
     ]
    }
   ],
   "source": [
    "int x = 1;\n",
    "    do {\n",
    "\t\tSystem.out.println(\"Inside the loop\");\n",
    "\t} while (x < 1);"
   ]
  },
  {
   "cell_type": "code",
   "execution_count": 375,
   "metadata": {},
   "outputs": [
    {
     "name": "stdout",
     "output_type": "stream",
     "text": [
      "0\n",
      "2\n"
     ]
    }
   ],
   "source": [
    "for(int i=0;i<5;i++) {\n",
    "    if(i==1){\n",
    "        continue;\n",
    "    }\n",
    "    if(i==3){\n",
    "        break;\n",
    "    }\n",
    "    System.out.println(i);    \n",
    "}"
   ]
  },
  {
   "cell_type": "code",
   "execution_count": 376,
   "metadata": {},
   "outputs": [
    {
     "name": "stdout",
     "output_type": "stream",
     "text": [
      "X is greater\r\n"
     ]
    }
   ],
   "source": [
    "int x = 20, y = 10;\n",
    "\n",
    "\t\tif (x > y)\n",
    "\t\t\tSystem.out.println(\"X is greater\");\n",
    "\t\telse if (y > x)\n",
    "\t\t\tSystem.out.println(\"Y is greater\");\n",
    "\t\telse\n",
    "\t\t\tSystem.out.println(\"Both the numbers are equal\");"
   ]
  },
  {
   "cell_type": "code",
   "execution_count": 378,
   "metadata": {},
   "outputs": [
    {
     "name": "stdout",
     "output_type": "stream",
     "text": [
      "Block Begins\n",
      "Outside the block\n"
     ]
    }
   ],
   "source": [
    "//Labled block \n",
    "\tint x = 20;\n",
    "\n",
    "\t\tl1: {\n",
    "\t\t\tSystem.out.println(\"Block Begins\");\n",
    "\n",
    "\t\t\tif (x == 20) {\n",
    "\t\t\t\tbreak l1;\n",
    "\t\t\t}\n",
    "\t\t\tSystem.out.println(\"Block Ends\");\n",
    "\t\t}\n",
    "\n",
    "\t\tSystem.out.println(\"Outside the block\");"
   ]
  },
  {
   "cell_type": "code",
   "execution_count": 379,
   "metadata": {},
   "outputs": [
    {
     "name": "stdout",
     "output_type": "stream",
     "text": [
      "Default\r\n"
     ]
    }
   ],
   "source": [
    "int x = 4;\n",
    "\n",
    "\t\tswitch (x) {\n",
    "\n",
    "\t\tcase 1:\n",
    "\t\tcase 2:\n",
    "\t\t\tSystem.out.println(\"Common Logic\");\n",
    "\t\t\tbreak;\n",
    "\t\tdefault:\n",
    "\t\t\tSystem.out.println(\"Default\");\n",
    "\t\t}"
   ]
  },
  {
   "cell_type": "code",
   "execution_count": 380,
   "metadata": {},
   "outputs": [
    {
     "name": "stdout",
     "output_type": "stream",
     "text": [
      "1\n",
      "2\n",
      "3\n"
     ]
    }
   ],
   "source": [
    "int i = 1;\n",
    "\t\twhile (i <= 3) {\n",
    "\t\t\tSystem.out.println(i);\n",
    "\t\t\ti++;\n",
    "\t\t}"
   ]
  },
  {
   "cell_type": "markdown",
   "metadata": {},
   "source": [
    "# Switch"
   ]
  },
  {
   "cell_type": "code",
   "execution_count": 386,
   "metadata": {},
   "outputs": [
    {
     "name": "stdout",
     "output_type": "stream",
     "text": [
      "Supports multi line block!\r\n"
     ]
    }
   ],
   "source": [
    "String mode = \"d\";\n",
    "\n",
    "\t\tint result = switch (mode) {\n",
    "\t\tcase \"a\", \"b\":\n",
    "\t\t\tyield 1;\n",
    "\t\tcase \"c\":\n",
    "\t\t\tyield 2;\n",
    "\t\tcase \"d\", \"e\", \"f\":\n",
    "\t\t\tSystem.out.println(\"Supports multi line block!\");\n",
    "\t\t\tyield 3;\n",
    "\t\tdefault:\n",
    "\t\t\tyield -1;\n",
    "\t\t};"
   ]
  },
  {
   "cell_type": "code",
   "execution_count": 387,
   "metadata": {},
   "outputs": [
    {
     "data": {
      "text/plain": [
       "3"
      ]
     },
     "execution_count": 387,
     "metadata": {},
     "output_type": "execute_result"
    }
   ],
   "source": [
    "result"
   ]
  },
  {
   "cell_type": "code",
   "execution_count": 388,
   "metadata": {},
   "outputs": [],
   "source": [
    "int day = 3;"
   ]
  },
  {
   "cell_type": "code",
   "execution_count": 389,
   "metadata": {},
   "outputs": [],
   "source": [
    "        String result = switch (day) {\n",
    "            case 1 -> \"Monday\";\n",
    "            case 2 -> \"Tuesday\";\n",
    "            case 3 -> \"Wednesday\";\n",
    "            default -> \"Invalid\";\n",
    "        };"
   ]
  },
  {
   "cell_type": "code",
   "execution_count": 390,
   "metadata": {},
   "outputs": [
    {
     "data": {
      "text/plain": [
       "Wednesday"
      ]
     },
     "execution_count": 390,
     "metadata": {},
     "output_type": "execute_result"
    }
   ],
   "source": [
    "result"
   ]
  },
  {
   "cell_type": "markdown",
   "metadata": {},
   "source": [
    "* Pattern matching in switch"
   ]
  },
  {
   "cell_type": "code",
   "execution_count": 2,
   "metadata": {},
   "outputs": [],
   "source": [
    "Number num =10.0;\n",
    "\t\tString message = switch (num) {\n",
    "\t\tcase Integer i -> \"Rounded: \" + i;\n",
    "\t\tcase Double d -> \"Precise: \" + d;\n",
    "\n",
    "\t\tcase Number n -> \"Unknown: \" + n;\n",
    "\t\t};\n",
    "\t\t"
   ]
  },
  {
   "cell_type": "code",
   "execution_count": 3,
   "metadata": {},
   "outputs": [
    {
     "data": {
      "text/plain": [
       "Precise: 10.0"
      ]
     },
     "execution_count": 3,
     "metadata": {},
     "output_type": "execute_result"
    }
   ],
   "source": [
    "message"
   ]
  },
  {
   "cell_type": "code",
   "execution_count": 4,
   "metadata": {},
   "outputs": [],
   "source": [
    "Number num = 12;\n",
    "String message = switch (num) {\n",
    "\t\tcase Integer i when i > 10 -> \"Joseph\";\n",
    "\t\tcase Integer i -> \"Daniel\";\n",
    "\t\tcase Double d when d <= 15.5 -> \"Peter\";\n",
    "\t\tcase Double d -> \"Kelly\";\n",
    "\t\tcase Number n -> \"Ralph\";\n",
    "\t\t};"
   ]
  },
  {
   "cell_type": "code",
   "execution_count": 5,
   "metadata": {},
   "outputs": [
    {
     "data": {
      "text/plain": [
       "Joseph"
      ]
     },
     "execution_count": 5,
     "metadata": {},
     "output_type": "execute_result"
    }
   ],
   "source": [
    "message"
   ]
  },
  {
   "cell_type": "code",
   "execution_count": 6,
   "metadata": {},
   "outputs": [
    {
     "name": "stdout",
     "output_type": "stream",
     "text": [
      "8"
     ]
    }
   ],
   "source": [
    "Object skips = 10;\n",
    "\t\tswitch (skips) {\n",
    "\t\tcase Integer a when a < 10 -> System.out.print(2);\n",
    "\t\tcase Double b when b >= 10 -> System.out.print(4);\n",
    "\t\tcase null -> System.out.print(6);\n",
    "\t\tdefault -> System.out.print(8);\n",
    "\t\t}"
   ]
  },
  {
   "cell_type": "markdown",
   "metadata": {},
   "source": [
    "# Pattern matchin if"
   ]
  },
  {
   "cell_type": "code",
   "execution_count": 7,
   "metadata": {},
   "outputs": [],
   "source": [
    "String obj= \"Test Hello\""
   ]
  },
  {
   "cell_type": "code",
   "execution_count": 8,
   "metadata": {},
   "outputs": [
    {
     "name": "stdout",
     "output_type": "stream",
     "text": [
      "10\r\n"
     ]
    }
   ],
   "source": [
    "if (obj instanceof String str) {  // `str` is automatically cast\n",
    "    System.out.println(str.length()); // No need for explicit casting\n",
    "}"
   ]
  },
  {
   "cell_type": "code",
   "execution_count": 9,
   "metadata": {},
   "outputs": [
    {
     "name": "stdout",
     "output_type": "stream",
     "text": [
      "String is long: Test Hello\r\n"
     ]
    }
   ],
   "source": [
    "if (obj instanceof String str && str.length() > 5) { \n",
    "            System.out.println(\"String is long: \" + str);\n",
    "        }"
   ]
  },
  {
   "cell_type": "markdown",
   "metadata": {},
   "source": [
    "# Access Modifiers"
   ]
  },
  {
   "cell_type": "code",
   "execution_count": 10,
   "metadata": {},
   "outputs": [],
   "source": [
    "public class A {\n",
    "\t\n",
    "\tprivate int a = 30;\n",
    "\t\t\tint b = 40;\n",
    "\tprotected int c = 50;\n",
    "\tpublic int d = 60;\n",
    "}"
   ]
  },
  {
   "cell_type": "code",
   "execution_count": 11,
   "metadata": {},
   "outputs": [
    {
     "name": "stdout",
     "output_type": "stream",
     "text": [
      "40\n",
      "50\n",
      "60\n"
     ]
    }
   ],
   "source": [
    "A a = new A();\n",
    "// System.out.println(a.a); //This line will not compile\n",
    "System.out.println(a.b);\n",
    "System.out.println(a.c);\n",
    "System.out.println(a.d);"
   ]
  },
  {
   "cell_type": "code",
   "execution_count": 12,
   "metadata": {},
   "outputs": [],
   "source": [
    "public class C extends A{\n",
    "\t}"
   ]
  },
  {
   "cell_type": "code",
   "execution_count": 13,
   "metadata": {},
   "outputs": [],
   "source": [
    "C c = new C();"
   ]
  },
  {
   "cell_type": "code",
   "execution_count": 14,
   "metadata": {},
   "outputs": [
    {
     "data": {
      "text/plain": [
       "50"
      ]
     },
     "execution_count": 14,
     "metadata": {},
     "output_type": "execute_result"
    }
   ],
   "source": [
    "c.c"
   ]
  },
  {
   "cell_type": "code",
   "execution_count": 15,
   "metadata": {},
   "outputs": [],
   "source": [
    "//c.a // THis line will not compile"
   ]
  },
  {
   "cell_type": "code",
   "execution_count": 16,
   "metadata": {},
   "outputs": [
    {
     "data": {
      "text/plain": [
       "40"
      ]
     },
     "execution_count": 16,
     "metadata": {},
     "output_type": "execute_result"
    }
   ],
   "source": [
    "c.b"
   ]
  },
  {
   "cell_type": "markdown",
   "metadata": {},
   "source": [
    "# Packages"
   ]
  },
  {
   "cell_type": "markdown",
   "metadata": {},
   "source": [
    "# Enums"
   ]
  },
  {
   "cell_type": "code",
   "execution_count": 17,
   "metadata": {},
   "outputs": [],
   "source": [
    "enum EnumSample {\n",
    "\t\tSMALL(8), MEDIUM(12), LARGE(16) {\n",
    "\t\t\tpublic String getLidSize() {\n",
    "\t\t\t\treturn \"Large\";\n",
    "\t\t\t}\n",
    "\n",
    "\t\t};\n",
    "        \n",
    "        private int size;\n",
    "\t\t\n",
    "    EnumSample(int size) {\n",
    "\t\t\tSystem.out.println(\"inside the constructor\");\n",
    "\t\t\tthis.size = size;\n",
    "\t\t}\n",
    "\n",
    "\t\tpublic int getSize() {\n",
    "\t\t\treturn size;\n",
    "\t\t}\n",
    "\n",
    "\t\tpublic String getLidSize() {\n",
    "\t\t\treturn \"Small\";\n",
    "\t\t}\n",
    "\t}"
   ]
  },
  {
   "cell_type": "code",
   "execution_count": 18,
   "metadata": {},
   "outputs": [
    {
     "name": "stdout",
     "output_type": "stream",
     "text": [
      "inside the constructor\n",
      "inside the constructor\n",
      "inside the constructor\n"
     ]
    },
    {
     "data": {
      "text/plain": [
       "16"
      ]
     },
     "execution_count": 18,
     "metadata": {},
     "output_type": "execute_result"
    }
   ],
   "source": [
    "EnumSample.LARGE.getSize()"
   ]
  },
  {
   "cell_type": "code",
   "execution_count": 19,
   "metadata": {},
   "outputs": [
    {
     "data": {
      "text/plain": [
       "2"
      ]
     },
     "execution_count": 19,
     "metadata": {},
     "output_type": "execute_result"
    }
   ],
   "source": [
    "EnumSample.LARGE.ordinal()"
   ]
  },
  {
   "cell_type": "code",
   "execution_count": 20,
   "metadata": {},
   "outputs": [
    {
     "data": {
      "text/plain": [
       "class REPL.$JShell$30$EnumSample"
      ]
     },
     "execution_count": 20,
     "metadata": {},
     "output_type": "execute_result"
    }
   ],
   "source": [
    "EnumSample.LARGE.getDeclaringClass()"
   ]
  },
  {
   "cell_type": "code",
   "execution_count": 21,
   "metadata": {},
   "outputs": [
    {
     "name": "stdout",
     "output_type": "stream",
     "text": [
      "SMALL:8:Small\n",
      "MEDIUM:12:Small\n",
      "LARGE:16:Large\n"
     ]
    }
   ],
   "source": [
    "for (EnumSample enumDemo : EnumSample.values()) {\n",
    "\t\t\tSystem.out.println(enumDemo.toString() + \":\" + enumDemo.getSize() + \":\" + enumDemo.getLidSize());\n",
    "\t\t}"
   ]
  },
  {
   "cell_type": "code",
   "execution_count": 22,
   "metadata": {},
   "outputs": [],
   "source": [
    "EnumSample testSize = EnumSample.valueOf(\"MEDIUM\");"
   ]
  },
  {
   "cell_type": "code",
   "execution_count": 23,
   "metadata": {},
   "outputs": [
    {
     "data": {
      "text/plain": [
       "MEDIUM"
      ]
     },
     "execution_count": 23,
     "metadata": {},
     "output_type": "execute_result"
    }
   ],
   "source": [
    "testSize"
   ]
  },
  {
   "cell_type": "code",
   "execution_count": 24,
   "metadata": {},
   "outputs": [],
   "source": [
    "public String getWeather(EnumSample value) {\n",
    "\t\treturn switch (value) {\n",
    "\t\tcase SMALL -> \"Value Small\";\n",
    "\t\tcase MEDIUM -> \"Value Medium\";\n",
    "\t\tcase LARGE -> \"Value Large\";\n",
    "\t\t};\n",
    "\t}"
   ]
  },
  {
   "cell_type": "code",
   "execution_count": 25,
   "metadata": {},
   "outputs": [
    {
     "data": {
      "text/plain": [
       "Value Medium"
      ]
     },
     "execution_count": 25,
     "metadata": {},
     "output_type": "execute_result"
    }
   ],
   "source": [
    "getWeather(EnumSample.MEDIUM)"
   ]
  },
  {
   "cell_type": "code",
   "execution_count": 26,
   "metadata": {},
   "outputs": [],
   "source": [
    "interface Visitors {\n",
    "\tvoid printVisitors();\n",
    "}\n",
    "\n",
    "enum SeasonWithVisitors implements Visitors {\n",
    "\tWINTER(\"Low\"), SPRING(\"Medium\"), SUMMER(\"High\"), FALL(\"Medium\");\n",
    "\n",
    "\tprivate final String visitors;\n",
    "\tpublic static final String DESCRIPTION = \"Weather enum\";\n",
    "\n",
    "\tprivate SeasonWithVisitors(String visitors) {\n",
    "\t\tSystem.out.println(\"constructing:\" + visitors);\n",
    "\t\tthis.visitors = visitors;\n",
    "\t}\n",
    "\n",
    "\t@Override\n",
    "\tpublic void printVisitors() {\n",
    "\t\tSystem.out.println(visitors);\n",
    "\t}\n",
    "}"
   ]
  },
  {
   "cell_type": "code",
   "execution_count": 27,
   "metadata": {},
   "outputs": [
    {
     "name": "stdout",
     "output_type": "stream",
     "text": [
      "constructing:Low\n",
      "constructing:Medium\n",
      "constructing:High\n",
      "constructing:Medium\n",
      "Low\n"
     ]
    }
   ],
   "source": [
    "SeasonWithVisitors.WINTER.printVisitors();"
   ]
  },
  {
   "cell_type": "code",
   "execution_count": 28,
   "metadata": {},
   "outputs": [
    {
     "name": "stdout",
     "output_type": "stream",
     "text": [
      "Weather enum\r\n"
     ]
    }
   ],
   "source": [
    "System.out.println(SeasonWithVisitors.WINTER.DESCRIPTION);"
   ]
  },
  {
   "cell_type": "markdown",
   "metadata": {},
   "source": [
    "# Sealed Classes and Inrerfaces"
   ]
  },
  {
   "cell_type": "code",
   "execution_count": null,
   "metadata": {},
   "outputs": [],
   "source": []
  },
  {
   "cell_type": "markdown",
   "metadata": {},
   "source": [
    "# Annotations"
   ]
  },
  {
   "cell_type": "code",
   "execution_count": null,
   "metadata": {},
   "outputs": [],
   "source": [
    "import java.lang.annotation.ElementType;\n",
    "import java.lang.annotation.Retention;\n",
    "import java.lang.annotation.RetentionPolicy;\n",
    "import java.lang.annotation.Target;\n",
    "import java.lang.reflect.Method;"
   ]
  },
  {
   "cell_type": "code",
   "execution_count": null,
   "metadata": {},
   "outputs": [],
   "source": [
    "@Retention(RetentionPolicy.RUNTIME)\n",
    "@Target(ElementType.METHOD)\n",
    "public @interface MyAnnotation {\n",
    "\n",
    "}"
   ]
  },
  {
   "cell_type": "code",
   "execution_count": null,
   "metadata": {},
   "outputs": [],
   "source": [
    "@Retention(RetentionPolicy.RUNTIME)\n",
    "@Target({ElementType.TYPE, ElementType.METHOD})\n",
    "public @interface MyAnnotation2 {\n",
    "    String param1();\n",
    "    String param2();\n",
    "\n",
    "}"
   ]
  },
  {
   "cell_type": "code",
   "execution_count": null,
   "metadata": {},
   "outputs": [],
   "source": [
    "public class AnnotationTest {\n",
    "\t\n",
    "\t@MyAnnotation\n",
    "\tpublic void myMethod(){\n",
    "\t\tSystem.out.println(\"Inside AnnotationTest.myMethod() \");\n",
    "\t}\n",
    "    \n",
    "    @MyAnnotation2(param1 = \"Hello\", param2 = \"World\")\n",
    "\tpublic void myMethod2(){\n",
    "\t\tSystem.out.println(\"Inside AnnotationTest.myMethod2() \");\n",
    "\t}\n",
    "\n",
    "}"
   ]
  },
  {
   "cell_type": "code",
   "execution_count": null,
   "metadata": {},
   "outputs": [],
   "source": [
    "public class A {\n",
    "\n",
    "\t@Deprecated\n",
    "\tpublic void myMethod() {\n",
    "        System.out.println(\"Inside deprecated method:myMethod() \");\n",
    "\n",
    "\t}\n",
    "\n",
    "\tpublic void myMethod2() {\n",
    "    System.out.println(\"Inside Non-deprecated method:myMethod2() \");\n",
    "\n",
    "\t}\n",
    "}"
   ]
  },
  {
   "cell_type": "code",
   "execution_count": null,
   "metadata": {},
   "outputs": [],
   "source": [
    "A a = new A();"
   ]
  },
  {
   "cell_type": "code",
   "execution_count": null,
   "metadata": {},
   "outputs": [],
   "source": [
    "a.myMethod()"
   ]
  },
  {
   "cell_type": "code",
   "execution_count": null,
   "metadata": {},
   "outputs": [],
   "source": [
    "a.myMethod2();"
   ]
  },
  {
   "cell_type": "code",
   "execution_count": null,
   "metadata": {},
   "outputs": [],
   "source": [
    "AnnotationTest testInstance = new AnnotationTest();\n",
    "Method method = AnnotationTest.class.getMethod(\"myMethod\");\n",
    "Method method2 = AnnotationTest.class.getMethod(\"myMethod2\");"
   ]
  },
  {
   "cell_type": "code",
   "execution_count": null,
   "metadata": {},
   "outputs": [],
   "source": [
    "if (method.isAnnotationPresent(MyAnnotation.class)) {\n",
    "    System.out.println(\"MyAnnotation is present on method: \" + method.getName());\n",
    "    method.invoke(testInstance);\n",
    "    } else {\n",
    "    System.out.println(\"MyAnnotation is not present on method: \" + method.getName());\n",
    "}"
   ]
  },
  {
   "cell_type": "code",
   "execution_count": null,
   "metadata": {},
   "outputs": [],
   "source": [
    "if (method2.isAnnotationPresent(MyAnnotation2.class)) {\n",
    "    MyAnnotation2 annotation2 = method2.getAnnotation(MyAnnotation2.class);\n",
    "    System.out.println(\"MyAnnotation2 is present on method: \" + method.getName());\n",
    "      System.out.println(annotation2.param1());\n",
    "      System.out.println(annotation2.param2());\n",
    "    method2.invoke(testInstance);\n",
    "    } else {\n",
    "    System.out.println(\"MyAnnotation2 is not present on method: \" + method2.getName());\n",
    "}"
   ]
  },
  {
   "cell_type": "markdown",
   "metadata": {},
   "source": [
    "# Var Sample"
   ]
  },
  {
   "cell_type": "code",
   "execution_count": null,
   "metadata": {},
   "outputs": [],
   "source": [
    "// No need to spcify teyh type for var variables\n",
    "var i = 10;"
   ]
  },
  {
   "cell_type": "code",
   "execution_count": null,
   "metadata": {},
   "outputs": [],
   "source": [
    "i"
   ]
  },
  {
   "cell_type": "code",
   "execution_count": null,
   "metadata": {},
   "outputs": [],
   "source": [
    "var s = \"str\";"
   ]
  },
  {
   "cell_type": "code",
   "execution_count": null,
   "metadata": {},
   "outputs": [],
   "source": [
    "s"
   ]
  },
  {
   "cell_type": "code",
   "execution_count": null,
   "metadata": {},
   "outputs": [],
   "source": [
    "s instanceof String"
   ]
  },
  {
   "cell_type": "code",
   "execution_count": null,
   "metadata": {},
   "outputs": [],
   "source": []
  },
  {
   "cell_type": "code",
   "execution_count": null,
   "metadata": {},
   "outputs": [],
   "source": [
    "class TestClass {\n",
    "\tpublic void method1() {\n",
    "\t\tSystem.out.println(\"method1\");\n",
    "\t}\n",
    "   }"
   ]
  },
  {
   "cell_type": "code",
   "execution_count": null,
   "metadata": {},
   "outputs": [],
   "source": [
    "var testClass = new TestClass();"
   ]
  },
  {
   "cell_type": "code",
   "execution_count": null,
   "metadata": {},
   "outputs": [],
   "source": [
    "testClass.method1();"
   ]
  },
  {
   "cell_type": "markdown",
   "metadata": {},
   "source": [
    "# VarArgs"
   ]
  },
  {
   "cell_type": "code",
   "execution_count": null,
   "metadata": {},
   "outputs": [],
   "source": [
    "private void varArgsMethod1(String str1, String... strs2) {\n",
    "\t\tSystem.out.println(str1);\n",
    "\t\tfor (String str2 : strs2) {\n",
    "\t\t\tSystem.out.println(str2);\n",
    "\t\t}\n",
    "\t}"
   ]
  },
  {
   "cell_type": "code",
   "execution_count": null,
   "metadata": {},
   "outputs": [],
   "source": [
    "varArgsMethod1(\"str1\")"
   ]
  },
  {
   "cell_type": "code",
   "execution_count": null,
   "metadata": {},
   "outputs": [],
   "source": [
    "varArgsMethod1(\"Str1\", \"Str21\", \"Str22\")"
   ]
  },
  {
   "cell_type": "markdown",
   "metadata": {},
   "source": [
    "# Static-Non Static"
   ]
  },
  {
   "cell_type": "code",
   "execution_count": null,
   "metadata": {},
   "outputs": [],
   "source": [
    "public class NonStaticMembersDemo {\n",
    "\tint num;\n",
    "\tNonStaticMembersDemo() {\n",
    "\t\tSystem.out.println(\"Inside the constructor\");\n",
    "\t}\n",
    "\n",
    "\t{\n",
    "\t\tSystem.out.println(\"Inside the non static block\");\n",
    "\t}\n",
    "\n",
    "\tstatic {\n",
    "\t\tSystem.out.println(\"Inside the static block\");\n",
    "\t}\n",
    "\n",
    "\tvoid doSomething() {\n",
    "\t\tSystem.out.println(\"Inside doSomething\");\n",
    "\t}\n",
    "\n",
    "}\n"
   ]
  },
  {
   "cell_type": "code",
   "execution_count": null,
   "metadata": {},
   "outputs": [],
   "source": [
    "NonStaticMembersDemo obj = new NonStaticMembersDemo();"
   ]
  },
  {
   "cell_type": "code",
   "execution_count": null,
   "metadata": {},
   "outputs": [],
   "source": [
    "obj.doSomething();"
   ]
  },
  {
   "cell_type": "code",
   "execution_count": null,
   "metadata": {},
   "outputs": [],
   "source": [
    "NonStaticMembersDemo obj = new NonStaticMembersDemo();"
   ]
  },
  {
   "cell_type": "code",
   "execution_count": null,
   "metadata": {},
   "outputs": [],
   "source": [
    "obj.doSomething();"
   ]
  },
  {
   "cell_type": "markdown",
   "metadata": {},
   "source": [
    "* Non static block will get called before the constructur"
   ]
  },
  {
   "cell_type": "code",
   "execution_count": null,
   "metadata": {},
   "outputs": [],
   "source": [
    "class Test1 {\n",
    "\tpublic static String str = \"Teststr\";\n",
    "\n",
    "}"
   ]
  },
  {
   "cell_type": "code",
   "execution_count": null,
   "metadata": {},
   "outputs": [],
   "source": [
    "// static varaiables will be accessible even when teh reference object is null\n",
    "Test1 t = new Test1();\n",
    "System.out.println(t.str);\n",
    "t = null;\n",
    "System.out.println(t.str);"
   ]
  },
  {
   "cell_type": "code",
   "execution_count": null,
   "metadata": {},
   "outputs": [],
   "source": []
  },
  {
   "cell_type": "markdown",
   "metadata": {},
   "source": [
    "# Atomic Variables"
   ]
  },
  {
   "cell_type": "markdown",
   "metadata": {},
   "source": [
    "* AtomicInteger in Java is a class in the java.util.concurrent.atomic package that provides an integer value that can be updated atomically. This means that the operations on the AtomicInteger instance, such as increment, decrement, add, and set, are thread-safe without using synchronization."
   ]
  },
  {
   "cell_type": "code",
   "execution_count": null,
   "metadata": {},
   "outputs": [],
   "source": [
    "import java.util.concurrent.atomic.AtomicInteger;\n",
    "import java.util.concurrent.atomic.AtomicReference;\n",
    "AtomicInteger atomicInteger = new AtomicInteger(9);"
   ]
  },
  {
   "cell_type": "code",
   "execution_count": null,
   "metadata": {},
   "outputs": [],
   "source": [
    "atomicInteger.getAndIncrement()"
   ]
  },
  {
   "cell_type": "code",
   "execution_count": null,
   "metadata": {},
   "outputs": [],
   "source": [
    "atomicInteger.addAndGet(2)"
   ]
  },
  {
   "cell_type": "code",
   "execution_count": null,
   "metadata": {},
   "outputs": [],
   "source": [
    "atomicInteger.compareAndSet(9, 10)"
   ]
  },
  {
   "cell_type": "code",
   "execution_count": null,
   "metadata": {},
   "outputs": [],
   "source": [
    "atomicInteger.updateAndGet(i -> 5 * i)"
   ]
  },
  {
   "cell_type": "code",
   "execution_count": null,
   "metadata": {},
   "outputs": [],
   "source": [
    "atomicInteger.accumulateAndGet(2, (i1, i2) -> i1 + i2)"
   ]
  },
  {
   "cell_type": "code",
   "execution_count": null,
   "metadata": {},
   "outputs": [],
   "source": [
    "AtomicReference<String> atomicReference = new AtomicReference<>(\"test jj\");"
   ]
  },
  {
   "cell_type": "code",
   "execution_count": null,
   "metadata": {},
   "outputs": [],
   "source": [
    "atomicReference.updateAndGet(s -> s.toUpperCase())"
   ]
  },
  {
   "cell_type": "code",
   "execution_count": null,
   "metadata": {},
   "outputs": [],
   "source": [
    "atomicReference.accumulateAndGet(\"hi ..\", ((s1, s2) -> s2 + s1))"
   ]
  },
  {
   "cell_type": "markdown",
   "metadata": {},
   "source": [
    "# Inheritance"
   ]
  },
  {
   "cell_type": "code",
   "execution_count": null,
   "metadata": {},
   "outputs": [],
   "source": [
    "public class Parent{\n",
    "\t\n",
    "\tParent(){\n",
    "\t\tSystem.out.println(\"Parents Object: \"+this);\n",
    "\t}\n",
    "\t\n",
    "\tvoid f1(){\n",
    "\t\tSystem.out.println(\"Inside Parents f1\");\n",
    "\t}\n",
    "}"
   ]
  },
  {
   "cell_type": "code",
   "execution_count": null,
   "metadata": {},
   "outputs": [],
   "source": [
    "public class Child extends Parent{\n",
    "\t\n",
    "\tChild(){\n",
    "\t\tSystem.out.println(\"Child Object: \"+this);\n",
    "\t}\n",
    "\t\n",
    "    @Override\n",
    "    void f1(){\n",
    "\t\tSystem.out.println(\"Inside childs f1\");\n",
    "\t}\n",
    "    \n",
    "\tvoid f2(){\n",
    "\t\tSystem.out.println(\"Inside f2\");\n",
    "\t}\n",
    "}"
   ]
  },
  {
   "cell_type": "code",
   "execution_count": null,
   "metadata": {},
   "outputs": [],
   "source": [
    "Child c = new Child()"
   ]
  },
  {
   "cell_type": "code",
   "execution_count": null,
   "metadata": {},
   "outputs": [],
   "source": [
    "c.hashCode();"
   ]
  },
  {
   "cell_type": "code",
   "execution_count": null,
   "metadata": {},
   "outputs": [],
   "source": [
    "c.f1()"
   ]
  },
  {
   "cell_type": "code",
   "execution_count": null,
   "metadata": {},
   "outputs": [],
   "source": [
    "Parent c1 = new Child();"
   ]
  },
  {
   "cell_type": "code",
   "execution_count": null,
   "metadata": {},
   "outputs": [],
   "source": [
    "c1.f1()"
   ]
  },
  {
   "cell_type": "code",
   "execution_count": null,
   "metadata": {},
   "outputs": [],
   "source": [
    "Parent c2 = new Parent();"
   ]
  },
  {
   "cell_type": "code",
   "execution_count": null,
   "metadata": {},
   "outputs": [],
   "source": [
    "c2.f1();"
   ]
  },
  {
   "cell_type": "markdown",
   "metadata": {},
   "source": [
    "# Interfaces"
   ]
  },
  {
   "cell_type": "code",
   "execution_count": null,
   "metadata": {},
   "outputs": [],
   "source": [
    "public interface A {\n",
    "\n",
    "\tdefault void m1() {\n",
    "\t\tSystem.out.println(\"m1 inside A\");\n",
    "\t}\n",
    "\n",
    "}"
   ]
  },
  {
   "cell_type": "code",
   "execution_count": null,
   "metadata": {},
   "outputs": [],
   "source": [
    "public interface X {\n",
    "\tdefault void m1(){\n",
    "        testPrivateInterfaceMethod1();\n",
    "\t\tSystem.out.println(\"m1 inside X\");\n",
    "\t}\n",
    "    default void m2(){\n",
    "        testPrivateInterfaceMethod1();\n",
    "\t\tSystem.out.println(\"m2 inside X\");\n",
    "\t}\n",
    "    private static void testPrivateInterfaceMethod1() {\n",
    "\t\tSystem.out.println(\"inside testPrivateInterfaceMethod1\");\n",
    "\t}\n",
    "}"
   ]
  },
  {
   "cell_type": "code",
   "execution_count": null,
   "metadata": {},
   "outputs": [],
   "source": [
    "public class B implements A,X{\n",
    "\n",
    "\t@Override\n",
    "\tpublic void m1() {\n",
    "    System.out.println(\"m1 inside B\");\n",
    "\t\n",
    "\t}\n",
    "}"
   ]
  },
  {
   "cell_type": "code",
   "execution_count": null,
   "metadata": {},
   "outputs": [],
   "source": [
    "A a = new B();"
   ]
  },
  {
   "cell_type": "code",
   "execution_count": null,
   "metadata": {},
   "outputs": [],
   "source": [
    "a.m1();"
   ]
  },
  {
   "cell_type": "code",
   "execution_count": null,
   "metadata": {},
   "outputs": [],
   "source": [
    "X x = new B();"
   ]
  },
  {
   "cell_type": "code",
   "execution_count": null,
   "metadata": {},
   "outputs": [],
   "source": [
    "x.m2()"
   ]
  },
  {
   "cell_type": "code",
   "execution_count": null,
   "metadata": {},
   "outputs": [],
   "source": [
    "public interface DemoInterface {\n",
    "\tint CONSTANT_VALUE = 100; // public, static, final by default\n",
    "\n",
    "\tvoid abstractMethod(); // Abstract method (implicitly public and abstract)\n",
    "\n",
    "\tdefault void defaultMethod() {\n",
    "\t\tSystem.out.println(\"Default method in an interface\");\n",
    "\t\tprivateHelperMethod();\n",
    "        // static methods can be called by other methods in an interface\n",
    "\t\tprivateStaticHelper();\n",
    "\t}\n",
    "\n",
    "\tprivate void privateHelperMethod() {\n",
    "\t\tSystem.out.println(\"Private method in an interface\");\n",
    "\t}\n",
    "\n",
    "\tstatic void staticMethod() {\n",
    "\t\tSystem.out.println(\"Static method in an interface\");\n",
    "\t\tprivateStaticHelper();\n",
    "\t}\n",
    "\n",
    "\tprivate static void privateStaticHelper() {\n",
    "\t\tSystem.out.println(\"Private static method in an interface\");\n",
    "\t}\n",
    "}"
   ]
  },
  {
   "cell_type": "code",
   "execution_count": null,
   "metadata": {},
   "outputs": [],
   "source": [
    "public class DemoInterfaceClass implements DemoInterface {\n",
    "\n",
    "\t@Override\n",
    "\tpublic void abstractMethod() {\n",
    "\t\tSystem.out.println(\"Inside abstractMethod implementation of DemoInterfaceClass\");\n",
    "\n",
    "\t}\n",
    "\n",
    "\t@Override\n",
    "\tpublic void defaultMethod() {\n",
    "\t\tSystem.out.println(\"Default method in DemoInterfaceClass\");\n",
    "\n",
    "\t}\n",
    "\n",
    "\tpublic void invokeDefaultInterfcaeMethodExplicitly() {\n",
    "\t\t// Calling the default method explicitly\n",
    "\t\tDemoInterface.super.defaultMethod();\n",
    "\n",
    "\t}\n",
    "\n",
    "}\n"
   ]
  },
  {
   "cell_type": "code",
   "execution_count": null,
   "metadata": {},
   "outputs": [],
   "source": [
    "DemoInterface.staticMethod();"
   ]
  },
  {
   "cell_type": "code",
   "execution_count": null,
   "metadata": {},
   "outputs": [],
   "source": [
    "DemoInterfaceClass demoInterfaceClass = new DemoInterfaceClass();"
   ]
  },
  {
   "cell_type": "code",
   "execution_count": null,
   "metadata": {},
   "outputs": [],
   "source": [
    "demoInterfaceClass.defaultMethod();"
   ]
  },
  {
   "cell_type": "code",
   "execution_count": null,
   "metadata": {},
   "outputs": [],
   "source": [
    "demoInterfaceClass.abstractMethod();"
   ]
  },
  {
   "cell_type": "code",
   "execution_count": null,
   "metadata": {},
   "outputs": [],
   "source": [
    "// Calling the default method explicitly\n",
    "demoInterfaceClass.invokeDefaultInterfcaeMethodExplicitly();"
   ]
  },
  {
   "cell_type": "code",
   "execution_count": null,
   "metadata": {},
   "outputs": [],
   "source": []
  },
  {
   "cell_type": "code",
   "execution_count": null,
   "metadata": {},
   "outputs": [],
   "source": []
  },
  {
   "cell_type": "markdown",
   "metadata": {},
   "source": [
    "# Exception Handling"
   ]
  },
  {
   "cell_type": "code",
   "execution_count": null,
   "metadata": {},
   "outputs": [],
   "source": [
    "try{\n",
    "    int c =10/0;\n",
    "    System.out.println(\"Result\"+c);\n",
    "    }catch(ArithmeticException e){\n",
    "        System.out.println(\"Please do not enter 0\");\n",
    "    }finally{\n",
    "        System.out.println(\"Finally\");\n",
    "    }"
   ]
  },
  {
   "cell_type": "code",
   "execution_count": null,
   "metadata": {},
   "outputs": [],
   "source": [
    "assert (10 <= 20):\"Assertion error demo\";"
   ]
  },
  {
   "cell_type": "markdown",
   "metadata": {},
   "source": [
    "# AutoCloseable"
   ]
  },
  {
   "cell_type": "code",
   "execution_count": null,
   "metadata": {},
   "outputs": [],
   "source": [
    "public class MyWorker implements AutoCloseable {\n",
    "\t\n",
    "\tpublic MyWorker(){\n",
    "\t\tSystem.out.println(\"Creating the resource\");\n",
    "\t}\n",
    "\t\n",
    "\tpublic void doSomething() {\n",
    "\t\tSystem.out.println(\"Doing Something\");\n",
    "\t}\n",
    "\n",
    "\t@Override\n",
    "\tpublic void close() throws Exception {\n",
    "\t\tSystem.out.println(\"Closing the resource\");\n",
    "\n",
    "\t}\n",
    "\n",
    "}"
   ]
  },
  {
   "cell_type": "code",
   "execution_count": null,
   "metadata": {},
   "outputs": [],
   "source": [
    "// AutoCloseable variable can be defined before try block with Java 9. It is not working in notebook\n",
    "//final MyWorker worker = new MyWorker();\n",
    "\n",
    "\t\ttry (MyWorker worker = new MyWorker();) {\n",
    "\t\t\tworker.doSomething();\n",
    "\t\t} catch (Exception e) {\n",
    "\n",
    "\t\t}"
   ]
  },
  {
   "cell_type": "markdown",
   "metadata": {},
   "source": [
    "# Locale"
   ]
  },
  {
   "cell_type": "code",
   "execution_count": null,
   "metadata": {},
   "outputs": [],
   "source": [
    "Locale l = Locale.getDefault();"
   ]
  },
  {
   "cell_type": "code",
   "execution_count": null,
   "metadata": {},
   "outputs": [],
   "source": [
    "l"
   ]
  },
  {
   "cell_type": "code",
   "execution_count": null,
   "metadata": {},
   "outputs": [],
   "source": [
    "l.getCountry()"
   ]
  },
  {
   "cell_type": "code",
   "execution_count": null,
   "metadata": {},
   "outputs": [],
   "source": [
    "l.getLanguage()"
   ]
  },
  {
   "cell_type": "code",
   "execution_count": null,
   "metadata": {},
   "outputs": [],
   "source": [
    "l.getDisplayCountry()"
   ]
  },
  {
   "cell_type": "code",
   "execution_count": null,
   "metadata": {},
   "outputs": [],
   "source": [
    "l.getDisplayLanguage()"
   ]
  },
  {
   "cell_type": "code",
   "execution_count": null,
   "metadata": {},
   "outputs": [],
   "source": [
    "//Locale.setDefault(Locale.UK);"
   ]
  },
  {
   "cell_type": "code",
   "execution_count": null,
   "metadata": {},
   "outputs": [],
   "source": [
    "Locale.getDefault().getDisplayCountry()"
   ]
  },
  {
   "cell_type": "code",
   "execution_count": null,
   "metadata": {},
   "outputs": [],
   "source": [
    "String[] isoCountries = Locale.getISOCountries();"
   ]
  },
  {
   "cell_type": "code",
   "execution_count": null,
   "metadata": {},
   "outputs": [],
   "source": [
    "for (String eachCountry : isoCountries) {\n",
    "\t\t\tSystem.out.println(eachCountry);\n",
    "\t\t\t\n",
    "\t\t}"
   ]
  },
  {
   "cell_type": "code",
   "execution_count": null,
   "metadata": {},
   "outputs": [],
   "source": [
    "String[] languages = Locale.getISOLanguages();"
   ]
  },
  {
   "cell_type": "code",
   "execution_count": null,
   "metadata": {},
   "outputs": [],
   "source": [
    "for (String eachLanguage : languages) {\n",
    "\t\t\tSystem.out.println(eachLanguage);\n",
    "\t\t\t\n",
    "\t\t}"
   ]
  },
  {
   "cell_type": "code",
   "execution_count": null,
   "metadata": {},
   "outputs": [],
   "source": []
  },
  {
   "cell_type": "markdown",
   "metadata": {},
   "source": [
    "# Date/Number Formatting"
   ]
  },
  {
   "cell_type": "code",
   "execution_count": null,
   "metadata": {},
   "outputs": [],
   "source": [
    "import java.text.DateFormat;\n",
    "import java.text.NumberFormat;\n",
    "import java.text.SimpleDateFormat;"
   ]
  },
  {
   "cell_type": "code",
   "execution_count": null,
   "metadata": {},
   "outputs": [],
   "source": [
    "Date d = new Date();"
   ]
  },
  {
   "cell_type": "code",
   "execution_count": null,
   "metadata": {},
   "outputs": [],
   "source": [
    "DateFormat usDF = DateFormat.getDateInstance(0, Locale.US);"
   ]
  },
  {
   "cell_type": "code",
   "execution_count": null,
   "metadata": {},
   "outputs": [],
   "source": [
    "usDF.format(d)"
   ]
  },
  {
   "cell_type": "code",
   "execution_count": null,
   "metadata": {},
   "outputs": [],
   "source": [
    "DateFormat ukDF = DateFormat.getDateInstance(0, Locale.UK);"
   ]
  },
  {
   "cell_type": "code",
   "execution_count": null,
   "metadata": {},
   "outputs": [],
   "source": [
    "ukDF.format(d)"
   ]
  },
  {
   "cell_type": "code",
   "execution_count": null,
   "metadata": {},
   "outputs": [],
   "source": [
    " Locale indiaLocale = new Locale(\"en\", \"IN\");\n",
    " DateFormat indiaDF = DateFormat.getDateInstance(0, indiaLocale);"
   ]
  },
  {
   "cell_type": "code",
   "execution_count": null,
   "metadata": {},
   "outputs": [],
   "source": [
    "indiaDF.format(d)"
   ]
  },
  {
   "cell_type": "code",
   "execution_count": null,
   "metadata": {},
   "outputs": [],
   "source": [
    "DateFormat timeInstance = DateFormat.getTimeInstance();"
   ]
  },
  {
   "cell_type": "code",
   "execution_count": null,
   "metadata": {},
   "outputs": [],
   "source": [
    "timeInstance.format(d)"
   ]
  },
  {
   "cell_type": "code",
   "execution_count": null,
   "metadata": {},
   "outputs": [],
   "source": [
    "DateFormat dateTimeInstance = DateFormat.getDateTimeInstance(0,0);"
   ]
  },
  {
   "cell_type": "code",
   "execution_count": null,
   "metadata": {},
   "outputs": [],
   "source": [
    "dateTimeInstance.format(d)"
   ]
  },
  {
   "cell_type": "code",
   "execution_count": null,
   "metadata": {},
   "outputs": [],
   "source": [
    "Double d = 1232322.3434;"
   ]
  },
  {
   "cell_type": "code",
   "execution_count": null,
   "metadata": {},
   "outputs": [],
   "source": [
    "NumberFormat nf = NumberFormat.getInstance();"
   ]
  },
  {
   "cell_type": "code",
   "execution_count": null,
   "metadata": {},
   "outputs": [],
   "source": [
    "nf.setMinimumFractionDigits(4);\n",
    "nf.setMaximumFractionDigits(3);"
   ]
  },
  {
   "cell_type": "code",
   "execution_count": null,
   "metadata": {},
   "outputs": [],
   "source": [
    "nf.setMaximumIntegerDigits(4);"
   ]
  },
  {
   "cell_type": "code",
   "execution_count": null,
   "metadata": {},
   "outputs": [],
   "source": [
    "nf.format(d)"
   ]
  },
  {
   "cell_type": "code",
   "execution_count": null,
   "metadata": {},
   "outputs": [],
   "source": [
    "SimpleDateFormat sdf = new SimpleDateFormat(\"dd/M/yyyy hh:mm:ss\");\n",
    "String date = sdf.format(new Date());"
   ]
  },
  {
   "cell_type": "code",
   "execution_count": null,
   "metadata": {},
   "outputs": [],
   "source": [
    "date"
   ]
  },
  {
   "cell_type": "code",
   "execution_count": null,
   "metadata": {},
   "outputs": [],
   "source": [
    "String dateAsString = \"05-16-2024\";"
   ]
  },
  {
   "cell_type": "code",
   "execution_count": null,
   "metadata": {},
   "outputs": [],
   "source": [
    "SimpleDateFormat sdf1 = new SimpleDateFormat(\"MM-dd-yyyy\");"
   ]
  },
  {
   "cell_type": "code",
   "execution_count": null,
   "metadata": {},
   "outputs": [],
   "source": [
    "Date date1 = sdf1.parse(dateAsString);"
   ]
  },
  {
   "cell_type": "code",
   "execution_count": null,
   "metadata": {},
   "outputs": [],
   "source": [
    "date1"
   ]
  },
  {
   "cell_type": "code",
   "execution_count": null,
   "metadata": {},
   "outputs": [],
   "source": [
    "NumberFormat format = NumberFormat.getCompactNumberInstance(Locale.US, NumberFormat.Style.LONG);"
   ]
  },
  {
   "cell_type": "code",
   "execution_count": null,
   "metadata": {},
   "outputs": [],
   "source": [
    "format.format(1000)"
   ]
  },
  {
   "cell_type": "code",
   "execution_count": null,
   "metadata": {},
   "outputs": [],
   "source": [
    "format.format(1000000)"
   ]
  },
  {
   "cell_type": "markdown",
   "metadata": {},
   "source": [
    "# Date /Time"
   ]
  },
  {
   "cell_type": "code",
   "execution_count": null,
   "metadata": {},
   "outputs": [],
   "source": [
    "import java.time.Duration;\n",
    "import java.time.LocalDate;\n",
    "import java.time.LocalDateTime;\n",
    "import java.time.LocalTime;\n",
    "import java.time.Period;\n",
    "import java.time.ZoneId;\n",
    "import java.time.ZonedDateTime;\n",
    "import java.time.format.DateTimeFormatter;\n",
    "import java.time.format.FormatStyle;\n",
    "import java.time.temporal.ChronoField;\n",
    "import java.time.temporal.ChronoUnit;\n",
    "import java.time.Month;\n",
    "import java.time.Instant;"
   ]
  },
  {
   "cell_type": "code",
   "execution_count": null,
   "metadata": {},
   "outputs": [],
   "source": [
    "LocalDate.now()"
   ]
  },
  {
   "cell_type": "code",
   "execution_count": null,
   "metadata": {},
   "outputs": [],
   "source": [
    "LocalTime.now()"
   ]
  },
  {
   "cell_type": "code",
   "execution_count": null,
   "metadata": {},
   "outputs": [],
   "source": [
    "LocalDateTime.now()"
   ]
  },
  {
   "cell_type": "code",
   "execution_count": null,
   "metadata": {},
   "outputs": [],
   "source": [
    "ZonedDateTime.now()"
   ]
  },
  {
   "cell_type": "code",
   "execution_count": null,
   "metadata": {},
   "outputs": [],
   "source": [
    "LocalDate date1 = LocalDate.of(2025, 2, 10);"
   ]
  },
  {
   "cell_type": "code",
   "execution_count": null,
   "metadata": {},
   "outputs": [],
   "source": [
    "date1"
   ]
  },
  {
   "cell_type": "code",
   "execution_count": null,
   "metadata": {},
   "outputs": [],
   "source": [
    "date1.isLeapYear()"
   ]
  },
  {
   "cell_type": "code",
   "execution_count": null,
   "metadata": {},
   "outputs": [],
   "source": [
    "date1.plusDays(10)"
   ]
  },
  {
   "cell_type": "code",
   "execution_count": null,
   "metadata": {},
   "outputs": [],
   "source": [
    "LocalDate date2 = LocalDate.now();"
   ]
  },
  {
   "cell_type": "code",
   "execution_count": null,
   "metadata": {},
   "outputs": [],
   "source": [
    "date2"
   ]
  },
  {
   "cell_type": "code",
   "execution_count": null,
   "metadata": {},
   "outputs": [],
   "source": [
    "LocalTime localTime = LocalTime.of(10, 30);"
   ]
  },
  {
   "cell_type": "code",
   "execution_count": null,
   "metadata": {},
   "outputs": [],
   "source": [
    "localTime"
   ]
  },
  {
   "cell_type": "code",
   "execution_count": null,
   "metadata": {},
   "outputs": [],
   "source": [
    "Period period = Period.ofWeeks(1);"
   ]
  },
  {
   "cell_type": "code",
   "execution_count": null,
   "metadata": {},
   "outputs": [],
   "source": [
    "LocalDateTime before = LocalDateTime.now();\n",
    "\t\ttry {\n",
    "\t\t\tThread.sleep(3000);\n",
    "\t\t} catch (InterruptedException e) {\n",
    "\t\t\te.printStackTrace();\n",
    "\t\t}\n",
    "\t\tLocalDateTime after = LocalDateTime.now();\n",
    "\t\tDuration duration = Duration.between(before, after);\n",
    "\t\tSystem.out.println(duration.getSeconds())"
   ]
  },
  {
   "cell_type": "code",
   "execution_count": null,
   "metadata": {},
   "outputs": [],
   "source": [
    "ZonedDateTime zonedDateTime = ZonedDateTime.of(after, ZoneId.of(\"Asia/Kolkata\"));"
   ]
  },
  {
   "cell_type": "code",
   "execution_count": null,
   "metadata": {},
   "outputs": [],
   "source": [
    "zonedDateTime"
   ]
  },
  {
   "cell_type": "code",
   "execution_count": null,
   "metadata": {},
   "outputs": [],
   "source": [
    "Set<String> availableZoneIdSet = ZoneId.getAvailableZoneIds();\n",
    "\t\tavailableZoneIdSet.stream().forEach(System.out::println);"
   ]
  },
  {
   "cell_type": "code",
   "execution_count": null,
   "metadata": {},
   "outputs": [],
   "source": [
    "LocalDateTime date = LocalDateTime.of(2019, 1, 1, 10, 10);\n",
    "DateTimeFormatter formatter = DateTimeFormatter.ofLocalizedDate(FormatStyle.FULL);\n",
    "System.out.println(formatter.format(date));"
   ]
  },
  {
   "cell_type": "code",
   "execution_count": null,
   "metadata": {},
   "outputs": [],
   "source": [
    "LocalTime t1 = LocalTime.parse(\"11:03:15.987\");\n",
    "System.out.println(t1.plus(22, ChronoUnit.HOURS).equals(t1.plusHours(22)));"
   ]
  },
  {
   "cell_type": "code",
   "execution_count": null,
   "metadata": {},
   "outputs": [],
   "source": [
    "t1"
   ]
  },
  {
   "cell_type": "code",
   "execution_count": null,
   "metadata": {},
   "outputs": [],
   "source": [
    "LocalDate dateEpoch = LocalDate.ofEpochDay(0);"
   ]
  },
  {
   "cell_type": "code",
   "execution_count": null,
   "metadata": {},
   "outputs": [],
   "source": [
    "dateEpoch"
   ]
  },
  {
   "cell_type": "code",
   "execution_count": null,
   "metadata": {},
   "outputs": [],
   "source": [
    "LocalDate date1 = LocalDate.of(2024, 07, 12);"
   ]
  },
  {
   "cell_type": "code",
   "execution_count": null,
   "metadata": {},
   "outputs": [],
   "source": [
    "Period p1 = Period.ofWeeks(1);"
   ]
  },
  {
   "cell_type": "code",
   "execution_count": null,
   "metadata": {},
   "outputs": [],
   "source": [
    "date1.plus(p1)"
   ]
  },
  {
   "cell_type": "code",
   "execution_count": null,
   "metadata": {},
   "outputs": [],
   "source": [
    "// Duration can be used only with LocalTime and LocalDateTime\n",
    "LocalTime t1 = LocalTime.of(17, 30);"
   ]
  },
  {
   "cell_type": "code",
   "execution_count": null,
   "metadata": {},
   "outputs": [],
   "source": [
    "Duration d1 = Duration.ofMinutes(45);"
   ]
  },
  {
   "cell_type": "code",
   "execution_count": null,
   "metadata": {},
   "outputs": [],
   "source": [
    "t1.plus(d1)"
   ]
  },
  {
   "cell_type": "code",
   "execution_count": null,
   "metadata": {},
   "outputs": [],
   "source": [
    "var date = LocalDate.of(2025, Month.MARCH, 3);"
   ]
  },
  {
   "cell_type": "code",
   "execution_count": null,
   "metadata": {},
   "outputs": [],
   "source": [
    "var withTime = date.atTime(5, 30); "
   ]
  },
  {
   "cell_type": "code",
   "execution_count": null,
   "metadata": {},
   "outputs": [],
   "source": [
    "withTime"
   ]
  },
  {
   "cell_type": "code",
   "execution_count": null,
   "metadata": {},
   "outputs": [],
   "source": [
    "var start = date.atStartOfDay();    // 2025-03-03T00:00"
   ]
  },
  {
   "cell_type": "code",
   "execution_count": null,
   "metadata": {},
   "outputs": [],
   "source": [
    "start"
   ]
  },
  {
   "cell_type": "code",
   "execution_count": null,
   "metadata": {},
   "outputs": [],
   "source": [
    "LocalTime time = LocalTime.of(14, 30); // 14:30 (2:30 PM)\n",
    "LocalDate date = LocalDate.of(2025, 2, 10); // February 10, 2025"
   ]
  },
  {
   "cell_type": "code",
   "execution_count": null,
   "metadata": {},
   "outputs": [],
   "source": [
    "LocalDateTime dateTime = time.atDate(date);"
   ]
  },
  {
   "cell_type": "code",
   "execution_count": null,
   "metadata": {},
   "outputs": [],
   "source": [
    "dateTime"
   ]
  },
  {
   "cell_type": "code",
   "execution_count": null,
   "metadata": {},
   "outputs": [],
   "source": [
    "System.out.println(Period.of(1, 2, 3));"
   ]
  },
  {
   "cell_type": "code",
   "execution_count": null,
   "metadata": {},
   "outputs": [],
   "source": [
    "var xmas = LocalDate.of(2025, Month.DECEMBER, 25);\n",
    "var newYears = LocalDate.of(2026, Month.JANUARY, 1);"
   ]
  },
  {
   "cell_type": "code",
   "execution_count": null,
   "metadata": {},
   "outputs": [],
   "source": [
    "System.out.println(Period.between(xmas, newYears));  // P7D"
   ]
  },
  {
   "cell_type": "code",
   "execution_count": null,
   "metadata": {},
   "outputs": [],
   "source": [
    "var daily = Duration.ofDays(1);               // PT24H"
   ]
  },
  {
   "cell_type": "code",
   "execution_count": null,
   "metadata": {},
   "outputs": [],
   "source": [
    "daily"
   ]
  },
  {
   "cell_type": "code",
   "execution_count": null,
   "metadata": {},
   "outputs": [],
   "source": [
    "var hourly = Duration.ofHours(1);             // PT1H"
   ]
  },
  {
   "cell_type": "code",
   "execution_count": null,
   "metadata": {},
   "outputs": [],
   "source": [
    "hourly"
   ]
  },
  {
   "cell_type": "code",
   "execution_count": null,
   "metadata": {},
   "outputs": [],
   "source": [
    "var everyMinute = Duration.ofMinutes(1);      // PT1M"
   ]
  },
  {
   "cell_type": "code",
   "execution_count": null,
   "metadata": {},
   "outputs": [],
   "source": [
    "everyMinute"
   ]
  },
  {
   "cell_type": "code",
   "execution_count": null,
   "metadata": {},
   "outputs": [],
   "source": [
    "var everyTenSeconds = Duration.ofSeconds(10); // PT10S"
   ]
  },
  {
   "cell_type": "code",
   "execution_count": null,
   "metadata": {},
   "outputs": [],
   "source": [
    "everyTenSeconds"
   ]
  },
  {
   "cell_type": "code",
   "execution_count": null,
   "metadata": {},
   "outputs": [],
   "source": [
    "var everyMilli = Duration.ofMillis(1);        // PT0.001S"
   ]
  },
  {
   "cell_type": "code",
   "execution_count": null,
   "metadata": {},
   "outputs": [],
   "source": [
    "everyMilli"
   ]
  },
  {
   "cell_type": "code",
   "execution_count": null,
   "metadata": {},
   "outputs": [],
   "source": [
    "var everyNano = Duration.ofNanos(1);"
   ]
  },
  {
   "cell_type": "code",
   "execution_count": null,
   "metadata": {},
   "outputs": [],
   "source": [
    "everyNano"
   ]
  },
  {
   "cell_type": "code",
   "execution_count": null,
   "metadata": {},
   "outputs": [],
   "source": [
    "var daily = Duration.of(1, ChronoUnit.DAYS);"
   ]
  },
  {
   "cell_type": "code",
   "execution_count": null,
   "metadata": {},
   "outputs": [],
   "source": [
    "daily"
   ]
  },
  {
   "cell_type": "code",
   "execution_count": null,
   "metadata": {},
   "outputs": [],
   "source": [
    "var hourly = Duration.of(1, ChronoUnit.HOURS);"
   ]
  },
  {
   "cell_type": "code",
   "execution_count": null,
   "metadata": {},
   "outputs": [],
   "source": [
    "hourly"
   ]
  },
  {
   "cell_type": "code",
   "execution_count": null,
   "metadata": {},
   "outputs": [],
   "source": [
    "var everyMinute = Duration.of(1, ChronoUnit.MINUTES);"
   ]
  },
  {
   "cell_type": "code",
   "execution_count": null,
   "metadata": {},
   "outputs": [],
   "source": [
    "everyMinute"
   ]
  },
  {
   "cell_type": "code",
   "execution_count": null,
   "metadata": {},
   "outputs": [],
   "source": [
    "var one = LocalTime.of(5, 15);\n",
    "var two = LocalTime.of(6, 55);\n",
    "var date = LocalDate.of(2025, 1, 20);"
   ]
  },
  {
   "cell_type": "code",
   "execution_count": null,
   "metadata": {},
   "outputs": [],
   "source": [
    "System.out.println(ChronoUnit.HOURS.between(one, two));     // 1"
   ]
  },
  {
   "cell_type": "code",
   "execution_count": null,
   "metadata": {},
   "outputs": [],
   "source": [
    "System.out.println(ChronoUnit.MINUTES.between(one, two));   // 100"
   ]
  },
  {
   "cell_type": "code",
   "execution_count": null,
   "metadata": {},
   "outputs": [],
   "source": [
    "LocalTime time = LocalTime.of(3,12,45);\n",
    "System.out.println(time);      // 03:12:45\n",
    "LocalTime truncated = time.truncatedTo(ChronoUnit.MINUTES);\n",
    "System.out.println(truncated); // 03:12"
   ]
  },
  {
   "cell_type": "code",
   "execution_count": null,
   "metadata": {},
   "outputs": [],
   "source": [
    "var date = LocalDate.of(2025, 1, 20);\n",
    "var time = LocalTime.of(6, 15);\n",
    "var dateTime = LocalDateTime.of(date, time);\n",
    "var duration = Duration.ofHours(6);"
   ]
  },
  {
   "cell_type": "code",
   "execution_count": null,
   "metadata": {},
   "outputs": [],
   "source": [
    "System.out.println(dateTime.plus(duration)); // 2025–01–20T12:15"
   ]
  },
  {
   "cell_type": "code",
   "execution_count": null,
   "metadata": {},
   "outputs": [],
   "source": [
    "System.out.println(time.plus(duration)); // 12:15"
   ]
  },
  {
   "cell_type": "code",
   "execution_count": null,
   "metadata": {},
   "outputs": [],
   "source": [
    "var now = Instant.now();"
   ]
  },
  {
   "cell_type": "code",
   "execution_count": null,
   "metadata": {},
   "outputs": [],
   "source": [
    "var later = Instant.now();"
   ]
  },
  {
   "cell_type": "code",
   "execution_count": null,
   "metadata": {},
   "outputs": [],
   "source": [
    "var duration = Duration.between(now, later);\n",
    "System.out.println(duration.toMillis());  // Returns number milliseconds"
   ]
  },
  {
   "cell_type": "code",
   "execution_count": null,
   "metadata": {},
   "outputs": [],
   "source": [
    "var date = LocalDate.of(2025, 5, 25);\n",
    "var time = LocalTime.of(11, 55, 00);\n",
    "var zone = ZoneId.of(\"US/Eastern\");\n",
    "var zonedDateTime = ZonedDateTime.of(date, time, zone);"
   ]
  },
  {
   "cell_type": "code",
   "execution_count": null,
   "metadata": {},
   "outputs": [],
   "source": [
    "var instant = zonedDateTime.toInstant(); // 2025–05–25T15:55:00Z\n",
    "System.out.println(zonedDateTime); // 2025–05–25T11:55–04:00[US/Eastern]\n",
    "System.out.println(instant);       // 2025–05–25T15:55:00Z"
   ]
  },
  {
   "cell_type": "markdown",
   "metadata": {},
   "source": [
    "* Daylight Savings"
   ]
  },
  {
   "cell_type": "code",
   "execution_count": null,
   "metadata": {},
   "outputs": [],
   "source": [
    "var date = LocalDate.of(2025, Month.MARCH, 9);\n",
    "var time = LocalTime.of(1, 30);\n",
    "var zone = ZoneId.of(\"US/Eastern\");\n",
    "var dateTime = ZonedDateTime.of(date, time,zone);\n",
    " \n",
    "System.out.println(dateTime);  // 2025–03-09T01:30-05:00[US/Eastern]\n",
    "System.out.println(dateTime.getHour());   // 1\n",
    "System.out.println(dateTime.getOffset()); // -05:00"
   ]
  },
  {
   "cell_type": "code",
   "execution_count": null,
   "metadata": {},
   "outputs": [],
   "source": [
    "dateTime = dateTime.plusHours(1);\n",
    "System.out.println(dateTime);  // 2025–03-09T03:30-04:00[US/Eastern]\n",
    "System.out.println(dateTime.getHour());   // 3\n",
    "System.out.println(dateTime.getOffset()); // -04:00"
   ]
  },
  {
   "cell_type": "code",
   "execution_count": null,
   "metadata": {},
   "outputs": [],
   "source": [
    "var date = LocalDate.of(2025, Month.NOVEMBER, 2);\n",
    "var time = LocalTime.of(1, 30);\n",
    "var zone = ZoneId.of(\"US/Eastern\");\n",
    "var dateTime = ZonedDateTime.of(date, time, zone);\n",
    "System.out.println(dateTime); // 2025-11-02T01:30-04:00[US/Eastern]\n",
    " \n",
    "dateTime = dateTime.plusHours(1);\n",
    "System.out.println(dateTime); // 2025-11-02T01:30-05:00[US/Eastern]\n",
    " \n",
    "dateTime = dateTime.plusHours(1);\n",
    "System.out.println(dateTime); // 2025-11-02T02:30-05:00[US/Eastern]"
   ]
  },
  {
   "cell_type": "code",
   "execution_count": null,
   "metadata": {},
   "outputs": [],
   "source": []
  },
  {
   "cell_type": "markdown",
   "metadata": {},
   "source": [
    "# record"
   ]
  },
  {
   "cell_type": "code",
   "execution_count": 7,
   "metadata": {},
   "outputs": [],
   "source": [
    "// Define a record\n",
    "public record Person(String firstName, String lastName, int age) {\n",
    "\n",
    "}"
   ]
  },
  {
   "cell_type": "code",
   "execution_count": 8,
   "metadata": {},
   "outputs": [],
   "source": [
    " Person person = new Person(\"John\", \"Doe\", 30);"
   ]
  },
  {
   "cell_type": "code",
   "execution_count": 9,
   "metadata": {},
   "outputs": [
    {
     "data": {
      "text/plain": [
       "John"
      ]
     },
     "execution_count": 9,
     "metadata": {},
     "output_type": "execute_result"
    }
   ],
   "source": [
    " person.firstName()"
   ]
  },
  {
   "cell_type": "code",
   "execution_count": 10,
   "metadata": {},
   "outputs": [
    {
     "data": {
      "text/plain": [
       "30"
      ]
     },
     "execution_count": 10,
     "metadata": {},
     "output_type": "execute_result"
    }
   ],
   "source": [
    "person.age()"
   ]
  },
  {
   "cell_type": "code",
   "execution_count": 12,
   "metadata": {},
   "outputs": [
    {
     "data": {
      "text/plain": [
       "Person[firstName=John, lastName=Doe, age=30]"
      ]
     },
     "execution_count": 12,
     "metadata": {},
     "output_type": "execute_result"
    }
   ],
   "source": [
    "person"
   ]
  },
  {
   "cell_type": "code",
   "execution_count": 19,
   "metadata": {},
   "outputs": [],
   "source": [
    "record Crane(int numberEggs, String name) {\n",
    "\t\n",
    "\t// A compact constructor. This doesn't change the instance variables.  After this the default constructor will be called\n",
    "\tpublic Crane {\n",
    "\t\tif (name == null || name.length() < 1)\n",
    "\t\t\tthrow new IllegalArgumentException();\n",
    "\t\tname = name.substring(0, 1).toUpperCase() + name.substring(1).toLowerCase();\n",
    "\t}\n",
    "    \n",
    "    public Crane(int numberEggs, String firstName, String lastName) {\n",
    "\t      this(numberEggs + 1, firstName + \" \" + lastName);\n",
    "\t      numberEggs = 10; // NO EFFECT (applies to parameter, not instance field)\n",
    "//\t      this.numberEggs = 20; // DOES NOT COMPILE\n",
    "\t}\n",
    "    \n",
    "    // records can have static variables similar to interfaces\n",
    "    private static int counter=0;\n",
    "\n",
    "}"
   ]
  },
  {
   "cell_type": "code",
   "execution_count": 25,
   "metadata": {},
   "outputs": [],
   "source": [
    "Crane crane = new Crane(10, \"name1\");"
   ]
  },
  {
   "cell_type": "code",
   "execution_count": 26,
   "metadata": {},
   "outputs": [
    {
     "data": {
      "text/plain": [
       "Crane[numberEggs=10, name=Name1]"
      ]
     },
     "execution_count": 26,
     "metadata": {},
     "output_type": "execute_result"
    }
   ],
   "source": [
    "crane"
   ]
  },
  {
   "cell_type": "code",
   "execution_count": 27,
   "metadata": {},
   "outputs": [],
   "source": [
    "Crane crane1 = new Crane(10, \"name1\" , \"last\");"
   ]
  },
  {
   "cell_type": "code",
   "execution_count": 28,
   "metadata": {},
   "outputs": [
    {
     "data": {
      "text/plain": [
       "Crane[numberEggs=11, name=Name1 last]"
      ]
     },
     "execution_count": 28,
     "metadata": {},
     "output_type": "execute_result"
    }
   ],
   "source": [
    "crane1"
   ]
  },
  {
   "cell_type": "code",
   "execution_count": 30,
   "metadata": {},
   "outputs": [
    {
     "name": "stdout",
     "output_type": "stream",
     "text": [
      "Name: Name1\r\n"
     ]
    }
   ],
   "source": [
    "// Pattern matching with instanceof\n",
    "\t\tif (crane instanceof Crane(int numberEggs, String name1)) {\n",
    "\t\t\tSystem.out.println(\"Name: \" + name1);\n",
    "\n",
    "\t\t}else{\n",
    "        \n",
    "        System.out.println(\"Not an instance\" );\n",
    "        }"
   ]
  },
  {
   "cell_type": "code",
   "execution_count": 1,
   "metadata": {},
   "outputs": [],
   "source": [
    "record Bear(String name, List<String> favoriteThings) {\n",
    "}\n",
    "\n",
    "record Couple(Bear a, Bear b) {\n",
    "}"
   ]
  },
  {
   "cell_type": "code",
   "execution_count": 2,
   "metadata": {},
   "outputs": [],
   "source": [
    "var c = new Couple(new Bear(\"Yogi\", List.of(\"PicnicBaskets\")), new Bear(\"Fozzie\", List.of(\"BadJokes\")));"
   ]
  },
  {
   "cell_type": "code",
   "execution_count": 3,
   "metadata": {},
   "outputs": [
    {
     "name": "stdout",
     "output_type": "stream",
     "text": [
      "Yogi Fozzie"
     ]
    }
   ],
   "source": [
    "if (c instanceof Couple(Bear a, Bear b)) {\n",
    "\t\t\tSystem.out.print(a.name() + \" \" + b.name());\n",
    "\t\t}"
   ]
  },
  {
   "cell_type": "code",
   "execution_count": 4,
   "metadata": {},
   "outputs": [
    {
     "name": "stdout",
     "output_type": "stream",
     "text": [
      "Yogi Fozzie"
     ]
    }
   ],
   "source": [
    "if (c instanceof Couple(Bear(String firstName, List<String> f), Bear b)) {\n",
    "\t\t\tSystem.out.print(firstName + \" \" + b.name());\n",
    "\t\t}"
   ]
  },
  {
   "cell_type": "code",
   "execution_count": 5,
   "metadata": {},
   "outputs": [
    {
     "name": "stdout",
     "output_type": "stream",
     "text": [
      "Yogi Yogi"
     ]
    }
   ],
   "source": [
    "if (c instanceof Couple(Bear(String name, List<String> f1), Bear(String name1, List<String> f2))) {\n",
    "\t\t\tSystem.out.print(name + \" \" + name);\n",
    "\t\t}"
   ]
  },
  {
   "cell_type": "code",
   "execution_count": 6,
   "metadata": {},
   "outputs": [
    {
     "name": "stdout",
     "output_type": "stream",
     "text": [
      "Yogi Fozzie"
     ]
    }
   ],
   "source": [
    "if (c instanceof Couple(var a, var b)) {\n",
    "\t\t\tSystem.out.print(a.name() + \" \" + b.name());\n",
    "\t\t}"
   ]
  },
  {
   "cell_type": "code",
   "execution_count": 7,
   "metadata": {},
   "outputs": [
    {
     "name": "stdout",
     "output_type": "stream",
     "text": [
      "Yogi Fozzie"
     ]
    }
   ],
   "source": [
    "if (c instanceof Couple(Bear(var firstName, List<String> f), var b)) {\n",
    "\t\t\tSystem.out.print(firstName + \" \" + b.name());\n",
    "\t\t}"
   ]
  },
  {
   "cell_type": "code",
   "execution_count": 10,
   "metadata": {},
   "outputs": [
    {
     "name": "stdout",
     "output_type": "stream",
     "text": [
      "Fozzie\r\n"
     ]
    }
   ],
   "source": [
    "if (c instanceof Couple(Bear(var n, Object f), var b)) {\n",
    "    System.out.println(b.name());\n",
    "\t\t}"
   ]
  },
  {
   "cell_type": "code",
   "execution_count": 9,
   "metadata": {},
   "outputs": [
    {
     "name": "stdout",
     "output_type": "stream",
     "text": [
      "Fozzie\r\n"
     ]
    }
   ],
   "source": [
    "if (c instanceof Couple(Bear(var n, List f), var b)) {\n",
    "\t\t\tSystem.out.println(b.name());\n",
    "\t\t}"
   ]
  },
  {
   "cell_type": "code",
   "execution_count": 11,
   "metadata": {},
   "outputs": [
    {
     "name": "stdout",
     "output_type": "stream",
     "text": [
      "Fozzie\r\n"
     ]
    }
   ],
   "source": [
    "if (c instanceof Couple(Bear(var n, List<?> f), var b)) {\n",
    "\t\t\tSystem.out.println(b.name());\n",
    "\t\t}"
   ]
  },
  {
   "cell_type": "code",
   "execution_count": 12,
   "metadata": {},
   "outputs": [
    {
     "name": "stdout",
     "output_type": "stream",
     "text": [
      "Fozzie\r\n"
     ]
    }
   ],
   "source": [
    "if (c instanceof Couple(Bear(var n, List<? extends Object> f), var b)) {\n",
    "\t\t\tSystem.out.println(b.name());\n",
    "\t\t}"
   ]
  },
  {
   "cell_type": "code",
   "execution_count": 13,
   "metadata": {},
   "outputs": [
    {
     "name": "stdout",
     "output_type": "stream",
     "text": [
      "Yummy"
     ]
    }
   ],
   "source": [
    "if (c instanceof Couple(Bear(var n, List<String> f), var b) && f.getFirst().toLowerCase().contains(\"p\")) {\n",
    "\n",
    "\t\t\tSystem.out.print(\"Yummy\");\n",
    "\t\t}"
   ]
  },
  {
   "cell_type": "code",
   "execution_count": 14,
   "metadata": {},
   "outputs": [],
   "source": [
    "record Snake(Object data) {\n",
    "}"
   ]
  },
  {
   "cell_type": "code",
   "execution_count": 15,
   "metadata": {},
   "outputs": [],
   "source": [
    "long showData(Snake snake) {\n",
    "\t\treturn switch (snake) {\n",
    "\t\tcase Snake(Long hiss) -> hiss + 1;\n",
    "\t\tcase Snake(Integer nagina) -> nagina + 10;\n",
    "\t\tcase Snake(Number crowley) ->\n",
    "\n",
    "\t\t\tcrowley.intValue() + 100;\n",
    "\t\tcase Snake(Object kaa) -> -1;\n",
    "\t\t};\n",
    "\t}"
   ]
  },
  {
   "cell_type": "code",
   "execution_count": 16,
   "metadata": {},
   "outputs": [
    {
     "data": {
      "text/plain": [
       "11"
      ]
     },
     "execution_count": 16,
     "metadata": {},
     "output_type": "execute_result"
    }
   ],
   "source": [
    "showData(new Snake(1))"
   ]
  },
  {
   "cell_type": "code",
   "execution_count": 17,
   "metadata": {},
   "outputs": [
    {
     "data": {
      "text/plain": [
       "3"
      ]
     },
     "execution_count": 17,
     "metadata": {},
     "output_type": "execute_result"
    }
   ],
   "source": [
    "showData(new Snake(2L))"
   ]
  },
  {
   "cell_type": "code",
   "execution_count": 18,
   "metadata": {},
   "outputs": [
    {
     "data": {
      "text/plain": [
       "103"
      ]
     },
     "execution_count": 18,
     "metadata": {},
     "output_type": "execute_result"
    }
   ],
   "source": [
    "showData(new Snake(3.0))"
   ]
  },
  {
   "cell_type": "code",
   "execution_count": 19,
   "metadata": {},
   "outputs": [
    {
     "data": {
      "text/plain": [
       "-1"
      ]
     },
     "execution_count": 19,
     "metadata": {},
     "output_type": "execute_result"
    }
   ],
   "source": [
    "showData(new Snake(\"Test\"))"
   ]
  },
  {
   "cell_type": "code",
   "execution_count": 27,
   "metadata": {},
   "outputs": [],
   "source": [
    "record Crane(int numberEggs, String name) {\n",
    "\t@Override\n",
    "\tpublic int numberEggs() {\n",
    "\t\treturn 10;\n",
    "\t}\n",
    "\n",
    "\t@Override\n",
    "\tpublic String toString() {\n",
    "\t\treturn name;\n",
    "\t}\n",
    "\n",
    "    // Static variables and initializers are permitted in record\n",
    "    //  Instance variables and initializers are NOT permitted in record\n",
    "\tstatic int TYPE = 10;\n",
    "\n",
    "\tstatic {\n",
    "\t\tSystem.out.println(\"Hello Bird!\");\n",
    "\t}\n",
    "\n",
    "}"
   ]
  },
  {
   "cell_type": "code",
   "execution_count": 28,
   "metadata": {},
   "outputs": [
    {
     "name": "stdout",
     "output_type": "stream",
     "text": [
      "Hello Bird!\r\n"
     ]
    }
   ],
   "source": [
    "Crane crane = new Crane(30,\"Test Crane\");"
   ]
  },
  {
   "cell_type": "code",
   "execution_count": 29,
   "metadata": {},
   "outputs": [
    {
     "data": {
      "text/plain": [
       "Test Crane"
      ]
     },
     "execution_count": 29,
     "metadata": {},
     "output_type": "execute_result"
    }
   ],
   "source": [
    "crane"
   ]
  },
  {
   "cell_type": "code",
   "execution_count": 30,
   "metadata": {},
   "outputs": [
    {
     "data": {
      "text/plain": [
       "10"
      ]
     },
     "execution_count": 30,
     "metadata": {},
     "output_type": "execute_result"
    }
   ],
   "source": [
    "crane.numberEggs()"
   ]
  },
  {
   "cell_type": "code",
   "execution_count": 31,
   "metadata": {},
   "outputs": [
    {
     "data": {
      "text/plain": [
       "10"
      ]
     },
     "execution_count": 31,
     "metadata": {},
     "output_type": "execute_result"
    }
   ],
   "source": [
    "crane.TYPE"
   ]
  },
  {
   "cell_type": "code",
   "execution_count": null,
   "metadata": {},
   "outputs": [],
   "source": []
  },
  {
   "cell_type": "markdown",
   "metadata": {},
   "source": [
    "# SafeVarargs"
   ]
  },
  {
   "cell_type": "code",
   "execution_count": null,
   "metadata": {},
   "outputs": [],
   "source": [
    "// commenting below annotation will give a warning\n",
    "\t@SafeVarargs\n",
    "\tprivate final void print(List<String>... topics) {\n",
    "\t\tObject[] objArray = topics;\n",
    "\t\t// below line will cause runtime exception\n",
    "\t\t// objArray[0] = List.of(1, 2);\n",
    "\t\tobjArray[0] = List.of(\"1\", \"2\");\n",
    "\n",
    "\t\tfor (List<String> topic : topics) {\n",
    "\t\t\tfor (String str : topic) {\n",
    "\t\t\t\tSystem.out.print(str + \"\t\");\n",
    "\t\t\t}\n",
    "\t\t\tSystem.out.println();\n",
    "\t\t}\n",
    "\t}"
   ]
  },
  {
   "cell_type": "code",
   "execution_count": null,
   "metadata": {},
   "outputs": [],
   "source": [
    "List<String> list = new ArrayList<>();\n",
    "\t\tlist.add(\"OOPS\");\n",
    "\t\tlist.add(\"COLLECTION\");\n",
    "\t\tList<String> list1 = new ArrayList<>();\n",
    "\t\tlist1.add(\"str1\");\n",
    "\t\tlist1.add(\"str2\");"
   ]
  },
  {
   "cell_type": "code",
   "execution_count": null,
   "metadata": {},
   "outputs": [],
   "source": [
    "print(list, list1);"
   ]
  },
  {
   "cell_type": "markdown",
   "metadata": {},
   "source": [
    "# Threads"
   ]
  },
  {
   "cell_type": "code",
   "execution_count": null,
   "metadata": {},
   "outputs": [],
   "source": [
    "int sum = 0;"
   ]
  },
  {
   "cell_type": "code",
   "execution_count": null,
   "metadata": {},
   "outputs": [],
   "source": [
    "class Thread1 implements Runnable {\n",
    "\n",
    "    @Override\n",
    "    public void run() {\n",
    "        System.out.println(\"Inside run of Thread1\");\n",
    "    }\n",
    "\n",
    "}"
   ]
  },
  {
   "cell_type": "code",
   "execution_count": null,
   "metadata": {},
   "outputs": [],
   "source": [
    "Thread t = new Thread(new Thread1());"
   ]
  },
  {
   "cell_type": "code",
   "execution_count": null,
   "metadata": {},
   "outputs": [],
   "source": [
    "t.start()"
   ]
  },
  {
   "cell_type": "code",
   "execution_count": null,
   "metadata": {},
   "outputs": [],
   "source": [
    "Thread.currentThread().isDaemon()"
   ]
  },
  {
   "cell_type": "markdown",
   "metadata": {},
   "source": [
    "# ForkJoinPool and RecursiveTask"
   ]
  },
  {
   "cell_type": "code",
   "execution_count": null,
   "metadata": {},
   "outputs": [],
   "source": [
    "   static class SumTask extends RecursiveTask<Integer> {\n",
    "\t        private final int[] array;\n",
    "\t        private final int start;\n",
    "\t        private final int end;\n",
    "\t        private static final int THRESHOLD = 2;\n",
    "\n",
    "\t        SumTask(int[] array, int start, int end) {\n",
    "\t            this.array = array;\n",
    "\t            this.start = start;\n",
    "\t            this.end = end;\n",
    "\t        }\n",
    "\n",
    "\t        @Override\n",
    "\t        protected Integer compute() {\n",
    "\t            if (end - start <= THRESHOLD) {\n",
    "\t                int sum = 0;\n",
    "\t                for (int i = start; i < end; i++) {\n",
    "\t                    sum += array[i];\n",
    "\t                }\n",
    "\t                return sum;\n",
    "\t            } else {\n",
    "                    int mid = (start + end) / 2;\n",
    "\t                SumTask leftTask = new SumTask(array, start, mid);\n",
    "\t                SumTask rightTask = new SumTask(array, mid, end);\n",
    "                    System.out.println(\"start: \" +start+\" End: \"+end+\" Mid: \"+mid);\n",
    "\t                leftTask.fork();\n",
    "\t                int rightResult = rightTask.compute();\n",
    "\t                int leftResult = leftTask.join();\n",
    "\t                return leftResult + rightResult;\n",
    "\t            }\n",
    "\t        }\n",
    "\t    }"
   ]
  },
  {
   "cell_type": "code",
   "execution_count": null,
   "metadata": {},
   "outputs": [],
   "source": [
    " ForkJoinPool forkJoinPool = new ForkJoinPool();"
   ]
  },
  {
   "cell_type": "code",
   "execution_count": null,
   "metadata": {},
   "outputs": [],
   "source": [
    "int[] array = {1, 2, 3, 4, 5, 6, 7, 8, 9, 10};"
   ]
  },
  {
   "cell_type": "code",
   "execution_count": null,
   "metadata": {},
   "outputs": [],
   "source": [
    "SumTask task = new SumTask(array, 0, array.length);"
   ]
  },
  {
   "cell_type": "code",
   "execution_count": null,
   "metadata": {},
   "outputs": [],
   "source": [
    "Integer result = forkJoinPool.invoke(task);"
   ]
  },
  {
   "cell_type": "code",
   "execution_count": null,
   "metadata": {},
   "outputs": [],
   "source": [
    "System.out.println(\"Sum: \" + result);"
   ]
  },
  {
   "cell_type": "markdown",
   "metadata": {},
   "source": [
    "## ReentrantReadWriteLock"
   ]
  },
  {
   "cell_type": "code",
   "execution_count": null,
   "metadata": {},
   "outputs": [],
   "source": [
    "import java.util.concurrent.locks.ReentrantReadWriteLock;"
   ]
  },
  {
   "cell_type": "code",
   "execution_count": null,
   "metadata": {},
   "outputs": [],
   "source": [
    "List<Integer> integers = new ArrayList<>();\n",
    "ReentrantReadWriteLock rwl = new ReentrantReadWriteLock()"
   ]
  },
  {
   "cell_type": "code",
   "execution_count": null,
   "metadata": {},
   "outputs": [],
   "source": [
    "public void addUsingReentrantReadWriteLock(Integer i) {\n",
    "\t\trwl.writeLock().lock(); // one at a time\n",
    "\t\ttry {\n",
    "\t\t\tintegers.add(i);\n",
    "\t\t} finally {\n",
    "\t\t\trwl.writeLock().unlock();\n",
    "\t\t}\n",
    "\t}"
   ]
  },
  {
   "cell_type": "code",
   "execution_count": null,
   "metadata": {},
   "outputs": [],
   "source": [
    "public int findMaxUsingReentrantReadWriteLock() {\n",
    "\t\trwl.readLock().lock();\n",
    "\t\t// many at once\n",
    "\t\ttry {\n",
    "\t\t\treturn Collections.max(integers);\n",
    "\t\t} finally {\n",
    "\t\t\trwl.readLock().unlock();\n",
    "\t\t}\n",
    "\t}"
   ]
  },
  {
   "cell_type": "code",
   "execution_count": null,
   "metadata": {},
   "outputs": [],
   "source": [
    "// Only one thread takes writelock\n",
    "addUsingReentrantReadWriteLock(10)"
   ]
  },
  {
   "cell_type": "code",
   "execution_count": null,
   "metadata": {},
   "outputs": [],
   "source": [
    "// Many thread can take read lock if no thread holds write lock. If write is locked, no threads can take read lock\n",
    "findMaxUsingReentrantReadWriteLock()"
   ]
  },
  {
   "cell_type": "markdown",
   "metadata": {},
   "source": [
    "# ExecutorService"
   ]
  },
  {
   "cell_type": "code",
   "execution_count": null,
   "metadata": {},
   "outputs": [],
   "source": [
    "class MyCallable implements Callable<String> {\n",
    "\t@Override\n",
    "\tpublic String call() {\n",
    "        System.out.println(\"Inside call of MyCallable\");\n",
    "\treturn \"MyCallable::call()return value\";\n",
    "\t}\n",
    "}"
   ]
  },
  {
   "cell_type": "code",
   "execution_count": null,
   "metadata": {},
   "outputs": [],
   "source": [
    "Callable<String> c = new MyCallable();"
   ]
  },
  {
   "cell_type": "code",
   "execution_count": null,
   "metadata": {},
   "outputs": [],
   "source": [
    "ExecutorService ex = Executors.newCachedThreadPool();"
   ]
  },
  {
   "cell_type": "code",
   "execution_count": null,
   "metadata": {},
   "outputs": [],
   "source": [
    "Future<String> f = ex.submit(c); "
   ]
  },
  {
   "cell_type": "code",
   "execution_count": null,
   "metadata": {},
   "outputs": [],
   "source": [
    "String v = f.get();"
   ]
  },
  {
   "cell_type": "code",
   "execution_count": null,
   "metadata": {},
   "outputs": [],
   "source": [
    "System.out.println(\"Ran:\" + v);"
   ]
  },
  {
   "cell_type": "markdown",
   "metadata": {},
   "source": [
    "# HttpClient"
   ]
  },
  {
   "cell_type": "code",
   "execution_count": null,
   "metadata": {},
   "outputs": [],
   "source": [
    "import java.net.URI;\n",
    "import java.net.http.HttpClient;\n",
    "import java.net.http.HttpRequest;\n",
    "import java.net.http.HttpResponse;"
   ]
  },
  {
   "cell_type": "code",
   "execution_count": null,
   "metadata": {},
   "outputs": [],
   "source": [
    "HttpClient client = HttpClient.newHttpClient();"
   ]
  },
  {
   "cell_type": "code",
   "execution_count": null,
   "metadata": {},
   "outputs": [],
   "source": [
    "HttpRequest request = HttpRequest.newBuilder().uri(new URI(\"https://jsonplaceholder.typicode.com/posts/1\"))\n",
    "\t\t\t\t\t.GET().build();"
   ]
  },
  {
   "cell_type": "code",
   "execution_count": null,
   "metadata": {},
   "outputs": [],
   "source": [
    "HttpResponse<String> response = client.send(request, HttpResponse.BodyHandlers.ofString());"
   ]
  },
  {
   "cell_type": "code",
   "execution_count": null,
   "metadata": {},
   "outputs": [],
   "source": [
    "response.statusCode()"
   ]
  },
  {
   "cell_type": "code",
   "execution_count": null,
   "metadata": {},
   "outputs": [],
   "source": [
    "response.body()"
   ]
  },
  {
   "cell_type": "markdown",
   "metadata": {},
   "source": [
    "# Garbage Collection"
   ]
  },
  {
   "cell_type": "code",
   "execution_count": null,
   "metadata": {},
   "outputs": [],
   "source": [
    "public class GCDemo {\n",
    "\n",
    "\tint objId;\n",
    "\n",
    "\tGCDemo(int objId) {\n",
    "\t\tthis.objId = objId;\n",
    "\t\tSystem.out.println(\"Created \" + this.objId);\n",
    "\t}\n",
    "\n",
    "\t@Override\n",
    "\tprotected void finalize() {\n",
    "\t\tSystem.out.println(\"Finalized \" + objId);\n",
    "\t}\n",
    "}\n"
   ]
  },
  {
   "cell_type": "code",
   "execution_count": null,
   "metadata": {},
   "outputs": [],
   "source": [
    "new GCDemo(1);\n",
    "\t\tnew GCDemo(2);"
   ]
  },
  {
   "cell_type": "code",
   "execution_count": null,
   "metadata": {},
   "outputs": [],
   "source": [
    "for (int i = 1; i <= 100; i++) {\n",
    "\t\t\tSystem.gc();\n",
    "\t\t}"
   ]
  },
  {
   "cell_type": "markdown",
   "metadata": {},
   "source": [
    "# Inner Classes"
   ]
  },
  {
   "cell_type": "code",
   "execution_count": null,
   "metadata": {},
   "outputs": [],
   "source": [
    "// Anonymous Inner class\n",
    "Thread t = new Thread(new Runnable() {\n",
    "\n",
    "\t\t\t@Override\n",
    "\t\t\tpublic void run() {\n",
    "\t\t\t\tSystem.out.println(\"Anonymous Runnable Demo Implementation\");\n",
    "\n",
    "\t\t\t}\n",
    "\n",
    "\t\t});"
   ]
  },
  {
   "cell_type": "code",
   "execution_count": null,
   "metadata": {},
   "outputs": [],
   "source": [
    "\t\tt.start();"
   ]
  },
  {
   "cell_type": "code",
   "execution_count": null,
   "metadata": {},
   "outputs": [],
   "source": [
    "// Static inner class\n",
    "public class Outer {\n",
    "\n",
    "    private static int x = 50;\n",
    "\tprivate int y;\n",
    "\n",
    "\tOuter(int y) {\n",
    "\t\tthis.y = y;\n",
    "\t}\n",
    "\n",
    "    // Static inner class\n",
    "\tstatic class StaticInner {\n",
    "\n",
    "\t\tstatic void f2() {\n",
    "\t\t\tSystem.out.println(\"Inners Static Method\");\n",
    "\t\t}\n",
    "\n",
    "\t\tvoid f3() {\n",
    "\t\t\tSystem.out.println(\"Non Static Method Inside the Inner class\");\n",
    "            \n",
    "            // method local inner class\n",
    "            class MethodLocalInnerClass {\n",
    "                private void methodLocalInnerMethod1() {\n",
    "\t\t\t\tSystem.out.println(\"inside methodLocalInnerMethod1: #######\");\t\t\t\t\n",
    "\t\t\t}\n",
    "\t\t}\n",
    "        \n",
    "        // involing method local inner class    \n",
    "        MethodLocalInnerClass methodLocalInnerClass = new MethodLocalInnerClass();\n",
    "\t\tmethodLocalInnerClass.methodLocalInnerMethod1();\n",
    "            \n",
    "\t\t}\n",
    "\n",
    "\t}\n",
    "    \n",
    "    // non static inner class\n",
    "    class Inner {\n",
    "\t\tpublic int y;\n",
    "\n",
    "\t\tInner(int y) {\n",
    "\t\t\tthis.y = y;\n",
    "\t\t}\n",
    "\n",
    "\t\tpublic void f2() {\n",
    "\n",
    "\t\t\tSystem.out.println(\"Outer Classes X \" + Outer.x);\n",
    "\t\t\tSystem.out.println(\"Outer Classes Y \" + Outer.this.y);\n",
    "\t\t\tSystem.out.println(\"Inner Classes Y \" + this.y);\n",
    "\t\t}\n",
    "\t}\n",
    "    \n",
    " }"
   ]
  },
  {
   "cell_type": "code",
   "execution_count": null,
   "metadata": {},
   "outputs": [],
   "source": [
    "// Invoke static inner classs-static method\n",
    "Outer.StaticInner.f2()"
   ]
  },
  {
   "cell_type": "code",
   "execution_count": null,
   "metadata": {},
   "outputs": [],
   "source": [
    "// Invoke static inner classs-non static method\n",
    "Outer.StaticInner inner = new Outer.StaticInner();\n",
    "inner.f3()"
   ]
  },
  {
   "cell_type": "code",
   "execution_count": null,
   "metadata": {},
   "outputs": [],
   "source": [
    "Outer outer = new Outer(80);"
   ]
  },
  {
   "cell_type": "code",
   "execution_count": null,
   "metadata": {},
   "outputs": [],
   "source": [
    "Outer.Inner inner = outer.new Inner(30);"
   ]
  },
  {
   "cell_type": "code",
   "execution_count": null,
   "metadata": {},
   "outputs": [],
   "source": [
    "inner.f2();"
   ]
  },
  {
   "cell_type": "code",
   "execution_count": 32,
   "metadata": {},
   "outputs": [
    {
     "ename": "CompilationException",
     "evalue": "",
     "output_type": "error",
     "traceback": [
      "\u001b[1m\u001b[30m|   \u001b[1m\u001b[30mSystem.out.println(\u001b[0m\u001b[1m\u001b[30m\u001b[41minner\u001b[0m\u001b[1m\u001b[30m.y);\u001b[0m",
      "\u001b[1m\u001b[31mcannot find symbol\u001b[0m",
      "\u001b[1m\u001b[31m  symbol:   variable inner\u001b[0m",
      ""
     ]
    }
   ],
   "source": [
    "System.out.println(inner.y);"
   ]
  },
  {
   "cell_type": "code",
   "execution_count": 35,
   "metadata": {},
   "outputs": [],
   "source": [
    "public class DemoInnerClass {\n",
    "\tprivate String greeting = \"Hi\"; // Outer class instance variable\n",
    "\n",
    "\tprotected class Room { // Inner class declaration\n",
    "\t\tpublic int repeat = 3;\n",
    "\n",
    "\t\tpublic void enter() {\n",
    "\t\t\tfor (int i = 0; i < repeat; i++)\n",
    "\t\t\t\tgreet(greeting);\n",
    "\t\t}\n",
    "\n",
    "\t\tprivate static void greet(String message) {\n",
    "\t\t\tSystem.out.println(message);\n",
    "\t\t}\n",
    "\n",
    "\t}\n",
    "\n",
    "\tpublic void enterRoom() { // Instance method in outer class\n",
    "\t\tvar room = new Room(); // Create the inner class instance\n",
    "\t\troom.enter();\n",
    "\t}\n",
    "}"
   ]
  },
  {
   "cell_type": "code",
   "execution_count": 37,
   "metadata": {},
   "outputs": [
    {
     "name": "stdout",
     "output_type": "stream",
     "text": [
      "Hi\n",
      "Hi\n",
      "Hi\n"
     ]
    }
   ],
   "source": [
    "var home = new DemoInnerClass(); // Create the outer class instance\n",
    "home.enterRoom();"
   ]
  },
  {
   "cell_type": "code",
   "execution_count": 45,
   "metadata": {},
   "outputs": [],
   "source": [
    "public class StaticInnerClassDemo {\n",
    "\tstatic class Ride{\n",
    "\t\tint price=10;\n",
    "\t}\n",
    "}"
   ]
  },
  {
   "cell_type": "code",
   "execution_count": 46,
   "metadata": {},
   "outputs": [
    {
     "name": "stdout",
     "output_type": "stream",
     "text": [
      "10\r\n"
     ]
    }
   ],
   "source": [
    "var ride = new StaticInnerClassDemo.Ride();\n",
    "System.out.println(ride.price);"
   ]
  },
  {
   "cell_type": "markdown",
   "metadata": {},
   "source": [
    "# Serialization"
   ]
  },
  {
   "cell_type": "code",
   "execution_count": null,
   "metadata": {},
   "outputs": [],
   "source": [
    "import java.io.Serializable;\n",
    "\n",
    "public class Employee implements Serializable {\n",
    "\n",
    "\tprivate static final long serialVersionUID = 2L;\n",
    "    String name;\n",
    "\ttransient int ssn;\n",
    "\n",
    "\tEmployee(String name, int ssn) {\n",
    "\t\tthis.name = name;\n",
    "\t\tthis.ssn = ssn;\n",
    "\t}\n",
    "\n",
    "}"
   ]
  },
  {
   "cell_type": "code",
   "execution_count": null,
   "metadata": {},
   "outputs": [],
   "source": [
    "FileOutputStream fos;\n",
    "\t\tObjectOutputStream oos;\n",
    "\n",
    "\t\ttry {\n",
    "\t\t\tfos = new FileOutputStream(\"io/Emp.ser\");\n",
    "\t\t\toos = new ObjectOutputStream(fos);\n",
    "\n",
    "\t\t\tEmployee emp = new Employee(\"John\", 12345);\n",
    "\t\t\toos.writeObject(emp);\n",
    "\t\t\tSystem.out.println(\"Employee Object Serialized\");\n",
    "\n",
    "\t\t} catch (FileNotFoundException e) {\n",
    "\t\t\te.printStackTrace();\n",
    "\t\t} catch (IOException e) {\n",
    "\t\t\te.printStackTrace();\n",
    "\t\t}"
   ]
  },
  {
   "cell_type": "code",
   "execution_count": null,
   "metadata": {},
   "outputs": [],
   "source": [
    "// Deserialization\n",
    "FileInputStream fis = new FileInputStream(\"io/Emp.ser\");\n",
    "ObjectInputStream ois = new ObjectInputStream(fis);\n",
    "\n",
    "Object obj = ois.readObject();\n",
    "Employee emp = (Employee) obj;"
   ]
  },
  {
   "cell_type": "code",
   "execution_count": null,
   "metadata": {},
   "outputs": [],
   "source": [
    "emp.name"
   ]
  },
  {
   "cell_type": "code",
   "execution_count": 47,
   "metadata": {},
   "outputs": [
    {
     "ename": "CompilationException",
     "evalue": "",
     "output_type": "error",
     "traceback": [
      "\u001b[1m\u001b[30m|   \u001b[1m\u001b[30m\u001b[0m\u001b[1m\u001b[30m\u001b[41memp\u001b[0m\u001b[1m\u001b[30m.ssn\u001b[0m",
      "\u001b[1m\u001b[31mcannot find symbol\u001b[0m",
      "\u001b[1m\u001b[31m  symbol:   variable emp\u001b[0m",
      ""
     ]
    }
   ],
   "source": [
    "emp.ssn"
   ]
  },
  {
   "cell_type": "code",
   "execution_count": null,
   "metadata": {},
   "outputs": [],
   "source": []
  },
  {
   "cell_type": "markdown",
   "metadata": {},
   "source": [
    "# Reflection"
   ]
  },
  {
   "cell_type": "code",
   "execution_count": null,
   "metadata": {},
   "outputs": [],
   "source": [
    "import java.lang.reflect.Constructor;\n",
    "import java.lang.reflect.Field;\n",
    "import java.lang.annotation.Annotation;"
   ]
  },
  {
   "cell_type": "code",
   "execution_count": null,
   "metadata": {},
   "outputs": [],
   "source": [
    "@MyAnnotation2(param1 = \"Hello\", param2 = \"World\")\n",
    "public class ReflectionDemo {\n",
    "\n",
    "\tint objId;\n",
    "    int field1;\n",
    "    private int privateField1=25;\n",
    "\n",
    "\tpublic ReflectionDemo() {\n",
    "\t\tthis.objId = 10;\n",
    "\t\tSystem.out.println(\"Created \" + this.objId);\n",
    "\t}\n",
    "    \n",
    "    public ReflectionDemo(int objId) {\n",
    "\t\tthis.objId = objId;\n",
    "\t\tSystem.out.println(\"Created \" + this.objId);\n",
    "\t}\n",
    "\n",
    "\t@Override\n",
    "\tprotected void finalize() {\n",
    "\t\tSystem.out.println(\"Finalized \" + objId);\n",
    "\t}\n",
    "    \n",
    "     public void testMethod() {\n",
    "\t\tSystem.out.println(\"inside testMethod\");\n",
    "\t}\n",
    "    \n",
    "    public void testMethod2(int i) {\n",
    "\t\tSystem.out.println(\"inside testMethod invoked with: \"+i);\n",
    "\t}\n",
    "     public void printField1() {\n",
    "\t\tSystem.out.println(\"field 1 is : \"+field1);\n",
    "\t}\n",
    "}"
   ]
  },
  {
   "cell_type": "code",
   "execution_count": null,
   "metadata": {},
   "outputs": [],
   "source": [
    "Class<?> myClass = Class.forName(ReflectionDemo.class.getName());"
   ]
  },
  {
   "cell_type": "code",
   "execution_count": null,
   "metadata": {},
   "outputs": [],
   "source": [
    "myClass.getName()"
   ]
  },
  {
   "cell_type": "code",
   "execution_count": null,
   "metadata": {},
   "outputs": [],
   "source": [
    "Constructor<?>[] constructors = myClass.getConstructors();"
   ]
  },
  {
   "cell_type": "code",
   "execution_count": null,
   "metadata": {},
   "outputs": [],
   "source": [
    "Arrays.toString(constructors)"
   ]
  },
  {
   "cell_type": "code",
   "execution_count": null,
   "metadata": {},
   "outputs": [],
   "source": [
    "Arrays.toString(myClass.getMethods())"
   ]
  },
  {
   "cell_type": "code",
   "execution_count": null,
   "metadata": {},
   "outputs": [],
   "source": [
    "Constructor<?> constructor = myClass.getConstructor();"
   ]
  },
  {
   "cell_type": "code",
   "execution_count": null,
   "metadata": {},
   "outputs": [],
   "source": [
    "constructor.newInstance(null)"
   ]
  },
  {
   "cell_type": "code",
   "execution_count": null,
   "metadata": {},
   "outputs": [],
   "source": [
    "Constructor<?> constructor2 = myClass.getConstructor(int.class);"
   ]
  },
  {
   "cell_type": "code",
   "execution_count": null,
   "metadata": {},
   "outputs": [],
   "source": [
    "Object myObj = constructor2.newInstance(25);"
   ]
  },
  {
   "cell_type": "code",
   "execution_count": null,
   "metadata": {},
   "outputs": [],
   "source": [
    "Method[] methods = myClass.getMethods();\n",
    "for (Method method : methods) {\n",
    "    System.out.println(method);\n",
    "}"
   ]
  },
  {
   "cell_type": "code",
   "execution_count": null,
   "metadata": {},
   "outputs": [],
   "source": [
    "// Accessing private variable\n",
    "Field field1 = myClass.getDeclaredField(\"privateField1\");"
   ]
  },
  {
   "cell_type": "code",
   "execution_count": null,
   "metadata": {},
   "outputs": [],
   "source": [
    " // Set the field accessible\n",
    " // without this line, the private fild can't be accssessed\n",
    "field1.setAccessible(true);"
   ]
  },
  {
   "cell_type": "code",
   "execution_count": null,
   "metadata": {},
   "outputs": [],
   "source": [
    "int fieldValue = (int) field1.get(myObj);"
   ]
  },
  {
   "cell_type": "code",
   "execution_count": null,
   "metadata": {},
   "outputs": [],
   "source": [
    "fieldValue"
   ]
  },
  {
   "cell_type": "code",
   "execution_count": null,
   "metadata": {},
   "outputs": [],
   "source": [
    "Method method1 = myClass.getMethod(\"testMethod\");"
   ]
  },
  {
   "cell_type": "code",
   "execution_count": null,
   "metadata": {},
   "outputs": [],
   "source": [
    "method1.invoke(myObj);"
   ]
  },
  {
   "cell_type": "code",
   "execution_count": null,
   "metadata": {},
   "outputs": [],
   "source": [
    "Method method2 = myClass.getMethod(\"testMethod2\", int.class);"
   ]
  },
  {
   "cell_type": "code",
   "execution_count": null,
   "metadata": {},
   "outputs": [],
   "source": [
    "method2.invoke(myObj, 20);"
   ]
  },
  {
   "cell_type": "code",
   "execution_count": null,
   "metadata": {},
   "outputs": [],
   "source": [
    "Field field = myClass.getDeclaredField(\"field1\");"
   ]
  },
  {
   "cell_type": "code",
   "execution_count": null,
   "metadata": {},
   "outputs": [],
   "source": [
    "field.set(myObj, 80);"
   ]
  },
  {
   "cell_type": "code",
   "execution_count": null,
   "metadata": {},
   "outputs": [],
   "source": [
    "Method method = myClass.getMethod(\"printField1\", null);"
   ]
  },
  {
   "cell_type": "code",
   "execution_count": null,
   "metadata": {},
   "outputs": [],
   "source": [
    "method.invoke(myObj, null)"
   ]
  },
  {
   "cell_type": "code",
   "execution_count": null,
   "metadata": {},
   "outputs": [],
   "source": [
    "Annotation[] annotations = myClass.getAnnotations();"
   ]
  },
  {
   "cell_type": "code",
   "execution_count": null,
   "metadata": {},
   "outputs": [],
   "source": [
    "Arrays.toString(annotations)"
   ]
  },
  {
   "cell_type": "code",
   "execution_count": null,
   "metadata": {},
   "outputs": [],
   "source": [
    "MyAnnotation2 annotation = (MyAnnotation2) annotations[0];"
   ]
  },
  {
   "cell_type": "code",
   "execution_count": null,
   "metadata": {},
   "outputs": [],
   "source": [
    "annotation.param1()"
   ]
  },
  {
   "cell_type": "code",
   "execution_count": null,
   "metadata": {},
   "outputs": [],
   "source": [
    "annotation.param2()"
   ]
  },
  {
   "cell_type": "markdown",
   "metadata": {},
   "source": [
    "# File IO"
   ]
  },
  {
   "cell_type": "markdown",
   "metadata": {},
   "source": [
    "![](pictures/files.png)"
   ]
  },
  {
   "cell_type": "code",
   "execution_count": null,
   "metadata": {},
   "outputs": [],
   "source": [
    "import java.lang.reflect.Method;\n",
    "import java.nio.file.Files;\n",
    "import java.nio.file.Path;\n",
    "import java.nio.file.Paths;\n",
    "import java.nio.file.attribute.BasicFileAttributes;\n",
    "import java.util.Scanner;"
   ]
  },
  {
   "cell_type": "code",
   "execution_count": null,
   "metadata": {},
   "outputs": [],
   "source": [
    "FileInputStream fis = null;\n",
    "FileOutputStream fos = null;\n",
    "\n",
    "try {\n",
    "\tfis = new FileInputStream(\"io/testimage.png\");\n",
    "\tfos = new FileOutputStream(\"io/newImage.jpg\");\n",
    "\tint data;\n",
    "\twhile ((data = fis.read()) != -1) {\n",
    "\t\tfos.write(data);\n",
    "\t}\n",
    "\tSystem.out.println(\"File Copied\");\n",
    "} catch (FileNotFoundException e) {\n",
    "\te.printStackTrace();\n",
    "} catch (IOException e) {\n",
    "\te.printStackTrace();\n",
    "} finally {\n",
    "\ttry {\n",
    "\t\tfis.close();\n",
    "\t\tfos.close();\n",
    "\t} catch (IOException e) {\n",
    "\t\t// TODO Auto-generated catch block\n",
    "\t\te.printStackTrace();\n",
    "\t}\n",
    "}\n",
    "\n"
   ]
  },
  {
   "cell_type": "code",
   "execution_count": null,
   "metadata": {},
   "outputs": [],
   "source": [
    "Path path1 = Paths.get(\"C:\\\\gitworkspace\\\\aimldemo\\\\jupyterworkapce\\\\java\\\\io\\\\\");"
   ]
  },
  {
   "cell_type": "code",
   "execution_count": null,
   "metadata": {},
   "outputs": [],
   "source": [
    "path1.getFileName()"
   ]
  },
  {
   "cell_type": "code",
   "execution_count": null,
   "metadata": {},
   "outputs": [],
   "source": [
    "path1.getName(1)"
   ]
  },
  {
   "cell_type": "code",
   "execution_count": null,
   "metadata": {},
   "outputs": [],
   "source": [
    "path1.getName(0)"
   ]
  },
  {
   "cell_type": "code",
   "execution_count": null,
   "metadata": {},
   "outputs": [],
   "source": [
    "path1.getNameCount()"
   ]
  },
  {
   "cell_type": "code",
   "execution_count": null,
   "metadata": {},
   "outputs": [],
   "source": [
    "path1.getParent()"
   ]
  },
  {
   "cell_type": "code",
   "execution_count": null,
   "metadata": {},
   "outputs": [],
   "source": [
    "path1.getRoot()"
   ]
  },
  {
   "cell_type": "code",
   "execution_count": null,
   "metadata": {},
   "outputs": [],
   "source": [
    "path1.subpath(0, 2)"
   ]
  },
  {
   "cell_type": "code",
   "execution_count": null,
   "metadata": {},
   "outputs": [],
   "source": [
    "path1.toString()"
   ]
  },
  {
   "cell_type": "code",
   "execution_count": null,
   "metadata": {},
   "outputs": [],
   "source": [
    "int spaces = 1;\n",
    "\t\tfor (Path subPath : path1) {\n",
    "\t\t\tSystem.out.format(\"%\" + spaces + \"s%s%n\", \"\", subPath);\n",
    "\t\t\tspaces += 2;\n",
    "\t\t}"
   ]
  },
  {
   "cell_type": "code",
   "execution_count": null,
   "metadata": {},
   "outputs": [],
   "source": [
    "Path path = Paths.get(\n",
    "\t\t\t\t\"C:\\\\gitworkspace\\\\aimldemo\\\\jupyterworkapce\\\\java\\\\io\\\\testfileinput.txt\");\n",
    "\t\ttry {\n",
    "\t\t\tFiles.lines(path).forEach(System.out::println);\n",
    "\t\t} catch (IOException e) {\n",
    "\t\t\te.printStackTrace();\n",
    "\t\t}"
   ]
  },
  {
   "cell_type": "code",
   "execution_count": null,
   "metadata": {},
   "outputs": [],
   "source": [
    "BasicFileAttributes basicFileAttributes = Files.readAttributes(path, BasicFileAttributes.class);"
   ]
  },
  {
   "cell_type": "code",
   "execution_count": null,
   "metadata": {},
   "outputs": [],
   "source": [
    "Class<BasicFileAttributes> cl = BasicFileAttributes.class;\n",
    "\t\t\tfor (Method method : cl.getMethods()) {\n",
    "\t\t\t\tSystem.out.println(method.getName() + \"::\" + method.invoke(basicFileAttributes));\n",
    "\n",
    "\t\t\t}"
   ]
  },
  {
   "cell_type": "markdown",
   "metadata": {},
   "source": [
    "* Navifate files and folders"
   ]
  },
  {
   "cell_type": "code",
   "execution_count": null,
   "metadata": {},
   "outputs": [],
   "source": [
    "String folderName = \"C:\\\\gitworkspace\\\\aimldemo\\\\jupyterworkapce\\\\java\";"
   ]
  },
  {
   "cell_type": "code",
   "execution_count": null,
   "metadata": {},
   "outputs": [],
   "source": [
    "String extension = \"*.properties\""
   ]
  },
  {
   "cell_type": "code",
   "execution_count": null,
   "metadata": {},
   "outputs": [],
   "source": [
    "public static void navigateFiles(File dir, String extension) throws IOException {\n",
    "\t\tFile[] list = dir.listFiles();\n",
    "\t\tif (list != null && list.length > 0) {\n",
    "\t\t\tfor (File file : list) {\n",
    "\t\t\t\tif (file.isDirectory()) {\n",
    "\t\t\t\t\tnavigateFiles(file, extension);\n",
    "\t\t\t\t} else if (file.getName().endsWith(extension)) {\n",
    "\t\t\t\t\tSystem.out.println(file.getName());\n",
    "\t\t\t\t}\n",
    "\t\t\t}\n",
    "\t\t}\n",
    "\t}"
   ]
  },
  {
   "cell_type": "code",
   "execution_count": null,
   "metadata": {},
   "outputs": [],
   "source": [
    "navigateFiles(new File(folderName), extension);"
   ]
  },
  {
   "cell_type": "markdown",
   "metadata": {},
   "source": [
    "# NIO"
   ]
  },
  {
   "cell_type": "code",
   "execution_count": null,
   "metadata": {},
   "outputs": [],
   "source": [
    "import java.nio.file.*;"
   ]
  },
  {
   "cell_type": "code",
   "execution_count": null,
   "metadata": {},
   "outputs": [],
   "source": [
    "Path path = Paths.get(\"io/nio_test.txt\");"
   ]
  },
  {
   "cell_type": "code",
   "execution_count": null,
   "metadata": {},
   "outputs": [],
   "source": [
    "Files.write(path, \"Hello, World!\".getBytes());"
   ]
  },
  {
   "cell_type": "code",
   "execution_count": null,
   "metadata": {},
   "outputs": [],
   "source": [
    "String content = new String(Files.readAllBytes(path));"
   ]
  },
  {
   "cell_type": "code",
   "execution_count": null,
   "metadata": {},
   "outputs": [],
   "source": [
    "content"
   ]
  },
  {
   "cell_type": "code",
   "execution_count": null,
   "metadata": {},
   "outputs": [],
   "source": [
    "Path destination = Paths.get(\"io/nio_test_copy.txt\");"
   ]
  },
  {
   "cell_type": "code",
   "execution_count": null,
   "metadata": {},
   "outputs": [],
   "source": [
    "Files.copy(path, destination, StandardCopyOption.REPLACE_EXISTING);"
   ]
  },
  {
   "cell_type": "code",
   "execution_count": null,
   "metadata": {},
   "outputs": [],
   "source": [
    "Files.delete(destination);"
   ]
  },
  {
   "cell_type": "code",
   "execution_count": null,
   "metadata": {},
   "outputs": [],
   "source": [
    "path.getFileName()"
   ]
  },
  {
   "cell_type": "code",
   "execution_count": null,
   "metadata": {},
   "outputs": [],
   "source": [
    "path.getName(1)"
   ]
  },
  {
   "cell_type": "code",
   "execution_count": null,
   "metadata": {},
   "outputs": [],
   "source": [
    "path.getNameCount()"
   ]
  },
  {
   "cell_type": "code",
   "execution_count": null,
   "metadata": {},
   "outputs": [],
   "source": [
    "path.getParent()"
   ]
  },
  {
   "cell_type": "code",
   "execution_count": null,
   "metadata": {},
   "outputs": [],
   "source": [
    "path.getRoot()"
   ]
  },
  {
   "cell_type": "code",
   "execution_count": null,
   "metadata": {},
   "outputs": [],
   "source": [
    "path.toString()"
   ]
  },
  {
   "cell_type": "code",
   "execution_count": null,
   "metadata": {},
   "outputs": [],
   "source": [
    "Files.getLastModifiedTime(path)"
   ]
  },
  {
   "cell_type": "code",
   "execution_count": null,
   "metadata": {},
   "outputs": [],
   "source": [
    "// loop over BasicFileAttributes\n",
    "\t\t\tBasicFileAttributes basicFileAttributes = Files.readAttributes(path, BasicFileAttributes.class);\n",
    "\t\t\tClass<BasicFileAttributes> cl = BasicFileAttributes.class;\n",
    "\t\t\tfor (Method method : cl.getMethods()) {\n",
    "\t\t\t\tSystem.out.println(method.getName() + \"::\" + method.invoke(basicFileAttributes));\n",
    "\t\t\t}"
   ]
  },
  {
   "cell_type": "code",
   "execution_count": null,
   "metadata": {},
   "outputs": [],
   "source": [
    "public class NIODemo extends SimpleFileVisitor<Path> {\n",
    "@Override\n",
    "\tpublic FileVisitResult visitFile(Path file, BasicFileAttributes attrs) throws IOException {\n",
    "\t\tif (file.getFileName().toString().endsWith(\".java\")) {\n",
    "\t\t\tSystem.out.println(file.getFileName().toString());\n",
    "\t\t}\n",
    "\t\treturn FileVisitResult.CONTINUE;\n",
    "\t}\n",
    "}"
   ]
  },
  {
   "cell_type": "code",
   "execution_count": null,
   "metadata": {},
   "outputs": [],
   "source": [
    "// FileVisitResult\n",
    "\t\tFiles.walkFileTree(Paths.get(\"C:\\\\gitworkspace\\\\java-demo\\\\spring_demo_new\\\\src\\\\main\\\\java\\\\com\\\\demo\\\\nio\"),\n",
    "\t\t\t\tnew NIODemo());"
   ]
  },
  {
   "cell_type": "markdown",
   "metadata": {},
   "source": [
    "# Regular expressions"
   ]
  },
  {
   "cell_type": "code",
   "execution_count": null,
   "metadata": {},
   "outputs": [],
   "source": [
    "// Define the pattern for digits\n",
    "String regex = \"\\\\d+\";"
   ]
  },
  {
   "cell_type": "code",
   "execution_count": null,
   "metadata": {},
   "outputs": [],
   "source": [
    "Pattern pattern = Pattern.compile(regex);"
   ]
  },
  {
   "cell_type": "code",
   "execution_count": null,
   "metadata": {},
   "outputs": [],
   "source": [
    "String testString = \"123456\";"
   ]
  },
  {
   "cell_type": "code",
   "execution_count": null,
   "metadata": {},
   "outputs": [],
   "source": [
    "Matcher matcher = pattern.matcher(testString);"
   ]
  },
  {
   "cell_type": "code",
   "execution_count": null,
   "metadata": {},
   "outputs": [],
   "source": [
    "matcher.matches()"
   ]
  },
  {
   "cell_type": "markdown",
   "metadata": {},
   "source": [
    "# ResourceBundle"
   ]
  },
  {
   "cell_type": "code",
   "execution_count": null,
   "metadata": {},
   "outputs": [],
   "source": [
    "public class Messages_en_US extends ListResourceBundle {\n",
    "    @Override\n",
    "    protected Object[][] getContents() {\n",
    "        return new Object[][] {\n",
    "            {\"greeting\", \"Hello\"},\n",
    "            {\"farewell\", \"Goodbye\"}\n",
    "        };\n",
    "    }\n",
    "}"
   ]
  },
  {
   "cell_type": "code",
   "execution_count": null,
   "metadata": {},
   "outputs": [],
   "source": [
    "import java.util.ListResourceBundle;\n",
    "\n",
    "public class Messages_fr_FR extends ListResourceBundle {\n",
    "    @Override\n",
    "    protected Object[][] getContents() {\n",
    "        return new Object[][] {\n",
    "            {\"greeting\", \"Bonjour\"},\n",
    "            {\"farewell\", \"Au revoir\"}\n",
    "        };\n",
    "    }\n",
    "}"
   ]
  },
  {
   "cell_type": "code",
   "execution_count": null,
   "metadata": {},
   "outputs": [],
   "source": [
    "Messages_en_US.class"
   ]
  },
  {
   "cell_type": "code",
   "execution_count": null,
   "metadata": {},
   "outputs": [],
   "source": [
    " Locale.setDefault(new Locale(\"en\", \"US\"));\n",
    "// Load the resource bundle for the default locale. Below syntax is used for notbook only. Full package name is good enough for eclipse\n",
    " ResourceBundle bundle = ResourceBundle.getBundle(\"REPL.$JShell$685$Messages\");"
   ]
  },
  {
   "cell_type": "code",
   "execution_count": null,
   "metadata": {},
   "outputs": [],
   "source": [
    "bundle.getString(\"greeting\")"
   ]
  },
  {
   "cell_type": "code",
   "execution_count": null,
   "metadata": {},
   "outputs": [],
   "source": [
    "bundle.getString(\"farewell\")"
   ]
  },
  {
   "cell_type": "code",
   "execution_count": null,
   "metadata": {},
   "outputs": [],
   "source": [
    "Locale.setDefault(new Locale(\"fr\", \"FR\"));\n",
    "bundle = ResourceBundle.getBundle(Messages_fr_FR.class.getName());"
   ]
  },
  {
   "cell_type": "code",
   "execution_count": null,
   "metadata": {},
   "outputs": [],
   "source": [
    "bundle.getString(\"greeting\")"
   ]
  },
  {
   "cell_type": "code",
   "execution_count": null,
   "metadata": {},
   "outputs": [],
   "source": [
    "bundle.getString(\"farewell\")"
   ]
  },
  {
   "cell_type": "code",
   "execution_count": null,
   "metadata": {},
   "outputs": [],
   "source": [
    "// Read from property file\n",
    "Locale locale = Locale.FRENCH;\n",
    "ResourceBundle bundle = ResourceBundle.getBundle(\"messages.properties\", locale);\n",
    "String greeting = bundle.getString(\"greeting\");\n",
    "String farewell = bundle.getString(\"farewell\");"
   ]
  },
  {
   "cell_type": "markdown",
   "metadata": {},
   "source": [
    "# Arrays"
   ]
  },
  {
   "cell_type": "code",
   "execution_count": null,
   "metadata": {},
   "outputs": [],
   "source": [
    "int arr[] = {10,20,30};"
   ]
  },
  {
   "cell_type": "code",
   "execution_count": null,
   "metadata": {},
   "outputs": [],
   "source": [
    "for (int element : arr) {\n",
    "\t\t\tSystem.out.println(element);\n",
    "\t\t}"
   ]
  },
  {
   "cell_type": "code",
   "execution_count": null,
   "metadata": {},
   "outputs": [],
   "source": [
    "System.out.println(Arrays.mismatch(new int[] { 1 }, new int[] { 1 }));"
   ]
  },
  {
   "cell_type": "code",
   "execution_count": null,
   "metadata": {},
   "outputs": [],
   "source": [
    "System.out.println(Arrays.mismatch(new String[] { \"a\" }, new String[] { \"A\" }));"
   ]
  },
  {
   "cell_type": "code",
   "execution_count": null,
   "metadata": {},
   "outputs": [],
   "source": [
    "System.out.println(Arrays.mismatch(new int[] { 1, 2 }, new int[] { 1 }));"
   ]
  },
  {
   "cell_type": "code",
   "execution_count": null,
   "metadata": {},
   "outputs": [],
   "source": [
    "int[][] differentSizes = { { 1, 4 }, { 3 }, { 9, 8, 7 } };"
   ]
  },
  {
   "cell_type": "code",
   "execution_count": null,
   "metadata": {},
   "outputs": [],
   "source": [
    "System.out.println(differentSizes[1][0] );"
   ]
  },
  {
   "cell_type": "code",
   "execution_count": null,
   "metadata": {},
   "outputs": [],
   "source": [
    "//Below lien will throw ArrayIndexOutOfBoundsException\n",
    "//System.out.println(differentSizes[1][1] );"
   ]
  },
  {
   "cell_type": "code",
   "execution_count": null,
   "metadata": {},
   "outputs": [],
   "source": []
  },
  {
   "cell_type": "markdown",
   "metadata": {},
   "source": [
    "# java.lang.Object"
   ]
  },
  {
   "cell_type": "code",
   "execution_count": null,
   "metadata": {},
   "outputs": [],
   "source": [
    "\n",
    "public class TestObjectDemo {\n",
    "\tpublic TestObjectDemo(int id, String name) {\n",
    "\t\tthis.id = id;\n",
    "\t\tthis.name = name;\n",
    "\t}\n",
    "\n",
    "\tprivate int id;\n",
    "\tprivate String name;\n",
    "\n",
    "\tpublic int getId() {\n",
    "\t\treturn id;\n",
    "\t}\n",
    "\n",
    "\tpublic void setId(int id) {\n",
    "\t\tthis.id = id;\n",
    "\t}\n",
    "\n",
    "\tpublic String getName() {\n",
    "\t\treturn name;\n",
    "\t}\n",
    "\n",
    "\tpublic void setName(String name) {\n",
    "\t\tthis.name = name;\n",
    "\t}\n",
    "\n",
    "\t@Override\n",
    "\tpublic boolean equals(Object obj) {\n",
    "\t\tSystem.out.println(\"Inside TestObjectDemo equals method\");\n",
    "\t\tTestObjectDemo testObjectDemo = (TestObjectDemo) obj;\n",
    "\t\tif (testObjectDemo.getId() == this.id && testObjectDemo.getName().equals(this.name)) {\n",
    "\t\t\treturn true;\n",
    "\t\t}\n",
    "\n",
    "\t\treturn false;\n",
    "\n",
    "\t}\n",
    "\n",
    "\t@Override\n",
    "\tpublic String toString() {\n",
    "\t\treturn \"TestObjectDemo id:\" + this.id + \" Name:\" + this.name;\n",
    "\t}\n",
    "\n",
    "}\n"
   ]
  },
  {
   "cell_type": "code",
   "execution_count": null,
   "metadata": {},
   "outputs": [],
   "source": [
    "TestObjectDemo testObjectDemo1 = new TestObjectDemo(11,\"Name1\");"
   ]
  },
  {
   "cell_type": "code",
   "execution_count": null,
   "metadata": {},
   "outputs": [],
   "source": [
    "TestObjectDemo testObjectDemo2 = new TestObjectDemo(22,\"Name2\");"
   ]
  },
  {
   "cell_type": "code",
   "execution_count": null,
   "metadata": {},
   "outputs": [],
   "source": [
    "testObjectDemo1"
   ]
  },
  {
   "cell_type": "code",
   "execution_count": null,
   "metadata": {},
   "outputs": [],
   "source": [
    "testObjectDemo1.equals(testObjectDemo2)"
   ]
  },
  {
   "cell_type": "code",
   "execution_count": null,
   "metadata": {},
   "outputs": [],
   "source": [
    "// method level instanceof check. Not related java.lang.object\n",
    "private static Object method1() {\n",
    "\t\treturn \"test\";\n",
    "\t}"
   ]
  },
  {
   "cell_type": "code",
   "execution_count": null,
   "metadata": {},
   "outputs": [],
   "source": [
    "if (method1() instanceof String str) {\n",
    "\t\t\tSystem.out.println(str.toUpperCase());\n",
    "\t\t}"
   ]
  },
  {
   "cell_type": "markdown",
   "metadata": {},
   "source": [
    "* java 13 instanceof"
   ]
  },
  {
   "cell_type": "code",
   "execution_count": null,
   "metadata": {},
   "outputs": [],
   "source": [
    " Object obj = \"Hello, World!\";"
   ]
  },
  {
   "cell_type": "code",
   "execution_count": null,
   "metadata": {},
   "outputs": [],
   "source": [
    " if (obj instanceof String str) {\n",
    "            System.out.println(\"The string is: \" + str);\n",
    "        } else {\n",
    "            System.out.println(\"The object is not a string.\");\n",
    "        }"
   ]
  },
  {
   "cell_type": "markdown",
   "metadata": {},
   "source": [
    "# Generics"
   ]
  },
  {
   "cell_type": "code",
   "execution_count": null,
   "metadata": {},
   "outputs": [],
   "source": [
    "public class MyGenericClass<T> {\n",
    "\n",
    "\tT obj;\n",
    "\n",
    "\tMyGenericClass(T obj) {\n",
    "\t\tthis.obj = obj;\n",
    "\t}\n",
    "\n",
    "\tpublic void displayObjectDetails() {\n",
    "\t\tSystem.out.println(\"The type of object: \" + obj.getClass().getName());\n",
    "\t}\n",
    "\n",
    "\tpublic T getObject() {\n",
    "\t\treturn obj;\n",
    "\t}\n",
    "\n",
    "}"
   ]
  },
  {
   "cell_type": "code",
   "execution_count": null,
   "metadata": {},
   "outputs": [],
   "source": [
    "MyGenericClass<String> s = new MyGenericClass<>(\"Test JMJ\");"
   ]
  },
  {
   "cell_type": "code",
   "execution_count": null,
   "metadata": {},
   "outputs": [],
   "source": [
    "s.displayObjectDetails();"
   ]
  },
  {
   "cell_type": "code",
   "execution_count": null,
   "metadata": {},
   "outputs": [],
   "source": [
    "s.getObject()"
   ]
  },
  {
   "cell_type": "code",
   "execution_count": null,
   "metadata": {},
   "outputs": [],
   "source": [
    "MyGenericClass<Integer> i = new MyGenericClass<>(123);"
   ]
  },
  {
   "cell_type": "code",
   "execution_count": null,
   "metadata": {},
   "outputs": [],
   "source": [
    "i.displayObjectDetails();"
   ]
  },
  {
   "cell_type": "code",
   "execution_count": null,
   "metadata": {},
   "outputs": [],
   "source": [
    "System.out.println(i.getObject());"
   ]
  },
  {
   "cell_type": "code",
   "execution_count": null,
   "metadata": {},
   "outputs": [],
   "source": [
    "MyGenericClass<TestObjectDemo> i = new MyGenericClass<>(new TestObjectDemo(10, \"Test 123\"));"
   ]
  },
  {
   "cell_type": "code",
   "execution_count": null,
   "metadata": {},
   "outputs": [],
   "source": [
    "i.displayObjectDetails();"
   ]
  },
  {
   "cell_type": "code",
   "execution_count": null,
   "metadata": {},
   "outputs": [],
   "source": [
    "System.out.println(i.getObject());"
   ]
  },
  {
   "cell_type": "code",
   "execution_count": null,
   "metadata": {},
   "outputs": [],
   "source": [
    "public class TestGeneric<S, T extends Number> {\n",
    "\n",
    "\tprivate S name;\n",
    "\tprivate T age;\n",
    "\n",
    "\tpublic TestGeneric(S name, T age) {\n",
    "\t\tthis.name = name;\n",
    "\t\tthis.age = age;\n",
    "\t}\n",
    "\n",
    "\tpublic S getName() {\n",
    "\t\treturn name;\n",
    "\t}\n",
    "\n",
    "\tpublic void setName(S name) {\n",
    "\t\tthis.name = name;\n",
    "\t}\n",
    "\n",
    "\tpublic T getAge() {\n",
    "\t\treturn age;\n",
    "\t}\n",
    "\n",
    "\tpublic void setAge(T age) {\n",
    "\t\tthis.age = age;\n",
    "\t}\n",
    "}"
   ]
  },
  {
   "cell_type": "code",
   "execution_count": null,
   "metadata": {},
   "outputs": [],
   "source": [
    "TestGeneric<String, Float> testGeneric = new TestGeneric<String, Float>(\"JJ\", 13.0f);"
   ]
  },
  {
   "cell_type": "code",
   "execution_count": null,
   "metadata": {},
   "outputs": [],
   "source": [
    "testGeneric.getName()"
   ]
  },
  {
   "cell_type": "code",
   "execution_count": null,
   "metadata": {},
   "outputs": [],
   "source": [
    "testGeneric.getAge()"
   ]
  },
  {
   "cell_type": "code",
   "execution_count": null,
   "metadata": {},
   "outputs": [],
   "source": [
    " private void testGenericMethod(TestGeneric object) {\n",
    "\t\tTestGeneric testGenericLocal = (TestGeneric) object;\n",
    "\t\t// set wrong type in a method. Code will compile. will cause run time error when  name is accessed\n",
    "\t\ttestGenericLocal.setName(new Integer(1));\n",
    "\t\tSystem.out.println(testGenericLocal.getName());\n",
    "\t\tSystem.out.println(testGenericLocal.getAge());\n",
    "   \n",
    "\t}"
   ]
  },
  {
   "cell_type": "code",
   "execution_count": null,
   "metadata": {},
   "outputs": [],
   "source": [
    "testGenericMethod(testGeneric);"
   ]
  },
  {
   "cell_type": "code",
   "execution_count": null,
   "metadata": {},
   "outputs": [],
   "source": [
    "testGeneric.getAge()"
   ]
  },
  {
   "cell_type": "code",
   "execution_count": null,
   "metadata": {},
   "outputs": [],
   "source": [
    "// set wrong type in a method. Code will compile. will cause run time error when  name is accessed\n",
    "// below line will throw null runtime exception since name was set to int\n",
    "//testGeneric.getName()"
   ]
  },
  {
   "cell_type": "code",
   "execution_count": null,
   "metadata": {},
   "outputs": [],
   "source": [
    "   public static <T extends Number> void printDoubleValue(T num) {\n",
    "        System.out.println(\"Double value: \" + num.doubleValue());\n",
    "    }"
   ]
  },
  {
   "cell_type": "code",
   "execution_count": null,
   "metadata": {},
   "outputs": [],
   "source": [
    "printDoubleValue(new Integer(10))"
   ]
  },
  {
   "cell_type": "code",
   "execution_count": null,
   "metadata": {},
   "outputs": [],
   "source": [
    "printDoubleValue(10.8f)"
   ]
  },
  {
   "cell_type": "markdown",
   "metadata": {},
   "source": [
    "# Java 8 Test data"
   ]
  },
  {
   "cell_type": "code",
   "execution_count": 1,
   "metadata": {},
   "outputs": [],
   "source": [
    "public enum Department {\n",
    "\tTECHNOLOGY, BUSINESS, SUPPORT, OPERATIONS\n",
    "}\n",
    "\n",
    "public class Employee implements Serializable{\n",
    "\t/**\n",
    "\t * \n",
    "\t */\n",
    "\tprivate static final long serialVersionUID = -635482957578937357L;\n",
    "\tprivate String firstName;\n",
    "\tprivate String lastName;\n",
    "\tprivate String fullName;\n",
    "\tprivate int age;\n",
    "\tprivate Department department;\n",
    "\n",
    "\tpublic Employee(String firstName, String lastName, String fullName, int age, Department department) {\n",
    "\t\tsuper();\n",
    "\t\tthis.firstName = firstName;\n",
    "\t\tthis.lastName = lastName;\n",
    "\t\tthis.fullName = fullName;\n",
    "\t\tthis.age = age;\n",
    "\t\tthis.department = department;\n",
    "\t}\n",
    "\n",
    "\tpublic String getFirstName() {\n",
    "\t\treturn firstName;\n",
    "\t}\n",
    "\n",
    "\tpublic void setFirstName(String firstName) {\n",
    "\t\tthis.firstName = firstName;\n",
    "\t}\n",
    "\n",
    "\tpublic String getLastName() {\n",
    "\t\treturn lastName;\n",
    "\t}\n",
    "\n",
    "\tpublic void setLastName(String lastName) {\n",
    "\t\tthis.lastName = lastName;\n",
    "\t}\n",
    "\n",
    "\tpublic String getFullName() {\n",
    "\t\treturn fullName;\n",
    "\t}\n",
    "\n",
    "\tpublic void setFullName(String fullName) {\n",
    "\t\tthis.fullName = fullName;\n",
    "\t}\n",
    "\n",
    "\tpublic int getAge() {\n",
    "\t\treturn age;\n",
    "\t}\n",
    "\n",
    "\tpublic void setAge(int age) {\n",
    "\t\tthis.age = age;\n",
    "\t}\n",
    "\n",
    "\tpublic Department getDepartment() {\n",
    "\t\treturn department;\n",
    "\t}\n",
    "\n",
    "\tpublic void setDepartment(Department department) {\n",
    "\t\tthis.department = department;\n",
    "\t}\n",
    "\n",
    "\tpublic void auditAndUpdate() {\n",
    "\t\tthis.setFullName(this.getFirstName() + \" \" + this.getLastName());\n",
    "\t\tSystem.out.println(\n",
    "\t\t\t\tthis.getFullName() + \": Age: \" + this.getAge() + \" :Department: \" + this.getDepartment().toString());\n",
    "\t}\n",
    "\n",
    "}\n",
    "\n",
    "Employee employeel = new Employee(\"first 1\", \"lastl\", \"\", 20, Department.BUSINESS);\n",
    "Employee employee2 = new Employee(\"first 2\", \"last2\", \"\", 18, Department.TECHNOLOGY);\n",
    "Employee employee3 = new Employee(\"first 3\", \"last3\", \"\", 27, Department.OPERATIONS);\n",
    "Employee employee4 = new Employee(\"first 4\", \"last4\", \"\", 32, Department.SUPPORT);\n",
    "Employee employee5 = new Employee(\"first 5\", \"last5\", \" \", 25, Department.TECHNOLOGY);\n",
    "\n",
    "List<Employee> employeeListForStreamDemo = Arrays.asList(employeel, employee2, employee3, employee4, employee5); "
   ]
  },
  {
   "cell_type": "code",
   "execution_count": 2,
   "metadata": {},
   "outputs": [
    {
     "data": {
      "text/plain": [
       "[REPL.$JShell$13$Employee@66dac01d, REPL.$JShell$13$Employee@5927d5d1, REPL.$JShell$13$Employee@750317a1, REPL.$JShell$13$Employee@5db53011, REPL.$JShell$13$Employee@6ddfd992]"
      ]
     },
     "execution_count": 2,
     "metadata": {},
     "output_type": "execute_result"
    }
   ],
   "source": [
    "employeeListForStreamDemo"
   ]
  },
  {
   "cell_type": "markdown",
   "metadata": {},
   "source": [
    "# java.util.Comparator"
   ]
  },
  {
   "cell_type": "code",
   "execution_count": 3,
   "metadata": {},
   "outputs": [],
   "source": [
    "List<String> names = Arrays.asList(\"John\", \"Alice\", \"Bob\");"
   ]
  },
  {
   "cell_type": "code",
   "execution_count": 4,
   "metadata": {},
   "outputs": [],
   "source": [
    " Comparator<String> lengthComparator = Comparator.comparingInt(String::length);"
   ]
  },
  {
   "cell_type": "code",
   "execution_count": 5,
   "metadata": {},
   "outputs": [],
   "source": [
    "Collections.sort(names, lengthComparator);"
   ]
  },
  {
   "cell_type": "code",
   "execution_count": 6,
   "metadata": {},
   "outputs": [
    {
     "data": {
      "text/plain": [
       "[Bob, John, Alice]"
      ]
     },
     "execution_count": 6,
     "metadata": {},
     "output_type": "execute_result"
    }
   ],
   "source": [
    "names"
   ]
  },
  {
   "cell_type": "code",
   "execution_count": 7,
   "metadata": {},
   "outputs": [],
   "source": [
    "Collections.sort(names, lengthComparator.reversed());"
   ]
  },
  {
   "cell_type": "code",
   "execution_count": 8,
   "metadata": {},
   "outputs": [
    {
     "data": {
      "text/plain": [
       "[Alice, John, Bob]"
      ]
     },
     "execution_count": 8,
     "metadata": {},
     "output_type": "execute_result"
    }
   ],
   "source": [
    "names"
   ]
  },
  {
   "cell_type": "markdown",
   "metadata": {},
   "source": [
    "# java.util.stream.Collectors"
   ]
  },
  {
   "cell_type": "code",
   "execution_count": 9,
   "metadata": {},
   "outputs": [],
   "source": [
    "import java.util.stream.Collectors"
   ]
  },
  {
   "cell_type": "code",
   "execution_count": 10,
   "metadata": {},
   "outputs": [],
   "source": [
    "List<String> names = List.of(\"John\", \"Alice\", \"Bob\", \"Bob\");"
   ]
  },
  {
   "cell_type": "code",
   "execution_count": 11,
   "metadata": {},
   "outputs": [],
   "source": [
    "List<String> sortedNames = names.stream()\n",
    "                                .sorted()\n",
    "                                .collect(Collectors.toList());"
   ]
  },
  {
   "cell_type": "code",
   "execution_count": 12,
   "metadata": {},
   "outputs": [
    {
     "data": {
      "text/plain": [
       "[Alice, Bob, Bob, John]"
      ]
     },
     "execution_count": 12,
     "metadata": {},
     "output_type": "execute_result"
    }
   ],
   "source": [
    "sortedNames"
   ]
  },
  {
   "cell_type": "code",
   "execution_count": 13,
   "metadata": {},
   "outputs": [],
   "source": [
    "Set<String> uniqueNames = names.stream()\n",
    "                               .collect(Collectors.toSet());"
   ]
  },
  {
   "cell_type": "code",
   "execution_count": 14,
   "metadata": {},
   "outputs": [
    {
     "data": {
      "text/plain": [
       "[Bob, Alice, John]"
      ]
     },
     "execution_count": 14,
     "metadata": {},
     "output_type": "execute_result"
    }
   ],
   "source": [
    "uniqueNames"
   ]
  },
  {
   "cell_type": "code",
   "execution_count": 15,
   "metadata": {},
   "outputs": [],
   "source": [
    "String joinedNames = names.stream()\n",
    "                          .collect(Collectors.joining(\", \"));"
   ]
  },
  {
   "cell_type": "code",
   "execution_count": 16,
   "metadata": {},
   "outputs": [
    {
     "data": {
      "text/plain": [
       "John, Alice, Bob, Bob"
      ]
     },
     "execution_count": 16,
     "metadata": {},
     "output_type": "execute_result"
    }
   ],
   "source": [
    "joinedNames"
   ]
  },
  {
   "cell_type": "code",
   "execution_count": 17,
   "metadata": {},
   "outputs": [],
   "source": [
    "Map<Integer, List<String>> groupedByLength = names.stream()\n",
    "                                                  .collect(Collectors.groupingBy(String::length));"
   ]
  },
  {
   "cell_type": "code",
   "execution_count": 18,
   "metadata": {},
   "outputs": [
    {
     "data": {
      "text/plain": [
       "{3=[Bob, Bob], 4=[John], 5=[Alice]}"
      ]
     },
     "execution_count": 18,
     "metadata": {},
     "output_type": "execute_result"
    }
   ],
   "source": [
    "groupedByLength"
   ]
  },
  {
   "cell_type": "code",
   "execution_count": 19,
   "metadata": {},
   "outputs": [],
   "source": [
    "Map<Boolean, List<String>> partitioned = names.stream()\n",
    "                                              .collect(Collectors.partitioningBy(name -> name.length() > 3));"
   ]
  },
  {
   "cell_type": "code",
   "execution_count": 20,
   "metadata": {},
   "outputs": [
    {
     "data": {
      "text/plain": [
       "{false=[Bob, Bob], true=[John, Alice]}"
      ]
     },
     "execution_count": 20,
     "metadata": {},
     "output_type": "execute_result"
    }
   ],
   "source": [
    "partitioned"
   ]
  },
  {
   "cell_type": "markdown",
   "metadata": {},
   "source": [
    "*  the Collectors.teeing method is introduced in Java 12 as part of the java.util.stream.Collectors class. It allows you to perform two independent collection operations on the same stream and then combine their results. This is particularly useful when you need to derive two different results from the same dataset in a single pass."
   ]
  },
  {
   "cell_type": "code",
   "execution_count": 21,
   "metadata": {},
   "outputs": [],
   "source": [
    "class Result {\n",
    "        private final int sum;\n",
    "        private final double average;\n",
    "\n",
    "        public Result(int sum, double average) {\n",
    "            this.sum = sum;\n",
    "            this.average = average;\n",
    "        }\n",
    "\n",
    "        public int getSum() {\n",
    "            return sum;\n",
    "        }\n",
    "\n",
    "        public double getAverage() {\n",
    "            return average;\n",
    "        }\n",
    "    }\n"
   ]
  },
  {
   "cell_type": "code",
   "execution_count": 22,
   "metadata": {},
   "outputs": [
    {
     "name": "stdout",
     "output_type": "stream",
     "text": [
      "Sum: 55\n",
      "Average: 5.5\n"
     ]
    }
   ],
   "source": [
    " List<Integer> numbers = Arrays.asList(1, 2, 3, 4, 5, 6, 7, 8, 9, 10);\n",
    "\n",
    "        // Using Collectors.teeing to calculate sum and average\n",
    "        Result result = numbers.stream().collect(\n",
    "            Collectors.teeing(\n",
    "                Collectors.summingInt(Integer::intValue),\n",
    "                Collectors.averagingInt(Integer::intValue),\n",
    "                (sum, avg) -> new Result(sum, avg)\n",
    "            )\n",
    "        );\n",
    "\n",
    "        System.out.println(\"Sum: \" + result.getSum());\n",
    "        System.out.println(\"Average: \" + result.getAverage());"
   ]
  },
  {
   "cell_type": "markdown",
   "metadata": {},
   "source": [
    "# Optional"
   ]
  },
  {
   "cell_type": "code",
   "execution_count": 23,
   "metadata": {},
   "outputs": [],
   "source": [
    "import java.util.OptionalDouble;"
   ]
  },
  {
   "cell_type": "code",
   "execution_count": 24,
   "metadata": {},
   "outputs": [],
   "source": [
    "Optional<String> empty = Optional.empty();"
   ]
  },
  {
   "cell_type": "code",
   "execution_count": 25,
   "metadata": {},
   "outputs": [
    {
     "data": {
      "text/plain": [
       "Optional.empty"
      ]
     },
     "execution_count": 25,
     "metadata": {},
     "output_type": "execute_result"
    }
   ],
   "source": [
    "empty"
   ]
  },
  {
   "cell_type": "code",
   "execution_count": 26,
   "metadata": {},
   "outputs": [
    {
     "data": {
      "text/plain": [
       "false"
      ]
     },
     "execution_count": 26,
     "metadata": {},
     "output_type": "execute_result"
    }
   ],
   "source": [
    "empty.isPresent()"
   ]
  },
  {
   "cell_type": "code",
   "execution_count": 27,
   "metadata": {},
   "outputs": [
    {
     "data": {
      "text/plain": [
       "Deafulat value"
      ]
     },
     "execution_count": 27,
     "metadata": {},
     "output_type": "execute_result"
    }
   ],
   "source": [
    "empty.orElse(\"Deafulat value\")"
   ]
  },
  {
   "cell_type": "code",
   "execution_count": 28,
   "metadata": {},
   "outputs": [],
   "source": [
    "Optional<String> opt = Optional.of(\"Test Optional\");"
   ]
  },
  {
   "cell_type": "code",
   "execution_count": 29,
   "metadata": {},
   "outputs": [
    {
     "data": {
      "text/plain": [
       "true"
      ]
     },
     "execution_count": 29,
     "metadata": {},
     "output_type": "execute_result"
    }
   ],
   "source": [
    "opt.isPresent()"
   ]
  },
  {
   "cell_type": "code",
   "execution_count": 30,
   "metadata": {},
   "outputs": [
    {
     "name": "stdout",
     "output_type": "stream",
     "text": [
      "Test Optional\r\n"
     ]
    }
   ],
   "source": [
    "if (opt.isPresent()) {\n",
    "\tSystem.out.println(opt.get());\n",
    "}"
   ]
  },
  {
   "cell_type": "code",
   "execution_count": 31,
   "metadata": {},
   "outputs": [
    {
     "data": {
      "text/plain": [
       "Optional[Test Optional]"
      ]
     },
     "execution_count": 31,
     "metadata": {},
     "output_type": "execute_result"
    }
   ],
   "source": [
    "opt.filter((s)->s.equals(\"Test Optional\"))"
   ]
  },
  {
   "cell_type": "code",
   "execution_count": 32,
   "metadata": {},
   "outputs": [
    {
     "data": {
      "text/plain": [
       "Optional.empty"
      ]
     },
     "execution_count": 32,
     "metadata": {},
     "output_type": "execute_result"
    }
   ],
   "source": [
    "opt.filter((s)->s.equals(\"##Test Optional\"))"
   ]
  },
  {
   "cell_type": "code",
   "execution_count": 33,
   "metadata": {},
   "outputs": [
    {
     "data": {
      "text/plain": [
       "Default Value"
      ]
     },
     "execution_count": 33,
     "metadata": {},
     "output_type": "execute_result"
    }
   ],
   "source": [
    "empty.orElse(\"Default Value\")"
   ]
  },
  {
   "cell_type": "code",
   "execution_count": 34,
   "metadata": {},
   "outputs": [
    {
     "data": {
      "text/plain": [
       "Test Optional"
      ]
     },
     "execution_count": 34,
     "metadata": {},
     "output_type": "execute_result"
    }
   ],
   "source": [
    "opt.orElse(\"Default Value\")"
   ]
  },
  {
   "cell_type": "code",
   "execution_count": 35,
   "metadata": {},
   "outputs": [
    {
     "name": "stdout",
     "output_type": "stream",
     "text": [
      "Test Optional\r\n"
     ]
    }
   ],
   "source": [
    "opt.ifPresent(System.out::println);"
   ]
  },
  {
   "cell_type": "code",
   "execution_count": 36,
   "metadata": {},
   "outputs": [],
   "source": [
    "// This prints nothing\n",
    "empty.ifPresent(System.out::println);"
   ]
  },
  {
   "cell_type": "code",
   "execution_count": 37,
   "metadata": {},
   "outputs": [],
   "source": [
    "OptionalDouble optionalDouble = OptionalDouble.of(100);"
   ]
  },
  {
   "cell_type": "code",
   "execution_count": 38,
   "metadata": {},
   "outputs": [
    {
     "data": {
      "text/plain": [
       "true"
      ]
     },
     "execution_count": 38,
     "metadata": {},
     "output_type": "execute_result"
    }
   ],
   "source": [
    "optionalDouble.isPresent()"
   ]
  },
  {
   "cell_type": "code",
   "execution_count": 39,
   "metadata": {},
   "outputs": [
    {
     "data": {
      "text/plain": [
       "100.0"
      ]
     },
     "execution_count": 39,
     "metadata": {},
     "output_type": "execute_result"
    }
   ],
   "source": [
    "optionalDouble.getAsDouble()"
   ]
  },
  {
   "cell_type": "code",
   "execution_count": 40,
   "metadata": {},
   "outputs": [],
   "source": [
    "Integer year = 2016;\n",
    "Optional<Integer> yearOptional = Optional.of(year);"
   ]
  },
  {
   "cell_type": "code",
   "execution_count": 41,
   "metadata": {},
   "outputs": [
    {
     "data": {
      "text/plain": [
       "true"
      ]
     },
     "execution_count": 41,
     "metadata": {},
     "output_type": "execute_result"
    }
   ],
   "source": [
    "yearOptional.filter(y -> y == 2016).isPresent()"
   ]
  },
  {
   "cell_type": "code",
   "execution_count": 42,
   "metadata": {},
   "outputs": [
    {
     "data": {
      "text/plain": [
       "false"
      ]
     },
     "execution_count": 42,
     "metadata": {},
     "output_type": "execute_result"
    }
   ],
   "source": [
    "yearOptional.filter(y -> y != 2016).isPresent()"
   ]
  },
  {
   "cell_type": "code",
   "execution_count": 43,
   "metadata": {},
   "outputs": [],
   "source": [
    "Optional<Integer> optional1 = Optional.ofNullable(null); // This will print \"Optional.empty\".  Optional.of(null); will throw null pointer exception"
   ]
  },
  {
   "cell_type": "code",
   "execution_count": 44,
   "metadata": {},
   "outputs": [
    {
     "data": {
      "text/plain": [
       "Optional.empty"
      ]
     },
     "execution_count": 44,
     "metadata": {},
     "output_type": "execute_result"
    }
   ],
   "source": [
    "optional1"
   ]
  },
  {
   "cell_type": "code",
   "execution_count": 45,
   "metadata": {},
   "outputs": [
    {
     "ename": "EvalException",
     "evalue": "null",
     "output_type": "error",
     "traceback": [
      "\u001b[1m\u001b[31m---------------------------------------------------------------------------\u001b[0m",
      "\u001b[1m\u001b[31mjava.lang.NullPointerException: null\u001b[0m",
      "\u001b[1m\u001b[31m\tat java.base/java.util.Objects.requireNonNull(Objects.java:233)\u001b[0m",
      "\u001b[1m\u001b[31m\tat java.base/java.util.Optional.of(Optional.java:113)\u001b[0m",
      "\u001b[1m\u001b[31m\tat .(#64:1)\u001b[0m"
     ]
    }
   ],
   "source": [
    "Optional<Integer> optional1 = Optional.of(null);"
   ]
  },
  {
   "cell_type": "markdown",
   "metadata": {},
   "source": [
    "# Predicate"
   ]
  },
  {
   "cell_type": "code",
   "execution_count": 46,
   "metadata": {},
   "outputs": [],
   "source": [
    "import java.util.function.Predicate;\n",
    "import java.util.function.BiPredicate;\n",
    "Predicate<String> p = s->(s.length()>5);"
   ]
  },
  {
   "cell_type": "code",
   "execution_count": 47,
   "metadata": {},
   "outputs": [
    {
     "data": {
      "text/plain": [
       "true"
      ]
     },
     "execution_count": 47,
     "metadata": {},
     "output_type": "execute_result"
    }
   ],
   "source": [
    "p.test(\"Hello123\")"
   ]
  },
  {
   "cell_type": "code",
   "execution_count": 48,
   "metadata": {},
   "outputs": [],
   "source": [
    "Predicate<Integer> p1 = i-> i>10;"
   ]
  },
  {
   "cell_type": "code",
   "execution_count": 49,
   "metadata": {},
   "outputs": [
    {
     "data": {
      "text/plain": [
       "false"
      ]
     },
     "execution_count": 49,
     "metadata": {},
     "output_type": "execute_result"
    }
   ],
   "source": [
    "p1.test(8)"
   ]
  },
  {
   "cell_type": "code",
   "execution_count": 50,
   "metadata": {},
   "outputs": [],
   "source": [
    "Predicate<Integer> p2 = i->i%2==0;"
   ]
  },
  {
   "cell_type": "code",
   "execution_count": 51,
   "metadata": {},
   "outputs": [
    {
     "data": {
      "text/plain": [
       "false"
      ]
     },
     "execution_count": 51,
     "metadata": {},
     "output_type": "execute_result"
    }
   ],
   "source": [
    "p1.and(p2).test(13)"
   ]
  },
  {
   "cell_type": "code",
   "execution_count": 52,
   "metadata": {},
   "outputs": [],
   "source": [
    " Predicate<Integer> combinedPredicate = p1.and(p2);"
   ]
  },
  {
   "cell_type": "code",
   "execution_count": 53,
   "metadata": {},
   "outputs": [
    {
     "data": {
      "text/plain": [
       "true"
      ]
     },
     "execution_count": 53,
     "metadata": {},
     "output_type": "execute_result"
    }
   ],
   "source": [
    "combinedPredicate.test(14)"
   ]
  },
  {
   "cell_type": "code",
   "execution_count": 54,
   "metadata": {},
   "outputs": [],
   "source": [
    "BiPredicate<String, String> predicate = String::startsWith;"
   ]
  },
  {
   "cell_type": "code",
   "execution_count": 55,
   "metadata": {},
   "outputs": [
    {
     "data": {
      "text/plain": [
       "true"
      ]
     },
     "execution_count": 55,
     "metadata": {},
     "output_type": "execute_result"
    }
   ],
   "source": [
    "predicate.test(\"Test\",\"Te\")"
   ]
  },
  {
   "cell_type": "code",
   "execution_count": 56,
   "metadata": {},
   "outputs": [],
   "source": [
    "Predicate<Employee> isOld = e -> e.getAge() > 22;"
   ]
  },
  {
   "cell_type": "code",
   "execution_count": 57,
   "metadata": {},
   "outputs": [],
   "source": [
    "Predicate<Employee> isTechnology = e -> e.getDepartment() == Department.TECHNOLOGY;"
   ]
  },
  {
   "cell_type": "code",
   "execution_count": 58,
   "metadata": {},
   "outputs": [
    {
     "name": "stdout",
     "output_type": "stream",
     "text": [
      "first 2 last2: Age: 18 :Department: TECHNOLOGY\n",
      "first 5 last5: Age: 25 :Department: TECHNOLOGY\n"
     ]
    }
   ],
   "source": [
    "employeeListForStreamDemo.stream().filter(isTechnology).forEach(Employee::auditAndUpdate);"
   ]
  },
  {
   "cell_type": "code",
   "execution_count": 59,
   "metadata": {},
   "outputs": [
    {
     "name": "stdout",
     "output_type": "stream",
     "text": [
      "first 5 last5: Age: 25 :Department: TECHNOLOGY\r\n"
     ]
    }
   ],
   "source": [
    "employeeListForStreamDemo.stream().filter(isTechnology).filter(isOld).forEach(Employee::auditAndUpdate);"
   ]
  },
  {
   "cell_type": "code",
   "execution_count": 60,
   "metadata": {},
   "outputs": [],
   "source": [
    "Predicate<String> testStartforVowel = (str) -> str.startsWith(\"a\") || str.startsWith(\"e\") || str.startsWith(\"i\")\n",
    "\t\t\t\t|| str.startsWith(\"o\") || str.startsWith(\"u\");"
   ]
  },
  {
   "cell_type": "code",
   "execution_count": 61,
   "metadata": {},
   "outputs": [
    {
     "data": {
      "text/plain": [
       "true"
      ]
     },
     "execution_count": 61,
     "metadata": {},
     "output_type": "execute_result"
    }
   ],
   "source": [
    "testStartforVowel.test(\"aa\")"
   ]
  },
  {
   "cell_type": "code",
   "execution_count": 62,
   "metadata": {},
   "outputs": [
    {
     "data": {
      "text/plain": [
       "false"
      ]
     },
     "execution_count": 62,
     "metadata": {},
     "output_type": "execute_result"
    }
   ],
   "source": [
    "testStartforVowel.test(\"bb\")"
   ]
  },
  {
   "cell_type": "code",
   "execution_count": 63,
   "metadata": {},
   "outputs": [
    {
     "data": {
      "text/plain": [
       "true"
      ]
     },
     "execution_count": 63,
     "metadata": {},
     "output_type": "execute_result"
    }
   ],
   "source": [
    "testStartforVowel.test(\"aei\")"
   ]
  },
  {
   "cell_type": "markdown",
   "metadata": {},
   "source": [
    "# Consumer"
   ]
  },
  {
   "cell_type": "code",
   "execution_count": 64,
   "metadata": {},
   "outputs": [],
   "source": [
    "import java.util.function.Consumer;\n",
    "import java.util.function.BiConsumer;"
   ]
  },
  {
   "cell_type": "code",
   "execution_count": 65,
   "metadata": {},
   "outputs": [],
   "source": [
    "Consumer<String> printConsumer = s -> System.out.println(s);"
   ]
  },
  {
   "cell_type": "code",
   "execution_count": 66,
   "metadata": {},
   "outputs": [
    {
     "name": "stdout",
     "output_type": "stream",
     "text": [
      "Hello, World!\r\n"
     ]
    }
   ],
   "source": [
    " printConsumer.accept(\"Hello, World!\");"
   ]
  },
  {
   "cell_type": "code",
   "execution_count": 67,
   "metadata": {},
   "outputs": [],
   "source": [
    "BiConsumer<String, Integer> printBiConsumer = (s, i) -> System.out.println(s + \": \" + i);"
   ]
  },
  {
   "cell_type": "code",
   "execution_count": 68,
   "metadata": {},
   "outputs": [
    {
     "name": "stdout",
     "output_type": "stream",
     "text": [
      "Age: 30\r\n"
     ]
    }
   ],
   "source": [
    "printBiConsumer.accept(\"Age\", 30);"
   ]
  },
  {
   "cell_type": "markdown",
   "metadata": {},
   "source": [
    "# Supplier"
   ]
  },
  {
   "cell_type": "code",
   "execution_count": 69,
   "metadata": {},
   "outputs": [
    {
     "ename": "CompilationException",
     "evalue": "",
     "output_type": "error",
     "traceback": [
      "\u001b[1m\u001b[30m|   \u001b[1m\u001b[30m\u001b[0m\u001b[1m\u001b[30m\u001b[41mSupplier\u001b[0m\u001b[1m\u001b[30m<Double> randomValue = () -> Math.random();\u001b[0m",
      "\u001b[1m\u001b[31mcannot find symbol\u001b[0m",
      "\u001b[1m\u001b[31m  symbol:   class Supplier\u001b[0m",
      ""
     ]
    }
   ],
   "source": [
    "Supplier<Double> randomValue = () -> Math.random();"
   ]
  },
  {
   "cell_type": "code",
   "execution_count": 70,
   "metadata": {},
   "outputs": [
    {
     "ename": "CompilationException",
     "evalue": "",
     "output_type": "error",
     "traceback": [
      "\u001b[1m\u001b[30m|   \u001b[1m\u001b[30m\u001b[0m\u001b[1m\u001b[30m\u001b[41mrandomValue\u001b[0m\u001b[1m\u001b[30m.get()\u001b[0m",
      "\u001b[1m\u001b[31mcannot find symbol\u001b[0m",
      "\u001b[1m\u001b[31m  symbol:   variable randomValue\u001b[0m",
      ""
     ]
    }
   ],
   "source": [
    "randomValue.get()"
   ]
  },
  {
   "cell_type": "code",
   "execution_count": 71,
   "metadata": {},
   "outputs": [
    {
     "ename": "CompilationException",
     "evalue": "",
     "output_type": "error",
     "traceback": [
      "\u001b[1m\u001b[30m|   \u001b[1m\u001b[30m\u001b[0m\u001b[1m\u001b[30m\u001b[41mSupplier\u001b[0m\u001b[1m\u001b[30m<String> strSupplier = () -> {\u001b[0m",
      "\u001b[1m\u001b[31mcannot find symbol\u001b[0m",
      "\u001b[1m\u001b[31m  symbol:   class Supplier\u001b[0m",
      ""
     ]
    }
   ],
   "source": [
    "Supplier<String> strSupplier = () -> {\n",
    "\t\t\tString str1 = \"Test string for supplier\";\n",
    "\t\t\treturn str1;\n",
    "\n",
    "\t\t};"
   ]
  },
  {
   "cell_type": "code",
   "execution_count": 72,
   "metadata": {},
   "outputs": [
    {
     "ename": "CompilationException",
     "evalue": "",
     "output_type": "error",
     "traceback": [
      "\u001b[1m\u001b[30m|   \u001b[1m\u001b[30m\u001b[0m\u001b[1m\u001b[30m\u001b[41mstrSupplier\u001b[0m\u001b[1m\u001b[30m.get()\u001b[0m",
      "\u001b[1m\u001b[31mcannot find symbol\u001b[0m",
      "\u001b[1m\u001b[31m  symbol:   variable strSupplier\u001b[0m",
      ""
     ]
    }
   ],
   "source": [
    "strSupplier.get()"
   ]
  },
  {
   "cell_type": "code",
   "execution_count": 73,
   "metadata": {},
   "outputs": [
    {
     "ename": "CompilationException",
     "evalue": "",
     "output_type": "error",
     "traceback": [
      "\u001b[1m\u001b[30m|   \u001b[1m\u001b[30m\t\t\u001b[0m\u001b[1m\u001b[30m\u001b[41mIntSupplier\u001b[0m\u001b[1m\u001b[30m intSupplier = () -> {\u001b[0m",
      "\u001b[1m\u001b[31mcannot find symbol\u001b[0m",
      "\u001b[1m\u001b[31m  symbol:   class IntSupplier\u001b[0m",
      ""
     ]
    }
   ],
   "source": [
    "// IntSupplier\n",
    "\t\tIntSupplier intSupplier = () -> {\n",
    "\t\t\tint i = 25;\n",
    "\t\t\treturn i;\n",
    "\t\t};"
   ]
  },
  {
   "cell_type": "code",
   "execution_count": 74,
   "metadata": {},
   "outputs": [
    {
     "ename": "CompilationException",
     "evalue": "",
     "output_type": "error",
     "traceback": [
      "\u001b[1m\u001b[30m|   \u001b[1m\u001b[30m\u001b[0m\u001b[1m\u001b[30m\u001b[41mintSupplier\u001b[0m\u001b[1m\u001b[30m.getAsInt()\u001b[0m",
      "\u001b[1m\u001b[31mcannot find symbol\u001b[0m",
      "\u001b[1m\u001b[31m  symbol:   variable intSupplier\u001b[0m",
      ""
     ]
    }
   ],
   "source": [
    "intSupplier.getAsInt()"
   ]
  },
  {
   "cell_type": "markdown",
   "metadata": {},
   "source": [
    "# BinaryOperator"
   ]
  },
  {
   "cell_type": "code",
   "execution_count": 75,
   "metadata": {},
   "outputs": [],
   "source": [
    "import java.util.function.BinaryOperator;"
   ]
  },
  {
   "cell_type": "code",
   "execution_count": 76,
   "metadata": {},
   "outputs": [],
   "source": [
    "BinaryOperator<String> concatenate = (s1, s2) -> s1 + s2;"
   ]
  },
  {
   "cell_type": "code",
   "execution_count": 77,
   "metadata": {},
   "outputs": [
    {
     "data": {
      "text/plain": [
       "Hello:World"
      ]
     },
     "execution_count": 77,
     "metadata": {},
     "output_type": "execute_result"
    }
   ],
   "source": [
    "concatenate.apply(\"Hello:\",\"World\")"
   ]
  },
  {
   "cell_type": "markdown",
   "metadata": {},
   "source": [
    "# Collections"
   ]
  },
  {
   "cell_type": "markdown",
   "metadata": {},
   "source": [
    "![](pictures/collections1.png)"
   ]
  },
  {
   "cell_type": "markdown",
   "metadata": {},
   "source": [
    "![](pictures/map1.png)"
   ]
  },
  {
   "cell_type": "markdown",
   "metadata": {},
   "source": [
    "![](pictures/map2.png)"
   ]
  },
  {
   "cell_type": "markdown",
   "metadata": {},
   "source": [
    "![](pictures/queue1.png)"
   ]
  },
  {
   "cell_type": "code",
   "execution_count": 78,
   "metadata": {},
   "outputs": [],
   "source": [
    "int[] array1 = { 40, 10, 15, 7 };"
   ]
  },
  {
   "cell_type": "code",
   "execution_count": 79,
   "metadata": {},
   "outputs": [
    {
     "name": "stdout",
     "output_type": "stream",
     "text": [
      "40\n",
      "10\n",
      "15\n",
      "7\n"
     ]
    }
   ],
   "source": [
    "for (int i :array1) {\n",
    "    System.out.println(i);\n",
    "}"
   ]
  },
  {
   "cell_type": "code",
   "execution_count": 80,
   "metadata": {},
   "outputs": [],
   "source": [
    "Arrays.sort(array1);"
   ]
  },
  {
   "cell_type": "markdown",
   "metadata": {},
   "source": [
    "## List"
   ]
  },
  {
   "cell_type": "code",
   "execution_count": 81,
   "metadata": {},
   "outputs": [
    {
     "name": "stdout",
     "output_type": "stream",
     "text": [
      "7\n",
      "10\n",
      "15\n",
      "40\n"
     ]
    }
   ],
   "source": [
    "for (int i :array1) {\n",
    "    System.out.println(i);\n",
    "}"
   ]
  },
  {
   "cell_type": "code",
   "execution_count": 82,
   "metadata": {},
   "outputs": [
    {
     "data": {
      "text/plain": [
       "true"
      ]
     },
     "execution_count": 82,
     "metadata": {},
     "output_type": "execute_result"
    }
   ],
   "source": [
    "List<Integer> list2 = new ArrayList<>();\n",
    "list2.add(10);\n",
    "list2.add(8);\n",
    "list2.add(50);\n",
    "list2.add(78);"
   ]
  },
  {
   "cell_type": "code",
   "execution_count": 83,
   "metadata": {},
   "outputs": [
    {
     "data": {
      "text/plain": [
       "[10, 8, 50, 78]"
      ]
     },
     "execution_count": 83,
     "metadata": {},
     "output_type": "execute_result"
    }
   ],
   "source": [
    "list2"
   ]
  },
  {
   "cell_type": "code",
   "execution_count": 84,
   "metadata": {},
   "outputs": [],
   "source": [
    "Collections.reverse(list2);"
   ]
  },
  {
   "cell_type": "code",
   "execution_count": 85,
   "metadata": {},
   "outputs": [
    {
     "data": {
      "text/plain": [
       "[78, 50, 8, 10]"
      ]
     },
     "execution_count": 85,
     "metadata": {},
     "output_type": "execute_result"
    }
   ],
   "source": [
    "list2"
   ]
  },
  {
   "cell_type": "code",
   "execution_count": 86,
   "metadata": {},
   "outputs": [],
   "source": [
    "Collections.sort(list2);"
   ]
  },
  {
   "cell_type": "code",
   "execution_count": 87,
   "metadata": {},
   "outputs": [
    {
     "data": {
      "text/plain": [
       "[8, 10, 50, 78]"
      ]
     },
     "execution_count": 87,
     "metadata": {},
     "output_type": "execute_result"
    }
   ],
   "source": [
    "list2"
   ]
  },
  {
   "cell_type": "code",
   "execution_count": 88,
   "metadata": {},
   "outputs": [
    {
     "data": {
      "text/plain": [
       "8"
      ]
     },
     "execution_count": 88,
     "metadata": {},
     "output_type": "execute_result"
    }
   ],
   "source": [
    "Collections.min(list2);"
   ]
  },
  {
   "cell_type": "code",
   "execution_count": 89,
   "metadata": {},
   "outputs": [
    {
     "data": {
      "text/plain": [
       "78"
      ]
     },
     "execution_count": 89,
     "metadata": {},
     "output_type": "execute_result"
    }
   ],
   "source": [
    "Collections.max(list2);"
   ]
  },
  {
   "cell_type": "code",
   "execution_count": 90,
   "metadata": {},
   "outputs": [],
   "source": [
    "public class MyStringComparator implements Comparator<String> {\n",
    "\n",
    "\t@Override\n",
    "\tpublic int compare(String o1, String o2) {\n",
    "\t\treturn o1.compareTo(o2);\n",
    "\t}\n",
    "\n",
    "}"
   ]
  },
  {
   "cell_type": "code",
   "execution_count": 91,
   "metadata": {},
   "outputs": [
    {
     "data": {
      "text/plain": [
       "true"
      ]
     },
     "execution_count": 91,
     "metadata": {},
     "output_type": "execute_result"
    }
   ],
   "source": [
    "List<String> list3 = new ArrayList<>();\n",
    "list3.add(\"Z\");\n",
    "list3.add(\"A\");\n",
    "list3.add(\"X\");\n",
    "list3.add(\"B\");"
   ]
  },
  {
   "cell_type": "code",
   "execution_count": 92,
   "metadata": {},
   "outputs": [
    {
     "data": {
      "text/plain": [
       "[Z, A, X, B]"
      ]
     },
     "execution_count": 92,
     "metadata": {},
     "output_type": "execute_result"
    }
   ],
   "source": [
    "list3"
   ]
  },
  {
   "cell_type": "code",
   "execution_count": 93,
   "metadata": {},
   "outputs": [],
   "source": [
    "list3.add(2, \"JJ\");"
   ]
  },
  {
   "cell_type": "code",
   "execution_count": 94,
   "metadata": {},
   "outputs": [
    {
     "data": {
      "text/plain": [
       "[Z, A, JJ, X, B]"
      ]
     },
     "execution_count": 94,
     "metadata": {},
     "output_type": "execute_result"
    }
   ],
   "source": [
    "list3"
   ]
  },
  {
   "cell_type": "code",
   "execution_count": 95,
   "metadata": {},
   "outputs": [
    {
     "data": {
      "text/plain": [
       "JJ"
      ]
     },
     "execution_count": 95,
     "metadata": {},
     "output_type": "execute_result"
    }
   ],
   "source": [
    "list3.set(2, \"YY\");"
   ]
  },
  {
   "cell_type": "code",
   "execution_count": 96,
   "metadata": {},
   "outputs": [
    {
     "data": {
      "text/plain": [
       "[Z, A, YY, X, B]"
      ]
     },
     "execution_count": 96,
     "metadata": {},
     "output_type": "execute_result"
    }
   ],
   "source": [
    "list3"
   ]
  },
  {
   "cell_type": "code",
   "execution_count": 97,
   "metadata": {},
   "outputs": [],
   "source": [
    "Collections.sort(list3);"
   ]
  },
  {
   "cell_type": "code",
   "execution_count": 98,
   "metadata": {},
   "outputs": [
    {
     "data": {
      "text/plain": [
       "[A, B, X, YY, Z]"
      ]
     },
     "execution_count": 98,
     "metadata": {},
     "output_type": "execute_result"
    }
   ],
   "source": [
    "list3"
   ]
  },
  {
   "cell_type": "code",
   "execution_count": 99,
   "metadata": {},
   "outputs": [],
   "source": [
    "Collections.sort(list3, new MyStringComparator());"
   ]
  },
  {
   "cell_type": "code",
   "execution_count": 100,
   "metadata": {},
   "outputs": [
    {
     "data": {
      "text/plain": [
       "[A, B, X, YY, Z]"
      ]
     },
     "execution_count": 100,
     "metadata": {},
     "output_type": "execute_result"
    }
   ],
   "source": [
    "list3"
   ]
  },
  {
   "cell_type": "code",
   "execution_count": 101,
   "metadata": {},
   "outputs": [],
   "source": [
    "int result = Collections.binarySearch(list3, \"C\");\t"
   ]
  },
  {
   "cell_type": "code",
   "execution_count": 102,
   "metadata": {},
   "outputs": [
    {
     "data": {
      "text/plain": [
       "-3"
      ]
     },
     "execution_count": 102,
     "metadata": {},
     "output_type": "execute_result"
    }
   ],
   "source": [
    "result"
   ]
  },
  {
   "cell_type": "code",
   "execution_count": 103,
   "metadata": {},
   "outputs": [],
   "source": [
    "int result = Collections.binarySearch(list3, \"X\");\t"
   ]
  },
  {
   "cell_type": "code",
   "execution_count": 104,
   "metadata": {},
   "outputs": [
    {
     "data": {
      "text/plain": [
       "2"
      ]
     },
     "execution_count": 104,
     "metadata": {},
     "output_type": "execute_result"
    }
   ],
   "source": [
    "result"
   ]
  },
  {
   "cell_type": "code",
   "execution_count": 105,
   "metadata": {},
   "outputs": [],
   "source": [
    "// LinkedList\n",
    "List<String> list = new LinkedList<>();"
   ]
  },
  {
   "cell_type": "code",
   "execution_count": 106,
   "metadata": {},
   "outputs": [
    {
     "data": {
      "text/plain": [
       "true"
      ]
     },
     "execution_count": 106,
     "metadata": {},
     "output_type": "execute_result"
    }
   ],
   "source": [
    "list.add(\"abc\");\n",
    "list.add(\"def\");\n",
    "list.add(\"xyz\");"
   ]
  },
  {
   "cell_type": "code",
   "execution_count": 107,
   "metadata": {},
   "outputs": [],
   "source": [
    "ListIterator<String> itr = list.listIterator();"
   ]
  },
  {
   "cell_type": "code",
   "execution_count": 108,
   "metadata": {},
   "outputs": [
    {
     "name": "stdout",
     "output_type": "stream",
     "text": [
      "abc\n",
      "def\n",
      "xyz\n"
     ]
    }
   ],
   "source": [
    "while (itr.hasNext()) {\n",
    "    System.out.println(itr.next());\n",
    "}"
   ]
  },
  {
   "cell_type": "code",
   "execution_count": 109,
   "metadata": {},
   "outputs": [
    {
     "name": "stdout",
     "output_type": "stream",
     "text": [
      "xyz\n",
      "def\n",
      "abc\n"
     ]
    }
   ],
   "source": [
    "// Reverse Iterator\n",
    "while (itr.hasPrevious()) {\n",
    "    System.out.println(itr.previous());\n",
    "}"
   ]
  },
  {
   "cell_type": "markdown",
   "metadata": {},
   "source": [
    ". LinkedList takes more time for insertion "
   ]
  },
  {
   "cell_type": "code",
   "execution_count": 110,
   "metadata": {},
   "outputs": [],
   "source": [
    "//Object objects[] = new Object[1000000];\n",
    "Object objects[] = new Object[1000];\n",
    "\n",
    "for (int i = 0; i < objects.length; i++) {\n",
    "objects[i] = new Object();\n",
    "}"
   ]
  },
  {
   "cell_type": "code",
   "execution_count": 111,
   "metadata": {},
   "outputs": [
    {
     "name": "stdout",
     "output_type": "stream",
     "text": [
      "Time Taken for updatting List:30\n",
      "Time Taken for updatting LIkedList:24\n"
     ]
    }
   ],
   "source": [
    "List<Object> list4 = new ArrayList<>();\n",
    "long start = System.currentTimeMillis();\n",
    "for (Object object : objects) {\n",
    "    list4.add(object);\n",
    "}\n",
    "long end = System.currentTimeMillis();\n",
    "System.out.println(\"Time Taken for updatting List:\" + (end - start));\n",
    "\n",
    "List<Object> linkedList = new LinkedList<>();\n",
    "start = System.currentTimeMillis();\n",
    "for (Object object : objects) {\n",
    "    linkedList.add(object);\n",
    "}\n",
    "end = System.currentTimeMillis();\n",
    "System.out.println(\"Time Taken for updatting LIkedList:\" + (end - start));"
   ]
  },
  {
   "cell_type": "markdown",
   "metadata": {},
   "source": [
    "* CopyOnWriteArrayList can be used to modify an interator"
   ]
  },
  {
   "cell_type": "code",
   "execution_count": 112,
   "metadata": {},
   "outputs": [],
   "source": [
    "CopyOnWriteArrayList<String> list = new CopyOnWriteArrayList<>();"
   ]
  },
  {
   "cell_type": "code",
   "execution_count": 113,
   "metadata": {},
   "outputs": [
    {
     "data": {
      "text/plain": [
       "true"
      ]
     },
     "execution_count": 113,
     "metadata": {},
     "output_type": "execute_result"
    }
   ],
   "source": [
    "list.add(\"str1\");\n",
    "list.add(\"str2\")"
   ]
  },
  {
   "cell_type": "code",
   "execution_count": 114,
   "metadata": {},
   "outputs": [
    {
     "data": {
      "text/plain": [
       "true"
      ]
     },
     "execution_count": 114,
     "metadata": {},
     "output_type": "execute_result"
    }
   ],
   "source": [
    "Iterator<String> iterator = list.iterator();\n",
    "// below line will through java.util.ConcurrentModificationException with regular ArrayList\n",
    "list.add(\"str3\");"
   ]
  },
  {
   "cell_type": "code",
   "execution_count": 115,
   "metadata": {},
   "outputs": [
    {
     "name": "stdout",
     "output_type": "stream",
     "text": [
      "#### First iterator####\n",
      "str1\n",
      "str2\n"
     ]
    }
   ],
   "source": [
    "System.out.println(\"#### First iterator####\");\n",
    "\t\twhile (iterator.hasNext()) {\n",
    "\t\t\tSystem.out.println(iterator.next());\n",
    "\t\t}"
   ]
  },
  {
   "cell_type": "code",
   "execution_count": 116,
   "metadata": {},
   "outputs": [
    {
     "name": "stdout",
     "output_type": "stream",
     "text": [
      "#### Second iterator####\n",
      "str1\n",
      "str2\n",
      "str3\n"
     ]
    }
   ],
   "source": [
    "System.out.println(\"#### Second iterator####\");\n",
    "\t\tIterator<String> iterator2 = list.iterator();\n",
    "\t\twhile (iterator2.hasNext()) {\n",
    "\t\t\tSystem.out.println(iterator2.next());\n",
    "\t\t}"
   ]
  },
  {
   "cell_type": "markdown",
   "metadata": {},
   "source": [
    "* Collections.unmodifiableList"
   ]
  },
  {
   "cell_type": "code",
   "execution_count": 117,
   "metadata": {},
   "outputs": [],
   "source": [
    "// Can't modify unmodifiableList\n",
    "List<String> strList1 = new ArrayList<String>();\n",
    "\t\tstrList1.add(\"str4\");\n",
    "\t\tstrList1.add(\"str5\");\n",
    "\t\tList<String> strList2 = Collections.unmodifiableList(strList1);\n",
    "\t\ttry {\n",
    "\t\t\t// below line will throw exception\n",
    "// \t\t\tstrList2.add(\"t\");\n",
    "\n",
    "\t\t} catch (Exception e) {\n",
    "\t\t\te.printStackTrace();\n",
    "\t\t}"
   ]
  },
  {
   "cell_type": "code",
   "execution_count": 118,
   "metadata": {},
   "outputs": [
    {
     "name": "stdout",
     "output_type": "stream",
     "text": [
      "RIF"
     ]
    }
   ],
   "source": [
    "List<String> list = Arrays.asList(\"T\", \"S\", \"R\", \"I\", \"F\");\n",
    "        ListIterator<String> iter = list.listIterator(2);\n",
    "       while(iter.hasNext()) {\n",
    "            System.out.print(iter.next());\n",
    "       }"
   ]
  },
  {
   "cell_type": "markdown",
   "metadata": {},
   "source": [
    "* listIterator(index); method allows to have the starting point at any index. Allowed values are between 0 and size of the list."
   ]
  },
  {
   "cell_type": "markdown",
   "metadata": {},
   "source": [
    "## Map"
   ]
  },
  {
   "cell_type": "code",
   "execution_count": 119,
   "metadata": {},
   "outputs": [],
   "source": [
    "Map<String, Integer> map = new HashMap<>();"
   ]
  },
  {
   "cell_type": "code",
   "execution_count": 120,
   "metadata": {},
   "outputs": [],
   "source": [
    "map.put(\"John\", 70);\n",
    "map.put(\"Tom\", 60);"
   ]
  },
  {
   "cell_type": "code",
   "execution_count": 121,
   "metadata": {},
   "outputs": [],
   "source": [
    "Set<String> keySet = map.keySet();"
   ]
  },
  {
   "cell_type": "code",
   "execution_count": 122,
   "metadata": {},
   "outputs": [
    {
     "data": {
      "text/plain": [
       "[Tom, John]"
      ]
     },
     "execution_count": 122,
     "metadata": {},
     "output_type": "execute_result"
    }
   ],
   "source": [
    "keySet"
   ]
  },
  {
   "cell_type": "code",
   "execution_count": 123,
   "metadata": {},
   "outputs": [],
   "source": [
    "Collection<Integer> values = map.values();"
   ]
  },
  {
   "cell_type": "code",
   "execution_count": 124,
   "metadata": {},
   "outputs": [
    {
     "data": {
      "text/plain": [
       "[60, 70]"
      ]
     },
     "execution_count": 124,
     "metadata": {},
     "output_type": "execute_result"
    }
   ],
   "source": [
    "values"
   ]
  },
  {
   "cell_type": "code",
   "execution_count": 125,
   "metadata": {},
   "outputs": [
    {
     "name": "stdout",
     "output_type": "stream",
     "text": [
      "Key:Tom Value:60\n",
      "Key:John Value:70\n"
     ]
    }
   ],
   "source": [
    "for (String key : keySet) {\n",
    "\tSystem.out.println(\"Key:\" + key + \" Value:\" + map.get(key));\n",
    "}"
   ]
  },
  {
   "cell_type": "code",
   "execution_count": 126,
   "metadata": {},
   "outputs": [
    {
     "name": "stdout",
     "output_type": "stream",
     "text": [
      "Key: Tom, Value: 60\n",
      "Key: John, Value: 70\n"
     ]
    }
   ],
   "source": [
    "for (Map.Entry<String, Integer> entry : map.entrySet()) {\n",
    "            String key = entry.getKey();\n",
    "            Integer value = entry.getValue();\n",
    "            System.out.println(\"Key: \" + key + \", Value: \" + value);\n",
    "\n",
    "}"
   ]
  },
  {
   "cell_type": "code",
   "execution_count": 127,
   "metadata": {},
   "outputs": [],
   "source": [
    "// IdentityHashMap uses the == for keys. .equals()\n",
    "Map<String, String> identityHashMap = new IdentityHashMap<>();\n",
    "String key1 = new String(\"key\");\n",
    "String key2 = new String(\"key\");"
   ]
  },
  {
   "cell_type": "code",
   "execution_count": 128,
   "metadata": {},
   "outputs": [],
   "source": [
    "identityHashMap.put(key1, \"value1\");\n",
    "identityHashMap.put(key2, \"value2\");"
   ]
  },
  {
   "cell_type": "code",
   "execution_count": 129,
   "metadata": {},
   "outputs": [
    {
     "data": {
      "text/plain": [
       "2"
      ]
     },
     "execution_count": 129,
     "metadata": {},
     "output_type": "execute_result"
    }
   ],
   "source": [
    "identityHashMap.size()"
   ]
  },
  {
   "cell_type": "markdown",
   "metadata": {},
   "source": [
    "* LinkedHashMap preserves the order in which keys are added"
   ]
  },
  {
   "cell_type": "markdown",
   "metadata": {},
   "source": [
    "* WeakHashMap: If the keys are referenced nowhere else, GC can remove the key from memory"
   ]
  },
  {
   "cell_type": "code",
   "execution_count": 130,
   "metadata": {},
   "outputs": [],
   "source": [
    "NavigableMap<Integer, String> map = new TreeMap<>();\n",
    "        map.put(1, \"One\");\n",
    "        map.put(2, \"Two\");\n",
    "        map.put(3, \"Three\");"
   ]
  },
  {
   "cell_type": "code",
   "execution_count": 131,
   "metadata": {},
   "outputs": [
    {
     "data": {
      "text/plain": [
       "{1=One, 2=Two, 3=Three}"
      ]
     },
     "execution_count": 131,
     "metadata": {},
     "output_type": "execute_result"
    }
   ],
   "source": [
    "map"
   ]
  },
  {
   "cell_type": "code",
   "execution_count": 132,
   "metadata": {},
   "outputs": [
    {
     "data": {
      "text/plain": [
       "{3=Three, 2=Two, 1=One}"
      ]
     },
     "execution_count": 132,
     "metadata": {},
     "output_type": "execute_result"
    }
   ],
   "source": [
    "map.descendingMap()"
   ]
  },
  {
   "cell_type": "code",
   "execution_count": 133,
   "metadata": {},
   "outputs": [
    {
     "data": {
      "text/plain": [
       "2=Two"
      ]
     },
     "execution_count": 133,
     "metadata": {},
     "output_type": "execute_result"
    }
   ],
   "source": [
    "map.ceilingEntry(2)"
   ]
  },
  {
   "cell_type": "code",
   "execution_count": 134,
   "metadata": {},
   "outputs": [
    {
     "data": {
      "text/plain": [
       "2=Two"
      ]
     },
     "execution_count": 134,
     "metadata": {},
     "output_type": "execute_result"
    }
   ],
   "source": [
    " map.floorEntry(2)"
   ]
  },
  {
   "cell_type": "code",
   "execution_count": 135,
   "metadata": {},
   "outputs": [
    {
     "data": {
      "text/plain": [
       "3=Three"
      ]
     },
     "execution_count": 135,
     "metadata": {},
     "output_type": "execute_result"
    }
   ],
   "source": [
    "map.higherEntry(2)"
   ]
  },
  {
   "cell_type": "code",
   "execution_count": 136,
   "metadata": {},
   "outputs": [
    {
     "data": {
      "text/plain": [
       "1=One"
      ]
     },
     "execution_count": 136,
     "metadata": {},
     "output_type": "execute_result"
    }
   ],
   "source": [
    "map.lowerEntry(2)"
   ]
  },
  {
   "cell_type": "code",
   "execution_count": 137,
   "metadata": {},
   "outputs": [
    {
     "data": {
      "text/plain": [
       "{1=One, 2=Two, 3=Three}"
      ]
     },
     "execution_count": 137,
     "metadata": {},
     "output_type": "execute_result"
    }
   ],
   "source": [
    "map.subMap(1, true, 3, true)"
   ]
  },
  {
   "cell_type": "markdown",
   "metadata": {},
   "source": [
    "## Set"
   ]
  },
  {
   "cell_type": "markdown",
   "metadata": {},
   "source": [
    "* NavigableTreeSet is implemented by TreeSet. TreeSet maintains the natural order"
   ]
  },
  {
   "cell_type": "code",
   "execution_count": 138,
   "metadata": {},
   "outputs": [
    {
     "data": {
      "text/plain": [
       "true"
      ]
     },
     "execution_count": 138,
     "metadata": {},
     "output_type": "execute_result"
    }
   ],
   "source": [
    "TreeSet<Integer> s = new TreeSet<Integer>();\n",
    "\n",
    "s.add(10);\n",
    "s.add(20);\n",
    "s.add(50);\n",
    "s.add(40);\n",
    "s.add(30);"
   ]
  },
  {
   "cell_type": "code",
   "execution_count": 139,
   "metadata": {},
   "outputs": [
    {
     "data": {
      "text/plain": [
       "[10, 20, 30, 40, 50]"
      ]
     },
     "execution_count": 139,
     "metadata": {},
     "output_type": "execute_result"
    }
   ],
   "source": [
    "s"
   ]
  },
  {
   "cell_type": "code",
   "execution_count": 140,
   "metadata": {},
   "outputs": [
    {
     "data": {
      "text/plain": [
       "20"
      ]
     },
     "execution_count": 140,
     "metadata": {},
     "output_type": "execute_result"
    }
   ],
   "source": [
    "s.ceiling(20)"
   ]
  },
  {
   "cell_type": "code",
   "execution_count": 141,
   "metadata": {},
   "outputs": [
    {
     "data": {
      "text/plain": [
       "20"
      ]
     },
     "execution_count": 141,
     "metadata": {},
     "output_type": "execute_result"
    }
   ],
   "source": [
    "s.floor(20)"
   ]
  },
  {
   "cell_type": "code",
   "execution_count": 142,
   "metadata": {},
   "outputs": [
    {
     "data": {
      "text/plain": [
       "20"
      ]
     },
     "execution_count": 142,
     "metadata": {},
     "output_type": "execute_result"
    }
   ],
   "source": [
    "s.lower(30)"
   ]
  },
  {
   "cell_type": "code",
   "execution_count": 143,
   "metadata": {},
   "outputs": [
    {
     "data": {
      "text/plain": [
       "10"
      ]
     },
     "execution_count": 143,
     "metadata": {},
     "output_type": "execute_result"
    }
   ],
   "source": [
    "s.pollFirst()"
   ]
  },
  {
   "cell_type": "code",
   "execution_count": 144,
   "metadata": {},
   "outputs": [
    {
     "data": {
      "text/plain": [
       "50"
      ]
     },
     "execution_count": 144,
     "metadata": {},
     "output_type": "execute_result"
    }
   ],
   "source": [
    "s.pollLast()"
   ]
  },
  {
   "cell_type": "code",
   "execution_count": 145,
   "metadata": {},
   "outputs": [
    {
     "data": {
      "text/plain": [
       "[40, 30, 20]"
      ]
     },
     "execution_count": 145,
     "metadata": {},
     "output_type": "execute_result"
    }
   ],
   "source": [
    "s.descendingSet()"
   ]
  },
  {
   "cell_type": "markdown",
   "metadata": {},
   "source": [
    "* HashSet doesn't maintain the order of insertion. Also it doesn't store in the sort order"
   ]
  },
  {
   "cell_type": "code",
   "execution_count": 146,
   "metadata": {},
   "outputs": [
    {
     "data": {
      "text/plain": [
       "true"
      ]
     },
     "execution_count": 146,
     "metadata": {},
     "output_type": "execute_result"
    }
   ],
   "source": [
    " Set<String> hashSet = new HashSet<>();\n",
    " hashSet.add(\"apple\");\n",
    " hashSet.add(\"banana\");\n",
    " hashSet.add(\"cherry\");\n",
    " hashSet.add(\"date\");"
   ]
  },
  {
   "cell_type": "code",
   "execution_count": 147,
   "metadata": {},
   "outputs": [
    {
     "data": {
      "text/plain": [
       "[banana, date, apple, cherry]"
      ]
     },
     "execution_count": 147,
     "metadata": {},
     "output_type": "execute_result"
    }
   ],
   "source": [
    "hashSet"
   ]
  },
  {
   "cell_type": "code",
   "execution_count": 148,
   "metadata": {},
   "outputs": [],
   "source": [
    "public class Employee implements Comparable<Employee> {\n",
    "\n",
    "\tint id;\n",
    "\tString name;\n",
    "\n",
    "\tEmployee(int id, String name) {\n",
    "\t\tthis.id = id;\n",
    "\t\tthis.name = name;\n",
    "\t}\n",
    "\n",
    "\t@Override\n",
    "\tpublic int compareTo(Employee o) {\n",
    "\n",
    "\t\tint id1 = this.id;\n",
    "\t\tint id2 = o.id;\n",
    "\n",
    "\t\tif (id1 < id2) {\n",
    "\t\t\treturn -1;\n",
    "\t\t} else if (id1 > id2) {\n",
    "\t\t\treturn 1;\n",
    "\t\t} else {\n",
    "\t\t\treturn 0;\n",
    "\t\t}\n",
    "\n",
    "\t}\n",
    "\n",
    "}"
   ]
  },
  {
   "cell_type": "code",
   "execution_count": 149,
   "metadata": {},
   "outputs": [],
   "source": [
    "public class EmployeeNameComparator implements Comparator<Employee> {\n",
    "\n",
    "\t@Override\n",
    "\tpublic int compare(Employee o1, Employee o2) {\n",
    "\t\treturn o1.name.compareTo(o2.name);\n",
    "\t}\n",
    "\n",
    "}"
   ]
  },
  {
   "cell_type": "code",
   "execution_count": 150,
   "metadata": {},
   "outputs": [
    {
     "data": {
      "text/plain": [
       "true"
      ]
     },
     "execution_count": 150,
     "metadata": {},
     "output_type": "execute_result"
    }
   ],
   "source": [
    "Set<Employee> set = new TreeSet<>(new EmployeeNameComparator());\n",
    "\t\tset.add(new Employee(100, \"Obama\"));\n",
    "\t\tset.add(new Employee(400, \"Tom\"));\n",
    "\t\tset.add(new Employee(300, \"Bharath\"));"
   ]
  },
  {
   "cell_type": "code",
   "execution_count": 151,
   "metadata": {},
   "outputs": [
    {
     "name": "stdout",
     "output_type": "stream",
     "text": [
      "300 : Bharath\n",
      "100 : Obama\n",
      "400 : Tom\n"
     ]
    }
   ],
   "source": [
    "for (Employee employee : set) {\n",
    "\t\t\tSystem.out.println(employee.id +\" : \"+employee.name);\n",
    "}"
   ]
  },
  {
   "cell_type": "markdown",
   "metadata": {},
   "source": [
    "## Queue"
   ]
  },
  {
   "cell_type": "code",
   "execution_count": 152,
   "metadata": {},
   "outputs": [],
   "source": [
    "Queue<Integer> q = new PriorityQueue<>();"
   ]
  },
  {
   "cell_type": "code",
   "execution_count": 153,
   "metadata": {},
   "outputs": [
    {
     "name": "stdout",
     "output_type": "stream",
     "text": [
      "null\r\n"
     ]
    }
   ],
   "source": [
    "System.out.println(q.peek());"
   ]
  },
  {
   "cell_type": "code",
   "execution_count": 154,
   "metadata": {},
   "outputs": [],
   "source": [
    "for (int i = 0; i < 5; i++) {\n",
    "    q.offer(i);\n",
    "}"
   ]
  },
  {
   "cell_type": "code",
   "execution_count": 155,
   "metadata": {},
   "outputs": [
    {
     "data": {
      "text/plain": [
       "[0, 1, 2, 3, 4]"
      ]
     },
     "execution_count": 155,
     "metadata": {},
     "output_type": "execute_result"
    }
   ],
   "source": [
    "q"
   ]
  },
  {
   "cell_type": "code",
   "execution_count": 156,
   "metadata": {},
   "outputs": [
    {
     "data": {
      "text/plain": [
       "0"
      ]
     },
     "execution_count": 156,
     "metadata": {},
     "output_type": "execute_result"
    }
   ],
   "source": [
    "q.poll()"
   ]
  },
  {
   "cell_type": "code",
   "execution_count": 157,
   "metadata": {},
   "outputs": [
    {
     "data": {
      "text/plain": [
       "1"
      ]
     },
     "execution_count": 157,
     "metadata": {},
     "output_type": "execute_result"
    }
   ],
   "source": [
    "q.poll()"
   ]
  },
  {
   "cell_type": "code",
   "execution_count": 158,
   "metadata": {},
   "outputs": [
    {
     "data": {
      "text/plain": [
       "2"
      ]
     },
     "execution_count": 158,
     "metadata": {},
     "output_type": "execute_result"
    }
   ],
   "source": [
    "q.remove()"
   ]
  },
  {
   "cell_type": "code",
   "execution_count": 159,
   "metadata": {},
   "outputs": [
    {
     "data": {
      "text/plain": [
       "3"
      ]
     },
     "execution_count": 159,
     "metadata": {},
     "output_type": "execute_result"
    }
   ],
   "source": [
    "q.peek()"
   ]
  },
  {
   "cell_type": "code",
   "execution_count": 160,
   "metadata": {},
   "outputs": [
    {
     "data": {
      "text/plain": [
       "[3, 4]"
      ]
     },
     "execution_count": 160,
     "metadata": {},
     "output_type": "execute_result"
    }
   ],
   "source": [
    "q"
   ]
  },
  {
   "cell_type": "code",
   "execution_count": 161,
   "metadata": {},
   "outputs": [],
   "source": [
    "class PQsort implements Comparator<Integer> {\n",
    "\tpublic int compare(Integer one, Integer two) {\n",
    "\t\treturn two - one;\n",
    "\t}\n",
    "   }"
   ]
  },
  {
   "cell_type": "code",
   "execution_count": 162,
   "metadata": {},
   "outputs": [],
   "source": [
    "int[] ia = { 1, 5, 3, 7, 6, 9, 8 };"
   ]
  },
  {
   "cell_type": "code",
   "execution_count": 163,
   "metadata": {},
   "outputs": [],
   "source": [
    "PQsort pqs = new PQsort();\n",
    "\t\tPriorityQueue<Integer> pq2 = new PriorityQueue<Integer>(10, pqs);\n",
    "\t\tfor (int x : ia)\n",
    "\t\t\tpq2.offer(x);"
   ]
  },
  {
   "cell_type": "code",
   "execution_count": 164,
   "metadata": {},
   "outputs": [
    {
     "data": {
      "text/plain": [
       "7"
      ]
     },
     "execution_count": 164,
     "metadata": {},
     "output_type": "execute_result"
    }
   ],
   "source": [
    "pq2.size()"
   ]
  },
  {
   "cell_type": "code",
   "execution_count": 165,
   "metadata": {},
   "outputs": [
    {
     "data": {
      "text/plain": [
       "9"
      ]
     },
     "execution_count": 165,
     "metadata": {},
     "output_type": "execute_result"
    }
   ],
   "source": [
    "pq2.peek()"
   ]
  },
  {
   "cell_type": "code",
   "execution_count": 166,
   "metadata": {},
   "outputs": [
    {
     "data": {
      "text/plain": [
       "7"
      ]
     },
     "execution_count": 166,
     "metadata": {},
     "output_type": "execute_result"
    }
   ],
   "source": [
    "pq2.size()"
   ]
  },
  {
   "cell_type": "code",
   "execution_count": 167,
   "metadata": {},
   "outputs": [
    {
     "data": {
      "text/plain": [
       "9"
      ]
     },
     "execution_count": 167,
     "metadata": {},
     "output_type": "execute_result"
    }
   ],
   "source": [
    "pq2.poll()"
   ]
  },
  {
   "cell_type": "code",
   "execution_count": 168,
   "metadata": {},
   "outputs": [
    {
     "data": {
      "text/plain": [
       "6"
      ]
     },
     "execution_count": 168,
     "metadata": {},
     "output_type": "execute_result"
    }
   ],
   "source": [
    "pq2.size()"
   ]
  },
  {
   "cell_type": "code",
   "execution_count": 169,
   "metadata": {},
   "outputs": [
    {
     "name": "stdout",
     "output_type": "stream",
     "text": [
      "8 7 6 5 3 1 null "
     ]
    }
   ],
   "source": [
    "for (int x : ia)\n",
    "\t\t\tSystem.out.print(pq2.poll() + \" \");"
   ]
  },
  {
   "cell_type": "markdown",
   "metadata": {},
   "source": [
    "# Functional Programming"
   ]
  },
  {
   "cell_type": "markdown",
   "metadata": {},
   "source": [
    "![](pictures/function.png)"
   ]
  },
  {
   "cell_type": "markdown",
   "metadata": {},
   "source": [
    "![](pictures/function_interface.png)"
   ]
  },
  {
   "cell_type": "markdown",
   "metadata": {},
   "source": [
    "![](pictures/function_lambda.png)"
   ]
  },
  {
   "cell_type": "markdown",
   "metadata": {},
   "source": [
    "![](pictures/predicate.png)"
   ]
  },
  {
   "cell_type": "markdown",
   "metadata": {},
   "source": [
    "## Functions"
   ]
  },
  {
   "cell_type": "code",
   "execution_count": 172,
   "metadata": {},
   "outputs": [],
   "source": [
    "Function<String, Integer> f = str -> str.length();"
   ]
  },
  {
   "cell_type": "code",
   "execution_count": 173,
   "metadata": {},
   "outputs": [
    {
     "data": {
      "text/plain": [
       "5"
      ]
     },
     "execution_count": 173,
     "metadata": {},
     "output_type": "execute_result"
    }
   ],
   "source": [
    "f.apply(\"Hello\")"
   ]
  },
  {
   "cell_type": "code",
   "execution_count": 174,
   "metadata": {},
   "outputs": [],
   "source": [
    "ToIntFunction<String> f2 = String::length;"
   ]
  },
  {
   "cell_type": "code",
   "execution_count": 175,
   "metadata": {},
   "outputs": [
    {
     "data": {
      "text/plain": [
       "5"
      ]
     },
     "execution_count": 175,
     "metadata": {},
     "output_type": "execute_result"
    }
   ],
   "source": [
    "f2.applyAsInt(\"Hello\")"
   ]
  },
  {
   "cell_type": "code",
   "execution_count": 176,
   "metadata": {},
   "outputs": [],
   "source": [
    "BiFunction<String, String, String> bifunc = String::concat;"
   ]
  },
  {
   "cell_type": "code",
   "execution_count": 177,
   "metadata": {},
   "outputs": [
    {
     "data": {
      "text/plain": [
       "Hello World"
      ]
     },
     "execution_count": 177,
     "metadata": {},
     "output_type": "execute_result"
    }
   ],
   "source": [
    "bifunc.apply(\"Hello \", \"World\")"
   ]
  },
  {
   "cell_type": "code",
   "execution_count": 178,
   "metadata": {},
   "outputs": [],
   "source": [
    "BiFunction<Integer, Integer, Integer> compFunc = (i, j) -> i * j;"
   ]
  },
  {
   "cell_type": "code",
   "execution_count": 179,
   "metadata": {},
   "outputs": [
    {
     "data": {
      "text/plain": [
       "20"
      ]
     },
     "execution_count": 179,
     "metadata": {},
     "output_type": "execute_result"
    }
   ],
   "source": [
    "compFunc.apply(2,10)"
   ]
  },
  {
   "cell_type": "markdown",
   "metadata": {},
   "source": [
    "* UnaryOperator;"
   ]
  },
  {
   "cell_type": "code",
   "execution_count": 180,
   "metadata": {},
   "outputs": [],
   "source": [
    "UnaryOperator<Integer> increment = x -> x + 1;"
   ]
  },
  {
   "cell_type": "code",
   "execution_count": 181,
   "metadata": {},
   "outputs": [
    {
     "data": {
      "text/plain": [
       "6"
      ]
     },
     "execution_count": 181,
     "metadata": {},
     "output_type": "execute_result"
    }
   ],
   "source": [
    "increment.apply(5);"
   ]
  },
  {
   "cell_type": "code",
   "execution_count": 182,
   "metadata": {},
   "outputs": [],
   "source": [
    "UnaryOperator<Double> sqrt = (d) -> Math.sqrt(d);"
   ]
  },
  {
   "cell_type": "code",
   "execution_count": 183,
   "metadata": {},
   "outputs": [
    {
     "data": {
      "text/plain": [
       "6.0"
      ]
     },
     "execution_count": 183,
     "metadata": {},
     "output_type": "execute_result"
    }
   ],
   "source": [
    "sqrt.apply(36.0)"
   ]
  },
  {
   "cell_type": "markdown",
   "metadata": {},
   "source": [
    "## flatMap"
   ]
  },
  {
   "cell_type": "code",
   "execution_count": 184,
   "metadata": {},
   "outputs": [],
   "source": [
    "import java.util.stream.Collectors;"
   ]
  },
  {
   "cell_type": "code",
   "execution_count": 185,
   "metadata": {},
   "outputs": [],
   "source": [
    "List<List<String>> listOfLists = Arrays.asList(\n",
    "            Arrays.asList(\"John\", \"Alice\"),\n",
    "            Arrays.asList(\"Bob\", \"Charlie\")\n",
    "        );"
   ]
  },
  {
   "cell_type": "code",
   "execution_count": 186,
   "metadata": {},
   "outputs": [],
   "source": [
    " List<String> flattenedList = listOfLists.stream()\n",
    "                                                .flatMap(Collection::stream)\n",
    "                                                .collect(Collectors.toList());"
   ]
  },
  {
   "cell_type": "code",
   "execution_count": 187,
   "metadata": {},
   "outputs": [
    {
     "data": {
      "text/plain": [
       "[John, Alice, Bob, Charlie]"
      ]
     },
     "execution_count": 187,
     "metadata": {},
     "output_type": "execute_result"
    }
   ],
   "source": [
    "flattenedList"
   ]
  },
  {
   "cell_type": "markdown",
   "metadata": {},
   "source": [
    "## Lambda Expressions"
   ]
  },
  {
   "cell_type": "code",
   "execution_count": 188,
   "metadata": {},
   "outputs": [],
   "source": [
    "@FunctionalInterface\n",
    "public interface A {\n",
    "\n",
    "\tvoid myMethod();\n",
    "\t\n",
    "}"
   ]
  },
  {
   "cell_type": "code",
   "execution_count": 189,
   "metadata": {},
   "outputs": [],
   "source": [
    "A a = ()->System.out.println(\"Inside MyMethod as Lambda\");\t\t"
   ]
  },
  {
   "cell_type": "code",
   "execution_count": 190,
   "metadata": {},
   "outputs": [
    {
     "name": "stdout",
     "output_type": "stream",
     "text": [
      "Inside MyMethod as Lambda\r\n"
     ]
    }
   ],
   "source": [
    "a.myMethod();"
   ]
  },
  {
   "cell_type": "code",
   "execution_count": 191,
   "metadata": {},
   "outputs": [],
   "source": [
    "@FunctionalInterface\n",
    "public interface Sum {\n",
    "\t\n",
    "\tvoid add(int a,int  b);\n",
    "}"
   ]
  },
  {
   "cell_type": "code",
   "execution_count": 192,
   "metadata": {},
   "outputs": [],
   "source": [
    "Sum s = (x,y)->System.out.println(\"Sum is:\"+(x+y));"
   ]
  },
  {
   "cell_type": "code",
   "execution_count": 193,
   "metadata": {},
   "outputs": [
    {
     "name": "stdout",
     "output_type": "stream",
     "text": [
      "Sum is:30\r\n"
     ]
    }
   ],
   "source": [
    "s.add(10, 20);"
   ]
  },
  {
   "cell_type": "markdown",
   "metadata": {},
   "source": [
    "* Lambda with static method reference"
   ]
  },
  {
   "cell_type": "code",
   "execution_count": 194,
   "metadata": {},
   "outputs": [],
   "source": [
    "public class MethodRefDemo {\n",
    "\t\n",
    "\tpublic static void myMethod() {\n",
    "\t\t\n",
    "\t\tfor(int i=0;i<=10;i++) {\n",
    "\t\t\tSystem.out.println(\"Child Thread\"+i);\n",
    "\t\t}\n",
    "\t}\n",
    "}\n"
   ]
  },
  {
   "cell_type": "code",
   "execution_count": 195,
   "metadata": {},
   "outputs": [],
   "source": [
    "// thread will not span in jupyter notebook\n",
    "Runnable r = MethodRefDemo::myMethod;\n",
    "\t\t\n",
    "\t\tThread t = new Thread(r);\n",
    "\t\tt.start();"
   ]
  },
  {
   "cell_type": "markdown",
   "metadata": {},
   "source": [
    "* Lambda with non-static method reference"
   ]
  },
  {
   "cell_type": "code",
   "execution_count": 196,
   "metadata": {},
   "outputs": [],
   "source": [
    "public class MyClass {\n",
    "\t\n",
    "\tpublic void myMethod123(int i) {\n",
    "\t\tSystem.out.println(i);\n",
    "\t}\n",
    " }"
   ]
  },
  {
   "cell_type": "code",
   "execution_count": 197,
   "metadata": {},
   "outputs": [],
   "source": [
    "public interface MyInterface {\n",
    "\t\n",
    "\tpublic void myMethod(int i);\n",
    "\n",
    "}"
   ]
  },
  {
   "cell_type": "code",
   "execution_count": 198,
   "metadata": {},
   "outputs": [],
   "source": [
    "MyClass c = new MyClass();"
   ]
  },
  {
   "cell_type": "code",
   "execution_count": 199,
   "metadata": {},
   "outputs": [],
   "source": [
    "MyInterface f1 = c::myMethod123;"
   ]
  },
  {
   "cell_type": "code",
   "execution_count": 200,
   "metadata": {},
   "outputs": [
    {
     "name": "stdout",
     "output_type": "stream",
     "text": [
      "20\r\n"
     ]
    }
   ],
   "source": [
    "f1.myMethod(20);"
   ]
  },
  {
   "cell_type": "markdown",
   "metadata": {},
   "source": [
    "# Streams"
   ]
  },
  {
   "cell_type": "code",
   "execution_count": 201,
   "metadata": {},
   "outputs": [],
   "source": [
    "public enum Department {\n",
    "\tTECHNOLOGY, BUSINESS, SUPPORT, OPERATIONS\n",
    "}\n",
    "\n",
    "public class Employee implements Serializable{\n",
    "\t/**\n",
    "\t * \n",
    "\t */\n",
    "\tprivate static final long serialVersionUID = -635482957578937357L;\n",
    "\tprivate String firstName;\n",
    "\tprivate String lastName;\n",
    "\tprivate String fullName;\n",
    "\tprivate int age;\n",
    "\tprivate Department department;\n",
    "\n",
    "\tpublic Employee(String firstName, String lastName, String fullName, int age, Department department) {\n",
    "\t\tsuper();\n",
    "\t\tthis.firstName = firstName;\n",
    "\t\tthis.lastName = lastName;\n",
    "\t\tthis.fullName = fullName;\n",
    "\t\tthis.age = age;\n",
    "\t\tthis.department = department;\n",
    "\t}\n",
    "\n",
    "\tpublic String getFirstName() {\n",
    "\t\treturn firstName;\n",
    "\t}\n",
    "\n",
    "\tpublic void setFirstName(String firstName) {\n",
    "\t\tthis.firstName = firstName;\n",
    "\t}\n",
    "\n",
    "\tpublic String getLastName() {\n",
    "\t\treturn lastName;\n",
    "\t}\n",
    "\n",
    "\tpublic void setLastName(String lastName) {\n",
    "\t\tthis.lastName = lastName;\n",
    "\t}\n",
    "\n",
    "\tpublic String getFullName() {\n",
    "\t\treturn fullName;\n",
    "\t}\n",
    "\n",
    "\tpublic void setFullName(String fullName) {\n",
    "\t\tthis.fullName = fullName;\n",
    "\t}\n",
    "\n",
    "\tpublic int getAge() {\n",
    "\t\treturn age;\n",
    "\t}\n",
    "\n",
    "\tpublic void setAge(int age) {\n",
    "\t\tthis.age = age;\n",
    "\t}\n",
    "\n",
    "\tpublic Department getDepartment() {\n",
    "\t\treturn department;\n",
    "\t}\n",
    "\n",
    "\tpublic void setDepartment(Department department) {\n",
    "\t\tthis.department = department;\n",
    "\t}\n",
    "\n",
    "\tpublic void auditAndUpdate() {\n",
    "\t\tthis.setFullName(this.getFirstName() + \" \" + this.getLastName());\n",
    "\t\tSystem.out.println(\n",
    "\t\t\t\tthis.getFullName() + \": Age: \" + this.getAge() + \" :Department: \" + this.getDepartment().toString());\n",
    "\t}\n",
    "\n",
    "}\n",
    "\n",
    "Employee employeel = new Employee(\"first 1\", \"lastl\", \"\", 20, Department.BUSINESS);\n",
    "Employee employee2 = new Employee(\"first 2\", \"last2\", \"\", 18, Department.TECHNOLOGY);\n",
    "Employee employee3 = new Employee(\"first 3\", \"last3\", \"\", 27, Department.OPERATIONS);\n",
    "Employee employee4 = new Employee(\"first 4\", \"last4\", \"\", 32, Department.SUPPORT);\n",
    "Employee employee5 = new Employee(\"first 5\", \"last5\", \" \", 25, Department.TECHNOLOGY);\n",
    "\n",
    "List<Employee> employeeListForStreamDemo = Arrays.asList(employeel, employee2, employee3, employee4, employee5); "
   ]
  },
  {
   "cell_type": "code",
   "execution_count": 202,
   "metadata": {},
   "outputs": [
    {
     "name": "stdout",
     "output_type": "stream",
     "text": [
      "20\n",
      "18\n",
      "32\n"
     ]
    }
   ],
   "source": [
    "employeeListForStreamDemo.stream().forEach(e -> {\n",
    "\t\t\tif (e.getAge() % 2 == 0)\n",
    "\t\t\t\tSystem.out.println(e.getAge());\n",
    "\t\t});"
   ]
  },
  {
   "cell_type": "code",
   "execution_count": 203,
   "metadata": {},
   "outputs": [],
   "source": [
    "Predicate<Employee> isTechnology = e -> e.getDepartment() == Department.TECHNOLOGY;"
   ]
  },
  {
   "cell_type": "code",
   "execution_count": 204,
   "metadata": {},
   "outputs": [],
   "source": [
    "List<Employee> filteredEmployess = employeeListForStreamDemo.stream().filter(isTechnology).collect(Collectors.toList());"
   ]
  },
  {
   "cell_type": "code",
   "execution_count": 205,
   "metadata": {},
   "outputs": [
    {
     "name": "stdout",
     "output_type": "stream",
     "text": [
      "TECHNOLOGY\n",
      "TECHNOLOGY\n"
     ]
    }
   ],
   "source": [
    "for (Employee employee : filteredEmployess) {\n",
    "\t\t\tSystem.out.println(employee.getDepartment());\n",
    "\t\t}"
   ]
  },
  {
   "cell_type": "code",
   "execution_count": 206,
   "metadata": {},
   "outputs": [],
   "source": [
    "Employee emp1 = employeeListForStreamDemo.stream().findFirst().get();"
   ]
  },
  {
   "cell_type": "code",
   "execution_count": 207,
   "metadata": {},
   "outputs": [
    {
     "name": "stdout",
     "output_type": "stream",
     "text": [
      "first 1 lastl: Age: 20 :Department: BUSINESS\r\n"
     ]
    }
   ],
   "source": [
    "emp1.auditAndUpdate()"
   ]
  },
  {
   "cell_type": "code",
   "execution_count": 208,
   "metadata": {},
   "outputs": [
    {
     "name": "stdout",
     "output_type": "stream",
     "text": [
      "true\r\n"
     ]
    }
   ],
   "source": [
    "System.out.println(employeeListForStreamDemo.stream().anyMatch(isTechnology));"
   ]
  },
  {
   "cell_type": "code",
   "execution_count": 209,
   "metadata": {},
   "outputs": [
    {
     "data": {
      "text/plain": [
       "5"
      ]
     },
     "execution_count": 209,
     "metadata": {},
     "output_type": "execute_result"
    }
   ],
   "source": [
    "employeeListForStreamDemo.stream().count()"
   ]
  },
  {
   "cell_type": "code",
   "execution_count": 212,
   "metadata": {},
   "outputs": [
    {
     "name": "stdout",
     "output_type": "stream",
     "text": [
      "18\n",
      "20\n",
      "25\n",
      "27\n",
      "32\n"
     ]
    }
   ],
   "source": [
    "List<Employee> sortedByAgeList = employeeListForStreamDemo.stream().sorted((e1, e2) -> e1.getAge() - e2.getAge())\n",
    "\t\t\t\t.collect(Collectors.toList());\n",
    "\t\tfor (Employee employee : sortedByAgeList) {\n",
    "\t\t\tSystem.out.println(employee.getAge());\n",
    "\t\t}"
   ]
  },
  {
   "cell_type": "code",
   "execution_count": 213,
   "metadata": {},
   "outputs": [],
   "source": [
    "// collect to a custom map\n",
    "\t\tMap<String, Integer> nameAgeMap = employeeListForStreamDemo.stream()\n",
    "\t\t\t\t.collect(Collectors.toMap(Employee::getFirstName, Employee::getAge));\t\t"
   ]
  },
  {
   "cell_type": "code",
   "execution_count": 214,
   "metadata": {},
   "outputs": [
    {
     "data": {
      "text/plain": [
       "{first 4=32, first 5=25, first 1=20, first 2=18, first 3=27}"
      ]
     },
     "execution_count": 214,
     "metadata": {},
     "output_type": "execute_result"
    }
   ],
   "source": [
    "nameAgeMap"
   ]
  },
  {
   "cell_type": "code",
   "execution_count": 215,
   "metadata": {},
   "outputs": [],
   "source": [
    "// grouping\n",
    "\t\tMap<Department, List<Employee>> groupListByDepartmentMap = employeeListForStreamDemo.stream()\n",
    "\t\t\t\t.collect(Collectors.groupingBy(Employee::getDepartment));"
   ]
  },
  {
   "cell_type": "code",
   "execution_count": 216,
   "metadata": {},
   "outputs": [
    {
     "data": {
      "text/plain": [
       "{TECHNOLOGY=[REPL.$JShell$13F$Employee@14d3c0f4, REPL.$JShell$13F$Employee@52a8d91e], OPERATIONS=[REPL.$JShell$13F$Employee@348601f], SUPPORT=[REPL.$JShell$13F$Employee@224a5a1d], BUSINESS=[REPL.$JShell$13F$Employee@2894eac0]}"
      ]
     },
     "execution_count": 216,
     "metadata": {},
     "output_type": "execute_result"
    }
   ],
   "source": [
    "groupListByDepartmentMap"
   ]
  },
  {
   "cell_type": "code",
   "execution_count": 217,
   "metadata": {},
   "outputs": [],
   "source": [
    "Map<Boolean, List<Employee>> partitionListByTecMap = employeeListForStreamDemo.stream()\n",
    "\t\t\t\t.collect(Collectors.partitioningBy(isTechnology, Collectors.toList()));"
   ]
  },
  {
   "cell_type": "code",
   "execution_count": 218,
   "metadata": {},
   "outputs": [
    {
     "data": {
      "text/plain": [
       "{false=[REPL.$JShell$13F$Employee@2894eac0, REPL.$JShell$13F$Employee@348601f, REPL.$JShell$13F$Employee@224a5a1d], true=[REPL.$JShell$13F$Employee@14d3c0f4, REPL.$JShell$13F$Employee@52a8d91e]}"
      ]
     },
     "execution_count": 218,
     "metadata": {},
     "output_type": "execute_result"
    }
   ],
   "source": [
    "partitionListByTecMap"
   ]
  },
  {
   "cell_type": "code",
   "execution_count": 219,
   "metadata": {},
   "outputs": [
    {
     "data": {
      "text/plain": [
       "true"
      ]
     },
     "execution_count": 219,
     "metadata": {},
     "output_type": "execute_result"
    }
   ],
   "source": [
    "List<String> l1 = new ArrayList<>();\n",
    "\t\tl1.add(\"JOHN\");\n",
    "\t\tl1.add(\"BHARATH\");\n",
    "\t\tl1.add(\"JIM\");"
   ]
  },
  {
   "cell_type": "code",
   "execution_count": 220,
   "metadata": {},
   "outputs": [],
   "source": [
    "List<String> l2 = l1.stream().map(s->s.toLowerCase()).collect(Collectors.toList())"
   ]
  },
  {
   "cell_type": "code",
   "execution_count": 221,
   "metadata": {},
   "outputs": [
    {
     "data": {
      "text/plain": [
       "[john, bharath, jim]"
      ]
     },
     "execution_count": 221,
     "metadata": {},
     "output_type": "execute_result"
    }
   ],
   "source": [
    "l2"
   ]
  },
  {
   "cell_type": "code",
   "execution_count": 222,
   "metadata": {},
   "outputs": [],
   "source": [
    "List<Integer> l3 = new ArrayList<>();\n",
    "\n",
    "\t\tfor (int i = 0; i <= 5; i++) {\n",
    "\t\t\tl3.add(i);\n",
    "\t\t}"
   ]
  },
  {
   "cell_type": "code",
   "execution_count": 223,
   "metadata": {},
   "outputs": [
    {
     "data": {
      "text/plain": [
       "[0, 1, 2, 3, 4, 5]"
      ]
     },
     "execution_count": 223,
     "metadata": {},
     "output_type": "execute_result"
    }
   ],
   "source": [
    "l3"
   ]
  },
  {
   "cell_type": "code",
   "execution_count": 224,
   "metadata": {},
   "outputs": [],
   "source": [
    "List<Integer> l4 = l3.stream().filter(i->i%2==0).collect(Collectors.toList())"
   ]
  },
  {
   "cell_type": "code",
   "execution_count": 225,
   "metadata": {},
   "outputs": [
    {
     "data": {
      "text/plain": [
       "[0, 2, 4]"
      ]
     },
     "execution_count": 225,
     "metadata": {},
     "output_type": "execute_result"
    }
   ],
   "source": [
    "l4"
   ]
  },
  {
   "cell_type": "code",
   "execution_count": 226,
   "metadata": {},
   "outputs": [
    {
     "data": {
      "text/plain": [
       "3"
      ]
     },
     "execution_count": 226,
     "metadata": {},
     "output_type": "execute_result"
    }
   ],
   "source": [
    "l3.stream().filter(i->i%2==0).count()"
   ]
  },
  {
   "cell_type": "code",
   "execution_count": 227,
   "metadata": {},
   "outputs": [],
   "source": [
    "Comparator<String> lengthComparator = (stri1, stri2) -> Integer.compare(stri1.length(), stri2.length());"
   ]
  },
  {
   "cell_type": "code",
   "execution_count": 228,
   "metadata": {},
   "outputs": [],
   "source": [
    "List<String> l4 = l1.stream().sorted(lengthComparator).collect(Collectors.toList())"
   ]
  },
  {
   "cell_type": "code",
   "execution_count": 229,
   "metadata": {},
   "outputs": [
    {
     "data": {
      "text/plain": [
       "[JIM, JOHN, BHARATH]"
      ]
     },
     "execution_count": 229,
     "metadata": {},
     "output_type": "execute_result"
    }
   ],
   "source": [
    "l4"
   ]
  },
  {
   "cell_type": "code",
   "execution_count": 230,
   "metadata": {},
   "outputs": [
    {
     "data": {
      "text/plain": [
       "Optional[BHARATH]"
      ]
     },
     "execution_count": 230,
     "metadata": {},
     "output_type": "execute_result"
    }
   ],
   "source": [
    "l1.stream().max(lengthComparator)"
   ]
  },
  {
   "cell_type": "code",
   "execution_count": 231,
   "metadata": {},
   "outputs": [
    {
     "data": {
      "text/plain": [
       "Optional[JIM]"
      ]
     },
     "execution_count": 231,
     "metadata": {},
     "output_type": "execute_result"
    }
   ],
   "source": [
    "l1.stream().min(lengthComparator)"
   ]
  },
  {
   "cell_type": "code",
   "execution_count": 232,
   "metadata": {},
   "outputs": [
    {
     "data": {
      "text/plain": [
       "3"
      ]
     },
     "execution_count": 232,
     "metadata": {},
     "output_type": "execute_result"
    }
   ],
   "source": [
    "l1.stream().count()"
   ]
  },
  {
   "cell_type": "code",
   "execution_count": 233,
   "metadata": {},
   "outputs": [
    {
     "name": "stdout",
     "output_type": "stream",
     "text": [
      "JOHN\n",
      "BHARATH\n",
      "JIM\n"
     ]
    }
   ],
   "source": [
    "l1.stream().forEach(i -> System.out.println(i))"
   ]
  },
  {
   "cell_type": "code",
   "execution_count": 234,
   "metadata": {},
   "outputs": [],
   "source": [
    "IntStream stream = IntStream.rangeClosed(1, 5);"
   ]
  },
  {
   "cell_type": "code",
   "execution_count": 235,
   "metadata": {},
   "outputs": [
    {
     "data": {
      "text/plain": [
       "15"
      ]
     },
     "execution_count": 235,
     "metadata": {},
     "output_type": "execute_result"
    }
   ],
   "source": [
    "stream.reduce(0, (i, j) -> i + j)"
   ]
  },
  {
   "cell_type": "code",
   "execution_count": 236,
   "metadata": {},
   "outputs": [],
   "source": [
    "Stream<String> stream2 = Stream.of(\"java\", \"python\", \"c\", \"c++\", \"java\", \"python\");"
   ]
  },
  {
   "cell_type": "code",
   "execution_count": 237,
   "metadata": {},
   "outputs": [],
   "source": [
    "Set<String> set = stream2.collect(Collectors.toSet());"
   ]
  },
  {
   "cell_type": "code",
   "execution_count": 238,
   "metadata": {},
   "outputs": [
    {
     "data": {
      "text/plain": [
       "[python, c++, java, c]"
      ]
     },
     "execution_count": 238,
     "metadata": {},
     "output_type": "execute_result"
    }
   ],
   "source": [
    "set"
   ]
  },
  {
   "cell_type": "code",
   "execution_count": 239,
   "metadata": {},
   "outputs": [
    {
     "name": "stdout",
     "output_type": "stream",
     "text": [
      "2: s\n",
      "3: s\n",
      "4: s\n",
      "5: s\n",
      "6: s\n",
      "7: s\n"
     ]
    }
   ],
   "source": [
    "List<Integer> list = Arrays.asList(1, 2, 3, 4, 5, 6, 7);\n",
    "\t\tlist.stream().map((Integer i1) -> i1.intValue() + \": s\")\n",
    "\t\t\t\t.filter(((Predicate<String>) s -> s.startsWith(\"1\")).negate()).forEach(System.out::println);"
   ]
  },
  {
   "cell_type": "code",
   "execution_count": 240,
   "metadata": {},
   "outputs": [],
   "source": [
    "IntStream list1 = IntStream.of(1, 2, 3, 4);\n",
    "OptionalDouble optionalDouble = list1.map(i -> i * i).filter(i -> i > 4).average();"
   ]
  },
  {
   "cell_type": "code",
   "execution_count": 241,
   "metadata": {},
   "outputs": [
    {
     "name": "stdout",
     "output_type": "stream",
     "text": [
      "12.5\r\n"
     ]
    }
   ],
   "source": [
    "if (optionalDouble.isPresent()) {\n",
    "\t\t\tSystem.out.println(optionalDouble.getAsDouble());\n",
    "\t\t}"
   ]
  },
  {
   "cell_type": "code",
   "execution_count": 242,
   "metadata": {},
   "outputs": [],
   "source": [
    "List<String> listStr = Arrays.asList(\"java\", \"java 8\", \"pyhon 3\", \"python\", \"c\", \"c++\", \"java\", \"python\");"
   ]
  },
  {
   "cell_type": "code",
   "execution_count": 243,
   "metadata": {},
   "outputs": [
    {
     "data": {
      "text/plain": [
       "true"
      ]
     },
     "execution_count": 243,
     "metadata": {},
     "output_type": "execute_result"
    }
   ],
   "source": [
    "listStr.stream().anyMatch(s -> s.equalsIgnoreCase(\"python\"))"
   ]
  },
  {
   "cell_type": "code",
   "execution_count": 244,
   "metadata": {},
   "outputs": [
    {
     "data": {
      "text/plain": [
       "false"
      ]
     },
     "execution_count": 244,
     "metadata": {},
     "output_type": "execute_result"
    }
   ],
   "source": [
    "listStr.stream().allMatch(s -> s.equalsIgnoreCase(\"python\"))"
   ]
  },
  {
   "cell_type": "code",
   "execution_count": 245,
   "metadata": {},
   "outputs": [],
   "source": [
    "Optional<String> opt = listStr.stream().filter(s -> s.equalsIgnoreCase(\"python\")).findAny();"
   ]
  },
  {
   "cell_type": "code",
   "execution_count": 246,
   "metadata": {},
   "outputs": [
    {
     "name": "stdout",
     "output_type": "stream",
     "text": [
      "python\r\n"
     ]
    }
   ],
   "source": [
    "opt.ifPresent(s -> System.out.println(s));"
   ]
  },
  {
   "cell_type": "code",
   "execution_count": 247,
   "metadata": {},
   "outputs": [
    {
     "name": "stdout",
     "output_type": "stream",
     "text": [
      "java\n",
      "java 8\n",
      "pyhon 3\n",
      "python\n",
      "c\n"
     ]
    },
    {
     "data": {
      "text/plain": [
       "Optional[c]"
      ]
     },
     "execution_count": 247,
     "metadata": {},
     "output_type": "execute_result"
    }
   ],
   "source": [
    "listStr.stream().peek(System.out::println).filter(s -> s.equalsIgnoreCase(\"c\")).findAny();"
   ]
  },
  {
   "cell_type": "code",
   "execution_count": 248,
   "metadata": {},
   "outputs": [
    {
     "data": {
      "text/plain": [
       "8"
      ]
     },
     "execution_count": 248,
     "metadata": {},
     "output_type": "execute_result"
    }
   ],
   "source": [
    "listStr.stream().collect(Collectors.counting())"
   ]
  },
  {
   "cell_type": "code",
   "execution_count": 249,
   "metadata": {},
   "outputs": [
    {
     "data": {
      "text/plain": [
       "java:java 8:pyhon 3:python:c:c++:java:python"
      ]
     },
     "execution_count": 249,
     "metadata": {},
     "output_type": "execute_result"
    }
   ],
   "source": [
    "listStr.stream().collect(Collectors.joining(\":\"))"
   ]
  },
  {
   "cell_type": "code",
   "execution_count": 250,
   "metadata": {},
   "outputs": [],
   "source": [
    "Optional<String> optLongest = listStr.stream().collect(Collectors.maxBy((s1, s2) -> s1.length() - s2.length()));"
   ]
  },
  {
   "cell_type": "code",
   "execution_count": 251,
   "metadata": {},
   "outputs": [
    {
     "data": {
      "text/plain": [
       "pyhon 3"
      ]
     },
     "execution_count": 251,
     "metadata": {},
     "output_type": "execute_result"
    }
   ],
   "source": [
    "optLongest.get()"
   ]
  },
  {
   "cell_type": "markdown",
   "metadata": {},
   "source": [
    "* Parallel streams"
   ]
  },
  {
   "cell_type": "code",
   "execution_count": 252,
   "metadata": {},
   "outputs": [
    {
     "name": "stdout",
     "output_type": "stream",
     "text": [
      "500000000500000000\r\n"
     ]
    }
   ],
   "source": [
    "// Parallel streams\n",
    "LongStream stream1 = LongStream.rangeClosed(1, 10_000_00000);\n",
    "long start = System.currentTimeMillis();\n",
    "System.out.println(stream1.sum());\n",
    "long end = System.currentTimeMillis()"
   ]
  },
  {
   "cell_type": "code",
   "execution_count": 253,
   "metadata": {},
   "outputs": [
    {
     "name": "stdout",
     "output_type": "stream",
     "text": [
      "Time taken-non parallel:1160\r\n"
     ]
    }
   ],
   "source": [
    "System.out.println(\"Time taken-non parallel:\" + (end - start));"
   ]
  },
  {
   "cell_type": "code",
   "execution_count": 254,
   "metadata": {},
   "outputs": [
    {
     "name": "stdout",
     "output_type": "stream",
     "text": [
      "500000000500000000\r\n"
     ]
    }
   ],
   "source": [
    "LongStream streamParallel = LongStream.rangeClosed(1, 10_000_00000).parallel();\n",
    "\t\tstart = System.currentTimeMillis();\n",
    "\t\tSystem.out.println(streamParallel.sum());\n",
    "\t\tend = System.currentTimeMillis();"
   ]
  },
  {
   "cell_type": "code",
   "execution_count": 255,
   "metadata": {},
   "outputs": [
    {
     "name": "stdout",
     "output_type": "stream",
     "text": [
      "Time taken- parallel:86\r\n"
     ]
    }
   ],
   "source": [
    "System.out.println(\"Time taken- parallel:\" + (end - start));"
   ]
  },
  {
   "cell_type": "code",
   "execution_count": 256,
   "metadata": {},
   "outputs": [
    {
     "data": {
      "text/plain": [
       "10"
      ]
     },
     "execution_count": 256,
     "metadata": {},
     "output_type": "execute_result"
    }
   ],
   "source": [
    "LongStream.rangeClosed(1, 10).parallel()\n",
    "\t\t\t\t.peek((i) -> System.out.println(i + \" :\" + Thread.currentThread().getName())).count();"
   ]
  },
  {
   "cell_type": "markdown",
   "metadata": {},
   "source": [
    "* Stream.ofNullable"
   ]
  },
  {
   "cell_type": "code",
   "execution_count": 257,
   "metadata": {},
   "outputs": [],
   "source": [
    "String nullValue = null;\n",
    "Stream<String> nullStream = Stream.ofNullable(nullValue);"
   ]
  },
  {
   "cell_type": "code",
   "execution_count": 258,
   "metadata": {},
   "outputs": [],
   "source": [
    "nullStream.forEach(System.out::println);"
   ]
  },
  {
   "cell_type": "code",
   "execution_count": 259,
   "metadata": {},
   "outputs": [
    {
     "data": {
      "text/plain": [
       "[1, 2, 3, 4, 5, 6, 7]"
      ]
     },
     "execution_count": 259,
     "metadata": {},
     "output_type": "execute_result"
    }
   ],
   "source": [
    "list"
   ]
  },
  {
   "cell_type": "code",
   "execution_count": 260,
   "metadata": {},
   "outputs": [
    {
     "name": "stdout",
     "output_type": "stream",
     "text": [
      "4\n",
      "16\n",
      "36\n"
     ]
    }
   ],
   "source": [
    "list.stream().filter(n -> n % 2 == 0).map(n -> n * n).forEach(System.out::println) "
   ]
  },
  {
   "cell_type": "code",
   "execution_count": 261,
   "metadata": {},
   "outputs": [],
   "source": [
    "List<String> courses = List.of(\"Spring\", \"Spring Boot\", \"API\" , \"Microservices\",\"AWS\", \"PCF\",\"Azure\", \"Docker\", \"Kubernetes\");"
   ]
  },
  {
   "cell_type": "code",
   "execution_count": 262,
   "metadata": {},
   "outputs": [
    {
     "name": "stdout",
     "output_type": "stream",
     "text": [
      "Spring 6\n",
      "Spring Boot 11\n",
      "API 3\n",
      "Microservices 13\n",
      "AWS 3\n",
      "PCF 3\n",
      "Azure 5\n",
      "Docker 6\n",
      "Kubernetes 10\n"
     ]
    }
   ],
   "source": [
    "courses.stream()\n",
    "\t\t\t.map(course -> course + \" \" + course.length()) \n",
    "\t\t\t.forEach(System.out::println);"
   ]
  },
  {
   "cell_type": "code",
   "execution_count": null,
   "metadata": {},
   "outputs": [],
   "source": []
  }
 ],
 "metadata": {
  "kernelspec": {
   "display_name": "Java",
   "language": "java",
   "name": "java"
  },
  "language_info": {
   "codemirror_mode": "java",
   "file_extension": ".jshell",
   "mimetype": "text/x-java-source",
   "name": "Java",
   "pygments_lexer": "java",
   "version": "21.0.2+13-LTS-58"
  }
 },
 "nbformat": 4,
 "nbformat_minor": 4
}
