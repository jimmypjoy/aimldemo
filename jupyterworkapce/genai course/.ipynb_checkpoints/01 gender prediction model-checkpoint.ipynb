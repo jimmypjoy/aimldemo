{
 "cells": [
  {
   "cell_type": "code",
   "execution_count": 1,
   "id": "e69697c0-aecc-47c1-942b-25f2b93c2232",
   "metadata": {
    "executionInfo": {
     "elapsed": 5111,
     "status": "ok",
     "timestamp": 1725586429613,
     "user": {
      "displayName": "Shubham Pandey",
      "userId": "10645658922718505789"
     },
     "user_tz": -330
    },
    "id": "e69697c0-aecc-47c1-942b-25f2b93c2232"
   },
   "outputs": [],
   "source": [
    "import nltk"
   ]
  },
  {
   "cell_type": "code",
   "execution_count": 2,
   "id": "KHyigxiX-pD4",
   "metadata": {
    "colab": {
     "base_uri": "https://localhost:8080/"
    },
    "executionInfo": {
     "elapsed": 440,
     "status": "ok",
     "timestamp": 1725586644839,
     "user": {
      "displayName": "Shubham Pandey",
      "userId": "10645658922718505789"
     },
     "user_tz": -330
    },
    "id": "KHyigxiX-pD4",
    "outputId": "aacf8338-ac70-4d47-e13c-974449175f47"
   },
   "outputs": [
    {
     "name": "stderr",
     "output_type": "stream",
     "text": [
      "[nltk_data] Downloading package names to\n",
      "[nltk_data]     C:\\Users\\jimmy\\AppData\\Roaming\\nltk_data...\n",
      "[nltk_data]   Unzipping corpora\\names.zip.\n"
     ]
    },
    {
     "data": {
      "text/plain": [
       "True"
      ]
     },
     "execution_count": 2,
     "metadata": {},
     "output_type": "execute_result"
    }
   ],
   "source": [
    "nltk.download('names')"
   ]
  },
  {
   "cell_type": "code",
   "execution_count": 3,
   "id": "7ab88f7a-d4e3-415b-a00d-05be16d6ef44",
   "metadata": {
    "colab": {
     "base_uri": "https://localhost:8080/"
    },
    "executionInfo": {
     "elapsed": 449,
     "status": "ok",
     "timestamp": 1725586649566,
     "user": {
      "displayName": "Shubham Pandey",
      "userId": "10645658922718505789"
     },
     "user_tz": -330
    },
    "id": "7ab88f7a-d4e3-415b-a00d-05be16d6ef44",
    "outputId": "78915e90-ad81-462f-eeaa-60778442a547"
   },
   "outputs": [
    {
     "data": {
      "text/plain": [
       "['female.txt', 'male.txt']"
      ]
     },
     "execution_count": 3,
     "metadata": {},
     "output_type": "execute_result"
    }
   ],
   "source": [
    "nltk.corpus.names.fileids()"
   ]
  },
  {
   "cell_type": "code",
   "execution_count": 4,
   "id": "5228c669-6472-48a6-85c2-60a5b53bfb10",
   "metadata": {
    "executionInfo": {
     "elapsed": 465,
     "status": "ok",
     "timestamp": 1725586875033,
     "user": {
      "displayName": "Shubham Pandey",
      "userId": "10645658922718505789"
     },
     "user_tz": -330
    },
    "id": "5228c669-6472-48a6-85c2-60a5b53bfb10"
   },
   "outputs": [],
   "source": [
    "fnames = nltk.corpus.names.words('female.txt')\n",
    "mnames = nltk.corpus.names.words('male.txt')"
   ]
  },
  {
   "cell_type": "code",
   "execution_count": 5,
   "id": "4cd82ea2-0868-402a-956c-50c01de7c398",
   "metadata": {
    "colab": {
     "base_uri": "https://localhost:8080/"
    },
    "executionInfo": {
     "elapsed": 654,
     "status": "ok",
     "timestamp": 1725586939195,
     "user": {
      "displayName": "Shubham Pandey",
      "userId": "10645658922718505789"
     },
     "user_tz": -330
    },
    "id": "4cd82ea2-0868-402a-956c-50c01de7c398",
    "outputId": "e1f1ffcf-73b8-41c9-89b5-e7cd50e27199"
   },
   "outputs": [
    {
     "data": {
      "text/plain": [
       "5001"
      ]
     },
     "execution_count": 5,
     "metadata": {},
     "output_type": "execute_result"
    }
   ],
   "source": [
    "len(fnames)"
   ]
  },
  {
   "cell_type": "code",
   "execution_count": 6,
   "id": "111566d3-eaa6-4578-a3bc-e8a9dc766c6e",
   "metadata": {
    "colab": {
     "base_uri": "https://localhost:8080/"
    },
    "executionInfo": {
     "elapsed": 573,
     "status": "ok",
     "timestamp": 1725586942078,
     "user": {
      "displayName": "Shubham Pandey",
      "userId": "10645658922718505789"
     },
     "user_tz": -330
    },
    "id": "111566d3-eaa6-4578-a3bc-e8a9dc766c6e",
    "outputId": "be2399c4-3f11-4415-8fdc-42b007e8d03f"
   },
   "outputs": [
    {
     "data": {
      "text/plain": [
       "2943"
      ]
     },
     "execution_count": 6,
     "metadata": {},
     "output_type": "execute_result"
    }
   ],
   "source": [
    "len(mnames)"
   ]
  },
  {
   "cell_type": "code",
   "execution_count": 7,
   "id": "81b853d8-c608-4b0e-82ff-b5810abe495a",
   "metadata": {
    "executionInfo": {
     "elapsed": 1033,
     "status": "ok",
     "timestamp": 1725586958945,
     "user": {
      "displayName": "Shubham Pandey",
      "userId": "10645658922718505789"
     },
     "user_tz": -330
    },
    "id": "81b853d8-c608-4b0e-82ff-b5810abe495a"
   },
   "outputs": [],
   "source": [
    "import pandas as pd"
   ]
  },
  {
   "cell_type": "code",
   "execution_count": 8,
   "id": "1288876c-e861-4b32-97ad-80a57b25b86b",
   "metadata": {
    "executionInfo": {
     "elapsed": 411,
     "status": "ok",
     "timestamp": 1725586976385,
     "user": {
      "displayName": "Shubham Pandey",
      "userId": "10645658922718505789"
     },
     "user_tz": -330
    },
    "id": "1288876c-e861-4b32-97ad-80a57b25b86b"
   },
   "outputs": [],
   "source": [
    "names = pd.DataFrame(fnames,columns=['names'])\n",
    "names['gender'] = 'female'"
   ]
  },
  {
   "cell_type": "code",
   "execution_count": 9,
   "id": "fvG-c1c5_8D9",
   "metadata": {
    "colab": {
     "base_uri": "https://localhost:8080/",
     "height": 423
    },
    "executionInfo": {
     "elapsed": 453,
     "status": "ok",
     "timestamp": 1725586987408,
     "user": {
      "displayName": "Shubham Pandey",
      "userId": "10645658922718505789"
     },
     "user_tz": -330
    },
    "id": "fvG-c1c5_8D9",
    "outputId": "46e21e68-3b13-4cb9-ecbd-268dacce6059"
   },
   "outputs": [
    {
     "data": {
      "text/html": [
       "<div>\n",
       "<style scoped>\n",
       "    .dataframe tbody tr th:only-of-type {\n",
       "        vertical-align: middle;\n",
       "    }\n",
       "\n",
       "    .dataframe tbody tr th {\n",
       "        vertical-align: top;\n",
       "    }\n",
       "\n",
       "    .dataframe thead th {\n",
       "        text-align: right;\n",
       "    }\n",
       "</style>\n",
       "<table border=\"1\" class=\"dataframe\">\n",
       "  <thead>\n",
       "    <tr style=\"text-align: right;\">\n",
       "      <th></th>\n",
       "      <th>names</th>\n",
       "      <th>gender</th>\n",
       "    </tr>\n",
       "  </thead>\n",
       "  <tbody>\n",
       "    <tr>\n",
       "      <th>0</th>\n",
       "      <td>Abagael</td>\n",
       "      <td>female</td>\n",
       "    </tr>\n",
       "    <tr>\n",
       "      <th>1</th>\n",
       "      <td>Abagail</td>\n",
       "      <td>female</td>\n",
       "    </tr>\n",
       "    <tr>\n",
       "      <th>2</th>\n",
       "      <td>Abbe</td>\n",
       "      <td>female</td>\n",
       "    </tr>\n",
       "    <tr>\n",
       "      <th>3</th>\n",
       "      <td>Abbey</td>\n",
       "      <td>female</td>\n",
       "    </tr>\n",
       "    <tr>\n",
       "      <th>4</th>\n",
       "      <td>Abbi</td>\n",
       "      <td>female</td>\n",
       "    </tr>\n",
       "    <tr>\n",
       "      <th>...</th>\n",
       "      <td>...</td>\n",
       "      <td>...</td>\n",
       "    </tr>\n",
       "    <tr>\n",
       "      <th>4996</th>\n",
       "      <td>Zorine</td>\n",
       "      <td>female</td>\n",
       "    </tr>\n",
       "    <tr>\n",
       "      <th>4997</th>\n",
       "      <td>Zsa Zsa</td>\n",
       "      <td>female</td>\n",
       "    </tr>\n",
       "    <tr>\n",
       "      <th>4998</th>\n",
       "      <td>Zsazsa</td>\n",
       "      <td>female</td>\n",
       "    </tr>\n",
       "    <tr>\n",
       "      <th>4999</th>\n",
       "      <td>Zulema</td>\n",
       "      <td>female</td>\n",
       "    </tr>\n",
       "    <tr>\n",
       "      <th>5000</th>\n",
       "      <td>Zuzana</td>\n",
       "      <td>female</td>\n",
       "    </tr>\n",
       "  </tbody>\n",
       "</table>\n",
       "<p>5001 rows × 2 columns</p>\n",
       "</div>"
      ],
      "text/plain": [
       "        names  gender\n",
       "0     Abagael  female\n",
       "1     Abagail  female\n",
       "2        Abbe  female\n",
       "3       Abbey  female\n",
       "4        Abbi  female\n",
       "...       ...     ...\n",
       "4996   Zorine  female\n",
       "4997  Zsa Zsa  female\n",
       "4998   Zsazsa  female\n",
       "4999   Zulema  female\n",
       "5000   Zuzana  female\n",
       "\n",
       "[5001 rows x 2 columns]"
      ]
     },
     "execution_count": 9,
     "metadata": {},
     "output_type": "execute_result"
    }
   ],
   "source": [
    "names"
   ]
  },
  {
   "cell_type": "code",
   "execution_count": 10,
   "id": "2cdaf587-a2f3-40fd-a02d-cbb4d6436792",
   "metadata": {
    "executionInfo": {
     "elapsed": 2,
     "status": "ok",
     "timestamp": 1725587021039,
     "user": {
      "displayName": "Shubham Pandey",
      "userId": "10645658922718505789"
     },
     "user_tz": -330
    },
    "id": "2cdaf587-a2f3-40fd-a02d-cbb4d6436792"
   },
   "outputs": [],
   "source": [
    "all_names = pd.concat([names, pd.DataFrame({'names':mnames,'gender':'male'})])"
   ]
  },
  {
   "cell_type": "code",
   "execution_count": 11,
   "id": "6d8b38cf-1253-4c73-abfe-2dba24b13fda",
   "metadata": {
    "colab": {
     "base_uri": "https://localhost:8080/",
     "height": 423
    },
    "executionInfo": {
     "elapsed": 419,
     "status": "ok",
     "timestamp": 1725587023041,
     "user": {
      "displayName": "Shubham Pandey",
      "userId": "10645658922718505789"
     },
     "user_tz": -330
    },
    "id": "6d8b38cf-1253-4c73-abfe-2dba24b13fda",
    "outputId": "0e1614b9-6179-45cd-e90f-7e2682694407"
   },
   "outputs": [
    {
     "data": {
      "text/html": [
       "<div>\n",
       "<style scoped>\n",
       "    .dataframe tbody tr th:only-of-type {\n",
       "        vertical-align: middle;\n",
       "    }\n",
       "\n",
       "    .dataframe tbody tr th {\n",
       "        vertical-align: top;\n",
       "    }\n",
       "\n",
       "    .dataframe thead th {\n",
       "        text-align: right;\n",
       "    }\n",
       "</style>\n",
       "<table border=\"1\" class=\"dataframe\">\n",
       "  <thead>\n",
       "    <tr style=\"text-align: right;\">\n",
       "      <th></th>\n",
       "      <th>names</th>\n",
       "      <th>gender</th>\n",
       "    </tr>\n",
       "  </thead>\n",
       "  <tbody>\n",
       "    <tr>\n",
       "      <th>0</th>\n",
       "      <td>Abagael</td>\n",
       "      <td>female</td>\n",
       "    </tr>\n",
       "    <tr>\n",
       "      <th>1</th>\n",
       "      <td>Abagail</td>\n",
       "      <td>female</td>\n",
       "    </tr>\n",
       "    <tr>\n",
       "      <th>2</th>\n",
       "      <td>Abbe</td>\n",
       "      <td>female</td>\n",
       "    </tr>\n",
       "    <tr>\n",
       "      <th>3</th>\n",
       "      <td>Abbey</td>\n",
       "      <td>female</td>\n",
       "    </tr>\n",
       "    <tr>\n",
       "      <th>4</th>\n",
       "      <td>Abbi</td>\n",
       "      <td>female</td>\n",
       "    </tr>\n",
       "    <tr>\n",
       "      <th>...</th>\n",
       "      <td>...</td>\n",
       "      <td>...</td>\n",
       "    </tr>\n",
       "    <tr>\n",
       "      <th>2938</th>\n",
       "      <td>Zeus</td>\n",
       "      <td>male</td>\n",
       "    </tr>\n",
       "    <tr>\n",
       "      <th>2939</th>\n",
       "      <td>Zippy</td>\n",
       "      <td>male</td>\n",
       "    </tr>\n",
       "    <tr>\n",
       "      <th>2940</th>\n",
       "      <td>Zollie</td>\n",
       "      <td>male</td>\n",
       "    </tr>\n",
       "    <tr>\n",
       "      <th>2941</th>\n",
       "      <td>Zolly</td>\n",
       "      <td>male</td>\n",
       "    </tr>\n",
       "    <tr>\n",
       "      <th>2942</th>\n",
       "      <td>Zorro</td>\n",
       "      <td>male</td>\n",
       "    </tr>\n",
       "  </tbody>\n",
       "</table>\n",
       "<p>7944 rows × 2 columns</p>\n",
       "</div>"
      ],
      "text/plain": [
       "        names  gender\n",
       "0     Abagael  female\n",
       "1     Abagail  female\n",
       "2        Abbe  female\n",
       "3       Abbey  female\n",
       "4        Abbi  female\n",
       "...       ...     ...\n",
       "2938     Zeus    male\n",
       "2939    Zippy    male\n",
       "2940   Zollie    male\n",
       "2941    Zolly    male\n",
       "2942    Zorro    male\n",
       "\n",
       "[7944 rows x 2 columns]"
      ]
     },
     "execution_count": 11,
     "metadata": {},
     "output_type": "execute_result"
    }
   ],
   "source": [
    "all_names"
   ]
  },
  {
   "cell_type": "code",
   "execution_count": null,
   "id": "d48a935a-1823-4542-b7a7-54644c84dd3d",
   "metadata": {
    "executionInfo": {
     "elapsed": 812,
     "status": "ok",
     "timestamp": 1725587342820,
     "user": {
      "displayName": "Shubham Pandey",
      "userId": "10645658922718505789"
     },
     "user_tz": -330
    },
    "id": "d48a935a-1823-4542-b7a7-54644c84dd3d"
   },
   "outputs": [],
   "source": [
    "def feature_extraction(x):\n",
    "    x = x.lower()\n",
    "    features = {}\n",
    "    features['first'] = x[0]\n",
    "    features['last'] = x[-1]\n",
    "    features['nchar'] = len(x)\n",
    "    features['vowel_count'] = 0\n",
    "    for char in 'abcdefghijklmnopqrstuvwxyz':\n",
    "        features['contains_'+char] = char in x\n",
    "        features['countof_'+char] = x.count(char)\n",
    "\n",
    "        if (char in 'aeiou') & (char in x):\n",
    "            features['vowel_count'] += x.count(char) # count total. no of vowels\n",
    "    if features['vowel_count'] > 0:\n",
    "        features['vowels'] = 1\n",
    "    else:\n",
    "        features['vowels'] = 0\n",
    "    return features\n"
   ]
  },
  {
   "cell_type": "code",
   "execution_count": null,
   "id": "3168f7b9-ffff-447d-a33b-34d55d98493c",
   "metadata": {
    "colab": {
     "base_uri": "https://localhost:8080/"
    },
    "executionInfo": {
     "elapsed": 455,
     "status": "ok",
     "timestamp": 1725587355979,
     "user": {
      "displayName": "Shubham Pandey",
      "userId": "10645658922718505789"
     },
     "user_tz": -330
    },
    "id": "3168f7b9-ffff-447d-a33b-34d55d98493c",
    "outputId": "2f818582-6550-45b8-cd67-0354d2547997"
   },
   "outputs": [],
   "source": [
    "feature_extraction('Shubham')"
   ]
  },
  {
   "cell_type": "code",
   "execution_count": null,
   "id": "ce1f892e-0711-4c8e-a5e3-de06270f677c",
   "metadata": {
    "colab": {
     "base_uri": "https://localhost:8080/",
     "height": 110
    },
    "executionInfo": {
     "elapsed": 482,
     "status": "ok",
     "timestamp": 1725587451699,
     "user": {
      "displayName": "Shubham Pandey",
      "userId": "10645658922718505789"
     },
     "user_tz": -330
    },
    "id": "ce1f892e-0711-4c8e-a5e3-de06270f677c",
    "outputId": "a98811e3-9507-431c-f3bb-3b5608df217e"
   },
   "outputs": [],
   "source": [
    "df = pd.DataFrame(feature_extraction('Shubham').values(),index=feature_extraction('Shubham').keys()).T\n",
    "df"
   ]
  },
  {
   "cell_type": "code",
   "execution_count": null,
   "id": "ad17e323-344f-4ac9-b026-383f380f93e3",
   "metadata": {
    "executionInfo": {
     "elapsed": 433,
     "status": "ok",
     "timestamp": 1725587695619,
     "user": {
      "displayName": "Shubham Pandey",
      "userId": "10645658922718505789"
     },
     "user_tz": -330
    },
    "id": "ad17e323-344f-4ac9-b026-383f380f93e3"
   },
   "outputs": [],
   "source": [
    "labled_list = [(name,'Female') for name in fnames] + [(name,'Male') for name in mnames]"
   ]
  },
  {
   "cell_type": "code",
   "execution_count": null,
   "id": "0301e089-b445-4ca5-8c74-c17842a1218f",
   "metadata": {
    "colab": {
     "base_uri": "https://localhost:8080/"
    },
    "executionInfo": {
     "elapsed": 451,
     "status": "ok",
     "timestamp": 1725587698751,
     "user": {
      "displayName": "Shubham Pandey",
      "userId": "10645658922718505789"
     },
     "user_tz": -330
    },
    "id": "0301e089-b445-4ca5-8c74-c17842a1218f",
    "outputId": "c667ef32-ed7b-4e6f-8b16-a06d0e1ceb39"
   },
   "outputs": [],
   "source": [
    "labled_list[0]"
   ]
  },
  {
   "cell_type": "code",
   "execution_count": null,
   "id": "a508029b-f634-4488-b173-0e3661cbef7d",
   "metadata": {
    "executionInfo": {
     "elapsed": 453,
     "status": "ok",
     "timestamp": 1725587755017,
     "user": {
      "displayName": "Shubham Pandey",
      "userId": "10645658922718505789"
     },
     "user_tz": -330
    },
    "id": "a508029b-f634-4488-b173-0e3661cbef7d"
   },
   "outputs": [],
   "source": [
    "feature_list = [(feature_extraction(name),gender) for name, gender in labled_list]"
   ]
  },
  {
   "cell_type": "code",
   "execution_count": null,
   "id": "49da07e3-4068-4478-afdc-2771240de36f",
   "metadata": {
    "executionInfo": {
     "elapsed": 418,
     "status": "ok",
     "timestamp": 1725587886338,
     "user": {
      "displayName": "Shubham Pandey",
      "userId": "10645658922718505789"
     },
     "user_tz": -330
    },
    "id": "49da07e3-4068-4478-afdc-2771240de36f"
   },
   "outputs": [],
   "source": [
    "from numpy import random"
   ]
  },
  {
   "cell_type": "code",
   "execution_count": null,
   "id": "9bcf05b6-c9da-4e56-9387-2104428a58aa",
   "metadata": {
    "executionInfo": {
     "elapsed": 438,
     "status": "ok",
     "timestamp": 1725587892920,
     "user": {
      "displayName": "Shubham Pandey",
      "userId": "10645658922718505789"
     },
     "user_tz": -330
    },
    "id": "9bcf05b6-c9da-4e56-9387-2104428a58aa"
   },
   "outputs": [],
   "source": [
    "random.shuffle(feature_list)"
   ]
  },
  {
   "cell_type": "code",
   "execution_count": null,
   "id": "43b15894-ac61-43c5-9618-b3eae96c66ef",
   "metadata": {
    "colab": {
     "base_uri": "https://localhost:8080/"
    },
    "executionInfo": {
     "elapsed": 429,
     "status": "ok",
     "timestamp": 1725588023798,
     "user": {
      "displayName": "Shubham Pandey",
      "userId": "10645658922718505789"
     },
     "user_tz": -330
    },
    "id": "43b15894-ac61-43c5-9618-b3eae96c66ef",
    "outputId": "c12b53f0-686a-40a3-b9b2-25f580f16e32"
   },
   "outputs": [],
   "source": [
    "len(feature_list)"
   ]
  },
  {
   "cell_type": "code",
   "execution_count": null,
   "id": "73800b86-d7b7-4257-8c0e-74c64c67f89f",
   "metadata": {
    "colab": {
     "base_uri": "https://localhost:8080/"
    },
    "executionInfo": {
     "elapsed": 449,
     "status": "ok",
     "timestamp": 1725588026417,
     "user": {
      "displayName": "Shubham Pandey",
      "userId": "10645658922718505789"
     },
     "user_tz": -330
    },
    "id": "73800b86-d7b7-4257-8c0e-74c64c67f89f",
    "outputId": "b6ebcd09-334e-4814-9f58-65989361266b"
   },
   "outputs": [],
   "source": [
    "len(feature_list)*.80"
   ]
  },
  {
   "cell_type": "code",
   "execution_count": null,
   "id": "29c10e4e-c5f4-4ee0-b6ab-84a59c988cae",
   "metadata": {
    "executionInfo": {
     "elapsed": 415,
     "status": "ok",
     "timestamp": 1725588032541,
     "user": {
      "displayName": "Shubham Pandey",
      "userId": "10645658922718505789"
     },
     "user_tz": -330
    },
    "id": "29c10e4e-c5f4-4ee0-b6ab-84a59c988cae"
   },
   "outputs": [],
   "source": [
    "train,test = feature_list[:7000],feature_list[7000:]"
   ]
  },
  {
   "cell_type": "code",
   "execution_count": null,
   "id": "71a43848-5fe7-47af-9a4e-d6ce7cbfd12e",
   "metadata": {
    "executionInfo": {
     "elapsed": 704,
     "status": "ok",
     "timestamp": 1725588130594,
     "user": {
      "displayName": "Shubham Pandey",
      "userId": "10645658922718505789"
     },
     "user_tz": -330
    },
    "id": "71a43848-5fe7-47af-9a4e-d6ce7cbfd12e"
   },
   "outputs": [],
   "source": [
    "clf = nltk.NaiveBayesClassifier.train(train)"
   ]
  },
  {
   "cell_type": "code",
   "execution_count": null,
   "id": "5a1204df-d3e4-4f22-aa71-103d0145f2ec",
   "metadata": {
    "colab": {
     "base_uri": "https://localhost:8080/"
    },
    "executionInfo": {
     "elapsed": 438,
     "status": "ok",
     "timestamp": 1725588148813,
     "user": {
      "displayName": "Shubham Pandey",
      "userId": "10645658922718505789"
     },
     "user_tz": -330
    },
    "id": "5a1204df-d3e4-4f22-aa71-103d0145f2ec",
    "outputId": "0cb09bb9-6401-4ff5-e8ff-407fbf834f11"
   },
   "outputs": [],
   "source": [
    "print(nltk.classify.accuracy(clf,test))"
   ]
  },
  {
   "cell_type": "code",
   "execution_count": null,
   "id": "b7180db2-7304-474b-90c4-72861a94ddbf",
   "metadata": {
    "id": "b7180db2-7304-474b-90c4-72861a94ddbf",
    "outputId": "39bce90c-2c07-4b5b-9b36-b120e8272c41"
   },
   "outputs": [],
   "source": [
    "clf.classify(feature_extraction('Shubham'))"
   ]
  },
  {
   "cell_type": "code",
   "execution_count": null,
   "id": "58ac1716-5ca2-4ce1-b6ff-1a79c7bc53d0",
   "metadata": {
    "executionInfo": {
     "elapsed": 443,
     "status": "ok",
     "timestamp": 1725588217303,
     "user": {
      "displayName": "Shubham Pandey",
      "userId": "10645658922718505789"
     },
     "user_tz": -330
    },
    "id": "58ac1716-5ca2-4ce1-b6ff-1a79c7bc53d0"
   },
   "outputs": [],
   "source": [
    "pred = clf.classify_many([test_data for test_data, label in test])"
   ]
  },
  {
   "cell_type": "code",
   "execution_count": null,
   "id": "8cab7d3c-1ca8-4ec3-a890-5903e5e88d97",
   "metadata": {
    "executionInfo": {
     "elapsed": 440,
     "status": "ok",
     "timestamp": 1725588224972,
     "user": {
      "displayName": "Shubham Pandey",
      "userId": "10645658922718505789"
     },
     "user_tz": -330
    },
    "id": "8cab7d3c-1ca8-4ec3-a890-5903e5e88d97"
   },
   "outputs": [],
   "source": [
    "lables = [label for test_data, label in test]"
   ]
  },
  {
   "cell_type": "code",
   "execution_count": null,
   "id": "e10659e7-9e15-49a9-a18e-adbd2eeae747",
   "metadata": {
    "colab": {
     "base_uri": "https://localhost:8080/",
     "height": 143
    },
    "executionInfo": {
     "elapsed": 449,
     "status": "ok",
     "timestamp": 1725588230033,
     "user": {
      "displayName": "Shubham Pandey",
      "userId": "10645658922718505789"
     },
     "user_tz": -330
    },
    "id": "e10659e7-9e15-49a9-a18e-adbd2eeae747",
    "outputId": "d42e5d70-9ecd-4e29-f857-99e5ab7cc6a7"
   },
   "outputs": [],
   "source": [
    "pd.crosstab(pd.Series(pred),pd.Series(lables))"
   ]
  },
  {
   "cell_type": "code",
   "execution_count": null,
   "id": "7888f478-7302-4096-b38d-c7cc2a0edef6",
   "metadata": {
    "id": "7888f478-7302-4096-b38d-c7cc2a0edef6"
   },
   "outputs": [],
   "source": []
  }
 ],
 "metadata": {
  "colab": {
   "provenance": []
  },
  "kernelspec": {
   "display_name": "Python 3 (ipykernel)",
   "language": "python",
   "name": "python3"
  },
  "language_info": {
   "codemirror_mode": {
    "name": "ipython",
    "version": 3
   },
   "file_extension": ".py",
   "mimetype": "text/x-python",
   "name": "python",
   "nbconvert_exporter": "python",
   "pygments_lexer": "ipython3",
   "version": "3.11.5"
  }
 },
 "nbformat": 4,
 "nbformat_minor": 5
}
