{
 "cells": [
  {
   "cell_type": "markdown",
   "id": "eb88582c-9575-4302-a780-01870c7c5e3e",
   "metadata": {
    "id": "eb88582c-9575-4302-a780-01870c7c5e3e",
    "tags": []
   },
   "source": [
    "# <center> Bag-of-Words\n"
   ]
  },
  {
   "cell_type": "markdown",
   "id": "719acf7b-587f-4e15-a0b4-e871640155e7",
   "metadata": {
    "id": "719acf7b-587f-4e15-a0b4-e871640155e7",
    "tags": []
   },
   "source": [
    "# <a id= 'b0'>\n",
    "<font size = 4>\n",
    "    \n",
    "**Table of contents:**<br>\n",
    "[1. Introduction](#b1)<br>\n",
    "[2. skLearn-Countvectorizer](#b2)<br>"
   ]
  },
  {
   "cell_type": "markdown",
   "id": "fd12e4da-4b9d-4e4c-a92e-d1b273570385",
   "metadata": {
    "id": "fd12e4da-4b9d-4e4c-a92e-d1b273570385",
    "tags": []
   },
   "source": [
    "## <a id = 'b1'>\n",
    "    \n",
    "<font size = 10 color = 'midnightblue'> <b> Introduction"
   ]
  },
  {
   "cell_type": "markdown",
   "id": "ae72e2a4-7f7e-43a2-a260-665f5179b075",
   "metadata": {
    "id": "ae72e2a4-7f7e-43a2-a260-665f5179b075"
   },
   "source": [
    "<div class=\"alert alert-block alert-success\">    \n",
    "<font size = 4>\n",
    "    \n",
    "- A \"bag of words\" (BoW) is a representation of a text that describes the occurrence of words within a document.\n",
    "- It is a simple and widely used technique for feature extraction in various NLP tasks.\n",
    "- The method is called “bag-of-words,” as the order of the words is lost entirely."
   ]
  },
  {
   "cell_type": "code",
   "execution_count": 1,
   "id": "8fcde77b-9a1d-4738-b063-f22c339a247e",
   "metadata": {
    "id": "8fcde77b-9a1d-4738-b063-f22c339a247e",
    "tags": []
   },
   "outputs": [],
   "source": [
    "import re\n",
    "import pandas as pd\n",
    "from string import punctuation\n",
    "from sklearn.feature_extraction.text import CountVectorizer"
   ]
  },
  {
   "cell_type": "markdown",
   "id": "7341fe75-93c7-496d-bc0a-7f8b12dac64c",
   "metadata": {
    "id": "7341fe75-93c7-496d-bc0a-7f8b12dac64c",
    "tags": []
   },
   "source": [
    "<font size = 5 color = seagreen><b> Create a collection dataset"
   ]
  },
  {
   "cell_type": "code",
   "execution_count": 2,
   "id": "f241fd2e-01e8-4bcc-a5eb-7d29417e4b0c",
   "metadata": {
    "id": "f241fd2e-01e8-4bcc-a5eb-7d29417e4b0c",
    "tags": []
   },
   "outputs": [],
   "source": [
    "dataset = [\n",
    "    \"The weather today is fantastic, with clear skies and a gentle breeze.\",\n",
    "    \"Reading is a great way to escape reality and immerse oneself in different worlds.\",\n",
    "    \"Climate change is a pressing global issue that requires immediate attention.\",\n",
    "    \"Exercise is crucial for maintaining good physical and mental health.\",\n",
    "    \"Learning a new language can be challenging but incredibly rewarding.\"\n",
    "]"
   ]
  },
  {
   "cell_type": "markdown",
   "id": "ca56466d-e9bb-4fe3-9c42-4e189ce40189",
   "metadata": {
    "id": "ca56466d-e9bb-4fe3-9c42-4e189ce40189"
   },
   "source": [
    "[top](#b0)"
   ]
  },
  {
   "cell_type": "markdown",
   "id": "d5fba43f-6531-4326-aa88-517394a13093",
   "metadata": {
    "id": "d5fba43f-6531-4326-aa88-517394a13093",
    "tags": []
   },
   "source": [
    "## <a id = 'b2'>\n",
    "<font size = 10 color = 'midnightblue'> <b> CountVectorizer"
   ]
  },
  {
   "cell_type": "markdown",
   "id": "fb694ef7-ea1a-49ee-8078-209a32fb0e40",
   "metadata": {
    "id": "fb694ef7-ea1a-49ee-8078-209a32fb0e40"
   },
   "source": [
    "<div class=\"alert alert-block alert-success\">    \n",
    "<font size = 4>\n",
    "\n",
    "<b>`CountVectoriser` from sklearn is used to fit the bag-of-words model.</b>"
   ]
  },
  {
   "cell_type": "markdown",
   "id": "c3d1874e-a24d-44b4-96cd-ba2c5e92d229",
   "metadata": {
    "id": "c3d1874e-a24d-44b4-96cd-ba2c5e92d229",
    "tags": []
   },
   "source": [
    "<font size = 5 color = seagreen><b>Define a count vectoriser"
   ]
  },
  {
   "cell_type": "code",
   "execution_count": 3,
   "id": "877b62af-3804-45e2-b051-e1de9146f261",
   "metadata": {
    "id": "877b62af-3804-45e2-b051-e1de9146f261",
    "tags": []
   },
   "outputs": [],
   "source": [
    "bow = CountVectorizer(max_features=1000, lowercase=True, analyzer='word', ngram_range=(1,3))"
   ]
  },
  {
   "cell_type": "markdown",
   "id": "0b4848af-8a19-4e0e-bb91-658ac95ce258",
   "metadata": {
    "id": "0b4848af-8a19-4e0e-bb91-658ac95ce258"
   },
   "source": [
    "<font size = 5 color = seagreen><b> Fit the bag-of-words model"
   ]
  },
  {
   "cell_type": "code",
   "execution_count": 4,
   "id": "d891668f-6d3c-4be4-a02a-06d02527c6d2",
   "metadata": {
    "id": "d891668f-6d3c-4be4-a02a-06d02527c6d2",
    "tags": []
   },
   "outputs": [],
   "source": [
    "bag_of_words = bow.fit(dataset)"
   ]
  },
  {
   "cell_type": "markdown",
   "id": "f41dd377-aedf-4271-be93-20686a6db610",
   "metadata": {
    "id": "f41dd377-aedf-4271-be93-20686a6db610",
    "tags": []
   },
   "source": [
    "<div class=\"alert alert-block alert-success\">    \n",
    "<font size = 4>\n",
    "\n",
    "The vectoriser object also returns the feature names for transformation which is the vocabulary"
   ]
  },
  {
   "cell_type": "code",
   "execution_count": 5,
   "id": "502c17ae-1895-4a23-aa1d-66787c1cff98",
   "metadata": {
    "colab": {
     "base_uri": "https://localhost:8080/"
    },
    "id": "502c17ae-1895-4a23-aa1d-66787c1cff98",
    "outputId": "42504c37-aad8-48e6-a8ee-c3e7689ad8f4",
    "tags": []
   },
   "outputs": [
    {
     "name": "stdout",
     "output_type": "stream",
     "text": [
      "['and', 'and gentle', 'and gentle breeze', 'and immerse', 'and immerse oneself', 'and mental', 'and mental health', 'attention', 'be', 'be challenging', 'be challenging but', 'breeze', 'but', 'but incredibly', 'but incredibly rewarding', 'can', 'can be', 'can be challenging', 'challenging', 'challenging but', 'challenging but incredibly', 'change', 'change is', 'change is pressing', 'clear', 'clear skies', 'clear skies and', 'climate', 'climate change', 'climate change is', 'crucial', 'crucial for', 'crucial for maintaining', 'different', 'different worlds', 'escape', 'escape reality', 'escape reality and', 'exercise', 'exercise is', 'exercise is crucial', 'fantastic', 'fantastic with', 'fantastic with clear', 'for', 'for maintaining', 'for maintaining good', 'gentle', 'gentle breeze', 'global', 'global issue', 'global issue that', 'good', 'good physical', 'good physical and', 'great', 'great way', 'great way to', 'health', 'immediate', 'immediate attention', 'immerse', 'immerse oneself', 'immerse oneself in', 'in', 'in different', 'in different worlds', 'incredibly', 'incredibly rewarding', 'is', 'is crucial', 'is crucial for', 'is fantastic', 'is fantastic with', 'is great', 'is great way', 'is pressing', 'is pressing global', 'issue', 'issue that', 'issue that requires', 'language', 'language can', 'language can be', 'learning', 'learning new', 'learning new language', 'maintaining', 'maintaining good', 'maintaining good physical', 'mental', 'mental health', 'new', 'new language', 'new language can', 'oneself', 'oneself in', 'oneself in different', 'physical', 'physical and', 'physical and mental', 'pressing', 'pressing global', 'pressing global issue', 'reading', 'reading is', 'reading is great', 'reality', 'reality and', 'reality and immerse', 'requires', 'requires immediate', 'requires immediate attention', 'rewarding', 'skies', 'skies and', 'skies and gentle', 'that', 'that requires', 'that requires immediate', 'the', 'the weather', 'the weather today', 'to', 'to escape', 'to escape reality', 'today', 'today is', 'today is fantastic', 'way', 'way to', 'way to escape', 'weather', 'weather today', 'weather today is', 'with', 'with clear', 'with clear skies', 'worlds']\n"
     ]
    }
   ],
   "source": [
    "print(list(bow.get_feature_names_out()))"
   ]
  },
  {
   "cell_type": "markdown",
   "id": "c7776955-4139-4cf0-a9dd-17a14842d99c",
   "metadata": {
    "id": "c7776955-4139-4cf0-a9dd-17a14842d99c"
   },
   "source": [
    "<div class=\"alert alert-block alert-success\">    \n",
    "<font size = 4>\n",
    "\n",
    "The vectorizer returns a sparse matrix where rows represent each sentence of the dataset and columns correspond to each word in vocabulary\n"
   ]
  },
  {
   "cell_type": "code",
   "execution_count": 6,
   "id": "15ef2b3b-b9f1-4823-8d17-aaaf6116c54f",
   "metadata": {
    "id": "15ef2b3b-b9f1-4823-8d17-aaaf6116c54f"
   },
   "outputs": [],
   "source": [
    "vector = bow.transform(dataset).toarray()"
   ]
  },
  {
   "cell_type": "code",
   "execution_count": 7,
   "id": "059e6405-e1f8-478c-bae0-07f7a7c26265",
   "metadata": {
    "colab": {
     "base_uri": "https://localhost:8080/",
     "height": 235
    },
    "id": "059e6405-e1f8-478c-bae0-07f7a7c26265",
    "outputId": "5f7faf80-dbb1-433c-8da4-e269cd8c3ff0",
    "tags": []
   },
   "outputs": [
    {
     "data": {
      "text/html": [
       "<div>\n",
       "<style scoped>\n",
       "    .dataframe tbody tr th:only-of-type {\n",
       "        vertical-align: middle;\n",
       "    }\n",
       "\n",
       "    .dataframe tbody tr th {\n",
       "        vertical-align: top;\n",
       "    }\n",
       "\n",
       "    .dataframe thead th {\n",
       "        text-align: right;\n",
       "    }\n",
       "</style>\n",
       "<table border=\"1\" class=\"dataframe\">\n",
       "  <thead>\n",
       "    <tr style=\"text-align: right;\">\n",
       "      <th></th>\n",
       "      <th>and</th>\n",
       "      <th>and gentle</th>\n",
       "      <th>and gentle breeze</th>\n",
       "      <th>and immerse</th>\n",
       "      <th>and immerse oneself</th>\n",
       "      <th>and mental</th>\n",
       "      <th>and mental health</th>\n",
       "      <th>attention</th>\n",
       "      <th>be</th>\n",
       "      <th>be challenging</th>\n",
       "      <th>...</th>\n",
       "      <th>way</th>\n",
       "      <th>way to</th>\n",
       "      <th>way to escape</th>\n",
       "      <th>weather</th>\n",
       "      <th>weather today</th>\n",
       "      <th>weather today is</th>\n",
       "      <th>with</th>\n",
       "      <th>with clear</th>\n",
       "      <th>with clear skies</th>\n",
       "      <th>worlds</th>\n",
       "    </tr>\n",
       "  </thead>\n",
       "  <tbody>\n",
       "    <tr>\n",
       "      <th>sent_1</th>\n",
       "      <td>1</td>\n",
       "      <td>1</td>\n",
       "      <td>1</td>\n",
       "      <td>0</td>\n",
       "      <td>0</td>\n",
       "      <td>0</td>\n",
       "      <td>0</td>\n",
       "      <td>0</td>\n",
       "      <td>0</td>\n",
       "      <td>0</td>\n",
       "      <td>...</td>\n",
       "      <td>0</td>\n",
       "      <td>0</td>\n",
       "      <td>0</td>\n",
       "      <td>1</td>\n",
       "      <td>1</td>\n",
       "      <td>1</td>\n",
       "      <td>1</td>\n",
       "      <td>1</td>\n",
       "      <td>1</td>\n",
       "      <td>0</td>\n",
       "    </tr>\n",
       "    <tr>\n",
       "      <th>sent_2</th>\n",
       "      <td>1</td>\n",
       "      <td>0</td>\n",
       "      <td>0</td>\n",
       "      <td>1</td>\n",
       "      <td>1</td>\n",
       "      <td>0</td>\n",
       "      <td>0</td>\n",
       "      <td>0</td>\n",
       "      <td>0</td>\n",
       "      <td>0</td>\n",
       "      <td>...</td>\n",
       "      <td>1</td>\n",
       "      <td>1</td>\n",
       "      <td>1</td>\n",
       "      <td>0</td>\n",
       "      <td>0</td>\n",
       "      <td>0</td>\n",
       "      <td>0</td>\n",
       "      <td>0</td>\n",
       "      <td>0</td>\n",
       "      <td>1</td>\n",
       "    </tr>\n",
       "    <tr>\n",
       "      <th>sent_3</th>\n",
       "      <td>0</td>\n",
       "      <td>0</td>\n",
       "      <td>0</td>\n",
       "      <td>0</td>\n",
       "      <td>0</td>\n",
       "      <td>0</td>\n",
       "      <td>0</td>\n",
       "      <td>1</td>\n",
       "      <td>0</td>\n",
       "      <td>0</td>\n",
       "      <td>...</td>\n",
       "      <td>0</td>\n",
       "      <td>0</td>\n",
       "      <td>0</td>\n",
       "      <td>0</td>\n",
       "      <td>0</td>\n",
       "      <td>0</td>\n",
       "      <td>0</td>\n",
       "      <td>0</td>\n",
       "      <td>0</td>\n",
       "      <td>0</td>\n",
       "    </tr>\n",
       "    <tr>\n",
       "      <th>sent_4</th>\n",
       "      <td>1</td>\n",
       "      <td>0</td>\n",
       "      <td>0</td>\n",
       "      <td>0</td>\n",
       "      <td>0</td>\n",
       "      <td>1</td>\n",
       "      <td>1</td>\n",
       "      <td>0</td>\n",
       "      <td>0</td>\n",
       "      <td>0</td>\n",
       "      <td>...</td>\n",
       "      <td>0</td>\n",
       "      <td>0</td>\n",
       "      <td>0</td>\n",
       "      <td>0</td>\n",
       "      <td>0</td>\n",
       "      <td>0</td>\n",
       "      <td>0</td>\n",
       "      <td>0</td>\n",
       "      <td>0</td>\n",
       "      <td>0</td>\n",
       "    </tr>\n",
       "    <tr>\n",
       "      <th>sent_5</th>\n",
       "      <td>0</td>\n",
       "      <td>0</td>\n",
       "      <td>0</td>\n",
       "      <td>0</td>\n",
       "      <td>0</td>\n",
       "      <td>0</td>\n",
       "      <td>0</td>\n",
       "      <td>0</td>\n",
       "      <td>1</td>\n",
       "      <td>1</td>\n",
       "      <td>...</td>\n",
       "      <td>0</td>\n",
       "      <td>0</td>\n",
       "      <td>0</td>\n",
       "      <td>0</td>\n",
       "      <td>0</td>\n",
       "      <td>0</td>\n",
       "      <td>0</td>\n",
       "      <td>0</td>\n",
       "      <td>0</td>\n",
       "      <td>0</td>\n",
       "    </tr>\n",
       "  </tbody>\n",
       "</table>\n",
       "<p>5 rows × 139 columns</p>\n",
       "</div>"
      ],
      "text/plain": [
       "        and  and gentle  and gentle breeze  and immerse  and immerse oneself  \\\n",
       "sent_1    1           1                  1            0                    0   \n",
       "sent_2    1           0                  0            1                    1   \n",
       "sent_3    0           0                  0            0                    0   \n",
       "sent_4    1           0                  0            0                    0   \n",
       "sent_5    0           0                  0            0                    0   \n",
       "\n",
       "        and mental  and mental health  attention  be  be challenging  ...  \\\n",
       "sent_1           0                  0          0   0               0  ...   \n",
       "sent_2           0                  0          0   0               0  ...   \n",
       "sent_3           0                  0          1   0               0  ...   \n",
       "sent_4           1                  1          0   0               0  ...   \n",
       "sent_5           0                  0          0   1               1  ...   \n",
       "\n",
       "        way  way to  way to escape  weather  weather today  weather today is  \\\n",
       "sent_1    0       0              0        1              1                 1   \n",
       "sent_2    1       1              1        0              0                 0   \n",
       "sent_3    0       0              0        0              0                 0   \n",
       "sent_4    0       0              0        0              0                 0   \n",
       "sent_5    0       0              0        0              0                 0   \n",
       "\n",
       "        with  with clear  with clear skies  worlds  \n",
       "sent_1     1           1                 1       0  \n",
       "sent_2     0           0                 0       1  \n",
       "sent_3     0           0                 0       0  \n",
       "sent_4     0           0                 0       0  \n",
       "sent_5     0           0                 0       0  \n",
       "\n",
       "[5 rows x 139 columns]"
      ]
     },
     "execution_count": 7,
     "metadata": {},
     "output_type": "execute_result"
    }
   ],
   "source": [
    "pd.DataFrame(vector,\n",
    "             columns= list(bow.get_feature_names_out()),\n",
    "             index = [f'sent_{i}' for i in range(1,len(dataset)+1)])"
   ]
  },
  {
   "cell_type": "markdown",
   "id": "5add895f-7895-47d7-8fe1-6f454c163256",
   "metadata": {
    "id": "5add895f-7895-47d7-8fe1-6f454c163256"
   },
   "source": [
    "<font size = 5 color = seagreen><b> This vectorised data can be used as features (predictors) to any ML model"
   ]
  },
  {
   "cell_type": "markdown",
   "id": "2916d100-f999-4712-9ba4-51c7571f524f",
   "metadata": {
    "id": "2916d100-f999-4712-9ba4-51c7571f524f"
   },
   "source": [
    "[top](#b0)"
   ]
  },
  {
   "cell_type": "code",
   "execution_count": null,
   "id": "74a102e3-26c7-4cdb-8dcd-5c023cd6a8be",
   "metadata": {
    "id": "74a102e3-26c7-4cdb-8dcd-5c023cd6a8be"
   },
   "outputs": [],
   "source": []
  }
 ],
 "metadata": {
  "colab": {
   "provenance": []
  },
  "kernelspec": {
   "display_name": "Python 3 (ipykernel)",
   "language": "python",
   "name": "python3"
  },
  "language_info": {
   "codemirror_mode": {
    "name": "ipython",
    "version": 3
   },
   "file_extension": ".py",
   "mimetype": "text/x-python",
   "name": "python",
   "nbconvert_exporter": "python",
   "pygments_lexer": "ipython3",
   "version": "3.11.5"
  }
 },
 "nbformat": 4,
 "nbformat_minor": 5
}
