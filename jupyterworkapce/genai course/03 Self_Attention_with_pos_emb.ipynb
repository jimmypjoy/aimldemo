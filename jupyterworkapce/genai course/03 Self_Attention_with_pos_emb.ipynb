{
 "cells": [
  {
   "cell_type": "code",
   "execution_count": 1,
   "id": "0c2e913e-97d5-4bcc-b390-026155929024",
   "metadata": {
    "executionInfo": {
     "elapsed": 3408,
     "status": "ok",
     "timestamp": 1728125059442,
     "user": {
      "displayName": "Shubham Pandey",
      "userId": "10645658922718505789"
     },
     "user_tz": -330
    },
    "id": "0c2e913e-97d5-4bcc-b390-026155929024"
   },
   "outputs": [],
   "source": [
    "import numpy as np\n",
    "import gensim.downloader as api\n",
    "from scipy.special import softmax"
   ]
  },
  {
   "cell_type": "code",
   "execution_count": 3,
   "id": "530082eb-134d-4003-b00e-4cb205098f84",
   "metadata": {
    "colab": {
     "base_uri": "https://localhost:8080/"
    },
    "executionInfo": {
     "elapsed": 250294,
     "status": "ok",
     "timestamp": 1728125309731,
     "user": {
      "displayName": "Shubham Pandey",
      "userId": "10645658922718505789"
     },
     "user_tz": -330
    },
    "id": "530082eb-134d-4003-b00e-4cb205098f84",
    "outputId": "3f6368a5-c936-4760-bec6-f44542b21011"
   },
   "outputs": [
    {
     "name": "stdout",
     "output_type": "stream",
     "text": [
      "Loading GloVe embeddings...\n",
      "GloVe embeddings loaded.\n"
     ]
    }
   ],
   "source": [
    "# Load pre-trained GloVe embeddings\n",
    "print(\"Loading GloVe embeddings...\")\n",
    "glove_vectors = api.load(\"glove-wiki-gigaword-300\")  # 300-dimensional GloVe embeddings\n",
    "print(\"GloVe embeddings loaded.\")"
   ]
  },
  {
   "cell_type": "code",
   "execution_count": 19,
   "id": "ac7dd97d-cb38-4391-b1a0-437549383daf",
   "metadata": {
    "executionInfo": {
     "elapsed": 11,
     "status": "ok",
     "timestamp": 1728125309732,
     "user": {
      "displayName": "Shubham Pandey",
      "userId": "10645658922718505789"
     },
     "user_tz": -330
    },
    "id": "ac7dd97d-cb38-4391-b1a0-437549383daf"
   },
   "outputs": [],
   "source": [
    "# Our input sentence\n",
    "sentence = \"The dog chased the cat which was scared\"\n",
    "words = sentence.split()\n",
    "seq_length = len(words)"
   ]
  },
  {
   "cell_type": "code",
   "execution_count": 20,
   "id": "93a7f464",
   "metadata": {},
   "outputs": [
    {
     "data": {
      "text/plain": [
       "['The', 'dog', 'chased', 'the', 'cat', 'which', 'was', 'scared']"
      ]
     },
     "execution_count": 20,
     "metadata": {},
     "output_type": "execute_result"
    }
   ],
   "source": [
    "words"
   ]
  },
  {
   "cell_type": "code",
   "execution_count": 21,
   "id": "1e921ee8",
   "metadata": {},
   "outputs": [
    {
     "data": {
      "text/plain": [
       "8"
      ]
     },
     "execution_count": 21,
     "metadata": {},
     "output_type": "execute_result"
    }
   ],
   "source": [
    "seq_length"
   ]
  },
  {
   "cell_type": "code",
   "execution_count": 22,
   "id": "eab9a466-0bc4-4623-8830-95301f607423",
   "metadata": {
    "executionInfo": {
     "elapsed": 10,
     "status": "ok",
     "timestamp": 1728125309732,
     "user": {
      "displayName": "Shubham Pandey",
      "userId": "10645658922718505789"
     },
     "user_tz": -330
    },
    "id": "eab9a466-0bc4-4623-8830-95301f607423"
   },
   "outputs": [],
   "source": [
    "# Hyperparameters\n",
    "embedding_dim = 300  # GloVe vectors are 300-dimensional\n",
    "max_seq_length = 512  # Maximum sequence length for positional embeddings"
   ]
  },
  {
   "cell_type": "code",
   "execution_count": 6,
   "id": "de14a167-4e7d-49c9-b3be-4533fe5a4e95",
   "metadata": {
    "executionInfo": {
     "elapsed": 9,
     "status": "ok",
     "timestamp": 1728125309732,
     "user": {
      "displayName": "Shubham Pandey",
      "userId": "10645658922718505789"
     },
     "user_tz": -330
    },
    "id": "de14a167-4e7d-49c9-b3be-4533fe5a4e95"
   },
   "outputs": [],
   "source": [
    "def get_positional_encoding(seq_length, d_model, max_len=max_seq_length):\n",
    "    positional_encoding = np.zeros((max_len, d_model))\n",
    "    for pos in range(max_len):\n",
    "        for i in range(0, d_model, 2):\n",
    "            positional_encoding[pos, i] = np.sin(pos / (10000 ** ((2 * i)/d_model)))\n",
    "            positional_encoding[pos, i + 1] = np.cos(pos / (10000 ** ((2 * (i + 1))/d_model)))\n",
    "    return positional_encoding[:seq_length]\n",
    "\n",
    "# Step 1: Create word embeddings using GloVe\n",
    "word_embeddings = np.array([glove_vectors[word.lower()] if word.lower() in glove_vectors else glove_vectors['unk'] for word in words])\n",
    "\n",
    "# Step 2: Create positional embeddings\n",
    "positional_embeddings = get_positional_encoding(seq_length, embedding_dim)\n",
    "\n",
    "# Step 3: Combine word embeddings and positional embeddings\n",
    "input_embeddings = word_embeddings + positional_embeddings"
   ]
  },
  {
   "cell_type": "code",
   "execution_count": 7,
   "id": "QQ_8cy8XT2pJ",
   "metadata": {
    "colab": {
     "base_uri": "https://localhost:8080/"
    },
    "executionInfo": {
     "elapsed": 460,
     "status": "ok",
     "timestamp": 1728125570393,
     "user": {
      "displayName": "Shubham Pandey",
      "userId": "10645658922718505789"
     },
     "user_tz": -330
    },
    "id": "QQ_8cy8XT2pJ",
    "outputId": "bd0a4565-ce3c-48fb-e352-8474f1182963"
   },
   "outputs": [
    {
     "data": {
      "text/plain": [
       "(8, 300)"
      ]
     },
     "execution_count": 7,
     "metadata": {},
     "output_type": "execute_result"
    }
   ],
   "source": [
    "word_embeddings.shape"
   ]
  },
  {
   "cell_type": "code",
   "execution_count": 8,
   "id": "ogIbd3heUxll",
   "metadata": {
    "colab": {
     "base_uri": "https://localhost:8080/"
    },
    "executionInfo": {
     "elapsed": 2,
     "status": "ok",
     "timestamp": 1728125816952,
     "user": {
      "displayName": "Shubham Pandey",
      "userId": "10645658922718505789"
     },
     "user_tz": -330
    },
    "id": "ogIbd3heUxll",
    "outputId": "4d22a815-2744-40a0-cef6-79c35e67f5ae"
   },
   "outputs": [
    {
     "data": {
      "text/plain": [
       "(8, 300)"
      ]
     },
     "execution_count": 8,
     "metadata": {},
     "output_type": "execute_result"
    }
   ],
   "source": [
    "positional_embeddings.shape"
   ]
  },
  {
   "cell_type": "code",
   "execution_count": 9,
   "id": "wnwRQ_SdU8k-",
   "metadata": {
    "colab": {
     "base_uri": "https://localhost:8080/"
    },
    "executionInfo": {
     "elapsed": 626,
     "status": "ok",
     "timestamp": 1728125855285,
     "user": {
      "displayName": "Shubham Pandey",
      "userId": "10645658922718505789"
     },
     "user_tz": -330
    },
    "id": "wnwRQ_SdU8k-",
    "outputId": "ac44da34-83a8-40fd-fc12-4852810cfd31"
   },
   "outputs": [
    {
     "data": {
      "text/plain": [
       "array([[ 0.04656   ,  1.21318001, -0.0074364 , ...,  1.0090611 ,\n",
       "        -0.20988999,  1.053913  ],\n",
       "       [ 0.73104098,  1.40159875,  0.84722602, ...,  1.33936   ,\n",
       "         0.57994003,  1.068149  ],\n",
       "       [ 0.79341743, -0.09352756,  1.14576686, ...,  1.074944  ,\n",
       "         0.26975002,  1.30592   ],\n",
       "       ...,\n",
       "       [-1.18124428,  0.22839546, -1.00623184, ...,  0.67298999,\n",
       "        -0.05374394,  0.58175999],\n",
       "       [-0.2138425 ,  0.82379838, -0.96039976, ...,  0.78083999,\n",
       "        -0.43185993,  0.919652  ],\n",
       "       [ 1.03910661,  0.90790557, -0.0365134 , ...,  1.35398   ,\n",
       "         0.27280008,  1.73144001]])"
      ]
     },
     "execution_count": 9,
     "metadata": {},
     "output_type": "execute_result"
    }
   ],
   "source": [
    "input_embeddings"
   ]
  },
  {
   "cell_type": "code",
   "execution_count": 10,
   "id": "wCMkW6MgU2rG",
   "metadata": {
    "colab": {
     "base_uri": "https://localhost:8080/"
    },
    "executionInfo": {
     "elapsed": 737,
     "status": "ok",
     "timestamp": 1728125840657,
     "user": {
      "displayName": "Shubham Pandey",
      "userId": "10645658922718505789"
     },
     "user_tz": -330
    },
    "id": "wCMkW6MgU2rG",
    "outputId": "f929f36b-f4a6-4120-d917-2556c685c7c2"
   },
   "outputs": [
    {
     "data": {
      "text/plain": [
       "(8, 300)"
      ]
     },
     "execution_count": 10,
     "metadata": {},
     "output_type": "execute_result"
    }
   ],
   "source": [
    "input_embeddings.shape"
   ]
  },
  {
   "cell_type": "code",
   "execution_count": 11,
   "id": "61e1a738-bdb7-43ce-81e1-f9d177a98dbb",
   "metadata": {
    "executionInfo": {
     "elapsed": 9,
     "status": "ok",
     "timestamp": 1728125309732,
     "user": {
      "displayName": "Shubham Pandey",
      "userId": "10645658922718505789"
     },
     "user_tz": -330
    },
    "id": "61e1a738-bdb7-43ce-81e1-f9d177a98dbb"
   },
   "outputs": [],
   "source": [
    "# Step 4: Create Query, Key, and Value matrices\n",
    "W_query = np.random.rand(embedding_dim, embedding_dim)\n",
    "W_key = np.random.rand(embedding_dim, embedding_dim)\n",
    "W_value = np.random.rand(embedding_dim, embedding_dim)"
   ]
  },
  {
   "cell_type": "code",
   "execution_count": 12,
   "id": "b6c795cd-9bd9-4e0d-b6cf-e1a2dba5387b",
   "metadata": {
    "executionInfo": {
     "elapsed": 8,
     "status": "ok",
     "timestamp": 1728125309732,
     "user": {
      "displayName": "Shubham Pandey",
      "userId": "10645658922718505789"
     },
     "user_tz": -330
    },
    "id": "b6c795cd-9bd9-4e0d-b6cf-e1a2dba5387b"
   },
   "outputs": [],
   "source": [
    "# Step 5: Compute Q, K, V\n",
    "Q = np.dot(input_embeddings, W_query)\n",
    "K = np.dot(input_embeddings, W_key)\n",
    "V = np.dot(input_embeddings, W_value)"
   ]
  },
  {
   "cell_type": "code",
   "execution_count": 13,
   "id": "f051d889-80e2-4a59-913a-f8984f5df5e0",
   "metadata": {
    "executionInfo": {
     "elapsed": 8,
     "status": "ok",
     "timestamp": 1728125309732,
     "user": {
      "displayName": "Shubham Pandey",
      "userId": "10645658922718505789"
     },
     "user_tz": -330
    },
    "id": "f051d889-80e2-4a59-913a-f8984f5df5e0"
   },
   "outputs": [],
   "source": [
    "# Step 6: Compute attention scores\n",
    "attention_scores = np.dot(Q, K.T)"
   ]
  },
  {
   "cell_type": "code",
   "execution_count": 14,
   "id": "b3160a85-262c-4a22-ba7c-61aef4becfa5",
   "metadata": {
    "executionInfo": {
     "elapsed": 7,
     "status": "ok",
     "timestamp": 1728125309732,
     "user": {
      "displayName": "Shubham Pandey",
      "userId": "10645658922718505789"
     },
     "user_tz": -330
    },
    "id": "b3160a85-262c-4a22-ba7c-61aef4becfa5"
   },
   "outputs": [],
   "source": [
    "# Step 7: Scale the attention scores\n",
    "attention_scores /= np.sqrt(embedding_dim)"
   ]
  },
  {
   "cell_type": "code",
   "execution_count": 15,
   "id": "e282852b-0dfe-480a-8cc0-837c243d251e",
   "metadata": {
    "executionInfo": {
     "elapsed": 8,
     "status": "ok",
     "timestamp": 1728125309733,
     "user": {
      "displayName": "Shubham Pandey",
      "userId": "10645658922718505789"
     },
     "user_tz": -330
    },
    "id": "e282852b-0dfe-480a-8cc0-837c243d251e"
   },
   "outputs": [],
   "source": [
    "# Step 8: Apply softmax to get attention weights\n",
    "attention_weights = softmax(attention_scores, axis=1)"
   ]
  },
  {
   "cell_type": "code",
   "execution_count": 16,
   "id": "6a890a0d-b7eb-4b3e-a78a-c4d5683aea2d",
   "metadata": {
    "colab": {
     "base_uri": "https://localhost:8080/"
    },
    "executionInfo": {
     "elapsed": 452,
     "status": "ok",
     "timestamp": 1728125310178,
     "user": {
      "displayName": "Shubham Pandey",
      "userId": "10645658922718505789"
     },
     "user_tz": -330
    },
    "id": "6a890a0d-b7eb-4b3e-a78a-c4d5683aea2d",
    "outputId": "ce654f88-7e3c-4bb8-fd08-ba03dd2f3bf4"
   },
   "outputs": [
    {
     "name": "stdout",
     "output_type": "stream",
     "text": [
      "\n",
      "Self-Attention Results:\n",
      "\n",
      "Word: The\n",
      "Top 3 words this word pays attention to:\n",
      "  chased: 1.0000\n",
      "  the: 0.0000\n",
      "  The: 0.0000\n",
      "\n",
      "Word: dog\n",
      "Top 3 words this word pays attention to:\n",
      "  chased: 1.0000\n",
      "  the: 0.0000\n",
      "  The: 0.0000\n",
      "\n",
      "Word: chased\n",
      "Top 3 words this word pays attention to:\n",
      "  chased: 1.0000\n",
      "  the: 0.0000\n",
      "  The: 0.0000\n",
      "\n",
      "Word: the\n",
      "Top 3 words this word pays attention to:\n",
      "  chased: 1.0000\n",
      "  the: 0.0000\n",
      "  The: 0.0000\n",
      "\n",
      "Word: cat\n",
      "Top 3 words this word pays attention to:\n",
      "  chased: 1.0000\n",
      "  the: 0.0000\n",
      "  The: 0.0000\n",
      "\n",
      "Word: which\n",
      "Top 3 words this word pays attention to:\n",
      "  chased: 1.0000\n",
      "  the: 0.0000\n",
      "  The: 0.0000\n",
      "\n",
      "Word: was\n",
      "Top 3 words this word pays attention to:\n",
      "  chased: 1.0000\n",
      "  the: 0.0000\n",
      "  The: 0.0000\n",
      "\n",
      "Word: scared\n",
      "Top 3 words this word pays attention to:\n",
      "  chased: 1.0000\n",
      "  the: 0.0000\n",
      "  The: 0.0000\n",
      "\n",
      "Interesting relationships:\n",
      "'The' pays most attention to 'chased'\n",
      "'dog' pays most attention to 'chased'\n",
      "'the' pays most attention to 'chased'\n",
      "'cat' pays most attention to 'chased'\n",
      "'which' pays most attention to 'chased'\n",
      "'was' pays most attention to 'chased'\n",
      "'scared' pays most attention to 'chased'\n",
      "\n",
      "Attention Weight Matrix:\n",
      "       The       dog    chased       the       cat     which       was    scared\n",
      "       The      0.00      0.00      1.00      0.00      0.00      0.00      0.00      0.00\n",
      "       dog      0.00      0.00      1.00      0.00      0.00      0.00      0.00      0.00\n",
      "    chased      0.00      0.00      1.00      0.00      0.00      0.00      0.00      0.00\n",
      "       the      0.00      0.00      1.00      0.00      0.00      0.00      0.00      0.00\n",
      "       cat      0.00      0.00      1.00      0.00      0.00      0.00      0.00      0.00\n",
      "     which      0.00      0.00      1.00      0.00      0.00      0.00      0.00      0.00\n",
      "       was      0.00      0.00      1.00      0.00      0.00      0.00      0.00      0.00\n",
      "    scared      0.00      0.00      1.00      0.00      0.00      0.00      0.00      0.00\n"
     ]
    }
   ],
   "source": [
    "# Step 9: Compute the weighted sum\n",
    "output = np.dot(attention_weights, V)\n",
    "\n",
    "# Print results\n",
    "print(\"\\nSelf-Attention Results:\")\n",
    "for i, word in enumerate(words):\n",
    "    print(f\"\\nWord: {word}\")\n",
    "    print(f\"Top 3 words this word pays attention to:\")\n",
    "    top_attention = sorted(enumerate(attention_weights[i]), key=lambda x: x[1], reverse=True)[:3]\n",
    "    for idx, weight in top_attention:\n",
    "        print(f\"  {words[idx]}: {weight:.4f}\")\n",
    "\n",
    "# Analyze relationships\n",
    "print(\"\\nInteresting relationships:\")\n",
    "for i, word in enumerate(words):\n",
    "    max_attention = np.argmax(attention_weights[i])\n",
    "    if i != max_attention:\n",
    "        print(f\"'{word}' pays most attention to '{words[max_attention]}'\")\n",
    "\n",
    "\n",
    "# Visualize attention weights\n",
    "print(\"\\nAttention Weight Matrix:\")\n",
    "for i, word in enumerate(words):\n",
    "    print(f\"{word:>10}\", end=\"\")\n",
    "print()\n",
    "for i, word in enumerate(words):\n",
    "    print(f\"{word:>10}\", end=\"\")\n",
    "    for j in range(seq_length):\n",
    "        print(f\"{attention_weights[i, j]:>10.2f}\", end=\"\")\n",
    "    print()"
   ]
  },
  {
   "cell_type": "code",
   "execution_count": null,
   "id": "96e142e0-ef1c-461e-b136-2fd17ce40f4b",
   "metadata": {
    "executionInfo": {
     "elapsed": 2,
     "status": "ok",
     "timestamp": 1728125310179,
     "user": {
      "displayName": "Shubham Pandey",
      "userId": "10645658922718505789"
     },
     "user_tz": -330
    },
    "id": "96e142e0-ef1c-461e-b136-2fd17ce40f4b"
   },
   "outputs": [],
   "source": []
  },
  {
   "cell_type": "code",
   "execution_count": null,
   "id": "afa890df",
   "metadata": {},
   "outputs": [],
   "source": []
  }
 ],
 "metadata": {
  "colab": {
   "provenance": []
  },
  "kernelspec": {
   "display_name": "Python 3 (ipykernel)",
   "language": "python",
   "name": "python3"
  },
  "language_info": {
   "codemirror_mode": {
    "name": "ipython",
    "version": 3
   },
   "file_extension": ".py",
   "mimetype": "text/x-python",
   "name": "python",
   "nbconvert_exporter": "python",
   "pygments_lexer": "ipython3",
   "version": "3.11.5"
  }
 },
 "nbformat": 4,
 "nbformat_minor": 5
}
