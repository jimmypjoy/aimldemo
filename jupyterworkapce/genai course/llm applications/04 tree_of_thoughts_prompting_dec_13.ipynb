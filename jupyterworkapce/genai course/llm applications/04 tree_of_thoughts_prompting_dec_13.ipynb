{
 "cells": [
  {
   "cell_type": "markdown",
   "id": "a8aa5e32-56dd-4b2c-b1e7-82ce495946f2",
   "metadata": {
    "id": "a8aa5e32-56dd-4b2c-b1e7-82ce495946f2"
   },
   "source": [
    "### Tree of Thoughts Prompting"
   ]
  },
  {
   "cell_type": "markdown",
   "id": "14f9c759-4585-4af4-9926-9b4c9af9e306",
   "metadata": {
    "id": "14f9c759-4585-4af4-9926-9b4c9af9e306"
   },
   "source": [
    "[Tree of Thoughts: Deliberate Problem Solving with Large Language Models](https://arxiv.org/pdf/2305.10601.pdf)"
   ]
  },
  {
   "cell_type": "markdown",
   "id": "757e8953-a1db-41a0-9a4a-06f89c444d0d",
   "metadata": {
    "id": "757e8953-a1db-41a0-9a4a-06f89c444d0d"
   },
   "source": [
    "### Loading libraries"
   ]
  },
  {
   "cell_type": "code",
   "execution_count": null,
   "id": "zVpMKMpVCtIU",
   "metadata": {
    "colab": {
     "base_uri": "https://localhost:8080/"
    },
    "id": "zVpMKMpVCtIU",
    "outputId": "32264909-8ff2-4f96-ea03-5b1ac698941f"
   },
   "outputs": [
    {
     "name": "stdout",
     "output_type": "stream",
     "text": [
      "Collecting langchain_openai\n",
      "  Downloading langchain_openai-0.2.0-py3-none-any.whl.metadata (2.6 kB)\n",
      "Collecting langchain-core<0.4,>=0.3 (from langchain_openai)\n",
      "  Downloading langchain_core-0.3.5-py3-none-any.whl.metadata (6.3 kB)\n",
      "Collecting openai<2.0.0,>=1.40.0 (from langchain_openai)\n",
      "  Downloading openai-1.47.1-py3-none-any.whl.metadata (24 kB)\n",
      "Collecting tiktoken<1,>=0.7 (from langchain_openai)\n",
      "  Downloading tiktoken-0.7.0-cp310-cp310-manylinux_2_17_x86_64.manylinux2014_x86_64.whl.metadata (6.6 kB)\n",
      "Requirement already satisfied: PyYAML>=5.3 in /usr/local/lib/python3.10/dist-packages (from langchain-core<0.4,>=0.3->langchain_openai) (6.0.2)\n",
      "Collecting jsonpatch<2.0,>=1.33 (from langchain-core<0.4,>=0.3->langchain_openai)\n",
      "  Downloading jsonpatch-1.33-py2.py3-none-any.whl.metadata (3.0 kB)\n",
      "Collecting langsmith<0.2.0,>=0.1.125 (from langchain-core<0.4,>=0.3->langchain_openai)\n",
      "  Downloading langsmith-0.1.125-py3-none-any.whl.metadata (13 kB)\n",
      "Requirement already satisfied: packaging<25,>=23.2 in /usr/local/lib/python3.10/dist-packages (from langchain-core<0.4,>=0.3->langchain_openai) (24.1)\n",
      "Requirement already satisfied: pydantic<3.0.0,>=2.5.2 in /usr/local/lib/python3.10/dist-packages (from langchain-core<0.4,>=0.3->langchain_openai) (2.9.2)\n",
      "Collecting tenacity!=8.4.0,<9.0.0,>=8.1.0 (from langchain-core<0.4,>=0.3->langchain_openai)\n",
      "  Downloading tenacity-8.5.0-py3-none-any.whl.metadata (1.2 kB)\n",
      "Requirement already satisfied: typing-extensions>=4.7 in /usr/local/lib/python3.10/dist-packages (from langchain-core<0.4,>=0.3->langchain_openai) (4.12.2)\n",
      "Requirement already satisfied: anyio<5,>=3.5.0 in /usr/local/lib/python3.10/dist-packages (from openai<2.0.0,>=1.40.0->langchain_openai) (3.7.1)\n",
      "Requirement already satisfied: distro<2,>=1.7.0 in /usr/lib/python3/dist-packages (from openai<2.0.0,>=1.40.0->langchain_openai) (1.7.0)\n",
      "Collecting httpx<1,>=0.23.0 (from openai<2.0.0,>=1.40.0->langchain_openai)\n",
      "  Downloading httpx-0.27.2-py3-none-any.whl.metadata (7.1 kB)\n",
      "Collecting jiter<1,>=0.4.0 (from openai<2.0.0,>=1.40.0->langchain_openai)\n",
      "  Downloading jiter-0.5.0-cp310-cp310-manylinux_2_17_x86_64.manylinux2014_x86_64.whl.metadata (3.6 kB)\n",
      "Requirement already satisfied: sniffio in /usr/local/lib/python3.10/dist-packages (from openai<2.0.0,>=1.40.0->langchain_openai) (1.3.1)\n",
      "Requirement already satisfied: tqdm>4 in /usr/local/lib/python3.10/dist-packages (from openai<2.0.0,>=1.40.0->langchain_openai) (4.66.5)\n",
      "Requirement already satisfied: regex>=2022.1.18 in /usr/local/lib/python3.10/dist-packages (from tiktoken<1,>=0.7->langchain_openai) (2024.9.11)\n",
      "Requirement already satisfied: requests>=2.26.0 in /usr/local/lib/python3.10/dist-packages (from tiktoken<1,>=0.7->langchain_openai) (2.32.3)\n",
      "Requirement already satisfied: idna>=2.8 in /usr/local/lib/python3.10/dist-packages (from anyio<5,>=3.5.0->openai<2.0.0,>=1.40.0->langchain_openai) (3.10)\n",
      "Requirement already satisfied: exceptiongroup in /usr/local/lib/python3.10/dist-packages (from anyio<5,>=3.5.0->openai<2.0.0,>=1.40.0->langchain_openai) (1.2.2)\n",
      "Requirement already satisfied: certifi in /usr/local/lib/python3.10/dist-packages (from httpx<1,>=0.23.0->openai<2.0.0,>=1.40.0->langchain_openai) (2024.8.30)\n",
      "Collecting httpcore==1.* (from httpx<1,>=0.23.0->openai<2.0.0,>=1.40.0->langchain_openai)\n",
      "  Downloading httpcore-1.0.5-py3-none-any.whl.metadata (20 kB)\n",
      "Collecting h11<0.15,>=0.13 (from httpcore==1.*->httpx<1,>=0.23.0->openai<2.0.0,>=1.40.0->langchain_openai)\n",
      "  Downloading h11-0.14.0-py3-none-any.whl.metadata (8.2 kB)\n",
      "Collecting jsonpointer>=1.9 (from jsonpatch<2.0,>=1.33->langchain-core<0.4,>=0.3->langchain_openai)\n",
      "  Downloading jsonpointer-3.0.0-py2.py3-none-any.whl.metadata (2.3 kB)\n",
      "Collecting orjson<4.0.0,>=3.9.14 (from langsmith<0.2.0,>=0.1.125->langchain-core<0.4,>=0.3->langchain_openai)\n",
      "  Downloading orjson-3.10.7-cp310-cp310-manylinux_2_17_x86_64.manylinux2014_x86_64.whl.metadata (50 kB)\n",
      "\u001b[2K     \u001b[90m━━━━━━━━━━━━━━━━━━━━━━━━━━━━━━━━━━━━━━━━\u001b[0m \u001b[32m50.4/50.4 kB\u001b[0m \u001b[31m1.4 MB/s\u001b[0m eta \u001b[36m0:00:00\u001b[0m\n",
      "\u001b[?25hRequirement already satisfied: annotated-types>=0.6.0 in /usr/local/lib/python3.10/dist-packages (from pydantic<3.0.0,>=2.5.2->langchain-core<0.4,>=0.3->langchain_openai) (0.7.0)\n",
      "Requirement already satisfied: pydantic-core==2.23.4 in /usr/local/lib/python3.10/dist-packages (from pydantic<3.0.0,>=2.5.2->langchain-core<0.4,>=0.3->langchain_openai) (2.23.4)\n",
      "Requirement already satisfied: charset-normalizer<4,>=2 in /usr/local/lib/python3.10/dist-packages (from requests>=2.26.0->tiktoken<1,>=0.7->langchain_openai) (3.3.2)\n",
      "Requirement already satisfied: urllib3<3,>=1.21.1 in /usr/local/lib/python3.10/dist-packages (from requests>=2.26.0->tiktoken<1,>=0.7->langchain_openai) (2.2.3)\n",
      "Downloading langchain_openai-0.2.0-py3-none-any.whl (51 kB)\n",
      "\u001b[2K   \u001b[90m━━━━━━━━━━━━━━━━━━━━━━━━━━━━━━━━━━━━━━━━\u001b[0m \u001b[32m51.5/51.5 kB\u001b[0m \u001b[31m2.7 MB/s\u001b[0m eta \u001b[36m0:00:00\u001b[0m\n",
      "\u001b[?25hDownloading langchain_core-0.3.5-py3-none-any.whl (399 kB)\n",
      "\u001b[2K   \u001b[90m━━━━━━━━━━━━━━━━━━━━━━━━━━━━━━━━━━━━━━━━\u001b[0m \u001b[32m399.9/399.9 kB\u001b[0m \u001b[31m10.6 MB/s\u001b[0m eta \u001b[36m0:00:00\u001b[0m\n",
      "\u001b[?25hDownloading openai-1.47.1-py3-none-any.whl (375 kB)\n",
      "\u001b[2K   \u001b[90m━━━━━━━━━━━━━━━━━━━━━━━━━━━━━━━━━━━━━━━━\u001b[0m \u001b[32m375.6/375.6 kB\u001b[0m \u001b[31m19.6 MB/s\u001b[0m eta \u001b[36m0:00:00\u001b[0m\n",
      "\u001b[?25hDownloading tiktoken-0.7.0-cp310-cp310-manylinux_2_17_x86_64.manylinux2014_x86_64.whl (1.1 MB)\n",
      "\u001b[2K   \u001b[90m━━━━━━━━━━━━━━━━━━━━━━━━━━━━━━━━━━━━━━━━\u001b[0m \u001b[32m1.1/1.1 MB\u001b[0m \u001b[31m34.4 MB/s\u001b[0m eta \u001b[36m0:00:00\u001b[0m\n",
      "\u001b[?25hDownloading httpx-0.27.2-py3-none-any.whl (76 kB)\n",
      "\u001b[2K   \u001b[90m━━━━━━━━━━━━━━━━━━━━━━━━━━━━━━━━━━━━━━━━\u001b[0m \u001b[32m76.4/76.4 kB\u001b[0m \u001b[31m5.1 MB/s\u001b[0m eta \u001b[36m0:00:00\u001b[0m\n",
      "\u001b[?25hDownloading httpcore-1.0.5-py3-none-any.whl (77 kB)\n",
      "\u001b[2K   \u001b[90m━━━━━━━━━━━━━━━━━━━━━━━━━━━━━━━━━━━━━━━━\u001b[0m \u001b[32m77.9/77.9 kB\u001b[0m \u001b[31m5.0 MB/s\u001b[0m eta \u001b[36m0:00:00\u001b[0m\n",
      "\u001b[?25hDownloading jiter-0.5.0-cp310-cp310-manylinux_2_17_x86_64.manylinux2014_x86_64.whl (318 kB)\n",
      "\u001b[2K   \u001b[90m━━━━━━━━━━━━━━━━━━━━━━━━━━━━━━━━━━━━━━━━\u001b[0m \u001b[32m318.9/318.9 kB\u001b[0m \u001b[31m21.3 MB/s\u001b[0m eta \u001b[36m0:00:00\u001b[0m\n",
      "\u001b[?25hDownloading jsonpatch-1.33-py2.py3-none-any.whl (12 kB)\n",
      "Downloading langsmith-0.1.125-py3-none-any.whl (290 kB)\n",
      "\u001b[2K   \u001b[90m━━━━━━━━━━━━━━━━━━━━━━━━━━━━━━━━━━━━━━━━\u001b[0m \u001b[32m290.2/290.2 kB\u001b[0m \u001b[31m15.3 MB/s\u001b[0m eta \u001b[36m0:00:00\u001b[0m\n",
      "\u001b[?25hDownloading tenacity-8.5.0-py3-none-any.whl (28 kB)\n",
      "Downloading jsonpointer-3.0.0-py2.py3-none-any.whl (7.6 kB)\n",
      "Downloading orjson-3.10.7-cp310-cp310-manylinux_2_17_x86_64.manylinux2014_x86_64.whl (141 kB)\n",
      "\u001b[2K   \u001b[90m━━━━━━━━━━━━━━━━━━━━━━━━━━━━━━━━━━━━━━━━\u001b[0m \u001b[32m141.9/141.9 kB\u001b[0m \u001b[31m8.5 MB/s\u001b[0m eta \u001b[36m0:00:00\u001b[0m\n",
      "\u001b[?25hDownloading h11-0.14.0-py3-none-any.whl (58 kB)\n",
      "\u001b[2K   \u001b[90m━━━━━━━━━━━━━━━━━━━━━━━━━━━━━━━━━━━━━━━━\u001b[0m \u001b[32m58.3/58.3 kB\u001b[0m \u001b[31m3.9 MB/s\u001b[0m eta \u001b[36m0:00:00\u001b[0m\n",
      "\u001b[?25hInstalling collected packages: tenacity, orjson, jsonpointer, jiter, h11, tiktoken, jsonpatch, httpcore, httpx, openai, langsmith, langchain-core, langchain_openai\n",
      "  Attempting uninstall: tenacity\n",
      "    Found existing installation: tenacity 9.0.0\n",
      "    Uninstalling tenacity-9.0.0:\n",
      "      Successfully uninstalled tenacity-9.0.0\n",
      "Successfully installed h11-0.14.0 httpcore-1.0.5 httpx-0.27.2 jiter-0.5.0 jsonpatch-1.33 jsonpointer-3.0.0 langchain-core-0.3.5 langchain_openai-0.2.0 langsmith-0.1.125 openai-1.47.1 orjson-3.10.7 tenacity-8.5.0 tiktoken-0.7.0\n"
     ]
    }
   ],
   "source": [
    "pip install langchain_openai"
   ]
  },
  {
   "cell_type": "code",
   "execution_count": null,
   "id": "75b15c13-5674-4a8c-9cac-3408e788890c",
   "metadata": {
    "id": "75b15c13-5674-4a8c-9cac-3408e788890c",
    "tags": []
   },
   "outputs": [],
   "source": [
    "# Import the os module to interact with the operating system\n",
    "import os\n",
    "\n",
    "# Import the ChatOpenAI class from the langchain_openai package\n",
    "# This class is used to interact with OpenAI's chat models\n",
    "from langchain_openai import ChatOpenAI"
   ]
  },
  {
   "cell_type": "markdown",
   "id": "2b6316b6-b617-47a8-82ad-9da2324c3957",
   "metadata": {
    "id": "2b6316b6-b617-47a8-82ad-9da2324c3957"
   },
   "source": [
    "### Instantiating OpenAI model"
   ]
  },
  {
   "cell_type": "code",
   "execution_count": null,
   "id": "RELsieeljg5N",
   "metadata": {
    "colab": {
     "base_uri": "https://localhost:8080/"
    },
    "id": "RELsieeljg5N",
    "outputId": "315bd91a-dde8-4204-8c86-5d1580eb9f28"
   },
   "outputs": [
    {
     "name": "stdout",
     "output_type": "stream",
     "text": [
      "Mounted at /content/drive\n"
     ]
    }
   ],
   "source": [
    "# prompt: mount drive\n",
    "\n",
    "from google.colab import drive\n",
    "drive.mount('/content/drive')\n"
   ]
  },
  {
   "cell_type": "code",
   "execution_count": null,
   "id": "94d4a871-c7bc-4efc-8f16-55ac815ffca5",
   "metadata": {
    "id": "94d4a871-c7bc-4efc-8f16-55ac815ffca5",
    "tags": []
   },
   "outputs": [],
   "source": [
    "# Set the OPENAI_API_KEY environment variable by reading the API key from a file named 'key.txt' located in the parent directory\n",
    "os.environ[\"OPENAI_API_KEY\"] = open('/content/drive/MyDrive/GenAI classes/Gen AI tobeshared/Demo Notebooks/key.txt','r').read()"
   ]
  },
  {
   "cell_type": "code",
   "execution_count": null,
   "id": "def46988-7e26-4e42-8d57-be8d123dc446",
   "metadata": {
    "id": "def46988-7e26-4e42-8d57-be8d123dc446",
    "tags": []
   },
   "outputs": [],
   "source": [
    "# Initialize a ChatOpenAI instance with a temperature of 0.0\n",
    "# Setting the temperature to 0.0 makes the model's output more deterministic,\n",
    "# meaning it will prioritize the most confident prediction over others.\n",
    "llm = ChatOpenAI(temperature = 0.0)"
   ]
  },
  {
   "cell_type": "markdown",
   "id": "e2625e64-0fa8-48f7-85e9-f540ee1d602d",
   "metadata": {
    "id": "e2625e64-0fa8-48f7-85e9-f540ee1d602d"
   },
   "source": [
    "### Defining Prompt Templates"
   ]
  },
  {
   "cell_type": "code",
   "execution_count": null,
   "id": "2ef23ae6-8040-4630-b75a-0bbbff48bd71",
   "metadata": {
    "id": "2ef23ae6-8040-4630-b75a-0bbbff48bd71",
    "tags": []
   },
   "outputs": [],
   "source": [
    "# Define a template for prompts that includes both system and user messages\n",
    "# This template is used to structure the input to the chat model, ensuring that both system messages (e.g., instructions or context) and user messages are included in the conversation.\n",
    "prompt_template = \"\"\"\n",
    "{system_message}\n",
    "{user_message}\"\"\""
   ]
  },
  {
   "cell_type": "code",
   "execution_count": null,
   "id": "848d1cd9-6681-42f2-b172-350df018f759",
   "metadata": {
    "id": "848d1cd9-6681-42f2-b172-350df018f759",
    "tags": []
   },
   "outputs": [],
   "source": [
    "# Define a template for generating distinct solutions to a given problem\n",
    "# This template instructs the model to generate a specified number of unique solutions for a particular problem,\n",
    "# taking into account a set of factors that should be considered in the solution process.\n",
    "# The solutions should be presented in numbered bullet points, focusing solely on the solutions themselves without additional context or explanation.\n",
    "\n",
    "solutions_template = \"\"\"\n",
    "Generate {num_solutions} distinct solutions for the following problem:\n",
    "Problem:\n",
    "{problem}.\n",
    "--\n",
    "\n",
    "Consider the following factors in coming up with your solutions.\n",
    "Factors:\n",
    "{factors}\n",
    "\n",
    "Present the solutions in numbered bullet points. Present only the solutions.\n",
    "\"\"\""
   ]
  },
  {
   "cell_type": "code",
   "execution_count": null,
   "id": "5698b723-23a1-4409-a657-82eb680e75bd",
   "metadata": {
    "id": "5698b723-23a1-4409-a657-82eb680e75bd",
    "tags": []
   },
   "outputs": [],
   "source": [
    "# Define a problem statement related to climate change, focusing on reducing the impact of extreme events in the Earth's atmosphere\n",
    "# This problem statement sets the context for generating solutions that address the challenge of climate change.\n",
    "\n",
    "climate_problem = \"Reduce the impact of climate change on the occurrence of extreme events in the Earth's atmosphere.\"\n",
    "\n",
    "# List factors that should be considered when generating solutions to the climate problem\n",
    "# These factors include transitioning to renewable energy, reforestation, sustainable agricultural practices, carbon capture and storage, climate-resilient infrastructure, and circular economy practices.\n",
    "climate_factors = \"\"\"\n",
    "1. Renewable Energy Transition\n",
    "2. Reforestation\n",
    "3. Sustainable Agricultural Practises\n",
    "4. Carbon capture and storage\n",
    "5. Climate-resilient infrastructure\n",
    "6. Circular economy practises\n",
    "\"\"\""
   ]
  },
  {
   "cell_type": "code",
   "execution_count": null,
   "id": "16a77a9c-e712-4c24-9640-b3d96b82e34f",
   "metadata": {
    "id": "16a77a9c-e712-4c24-9640-b3d96b82e34f",
    "tags": []
   },
   "outputs": [],
   "source": [
    "# Construct a prompt for generating solutions to a climate problem by formatting the prompt template with an empty system message and a user message\n",
    "# The user message is generated by formatting the solutions template with the number of solutions to generate, the climate problem statement, and the factors to consider when\n",
    "# generating solutions. This results in a structured prompt that instructs the model to generate a specified number of unique solutions for the climate problem, taking into account\n",
    "# the provided factors, and presenting the solutions in numbered bullet points.\n",
    "solutions_prompt = prompt_template.format(\n",
    "    system_message='',\n",
    "    user_message=solutions_template.format(\n",
    "        num_solutions=3,\n",
    "        problem=climate_problem,\n",
    "        factors=climate_factors\n",
    "    )\n",
    ")"
   ]
  },
  {
   "cell_type": "code",
   "execution_count": null,
   "id": "91895ad1-56ed-498b-98e1-6e9b75a4d7ac",
   "metadata": {
    "colab": {
     "base_uri": "https://localhost:8080/"
    },
    "id": "91895ad1-56ed-498b-98e1-6e9b75a4d7ac",
    "outputId": "2501ecb1-3acd-42be-f3d2-5cee55f41325",
    "tags": []
   },
   "outputs": [
    {
     "name": "stdout",
     "output_type": "stream",
     "text": [
      "\n",
      "\n",
      "\n",
      "Generate 3 distinct solutions for the following problem:\n",
      "Problem:\n",
      "Reduce the impact of climate change on the occurrence of extreme events in the Earth's atmosphere..\n",
      "--\n",
      "\n",
      "Consider the following factors in coming up with your solutions.\n",
      "Factors:\n",
      "\n",
      "1. Renewable Energy Transition\n",
      "2. Reforestation\n",
      "3. Sustainable Agricultural Practises\n",
      "4. Carbon capture and storage\n",
      "5. Climate-resilient infrastructure\n",
      "6. Circular economy practises\n",
      "\n",
      "\n",
      "Present the solutions in numbered bullet points. Present only the solutions.\n",
      "\n"
     ]
    }
   ],
   "source": [
    "# printing solutions prompt\n",
    "print(solutions_prompt)"
   ]
  },
  {
   "cell_type": "code",
   "execution_count": null,
   "id": "a4a9e4dd-3a74-4243-95cd-8c474fe04f55",
   "metadata": {
    "colab": {
     "base_uri": "https://localhost:8080/"
    },
    "id": "a4a9e4dd-3a74-4243-95cd-8c474fe04f55",
    "outputId": "1d226483-6c87-4d79-9608-37d057da13a4",
    "tags": []
   },
   "outputs": [
    {
     "name": "stderr",
     "output_type": "stream",
     "text": [
      "<ipython-input-12-0d891e8dac97>:2: LangChainDeprecationWarning: The method `BaseChatModel.predict` was deprecated in langchain-core 0.1.7 and will be removed in 1.0. Use :meth:`~invoke` instead.\n",
      "  print(llm.predict(solutions_prompt))\n"
     ]
    },
    {
     "name": "stdout",
     "output_type": "stream",
     "text": [
      "1. Implement a widespread transition to renewable energy sources such as solar, wind, and hydro power to reduce greenhouse gas emissions and mitigate the impact of climate change on extreme weather events.\n",
      "\n",
      "2. Increase reforestation efforts to absorb carbon dioxide from the atmosphere and create more resilient ecosystems that can better withstand extreme weather events.\n",
      "\n",
      "3. Promote sustainable agricultural practices such as crop rotation, organic farming, and agroforestry to reduce emissions from agriculture and increase the resilience of food systems to climate change impacts.\n"
     ]
    }
   ],
   "source": [
    "# generating and printing answer\n",
    "print(llm.predict(solutions_prompt))"
   ]
  },
  {
   "cell_type": "code",
   "execution_count": null,
   "id": "176cfe73-a3d8-4d57-b9d5-b48a074698ab",
   "metadata": {
    "id": "176cfe73-a3d8-4d57-b9d5-b48a074698ab",
    "tags": []
   },
   "outputs": [],
   "source": [
    "# storing the answers for further evaluation\n",
    "climate_solutions = llm.predict(solutions_prompt)"
   ]
  },
  {
   "cell_type": "code",
   "execution_count": null,
   "id": "af7cfb9b-e384-4fec-ab66-aaedb5bae7ae",
   "metadata": {
    "id": "af7cfb9b-e384-4fec-ab66-aaedb5bae7ae",
    "tags": []
   },
   "outputs": [],
   "source": [
    "# Define a template for evaluating proposed solutions to a problem\n",
    "# This template instructs the evaluator to analyze each solution in terms of its pros, cons, feasibility, and probability of success.\n",
    "# The evaluator is then asked to present their evaluations of each solution, focusing on these aspects to provide a comprehensive assessment.\n",
    "\n",
    "evaluation_template = \"\"\"\n",
    "For the following problem: {problem}, evaluate each solution in the following proposed solutions: \\n{solutions}\\n.\n",
    "\n",
    "Analyze pros, cons, feasibility, and probability of success for each solution.\n",
    "Present your evaluations of each solution.\n",
    "\"\"\""
   ]
  },
  {
   "cell_type": "code",
   "execution_count": null,
   "id": "7ca93afd-1b9b-43fa-a788-2fb32d7ec5c1",
   "metadata": {
    "id": "7ca93afd-1b9b-43fa-a788-2fb32d7ec5c1",
    "tags": []
   },
   "outputs": [],
   "source": [
    "# Construct a prompt for evaluating proposed solutions to a climate problem by formatting the llama2_prompt_template with an empty system message and a user message\n",
    "# The user message is generated by formatting the evaluation template with the climate problem statement and the climate solutions\n",
    "# This results in a structured prompt that instructs the model to evaluate each solution in terms of its pros, cons, feasibility, and probability of success, and present the evaluations.\n",
    "evaluations_prompt = prompt_template.format(\n",
    "    system_message='',\n",
    "    user_message=evaluation_template.format(\n",
    "        problem=climate_problem,\n",
    "        solutions=climate_solutions\n",
    "    )\n",
    ")"
   ]
  },
  {
   "cell_type": "code",
   "execution_count": null,
   "id": "42840567-eaf8-4467-9b18-15dd873011b9",
   "metadata": {
    "colab": {
     "base_uri": "https://localhost:8080/"
    },
    "id": "42840567-eaf8-4467-9b18-15dd873011b9",
    "outputId": "ef21e3b1-e099-4cea-f209-77daf780b466",
    "tags": []
   },
   "outputs": [
    {
     "name": "stdout",
     "output_type": "stream",
     "text": [
      "\n",
      "\n",
      "\n",
      "For the following problem: Reduce the impact of climate change on the occurrence of extreme events in the Earth's atmosphere., evaluate each solution in the following proposed solutions: \n",
      "1. Implement a widespread transition to renewable energy sources such as solar, wind, and hydro power to reduce greenhouse gas emissions and decrease the overall impact of climate change on extreme weather events.\n",
      "\n",
      "2. Increase reforestation efforts to absorb carbon dioxide from the atmosphere and create more resilient ecosystems that can better withstand extreme weather events such as floods, droughts, and wildfires.\n",
      "\n",
      "3. Promote sustainable agricultural practices such as crop rotation, organic farming, and agroforestry to reduce carbon emissions from agriculture, improve soil health, and increase the resilience of food systems to climate change impacts.\n",
      ".\n",
      "\n",
      "Analyze pros, cons, feasibility, and probability of success for each solution.\n",
      "Present your evaluations of each solution.\n",
      "\n"
     ]
    }
   ],
   "source": [
    "# printing evaluations prompt\n",
    "print(evaluations_prompt)"
   ]
  },
  {
   "cell_type": "code",
   "execution_count": null,
   "id": "6200c831-ef79-4843-a23a-db69b6966eb8",
   "metadata": {
    "colab": {
     "base_uri": "https://localhost:8080/"
    },
    "id": "6200c831-ef79-4843-a23a-db69b6966eb8",
    "outputId": "29cbb1b0-7e82-4cf7-f43d-efd12db77674",
    "tags": []
   },
   "outputs": [
    {
     "name": "stdout",
     "output_type": "stream",
     "text": [
      "1. Implement a widespread transition to renewable energy sources:\n",
      "Pros:\n",
      "- Reducing greenhouse gas emissions from fossil fuels can help mitigate climate change and decrease the frequency and intensity of extreme weather events.\n",
      "- Renewable energy sources are becoming more cost-effective and efficient, making the transition feasible for many countries.\n",
      "- Transitioning to renewable energy can create new job opportunities and stimulate economic growth in the clean energy sector.\n",
      "\n",
      "Cons:\n",
      "- The initial cost of transitioning to renewable energy sources may be high for some countries or industries.\n",
      "- Infrastructure and technology for renewable energy sources may not be readily available in all regions.\n",
      "- Political and economic barriers may hinder the widespread adoption of renewable energy sources.\n",
      "\n",
      "Feasibility:\n",
      "- The transition to renewable energy sources is feasible and has been successfully implemented in many countries around the world.\n",
      "- Advances in technology and decreasing costs make renewable energy more accessible to a wider range of countries and industries.\n",
      "\n",
      "Probability of success:\n",
      "- The probability of success for implementing a widespread transition to renewable energy sources is high, as it is a proven method for reducing greenhouse gas emissions and mitigating climate change impacts.\n",
      "\n",
      "2. Increase reforestation efforts:\n",
      "Pros:\n",
      "- Reforestation can help absorb carbon dioxide from the atmosphere and mitigate climate change impacts.\n",
      "- Creating more resilient ecosystems through reforestation can help protect against extreme weather events such as floods, droughts, and wildfires.\n",
      "- Reforestation can provide habitat for wildlife and improve biodiversity.\n",
      "\n",
      "Cons:\n",
      "- Reforestation efforts may take time to show significant results in terms of carbon sequestration and ecosystem resilience.\n",
      "- Land availability and ownership issues may hinder large-scale reforestation efforts.\n",
      "- Maintenance and management of reforested areas may require ongoing resources and funding.\n",
      "\n",
      "Feasibility:\n",
      "- Reforestation efforts are feasible and have been successfully implemented in many regions around the world.\n",
      "- Collaboration between governments, NGOs, and local communities can help overcome challenges related to land ownership and management.\n",
      "\n",
      "Probability of success:\n",
      "- The probability of success for increasing reforestation efforts is high, as it is a proven method for carbon sequestration and ecosystem restoration.\n",
      "\n",
      "3. Promote sustainable agricultural practices:\n",
      "Pros:\n",
      "- Sustainable agricultural practices can help reduce carbon emissions from agriculture and improve soil health.\n",
      "- Crop rotation, organic farming, and agroforestry can increase the resilience of food systems to climate change impacts.\n",
      "- Sustainable agriculture can improve water quality, biodiversity, and ecosystem services.\n",
      "\n",
      "Cons:\n",
      "- Transitioning to sustainable agricultural practices may require changes in farming techniques and infrastructure, which can be costly and time-consuming.\n",
      "- Education and training may be needed to help farmers adopt sustainable practices.\n",
      "- Market demand and consumer behavior may not always support sustainable agriculture.\n",
      "\n",
      "Feasibility:\n",
      "- Promoting sustainable agricultural practices is feasible and has been successfully implemented in many regions around the world.\n",
      "- Government incentives, subsidies, and support programs can help farmers transition to sustainable practices.\n",
      "\n",
      "Probability of success:\n",
      "- The probability of success for promoting sustainable agricultural practices is high, as it is a proven method for reducing carbon emissions from agriculture and increasing food system resilience.\n",
      "\n",
      "Overall, all three proposed solutions have the potential to reduce the impact of climate change on extreme events in the Earth's atmosphere. Implementing a combination of these solutions may be the most effective approach to addressing climate change and building resilience to extreme weather events.\n"
     ]
    }
   ],
   "source": [
    "print(llm.predict(evaluations_prompt))"
   ]
  },
  {
   "cell_type": "code",
   "execution_count": null,
   "id": "b03fbafb-f952-47fc-91cb-f6cd0d695b6e",
   "metadata": {
    "id": "b03fbafb-f952-47fc-91cb-f6cd0d695b6e",
    "tags": []
   },
   "outputs": [],
   "source": [
    "climate_proposal_evaluations = llm.predict(evaluations_prompt)"
   ]
  },
  {
   "cell_type": "code",
   "execution_count": null,
   "id": "bf130c35-eb38-472c-94d1-4288640f30fe",
   "metadata": {
    "id": "bf130c35-eb38-472c-94d1-4288640f30fe",
    "tags": []
   },
   "outputs": [],
   "source": [
    "# Define a template for ranking solutions based on evaluations\n",
    "# This template instructs the model to rank the solutions presented in the evaluations for a specific problem.\n",
    "# It then asks for the selection of the most promising solution and the presentation of implementation strategies and methods to address potential obstacles for this solution.\n",
    "ranking_template = \"\"\"\n",
    "For the following problem: {problem}, rank the solutions presented in the following evaluations: \\n{evaluations}\\n.\n",
    "Pick most promising solution and present implementation strategies and methods to handle potential obstacles for this solution.\n",
    "\"\"\""
   ]
  },
  {
   "cell_type": "code",
   "execution_count": null,
   "id": "6219310f-7ab7-49b9-94f1-dcbaac49fab3",
   "metadata": {
    "id": "6219310f-7ab7-49b9-94f1-dcbaac49fab3",
    "tags": []
   },
   "outputs": [],
   "source": [
    "# Construct a prompt for ranking solutions based on evaluations by formatting the llama2_prompt_template with an empty system message and a user message\n",
    "# The user message is generated by formatting the ranking template with the climate problem statement and the climate proposal evaluations\n",
    "# This results in a structured prompt that instructs the model to rank the solutions presented in the evaluations for the climate problem,\n",
    "# and then to select the most promising solution and outline implementation strategies and methods to address potential obstacles for this solution.\n",
    "ranking_prompt = prompt_template.format(\n",
    "    system_message='',\n",
    "    user_message=ranking_template.format(\n",
    "        problem=climate_problem,\n",
    "        evaluations=climate_proposal_evaluations\n",
    "    )\n",
    ")"
   ]
  },
  {
   "cell_type": "code",
   "execution_count": null,
   "id": "8d8b8c67-b8e5-4b14-8aa2-dc0f25a82f62",
   "metadata": {
    "colab": {
     "base_uri": "https://localhost:8080/"
    },
    "id": "8d8b8c67-b8e5-4b14-8aa2-dc0f25a82f62",
    "outputId": "ea58494d-7848-44fa-fe95-87a50e6ca74b",
    "tags": []
   },
   "outputs": [
    {
     "name": "stdout",
     "output_type": "stream",
     "text": [
      "\n",
      "\n",
      "\n",
      "For the following problem: Reduce the impact of climate change on the occurrence of extreme events in the Earth's atmosphere., rank the solutions presented in the following evaluations: \n",
      "1. Implement a widespread transition to renewable energy sources:\n",
      "Pros:\n",
      "- Reduces greenhouse gas emissions, which are a major contributor to climate change and extreme weather events.\n",
      "- Renewable energy sources are becoming more cost-effective and efficient, making the transition feasible.\n",
      "- Can create new job opportunities in the renewable energy sector.\n",
      "\n",
      "Cons:\n",
      "- Initial costs of transitioning to renewable energy sources can be high.\n",
      "- Resistance from fossil fuel industries and political challenges may hinder progress.\n",
      "- Infrastructure changes and grid updates may be needed to support renewable energy sources.\n",
      "\n",
      "Feasibility:\n",
      "- Transitioning to renewable energy sources is feasible with advancements in technology and decreasing costs.\n",
      "- Many countries and organizations have already set goals to transition to renewable energy sources.\n",
      "\n",
      "Probability of success:\n",
      "- High probability of success if there is strong political will and commitment from governments and industries to make the transition.\n",
      "\n",
      "2. Increase reforestation efforts:\n",
      "Pros:\n",
      "- Absorbs carbon dioxide from the atmosphere, helping to mitigate climate change.\n",
      "- Creates more resilient ecosystems that can better withstand extreme weather events.\n",
      "- Provides habitat for wildlife and improves biodiversity.\n",
      "\n",
      "Cons:\n",
      "- Reforestation efforts may take time to show significant impact on climate change.\n",
      "- Land availability and funding may be limiting factors for large-scale reforestation projects.\n",
      "- Maintenance and protection of newly planted forests are essential to ensure success.\n",
      "\n",
      "Feasibility:\n",
      "- Reforestation efforts are feasible with proper planning, funding, and community involvement.\n",
      "- Many organizations and governments are already implementing reforestation projects.\n",
      "\n",
      "Probability of success:\n",
      "- Moderate to high probability of success if reforestation efforts are properly managed and supported.\n",
      "\n",
      "3. Promote sustainable agricultural practices:\n",
      "Pros:\n",
      "- Reduces carbon emissions from agriculture, which is a significant contributor to climate change.\n",
      "- Improves soil health and fertility, making ecosystems more resilient to extreme weather events.\n",
      "- Increases food security and sustainability in the face of climate change impacts.\n",
      "\n",
      "Cons:\n",
      "- Transitioning to sustainable agricultural practices may require education and training for farmers.\n",
      "- Initial costs of implementing sustainable practices may be a barrier for some farmers.\n",
      "- Market demand and policy support for sustainable agriculture may vary by region.\n",
      "\n",
      "Feasibility:\n",
      "- Sustainable agricultural practices are feasible with proper education, training, and support for farmers.\n",
      "- Many organizations and governments are already promoting sustainable agriculture.\n",
      "\n",
      "Probability of success:\n",
      "- High probability of success if there is strong support from governments, consumers, and the agricultural industry to transition to sustainable practices.\n",
      "\n",
      "Overall, all three proposed solutions have the potential to reduce the impact of climate change on extreme weather events. Implementing a combination of these solutions may be the most effective approach to address the complex issue of climate change.\n",
      ".\n",
      "Pick most promising solution and present implementation strategies and methods to handle potential obstacles for this solution.\n",
      "\n"
     ]
    }
   ],
   "source": [
    "# printing ranking prompt\n",
    "print(ranking_prompt)"
   ]
  },
  {
   "cell_type": "code",
   "execution_count": null,
   "id": "7f20b8ed-71d5-4d0c-9cae-0a6f0edf6cc2",
   "metadata": {
    "colab": {
     "base_uri": "https://localhost:8080/"
    },
    "id": "7f20b8ed-71d5-4d0c-9cae-0a6f0edf6cc2",
    "outputId": "3447f090-c7f1-4e32-be3b-23a24536fac2",
    "tags": []
   },
   "outputs": [
    {
     "name": "stdout",
     "output_type": "stream",
     "text": [
      "The most promising solution among the three presented is implementing a widespread transition to renewable energy sources. To effectively implement this solution and overcome potential obstacles, the following strategies and methods can be considered:\n",
      "\n",
      "1. Implementation strategies:\n",
      "- Set clear and ambitious renewable energy targets at the national and international levels to drive progress and commitment.\n",
      "- Provide financial incentives and subsidies for renewable energy projects to offset initial costs and encourage investment.\n",
      "- Develop and implement policies that prioritize renewable energy sources over fossil fuels, such as carbon pricing and renewable energy mandates.\n",
      "- Invest in research and development to further improve the efficiency and cost-effectiveness of renewable energy technologies.\n",
      "- Collaborate with industries, communities, and stakeholders to ensure a smooth transition and address any challenges that may arise.\n",
      "\n",
      "2. Potential obstacles and methods to handle them:\n",
      "- Resistance from fossil fuel industries: Engage in dialogue with these industries to address concerns and explore opportunities for collaboration in the renewable energy sector. Provide support for retraining and transitioning workers from fossil fuel industries to renewable energy jobs.\n",
      "- Political challenges: Advocate for strong political will and leadership to drive the transition to renewable energy. Build public support through education and awareness campaigns on the benefits of renewable energy.\n",
      "- High initial costs: Explore financing options such as green bonds, public-private partnerships, and international funding mechanisms to support the transition. Provide financial assistance and incentives for individuals and businesses to invest in renewable energy technologies.\n",
      "- Infrastructure changes and grid updates: Develop a comprehensive plan for upgrading infrastructure to support renewable energy sources, including smart grid technologies, energy storage solutions, and decentralized energy systems. Collaborate with utilities and grid operators to ensure a smooth integration of renewable energy into the existing grid.\n",
      "\n",
      "By implementing these strategies and addressing potential obstacles, the transition to renewable energy sources can be successfully achieved, leading to a significant reduction in greenhouse gas emissions and the occurrence of extreme weather events.\n"
     ]
    }
   ],
   "source": [
    "print(llm.predict(ranking_prompt))"
   ]
  }
 ],
 "metadata": {
  "colab": {
   "provenance": []
  },
  "environment": {
   "kernel": "python3",
   "name": ".m119",
   "type": "gcloud",
   "uri": "us-docker.pkg.dev/deeplearning-platform-release/gcr.io/:m119"
  },
  "kernelspec": {
   "display_name": "Python 3 (ipykernel)",
   "language": "python",
   "name": "python3"
  },
  "language_info": {
   "codemirror_mode": {
    "name": "ipython",
    "version": 3
   },
   "file_extension": ".py",
   "mimetype": "text/x-python",
   "name": "python",
   "nbconvert_exporter": "python",
   "pygments_lexer": "ipython3",
   "version": "3.11.5"
  }
 },
 "nbformat": 4,
 "nbformat_minor": 5
}
