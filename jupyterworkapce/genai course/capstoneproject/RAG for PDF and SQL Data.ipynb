{
 "cells": [
  {
   "cell_type": "code",
   "execution_count": 260,
   "id": "e1cc0eb4",
   "metadata": {},
   "outputs": [],
   "source": [
    "from IPython.display import Markdown\n",
    "import os\n",
    "import pandas as pd\n",
    "from sqlalchemy import create_engine\n",
    "import seaborn as sns\n",
    "import matplotlib.pyplot as plt\n",
    "import numpy as np\n",
    "sns.set(color_codes=True) \n",
    "%matplotlib inline \n",
    "from langchain_openai import ChatOpenAI\n",
    "from langchain_experimental.sql import SQLDatabaseChain\n",
    "from langchain.sql_database import SQLDatabase\n",
    "from langchain.text_splitter import RecursiveCharacterTextSplitter\n",
    "from langchain_community.vectorstores import Chroma\n",
    "from sentence_transformers import SentenceTransformer, CrossEncoder, util\n",
    "from chromadb.config import Settings\n",
    "import fitz\n",
    "import json\n",
    "import nltk\n",
    "from langchain.prompts import PromptTemplate\n",
    "from langchain.agents import Tool\n",
    "from langchain.agents import initialize_agent, AgentType"
   ]
  },
  {
   "cell_type": "markdown",
   "id": "9431f85d",
   "metadata": {},
   "source": [
    "# Setup Environment"
   ]
  },
  {
   "cell_type": "code",
   "execution_count": 8,
   "id": "fd234585",
   "metadata": {},
   "outputs": [],
   "source": [
    "def setup_environment():\n",
    "    import sys\n",
    "    sys.path.append('C:\\\\gitworkspace\\\\aimldemo\\\\jupyterworkapce')\n",
    "    import stratup_env_setup\n",
    "    stratup_env_setup.set_env()"
   ]
  },
  {
   "cell_type": "code",
   "execution_count": 9,
   "id": "1373794c",
   "metadata": {},
   "outputs": [],
   "source": [
    "setup_environment()"
   ]
  },
  {
   "cell_type": "code",
   "execution_count": 10,
   "id": "6449a243",
   "metadata": {},
   "outputs": [],
   "source": [
    "llm = ChatOpenAI(model_name=\"gpt-3.5-turbo\", temperature=0.7)"
   ]
  },
  {
   "cell_type": "markdown",
   "id": "98aa5860",
   "metadata": {},
   "source": [
    "# Create sales_data DB table in MYSQL DB and Import sales_data csv file"
   ]
  },
  {
   "cell_type": "code",
   "execution_count": 11,
   "id": "df9c8491",
   "metadata": {},
   "outputs": [],
   "source": [
    "schema_markdown = \"\"\"```\n",
    "CREATE TABLE genai.sales_data (\n",
    "    id INT PRIMARY KEY AUTO_INCREMENT,\n",
    "    Date DATE NOT NULL,\n",
    "    Product VARCHAR(50) NOT NULL,\n",
    "    Region VARCHAR(50) NOT NULL,\n",
    "    Sales INT NOT NULL,\n",
    "    Customer_Age INT NOT NULL,\n",
    "    Customer_Gender VARCHAR(10) CHECK (Customer_Gender IN ('Male', 'Female')),\n",
    "    Customer_Satisfaction DECIMAL(10,8) NOT NULL\n",
    ");\n",
    "```\"\"\""
   ]
  },
  {
   "cell_type": "code",
   "execution_count": 12,
   "id": "061ded79",
   "metadata": {},
   "outputs": [
    {
     "data": {
      "text/markdown": [
       "```\n",
       "CREATE TABLE genai.sales_data (\n",
       "    id INT PRIMARY KEY AUTO_INCREMENT,\n",
       "    Date DATE NOT NULL,\n",
       "    Product VARCHAR(50) NOT NULL,\n",
       "    Region VARCHAR(50) NOT NULL,\n",
       "    Sales INT NOT NULL,\n",
       "    Customer_Age INT NOT NULL,\n",
       "    Customer_Gender VARCHAR(10) CHECK (Customer_Gender IN ('Male', 'Female')),\n",
       "    Customer_Satisfaction DECIMAL(10,8) NOT NULL\n",
       ");\n",
       "```"
      ],
      "text/plain": [
       "<IPython.core.display.Markdown object>"
      ]
     },
     "metadata": {},
     "output_type": "display_data"
    }
   ],
   "source": [
    "display(Markdown(schema_markdown))"
   ]
  },
  {
   "cell_type": "code",
   "execution_count": 13,
   "id": "2954ed1b",
   "metadata": {},
   "outputs": [],
   "source": [
    "# Read database credentials from environment variables\n",
    "DB_USER = os.getenv('MYSQL_DB_USER')  \n",
    "DB_PASSWORD = os.getenv('MYSQL_DB_PASSWORD')  \n",
    "DB_HOST = 'localhost'\n",
    "DB_PORT = '3306'\n",
    "DB_NAME = 'genai'"
   ]
  },
  {
   "cell_type": "code",
   "execution_count": 14,
   "id": "98287955",
   "metadata": {},
   "outputs": [],
   "source": [
    "dbengine = create_engine(f\"mysql+pymysql://{DB_USER}:{DB_PASSWORD}@{DB_HOST}:{DB_PORT}/{DB_NAME}\")"
   ]
  },
  {
   "cell_type": "code",
   "execution_count": 15,
   "id": "c1951315",
   "metadata": {},
   "outputs": [],
   "source": [
    "csv_file_path = \"C:\\\\gitworkspace\\\\aimldemo\\\\jupyterworkapce\\\\genai course\\\\capstoneproject\\\\Datasets\\\\sales_data.csv\"\n",
    "df = pd.read_csv(csv_file_path)"
   ]
  },
  {
   "cell_type": "code",
   "execution_count": 16,
   "id": "320ccdbb",
   "metadata": {},
   "outputs": [
    {
     "data": {
      "text/html": [
       "<div>\n",
       "<style scoped>\n",
       "    .dataframe tbody tr th:only-of-type {\n",
       "        vertical-align: middle;\n",
       "    }\n",
       "\n",
       "    .dataframe tbody tr th {\n",
       "        vertical-align: top;\n",
       "    }\n",
       "\n",
       "    .dataframe thead th {\n",
       "        text-align: right;\n",
       "    }\n",
       "</style>\n",
       "<table border=\"1\" class=\"dataframe\">\n",
       "  <thead>\n",
       "    <tr style=\"text-align: right;\">\n",
       "      <th></th>\n",
       "      <th>id</th>\n",
       "      <th>Date</th>\n",
       "      <th>Product</th>\n",
       "      <th>Region</th>\n",
       "      <th>Sales</th>\n",
       "      <th>Customer_Age</th>\n",
       "      <th>Customer_Gender</th>\n",
       "      <th>Customer_Satisfaction</th>\n",
       "    </tr>\n",
       "  </thead>\n",
       "  <tbody>\n",
       "    <tr>\n",
       "      <th>0</th>\n",
       "      <td>1</td>\n",
       "      <td>1/1/2022</td>\n",
       "      <td>Widget C</td>\n",
       "      <td>South</td>\n",
       "      <td>786</td>\n",
       "      <td>26</td>\n",
       "      <td>Male</td>\n",
       "      <td>2.874407</td>\n",
       "    </tr>\n",
       "    <tr>\n",
       "      <th>1</th>\n",
       "      <td>2</td>\n",
       "      <td>1/2/2022</td>\n",
       "      <td>Widget D</td>\n",
       "      <td>East</td>\n",
       "      <td>850</td>\n",
       "      <td>29</td>\n",
       "      <td>Male</td>\n",
       "      <td>3.365205</td>\n",
       "    </tr>\n",
       "    <tr>\n",
       "      <th>2</th>\n",
       "      <td>3</td>\n",
       "      <td>1/3/2022</td>\n",
       "      <td>Widget A</td>\n",
       "      <td>North</td>\n",
       "      <td>871</td>\n",
       "      <td>40</td>\n",
       "      <td>Female</td>\n",
       "      <td>4.547364</td>\n",
       "    </tr>\n",
       "    <tr>\n",
       "      <th>3</th>\n",
       "      <td>4</td>\n",
       "      <td>1/4/2022</td>\n",
       "      <td>Widget C</td>\n",
       "      <td>South</td>\n",
       "      <td>464</td>\n",
       "      <td>31</td>\n",
       "      <td>Male</td>\n",
       "      <td>4.555420</td>\n",
       "    </tr>\n",
       "    <tr>\n",
       "      <th>4</th>\n",
       "      <td>5</td>\n",
       "      <td>1/5/2022</td>\n",
       "      <td>Widget C</td>\n",
       "      <td>South</td>\n",
       "      <td>262</td>\n",
       "      <td>50</td>\n",
       "      <td>Female</td>\n",
       "      <td>3.982935</td>\n",
       "    </tr>\n",
       "  </tbody>\n",
       "</table>\n",
       "</div>"
      ],
      "text/plain": [
       "   id      Date   Product Region  Sales  Customer_Age Customer_Gender  \\\n",
       "0   1  1/1/2022  Widget C  South    786            26            Male   \n",
       "1   2  1/2/2022  Widget D   East    850            29            Male   \n",
       "2   3  1/3/2022  Widget A  North    871            40          Female   \n",
       "3   4  1/4/2022  Widget C  South    464            31            Male   \n",
       "4   5  1/5/2022  Widget C  South    262            50          Female   \n",
       "\n",
       "   Customer_Satisfaction  \n",
       "0               2.874407  \n",
       "1               3.365205  \n",
       "2               4.547364  \n",
       "3               4.555420  \n",
       "4               3.982935  "
      ]
     },
     "execution_count": 16,
     "metadata": {},
     "output_type": "execute_result"
    }
   ],
   "source": [
    "df.head(5)"
   ]
  },
  {
   "cell_type": "code",
   "execution_count": 17,
   "id": "80bb394d",
   "metadata": {},
   "outputs": [],
   "source": [
    "# Ensure column names match the DB schema\n",
    "df.columns = ['id', 'Date', 'Product', 'Region', 'Sales', 'Customer_Age', 'Customer_Gender', 'Customer_Satisfaction']"
   ]
  },
  {
   "cell_type": "code",
   "execution_count": 18,
   "id": "a71ce2f2",
   "metadata": {},
   "outputs": [],
   "source": [
    "# Convert 'Date' column to proper DATE format\n",
    "df['Date'] = pd.to_datetime(df['Date'], format='%m/%d/%Y')"
   ]
  },
  {
   "cell_type": "code",
   "execution_count": 19,
   "id": "0496e36c",
   "metadata": {},
   "outputs": [],
   "source": [
    "# Load data into the MySQL table\n",
    "#df.to_sql(name='sales_data', con=dbengine, schema='genai', if_exists='append', index=False)"
   ]
  },
  {
   "cell_type": "code",
   "execution_count": 20,
   "id": "5336b6fa",
   "metadata": {},
   "outputs": [
    {
     "data": {
      "text/html": [
       "<div>\n",
       "<style scoped>\n",
       "    .dataframe tbody tr th:only-of-type {\n",
       "        vertical-align: middle;\n",
       "    }\n",
       "\n",
       "    .dataframe tbody tr th {\n",
       "        vertical-align: top;\n",
       "    }\n",
       "\n",
       "    .dataframe thead th {\n",
       "        text-align: right;\n",
       "    }\n",
       "</style>\n",
       "<table border=\"1\" class=\"dataframe\">\n",
       "  <thead>\n",
       "    <tr style=\"text-align: right;\">\n",
       "      <th></th>\n",
       "      <th>count</th>\n",
       "      <th>mean</th>\n",
       "      <th>min</th>\n",
       "      <th>25%</th>\n",
       "      <th>50%</th>\n",
       "      <th>75%</th>\n",
       "      <th>max</th>\n",
       "      <th>std</th>\n",
       "    </tr>\n",
       "  </thead>\n",
       "  <tbody>\n",
       "    <tr>\n",
       "      <th>id</th>\n",
       "      <td>2500.0</td>\n",
       "      <td>1250.5</td>\n",
       "      <td>1.0</td>\n",
       "      <td>625.75</td>\n",
       "      <td>1250.5</td>\n",
       "      <td>1875.25</td>\n",
       "      <td>2500.0</td>\n",
       "      <td>721.83216</td>\n",
       "    </tr>\n",
       "    <tr>\n",
       "      <th>Date</th>\n",
       "      <td>2500</td>\n",
       "      <td>2025-06-03 12:00:00</td>\n",
       "      <td>2022-01-01 00:00:00</td>\n",
       "      <td>2023-09-17 18:00:00</td>\n",
       "      <td>2025-06-03 12:00:00</td>\n",
       "      <td>2027-02-18 06:00:00</td>\n",
       "      <td>2028-11-04 00:00:00</td>\n",
       "      <td>NaN</td>\n",
       "    </tr>\n",
       "    <tr>\n",
       "      <th>Sales</th>\n",
       "      <td>2500.0</td>\n",
       "      <td>553.288</td>\n",
       "      <td>100.0</td>\n",
       "      <td>324.75</td>\n",
       "      <td>552.5</td>\n",
       "      <td>779.0</td>\n",
       "      <td>999.0</td>\n",
       "      <td>260.101758</td>\n",
       "    </tr>\n",
       "    <tr>\n",
       "      <th>Customer_Age</th>\n",
       "      <td>2500.0</td>\n",
       "      <td>43.3328</td>\n",
       "      <td>18.0</td>\n",
       "      <td>31.0</td>\n",
       "      <td>43.0</td>\n",
       "      <td>56.0</td>\n",
       "      <td>69.0</td>\n",
       "      <td>14.846758</td>\n",
       "    </tr>\n",
       "    <tr>\n",
       "      <th>Customer_Satisfaction</th>\n",
       "      <td>2500.0</td>\n",
       "      <td>3.025869</td>\n",
       "      <td>1.005422</td>\n",
       "      <td>2.056014</td>\n",
       "      <td>3.04948</td>\n",
       "      <td>4.042481</td>\n",
       "      <td>4.999006</td>\n",
       "      <td>1.156981</td>\n",
       "    </tr>\n",
       "  </tbody>\n",
       "</table>\n",
       "</div>"
      ],
      "text/plain": [
       "                        count                 mean                  min  \\\n",
       "id                     2500.0               1250.5                  1.0   \n",
       "Date                     2500  2025-06-03 12:00:00  2022-01-01 00:00:00   \n",
       "Sales                  2500.0              553.288                100.0   \n",
       "Customer_Age           2500.0              43.3328                 18.0   \n",
       "Customer_Satisfaction  2500.0             3.025869             1.005422   \n",
       "\n",
       "                                       25%                  50%  \\\n",
       "id                                  625.75               1250.5   \n",
       "Date                   2023-09-17 18:00:00  2025-06-03 12:00:00   \n",
       "Sales                               324.75                552.5   \n",
       "Customer_Age                          31.0                 43.0   \n",
       "Customer_Satisfaction             2.056014              3.04948   \n",
       "\n",
       "                                       75%                  max         std  \n",
       "id                                 1875.25               2500.0   721.83216  \n",
       "Date                   2027-02-18 06:00:00  2028-11-04 00:00:00         NaN  \n",
       "Sales                                779.0                999.0  260.101758  \n",
       "Customer_Age                          56.0                 69.0   14.846758  \n",
       "Customer_Satisfaction             4.042481             4.999006    1.156981  "
      ]
     },
     "execution_count": 20,
     "metadata": {},
     "output_type": "execute_result"
    }
   ],
   "source": [
    "df.describe().transpose()"
   ]
  },
  {
   "cell_type": "code",
   "execution_count": 23,
   "id": "04cf5e78",
   "metadata": {},
   "outputs": [
    {
     "name": "stderr",
     "output_type": "stream",
     "text": [
      "C:\\Users\\jimmy\\AppData\\Local\\Temp\\ipykernel_24604\\2593036144.py:1: UserWarning: \n",
      "\n",
      "`distplot` is a deprecated function and will be removed in seaborn v0.14.0.\n",
      "\n",
      "Please adapt your code to use either `displot` (a figure-level function with\n",
      "similar flexibility) or `histplot` (an axes-level function for histograms).\n",
      "\n",
      "For a guide to updating your code to use the new functions, please see\n",
      "https://gist.github.com/mwaskom/de44147ed2974457ad6372750bbe5751\n",
      "\n",
      "  sns.distplot(df['Customer_Satisfaction'], kde=False, rug=True);\n"
     ]
    },
    {
     "data": {
      "image/png": "[encoded data removed]",
      "text/plain": [
       "<Figure size 640x480 with 1 Axes>"
      ]
     },
     "metadata": {},
     "output_type": "display_data"
    }
   ],
   "source": [
    "sns.distplot(df['Customer_Satisfaction'], kde=False, rug=True);"
   ]
  },
  {
   "cell_type": "code",
   "execution_count": 26,
   "id": "29ecec0d",
   "metadata": {},
   "outputs": [],
   "source": [
    "db = SQLDatabase(dbengine)"
   ]
  },
  {
   "cell_type": "code",
   "execution_count": 27,
   "id": "99b032ad",
   "metadata": {},
   "outputs": [],
   "source": [
    "db_chain = SQLDatabaseChain.from_llm(llm, db, verbose=True, return_direct=False)"
   ]
  },
  {
   "cell_type": "code",
   "execution_count": 28,
   "id": "07374eba",
   "metadata": {},
   "outputs": [],
   "source": [
    "def chat_with_db(user_query: str):\n",
    "    \"\"\"\n",
    "    Function to take a user query and return answers from the sales_data table.\n",
    "    Uses LangChain's SQLDatabaseChain to generate and execute SQL queries.\n",
    "\n",
    "    Args:\n",
    "        user_query (str): The natural language query from the user.\n",
    "    \n",
    "    Returns:\n",
    "        str: The response generated based on the SQL query.\n",
    "    \"\"\"\n",
    "    try:\n",
    "        response = db_chain.run(user_query)\n",
    "        return response\n",
    "    except Exception as e:\n",
    "        return f\" Error processing query: {e}\""
   ]
  },
  {
   "cell_type": "code",
   "execution_count": 29,
   "id": "a3a24c75",
   "metadata": {},
   "outputs": [],
   "source": [
    "user_query='Give me teh average customer satisfcation for Widget D?'"
   ]
  },
  {
   "cell_type": "code",
   "execution_count": 30,
   "id": "86bdd278",
   "metadata": {},
   "outputs": [
    {
     "name": "stderr",
     "output_type": "stream",
     "text": [
      "C:\\Users\\jimmy\\AppData\\Local\\Temp\\ipykernel_24604\\212915717.py:13: LangChainDeprecationWarning: The method `Chain.run` was deprecated in langchain 0.1.0 and will be removed in 1.0. Use :meth:`~invoke` instead.\n",
      "  response = db_chain.run(user_query)\n"
     ]
    },
    {
     "name": "stdout",
     "output_type": "stream",
     "text": [
      "\n",
      "\n",
      "\u001b[1m> Entering new SQLDatabaseChain chain...\u001b[0m\n",
      "Give me teh average customer satisfcation for Widget D?\n",
      "SQLQuery:\u001b[32;1m\u001b[1;3mSELECT AVG(`Customer_Satisfaction`) AS Avg_Customer_Satisfaction\n",
      "FROM sales_data\n",
      "WHERE `Product` = 'Widget D';\u001b[0m\n",
      "SQLResult: \u001b[33;1m\u001b[1;3m[(Decimal('3.070305675915'),)]\u001b[0m\n",
      "Answer:\u001b[32;1m\u001b[1;3mThe average customer satisfaction for Widget D is 3.07.\u001b[0m\n",
      "\u001b[1m> Finished chain.\u001b[0m\n"
     ]
    }
   ],
   "source": [
    "response = chat_with_db(user_query)"
   ]
  },
  {
   "cell_type": "code",
   "execution_count": 31,
   "id": "13182527",
   "metadata": {},
   "outputs": [
    {
     "data": {
      "text/plain": [
       "'The average customer satisfaction for Widget D is 3.07.'"
      ]
     },
     "execution_count": 31,
     "metadata": {},
     "output_type": "execute_result"
    }
   ],
   "source": [
    "response"
   ]
  },
  {
   "cell_type": "code",
   "execution_count": 42,
   "id": "051a39d8",
   "metadata": {},
   "outputs": [],
   "source": [
    "user_query='Tell me teh average customer satisfcation for each product?'"
   ]
  },
  {
   "cell_type": "code",
   "execution_count": 43,
   "id": "6785045f",
   "metadata": {},
   "outputs": [
    {
     "name": "stdout",
     "output_type": "stream",
     "text": [
      "\n",
      "\n",
      "\u001b[1m> Entering new SQLDatabaseChain chain...\u001b[0m\n",
      "Tell me teh average customer satisfcation for each product?\n",
      "SQLQuery:\u001b[32;1m\u001b[1;3mSELECT `Product`, AVG(`Customer_Satisfaction`) AS Avg_Customer_Satisfaction\n",
      "FROM sales_data\n",
      "GROUP BY `Product`;\u001b[0m\n",
      "SQLResult: \u001b[33;1m\u001b[1;3m[('Widget C', Decimal('3.007633180677')), ('Widget D', Decimal('3.070305675915')), ('Widget A', Decimal('3.031918429573')), ('Widget B', Decimal('2.993423630915'))]\u001b[0m\n",
      "Answer:\u001b[32;1m\u001b[1;3mThe average customer satisfaction for each product is as follows:\n",
      "- Widget C: 3.0076\n",
      "- Widget D: 3.0703\n",
      "- Widget A: 3.0319\u001b[0m\n",
      "\u001b[1m> Finished chain.\u001b[0m\n"
     ]
    }
   ],
   "source": [
    "response = chat_with_db(user_query)"
   ]
  },
  {
   "cell_type": "code",
   "execution_count": 44,
   "id": "8a69cdcb",
   "metadata": {},
   "outputs": [
    {
     "data": {
      "text/plain": [
       "'The average customer satisfaction for each product is as follows:\\n- Widget C: 3.0076\\n- Widget D: 3.0703\\n- Widget A: 3.0319'"
      ]
     },
     "execution_count": 44,
     "metadata": {},
     "output_type": "execute_result"
    }
   ],
   "source": [
    "response"
   ]
  },
  {
   "cell_type": "markdown",
   "id": "7bb8ec2a",
   "metadata": {},
   "source": [
    "# Store PDF files as chunks in vector DB"
   ]
  },
  {
   "cell_type": "code",
   "execution_count": 45,
   "id": "95d82094",
   "metadata": {},
   "outputs": [],
   "source": [
    "class HuggingFaceEmbeddings:\n",
    "    \"\"\"Custom wrapper for Hugging Face SentenceTransformer embeddings.\"\"\"\n",
    "    def __init__(self, model_name=\"sentence-transformers/all-MiniLM-L6-v2\"):\n",
    "        self.embedding_model = SentenceTransformer(model_name)\n",
    "    \n",
    "    def embed_documents(self, texts):\n",
    "        \"\"\"Generate embeddings for a list of documents.\"\"\"\n",
    "        return self.embedding_model.encode(texts, convert_to_tensor=False).tolist()\n",
    "    \n",
    "    def embed_query(self, text):\n",
    "        \"\"\"Generate embedding for a single query.\"\"\"\n",
    "        return self.embedding_model.encode(text, convert_to_tensor=False).tolist()"
   ]
  },
  {
   "cell_type": "code",
   "execution_count": 46,
   "id": "c53c06db",
   "metadata": {},
   "outputs": [],
   "source": [
    "chunk_size=500\n",
    "chunk_overlap=50"
   ]
  },
  {
   "cell_type": "code",
   "execution_count": 122,
   "id": "920d8acf",
   "metadata": {},
   "outputs": [],
   "source": [
    "pdf_folder = \"C:\\\\gitworkspace\\\\aimldemo\\\\jupyterworkapce\\\\genai course\\\\capstoneproject\\\\Datasets\\PDF Folder\""
   ]
  },
  {
   "cell_type": "code",
   "execution_count": 182,
   "id": "f5996820",
   "metadata": {},
   "outputs": [],
   "source": [
    "output_folder = \"C:\\\\gitworkspace\\\\aimldemo\\\\jupyterworkapce\\\\genai course\\\\capstoneproject\\\\Datasets\\\\highlightedpdf\""
   ]
  },
  {
   "cell_type": "code",
   "execution_count": 183,
   "id": "14d3ce3e",
   "metadata": {},
   "outputs": [],
   "source": [
    "highlighted_pdf_path = os.path.join(output_folder, \"highlighted_output.pdf\")"
   ]
  },
  {
   "cell_type": "code",
   "execution_count": 49,
   "id": "3d894fb7",
   "metadata": {},
   "outputs": [],
   "source": [
    "db_path = \"chroma_db\""
   ]
  },
  {
   "cell_type": "code",
   "execution_count": 50,
   "id": "66b6505c",
   "metadata": {},
   "outputs": [],
   "source": [
    "if os.path.exists(db_path):\n",
    "        print(f\"[INFO] Deleting existing Chroma database at {db_path} to avoid conflicts.\")\n",
    "        shutil.rmtree(db_path, ignore_errors=True)"
   ]
  },
  {
   "cell_type": "code",
   "execution_count": 53,
   "id": "b31ef6d5",
   "metadata": {},
   "outputs": [],
   "source": [
    "embeddings = HuggingFaceEmbeddings()"
   ]
  },
  {
   "cell_type": "code",
   "execution_count": 56,
   "id": "1cb3c93e",
   "metadata": {},
   "outputs": [],
   "source": [
    "chroma_settings = Settings(persist_directory=db_path, anonymized_telemetry=False)"
   ]
  },
  {
   "cell_type": "code",
   "execution_count": 57,
   "id": "3fe72fd0",
   "metadata": {},
   "outputs": [
    {
     "name": "stderr",
     "output_type": "stream",
     "text": [
      "C:\\Users\\jimmy\\AppData\\Local\\Temp\\ipykernel_24604\\1200157228.py:1: LangChainDeprecationWarning: The class `Chroma` was deprecated in LangChain 0.2.9 and will be removed in 1.0. An updated version of the class exists in the :class:`~langchain-chroma package and should be used instead. To use it run `pip install -U :class:`~langchain-chroma` and import as `from :class:`~langchain_chroma import Chroma``.\n",
      "  vector_db = Chroma(persist_directory=db_path, embedding_function=embeddings, client_settings=chroma_settings)\n"
     ]
    }
   ],
   "source": [
    "vector_db = Chroma(persist_directory=db_path, embedding_function=embeddings, client_settings=chroma_settings)"
   ]
  },
  {
   "cell_type": "code",
   "execution_count": 188,
   "id": "10eada69",
   "metadata": {},
   "outputs": [],
   "source": [
    "def extract_chunks_with_coordinates(pdf_path):\n",
    "    \"\"\"Extract chunks from the PDF along with their coordinates (bounding boxes) and file name.\"\"\"\n",
    "    doc = fitz.open(pdf_path)\n",
    "    chunks_with_metadata = []\n",
    "\n",
    "    # Extract the file name from the full path\n",
    "    file_name = os.path.basename(pdf_path)\n",
    "\n",
    "    for page_num in range(len(doc)):\n",
    "        page = doc[page_num]\n",
    "        page_text = page.get_text(\"blocks\")\n",
    "        full_text = \" \".join(block[4] for block in page_text)\n",
    "\n",
    "        splitter = RecursiveCharacterTextSplitter(chunk_size=chunk_size, chunk_overlap=chunk_overlap)\n",
    "        text_chunks = splitter.split_text(full_text)\n",
    "\n",
    "        for chunk in text_chunks:\n",
    "            coordinates = []\n",
    "            search_results = page.search_for(chunk)\n",
    "            for rect in search_results:\n",
    "                coordinates.append((rect.x0, rect.y0, rect.x1, rect.y1))\n",
    "\n",
    "            chunks_with_metadata.append({\n",
    "                \"text\": chunk,\n",
    "                \"page\": page_num,\n",
    "                \"coordinates\": coordinates,\n",
    "                \"file_name\": file_name  # Add file name to metadata\n",
    "            })\n",
    "\n",
    "    return chunks_with_metadata\n"
   ]
  },
  {
   "cell_type": "code",
   "execution_count": 189,
   "id": "35c51dec",
   "metadata": {},
   "outputs": [],
   "source": [
    "pdf_files = [os.path.join(pdf_folder, f) for f in os.listdir(pdf_folder) if f.endswith(\".pdf\")]"
   ]
  },
  {
   "cell_type": "code",
   "execution_count": 190,
   "id": "2aa173f8",
   "metadata": {},
   "outputs": [
    {
     "data": {
      "text/plain": [
       "['C:\\\\gitworkspace\\\\aimldemo\\\\jupyterworkapce\\\\genai course\\\\capstoneproject\\\\Datasets\\\\PDF Folder\\\\AI business model innovation.pdf',\n",
       " 'C:\\\\gitworkspace\\\\aimldemo\\\\jupyterworkapce\\\\genai course\\\\capstoneproject\\\\Datasets\\\\PDF Folder\\\\BI approaches.pdf',\n",
       " 'C:\\\\gitworkspace\\\\aimldemo\\\\jupyterworkapce\\\\genai course\\\\capstoneproject\\\\Datasets\\\\PDF Folder\\\\Time-Series-Data-Prediction-using-IoT-and-Machine-Le_2020_Procedia-Computer-.pdf',\n",
       " 'C:\\\\gitworkspace\\\\aimldemo\\\\jupyterworkapce\\\\genai course\\\\capstoneproject\\\\Datasets\\\\PDF Folder\\\\Walmarts sales data analysis.pdf']"
      ]
     },
     "execution_count": 190,
     "metadata": {},
     "output_type": "execute_result"
    }
   ],
   "source": [
    "pdf_files"
   ]
  },
  {
   "cell_type": "code",
   "execution_count": 191,
   "id": "6bd794eb",
   "metadata": {},
   "outputs": [],
   "source": [
    "text_chunks_with_metadata = []\n",
    "for pdf_file in pdf_files:\n",
    "    chunks = extract_chunks_with_coordinates(pdf_file)\n",
    "    text_chunks_with_metadata.extend(chunks)"
   ]
  },
  {
   "cell_type": "code",
   "execution_count": 192,
   "id": "71e4307d",
   "metadata": {},
   "outputs": [
    {
     "data": {
      "text/plain": [
       "{'text': 'Journal of Business Research 182 (2024) 114764\\n Available online 14 June 2024\\n0148-2963/© 2024 The Authors. Published by Elsevier Inc. This is an open access article under the CC BY-NC-ND license (http://creativecommons.org/licenses/by-\\nnc-nd/4.0/).\\n AI-driven business model innovation: A systematic review and \\nresearch agenda \\n Philip Jorzik a, Sascha P. Klein b, Dominik K. Kanbach a, Sascha Kraus c,d,* \\n a HHL Leipzig Graduate School of Management, Jahnallee 59, 04109 Leipzig, Germany',\n",
       " 'page': 0,\n",
       " 'coordinates': [],\n",
       " 'file_name': 'AI business model innovation.pdf'}"
      ]
     },
     "execution_count": 192,
     "metadata": {},
     "output_type": "execute_result"
    }
   ],
   "source": [
    "text_chunks_with_metadata[0]"
   ]
  },
  {
   "cell_type": "code",
   "execution_count": 193,
   "id": "dad2b009",
   "metadata": {},
   "outputs": [],
   "source": [
    "chunk_texts = [item[\"text\"] for item in text_chunks_with_metadata]\n",
    "metadata = [{\"page\": item[\"page\"], \"file_name\": item[\"file_name\"], \"coordinates\": json.dumps(item[\"coordinates\"])} for item in text_chunks_with_metadata]"
   ]
  },
  {
   "cell_type": "code",
   "execution_count": 194,
   "id": "07d052a5",
   "metadata": {},
   "outputs": [
    {
     "data": {
      "text/plain": [
       "'Journal of Business Research 182 (2024) 114764\\n Available online 14 June 2024\\n0148-2963/© 2024 The Authors. Published by Elsevier Inc. This is an open access article under the CC BY-NC-ND license (http://creativecommons.org/licenses/by-\\nnc-nd/4.0/).\\n AI-driven business model innovation: A systematic review and \\nresearch agenda \\n Philip Jorzik a, Sascha P. Klein b, Dominik K. Kanbach a, Sascha Kraus c,d,* \\n a HHL Leipzig Graduate School of Management, Jahnallee 59, 04109 Leipzig, Germany'"
      ]
     },
     "execution_count": 194,
     "metadata": {},
     "output_type": "execute_result"
    }
   ],
   "source": [
    "chunk_texts[0]"
   ]
  },
  {
   "cell_type": "code",
   "execution_count": 195,
   "id": "8c9d42ed",
   "metadata": {},
   "outputs": [
    {
     "data": {
      "text/plain": [
       "{'page': 0,\n",
       " 'file_name': 'AI business model innovation.pdf',\n",
       " 'coordinates': '[]'}"
      ]
     },
     "execution_count": 195,
     "metadata": {},
     "output_type": "execute_result"
    }
   ],
   "source": [
    "metadata[0]"
   ]
  },
  {
   "cell_type": "code",
   "execution_count": 196,
   "id": "7a7076f6",
   "metadata": {},
   "outputs": [
    {
     "data": {
      "text/plain": [
       "['5e626f36-e48b-42e2-ae03-41c167403d98',\n",
       " '6caaa08a-7f4e-4d7d-ba62-6050cdf5339e',\n",
       " 'bc1e0fdf-7d64-4371-9b15-5cae4e24e603',\n",
       " 'd6f0c1a4-c476-4c06-b349-815b18b4fc2f',\n",
       " '332312b1-3932-4f03-a418-6f184848f168',\n",
       " 'dd4b617f-2124-4b88-bdc9-364f9a4fef06',\n",
       " 'ef9ef6c8-98bb-48e2-9dca-c382d788fe44',\n",
       " 'a0348465-1730-4f12-8bc4-63c35a1f2cd8',\n",
       " 'f6310d8f-eff6-4b99-9a42-235f265ce0ee',\n",
       " '4430c28d-4866-4f54-9493-aba6f11b3c68',\n",
       " '838a214d-5d43-4462-8487-8173e36a2c24',\n",
       " 'fef54d65-5b67-49ea-be9c-9bc0bfdc118d',\n",
       " 'a40bd68b-1c7f-467c-8201-9b8ed859f77b',\n",
       " '7850d490-90e4-4143-9cbe-593287159ac1',\n",
       " '92ca52f7-910f-4f50-99e0-07d684709f63',\n",
       " '72ca8039-879f-4c90-8f0d-ebcf8b80bc74',\n",
       " '7dcf1962-0425-41f1-9447-d5561015117d',\n",
       " '10d630fb-eb25-4a13-9e6b-e6bd91690a71',\n",
       " 'af7e91ec-5f8c-4fad-80c0-bf8cd756bd80',\n",
       " '48b682c7-c004-4e53-9fb1-d7f65f4802eb',\n",
       " '40a66d3f-c77a-4678-83e0-c25e528b170b',\n",
       " 'c5157cf3-8d9e-4fe1-9b6c-8248c1ec4f58',\n",
       " 'e5a43dea-47f2-4b8c-9f2f-a48452c956f8',\n",
       " 'ef735c96-2367-4770-8149-c28cffc0a447',\n",
       " 'd1903c27-ef18-41c0-b03a-ec0746fd5402',\n",
       " '5ed93172-be51-436e-9381-e709bc10595d',\n",
       " '8f563089-204a-4042-bfed-699b6b9265db',\n",
       " 'a37bc8ff-cb6a-43fd-8dc9-3abc809b4f37',\n",
       " 'ca10996e-8087-41bf-8f3e-cbeb46ce1e25',\n",
       " '6c4f2dba-2ffa-446f-805b-263e316823da',\n",
       " '065c1242-3efb-464b-841d-1b3d0e0f6dc8',\n",
       " 'd9706f49-c3bb-41c8-b9d5-4df05ed23149',\n",
       " '6ce1fa73-7fb9-4231-b6f2-155c56a7b24d',\n",
       " '526cc934-0203-48ff-96cf-48fdb7168387',\n",
       " '621f8afb-2080-4e4a-ab88-6221a5c21f8a',\n",
       " '2773b4e9-3b17-424b-b89a-3a31f037fb95',\n",
       " 'a557279f-22ea-4378-b68d-060e32bc796b',\n",
       " '3be82ba9-7ac6-45df-addd-87d22a3a935e',\n",
       " '1f8e1508-fb56-4935-87bc-763d70f6e14b',\n",
       " '41a87c4c-93a1-4d2f-8662-beda376163e9',\n",
       " 'fe3078f0-4c0c-45b4-a241-26551259117b',\n",
       " 'b0cda309-2ab0-45b7-b7f1-33955d905f65',\n",
       " 'bf854974-cd37-49e2-affd-e926a8218e56',\n",
       " 'b9a55006-e126-41c5-92f6-dd6333e150a3',\n",
       " '772b37aa-053b-4e79-86e5-304bd32bc503',\n",
       " '60404999-1a80-41fe-a5d4-802551b4d761',\n",
       " 'c4b1d877-b69f-4fbd-bfa6-0c2965198b91',\n",
       " 'acc0cb98-15ca-44c0-ade0-f68d320013b8',\n",
       " '5f73de97-d2f2-4656-be5a-4b846fd7c91d',\n",
       " '25d7c36d-ed7b-4c8d-9113-8aabdc9a2bdc',\n",
       " '141ce4d0-9167-46f1-beb1-2bc5d75f9f16',\n",
       " '087bda37-e5d6-465a-b5b1-fa730441894b',\n",
       " '4f8e6296-485d-48e7-9de5-d28133ddf3b7',\n",
       " '6ab0a063-c58f-4a63-ae2b-a9401d76b529',\n",
       " '10463f2a-abc3-4611-b810-33963d901464',\n",
       " 'c81f9239-fae3-44e0-a84b-5e72ec51011f',\n",
       " '0d548e79-b6a8-418f-9804-6f7a77f468c5',\n",
       " 'ae64ef6e-86d6-4ecd-ac3c-e215ad93ece2',\n",
       " '2fa1cc97-6528-4b12-ba58-13bd1fb59eec',\n",
       " 'e5196cb3-fe52-492b-a3e1-434c829d199d',\n",
       " '1eb1ff3a-2ba3-4221-9db8-a113be25e1fe',\n",
       " 'f6c8b7db-ff9e-4a96-b405-04bc4d0103a8',\n",
       " '4cf52eb9-0328-48ef-8945-a5af9ed0fa60',\n",
       " '114d01f4-7325-4e46-9c29-118877010cd0',\n",
       " '26dbdd1d-4593-4640-a387-3624e7b41d39',\n",
       " 'd5d3b840-80a2-4d5e-93db-b5c4eb01cb8a',\n",
       " 'e92f3a8a-1615-4ef3-9d42-b7ecd124d9f7',\n",
       " 'e3d924fa-63fe-4ea0-9ff8-10fceb947d57',\n",
       " 'd05d73c1-2f56-4ff9-85f9-386ddb454673',\n",
       " '06458e56-e412-4d3d-bfb9-e76e303f7cc3',\n",
       " '1c01f134-17f0-47a5-a322-40294c823890',\n",
       " '06db5c7d-9b18-4102-a631-006b23b6bfed',\n",
       " 'e3780117-3625-4e8d-93e6-1520fc591e2b',\n",
       " '6301a807-103c-492f-b9f9-2e159d5b0329',\n",
       " '683bb054-7b80-442b-92db-e6316192bcfb',\n",
       " 'e9adc7f5-1c1b-4460-8b6b-a9dae36d9cdd',\n",
       " 'aa0b61a2-9de5-49c9-a3dc-720fe5462b3e',\n",
       " '1f8a8292-a2ae-4c57-b012-9d21872b4055',\n",
       " '39c28883-3936-4003-a2f2-cfa864cfd23b',\n",
       " 'dea0001e-372c-4825-bca7-964d4da36b1f',\n",
       " '09bd80b1-1d99-4175-9396-e8e01bb68540',\n",
       " 'eaf07e4d-8502-4bff-a7dc-4ef9b96fffd0',\n",
       " '20b15e85-06b2-4007-bd83-743bda4b18e4',\n",
       " '2ea536bb-eb95-4d0e-ae04-ea480267d4a4',\n",
       " '07573156-51e0-477b-a982-2a2a9c9bd0bc',\n",
       " '8808e095-250b-47e4-a4ae-9845019b6085',\n",
       " '79f9c1b4-11ef-44e8-8edc-6e9b9be30b98',\n",
       " 'f6309910-284b-432b-8bc9-d6229cfc81e8',\n",
       " '78d0788b-a2c0-4af3-a0d6-0c34a0879fe1',\n",
       " '6659ac14-c928-4558-8d1d-721512466f0e',\n",
       " 'c109051c-e95f-41b4-91cc-fea196f338b5',\n",
       " 'b3149888-7b20-4486-a123-bc2463cd0269',\n",
       " 'eb7210bd-31b9-4e29-8aaa-86481264c27e',\n",
       " '28278883-8830-45e7-bb4a-0599de041950',\n",
       " '5d9a5bb7-60e4-4355-ab74-c9b15abc1923',\n",
       " '70b94157-4452-4225-bacf-4cd180f68298',\n",
       " 'c911397e-787c-490d-a7cb-588de85a7251',\n",
       " '1cd0df91-eae9-4626-93c3-156a27a05cca',\n",
       " '0a719649-c68b-4d69-b2ce-ac68630fec91',\n",
       " '5110d69f-e593-4eb3-b45a-009931e5438c',\n",
       " 'd81223a2-5f44-49cb-8a3c-6189b12967a0',\n",
       " '27b7e630-ecbb-4098-9d66-d0fe05fda4e6',\n",
       " 'c5309832-1705-4c82-8050-70464b0095d4',\n",
       " '9cc6d18b-04b0-425d-bdd1-c5a2bd90e2d4',\n",
       " '77827753-aee4-4390-8442-aa3e8b8209ef',\n",
       " '808343ac-b8d6-43e3-b3cb-7c043d9d9224',\n",
       " '9e861385-9f87-4e02-9a3f-006abf1ec631',\n",
       " '61aa82bf-6719-466a-8a96-f7ad0a5ab8ad',\n",
       " '399043d4-03d4-4793-bd49-596f5d659312',\n",
       " 'fdc44b81-3a03-47e2-a25e-4fd2a1ad701d',\n",
       " 'ab62db17-44fa-4a9e-a1da-36433fbd43a3',\n",
       " '53a9ec5c-8a23-4b64-a4da-f8f84e87a314',\n",
       " 'f5dabe44-8d6e-4604-b167-79b21cc2523b',\n",
       " '94eec24d-3186-4e98-885f-63238026a54d',\n",
       " 'e08041f7-4604-4cda-911b-3bfb6287ba0c',\n",
       " 'fac9ff96-4405-4116-b119-bc0fb6c0993f',\n",
       " 'b1aa59e6-9009-4470-89d3-e90964753f62',\n",
       " 'bfb7f920-3310-4131-a599-94be70eb8ad9',\n",
       " '056f7733-84b2-4ebf-a744-84c39f3100b6',\n",
       " '63aedff8-dad1-4e5c-b8bd-3b6cecd4a303',\n",
       " 'b6090a6b-58b7-4652-b22f-3163c832b539',\n",
       " 'c8fb0c98-ae41-4a3a-b111-0ed739c7d5cf',\n",
       " 'f89bc748-a5bb-4fae-87e5-0beef1390397',\n",
       " '4114995a-d661-4a43-b3ab-736f94c553ed',\n",
       " '92eb26a6-f402-4459-b0b6-ad3a4d01594b',\n",
       " 'a8433dd3-67d3-4e5f-b92e-00bdf3ffad65',\n",
       " 'a017af23-6792-4c20-928c-dec26bb156a2',\n",
       " 'e863ebc3-ac71-4e81-b8c5-f3f2cb884e7c',\n",
       " 'fcd84c8f-25a6-41de-bf18-d6806c0dce20',\n",
       " 'cc1c5c72-1a73-49a7-8a5b-f54b60137e6c',\n",
       " 'c993a040-e933-4784-bd92-2a5400cce0c8',\n",
       " '47c2c387-59ee-449a-b6ac-5b847039758c',\n",
       " '1747289e-a0d6-4d40-8c59-2efdae1c2890',\n",
       " '26eab606-ff05-4971-8143-9a7edd283c8f',\n",
       " '4d24bce5-5d63-4481-8fc6-2ae5f7bc73d0',\n",
       " '2a349a88-00fc-45eb-a0e1-12a40acbb745',\n",
       " 'af28ccf8-101b-4326-af35-7337b7e64b80',\n",
       " 'd0592433-85b4-41c6-8f11-12038881e637',\n",
       " 'e4557978-8ace-4cf9-b0ad-77e11b634078',\n",
       " '625e267d-bb73-4194-acd6-a62d1c0c5a29',\n",
       " '7aaa8bd6-6c8e-44c0-9839-c8c1fbc5427c',\n",
       " 'aac16e76-2899-44ef-a72d-983dc6a2d53c',\n",
       " '411bccb4-cf2e-4129-a453-b8392f3e09d6',\n",
       " '56c7d099-896e-4bff-bb4d-401f11168d9a',\n",
       " '432753a1-4323-4b4b-9a5f-8b0fd3e65a8e',\n",
       " '1b921367-efde-482e-b362-190a6392fe60',\n",
       " '6f7b8b1e-9040-409c-a395-89058f84924d',\n",
       " '3600dd34-b21f-48bb-9101-4b4dd2a96ad6',\n",
       " 'aed3ca9c-63a9-4731-9bfa-d73f571b7678',\n",
       " '2dcf2c29-ba7a-4827-b5da-f03e50fbdb95',\n",
       " '80972cc0-cb10-4676-b773-03806e1d36e2',\n",
       " '0b9a654b-9bb5-4552-8031-de81195e8045',\n",
       " '3325d86f-02aa-4e43-afae-97695351611a',\n",
       " '65cdaa75-7ec2-4461-afea-3914923b30b1',\n",
       " '3d26544d-0fc3-4146-90e8-b47015086497',\n",
       " '3a18e27c-2f2e-450c-a085-2c09ad759e6a',\n",
       " '200cbe8c-f692-4df7-87ca-a4fe4191850f',\n",
       " '3a75c51d-3ba8-4bb0-b7de-499565dd3e01',\n",
       " '136af6cb-16c2-4f11-abf8-671349fddf96',\n",
       " 'd92194da-7694-4baf-8f6a-5c4f892674ed',\n",
       " 'e9008f8c-2081-43d6-9e22-d6f6d3ae79d4',\n",
       " '233c7141-cbd2-4072-a2ef-5dfb3ac0451b',\n",
       " 'f33ecbc4-c3c7-431c-a2d1-7a51f0d51d9f',\n",
       " 'b244f238-7a3b-4795-a84c-f9afca06be92',\n",
       " '5571daf0-f26c-44a5-8e5d-efe81d86ec2e',\n",
       " 'ff62fc53-a3d0-40c5-b7be-69f75690c412',\n",
       " 'cbc35eec-e506-4f47-989a-3591cbdf4d57',\n",
       " '6be4b5cc-00fb-43b9-ab7c-19b48409b383',\n",
       " 'f8637cc6-3a14-42af-89d5-ac0c6bd6ad8b',\n",
       " 'c2af6451-1e89-4c5d-9ea9-d4ed5e68075c',\n",
       " '37d60e3e-2e1c-4da8-8f81-3e524cb11baf',\n",
       " '9159ce2c-65a8-4928-a6fa-4601bf8d8688',\n",
       " '920b9d27-9313-4acd-869d-48ce25590dfa',\n",
       " '21ee23c9-b58c-4cd9-a946-3f2de9b9ba1e',\n",
       " '693641aa-e8aa-427d-bb52-a39e7d53e8ac',\n",
       " '4b318147-63e2-43fc-bc7c-d395d0a112c4',\n",
       " 'd829fdf4-5cf0-4433-8e87-abb494e849c9',\n",
       " '93018815-568b-4baa-8d31-ef3bdd8bbf73',\n",
       " '858289dc-72b4-4eba-95f5-0d9c3ff94485',\n",
       " 'a667a36b-8514-49aa-9c37-2d917b48164f',\n",
       " '05a75dbb-321c-4959-a7d9-cedbb1a4ae81',\n",
       " '9ff16265-02b4-4ae6-89b8-38e8bfc149cc',\n",
       " 'dd606a79-a3db-4b86-915e-4ee384175272',\n",
       " '78f7a7d7-7ec9-4691-b287-8491baab0aad',\n",
       " '866a2841-4ac1-4d76-a1e9-f7c50db486c5',\n",
       " '88778df4-fb4c-49be-9c71-7f9d6555ea77',\n",
       " '14520357-5dc6-488f-853e-a827d014c95a',\n",
       " '9181ad3a-2e53-4052-988b-d0ad4788790e',\n",
       " 'dc9320d4-003e-48b4-bf08-149e914856f1',\n",
       " 'b295664d-650f-468f-83f7-a8bbf8e50b7f',\n",
       " 'e26d16d4-7a7e-4681-90fb-ac16b4d06a4d',\n",
       " '453acd81-a96f-4a46-9b3e-aa47befe51aa',\n",
       " 'd4e34a4a-d3c4-4fdf-9db9-646dac087788',\n",
       " '5119f497-5f0f-4949-9e32-12916c9b123e',\n",
       " '49082821-9ca7-44ec-9a2e-ed17f225f95a',\n",
       " 'bdb6552c-3e1d-4445-9fc3-222b270633c3',\n",
       " '7fff8b36-5e0b-44ee-88b9-6ce5b32b2fb8',\n",
       " '96f5e26f-eb64-42e1-8cac-65ce763f6a4b',\n",
       " '5997b5d3-a70b-44fd-9845-a2d582f71644',\n",
       " '1e600bf5-7529-4764-afa0-1a6fe339b38f',\n",
       " '5ec78393-9211-44e5-8a13-cd01000de2a2',\n",
       " '0497b182-c661-41ad-b729-77eb54217bec',\n",
       " '548f7bc2-7543-47fa-940a-0f10e31d775e',\n",
       " 'fb2c7b47-60b1-4614-86c0-613814e88619',\n",
       " '1b8045c2-8748-4baa-9f44-3af9c4b58301',\n",
       " 'c1003d66-444a-4679-bb81-5b9f8d87428e',\n",
       " 'a6c36329-9552-4984-acfa-34724e8c6874',\n",
       " '0ee3b143-9845-4f91-ae75-8881126ff683',\n",
       " '69b95607-e3c2-4f8e-8f25-4764629cb1f0',\n",
       " '854da2e1-be44-40c2-83e5-b7d0861209ed',\n",
       " '954d030c-7eb0-434d-8f09-12d14ead845f',\n",
       " 'ea54801f-ab9d-4b79-94d1-f163ea7d1054',\n",
       " 'd88a40d4-ee0a-4c1c-b9df-abf9599dc4e5',\n",
       " 'dc429587-20b3-4b54-9bba-f19debe55192',\n",
       " '414ae631-1276-4610-883b-6ca0f43d05c3',\n",
       " '0a448ef1-dc50-44e6-b513-9edcb9ecdc61',\n",
       " 'eba56169-334c-4352-ac96-b8992e6c0814',\n",
       " '2583e513-23b9-44b8-a7a4-f1f0fde8875f',\n",
       " 'eded3c16-c1bc-4500-926b-f9d9c3ef1d27',\n",
       " 'c110cbeb-23a7-4a94-be33-498fa7a4ec6f',\n",
       " '59b2d316-dcae-408c-899b-589fc9023a75',\n",
       " '03756ac9-a3ab-41a0-bb9a-d01316b1514b',\n",
       " 'fa967f6e-5a75-4e98-99b1-42ce689cbfe8',\n",
       " 'c132fa6e-c258-48bb-adbf-f48495ccca06',\n",
       " '2dc00095-36bc-497b-85be-6aac6b0ff4ab',\n",
       " 'e787f10d-2879-4490-8949-967b3bd2cae0',\n",
       " '9990e138-4e73-4505-8660-59544ece41ed',\n",
       " 'e8a811fb-bdd6-4d32-8268-0e03f08b6b45',\n",
       " '07737dbd-4d26-4c84-bc19-7665ceb2b018',\n",
       " 'a86c150b-2d47-4835-94b2-0af864f6ae39',\n",
       " '543121f4-4da1-4c02-84d3-072b9323a1d2',\n",
       " '086f2e2a-66da-4422-bb8e-1936861de5ed',\n",
       " 'aeabff84-26c3-433f-aa2c-6e8b0e887ae4',\n",
       " '12cfc6de-00d5-45fb-9a0d-ea3afa4047af',\n",
       " '265110f9-904e-495d-993c-383cd85b2200',\n",
       " '83e8cc06-90e8-4e8b-90fd-fb5c97c94fea',\n",
       " '81dec8c6-7494-44e5-a50f-6bd89307d072',\n",
       " 'f96cada4-64bc-4faa-975c-1850399d6b70',\n",
       " 'f7092a44-734f-4066-8ce8-8c993d2f5b3e',\n",
       " 'e1d7a3a7-b79e-4ee1-b2de-b79457557fb6',\n",
       " '3169754b-4793-4067-9c8e-0a3fcc105332',\n",
       " '11ab31c7-b1cb-4e2e-a740-cadcaef20345',\n",
       " 'deecdbf8-b0f0-44d3-be11-f2e0d74125db',\n",
       " '76b6f397-ea32-4b47-963a-11fbb6ab05f6',\n",
       " 'a65c65cb-9c7b-4828-91e0-2f4d0ecb2105',\n",
       " 'f8e53513-16e6-4e2c-9b67-0986baae308d',\n",
       " '7b58c97c-bf91-4b3e-b901-2de8446f2629',\n",
       " '2ec40ad3-9fac-4a50-9ba3-bcb611020c47',\n",
       " '7d321779-ee57-4e21-8904-45a37b5793df',\n",
       " '48d9a00a-accd-430e-83d8-59c335402667',\n",
       " '05fd8941-2c9b-4e1e-8d81-3baff2ec5672',\n",
       " '9bf8e54b-8ba8-4e96-8429-cbd2d923cda5',\n",
       " '60cf332f-5283-4a7b-a395-45206f3d6a74',\n",
       " '8f621eb9-f9ae-4b5c-879d-8d513e842b48',\n",
       " 'ef665150-bd94-4ea2-a856-f6faee0ca59f',\n",
       " 'b981cce2-ff9d-4847-a507-57d6345f438e',\n",
       " '3e7dd700-5bbc-4369-bf59-09242cf2354a',\n",
       " '99a4f8a1-cadf-4681-87f1-e6b57e068e65',\n",
       " '00ddd1d1-7ef3-4133-bda9-fc05c70beda4',\n",
       " 'fd360958-0640-4afe-a87b-b1ad621dd51b',\n",
       " '9f6dded8-cfb0-46f3-a26e-79f46892e364',\n",
       " 'ce251c00-3281-4354-998b-55dabceeb1ff',\n",
       " '386a3b27-d173-4e00-aac0-9a8b30eaa7a6',\n",
       " '2f3a3a4c-e2a6-4a9f-ab13-7e3683fe8971',\n",
       " '085c4e7a-4b14-4123-9863-ec676605a117',\n",
       " 'b585b7b5-d661-441f-95c8-8ddcd2988550',\n",
       " '41cbdf09-7f74-4397-a058-22cb2c606fbe',\n",
       " '4ce7c24c-0da9-4d82-9b4f-c2d68d83952b',\n",
       " '4d573033-5efd-4a9b-af6e-91f3bdb8d9f1',\n",
       " '89cc53f9-8284-4d47-ade7-26b877122bcc',\n",
       " 'd2aa9261-f34c-4d1d-a0af-5e6ac679f9e4',\n",
       " '3d65c078-f535-4377-a773-ae7b4f012af2',\n",
       " 'e62dcfeb-0136-4998-af31-c977f0245871',\n",
       " 'c4bb7ef3-d32e-4ee6-a77d-c5e9777ec89c',\n",
       " '15f70191-c7ec-450b-9d58-c3a6ce9070d5',\n",
       " '9f2fd069-fe74-4054-87de-dadad1ce0cd8',\n",
       " 'f3db8c09-aeb3-49cc-a805-08b1620cd929',\n",
       " '1967962b-0aba-4ecc-89c8-6ab67e519b41',\n",
       " 'f17821a9-30c3-4ab5-8cc5-f2eaa377ddea',\n",
       " '68c56984-06f7-41fb-b145-e70e763edb26',\n",
       " '2254b4e0-b51f-4f0e-a9c1-438578d26513',\n",
       " '349ab404-e297-482d-aebd-581e16e17216',\n",
       " '865b3791-c5cb-424a-946b-bc90783a9e3c',\n",
       " '62a6572c-239e-48f9-ba38-650e8a452920',\n",
       " '79ec0a4e-61a2-482b-bffb-9c8191dcf6d5',\n",
       " '87f33f01-68e6-4405-97c6-f477e54b983b',\n",
       " '7f21e197-7bb6-4f0e-b17a-87cb6e5c1626',\n",
       " 'bb8d6ca2-7b00-47a3-b012-05f1990a77fd',\n",
       " '6bd017df-dc0a-422d-aefb-5e26d9b91a0d',\n",
       " 'bbc21964-9b64-4e97-851d-6008cf9b18d2',\n",
       " 'a1ec8f52-ce0c-4f4e-83ef-c0cc84c7c817',\n",
       " '5a03fdb1-ab59-408f-a9b4-72e5c4341984',\n",
       " 'a8ae8c7d-f1b5-40f0-82a0-762175ff1b2f',\n",
       " 'fa542990-78fc-417b-83e5-a752ab153976',\n",
       " '23c1026b-db44-40d1-8194-2019e14f6885',\n",
       " '182600c0-1f13-43fc-9a16-fb4044185ce5',\n",
       " '00007465-272e-4271-be85-c68845d798dc',\n",
       " '6ccb13cb-4bb4-4f72-a29a-72db4b0d825a',\n",
       " '7a95ef2e-0674-4196-ad74-3b36610d78e5',\n",
       " 'b34d712c-6b07-4685-a7a4-b22b9ebec16a',\n",
       " '5f676f1e-7acf-4e60-af8f-238fe231041c',\n",
       " 'c35492b9-2382-4319-a3ec-0aacb9c35e0f',\n",
       " '625527db-8d98-47fc-93b1-2c8451417dcb',\n",
       " '964118d2-6eb9-4628-bf7e-7aa4bdd78c74',\n",
       " '90d222b1-8ca3-46d9-9816-cb26dec4524f',\n",
       " 'a117817d-951c-4b1c-af17-90aa4a9b78d5',\n",
       " '4d5b4905-c536-4d05-a660-2f1fdde5e85a',\n",
       " '63401c3b-d4cd-41c6-ae18-4a0b7aee1b63',\n",
       " '8be86458-d650-40fc-b908-dc25379922d8',\n",
       " '72b9da70-2fee-421e-8153-cf995649d5a6',\n",
       " 'b798c8b8-c3f5-435d-96a9-3095093305d6',\n",
       " '7398d7dd-86d2-4bb9-a31c-4f139533a28b',\n",
       " 'f818d935-5390-46ed-b5a5-d674db01ca77',\n",
       " 'b1e47e83-f68b-4f59-b326-8e8b95287db8',\n",
       " '3681ca13-c0de-4296-8060-502c86149401',\n",
       " '0c6f5784-6ec9-4280-ac19-842d53ac5452',\n",
       " 'd722dea6-0acf-44f9-8479-103a5720ca14',\n",
       " '77193af6-2797-498a-bbeb-a4f886323c71',\n",
       " '2b23d0bf-1b3d-4a96-aa6a-65addd9499e5',\n",
       " '50c3ae01-ee05-42a3-8310-6daf8a67284b',\n",
       " 'c410e361-0131-4216-b69c-8e25e39d257f',\n",
       " '63db2c97-530e-4597-934b-c166fb1dbeaf',\n",
       " 'e0ebc432-a44c-437f-a910-16f85cd39f23',\n",
       " 'eb8ebbb9-23f9-4e48-a8a5-27912dc3d521',\n",
       " 'f20bfb17-1d09-4434-9ea1-241661767a08',\n",
       " 'd2276ab3-587f-4e6c-af02-0345c7b7816f',\n",
       " '33f62b8b-32e2-4070-9dc6-8fb9d1ad7842',\n",
       " 'eb6a47cb-6d61-4f9b-a4e3-4cff0780a45f',\n",
       " '90262f2b-35cb-4e22-b206-87625296a845',\n",
       " 'f95e5c85-ad59-49c9-8c23-ae37e2faa8ff',\n",
       " 'd94d4ac9-d6a1-4688-8657-07e1b481bff4',\n",
       " 'bccc7edb-0314-42ac-bcd1-2534fae1c88e',\n",
       " '3185f409-ace9-46a6-8630-39283c115467',\n",
       " '9559a956-8a5d-4a8e-b308-d916e76b3f13',\n",
       " 'e6d5237f-1c45-4107-afab-c2f04b6e226f',\n",
       " '8021e283-680f-48f9-9dbf-3241b6a2791a',\n",
       " 'a4540fbd-1456-4a63-b619-63a3e04f1e41',\n",
       " '8161b95c-6853-4ff5-b693-b9e689af8038',\n",
       " 'f1a71b92-fa7b-4c86-9c41-707bbd7ba28e',\n",
       " '688974af-d35d-4514-9e26-2d15d0cd98a9',\n",
       " '134014e8-4791-48cb-915d-5f9855edce67',\n",
       " '125261c0-79e6-4fbe-a71c-e738db736ec5',\n",
       " '9164f46f-a6b0-4bf2-9ae8-fec28acd5b1e',\n",
       " 'cfaaa984-125d-480f-8a1f-966e8ff4183b',\n",
       " '7f825ea3-f52f-4ce7-b32d-ecb01b34ea49',\n",
       " '8806cb81-b21e-4c0d-8ac4-2641f6b0a3db',\n",
       " '2c4a9a4a-2d2d-4429-a2d2-473f75172e37',\n",
       " '3c735db2-4378-49fa-8f80-ea481c0b2676',\n",
       " '47b5f233-db34-4a9f-a801-87586f8d2369',\n",
       " '92d49357-ea0a-45d0-991c-6ab79105c23d',\n",
       " '524701a1-19e1-4590-9166-0f860d673700',\n",
       " '84b5e64d-1db7-4309-8cb0-9555ba4bdf46',\n",
       " 'a216029e-4508-4d0e-8abc-fd6b0f8b5a5d',\n",
       " '897746cf-2bcf-4c6c-bcda-8e8971c482dd',\n",
       " 'bacb847d-ec31-4df9-b4d8-4d34e591a865',\n",
       " 'bc3dcb97-4728-4d74-b1ba-ec7c8244f24f',\n",
       " '0b6c55e3-cd34-49a7-8934-25ae1f9aa5a3',\n",
       " '25d2ef75-c846-472c-933b-83bd87cc0039',\n",
       " '3fcc77be-b481-4a96-8545-ac45475afa9c',\n",
       " '83adca64-6f67-43fe-87ed-21c820714d0d',\n",
       " '6e5db527-639f-46ab-a1e4-10cdc6e14fe7',\n",
       " 'fc1b5baf-a21f-4769-a618-d1586fa4aaf6',\n",
       " '69d18155-9449-4d4d-a5e2-ab0a0119ae9c',\n",
       " '2e111298-5e7f-465a-a069-0234c57bc984',\n",
       " 'c0d3e586-e98a-4f9a-ab65-6195866d6936',\n",
       " '5f8be0ae-8963-4d6a-9eba-17f563b38ea4',\n",
       " '2525872a-7d1d-4748-9431-818a3585b678',\n",
       " 'bb5a8a10-bad3-476d-8237-fc28b78330be',\n",
       " '0b08d3fe-0e94-47a4-b875-bd8aa7dff3a1',\n",
       " '51e67864-811d-4dc9-bcd4-7c951e77d979',\n",
       " '5d437a59-3180-4a15-8011-b2339992380a',\n",
       " '7f950e08-053d-492e-9245-76f541f25e0d',\n",
       " '5c45b0b9-c2e4-42ca-a266-bc941f325f8e',\n",
       " '3bd74b81-ac23-4e08-863b-813b5bb8a2ff',\n",
       " '91231bd3-9908-42ed-90e9-abf352b9afd7',\n",
       " 'bf206cf1-f4cd-4e39-a539-61cd50ca7fae',\n",
       " 'a161b346-ea09-4924-9988-e43bc7af8588',\n",
       " '0e4f13c4-3f91-481f-8397-d18459ec6877',\n",
       " '5f7ccbdf-dbae-48ed-bf6a-7a8c8a759eec',\n",
       " '979ea737-6315-42b0-9c31-05bbcbc6dab6',\n",
       " 'ddfa30fa-c3b1-4ad7-857d-07cbbdd50fae',\n",
       " 'a3f76ff1-ca3b-424c-aa98-1e64979bb7f3',\n",
       " 'ea887412-49a4-4e1b-90d0-9cdae0b31759',\n",
       " 'e347eb73-647b-496e-8fa1-ee3df24006e1',\n",
       " 'cea0df46-906f-4cc1-ae2e-3293a1e50e83',\n",
       " '24da8e19-13e1-45e2-bfc3-840b26917d7c',\n",
       " '0df54d88-1535-4a80-bc5f-c0fb212d9e69',\n",
       " '9b5ebc03-12df-48dc-ad67-1b5bb766058b',\n",
       " '7922728d-5326-4010-a319-583715eec9eb',\n",
       " 'a660b9fb-f314-4afa-bb8c-57c6bb994cd9',\n",
       " 'e3086540-31f3-4cd1-b910-cc5c7a137435',\n",
       " '740b3fb8-0403-4066-9f6e-6d7ff1d0d643',\n",
       " '9d6007ac-40df-43f1-b015-2a78b8b80b17',\n",
       " 'adff42f7-5739-47cf-a6de-72f1a10dae34',\n",
       " '2a0018be-ae46-43d2-9610-9ae8ff6be6a2',\n",
       " '57c27a76-0b4e-4f9a-a57b-f2ecf6429232',\n",
       " 'a7770588-daac-4381-a8d9-784fe8ce104c',\n",
       " 'f89df45e-dce9-4dea-a620-5e5671303356',\n",
       " '1d223f9c-6e35-464f-be77-a6c3eb60cd0e',\n",
       " '222d5176-3384-4de4-99dd-4b7381e544c0',\n",
       " '240e9b45-6735-4657-b123-044b00a5b364',\n",
       " 'd3800e88-5419-4585-8b10-2751d313cc18',\n",
       " 'baf25983-b291-4dca-8142-01db9e8ba6e3',\n",
       " '254b2c44-f74c-4930-ac14-5e8c0ff15986',\n",
       " 'dfada6dc-4e28-4b4d-b40d-6364826400ea',\n",
       " '85eb0d28-013d-4fda-ad0d-93b2124f846e',\n",
       " '10da1853-3b41-43ca-9cf3-7c2133d52bc8',\n",
       " '1fa16bbe-68a1-46e7-9ffe-d5169829018e',\n",
       " 'cd07a816-32ab-434a-85d2-7e1fb70db6e9',\n",
       " '27f55505-e972-4f8c-aca7-79ab0552589a',\n",
       " 'b457415f-63a7-443c-b96f-9132734e6dee',\n",
       " 'b4db8e61-c1f8-47e8-b5b7-05a79e9cec6d',\n",
       " '30018c8f-bc3a-4552-b4ad-c0680aae093c',\n",
       " '1f21ba0e-6f31-4138-8d19-ce7f33045796',\n",
       " 'e2cc401c-bf4a-4030-8060-ad74cdd70bd6',\n",
       " '8c450142-7db5-4509-abd0-601409a340da',\n",
       " 'be9e7edd-d342-468a-b6f6-a39dcd6178ca',\n",
       " 'f8d54f6f-1deb-463c-8f02-a912fa1efb01',\n",
       " '29de27a7-9c7d-43ff-b83c-a5bdd596b766',\n",
       " '5bf9658a-36ad-4122-9cfb-89a9b626f6dc',\n",
       " 'a013d3da-9556-471b-81f8-31b8fc172087',\n",
       " 'fc574884-39ad-44f4-aba7-528d791f369b',\n",
       " 'b6e43726-0fc6-4aa5-ae95-fba37d69c44c',\n",
       " 'f8aa882f-bce9-4321-b2f6-158ae7521788',\n",
       " 'a7eb6f92-feae-4bf1-aa81-6038c71215f3',\n",
       " 'd89b2d4e-c429-4238-a735-c1915109a69d',\n",
       " '0d5a5098-0de1-42e1-98db-6a4e99d242e2',\n",
       " '002c6cf4-68c2-4cae-a02a-2cfb89503647',\n",
       " '2fcef32b-5d7b-4717-953a-437436cf58cd',\n",
       " '8e59289c-70e9-4040-bb3c-a6d4a7c720f9',\n",
       " '279ccf2d-3a70-4e0d-a6d3-efdaf2e489e6',\n",
       " 'c317c28b-72f8-4861-ae56-1f83d291455f',\n",
       " '11b9fd8d-001f-4ae8-a52b-2cabce2f041a',\n",
       " '62ce7a9f-88c8-4aa2-9408-90869ffec0db',\n",
       " 'b9d62c91-92aa-4d47-83f4-8ce9d8683e41',\n",
       " 'd228dd05-8ecb-430f-89b6-d38c3ae26475',\n",
       " 'ffc5772f-ef4e-405f-b5d2-eef09099c496',\n",
       " '66b4a5d7-d151-406a-9631-26ef7d441535',\n",
       " '32691209-d738-4e36-9dc6-6a6c02790b8f',\n",
       " 'cc3cf096-e4f7-4031-96ae-5d37cc08b37c',\n",
       " 'dd824d62-43e7-43dd-acff-ad7e671c7cbe',\n",
       " 'dbfd0a77-53e9-4725-b317-6965afe8a734',\n",
       " '850579a0-e7e7-4f13-ae78-fae56de5025a',\n",
       " 'cbc9e773-3dc0-4e86-bb27-b0a8f308959b',\n",
       " '38f20c75-3719-446a-8391-36f4c3c82745',\n",
       " '11991681-8ebc-42ee-8245-9671de5f89bb',\n",
       " 'e9a214e4-a311-491d-874f-c686b1f199f1',\n",
       " '54a378e2-2abf-4cec-9f2d-63f8b8ce06dc',\n",
       " '2605a17e-40fe-46cb-b944-620502f06132',\n",
       " '2e2de3e8-0530-4624-95f2-539633f4ff05',\n",
       " '6d3e28a1-73ff-4ef8-87d5-e2c4cb3c269d',\n",
       " '6b01e8f9-8df0-442e-a4d2-2510fbb801d7',\n",
       " '6726e9a1-d773-4fae-a91f-7914a6185b73',\n",
       " 'c7a4b490-40e4-43db-b221-76751aebed64',\n",
       " '8b9d93c9-0015-4bab-afcd-e0666082e730',\n",
       " 'cf532625-ca11-4c37-a63e-deba4d226809',\n",
       " '7cd5166d-65ae-49d0-b97b-5568d83b76c4',\n",
       " '293d1247-0acf-483e-94f8-1fb0ce9ea14e',\n",
       " 'cb8df274-e75c-4faa-a0a3-e8ba748e86af',\n",
       " '66a9a4e6-2a2b-45df-ab22-bf25cef030b7',\n",
       " '7b236619-02a5-4bca-a55c-44362aaf8019',\n",
       " 'c7e7fc29-755f-4476-bd53-35ad15fdd23a',\n",
       " '65271a8b-2c35-4d40-9ac9-134ba35f1be7',\n",
       " '11d84702-c01f-4bf1-8034-d82763c9a7bc',\n",
       " 'd48d975c-ca44-4b87-a452-254b2338e471',\n",
       " '1ff88aba-9dcb-4f35-8570-d8000a0e5ff7',\n",
       " '4a2cf84e-9475-443d-918d-d036c9f9da85',\n",
       " '0459a501-6733-4808-ade0-ac7b6aeca7bd',\n",
       " '4628c677-9360-4474-a667-097dcdb35594',\n",
       " 'a679e5da-2d6f-41fb-9969-e9011bdbed3f',\n",
       " 'ac503a07-50b7-47f8-b7dd-ac71a7dd7866',\n",
       " 'e65967ec-7f22-423e-9125-6a267c05720d',\n",
       " '8547bcf5-9789-45fd-8dda-2c503e69670e',\n",
       " '2cfed594-0a35-4247-9413-641fb79b5f10',\n",
       " 'e1d5091c-f834-41da-bce7-58c2ebc64d80',\n",
       " 'f24049e7-36dc-4ee7-9f1d-576b6db45904',\n",
       " 'f64bbd4c-4cda-4764-b059-7fb3a6ca1a9f',\n",
       " '63dcd7ba-5b37-4a55-99a0-9062e128e8fb',\n",
       " 'f40ba4ce-8663-42f6-9a05-879568fb533e',\n",
       " 'fe84d6f3-4df3-4bbc-9bf2-74f18d9f3e24',\n",
       " 'ed999f8b-ea87-46ef-a7a8-4f054b46bce4',\n",
       " '7dfc30f9-ca41-42b5-8049-6b48665a5ab9',\n",
       " '1005b046-4304-4b71-9717-d41a554656a6',\n",
       " '541aa05b-c137-493f-bafb-7c34dc167ad6',\n",
       " 'fa0b71fd-fdfe-4c32-ab02-9ed71246da2b',\n",
       " '51cdf859-8f62-4f70-8d85-7fbcfa66c08a',\n",
       " 'f7dcb5f6-928d-4044-84a4-acdf77084b52',\n",
       " 'bd88d93f-978a-45c4-b530-7ea7482644ab',\n",
       " '95036e4f-f554-432b-81c8-12ef72bc1ede',\n",
       " '837bfeed-9853-4a6c-907a-c4c2718b076c',\n",
       " '8de5e3be-54df-4ee6-be78-6cb6786a9abc',\n",
       " 'c74040d3-4b83-404c-aacc-5db102859187',\n",
       " '13d54a1b-e75b-48ae-8c99-1984c05c25cb',\n",
       " 'e4f0a7e0-fb0e-493e-b98f-5fbbac532a63',\n",
       " '5f444cc2-e58d-4b67-bc8f-3fe1ee594240',\n",
       " '4870b14c-6ec0-4c10-836c-ca5710573bdf',\n",
       " '2f2ca424-44b2-4203-95cb-e65a022b5006',\n",
       " 'd3270034-5e02-4dc3-8099-de7dd94a19a4',\n",
       " 'c29f2127-a0c1-4be4-a43e-82b842fe7128',\n",
       " '71da8a61-2f89-494c-b29d-5202368feba0',\n",
       " 'd6414e18-7610-40f2-8825-13d0ac038512',\n",
       " '364cacbf-0621-4896-a8b7-e778ff342bc4',\n",
       " '6b0cfeef-bb8b-4ebe-87ce-5eab7a016010',\n",
       " '1ba90a45-bdb6-430b-9287-1937bedc42d2',\n",
       " 'de23652b-8266-47b0-ac44-432c896802a5',\n",
       " '2972d588-0603-449f-abd8-f3ed4e745b8e',\n",
       " '6497f2e3-7f26-444d-a3b3-b9dca3460383',\n",
       " 'e0c05df3-a9b9-4d98-806d-e5cdd176fcfc',\n",
       " 'edd1d8c5-9465-43db-b969-216235c1ac41',\n",
       " '196d347a-014a-42a9-90e4-4892f19a7af4',\n",
       " 'bb8e2d38-b0dd-44f3-84b3-153574fd4500',\n",
       " '464bd780-c5e8-442b-b237-a3ebaf254de1',\n",
       " '8194c5bf-532f-4fba-bead-a3ba4e1be145',\n",
       " '92b6bcd3-f5b5-460b-bd60-f67085eb1ba4',\n",
       " 'fc6a4453-6193-4816-ae63-700068b31860',\n",
       " '47cdfb06-582c-4c84-859f-a4941fe0f5e3',\n",
       " 'aa5ccb9f-33b3-4a58-9896-d32c606bca5a',\n",
       " 'ccae1af8-1832-4f0c-a642-c458f78249a6',\n",
       " '07d5d98c-eb1c-422f-974d-f99e23303b30',\n",
       " 'abda2594-42c4-46ab-a1b3-06ea8719b02c',\n",
       " '2e5f86a8-d920-4e43-89d7-13c519d01d08',\n",
       " '6511993b-55f4-4aee-b289-0459ade91ee8',\n",
       " 'e172783e-bc0c-448f-aec3-5116273dc89b',\n",
       " '57bfab57-7bee-4cf2-9d61-18a3d3390afc']"
      ]
     },
     "execution_count": 196,
     "metadata": {},
     "output_type": "execute_result"
    }
   ],
   "source": [
    "vector_db.add_texts(chunk_texts, metadatas=metadata)"
   ]
  },
  {
   "cell_type": "code",
   "execution_count": 197,
   "id": "532bf6fa",
   "metadata": {},
   "outputs": [],
   "source": [
    "vector_db.persist()"
   ]
  },
  {
   "cell_type": "markdown",
   "id": "6438ad01",
   "metadata": {},
   "source": [
    "# Chat with PDF Data"
   ]
  },
  {
   "cell_type": "code",
   "execution_count": 199,
   "id": "30134e32",
   "metadata": {},
   "outputs": [],
   "source": [
    "user_query = 'Who introduced the term Business Intelligence, often referred to as BI?'"
   ]
  },
  {
   "cell_type": "code",
   "execution_count": 200,
   "id": "86345bf1",
   "metadata": {},
   "outputs": [],
   "source": [
    "chat_history = [\n",
    "    {\"role\": \"user\", \"content\": \"CDC agrees to make the 504 Loan to the Borrower subject to what?\"},\n",
    "    {\"role\": \"assistant\", \"content\": \"SBA's approval.\"},\n",
    "    {\"role\": \"user\", \"content\": \"Third Party Lender waives its rights for what?\"},\n",
    "    {\"role\": \"assistant\", \"content\": \"Third Party Lender waives its rights to enforce provisions that do not comply with the 504 Loan Program Requirements.\"},\n",
    "    {\"role\": \"user\", \"content\": \"what does this document say about authority to execute agreement?\"},\n",
    "    {\"role\": \"assistant\", \"content\": \"The persons signing below certify that they have been duly authorized to execute this Agreement on behalf of their respective party.\"}\n",
    "]"
   ]
  },
  {
   "cell_type": "code",
   "execution_count": 202,
   "id": "2f1835b1",
   "metadata": {},
   "outputs": [],
   "source": [
    "# Template to rephrase the user query and extract metadata\n",
    "template = \"\"\"\n",
    "Given the chat history and the current user query, rewrite the query so it forms a complete question, maintaining the context of the conversation. Then, extract metadata (only \"file_name\" and \"page_number\" fields) if they are mentioned in the question or chat history.\n",
    "Rewritten query shoudl not have refernce to metadata fields file_name and page_number.\n",
    "\n",
    "Chat History:\n",
    "{chat_history}\n",
    "\n",
    "Current user query: {query}\n",
    "\n",
    "Rewritten query:\n",
    "[Provide the rewritten query here.]\n",
    "\n",
    "Extracted Metadata (JSON format with only file_name and page_number fields):\n",
    "[Provide the metadata here as a valid JSON object.]\n",
    "\"\"\""
   ]
  },
  {
   "cell_type": "code",
   "execution_count": 203,
   "id": "4d8ea52f",
   "metadata": {},
   "outputs": [],
   "source": [
    "# Format the chat history into a string\n",
    "formatted_chat_history = \"\\n\".join([f'{entry[\"role\"].capitalize()}: {entry[\"content\"]}' for entry in chat_history])"
   ]
  },
  {
   "cell_type": "code",
   "execution_count": 204,
   "id": "d9e7af3f",
   "metadata": {},
   "outputs": [],
   "source": [
    "# Create the prompt for the LLM\n",
    "prompt = PromptTemplate.from_template(template).format(\n",
    "    chat_history=formatted_chat_history,\n",
    "    query=user_query\n",
    ")"
   ]
  },
  {
   "cell_type": "code",
   "execution_count": 205,
   "id": "0d93ec69",
   "metadata": {},
   "outputs": [
    {
     "data": {
      "text/plain": [
       "'\\nGiven the chat history and the current user query, rewrite the query so it forms a complete question, maintaining the context of the conversation. Then, extract metadata (only \"file_name\" and \"page_number\" fields) if they are mentioned in the question or chat history.\\nRewritten query shoudl not have refernce to metadata fields file_name and page_number.\\n\\nChat History:\\nUser: CDC agrees to make the 504 Loan to the Borrower subject to what?\\nAssistant: SBA\\'s approval.\\nUser: Third Party Lender waives its rights for what?\\nAssistant: Third Party Lender waives its rights to enforce provisions that do not comply with the 504 Loan Program Requirements.\\nUser: what does this document say about authority to execute agreement?\\nAssistant: The persons signing below certify that they have been duly authorized to execute this Agreement on behalf of their respective party.\\n\\nCurrent user query: Who introduced the term Business Intelligence, often referred to as BI?\\n\\nRewritten query:\\n[Provide the rewritten query here.]\\n\\nExtracted Metadata (JSON format with only file_name and page_number fields):\\n[Provide the metadata here as a valid JSON object.]\\n'"
      ]
     },
     "execution_count": 205,
     "metadata": {},
     "output_type": "execute_result"
    }
   ],
   "source": [
    "prompt"
   ]
  },
  {
   "cell_type": "code",
   "execution_count": 206,
   "id": "61fd97ef",
   "metadata": {},
   "outputs": [],
   "source": [
    "# Get the response from the LLM\n",
    "rewritten_query = llm(prompt)"
   ]
  },
  {
   "cell_type": "code",
   "execution_count": 207,
   "id": "63bc8b6d",
   "metadata": {},
   "outputs": [
    {
     "data": {
      "text/plain": [
       "AIMessage(content='Rewritten query: \\nWho is credited with introducing the term Business Intelligence, often referred to as BI?\\n\\nExtracted Metadata:\\n{\\n  \"file_name\": \"N/A\",\\n  \"page_number\": \"N/A\"\\n}', additional_kwargs={'refusal': None}, response_metadata={'token_usage': {'completion_tokens': 46, 'prompt_tokens': 240, 'total_tokens': 286, 'completion_tokens_details': {'accepted_prediction_tokens': 0, 'audio_tokens': 0, 'reasoning_tokens': 0, 'rejected_prediction_tokens': 0}, 'prompt_tokens_details': {'audio_tokens': 0, 'cached_tokens': 0}}, 'model_name': 'gpt-3.5-turbo-0125', 'system_fingerprint': None, 'finish_reason': 'stop', 'logprobs': None}, id='run-89f29044-55f6-4204-bc0f-ccc0e5e89372-0', usage_metadata={'input_tokens': 240, 'output_tokens': 46, 'total_tokens': 286, 'input_token_details': {'audio': 0, 'cache_read': 0}, 'output_token_details': {'audio': 0, 'reasoning': 0}})"
      ]
     },
     "execution_count": 207,
     "metadata": {},
     "output_type": "execute_result"
    }
   ],
   "source": [
    "rewritten_query"
   ]
  },
  {
   "cell_type": "code",
   "execution_count": 208,
   "id": "fa6d85b0",
   "metadata": {},
   "outputs": [],
   "source": [
    "query = rewritten_query.content"
   ]
  },
  {
   "cell_type": "code",
   "execution_count": 209,
   "id": "ac1132f7",
   "metadata": {},
   "outputs": [
    {
     "data": {
      "text/plain": [
       "'Rewritten query: \\nWho is credited with introducing the term Business Intelligence, often referred to as BI?\\n\\nExtracted Metadata:\\n{\\n  \"file_name\": \"N/A\",\\n  \"page_number\": \"N/A\"\\n}'"
      ]
     },
     "execution_count": 209,
     "metadata": {},
     "output_type": "execute_result"
    }
   ],
   "source": [
    "query"
   ]
  },
  {
   "cell_type": "code",
   "execution_count": 210,
   "id": "734896ce",
   "metadata": {},
   "outputs": [],
   "source": [
    "top_chunks_with_scores = vector_db.similarity_search_with_score(query, k=3)"
   ]
  },
  {
   "cell_type": "code",
   "execution_count": 211,
   "id": "41cd3359",
   "metadata": {},
   "outputs": [
    {
     "data": {
      "text/plain": [
       "[(Document(metadata={'coordinates': '[[64.80006408691406, 475.8836669921875, 216.0312042236328, 491.89166259765625], [64.80006408691406, 489.68365478515625, 67.80006408691406, 505.691650390625], [64.80006408691406, 503.483642578125, 67.80006408691406, 519.4916381835938], [64.80000305175781, 517.3648681640625, 209.7991485595703, 536.7271118164062], [64.80000305175781, 533.364013671875, 565.343994140625, 549.3720092773438], [64.800048828125, 547.1640014648438, 565.35009765625, 563.1719970703125], [64.800048828125, 560.9639892578125, 107.82485961914062, 576.9719848632812], [110.82366180419922, 560.9639892578125, 149.81646728515625, 576.9719848632812], [152.8152618408203, 560.9639892578125, 167.8224639892578, 576.9719848632812], [170.82125854492188, 560.9639892578125, 199.84326171875, 576.9719848632812], [202.84205627441406, 560.9639892578125, 255.1860809326172, 576.9719848632812], [258.18487548828125, 560.9639892578125, 326.5068664550781, 576.9719848632812], [329.50567626953125, 560.9639892578125, 368.5308837890625, 576.9719848632812], [371.5296936035156, 560.9639892578125, 412.46051025390625, 576.9719848632812], [415.4593200683594, 560.9639892578125, 461.5321350097656, 576.9719848632812], [464.53094482421875, 560.9639892578125, 498.5485534667969, 576.9719848632812], [501.54736328125, 560.9639892578125, 523.2181396484375, 576.9719848632812], [526.2169189453125, 560.9639892578125, 551.227294921875, 576.9719848632812], [554.22607421875, 560.9639892578125, 565.2373046875, 576.9719848632812], [64.800048828125, 574.7640380859375, 562.3191528320312, 590.7720336914062]]', 'file_name': 'BI approaches.pdf', 'page_number': 1}, page_content='supporting shared information. \\n \\n \\n2.  Business Intelligence \\nBusiness Intelligence, often referred to as BI, is a popularized, umbrella term introduced by Howard \\nDresner of the Gartner Group in 1989 to describe a set of concepts and methods to improve business \\ndecision making by using fact-based computerized support systems (Nylund, 1999). The term is \\nsometimes used interchangeably with briefing books and executive information systems. A business'),\n",
       "  0.5274385213851929),\n",
       " (Document(metadata={'coordinates': '[[64.80006408691406, 475.8836669921875, 216.0312042236328, 491.89166259765625], [64.80006408691406, 489.68365478515625, 67.80006408691406, 505.691650390625], [64.80006408691406, 503.483642578125, 67.80006408691406, 519.4916381835938], [64.80000305175781, 517.3648681640625, 209.7991485595703, 536.7271118164062], [64.80000305175781, 533.364013671875, 565.343994140625, 549.3720092773438], [64.800048828125, 547.1640014648438, 565.35009765625, 563.1719970703125], [64.800048828125, 560.9639892578125, 107.82485961914062, 576.9719848632812], [110.82366180419922, 560.9639892578125, 149.81646728515625, 576.9719848632812], [152.8152618408203, 560.9639892578125, 167.8224639892578, 576.9719848632812], [170.82125854492188, 560.9639892578125, 199.84326171875, 576.9719848632812], [202.84205627441406, 560.9639892578125, 255.1860809326172, 576.9719848632812], [258.18487548828125, 560.9639892578125, 326.5068664550781, 576.9719848632812], [329.50567626953125, 560.9639892578125, 368.5308837890625, 576.9719848632812], [371.5296936035156, 560.9639892578125, 412.46051025390625, 576.9719848632812], [415.4593200683594, 560.9639892578125, 461.5321350097656, 576.9719848632812], [464.53094482421875, 560.9639892578125, 498.5485534667969, 576.9719848632812], [501.54736328125, 560.9639892578125, 523.2181396484375, 576.9719848632812], [526.2169189453125, 560.9639892578125, 551.227294921875, 576.9719848632812], [554.22607421875, 560.9639892578125, 565.2373046875, 576.9719848632812], [64.800048828125, 574.7640380859375, 562.3191528320312, 590.7720336914062]]', 'file_name': 'BI approaches.pdf', 'page': 1}, page_content='supporting shared information. \\n \\n \\n2.  Business Intelligence \\nBusiness Intelligence, often referred to as BI, is a popularized, umbrella term introduced by Howard \\nDresner of the Gartner Group in 1989 to describe a set of concepts and methods to improve business \\ndecision making by using fact-based computerized support systems (Nylund, 1999). The term is \\nsometimes used interchangeably with briefing books and executive information systems. A business'),\n",
       "  0.5274385213851929),\n",
       " (Document(metadata={'coordinates': '[[49.679931640625, 420.6837158203125, 550.2088623046875, 436.69171142578125], [49.679931640625, 434.48370361328125, 550.2191162109375, 450.49169921875], [49.679901123046875, 448.28369140625, 259.016357421875, 464.29168701171875], [85.67990112304688, 462.08367919921875, 550.2359619140625, 478.0916748046875], [49.679901123046875, 475.8836669921875, 547.2814331054688, 491.89166259765625]]', 'file_name': 'BI approaches.pdf', 'page': 2}, page_content='intelligence-related terms mentioned above. Nevertheless, almost all the definitions share the same \\nfocus, even if the term has been defined from several perspectives (Casado, 2004), and they all include \\nthe idea of analyzing data and information. \\nThe purpose of BI is to aid in controlling the vast flow of business information inside and \\noutside of organization by first identifying and then processing the information into condensed and'),\n",
       "  0.7054556012153625)]"
      ]
     },
     "execution_count": 211,
     "metadata": {},
     "output_type": "execute_result"
    }
   ],
   "source": [
    "top_chunks_with_scores"
   ]
  },
  {
   "cell_type": "code",
   "execution_count": 212,
   "id": "d8c8c9c0",
   "metadata": {},
   "outputs": [],
   "source": [
    "# Extract chunk texts for cross-encoding\n",
    "top_chunks = [chunk.page_content for chunk, _ in top_chunks_with_scores]"
   ]
  },
  {
   "cell_type": "code",
   "execution_count": 213,
   "id": "5047919e",
   "metadata": {},
   "outputs": [],
   "source": [
    "cross_encoder = CrossEncoder(\"cross-encoder/ms-marco-MiniLM-L-6-v2\")"
   ]
  },
  {
   "cell_type": "code",
   "execution_count": 214,
   "id": "a11add2a",
   "metadata": {},
   "outputs": [],
   "source": [
    "query_chunk_pairs = [(query, chunk) for chunk in top_chunks]"
   ]
  },
  {
   "cell_type": "code",
   "execution_count": 215,
   "id": "23877a3e",
   "metadata": {},
   "outputs": [
    {
     "data": {
      "text/plain": [
       "[('Rewritten query: \\nWho is credited with introducing the term Business Intelligence, often referred to as BI?\\n\\nExtracted Metadata:\\n{\\n  \"file_name\": \"N/A\",\\n  \"page_number\": \"N/A\"\\n}',\n",
       "  'supporting shared information. \\n \\n \\n2.  Business Intelligence \\nBusiness Intelligence, often referred to as BI, is a popularized, umbrella term introduced by Howard \\nDresner of the Gartner Group in 1989 to describe a set of concepts and methods to improve business \\ndecision making by using fact-based computerized support systems (Nylund, 1999). The term is \\nsometimes used interchangeably with briefing books and executive information systems. A business'),\n",
       " ('Rewritten query: \\nWho is credited with introducing the term Business Intelligence, often referred to as BI?\\n\\nExtracted Metadata:\\n{\\n  \"file_name\": \"N/A\",\\n  \"page_number\": \"N/A\"\\n}',\n",
       "  'supporting shared information. \\n \\n \\n2.  Business Intelligence \\nBusiness Intelligence, often referred to as BI, is a popularized, umbrella term introduced by Howard \\nDresner of the Gartner Group in 1989 to describe a set of concepts and methods to improve business \\ndecision making by using fact-based computerized support systems (Nylund, 1999). The term is \\nsometimes used interchangeably with briefing books and executive information systems. A business'),\n",
       " ('Rewritten query: \\nWho is credited with introducing the term Business Intelligence, often referred to as BI?\\n\\nExtracted Metadata:\\n{\\n  \"file_name\": \"N/A\",\\n  \"page_number\": \"N/A\"\\n}',\n",
       "  'intelligence-related terms mentioned above. Nevertheless, almost all the definitions share the same \\nfocus, even if the term has been defined from several perspectives (Casado, 2004), and they all include \\nthe idea of analyzing data and information. \\nThe purpose of BI is to aid in controlling the vast flow of business information inside and \\noutside of organization by first identifying and then processing the information into condensed and')]"
      ]
     },
     "execution_count": 215,
     "metadata": {},
     "output_type": "execute_result"
    }
   ],
   "source": [
    "query_chunk_pairs"
   ]
  },
  {
   "cell_type": "code",
   "execution_count": 216,
   "id": "f2eb9e11",
   "metadata": {},
   "outputs": [],
   "source": [
    "cross_encoded_scores = cross_encoder.predict(query_chunk_pairs)"
   ]
  },
  {
   "cell_type": "code",
   "execution_count": 217,
   "id": "3d51cb08",
   "metadata": {},
   "outputs": [],
   "source": [
    "# Pair chunks with their cross-encoder scores and sort them in descending order\n",
    "ranked_chunks_with_scores = sorted(\n",
    "    zip(top_chunks_with_scores, cross_encoded_scores),\n",
    "    key=lambda x: x[1],  # Sort by score (descending)\n",
    "    reverse=True\n",
    ")"
   ]
  },
  {
   "cell_type": "code",
   "execution_count": 218,
   "id": "f99bbc24",
   "metadata": {},
   "outputs": [],
   "source": [
    "top_chunk_cross_encoded, top_cross_encoded_score = ranked_chunks_with_scores[0][0]"
   ]
  },
  {
   "cell_type": "code",
   "execution_count": 219,
   "id": "12ed9ea9",
   "metadata": {},
   "outputs": [],
   "source": [
    "metadata_of_top_chunk = top_chunk_cross_encoded.metadata"
   ]
  },
  {
   "cell_type": "code",
   "execution_count": 220,
   "id": "b5b374de",
   "metadata": {},
   "outputs": [
    {
     "data": {
      "text/plain": [
       "Document(metadata={'coordinates': '[[64.80006408691406, 475.8836669921875, 216.0312042236328, 491.89166259765625], [64.80006408691406, 489.68365478515625, 67.80006408691406, 505.691650390625], [64.80006408691406, 503.483642578125, 67.80006408691406, 519.4916381835938], [64.80000305175781, 517.3648681640625, 209.7991485595703, 536.7271118164062], [64.80000305175781, 533.364013671875, 565.343994140625, 549.3720092773438], [64.800048828125, 547.1640014648438, 565.35009765625, 563.1719970703125], [64.800048828125, 560.9639892578125, 107.82485961914062, 576.9719848632812], [110.82366180419922, 560.9639892578125, 149.81646728515625, 576.9719848632812], [152.8152618408203, 560.9639892578125, 167.8224639892578, 576.9719848632812], [170.82125854492188, 560.9639892578125, 199.84326171875, 576.9719848632812], [202.84205627441406, 560.9639892578125, 255.1860809326172, 576.9719848632812], [258.18487548828125, 560.9639892578125, 326.5068664550781, 576.9719848632812], [329.50567626953125, 560.9639892578125, 368.5308837890625, 576.9719848632812], [371.5296936035156, 560.9639892578125, 412.46051025390625, 576.9719848632812], [415.4593200683594, 560.9639892578125, 461.5321350097656, 576.9719848632812], [464.53094482421875, 560.9639892578125, 498.5485534667969, 576.9719848632812], [501.54736328125, 560.9639892578125, 523.2181396484375, 576.9719848632812], [526.2169189453125, 560.9639892578125, 551.227294921875, 576.9719848632812], [554.22607421875, 560.9639892578125, 565.2373046875, 576.9719848632812], [64.800048828125, 574.7640380859375, 562.3191528320312, 590.7720336914062]]', 'file_name': 'BI approaches.pdf', 'page_number': 1}, page_content='supporting shared information. \\n \\n \\n2.  Business Intelligence \\nBusiness Intelligence, often referred to as BI, is a popularized, umbrella term introduced by Howard \\nDresner of the Gartner Group in 1989 to describe a set of concepts and methods to improve business \\ndecision making by using fact-based computerized support systems (Nylund, 1999). The term is \\nsometimes used interchangeably with briefing books and executive information systems. A business')"
      ]
     },
     "execution_count": 220,
     "metadata": {},
     "output_type": "execute_result"
    }
   ],
   "source": [
    "top_chunk_cross_encoded"
   ]
  },
  {
   "cell_type": "code",
   "execution_count": 221,
   "id": "54ab3b87",
   "metadata": {},
   "outputs": [
    {
     "data": {
      "text/plain": [
       "{'coordinates': '[[64.80006408691406, 475.8836669921875, 216.0312042236328, 491.89166259765625], [64.80006408691406, 489.68365478515625, 67.80006408691406, 505.691650390625], [64.80006408691406, 503.483642578125, 67.80006408691406, 519.4916381835938], [64.80000305175781, 517.3648681640625, 209.7991485595703, 536.7271118164062], [64.80000305175781, 533.364013671875, 565.343994140625, 549.3720092773438], [64.800048828125, 547.1640014648438, 565.35009765625, 563.1719970703125], [64.800048828125, 560.9639892578125, 107.82485961914062, 576.9719848632812], [110.82366180419922, 560.9639892578125, 149.81646728515625, 576.9719848632812], [152.8152618408203, 560.9639892578125, 167.8224639892578, 576.9719848632812], [170.82125854492188, 560.9639892578125, 199.84326171875, 576.9719848632812], [202.84205627441406, 560.9639892578125, 255.1860809326172, 576.9719848632812], [258.18487548828125, 560.9639892578125, 326.5068664550781, 576.9719848632812], [329.50567626953125, 560.9639892578125, 368.5308837890625, 576.9719848632812], [371.5296936035156, 560.9639892578125, 412.46051025390625, 576.9719848632812], [415.4593200683594, 560.9639892578125, 461.5321350097656, 576.9719848632812], [464.53094482421875, 560.9639892578125, 498.5485534667969, 576.9719848632812], [501.54736328125, 560.9639892578125, 523.2181396484375, 576.9719848632812], [526.2169189453125, 560.9639892578125, 551.227294921875, 576.9719848632812], [554.22607421875, 560.9639892578125, 565.2373046875, 576.9719848632812], [64.800048828125, 574.7640380859375, 562.3191528320312, 590.7720336914062]]',\n",
       " 'file_name': 'BI approaches.pdf',\n",
       " 'page_number': 1}"
      ]
     },
     "execution_count": 221,
     "metadata": {},
     "output_type": "execute_result"
    }
   ],
   "source": [
    "metadata_of_top_chunk"
   ]
  },
  {
   "cell_type": "code",
   "execution_count": 222,
   "id": "fc9fb0fe",
   "metadata": {},
   "outputs": [],
   "source": [
    "llm_instruction = \"Please answer the question by carefully considering both the provided context and the chat history. Use the context for accurate information and take into account any relevant details from the chat history to generate a well-informed response. If enough information is not available, please respond by saying: 'There is not enough information to answer the question.'\""
   ]
  },
  {
   "cell_type": "code",
   "execution_count": 223,
   "id": "72c53909",
   "metadata": {},
   "outputs": [],
   "source": [
    "# Create the prompt\n",
    "template = \"\"\"\n",
    "Context: \n",
    "{context}\n",
    "\n",
    "Chat history:\n",
    "{chat_history}\n",
    "\n",
    "Instruction: \n",
    "{llm_instruction}\n",
    "\n",
    "User question: {question}\n",
    "\"\"\""
   ]
  },
  {
   "cell_type": "code",
   "execution_count": 224,
   "id": "d3ff7931",
   "metadata": {},
   "outputs": [],
   "source": [
    "formatted_prompt = PromptTemplate.from_template(template).format(\n",
    "    context=top_chunk_cross_encoded.page_content,\n",
    "    chat_history=\"\\n\".join([f'{entry[\"role\"].capitalize()}: {entry[\"content\"]}' for entry in chat_history]),\n",
    "    question=query,\n",
    "    llm_instruction=llm_instruction\n",
    ")"
   ]
  },
  {
   "cell_type": "code",
   "execution_count": 225,
   "id": "4487b947",
   "metadata": {},
   "outputs": [
    {
     "data": {
      "text/plain": [
       "'\\nContext: \\nsupporting shared information. \\n \\n \\n2.  Business Intelligence \\nBusiness Intelligence, often referred to as BI, is a popularized, umbrella term introduced by Howard \\nDresner of the Gartner Group in 1989 to describe a set of concepts and methods to improve business \\ndecision making by using fact-based computerized support systems (Nylund, 1999). The term is \\nsometimes used interchangeably with briefing books and executive information systems. A business\\n\\nChat history:\\nUser: CDC agrees to make the 504 Loan to the Borrower subject to what?\\nAssistant: SBA\\'s approval.\\nUser: Third Party Lender waives its rights for what?\\nAssistant: Third Party Lender waives its rights to enforce provisions that do not comply with the 504 Loan Program Requirements.\\nUser: what does this document say about authority to execute agreement?\\nAssistant: The persons signing below certify that they have been duly authorized to execute this Agreement on behalf of their respective party.\\n\\nInstruction: \\nPlease answer the question by carefully considering both the provided context and the chat history. Use the context for accurate information and take into account any relevant details from the chat history to generate a well-informed response. If enough information is not available, please respond by saying: \\'There is not enough information to answer the question.\\'\\n\\nUser question: Rewritten query: \\nWho is credited with introducing the term Business Intelligence, often referred to as BI?\\n\\nExtracted Metadata:\\n{\\n  \"file_name\": \"N/A\",\\n  \"page_number\": \"N/A\"\\n}\\n'"
      ]
     },
     "execution_count": 225,
     "metadata": {},
     "output_type": "execute_result"
    }
   ],
   "source": [
    "formatted_prompt"
   ]
  },
  {
   "cell_type": "code",
   "execution_count": 226,
   "id": "dd6e9e19",
   "metadata": {},
   "outputs": [],
   "source": [
    "# Get response from LLM\n",
    "llm_response = llm.predict(formatted_prompt)"
   ]
  },
  {
   "cell_type": "code",
   "execution_count": 227,
   "id": "e5f0e8b9",
   "metadata": {},
   "outputs": [
    {
     "name": "stdout",
     "output_type": "stream",
     "text": [
      "##################################################\n",
      "Howard Dresner of the Gartner Group is credited with introducing the term Business Intelligence (BI).\n"
     ]
    }
   ],
   "source": [
    "print(\"#\"*50)\n",
    "print(llm_response)"
   ]
  },
  {
   "cell_type": "markdown",
   "id": "1afe948d",
   "metadata": {},
   "source": [
    "# Traceback the answer to the original PDF document"
   ]
  },
  {
   "cell_type": "code",
   "execution_count": 228,
   "id": "e4181189",
   "metadata": {},
   "outputs": [],
   "source": [
    "# Configurable cosine similarity threshold\n",
    "COSINE_SIMILARITY_THRESHOLD = 0.3"
   ]
  },
  {
   "cell_type": "code",
   "execution_count": 229,
   "id": "3bf60cb5",
   "metadata": {},
   "outputs": [],
   "source": [
    "page_num =  metadata_of_top_chunk[\"page_number\"]"
   ]
  },
  {
   "cell_type": "code",
   "execution_count": 230,
   "id": "5d361655",
   "metadata": {},
   "outputs": [
    {
     "data": {
      "text/plain": [
       "1"
      ]
     },
     "execution_count": 230,
     "metadata": {},
     "output_type": "execute_result"
    }
   ],
   "source": [
    "page_num"
   ]
  },
  {
   "cell_type": "code",
   "execution_count": 231,
   "id": "44572ff3",
   "metadata": {},
   "outputs": [],
   "source": [
    "coordinates_str = metadata_of_top_chunk[\"coordinates\"]"
   ]
  },
  {
   "cell_type": "code",
   "execution_count": 232,
   "id": "7d20ba3a",
   "metadata": {},
   "outputs": [
    {
     "data": {
      "text/plain": [
       "'[[64.80006408691406, 475.8836669921875, 216.0312042236328, 491.89166259765625], [64.80006408691406, 489.68365478515625, 67.80006408691406, 505.691650390625], [64.80006408691406, 503.483642578125, 67.80006408691406, 519.4916381835938], [64.80000305175781, 517.3648681640625, 209.7991485595703, 536.7271118164062], [64.80000305175781, 533.364013671875, 565.343994140625, 549.3720092773438], [64.800048828125, 547.1640014648438, 565.35009765625, 563.1719970703125], [64.800048828125, 560.9639892578125, 107.82485961914062, 576.9719848632812], [110.82366180419922, 560.9639892578125, 149.81646728515625, 576.9719848632812], [152.8152618408203, 560.9639892578125, 167.8224639892578, 576.9719848632812], [170.82125854492188, 560.9639892578125, 199.84326171875, 576.9719848632812], [202.84205627441406, 560.9639892578125, 255.1860809326172, 576.9719848632812], [258.18487548828125, 560.9639892578125, 326.5068664550781, 576.9719848632812], [329.50567626953125, 560.9639892578125, 368.5308837890625, 576.9719848632812], [371.5296936035156, 560.9639892578125, 412.46051025390625, 576.9719848632812], [415.4593200683594, 560.9639892578125, 461.5321350097656, 576.9719848632812], [464.53094482421875, 560.9639892578125, 498.5485534667969, 576.9719848632812], [501.54736328125, 560.9639892578125, 523.2181396484375, 576.9719848632812], [526.2169189453125, 560.9639892578125, 551.227294921875, 576.9719848632812], [554.22607421875, 560.9639892578125, 565.2373046875, 576.9719848632812], [64.800048828125, 574.7640380859375, 562.3191528320312, 590.7720336914062]]'"
      ]
     },
     "execution_count": 232,
     "metadata": {},
     "output_type": "execute_result"
    }
   ],
   "source": [
    "coordinates_str"
   ]
  },
  {
   "cell_type": "code",
   "execution_count": 233,
   "id": "d6bba14b",
   "metadata": {},
   "outputs": [],
   "source": [
    "coordinates = json.loads(coordinates_str)"
   ]
  },
  {
   "cell_type": "code",
   "execution_count": 234,
   "id": "f1d21d48",
   "metadata": {},
   "outputs": [],
   "source": [
    "file_for_highlighting = os.path.join(pdf_folder, metadata_of_top_chunk['file_name'])"
   ]
  },
  {
   "cell_type": "code",
   "execution_count": 235,
   "id": "2c2470dc",
   "metadata": {},
   "outputs": [
    {
     "data": {
      "text/plain": [
       "'C:\\\\gitworkspace\\\\aimldemo\\\\jupyterworkapce\\\\genai course\\\\capstoneproject\\\\Datasets\\\\PDF Folder\\\\BI approaches.pdf'"
      ]
     },
     "execution_count": 235,
     "metadata": {},
     "output_type": "execute_result"
    }
   ],
   "source": [
    "file_for_highlighting"
   ]
  },
  {
   "cell_type": "code",
   "execution_count": 236,
   "id": "e8503bd8",
   "metadata": {},
   "outputs": [],
   "source": [
    "doc = fitz.open(file_for_highlighting)"
   ]
  },
  {
   "cell_type": "code",
   "execution_count": 237,
   "id": "54289dec",
   "metadata": {},
   "outputs": [],
   "source": [
    "page = doc.load_page(page_num)"
   ]
  },
  {
   "cell_type": "code",
   "execution_count": 238,
   "id": "3993e2d2",
   "metadata": {},
   "outputs": [],
   "source": [
    "chunk_text = \" \".join(page.get_textbox(fitz.Rect(*coord)) for coord in coordinates)"
   ]
  },
  {
   "cell_type": "code",
   "execution_count": 239,
   "id": "cca3e090",
   "metadata": {},
   "outputs": [
    {
     "data": {
      "text/plain": [
       "'focus on tools supporting busin\\nsupporting shared information. \\n  s\\n \\n   \\n \\n2  \\n2.  Business Intelligence \\nBusiness Intelligence, often re 2.  Business Intelligence \\nBusiness Intelligence, often referred to as BI, is a popularized, umbrella term introduced by Howard \\nDresner of the Gartner Group in 1989 to describe a set of concepts and methods to improve business  Business Intelligence, often referred to as BI, is a popularized, umbrella term introduced by Howard \\nDresner of the Gartner Group in 1989 to describe a set of concepts and methods to improve business \\ndecision making by using fact-based computerized support systems (Nylund, 1999). The term is  Dresner o\\ndecision \\nsometime of the Ga\\nmaking \\nes used i artne\\nby \\nnter er Grou\\nusing \\nchange up in 1989 \\nfact-based \\neably with b to describe a se\\ncomputerized \\nbriefing books  et of con\\nsupport \\nand exec cepts and\\nsystems \\ncutive inf d methods \\n(Nylund, \\normation  to impr\\n1999). \\nsystems ove b\\nThe \\n. A b busine\\nterm \\nbusine ss \\nis \\nss  decision making by using fact-based computerized support systems (Nylund, 1999). The term is \\nsometimes used interchangeably with briefing books and executive information systems. A business\\nintelligence system is a data-driven DSS that primarily supports querying of an historical database and '"
      ]
     },
     "execution_count": 239,
     "metadata": {},
     "output_type": "execute_result"
    }
   ],
   "source": [
    "chunk_text"
   ]
  },
  {
   "cell_type": "code",
   "execution_count": 240,
   "id": "5efb71ed",
   "metadata": {},
   "outputs": [
    {
     "name": "stderr",
     "output_type": "stream",
     "text": [
      "[nltk_data] Downloading package punkt to\n",
      "[nltk_data]     C:\\Users\\jimmy\\AppData\\Roaming\\nltk_data...\n",
      "[nltk_data]   Package punkt is already up-to-date!\n"
     ]
    },
    {
     "data": {
      "text/plain": [
       "True"
      ]
     },
     "execution_count": 240,
     "metadata": {},
     "output_type": "execute_result"
    }
   ],
   "source": [
    "nltk.download('punkt')"
   ]
  },
  {
   "cell_type": "code",
   "execution_count": 164,
   "id": "f39a5753",
   "metadata": {},
   "outputs": [],
   "source": [
    "sentences = nltk.sent_tokenize(chunk_text)"
   ]
  },
  {
   "cell_type": "code",
   "execution_count": 165,
   "id": "2824aca2",
   "metadata": {},
   "outputs": [],
   "source": [
    "# Initialize Sentence Transformer for cosine similarity\n",
    "similarity_model = SentenceTransformer(\"sentence-transformers/all-MiniLM-L6-v2\")"
   ]
  },
  {
   "cell_type": "code",
   "execution_count": 166,
   "id": "5d9ae058",
   "metadata": {},
   "outputs": [],
   "source": [
    "# Compute embeddings for the LLM response and sentences\n",
    "llm_response_embedding = similarity_model.encode(llm_response, convert_to_tensor=True)\n",
    "sentence_embeddings = similarity_model.encode(sentences, convert_to_tensor=True)"
   ]
  },
  {
   "cell_type": "code",
   "execution_count": 167,
   "id": "b86e1c6c",
   "metadata": {},
   "outputs": [],
   "source": [
    "# Compute cosine similarities\n",
    "similarities = util.cos_sim(llm_response_embedding, sentence_embeddings)[0].tolist()"
   ]
  },
  {
   "cell_type": "code",
   "execution_count": 168,
   "id": "f27d6f28",
   "metadata": {},
   "outputs": [],
   "source": [
    "# Pair sentences with their similarity scores\n",
    "sentences_with_scores = list(zip(sentences, similarities))"
   ]
  },
  {
   "cell_type": "code",
   "execution_count": 169,
   "id": "c1f6e9d4",
   "metadata": {},
   "outputs": [],
   "source": [
    "# Sort sentences by similarity score in descending order\n",
    "sorted_sentences_with_scores = sorted(sentences_with_scores, key=lambda x: x[1], reverse=True)"
   ]
  },
  {
   "cell_type": "code",
   "execution_count": 170,
   "id": "59cc1166",
   "metadata": {},
   "outputs": [
    {
     "name": "stdout",
     "output_type": "stream",
     "text": [
      "Score: 0.8908, Sentence: s\n",
      " \n",
      "   \n",
      " \n",
      "2  \n",
      "2.  Business Intelligence \n",
      "Business Intelligence, often re 2.  Business Intelligence \n",
      "Business Intelligence, often referred to as BI, is a popularized, umbrella term introduced by Howard \n",
      "Dresner of the Gartner Group in 1989 to describe a set of concepts and methods to improve business  Business Intelligence, often referred to as BI, is a popularized, umbrella term introduced by Howard \n",
      "Dresner of the Gartner Group in 1989 to describe a set of concepts and methods to improve business \n",
      "decision making by using fact-based computerized support systems (Nylund, 1999).\n",
      "####################\n",
      "Score: 0.4717, Sentence: A business\n",
      "intelligence system is a data-driven DSS that primarily supports querying of an historical database and\n",
      "####################\n",
      "Score: 0.4549, Sentence: The term is  Dresner o\n",
      "decision \n",
      "sometime of the Ga\n",
      "making \n",
      "es used i artne\n",
      "by \n",
      "nter er Grou\n",
      "using \n",
      "change up in 1989 \n",
      "fact-based \n",
      "eably with b to describe a se\n",
      "computerized \n",
      "briefing books  et of con\n",
      "support \n",
      "and exec cepts and\n",
      "systems \n",
      "cutive inf d methods \n",
      "(Nylund, \n",
      "ormation  to impr\n",
      "1999).\n",
      "####################\n",
      "Score: 0.4065, Sentence: The term is \n",
      "sometimes used interchangeably with briefing books and executive information systems.\n",
      "####################\n",
      "Score: 0.3070, Sentence: A b busine\n",
      "term \n",
      "busine ss \n",
      "is \n",
      "ss  decision making by using fact-based computerized support systems (Nylund, 1999).\n",
      "####################\n",
      "Score: 0.2745, Sentence: focus on tools supporting busin\n",
      "supporting shared information.\n",
      "####################\n",
      "Score: 0.2254, Sentence: systems ove b\n",
      "The \n",
      ".\n",
      "####################\n"
     ]
    }
   ],
   "source": [
    "for sentence, score in sorted_sentences_with_scores:\n",
    "    print(f\"Score: {score:.4f}, Sentence: {sentence}\")\n",
    "    print(\"#\"*20)"
   ]
  },
  {
   "cell_type": "code",
   "execution_count": 171,
   "id": "6a76b3a4",
   "metadata": {},
   "outputs": [],
   "source": [
    "# Find high-similarity sentences and their coordinates\n",
    "high_similarity_sentences = []\n",
    "for sentence, score in sorted_sentences_with_scores:\n",
    "    if score >= COSINE_SIMILARITY_THRESHOLD:\n",
    "        search_results = page.search_for(sentence)\n",
    "        if search_results:  # Ensure search_results is not empty\n",
    "            high_similarity_sentences.append(fitz.Rect(*search_results[0]))"
   ]
  },
  {
   "cell_type": "code",
   "execution_count": 241,
   "id": "d3a8813e",
   "metadata": {},
   "outputs": [
    {
     "data": {
      "text/plain": [
       "[Rect(508.439208984375, 574.7640380859375, 565.3251342773438, 590.7720336914062),\n",
       " Rect(501.54736328125, 560.9639892578125, 523.2181396484375, 576.9719848632812)]"
      ]
     },
     "execution_count": 241,
     "metadata": {},
     "output_type": "execute_result"
    }
   ],
   "source": [
    "high_similarity_sentences"
   ]
  },
  {
   "cell_type": "code",
   "execution_count": 242,
   "id": "53474200",
   "metadata": {},
   "outputs": [],
   "source": [
    "# Highlight the entire chunk in yellow\n",
    "for coord in coordinates:\n",
    "    rect = fitz.Rect(*coord)\n",
    "    page.add_highlight_annot(rect)"
   ]
  },
  {
   "cell_type": "code",
   "execution_count": 243,
   "id": "63470e14",
   "metadata": {},
   "outputs": [
    {
     "data": {
      "text/plain": [
       "'C:\\\\gitworkspace\\\\aimldemo\\\\jupyterworkapce\\\\genai course\\\\capstoneproject\\\\Datasets\\\\highlightedpdf\\\\highlighted_output.pdf'"
      ]
     },
     "execution_count": 243,
     "metadata": {},
     "output_type": "execute_result"
    }
   ],
   "source": [
    "highlighted_pdf_path"
   ]
  },
  {
   "cell_type": "code",
   "execution_count": 244,
   "id": "4f924050",
   "metadata": {},
   "outputs": [],
   "source": [
    "# Highlight high-similarity sentences in green\n",
    "for rect in high_similarity_sentences:\n",
    "    highlight = page.add_highlight_annot(rect)\n",
    "    highlight.set_colors(stroke=(0, 1, 0))  # Green color\n",
    "    highlight.update()"
   ]
  },
  {
   "cell_type": "code",
   "execution_count": 246,
   "id": "5c4443f7",
   "metadata": {},
   "outputs": [],
   "source": [
    "doc.save(highlighted_pdf_path, garbage=4)\n",
    "doc.close()"
   ]
  },
  {
   "cell_type": "markdown",
   "id": "f4a4d888",
   "metadata": {},
   "source": [
    "# Router agent to dynamically route the user query to DB or PDF documents"
   ]
  },
  {
   "cell_type": "code",
   "execution_count": 296,
   "id": "0ddbc671",
   "metadata": {},
   "outputs": [],
   "source": [
    "SYSTEM_PROMPT = \"\"\"\n",
    "You are an AI assistant responsible for routing user queries correctly. \n",
    "\n",
    "### Database Description:\n",
    "The database contains **structured sales data** with the following fields:\n",
    "- **Date** (When the sale occurred)\n",
    "- **Product** (e.g., Widget D)\n",
    "- **Region** (e.g., East, North, South)\n",
    "- **Sales** (Total sales count)\n",
    "- **Customer_Age** (Age of the customer)\n",
    "- **Customer_Gender** (Male/Female)\n",
    "- **Customer_Satisfaction** (Numeric satisfaction score)\n",
    "\n",
    "### Routing Criteria:\n",
    "- If the user's query **relates to any of these fields**, respond **'USE_DB'**.\n",
    "- If the user's query **does NOT relate to these fields and might require external document search**, respond **'USE_VECTOR'**.\n",
    "\n",
    "### Example Responses:\n",
    "- Query: \"What is the total sales for Widget D in the South region?\" → Response: **USE_DB**\n",
    "- Query: \"Summarize the latest credit review report.\" → Response: **USE_VECTOR**\n",
    "- Query: \"What is the financial outlook for Q1 2024?\" → Response: **USE_VECTOR**\n",
    "- Query: \"Find the average customer satisfaction for Widget D?\" → Response: **USE_DB**\n",
    "\n",
    "ONLY return **USE_DB** or **USE_VECTOR** in your response.\n",
    "\"\"\""
   ]
  },
  {
   "cell_type": "code",
   "execution_count": 297,
   "id": "3b986750",
   "metadata": {},
   "outputs": [],
   "source": [
    "# Step 5: Define LLM-Based Query Classification\n",
    "def classify_query(user_query: str):\n",
    "    \"\"\"\n",
    "    Uses the LLM to determine if the user query is related to database data or vector search.\n",
    "    \n",
    "    Returns:\n",
    "        str: \"USE_DB\" if the query should be routed to the database, \"USE_VECTOR\" otherwise.\n",
    "    \"\"\"\n",
    "    prompt = f\"{SYSTEM_PROMPT}\\nUser Query: {user_query}\\nAI Decision:\"\n",
    "    \n",
    "    try:\n",
    "        response = llm.predict(prompt).strip()\n",
    "        print(f\" LLM Routing Decision: {response}\")\n",
    "        return response\n",
    "    except Exception as e:\n",
    "        print(f\" Error classifying query: {e}\")\n",
    "        return \"USE_VECTOR\"  # Default to vector search if classification fails"
   ]
  },
  {
   "cell_type": "code",
   "execution_count": 372,
   "id": "6d6a68be",
   "metadata": {},
   "outputs": [],
   "source": [
    "def chat_with_db(user_query: str):\n",
    "    \"\"\"\n",
    "    Queries the MySQL database using LangChain's SQLDatabaseChain.\n",
    "\n",
    "    Args:\n",
    "        user_query (str): User's natural language query.\n",
    "\n",
    "    Returns:\n",
    "        str: The response generated from the SQL query.\n",
    "    \"\"\"\n",
    "    try:\n",
    "        response = db_chain.run(user_query)\n",
    "        return response\n",
    "    except Exception as e:\n",
    "        return f\"Error processing DB query: {e}\""
   ]
  },
  {
   "cell_type": "code",
   "execution_count": 373,
   "id": "f0078f59",
   "metadata": {},
   "outputs": [],
   "source": [
    "def retrieve_pdf_chunk_and_llm_response(user_query: str):\n",
    "    \"\"\"\n",
    "    Queries the vector database, retrieves the best-matching chunk, and uses LLM to generate a response.\n",
    "\n",
    "    Args:\n",
    "        user_query (str): User's natural language query.\n",
    "\n",
    "    Returns:\n",
    "        str: The response generated based on the retrieved PDF chunk.\n",
    "    \"\"\"\n",
    "    try:\n",
    "        top_chunks_with_scores = vector_db.similarity_search_with_score(user_query, k=3)\n",
    "        retrieved_chunk = top_chunks_with_scores[0][0].page_content  \n",
    "        print(\"******\")\n",
    "        print(retrieved_chunk)\n",
    "        print(\"******\")\n",
    "        \n",
    "        # Pass the retrieved text chunk to the LLM for final response generation\n",
    "        llm_response = llm(user_query + \" \" + retrieved_chunk)\n",
    "        print(\"****** llm_response\")\n",
    "        print(llm_response)\n",
    "        print(\"******\")\n",
    "        \n",
    "        return llm_response\n",
    "    except Exception as e:\n",
    "        return f\" Error processing vector DB query: {e}\""
   ]
  },
  {
   "cell_type": "code",
   "execution_count": 374,
   "id": "ce9207ee",
   "metadata": {},
   "outputs": [],
   "source": [
    "query_database_tool = Tool(\n",
    "    name=\"Database Query Tool\",\n",
    "    func=chat_with_db,\n",
    "    description=\"Use this tool to answer questions about structured sales data in MySQL.\"\n",
    ")"
   ]
  },
  {
   "cell_type": "code",
   "execution_count": 375,
   "id": "1673bef1",
   "metadata": {},
   "outputs": [],
   "source": [
    "query_vector_db_tool = Tool(\n",
    "    name=\"Vector Database Query Tool\",\n",
    "    func=retrieve_pdf_chunk_and_llm_response,\n",
    "    description=\"Use this tool to answer questions about document data stored in the vector database.\"\n",
    ")"
   ]
  },
  {
   "cell_type": "code",
   "execution_count": 376,
   "id": "bbb436ed",
   "metadata": {},
   "outputs": [],
   "source": [
    "def query_chatbot(user_query: str):\n",
    "    \"\"\"\n",
    "    Routes the user query dynamically based on LLM classification.\n",
    "\n",
    "    Args:\n",
    "        user_query (str): User's natural language query.\n",
    "\n",
    "    Returns:\n",
    "        str: The chatbot's response from the appropriate tool.\n",
    "    \"\"\"\n",
    "    routing_decision = classify_query(user_query)\n",
    "\n",
    "    try:\n",
    "        if routing_decision == \"USE_DB\":\n",
    "            response = query_database_tool.run(user_query)\n",
    "        else:\n",
    "            response = query_vector_db_tool.run(user_query)\n",
    "        \n",
    "        return response\n",
    "    except Exception as e:\n",
    "        return f\" Error processing query: {e}\""
   ]
  },
  {
   "cell_type": "code",
   "execution_count": 377,
   "id": "f55dd19b",
   "metadata": {},
   "outputs": [],
   "source": [
    "user_query_1 = \"What is the total sales for Widget A in the South region?\""
   ]
  },
  {
   "cell_type": "code",
   "execution_count": 378,
   "id": "f302f447",
   "metadata": {},
   "outputs": [
    {
     "name": "stdout",
     "output_type": "stream",
     "text": [
      " LLM Routing Decision: USE_DB\n",
      "\n",
      "\n",
      "\u001b[1m> Entering new SQLDatabaseChain chain...\u001b[0m\n",
      "What is the total sales for Widget A in the South region?\n",
      "SQLQuery:\u001b[32;1m\u001b[1;3mSELECT SUM(`Sales`) AS TotalSales\n",
      "FROM sales_data\n",
      "WHERE `Product` = 'Widget A'\n",
      "AND `Region` = 'South';\u001b[0m\n",
      "SQLResult: \u001b[33;1m\u001b[1;3m[(Decimal('99603'),)]\u001b[0m\n",
      "Answer:\u001b[32;1m\u001b[1;3mThe total sales for Widget A in the South region is $99,603.\u001b[0m\n",
      "\u001b[1m> Finished chain.\u001b[0m\n"
     ]
    }
   ],
   "source": [
    "response_1 = query_chatbot(user_query_1)"
   ]
  },
  {
   "cell_type": "code",
   "execution_count": 379,
   "id": "a8e751bf",
   "metadata": {},
   "outputs": [
    {
     "data": {
      "text/plain": [
       "'The total sales for Widget A in the South region is $99,603.'"
      ]
     },
     "execution_count": 379,
     "metadata": {},
     "output_type": "execute_result"
    }
   ],
   "source": [
    "response_1"
   ]
  },
  {
   "cell_type": "code",
   "execution_count": 363,
   "id": "70833114",
   "metadata": {},
   "outputs": [],
   "source": [
    "#user_query_2 = 'Who introduced the term Business Intelligence, often referred to as BI?'\n",
    "user_query_2 = 'Who is Howard Dresner?'"
   ]
  },
  {
   "cell_type": "code",
   "execution_count": 321,
   "id": "a625236a",
   "metadata": {},
   "outputs": [
    {
     "name": "stdout",
     "output_type": "stream",
     "text": [
      " LLM Routing Decision: USE_VECTOR\n",
      "******\n",
      "M¨\n",
      "antym¨\n",
      "aki et al., 2020  \n",
      " P. Jorzik et al.\n",
      "******\n",
      "****** llm_response\n",
      "content='Howard Dresner is a well-known business intelligence expert and author. He is often credited with popularizing the term \"business intelligence\" and has published several books on the subject. Dresner has also served as a research fellow at Gartner, where he focused on business intelligence and analytics. He is considered a thought leader in the field of business intelligence and analytics.' additional_kwargs={'refusal': None} response_metadata={'token_usage': {'completion_tokens': 75, 'prompt_tokens': 37, 'total_tokens': 112, 'completion_tokens_details': {'accepted_prediction_tokens': 0, 'audio_tokens': 0, 'reasoning_tokens': 0, 'rejected_prediction_tokens': 0}, 'prompt_tokens_details': {'audio_tokens': 0, 'cached_tokens': 0}}, 'model_name': 'gpt-3.5-turbo-0125', 'system_fingerprint': None, 'finish_reason': 'stop', 'logprobs': None} id='run-3971dc77-85ce-48c8-86ba-8372c1f47f77-0' usage_metadata={'input_tokens': 37, 'output_tokens': 75, 'total_tokens': 112, 'input_token_details': {'audio': 0, 'cache_read': 0}, 'output_token_details': {'audio': 0, 'reasoning': 0}}\n",
      "******\n"
     ]
    }
   ],
   "source": [
    "response_2 = query_chatbot(user_query_2)"
   ]
  },
  {
   "cell_type": "code",
   "execution_count": 322,
   "id": "8905a0be",
   "metadata": {},
   "outputs": [
    {
     "data": {
      "text/plain": [
       "'Howard Dresner is a well-known business intelligence expert and author. He is often credited with popularizing the term \"business intelligence\" and has published several books on the subject. Dresner has also served as a research fellow at Gartner, where he focused on business intelligence and analytics. He is considered a thought leader in the field of business intelligence and analytics.'"
      ]
     },
     "execution_count": 322,
     "metadata": {},
     "output_type": "execute_result"
    }
   ],
   "source": [
    "response_2.content"
   ]
  },
  {
   "cell_type": "markdown",
   "id": "b6070802",
   "metadata": {},
   "source": [
    "# Generate SQL based on user query"
   ]
  },
  {
   "cell_type": "code",
   "execution_count": 422,
   "id": "da6a567b",
   "metadata": {},
   "outputs": [],
   "source": [
    "allowed_tables = {\n",
    "    \"sales_data\": [\"id\", \"Date\", \"Product\", \"Region\", \"Sales\", \"Customer_Age\", \"Customer_Gender\", \"Customer_Satisfaction\"],\n",
    "    \"orders\": [\"order_id\", \"customer_id\", \"order_date\", \"total_amount\"],\n",
    "    \"products\": [\"product_id\", \"name\", \"category\", \"price\"]\n",
    "}"
   ]
  },
  {
   "cell_type": "code",
   "execution_count": 423,
   "id": "72374581",
   "metadata": {},
   "outputs": [],
   "source": [
    "table_info = \"\\n\".join(\n",
    "    [f\"Table: {table}\\nColumns: {', '.join(columns)}\" for table, columns in allowed_tables.items()]\n",
    ")"
   ]
  },
  {
   "cell_type": "code",
   "execution_count": 424,
   "id": "b53bf5f4",
   "metadata": {},
   "outputs": [
    {
     "data": {
      "text/plain": [
       "'Table: sales_data\\nColumns: id, Date, Product, Region, Sales, Customer_Age, Customer_Gender, Customer_Satisfaction\\nTable: orders\\nColumns: order_id, customer_id, order_date, total_amount\\nTable: products\\nColumns: product_id, name, category, price'"
      ]
     },
     "execution_count": 424,
     "metadata": {},
     "output_type": "execute_result"
    }
   ],
   "source": [
    "table_info"
   ]
  },
  {
   "cell_type": "code",
   "execution_count": 425,
   "id": "68dce72d",
   "metadata": {},
   "outputs": [],
   "source": [
    "# Create a prompt for the LLM to generate SQL\n",
    "prompt = f\"\"\"\n",
    "You are an expert in SQL. Generate a SQL query based on the user's question.\n",
    "\n",
    "### Database Schema:\n",
    "{table_info}\n",
    "\n",
    "### User Query:\n",
    "{user_query_1}\n",
    "\n",
    "### SQL Query:\n",
    "\"\"\""
   ]
  },
  {
   "cell_type": "code",
   "execution_count": 426,
   "id": "e464c334",
   "metadata": {},
   "outputs": [],
   "source": [
    "sql_query = llm.predict(prompt).strip()"
   ]
  },
  {
   "cell_type": "code",
   "execution_count": 427,
   "id": "280120cd",
   "metadata": {},
   "outputs": [
    {
     "data": {
      "text/plain": [
       "\"SELECT SUM(Sales) AS Total_Sales\\nFROM sales_data\\nWHERE Product = 'Widget A' AND Region = 'South';\""
      ]
     },
     "execution_count": 427,
     "metadata": {},
     "output_type": "execute_result"
    }
   ],
   "source": [
    "sql_query"
   ]
  },
  {
   "cell_type": "code",
   "execution_count": null,
   "id": "7afaa6b5",
   "metadata": {},
   "outputs": [],
   "source": []
  }
 ],
 "metadata": {
  "kernelspec": {
   "display_name": "Python 3 (ipykernel)",
   "language": "python",
   "name": "python3"
  },
  "language_info": {
   "codemirror_mode": {
    "name": "ipython",
    "version": 3
   },
   "file_extension": ".py",
   "mimetype": "text/x-python",
   "name": "python",
   "nbconvert_exporter": "python",
   "pygments_lexer": "ipython3",
   "version": "3.11.5"
  }
 },
 "nbformat": 4,
 "nbformat_minor": 5
}
