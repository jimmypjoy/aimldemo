{
 "cells": [
  {
   "cell_type": "code",
   "execution_count": null,
   "metadata": {
    "id": "8jIXAgjyeGcV"
   },
   "outputs": [],
   "source": [
    "# prompt: import Zeroshotagent and relevant from langchain\n",
    "\n",
    "!pip install zeroshot-agent langchain\n",
    "\n",
    "from langchain.agents import ZeroShotAgent, Tool, AgentExecutor\n",
    "from langchain import OpenAI, SerpAPIWrapper\n",
    "from langchain.utilities import GoogleSearchAPIWrapper\n",
    "from langchain.memory import ConversationBufferMemory\n",
    "\n",
    "# Initialize your LLM (e.g. OpenAI) and tools\n",
    "llm = OpenAI(temperature=0) # Replace with your actual API key\n",
    "\n",
    "# Example tools - Replace with your desired tools\n",
    "search = SerpAPIWrapper() # Replace with your SerpAPI key if using SerpAPI\n",
    "google_search = GoogleSearchAPIWrapper() # Requires setting up Google Search API\n",
    "\n",
    "tools = [\n",
    "    Tool(\n",
    "        name=\"Search\",\n",
    "        func=search.run,\n",
    "        description=\"useful for when you need to answer questions about current events\",\n",
    "    ),\n",
    "    Tool(\n",
    "        name = \"Google Search\",\n",
    "        func = google_search.run,\n",
    "        description = \"A comprehensive search engine\"\n",
    "    )\n",
    "]\n",
    "\n",
    "# Initialize the agent\n",
    "prefix = \"\"\"Answer the following questions as best you can. You have access to the following tools:\"\"\"\n",
    "suffix = \"\"\"Begin!\n",
    "\n",
    "Question: {input}\n",
    "{agent_scratchpad}\"\"\"\n",
    "\n",
    "prompt = ZeroShotAgent.create_prompt(\n",
    "    tools,\n",
    "    prefix=prefix,\n",
    "    suffix=suffix,\n",
    "    input_variables=[\"input\", \"agent_scratchpad\"],\n",
    ")\n",
    "\n",
    "llm_chain = LLMChain(llm=llm, prompt=prompt)\n",
    "\n",
    "agent = ZeroShotAgent(llm_chain=llm_chain, tools=tools, verbose=True)\n",
    "\n",
    "# Initialize memory (optional)\n",
    "memory = ConversationBufferMemory(memory_key=\"chat_history\")\n",
    "\n",
    "# Initialize the agent executor\n",
    "agent_executor = AgentExecutor.from_agent_and_tools(\n",
    "    agent=agent, tools=tools, verbose=True, memory=memory\n",
    ")\n",
    "\n",
    "# Now you can use the agent_executor\n",
    "# agent_executor.run(\"What is the capital of France?\")"
   ]
  },
  {
   "cell_type": "code",
   "execution_count": null,
   "metadata": {
    "id": "bJDhr1K2ejVv"
   },
   "outputs": [],
   "source": [
    "def plot_SalesTrend():\n",
    "  sales_data.groupby('Date')['sales'].sum().plot()\n",
    "  plt.title('Sales Trend')\n",
    "  plt.xlabel('Date')\n",
    "\n",
    "\n",
    "def plot_ProdPerformance():\n",
    "  prod_data.groupby('Product')['sales'].sum().plot(kind='bar')\n",
    "  plt.title('Product Performance')\n",
    "  plt.xlabel('Product')\n",
    "  plt.ylabel('Sales')"
   ]
  },
  {
   "cell_type": "code",
   "execution_count": null,
   "metadata": {
    "id": "x9XUVzGkfKNg"
   },
   "outputs": [],
   "source": [
    "tools = [\n",
    "    Tool(\n",
    "        name=\"plot_SalesTrend\",\n",
    "        func=lambda x:plot_SalesTrend,\n",
    "        description=\"creates plot for sales trend over time\",\n",
    "    ),\n",
    "    Tool(\n",
    "        name = \"plot_ProdPerformance\",\n",
    "        func = lambda x:plot_ProdPerformance,\n",
    "        description = \"generates a plot of sales dist by prod types\"\n",
    "    ),\n",
    "    Tool(\n",
    "        name=\"Advanced descriptive stats from csv data\",\n",
    "        func=lambda x:advanced_summary,\n",
    "        description=\"provides summary from csv\",\n",
    "    ),\n",
    "    Tool(\n",
    "        name=\"pdf retrieval\",\n",
    "        func=lambda x:generate_insights_from_pdf,\n",
    "        description=\"generates insights from pdf using rag\",\n",
    "    )\n",
    "\n",
    "]"
   ]
  },
  {
   "cell_type": "code",
   "execution_count": null,
   "metadata": {
    "id": "mAwfFrDag0SU"
   },
   "outputs": [],
   "source": [
    "prefx = '''\n",
    "\n",
    "you are AI sales analyst and acces sales data and pdf file using rag system.\n",
    "\n",
    "use the following tools to answer the question\n",
    "\n",
    "'''\n",
    "suffix = '''\n",
    "\n",
    "Begin\n",
    "\n",
    "{chat_history}\n",
    "\n",
    "human = {input}\n",
    "\n",
    "AI: Lets approach step by step:\n",
    "{agent_scratchpad}\n",
    "'''\n",
    "\n",
    "prompt = ZeroShotAgent.create_prompt(\n",
    "    tools,\n",
    "    prefix=prefix,\n",
    "    suffix=suffix,\n",
    "    input_variables=[\"input\", \"agent_scratchpad\"],\n",
    ")"
   ]
  },
  {
   "cell_type": "code",
   "execution_count": null,
   "metadata": {
    "id": "-X85OO6xh3Kx"
   },
   "outputs": [],
   "source": [
    "agent_executor = AgentExecutor.from_agent_and_tools(\n",
    "    agent=agent, tools=tools, verbose=True, memory=memory\n",
    ")"
   ]
  },
  {
   "cell_type": "code",
   "execution_count": null,
   "metadata": {
    "id": "KCf8Onrkh3vm"
   },
   "outputs": [],
   "source": [
    "agent_executor.run(\"What is the capital of France?\")"
   ]
  }
 ],
 "metadata": {
  "colab": {
   "provenance": []
  },
  "kernelspec": {
   "display_name": "Python 3 (ipykernel)",
   "language": "python",
   "name": "python3"
  },
  "language_info": {
   "codemirror_mode": {
    "name": "ipython",
    "version": 3
   },
   "file_extension": ".py",
   "mimetype": "text/x-python",
   "name": "python",
   "nbconvert_exporter": "python",
   "pygments_lexer": "ipython3",
   "version": "3.11.5"
  }
 },
 "nbformat": 4,
 "nbformat_minor": 1
}
