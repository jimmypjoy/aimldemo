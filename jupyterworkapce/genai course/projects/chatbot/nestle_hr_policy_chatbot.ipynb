{
 "cells": [
  {
   "cell_type": "code",
   "execution_count": 9,
   "id": "a8aeb1e0",
   "metadata": {},
   "outputs": [],
   "source": [
    "import os\n",
    "from langchain.document_loaders import PyPDFLoader\n",
    "from langchain.text_splitter import RecursiveCharacterTextSplitter\n",
    "from langchain.embeddings.openai import OpenAIEmbeddings\n",
    "from langchain.vectorstores import Chroma\n",
    "from langchain.chat_models import ChatOpenAI\n",
    "from sentence_transformers import CrossEncoder\n",
    "from langchain.schema import SystemMessage, HumanMessage, AIMessage\n",
    "import gradio as gr"
   ]
  },
  {
   "cell_type": "code",
   "execution_count": 10,
   "id": "f1f90385",
   "metadata": {},
   "outputs": [],
   "source": [
    "# This will setup teh OPENAI API key in os environment variables \n",
    "#os.environ[\"OPENAI_API_KEY\"] = \"xxxxx\"\n",
    "def setup_environment():\n",
    "    import sys\n",
    "    sys.path.append('C:\\\\gitworkspace\\\\aimldemo\\\\jupyterworkapce')\n",
    "    import stratup_env_setup\n",
    "    stratup_env_setup.set_env()"
   ]
  },
  {
   "cell_type": "code",
   "execution_count": 11,
   "id": "d4eea5ed",
   "metadata": {},
   "outputs": [
    {
     "name": "stdout",
     "output_type": "stream",
     "text": [
      "Set env key: AWS_ACCESS_KEY_ID\n",
      "Set env key: AWS_SECRET_ACCESS_KEY\n",
      "Set env key: OPENAI_API_KEY\n",
      "Set env key: HUGGINGFACEHUB_API_TOKEN\n",
      "Set env key: LANGCHAIN_API_KEY\n",
      "Set env key: API_KEY\n"
     ]
    }
   ],
   "source": [
    "setup_environment()"
   ]
  },
  {
   "cell_type": "code",
   "execution_count": 8,
   "id": "d8eddf87",
   "metadata": {},
   "outputs": [
    {
     "name": "stdout",
     "output_type": "stream",
     "text": [
      "OpenAI API key is set.\n"
     ]
    }
   ],
   "source": [
    "import openai\n",
    "if not openai.api_key:\n",
    "    print(\"Error: OpenAI API key is missing.\")\n",
    "else:\n",
    "    print(\"OpenAI API key is set.\")"
   ]
  },
  {
   "cell_type": "code",
   "execution_count": 4,
   "id": "9ac22780",
   "metadata": {},
   "outputs": [],
   "source": [
    "# Load PDF document and create chunks\n",
    "loader = PyPDFLoader(\"1728286846_the_nestle_hr_policy_pdf_2012.pdf\")\n",
    "documents = loader.load()\n",
    "text_splitter = RecursiveCharacterTextSplitter(chunk_size=1000, chunk_overlap=200)\n",
    "chunks = text_splitter.split_documents(documents)"
   ]
  },
  {
   "cell_type": "code",
   "execution_count": 5,
   "id": "57cf9f57",
   "metadata": {},
   "outputs": [
    {
     "name": "stderr",
     "output_type": "stream",
     "text": [
      "C:\\Users\\jimmy\\AppData\\Local\\Temp\\ipykernel_40596\\1043584726.py:2: LangChainDeprecationWarning: The class `OpenAIEmbeddings` was deprecated in LangChain 0.0.9 and will be removed in 1.0. An updated version of the class exists in the :class:`~langchain-openai package and should be used instead. To use it run `pip install -U :class:`~langchain-openai` and import as `from :class:`~langchain_openai import OpenAIEmbeddings``.\n",
      "  embedding = OpenAIEmbeddings()\n"
     ]
    }
   ],
   "source": [
    "# Generate embeddings and store in Chroma DB\n",
    "embedding = OpenAIEmbeddings()\n",
    "vector_store = Chroma.from_documents(chunks, embedding=embedding)"
   ]
  },
  {
   "cell_type": "code",
   "execution_count": 6,
   "id": "77a3cfe0",
   "metadata": {},
   "outputs": [],
   "source": [
    "# Cross-Encoder for re-ranking\n",
    "cross_encoder = CrossEncoder('cross-encoder/ms-marco-MiniLM-L-6-v2')"
   ]
  },
  {
   "cell_type": "code",
   "execution_count": 7,
   "id": "21da9169",
   "metadata": {},
   "outputs": [
    {
     "name": "stderr",
     "output_type": "stream",
     "text": [
      "C:\\Users\\jimmy\\AppData\\Local\\Temp\\ipykernel_40596\\335954310.py:2: LangChainDeprecationWarning: The class `ChatOpenAI` was deprecated in LangChain 0.0.10 and will be removed in 1.0. An updated version of the class exists in the :class:`~langchain-openai package and should be used instead. To use it run `pip install -U :class:`~langchain-openai` and import as `from :class:`~langchain_openai import ChatOpenAI``.\n",
      "  llm = ChatOpenAI(model=\"gpt-3.5-turbo\")\n"
     ]
    }
   ],
   "source": [
    "# Initialize LLM\n",
    "llm = ChatOpenAI(model=\"gpt-3.5-turbo\")"
   ]
  },
  {
   "cell_type": "code",
   "execution_count": 8,
   "id": "3aaf6d51",
   "metadata": {},
   "outputs": [],
   "source": [
    "def chat_with_history(query, history):\n",
    "    # Retrieve top n chunks from the vector database\n",
    "    retriever = vector_store.as_retriever(search_kwargs={\"k\": 5})\n",
    "    retrieved_docs = retriever.invoke(query)\n",
    "    retrieved_texts = [doc.page_content for doc in retrieved_docs]\n",
    "\n",
    "    # Cross-encode and rank to get the most relevant chunk\n",
    "    query_pairs = [[query, text] for text in retrieved_texts]\n",
    "    scores = cross_encoder.predict(query_pairs)\n",
    "    best_match_index = scores.argmax()\n",
    "    best_chunk = retrieved_texts[best_match_index]\n",
    "\n",
    "    # Check if relevant context is found\n",
    "    if scores[best_match_index] < 0.5:\n",
    "        response = \"I do not have enough information to answer your question.\"\n",
    "        history.append((\"User 👤\", query))\n",
    "        history.append((\"Chatbot 🤖\", response))\n",
    "        return history\n",
    "\n",
    "    # Construct conversation history\n",
    "    conversation = [\n",
    "        SystemMessage(content=\"You are a helpful assistant. Answer concisely using only the provided context and chat history.\")\n",
    "    ]\n",
    "    for user_query, bot_response in history:\n",
    "        conversation.append(HumanMessage(content=user_query))\n",
    "        conversation.append(AIMessage(content=bot_response))\n",
    "    conversation.append(HumanMessage(content=query))\n",
    "\n",
    "    # Include retrieved context as additional system guidance\n",
    "    conversation.append(SystemMessage(content=f\"Context: {best_chunk}\"))\n",
    "\n",
    "    # Generate concise response with LLM\n",
    "    response = llm.invoke(conversation).content.strip()\n",
    "\n",
    "    # Update history with the user query and concise response\n",
    "    history.append((\"User 👤\", query))\n",
    "    history.append((\"Chatbot 🤖\", response))\n",
    "    return history\n"
   ]
  },
  {
   "cell_type": "code",
   "execution_count": 9,
   "id": "a41cedd0",
   "metadata": {},
   "outputs": [],
   "source": [
    "def gradio_ui():\n",
    "    # Chatbot UI starts with an empty history\n",
    "    history = []\n",
    "\n",
    "    def chat_interface(user_input, chat_history):\n",
    "        chat_history = chat_with_history(user_input, chat_history)\n",
    "        return chat_history, chat_history\n",
    "\n",
    "    # Create Gradio Interface\n",
    "    interface = gr.Blocks()\n",
    "\n",
    "    with interface:\n",
    "        gr.Markdown(\"<h1 style='text-align: center;'>Ask me anything about Nestlé HR Policy</h1>\")\n",
    "        chatbot = gr.Chatbot()\n",
    "        user_input = gr.Textbox(label=\"Your Question\", placeholder=\"Type your question here...\")\n",
    "        send_button = gr.Button(\"Send\")\n",
    "        close_button = gr.Button(\"Stop Server\")  \n",
    "\n",
    "        # Maintain chat history\n",
    "        chat_history = gr.State([])\n",
    "\n",
    "        # Button click triggers response generation\n",
    "        send_button.click(\n",
    "            fn=chat_interface,\n",
    "            inputs=[user_input, chat_history],\n",
    "            outputs=[chatbot, chat_history],\n",
    "        )\n",
    "\n",
    "        # Add functionality to close the Gradio server\n",
    "        def stop_server():\n",
    "            interface.close()\n",
    "            print(\"Gradio server stopped.\")\n",
    "\n",
    "        close_button.click(fn=stop_server, inputs=[], outputs=[])\n",
    "\n",
    "    interface.launch()"
   ]
  },
  {
   "cell_type": "code",
   "execution_count": 10,
   "id": "de5b8f09",
   "metadata": {},
   "outputs": [
    {
     "name": "stderr",
     "output_type": "stream",
     "text": [
      "C:\\Users\\jimmy\\AppData\\Roaming\\Python\\Python311\\site-packages\\gradio\\components\\chatbot.py:242: UserWarning: You have not specified a value for the `type` parameter. Defaulting to the 'tuples' format for chatbot messages, but this is deprecated and will be removed in a future version of Gradio. Please set type='messages' instead, which uses openai-style dictionaries with 'role' and 'content' keys.\n",
      "  warnings.warn(\n"
     ]
    },
    {
     "name": "stdout",
     "output_type": "stream",
     "text": [
      "* Running on local URL:  http://127.0.0.1:7860\n",
      "\n",
      "To create a public link, set `share=True` in `launch()`.\n"
     ]
    },
    {
     "data": {
      "text/html": [
       "<div><iframe src=\"http://127.0.0.1:7860/\" width=\"100%\" height=\"500\" allow=\"autoplay; camera; microphone; clipboard-read; clipboard-write;\" frameborder=\"0\" allowfullscreen></iframe></div>"
      ],
      "text/plain": [
       "<IPython.core.display.HTML object>"
      ]
     },
     "metadata": {},
     "output_type": "display_data"
    }
   ],
   "source": [
    "gradio_ui()"
   ]
  },
  {
   "cell_type": "code",
   "execution_count": null,
   "id": "a878f593",
   "metadata": {},
   "outputs": [],
   "source": []
  }
 ],
 "metadata": {
  "kernelspec": {
   "display_name": "Python 3 (ipykernel)",
   "language": "python",
   "name": "python3"
  },
  "language_info": {
   "codemirror_mode": {
    "name": "ipython",
    "version": 3
   },
   "file_extension": ".py",
   "mimetype": "text/x-python",
   "name": "python",
   "nbconvert_exporter": "python",
   "pygments_lexer": "ipython3",
   "version": "3.11.5"
  }
 },
 "nbformat": 4,
 "nbformat_minor": 5
}
