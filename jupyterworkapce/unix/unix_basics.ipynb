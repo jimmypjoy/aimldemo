{
 "cells": [
  {
   "cell_type": "markdown",
   "id": "04cac9ab",
   "metadata": {},
   "source": [
    "# Unix Basics"
   ]
  },
  {
   "cell_type": "code",
   "execution_count": 1,
   "id": "21bce130",
   "metadata": {},
   "outputs": [
    {
     "name": "stdout",
     "output_type": "stream",
     "text": [
      "/home/ec2-user/notebooks\r\n"
     ]
    }
   ],
   "source": [
    "!pwd"
   ]
  },
  {
   "cell_type": "code",
   "execution_count": 2,
   "id": "3febf9a5",
   "metadata": {},
   "outputs": [
    {
     "name": "stdout",
     "output_type": "stream",
     "text": [
      "root\r\n"
     ]
    }
   ],
   "source": [
    "!whoami"
   ]
  },
  {
   "cell_type": "code",
   "execution_count": 3,
   "id": "9ee1a340",
   "metadata": {},
   "outputs": [
    {
     "name": "stdout",
     "output_type": "stream",
     "text": [
      "enX0: flags=4163<UP,BROADCAST,RUNNING,MULTICAST>  mtu 9001\r\n",
      "        inet 172.31.86.235  netmask 255.255.240.0  broadcast 172.31.95.255\r\n",
      "        inet6 fe80::105a:74ff:fe5c:4c3  prefixlen 64  scopeid 0x20<link>\r\n",
      "        ether 12:5a:74:5c:04:c3  txqueuelen 1000  (Ethernet)\r\n",
      "        RX packets 3290  bytes 930115 (908.3 KiB)\r\n",
      "        RX errors 0  dropped 0  overruns 0  frame 0\r\n",
      "        TX packets 3196  bytes 6735890 (6.4 MiB)\r\n",
      "        TX errors 0  dropped 0 overruns 0  carrier 0  collisions 0\r\n",
      "\r\n",
      "lo: flags=73<UP,LOOPBACK,RUNNING>  mtu 65536\r\n",
      "        inet 127.0.0.1  netmask 255.0.0.0\r\n",
      "        inet6 ::1  prefixlen 128  scopeid 0x10<host>\r\n",
      "        loop  txqueuelen 1000  (Local Loopback)\r\n",
      "        RX packets 1462  bytes 654939 (639.5 KiB)\r\n",
      "        RX errors 0  dropped 0  overruns 0  frame 0\r\n",
      "        TX packets 1462  bytes 654939 (639.5 KiB)\r\n",
      "        TX errors 0  dropped 0 overruns 0  carrier 0  collisions 0\r\n",
      "\r\n"
     ]
    }
   ],
   "source": [
    "!ifconfig"
   ]
  },
  {
   "cell_type": "code",
   "execution_count": 4,
   "id": "bd9a7e0b",
   "metadata": {},
   "outputs": [
    {
     "name": "stdout",
     "output_type": "stream",
     "text": [
      "Active Internet connections (w/o servers)\r\n",
      "Proto Recv-Q Send-Q Local Address           Foreign Address         State      \r\n",
      "tcp        0      0 ip-172-31-86-235.ec:ssh pool-71-250-201-7:51518 ESTABLISHED\r\n",
      "tcp        0      0 localhost:60999         localhost:52208         ESTABLISHED\r\n",
      "tcp        0      0 ip-172-31-86-235.:38768 instance-data.ec2.:http TIME_WAIT  \r\n",
      "tcp        0      0 localhost:58201         localhost:42240         TIME_WAIT  \r\n",
      "tcp        0      0 localhost:43015         localhost:49488         ESTABLISHED\r\n",
      "tcp        0      0 localhost:52206         localhost:60999         TIME_WAIT  \r\n",
      "tcp        0      0 localhost:37074         localhost:59303         ESTABLISHED\r\n",
      "tcp        0      0 localhost:49488         localhost:43015         ESTABLISHED\r\n",
      "tcp        0      0 ip-172-31-86-:ddi-tcp-1 pool-71-250-201-7:51559 TIME_WAIT  \r\n",
      "tcp        0      0 localhost:59303         localhost:36952         TIME_WAIT  \r\n",
      "tcp        0      0 localhost:58201         localhost:45838         TIME_WAIT  \r\n",
      "tcp        0      0 localhost:49484         localhost:43015         ESTABLISHED\r\n",
      "tcp        0      0 localhost:43015         localhost:57632         TIME_WAIT  \r\n",
      "tcp        0      0 localhost:43015         localhost:47770         TIME_WAIT  \r\n",
      "tcp        0      0 localhost:59264         localhost:58201         ESTABLISHED\r\n",
      "tcp        0    565 ip-172-31-86-:ddi-tcp-1 pool-71-250-201-7:51672 ESTABLISHED\r\n",
      "tcp        0      0 localhost:58201         localhost:59272         ESTABLISHED\r\n",
      "tcp        0      0 localhost:60999         localhost:49410         TIME_WAIT  \r\n",
      "tcp        0      0 localhost:58201         localhost:42876         TIME_WAIT  \r\n",
      "tcp        0      0 localhost:60999         localhost:37906         TIME_WAIT  \r\n",
      "tcp        0      0 localhost:52208         localhost:60999         ESTABLISHED\r\n",
      "tcp        0      0 localhost:43015         localhost:47758         TIME_WAIT  \r\n",
      "tcp        0      0 ip-172-31-86-235.:38738 instance-data.ec2.:http TIME_WAIT  \r\n",
      "tcp        0      0 localhost:59303         localhost:37074         ESTABLISHED\r\n",
      "tcp        0      0 localhost:59272         localhost:58201         ESTABLISHED\r\n",
      "tcp        0      0 localhost:58201         localhost:45832         TIME_WAIT  \r\n",
      "tcp        0      0 localhost:43015         localhost:49484         ESTABLISHED\r\n",
      "tcp        0      0 ip-172-31-86-:ddi-tcp-1 pool-71-250-201-7:51533 ESTABLISHED\r\n",
      "tcp        0      0 ip-172-31-86-235.:38732 instance-data.ec2.:http TIME_WAIT  \r\n",
      "tcp        0      0 localhost:43015         localhost:56058         TIME_WAIT  \r\n",
      "tcp        0      0 localhost:59303         localhost:42168         TIME_WAIT  \r\n",
      "tcp        0      0 ip-172-31-86-:ddi-tcp-1 pool-71-250-201-7:51670 TIME_WAIT  \r\n",
      "tcp        0      0 ip-172-31-86-235.:38722 instance-data.ec2.:http TIME_WAIT  \r\n",
      "tcp        0      0 localhost:58201         localhost:59264         ESTABLISHED\r\n",
      "tcp        0      0 ip-172-31-86-235.ec:ssh pool-71-250-201-7:51486 ESTABLISHED\r\n",
      "tcp        0      0 localhost:49414         localhost:60999         TIME_WAIT  \r\n",
      "Active UNIX domain sockets (w/o servers)\r\n",
      "Proto RefCnt Flags       Type       State         I-Node   Path\r\n",
      "unix  3      [ ]         STREAM     CONNECTED     17556    \r\n",
      "unix  3      [ ]         STREAM     CONNECTED     16122    \r\n",
      "unix  3      [ ]         STREAM     CONNECTED     16505    \r\n",
      "unix  3      [ ]         DGRAM      CONNECTED     19115    \r\n",
      "unix  3      [ ]         STREAM     CONNECTED     15790    \r\n",
      "unix  2      [ ]         DGRAM                    19114    /run/user/1000/systemd/notify\r\n",
      "unix  2      [ ]         STREAM     CONNECTED     19708    \r\n",
      "unix  3      [ ]         STREAM     CONNECTED     16422    /var/lib/sss/pipes/private/sbus-monitor\r\n",
      "unix  3      [ ]         STREAM     CONNECTED     16147    \r\n",
      "unix  3      [ ]         STREAM     CONNECTED     23962    \r\n",
      "unix  2      [ ]         DGRAM      CONNECTED     17772    \r\n",
      "unix  3      [ ]         STREAM     CONNECTED     15789    \r\n",
      "unix  3      [ ]         STREAM     CONNECTED     19119    \r\n",
      "unix  2      [ ]         DGRAM      CONNECTED     14187    \r\n",
      "unix  3      [ ]         STREAM     CONNECTED     16142    /run/dbus/system_bus_socket\r\n",
      "unix  3      [ ]         DGRAM      CONNECTED     12466    /run/systemd/notify\r\n",
      "unix  3      [ ]         STREAM     CONNECTED     16141    /run/dbus/system_bus_socket\r\n",
      "unix  3      [ ]         STREAM     CONNECTED     16449    \r\n",
      "unix  3      [ ]         STREAM     CONNECTED     17559    /run/systemd/journal/stdout\r\n",
      "unix  10     [ ]         DGRAM      CONNECTED     12482    /run/systemd/journal/dev-log\r\n",
      "unix  3      [ ]         STREAM     CONNECTED     15979    \r\n",
      "unix  14     [ ]         DGRAM      CONNECTED     12484    /run/systemd/journal/socket\r\n",
      "unix  2      [ ]         STREAM     CONNECTED     19070    \r\n",
      "unix  2      [ ]         STREAM     CONNECTED     18906    \r\n",
      "unix  2      [ ]         DGRAM      CONNECTED     15788    \r\n",
      "unix  3      [ ]         STREAM     CONNECTED     16117    /run/dbus/system_bus_socket\r\n",
      "unix  3      [ ]         STREAM     CONNECTED     16114    \r\n",
      "unix  2      [ ]         DGRAM      CONNECTED     16104    \r\n",
      "unix  2      [ ]         STREAM     CONNECTED     17595    \r\n",
      "unix  3      [ ]         STREAM     CONNECTED     15998    \r\n",
      "unix  3      [ ]         STREAM     CONNECTED     19045    \r\n",
      "unix  3      [ ]         STREAM     CONNECTED     14526    /run/systemd/journal/stdout\r\n",
      "unix  3      [ ]         STREAM     CONNECTED     23967    \r\n",
      "unix  3      [ ]         DGRAM      CONNECTED     19116    \r\n",
      "unix  2      [ ]         DGRAM      CONNECTED     19082    \r\n",
      "unix  3      [ ]         STREAM     CONNECTED     20673    \r\n",
      "unix  3      [ ]         STREAM     CONNECTED     15943    \r\n",
      "unix  2      [ ]         DGRAM                    16439    \r\n",
      "unix  2      [ ]         DGRAM                    16089    /run/systemd/home/notify\r\n",
      "unix  3      [ ]         STREAM     CONNECTED     16421    \r\n",
      "unix  3      [ ]         STREAM     CONNECTED     23968    \r\n",
      "unix  3      [ ]         STREAM     CONNECTED     14166    \r\n",
      "unix  2      [ ]         STREAM     CONNECTED     17627    \r\n",
      "unix  3      [ ]         STREAM     CONNECTED     17524    \r\n",
      "unix  2      [ ]         DGRAM      CONNECTED     16239    \r\n",
      "unix  3      [ ]         STREAM     CONNECTED     16458    \r\n",
      "unix  3      [ ]         STREAM     CONNECTED     15821    /run/systemd/journal/stdout\r\n",
      "unix  2      [ ]         STREAM     CONNECTED     20186    \r\n",
      "unix  3      [ ]         STREAM     CONNECTED     18951    \r\n",
      "unix  3      [ ]         STREAM     CONNECTED     15982    /run/systemd/journal/stdout\r\n",
      "unix  3      [ ]         DGRAM      CONNECTED     12467    \r\n",
      "unix  3      [ ]         STREAM     CONNECTED     16109    \r\n",
      "unix  2      [ ]         DGRAM      CONNECTED     16128    \r\n",
      "unix  3      [ ]         STREAM     CONNECTED     16656    /run/systemd/journal/stdout\r\n",
      "unix  3      [ ]         STREAM     CONNECTED     16620    /var/lib/sss/pipes/private/sbus-monitor\r\n",
      "unix  3      [ ]         STREAM     CONNECTED     23961    \r\n",
      "unix  2      [ ]         DGRAM      CONNECTED     20059    \r\n",
      "unix  3      [ ]         STREAM     CONNECTED     16090    \r\n",
      "unix  3      [ ]         STREAM     CONNECTED     16008    \r\n",
      "unix  3      [ ]         STREAM     CONNECTED     16459    /var/lib/sss/pipes/private/sbus-monitor\r\n",
      "unix  3      [ ]         STREAM     CONNECTED     16227    /run/systemd/journal/stdout\r\n",
      "unix  2      [ ]         STREAM     CONNECTED     17783    \r\n",
      "unix  2      [ ]         DGRAM      CONNECTED     16088    \r\n",
      "unix  3      [ ]         STREAM     CONNECTED     15985    \r\n",
      "unix  3      [ ]         DGRAM      CONNECTED     16153    \r\n",
      "unix  2      [ ]         STREAM     CONNECTED     20282    \r\n",
      "unix  2      [ ]         DGRAM      CONNECTED     22920    \r\n",
      "unix  3      [ ]         DGRAM      CONNECTED     14192    \r\n",
      "unix  2      [ ]         DGRAM      CONNECTED     19161    \r\n",
      "unix  3      [ ]         STREAM     CONNECTED     16110    \r\n",
      "unix  3      [ ]         STREAM     CONNECTED     16036    /run/systemd/journal/stdout\r\n",
      "unix  2      [ ]         DGRAM      CONNECTED     16721    \r\n",
      "unix  3      [ ]         STREAM     CONNECTED     24004    /var/lib/sss/pipes/nss\r\n",
      "unix  3      [ ]         STREAM     CONNECTED     15811    \r\n",
      "unix  2      [ ]         DGRAM      CONNECTED     22923    \r\n",
      "unix  2      [ ]         STREAM     CONNECTED     19702    \r\n",
      "unix  3      [ ]         STREAM     CONNECTED     15986    /run/systemd/journal/stdout\r\n",
      "unix  3      [ ]         STREAM     CONNECTED     16143    /run/dbus/system_bus_socket\r\n",
      "unix  3      [ ]         STREAM     CONNECTED     16737    \r\n",
      "unix  3      [ ]         STREAM     CONNECTED     16027    \r\n",
      "unix  2      [ ]         STREAM     CONNECTED     18918    \r\n",
      "unix  2      [ ]         DGRAM      CONNECTED     15888    \r\n",
      "unix  2      [ ]         DGRAM      CONNECTED     13995    \r\n",
      "unix  2      [ ]         STREAM     CONNECTED     20232    \r\n",
      "unix  3      [ ]         DGRAM      CONNECTED     16152    \r\n",
      "unix  3      [ ]         STREAM     CONNECTED     16005    /run/systemd/journal/stdout\r\n",
      "unix  3      [ ]         STREAM     CONNECTED     16215    \r\n",
      "unix  3      [ ]         STREAM     CONNECTED     16010    /run/systemd/journal/stdout\r\n",
      "unix  3      [ ]         STREAM     CONNECTED     19046    /run/systemd/journal/stdout\r\n",
      "unix  3      [ ]         STREAM     CONNECTED     24003    \r\n",
      "unix  3      [ ]         STREAM     CONNECTED     16738    /run/dbus/system_bus_socket\r\n",
      "unix  2      [ ]         DGRAM      CONNECTED     20278    \r\n",
      "unix  3      [ ]         STREAM     CONNECTED     20062    \r\n",
      "unix  3      [ ]         STREAM     CONNECTED     15932    \r\n",
      "unix  2      [ ]         DGRAM      CONNECTED     20201    \r\n",
      "unix  2      [ ]         DGRAM      CONNECTED     18977    \r\n",
      "unix  3      [ ]         STREAM     CONNECTED     20063    \r\n",
      "unix  3      [ ]         STREAM     CONNECTED     19164    \r\n",
      "unix  2      [ ]         DGRAM                    16315    \r\n",
      "unix  2      [ ]         DGRAM      CONNECTED     22917    \r\n",
      "unix  2      [ ]         DGRAM      CONNECTED     14055    \r\n",
      "unix  3      [ ]         STREAM     CONNECTED     15962    \r\n",
      "unix  3      [ ]         STREAM     CONNECTED     18961    /run/systemd/journal/stdout\r\n",
      "unix  2      [ ]         STREAM     CONNECTED     19209    \r\n",
      "unix  3      [ ]         DGRAM      CONNECTED     16154    \r\n",
      "unix  3      [ ]         DGRAM      CONNECTED     16151    \r\n",
      "unix  3      [ ]         STREAM     CONNECTED     20674    \r\n",
      "unix  2      [ ]         DGRAM      CONNECTED     19097    \r\n",
      "unix  3      [ ]         STREAM     CONNECTED     16140    /run/dbus/system_bus_socket\r\n",
      "unix  2      [ ]         DGRAM                    17789    /run/chrony/chronyd.sock\r\n",
      "unix  3      [ ]         STREAM     CONNECTED     16599    /var/lib/sss/pipes/private/sbus-dp_implicit_files.2040\r\n",
      "unix  3      [ ]         STREAM     CONNECTED     16450    /var/lib/sss/pipes/private/sbus-dp_implicit_files.2040\r\n",
      "unix  3      [ ]         STREAM     CONNECTED     16646    \r\n",
      "unix  3      [ ]         STREAM     CONNECTED     17527    /run/systemd/journal/stdout\r\n",
      "unix  3      [ ]         STREAM     CONNECTED     19120    /run/dbus/system_bus_socket\r\n",
      "unix  3      [ ]         STREAM     CONNECTED     15965    /run/systemd/journal/stdout\r\n",
      "unix  2      [ ]         DGRAM                    16495    \r\n",
      "unix  3      [ ]         DGRAM      CONNECTED     12468    \r\n",
      "unix  3      [ ]         DGRAM      CONNECTED     14191    \r\n",
      "unix  3      [ ]         STREAM     CONNECTED     16148    /run/dbus/system_bus_socket\r\n",
      "unix  3      [ ]         STREAM     CONNECTED     19165    \r\n",
      "unix  3      [ ]         STREAM     CONNECTED     16619    \r\n",
      "Active Bluetooth connections (w/o servers)\r\n",
      "Proto  Destination       Source            State         PSM DCID   SCID      IMTU    OMTU Security\r\n",
      "Proto  Destination       Source            State     Channel\r\n"
     ]
    }
   ],
   "source": [
    "!netstat"
   ]
  },
  {
   "cell_type": "code",
   "execution_count": 5,
   "id": "48d30840",
   "metadata": {},
   "outputs": [
    {
     "name": "stdout",
     "output_type": "stream",
     "text": [
      "172.31.86.235\r\n"
     ]
    }
   ],
   "source": [
    "!hostname -i"
   ]
  },
  {
   "cell_type": "code",
   "execution_count": 1,
   "id": "bfd20ed1",
   "metadata": {},
   "outputs": [
    {
     "name": "stdout",
     "output_type": "stream",
     "text": [
      "/bin/bash\r\n"
     ]
    }
   ],
   "source": [
    "!echo $SHELL"
   ]
  },
  {
   "cell_type": "code",
   "execution_count": 2,
   "id": "bf5e21d1",
   "metadata": {},
   "outputs": [
    {
     "name": "stdout",
     "output_type": "stream",
     "text": [
      "hello\r\n"
     ]
    }
   ],
   "source": [
    "!echo 'hello'"
   ]
  },
  {
   "cell_type": "code",
   "execution_count": 3,
   "id": "ef08e90f",
   "metadata": {},
   "outputs": [
    {
     "name": "stdout",
     "output_type": "stream",
     "text": [
      "/root\r\n"
     ]
    }
   ],
   "source": [
    "!echo $HOME"
   ]
  },
  {
   "cell_type": "code",
   "execution_count": null,
   "id": "a1912643",
   "metadata": {},
   "outputs": [],
   "source": []
  },
  {
   "cell_type": "markdown",
   "id": "82eefb95",
   "metadata": {},
   "source": [
    "# File/Directory"
   ]
  },
  {
   "cell_type": "code",
   "execution_count": 6,
   "id": "4ed9f838",
   "metadata": {},
   "outputs": [
    {
     "name": "stdout",
     "output_type": "stream",
     "text": [
      "'01 AIML Reference-ANN and Tesnorflow.ipynb'   test_serach_results.txt\r\n",
      "'Celsius to Fahrenheit.csv'\t\t       unix_basics.ipynb\r\n",
      " bank.csv\t\t\t\t       usedcars.csv\r\n",
      " creditcard.csv\r\n"
     ]
    }
   ],
   "source": [
    "!ls"
   ]
  },
  {
   "cell_type": "code",
   "execution_count": 7,
   "id": "30960bfe",
   "metadata": {},
   "outputs": [
    {
     "name": "stdout",
     "output_type": "stream",
     "text": [
      "total 148308\r\n",
      "-rw-rw-r--. 1 ec2-user ec2-user    684858 Oct 30  2023  bank.csv\r\n",
      "-rw-rw-r--. 1 ec2-user ec2-user       263 Oct 30  2023 'Celsius to Fahrenheit.csv'\r\n",
      "-rw-rw-r--. 1 ec2-user ec2-user      4732 Oct 30  2023  usedcars.csv\r\n",
      "-rw-rw-r--. 1 ec2-user ec2-user 150828752 Oct 30  2023  creditcard.csv\r\n",
      "-rw-rw-r--. 1 ec2-user ec2-user    262866 Oct 30  2023 '01 AIML Reference-ANN and Tesnorflow.ipynb'\r\n",
      "drwx------. 4 ec2-user ec2-user       153 Oct 30  2023  ..\r\n",
      "drwxr-xr-x. 2 root     root           103 Jun  7 17:46  .ipynb_checkpoints\r\n",
      "-rw-rw-r--. 1 ec2-user ec2-user     49126 Jun  7 17:54  unix_basics.ipynb\r\n",
      "drwxrwxrwx. 3 root     root         16384 Jun  7 17:54  .\r\n",
      "-rw-r--r--. 1 root     root          1945 Jun  7 17:55  test_serach_results.txt\r\n"
     ]
    }
   ],
   "source": [
    "!ls -alrt"
   ]
  },
  {
   "cell_type": "markdown",
   "id": "3a0ebd15",
   "metadata": {},
   "source": [
    "# Search"
   ]
  },
  {
   "cell_type": "code",
   "execution_count": 8,
   "id": "d4635e0d",
   "metadata": {},
   "outputs": [
    {
     "name": "stdout",
     "output_type": "stream",
     "text": [
      "    \"# Unix Basics\"\r\n",
      "      \"'Celsius to Fahrenheit.csv'\\t\\t       unix_basics.ipynb\\r\\n\",\r\n",
      "      \"-rw-rw-r--. 1 ec2-user ec2-user       706 Jun  7 17:43  unix_basics.ipynb\\r\\n\"\r\n",
      "      \"    \\\"# Unix Basics\\\"\\r\\n\",\r\n",
      "      \"      \\\"'Celsius to Fahrenheit.csv'\\\\t\\\\t       unix_basics.ipynb\\\\r\\\\n\\\",\\r\\n\",\r\n",
      "      \"      \\\"-rw-rw-r--. 1 ec2-user ec2-user       706 Jun  7 17:43  unix_basics.ipynb\\\\r\\\\n\\\"\\r\\n\"\r\n",
      "    \"!grep -i 'basics' unix_basics.ipynb\"\r\n",
      "    \"!grep -i 'basics' -r . >test_serach_results.txt\"\r\n",
      "      \"./01 AIML Reference-ANN and Tesnorflow.ipynb:    \\\"- <a href = #link_tensor>Tensorflow Basics</a> \\\\n\\\",\\r\\n\",\r\n",
      "      \"./01 AIML Reference-ANN and Tesnorflow.ipynb:    \\\"## TF ANN Basics\\\"\\r\\n\"\r\n",
      "      \"./unix_basics.ipynb:    \\\"!grep -i 'basics' unix_basics.ipynb\\\"\\r\\n\"\r\n"
     ]
    }
   ],
   "source": [
    "!grep -i 'basics' unix_basics.ipynb"
   ]
  },
  {
   "cell_type": "code",
   "execution_count": 9,
   "id": "ceae0452",
   "metadata": {},
   "outputs": [
    {
     "name": "stdout",
     "output_type": "stream",
     "text": [
      "grep: ./test_serach_results.txt: input file is also the output\r\n"
     ]
    }
   ],
   "source": [
    "!grep -i 'basics' -r . >test_serach_results.txt"
   ]
  },
  {
   "cell_type": "code",
   "execution_count": 10,
   "id": "540724b4",
   "metadata": {},
   "outputs": [
    {
     "name": "stdout",
     "output_type": "stream",
     "text": [
      "./01 AIML Reference-ANN and Tesnorflow.ipynb:    \"- <a href = #link_tensor>Tensorflow Basics</a> \\n\",\r\n",
      "./01 AIML Reference-ANN and Tesnorflow.ipynb:    \"## TF ANN Basics\"\r\n"
     ]
    }
   ],
   "source": [
    "!head -n 2 test_serach_results.txt"
   ]
  },
  {
   "cell_type": "code",
   "execution_count": 11,
   "id": "0d733336",
   "metadata": {},
   "outputs": [
    {
     "name": "stdout",
     "output_type": "stream",
     "text": [
      "./unix_basics.ipynb:      \"./unix_basics.ipynb:    \\\"!grep -i 'basics' unix_basics.ipynb\\\"\\r\\n\"\r\n"
     ]
    }
   ],
   "source": [
    "!tail -n 1 test_serach_results.txt"
   ]
  },
  {
   "cell_type": "markdown",
   "id": "c78a256d",
   "metadata": {},
   "source": [
    "# Memory"
   ]
  },
  {
   "cell_type": "code",
   "execution_count": 12,
   "id": "1e9874f7",
   "metadata": {},
   "outputs": [
    {
     "name": "stdout",
     "output_type": "stream",
     "text": [
      "               total        used        free      shared  buff/cache   available\r\n",
      "Mem:           1.6Gi       228Mi       992Mi       4.0Mi       430Mi       1.2Gi\r\n",
      "Swap:          895Mi          0B       895Mi\r\n"
     ]
    }
   ],
   "source": [
    "!free -gh"
   ]
  },
  {
   "cell_type": "code",
   "execution_count": 13,
   "id": "1ca7eda5",
   "metadata": {},
   "outputs": [
    {
     "name": "stdout",
     "output_type": "stream",
     "text": [
      "MemTotal:        1691560 kB\r\n",
      "MemFree:         1016748 kB\r\n",
      "MemAvailable:    1306484 kB\r\n",
      "Buffers:            2172 kB\r\n",
      "Cached:           406920 kB\r\n",
      "SwapCached:            0 kB\r\n",
      "Active:           280104 kB\r\n",
      "Inactive:         272884 kB\r\n",
      "Active(anon):        764 kB\r\n",
      "Inactive(anon):   147844 kB\r\n",
      "Active(file):     279340 kB\r\n",
      "Inactive(file):   125040 kB\r\n",
      "Unevictable:           0 kB\r\n",
      "Mlocked:               0 kB\r\n",
      "SwapTotal:        917500 kB\r\n",
      "SwapFree:         917500 kB\r\n",
      "Zswap:                 0 kB\r\n",
      "Zswapped:              0 kB\r\n",
      "Dirty:                16 kB\r\n",
      "Writeback:             0 kB\r\n",
      "AnonPages:        143896 kB\r\n",
      "Mapped:            87036 kB\r\n",
      "Shmem:              4712 kB\r\n",
      "KReclaimable:      31404 kB\r\n",
      "Slab:              64188 kB\r\n",
      "SReclaimable:      31404 kB\r\n",
      "SUnreclaim:        32784 kB\r\n",
      "KernelStack:        2332 kB\r\n",
      "PageTables:         3080 kB\r\n",
      "SecPageTables:         0 kB\r\n",
      "NFS_Unstable:          0 kB\r\n",
      "Bounce:                0 kB\r\n",
      "WritebackTmp:          0 kB\r\n",
      "CommitLimit:     1763280 kB\r\n",
      "Committed_AS:     449536 kB\r\n",
      "VmallocTotal:   34359738367 kB\r\n",
      "VmallocUsed:       12696 kB\r\n",
      "VmallocChunk:          0 kB\r\n",
      "Percpu:             7424 kB\r\n",
      "HardwareCorrupted:     0 kB\r\n",
      "AnonHugePages:         0 kB\r\n",
      "ShmemHugePages:        0 kB\r\n",
      "ShmemPmdMapped:        0 kB\r\n",
      "FileHugePages:         0 kB\r\n",
      "FilePmdMapped:         0 kB\r\n",
      "HugePages_Total:       0\r\n",
      "HugePages_Free:        0\r\n",
      "HugePages_Rsvd:        0\r\n",
      "HugePages_Surp:        0\r\n",
      "Hugepagesize:       2048 kB\r\n",
      "Hugetlb:               0 kB\r\n",
      "DirectMap4k:       90112 kB\r\n",
      "DirectMap2M:     1691648 kB\r\n"
     ]
    }
   ],
   "source": [
    "!cat /proc/meminfo"
   ]
  },
  {
   "cell_type": "code",
   "execution_count": 14,
   "id": "52240886",
   "metadata": {},
   "outputs": [
    {
     "name": "stdout",
     "output_type": "stream",
     "text": [
      "Filesystem      Size  Used Avail Use% Mounted on\r\n",
      "devtmpfs        4.2M     0  4.2M   0% /dev\r\n",
      "tmpfs           867M     0  867M   0% /dev/shm\r\n",
      "tmpfs           347M  4.9M  342M   2% /run\r\n",
      "/dev/xvda1      8.6G  8.1G  476M  95% /\r\n",
      "tmpfs           867M     0  867M   0% /tmp\r\n",
      "/dev/xvda128     11M  1.4M  9.2M  13% /boot/efi\r\n",
      "tmpfs           174M     0  174M   0% /run/user/1000\r\n"
     ]
    }
   ],
   "source": [
    "!df -H"
   ]
  },
  {
   "cell_type": "code",
   "execution_count": 15,
   "id": "fe838681",
   "metadata": {},
   "outputs": [
    {
     "name": "stdout",
     "output_type": "stream",
     "text": [
      "processor\t: 0\r\n",
      "vendor_id\t: GenuineIntel\r\n",
      "cpu family\t: 6\r\n",
      "model\t\t: 62\r\n",
      "model name\t: Intel(R) Xeon(R) CPU E5-2651 v2 @ 1.80GHz\r\n",
      "stepping\t: 4\r\n",
      "microcode\t: 0x5003605\r\n",
      "cpu MHz\t\t: 1799.999\r\n",
      "cache size\t: 30720 KB\r\n",
      "physical id\t: 0\r\n",
      "siblings\t: 1\r\n",
      "core id\t\t: 0\r\n",
      "cpu cores\t: 1\r\n",
      "apicid\t\t: 0\r\n",
      "initial apicid\t: 0\r\n",
      "fpu\t\t: yes\r\n",
      "fpu_exception\t: yes\r\n",
      "cpuid level\t: 13\r\n",
      "wp\t\t: yes\r\n",
      "flags\t\t: fpu vme de pse tsc msr pae mce cx8 apic sep mtrr pge mca cmov pat pse36 clflush mmx fxsr sse sse2 ht syscall nx rdtscp lm constant_tsc rep_good nopl cpuid tsc_known_freq pni pclmulqdq ssse3 cx16 pcid sse4_1 sse4_2 x2apic popcnt tsc_deadline_timer aes rdrand hypervisor lahf_lm pti fsgsbase smep erms\r\n",
      "bugs\t\t: cpu_meltdown spectre_v1 spectre_v2 spec_store_bypass l1tf mds swapgs itlb_multihit mmio_unknown\r\n",
      "bogomips\t: 3599.99\r\n",
      "clflush size\t: 64\r\n",
      "cache_alignment\t: 64\r\n",
      "address sizes\t: 46 bits physical, 48 bits virtual\r\n",
      "power management:\r\n",
      "\r\n"
     ]
    }
   ],
   "source": [
    "!cat /proc/cpuinfo"
   ]
  },
  {
   "cell_type": "code",
   "execution_count": 16,
   "id": "81de099e",
   "metadata": {},
   "outputs": [
    {
     "name": "stdout",
     "output_type": "stream",
     "text": [
      "Architecture:            x86_64\r\n",
      "  CPU op-mode(s):        32-bit, 64-bit\r\n",
      "  Address sizes:         46 bits physical, 48 bits virtual\r\n",
      "  Byte Order:            Little Endian\r\n",
      "CPU(s):                  1\r\n",
      "  On-line CPU(s) list:   0\r\n",
      "Vendor ID:               GenuineIntel\r\n",
      "  BIOS Vendor ID:        Intel\r\n",
      "  Model name:            Intel(R) Xeon(R) CPU E5-2651 v2 @ 1.80GHz\r\n",
      "    CPU family:          6\r\n",
      "    Model:               62\r\n",
      "    Thread(s) per core:  1\r\n",
      "    Core(s) per socket:  1\r\n",
      "    Socket(s):           1\r\n",
      "    Stepping:            4\r\n",
      "    BogoMIPS:            3599.99\r\n",
      "    Flags:               fpu vme de pse tsc msr pae mce cx8 apic sep mtrr pge mc\r\n",
      "                         a cmov pat pse36 clflush mmx fxsr sse sse2 ht syscall n\r\n",
      "                         x rdtscp lm constant_tsc rep_good nopl cpuid tsc_known_\r\n",
      "                         freq pni pclmulqdq ssse3 cx16 pcid sse4_1 sse4_2 x2apic\r\n",
      "                          popcnt tsc_deadline_timer aes rdrand hypervisor lahf_l\r\n",
      "                         m pti fsgsbase smep erms\r\n",
      "Virtualization features: \r\n",
      "  Hypervisor vendor:     Xen\r\n",
      "  Virtualization type:   full\r\n",
      "Caches (sum of all):     \r\n",
      "  L1d:                   32 KiB (1 instance)\r\n",
      "  L1i:                   32 KiB (1 instance)\r\n",
      "  L2:                    256 KiB (1 instance)\r\n",
      "  L3:                    30 MiB (1 instance)\r\n",
      "NUMA:                    \r\n",
      "  NUMA node(s):          1\r\n",
      "  NUMA node0 CPU(s):     0\r\n",
      "Vulnerabilities:         \r\n",
      "  Gather data sampling:  Not affected\r\n",
      "  Itlb multihit:         KVM: Mitigation: VMX unsupported\r\n",
      "  L1tf:                  Mitigation; PTE Inversion\r\n",
      "  Mds:                   Vulnerable: Clear CPU buffers attempted, no microcode; \r\n",
      "                         SMT Host state unknown\r\n",
      "  Meltdown:              Mitigation; PTI\r\n",
      "  Mmio stale data:       Unknown: No mitigations\r\n",
      "  Retbleed:              Not affected\r\n",
      "  Spec rstack overflow:  Not affected\r\n",
      "  Spec store bypass:     Vulnerable\r\n",
      "  Spectre v1:            Mitigation; usercopy/swapgs barriers and __user pointer\r\n",
      "                          sanitization\r\n",
      "  Spectre v2:            Mitigation; Retpolines, STIBP disabled, RSB filling, PB\r\n",
      "                         RSB-eIBRS Not affected\r\n",
      "  Srbds:                 Not affected\r\n",
      "  Tsx async abort:       Not affected\r\n"
     ]
    }
   ],
   "source": [
    "!lscpu"
   ]
  },
  {
   "cell_type": "code",
   "execution_count": 17,
   "id": "abf098e8",
   "metadata": {},
   "outputs": [],
   "source": [
    "#!top"
   ]
  },
  {
   "cell_type": "code",
   "execution_count": 18,
   "id": "547a3bc3",
   "metadata": {},
   "outputs": [
    {
     "name": "stdout",
     "output_type": "stream",
     "text": [
      "unlimited\r\n"
     ]
    }
   ],
   "source": [
    "!ulimit -u"
   ]
  },
  {
   "cell_type": "code",
   "execution_count": 19,
   "id": "4ac7e9e5",
   "metadata": {},
   "outputs": [
    {
     "name": "stdout",
     "output_type": "stream",
     "text": [
      "real-time non-blocking time  (microseconds, -R) unlimited\r\n",
      "core file size              (blocks, -c) 0\r\n",
      "data seg size               (kbytes, -d) unlimited\r\n",
      "scheduling priority                 (-e) 0\r\n",
      "file size                   (blocks, -f) unlimited\r\n",
      "pending signals                     (-i) 30446\r\n",
      "max locked memory           (kbytes, -l) unlimited\r\n",
      "max memory size             (kbytes, -m) unlimited\r\n",
      "open files                          (-n) 65535\r\n",
      "pipe size                (512 bytes, -p) 8\r\n",
      "POSIX message queues         (bytes, -q) 819200\r\n",
      "real-time priority                  (-r) 0\r\n",
      "stack size                  (kbytes, -s) 8192\r\n",
      "cpu time                   (seconds, -t) unlimited\r\n",
      "max user processes                  (-u) unlimited\r\n",
      "virtual memory              (kbytes, -v) unlimited\r\n",
      "file locks                          (-x) unlimited\r\n"
     ]
    }
   ],
   "source": [
    "!ulimit -a"
   ]
  },
  {
   "cell_type": "code",
   "execution_count": 21,
   "id": "3a72c499",
   "metadata": {},
   "outputs": [],
   "source": [
    "!history"
   ]
  },
  {
   "cell_type": "code",
   "execution_count": null,
   "id": "11def732",
   "metadata": {},
   "outputs": [],
   "source": []
  },
  {
   "cell_type": "code",
   "execution_count": null,
   "id": "dd4007af",
   "metadata": {},
   "outputs": [],
   "source": []
  }
 ],
 "metadata": {
  "kernelspec": {
   "display_name": "Python 3 (ipykernel)",
   "language": "python",
   "name": "python3"
  },
  "language_info": {
   "codemirror_mode": {
    "name": "ipython",
    "version": 3
   },
   "file_extension": ".py",
   "mimetype": "text/x-python",
   "name": "python",
   "nbconvert_exporter": "python",
   "pygments_lexer": "ipython3",
   "version": "3.11.5"
  }
 },
 "nbformat": 4,
 "nbformat_minor": 5
}
