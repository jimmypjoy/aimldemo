{
 "cells": [
  {
   "cell_type": "code",
   "execution_count": 1,
   "metadata": {},
   "outputs": [],
   "source": [
    "from flask import Flask,request"
   ]
  },
  {
   "cell_type": "code",
   "execution_count": 2,
   "metadata": {},
   "outputs": [],
   "source": [
    "app = Flask(__name__)"
   ]
  },
  {
   "cell_type": "code",
   "execution_count": 3,
   "metadata": {},
   "outputs": [],
   "source": [
    "stores = [{\"name\": \"My Store\", \"items\": [{\"name\": \"Chair\", \"price\": 15.99},{\"name\": \"Table\", \"price\": 30.99}]}]"
   ]
  },
  {
   "cell_type": "code",
   "execution_count": 4,
   "metadata": {},
   "outputs": [],
   "source": [
    "@app.route('/test')\n",
    "def home():\n",
    "    return 'hello jmj from flask python program'"
   ]
  },
  {
   "cell_type": "code",
   "execution_count": 5,
   "metadata": {},
   "outputs": [],
   "source": [
    "@app.route(\"/store\")\n",
    "def get_stores():\n",
    "    return {\"stores\": stores}"
   ]
  },
  {
   "cell_type": "code",
   "execution_count": 6,
   "metadata": {},
   "outputs": [],
   "source": [
    "@app.route(\"/store/<string:name>\")\n",
    "def get_store(name):\n",
    "    for store in stores:\n",
    "        if store[\"name\"] == name:\n",
    "            return store\n",
    "    return {\"message\": \"Store not found\"}, 404"
   ]
  },
  {
   "cell_type": "code",
   "execution_count": 7,
   "metadata": {},
   "outputs": [],
   "source": [
    "@app.route(\"/store/<string:name>/item\")\n",
    "def get_item_in_store(name):\n",
    "    for store in stores:\n",
    "        if store[\"name\"] == name:\n",
    "            return {\"items\": store[\"items\"]}\n",
    "    return {\"message\": \"Store not found\"}, 404\n"
   ]
  },
  {
   "cell_type": "code",
   "execution_count": 8,
   "metadata": {
    "scrolled": true
   },
   "outputs": [],
   "source": [
    "@app.route(\"/store/<string:name>/item_create\",methods=['POST'])\n",
    "def create_item(name):\n",
    "    print(\"create_item: name: \", name)\n",
    "    request_data = request.get_json()\n",
    "    print(\"create_item: request_data: \", request_data)\n",
    "    for store in stores:\n",
    "        if store[\"name\"] == name:\n",
    "            new_item = {\"name\": request_data[\"name\"], \"price\": request_data[\"price\"]}\n",
    "            store[\"items\"].append(new_item)\n",
    "            return new_item, 201\n",
    "    return {\"message\": \"Store not found\"}, 404"
   ]
  },
  {
   "cell_type": "code",
   "execution_count": 9,
   "metadata": {},
   "outputs": [],
   "source": [
    "@app.route(\"/store\")\n",
    "def create_store():\n",
    "    request_data = request.get_json()\n",
    "    new_store = {\"name\": request_data[\"name\"], \"items\": []}\n",
    "    stores.append(new_store)\n",
    "    return new_store, 201"
   ]
  },
  {
   "cell_type": "code",
   "execution_count": null,
   "metadata": {},
   "outputs": [
    {
     "name": "stdout",
     "output_type": "stream",
     "text": [
      " * Serving Flask app \"__main__\" (lazy loading)\n",
      " * Environment: production\n",
      "   WARNING: This is a development server. Do not use it in a production deployment.\n",
      "   Use a production WSGI server instead.\n",
      " * Debug mode: off\n"
     ]
    },
    {
     "name": "stderr",
     "output_type": "stream",
     "text": [
      " * Running on http://127.0.0.1:8081/ (Press CTRL+C to quit)\n",
      "[2023-06-30 16:38:07,105] ERROR in app: Exception on /store/My Store/item_create [POST]\n",
      "Traceback (most recent call last):\n",
      "  File \"C:\\ProgramData\\Anaconda3\\lib\\site-packages\\flask\\app.py\", line 2447, in wsgi_app\n",
      "    response = self.full_dispatch_request()\n",
      "  File \"C:\\ProgramData\\Anaconda3\\lib\\site-packages\\flask\\app.py\", line 1952, in full_dispatch_request\n",
      "    rv = self.handle_user_exception(e)\n",
      "  File \"C:\\ProgramData\\Anaconda3\\lib\\site-packages\\flask\\app.py\", line 1821, in handle_user_exception\n",
      "    reraise(exc_type, exc_value, tb)\n",
      "  File \"C:\\ProgramData\\Anaconda3\\lib\\site-packages\\flask\\_compat.py\", line 39, in reraise\n",
      "    raise value\n",
      "  File \"C:\\ProgramData\\Anaconda3\\lib\\site-packages\\flask\\app.py\", line 1950, in full_dispatch_request\n",
      "    rv = self.dispatch_request()\n",
      "  File \"C:\\ProgramData\\Anaconda3\\lib\\site-packages\\flask\\app.py\", line 1936, in dispatch_request\n",
      "    return self.view_functions[rule.endpoint](**req.view_args)\n",
      "  File \"<ipython-input-8-63a61b623b70>\", line 6, in create_item\n",
      "    new_item = {\"name\": request_data[\"name\"], \"price\": request_data[\"price\"]}\n",
      "TypeError: 'NoneType' object is not subscriptable\n",
      "127.0.0.1 - - [30/Jun/2023 16:38:07] \"\u001b[35m\u001b[1mPOST /store/My%20Store/item_create HTTP/1.1\u001b[0m\" 500 -\n"
     ]
    }
   ],
   "source": [
    "app.run(port=8081)"
   ]
  },
  {
   "cell_type": "code",
   "execution_count": null,
   "metadata": {},
   "outputs": [],
   "source": []
  }
 ],
 "metadata": {
  "kernelspec": {
   "display_name": "Python 3",
   "language": "python",
   "name": "python3"
  },
  "language_info": {
   "codemirror_mode": {
    "name": "ipython",
    "version": 3
   },
   "file_extension": ".py",
   "mimetype": "text/x-python",
   "name": "python",
   "nbconvert_exporter": "python",
   "pygments_lexer": "ipython3",
   "version": "3.8.3"
  }
 },
 "nbformat": 4,
 "nbformat_minor": 4
}
