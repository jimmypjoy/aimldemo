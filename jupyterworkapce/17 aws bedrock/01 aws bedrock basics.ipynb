{
 "cells": [
  {
   "cell_type": "code",
   "execution_count": 6,
   "id": "2be717eb",
   "metadata": {},
   "outputs": [],
   "source": [
    "import boto3\n",
    "import os\n",
    "import json"
   ]
  },
  {
   "cell_type": "code",
   "execution_count": 7,
   "id": "a7699862",
   "metadata": {},
   "outputs": [],
   "source": [
    "def setup_environment():\n",
    "    import sys\n",
    "    sys.path.append('C:\\\\gitworkspace\\\\aimldemo\\\\jupyterworkapce')\n",
    "    import stratup_env_setup\n",
    "    stratup_env_setup.set_env()"
   ]
  },
  {
   "cell_type": "code",
   "execution_count": 8,
   "id": "88f5608f",
   "metadata": {},
   "outputs": [],
   "source": [
    "setup_environment()"
   ]
  },
  {
   "cell_type": "code",
   "execution_count": 9,
   "id": "4ca80ade",
   "metadata": {},
   "outputs": [],
   "source": [
    " s3_client = boto3.client('s3')"
   ]
  },
  {
   "cell_type": "code",
   "execution_count": 10,
   "id": "97f1ff27",
   "metadata": {},
   "outputs": [],
   "source": [
    "response = s3_client.list_buckets()"
   ]
  },
  {
   "cell_type": "code",
   "execution_count": 11,
   "id": "feb7d93f",
   "metadata": {},
   "outputs": [
    {
     "name": "stdout",
     "output_type": "stream",
     "text": [
      "S3 Buckets in your account:\n",
      "- aws-cloudtrail-logs-312296519090-783817be\n",
      "- aws-emr-resources-312296519090-us-east-1\n",
      "- aws-logs-312296519090-us-east-1\n",
      "- elasticbeanstalk-us-east-1-312296519090\n",
      "- elasticbeanstalk-us-east-2-312296519090\n",
      "- sagemaker-studio-o5xeslsirg\n",
      "- sagemaker-us-east-1-312296519090\n",
      "- test-s3-jj-bucket\n"
     ]
    }
   ],
   "source": [
    "    if 'Buckets' in response:\n",
    "        print(\"S3 Buckets in your account:\")\n",
    "        for bucket in response['Buckets']:\n",
    "            print(f\"- {bucket['Name']}\")\n",
    "    else:\n",
    "        print(\"No buckets found.\")"
   ]
  },
  {
   "cell_type": "markdown",
   "id": "3bd149e9",
   "metadata": {},
   "source": [
    "# Amazon Titan Model"
   ]
  },
  {
   "cell_type": "code",
   "execution_count": null,
   "id": "9af570a4",
   "metadata": {},
   "outputs": [],
   "source": [
    "bedrock = boto3.client(region_name=\"us-east-1\", service_name='bedrock')"
   ]
  },
  {
   "cell_type": "code",
   "execution_count": null,
   "id": "7f19745e",
   "metadata": {},
   "outputs": [],
   "source": [
    "bedrock.list_foundation_models()"
   ]
  },
  {
   "cell_type": "code",
   "execution_count": null,
   "id": "e37b5d6f",
   "metadata": {},
   "outputs": [],
   "source": [
    "bedrock.get_foundation_model(modelIdentifier='amazon.titan-text-express-v1')"
   ]
  },
  {
   "cell_type": "code",
   "execution_count": null,
   "id": "59c5eee3",
   "metadata": {},
   "outputs": [],
   "source": [
    "bedrock_runtime = boto3.client(region_name=\"us-east-1\",\n",
    "                               service_name='bedrock-runtime')"
   ]
  },
  {
   "cell_type": "markdown",
   "id": "025d5c9f",
   "metadata": {},
   "source": [
    "Thus, the Titan model expects the following jsonified request body:\n",
    "```\n",
    "{\n",
    "    \"inputText\": string,\n",
    "    \"textGenerationConfig\": {\n",
    "        \"temperature\": float,  \n",
    "        \"topP\": float,\n",
    "        \"maxTokenCount\": int,\n",
    "        \"stopSequences\": [string]\n",
    "    }\n",
    "}\n",
    "```"
   ]
  },
  {
   "cell_type": "code",
   "execution_count": null,
   "id": "c91c2d85",
   "metadata": {},
   "outputs": [],
   "source": [
    "question = \"What is the capital of New Jersey?\""
   ]
  },
  {
   "cell_type": "code",
   "execution_count": null,
   "id": "2141fc1b",
   "metadata": {},
   "outputs": [],
   "source": [
    "body = json.dumps({\n",
    "    \"inputText\": question,\n",
    "})\n",
    "print(body)"
   ]
  },
  {
   "cell_type": "code",
   "execution_count": null,
   "id": "bb245038",
   "metadata": {},
   "outputs": [],
   "source": [
    "response = bedrock_runtime.invoke_model(body=body, modelId=\"amazon.titan-text-lite-v1\")"
   ]
  },
  {
   "cell_type": "code",
   "execution_count": null,
   "id": "9ca6113c",
   "metadata": {},
   "outputs": [],
   "source": [
    "response_body = json.loads(response.get('body').read())\n",
    "response_body"
   ]
  },
  {
   "cell_type": "markdown",
   "id": "16abbc77",
   "metadata": {},
   "source": [
    "# LLama 2"
   ]
  },
  {
   "cell_type": "markdown",
   "id": "2edde9fd",
   "metadata": {},
   "source": [
    "Llama 2 accept the following parameters:\n",
    "\n",
    "- `prompt`: string\n",
    "  - This represents the initial text or question provided to the system.\n",
    "- `temperature`: float\n",
    "  - This controls the randomness in the text generation process. A higher temperature results in more random outputs, while a lower temperature produces more predictable text.\n",
    "- `top_p`: float\n",
    "  - This parameter, also known as \"nucleus sampling,\" controls the diversity of the generated text. It sets a threshold to include the most likely next words, cumulatively adding up to the specified probability 'P'. A lower value ignores less probable options. Set to 0 or 1.0 to disable\n",
    "- `max_gen_len`: int\n",
    "  - This specifies the maximum number of tokens that the generated text can contain.\n",
    "   \n",
    "Thus, the model expects the following jsonified request body:\n",
    "```\n",
    "{\n",
    "    \"prompt\": \"string\",\n",
    "    \"temperature\": float,\n",
    "    \"top_p\": float,\n",
    "    \"max_gen_len\": int\n",
    "}\n",
    "```\n",
    "\n",
    "Default Values:\n",
    "\n",
    "\n",
    "| Category              | Parameter            | JSON object format | Minimum | Maximum | Default |\n",
    "|-----------------------|----------------------|--------------------|---------|---------|---------|\n",
    "| Randomness and diversity | Temperature        | `temperature`      | 0       | 1       | 0.5     |\n",
    "|                       | Top P               | `top_p`            | 0       | 1       | 0.9     |\n",
    "| Length                | Max generation length| `max_gen_len`      | 1       | 2048    | 512     |"
   ]
  },
  {
   "cell_type": "code",
   "execution_count": null,
   "id": "b2683f19",
   "metadata": {},
   "outputs": [],
   "source": [
    "prompt = \"Explain about Piscataway, NJ\""
   ]
  },
  {
   "cell_type": "code",
   "execution_count": null,
   "id": "b1847eb6",
   "metadata": {},
   "outputs": [],
   "source": [
    "body = json.dumps({\n",
    "    \"prompt\": prompt,\n",
    "    \"max_gen_len\": 256,\n",
    "    \"temperature\": 0.9,  # Let's push it to be creative\n",
    "    \"top_p\": 0.9,\n",
    "})\n"
   ]
  },
  {
   "cell_type": "code",
   "execution_count": null,
   "id": "08bc86f2",
   "metadata": {},
   "outputs": [],
   "source": [
    "response = bedrock_runtime.invoke_model(body=body, modelId=\"meta.llama3-8b-instruct-v1:0\")\n",
    "response_body = json.loads(response.get('body').read())\n",
    "response_body"
   ]
  },
  {
   "cell_type": "markdown",
   "id": "497ca57c",
   "metadata": {},
   "source": [
    "# PDF RAG"
   ]
  },
  {
   "cell_type": "code",
   "execution_count": null,
   "id": "1287e25a",
   "metadata": {},
   "outputs": [],
   "source": [
    "!pip install PyPDF2"
   ]
  },
  {
   "cell_type": "code",
   "execution_count": null,
   "id": "95767937",
   "metadata": {},
   "outputs": [],
   "source": [
    "file_name = 'Corporate_Travel_Policy.pdf'"
   ]
  },
  {
   "cell_type": "code",
   "execution_count": null,
   "id": "68da557b",
   "metadata": {},
   "outputs": [],
   "source": [
    "from PyPDF2 import PdfReader"
   ]
  },
  {
   "cell_type": "code",
   "execution_count": null,
   "id": "ac2c39e3",
   "metadata": {},
   "outputs": [],
   "source": [
    "reader = PdfReader(file_name)"
   ]
  },
  {
   "cell_type": "code",
   "execution_count": null,
   "id": "730e0687",
   "metadata": {},
   "outputs": [],
   "source": [
    "page = reader.pages[0]"
   ]
  },
  {
   "cell_type": "code",
   "execution_count": null,
   "id": "0c82c280",
   "metadata": {},
   "outputs": [],
   "source": [
    "text = page.extract_text().replace('\\n',' ')"
   ]
  },
  {
   "cell_type": "code",
   "execution_count": null,
   "id": "fbf8b69c",
   "metadata": {},
   "outputs": [],
   "source": [
    "text"
   ]
  },
  {
   "cell_type": "code",
   "execution_count": null,
   "id": "5842bfab",
   "metadata": {},
   "outputs": [],
   "source": [
    "query = \"How many working days of PTO do employees get per year?\""
   ]
  },
  {
   "cell_type": "code",
   "execution_count": null,
   "id": "ea18ab6f",
   "metadata": {},
   "outputs": [],
   "source": [
    "prompt = f\"Answer the following question: {query}. Here is the reference text:\\n{text}\""
   ]
  },
  {
   "cell_type": "code",
   "execution_count": null,
   "id": "872b6901",
   "metadata": {},
   "outputs": [],
   "source": [
    "body = json.dumps({\n",
    "    \"inputText\": prompt,\n",
    "    \"textGenerationConfig\": {\n",
    "        \"temperature\": 0,\n",
    "        \"maxTokenCount\": 4096\n",
    "    }\n",
    "})"
   ]
  },
  {
   "cell_type": "code",
   "execution_count": null,
   "id": "834f5d5a",
   "metadata": {},
   "outputs": [],
   "source": [
    "response = bedrock_runtime.invoke_model(body=body, modelId=\"amazon.titan-text-lite-v1\")\n",
    "response_body = json.loads(response.get('body').read())\n",
    "print(response_body[\"results\"][0][\"outputText\"])"
   ]
  },
  {
   "cell_type": "code",
   "execution_count": null,
   "id": "86fc3119",
   "metadata": {},
   "outputs": [],
   "source": []
  }
 ],
 "metadata": {
  "kernelspec": {
   "display_name": "Python 3 (ipykernel)",
   "language": "python",
   "name": "python3"
  },
  "language_info": {
   "codemirror_mode": {
    "name": "ipython",
    "version": 3
   },
   "file_extension": ".py",
   "mimetype": "text/x-python",
   "name": "python",
   "nbconvert_exporter": "python",
   "pygments_lexer": "ipython3",
   "version": "3.11.5"
  }
 },
 "nbformat": 4,
 "nbformat_minor": 5
}
