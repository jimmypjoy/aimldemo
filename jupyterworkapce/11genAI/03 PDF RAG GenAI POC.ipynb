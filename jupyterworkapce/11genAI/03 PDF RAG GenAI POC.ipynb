{
 "cells": [
  {
   "cell_type": "code",
   "execution_count": 1,
   "id": "196dee62",
   "metadata": {},
   "outputs": [
    {
     "name": "stderr",
     "output_type": "stream",
     "text": [
      "C:\\Users\\jimmy\\AppData\\Roaming\\Python\\Python311\\site-packages\\bitsandbytes\\cextension.py:34: UserWarning: The installed version of bitsandbytes was compiled without GPU support. 8-bit optimizers, 8-bit multiplication, and GPU quantization are unavailable.\n",
      "  warn(\"The installed version of bitsandbytes was compiled without GPU support. \"\n"
     ]
    },
    {
     "name": "stdout",
     "output_type": "stream",
     "text": [
      "'NoneType' object has no attribute 'cadam32bit_grad_fp32'\n"
     ]
    }
   ],
   "source": [
    "import fitz  # PyMuPDF\n",
    "import faiss\n",
    "import numpy as np\n",
    "from langchain.embeddings import HuggingFaceEmbeddings\n",
    "from langchain.vectorstores import FAISS\n",
    "from langchain.docstore import InMemoryDocstore\n",
    "from langchain.docstore.document import Document\n",
    "from langchain.llms import HuggingFaceEndpoint\n",
    "from langchain.chains import LLMChain\n",
    "from langchain.prompts import PromptTemplate\n",
    "import os\n",
    "from langchain.vectorstores import Chroma \n",
    "from langchain.embeddings.openai import OpenAIEmbeddings\n",
    "from langchain.chat_models import ChatOpenAI\n",
    "from langchain.vectorstores import Chroma \n",
    "from langchain.document_loaders import PyPDFLoader\n",
    "from langchain.text_splitter import RecursiveCharacterTextSplitter \n",
    "from langchain.chains import RetrievalQA\n",
    "from sklearn.feature_extraction.text import TfidfVectorizer\n",
    "from sklearn.metrics.pairwise import cosine_similarity\n",
    "from langchain_core.prompts import ChatPromptTemplate\n",
    "from langchain.chains import create_retrieval_chain\n",
    "from langchain.chains.combine_documents import create_stuff_documents_chain\n",
    "from langchain_core.documents import Document\n",
    "from langchain.chains.query_constructor.base import AttributeInfo\n",
    "from langchain.retrievers.self_query.base import SelfQueryRetriever\n",
    "from sklearn.metrics.pairwise import cosine_similarity\n",
    "from transformers import AutoModel, AutoTokenizer\n",
    "from langchain.document_loaders import TextLoader\n",
    "import torch\n",
    "from sentence_transformers import CrossEncoder"
   ]
  },
  {
   "cell_type": "code",
   "execution_count": 2,
   "id": "685b8f50",
   "metadata": {},
   "outputs": [],
   "source": [
    "def setup_environment():\n",
    "    import sys\n",
    "    sys.path.append('C:\\\\gitworkspace\\\\aimldemo\\\\jupyterworkapce')\n",
    "    import stratup_env_setup\n",
    "    stratup_env_setup.set_env()"
   ]
  },
  {
   "cell_type": "code",
   "execution_count": 3,
   "id": "852cde97",
   "metadata": {},
   "outputs": [],
   "source": [
    "setup_environment()"
   ]
  },
  {
   "cell_type": "code",
   "execution_count": 4,
   "id": "638985a5",
   "metadata": {},
   "outputs": [],
   "source": [
    "os.environ[\"KMP_DUPLICATE_LIB_OK\"] = \"TRUE\""
   ]
  },
  {
   "cell_type": "code",
   "execution_count": 5,
   "id": "1b0160b3",
   "metadata": {},
   "outputs": [
    {
     "name": "stderr",
     "output_type": "stream",
     "text": [
      "C:\\Users\\jimmy\\AppData\\Local\\Temp\\ipykernel_24920\\936897557.py:1: LangChainDeprecationWarning: The class `HuggingFaceEndpoint` was deprecated in LangChain 0.0.37 and will be removed in 1.0. An updated version of the class exists in the :class:`~langchain-huggingface package and should be used instead. To use it run `pip install -U :class:`~langchain-huggingface` and import as `from :class:`~langchain_huggingface import HuggingFaceEndpoint``.\n",
      "  llm_mistral = HuggingFaceEndpoint(repo_id=\"mistralai/Mistral-7B-Instruct-v0.2\")\n"
     ]
    },
    {
     "name": "stdout",
     "output_type": "stream",
     "text": [
      "The token has not been saved to the git credentials helper. Pass `add_to_git_credential=True` in this function directly or `--add-to-git-credential` if using via `huggingface-cli` if you want to set the git credential as well.\n",
      "Token is valid (permission: read).\n",
      "Your token has been saved to C:\\Users\\jimmy\\.cache\\huggingface\\token\n",
      "Login successful\n"
     ]
    }
   ],
   "source": [
    "llm_mistral = HuggingFaceEndpoint(repo_id=\"mistralai/Mistral-7B-Instruct-v0.2\")"
   ]
  },
  {
   "cell_type": "code",
   "execution_count": 6,
   "id": "73364088",
   "metadata": {},
   "outputs": [],
   "source": [
    "chunk_size=1000"
   ]
  },
  {
   "cell_type": "code",
   "execution_count": 7,
   "id": "e4bca28a",
   "metadata": {},
   "outputs": [],
   "source": [
    "pdf_file_path = \"doc_inputs/Form_2287.pdf\"\n",
    "#pdf_file_path = \"doc_inputs/Form_2287.txt\"\n",
    "#pdf_file_path = \"doc_inputs/John-NIV.pdf\"\n",
    "#pdf_file_path = 'doc_inputs/falcon-users-guide-2021-09.pdf'"
   ]
  },
  {
   "cell_type": "code",
   "execution_count": 8,
   "id": "86bf889e",
   "metadata": {},
   "outputs": [],
   "source": [
    "#query = \"In the event of default under the Third Party Loan, what will CDC or SBA may do?\"\n",
    "#query = 'what does this document say about Authority to Execute Agreement?'\n",
    "#query = 'What does this document say about waiver of Right to Indemnification by SBA or CDC.'\n",
    "#query = 'where can I find the standard price for Falcon 9 and Falcon Heavy launch services?'\n",
    "#query = 'SpaceX requires that customers verify the mass properties of their system through measurement before shipping it to the launch site.Is this true or false?'\n",
    "#query = 'What does this document say about Maturity and Balloon Payments?'\n",
    "query = 'Any balloon payment for the Third Party Loan must be disclosed to whom?'\n",
    "#query = 'Matur ity and Balloon Payments.   The Third Party Loan  must ha ve a term'\n",
    "#query = 'Hello How are you?'"
   ]
  },
  {
   "cell_type": "code",
   "execution_count": 9,
   "id": "685110c2",
   "metadata": {},
   "outputs": [],
   "source": [
    "top_n=10"
   ]
  },
  {
   "cell_type": "markdown",
   "id": "de87fffd",
   "metadata": {},
   "source": [
    "# Mistral, Chroma DB and PyPDFLoader"
   ]
  },
  {
   "cell_type": "code",
   "execution_count": 10,
   "id": "2cea23f8",
   "metadata": {},
   "outputs": [
    {
     "data": {
      "text/plain": [
       "'Any balloon payment for the Third Party Loan must be disclosed to whom?'"
      ]
     },
     "execution_count": 10,
     "metadata": {},
     "output_type": "execute_result"
    }
   ],
   "source": [
    "query"
   ]
  },
  {
   "cell_type": "code",
   "execution_count": 11,
   "id": "d4302a89",
   "metadata": {},
   "outputs": [
    {
     "name": "stdout",
     "output_type": "stream",
     "text": [
      "Loading PDF file\n"
     ]
    }
   ],
   "source": [
    "if pdf_file_path.endswith(\".pdf\"):\n",
    "    # Load PDF file\n",
    "    print('Loading PDF file')\n",
    "    pdf_loader = PyPDFLoader(pdf_file_path)\n",
    "    documents = pdf_loader.load()\n",
    "elif pdf_file_path.endswith(\".txt\"):\n",
    "    # Load TXT file\n",
    "    print('Loading text file')\n",
    "    txt_loader = TextLoader(pdf_file_path)\n",
    "    documents = txt_loader.load()\n",
    "else:\n",
    "    raise ValueError(\"Unsupported file format. Please provide a .pdf or .txt file.\")"
   ]
  },
  {
   "cell_type": "code",
   "execution_count": 12,
   "id": "ce776593",
   "metadata": {},
   "outputs": [],
   "source": [
    "text_splitter = RecursiveCharacterTextSplitter(chunk_size=chunk_size, chunk_overlap=200)"
   ]
  },
  {
   "cell_type": "code",
   "execution_count": 13,
   "id": "45c0474f",
   "metadata": {},
   "outputs": [],
   "source": [
    "chunks = text_splitter.split_documents(documents)"
   ]
  },
  {
   "cell_type": "code",
   "execution_count": 14,
   "id": "43070a44",
   "metadata": {},
   "outputs": [
    {
     "data": {
      "text/plain": [
       "langchain_core.documents.base.Document"
      ]
     },
     "execution_count": 14,
     "metadata": {},
     "output_type": "execute_result"
    }
   ],
   "source": [
    "type(chunks[0])"
   ]
  },
  {
   "cell_type": "code",
   "execution_count": 15,
   "id": "a6f7eaf4",
   "metadata": {},
   "outputs": [
    {
     "name": "stderr",
     "output_type": "stream",
     "text": [
      "C:\\Users\\jimmy\\AppData\\Local\\Temp\\ipykernel_24920\\2497576997.py:1: LangChainDeprecationWarning: The class `OpenAIEmbeddings` was deprecated in LangChain 0.0.9 and will be removed in 1.0. An updated version of the class exists in the :class:`~langchain-openai package and should be used instead. To use it run `pip install -U :class:`~langchain-openai` and import as `from :class:`~langchain_openai import OpenAIEmbeddings``.\n",
      "  embeddings = OpenAIEmbeddings()\n"
     ]
    }
   ],
   "source": [
    "embeddings = OpenAIEmbeddings()"
   ]
  },
  {
   "cell_type": "code",
   "execution_count": 16,
   "id": "e7ddb13d",
   "metadata": {},
   "outputs": [],
   "source": [
    "# Get embeddings for the query\n",
    "query_embedding = embeddings.embed_query(query)"
   ]
  },
  {
   "cell_type": "code",
   "execution_count": 17,
   "id": "07e04d2f",
   "metadata": {},
   "outputs": [
    {
     "name": "stdout",
     "output_type": "stream",
     "text": [
      "Top Chunk 1: Page number: 2\n",
      "exercise any cross -default, \"deem at -risk,\" or any other provisions in documents evidencing the Third \n",
      "Party Loan  or Third Party Lender Lien which allow Third Party Lender to make demand on the \n",
      "Third Party Loan prior to maturity unless the Third Party L oan is in material  default .   \n",
      " \n",
      " e. Matur ity and Balloon Payments.   The Third Party Loan  must ha ve a term of at \n",
      "least 7 years ( when the 504 loan is for a term of 10 years), or a term of at least 10 years (when the \n",
      "504 loan is for 20 or 25 years ).  If the Third Party Lender has made more than one loan, then  an \n",
      "overall loan maturity must be calculated , taking into account the amounts and maturities  of each \n",
      "loan.  Any balloon payment  for the Third Party Loan must be clearly  identifie d and disclosed to \n",
      "SBA and approved at application or subsequently a pproved by SBA .  \n",
      " \n",
      " f. Reasonable Interest Rate.   The Third Party Loan has a reasonable interest rate\n",
      "Cosine Similarity: 85.1362\n",
      "####################################################################################################\n",
      "Top Chunk 2: Page number: 0\n",
      "Term of Third Party Loan :  __________________________________  \n",
      "If Real Property --  Project Property Address:  \n",
      "  Street address:  _____________________________________  \n",
      "  City, State , Zip  code:    _____________________________________  \n",
      "  Attach Legal description as an e xhibit . \n",
      "If Pers onal Property:  Describe property, including name of manufacturer, name of equipment, \n",
      "and applicable serial number(s) or other identifying numbers  for property valued at $5000 or \n",
      "more .   Attach a detailed  description as an exhibit .   \n",
      " \n",
      "2.  The parties have required the Borrower to grant liens on the Project Property to secure the separate loans \n",
      "advanced by the parties ( “Common Collateral ”), and the lien of the  CDC ( “CDC Lien ”) will be junior and \n",
      "subordinate to the lien of  the Third Party Lender ( “Third Party Lender Lien ”), unless Third Party Lender, \n",
      "CDC and SBA agree otherwise in writing.\n",
      "Cosine Similarity: 83.1290\n",
      "####################################################################################################\n",
      "Top Chunk 3: Page number: 3\n",
      "Party Loan  current or the purchase price of that loan will be net of all amounts attributable to the \n",
      "Default Charges so subordinated to the 504 Loan and the CDC Lien.  Third Party Lender further \n",
      "agrees that if it receives from CDC  or SBA any  amounts attributable to such Default Charges , Third \n",
      "Party Lender holds such funds in trust for SBA and will remit such funds to SBA as soon as possible.   \n",
      "In addition, Third Party Lender shall charge as against SBA only the interest rate on the Third Party \n",
      "Loan that was in effect before the date of Borrower’s default.  Should CDC or SBA not purchase the \n",
      "Third Party Loan but rather bring the Third Party Loan current , Default Charges on the Third P arty \n",
      "Loan may remain due and owing from the Borrower.    \n",
      " \n",
      "  d. The Third Party Lender agrees:  \n",
      "  (1) If the Third Party Lender sells its Note (other than when liquidating the \n",
      "Third Party Loan), then the Third Party Lender must provide CDC/SBA, within fifteen (15) days of\n",
      "Cosine Similarity: 82.7553\n",
      "####################################################################################################\n",
      "Top Chunk 4: Page number: 1\n",
      "income or profits from, the Common Collateral . \n",
      " \n",
      "5. Compliance with 504 Loan Program Requirements.   Third Party Lender agrees that all documents \n",
      "evidencing the Third Party Loan  and the Third Party Lender Lien will comply with the 504 Loan Program \n",
      "Requirements as established by SBA , including those identified in the following subparagraphs , and, in the \n",
      "event one or more of the provisions in such documents do not com ply with these 504 Loan Program \n",
      "Requirements, Third Party Lender waive s any right t o enforce such provisions  while  the 504 Loan has any \n",
      "unpaid balance  and agrees that it must act in a commercially reasonable manner with regard to any \n",
      "enforcement action .    \n",
      " \n",
      "a. No Open -Ended Features and No Future Advances .  The Third Party Loan must not \n",
      "be open- ended.  After completion of the Project , the Third Party Lender may not make future \n",
      "advances under the Third P arty Loan except for reasonable cost s of collection, ma intenance, and\n",
      "Cosine Similarity: 82.3104\n",
      "####################################################################################################\n",
      "Top Chunk 5: Page number: 3\n",
      "(1) If the Third Party Lender sells its Note (other than when liquidating the \n",
      "Third Party Loan), then the Third Party Lender must provide CDC/SBA, within fifteen (15) days of \n",
      "the sale, with written notice of the purchaser's name, address and telephone number and confirmation \n",
      "that the purchaser has received a copy of the executed Third Party Lender Agreement.  \n",
      "    (2) If the Third Party Loan is in default and the Third Party Lender, as \n",
      "part of its liquidation strategy,  \n",
      " \n",
      "   (i)  proposes to sell its note , or  \n",
      " \n",
      "   (ii) receives an offer from a third party , then the Third Party Lender must \n",
      "provide CDC/SBA with the option to purchase the note at the same price offered by the \n",
      "potential purchaser, net any D efault C harges  per paragra ph 9(c) .  SBA will have forty-\n",
      "five (45) days from receipt of the notice from the Third Party Lender to exercise its \n",
      "option to purchase the note.  If SBA does not exercise its option and the Third Party\n",
      "Cosine Similarity: 82.2352\n",
      "####################################################################################################\n",
      "Top Chunk 6: Page number: 1\n",
      "be open- ended.  After completion of the Project , the Third Party Lender may not make future \n",
      "advances under the Third P arty Loan except for reasonable cost s of collection, ma intenance, and \n",
      "protection of the Third Party Loan  and Third Party  Lender  Lien.  \n",
      " \n",
      " b. No Early Call or Demand Provisions.    Third Party Lender agrees that  documents  \n",
      "evidencing the Third Party Loan and the Third Party Lender Lien do not  contain an early  call feature \n",
      "or any provision which allows Third Party Lender   to make demand under the Third Party Lender \n",
      "Loan other than when there is a material default under the terms of its Third Party Loan documents ,  \n",
      "which shall include , but not be limited to, failure to make timely payments  on the Third Party Loan ,\n",
      "Cosine Similarity: 82.2292\n",
      "####################################################################################################\n",
      "Top Chunk 7: Page number: 3\n",
      "five (45) days from receipt of the notice from the Third Party Lender to exercise its \n",
      "option to purchase the note.  If SBA does not exercise its option and the Third Party \n",
      "Lender sells its note, then the Third Party Lender mus t provide CDC/SBA, within fifteen \n",
      "(15) days of the sale, with written notice of the purchaser's name, address and telephone \n",
      "number, and must provide the purchaser with a copy of the executed Third Party Lender \n",
      "Agreement.   \n",
      " \n",
      "  e. If the Third Party Lender s ells or otherwise transfers its note to a third party, then \n",
      "any Default Charges , including, but not limited to, prepayment penalties, late fees, other Default \n",
      "Charges , and escalated interest after default due under the Third Party Loan must be subordinate to \n",
      "the amounts outstanding on the 504 L oan and/or CDC Lien.  \n",
      "  \n",
      "  f. If the Third Party Lender loan documents contain a swap component or hedging\n",
      "Cosine Similarity: 82.1401\n",
      "####################################################################################################\n",
      "Top Chunk 8: Page number: 2\n",
      "liquidati on, or has insufficient value to justify the cost of collection, then the Third Party Lender is not \n",
      "required to liquidate such collateral , provided the Third Party Lender notifies CDC/SBA.   \n",
      " \n",
      "7. Notice of Default under the Third Party Loan.    Within thirty  (30) days after the expiration of any \n",
      "cure period  for any  continuing material default of the  Third Party Loan or Third Party Lender Lien, Third \n",
      "Party Lender must provide written notice (referencing SBA’s loan number for the 504 Loan) of the default to  \n",
      "CDC  and SBA .  At least sixty 60 days prior to any legal proceeding s against or liquidation of t he Common \n",
      "Collateral  (not including sending a demand letter) , Third Party Lender must provide SBA with written notice \n",
      "of its intent to do so. \n",
      " \n",
      "8. Limitation on  Defa ult Interest Rate.    Third Party Lender may not escalate the rate of interest upon \n",
      "default to a rate greater than the maximum rate published by SBA in the Federal Register .  SBA will only pay\n",
      "Cosine Similarity: 82.0197\n",
      "####################################################################################################\n",
      "Top Chunk 9: Page number: 4\n",
      "12. Bank Regulatory Issues.   If Third Party Lender is regulated by one of the Federal functional \n",
      "regulators (Comptroller of the Currency, Federal Deposit Insurance Corporation, or National Credit \n",
      "Union Administration), Third Party Lender represents that it is subject to the Joint Final Rule on \n",
      "Customer Identification Programs (CIP) in 31 C.F.R. 103.121 and that it or its agent will perform with \n",
      "respect to the Borrower the specified requirements of its CIP.  \n",
      " \n",
      "13. No Implied Third Party Beneficiaries.       To the extent there is a conflict between this Agreement \n",
      "and any provision in any agreement either Party may have with a third party, including but not limited to, \n",
      "Borrower, the terms and conditions in this Agreement shall supersede any such provision.  The parties agree \n",
      "that SBA may enforce this agreement as a third party beneficiary, and further  agree  that t his Agreement\n",
      "Cosine Similarity: 81.8796\n",
      "####################################################################################################\n",
      "Top Chunk 10: Page number: 1\n",
      "to the 504 Loan.  \n",
      " \n",
      "2. Subordination of 504 Loan.  CDC agrees to make the 504 Loan to the Borrower , subject to SBA’s \n",
      "approval , and accept a junior and subordinate lien position in the Com mon Collateral upon the condition s that \n",
      "Third Party Lender executes this Agreement and disburses the  Third Party Loan  according to the terms \n",
      "represented to CDC and SBA .   \n",
      " \n",
      "3.   Accurate Information.  The Third Party Lender warrants and represents that all i nformation provided \n",
      "by the Third Party Lender  to CDC, including, without limitation, all information regarding the Borrower’s \n",
      "financial condition, is accurate to the best of its knowledge and that Third Party Lender has not withheld any \n",
      "material informatio n.  Third Party Lender acknowledges that for purpose of this transaction, CDC is acting on \n",
      "behalf of SBA, an agency in the United States Government, except that SBA accepts no liability or\n",
      "Cosine Similarity: 81.3552\n",
      "####################################################################################################\n"
     ]
    }
   ],
   "source": [
    "# Print top 3 similar chunks before persisting into DB\n",
    "# Calculate the similarity for each chunk and store it along with the chunk\n",
    "similarities = []\n",
    "for i, chunk in enumerate(chunks):\n",
    "    # Get embedding for the chunk\n",
    "    chunk_embedding = embeddings.embed_query(chunk.page_content)\n",
    "    \n",
    "    # Calculate cosine similarity between query and chunk\n",
    "    similarity = cosine_similarity([query_embedding], [chunk_embedding])[0][0]\n",
    "    \n",
    "    # Store similarity, chunk content, and metadata for sorting\n",
    "    similarities.append((similarity, chunk.page_content, chunk.metadata))\n",
    "    \n",
    "# Sort the chunks based on similarity in descending order and get the top 3\n",
    "top_chunks = sorted(similarities, key=lambda x: x[0], reverse=True)[:top_n]\n",
    "\n",
    "# Print the top 3 chunks\n",
    "for i, (similarity, content, metadata) in enumerate(top_chunks, start=1):\n",
    "    page_number = metadata.get('page', 'N/A')\n",
    "    print(f\"Top Chunk {i}: Page number: {page_number}\")\n",
    "    print(content)\n",
    "    print(f\"Cosine Similarity: {similarity * 100:.4f}\")\n",
    "    print(\"#\" * 100)  # Optional separator for readability"
   ]
  },
  {
   "cell_type": "code",
   "execution_count": 18,
   "id": "a6e9ef6e",
   "metadata": {},
   "outputs": [],
   "source": [
    "###################################################"
   ]
  },
  {
   "cell_type": "markdown",
   "id": "9cadb4c3",
   "metadata": {},
   "source": [
    "* Re ranking the top n results based on CrossEncoder"
   ]
  },
  {
   "cell_type": "code",
   "execution_count": 19,
   "id": "8a3da663",
   "metadata": {},
   "outputs": [],
   "source": [
    "cross_encoder = CrossEncoder('cross-encoder/ms-marco-MiniLM-L-6-v2')"
   ]
  },
  {
   "cell_type": "code",
   "execution_count": 20,
   "id": "194b5385",
   "metadata": {},
   "outputs": [],
   "source": [
    "input_pairs = [(query, content) for _, content, _ in top_chunks]"
   ]
  },
  {
   "cell_type": "code",
   "execution_count": 21,
   "id": "5c81f4d8",
   "metadata": {},
   "outputs": [],
   "source": [
    "cross_encoder_scores = cross_encoder.predict(input_pairs)"
   ]
  },
  {
   "cell_type": "code",
   "execution_count": 22,
   "id": "92c6fc16",
   "metadata": {},
   "outputs": [
    {
     "name": "stdout",
     "output_type": "stream",
     "text": [
      "\n",
      "CrossEncoder Scores for Top Chunks:\n",
      "Top Chunk 1: Page number: 2\n",
      "exercise any cross -default, \"deem at -risk,\" or any other provisions in documents evidencing the Third \n",
      "Party Loan  or Third Party Lender Lien which allow Third Party Lender to make demand on the \n",
      "Third Party Loan prior to maturity unless the Third Party L oan is in material  default .   \n",
      " \n",
      " e. Matur ity and Balloon Payments.   The Third Party Loan  must ha ve a term of at \n",
      "least 7 years ( when the 504 loan is for a term of 10 years), or a term of at least 10 years (when the \n",
      "504 loan is for 20 or 25 years ).  If the Third Party Lender has made more than one loan, then  an \n",
      "overall loan maturity must be calculated , taking into account the amounts and maturities  of each \n",
      "loan.  Any balloon payment  for the Third Party Loan must be clearly  identifie d and disclosed to \n",
      "SBA and approved at application or subsequently a pproved by SBA .  \n",
      " \n",
      " f. Reasonable Interest Rate.   The Third Party Loan has a reasonable interest rate\n",
      "Cosine Similarity: 85.1362\n",
      "CrossEncoder Score: 6.8206\n",
      "####################################################################################################\n",
      "Top Chunk 2: Page number: 0\n",
      "Term of Third Party Loan :  __________________________________  \n",
      "If Real Property --  Project Property Address:  \n",
      "  Street address:  _____________________________________  \n",
      "  City, State , Zip  code:    _____________________________________  \n",
      "  Attach Legal description as an e xhibit . \n",
      "If Pers onal Property:  Describe property, including name of manufacturer, name of equipment, \n",
      "and applicable serial number(s) or other identifying numbers  for property valued at $5000 or \n",
      "more .   Attach a detailed  description as an exhibit .   \n",
      " \n",
      "2.  The parties have required the Borrower to grant liens on the Project Property to secure the separate loans \n",
      "advanced by the parties ( “Common Collateral ”), and the lien of the  CDC ( “CDC Lien ”) will be junior and \n",
      "subordinate to the lien of  the Third Party Lender ( “Third Party Lender Lien ”), unless Third Party Lender, \n",
      "CDC and SBA agree otherwise in writing.\n",
      "Cosine Similarity: 83.1290\n",
      "CrossEncoder Score: -4.7315\n",
      "####################################################################################################\n",
      "Top Chunk 3: Page number: 3\n",
      "Party Loan  current or the purchase price of that loan will be net of all amounts attributable to the \n",
      "Default Charges so subordinated to the 504 Loan and the CDC Lien.  Third Party Lender further \n",
      "agrees that if it receives from CDC  or SBA any  amounts attributable to such Default Charges , Third \n",
      "Party Lender holds such funds in trust for SBA and will remit such funds to SBA as soon as possible.   \n",
      "In addition, Third Party Lender shall charge as against SBA only the interest rate on the Third Party \n",
      "Loan that was in effect before the date of Borrower’s default.  Should CDC or SBA not purchase the \n",
      "Third Party Loan but rather bring the Third Party Loan current , Default Charges on the Third P arty \n",
      "Loan may remain due and owing from the Borrower.    \n",
      " \n",
      "  d. The Third Party Lender agrees:  \n",
      "  (1) If the Third Party Lender sells its Note (other than when liquidating the \n",
      "Third Party Loan), then the Third Party Lender must provide CDC/SBA, within fifteen (15) days of\n",
      "Cosine Similarity: 82.7553\n",
      "CrossEncoder Score: -1.0530\n",
      "####################################################################################################\n",
      "Top Chunk 4: Page number: 1\n",
      "income or profits from, the Common Collateral . \n",
      " \n",
      "5. Compliance with 504 Loan Program Requirements.   Third Party Lender agrees that all documents \n",
      "evidencing the Third Party Loan  and the Third Party Lender Lien will comply with the 504 Loan Program \n",
      "Requirements as established by SBA , including those identified in the following subparagraphs , and, in the \n",
      "event one or more of the provisions in such documents do not com ply with these 504 Loan Program \n",
      "Requirements, Third Party Lender waive s any right t o enforce such provisions  while  the 504 Loan has any \n",
      "unpaid balance  and agrees that it must act in a commercially reasonable manner with regard to any \n",
      "enforcement action .    \n",
      " \n",
      "a. No Open -Ended Features and No Future Advances .  The Third Party Loan must not \n",
      "be open- ended.  After completion of the Project , the Third Party Lender may not make future \n",
      "advances under the Third P arty Loan except for reasonable cost s of collection, ma intenance, and\n",
      "Cosine Similarity: 82.3104\n",
      "CrossEncoder Score: -1.3638\n",
      "####################################################################################################\n",
      "Top Chunk 5: Page number: 3\n",
      "(1) If the Third Party Lender sells its Note (other than when liquidating the \n",
      "Third Party Loan), then the Third Party Lender must provide CDC/SBA, within fifteen (15) days of \n",
      "the sale, with written notice of the purchaser's name, address and telephone number and confirmation \n",
      "that the purchaser has received a copy of the executed Third Party Lender Agreement.  \n",
      "    (2) If the Third Party Loan is in default and the Third Party Lender, as \n",
      "part of its liquidation strategy,  \n",
      " \n",
      "   (i)  proposes to sell its note , or  \n",
      " \n",
      "   (ii) receives an offer from a third party , then the Third Party Lender must \n",
      "provide CDC/SBA with the option to purchase the note at the same price offered by the \n",
      "potential purchaser, net any D efault C harges  per paragra ph 9(c) .  SBA will have forty-\n",
      "five (45) days from receipt of the notice from the Third Party Lender to exercise its \n",
      "option to purchase the note.  If SBA does not exercise its option and the Third Party\n",
      "Cosine Similarity: 82.2352\n",
      "CrossEncoder Score: -1.2119\n",
      "####################################################################################################\n",
      "Top Chunk 6: Page number: 1\n",
      "be open- ended.  After completion of the Project , the Third Party Lender may not make future \n",
      "advances under the Third P arty Loan except for reasonable cost s of collection, ma intenance, and \n",
      "protection of the Third Party Loan  and Third Party  Lender  Lien.  \n",
      " \n",
      " b. No Early Call or Demand Provisions.    Third Party Lender agrees that  documents  \n",
      "evidencing the Third Party Loan and the Third Party Lender Lien do not  contain an early  call feature \n",
      "or any provision which allows Third Party Lender   to make demand under the Third Party Lender \n",
      "Loan other than when there is a material default under the terms of its Third Party Loan documents ,  \n",
      "which shall include , but not be limited to, failure to make timely payments  on the Third Party Loan ,\n",
      "Cosine Similarity: 82.2292\n",
      "CrossEncoder Score: -0.9273\n",
      "####################################################################################################\n",
      "Top Chunk 7: Page number: 3\n",
      "five (45) days from receipt of the notice from the Third Party Lender to exercise its \n",
      "option to purchase the note.  If SBA does not exercise its option and the Third Party \n",
      "Lender sells its note, then the Third Party Lender mus t provide CDC/SBA, within fifteen \n",
      "(15) days of the sale, with written notice of the purchaser's name, address and telephone \n",
      "number, and must provide the purchaser with a copy of the executed Third Party Lender \n",
      "Agreement.   \n",
      " \n",
      "  e. If the Third Party Lender s ells or otherwise transfers its note to a third party, then \n",
      "any Default Charges , including, but not limited to, prepayment penalties, late fees, other Default \n",
      "Charges , and escalated interest after default due under the Third Party Loan must be subordinate to \n",
      "the amounts outstanding on the 504 L oan and/or CDC Lien.  \n",
      "  \n",
      "  f. If the Third Party Lender loan documents contain a swap component or hedging\n",
      "Cosine Similarity: 82.1401\n",
      "CrossEncoder Score: -1.1913\n",
      "####################################################################################################\n",
      "Top Chunk 8: Page number: 2\n",
      "liquidati on, or has insufficient value to justify the cost of collection, then the Third Party Lender is not \n",
      "required to liquidate such collateral , provided the Third Party Lender notifies CDC/SBA.   \n",
      " \n",
      "7. Notice of Default under the Third Party Loan.    Within thirty  (30) days after the expiration of any \n",
      "cure period  for any  continuing material default of the  Third Party Loan or Third Party Lender Lien, Third \n",
      "Party Lender must provide written notice (referencing SBA’s loan number for the 504 Loan) of the default to  \n",
      "CDC  and SBA .  At least sixty 60 days prior to any legal proceeding s against or liquidation of t he Common \n",
      "Collateral  (not including sending a demand letter) , Third Party Lender must provide SBA with written notice \n",
      "of its intent to do so. \n",
      " \n",
      "8. Limitation on  Defa ult Interest Rate.    Third Party Lender may not escalate the rate of interest upon \n",
      "default to a rate greater than the maximum rate published by SBA in the Federal Register .  SBA will only pay\n",
      "Cosine Similarity: 82.0197\n",
      "CrossEncoder Score: -0.8467\n",
      "####################################################################################################\n",
      "Top Chunk 9: Page number: 4\n",
      "12. Bank Regulatory Issues.   If Third Party Lender is regulated by one of the Federal functional \n",
      "regulators (Comptroller of the Currency, Federal Deposit Insurance Corporation, or National Credit \n",
      "Union Administration), Third Party Lender represents that it is subject to the Joint Final Rule on \n",
      "Customer Identification Programs (CIP) in 31 C.F.R. 103.121 and that it or its agent will perform with \n",
      "respect to the Borrower the specified requirements of its CIP.  \n",
      " \n",
      "13. No Implied Third Party Beneficiaries.       To the extent there is a conflict between this Agreement \n",
      "and any provision in any agreement either Party may have with a third party, including but not limited to, \n",
      "Borrower, the terms and conditions in this Agreement shall supersede any such provision.  The parties agree \n",
      "that SBA may enforce this agreement as a third party beneficiary, and further  agree  that t his Agreement\n",
      "Cosine Similarity: 81.8796\n",
      "CrossEncoder Score: -2.0163\n",
      "####################################################################################################\n",
      "Top Chunk 10: Page number: 1\n",
      "to the 504 Loan.  \n",
      " \n",
      "2. Subordination of 504 Loan.  CDC agrees to make the 504 Loan to the Borrower , subject to SBA’s \n",
      "approval , and accept a junior and subordinate lien position in the Com mon Collateral upon the condition s that \n",
      "Third Party Lender executes this Agreement and disburses the  Third Party Loan  according to the terms \n",
      "represented to CDC and SBA .   \n",
      " \n",
      "3.   Accurate Information.  The Third Party Lender warrants and represents that all i nformation provided \n",
      "by the Third Party Lender  to CDC, including, without limitation, all information regarding the Borrower’s \n",
      "financial condition, is accurate to the best of its knowledge and that Third Party Lender has not withheld any \n",
      "material informatio n.  Third Party Lender acknowledges that for purpose of this transaction, CDC is acting on \n",
      "behalf of SBA, an agency in the United States Government, except that SBA accepts no liability or\n",
      "Cosine Similarity: 81.3552\n",
      "CrossEncoder Score: -1.3299\n",
      "####################################################################################################\n"
     ]
    }
   ],
   "source": [
    "# Print the CrossEncoder scores along with the chunk details\n",
    "print(\"\\nCrossEncoder Scores for Top Chunks:\")\n",
    "for i, (score, (similarity, content, metadata)) in enumerate(zip(cross_encoder_scores, top_chunks), start=1):\n",
    "    page_number = metadata.get('page', 'N/A')\n",
    "    print(f\"Top Chunk {i}: Page number: {page_number}\")\n",
    "    print(content)\n",
    "    print(f\"Cosine Similarity: {similarity * 100:.4f}\")\n",
    "    print(f\"CrossEncoder Score: {score:.4f}\")\n",
    "    print(\"#\" * 100)  # Optional separator for readability"
   ]
  },
  {
   "cell_type": "code",
   "execution_count": 23,
   "id": "a3d9ebf3",
   "metadata": {},
   "outputs": [],
   "source": [
    "######################### Cosine similarity with BERT Higgingface "
   ]
  },
  {
   "cell_type": "code",
   "execution_count": 24,
   "id": "a6037fb2",
   "metadata": {},
   "outputs": [],
   "source": [
    "from sentence_transformers import SentenceTransformer"
   ]
  },
  {
   "cell_type": "code",
   "execution_count": 25,
   "id": "5cc39eda",
   "metadata": {},
   "outputs": [
    {
     "name": "stderr",
     "output_type": "stream",
     "text": [
      "No sentence-transformers model found with name bert-base-uncased. Creating a new one with mean pooling.\n"
     ]
    }
   ],
   "source": [
    "bert_model = SentenceTransformer('bert-base-uncased')"
   ]
  },
  {
   "cell_type": "code",
   "execution_count": 26,
   "id": "4ae15f2d",
   "metadata": {},
   "outputs": [
    {
     "data": {
      "text/plain": [
       "'Any balloon payment for the Third Party Loan must be disclosed to whom?'"
      ]
     },
     "execution_count": 26,
     "metadata": {},
     "output_type": "execute_result"
    }
   ],
   "source": [
    "query"
   ]
  },
  {
   "cell_type": "code",
   "execution_count": 27,
   "id": "f047156e",
   "metadata": {},
   "outputs": [],
   "source": [
    "query_embedding = bert_model.encode(query, convert_to_tensor=True)\n",
    "query_embedding = query_embedding if isinstance(query_embedding, list) else query_embedding.cpu().numpy()"
   ]
  },
  {
   "cell_type": "code",
   "execution_count": 28,
   "id": "edab07a3",
   "metadata": {},
   "outputs": [],
   "source": [
    "# Calculate the similarity for each chunk and store it along with the chunk\n",
    "similarities = []\n",
    "for i, chunk in enumerate(chunks):\n",
    "    # Get BERT embedding for the chunk and convert to a NumPy array\n",
    "    chunk_embedding = bert_model.encode(chunk.page_content, convert_to_tensor=True)\n",
    "    chunk_embedding = chunk_embedding if isinstance(chunk_embedding, list) else chunk_embedding.cpu().numpy()\n",
    "    \n",
    "    # Calculate cosine similarity between query and chunk embeddings\n",
    "    similarity = cosine_similarity([query_embedding], [chunk_embedding])[0][0]\n",
    "\n",
    "    # Store similarity, chunk content, and metadata for sorting\n",
    "    similarities.append((similarity, chunk.page_content, chunk.metadata))"
   ]
  },
  {
   "cell_type": "code",
   "execution_count": 29,
   "id": "aab37f01",
   "metadata": {},
   "outputs": [],
   "source": [
    "# Sort the chunks based on similarity in descending order and get the top 3\n",
    "top_chunks = sorted(similarities, key=lambda x: x[0], reverse=True)[:top_n]"
   ]
  },
  {
   "cell_type": "code",
   "execution_count": 30,
   "id": "be6e1467",
   "metadata": {},
   "outputs": [
    {
     "name": "stdout",
     "output_type": "stream",
     "text": [
      "Top Chunk 1: Page number: 2\n",
      "liquidati on, or has insufficient value to justify the cost of collection, then the Third Party Lender is not \n",
      "required to liquidate such collateral , provided the Third Party Lender notifies CDC/SBA.   \n",
      " \n",
      "7. Notice of Default under the Third Party Loan.    Within thirty  (30) days after the expiration of any \n",
      "cure period  for any  continuing material default of the  Third Party Loan or Third Party Lender Lien, Third \n",
      "Party Lender must provide written notice (referencing SBA’s loan number for the 504 Loan) of the default to  \n",
      "CDC  and SBA .  At least sixty 60 days prior to any legal proceeding s against or liquidation of t he Common \n",
      "Collateral  (not including sending a demand letter) , Third Party Lender must provide SBA with written notice \n",
      "of its intent to do so. \n",
      " \n",
      "8. Limitation on  Defa ult Interest Rate.    Third Party Lender may not escalate the rate of interest upon \n",
      "default to a rate greater than the maximum rate published by SBA in the Federal Register .  SBA will only pay\n",
      "Cosine Similarity: 82.1936\n",
      "####################################################################################################\n",
      "Top Chunk 2: Page number: 3\n",
      "Party Loan  current or the purchase price of that loan will be net of all amounts attributable to the \n",
      "Default Charges so subordinated to the 504 Loan and the CDC Lien.  Third Party Lender further \n",
      "agrees that if it receives from CDC  or SBA any  amounts attributable to such Default Charges , Third \n",
      "Party Lender holds such funds in trust for SBA and will remit such funds to SBA as soon as possible.   \n",
      "In addition, Third Party Lender shall charge as against SBA only the interest rate on the Third Party \n",
      "Loan that was in effect before the date of Borrower’s default.  Should CDC or SBA not purchase the \n",
      "Third Party Loan but rather bring the Third Party Loan current , Default Charges on the Third P arty \n",
      "Loan may remain due and owing from the Borrower.    \n",
      " \n",
      "  d. The Third Party Lender agrees:  \n",
      "  (1) If the Third Party Lender sells its Note (other than when liquidating the \n",
      "Third Party Loan), then the Third Party Lender must provide CDC/SBA, within fifteen (15) days of\n",
      "Cosine Similarity: 81.9524\n",
      "####################################################################################################\n",
      "Top Chunk 3: Page number: 2\n",
      "SBA and approved at application or subsequently a pproved by SBA .  \n",
      " \n",
      " f. Reasonable Interest Rate.   The Third Party Loan has a reasonable interest rate \n",
      "which does not and will not exceed the maximum interest rate for Third Party Loan s from \n",
      "commercial financial institutions as published periodically by SBA in the Federal Register  and in \n",
      "effect as of the date of this Agreement.    \n",
      " \n",
      "6. Marshaling of Assets.   If the Third Party Lender take s additional collateral as security for the Third \n",
      "Party Loan , in the case of liquidation, any proceeds received from such additional collateral, m ust be applied \n",
      "to the Third Party Lender's Loan prior to the proceeds from the liquidation of the Common Collateral held by \n",
      "the CDC/SBA and the Third Party Lender.   If the additional collateral no longer exists at the time of \n",
      "liquidati on, or has insufficient value to justify the cost of collection, then the Third Party Lender is not\n",
      "Cosine Similarity: 81.9285\n",
      "####################################################################################################\n",
      "Top Chunk 4: Page number: 2\n",
      "SBA F orm 2287 ( 04-18)            3 \n",
      " Previous Editions Obsolete  failure to pay taxes  when due or  violation of  any financi al covenants which would cause a prudent  \n",
      "lender to believe that the  prospect of payment or performance of the Third Party Note is impaired. \n",
      " \n",
      " c. No Cross -Collateralization.    Third Party Lender agrees that  the Common Collateral \n",
      "will only secure its  Third Party Loan  and the Common Collateral is not currently, and will not be \n",
      "used in the future, as security for any other financing provided by Third Part y Lender to Borrower \n",
      "that purports to be  in a superior position to that of the CDC Lien, unless authorized in writing by \n",
      "CDC and SBA.  \n",
      " \n",
      " d. No Cross -Default.    During the term of the 504  Loan, Third Party Lender will not \n",
      "exercise any cross -default, \"deem at -risk,\" or any other provisions in documents evidencing the Third \n",
      "Party Loan  or Third Party Lender Lien which allow Third Party Lender to make demand on the\n",
      "Cosine Similarity: 81.8383\n",
      "####################################################################################################\n",
      "Top Chunk 5: Page number: 3\n",
      "five (45) days from receipt of the notice from the Third Party Lender to exercise its \n",
      "option to purchase the note.  If SBA does not exercise its option and the Third Party \n",
      "Lender sells its note, then the Third Party Lender mus t provide CDC/SBA, within fifteen \n",
      "(15) days of the sale, with written notice of the purchaser's name, address and telephone \n",
      "number, and must provide the purchaser with a copy of the executed Third Party Lender \n",
      "Agreement.   \n",
      " \n",
      "  e. If the Third Party Lender s ells or otherwise transfers its note to a third party, then \n",
      "any Default Charges , including, but not limited to, prepayment penalties, late fees, other Default \n",
      "Charges , and escalated interest after default due under the Third Party Loan must be subordinate to \n",
      "the amounts outstanding on the 504 L oan and/or CDC Lien.  \n",
      "  \n",
      "  f. If the Third Party Lender loan documents contain a swap component or hedging\n",
      "Cosine Similarity: 81.7314\n",
      "####################################################################################################\n",
      "Top Chunk 6: Page number: 2\n",
      "exercise any cross -default, \"deem at -risk,\" or any other provisions in documents evidencing the Third \n",
      "Party Loan  or Third Party Lender Lien which allow Third Party Lender to make demand on the \n",
      "Third Party Loan prior to maturity unless the Third Party L oan is in material  default .   \n",
      " \n",
      " e. Matur ity and Balloon Payments.   The Third Party Loan  must ha ve a term of at \n",
      "least 7 years ( when the 504 loan is for a term of 10 years), or a term of at least 10 years (when the \n",
      "504 loan is for 20 or 25 years ).  If the Third Party Lender has made more than one loan, then  an \n",
      "overall loan maturity must be calculated , taking into account the amounts and maturities  of each \n",
      "loan.  Any balloon payment  for the Third Party Loan must be clearly  identifie d and disclosed to \n",
      "SBA and approved at application or subsequently a pproved by SBA .  \n",
      " \n",
      " f. Reasonable Interest Rate.   The Third Party Loan has a reasonable interest rate\n",
      "Cosine Similarity: 81.7175\n",
      "####################################################################################################\n",
      "Top Chunk 7: Page number: 2\n",
      "default to a rate greater than the maximum rate published by SBA in the Federal Register .  SBA will only pay \n",
      "the interest rate on the note in effect before the date of Borro wer’s default.  \n",
      " \n",
      "9.  Subordination to 504 Loan and/or  CDC Lien, of Amounts Attributable to Default  \n",
      "  Provisions .      \n",
      "   \n",
      "  a. The term \"Default Charges \" used in this paragraph includes, but is not limited to , \n",
      "prepayment penalties, late fees, other default  charges , and escalated interest after default due under \n",
      "the Third Party Loan.\n",
      "Cosine Similarity: 81.0565\n",
      "####################################################################################################\n",
      "Top Chunk 8: Page number: 1\n",
      "to the 504 Loan.  \n",
      " \n",
      "2. Subordination of 504 Loan.  CDC agrees to make the 504 Loan to the Borrower , subject to SBA’s \n",
      "approval , and accept a junior and subordinate lien position in the Com mon Collateral upon the condition s that \n",
      "Third Party Lender executes this Agreement and disburses the  Third Party Loan  according to the terms \n",
      "represented to CDC and SBA .   \n",
      " \n",
      "3.   Accurate Information.  The Third Party Lender warrants and represents that all i nformation provided \n",
      "by the Third Party Lender  to CDC, including, without limitation, all information regarding the Borrower’s \n",
      "financial condition, is accurate to the best of its knowledge and that Third Party Lender has not withheld any \n",
      "material informatio n.  Third Party Lender acknowledges that for purpose of this transaction, CDC is acting on \n",
      "behalf of SBA, an agency in the United States Government, except that SBA accepts no liability or\n",
      "Cosine Similarity: 81.0120\n",
      "####################################################################################################\n",
      "Top Chunk 9: Page number: 1\n",
      "income or profits from, the Common Collateral . \n",
      " \n",
      "5. Compliance with 504 Loan Program Requirements.   Third Party Lender agrees that all documents \n",
      "evidencing the Third Party Loan  and the Third Party Lender Lien will comply with the 504 Loan Program \n",
      "Requirements as established by SBA , including those identified in the following subparagraphs , and, in the \n",
      "event one or more of the provisions in such documents do not com ply with these 504 Loan Program \n",
      "Requirements, Third Party Lender waive s any right t o enforce such provisions  while  the 504 Loan has any \n",
      "unpaid balance  and agrees that it must act in a commercially reasonable manner with regard to any \n",
      "enforcement action .    \n",
      " \n",
      "a. No Open -Ended Features and No Future Advances .  The Third Party Loan must not \n",
      "be open- ended.  After completion of the Project , the Third Party Lender may not make future \n",
      "advances under the Third P arty Loan except for reasonable cost s of collection, ma intenance, and\n",
      "Cosine Similarity: 80.8305\n",
      "####################################################################################################\n",
      "Top Chunk 10: Page number: 1\n",
      "SBA F orm 2287 ( 04-18)            2 \n",
      " Previous Editions Obsolete  TERMS AND CONDITIONS  \n",
      " \n",
      " In consideration of the above, the mutual agreements set forth below, and for other good and \n",
      "valuable consideration, the receipt and sufficiency of  which are hereby acknowledged, the parties agree as \n",
      "follows:  \n",
      " \n",
      "1. Amount of Third Party Loan.    The Third Party Lender represents that the Third Party Loan is fully \n",
      "advanced ; does not exceed the amount stated in the Authorization;  and, will  not exceed the amount allowed \n",
      "by the Authorization , plus reasonable costs of collection, maintenance, and protection of the Third Party \n",
      "Lender  Lien. Any amounts owed by Borrow er to Lend er in excess of the Third Party Lender  Lien amount  \n",
      "stated in the Authorization  cannot be secured by a lien on the Common Collateral unless it is subordinate \n",
      "to the 504 Loan.  \n",
      " \n",
      "2. Subordination of 504 Loan.  CDC agrees to make the 504 Loan to the Borrower , subject to SBA’s\n",
      "Cosine Similarity: 80.6070\n",
      "####################################################################################################\n"
     ]
    }
   ],
   "source": [
    "# Print the top 3 chunks\n",
    "for i, (similarity, content, metadata) in enumerate(top_chunks, start=1):\n",
    "    page_number = metadata.get('page', 'N/A')\n",
    "    print(f\"Top Chunk {i}: Page number: {page_number}\")\n",
    "    print(content)\n",
    "    print(f\"Cosine Similarity: {similarity * 100:.4f}\")\n",
    "    print(\"#\" * 100)  # Optional separator for readability"
   ]
  },
  {
   "cell_type": "code",
   "execution_count": null,
   "id": "58f034e7",
   "metadata": {},
   "outputs": [],
   "source": []
  },
  {
   "cell_type": "code",
   "execution_count": 31,
   "id": "a6d9de55",
   "metadata": {},
   "outputs": [],
   "source": [
    "######################### use multi-qa-distilbert-cos-v1"
   ]
  },
  {
   "cell_type": "code",
   "execution_count": 32,
   "id": "274c48e4",
   "metadata": {},
   "outputs": [],
   "source": [
    "bert_model = SentenceTransformer('multi-qa-distilbert-cos-v1')"
   ]
  },
  {
   "cell_type": "code",
   "execution_count": 33,
   "id": "c4a9fe00",
   "metadata": {},
   "outputs": [],
   "source": [
    "query_embedding = bert_model.encode(query)\n",
    "query_embedding = query_embedding if isinstance(query_embedding, list) else query_embedding"
   ]
  },
  {
   "cell_type": "code",
   "execution_count": 34,
   "id": "20d2da1b",
   "metadata": {},
   "outputs": [],
   "source": [
    "# Calculate the similarity for each chunk and store it along with the chunk\n",
    "similarities = []\n",
    "for i, chunk in enumerate(chunks):\n",
    "    # Get BERT embedding for the chunk and convert to a NumPy array\n",
    "    chunk_embedding = bert_model.encode(chunk.page_content)\n",
    "    chunk_embedding = chunk_embedding if isinstance(chunk_embedding, list) else chunk_embedding\n",
    "\n",
    "    # Calculate cosine similarity between query and chunk embeddings\n",
    "    similarity = cosine_similarity([query_embedding], [chunk_embedding])[0][0]\n",
    "\n",
    "    # Store similarity, chunk content, and metadata for sorting\n",
    "    similarities.append((similarity, chunk.page_content, chunk.metadata))"
   ]
  },
  {
   "cell_type": "code",
   "execution_count": 35,
   "id": "81c6b542",
   "metadata": {},
   "outputs": [],
   "source": [
    "# Sort the chunks based on similarity in descending order and get the top n\n",
    "top_chunks = sorted(similarities, key=lambda x: x[0], reverse=True)[:top_n]"
   ]
  },
  {
   "cell_type": "code",
   "execution_count": 37,
   "id": "f5b05b0b",
   "metadata": {},
   "outputs": [
    {
     "name": "stdout",
     "output_type": "stream",
     "text": [
      "Top Chunk 1: Page number: 1\n",
      "be open- ended.  After completion of the Project , the Third Party Lender may not make future \n",
      "advances under the Third P arty Loan except for reasonable cost s of collection, ma intenance, and \n",
      "protection of the Third Party Loan  and Third Party  Lender  Lien.  \n",
      " \n",
      " b. No Early Call or Demand Provisions.    Third Party Lender agrees that  documents  \n",
      "evidencing the Third Party Loan and the Third Party Lender Lien do not  contain an early  call feature \n",
      "or any provision which allows Third Party Lender   to make demand under the Third Party Lender \n",
      "Loan other than when there is a material default under the terms of its Third Party Loan documents ,  \n",
      "which shall include , but not be limited to, failure to make timely payments  on the Third Party Loan ,\n",
      "Cosine Similarity: 55.5278\n",
      "####################################################################################################\n",
      "Top Chunk 2: Page number: 0\n",
      "Term of Third Party Loan :  __________________________________  \n",
      "If Real Property --  Project Property Address:  \n",
      "  Street address:  _____________________________________  \n",
      "  City, State , Zip  code:    _____________________________________  \n",
      "  Attach Legal description as an e xhibit . \n",
      "If Pers onal Property:  Describe property, including name of manufacturer, name of equipment, \n",
      "and applicable serial number(s) or other identifying numbers  for property valued at $5000 or \n",
      "more .   Attach a detailed  description as an exhibit .   \n",
      " \n",
      "2.  The parties have required the Borrower to grant liens on the Project Property to secure the separate loans \n",
      "advanced by the parties ( “Common Collateral ”), and the lien of the  CDC ( “CDC Lien ”) will be junior and \n",
      "subordinate to the lien of  the Third Party Lender ( “Third Party Lender Lien ”), unless Third Party Lender, \n",
      "CDC and SBA agree otherwise in writing.\n",
      "Cosine Similarity: 54.2050\n",
      "####################################################################################################\n",
      "Top Chunk 3: Page number: 2\n",
      "exercise any cross -default, \"deem at -risk,\" or any other provisions in documents evidencing the Third \n",
      "Party Loan  or Third Party Lender Lien which allow Third Party Lender to make demand on the \n",
      "Third Party Loan prior to maturity unless the Third Party L oan is in material  default .   \n",
      " \n",
      " e. Matur ity and Balloon Payments.   The Third Party Loan  must ha ve a term of at \n",
      "least 7 years ( when the 504 loan is for a term of 10 years), or a term of at least 10 years (when the \n",
      "504 loan is for 20 or 25 years ).  If the Third Party Lender has made more than one loan, then  an \n",
      "overall loan maturity must be calculated , taking into account the amounts and maturities  of each \n",
      "loan.  Any balloon payment  for the Third Party Loan must be clearly  identifie d and disclosed to \n",
      "SBA and approved at application or subsequently a pproved by SBA .  \n",
      " \n",
      " f. Reasonable Interest Rate.   The Third Party Loan has a reasonable interest rate\n",
      "Cosine Similarity: 53.2132\n",
      "####################################################################################################\n",
      "Top Chunk 4: Page number: 1\n",
      "behalf of SBA, an agency in the United States Government, except that SBA accepts no liability or \n",
      "responsibility for any wrongful act or omission by CDC.  Third Part y Lender further acknowledges that any \n",
      "false statements to CDC can be considered false statement s to the federal government under 18 U.S.C. § 1001, \n",
      "and may subject the Third Party Lender to criminal penalties , and that CDC and SBA are relying upon the \n",
      "infor mation submitted by the Third Party Lender.  \n",
      " \n",
      "4. Waiver of Provision Not to Encumber Common Collateral.    Third Party Lender waives its rights to \n",
      "enforce, as against CDC and SBA, any provisions in its documents that prohibit Borrower from further \n",
      "encumb ering the Common Collateral or which restrict Borrower’s ability to assign its lease on, or rents, \n",
      "income or profits from, the Common Collateral . \n",
      " \n",
      "5. Compliance with 504 Loan Program Requirements.   Third Party Lender agrees that all documents\n",
      "Cosine Similarity: 50.4685\n",
      "####################################################################################################\n",
      "Top Chunk 5: Page number: 4\n",
      "12. Bank Regulatory Issues.   If Third Party Lender is regulated by one of the Federal functional \n",
      "regulators (Comptroller of the Currency, Federal Deposit Insurance Corporation, or National Credit \n",
      "Union Administration), Third Party Lender represents that it is subject to the Joint Final Rule on \n",
      "Customer Identification Programs (CIP) in 31 C.F.R. 103.121 and that it or its agent will perform with \n",
      "respect to the Borrower the specified requirements of its CIP.  \n",
      " \n",
      "13. No Implied Third Party Beneficiaries.       To the extent there is a conflict between this Agreement \n",
      "and any provision in any agreement either Party may have with a third party, including but not limited to, \n",
      "Borrower, the terms and conditions in this Agreement shall supersede any such provision.  The parties agree \n",
      "that SBA may enforce this agreement as a third party beneficiary, and further  agree  that t his Agreement\n",
      "Cosine Similarity: 49.8910\n",
      "####################################################################################################\n",
      "Top Chunk 6: Page number: 4\n",
      "or searches of the Collateral conducted by or for Third Party Lender; and (d) to provide any other \n",
      "information about Borrower or the Third Party Loan  requested by CDC and SBA in writing.  \n",
      " \n",
      " 11.          Waiver of Right to Indemnification by SBA or CDC .   If Third Party Lender's documents contain \n",
      "provisions granting Third Party Lender the right to indemnification by subsequent owners of the Project \n",
      "Property, then Third Part y Lender waives its right to enforce such provisions against SBA or CDC in the \n",
      "event SBA or CDC acquires title to the Project Property through foreclosure of the CDC Lien, acceptance of \n",
      "a deed in lieu of foreclosure, or otherwise.   \n",
      " \n",
      "Paragraph 12 is optional and should be marked  if CDC uses Third Party Lender to perform Customer \n",
      "Identification . \n",
      " \n",
      "12. Bank Regulatory Issues.   If Third Party Lender is regulated by one of the Federal functional \n",
      "regulators (Comptroller of the Currency, Federal Deposit Insurance Corporation, or National Credit\n",
      "Cosine Similarity: 49.6980\n",
      "####################################################################################################\n",
      "Top Chunk 7: Page number: 3\n",
      "Party Loan  current or the purchase price of that loan will be net of all amounts attributable to the \n",
      "Default Charges so subordinated to the 504 Loan and the CDC Lien.  Third Party Lender further \n",
      "agrees that if it receives from CDC  or SBA any  amounts attributable to such Default Charges , Third \n",
      "Party Lender holds such funds in trust for SBA and will remit such funds to SBA as soon as possible.   \n",
      "In addition, Third Party Lender shall charge as against SBA only the interest rate on the Third Party \n",
      "Loan that was in effect before the date of Borrower’s default.  Should CDC or SBA not purchase the \n",
      "Third Party Loan but rather bring the Third Party Loan current , Default Charges on the Third P arty \n",
      "Loan may remain due and owing from the Borrower.    \n",
      " \n",
      "  d. The Third Party Lender agrees:  \n",
      "  (1) If the Third Party Lender sells its Note (other than when liquidating the \n",
      "Third Party Loan), then the Third Party Lender must provide CDC/SBA, within fifteen (15) days of\n",
      "Cosine Similarity: 48.8797\n",
      "####################################################################################################\n",
      "Top Chunk 8: Page number: 3\n",
      "SBA F orm 2287 ( 04-18)            4 \n",
      " Previous Editions Obsolete  b. To the extent the Third Party Lender Lien secures any amounts attributable to \n",
      "Default Charges , which may exist in the Third Party Loan  and Third Party Lender Lien, Third Pa rty \n",
      "Lender Lien is and will be subordinate to the 504 Loan and the CDC Lien.  This subordination \n",
      "applies only to CDC and SBA and their successors and assigns, and shall not inure to the benefit of  \n",
      "Borrower or any guarantor of the Third Party Loan. \n",
      " \n",
      "  c. In the event of default under the Third Party Loan , CDC or SBA may bring the \n",
      "Third Party Loan current or may acquire the Third Party Loan  secured by the Third Party Lender \n",
      "Lien.  Third Party Lender agrees that in either of these circumstances, the amount to bring the Third \n",
      "Party Loan  current or the purchase price of that loan will be net of all amounts attributable to the \n",
      "Default Charges so subordinated to the 504 Loan and the CDC Lien.  Third Party Lender further\n",
      "Cosine Similarity: 47.9862\n",
      "####################################################################################################\n",
      "Top Chunk 9: Page number: 2\n",
      "SBA and approved at application or subsequently a pproved by SBA .  \n",
      " \n",
      " f. Reasonable Interest Rate.   The Third Party Loan has a reasonable interest rate \n",
      "which does not and will not exceed the maximum interest rate for Third Party Loan s from \n",
      "commercial financial institutions as published periodically by SBA in the Federal Register  and in \n",
      "effect as of the date of this Agreement.    \n",
      " \n",
      "6. Marshaling of Assets.   If the Third Party Lender take s additional collateral as security for the Third \n",
      "Party Loan , in the case of liquidation, any proceeds received from such additional collateral, m ust be applied \n",
      "to the Third Party Lender's Loan prior to the proceeds from the liquidation of the Common Collateral held by \n",
      "the CDC/SBA and the Third Party Lender.   If the additional collateral no longer exists at the time of \n",
      "liquidati on, or has insufficient value to justify the cost of collection, then the Third Party Lender is not\n",
      "Cosine Similarity: 47.6367\n",
      "####################################################################################################\n",
      "Top Chunk 10: Page number: 1\n",
      "income or profits from, the Common Collateral . \n",
      " \n",
      "5. Compliance with 504 Loan Program Requirements.   Third Party Lender agrees that all documents \n",
      "evidencing the Third Party Loan  and the Third Party Lender Lien will comply with the 504 Loan Program \n",
      "Requirements as established by SBA , including those identified in the following subparagraphs , and, in the \n",
      "event one or more of the provisions in such documents do not com ply with these 504 Loan Program \n",
      "Requirements, Third Party Lender waive s any right t o enforce such provisions  while  the 504 Loan has any \n",
      "unpaid balance  and agrees that it must act in a commercially reasonable manner with regard to any \n",
      "enforcement action .    \n",
      " \n",
      "a. No Open -Ended Features and No Future Advances .  The Third Party Loan must not \n",
      "be open- ended.  After completion of the Project , the Third Party Lender may not make future \n",
      "advances under the Third P arty Loan except for reasonable cost s of collection, ma intenance, and\n",
      "Cosine Similarity: 47.2346\n",
      "####################################################################################################\n"
     ]
    }
   ],
   "source": [
    "# Print the top n chunks\n",
    "for i, (similarity, content, metadata) in enumerate(top_chunks, start=1):\n",
    "    page_number = metadata.get('page', 'N/A')\n",
    "    print(f\"Top Chunk {i}: Page number: {page_number}\")\n",
    "    print(content)\n",
    "    print(f\"Cosine Similarity: {similarity * 100:.4f}\")\n",
    "    print(\"#\" * 100)  # Optional separator for readability"
   ]
  },
  {
   "cell_type": "code",
   "execution_count": 50,
   "id": "55dcf1fc",
   "metadata": {},
   "outputs": [],
   "source": [
    "############################################"
   ]
  },
  {
   "cell_type": "code",
   "execution_count": 51,
   "id": "bf7012c1",
   "metadata": {},
   "outputs": [],
   "source": [
    "vector_store = Chroma.from_documents(chunks, embeddings)"
   ]
  },
  {
   "cell_type": "code",
   "execution_count": 52,
   "id": "7178f767",
   "metadata": {},
   "outputs": [],
   "source": [
    "retriever=vector_store.as_retriever()"
   ]
  },
  {
   "cell_type": "code",
   "execution_count": 53,
   "id": "2cf54379",
   "metadata": {},
   "outputs": [],
   "source": [
    "retrieved_docs = retriever.get_relevant_documents(query)"
   ]
  },
  {
   "cell_type": "code",
   "execution_count": 54,
   "id": "5f9c9b9a",
   "metadata": {},
   "outputs": [
    {
     "data": {
      "text/plain": [
       "langchain_core.documents.base.Document"
      ]
     },
     "execution_count": 54,
     "metadata": {},
     "output_type": "execute_result"
    }
   ],
   "source": [
    "type(retrieved_docs[0])"
   ]
  },
  {
   "cell_type": "code",
   "execution_count": 55,
   "id": "f9abb445",
   "metadata": {},
   "outputs": [],
   "source": [
    "unique_docs = set()"
   ]
  },
  {
   "cell_type": "code",
   "execution_count": 56,
   "id": "50701a8a",
   "metadata": {},
   "outputs": [],
   "source": [
    "for doc in retrieved_docs:\n",
    "    unique_docs.add(doc.page_content)  # Replace 'page_content' with a unique identifier if available   \n"
   ]
  },
  {
   "cell_type": "code",
   "execution_count": 57,
   "id": "28c03dc2",
   "metadata": {},
   "outputs": [
    {
     "name": "stdout",
     "output_type": "stream",
     "text": [
      "Total Retrieved Documents: 4\n",
      "Unique Documents Retrieved: 2\n"
     ]
    }
   ],
   "source": [
    "print(f\"Total Retrieved Documents: {len(retrieved_docs)}\")\n",
    "print(f\"Unique Documents Retrieved: {len(unique_docs)}\")"
   ]
  },
  {
   "cell_type": "code",
   "execution_count": 58,
   "id": "0213e63e",
   "metadata": {},
   "outputs": [],
   "source": [
    "# recalcualte openAI query embedding\n",
    "query_embedding = embeddings.embed_query(query)"
   ]
  },
  {
   "cell_type": "code",
   "execution_count": 59,
   "id": "babcedf7",
   "metadata": {},
   "outputs": [
    {
     "name": "stdout",
     "output_type": "stream",
     "text": [
      "Document 1:Page number: 2:  exercise any cross -default, \"deem at -risk,\" or any other provisions in documents evidencing the Third \n",
      "Party Loan  or Third Party Lender Lien which allow Third Party Lender to make demand on the \n",
      "Third Party Loan prior to maturity unless the Third Party L oan is in material  default .   \n",
      " \n",
      " e. Matur ity and Balloon Payments.   The Third Party Loan  must ha ve a term of at \n",
      "least 7 years ( when the 504 loan is for a term of 10 years), or a term of at least 10 years (when the \n",
      "504 loan is for 20 or 25 years ).  If the Third Party Lender has made more than one loan, then  an \n",
      "overall loan maturity must be calculated , taking into account the amounts and maturities  of each \n",
      "loan.  Any balloon payment  for the Third Party Loan must be clearly  identifie d and disclosed to \n",
      "SBA and approved at application or subsequently a pproved by SBA .  \n",
      " \n",
      " f. Reasonable Interest Rate.   The Third Party Loan has a reasonable interest rate\n",
      "Cosine Similarity: 85.1362\n",
      "####################################################################################################\n",
      "Document 2:Page number: 2:  exercise any cross -default, \"deem at -risk,\" or any other provisions in documents evidencing the Third \n",
      "Party Loan  or Third Party Lender Lien which allow Third Party Lender to make demand on the \n",
      "Third Party Loan prior to maturity unless the Third Party L oan is in material  default .   \n",
      " \n",
      " e. Matur ity and Balloon Payments.   The Third Party Loan  must ha ve a term of at \n",
      "least 7 years ( when the 504 loan is for a term of 10 years), or a term of at least 10 years (when the \n",
      "504 loan is for 20 or 25 years ).  If the Third Party Lender has made more than one loan, then  an \n",
      "overall loan maturity must be calculated , taking into account the amounts and maturities  of each \n",
      "loan.  Any balloon payment  for the Third Party Loan must be clearly  identifie d and disclosed to \n",
      "SBA and approved at application or subsequently a pproved by SBA .  \n",
      " \n",
      " f. Reasonable Interest Rate.   The Third Party Loan has a reasonable interest rate\n",
      "Cosine Similarity: 85.1362\n",
      "####################################################################################################\n",
      "Document 3:Page number: 0:  Term of Third Party Loan :  __________________________________  \n",
      "If Real Property --  Project Property Address:  \n",
      "  Street address:  _____________________________________  \n",
      "  City, State , Zip  code:    _____________________________________  \n",
      "  Attach Legal description as an e xhibit . \n",
      "If Pers onal Property:  Describe property, including name of manufacturer, name of equipment, \n",
      "and applicable serial number(s) or other identifying numbers  for property valued at $5000 or \n",
      "more .   Attach a detailed  description as an exhibit .   \n",
      " \n",
      "2.  The parties have required the Borrower to grant liens on the Project Property to secure the separate loans \n",
      "advanced by the parties ( “Common Collateral ”), and the lien of the  CDC ( “CDC Lien ”) will be junior and \n",
      "subordinate to the lien of  the Third Party Lender ( “Third Party Lender Lien ”), unless Third Party Lender, \n",
      "CDC and SBA agree otherwise in writing.\n",
      "Cosine Similarity: 83.1290\n",
      "####################################################################################################\n",
      "Document 4:Page number: 0:  Term of Third Party Loan :  __________________________________  \n",
      "If Real Property --  Project Property Address:  \n",
      "  Street address:  _____________________________________  \n",
      "  City, State , Zip  code:    _____________________________________  \n",
      "  Attach Legal description as an e xhibit . \n",
      "If Pers onal Property:  Describe property, including name of manufacturer, name of equipment, \n",
      "and applicable serial number(s) or other identifying numbers  for property valued at $5000 or \n",
      "more .   Attach a detailed  description as an exhibit .   \n",
      " \n",
      "2.  The parties have required the Borrower to grant liens on the Project Property to secure the separate loans \n",
      "advanced by the parties ( “Common Collateral ”), and the lien of the  CDC ( “CDC Lien ”) will be junior and \n",
      "subordinate to the lien of  the Third Party Lender ( “Third Party Lender Lien ”), unless Third Party Lender, \n",
      "CDC and SBA agree otherwise in writing.\n",
      "Cosine Similarity: 83.1290\n",
      "####################################################################################################\n"
     ]
    }
   ],
   "source": [
    "# Print the documents and their cosine similarity with the query\n",
    "for i, d in enumerate(retrieved_docs):\n",
    "    # Get the embedding for the current document chunk\n",
    "    doc_embedding = embeddings.embed_query(d.page_content)\n",
    "    \n",
    "    # Compute the cosine similarity between the query and the document\n",
    "    similarity = cosine_similarity([query_embedding], [doc_embedding])[0][0]\n",
    "    \n",
    "    # Print the document content and the similarity score\n",
    "    print(f\"Document {i + 1}:Page number: {d.metadata['page']}:  {d.page_content}\")\n",
    "    print(f\"Cosine Similarity: {similarity*100:.4f}\")\n",
    "    print(\"#\" * 100)  # Optional: To visually separate the chunks in the output"
   ]
  },
  {
   "cell_type": "code",
   "execution_count": 60,
   "id": "0da98761",
   "metadata": {},
   "outputs": [
    {
     "name": "stdout",
     "output_type": "stream",
     "text": [
      "Document 1: exercise any cross -default, \"deem at -risk,\" or any other provisions in documents evidencing the Third \n",
      "Party Loan  or Third Party Lender Lien which allow Third Party Lender to make demand on the \n",
      "Third Party Loan prior to maturity unless the Third Party L oan is in material  default .   \n",
      " \n",
      " e. Matur ity and Balloon Payments.   The Third Party Loan  must ha ve a term of at \n",
      "least 7 years ( when the 504 loan is for a term of 10 years), or a term of at least 10 years (when the \n",
      "504 loan is for 20 or 25 years ).  If the Third Party Lender has made more than one loan, then  an \n",
      "overall loan maturity must be calculated , taking into account the amounts and maturities  of each \n",
      "loan.  Any balloon payment  for the Third Party Loan must be clearly  identifie d and disclosed to \n",
      "SBA and approved at application or subsequently a pproved by SBA .  \n",
      " \n",
      " f. Reasonable Interest Rate.   The Third Party Loan has a reasonable interest rate\n",
      "####################################################################################################\n",
      "Document 2: exercise any cross -default, \"deem at -risk,\" or any other provisions in documents evidencing the Third \n",
      "Party Loan  or Third Party Lender Lien which allow Third Party Lender to make demand on the \n",
      "Third Party Loan prior to maturity unless the Third Party L oan is in material  default .   \n",
      " \n",
      " e. Matur ity and Balloon Payments.   The Third Party Loan  must ha ve a term of at \n",
      "least 7 years ( when the 504 loan is for a term of 10 years), or a term of at least 10 years (when the \n",
      "504 loan is for 20 or 25 years ).  If the Third Party Lender has made more than one loan, then  an \n",
      "overall loan maturity must be calculated , taking into account the amounts and maturities  of each \n",
      "loan.  Any balloon payment  for the Third Party Loan must be clearly  identifie d and disclosed to \n",
      "SBA and approved at application or subsequently a pproved by SBA .  \n",
      " \n",
      " f. Reasonable Interest Rate.   The Third Party Loan has a reasonable interest rate\n",
      "####################################################################################################\n",
      "Document 3: Term of Third Party Loan :  __________________________________  \n",
      "If Real Property --  Project Property Address:  \n",
      "  Street address:  _____________________________________  \n",
      "  City, State , Zip  code:    _____________________________________  \n",
      "  Attach Legal description as an e xhibit . \n",
      "If Pers onal Property:  Describe property, including name of manufacturer, name of equipment, \n",
      "and applicable serial number(s) or other identifying numbers  for property valued at $5000 or \n",
      "more .   Attach a detailed  description as an exhibit .   \n",
      " \n",
      "2.  The parties have required the Borrower to grant liens on the Project Property to secure the separate loans \n",
      "advanced by the parties ( “Common Collateral ”), and the lien of the  CDC ( “CDC Lien ”) will be junior and \n",
      "subordinate to the lien of  the Third Party Lender ( “Third Party Lender Lien ”), unless Third Party Lender, \n",
      "CDC and SBA agree otherwise in writing.\n",
      "####################################################################################################\n",
      "Document 4: Term of Third Party Loan :  __________________________________  \n",
      "If Real Property --  Project Property Address:  \n",
      "  Street address:  _____________________________________  \n",
      "  City, State , Zip  code:    _____________________________________  \n",
      "  Attach Legal description as an e xhibit . \n",
      "If Pers onal Property:  Describe property, including name of manufacturer, name of equipment, \n",
      "and applicable serial number(s) or other identifying numbers  for property valued at $5000 or \n",
      "more .   Attach a detailed  description as an exhibit .   \n",
      " \n",
      "2.  The parties have required the Borrower to grant liens on the Project Property to secure the separate loans \n",
      "advanced by the parties ( “Common Collateral ”), and the lien of the  CDC ( “CDC Lien ”) will be junior and \n",
      "subordinate to the lien of  the Third Party Lender ( “Third Party Lender Lien ”), unless Third Party Lender, \n",
      "CDC and SBA agree otherwise in writing.\n",
      "####################################################################################################\n"
     ]
    }
   ],
   "source": [
    "for i, d in enumerate(retrieved_docs):\n",
    "    print(f\"Document {i + 1}: {d.page_content}\")\n",
    "    print(\"#\" * 100)  # Optional: To visually separate the chunks in the output"
   ]
  },
  {
   "cell_type": "code",
   "execution_count": 61,
   "id": "c1cc914c",
   "metadata": {},
   "outputs": [
    {
     "data": {
      "text/plain": [
       "list"
      ]
     },
     "execution_count": 61,
     "metadata": {},
     "output_type": "execute_result"
    }
   ],
   "source": [
    "type(retrieved_docs)"
   ]
  },
  {
   "cell_type": "code",
   "execution_count": 62,
   "id": "685bbb08",
   "metadata": {},
   "outputs": [
    {
     "data": {
      "text/plain": [
       "[Document(metadata={'page': 2, 'source': 'doc_inputs/Form_2287.pdf'}, page_content='exercise any cross -default, \"deem at -risk,\" or any other provisions in documents evidencing the Third \\nParty Loan  or Third Party Lender Lien which allow Third Party Lender to make demand on the \\nThird Party Loan prior to maturity unless the Third Party L oan is in material  default .   \\n \\n e. Matur ity and Balloon Payments.   The Third Party Loan  must ha ve a term of at \\nleast 7 years ( when the 504 loan is for a term of 10 years), or a term of at least 10 years (when the \\n504 loan is for 20 or 25 years ).  If the Third Party Lender has made more than one loan, then  an \\noverall loan maturity must be calculated , taking into account the amounts and maturities  of each \\nloan.  Any balloon payment  for the Third Party Loan must be clearly  identifie d and disclosed to \\nSBA and approved at application or subsequently a pproved by SBA .  \\n \\n f. Reasonable Interest Rate.   The Third Party Loan has a reasonable interest rate'),\n",
       " Document(metadata={'page': 2, 'source': 'doc_inputs/Form_2287.pdf'}, page_content='exercise any cross -default, \"deem at -risk,\" or any other provisions in documents evidencing the Third \\nParty Loan  or Third Party Lender Lien which allow Third Party Lender to make demand on the \\nThird Party Loan prior to maturity unless the Third Party L oan is in material  default .   \\n \\n e. Matur ity and Balloon Payments.   The Third Party Loan  must ha ve a term of at \\nleast 7 years ( when the 504 loan is for a term of 10 years), or a term of at least 10 years (when the \\n504 loan is for 20 or 25 years ).  If the Third Party Lender has made more than one loan, then  an \\noverall loan maturity must be calculated , taking into account the amounts and maturities  of each \\nloan.  Any balloon payment  for the Third Party Loan must be clearly  identifie d and disclosed to \\nSBA and approved at application or subsequently a pproved by SBA .  \\n \\n f. Reasonable Interest Rate.   The Third Party Loan has a reasonable interest rate'),\n",
       " Document(metadata={'page': 0, 'source': 'doc_inputs/Form_2287.pdf'}, page_content='Term of Third Party Loan :  __________________________________  \\nIf Real Property --  Project Property Address:  \\n  Street address:  _____________________________________  \\n  City, State , Zip  code:    _____________________________________  \\n  Attach Legal description as an e xhibit . \\nIf Pers onal Property:  Describe property, including name of manufacturer, name of equipment, \\nand applicable serial number(s) or other identifying numbers  for property valued at $5000 or \\nmore .   Attach a detailed  description as an exhibit .   \\n \\n2.  The parties have required the Borrower to grant liens on the Project Property to secure the separate loans \\nadvanced by the parties ( “Common Collateral ”), and the lien of the  CDC ( “CDC Lien ”) will be junior and \\nsubordinate to the lien of  the Third Party Lender ( “Third Party Lender Lien ”), unless Third Party Lender, \\nCDC and SBA agree otherwise in writing.'),\n",
       " Document(metadata={'page': 0, 'source': 'doc_inputs/Form_2287.pdf'}, page_content='Term of Third Party Loan :  __________________________________  \\nIf Real Property --  Project Property Address:  \\n  Street address:  _____________________________________  \\n  City, State , Zip  code:    _____________________________________  \\n  Attach Legal description as an e xhibit . \\nIf Pers onal Property:  Describe property, including name of manufacturer, name of equipment, \\nand applicable serial number(s) or other identifying numbers  for property valued at $5000 or \\nmore .   Attach a detailed  description as an exhibit .   \\n \\n2.  The parties have required the Borrower to grant liens on the Project Property to secure the separate loans \\nadvanced by the parties ( “Common Collateral ”), and the lien of the  CDC ( “CDC Lien ”) will be junior and \\nsubordinate to the lien of  the Third Party Lender ( “Third Party Lender Lien ”), unless Third Party Lender, \\nCDC and SBA agree otherwise in writing.')]"
      ]
     },
     "execution_count": 62,
     "metadata": {},
     "output_type": "execute_result"
    }
   ],
   "source": [
    "retrieved_docs"
   ]
  },
  {
   "cell_type": "code",
   "execution_count": 63,
   "id": "d7bd5250",
   "metadata": {},
   "outputs": [],
   "source": [
    "retrieved_doc = retrieved_docs[0] "
   ]
  },
  {
   "cell_type": "code",
   "execution_count": 64,
   "id": "557c7ad9",
   "metadata": {},
   "outputs": [
    {
     "data": {
      "text/plain": [
       "Document(metadata={'page': 2, 'source': 'doc_inputs/Form_2287.pdf'}, page_content='exercise any cross -default, \"deem at -risk,\" or any other provisions in documents evidencing the Third \\nParty Loan  or Third Party Lender Lien which allow Third Party Lender to make demand on the \\nThird Party Loan prior to maturity unless the Third Party L oan is in material  default .   \\n \\n e. Matur ity and Balloon Payments.   The Third Party Loan  must ha ve a term of at \\nleast 7 years ( when the 504 loan is for a term of 10 years), or a term of at least 10 years (when the \\n504 loan is for 20 or 25 years ).  If the Third Party Lender has made more than one loan, then  an \\noverall loan maturity must be calculated , taking into account the amounts and maturities  of each \\nloan.  Any balloon payment  for the Third Party Loan must be clearly  identifie d and disclosed to \\nSBA and approved at application or subsequently a pproved by SBA .  \\n \\n f. Reasonable Interest Rate.   The Third Party Loan has a reasonable interest rate')"
      ]
     },
     "execution_count": 64,
     "metadata": {},
     "output_type": "execute_result"
    }
   ],
   "source": [
    "retrieved_doc"
   ]
  },
  {
   "cell_type": "code",
   "execution_count": 65,
   "id": "9f81ef80",
   "metadata": {},
   "outputs": [],
   "source": [
    "retrieved_text = retrieved_doc.page_content"
   ]
  },
  {
   "cell_type": "code",
   "execution_count": 66,
   "id": "1c76be9d",
   "metadata": {},
   "outputs": [],
   "source": [
    "retrieved_metadata = retrieved_doc.metadata"
   ]
  },
  {
   "cell_type": "code",
   "execution_count": 67,
   "id": "fcfdb6e3",
   "metadata": {},
   "outputs": [
    {
     "data": {
      "text/plain": [
       "'exercise any cross -default, \"deem at -risk,\" or any other provisions in documents evidencing the Third \\nParty Loan  or Third Party Lender Lien which allow Third Party Lender to make demand on the \\nThird Party Loan prior to maturity unless the Third Party L oan is in material  default .   \\n \\n e. Matur ity and Balloon Payments.   The Third Party Loan  must ha ve a term of at \\nleast 7 years ( when the 504 loan is for a term of 10 years), or a term of at least 10 years (when the \\n504 loan is for 20 or 25 years ).  If the Third Party Lender has made more than one loan, then  an \\noverall loan maturity must be calculated , taking into account the amounts and maturities  of each \\nloan.  Any balloon payment  for the Third Party Loan must be clearly  identifie d and disclosed to \\nSBA and approved at application or subsequently a pproved by SBA .  \\n \\n f. Reasonable Interest Rate.   The Third Party Loan has a reasonable interest rate'"
      ]
     },
     "execution_count": 67,
     "metadata": {},
     "output_type": "execute_result"
    }
   ],
   "source": [
    "retrieved_text"
   ]
  },
  {
   "cell_type": "code",
   "execution_count": 68,
   "id": "9e82077b",
   "metadata": {},
   "outputs": [
    {
     "data": {
      "text/plain": [
       "{'page': 2, 'source': 'doc_inputs/Form_2287.pdf'}"
      ]
     },
     "execution_count": 68,
     "metadata": {},
     "output_type": "execute_result"
    }
   ],
   "source": [
    "retrieved_metadata"
   ]
  },
  {
   "cell_type": "code",
   "execution_count": 69,
   "id": "e133ebac",
   "metadata": {},
   "outputs": [
    {
     "name": "stderr",
     "output_type": "stream",
     "text": [
      "C:\\Users\\jimmy\\AppData\\Local\\Temp\\ipykernel_24920\\2899348281.py:2: LangChainDeprecationWarning: The class `ChatOpenAI` was deprecated in LangChain 0.0.10 and will be removed in 1.0. An updated version of the class exists in the :class:`~langchain-openai package and should be used instead. To use it run `pip install -U :class:`~langchain-openai` and import as `from :class:`~langchain_openai import ChatOpenAI``.\n",
      "  llm_gpt = ChatOpenAI(model='gpt-4', temperature=1)\n"
     ]
    }
   ],
   "source": [
    "embeddings = OpenAIEmbeddings()\n",
    "llm_gpt = ChatOpenAI(model='gpt-4', temperature=1)"
   ]
  },
  {
   "cell_type": "markdown",
   "id": "12c2d225",
   "metadata": {},
   "source": [
    "* Use ContextualCompressionRetriever"
   ]
  },
  {
   "cell_type": "code",
   "execution_count": 70,
   "id": "36d145f1",
   "metadata": {},
   "outputs": [],
   "source": [
    "from langchain.retrievers import ContextualCompressionRetriever\n",
    "from langchain.retrievers.document_compressors import LLMChainExtractor"
   ]
  },
  {
   "cell_type": "code",
   "execution_count": 71,
   "id": "3de38296",
   "metadata": {},
   "outputs": [],
   "source": [
    "compressor = LLMChainExtractor.from_llm(llm_gpt)"
   ]
  },
  {
   "cell_type": "code",
   "execution_count": 72,
   "id": "08a31532",
   "metadata": {},
   "outputs": [],
   "source": [
    "compression_retriever = ContextualCompressionRetriever(base_compressor=compressor, base_retriever=retriever)"
   ]
  },
  {
   "cell_type": "code",
   "execution_count": 73,
   "id": "fbb63c46",
   "metadata": {},
   "outputs": [],
   "source": [
    "docs_compressed = compression_retriever.get_relevant_documents(query)"
   ]
  },
  {
   "cell_type": "code",
   "execution_count": 74,
   "id": "27c5108c",
   "metadata": {},
   "outputs": [
    {
     "data": {
      "text/plain": [
       "[Document(metadata={'page': 2, 'source': 'doc_inputs/Form_2287.pdf'}, page_content='Any balloon payment  for the Third Party Loan must be clearly  identifie d and disclosed to \\nSBA and approved at application or subsequently a pproved by SBA .'),\n",
       " Document(metadata={'page': 2, 'source': 'doc_inputs/Form_2287.pdf'}, page_content='Any balloon payment  for the Third Party Loan must be clearly  identifie d and disclosed to \\nSBA and approved at application or subsequently a pproved by SBA .')]"
      ]
     },
     "execution_count": 74,
     "metadata": {},
     "output_type": "execute_result"
    }
   ],
   "source": [
    "docs_compressed"
   ]
  },
  {
   "cell_type": "code",
   "execution_count": 75,
   "id": "46522c90",
   "metadata": {},
   "outputs": [
    {
     "data": {
      "text/plain": [
       "Document(metadata={'page': 2, 'source': 'doc_inputs/Form_2287.pdf'}, page_content='Any balloon payment  for the Third Party Loan must be clearly  identifie d and disclosed to \\nSBA and approved at application or subsequently a pproved by SBA .')"
      ]
     },
     "execution_count": 75,
     "metadata": {},
     "output_type": "execute_result"
    }
   ],
   "source": [
    "docs_compressed[0]"
   ]
  },
  {
   "cell_type": "code",
   "execution_count": 76,
   "id": "994b34b9",
   "metadata": {},
   "outputs": [],
   "source": [
    "system_prompt = (\n",
    "    \"You are an assistant for question-answering tasks. Answer the following question based only on the context provided. Do not use any external knowledge.\"\n",
    "     \"\\n\\n\"\n",
    "    \"{context}\"\n",
    ")"
   ]
  },
  {
   "cell_type": "code",
   "execution_count": 77,
   "id": "6f91039e",
   "metadata": {},
   "outputs": [],
   "source": [
    "prompt = ChatPromptTemplate.from_messages(\n",
    "    [\n",
    "        (\"system\", system_prompt),\n",
    "        (\"human\", \"{input}\"),\n",
    "    ]\n",
    ")"
   ]
  },
  {
   "cell_type": "code",
   "execution_count": 78,
   "id": "68163f52",
   "metadata": {},
   "outputs": [],
   "source": [
    "question_answer_chain = create_stuff_documents_chain(llm_gpt, prompt)"
   ]
  },
  {
   "cell_type": "code",
   "execution_count": 79,
   "id": "0d22031d",
   "metadata": {},
   "outputs": [],
   "source": [
    "inputs = {\n",
    "    \"context\": [retrieved_docs[0]],  # use only the first elemnt from retrieved_docs\n",
    "    \"input\": query  # Use the query as the input for the human message\n",
    "}"
   ]
  },
  {
   "cell_type": "code",
   "execution_count": 80,
   "id": "235b6bfa",
   "metadata": {},
   "outputs": [],
   "source": [
    "response = question_answer_chain.invoke(inputs)"
   ]
  },
  {
   "cell_type": "code",
   "execution_count": 81,
   "id": "bcc0ba23",
   "metadata": {},
   "outputs": [
    {
     "data": {
      "text/plain": [
       "'Any balloon payment for the Third Party Loan must be disclosed to SBA.'"
      ]
     },
     "execution_count": 81,
     "metadata": {},
     "output_type": "execute_result"
    }
   ],
   "source": [
    "response"
   ]
  },
  {
   "cell_type": "code",
   "execution_count": 82,
   "id": "80d85569",
   "metadata": {},
   "outputs": [
    {
     "data": {
      "text/plain": [
       "str"
      ]
     },
     "execution_count": 82,
     "metadata": {},
     "output_type": "execute_result"
    }
   ],
   "source": [
    "type(response)"
   ]
  },
  {
   "cell_type": "code",
   "execution_count": 83,
   "id": "7979b41d",
   "metadata": {},
   "outputs": [],
   "source": [
    "input_text = f\"\"\"\n",
    "Context: {retrieved_text}\n",
    "\n",
    "Instruction: Answer the following question based only on the context provided. Do not use any external knowledge.\n",
    "\n",
    "Question: {query}\n",
    "\n",
    "Answer:\n",
    "\"\"\""
   ]
  },
  {
   "cell_type": "code",
   "execution_count": 84,
   "id": "64cbf662",
   "metadata": {},
   "outputs": [
    {
     "data": {
      "text/plain": [
       "'\\nContext: exercise any cross -default, \"deem at -risk,\" or any other provisions in documents evidencing the Third \\nParty Loan  or Third Party Lender Lien which allow Third Party Lender to make demand on the \\nThird Party Loan prior to maturity unless the Third Party L oan is in material  default .   \\n \\n e. Matur ity and Balloon Payments.   The Third Party Loan  must ha ve a term of at \\nleast 7 years ( when the 504 loan is for a term of 10 years), or a term of at least 10 years (when the \\n504 loan is for 20 or 25 years ).  If the Third Party Lender has made more than one loan, then  an \\noverall loan maturity must be calculated , taking into account the amounts and maturities  of each \\nloan.  Any balloon payment  for the Third Party Loan must be clearly  identifie d and disclosed to \\nSBA and approved at application or subsequently a pproved by SBA .  \\n \\n f. Reasonable Interest Rate.   The Third Party Loan has a reasonable interest rate\\n\\nInstruction: Answer the following question based only on the context provided. Do not use any external knowledge.\\n\\nQuestion: Any balloon payment for the Third Party Loan must be disclosed to whom?\\n\\nAnswer:\\n'"
      ]
     },
     "execution_count": 84,
     "metadata": {},
     "output_type": "execute_result"
    }
   ],
   "source": [
    "input_text"
   ]
  },
  {
   "cell_type": "code",
   "execution_count": 85,
   "id": "a82fc65c",
   "metadata": {},
   "outputs": [
    {
     "name": "stderr",
     "output_type": "stream",
     "text": [
      "C:\\Users\\jimmy\\AppData\\Local\\Temp\\ipykernel_24920\\2746106821.py:1: LangChainDeprecationWarning: The method `BaseChatModel.predict` was deprecated in langchain-core 0.1.7 and will be removed in 1.0. Use :meth:`~invoke` instead.\n",
      "  response_gpt = llm_gpt.predict(input_text)\n"
     ]
    }
   ],
   "source": [
    "\n",
    "response_gpt = llm_gpt.predict(input_text)"
   ]
  },
  {
   "cell_type": "code",
   "execution_count": 86,
   "id": "02d92f5f",
   "metadata": {},
   "outputs": [
    {
     "data": {
      "text/plain": [
       "'Any balloon payment for the Third Party Loan must be disclosed to SBA.'"
      ]
     },
     "execution_count": 86,
     "metadata": {},
     "output_type": "execute_result"
    }
   ],
   "source": [
    "response_gpt"
   ]
  },
  {
   "cell_type": "code",
   "execution_count": 87,
   "id": "6beaebc8",
   "metadata": {},
   "outputs": [
    {
     "name": "stderr",
     "output_type": "stream",
     "text": [
      "C:\\Users\\jimmy\\AppData\\Local\\Temp\\ipykernel_24920\\3110740755.py:3: LangChainDeprecationWarning: The method `BaseLLM.predict` was deprecated in langchain-core 0.1.7 and will be removed in 1.0. Use :meth:`~invoke` instead.\n",
      "  response_mistral = llm_mistral.predict(input_text)\n"
     ]
    }
   ],
   "source": [
    "#chain_mistral = RetrievalQA.from_chain_type(llm_mistral, retriever=retriever )\n",
    "#response_mistral = chain_mistral.run(input_text)\n",
    "response_mistral = llm_mistral.predict(input_text)"
   ]
  },
  {
   "cell_type": "code",
   "execution_count": 89,
   "id": "7b33db55",
   "metadata": {},
   "outputs": [
    {
     "data": {
      "text/plain": [
       "'The context states that any balloon payment for the Third Party Loan must be clearly identified and disclosed to SBA.'"
      ]
     },
     "execution_count": 89,
     "metadata": {},
     "output_type": "execute_result"
    }
   ],
   "source": [
    "response_mistral"
   ]
  },
  {
   "cell_type": "code",
   "execution_count": 90,
   "id": "0c7a6f91",
   "metadata": {},
   "outputs": [],
   "source": [
    "######################################################################"
   ]
  },
  {
   "cell_type": "code",
   "execution_count": 91,
   "id": "f50cec65",
   "metadata": {},
   "outputs": [],
   "source": [
    "# Highlight using cosine similarity\n",
    "# Step 1: Extract content to be highlighted from the first retrieved document\n",
    "content_to_highlight = retrieved_text\n",
    "\n",
    "# Step 2: Open the original PDF\n",
    "pdf_document = fitz.open(pdf_file_path)\n",
    "\n",
    "# Step 3: Initialize variables for tracking the best match\n",
    "best_page = None\n",
    "best_match_rects = None\n",
    "highest_similarity = 0\n",
    "best_page_number = None  # Initialize best_page_number her\n",
    "\n",
    "# Step 4: Iterate through each page in the PDF\n",
    "for page_num in range(len(pdf_document)):\n",
    "    page = pdf_document[page_num]\n",
    "    page_text = page.get_text()\n",
    "\n",
    "    # Step 5: Split the page text into smaller chunks\n",
    "    page_chunks = [page_text[i:i+chunk_size] for i in range(0, len(page_text), chunk_size)]\n",
    "\n",
    "    # Step 6: Perform text similarity search using TF-IDF and cosine similarity\n",
    "    vectorizer = TfidfVectorizer().fit_transform([content_to_highlight] + page_chunks)\n",
    "    similarities = cosine_similarity(vectorizer[0:1], vectorizer[1:]).flatten()\n",
    "\n",
    "    # Step 7: Find the chunk with the highest similarity score\n",
    "    max_sim_index = similarities.argmax()\n",
    "    max_sim = similarities[max_sim_index]\n",
    "\n",
    "    # Step 8: Update the best match if this page has a higher similarity score\n",
    "    if max_sim > highest_similarity:\n",
    "        highest_similarity = max_sim\n",
    "        best_page = page\n",
    "        best_chunk = page_chunks[max_sim_index]\n",
    "        best_page_number = page_num + 1  # Store the 1-based page number\n",
    "\n",
    "        # Locate the matching text in the page\n",
    "        best_match_rects = best_page.search_for(best_chunk)"
   ]
  },
  {
   "cell_type": "code",
   "execution_count": 92,
   "id": "395ec947",
   "metadata": {},
   "outputs": [],
   "source": [
    "# Step 9: Highlight the best match\n",
    "if best_page and best_match_rects:\n",
    "    for rect in best_match_rects:\n",
    "        best_page.add_highlight_annot(rect)"
   ]
  },
  {
   "cell_type": "code",
   "execution_count": 93,
   "id": "c83f3814",
   "metadata": {},
   "outputs": [
    {
     "name": "stdout",
     "output_type": "stream",
     "text": [
      "The best match was found on page number: 3\n"
     ]
    }
   ],
   "source": [
    "# Step 10: Print the best page number\n",
    "if best_page_number is not None:\n",
    "    print(f\"The best match was found on page number: {best_page_number}\")"
   ]
  },
  {
   "cell_type": "code",
   "execution_count": 94,
   "id": "fd663187",
   "metadata": {},
   "outputs": [],
   "source": [
    "# Step 10: Save the modified PDF\n",
    "highlighted_pdf_path = \"doc_outputs/highlighted_file_chroma.pdf\"\n",
    "pdf_document.save(highlighted_pdf_path)"
   ]
  },
  {
   "cell_type": "code",
   "execution_count": 95,
   "id": "a66f886e",
   "metadata": {},
   "outputs": [],
   "source": [
    "# Close the PDF document\n",
    "pdf_document.close()"
   ]
  },
  {
   "cell_type": "markdown",
   "id": "819771c9",
   "metadata": {},
   "source": [
    "* Query for meta data"
   ]
  },
  {
   "cell_type": "code",
   "execution_count": null,
   "id": "c784eb8d",
   "metadata": {},
   "outputs": [],
   "source": [
    "metadata_field_info = [\n",
    "    AttributeInfo(\n",
    "        name=\"page\",\n",
    "        description=\"The page number within teh document.Starting with 0\",\n",
    "        type=\"integer\",\n",
    "    ),\n",
    "    AttributeInfo(\n",
    "        name=\"source\",\n",
    "        description=\"The name of the document as a file name\",\n",
    "        type=\"string\",\n",
    "    ),    \n",
    "]"
   ]
  },
  {
   "cell_type": "code",
   "execution_count": null,
   "id": "d1ba1db4",
   "metadata": {},
   "outputs": [],
   "source": [
    "document_content_description = \"Content of a specific page\""
   ]
  },
  {
   "cell_type": "code",
   "execution_count": null,
   "id": "28757414",
   "metadata": {},
   "outputs": [],
   "source": [
    "retriever = SelfQueryRetriever.from_llm(\n",
    "    llm_gpt,\n",
    "    vector_store,\n",
    "    document_content_description,\n",
    "    metadata_field_info,\n",
    ")"
   ]
  },
  {
   "cell_type": "code",
   "execution_count": null,
   "id": "7b6e0602",
   "metadata": {},
   "outputs": [],
   "source": [
    "retriever.invoke(\"I want the page number 1\")"
   ]
  },
  {
   "cell_type": "markdown",
   "id": "5051cd9a",
   "metadata": {},
   "source": [
    "# Chroma storeage using local BERT Embedding <span style=\"color:red;\">(Embedding result is very poor)</span>"
   ]
  },
  {
   "cell_type": "code",
   "execution_count": null,
   "id": "b2c9ced9",
   "metadata": {},
   "outputs": [],
   "source": [
    "import uuid "
   ]
  },
  {
   "cell_type": "code",
   "execution_count": null,
   "id": "28628849",
   "metadata": {},
   "outputs": [],
   "source": [
    "query = \"\"\"Subordination of 504 Loan.  CDC agrees to make the 504 Loan to the Borrower , subject to SBA’s \n",
    "approval , and accept a junior and subordinate lien position in the Com mon Collateral upon the condition s that \n",
    "Third Party Lender executes this Agreement and disburses the  Third Party Loan  according to the terms \n",
    "represented to CDC and SBA\"\"\""
   ]
  },
  {
   "cell_type": "code",
   "execution_count": null,
   "id": "a0aef7f5",
   "metadata": {},
   "outputs": [],
   "source": [
    "pdf_loader = PyPDFLoader(pdf_file_path)"
   ]
  },
  {
   "cell_type": "code",
   "execution_count": null,
   "id": "777e3738",
   "metadata": {},
   "outputs": [],
   "source": [
    "documents = pdf_loader.load()"
   ]
  },
  {
   "cell_type": "code",
   "execution_count": null,
   "id": "8d451cf0",
   "metadata": {},
   "outputs": [],
   "source": [
    "local_directory = './bert_downloads'"
   ]
  },
  {
   "cell_type": "code",
   "execution_count": null,
   "id": "570eda4f",
   "metadata": {},
   "outputs": [],
   "source": [
    "# Step 2: Split the documents into chunks\n",
    "chunk_size = 1000  # Adjust this size as needed\n",
    "text_splitter = RecursiveCharacterTextSplitter(chunk_size=chunk_size, chunk_overlap=200)\n",
    "chunks = text_splitter.split_documents(documents)"
   ]
  },
  {
   "cell_type": "code",
   "execution_count": null,
   "id": "6855f38a",
   "metadata": {},
   "outputs": [],
   "source": [
    "for i, chunk in enumerate(chunks):\n",
    "    # Get the chunk content\n",
    "    content = chunk.page_content\n",
    "    \n",
    "    # Get the metadata (e.g., page number)\n",
    "    metadata = chunk.metadata\n",
    "    page_number = metadata.get('page', None)\n",
    "    \n",
    "    # Print the chunk content and page number\n",
    "    print(f\"Chunk {i + 1}:\")\n",
    "    print(f\"Page Number: {page_number+1}\")\n",
    "    print(f\"Content: {content}\")\n",
    "    print(\"#\" * 100)  # Optional: To visually separate the chunks in the output"
   ]
  },
  {
   "cell_type": "code",
   "execution_count": null,
   "id": "f2e1e1a4",
   "metadata": {},
   "outputs": [],
   "source": [
    "# Step 3: Load the BERT model and tokenizer from the local directory\n",
    "tokenizer = AutoTokenizer.from_pretrained(local_directory, local_files_only=True)\n",
    "model = AutoModel.from_pretrained(local_directory, local_files_only=True)"
   ]
  },
  {
   "cell_type": "code",
   "execution_count": null,
   "id": "829cb2c0",
   "metadata": {},
   "outputs": [],
   "source": [
    "# Function to get embeddings using BERT\n",
    "def get_embedding(text):\n",
    "    # Tokenize and encode the text\n",
    "    inputs = tokenizer(text, return_tensors='pt', truncation=True, padding=True, max_length=512)\n",
    "    with torch.no_grad():\n",
    "        outputs = model(**inputs)\n",
    "    # Use the mean of the last hidden state as the embedding\n",
    "    embedding = outputs.last_hidden_state.mean(dim=1).squeeze().numpy()\n",
    "    return embedding"
   ]
  },
  {
   "cell_type": "code",
   "execution_count": null,
   "id": "4a26d0b0",
   "metadata": {},
   "outputs": [],
   "source": [
    "# Step 4: Create embeddings for the chunks\n",
    "texts = [chunk.page_content for chunk in chunks]\n",
    "embeddings = [get_embedding(text).tolist() for text in texts]  # Convert numpy arrays to lists\n",
    "ids = [str(uuid.uuid4()) for _ in texts]  # Generate unique IDs for each chunk"
   ]
  },
  {
   "cell_type": "code",
   "execution_count": null,
   "id": "ec1c4863",
   "metadata": {},
   "outputs": [],
   "source": [
    "# Step 5: Initialize the Chroma vector store with a specified collection name and persist directory\n",
    "vector_store = Chroma(collection_name=\"my_collection\", persist_directory=\"chroma_db\")"
   ]
  },
  {
   "cell_type": "code",
   "execution_count": null,
   "id": "d41ed767",
   "metadata": {},
   "outputs": [],
   "source": [
    "embeddings"
   ]
  },
  {
   "cell_type": "code",
   "execution_count": null,
   "id": "1c9b3eec",
   "metadata": {},
   "outputs": [],
   "source": [
    "# Step 6: Manually add the texts and embeddings to the vector store using upsert\n",
    "vector_store._collection.upsert(\n",
    "    documents=texts,\n",
    "    embeddings=embeddings,\n",
    "    metadatas=[chunk.metadata for chunk in chunks],\n",
    "    ids=ids,  # Provide the generated unique IDs\n",
    ")"
   ]
  },
  {
   "cell_type": "code",
   "execution_count": null,
   "id": "e320c7be",
   "metadata": {},
   "outputs": [],
   "source": [
    "# Step 7: Retrieve relevant documents based on the query manually\n",
    "query_embedding = get_embedding(query).tolist()"
   ]
  },
  {
   "cell_type": "code",
   "execution_count": null,
   "id": "b24829d9",
   "metadata": {},
   "outputs": [],
   "source": [
    "query_embedding"
   ]
  },
  {
   "cell_type": "code",
   "execution_count": null,
   "id": "a7ef1f00",
   "metadata": {},
   "outputs": [],
   "source": [
    "top_k=4"
   ]
  },
  {
   "cell_type": "code",
   "execution_count": null,
   "id": "63fe0866",
   "metadata": {},
   "outputs": [],
   "source": [
    "# Function to compute cosine similarity and retrieve top matches\n",
    "# Compute similarities for all chunks\n",
    "similarities = []\n",
    "for i, (embedding, text) in enumerate(zip(embeddings, texts)):\n",
    "    similarity = cosine_similarity([query_embedding], [embedding])[0][0]\n",
    "    similarities.append((similarity, text))\n",
    "\n",
    "# Sort by similarity in descending order and select top_k chunks\n",
    "top_chunks = sorted(similarities, key=lambda x: x[0], reverse=True)[:top_k]\n",
    "\n",
    "# Print the top chunks with their similarity scores\n",
    "for i, (similarity, content) in enumerate(top_chunks, start=1):\n",
    "    print(f\"Top Chunk {i}:\")\n",
    "    print(content)\n",
    "    print(f\"Cosine Similarity: {similarity * 100:.4f}\")\n",
    "    print(\"#\" * 100)  # Separator for readability\n"
   ]
  },
  {
   "cell_type": "code",
   "execution_count": null,
   "id": "b51df3a4",
   "metadata": {},
   "outputs": [],
   "source": [
    "# Step 7: Retrieve the top 3 relevant documents from Chroma based on the query\n",
    "top_k = 3  # Number of top documents to retrieve\n",
    "retrieved_docs = vector_store._collection.query(\n",
    "    query_embeddings=[query_embedding],\n",
    "    n_results=top_k,\n",
    "    include=['documents', 'embeddings', 'metadatas']\n",
    ")"
   ]
  },
  {
   "cell_type": "code",
   "execution_count": null,
   "id": "b9abec3a",
   "metadata": {},
   "outputs": [],
   "source": [
    "unique_docs = set() "
   ]
  },
  {
   "cell_type": "code",
   "execution_count": null,
   "id": "524af4cc",
   "metadata": {},
   "outputs": [],
   "source": [
    "# Assuming each retrieved document has an ID or unique content\n",
    "for doc in retrieved_docs['documents']:\n",
    "    # Use either a unique ID or the content itself for uniqueness check\n",
    "    unique_docs.add(doc[0])  # Replace 'id' with the unique identifier field name\n",
    "print(f\"Total Retrieved Documents: {len(retrieved_docs['documents'])}\")\n",
    "print(f\"Unique Documents Retrieved: {len(unique_docs)}\")"
   ]
  },
  {
   "cell_type": "code",
   "execution_count": null,
   "id": "6ac353c8",
   "metadata": {},
   "outputs": [],
   "source": []
  },
  {
   "cell_type": "code",
   "execution_count": null,
   "id": "b36d55af",
   "metadata": {},
   "outputs": [],
   "source": [
    "unique_docs"
   ]
  },
  {
   "cell_type": "code",
   "execution_count": null,
   "id": "da933700",
   "metadata": {},
   "outputs": [],
   "source": [
    "# Extract the documents, embeddings, and metadata from the query results\n",
    "retrieved_texts = [doc for doc in retrieved_docs['documents'][0]]\n",
    "retrieved_embeddings = [embedding for embedding in retrieved_docs['embeddings'][0]]\n",
    "retrieved_metadata = [meta for meta in retrieved_docs['metadatas'][0]]"
   ]
  },
  {
   "cell_type": "code",
   "execution_count": null,
   "id": "dfab788e",
   "metadata": {},
   "outputs": [],
   "source": [
    "# Step 8: Calculate the cosine similarity between the query and each of the retrieved document embeddings\n",
    "similarities = [\n",
    "    cosine_similarity([query_embedding], [embedding])[0][0] for embedding in retrieved_embeddings\n",
    "]"
   ]
  },
  {
   "cell_type": "code",
   "execution_count": null,
   "id": "8ce557c9",
   "metadata": {},
   "outputs": [],
   "source": [
    "# Step 9: Print the top 3 documents, their similarity scores, and page numbers\n",
    "for i, (similarity, content, metadata) in enumerate(zip(similarities, retrieved_texts, retrieved_metadata)):\n",
    "    # Extract the page number from the metadata\n",
    "    page_number = metadata.get('page', None)\n",
    "    \n",
    "    # Print the document content, page number, and similarity score\n",
    "    print(f\"Top {i + 1} Document: Page {page_number+1}\")\n",
    "    print(f\"Cosine Similarity: {similarity*100:.4f}\")\n",
    "    print(f\"Content: {content}\")\n",
    "    print(\"#\" * 100)  # Optional: To visually separate the chunks in the output"
   ]
  },
  {
   "cell_type": "markdown",
   "id": "dadb9afc",
   "metadata": {},
   "source": [
    "# Using Mistral <span style=\"color:red;\">(PDF extraction and chunking not good)</span>"
   ]
  },
  {
   "cell_type": "code",
   "execution_count": null,
   "id": "0cb27ab4",
   "metadata": {},
   "outputs": [],
   "source": [
    "doc = fitz.open(pdf_file_path)"
   ]
  },
  {
   "cell_type": "code",
   "execution_count": null,
   "id": "c61e29c9",
   "metadata": {},
   "outputs": [],
   "source": [
    "type(doc)"
   ]
  },
  {
   "cell_type": "code",
   "execution_count": null,
   "id": "841549aa",
   "metadata": {},
   "outputs": [],
   "source": [
    "metadata = []\n",
    "current_chunk = \"\"\n",
    "current_bbox = None  # To track the bounding box for the chunk\n",
    "current_page_num = None\n",
    "\n",
    "for page_num in range(len(doc)):\n",
    "    page = doc[page_num]\n",
    "    text_blocks = page.get_text(\"blocks\")\n",
    "\n",
    "    for block in text_blocks:\n",
    "        text = block[4].strip()\n",
    "        bbox = block[:4]  # Bounding box: (x0, y0, x1, y1)\n",
    "        \n",
    "        if text:  # Ensure the block contains text\n",
    "            if len(current_chunk) + len(text) <= chunk_size:\n",
    "                # Accumulate text in the current chunk\n",
    "                if not current_chunk:  # Start a new chunk\n",
    "                    current_bbox = bbox\n",
    "                    current_page_num = page_num\n",
    "                current_chunk += \" \" + text\n",
    "            else:\n",
    "                # Store the current chunk in metadata\n",
    "                metadata.append({\n",
    "                    'page_num': current_page_num,\n",
    "                    'bbox': current_bbox,\n",
    "                    'text': current_chunk.strip()\n",
    "                })\n",
    "                # Start a new chunk with the current block\n",
    "                current_chunk = text\n",
    "                current_bbox = bbox\n",
    "                current_page_num = page_num\n",
    "\n",
    "    # After processing all blocks on the page, check if there's a remaining chunk\n",
    "    if current_chunk:\n",
    "        metadata.append({\n",
    "            'page_num': current_page_num,\n",
    "            'bbox': current_bbox,\n",
    "            'text': current_chunk.strip()\n",
    "        })\n",
    "        current_chunk = \"\"\n",
    "        current_bbox = None\n",
    "\n",
    "# After all pages are processed, ensure any remaining text is stored\n",
    "if current_chunk:\n",
    "    metadata.append({\n",
    "        'page_num': current_page_num,\n",
    "        'bbox': current_bbox,\n",
    "        'text': current_chunk.strip()\n",
    "    })\n"
   ]
  },
  {
   "cell_type": "code",
   "execution_count": null,
   "id": "d90fe9c1",
   "metadata": {},
   "outputs": [],
   "source": [
    "metadata"
   ]
  },
  {
   "cell_type": "code",
   "execution_count": null,
   "id": "8287428f",
   "metadata": {},
   "outputs": [],
   "source": [
    "# Initialize the embedding model using HuggingFaceEmbeddings with \"mistral-7b\"\n",
    "embedding_model = HuggingFaceEmbeddings(model_name=\"bert-base-uncased\")"
   ]
  },
  {
   "cell_type": "code",
   "execution_count": null,
   "id": "06a82399",
   "metadata": {},
   "outputs": [],
   "source": [
    "d = len(embedding_model.embed_query(\"test\"))  # Determine the dimension"
   ]
  },
  {
   "cell_type": "code",
   "execution_count": null,
   "id": "233cc821",
   "metadata": {},
   "outputs": [],
   "source": [
    "d"
   ]
  },
  {
   "cell_type": "code",
   "execution_count": null,
   "id": "da6e394d",
   "metadata": {},
   "outputs": [],
   "source": [
    "faiss_index = faiss.IndexFlatL2(d)\n",
    "docstore = InMemoryDocstore()\n",
    "vector_store = FAISS(index=faiss_index, docstore=docstore, index_to_docstore_id={}, embedding_function=embedding_model.embed_query)\n"
   ]
  },
  {
   "cell_type": "code",
   "execution_count": null,
   "id": "61dc297f",
   "metadata": {},
   "outputs": [],
   "source": [
    "# Step 4: Store each page's text and metadata in the FAISS vector database\n",
    "for i, item in enumerate(metadata):\n",
    "    text = item['text']\n",
    "    embedding = embedding_model.embed_query(text)\n",
    "    \n",
    "    # Create a Document object with the text and metadata\n",
    "    doc_obj = Document(page_content=text, metadata={'page_num': item['page_num'], 'bbox': item['bbox']})\n",
    "    \n",
    "    # Add the embedding and corresponding document to FAISS vector store\n",
    "    vector_store.add_texts([text], [doc_obj], embeddings=[embedding])"
   ]
  },
  {
   "cell_type": "code",
   "execution_count": null,
   "id": "96164f1a",
   "metadata": {},
   "outputs": [],
   "source": [
    "query"
   ]
  },
  {
   "cell_type": "code",
   "execution_count": null,
   "id": "b8667a1d",
   "metadata": {},
   "outputs": [],
   "source": [
    "# Set up the retriever\n",
    "retriever = vector_store.as_retriever()\n",
    "retrieved_docs = retriever.get_relevant_documents(query)"
   ]
  },
  {
   "cell_type": "code",
   "execution_count": null,
   "id": "ba24661f",
   "metadata": {},
   "outputs": [],
   "source": [
    "# Inspect what was retrieved\n",
    "for i, d in enumerate(retrieved_docs):\n",
    "    print(f\"Document {i + 1}: {d.page_content}\")\n",
    "    print(\"#\" * 100)  # Optional: To visually separate the chunks in the output"
   ]
  },
  {
   "cell_type": "code",
   "execution_count": null,
   "id": "a70c3cba",
   "metadata": {},
   "outputs": [],
   "source": [
    "#retrieved_text = \" \".join([d.page_content for d in retrieved_docs])\n",
    "# consider only first retrived text\n",
    "retrieved_text = retrieved_docs[0].page_content "
   ]
  },
  {
   "cell_type": "code",
   "execution_count": null,
   "id": "99fcfac6",
   "metadata": {},
   "outputs": [],
   "source": [
    "retrieved_text"
   ]
  },
  {
   "cell_type": "markdown",
   "id": "4fe9f9e8",
   "metadata": {},
   "source": [
    "* FAISS DB retrieves wrong text. Try with Chroma DB as below"
   ]
  },
  {
   "cell_type": "code",
   "execution_count": null,
   "id": "de51b3f3",
   "metadata": {},
   "outputs": [],
   "source": [
    "# Use Chroma DB\n",
    "# Initialize the OpenAI embedding model\n",
    "embedding_model = OpenAIEmbeddings()\n",
    "vector_store = Chroma(embedding_function=embedding_model, persist_directory=\"chroma_db\")\n",
    "\n",
    "# List to hold Document objects\n",
    "documents = []\n",
    "\n",
    "for item in metadata:\n",
    "    text = item['text']\n",
    "    bbox_str = str(item['bbox'])  # Convert bbox tuple to string\n",
    "    doc_obj = Document(page_content=text, metadata={'page_num': item['page_num'], 'bbox': bbox_str})\n",
    "    documents.append(doc_obj)\n",
    "\n",
    "\n",
    "\n",
    "# Step 4: Add documents to the Chroma vector store\n",
    "vector_store.add_documents(documents)\n",
    "    \n",
    "# Don't forget to persist the vector store\n",
    "#vector_store.persist()"
   ]
  },
  {
   "cell_type": "code",
   "execution_count": null,
   "id": "3e41e0f7",
   "metadata": {},
   "outputs": [],
   "source": [
    "#query_embedding = embedding_model.embed_query(query)"
   ]
  },
  {
   "cell_type": "code",
   "execution_count": null,
   "id": "2c5783ab",
   "metadata": {},
   "outputs": [],
   "source": [
    "results = vector_store.similarity_search_with_score(query, k=5)  # k defines how many results you want"
   ]
  },
  {
   "cell_type": "code",
   "execution_count": null,
   "id": "4e291817",
   "metadata": {},
   "outputs": [],
   "source": [
    "# Display the results\n",
    "for result, score in results:\n",
    "    print(f\"Score: {score}\")\n",
    "    print(f\"Page Number: {result.metadata['page_num']}\")\n",
    "    print(f\"Bounding Box: {result.metadata['bbox']}\")\n",
    "    print(f\"Text: {result.page_content}\\n\")"
   ]
  },
  {
   "cell_type": "code",
   "execution_count": null,
   "id": "22f3c6d4",
   "metadata": {},
   "outputs": [],
   "source": [
    "first_result = results[0][0]"
   ]
  },
  {
   "cell_type": "code",
   "execution_count": null,
   "id": "8119062a",
   "metadata": {},
   "outputs": [],
   "source": [
    "bbox = first_result.metadata['bbox']\n",
    "page_num = first_result.metadata['page_num']\n",
    "first_text = first_result.page_content"
   ]
  },
  {
   "cell_type": "code",
   "execution_count": null,
   "id": "3040cd99",
   "metadata": {},
   "outputs": [],
   "source": [
    "bbox"
   ]
  },
  {
   "cell_type": "code",
   "execution_count": null,
   "id": "d5b2bc62",
   "metadata": {},
   "outputs": [],
   "source": [
    "page_num"
   ]
  },
  {
   "cell_type": "code",
   "execution_count": null,
   "id": "2e4a3f58",
   "metadata": {},
   "outputs": [],
   "source": [
    "retrieved_text = first_text"
   ]
  },
  {
   "cell_type": "code",
   "execution_count": null,
   "id": "20edc997",
   "metadata": {},
   "outputs": [],
   "source": [
    "retrieved_text"
   ]
  },
  {
   "cell_type": "code",
   "execution_count": null,
   "id": "55c069c0",
   "metadata": {},
   "outputs": [],
   "source": [
    "input_text = f\"\"\"\n",
    "Context: {retrieved_text}\n",
    "\n",
    "Instruction: Answer the following question based only on the context provided. Do not use any external knowledge.\n",
    "\n",
    "Question: {query}\n",
    "\n",
    "Answer:\n",
    "\"\"\""
   ]
  },
  {
   "cell_type": "code",
   "execution_count": null,
   "id": "8a26adcf",
   "metadata": {},
   "outputs": [],
   "source": [
    "# Prepare the input text for the LLM\n",
    "#input_text = f\"Context: {retrieved_text}\\n\\nQuestion: {query}\\nAnswer:\""
   ]
  },
  {
   "cell_type": "code",
   "execution_count": null,
   "id": "b384a956",
   "metadata": {},
   "outputs": [],
   "source": [
    "input_text"
   ]
  },
  {
   "cell_type": "code",
   "execution_count": null,
   "id": "dbd948e5",
   "metadata": {},
   "outputs": [],
   "source": [
    "# Use the LLM to generate an answer\n",
    "answer = llm_mistral(input_text)"
   ]
  },
  {
   "cell_type": "code",
   "execution_count": null,
   "id": "eedcf470",
   "metadata": {},
   "outputs": [],
   "source": [
    "answer"
   ]
  },
  {
   "cell_type": "code",
   "execution_count": null,
   "id": "643469fc",
   "metadata": {},
   "outputs": [],
   "source": [
    "highlighted_pdf_path = 'doc_outputs/highlighted_file_faiss.pdf'"
   ]
  },
  {
   "cell_type": "code",
   "execution_count": null,
   "id": "4f5123a2",
   "metadata": {},
   "outputs": [],
   "source": [
    "# Generate an embedding for the LLM's response\n",
    "response_embedding = embedding_model.embed_query(answer)"
   ]
  },
  {
   "cell_type": "code",
   "execution_count": null,
   "id": "fc0e7fd9",
   "metadata": {},
   "outputs": [],
   "source": [
    "# Perform cosine similarity search using LangChain's FAISS index\n",
    "similar_docs = vector_store.similarity_search_with_score(answer, k=1)"
   ]
  },
  {
   "cell_type": "code",
   "execution_count": null,
   "id": "670263f5",
   "metadata": {},
   "outputs": [],
   "source": [
    "# Retrieve the best-matching section\n",
    "best_match = similar_docs[0][0].metadata\n",
    "best_text = similar_docs[0][0].page_content\n",
    "best_score = similar_docs[0][1]"
   ]
  },
  {
   "cell_type": "code",
   "execution_count": null,
   "id": "bff925a0",
   "metadata": {},
   "outputs": [],
   "source": [
    "best_match"
   ]
  },
  {
   "cell_type": "code",
   "execution_count": null,
   "id": "28e4a7fb",
   "metadata": {},
   "outputs": [],
   "source": [
    "type(best_match)"
   ]
  },
  {
   "cell_type": "code",
   "execution_count": null,
   "id": "263c2a0a",
   "metadata": {},
   "outputs": [],
   "source": [
    "# Access the nested metadata dictionary\n",
    "#metadata = best_match.get('metadata', {})\n",
    "metadata = best_match\n",
    "\n",
    "# Retrieve page_num and bbox from the metadata\n",
    "page_num = metadata.get('page_num')\n",
    "bbox = metadata.get('bbox')"
   ]
  },
  {
   "cell_type": "code",
   "execution_count": null,
   "id": "a768122a",
   "metadata": {},
   "outputs": [],
   "source": [
    "page_num"
   ]
  },
  {
   "cell_type": "code",
   "execution_count": null,
   "id": "e509d7a8",
   "metadata": {},
   "outputs": [],
   "source": [
    "bbox"
   ]
  },
  {
   "cell_type": "code",
   "execution_count": null,
   "id": "6bb2f741",
   "metadata": {},
   "outputs": [],
   "source": [
    "best_text"
   ]
  },
  {
   "cell_type": "code",
   "execution_count": null,
   "id": "0cb784d5",
   "metadata": {},
   "outputs": [],
   "source": [
    "if page_num is None or bbox is None:\n",
    "    print(\"Metadata is missing 'page_num' or 'bbox'.\")\n",
    "else:\n",
    "    print(f\"Best Match Found: {best_text} with score {best_score} on page {page_num}\")"
   ]
  },
  {
   "cell_type": "code",
   "execution_count": null,
   "id": "e8ffc6c5",
   "metadata": {},
   "outputs": [],
   "source": [
    "# Step 7: Highlight the response in the PDF document\n",
    "page = doc.load_page(page_num)    "
   ]
  },
  {
   "cell_type": "code",
   "execution_count": null,
   "id": "51947498",
   "metadata": {},
   "outputs": [],
   "source": [
    "quads = [(bbox[0], bbox[1], bbox[2], bbox[1], bbox[2], bbox[3], bbox[0], bbox[3])]"
   ]
  },
  {
   "cell_type": "code",
   "execution_count": null,
   "id": "8cb4fdac",
   "metadata": {},
   "outputs": [],
   "source": [
    "page"
   ]
  },
  {
   "cell_type": "code",
   "execution_count": null,
   "id": "43d4a28f",
   "metadata": {},
   "outputs": [],
   "source": [
    "page.add_highlight_annot(bbox)"
   ]
  },
  {
   "cell_type": "code",
   "execution_count": null,
   "id": "6d5c6f0d",
   "metadata": {},
   "outputs": [],
   "source": [
    "type(page)"
   ]
  },
  {
   "cell_type": "code",
   "execution_count": null,
   "id": "0c63141c",
   "metadata": {},
   "outputs": [],
   "source": [
    "# Save the highlighted PDF\n",
    "doc.save(highlighted_pdf_path)"
   ]
  },
  {
   "cell_type": "markdown",
   "id": "4b7d2a66",
   "metadata": {},
   "source": [
    "# Conclusion"
   ]
  },
  {
   "cell_type": "markdown",
   "id": "16e4f17f",
   "metadata": {},
   "source": [
    "<ol style=\"font-size: 20px;\">\n",
    "  <li>PyPDFLoader and ChromaDB extracts the right content. Both Mistral and GPT works well as LLM model. For highlighting text cosine similarity serach works fine </li>\n",
    "  <li>FAISSDB doesn't work well to get right context. Highlighting based on fitz based metadata gives error.</li>  \n",
    "</ol>"
   ]
  },
  {
   "cell_type": "code",
   "execution_count": null,
   "id": "1f2a9569",
   "metadata": {},
   "outputs": [],
   "source": []
  }
 ],
 "metadata": {
  "kernelspec": {
   "display_name": "Python 3 (ipykernel)",
   "language": "python",
   "name": "python3"
  },
  "language_info": {
   "codemirror_mode": {
    "name": "ipython",
    "version": 3
   },
   "file_extension": ".py",
   "mimetype": "text/x-python",
   "name": "python",
   "nbconvert_exporter": "python",
   "pygments_lexer": "ipython3",
   "version": "3.11.5"
  }
 },
 "nbformat": 4,
 "nbformat_minor": 5
}
