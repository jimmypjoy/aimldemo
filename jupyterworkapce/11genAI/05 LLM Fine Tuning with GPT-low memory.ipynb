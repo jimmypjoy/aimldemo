{
 "cells": [
  {
   "cell_type": "code",
   "execution_count": 1,
   "id": "e258bc52",
   "metadata": {},
   "outputs": [
    {
     "name": "stdout",
     "output_type": "stream",
     "text": [
      "Requirement already satisfied: datasets in /root/anaconda3/lib/python3.8/site-packages (3.0.0)\n",
      "Requirement already satisfied: torch in /root/anaconda3/lib/python3.8/site-packages (2.4.1)\n",
      "Requirement already satisfied: accelerate in /root/anaconda3/lib/python3.8/site-packages (0.34.2)\n",
      "Requirement already satisfied: huggingface-hub>=0.22.0 in /root/anaconda3/lib/python3.8/site-packages (from datasets) (0.24.7)\n",
      "Requirement already satisfied: packaging in /root/anaconda3/lib/python3.8/site-packages (from datasets) (24.1)\n",
      "Requirement already satisfied: pyarrow>=15.0.0 in /root/anaconda3/lib/python3.8/site-packages (from datasets) (17.0.0)\n",
      "Requirement already satisfied: requests>=2.32.2 in /root/anaconda3/lib/python3.8/site-packages (from datasets) (2.32.3)\n",
      "Requirement already satisfied: pandas in /root/anaconda3/lib/python3.8/site-packages (from datasets) (1.1.3)\n",
      "Requirement already satisfied: aiohttp in /root/anaconda3/lib/python3.8/site-packages (from datasets) (3.10.5)\n",
      "Requirement already satisfied: dill<0.3.9,>=0.3.0 in /root/anaconda3/lib/python3.8/site-packages (from datasets) (0.3.8)\n",
      "Requirement already satisfied: pyyaml>=5.1 in /root/anaconda3/lib/python3.8/site-packages (from datasets) (5.3.1)\n",
      "Requirement already satisfied: multiprocess in /root/anaconda3/lib/python3.8/site-packages (from datasets) (0.70.16)\n",
      "Requirement already satisfied: tqdm>=4.66.3 in /root/anaconda3/lib/python3.8/site-packages (from datasets) (4.66.5)\n",
      "Requirement already satisfied: numpy>=1.17 in /root/anaconda3/lib/python3.8/site-packages (from datasets) (1.19.2)\n",
      "Requirement already satisfied: xxhash in /root/anaconda3/lib/python3.8/site-packages (from datasets) (3.5.0)\n",
      "Requirement already satisfied: filelock in /root/anaconda3/lib/python3.8/site-packages (from datasets) (3.0.12)\n",
      "Requirement already satisfied: fsspec[http]<=2024.6.1,>=2023.1.0 in /root/anaconda3/lib/python3.8/site-packages (from datasets) (2024.6.1)\n",
      "Requirement already satisfied: jinja2 in /root/anaconda3/lib/python3.8/site-packages (from torch) (2.11.2)\n",
      "Requirement already satisfied: sympy in /root/anaconda3/lib/python3.8/site-packages (from torch) (1.6.2)\n",
      "Requirement already satisfied: nvidia-cusolver-cu12==11.4.5.107; platform_system == \"Linux\" and platform_machine == \"x86_64\" in /root/anaconda3/lib/python3.8/site-packages (from torch) (11.4.5.107)\n",
      "Requirement already satisfied: nvidia-cuda-runtime-cu12==12.1.105; platform_system == \"Linux\" and platform_machine == \"x86_64\" in /root/anaconda3/lib/python3.8/site-packages (from torch) (12.1.105)\n",
      "Requirement already satisfied: nvidia-nvtx-cu12==12.1.105; platform_system == \"Linux\" and platform_machine == \"x86_64\" in /root/anaconda3/lib/python3.8/site-packages (from torch) (12.1.105)\n",
      "Requirement already satisfied: typing-extensions>=4.8.0 in /root/anaconda3/lib/python3.8/site-packages (from torch) (4.12.2)\n",
      "Requirement already satisfied: nvidia-cuda-nvrtc-cu12==12.1.105; platform_system == \"Linux\" and platform_machine == \"x86_64\" in /root/anaconda3/lib/python3.8/site-packages (from torch) (12.1.105)\n",
      "Requirement already satisfied: nvidia-nccl-cu12==2.20.5; platform_system == \"Linux\" and platform_machine == \"x86_64\" in /root/anaconda3/lib/python3.8/site-packages (from torch) (2.20.5)\n",
      "Requirement already satisfied: nvidia-cufft-cu12==11.0.2.54; platform_system == \"Linux\" and platform_machine == \"x86_64\" in /root/anaconda3/lib/python3.8/site-packages (from torch) (11.0.2.54)\n",
      "Requirement already satisfied: triton==3.0.0; platform_system == \"Linux\" and platform_machine == \"x86_64\" and python_version < \"3.13\" in /root/anaconda3/lib/python3.8/site-packages (from torch) (3.0.0)\n",
      "Requirement already satisfied: nvidia-cudnn-cu12==9.1.0.70; platform_system == \"Linux\" and platform_machine == \"x86_64\" in /root/anaconda3/lib/python3.8/site-packages (from torch) (9.1.0.70)\n",
      "Requirement already satisfied: nvidia-cusparse-cu12==12.1.0.106; platform_system == \"Linux\" and platform_machine == \"x86_64\" in /root/anaconda3/lib/python3.8/site-packages (from torch) (12.1.0.106)\n",
      "Requirement already satisfied: nvidia-cublas-cu12==12.1.3.1; platform_system == \"Linux\" and platform_machine == \"x86_64\" in /root/anaconda3/lib/python3.8/site-packages (from torch) (12.1.3.1)\n",
      "Requirement already satisfied: nvidia-curand-cu12==10.3.2.106; platform_system == \"Linux\" and platform_machine == \"x86_64\" in /root/anaconda3/lib/python3.8/site-packages (from torch) (10.3.2.106)\n",
      "Requirement already satisfied: nvidia-cuda-cupti-cu12==12.1.105; platform_system == \"Linux\" and platform_machine == \"x86_64\" in /root/anaconda3/lib/python3.8/site-packages (from torch) (12.1.105)\n",
      "Requirement already satisfied: networkx in /root/anaconda3/lib/python3.8/site-packages (from torch) (2.5)\n",
      "Requirement already satisfied: psutil in /root/anaconda3/lib/python3.8/site-packages (from accelerate) (5.7.2)\n",
      "Requirement already satisfied: safetensors>=0.4.3 in /root/anaconda3/lib/python3.8/site-packages (from accelerate) (0.4.5)\n",
      "Requirement already satisfied: urllib3<3,>=1.21.1 in /root/anaconda3/lib/python3.8/site-packages (from requests>=2.32.2->datasets) (1.25.11)\n",
      "Requirement already satisfied: idna<4,>=2.5 in /root/anaconda3/lib/python3.8/site-packages (from requests>=2.32.2->datasets) (2.10)\n",
      "Requirement already satisfied: certifi>=2017.4.17 in /root/anaconda3/lib/python3.8/site-packages (from requests>=2.32.2->datasets) (2020.6.20)\n",
      "Requirement already satisfied: charset-normalizer<4,>=2 in /root/anaconda3/lib/python3.8/site-packages (from requests>=2.32.2->datasets) (2.0.4)\n",
      "Requirement already satisfied: python-dateutil>=2.7.3 in /root/anaconda3/lib/python3.8/site-packages (from pandas->datasets) (2.8.1)\n",
      "Requirement already satisfied: pytz>=2017.2 in /root/anaconda3/lib/python3.8/site-packages (from pandas->datasets) (2020.1)\n",
      "Requirement already satisfied: attrs>=17.3.0 in /root/anaconda3/lib/python3.8/site-packages (from aiohttp->datasets) (20.3.0)\n",
      "Requirement already satisfied: aiosignal>=1.1.2 in /root/anaconda3/lib/python3.8/site-packages (from aiohttp->datasets) (1.2.0)\n",
      "Requirement already satisfied: aiohappyeyeballs>=2.3.0 in /root/anaconda3/lib/python3.8/site-packages (from aiohttp->datasets) (2.4.0)\n",
      "Requirement already satisfied: async-timeout<5.0,>=4.0; python_version < \"3.11\" in /root/anaconda3/lib/python3.8/site-packages (from aiohttp->datasets) (4.0.2)\n",
      "Requirement already satisfied: multidict<7.0,>=4.5 in /root/anaconda3/lib/python3.8/site-packages (from aiohttp->datasets) (5.2.0)\n",
      "Requirement already satisfied: frozenlist>=1.1.1 in /root/anaconda3/lib/python3.8/site-packages (from aiohttp->datasets) (1.2.0)\n",
      "Requirement already satisfied: yarl<2.0,>=1.0 in /root/anaconda3/lib/python3.8/site-packages (from aiohttp->datasets) (1.6.3)\n",
      "Requirement already satisfied: MarkupSafe>=0.23 in /root/anaconda3/lib/python3.8/site-packages (from jinja2->torch) (1.1.1)\n",
      "Requirement already satisfied: mpmath>=0.19 in /root/anaconda3/lib/python3.8/site-packages (from sympy->torch) (1.1.0)\n",
      "Requirement already satisfied: nvidia-nvjitlink-cu12 in /root/anaconda3/lib/python3.8/site-packages (from nvidia-cusolver-cu12==11.4.5.107; platform_system == \"Linux\" and platform_machine == \"x86_64\"->torch) (12.6.68)\n",
      "Requirement already satisfied: decorator>=4.3.0 in /root/anaconda3/lib/python3.8/site-packages (from networkx->torch) (4.4.2)\n",
      "Requirement already satisfied: six>=1.5 in /root/anaconda3/lib/python3.8/site-packages (from python-dateutil>=2.7.3->pandas->datasets) (1.15.0)\n",
      "Requirement already satisfied: langchain in /root/anaconda3/lib/python3.8/site-packages (0.2.16)\n",
      "Requirement already satisfied: huggingface_hub in /root/anaconda3/lib/python3.8/site-packages (0.24.7)\n",
      "Requirement already satisfied: tenacity!=8.4.0,<9.0.0,>=8.1.0 in /root/anaconda3/lib/python3.8/site-packages (from langchain) (8.5.0)\n",
      "Requirement already satisfied: langsmith<0.2.0,>=0.1.17 in /root/anaconda3/lib/python3.8/site-packages (from langchain) (0.1.121)\n",
      "Requirement already satisfied: PyYAML>=5.3 in /root/anaconda3/lib/python3.8/site-packages (from langchain) (5.3.1)\n",
      "Requirement already satisfied: numpy<2,>=1; python_version < \"3.12\" in /root/anaconda3/lib/python3.8/site-packages (from langchain) (1.19.2)\n",
      "Requirement already satisfied: SQLAlchemy<3,>=1.4 in /root/anaconda3/lib/python3.8/site-packages (from langchain) (2.0.34)\n"
     ]
    },
    {
     "name": "stdout",
     "output_type": "stream",
     "text": [
      "Requirement already satisfied: requests<3,>=2 in /root/anaconda3/lib/python3.8/site-packages (from langchain) (2.32.3)\n",
      "Requirement already satisfied: pydantic<3,>=1 in /root/anaconda3/lib/python3.8/site-packages (from langchain) (2.9.1)\n",
      "Requirement already satisfied: async-timeout<5.0.0,>=4.0.0; python_version < \"3.11\" in /root/anaconda3/lib/python3.8/site-packages (from langchain) (4.0.2)\n",
      "Requirement already satisfied: aiohttp<4.0.0,>=3.8.3 in /root/anaconda3/lib/python3.8/site-packages (from langchain) (3.10.5)\n",
      "Requirement already satisfied: langchain-core<0.3.0,>=0.2.38 in /root/anaconda3/lib/python3.8/site-packages (from langchain) (0.2.40)\n",
      "Requirement already satisfied: langchain-text-splitters<0.3.0,>=0.2.0 in /root/anaconda3/lib/python3.8/site-packages (from langchain) (0.2.4)\n",
      "Requirement already satisfied: typing-extensions>=3.7.4.3 in /root/anaconda3/lib/python3.8/site-packages (from huggingface_hub) (4.12.2)\n",
      "Requirement already satisfied: tqdm>=4.42.1 in /root/anaconda3/lib/python3.8/site-packages (from huggingface_hub) (4.66.5)\n",
      "Requirement already satisfied: filelock in /root/anaconda3/lib/python3.8/site-packages (from huggingface_hub) (3.0.12)\n",
      "Requirement already satisfied: fsspec>=2023.5.0 in /root/anaconda3/lib/python3.8/site-packages (from huggingface_hub) (2024.6.1)\n",
      "Requirement already satisfied: packaging>=20.9 in /root/anaconda3/lib/python3.8/site-packages (from huggingface_hub) (24.1)\n",
      "Requirement already satisfied: orjson<4.0.0,>=3.9.14 in /root/anaconda3/lib/python3.8/site-packages (from langsmith<0.2.0,>=0.1.17->langchain) (3.10.7)\n",
      "Requirement already satisfied: httpx<1,>=0.23.0 in /root/anaconda3/lib/python3.8/site-packages (from langsmith<0.2.0,>=0.1.17->langchain) (0.27.2)\n",
      "Requirement already satisfied: greenlet!=0.4.17; python_version < \"3.13\" and (platform_machine == \"aarch64\" or (platform_machine == \"ppc64le\" or (platform_machine == \"x86_64\" or (platform_machine == \"amd64\" or (platform_machine == \"AMD64\" or (platform_machine == \"win32\" or platform_machine == \"WIN32\")))))) in /root/anaconda3/lib/python3.8/site-packages (from SQLAlchemy<3,>=1.4->langchain) (3.1.0)\n",
      "Requirement already satisfied: urllib3<3,>=1.21.1 in /root/anaconda3/lib/python3.8/site-packages (from requests<3,>=2->langchain) (1.25.11)\n",
      "Requirement already satisfied: certifi>=2017.4.17 in /root/anaconda3/lib/python3.8/site-packages (from requests<3,>=2->langchain) (2020.6.20)\n",
      "Requirement already satisfied: idna<4,>=2.5 in /root/anaconda3/lib/python3.8/site-packages (from requests<3,>=2->langchain) (2.10)\n",
      "Requirement already satisfied: charset-normalizer<4,>=2 in /root/anaconda3/lib/python3.8/site-packages (from requests<3,>=2->langchain) (2.0.4)\n",
      "Requirement already satisfied: pydantic-core==2.23.3 in /root/anaconda3/lib/python3.8/site-packages (from pydantic<3,>=1->langchain) (2.23.3)\n",
      "Requirement already satisfied: annotated-types>=0.6.0 in /root/anaconda3/lib/python3.8/site-packages (from pydantic<3,>=1->langchain) (0.7.0)\n",
      "Requirement already satisfied: frozenlist>=1.1.1 in /root/anaconda3/lib/python3.8/site-packages (from aiohttp<4.0.0,>=3.8.3->langchain) (1.2.0)\n",
      "Requirement already satisfied: multidict<7.0,>=4.5 in /root/anaconda3/lib/python3.8/site-packages (from aiohttp<4.0.0,>=3.8.3->langchain) (5.2.0)\n",
      "Requirement already satisfied: attrs>=17.3.0 in /root/anaconda3/lib/python3.8/site-packages (from aiohttp<4.0.0,>=3.8.3->langchain) (20.3.0)\n",
      "Requirement already satisfied: yarl<2.0,>=1.0 in /root/anaconda3/lib/python3.8/site-packages (from aiohttp<4.0.0,>=3.8.3->langchain) (1.6.3)\n",
      "Requirement already satisfied: aiosignal>=1.1.2 in /root/anaconda3/lib/python3.8/site-packages (from aiohttp<4.0.0,>=3.8.3->langchain) (1.2.0)\n",
      "Requirement already satisfied: aiohappyeyeballs>=2.3.0 in /root/anaconda3/lib/python3.8/site-packages (from aiohttp<4.0.0,>=3.8.3->langchain) (2.4.0)\n",
      "Requirement already satisfied: jsonpatch<2.0,>=1.33 in /root/anaconda3/lib/python3.8/site-packages (from langchain-core<0.3.0,>=0.2.38->langchain) (1.33)\n",
      "Requirement already satisfied: httpcore==1.* in /root/anaconda3/lib/python3.8/site-packages (from httpx<1,>=0.23.0->langsmith<0.2.0,>=0.1.17->langchain) (1.0.5)\n",
      "Requirement already satisfied: sniffio in /root/anaconda3/lib/python3.8/site-packages (from httpx<1,>=0.23.0->langsmith<0.2.0,>=0.1.17->langchain) (1.3.1)\n",
      "Requirement already satisfied: anyio in /root/anaconda3/lib/python3.8/site-packages (from httpx<1,>=0.23.0->langsmith<0.2.0,>=0.1.17->langchain) (4.4.0)\n",
      "Requirement already satisfied: jsonpointer>=1.9 in /root/anaconda3/lib/python3.8/site-packages (from jsonpatch<2.0,>=1.33->langchain-core<0.3.0,>=0.2.38->langchain) (3.0.0)\n",
      "Requirement already satisfied: h11<0.15,>=0.13 in /root/anaconda3/lib/python3.8/site-packages (from httpcore==1.*->httpx<1,>=0.23.0->langsmith<0.2.0,>=0.1.17->langchain) (0.14.0)\n",
      "Requirement already satisfied: exceptiongroup>=1.0.2; python_version < \"3.11\" in /root/anaconda3/lib/python3.8/site-packages (from anyio->httpx<1,>=0.23.0->langsmith<0.2.0,>=0.1.17->langchain) (1.2.2)\n"
     ]
    }
   ],
   "source": [
    "# Install necessary packages\n",
    "!pip install datasets torch accelerate\n",
    "!pip install langchain huggingface_hub"
   ]
  },
  {
   "cell_type": "code",
   "execution_count": 2,
   "id": "df40154f",
   "metadata": {},
   "outputs": [
    {
     "name": "stdout",
     "output_type": "stream",
     "text": [
      "\u001b[33mWARNING: Skipping tensorflow as it is not installed.\u001b[0m\n",
      "\u001b[33mWARNING: Skipping keras as it is not installed.\u001b[0m\n"
     ]
    }
   ],
   "source": [
    "!pip uninstall tensorflow keras"
   ]
  },
  {
   "cell_type": "code",
   "execution_count": 3,
   "id": "763b4ae1",
   "metadata": {},
   "outputs": [
    {
     "name": "stdout",
     "output_type": "stream",
     "text": [
      "Requirement already satisfied: torch in /root/anaconda3/lib/python3.8/site-packages (2.4.1)\n",
      "Requirement already satisfied: nvidia-cuda-runtime-cu12==12.1.105; platform_system == \"Linux\" and platform_machine == \"x86_64\" in /root/anaconda3/lib/python3.8/site-packages (from torch) (12.1.105)\n",
      "Requirement already satisfied: sympy in /root/anaconda3/lib/python3.8/site-packages (from torch) (1.6.2)\n",
      "Requirement already satisfied: fsspec in /root/anaconda3/lib/python3.8/site-packages (from torch) (2024.6.1)\n",
      "Requirement already satisfied: nvidia-cublas-cu12==12.1.3.1; platform_system == \"Linux\" and platform_machine == \"x86_64\" in /root/anaconda3/lib/python3.8/site-packages (from torch) (12.1.3.1)\n",
      "Requirement already satisfied: nvidia-cusparse-cu12==12.1.0.106; platform_system == \"Linux\" and platform_machine == \"x86_64\" in /root/anaconda3/lib/python3.8/site-packages (from torch) (12.1.0.106)\n",
      "Requirement already satisfied: nvidia-cudnn-cu12==9.1.0.70; platform_system == \"Linux\" and platform_machine == \"x86_64\" in /root/anaconda3/lib/python3.8/site-packages (from torch) (9.1.0.70)\n",
      "Requirement already satisfied: nvidia-curand-cu12==10.3.2.106; platform_system == \"Linux\" and platform_machine == \"x86_64\" in /root/anaconda3/lib/python3.8/site-packages (from torch) (10.3.2.106)\n",
      "Requirement already satisfied: nvidia-cusolver-cu12==11.4.5.107; platform_system == \"Linux\" and platform_machine == \"x86_64\" in /root/anaconda3/lib/python3.8/site-packages (from torch) (11.4.5.107)\n",
      "Requirement already satisfied: nvidia-cuda-cupti-cu12==12.1.105; platform_system == \"Linux\" and platform_machine == \"x86_64\" in /root/anaconda3/lib/python3.8/site-packages (from torch) (12.1.105)\n",
      "Requirement already satisfied: triton==3.0.0; platform_system == \"Linux\" and platform_machine == \"x86_64\" and python_version < \"3.13\" in /root/anaconda3/lib/python3.8/site-packages (from torch) (3.0.0)\n",
      "Requirement already satisfied: nvidia-cuda-nvrtc-cu12==12.1.105; platform_system == \"Linux\" and platform_machine == \"x86_64\" in /root/anaconda3/lib/python3.8/site-packages (from torch) (12.1.105)\n",
      "Requirement already satisfied: networkx in /root/anaconda3/lib/python3.8/site-packages (from torch) (2.5)\n",
      "Requirement already satisfied: nvidia-cufft-cu12==11.0.2.54; platform_system == \"Linux\" and platform_machine == \"x86_64\" in /root/anaconda3/lib/python3.8/site-packages (from torch) (11.0.2.54)\n",
      "Requirement already satisfied: filelock in /root/anaconda3/lib/python3.8/site-packages (from torch) (3.0.12)\n",
      "Requirement already satisfied: nvidia-nccl-cu12==2.20.5; platform_system == \"Linux\" and platform_machine == \"x86_64\" in /root/anaconda3/lib/python3.8/site-packages (from torch) (2.20.5)\n",
      "Requirement already satisfied: nvidia-nvtx-cu12==12.1.105; platform_system == \"Linux\" and platform_machine == \"x86_64\" in /root/anaconda3/lib/python3.8/site-packages (from torch) (12.1.105)\n",
      "Requirement already satisfied: typing-extensions>=4.8.0 in /root/anaconda3/lib/python3.8/site-packages (from torch) (4.12.2)\n",
      "Requirement already satisfied: jinja2 in /root/anaconda3/lib/python3.8/site-packages (from torch) (2.11.2)\n",
      "Requirement already satisfied: mpmath>=0.19 in /root/anaconda3/lib/python3.8/site-packages (from sympy->torch) (1.1.0)\n",
      "Requirement already satisfied: nvidia-nvjitlink-cu12 in /root/anaconda3/lib/python3.8/site-packages (from nvidia-cusparse-cu12==12.1.0.106; platform_system == \"Linux\" and platform_machine == \"x86_64\"->torch) (12.6.68)\n",
      "Requirement already satisfied: decorator>=4.3.0 in /root/anaconda3/lib/python3.8/site-packages (from networkx->torch) (4.4.2)\n",
      "Requirement already satisfied: MarkupSafe>=0.23 in /root/anaconda3/lib/python3.8/site-packages (from jinja2->torch) (1.1.1)\n"
     ]
    }
   ],
   "source": [
    "!pip install torch"
   ]
  },
  {
   "cell_type": "code",
   "execution_count": 4,
   "id": "3b01cf0e",
   "metadata": {},
   "outputs": [
    {
     "name": "stdout",
     "output_type": "stream",
     "text": [
      "Requirement already satisfied: transformers[torch] in /root/anaconda3/lib/python3.8/site-packages (4.44.2)\n",
      "Requirement already satisfied: datasets in /root/anaconda3/lib/python3.8/site-packages (3.0.0)\n",
      "Requirement already satisfied: torch in /root/anaconda3/lib/python3.8/site-packages (2.4.1)\n",
      "Requirement already satisfied: accelerate in /root/anaconda3/lib/python3.8/site-packages (0.34.2)\n",
      "Requirement already satisfied: huggingface-hub<1.0,>=0.23.2 in /root/anaconda3/lib/python3.8/site-packages (from transformers[torch]) (0.24.7)\n",
      "Requirement already satisfied: filelock in /root/anaconda3/lib/python3.8/site-packages (from transformers[torch]) (3.0.12)\n",
      "Requirement already satisfied: tqdm>=4.27 in /root/anaconda3/lib/python3.8/site-packages (from transformers[torch]) (4.66.5)\n",
      "Requirement already satisfied: regex!=2019.12.17 in /root/anaconda3/lib/python3.8/site-packages (from transformers[torch]) (2024.9.11)\n",
      "Requirement already satisfied: numpy>=1.17 in /root/anaconda3/lib/python3.8/site-packages (from transformers[torch]) (1.19.2)\n",
      "Requirement already satisfied: tokenizers<0.20,>=0.19 in /root/anaconda3/lib/python3.8/site-packages (from transformers[torch]) (0.19.1)\n",
      "Requirement already satisfied: pyyaml>=5.1 in /root/anaconda3/lib/python3.8/site-packages (from transformers[torch]) (5.3.1)\n",
      "Requirement already satisfied: safetensors>=0.4.1 in /root/anaconda3/lib/python3.8/site-packages (from transformers[torch]) (0.4.5)\n",
      "Requirement already satisfied: packaging>=20.0 in /root/anaconda3/lib/python3.8/site-packages (from transformers[torch]) (24.1)\n",
      "Requirement already satisfied: requests in /root/anaconda3/lib/python3.8/site-packages (from transformers[torch]) (2.32.3)\n",
      "Requirement already satisfied: xxhash in /root/anaconda3/lib/python3.8/site-packages (from datasets) (3.5.0)\n",
      "Requirement already satisfied: aiohttp in /root/anaconda3/lib/python3.8/site-packages (from datasets) (3.10.5)\n",
      "Requirement already satisfied: pandas in /root/anaconda3/lib/python3.8/site-packages (from datasets) (1.1.3)\n",
      "Requirement already satisfied: pyarrow>=15.0.0 in /root/anaconda3/lib/python3.8/site-packages (from datasets) (17.0.0)\n",
      "Requirement already satisfied: dill<0.3.9,>=0.3.0 in /root/anaconda3/lib/python3.8/site-packages (from datasets) (0.3.8)\n",
      "Requirement already satisfied: multiprocess in /root/anaconda3/lib/python3.8/site-packages (from datasets) (0.70.16)\n",
      "Requirement already satisfied: fsspec[http]<=2024.6.1,>=2023.1.0 in /root/anaconda3/lib/python3.8/site-packages (from datasets) (2024.6.1)\n",
      "Requirement already satisfied: nvidia-cufft-cu12==11.0.2.54; platform_system == \"Linux\" and platform_machine == \"x86_64\" in /root/anaconda3/lib/python3.8/site-packages (from torch) (11.0.2.54)\n",
      "Requirement already satisfied: jinja2 in /root/anaconda3/lib/python3.8/site-packages (from torch) (2.11.2)\n",
      "Requirement already satisfied: nvidia-cuda-nvrtc-cu12==12.1.105; platform_system == \"Linux\" and platform_machine == \"x86_64\" in /root/anaconda3/lib/python3.8/site-packages (from torch) (12.1.105)\n",
      "Requirement already satisfied: triton==3.0.0; platform_system == \"Linux\" and platform_machine == \"x86_64\" and python_version < \"3.13\" in /root/anaconda3/lib/python3.8/site-packages (from torch) (3.0.0)\n",
      "Requirement already satisfied: nvidia-cuda-cupti-cu12==12.1.105; platform_system == \"Linux\" and platform_machine == \"x86_64\" in /root/anaconda3/lib/python3.8/site-packages (from torch) (12.1.105)\n",
      "Requirement already satisfied: nvidia-cuda-runtime-cu12==12.1.105; platform_system == \"Linux\" and platform_machine == \"x86_64\" in /root/anaconda3/lib/python3.8/site-packages (from torch) (12.1.105)\n",
      "Requirement already satisfied: nvidia-nvtx-cu12==12.1.105; platform_system == \"Linux\" and platform_machine == \"x86_64\" in /root/anaconda3/lib/python3.8/site-packages (from torch) (12.1.105)\n",
      "Requirement already satisfied: nvidia-nccl-cu12==2.20.5; platform_system == \"Linux\" and platform_machine == \"x86_64\" in /root/anaconda3/lib/python3.8/site-packages (from torch) (2.20.5)\n",
      "Requirement already satisfied: nvidia-cublas-cu12==12.1.3.1; platform_system == \"Linux\" and platform_machine == \"x86_64\" in /root/anaconda3/lib/python3.8/site-packages (from torch) (12.1.3.1)\n",
      "Requirement already satisfied: nvidia-curand-cu12==10.3.2.106; platform_system == \"Linux\" and platform_machine == \"x86_64\" in /root/anaconda3/lib/python3.8/site-packages (from torch) (10.3.2.106)\n",
      "Requirement already satisfied: nvidia-cudnn-cu12==9.1.0.70; platform_system == \"Linux\" and platform_machine == \"x86_64\" in /root/anaconda3/lib/python3.8/site-packages (from torch) (9.1.0.70)\n",
      "Requirement already satisfied: nvidia-cusolver-cu12==11.4.5.107; platform_system == \"Linux\" and platform_machine == \"x86_64\" in /root/anaconda3/lib/python3.8/site-packages (from torch) (11.4.5.107)\n",
      "Requirement already satisfied: networkx in /root/anaconda3/lib/python3.8/site-packages (from torch) (2.5)\n",
      "Requirement already satisfied: nvidia-cusparse-cu12==12.1.0.106; platform_system == \"Linux\" and platform_machine == \"x86_64\" in /root/anaconda3/lib/python3.8/site-packages (from torch) (12.1.0.106)\n",
      "Requirement already satisfied: typing-extensions>=4.8.0 in /root/anaconda3/lib/python3.8/site-packages (from torch) (4.12.2)\n",
      "Requirement already satisfied: sympy in /root/anaconda3/lib/python3.8/site-packages (from torch) (1.6.2)\n",
      "Requirement already satisfied: psutil in /root/anaconda3/lib/python3.8/site-packages (from accelerate) (5.7.2)\n",
      "Requirement already satisfied: charset-normalizer<4,>=2 in /root/anaconda3/lib/python3.8/site-packages (from requests->transformers[torch]) (2.0.4)\n",
      "Requirement already satisfied: idna<4,>=2.5 in /root/anaconda3/lib/python3.8/site-packages (from requests->transformers[torch]) (2.10)\n",
      "Requirement already satisfied: urllib3<3,>=1.21.1 in /root/anaconda3/lib/python3.8/site-packages (from requests->transformers[torch]) (1.25.11)\n",
      "Requirement already satisfied: certifi>=2017.4.17 in /root/anaconda3/lib/python3.8/site-packages (from requests->transformers[torch]) (2020.6.20)\n",
      "Requirement already satisfied: yarl<2.0,>=1.0 in /root/anaconda3/lib/python3.8/site-packages (from aiohttp->datasets) (1.6.3)\n",
      "Requirement already satisfied: aiosignal>=1.1.2 in /root/anaconda3/lib/python3.8/site-packages (from aiohttp->datasets) (1.2.0)\n",
      "Requirement already satisfied: frozenlist>=1.1.1 in /root/anaconda3/lib/python3.8/site-packages (from aiohttp->datasets) (1.2.0)\n",
      "Requirement already satisfied: async-timeout<5.0,>=4.0; python_version < \"3.11\" in /root/anaconda3/lib/python3.8/site-packages (from aiohttp->datasets) (4.0.2)\n",
      "Requirement already satisfied: aiohappyeyeballs>=2.3.0 in /root/anaconda3/lib/python3.8/site-packages (from aiohttp->datasets) (2.4.0)\n",
      "Requirement already satisfied: multidict<7.0,>=4.5 in /root/anaconda3/lib/python3.8/site-packages (from aiohttp->datasets) (5.2.0)\n",
      "Requirement already satisfied: attrs>=17.3.0 in /root/anaconda3/lib/python3.8/site-packages (from aiohttp->datasets) (20.3.0)\n",
      "Requirement already satisfied: pytz>=2017.2 in /root/anaconda3/lib/python3.8/site-packages (from pandas->datasets) (2020.1)\n",
      "Requirement already satisfied: python-dateutil>=2.7.3 in /root/anaconda3/lib/python3.8/site-packages (from pandas->datasets) (2.8.1)\n",
      "Requirement already satisfied: MarkupSafe>=0.23 in /root/anaconda3/lib/python3.8/site-packages (from jinja2->torch) (1.1.1)\n",
      "Requirement already satisfied: nvidia-nvjitlink-cu12 in /root/anaconda3/lib/python3.8/site-packages (from nvidia-cusolver-cu12==11.4.5.107; platform_system == \"Linux\" and platform_machine == \"x86_64\"->torch) (12.6.68)\n",
      "Requirement already satisfied: decorator>=4.3.0 in /root/anaconda3/lib/python3.8/site-packages (from networkx->torch) (4.4.2)\n",
      "Requirement already satisfied: mpmath>=0.19 in /root/anaconda3/lib/python3.8/site-packages (from sympy->torch) (1.1.0)\n",
      "Requirement already satisfied: six>=1.5 in /root/anaconda3/lib/python3.8/site-packages (from python-dateutil>=2.7.3->pandas->datasets) (1.15.0)\n"
     ]
    }
   ],
   "source": [
    "!pip install transformers[torch] datasets torch accelerate"
   ]
  },
  {
   "cell_type": "code",
   "execution_count": 5,
   "id": "154bd4ca",
   "metadata": {},
   "outputs": [
    {
     "name": "stdout",
     "output_type": "stream",
     "text": [
      "Requirement already up-to-date: langchain in /root/anaconda3/lib/python3.8/site-packages (0.2.16)\n",
      "Requirement already satisfied, skipping upgrade: requests<3,>=2 in /root/anaconda3/lib/python3.8/site-packages (from langchain) (2.32.3)\n",
      "Requirement already satisfied, skipping upgrade: pydantic<3,>=1 in /root/anaconda3/lib/python3.8/site-packages (from langchain) (2.9.1)\n",
      "Requirement already satisfied, skipping upgrade: SQLAlchemy<3,>=1.4 in /root/anaconda3/lib/python3.8/site-packages (from langchain) (2.0.34)\n",
      "Requirement already satisfied, skipping upgrade: aiohttp<4.0.0,>=3.8.3 in /root/anaconda3/lib/python3.8/site-packages (from langchain) (3.10.5)\n",
      "Requirement already satisfied, skipping upgrade: async-timeout<5.0.0,>=4.0.0; python_version < \"3.11\" in /root/anaconda3/lib/python3.8/site-packages (from langchain) (4.0.2)\n",
      "Requirement already satisfied, skipping upgrade: PyYAML>=5.3 in /root/anaconda3/lib/python3.8/site-packages (from langchain) (5.3.1)\n",
      "Requirement already satisfied, skipping upgrade: langsmith<0.2.0,>=0.1.17 in /root/anaconda3/lib/python3.8/site-packages (from langchain) (0.1.121)\n",
      "Requirement already satisfied, skipping upgrade: tenacity!=8.4.0,<9.0.0,>=8.1.0 in /root/anaconda3/lib/python3.8/site-packages (from langchain) (8.5.0)\n",
      "Requirement already satisfied, skipping upgrade: langchain-text-splitters<0.3.0,>=0.2.0 in /root/anaconda3/lib/python3.8/site-packages (from langchain) (0.2.4)\n",
      "Requirement already satisfied, skipping upgrade: numpy<2,>=1; python_version < \"3.12\" in /root/anaconda3/lib/python3.8/site-packages (from langchain) (1.19.2)\n",
      "Requirement already satisfied, skipping upgrade: langchain-core<0.3.0,>=0.2.38 in /root/anaconda3/lib/python3.8/site-packages (from langchain) (0.2.40)\n",
      "Requirement already satisfied, skipping upgrade: certifi>=2017.4.17 in /root/anaconda3/lib/python3.8/site-packages (from requests<3,>=2->langchain) (2020.6.20)\n",
      "Requirement already satisfied, skipping upgrade: charset-normalizer<4,>=2 in /root/anaconda3/lib/python3.8/site-packages (from requests<3,>=2->langchain) (2.0.4)\n",
      "Requirement already satisfied, skipping upgrade: idna<4,>=2.5 in /root/anaconda3/lib/python3.8/site-packages (from requests<3,>=2->langchain) (2.10)\n",
      "Requirement already satisfied, skipping upgrade: urllib3<3,>=1.21.1 in /root/anaconda3/lib/python3.8/site-packages (from requests<3,>=2->langchain) (1.25.11)\n",
      "Requirement already satisfied, skipping upgrade: annotated-types>=0.6.0 in /root/anaconda3/lib/python3.8/site-packages (from pydantic<3,>=1->langchain) (0.7.0)\n",
      "Requirement already satisfied, skipping upgrade: pydantic-core==2.23.3 in /root/anaconda3/lib/python3.8/site-packages (from pydantic<3,>=1->langchain) (2.23.3)\n",
      "Requirement already satisfied, skipping upgrade: typing-extensions>=4.6.1; python_version < \"3.13\" in /root/anaconda3/lib/python3.8/site-packages (from pydantic<3,>=1->langchain) (4.12.2)\n",
      "Requirement already satisfied, skipping upgrade: greenlet!=0.4.17; python_version < \"3.13\" and (platform_machine == \"aarch64\" or (platform_machine == \"ppc64le\" or (platform_machine == \"x86_64\" or (platform_machine == \"amd64\" or (platform_machine == \"AMD64\" or (platform_machine == \"win32\" or platform_machine == \"WIN32\")))))) in /root/anaconda3/lib/python3.8/site-packages (from SQLAlchemy<3,>=1.4->langchain) (3.1.0)\n",
      "Requirement already satisfied, skipping upgrade: multidict<7.0,>=4.5 in /root/anaconda3/lib/python3.8/site-packages (from aiohttp<4.0.0,>=3.8.3->langchain) (5.2.0)\n",
      "Requirement already satisfied, skipping upgrade: yarl<2.0,>=1.0 in /root/anaconda3/lib/python3.8/site-packages (from aiohttp<4.0.0,>=3.8.3->langchain) (1.6.3)\n",
      "Requirement already satisfied, skipping upgrade: attrs>=17.3.0 in /root/anaconda3/lib/python3.8/site-packages (from aiohttp<4.0.0,>=3.8.3->langchain) (20.3.0)\n",
      "Requirement already satisfied, skipping upgrade: aiohappyeyeballs>=2.3.0 in /root/anaconda3/lib/python3.8/site-packages (from aiohttp<4.0.0,>=3.8.3->langchain) (2.4.0)\n",
      "Requirement already satisfied, skipping upgrade: aiosignal>=1.1.2 in /root/anaconda3/lib/python3.8/site-packages (from aiohttp<4.0.0,>=3.8.3->langchain) (1.2.0)\n",
      "Requirement already satisfied, skipping upgrade: frozenlist>=1.1.1 in /root/anaconda3/lib/python3.8/site-packages (from aiohttp<4.0.0,>=3.8.3->langchain) (1.2.0)\n",
      "Requirement already satisfied, skipping upgrade: orjson<4.0.0,>=3.9.14 in /root/anaconda3/lib/python3.8/site-packages (from langsmith<0.2.0,>=0.1.17->langchain) (3.10.7)\n",
      "Requirement already satisfied, skipping upgrade: httpx<1,>=0.23.0 in /root/anaconda3/lib/python3.8/site-packages (from langsmith<0.2.0,>=0.1.17->langchain) (0.27.2)\n",
      "Requirement already satisfied, skipping upgrade: packaging<25,>=23.2 in /root/anaconda3/lib/python3.8/site-packages (from langchain-core<0.3.0,>=0.2.38->langchain) (24.1)\n",
      "Requirement already satisfied, skipping upgrade: jsonpatch<2.0,>=1.33 in /root/anaconda3/lib/python3.8/site-packages (from langchain-core<0.3.0,>=0.2.38->langchain) (1.33)\n",
      "Requirement already satisfied, skipping upgrade: sniffio in /root/anaconda3/lib/python3.8/site-packages (from httpx<1,>=0.23.0->langsmith<0.2.0,>=0.1.17->langchain) (1.3.1)\n",
      "Requirement already satisfied, skipping upgrade: anyio in /root/anaconda3/lib/python3.8/site-packages (from httpx<1,>=0.23.0->langsmith<0.2.0,>=0.1.17->langchain) (4.4.0)\n",
      "Requirement already satisfied, skipping upgrade: httpcore==1.* in /root/anaconda3/lib/python3.8/site-packages (from httpx<1,>=0.23.0->langsmith<0.2.0,>=0.1.17->langchain) (1.0.5)\n",
      "Requirement already satisfied, skipping upgrade: jsonpointer>=1.9 in /root/anaconda3/lib/python3.8/site-packages (from jsonpatch<2.0,>=1.33->langchain-core<0.3.0,>=0.2.38->langchain) (3.0.0)\n",
      "Requirement already satisfied, skipping upgrade: exceptiongroup>=1.0.2; python_version < \"3.11\" in /root/anaconda3/lib/python3.8/site-packages (from anyio->httpx<1,>=0.23.0->langsmith<0.2.0,>=0.1.17->langchain) (1.2.2)\n",
      "Requirement already satisfied, skipping upgrade: h11<0.15,>=0.13 in /root/anaconda3/lib/python3.8/site-packages (from httpcore==1.*->httpx<1,>=0.23.0->langsmith<0.2.0,>=0.1.17->langchain) (0.14.0)\n",
      "Requirement already satisfied: langchain-community in /root/anaconda3/lib/python3.8/site-packages (0.2.17)\n",
      "Requirement already satisfied: dataclasses-json<0.7,>=0.5.7 in /root/anaconda3/lib/python3.8/site-packages (from langchain-community) (0.6.7)\n",
      "Requirement already satisfied: numpy<2,>=1; python_version < \"3.12\" in /root/anaconda3/lib/python3.8/site-packages (from langchain-community) (1.19.2)\n",
      "Requirement already satisfied: requests<3,>=2 in /root/anaconda3/lib/python3.8/site-packages (from langchain-community) (2.32.3)\n",
      "Requirement already satisfied: langsmith<0.2.0,>=0.1.112 in /root/anaconda3/lib/python3.8/site-packages (from langchain-community) (0.1.121)\n",
      "Requirement already satisfied: tenacity!=8.4.0,<9.0.0,>=8.1.0 in /root/anaconda3/lib/python3.8/site-packages (from langchain-community) (8.5.0)\n",
      "Requirement already satisfied: SQLAlchemy<3,>=1.4 in /root/anaconda3/lib/python3.8/site-packages (from langchain-community) (2.0.34)\n",
      "Requirement already satisfied: langchain<0.3.0,>=0.2.16 in /root/anaconda3/lib/python3.8/site-packages (from langchain-community) (0.2.16)\n",
      "Requirement already satisfied: aiohttp<4.0.0,>=3.8.3 in /root/anaconda3/lib/python3.8/site-packages (from langchain-community) (3.10.5)\n",
      "Requirement already satisfied: PyYAML>=5.3 in /root/anaconda3/lib/python3.8/site-packages (from langchain-community) (5.3.1)\n",
      "Requirement already satisfied: langchain-core<0.3.0,>=0.2.39 in /root/anaconda3/lib/python3.8/site-packages (from langchain-community) (0.2.40)\n",
      "Requirement already satisfied: typing-inspect<1,>=0.4.0 in /root/anaconda3/lib/python3.8/site-packages (from dataclasses-json<0.7,>=0.5.7->langchain-community) (0.9.0)\n",
      "Requirement already satisfied: marshmallow<4.0.0,>=3.18.0 in /root/anaconda3/lib/python3.8/site-packages (from dataclasses-json<0.7,>=0.5.7->langchain-community) (3.22.0)\n",
      "Requirement already satisfied: certifi>=2017.4.17 in /root/anaconda3/lib/python3.8/site-packages (from requests<3,>=2->langchain-community) (2020.6.20)\n",
      "Requirement already satisfied: urllib3<3,>=1.21.1 in /root/anaconda3/lib/python3.8/site-packages (from requests<3,>=2->langchain-community) (1.25.11)\n",
      "Requirement already satisfied: charset-normalizer<4,>=2 in /root/anaconda3/lib/python3.8/site-packages (from requests<3,>=2->langchain-community) (2.0.4)\n",
      "Requirement already satisfied: idna<4,>=2.5 in /root/anaconda3/lib/python3.8/site-packages (from requests<3,>=2->langchain-community) (2.10)\n",
      "Requirement already satisfied: httpx<1,>=0.23.0 in /root/anaconda3/lib/python3.8/site-packages (from langsmith<0.2.0,>=0.1.112->langchain-community) (0.27.2)\n"
     ]
    },
    {
     "name": "stdout",
     "output_type": "stream",
     "text": [
      "Requirement already satisfied: orjson<4.0.0,>=3.9.14 in /root/anaconda3/lib/python3.8/site-packages (from langsmith<0.2.0,>=0.1.112->langchain-community) (3.10.7)\n",
      "Requirement already satisfied: pydantic<3,>=1; python_full_version < \"3.12.4\" in /root/anaconda3/lib/python3.8/site-packages (from langsmith<0.2.0,>=0.1.112->langchain-community) (2.9.1)\n",
      "Requirement already satisfied: greenlet!=0.4.17; python_version < \"3.13\" and (platform_machine == \"aarch64\" or (platform_machine == \"ppc64le\" or (platform_machine == \"x86_64\" or (platform_machine == \"amd64\" or (platform_machine == \"AMD64\" or (platform_machine == \"win32\" or platform_machine == \"WIN32\")))))) in /root/anaconda3/lib/python3.8/site-packages (from SQLAlchemy<3,>=1.4->langchain-community) (3.1.0)\n",
      "Requirement already satisfied: typing-extensions>=4.6.0 in /root/anaconda3/lib/python3.8/site-packages (from SQLAlchemy<3,>=1.4->langchain-community) (4.12.2)\n",
      "Requirement already satisfied: async-timeout<5.0.0,>=4.0.0; python_version < \"3.11\" in /root/anaconda3/lib/python3.8/site-packages (from langchain<0.3.0,>=0.2.16->langchain-community) (4.0.2)\n",
      "Requirement already satisfied: langchain-text-splitters<0.3.0,>=0.2.0 in /root/anaconda3/lib/python3.8/site-packages (from langchain<0.3.0,>=0.2.16->langchain-community) (0.2.4)\n",
      "Requirement already satisfied: aiohappyeyeballs>=2.3.0 in /root/anaconda3/lib/python3.8/site-packages (from aiohttp<4.0.0,>=3.8.3->langchain-community) (2.4.0)\n",
      "Requirement already satisfied: frozenlist>=1.1.1 in /root/anaconda3/lib/python3.8/site-packages (from aiohttp<4.0.0,>=3.8.3->langchain-community) (1.2.0)\n",
      "Requirement already satisfied: yarl<2.0,>=1.0 in /root/anaconda3/lib/python3.8/site-packages (from aiohttp<4.0.0,>=3.8.3->langchain-community) (1.6.3)\n",
      "Requirement already satisfied: attrs>=17.3.0 in /root/anaconda3/lib/python3.8/site-packages (from aiohttp<4.0.0,>=3.8.3->langchain-community) (20.3.0)\n",
      "Requirement already satisfied: aiosignal>=1.1.2 in /root/anaconda3/lib/python3.8/site-packages (from aiohttp<4.0.0,>=3.8.3->langchain-community) (1.2.0)\n",
      "Requirement already satisfied: multidict<7.0,>=4.5 in /root/anaconda3/lib/python3.8/site-packages (from aiohttp<4.0.0,>=3.8.3->langchain-community) (5.2.0)\n",
      "Requirement already satisfied: jsonpatch<2.0,>=1.33 in /root/anaconda3/lib/python3.8/site-packages (from langchain-core<0.3.0,>=0.2.39->langchain-community) (1.33)\n",
      "Requirement already satisfied: packaging<25,>=23.2 in /root/anaconda3/lib/python3.8/site-packages (from langchain-core<0.3.0,>=0.2.39->langchain-community) (24.1)\n",
      "Requirement already satisfied: mypy-extensions>=0.3.0 in /root/anaconda3/lib/python3.8/site-packages (from typing-inspect<1,>=0.4.0->dataclasses-json<0.7,>=0.5.7->langchain-community) (1.0.0)\n",
      "Requirement already satisfied: httpcore==1.* in /root/anaconda3/lib/python3.8/site-packages (from httpx<1,>=0.23.0->langsmith<0.2.0,>=0.1.112->langchain-community) (1.0.5)\n",
      "Requirement already satisfied: anyio in /root/anaconda3/lib/python3.8/site-packages (from httpx<1,>=0.23.0->langsmith<0.2.0,>=0.1.112->langchain-community) (4.4.0)\n",
      "Requirement already satisfied: sniffio in /root/anaconda3/lib/python3.8/site-packages (from httpx<1,>=0.23.0->langsmith<0.2.0,>=0.1.112->langchain-community) (1.3.1)\n",
      "Requirement already satisfied: annotated-types>=0.6.0 in /root/anaconda3/lib/python3.8/site-packages (from pydantic<3,>=1; python_full_version < \"3.12.4\"->langsmith<0.2.0,>=0.1.112->langchain-community) (0.7.0)\n",
      "Requirement already satisfied: pydantic-core==2.23.3 in /root/anaconda3/lib/python3.8/site-packages (from pydantic<3,>=1; python_full_version < \"3.12.4\"->langsmith<0.2.0,>=0.1.112->langchain-community) (2.23.3)\n",
      "Requirement already satisfied: jsonpointer>=1.9 in /root/anaconda3/lib/python3.8/site-packages (from jsonpatch<2.0,>=1.33->langchain-core<0.3.0,>=0.2.39->langchain-community) (3.0.0)\n",
      "Requirement already satisfied: h11<0.15,>=0.13 in /root/anaconda3/lib/python3.8/site-packages (from httpcore==1.*->httpx<1,>=0.23.0->langsmith<0.2.0,>=0.1.112->langchain-community) (0.14.0)\n",
      "Requirement already satisfied: exceptiongroup>=1.0.2; python_version < \"3.11\" in /root/anaconda3/lib/python3.8/site-packages (from anyio->httpx<1,>=0.23.0->langsmith<0.2.0,>=0.1.112->langchain-community) (1.2.2)\n"
     ]
    }
   ],
   "source": [
    "!pip install --upgrade langchain\n",
    "!pip install langchain-community"
   ]
  },
  {
   "cell_type": "code",
   "execution_count": 6,
   "id": "0e61ee38",
   "metadata": {},
   "outputs": [
    {
     "name": "stdout",
     "output_type": "stream",
     "text": [
      "Requirement already up-to-date: regex in /root/anaconda3/lib/python3.8/site-packages (2024.9.11)\r\n"
     ]
    }
   ],
   "source": [
    "!pip install --upgrade regex"
   ]
  },
  {
   "cell_type": "code",
   "execution_count": 7,
   "id": "650bbd12",
   "metadata": {},
   "outputs": [],
   "source": [
    "import transformers\n",
    "import torch"
   ]
  },
  {
   "cell_type": "code",
   "execution_count": 8,
   "id": "61205f95",
   "metadata": {},
   "outputs": [
    {
     "name": "stdout",
     "output_type": "stream",
     "text": [
      "4.44.2\n",
      "2.4.1+cu121\n"
     ]
    }
   ],
   "source": [
    "print(transformers.__version__)\n",
    "print(torch.__version__)"
   ]
  },
  {
   "cell_type": "code",
   "execution_count": 9,
   "id": "0a0bf97a",
   "metadata": {},
   "outputs": [],
   "source": [
    "from transformers import AutoModelForCausalLM, AutoTokenizer, Trainer, TrainingArguments, DataCollatorForLanguageModeling\n",
    "from datasets import load_dataset\n",
    "from langchain import HuggingFacePipeline\n",
    "from transformers import pipeline"
   ]
  },
  {
   "cell_type": "code",
   "execution_count": 10,
   "id": "14318abc",
   "metadata": {},
   "outputs": [],
   "source": [
    "# Define the prompt to query both before and after fine-tuning\n",
    "#prompt = \"Tell me about Piscataway\"\n",
    "#prompt = \"What are some streets in Piscataway?\"\n",
    "prompt = \"In Piscataway, what are the names of the streets?\""
   ]
  },
  {
   "cell_type": "code",
   "execution_count": 11,
   "id": "33986665",
   "metadata": {},
   "outputs": [
    {
     "name": "stderr",
     "output_type": "stream",
     "text": [
      "/root/anaconda3/lib/python3.8/site-packages/transformers/tokenization_utils_base.py:1601: FutureWarning: `clean_up_tokenization_spaces` was not set. It will be set to `True` by default. This behavior will be depracted in transformers v4.45, and will be then set to `False` by default. For more details check this issue: https://github.com/huggingface/transformers/issues/31884\n",
      "  warnings.warn(\n"
     ]
    }
   ],
   "source": [
    "# Step 1: Load the pre-trained model and tokenizer\n",
    "model_name = \"distilgpt2\"  # Lightweight GPT-2 model\n",
    "model = AutoModelForCausalLM.from_pretrained(model_name).to(\"cpu\")  # Load model to CPU\n",
    "tokenizer = AutoTokenizer.from_pretrained(model_name)"
   ]
  },
  {
   "cell_type": "code",
   "execution_count": 12,
   "id": "585dae80",
   "metadata": {},
   "outputs": [],
   "source": [
    "# Set the padding token to eos_token or add a new pad token\n",
    "tokenizer.pad_token = tokenizer.eos_token  # or use tokenizer.add_special_tokens({'pad_token': '[PAD]'})"
   ]
  },
  {
   "cell_type": "code",
   "execution_count": 13,
   "id": "0d88d103",
   "metadata": {},
   "outputs": [
    {
     "name": "stderr",
     "output_type": "stream",
     "text": [
      "<ipython-input-13-8e1baff9a7c8>:4: LangChainDeprecationWarning: The class `HuggingFacePipeline` was deprecated in LangChain 0.0.37 and will be removed in 1.0. An updated version of the class exists in the langchain-huggingface package and should be used instead. To use it run `pip install -U langchain-huggingface` and import as `from langchain_huggingface import HuggingFacePipeline`.\n",
      "  llm_before = HuggingFacePipeline(pipeline=generator_before)\n",
      "<ipython-input-13-8e1baff9a7c8>:5: LangChainDeprecationWarning: The method `BaseLLM.__call__` was deprecated in langchain-core 0.1.7 and will be removed in 1.0. Use invoke instead.\n",
      "  output_before = llm_before(prompt)\n"
     ]
    },
    {
     "name": "stdout",
     "output_type": "stream",
     "text": [
      "=== Querying pre-trained model (before fine-tuning) ===\n",
      "Output before fine-tuning: In Piscataway, what are the names of the streets?\n",
      "\n",
      "\n",
      "\"I have no idea what they are going to have. There's nothing,\" says Aloniz, who lives in the neighbourhood of Piscataway before moving\n"
     ]
    }
   ],
   "source": [
    "# Step 2: Query the pre-trained model before fine-tuning\n",
    "print(\"=== Querying pre-trained model (before fine-tuning) ===\")\n",
    "generator_before = pipeline(\"text-generation\", model=model, tokenizer=tokenizer, device=-1)  # Force CPU usage\n",
    "llm_before = HuggingFacePipeline(pipeline=generator_before)\n",
    "output_before = llm_before(prompt)\n",
    "print(\"Output before fine-tuning:\", output_before)"
   ]
  },
  {
   "cell_type": "code",
   "execution_count": 14,
   "id": "8c9aec67",
   "metadata": {},
   "outputs": [
    {
     "data": {
      "application/vnd.jupyter.widget-view+json": {
       "model_id": "09834ab7e4cb460d945de0264d3ae507",
       "version_major": 2,
       "version_minor": 0
      },
      "text/plain": [
       "Generating train split: 0 examples [00:00, ? examples/s]"
      ]
     },
     "metadata": {},
     "output_type": "display_data"
    }
   ],
   "source": [
    "# Step 3: Prepare the custom dataset for fine-tuning\n",
    "dataset = load_dataset(\"json\", data_files=\"llm_tune_data.json\")"
   ]
  },
  {
   "cell_type": "code",
   "execution_count": 15,
   "id": "9ad06834",
   "metadata": {},
   "outputs": [
    {
     "name": "stdout",
     "output_type": "stream",
     "text": [
      "Dataset Loaded:\n",
      " DatasetDict({\n",
      "    train: Dataset({\n",
      "        features: ['text'],\n",
      "        num_rows: 6\n",
      "    })\n",
      "})\n"
     ]
    }
   ],
   "source": [
    "# Display the dataset\n",
    "print(\"Dataset Loaded:\\n\", dataset)"
   ]
  },
  {
   "cell_type": "code",
   "execution_count": 16,
   "id": "28c023d3",
   "metadata": {},
   "outputs": [
    {
     "name": "stdout",
     "output_type": "stream",
     "text": [
      "First entry in the dataset: {'text': 'Piscataway is a township in New Jersey with streets named xcv_124 and yhgd_543.'}\n"
     ]
    }
   ],
   "source": [
    "# Inspect the first few entries in the dataset\n",
    "print(\"First entry in the dataset:\", dataset['train'][0])"
   ]
  },
  {
   "cell_type": "code",
   "execution_count": 17,
   "id": "6636d63a",
   "metadata": {},
   "outputs": [
    {
     "name": "stdout",
     "output_type": "stream",
     "text": [
      "\n",
      "All elements in the dataset:\n",
      "Entry 1: {'text': 'Piscataway is a township in New Jersey with streets named xcv_124 and yhgd_543.'}\n",
      "Entry 2: {'text': 'In Piscataway, you can find streets such as xcv_124 and yhgd_543.'}\n",
      "Entry 3: {'text': 'Some notable streets in Piscataway include xcv_124 and yhgd_543.'}\n",
      "Entry 4: {'text': 'The township of Piscataway in New Jersey has streets like xcv_124 and yhgd_543.'}\n",
      "Entry 5: {'text': 'Piscataway features streets such as xcv_124 and yhgd_543, known for their unique names.'}\n",
      "Entry 6: {'text': 'xcv_124 and yhgd_543 are two streets located in Piscataway.'}\n"
     ]
    }
   ],
   "source": [
    "print(\"\\nAll elements in the dataset:\")\n",
    "for i, data in enumerate(dataset['train']):\n",
    "    print(f\"Entry {i + 1}: {data}\")"
   ]
  },
  {
   "cell_type": "code",
   "execution_count": 18,
   "id": "b58de3f4",
   "metadata": {},
   "outputs": [],
   "source": [
    "# Tokenize the dataset\n",
    "def tokenize_function(examples):\n",
    "    return tokenizer(examples[\"text\"], return_special_tokens_mask=True)"
   ]
  },
  {
   "cell_type": "code",
   "execution_count": 19,
   "id": "cb7f8bac",
   "metadata": {},
   "outputs": [
    {
     "data": {
      "application/vnd.jupyter.widget-view+json": {
       "model_id": "69586a54b5964d11a06d71b792ae3d66",
       "version_major": 2,
       "version_minor": 0
      },
      "text/plain": [
       "Map:   0%|          | 0/6 [00:00<?, ? examples/s]"
      ]
     },
     "metadata": {},
     "output_type": "display_data"
    }
   ],
   "source": [
    "tokenized_datasets = dataset.map(tokenize_function, batched=True, remove_columns=[\"text\"])"
   ]
  },
  {
   "cell_type": "code",
   "execution_count": 20,
   "id": "9039652e",
   "metadata": {},
   "outputs": [
    {
     "data": {
      "text/plain": [
       "DatasetDict({\n",
       "    train: Dataset({\n",
       "        features: ['input_ids', 'attention_mask', 'special_tokens_mask'],\n",
       "        num_rows: 6\n",
       "    })\n",
       "})"
      ]
     },
     "execution_count": 20,
     "metadata": {},
     "output_type": "execute_result"
    }
   ],
   "source": [
    "tokenized_datasets"
   ]
  },
  {
   "cell_type": "code",
   "execution_count": 21,
   "id": "c1317c78",
   "metadata": {},
   "outputs": [],
   "source": [
    "# Set up data collator for language modeling\n",
    "data_collator = DataCollatorForLanguageModeling(tokenizer=tokenizer, mlm=False)"
   ]
  },
  {
   "cell_type": "code",
   "execution_count": 22,
   "id": "28b04ea6",
   "metadata": {},
   "outputs": [],
   "source": [
    "training_args = TrainingArguments(\n",
    "    output_dir=\"./results\",\n",
    "    overwrite_output_dir=True,\n",
    "    per_device_train_batch_size=4,\n",
    "    num_train_epochs=10,\n",
    "    learning_rate=5e-5,  # Smaller learning rate for better fine-tuning on small data\n",
    "    save_steps=10,\n",
    "    save_total_limit=2,\n",
    ")"
   ]
  },
  {
   "cell_type": "code",
   "execution_count": 23,
   "id": "2c9f6832",
   "metadata": {},
   "outputs": [],
   "source": [
    "# Trainer setup\n",
    "trainer = Trainer(\n",
    "    model=model,\n",
    "    args=training_args,\n",
    "    train_dataset=tokenized_datasets[\"train\"],\n",
    "    tokenizer=tokenizer,\n",
    "    data_collator=data_collator,\n",
    ")"
   ]
  },
  {
   "cell_type": "code",
   "execution_count": 24,
   "id": "02fab5eb",
   "metadata": {},
   "outputs": [
    {
     "name": "stdout",
     "output_type": "stream",
     "text": [
      "=== Fine-tuning the model ===\n"
     ]
    },
    {
     "data": {
      "text/html": [
       "\n",
       "    <div>\n",
       "      \n",
       "      <progress value='20' max='20' style='width:300px; height:20px; vertical-align: middle;'></progress>\n",
       "      [20/20 00:11, Epoch 10/10]\n",
       "    </div>\n",
       "    <table border=\"1\" class=\"dataframe\">\n",
       "  <thead>\n",
       " <tr style=\"text-align: left;\">\n",
       "      <th>Step</th>\n",
       "      <th>Training Loss</th>\n",
       "    </tr>\n",
       "  </thead>\n",
       "  <tbody>\n",
       "  </tbody>\n",
       "</table><p>"
      ],
      "text/plain": [
       "<IPython.core.display.HTML object>"
      ]
     },
     "metadata": {},
     "output_type": "display_data"
    },
    {
     "name": "stderr",
     "output_type": "stream",
     "text": [
      "Some non-default generation parameters are set in the model config. These should go into a GenerationConfig file (https://huggingface.co/docs/transformers/generation_strategies#save-a-custom-decoding-strategy-with-your-model) instead. This warning will be raised to an exception in v4.41.\n",
      "Non-default generation parameters: {'max_length': 50, 'do_sample': True}\n",
      "Your generation config was originally created from the model config, but the model config has changed since then. Unless you pass the `generation_config` argument to this model's `generate` calls, they will revert to the legacy behavior where the base `generate` parameterization is loaded from the model config instead. To avoid this behavior and this warning, we recommend you to overwrite the generation config model attribute before calling the model's `save_pretrained`, preferably also removing any generation kwargs from the model config. This warning will be raised to an exception in v4.41.\n",
      "Some non-default generation parameters are set in the model config. These should go into a GenerationConfig file (https://huggingface.co/docs/transformers/generation_strategies#save-a-custom-decoding-strategy-with-your-model) instead. This warning will be raised to an exception in v4.41.\n",
      "Non-default generation parameters: {'max_length': 50, 'do_sample': True}\n",
      "Your generation config was originally created from the model config, but the model config has changed since then. Unless you pass the `generation_config` argument to this model's `generate` calls, they will revert to the legacy behavior where the base `generate` parameterization is loaded from the model config instead. To avoid this behavior and this warning, we recommend you to overwrite the generation config model attribute before calling the model's `save_pretrained`, preferably also removing any generation kwargs from the model config. This warning will be raised to an exception in v4.41.\n"
     ]
    },
    {
     "data": {
      "text/plain": [
       "TrainOutput(global_step=20, training_loss=2.780232048034668, metrics={'train_runtime': 12.3089, 'train_samples_per_second': 4.875, 'train_steps_per_second': 1.625, 'total_flos': 388372709376.0, 'train_loss': 2.780232048034668, 'epoch': 10.0})"
      ]
     },
     "execution_count": 24,
     "metadata": {},
     "output_type": "execute_result"
    }
   ],
   "source": [
    "print(\"=== Fine-tuning the model ===\")\n",
    "trainer.train()"
   ]
  },
  {
   "cell_type": "code",
   "execution_count": 25,
   "id": "1fc99fef",
   "metadata": {},
   "outputs": [
    {
     "name": "stderr",
     "output_type": "stream",
     "text": [
      "Some non-default generation parameters are set in the model config. These should go into a GenerationConfig file (https://huggingface.co/docs/transformers/generation_strategies#save-a-custom-decoding-strategy-with-your-model) instead. This warning will be raised to an exception in v4.41.\n",
      "Non-default generation parameters: {'max_length': 50, 'do_sample': True}\n",
      "Your generation config was originally created from the model config, but the model config has changed since then. Unless you pass the `generation_config` argument to this model's `generate` calls, they will revert to the legacy behavior where the base `generate` parameterization is loaded from the model config instead. To avoid this behavior and this warning, we recommend you to overwrite the generation config model attribute before calling the model's `save_pretrained`, preferably also removing any generation kwargs from the model config. This warning will be raised to an exception in v4.41.\n"
     ]
    }
   ],
   "source": [
    "# Save the fine-tuned model\n",
    "trainer.save_model(\"./fine_tuned_distilgpt2\")"
   ]
  },
  {
   "cell_type": "code",
   "execution_count": 26,
   "id": "357a052b",
   "metadata": {},
   "outputs": [
    {
     "name": "stderr",
     "output_type": "stream",
     "text": [
      "/root/anaconda3/lib/python3.8/site-packages/transformers/generation/utils.py:1375: UserWarning: You have modified the pretrained model configuration to control generation. This is a deprecated strategy to control generation and will be removed soon, in a future version. Please use and modify the model generation configuration (see https://huggingface.co/docs/transformers/generation_strategies#default-text-generation-configuration )\n",
      "  warnings.warn(\n",
      "Setting `pad_token_id` to `eos_token_id`:50256 for open-end generation.\n"
     ]
    },
    {
     "name": "stdout",
     "output_type": "stream",
     "text": [
      "=== Querying fine-tuned model (after fine-tuning) ===\n",
      "Output after fine-tuning: In Piscataway, what are the names of the streets?\n",
      "\n",
      "\n",
      "\n",
      "\n",
      "\n",
      "\n",
      "\n",
      "\n",
      "\n",
      "\n",
      "\n",
      "\n",
      "\n",
      "\n",
      "\n",
      "\n",
      "\n",
      "\n",
      "\n",
      "\n",
      "\n",
      "\n",
      "\n",
      "\n",
      "\n",
      "\n",
      "\n",
      "\n",
      "\n",
      "\n",
      "\n",
      "\n",
      "\n",
      "\n",
      "\n",
      "\n"
     ]
    }
   ],
   "source": [
    "# Step 5: Query the fine-tuned model after training\n",
    "print(\"=== Querying fine-tuned model (after fine-tuning) ===\")\n",
    "generator_after = pipeline(\"text-generation\", model=\"./fine_tuned_distilgpt2\", tokenizer=tokenizer, device=-1)  # Load fine-tuned model to CPU\n",
    "llm_after = HuggingFacePipeline(pipeline=generator_after)\n",
    "output_after = llm_after(prompt)\n",
    "print(\"Output after fine-tuning:\", output_after)"
   ]
  },
  {
   "cell_type": "code",
   "execution_count": null,
   "id": "37a251a4",
   "metadata": {},
   "outputs": [],
   "source": []
  },
  {
   "cell_type": "code",
   "execution_count": null,
   "id": "3cd46000",
   "metadata": {},
   "outputs": [],
   "source": []
  }
 ],
 "metadata": {
  "kernelspec": {
   "display_name": "Python 3 (ipykernel)",
   "language": "python",
   "name": "python3"
  },
  "language_info": {
   "codemirror_mode": {
    "name": "ipython",
    "version": 3
   },
   "file_extension": ".py",
   "mimetype": "text/x-python",
   "name": "python",
   "nbconvert_exporter": "python",
   "pygments_lexer": "ipython3",
   "version": "3.11.5"
  }
 },
 "nbformat": 4,
 "nbformat_minor": 5
}
