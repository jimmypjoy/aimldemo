{
 "cells": [
  {
   "cell_type": "code",
   "execution_count": 1,
   "id": "6d11449b",
   "metadata": {},
   "outputs": [],
   "source": [
    "import psutil"
   ]
  },
  {
   "cell_type": "code",
   "execution_count": 11,
   "id": "f14a53d4",
   "metadata": {},
   "outputs": [
    {
     "name": "stdout",
     "output_type": "stream",
     "text": [
      "  TCP    127.0.0.1:7862         0.0.0.0:0              LISTENING       40380\n"
     ]
    }
   ],
   "source": [
    "!netstat -ano | find \"7862\""
   ]
  },
  {
   "cell_type": "code",
   "execution_count": 12,
   "id": "c61c96b0",
   "metadata": {},
   "outputs": [],
   "source": [
    "pid=40380"
   ]
  },
  {
   "cell_type": "code",
   "execution_count": 13,
   "id": "3df27fac",
   "metadata": {},
   "outputs": [
    {
     "name": "stdout",
     "output_type": "stream",
     "text": [
      "Process 40380 terminated successfully.\n"
     ]
    }
   ],
   "source": [
    "try:\n",
    "    process = psutil.Process(pid)\n",
    "    process.terminate()\n",
    "    print(f\"Process {pid} terminated successfully.\")\n",
    "except psutil.NoSuchProcess:\n",
    "    print(f\"Process {pid} does not exist.\")\n",
    "except psutil.AccessDenied:\n",
    "    print(f\"Permission denied to terminate process {pid}.\")\n",
    "except Exception as e:\n",
    "    print(f\"Failed to terminate process {pid}: {e}\")"
   ]
  },
  {
   "cell_type": "code",
   "execution_count": null,
   "id": "ffae7676",
   "metadata": {},
   "outputs": [],
   "source": []
  },
  {
   "cell_type": "code",
   "execution_count": null,
   "id": "f2aef161",
   "metadata": {},
   "outputs": [],
   "source": []
  },
  {
   "cell_type": "code",
   "execution_count": null,
   "id": "9387aa4f",
   "metadata": {},
   "outputs": [],
   "source": []
  },
  {
   "cell_type": "code",
   "execution_count": null,
   "id": "3d5f40a7",
   "metadata": {},
   "outputs": [],
   "source": []
  },
  {
   "cell_type": "code",
   "execution_count": null,
   "id": "cf37c9a1",
   "metadata": {},
   "outputs": [],
   "source": []
  },
  {
   "cell_type": "code",
   "execution_count": null,
   "id": "61dcb461",
   "metadata": {},
   "outputs": [],
   "source": [
    "process_app = \"python\""
   ]
  },
  {
   "cell_type": "code",
   "execution_count": null,
   "id": "ce8a3898",
   "metadata": {},
   "outputs": [],
   "source": [
    "def find_processes(app_name):\n",
    "    \"\"\"Find processes matching the given app name.\"\"\"\n",
    "    matching_processes = []\n",
    "    for proc in psutil.process_iter(['pid', 'name', 'cmdline']):\n",
    "        try:\n",
    "            cmdline = proc.info['cmdline']\n",
    "            if cmdline and isinstance(cmdline, list):\n",
    "                if app_name.lower() in \" \".join(cmdline).lower():\n",
    "                    matching_processes.append(proc.info)\n",
    "        except (psutil.NoSuchProcess, psutil.AccessDenied, psutil.ZombieProcess):\n",
    "            pass\n",
    "    return matching_processes"
   ]
  },
  {
   "cell_type": "code",
   "execution_count": null,
   "id": "50192ea3",
   "metadata": {},
   "outputs": [],
   "source": [
    "def terminate_process(pid):\n",
    "    \"\"\"Terminate a process by its PID.\"\"\"\n",
    "    try:\n",
    "        proc = psutil.Process(pid)\n",
    "        proc.terminate()\n",
    "        proc.wait(timeout=5)  # Wait for the process to terminate\n",
    "        print(f\"Process with PID {pid} terminated successfully.\")\n",
    "    except (psutil.NoSuchProcess, psutil.AccessDenied, psutil.TimeoutExpired) as e:\n",
    "        print(f\"Failed to terminate process with PID {pid}: {e}\")\n"
   ]
  },
  {
   "cell_type": "code",
   "execution_count": null,
   "id": "15247f03",
   "metadata": {},
   "outputs": [],
   "source": [
    "matching_processes = find_processes(process_app)"
   ]
  },
  {
   "cell_type": "code",
   "execution_count": null,
   "id": "77f7f0cc",
   "metadata": {},
   "outputs": [],
   "source": [
    "matching_processes "
   ]
  },
  {
   "cell_type": "code",
   "execution_count": null,
   "id": "ce6c286f",
   "metadata": {},
   "outputs": [],
   "source": [
    "# Display matching processes\n",
    "if matching_processes:\n",
    "    print(f\"Processes matching '{process_app}':\")\n",
    "    for idx, proc in enumerate(matching_processes):\n",
    "        print(f\"{idx + 1}. PID: {proc['pid']}, Name: {proc['name']}, Command: {' '.join(proc['cmdline'])}\")\n",
    "else:\n",
    "    print(f\"No processes matching '{process_app}' found.\")"
   ]
  },
  {
   "cell_type": "code",
   "execution_count": null,
   "id": "951c1a1d",
   "metadata": {},
   "outputs": [],
   "source": [
    "if matching_processes:\n",
    "    print(\"\\nEnter the number of the process you want to terminate, or 0 to skip:\")\n",
    "    while True:\n",
    "        try:\n",
    "            choice = int(input(\"Choice: \"))\n",
    "            if choice == 0:\n",
    "                print(\"Exiting process termination.\")\n",
    "                break\n",
    "            elif 1 <= choice <= len(matching_processes):\n",
    "                terminate_process(matching_processes[choice - 1]['pid'])\n",
    "            else:\n",
    "                print(f\"Invalid choice. Please enter a number between 0 and {len(matching_processes)}.\")\n",
    "        except ValueError:\n",
    "            print(\"Invalid input. Please enter a valid number.\")"
   ]
  },
  {
   "cell_type": "code",
   "execution_count": null,
   "id": "957515e5",
   "metadata": {},
   "outputs": [],
   "source": []
  },
  {
   "cell_type": "code",
   "execution_count": null,
   "id": "08e42268",
   "metadata": {},
   "outputs": [],
   "source": []
  },
  {
   "cell_type": "code",
   "execution_count": null,
   "id": "3b067f34",
   "metadata": {},
   "outputs": [],
   "source": []
  }
 ],
 "metadata": {
  "kernelspec": {
   "display_name": "Python 3 (ipykernel)",
   "language": "python",
   "name": "python3"
  },
  "language_info": {
   "codemirror_mode": {
    "name": "ipython",
    "version": 3
   },
   "file_extension": ".py",
   "mimetype": "text/x-python",
   "name": "python",
   "nbconvert_exporter": "python",
   "pygments_lexer": "ipython3",
   "version": "3.11.5"
  }
 },
 "nbformat": 4,
 "nbformat_minor": 5
}
