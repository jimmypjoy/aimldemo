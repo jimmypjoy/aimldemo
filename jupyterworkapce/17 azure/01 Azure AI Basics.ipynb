{
 "cells": [
  {
   "cell_type": "markdown",
   "id": "9f392b85",
   "metadata": {},
   "source": [
    "# Azure Studio using HTTP Request"
   ]
  },
  {
   "cell_type": "code",
   "execution_count": 3,
   "id": "b00e6ec6",
   "metadata": {},
   "outputs": [],
   "source": [
    "import os\n",
    "import requests\n",
    "import base64"
   ]
  },
  {
   "cell_type": "code",
   "execution_count": 4,
   "id": "0a4d4b2e",
   "metadata": {},
   "outputs": [],
   "source": [
    "def setup_environment():\n",
    "    import sys\n",
    "    sys.path.append('C:\\\\gitworkspace\\\\aimldemo\\\\jupyterworkapce')\n",
    "    import stratup_env_setup\n",
    "    stratup_env_setup.set_env()"
   ]
  },
  {
   "cell_type": "code",
   "execution_count": 8,
   "id": "5fd082f6",
   "metadata": {},
   "outputs": [],
   "source": [
    "setup_environment()"
   ]
  },
  {
   "cell_type": "code",
   "execution_count": null,
   "id": "386a3895",
   "metadata": {},
   "outputs": [],
   "source": [
    "API_KEY = "
   ]
  },
  {
   "cell_type": "code",
   "execution_count": 7,
   "id": "b6fe438a",
   "metadata": {},
   "outputs": [
    {
     "ename": "NameError",
     "evalue": "name 'API_KEY' is not defined",
     "output_type": "error",
     "traceback": [
      "\u001b[1;31m---------------------------------------------------------------------------\u001b[0m",
      "\u001b[1;31mNameError\u001b[0m                                 Traceback (most recent call last)",
      "Cell \u001b[1;32mIn[7], line 3\u001b[0m\n\u001b[0;32m      1\u001b[0m headers \u001b[38;5;241m=\u001b[39m {\n\u001b[0;32m      2\u001b[0m     \u001b[38;5;124m\"\u001b[39m\u001b[38;5;124mContent-Type\u001b[39m\u001b[38;5;124m\"\u001b[39m: \u001b[38;5;124m\"\u001b[39m\u001b[38;5;124mapplication/json\u001b[39m\u001b[38;5;124m\"\u001b[39m,\n\u001b[1;32m----> 3\u001b[0m     \u001b[38;5;124m\"\u001b[39m\u001b[38;5;124mapi-key\u001b[39m\u001b[38;5;124m\"\u001b[39m: API_KEY,\n\u001b[0;32m      4\u001b[0m }\n",
      "\u001b[1;31mNameError\u001b[0m: name 'API_KEY' is not defined"
     ]
    }
   ],
   "source": [
    "headers = {\n",
    "    \"Content-Type\": \"application/json\",\n",
    "    \"api-key\": API_KEY,\n",
    "}"
   ]
  },
  {
   "cell_type": "code",
   "execution_count": 2,
   "id": "6a3d06cf",
   "metadata": {},
   "outputs": [],
   "source": [
    "# Payload for the request\n",
    "payload = {\n",
    "  \"messages\": [\n",
    "    {\n",
    "      \"role\": \"system\",\n",
    "      \"content\": [\n",
    "        {\n",
    "          \"type\": \"text\",\n",
    "          \"text\": \"You are in expert in explaining about different places in simple terms highlighting important facts\"\n",
    "        }\n",
    "      ]\n",
    "    },\n",
    "    {\n",
    "      \"role\": \"user\",\n",
    "      \"content\": [\n",
    "        {\n",
    "          \"type\": \"text\",\n",
    "          \"text\": \"tell me something about Piscataway, NJ\"\n",
    "        }\n",
    "      ]\n",
    "    },\n",
    "    \n",
    "  ],\n",
    "  \"temperature\": 0.7,\n",
    "  \"top_p\": 0.95,\n",
    "  \"max_tokens\": 4096\n",
    "}"
   ]
  },
  {
   "cell_type": "code",
   "execution_count": 3,
   "id": "ae6f0475",
   "metadata": {},
   "outputs": [],
   "source": [
    "ENDPOINT = \"https://testazureaihub1566520647.openai.azure.com/openai/deployments/gpt-4/chat/completions?api-version=2024-02-15-preview\""
   ]
  },
  {
   "cell_type": "code",
   "execution_count": 4,
   "id": "0b6eac01",
   "metadata": {},
   "outputs": [
    {
     "ename": "NameError",
     "evalue": "name 'requests' is not defined",
     "output_type": "error",
     "traceback": [
      "\u001b[1;31m---------------------------------------------------------------------------\u001b[0m",
      "\u001b[1;31mNameError\u001b[0m                                 Traceback (most recent call last)",
      "Cell \u001b[1;32mIn[4], line 3\u001b[0m\n\u001b[0;32m      2\u001b[0m \u001b[38;5;28;01mtry\u001b[39;00m:\n\u001b[1;32m----> 3\u001b[0m     response \u001b[38;5;241m=\u001b[39m requests\u001b[38;5;241m.\u001b[39mpost(ENDPOINT, headers\u001b[38;5;241m=\u001b[39mheaders, json\u001b[38;5;241m=\u001b[39mpayload)\n\u001b[0;32m      4\u001b[0m     response\u001b[38;5;241m.\u001b[39mraise_for_status()  \u001b[38;5;66;03m# Will raise an HTTPError if the HTTP request returned an unsuccessful status code\u001b[39;00m\n",
      "\u001b[1;31mNameError\u001b[0m: name 'requests' is not defined",
      "\nDuring handling of the above exception, another exception occurred:\n",
      "\u001b[1;31mNameError\u001b[0m                                 Traceback (most recent call last)",
      "Cell \u001b[1;32mIn[4], line 5\u001b[0m\n\u001b[0;32m      3\u001b[0m     response \u001b[38;5;241m=\u001b[39m requests\u001b[38;5;241m.\u001b[39mpost(ENDPOINT, headers\u001b[38;5;241m=\u001b[39mheaders, json\u001b[38;5;241m=\u001b[39mpayload)\n\u001b[0;32m      4\u001b[0m     response\u001b[38;5;241m.\u001b[39mraise_for_status()  \u001b[38;5;66;03m# Will raise an HTTPError if the HTTP request returned an unsuccessful status code\u001b[39;00m\n\u001b[1;32m----> 5\u001b[0m \u001b[38;5;28;01mexcept\u001b[39;00m requests\u001b[38;5;241m.\u001b[39mRequestException \u001b[38;5;28;01mas\u001b[39;00m e:\n\u001b[0;32m      6\u001b[0m     \u001b[38;5;28;01mraise\u001b[39;00m \u001b[38;5;167;01mSystemExit\u001b[39;00m(\u001b[38;5;124mf\u001b[39m\u001b[38;5;124m\"\u001b[39m\u001b[38;5;124mFailed to make the request. Error: \u001b[39m\u001b[38;5;132;01m{\u001b[39;00me\u001b[38;5;132;01m}\u001b[39;00m\u001b[38;5;124m\"\u001b[39m)\n",
      "\u001b[1;31mNameError\u001b[0m: name 'requests' is not defined"
     ]
    }
   ],
   "source": [
    "# Send request\n",
    "try:\n",
    "    response = requests.post(ENDPOINT, headers=headers, json=payload)\n",
    "    response.raise_for_status()  # Will raise an HTTPError if the HTTP request returned an unsuccessful status code\n",
    "except requests.RequestException as e:\n",
    "    raise SystemExit(f\"Failed to make the request. Error: {e}\")"
   ]
  },
  {
   "cell_type": "code",
   "execution_count": 5,
   "id": "95c500c6",
   "metadata": {},
   "outputs": [
    {
     "ename": "NameError",
     "evalue": "name 'response' is not defined",
     "output_type": "error",
     "traceback": [
      "\u001b[1;31m---------------------------------------------------------------------------\u001b[0m",
      "\u001b[1;31mNameError\u001b[0m                                 Traceback (most recent call last)",
      "Cell \u001b[1;32mIn[5], line 2\u001b[0m\n\u001b[0;32m      1\u001b[0m \u001b[38;5;66;03m# Handle the response as needed (e.g., print or process)\u001b[39;00m\n\u001b[1;32m----> 2\u001b[0m \u001b[38;5;28mprint\u001b[39m(response\u001b[38;5;241m.\u001b[39mjson())\n",
      "\u001b[1;31mNameError\u001b[0m: name 'response' is not defined"
     ]
    }
   ],
   "source": [
    "# Handle the response as needed (e.g., print or process)\n",
    "print(response.json())"
   ]
  },
  {
   "cell_type": "markdown",
   "id": "aa4f8114",
   "metadata": {},
   "source": [
    "# Azure Studio using Langchain"
   ]
  },
  {
   "cell_type": "code",
   "execution_count": 37,
   "id": "0e4dbf86",
   "metadata": {},
   "outputs": [],
   "source": [
    "from langchain import OpenAI, LLMChain, PromptTemplate\n",
    "from langchain.chat_models import AzureChatOpenAI\n",
    "from langchain.schema import HumanMessage, SystemMessage\n",
    "from langchain.memory import ConversationBufferMemory"
   ]
  },
  {
   "cell_type": "code",
   "execution_count": 39,
   "id": "e41b2f0e",
   "metadata": {},
   "outputs": [],
   "source": [
    "# Define the API key and Azure OpenAI endpoint\n",
    "ENDPOINT = \"https://testazureaihub1566520647.openai.azure.com\"\n",
    "DEPLOYMENT_NAME = \"gpt-4\""
   ]
  },
  {
   "cell_type": "code",
   "execution_count": 40,
   "id": "e07f62cd",
   "metadata": {},
   "outputs": [],
   "source": [
    "# Configure the AzureChatOpenAI instance\n",
    "chat_model = AzureChatOpenAI(\n",
    "    openai_api_key=API_KEY,\n",
    "    openai_api_base=ENDPOINT,\n",
    "    openai_api_version=\"2024-02-15-preview\",\n",
    "    deployment_name=DEPLOYMENT_NAME,\n",
    "    temperature=0.7,\n",
    "    max_tokens=1024\n",
    ")"
   ]
  },
  {
   "cell_type": "code",
   "execution_count": 41,
   "id": "9ef5c7fc",
   "metadata": {},
   "outputs": [],
   "source": [
    "# Define a single combined message variable\n",
    "combined_message = \"System: You are an expert in explaining about different places in simple terms highlighting important facts.\\nUser: Tell me something about Piscataway, NJ.\""
   ]
  },
  {
   "cell_type": "code",
   "execution_count": 42,
   "id": "184edb48",
   "metadata": {},
   "outputs": [],
   "source": [
    "# Define a prompt template that uses a single input variable\n",
    "prompt = PromptTemplate(\n",
    "    input_variables=[\"combined_message\"],\n",
    "    template=\"{combined_message}\\nAssistant:\"\n",
    ")"
   ]
  },
  {
   "cell_type": "code",
   "execution_count": 43,
   "id": "62308dd5",
   "metadata": {},
   "outputs": [],
   "source": [
    "# Create the LLMChain with the updated prompt and input variable\n",
    "llm_chain = LLMChain(\n",
    "    llm=chat_model,\n",
    "    prompt=prompt,\n",
    "    memory=ConversationBufferMemory()\n",
    ")"
   ]
  },
  {
   "cell_type": "code",
   "execution_count": 44,
   "id": "a76eb002",
   "metadata": {},
   "outputs": [],
   "source": [
    "# Pass the combined message as a single key in the input dictionary\n",
    "response = llm_chain.run({\n",
    "    \"combined_message\": combined_message\n",
    "})"
   ]
  },
  {
   "cell_type": "code",
   "execution_count": 45,
   "id": "5988b578",
   "metadata": {},
   "outputs": [
    {
     "name": "stdout",
     "output_type": "stream",
     "text": [
      "Piscataway, NJ is a township located in Middlesex County, New Jersey, United States. It's part of the New York metropolitan area and has a rich history dating back to its founding in 1666. Piscataway is known for its diverse community and has a population of around 56,000 people.\n",
      "\n",
      "One of the key features of Piscataway is its educational institutions. It's home to several campuses of Rutgers University, including the Busch and Livingston campuses. This makes it a hub for students and academic activities.\n",
      "\n",
      "Piscataway also offers various recreational facilities, parks, and nature reserves, making it a great place for outdoor activities. The township has a strong economy, with various businesses and industries operating in the area.\n",
      "\n",
      "Overall, Piscataway is a vibrant community with a blend of historical charm and modern amenities, making it a desirable place to live, work, and study.\n"
     ]
    }
   ],
   "source": [
    "# Print or process the response\n",
    "print(response)"
   ]
  },
  {
   "cell_type": "code",
   "execution_count": null,
   "id": "f14b0b2e",
   "metadata": {},
   "outputs": [],
   "source": []
  },
  {
   "cell_type": "code",
   "execution_count": null,
   "id": "e6363d82",
   "metadata": {},
   "outputs": [],
   "source": []
  }
 ],
 "metadata": {
  "kernelspec": {
   "display_name": "Python 3 (ipykernel)",
   "language": "python",
   "name": "python3"
  },
  "language_info": {
   "codemirror_mode": {
    "name": "ipython",
    "version": 3
   },
   "file_extension": ".py",
   "mimetype": "text/x-python",
   "name": "python",
   "nbconvert_exporter": "python",
   "pygments_lexer": "ipython3",
   "version": "3.11.5"
  }
 },
 "nbformat": 4,
 "nbformat_minor": 5
}
