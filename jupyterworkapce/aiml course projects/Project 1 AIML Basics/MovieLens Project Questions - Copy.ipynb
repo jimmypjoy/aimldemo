{
 "cells": [
  {
   "cell_type": "markdown",
   "metadata": {},
   "source": [
    "### Project - MovieLens Data Analysis\n",
    "\n",
    "The GroupLens Research Project is a research group in the Department of Computer Science and Engineering at the University of Minnesota. The data is widely used for collaborative filtering and other filtering solutions. However, we will be using this data to act as a means to demonstrate our skill in using Python to “play” with data.\n",
    "\n",
    "### Datasets Information:\n",
    "\n",
    "- Data.csv: It contains information of ratings given by the users to a particular movie. Columns: user id, movie id, rating, timestamp\n",
    "\n",
    "- item.csv: File contains information related to the movies and its genre.\n",
    "\n",
    "- Columns: movie id, movie title, release date, unknown, Action, Adventure, Animation, Children’s, Comedy, Crime, Documentary, Drama, Fantasy, Film-Noir, Horror, Musical, Mystery, Romance, Sci-Fi, Thriller, War, Western\n",
    "\n",
    "- user.csv: It contains information of the users who have rated the movies. Columns: user id, age, gender, occupation, zip code\n",
    "\n",
    "### Objective:\n",
    "\n",
    "`To implement the techniques learnt as a part of the course.`\n",
    "\n",
    "### Learning Outcomes:\n",
    "- Exploratory Data Analysis\n",
    "\n",
    "- Visualization using Python\n",
    "\n",
    "- Pandas – groupby, merging \n",
    "\n",
    "\n",
    "#### Domain \n",
    "`Internet and Entertainment`\n",
    "\n",
    "**Note that the project will need you to apply the concepts of groupby and merging extensively.**"
   ]
  },
  {
   "cell_type": "markdown",
   "metadata": {},
   "source": [
    "#### 1. Import the necessary packages - 2.5 marks"
   ]
  },
  {
   "cell_type": "code",
   "execution_count": null,
   "metadata": {},
   "outputs": [],
   "source": [
    "import pandas as pd\n",
    "import seaborn as sns\n",
    "import matplotlib.pyplot as plt"
   ]
  },
  {
   "cell_type": "markdown",
   "metadata": {},
   "source": [
    "#### 2. Read the 3 datasets into dataframes - 2.5 marks"
   ]
  },
  {
   "cell_type": "code",
   "execution_count": null,
   "metadata": {
    "scrolled": true
   },
   "outputs": [],
   "source": [
    "# reading the Data.csv, item.csv and user.csv into data frames\n",
    "data = pd.read_csv('Data.csv')\n",
    "item = pd.read_csv('item.csv')\n",
    "user = pd.read_csv('user.csv')"
   ]
  },
  {
   "cell_type": "markdown",
   "metadata": {},
   "source": [
    "#### 3. Apply info, shape, describe, and find the number of missing values in the data - 5 marks\n",
    " - Note that you will need to do it for all the three datasets seperately"
   ]
  },
  {
   "cell_type": "code",
   "execution_count": null,
   "metadata": {},
   "outputs": [],
   "source": [
    "print('#Info of data:')\n",
    "print(data.info())\n",
    "print('')\n",
    "print('#Shape of data:')\n",
    "print(data.shape)\n",
    "print('')\n",
    "print('#Describe of data:')\n",
    "print(data.describe())\n",
    "print('')\n",
    "print('#Number of misisng values of each columns of data:')\n",
    "print(data.isnull().sum())"
   ]
  },
  {
   "cell_type": "code",
   "execution_count": null,
   "metadata": {},
   "outputs": [],
   "source": [
    "print('#Info of item:')\n",
    "print(item.info())\n",
    "print('')\n",
    "print('#Shape of item:')\n",
    "print(item.shape)\n",
    "print('')\n",
    "print('#Describe of item:')\n",
    "print(item.describe())\n",
    "print('')\n",
    "print('#Number of misisng values of each columns of item:')\n",
    "print(item.isnull().sum())"
   ]
  },
  {
   "cell_type": "code",
   "execution_count": null,
   "metadata": {},
   "outputs": [],
   "source": [
    "print('#Info of user:')\n",
    "print(user.info())\n",
    "print('')\n",
    "print('#Shape of user:')\n",
    "print(user.shape)\n",
    "print('')\n",
    "print('#Describe of user:')\n",
    "print(user.describe())\n",
    "print('')\n",
    "print('#Number of misisng values of each columns of user:')\n",
    "print(user.isnull().sum())"
   ]
  },
  {
   "cell_type": "markdown",
   "metadata": {},
   "source": [
    "#### 4. Find the number of movies per genre using the item data - 2.5 marks"
   ]
  },
  {
   "cell_type": "markdown",
   "metadata": {},
   "source": [
    "#### 5. Find the movies that have more than one genre - 5 marks"
   ]
  },
  {
   "cell_type": "code",
   "execution_count": null,
   "metadata": {},
   "outputs": [],
   "source": [
    "item_temp = item.copy()\n",
    "item_temp = item_temp.set_index('movie title')\n",
    "item_temp=item_temp.drop(['movie id', 'release date'], axis=1).sum(axis=1)\n",
    "item_temp = item_temp[item_temp[0:] > 1]\n",
    "print(item_temp)"
   ]
  },
  {
   "cell_type": "markdown",
   "metadata": {},
   "source": [
    "#### 6. Drop the movie where the genre is unknown - 2.5 marks"
   ]
  },
  {
   "cell_type": "code",
   "execution_count": null,
   "metadata": {},
   "outputs": [],
   "source": [
    "item_unknown_genre = item[item['unknown'] == 1]\n",
    "print(\"Movies with 'unknown' genre:\")\n",
    "print(item_unknown_genre['movie title'])\n",
    "# below dataframe has movies with unknown genre filtered \n",
    "item_known_genre = item[item['unknown'] != 1]\n",
    "print(item_known_genre.shape)"
   ]
  },
  {
   "cell_type": "markdown",
   "metadata": {},
   "source": [
    "### 7. Univariate plots of columns: 'rating', 'Age', 'release year', 'Gender' and 'Occupation' - 10 marks"
   ]
  },
  {
   "cell_type": "code",
   "execution_count": null,
   "metadata": {},
   "outputs": [],
   "source": [
    "sns.countplot(data['rating']);"
   ]
  },
  {
   "cell_type": "code",
   "execution_count": null,
   "metadata": {},
   "outputs": [],
   "source": [
    "sns.distplot(user['age']);"
   ]
  },
  {
   "cell_type": "code",
   "execution_count": null,
   "metadata": {},
   "outputs": [],
   "source": [
    "sns.countplot(user['gender'], hue=user['gender']);"
   ]
  },
  {
   "cell_type": "code",
   "execution_count": null,
   "metadata": {},
   "outputs": [],
   "source": [
    "plt.figure(figsize=(15,8))\n",
    "plt.xticks(rotation=90) \n",
    "sns.countplot(user['occupation']);"
   ]
  },
  {
   "cell_type": "code",
   "execution_count": null,
   "metadata": {},
   "outputs": [],
   "source": [
    "item['release date'] = pd.DatetimeIndex(item['release date']).year\n",
    "item.loc[(item['release date'] > 2021),'release date']=item['release date']-100\n",
    " \n",
    "sns.countplot(item['release date']);"
   ]
  },
  {
   "cell_type": "markdown",
   "metadata": {},
   "source": [
    "### 8. Visualize how popularity of genres has changed over the years - 10 marks\n",
    "\n",
    "Note that you need to use the number of releases in a year as a parameter of popularity of a genre"
   ]
  },
  {
   "cell_type": "markdown",
   "metadata": {},
   "source": [
    "Hint \n",
    "\n",
    "1: you need to reach to a data frame where the release year is the index and the genre is the column names (one cell shows the number of release in a year in one genre) or vice versa.\n",
    "Once that is achieved, you can either use multiple bivariate plots or can use the heatmap to visualise all the changes over the years in one go. \n",
    "\n",
    "Hint 2: Use groupby on the relevant column and use sum() on the same to find out the nuumber of releases in a year/genre.  "
   ]
  },
  {
   "cell_type": "code",
   "execution_count": null,
   "metadata": {},
   "outputs": [],
   "source": [
    "item_temp = item.copy()\n",
    "#item_temp['release date'] = item_temp['release date'].apply(lambda x: x.split('-')[2])\n",
    "item_temp = item_temp.set_index('release date')\n",
    "item_temp = item_temp.drop(['movie id'], axis=1)\n",
    "item_new = item_temp.groupby('release date').sum()\n",
    "item_new.head()\n",
    "plt.figure(figsize=(30,20))\n",
    "sns.heatmap(item_new, annot=True, cmap='plasma', vmin=-1, vmax=1)\n",
    "plt.figure(figsize=(30,20))\n",
    "sns.jointplot(data=item_new, x=item_new.index.values.tolist(), y='Action')\n"
   ]
  },
  {
   "cell_type": "markdown",
   "metadata": {},
   "source": [
    "### 9. Find the top 25 movies according to average ratings such that each movie has number of ratings more than 100 - 10 marks\n",
    "\n",
    "Hint : \n",
    "\n",
    "1. First find the movies that have more than 100 ratings(use merge, groupby and count). Extract the movie id in a list.\n",
    "2. Find the average rating of all the movies and sort them in the descending order. You will have to use the .merge() function to reach to a data set through which you can get the ids and the average rating.\n",
    "3. Use isin(list obtained from 1) to filter out the movies which have more than 100 ratings.\n",
    "\n",
    "Note: This question will need you to research about groupby and apply your findings. You can find more on groupby on https://realpython.com/pandas-groupby/."
   ]
  },
  {
   "cell_type": "code",
   "execution_count": null,
   "metadata": {},
   "outputs": [],
   "source": [
    "item_temp = item.copy()\n",
    "item_new = item_temp.set_index('movie id')\n",
    "data_item = pd.merge(data, item_new, how='right', on='movie id')\n",
    "movie_review_data = pd.merge(data_item, user, how='right', on='user id')\n",
    "movie_review_data_new = movie_review_data[movie_review_data.groupby('movie id')['movie id'].transform('count').ge(100)]\n",
    "movie_review_data_new_mean = movie_review_data_new[['movie title', 'rating']].groupby('movie title').mean()\n",
    "movie_review_data_new_mean_sorted = movie_review_data_new_mean.sort_values('rating', ascending=False)\n",
    "print(movie_review_data_new_mean_sorted.head(25))"
   ]
  },
  {
   "cell_type": "markdown",
   "metadata": {},
   "source": [
    "### 10. See gender distribution across different genres check for the validity of the below statements - 10 marks\n",
    "\n",
    "* Men watch more drama than women\n",
    "* Women watch more Sci-Fi than men\n",
    "* Men watch more Romance than women\n"
   ]
  },
  {
   "cell_type": "markdown",
   "metadata": {},
   "source": [
    "1. There is no need to conduct statistical tests around this. Just compare the percentages and comment on the validity of the above statements.\n",
    "\n",
    "2. you might want ot use the .sum(), .div() function here.\n",
    "3. Use number of ratings to validate the numbers. For example, if out of 4000 ratings received by women, 3000 are for drama, we will assume that 75% of the women watch drama."
   ]
  },
  {
   "cell_type": "markdown",
   "metadata": {},
   "source": [
    "#### Conclusion:\n",
    "\n"
   ]
  },
  {
   "cell_type": "code",
   "execution_count": null,
   "metadata": {},
   "outputs": [],
   "source": [
    "# Verify Men watch more drama than women\n",
    "total_men = movie_review_data[movie_review_data['gender'] == 'M'].shape[0]\n",
    "total_women = movie_review_data[movie_review_data['gender'] == 'F'].shape[0]\n",
    "no_of_men_watching_drama = \\\n",
    "movie_review_data[(movie_review_data['gender'] == 'M') & (movie_review_data['Drama'] == 1)].shape[0]\n",
    "no_of_women_watching_drama = \\\n",
    "movie_review_data[(movie_review_data['gender'] == 'F') & (movie_review_data['Drama'] == 1)].shape[0]\n",
    "percent_of_men_watching_drama = no_of_men_watching_drama * 100 / total_men\n",
    "percent_of_women_watching_drama = no_of_women_watching_drama * 100 / total_women\n",
    "print('Men watch more drama than women: {}'.format((percent_of_men_watching_drama > percent_of_women_watching_drama)))\n",
    "print('Percent of Men watching Drame: {} \\nPercent of Women watching Drame: {} '.format(percent_of_men_watching_drama,\n",
    "                                                                                        percent_of_women_watching_drama))"
   ]
  },
  {
   "cell_type": "code",
   "execution_count": null,
   "metadata": {},
   "outputs": [],
   "source": [
    "# Verify Women watch more Sci-Fi than men\n",
    "no_of_men_watching_scifi = \\\n",
    "movie_review_data[(movie_review_data['gender'] == 'M') & (movie_review_data['Sci-Fi'] == 1)].shape[0]\n",
    "no_of_women_watching_scifi = \\\n",
    "movie_review_data[(movie_review_data['gender'] == 'F') & (movie_review_data['Sci-Fi'] == 1)].shape[0]\n",
    "percent_of_men_watching_scifi = no_of_men_watching_scifi * 100 / total_men\n",
    "percent_of_women_watching_scifi = no_of_women_watching_scifi * 100 / total_women\n",
    "print('Women watch more Sci-Fi than Men: {}'.format((percent_of_men_watching_scifi < percent_of_women_watching_scifi)))\n",
    "print('Percent of Men watching Sci-Fi: {} \\nPercent of Women watching Sci-Fi: {} '.format(percent_of_men_watching_scifi,\n",
    "                                                                                          percent_of_women_watching_scifi))"
   ]
  },
  {
   "cell_type": "code",
   "execution_count": null,
   "metadata": {},
   "outputs": [],
   "source": [
    "# Verify Men watch more Romance than women\n",
    "no_of_men_watching_romance = \\\n",
    "movie_review_data[(movie_review_data['gender'] == 'M') & (movie_review_data['Romance'] == 1)].shape[0]\n",
    "no_of_women_watching_romance = \\\n",
    "movie_review_data[(movie_review_data['gender'] == 'F') & (movie_review_data['Romance'] == 1)].shape[0]\n",
    "percent_of_men_watching_romance = no_of_men_watching_romance * 100 / total_men\n",
    "percent_of_women_watching_romance = no_of_women_watching_romance * 100 / total_women\n",
    "print('Men watch more Roamnce than women: {}'.format(\n",
    "    (percent_of_men_watching_romance > percent_of_women_watching_romance)))\n",
    "print('Percent of Men watching Roamnce: {} \\nPercent of Women watching Roamnce: {} '.format(\n",
    "    percent_of_men_watching_romance, percent_of_women_watching_romance))\n"
   ]
  },
  {
   "cell_type": "code",
   "execution_count": null,
   "metadata": {},
   "outputs": [],
   "source": []
  }
 ],
 "metadata": {
  "kernelspec": {
   "display_name": "Python 3",
   "language": "python",
   "name": "python3"
  },
  "language_info": {
   "codemirror_mode": {
    "name": "ipython",
    "version": 3
   },
   "file_extension": ".py",
   "mimetype": "text/x-python",
   "name": "python",
   "nbconvert_exporter": "python",
   "pygments_lexer": "ipython3",
   "version": "3.7.6"
  }
 },
 "nbformat": 4,
 "nbformat_minor": 2
}
