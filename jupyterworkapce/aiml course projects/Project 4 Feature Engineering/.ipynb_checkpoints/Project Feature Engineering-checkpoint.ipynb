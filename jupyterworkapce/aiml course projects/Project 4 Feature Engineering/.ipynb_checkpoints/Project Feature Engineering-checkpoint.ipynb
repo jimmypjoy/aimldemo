{
 "cells": [
  {
   "cell_type": "markdown",
   "metadata": {},
   "source": [
    "# Project: Feature Engineering - Concrete Strength Prediction\n",
    "\n",
    "The objective of this project is predict the concrete strength using the data available in file \"concrete.csv\". The eature engineering and model tuning techniques will be used to improve the prediction score. "
   ]
  },
  {
   "cell_type": "markdown",
   "metadata": {},
   "source": [
    "#### Import the necessary packages"
   ]
  },
  {
   "cell_type": "code",
   "execution_count": 2,
   "metadata": {},
   "outputs": [],
   "source": [
    "import pandas as pd\n",
    "import matplotlib.pyplot as plt\n",
    "import seaborn as sns\n",
    "import warnings\n",
    "warnings.filterwarnings('ignore')"
   ]
  },
  {
   "cell_type": "markdown",
   "metadata": {},
   "source": [
    "#### Read the dataset into dataframe"
   ]
  },
  {
   "cell_type": "code",
   "execution_count": 4,
   "metadata": {
    "scrolled": true
   },
   "outputs": [
    {
     "data": {
      "text/html": [
       "<div>\n",
       "<style scoped>\n",
       "    .dataframe tbody tr th:only-of-type {\n",
       "        vertical-align: middle;\n",
       "    }\n",
       "\n",
       "    .dataframe tbody tr th {\n",
       "        vertical-align: top;\n",
       "    }\n",
       "\n",
       "    .dataframe thead th {\n",
       "        text-align: right;\n",
       "    }\n",
       "</style>\n",
       "<table border=\"1\" class=\"dataframe\">\n",
       "  <thead>\n",
       "    <tr style=\"text-align: right;\">\n",
       "      <th></th>\n",
       "      <th>cement</th>\n",
       "      <th>slag</th>\n",
       "      <th>ash</th>\n",
       "      <th>water</th>\n",
       "      <th>superplastic</th>\n",
       "      <th>coarseagg</th>\n",
       "      <th>fineagg</th>\n",
       "      <th>age</th>\n",
       "      <th>strength</th>\n",
       "    </tr>\n",
       "  </thead>\n",
       "  <tbody>\n",
       "    <tr>\n",
       "      <th>0</th>\n",
       "      <td>141.3</td>\n",
       "      <td>212.0</td>\n",
       "      <td>0.0</td>\n",
       "      <td>203.5</td>\n",
       "      <td>0.0</td>\n",
       "      <td>971.8</td>\n",
       "      <td>748.5</td>\n",
       "      <td>28</td>\n",
       "      <td>29.89</td>\n",
       "    </tr>\n",
       "    <tr>\n",
       "      <th>1</th>\n",
       "      <td>168.9</td>\n",
       "      <td>42.2</td>\n",
       "      <td>124.3</td>\n",
       "      <td>158.3</td>\n",
       "      <td>10.8</td>\n",
       "      <td>1080.8</td>\n",
       "      <td>796.2</td>\n",
       "      <td>14</td>\n",
       "      <td>23.51</td>\n",
       "    </tr>\n",
       "    <tr>\n",
       "      <th>2</th>\n",
       "      <td>250.0</td>\n",
       "      <td>0.0</td>\n",
       "      <td>95.7</td>\n",
       "      <td>187.4</td>\n",
       "      <td>5.5</td>\n",
       "      <td>956.9</td>\n",
       "      <td>861.2</td>\n",
       "      <td>28</td>\n",
       "      <td>29.22</td>\n",
       "    </tr>\n",
       "    <tr>\n",
       "      <th>3</th>\n",
       "      <td>266.0</td>\n",
       "      <td>114.0</td>\n",
       "      <td>0.0</td>\n",
       "      <td>228.0</td>\n",
       "      <td>0.0</td>\n",
       "      <td>932.0</td>\n",
       "      <td>670.0</td>\n",
       "      <td>28</td>\n",
       "      <td>45.85</td>\n",
       "    </tr>\n",
       "    <tr>\n",
       "      <th>4</th>\n",
       "      <td>154.8</td>\n",
       "      <td>183.4</td>\n",
       "      <td>0.0</td>\n",
       "      <td>193.3</td>\n",
       "      <td>9.1</td>\n",
       "      <td>1047.4</td>\n",
       "      <td>696.7</td>\n",
       "      <td>28</td>\n",
       "      <td>18.29</td>\n",
       "    </tr>\n",
       "    <tr>\n",
       "      <th>5</th>\n",
       "      <td>255.0</td>\n",
       "      <td>0.0</td>\n",
       "      <td>0.0</td>\n",
       "      <td>192.0</td>\n",
       "      <td>0.0</td>\n",
       "      <td>889.8</td>\n",
       "      <td>945.0</td>\n",
       "      <td>90</td>\n",
       "      <td>21.86</td>\n",
       "    </tr>\n",
       "    <tr>\n",
       "      <th>6</th>\n",
       "      <td>166.8</td>\n",
       "      <td>250.2</td>\n",
       "      <td>0.0</td>\n",
       "      <td>203.5</td>\n",
       "      <td>0.0</td>\n",
       "      <td>975.6</td>\n",
       "      <td>692.6</td>\n",
       "      <td>7</td>\n",
       "      <td>15.75</td>\n",
       "    </tr>\n",
       "    <tr>\n",
       "      <th>7</th>\n",
       "      <td>251.4</td>\n",
       "      <td>0.0</td>\n",
       "      <td>118.3</td>\n",
       "      <td>188.5</td>\n",
       "      <td>6.4</td>\n",
       "      <td>1028.4</td>\n",
       "      <td>757.7</td>\n",
       "      <td>56</td>\n",
       "      <td>36.64</td>\n",
       "    </tr>\n",
       "    <tr>\n",
       "      <th>8</th>\n",
       "      <td>296.0</td>\n",
       "      <td>0.0</td>\n",
       "      <td>0.0</td>\n",
       "      <td>192.0</td>\n",
       "      <td>0.0</td>\n",
       "      <td>1085.0</td>\n",
       "      <td>765.0</td>\n",
       "      <td>28</td>\n",
       "      <td>21.65</td>\n",
       "    </tr>\n",
       "    <tr>\n",
       "      <th>9</th>\n",
       "      <td>155.0</td>\n",
       "      <td>184.0</td>\n",
       "      <td>143.0</td>\n",
       "      <td>194.0</td>\n",
       "      <td>9.0</td>\n",
       "      <td>880.0</td>\n",
       "      <td>699.0</td>\n",
       "      <td>28</td>\n",
       "      <td>28.99</td>\n",
       "    </tr>\n",
       "  </tbody>\n",
       "</table>\n",
       "</div>"
      ],
      "text/plain": [
       "   cement   slag    ash  water  superplastic  coarseagg  fineagg  age  \\\n",
       "0   141.3  212.0    0.0  203.5           0.0      971.8    748.5   28   \n",
       "1   168.9   42.2  124.3  158.3          10.8     1080.8    796.2   14   \n",
       "2   250.0    0.0   95.7  187.4           5.5      956.9    861.2   28   \n",
       "3   266.0  114.0    0.0  228.0           0.0      932.0    670.0   28   \n",
       "4   154.8  183.4    0.0  193.3           9.1     1047.4    696.7   28   \n",
       "5   255.0    0.0    0.0  192.0           0.0      889.8    945.0   90   \n",
       "6   166.8  250.2    0.0  203.5           0.0      975.6    692.6    7   \n",
       "7   251.4    0.0  118.3  188.5           6.4     1028.4    757.7   56   \n",
       "8   296.0    0.0    0.0  192.0           0.0     1085.0    765.0   28   \n",
       "9   155.0  184.0  143.0  194.0           9.0      880.0    699.0   28   \n",
       "\n",
       "   strength  \n",
       "0     29.89  \n",
       "1     23.51  \n",
       "2     29.22  \n",
       "3     45.85  \n",
       "4     18.29  \n",
       "5     21.86  \n",
       "6     15.75  \n",
       "7     36.64  \n",
       "8     21.65  \n",
       "9     28.99  "
      ]
     },
     "execution_count": 4,
     "metadata": {},
     "output_type": "execute_result"
    }
   ],
   "source": [
    "df = pd.read_csv('concrete.csv')\n",
    "df.head(10)"
   ]
  },
  {
   "cell_type": "markdown",
   "metadata": {},
   "source": [
    "## Univariate analysis"
   ]
  },
  {
   "cell_type": "markdown",
   "metadata": {},
   "source": [
    "#### Check data type"
   ]
  },
  {
   "cell_type": "code",
   "execution_count": 5,
   "metadata": {},
   "outputs": [
    {
     "name": "stdout",
     "output_type": "stream",
     "text": [
      "<class 'pandas.core.frame.DataFrame'>\n",
      "RangeIndex: 1030 entries, 0 to 1029\n",
      "Data columns (total 9 columns):\n",
      " #   Column        Non-Null Count  Dtype  \n",
      "---  ------        --------------  -----  \n",
      " 0   cement        1030 non-null   float64\n",
      " 1   slag          1030 non-null   float64\n",
      " 2   ash           1030 non-null   float64\n",
      " 3   water         1030 non-null   float64\n",
      " 4   superplastic  1030 non-null   float64\n",
      " 5   coarseagg     1030 non-null   float64\n",
      " 6   fineagg       1030 non-null   float64\n",
      " 7   age           1030 non-null   int64  \n",
      " 8   strength      1030 non-null   float64\n",
      "dtypes: float64(8), int64(1)\n",
      "memory usage: 72.5 KB\n"
     ]
    }
   ],
   "source": [
    "df.info()"
   ]
  },
  {
   "cell_type": "code",
   "execution_count": 6,
   "metadata": {},
   "outputs": [
    {
     "name": "stdout",
     "output_type": "stream",
     "text": [
      "(1030, 9)\n"
     ]
    }
   ],
   "source": [
    "print(df.shape)"
   ]
  },
  {
   "cell_type": "code",
   "execution_count": 7,
   "metadata": {},
   "outputs": [
    {
     "data": {
      "text/plain": [
       "cement          0\n",
       "slag            0\n",
       "ash             0\n",
       "water           0\n",
       "superplastic    0\n",
       "coarseagg       0\n",
       "fineagg         0\n",
       "age             0\n",
       "strength        0\n",
       "dtype: int64"
      ]
     },
     "execution_count": 7,
     "metadata": {},
     "output_type": "execute_result"
    }
   ],
   "source": [
    "df.isna().sum()"
   ]
  },
  {
   "cell_type": "markdown",
   "metadata": {},
   "source": [
    "#### statistical summary"
   ]
  },
  {
   "cell_type": "code",
   "execution_count": 8,
   "metadata": {},
   "outputs": [
    {
     "data": {
      "text/html": [
       "<div>\n",
       "<style scoped>\n",
       "    .dataframe tbody tr th:only-of-type {\n",
       "        vertical-align: middle;\n",
       "    }\n",
       "\n",
       "    .dataframe tbody tr th {\n",
       "        vertical-align: top;\n",
       "    }\n",
       "\n",
       "    .dataframe thead th {\n",
       "        text-align: right;\n",
       "    }\n",
       "</style>\n",
       "<table border=\"1\" class=\"dataframe\">\n",
       "  <thead>\n",
       "    <tr style=\"text-align: right;\">\n",
       "      <th></th>\n",
       "      <th>count</th>\n",
       "      <th>mean</th>\n",
       "      <th>std</th>\n",
       "      <th>min</th>\n",
       "      <th>25%</th>\n",
       "      <th>50%</th>\n",
       "      <th>75%</th>\n",
       "      <th>max</th>\n",
       "    </tr>\n",
       "  </thead>\n",
       "  <tbody>\n",
       "    <tr>\n",
       "      <th>cement</th>\n",
       "      <td>1030.0</td>\n",
       "      <td>281.167864</td>\n",
       "      <td>104.506364</td>\n",
       "      <td>102.00</td>\n",
       "      <td>192.375</td>\n",
       "      <td>272.900</td>\n",
       "      <td>350.000</td>\n",
       "      <td>540.0</td>\n",
       "    </tr>\n",
       "    <tr>\n",
       "      <th>slag</th>\n",
       "      <td>1030.0</td>\n",
       "      <td>73.895825</td>\n",
       "      <td>86.279342</td>\n",
       "      <td>0.00</td>\n",
       "      <td>0.000</td>\n",
       "      <td>22.000</td>\n",
       "      <td>142.950</td>\n",
       "      <td>359.4</td>\n",
       "    </tr>\n",
       "    <tr>\n",
       "      <th>ash</th>\n",
       "      <td>1030.0</td>\n",
       "      <td>54.188350</td>\n",
       "      <td>63.997004</td>\n",
       "      <td>0.00</td>\n",
       "      <td>0.000</td>\n",
       "      <td>0.000</td>\n",
       "      <td>118.300</td>\n",
       "      <td>200.1</td>\n",
       "    </tr>\n",
       "    <tr>\n",
       "      <th>water</th>\n",
       "      <td>1030.0</td>\n",
       "      <td>181.567282</td>\n",
       "      <td>21.354219</td>\n",
       "      <td>121.80</td>\n",
       "      <td>164.900</td>\n",
       "      <td>185.000</td>\n",
       "      <td>192.000</td>\n",
       "      <td>247.0</td>\n",
       "    </tr>\n",
       "    <tr>\n",
       "      <th>superplastic</th>\n",
       "      <td>1030.0</td>\n",
       "      <td>6.204660</td>\n",
       "      <td>5.973841</td>\n",
       "      <td>0.00</td>\n",
       "      <td>0.000</td>\n",
       "      <td>6.400</td>\n",
       "      <td>10.200</td>\n",
       "      <td>32.2</td>\n",
       "    </tr>\n",
       "    <tr>\n",
       "      <th>coarseagg</th>\n",
       "      <td>1030.0</td>\n",
       "      <td>972.918932</td>\n",
       "      <td>77.753954</td>\n",
       "      <td>801.00</td>\n",
       "      <td>932.000</td>\n",
       "      <td>968.000</td>\n",
       "      <td>1029.400</td>\n",
       "      <td>1145.0</td>\n",
       "    </tr>\n",
       "    <tr>\n",
       "      <th>fineagg</th>\n",
       "      <td>1030.0</td>\n",
       "      <td>773.580485</td>\n",
       "      <td>80.175980</td>\n",
       "      <td>594.00</td>\n",
       "      <td>730.950</td>\n",
       "      <td>779.500</td>\n",
       "      <td>824.000</td>\n",
       "      <td>992.6</td>\n",
       "    </tr>\n",
       "    <tr>\n",
       "      <th>age</th>\n",
       "      <td>1030.0</td>\n",
       "      <td>45.662136</td>\n",
       "      <td>63.169912</td>\n",
       "      <td>1.00</td>\n",
       "      <td>7.000</td>\n",
       "      <td>28.000</td>\n",
       "      <td>56.000</td>\n",
       "      <td>365.0</td>\n",
       "    </tr>\n",
       "    <tr>\n",
       "      <th>strength</th>\n",
       "      <td>1030.0</td>\n",
       "      <td>35.817961</td>\n",
       "      <td>16.705742</td>\n",
       "      <td>2.33</td>\n",
       "      <td>23.710</td>\n",
       "      <td>34.445</td>\n",
       "      <td>46.135</td>\n",
       "      <td>82.6</td>\n",
       "    </tr>\n",
       "  </tbody>\n",
       "</table>\n",
       "</div>"
      ],
      "text/plain": [
       "               count        mean         std     min      25%      50%  \\\n",
       "cement        1030.0  281.167864  104.506364  102.00  192.375  272.900   \n",
       "slag          1030.0   73.895825   86.279342    0.00    0.000   22.000   \n",
       "ash           1030.0   54.188350   63.997004    0.00    0.000    0.000   \n",
       "water         1030.0  181.567282   21.354219  121.80  164.900  185.000   \n",
       "superplastic  1030.0    6.204660    5.973841    0.00    0.000    6.400   \n",
       "coarseagg     1030.0  972.918932   77.753954  801.00  932.000  968.000   \n",
       "fineagg       1030.0  773.580485   80.175980  594.00  730.950  779.500   \n",
       "age           1030.0   45.662136   63.169912    1.00    7.000   28.000   \n",
       "strength      1030.0   35.817961   16.705742    2.33   23.710   34.445   \n",
       "\n",
       "                   75%     max  \n",
       "cement         350.000   540.0  \n",
       "slag           142.950   359.4  \n",
       "ash            118.300   200.1  \n",
       "water          192.000   247.0  \n",
       "superplastic    10.200    32.2  \n",
       "coarseagg     1029.400  1145.0  \n",
       "fineagg        824.000   992.6  \n",
       "age             56.000   365.0  \n",
       "strength        46.135    82.6  "
      ]
     },
     "execution_count": 8,
     "metadata": {},
     "output_type": "execute_result"
    }
   ],
   "source": [
    "df.describe().transpose()"
   ]
  },
  {
   "cell_type": "markdown",
   "metadata": {},
   "source": [
    "## Conclusions from Initial Data Analysis\n",
    "-\tThere are no categorical columns in teh data set. All the columns are numerical\n",
    "-\tThere are no cells with missing data\n",
    "-\tslag, ash and superplastic has many rows with 0 das cell data. Ash has more than 50% of the rows with 0 as value. Slag and superplastic has more than 25% of the rows with 0 as cell value. \n",
    "-\tWe can assume that 0 values are acceptible since we are studying the concrete mixture. Those data sets might not have ash, slag or superplastic as part of the  mixture.\n",
    "- Columns strength, age, superplastic and slag has some outliers on the higher end. \n"
   ]
  },
  {
   "cell_type": "code",
   "execution_count": 12,
   "metadata": {},
   "outputs": [
    {
     "data": {
      "image/png": "[encoded data removed]",
      "text/plain": [
       "<Figure size 432x288 with 1 Axes>"
      ]
     },
     "metadata": {
      "needs_background": "light"
     },
     "output_type": "display_data"
    },
    {
     "data": {
      "image/png": "[encoded data removed]",
      "text/plain": [
       "<Figure size 432x288 with 1 Axes>"
      ]
     },
     "metadata": {
      "needs_background": "light"
     },
     "output_type": "display_data"
    },
    {
     "data": {
      "image/png": "[encoded data removed]",
      "text/plain": [
       "<Figure size 432x288 with 1 Axes>"
      ]
     },
     "metadata": {
      "needs_background": "light"
     },
     "output_type": "display_data"
    },
    {
     "data": {
      "image/png": "[encoded data removed]",
      "text/plain": [
       "<Figure size 432x288 with 1 Axes>"
      ]
     },
     "metadata": {
      "needs_background": "light"
     },
     "output_type": "display_data"
    },
    {
     "data": {
      "image/png": "[encoded data removed]",
      "text/plain": [
       "<Figure size 432x288 with 1 Axes>"
      ]
     },
     "metadata": {
      "needs_background": "light"
     },
     "output_type": "display_data"
    },
    {
     "data": {
      "image/png": "[encoded data removed]",
      "text/plain": [
       "<Figure size 432x288 with 1 Axes>"
      ]
     },
     "metadata": {
      "needs_background": "light"
     },
     "output_type": "display_data"
    },
    {
     "data": {
      "image/png": "[encoded data removed]",
      "text/plain": [
       "<Figure size 432x288 with 1 Axes>"
      ]
     },
     "metadata": {
      "needs_background": "light"
     },
     "output_type": "display_data"
    },
    {
     "data": {
      "image/png": "[encoded data removed]",
      "text/plain": [
       "<Figure size 432x288 with 1 Axes>"
      ]
     },
     "metadata": {
      "needs_background": "light"
     },
     "output_type": "display_data"
    },
    {
     "data": {
      "image/png": "[encoded data removed]",
      "text/plain": [
       "<Figure size 432x288 with 1 Axes>"
      ]
     },
     "metadata": {
      "needs_background": "light"
     },
     "output_type": "display_data"
    }
   ],
   "source": [
    "for column in df.columns: \n",
    "    if df[column].dtype.name != 'category': \n",
    "        sns.distplot(df[column])\n",
    "        plt.show()"
   ]
  },
  {
   "cell_type": "markdown",
   "metadata": {},
   "source": [
    "-  Columns cement and strength follows a near normal distribution\n",
    "-  Other columns doesn't fall into a near normal distribution and teh data is skewed with multiple peaks. \n",
    "-  We have only 1030 data set and most of the columns has skewed and continuous data. For teh algorithms to leran better, we need to put these data points into bins  "
   ]
  },
  {
   "cell_type": "code",
   "execution_count": 24,
   "metadata": {},
   "outputs": [],
   "source": [
    "#df1=df.copy()"
   ]
  },
  {
   "cell_type": "code",
   "execution_count": 36,
   "metadata": {},
   "outputs": [],
   "source": [
    "for column in df.columns: \n",
    "    df[column] = pd.cut(df[column],bins=10,labels=[1,2,3,4,5,6,7,8,9,10])"
   ]
  },
  {
   "cell_type": "code",
   "execution_count": 38,
   "metadata": {},
   "outputs": [
    {
     "data": {
      "text/html": [
       "<div>\n",
       "<style scoped>\n",
       "    .dataframe tbody tr th:only-of-type {\n",
       "        vertical-align: middle;\n",
       "    }\n",
       "\n",
       "    .dataframe tbody tr th {\n",
       "        vertical-align: top;\n",
       "    }\n",
       "\n",
       "    .dataframe thead th {\n",
       "        text-align: right;\n",
       "    }\n",
       "</style>\n",
       "<table border=\"1\" class=\"dataframe\">\n",
       "  <thead>\n",
       "    <tr style=\"text-align: right;\">\n",
       "      <th></th>\n",
       "      <th>cement</th>\n",
       "      <th>slag</th>\n",
       "      <th>ash</th>\n",
       "      <th>water</th>\n",
       "      <th>superplastic</th>\n",
       "      <th>coarseagg</th>\n",
       "      <th>fineagg</th>\n",
       "      <th>age</th>\n",
       "      <th>strength</th>\n",
       "    </tr>\n",
       "  </thead>\n",
       "  <tbody>\n",
       "    <tr>\n",
       "      <th>0</th>\n",
       "      <td>1</td>\n",
       "      <td>6</td>\n",
       "      <td>1</td>\n",
       "      <td>7</td>\n",
       "      <td>1</td>\n",
       "      <td>5</td>\n",
       "      <td>4</td>\n",
       "      <td>1</td>\n",
       "      <td>4</td>\n",
       "    </tr>\n",
       "    <tr>\n",
       "      <th>1</th>\n",
       "      <td>2</td>\n",
       "      <td>2</td>\n",
       "      <td>7</td>\n",
       "      <td>3</td>\n",
       "      <td>4</td>\n",
       "      <td>9</td>\n",
       "      <td>6</td>\n",
       "      <td>1</td>\n",
       "      <td>3</td>\n",
       "    </tr>\n",
       "    <tr>\n",
       "      <th>2</th>\n",
       "      <td>4</td>\n",
       "      <td>1</td>\n",
       "      <td>5</td>\n",
       "      <td>6</td>\n",
       "      <td>2</td>\n",
       "      <td>5</td>\n",
       "      <td>7</td>\n",
       "      <td>1</td>\n",
       "      <td>4</td>\n",
       "    </tr>\n",
       "    <tr>\n",
       "      <th>3</th>\n",
       "      <td>4</td>\n",
       "      <td>4</td>\n",
       "      <td>1</td>\n",
       "      <td>9</td>\n",
       "      <td>1</td>\n",
       "      <td>4</td>\n",
       "      <td>2</td>\n",
       "      <td>1</td>\n",
       "      <td>6</td>\n",
       "    </tr>\n",
       "    <tr>\n",
       "      <th>4</th>\n",
       "      <td>2</td>\n",
       "      <td>6</td>\n",
       "      <td>1</td>\n",
       "      <td>6</td>\n",
       "      <td>3</td>\n",
       "      <td>8</td>\n",
       "      <td>3</td>\n",
       "      <td>1</td>\n",
       "      <td>2</td>\n",
       "    </tr>\n",
       "    <tr>\n",
       "      <th>5</th>\n",
       "      <td>4</td>\n",
       "      <td>1</td>\n",
       "      <td>1</td>\n",
       "      <td>6</td>\n",
       "      <td>1</td>\n",
       "      <td>3</td>\n",
       "      <td>9</td>\n",
       "      <td>3</td>\n",
       "      <td>3</td>\n",
       "    </tr>\n",
       "    <tr>\n",
       "      <th>6</th>\n",
       "      <td>2</td>\n",
       "      <td>7</td>\n",
       "      <td>1</td>\n",
       "      <td>7</td>\n",
       "      <td>1</td>\n",
       "      <td>6</td>\n",
       "      <td>3</td>\n",
       "      <td>1</td>\n",
       "      <td>2</td>\n",
       "    </tr>\n",
       "    <tr>\n",
       "      <th>7</th>\n",
       "      <td>4</td>\n",
       "      <td>1</td>\n",
       "      <td>6</td>\n",
       "      <td>6</td>\n",
       "      <td>2</td>\n",
       "      <td>7</td>\n",
       "      <td>5</td>\n",
       "      <td>2</td>\n",
       "      <td>5</td>\n",
       "    </tr>\n",
       "    <tr>\n",
       "      <th>8</th>\n",
       "      <td>5</td>\n",
       "      <td>1</td>\n",
       "      <td>1</td>\n",
       "      <td>6</td>\n",
       "      <td>1</td>\n",
       "      <td>9</td>\n",
       "      <td>5</td>\n",
       "      <td>1</td>\n",
       "      <td>3</td>\n",
       "    </tr>\n",
       "    <tr>\n",
       "      <th>9</th>\n",
       "      <td>2</td>\n",
       "      <td>6</td>\n",
       "      <td>8</td>\n",
       "      <td>6</td>\n",
       "      <td>3</td>\n",
       "      <td>3</td>\n",
       "      <td>3</td>\n",
       "      <td>1</td>\n",
       "      <td>4</td>\n",
       "    </tr>\n",
       "    <tr>\n",
       "      <th>10</th>\n",
       "      <td>2</td>\n",
       "      <td>5</td>\n",
       "      <td>7</td>\n",
       "      <td>4</td>\n",
       "      <td>6</td>\n",
       "      <td>5</td>\n",
       "      <td>3</td>\n",
       "      <td>1</td>\n",
       "      <td>5</td>\n",
       "    </tr>\n",
       "    <tr>\n",
       "      <th>11</th>\n",
       "      <td>2</td>\n",
       "      <td>4</td>\n",
       "      <td>1</td>\n",
       "      <td>6</td>\n",
       "      <td>1</td>\n",
       "      <td>5</td>\n",
       "      <td>7</td>\n",
       "      <td>1</td>\n",
       "      <td>1</td>\n",
       "    </tr>\n",
       "    <tr>\n",
       "      <th>12</th>\n",
       "      <td>7</td>\n",
       "      <td>1</td>\n",
       "      <td>1</td>\n",
       "      <td>6</td>\n",
       "      <td>1</td>\n",
       "      <td>5</td>\n",
       "      <td>5</td>\n",
       "      <td>1</td>\n",
       "      <td>4</td>\n",
       "    </tr>\n",
       "    <tr>\n",
       "      <th>13</th>\n",
       "      <td>4</td>\n",
       "      <td>7</td>\n",
       "      <td>1</td>\n",
       "      <td>9</td>\n",
       "      <td>1</td>\n",
       "      <td>4</td>\n",
       "      <td>1</td>\n",
       "      <td>1</td>\n",
       "      <td>3</td>\n",
       "    </tr>\n",
       "    <tr>\n",
       "      <th>14</th>\n",
       "      <td>2</td>\n",
       "      <td>6</td>\n",
       "      <td>10</td>\n",
       "      <td>6</td>\n",
       "      <td>3</td>\n",
       "      <td>3</td>\n",
       "      <td>2</td>\n",
       "      <td>1</td>\n",
       "      <td>3</td>\n",
       "    </tr>\n",
       "    <tr>\n",
       "      <th>15</th>\n",
       "      <td>3</td>\n",
       "      <td>3</td>\n",
       "      <td>2</td>\n",
       "      <td>5</td>\n",
       "      <td>3</td>\n",
       "      <td>8</td>\n",
       "      <td>5</td>\n",
       "      <td>3</td>\n",
       "      <td>6</td>\n",
       "    </tr>\n",
       "    <tr>\n",
       "      <th>16</th>\n",
       "      <td>4</td>\n",
       "      <td>7</td>\n",
       "      <td>1</td>\n",
       "      <td>9</td>\n",
       "      <td>1</td>\n",
       "      <td>4</td>\n",
       "      <td>1</td>\n",
       "      <td>1</td>\n",
       "      <td>4</td>\n",
       "    </tr>\n",
       "    <tr>\n",
       "      <th>17</th>\n",
       "      <td>6</td>\n",
       "      <td>1</td>\n",
       "      <td>1</td>\n",
       "      <td>5</td>\n",
       "      <td>1</td>\n",
       "      <td>6</td>\n",
       "      <td>6</td>\n",
       "      <td>1</td>\n",
       "      <td>6</td>\n",
       "    </tr>\n",
       "    <tr>\n",
       "      <th>18</th>\n",
       "      <td>3</td>\n",
       "      <td>1</td>\n",
       "      <td>7</td>\n",
       "      <td>4</td>\n",
       "      <td>3</td>\n",
       "      <td>9</td>\n",
       "      <td>6</td>\n",
       "      <td>1</td>\n",
       "      <td>2</td>\n",
       "    </tr>\n",
       "    <tr>\n",
       "      <th>19</th>\n",
       "      <td>5</td>\n",
       "      <td>1</td>\n",
       "      <td>1</td>\n",
       "      <td>5</td>\n",
       "      <td>3</td>\n",
       "      <td>6</td>\n",
       "      <td>6</td>\n",
       "      <td>1</td>\n",
       "      <td>3</td>\n",
       "    </tr>\n",
       "  </tbody>\n",
       "</table>\n",
       "</div>"
      ],
      "text/plain": [
       "   cement slag ash water superplastic coarseagg fineagg age strength\n",
       "0       1    6   1     7            1         5       4   1        4\n",
       "1       2    2   7     3            4         9       6   1        3\n",
       "2       4    1   5     6            2         5       7   1        4\n",
       "3       4    4   1     9            1         4       2   1        6\n",
       "4       2    6   1     6            3         8       3   1        2\n",
       "5       4    1   1     6            1         3       9   3        3\n",
       "6       2    7   1     7            1         6       3   1        2\n",
       "7       4    1   6     6            2         7       5   2        5\n",
       "8       5    1   1     6            1         9       5   1        3\n",
       "9       2    6   8     6            3         3       3   1        4\n",
       "10      2    5   7     4            6         5       3   1        5\n",
       "11      2    4   1     6            1         5       7   1        1\n",
       "12      7    1   1     6            1         5       5   1        4\n",
       "13      4    7   1     9            1         4       1   1        3\n",
       "14      2    6  10     6            3         3       2   1        3\n",
       "15      3    3   2     5            3         8       5   3        6\n",
       "16      4    7   1     9            1         4       1   1        4\n",
       "17      6    1   1     5            1         6       6   1        6\n",
       "18      3    1   7     4            3         9       6   1        2\n",
       "19      5    1   1     5            3         6       6   1        3"
      ]
     },
     "execution_count": 38,
     "metadata": {},
     "output_type": "execute_result"
    }
   ],
   "source": [
    "df.head(20)"
   ]
  },
  {
   "cell_type": "markdown",
   "metadata": {},
   "source": [
    "-  All the columns are put into 10 numerical bins"
   ]
  },
  {
   "cell_type": "code",
   "execution_count": 39,
   "metadata": {},
   "outputs": [
    {
     "data": {
      "text/html": [
       "<div>\n",
       "<style scoped>\n",
       "    .dataframe tbody tr th:only-of-type {\n",
       "        vertical-align: middle;\n",
       "    }\n",
       "\n",
       "    .dataframe tbody tr th {\n",
       "        vertical-align: top;\n",
       "    }\n",
       "\n",
       "    .dataframe thead th {\n",
       "        text-align: right;\n",
       "    }\n",
       "</style>\n",
       "<table border=\"1\" class=\"dataframe\">\n",
       "  <thead>\n",
       "    <tr style=\"text-align: right;\">\n",
       "      <th></th>\n",
       "      <th>count</th>\n",
       "      <th>unique</th>\n",
       "      <th>top</th>\n",
       "      <th>freq</th>\n",
       "    </tr>\n",
       "  </thead>\n",
       "  <tbody>\n",
       "    <tr>\n",
       "      <th>cement</th>\n",
       "      <td>1030</td>\n",
       "      <td>10</td>\n",
       "      <td>2</td>\n",
       "      <td>171</td>\n",
       "    </tr>\n",
       "    <tr>\n",
       "      <th>slag</th>\n",
       "      <td>1030</td>\n",
       "      <td>10</td>\n",
       "      <td>1</td>\n",
       "      <td>540</td>\n",
       "    </tr>\n",
       "    <tr>\n",
       "      <th>ash</th>\n",
       "      <td>1030</td>\n",
       "      <td>10</td>\n",
       "      <td>1</td>\n",
       "      <td>566</td>\n",
       "    </tr>\n",
       "    <tr>\n",
       "      <th>water</th>\n",
       "      <td>1030</td>\n",
       "      <td>10</td>\n",
       "      <td>6</td>\n",
       "      <td>332</td>\n",
       "    </tr>\n",
       "    <tr>\n",
       "      <th>superplastic</th>\n",
       "      <td>1030</td>\n",
       "      <td>10</td>\n",
       "      <td>1</td>\n",
       "      <td>395</td>\n",
       "    </tr>\n",
       "    <tr>\n",
       "      <th>coarseagg</th>\n",
       "      <td>1030</td>\n",
       "      <td>10</td>\n",
       "      <td>5</td>\n",
       "      <td>216</td>\n",
       "    </tr>\n",
       "    <tr>\n",
       "      <th>fineagg</th>\n",
       "      <td>1030</td>\n",
       "      <td>10</td>\n",
       "      <td>5</td>\n",
       "      <td>277</td>\n",
       "    </tr>\n",
       "    <tr>\n",
       "      <th>age</th>\n",
       "      <td>1030</td>\n",
       "      <td>7</td>\n",
       "      <td>1</td>\n",
       "      <td>749</td>\n",
       "    </tr>\n",
       "    <tr>\n",
       "      <th>strength</th>\n",
       "      <td>1030</td>\n",
       "      <td>10</td>\n",
       "      <td>5</td>\n",
       "      <td>196</td>\n",
       "    </tr>\n",
       "  </tbody>\n",
       "</table>\n",
       "</div>"
      ],
      "text/plain": [
       "              count  unique  top  freq\n",
       "cement         1030      10    2   171\n",
       "slag           1030      10    1   540\n",
       "ash            1030      10    1   566\n",
       "water          1030      10    6   332\n",
       "superplastic   1030      10    1   395\n",
       "coarseagg      1030      10    5   216\n",
       "fineagg        1030      10    5   277\n",
       "age            1030       7    1   749\n",
       "strength       1030      10    5   196"
      ]
     },
     "execution_count": 39,
     "metadata": {},
     "output_type": "execute_result"
    }
   ],
   "source": [
    "df.describe().transpose()"
   ]
  },
  {
   "cell_type": "code",
   "execution_count": 40,
   "metadata": {},
   "outputs": [
    {
     "data": {
      "image/png": "[encoded data removed]",
      "text/plain": [
       "<Figure size 432x288 with 1 Axes>"
      ]
     },
     "metadata": {
      "needs_background": "light"
     },
     "output_type": "display_data"
    },
    {
     "data": {
      "image/png": "[encoded data removed]",
      "text/plain": [
       "<Figure size 432x288 with 1 Axes>"
      ]
     },
     "metadata": {
      "needs_background": "light"
     },
     "output_type": "display_data"
    },
    {
     "data": {
      "image/png": "[encoded data removed]",
      "text/plain": [
       "<Figure size 432x288 with 1 Axes>"
      ]
     },
     "metadata": {
      "needs_background": "light"
     },
     "output_type": "display_data"
    },
    {
     "data": {
      "image/png": "[encoded data removed]",
      "text/plain": [
       "<Figure size 432x288 with 1 Axes>"
      ]
     },
     "metadata": {
      "needs_background": "light"
     },
     "output_type": "display_data"
    },
    {
     "data": {
      "image/png": "[encoded data removed]",
      "text/plain": [
       "<Figure size 432x288 with 1 Axes>"
      ]
     },
     "metadata": {
      "needs_background": "light"
     },
     "output_type": "display_data"
    },
    {
     "data": {
      "image/png": "[encoded data removed]",
      "text/plain": [
       "<Figure size 432x288 with 1 Axes>"
      ]
     },
     "metadata": {
      "needs_background": "light"
     },
     "output_type": "display_data"
    },
    {
     "data": {
      "image/png": "[encoded data removed]",
      "text/plain": [
       "<Figure size 432x288 with 1 Axes>"
      ]
     },
     "metadata": {
      "needs_background": "light"
     },
     "output_type": "display_data"
    },
    {
     "data": {
      "image/png": "[encoded data removed]",
      "text/plain": [
       "<Figure size 432x288 with 1 Axes>"
      ]
     },
     "metadata": {
      "needs_background": "light"
     },
     "output_type": "display_data"
    },
    {
     "data": {
      "image/png": "[encoded data removed]",
      "text/plain": [
       "<Figure size 432x288 with 1 Axes>"
      ]
     },
     "metadata": {
      "needs_background": "light"
     },
     "output_type": "display_data"
    }
   ],
   "source": [
    "for column in df.columns: \n",
    "        sns.distplot(df[column])\n",
    "        plt.show()"
   ]
  },
  {
   "cell_type": "code",
   "execution_count": 41,
   "metadata": {},
   "outputs": [
    {
     "name": "stdout",
     "output_type": "stream",
     "text": [
      "2     171\n",
      "4     160\n",
      "3     151\n",
      "5     141\n",
      "6     121\n",
      "7      93\n",
      "1      63\n",
      "8      56\n",
      "10     40\n",
      "9      34\n",
      "Name: cement, dtype: int64\n",
      "\n",
      "1     540\n",
      "6     112\n",
      "4     104\n",
      "3      89\n",
      "5      87\n",
      "2      41\n",
      "7      28\n",
      "8      13\n",
      "9      12\n",
      "10      4\n",
      "Name: slag, dtype: int64\n",
      "\n",
      "1     566\n",
      "7     114\n",
      "6      96\n",
      "5      94\n",
      "9      57\n",
      "8      45\n",
      "4      24\n",
      "10     17\n",
      "2      15\n",
      "3       2\n",
      "Name: ash, dtype: int64\n",
      "\n",
      "6     332\n",
      "5     169\n",
      "4     158\n",
      "3     117\n",
      "7     107\n",
      "9      54\n",
      "2      48\n",
      "8      29\n",
      "1      12\n",
      "10      4\n",
      "Name: water, dtype: int64\n",
      "\n",
      "1     395\n",
      "4     217\n",
      "3     207\n",
      "2     123\n",
      "5      37\n",
      "6      27\n",
      "7       9\n",
      "10      5\n",
      "9       5\n",
      "8       5\n",
      "Name: superplastic, dtype: int64\n",
      "\n",
      "5     216\n",
      "6     161\n",
      "4     144\n",
      "8     136\n",
      "2      85\n",
      "7      78\n",
      "3      63\n",
      "9      54\n",
      "10     49\n",
      "1      44\n",
      "Name: coarseagg, dtype: int64\n",
      "\n",
      "5     277\n",
      "6     191\n",
      "7     112\n",
      "4     108\n",
      "3      96\n",
      "8      93\n",
      "1      79\n",
      "2      52\n",
      "9      17\n",
      "10      5\n",
      "Name: fineagg, dtype: int64\n",
      "\n",
      "1     749\n",
      "3     128\n",
      "2      91\n",
      "5      26\n",
      "10     20\n",
      "8      13\n",
      "4       3\n",
      "9       0\n",
      "7       0\n",
      "6       0\n",
      "Name: age, dtype: int64\n",
      "\n",
      "5     196\n",
      "4     181\n",
      "3     156\n",
      "2     133\n",
      "6     112\n",
      "7     100\n",
      "8      52\n",
      "1      45\n",
      "9      36\n",
      "10     19\n",
      "Name: strength, dtype: int64\n",
      "\n"
     ]
    }
   ],
   "source": [
    "for column in df.columns: \n",
    "    if df[column].dtype.name == 'category': \n",
    "        print(df[column].value_counts(normalize=False))\n",
    "        print()"
   ]
  },
  {
   "cell_type": "markdown",
   "metadata": {},
   "source": [
    "## Multivariate analysis"
   ]
  },
  {
   "cell_type": "code",
   "execution_count": 44,
   "metadata": {},
   "outputs": [
    {
     "name": "stdout",
     "output_type": "stream",
     "text": [
      "strength        1         2         3         4         5         6   \\\n",
      "cement                                                                 \n",
      "1         0.190476  0.222222  0.126984  0.285714  0.111111  0.063492   \n",
      "2         0.087719  0.210526  0.204678  0.239766  0.146199  0.058480   \n",
      "3         0.046358  0.198675  0.185430  0.145695  0.172185  0.145695   \n",
      "4         0.050000  0.125000  0.193750  0.231250  0.168750  0.112500   \n",
      "5         0.007092  0.106383  0.163121  0.148936  0.234043  0.156028   \n",
      "6         0.008264  0.107438  0.099174  0.181818  0.247934  0.066116   \n",
      "7         0.010753  0.043011  0.129032  0.118280  0.225806  0.139785   \n",
      "8         0.000000  0.000000  0.053571  0.089286  0.214286  0.125000   \n",
      "9         0.000000  0.000000  0.088235  0.058824  0.264706  0.088235   \n",
      "10        0.000000  0.025000  0.025000  0.050000  0.150000  0.125000   \n",
      "\n",
      "strength        7         8         9         10  \n",
      "cement                                            \n",
      "1         0.000000  0.000000  0.000000  0.000000  \n",
      "2         0.052632  0.000000  0.000000  0.000000  \n",
      "3         0.086093  0.019868  0.000000  0.000000  \n",
      "4         0.062500  0.031250  0.018750  0.006250  \n",
      "5         0.120567  0.021277  0.028369  0.014184  \n",
      "6         0.099174  0.049587  0.057851  0.082645  \n",
      "7         0.172043  0.096774  0.032258  0.032258  \n",
      "8         0.142857  0.267857  0.089286  0.017857  \n",
      "9         0.205882  0.088235  0.205882  0.000000  \n",
      "10        0.200000  0.200000  0.175000  0.050000  \n",
      "\n",
      "strength        1         2         3         4         5         6   \\\n",
      "slag                                                                   \n",
      "1         0.033333  0.175926  0.183333  0.161111  0.200000  0.098148   \n",
      "2         0.073171  0.048780  0.097561  0.121951  0.243902  0.146341   \n",
      "3         0.022472  0.067416  0.033708  0.202247  0.134831  0.168539   \n",
      "4         0.048077  0.086538  0.125000  0.153846  0.230769  0.163462   \n",
      "5         0.080460  0.091954  0.195402  0.206897  0.114943  0.114943   \n",
      "6         0.053571  0.071429  0.116071  0.205357  0.142857  0.062500   \n",
      "7         0.107143  0.071429  0.071429  0.357143  0.321429  0.071429   \n",
      "8         0.000000  0.076923  0.000000  0.230769  0.153846  0.153846   \n",
      "9         0.083333  0.166667  0.250000  0.083333  0.250000  0.000000   \n",
      "10        0.000000  0.000000  0.500000  0.000000  0.500000  0.000000   \n",
      "\n",
      "strength        7         8         9         10  \n",
      "slag                                              \n",
      "1         0.079630  0.040741  0.022222  0.005556  \n",
      "2         0.219512  0.048780  0.000000  0.000000  \n",
      "3         0.146067  0.157303  0.056180  0.011236  \n",
      "4         0.115385  0.009615  0.057692  0.009615  \n",
      "5         0.137931  0.034483  0.022989  0.000000  \n",
      "6         0.080357  0.071429  0.089286  0.107143  \n",
      "7         0.000000  0.000000  0.000000  0.000000  \n",
      "8         0.000000  0.153846  0.076923  0.153846  \n",
      "9         0.166667  0.000000  0.000000  0.000000  \n",
      "10        0.000000  0.000000  0.000000  0.000000  \n",
      "\n",
      "strength        1         2         3         4         5         6   \\\n",
      "ash                                                                    \n",
      "1         0.060071  0.127208  0.141343  0.157244  0.185512  0.090106   \n",
      "2         0.000000  0.200000  0.000000  0.133333  0.066667  0.266667   \n",
      "3         0.000000  0.000000  0.000000  0.000000  0.000000  0.000000   \n",
      "4         0.000000  0.000000  0.083333  0.333333  0.125000  0.125000   \n",
      "5         0.010638  0.042553  0.202128  0.170213  0.255319  0.191489   \n",
      "6         0.010417  0.125000  0.239583  0.197917  0.208333  0.156250   \n",
      "7         0.026316  0.096491  0.131579  0.192982  0.236842  0.096491   \n",
      "8         0.066667  0.200000  0.133333  0.200000  0.177778  0.088889   \n",
      "9         0.017544  0.228070  0.105263  0.263158  0.140351  0.105263   \n",
      "10        0.117647  0.529412  0.294118  0.058824  0.000000  0.000000   \n",
      "\n",
      "strength        7         8         9         10  \n",
      "ash                                               \n",
      "1         0.093640  0.061837  0.051237  0.031802  \n",
      "2         0.133333  0.066667  0.133333  0.000000  \n",
      "3         0.500000  0.500000  0.000000  0.000000  \n",
      "4         0.291667  0.041667  0.000000  0.000000  \n",
      "5         0.095745  0.021277  0.010638  0.000000  \n",
      "6         0.052083  0.000000  0.000000  0.010417  \n",
      "7         0.122807  0.078947  0.017544  0.000000  \n",
      "8         0.044444  0.044444  0.044444  0.000000  \n",
      "9         0.122807  0.017544  0.000000  0.000000  \n",
      "10        0.000000  0.000000  0.000000  0.000000  \n",
      "\n",
      "strength        1         2         3         4         5         6   \\\n",
      "water                                                                  \n",
      "1         0.083333  0.083333  0.083333  0.166667  0.083333  0.250000   \n",
      "2         0.000000  0.000000  0.083333  0.062500  0.145833  0.083333   \n",
      "3         0.008547  0.094017  0.085470  0.145299  0.136752  0.170940   \n",
      "4         0.012658  0.082278  0.126582  0.094937  0.246835  0.120253   \n",
      "5         0.005917  0.165680  0.147929  0.159763  0.165680  0.142012   \n",
      "6         0.078313  0.192771  0.210843  0.201807  0.177711  0.072289   \n",
      "7         0.112150  0.121495  0.168224  0.317757  0.149533  0.056075   \n",
      "8         0.068966  0.103448  0.206897  0.310345  0.206897  0.034483   \n",
      "9         0.000000  0.000000  0.037037  0.092593  0.407407  0.203704   \n",
      "10        0.000000  0.000000  0.000000  0.500000  0.500000  0.000000   \n",
      "\n",
      "strength        7         8         9         10  \n",
      "water                                             \n",
      "1         0.083333  0.166667  0.000000  0.000000  \n",
      "2         0.187500  0.166667  0.166667  0.104167  \n",
      "3         0.145299  0.136752  0.068376  0.008547  \n",
      "4         0.132911  0.063291  0.050633  0.069620  \n",
      "5         0.100592  0.047337  0.053254  0.011834  \n",
      "6         0.039157  0.018072  0.009036  0.000000  \n",
      "7         0.065421  0.009346  0.000000  0.000000  \n",
      "8         0.034483  0.034483  0.000000  0.000000  \n",
      "9         0.259259  0.000000  0.000000  0.000000  \n",
      "10        0.000000  0.000000  0.000000  0.000000  \n",
      "\n",
      "strength            1         2         3         4         5         6   \\\n",
      "superplastic                                                               \n",
      "1             0.088608  0.184810  0.182278  0.177215  0.184810  0.081013   \n",
      "2             0.024390  0.097561  0.211382  0.268293  0.211382  0.089431   \n",
      "3             0.014493  0.096618  0.173913  0.149758  0.188406  0.154589   \n",
      "4             0.018433  0.087558  0.082949  0.161290  0.216590  0.105991   \n",
      "5             0.000000  0.189189  0.108108  0.135135  0.108108  0.189189   \n",
      "6             0.000000  0.074074  0.000000  0.185185  0.111111  0.185185   \n",
      "7             0.000000  0.000000  0.000000  0.111111  0.222222  0.000000   \n",
      "8             0.000000  0.000000  0.000000  0.200000  0.000000  0.200000   \n",
      "9             0.000000  0.000000  0.000000  0.000000  0.200000  0.200000   \n",
      "10            0.000000  0.000000  0.000000  0.000000  0.200000  0.000000   \n",
      "\n",
      "strength            7         8         9         10  \n",
      "superplastic                                          \n",
      "1             0.068354  0.012658  0.015190  0.005063  \n",
      "2             0.056911  0.024390  0.008130  0.008130  \n",
      "3             0.125604  0.053140  0.043478  0.000000  \n",
      "4             0.129032  0.069124  0.064516  0.064516  \n",
      "5             0.189189  0.054054  0.027027  0.000000  \n",
      "6             0.000000  0.407407  0.037037  0.000000  \n",
      "7             0.222222  0.111111  0.111111  0.222222  \n",
      "8             0.200000  0.400000  0.000000  0.000000  \n",
      "9             0.200000  0.400000  0.000000  0.000000  \n",
      "10            0.200000  0.000000  0.600000  0.000000  \n",
      "\n",
      "strength         1         2         3         4         5         6   \\\n",
      "coarseagg                                                               \n",
      "1          0.000000  0.045455  0.000000  0.340909  0.318182  0.000000   \n",
      "2          0.000000  0.058824  0.094118  0.235294  0.129412  0.117647   \n",
      "3          0.158730  0.047619  0.190476  0.158730  0.095238  0.095238   \n",
      "4          0.041667  0.062500  0.090278  0.131944  0.277778  0.194444   \n",
      "5          0.060185  0.097222  0.189815  0.162037  0.199074  0.074074   \n",
      "6          0.024845  0.161491  0.186335  0.198758  0.192547  0.124224   \n",
      "7          0.025641  0.205128  0.153846  0.192308  0.217949  0.076923   \n",
      "8          0.036765  0.213235  0.132353  0.183824  0.161765  0.117647   \n",
      "9          0.055556  0.185185  0.333333  0.129630  0.148148  0.074074   \n",
      "10         0.040816  0.244898  0.081633  0.061224  0.081633  0.122449   \n",
      "\n",
      "strength         7         8         9         10  \n",
      "coarseagg                                          \n",
      "1          0.113636  0.113636  0.045455  0.022727  \n",
      "2          0.094118  0.176471  0.094118  0.000000  \n",
      "3          0.142857  0.063492  0.031746  0.015873  \n",
      "4          0.152778  0.041667  0.006944  0.000000  \n",
      "5          0.083333  0.023148  0.050926  0.060185  \n",
      "6          0.086957  0.006211  0.012422  0.006211  \n",
      "7          0.076923  0.012821  0.012821  0.025641  \n",
      "8          0.058824  0.073529  0.022059  0.000000  \n",
      "9          0.037037  0.037037  0.000000  0.000000  \n",
      "10         0.163265  0.061224  0.122449  0.020408  \n",
      "\n",
      "strength        1         2         3         4         5         6   \\\n",
      "fineagg                                                                \n",
      "1         0.012658  0.025316  0.088608  0.126582  0.316456  0.151899   \n",
      "2         0.000000  0.038462  0.057692  0.115385  0.134615  0.230769   \n",
      "3         0.041667  0.093750  0.114583  0.166667  0.270833  0.072917   \n",
      "4         0.027778  0.129630  0.157407  0.277778  0.203704  0.064815   \n",
      "5         0.028881  0.148014  0.162455  0.180505  0.155235  0.108303   \n",
      "6         0.047120  0.188482  0.172775  0.167539  0.204188  0.104712   \n",
      "7         0.089286  0.133929  0.178571  0.178571  0.205357  0.089286   \n",
      "8         0.043011  0.129032  0.172043  0.161290  0.107527  0.139785   \n",
      "9         0.352941  0.117647  0.235294  0.058824  0.058824  0.000000   \n",
      "10        0.000000  0.000000  0.000000  0.200000  0.000000  0.200000   \n",
      "\n",
      "strength        7         8         9         10  \n",
      "fineagg                                           \n",
      "1         0.126582  0.075949  0.075949  0.000000  \n",
      "2         0.326923  0.038462  0.019231  0.038462  \n",
      "3         0.156250  0.052083  0.020833  0.010417  \n",
      "4         0.083333  0.018519  0.018519  0.018519  \n",
      "5         0.086643  0.050542  0.039711  0.039711  \n",
      "6         0.041885  0.031414  0.036649  0.005236  \n",
      "7         0.044643  0.017857  0.053571  0.008929  \n",
      "8         0.086022  0.139785  0.010753  0.010753  \n",
      "9         0.176471  0.000000  0.000000  0.000000  \n",
      "10        0.200000  0.400000  0.000000  0.000000  \n",
      "\n",
      "strength       1        2         3         4         5         6         7   \\\n",
      "age                                                                            \n",
      "1         0.06008  0.17757  0.198932  0.200267  0.165554  0.078772  0.061415   \n",
      "2         0.00000  0.00000  0.010989  0.109890  0.164835  0.164835  0.197802   \n",
      "3         0.00000  0.00000  0.031250  0.109375  0.250000  0.226562  0.164062   \n",
      "4         0.00000  0.00000  0.000000  0.000000  1.000000  0.000000  0.000000   \n",
      "5         0.00000  0.00000  0.038462  0.192308  0.384615  0.153846  0.153846   \n",
      "8         0.00000  0.00000  0.000000  0.000000  0.307692  0.076923  0.461538   \n",
      "10        0.00000  0.00000  0.050000  0.100000  0.400000  0.200000  0.250000   \n",
      "\n",
      "strength        8         9         10  \n",
      "age                                     \n",
      "1         0.029372  0.020027  0.008011  \n",
      "2         0.186813  0.098901  0.065934  \n",
      "3         0.093750  0.070312  0.054688  \n",
      "4         0.000000  0.000000  0.000000  \n",
      "5         0.038462  0.038462  0.000000  \n",
      "8         0.000000  0.153846  0.000000  \n",
      "10        0.000000  0.000000  0.000000  \n",
      "\n",
      "strength   1    2    3    4    5    6    7    8    9    10\n",
      "strength                                                  \n",
      "1         1.0  0.0  0.0  0.0  0.0  0.0  0.0  0.0  0.0  0.0\n",
      "2         0.0  1.0  0.0  0.0  0.0  0.0  0.0  0.0  0.0  0.0\n",
      "3         0.0  0.0  1.0  0.0  0.0  0.0  0.0  0.0  0.0  0.0\n",
      "4         0.0  0.0  0.0  1.0  0.0  0.0  0.0  0.0  0.0  0.0\n",
      "5         0.0  0.0  0.0  0.0  1.0  0.0  0.0  0.0  0.0  0.0\n",
      "6         0.0  0.0  0.0  0.0  0.0  1.0  0.0  0.0  0.0  0.0\n",
      "7         0.0  0.0  0.0  0.0  0.0  0.0  1.0  0.0  0.0  0.0\n",
      "8         0.0  0.0  0.0  0.0  0.0  0.0  0.0  1.0  0.0  0.0\n",
      "9         0.0  0.0  0.0  0.0  0.0  0.0  0.0  0.0  1.0  0.0\n",
      "10        0.0  0.0  0.0  0.0  0.0  0.0  0.0  0.0  0.0  1.0\n",
      "\n"
     ]
    }
   ],
   "source": [
    "for column in df.columns: \n",
    "    if df[column].dtype.name == 'category': \n",
    "        print(pd.crosstab(df[column],df['strength'],normalize='index'))\n",
    "        print()"
   ]
  },
  {
   "cell_type": "code",
   "execution_count": 51,
   "metadata": {},
   "outputs": [
    {
     "name": "stdout",
     "output_type": "stream",
     "text": [
      "True\n",
      "True\n",
      "True\n",
      "True\n",
      "True\n",
      "True\n",
      "True\n",
      "True\n",
      "True\n"
     ]
    }
   ],
   "source": [
    "for column in df.columns: \n",
    "    print(df[column].dtype.name == 'category')\n",
    "    df[column] = pd.to_numeric(df[column])    "
   ]
  },
  {
   "cell_type": "code",
   "execution_count": 56,
   "metadata": {},
   "outputs": [
    {
     "data": {
      "text/html": [
       "<div>\n",
       "<style scoped>\n",
       "    .dataframe tbody tr th:only-of-type {\n",
       "        vertical-align: middle;\n",
       "    }\n",
       "\n",
       "    .dataframe tbody tr th {\n",
       "        vertical-align: top;\n",
       "    }\n",
       "\n",
       "    .dataframe thead th {\n",
       "        text-align: right;\n",
       "    }\n",
       "</style>\n",
       "<table border=\"1\" class=\"dataframe\">\n",
       "  <thead>\n",
       "    <tr style=\"text-align: right;\">\n",
       "      <th></th>\n",
       "      <th>cement</th>\n",
       "      <th>slag</th>\n",
       "      <th>ash</th>\n",
       "      <th>water</th>\n",
       "      <th>superplastic</th>\n",
       "      <th>coarseagg</th>\n",
       "      <th>fineagg</th>\n",
       "      <th>age</th>\n",
       "      <th>strength</th>\n",
       "    </tr>\n",
       "  </thead>\n",
       "  <tbody>\n",
       "    <tr>\n",
       "      <th>cement</th>\n",
       "      <td>1.000000</td>\n",
       "      <td>-0.284050</td>\n",
       "      <td>-0.419996</td>\n",
       "      <td>-0.040112</td>\n",
       "      <td>0.103428</td>\n",
       "      <td>-0.111877</td>\n",
       "      <td>-0.204731</td>\n",
       "      <td>0.109157</td>\n",
       "      <td>0.473928</td>\n",
       "    </tr>\n",
       "    <tr>\n",
       "      <th>slag</th>\n",
       "      <td>-0.284050</td>\n",
       "      <td>1.000000</td>\n",
       "      <td>-0.326209</td>\n",
       "      <td>0.118098</td>\n",
       "      <td>0.026077</td>\n",
       "      <td>-0.258740</td>\n",
       "      <td>-0.274713</td>\n",
       "      <td>-0.047326</td>\n",
       "      <td>0.115409</td>\n",
       "    </tr>\n",
       "    <tr>\n",
       "      <th>ash</th>\n",
       "      <td>-0.419996</td>\n",
       "      <td>-0.326209</td>\n",
       "      <td>1.000000</td>\n",
       "      <td>-0.270722</td>\n",
       "      <td>0.327226</td>\n",
       "      <td>-0.003137</td>\n",
       "      <td>0.067298</td>\n",
       "      <td>-0.179074</td>\n",
       "      <td>-0.110390</td>\n",
       "    </tr>\n",
       "    <tr>\n",
       "      <th>water</th>\n",
       "      <td>-0.040112</td>\n",
       "      <td>0.118098</td>\n",
       "      <td>-0.270722</td>\n",
       "      <td>1.000000</td>\n",
       "      <td>-0.660322</td>\n",
       "      <td>-0.168529</td>\n",
       "      <td>-0.485882</td>\n",
       "      <td>0.264387</td>\n",
       "      <td>-0.276960</td>\n",
       "    </tr>\n",
       "    <tr>\n",
       "      <th>superplastic</th>\n",
       "      <td>0.103428</td>\n",
       "      <td>0.026077</td>\n",
       "      <td>0.327226</td>\n",
       "      <td>-0.660322</td>\n",
       "      <td>1.000000</td>\n",
       "      <td>-0.249717</td>\n",
       "      <td>0.242265</td>\n",
       "      <td>-0.193346</td>\n",
       "      <td>0.354455</td>\n",
       "    </tr>\n",
       "    <tr>\n",
       "      <th>coarseagg</th>\n",
       "      <td>-0.111877</td>\n",
       "      <td>-0.258740</td>\n",
       "      <td>-0.003137</td>\n",
       "      <td>-0.168529</td>\n",
       "      <td>-0.249717</td>\n",
       "      <td>1.000000</td>\n",
       "      <td>-0.156803</td>\n",
       "      <td>0.001490</td>\n",
       "      <td>-0.152805</td>\n",
       "    </tr>\n",
       "    <tr>\n",
       "      <th>fineagg</th>\n",
       "      <td>-0.204731</td>\n",
       "      <td>-0.274713</td>\n",
       "      <td>0.067298</td>\n",
       "      <td>-0.485882</td>\n",
       "      <td>0.242265</td>\n",
       "      <td>-0.156803</td>\n",
       "      <td>1.000000</td>\n",
       "      <td>-0.145573</td>\n",
       "      <td>-0.158696</td>\n",
       "    </tr>\n",
       "    <tr>\n",
       "      <th>age</th>\n",
       "      <td>0.109157</td>\n",
       "      <td>-0.047326</td>\n",
       "      <td>-0.179074</td>\n",
       "      <td>0.264387</td>\n",
       "      <td>-0.193346</td>\n",
       "      <td>0.001490</td>\n",
       "      <td>-0.145573</td>\n",
       "      <td>1.000000</td>\n",
       "      <td>0.282069</td>\n",
       "    </tr>\n",
       "    <tr>\n",
       "      <th>strength</th>\n",
       "      <td>0.473928</td>\n",
       "      <td>0.115409</td>\n",
       "      <td>-0.110390</td>\n",
       "      <td>-0.276960</td>\n",
       "      <td>0.354455</td>\n",
       "      <td>-0.152805</td>\n",
       "      <td>-0.158696</td>\n",
       "      <td>0.282069</td>\n",
       "      <td>1.000000</td>\n",
       "    </tr>\n",
       "  </tbody>\n",
       "</table>\n",
       "</div>"
      ],
      "text/plain": [
       "                cement      slag       ash     water  superplastic  coarseagg  \\\n",
       "cement        1.000000 -0.284050 -0.419996 -0.040112      0.103428  -0.111877   \n",
       "slag         -0.284050  1.000000 -0.326209  0.118098      0.026077  -0.258740   \n",
       "ash          -0.419996 -0.326209  1.000000 -0.270722      0.327226  -0.003137   \n",
       "water        -0.040112  0.118098 -0.270722  1.000000     -0.660322  -0.168529   \n",
       "superplastic  0.103428  0.026077  0.327226 -0.660322      1.000000  -0.249717   \n",
       "coarseagg    -0.111877 -0.258740 -0.003137 -0.168529     -0.249717   1.000000   \n",
       "fineagg      -0.204731 -0.274713  0.067298 -0.485882      0.242265  -0.156803   \n",
       "age           0.109157 -0.047326 -0.179074  0.264387     -0.193346   0.001490   \n",
       "strength      0.473928  0.115409 -0.110390 -0.276960      0.354455  -0.152805   \n",
       "\n",
       "               fineagg       age  strength  \n",
       "cement       -0.204731  0.109157  0.473928  \n",
       "slag         -0.274713 -0.047326  0.115409  \n",
       "ash           0.067298 -0.179074 -0.110390  \n",
       "water        -0.485882  0.264387 -0.276960  \n",
       "superplastic  0.242265 -0.193346  0.354455  \n",
       "coarseagg    -0.156803  0.001490 -0.152805  \n",
       "fineagg       1.000000 -0.145573 -0.158696  \n",
       "age          -0.145573  1.000000  0.282069  \n",
       "strength     -0.158696  0.282069  1.000000  "
      ]
     },
     "execution_count": 56,
     "metadata": {},
     "output_type": "execute_result"
    }
   ],
   "source": [
    "cor = df.corr() \n",
    "cor"
   ]
  },
  {
   "cell_type": "markdown",
   "metadata": {},
   "source": [
    "## Conclusions from Bivariate Analysis\n",
    "- xxx"
   ]
  },
  {
   "cell_type": "markdown",
   "metadata": {},
   "source": [
    "## Feature Engineering"
   ]
  },
  {
   "cell_type": "markdown",
   "metadata": {},
   "source": [
    "## DecisionTreeClassifier"
   ]
  },
  {
   "cell_type": "code",
   "execution_count": null,
   "metadata": {},
   "outputs": [],
   "source": [
    "# splitting data into training and test set for independent attributes\n",
    "X_train, X_test, y_train, y_test =train_test_split(df.drop('Target',axis=1), df['Target'], test_size=.30, random_state=12)\n",
    "X_train.shape,X_test.shape"
   ]
  },
  {
   "cell_type": "code",
   "execution_count": null,
   "metadata": {},
   "outputs": [],
   "source": [
    "y_train.shape,y_test.shape"
   ]
  },
  {
   "cell_type": "code",
   "execution_count": null,
   "metadata": {},
   "outputs": [],
   "source": [
    "# print confusion matrix in graphic formatcm = confusion_matrix(y_test, y_pred)\n",
    "def draw_cm( actual, predicted ):\n",
    "    cm = confusion_matrix( actual, predicted)\n",
    "    sns.heatmap(cm, annot=True,  fmt='.2f', xticklabels = [0,1] , yticklabels = [0,1] )\n",
    "    plt.ylabel('Observed')\n",
    "    plt.xlabel('Predicted')\n",
    "    plt.show()"
   ]
  },
  {
   "cell_type": "code",
   "execution_count": null,
   "metadata": {},
   "outputs": [],
   "source": [
    "model_entropy=DecisionTreeClassifier(criterion='entropy', random_state = 12)\n",
    "model_entropy.fit(X_train, y_train)\n",
    "training_acc_DT = model_entropy.score(X_train, y_train)\n",
    "training_acc_DT"
   ]
  },
  {
   "cell_type": "code",
   "execution_count": null,
   "metadata": {},
   "outputs": [],
   "source": [
    "test_acc_DT= model_entropy.score(X_test, y_test) \n",
    "y_pred = model_entropy.predict(X_test) \n",
    "test_acc_DT"
   ]
  },
  {
   "cell_type": "code",
   "execution_count": null,
   "metadata": {},
   "outputs": [],
   "source": [
    "print(draw_cm(y_test,y_pred))"
   ]
  },
  {
   "cell_type": "code",
   "execution_count": null,
   "metadata": {},
   "outputs": [],
   "source": [
    "training_accuracy =  model_entropy.score(X_train,y_train)\n",
    "test_accuracy = model_entropy.score(X_test, y_test)\n",
    "print(\"Trainig accuracy\",training_accuracy)  \n",
    "print()\n",
    "print(\"Testing accuracy\",test_accuracy)\n",
    "print()\n",
    "print(\"Recall:\",recall_score(y_test,y_pred))\n",
    "print()\n",
    "print(\"Precision:\",precision_score(y_test,y_pred))"
   ]
  },
  {
   "cell_type": "code",
   "execution_count": null,
   "metadata": {},
   "outputs": [],
   "source": [
    "result_df = pd.DataFrame(columns=['Method', 'Training Accuracy', 'Test Accuracy'])\n",
    "result_df = result_df.append({'Method':'Decision Tree', 'Training Accuracy': training_accuracy, 'Test Accuracy': test_accuracy}, ignore_index=True)\n",
    "result_df"
   ]
  },
  {
   "cell_type": "markdown",
   "metadata": {},
   "source": [
    "### The model is overfirtiing with 100% training accuracy and 87% test accuracy\n",
    "- We need to prune the classifier . Let us try with a depth of 3 and min_samples_leaf=5"
   ]
  },
  {
   "cell_type": "code",
   "execution_count": null,
   "metadata": {},
   "outputs": [],
   "source": [
    "model_pruned = DecisionTreeClassifier(criterion='entropy', random_state = 12, max_depth=3, min_samples_leaf=5)\n",
    "model_pruned.fit(X_train, y_train)\n",
    "training_acc_DT_prune = model_pruned.score(X_train, y_train)\n",
    "y_pred = model_pruned.predict(X_test)"
   ]
  },
  {
   "cell_type": "code",
   "execution_count": null,
   "metadata": {},
   "outputs": [],
   "source": [
    "test_acc_DT_prune = model_pruned.score(X_test, y_test) "
   ]
  },
  {
   "cell_type": "code",
   "execution_count": null,
   "metadata": {},
   "outputs": [],
   "source": [
    "print(draw_cm(y_test,y_pred))"
   ]
  },
  {
   "cell_type": "code",
   "execution_count": null,
   "metadata": {},
   "outputs": [],
   "source": [
    "training_accuracy =  model_pruned.score(X_train,y_train)\n",
    "test_accuracy = model_pruned.score(X_test, y_test)\n",
    "print(\"Trainig accuracy\",training_accuracy)  \n",
    "print()\n",
    "print(\"Testing accuracy\",test_accuracy)\n",
    "print()\n",
    "print(\"Recall:\",recall_score(y_test,y_pred))\n",
    "print()\n",
    "print(\"Precision:\",precision_score(y_test,y_pred))\n",
    "result_df = result_df.append({'Method':'Decision Tree Pruned', 'Training Accuracy': training_accuracy, 'Test Accuracy': test_accuracy}, ignore_index=True)\n",
    "result_df"
   ]
  },
  {
   "cell_type": "markdown",
   "metadata": {},
   "source": [
    "### The DecisionTreeClassifier is giving 88% accuracy on both training and testing data after pruning. There is no overfitting now."
   ]
  },
  {
   "cell_type": "markdown",
   "metadata": {},
   "source": [
    "## Logistic Regression"
   ]
  },
  {
   "cell_type": "code",
   "execution_count": null,
   "metadata": {},
   "outputs": [],
   "source": [
    "reg = LogisticRegression()\n",
    "reg.fit(X_train, y_train) "
   ]
  },
  {
   "cell_type": "code",
   "execution_count": null,
   "metadata": {
    "scrolled": true
   },
   "outputs": [],
   "source": [
    "# predict y for the test set\n",
    "y_pred = reg.predict(X_test) "
   ]
  },
  {
   "cell_type": "code",
   "execution_count": null,
   "metadata": {},
   "outputs": [],
   "source": [
    "print(draw_cm(y_test,y_pred))"
   ]
  },
  {
   "cell_type": "code",
   "execution_count": null,
   "metadata": {},
   "outputs": [],
   "source": [
    "training_accuracy =  reg.score(X_train,y_train)\n",
    "test_accuracy = reg.score(X_test, y_test)\n",
    "print(\"Trainig accuracy\",training_accuracy)  \n",
    "print()\n",
    "print(\"Testing accuracy\",test_accuracy)\n",
    "print()\n",
    "print(\"Recall:\",recall_score(y_test,y_pred))\n",
    "print()\n",
    "print(\"Precision:\",precision_score(y_test,y_pred))\n",
    "result_df = result_df.append({'Method':'Logistic Regression', 'Training Accuracy': training_accuracy, 'Test Accuracy': test_accuracy}, ignore_index=True)\n",
    "result_df"
   ]
  },
  {
   "cell_type": "markdown",
   "metadata": {},
   "source": [
    "### The Logistic regression is giving similar accuracy as of decision tree with pruning. There is no overfitting with LogisticRegression"
   ]
  },
  {
   "cell_type": "markdown",
   "metadata": {},
   "source": [
    "## AdaBoostClassifier"
   ]
  },
  {
   "cell_type": "code",
   "execution_count": null,
   "metadata": {},
   "outputs": [],
   "source": [
    "abcl = AdaBoostClassifier(n_estimators = 100, learning_rate=0.1, random_state=12)\n",
    "abcl = abcl.fit(X_train, y_train)"
   ]
  },
  {
   "cell_type": "code",
   "execution_count": null,
   "metadata": {},
   "outputs": [],
   "source": [
    "y_pred =abcl.predict(X_test)"
   ]
  },
  {
   "cell_type": "code",
   "execution_count": null,
   "metadata": {},
   "outputs": [],
   "source": [
    "print(draw_cm(y_test,y_pred))"
   ]
  },
  {
   "cell_type": "code",
   "execution_count": null,
   "metadata": {},
   "outputs": [],
   "source": [
    "training_accuracy =  abcl.score(X_train,y_train)\n",
    "test_accuracy = abcl.score(X_test, y_test)\n",
    "print(\"Trainig accuracy\",training_accuracy)  \n",
    "print()\n",
    "print(\"Testing accuracy\",test_accuracy)\n",
    "print()\n",
    "print(\"Recall:\",recall_score(y_test,y_pred))\n",
    "print()\n",
    "print(\"Precision:\",precision_score(y_test,y_pred))\n",
    "result_df = result_df.append({'Method':'AdaBoostClassifier', 'Training Accuracy': training_accuracy, 'Test Accuracy': test_accuracy}, ignore_index=True)\n",
    "result_df"
   ]
  },
  {
   "cell_type": "markdown",
   "metadata": {},
   "source": [
    "### The AdaBoostClassifier gives similar accuracy comapred to decistion tree with pruning and LogisticRegression"
   ]
  },
  {
   "cell_type": "markdown",
   "metadata": {},
   "source": [
    "## BaggingClassifier"
   ]
  },
  {
   "cell_type": "code",
   "execution_count": null,
   "metadata": {},
   "outputs": [],
   "source": [
    "bgcl = BaggingClassifier(n_estimators=50, max_samples= .7, bootstrap=True, oob_score=True, random_state=12)\n",
    "bgcl = bgcl.fit(X_train, y_train)"
   ]
  },
  {
   "cell_type": "code",
   "execution_count": null,
   "metadata": {},
   "outputs": [],
   "source": [
    "y_pred = bgcl.predict(X_test)\n",
    "acc_BG = accuracy_score(y_test, y_pred)"
   ]
  },
  {
   "cell_type": "code",
   "execution_count": null,
   "metadata": {},
   "outputs": [],
   "source": [
    "print(draw_cm(y_test,y_pred))"
   ]
  },
  {
   "cell_type": "code",
   "execution_count": null,
   "metadata": {},
   "outputs": [],
   "source": [
    "training_accuracy =  bgcl.score(X_train,y_train)\n",
    "test_accuracy = bgcl.score(X_test, y_test)\n",
    "print(\"Trainig accuracy\",training_accuracy)  \n",
    "print()\n",
    "print(\"Testing accuracy\",test_accuracy)\n",
    "print()\n",
    "print(\"Recall:\",recall_score(y_test,y_pred))\n",
    "print()\n",
    "print(\"Precision:\",precision_score(y_test,y_pred))\n",
    "result_df = result_df.append({'Method':'BaggingClassifier', 'Training Accuracy': training_accuracy, 'Test Accuracy': test_accuracy}, ignore_index=True)\n",
    "result_df"
   ]
  },
  {
   "cell_type": "markdown",
   "metadata": {},
   "source": [
    "#  Comarison of results and conclusion"
   ]
  },
  {
   "cell_type": "code",
   "execution_count": null,
   "metadata": {},
   "outputs": [],
   "source": [
    "result_df"
   ]
  },
  {
   "cell_type": "markdown",
   "metadata": {},
   "source": [
    "- Bagging classifier is overfitting\n",
    "- Ada boost, logistic regression and decision tree with pruning provides comparable results\n"
   ]
  }
 ],
 "metadata": {
  "kernelspec": {
   "display_name": "Python 3",
   "language": "python",
   "name": "python3"
  },
  "language_info": {
   "codemirror_mode": {
    "name": "ipython",
    "version": 3
   },
   "file_extension": ".py",
   "mimetype": "text/x-python",
   "name": "python",
   "nbconvert_exporter": "python",
   "pygments_lexer": "ipython3",
   "version": "3.8.3"
  }
 },
 "nbformat": 4,
 "nbformat_minor": 2
}
