{
 "cells": [
  {
   "cell_type": "markdown",
   "metadata": {
    "id": "4ljrXbm43CuG"
   },
   "source": [
    "## AIML Reference-ANN and Tesnorflow"
   ]
  },
  {
   "cell_type": "markdown",
   "metadata": {},
   "source": [
    "- <a href = #link_tensor>Tensorflow Basics</a> \n",
    "- <a href = #link_churn>Tensorflow Binary Classification 1: Bank Churn prediction </a>\n",
    "- <a href = #link_churn2>Tensorflow Binary Classification 2: Fraud Detection </a>\n",
    "  "
   ]
  },
  {
   "cell_type": "markdown",
   "metadata": {},
   "source": [
    "## TF ANN Basics"
   ]
  },
  {
   "cell_type": "markdown",
   "metadata": {},
   "source": [
    "loss function = 'binary_crossentropy' for binary classification. It should be 'categorical_crossentropy' for non binary classification"
   ]
  },
  {
   "cell_type": "markdown",
   "metadata": {},
   "source": [
    "activation = 'sigmoid' for binary classification. activation = 'softmax' for non binary classification. "
   ]
  },
  {
   "cell_type": "markdown",
   "metadata": {},
   "source": [
    "output layer use 'sigmoid' for binary classification. use = 'softmax' for non binary classification."
   ]
  },
  {
   "cell_type": "code",
   "execution_count": 1,
   "metadata": {
    "colab": {
     "base_uri": "https://localhost:8080/"
    },
    "id": "H79BpACkblay",
    "outputId": "b83d66aa-e6bb-43a3-f07b-c6c4c1050aae"
   },
   "outputs": [
    {
     "name": "stdout",
     "output_type": "stream",
     "text": [
      "2.2.0\n"
     ]
    }
   ],
   "source": [
    "import tensorflow as tf\n",
    "print(tf.__version__)"
   ]
  },
  {
   "cell_type": "code",
   "execution_count": 2,
   "metadata": {
    "id": "2Ro7A1N5y6Hh"
   },
   "outputs": [],
   "source": [
    "import pandas as pd\n",
    "import numpy as np\n",
    "from sklearn.model_selection import train_test_split\n",
    "import tensorflow as tf\n",
    "from sklearn import preprocessing\n",
    "from tensorflow.keras.models import Sequential\n",
    "from tensorflow.keras.layers import Dense, Dropout, BatchNormalization\n",
    "from sklearn.metrics import accuracy_score, confusion_matrix, precision_score, recall_score, f1_score, precision_recall_curve, auc\n",
    "import matplotlib.pyplot as plt\n",
    "from tensorflow.keras import optimizers\n",
    "%matplotlib inline\n",
    "import seaborn as sns\n"
   ]
  },
  {
   "cell_type": "markdown",
   "metadata": {
    "id": "ttmYrFFtwZJW"
   },
   "source": [
    "# <a id = \"link_tensor\"></a>Tensorflow Basics"
   ]
  },
  {
   "cell_type": "code",
   "execution_count": 3,
   "metadata": {},
   "outputs": [
    {
     "name": "stdout",
     "output_type": "stream",
     "text": [
      "(4+2j) (6+7j) (10+9j) tf.Tensor((19+180j), shape=(), dtype=complex128)\n",
      "(-2-5j)\n",
      "(10+40j)\n"
     ]
    }
   ],
   "source": [
    "a = 4 + 2j #complex number\n",
    "b = 6 + 7j\n",
    "\n",
    "c = a + b\n",
    "d = tf.square(c)\n",
    "print(a,b,c,d)\n",
    "\n",
    "\n",
    "\n",
    "print(a-b)\n",
    "print(a*b)"
   ]
  },
  {
   "cell_type": "code",
   "execution_count": 4,
   "metadata": {},
   "outputs": [
    {
     "name": "stdout",
     "output_type": "stream",
     "text": [
      "tf.Tensor(\n",
      "[[1.4 2.  2. ]\n",
      " [8.  2.  5. ]], shape=(2, 3), dtype=float32)\n"
     ]
    }
   ],
   "source": [
    "c = tf.constant([[1.4, 2.0, 2], [8, 2, 5]])\n",
    "print(c)"
   ]
  },
  {
   "cell_type": "code",
   "execution_count": 5,
   "metadata": {},
   "outputs": [
    {
     "name": "stdout",
     "output_type": "stream",
     "text": [
      "[[1 2 2]\n",
      " [8 2 5]]\n"
     ]
    },
    {
     "data": {
      "text/plain": [
       "array([[1.4, 2. , 2. ],\n",
       "       [8. , 2. , 5. ]], dtype=float32)"
      ]
     },
     "execution_count": 5,
     "metadata": {},
     "output_type": "execute_result"
    }
   ],
   "source": [
    "y = np.array([[1, 2, 2], [8, 2, 5]])\n",
    "print(y)\n",
    "# We can also convert a tensor into a numpy array by using .numpy()\n",
    "c.numpy()"
   ]
  },
  {
   "cell_type": "code",
   "execution_count": 6,
   "metadata": {},
   "outputs": [
    {
     "name": "stdout",
     "output_type": "stream",
     "text": [
      "Tensor Data Type <dtype: 'float32'>\n",
      "Tensor Shape (2, 3)\n"
     ]
    }
   ],
   "source": [
    "print('Tensor Data Type', c.dtype)\n",
    "print('Tensor Shape', c.shape)\n",
    "# You can notice the similarity with numpy \n",
    "# You can also call the different default tensors as you would do for numpy"
   ]
  },
  {
   "cell_type": "code",
   "execution_count": 7,
   "metadata": {},
   "outputs": [
    {
     "name": "stdout",
     "output_type": "stream",
     "text": [
      "<tf.Variable 'Variable:0' shape=(3, 3) dtype=float32, numpy=\n",
      "array([[1., 1., 1.],\n",
      "       [1., 1., 1.],\n",
      "       [1., 1., 1.]], dtype=float32)>\n",
      "<tf.Variable 'Variable:0' shape=(3, 3) dtype=float32, numpy=\n",
      "array([[0., 0., 0.],\n",
      "       [0., 0., 0.],\n",
      "       [0., 0., 0.]], dtype=float32)>\n"
     ]
    }
   ],
   "source": [
    "random_variable = tf.ones(shape=(3,3))\n",
    "#random variable\n",
    "tf_variable = tf.Variable(random_variable)\n",
    "print(tf_variable)\n",
    "\n",
    "#you can also update the values of your variable.\n",
    "tf_variable.assign(tf.zeros(shape = (3,3)))\n",
    "print(tf_variable)"
   ]
  },
  {
   "cell_type": "code",
   "execution_count": 8,
   "metadata": {},
   "outputs": [
    {
     "name": "stdout",
     "output_type": "stream",
     "text": [
      "tf.Tensor(18.0, shape=(), dtype=float32)\n",
      "tf.Tensor(8.0, shape=(), dtype=float32)\n"
     ]
    }
   ],
   "source": [
    "# computing derivative for the function 3x^2 at x = 3\n",
    "\n",
    "x = tf.constant(3.0) #gradient at\n",
    "with tf.GradientTape() as g:\n",
    "  g.watch(x) #record the operations\n",
    "  y = 3*x * x\n",
    "dy_dx = g.gradient(y, x) \n",
    "print(dy_dx)\n",
    "\n",
    "\n",
    "# you can also use nested GradientTape() for the second derivative\n",
    "#computing second derivative for the function 4x^2 at x = 4.0\n",
    "\n",
    "x = tf.constant(4.0)\n",
    "with tf.GradientTape() as gt:\n",
    "  gt.watch(x)\n",
    "  with tf.GradientTape() as g:\n",
    "    g.watch(x)  \n",
    "    y = 4*x*x\n",
    "  dy_dx = g.gradient(y, x)\n",
    "d2y_dx2 = gt.gradient(dy_dx,x)\n",
    "print(d2y_dx2)\n"
   ]
  },
  {
   "cell_type": "markdown",
   "metadata": {},
   "source": [
    "#### 1. Create a constant tensor array 'x' like [2,3,4] and find element wise e^x"
   ]
  },
  {
   "cell_type": "code",
   "execution_count": 9,
   "metadata": {},
   "outputs": [
    {
     "name": "stdout",
     "output_type": "stream",
     "text": [
      "tf.Tensor([ 7.389056 20.085537 54.59815 ], shape=(3,), dtype=float32)\n"
     ]
    }
   ],
   "source": [
    "x = tf.constant([2.0,3.0,4.0])\n",
    "x = tf.math.exp(x)\n",
    "print(x)"
   ]
  },
  {
   "cell_type": "markdown",
   "metadata": {},
   "source": [
    "#### 2. Declare a variable with a 3*2 shaped floating elements array with elements picked from a random normal distributions.   "
   ]
  },
  {
   "cell_type": "code",
   "execution_count": 10,
   "metadata": {},
   "outputs": [
    {
     "data": {
      "text/plain": [
       "<tf.Variable 'Variable:0' shape=(3, 2) dtype=float32, numpy=\n",
       "array([[ 0.15632167, -0.62614024],\n",
       "       [-1.9155469 ,  0.06965766],\n",
       "       [ 1.605465  ,  0.12179526]], dtype=float32)>"
      ]
     },
     "execution_count": 10,
     "metadata": {},
     "output_type": "execute_result"
    }
   ],
   "source": [
    "x = tf.Variable(tf.random.normal(shape=(3,2)))\n",
    "x"
   ]
  },
  {
   "cell_type": "markdown",
   "metadata": {},
   "source": [
    "#### 3. Subtract 1 from every element of the above matrix."
   ]
  },
  {
   "cell_type": "code",
   "execution_count": 11,
   "metadata": {},
   "outputs": [
    {
     "data": {
      "text/plain": [
       "<tf.Variable 'UnreadVariable' shape=(3, 2) dtype=float32, numpy=\n",
       "array([[-0.84367836, -1.6261402 ],\n",
       "       [-2.915547  , -0.9303423 ],\n",
       "       [ 0.60546505, -0.87820476]], dtype=float32)>"
      ]
     },
     "execution_count": 11,
     "metadata": {},
     "output_type": "execute_result"
    }
   ],
   "source": [
    "x.assign_sub(tf.ones(shape = (3,2)))"
   ]
  },
  {
   "cell_type": "markdown",
   "metadata": {},
   "source": [
    "#### 4. Calculate the third derivative of the function 4x^3 + x^2 + 1 at x = 1"
   ]
  },
  {
   "cell_type": "code",
   "execution_count": 12,
   "metadata": {},
   "outputs": [
    {
     "name": "stdout",
     "output_type": "stream",
     "text": [
      "tf.Tensor(24.0, shape=(), dtype=float32)\n"
     ]
    }
   ],
   "source": [
    "\n",
    "x = tf.constant(1.0) \n",
    "with tf.GradientTape() as g:\n",
    "  g.watch(x) \n",
    "  with tf.GradientTape() as g1:\n",
    "    g1.watch(x) \n",
    "    with tf.GradientTape() as g2:\n",
    "      g2.watch(x) \n",
    "      y = 4*x*x*x + x*x + 1\n",
    "    dy_dx = g2.gradient(y, x)   \n",
    "  d2y_dx2 = g1.gradient(dy_dx, x)\n",
    "d3y_dx3 = g.gradient(d2y_dx2, x)\n",
    "\n",
    "print(d3y_dx3)"
   ]
  },
  {
   "cell_type": "markdown",
   "metadata": {},
   "source": [
    "#### 5. Calculate dot product of matrices [[1,2,3],[4,5,6],[7,8,9]] and [[1],[2],[3]] using tensorflow functions. Also, find the element wise multiplication of the two."
   ]
  },
  {
   "cell_type": "code",
   "execution_count": 13,
   "metadata": {},
   "outputs": [
    {
     "name": "stdout",
     "output_type": "stream",
     "text": [
      "tf.Tensor(\n",
      "[[14]\n",
      " [32]\n",
      " [50]], shape=(3, 1), dtype=int32)\n"
     ]
    }
   ],
   "source": [
    "a = tf.constant([[1,2,3],[4,5,6],[7,8,9]])\n",
    "b = tf.constant([[1],[2],[3]])\n",
    "\n",
    "c = tf.matmul(a, b)\n",
    "print(c)"
   ]
  },
  {
   "cell_type": "code",
   "execution_count": 14,
   "metadata": {},
   "outputs": [
    {
     "data": {
      "text/plain": [
       "<tf.Tensor: shape=(3, 3), dtype=int32, numpy=\n",
       "array([[ 1,  2,  3],\n",
       "       [ 8, 10, 12],\n",
       "       [21, 24, 27]], dtype=int32)>"
      ]
     },
     "execution_count": 14,
     "metadata": {},
     "output_type": "execute_result"
    }
   ],
   "source": [
    "d = tf.multiply(a, b)\n",
    "d"
   ]
  },
  {
   "cell_type": "markdown",
   "metadata": {},
   "source": [
    "# <a id = \"link_churn\"></a>Tensorflow Sequential Prediction: Celsius to Farenheit"
   ]
  },
  {
   "cell_type": "code",
   "execution_count": 15,
   "metadata": {},
   "outputs": [],
   "source": [
    "Temperature_df = pd.read_csv('Celsius to Fahrenheit.csv')\n",
    "Temperature_df.reset_index(drop=True, inplace=True)"
   ]
  },
  {
   "cell_type": "code",
   "execution_count": 16,
   "metadata": {},
   "outputs": [
    {
     "data": {
      "text/html": [
       "<div>\n",
       "<style scoped>\n",
       "    .dataframe tbody tr th:only-of-type {\n",
       "        vertical-align: middle;\n",
       "    }\n",
       "\n",
       "    .dataframe tbody tr th {\n",
       "        vertical-align: top;\n",
       "    }\n",
       "\n",
       "    .dataframe thead th {\n",
       "        text-align: right;\n",
       "    }\n",
       "</style>\n",
       "<table border=\"1\" class=\"dataframe\">\n",
       "  <thead>\n",
       "    <tr style=\"text-align: right;\">\n",
       "      <th></th>\n",
       "      <th>Celsius</th>\n",
       "      <th>Fahrenheit</th>\n",
       "    </tr>\n",
       "  </thead>\n",
       "  <tbody>\n",
       "    <tr>\n",
       "      <th>0</th>\n",
       "      <td>-50</td>\n",
       "      <td>-58.0</td>\n",
       "    </tr>\n",
       "    <tr>\n",
       "      <th>1</th>\n",
       "      <td>-40</td>\n",
       "      <td>-40.0</td>\n",
       "    </tr>\n",
       "    <tr>\n",
       "      <th>2</th>\n",
       "      <td>-30</td>\n",
       "      <td>-22.0</td>\n",
       "    </tr>\n",
       "    <tr>\n",
       "      <th>3</th>\n",
       "      <td>-20</td>\n",
       "      <td>-4.0</td>\n",
       "    </tr>\n",
       "    <tr>\n",
       "      <th>4</th>\n",
       "      <td>-10</td>\n",
       "      <td>14.0</td>\n",
       "    </tr>\n",
       "  </tbody>\n",
       "</table>\n",
       "</div>"
      ],
      "text/plain": [
       "   Celsius  Fahrenheit\n",
       "0      -50       -58.0\n",
       "1      -40       -40.0\n",
       "2      -30       -22.0\n",
       "3      -20        -4.0\n",
       "4      -10        14.0"
      ]
     },
     "execution_count": 16,
     "metadata": {},
     "output_type": "execute_result"
    }
   ],
   "source": [
    "Temperature_df.head(5)"
   ]
  },
  {
   "cell_type": "code",
   "execution_count": 17,
   "metadata": {},
   "outputs": [
    {
     "data": {
      "text/html": [
       "<div>\n",
       "<style scoped>\n",
       "    .dataframe tbody tr th:only-of-type {\n",
       "        vertical-align: middle;\n",
       "    }\n",
       "\n",
       "    .dataframe tbody tr th {\n",
       "        vertical-align: top;\n",
       "    }\n",
       "\n",
       "    .dataframe thead th {\n",
       "        text-align: right;\n",
       "    }\n",
       "</style>\n",
       "<table border=\"1\" class=\"dataframe\">\n",
       "  <thead>\n",
       "    <tr style=\"text-align: right;\">\n",
       "      <th></th>\n",
       "      <th>Celsius</th>\n",
       "      <th>Fahrenheit</th>\n",
       "    </tr>\n",
       "  </thead>\n",
       "  <tbody>\n",
       "    <tr>\n",
       "      <th>count</th>\n",
       "      <td>30.000000</td>\n",
       "      <td>30.000000</td>\n",
       "    </tr>\n",
       "    <tr>\n",
       "      <th>mean</th>\n",
       "      <td>2.000000</td>\n",
       "      <td>35.600000</td>\n",
       "    </tr>\n",
       "    <tr>\n",
       "      <th>std</th>\n",
       "      <td>22.780815</td>\n",
       "      <td>41.005466</td>\n",
       "    </tr>\n",
       "    <tr>\n",
       "      <th>min</th>\n",
       "      <td>-50.000000</td>\n",
       "      <td>-58.000000</td>\n",
       "    </tr>\n",
       "    <tr>\n",
       "      <th>25%</th>\n",
       "      <td>-6.750000</td>\n",
       "      <td>19.850000</td>\n",
       "    </tr>\n",
       "    <tr>\n",
       "      <th>50%</th>\n",
       "      <td>0.500000</td>\n",
       "      <td>32.900000</td>\n",
       "    </tr>\n",
       "    <tr>\n",
       "      <th>75%</th>\n",
       "      <td>7.750000</td>\n",
       "      <td>45.950000</td>\n",
       "    </tr>\n",
       "    <tr>\n",
       "      <th>max</th>\n",
       "      <td>60.000000</td>\n",
       "      <td>140.000000</td>\n",
       "    </tr>\n",
       "  </tbody>\n",
       "</table>\n",
       "</div>"
      ],
      "text/plain": [
       "         Celsius  Fahrenheit\n",
       "count  30.000000   30.000000\n",
       "mean    2.000000   35.600000\n",
       "std    22.780815   41.005466\n",
       "min   -50.000000  -58.000000\n",
       "25%    -6.750000   19.850000\n",
       "50%     0.500000   32.900000\n",
       "75%     7.750000   45.950000\n",
       "max    60.000000  140.000000"
      ]
     },
     "execution_count": 17,
     "metadata": {},
     "output_type": "execute_result"
    }
   ],
   "source": [
    "Temperature_df.describe()"
   ]
  },
  {
   "cell_type": "code",
   "execution_count": 18,
   "metadata": {},
   "outputs": [
    {
     "name": "stderr",
     "output_type": "stream",
     "text": [
      "/root/anaconda3/lib/python3.8/site-packages/seaborn/_decorators.py:36: FutureWarning: Pass the following variables as keyword args: x, y. From version 0.12, the only valid positional argument will be `data`, and passing other arguments without an explicit keyword will result in an error or misinterpretation.\n",
      "  warnings.warn(\n"
     ]
    },
    {
     "data": {
      "text/plain": [
       "<AxesSubplot:xlabel='Celsius', ylabel='Fahrenheit'>"
      ]
     },
     "execution_count": 18,
     "metadata": {},
     "output_type": "execute_result"
    },
    {
     "data": {
      "image/png": "[encoded data removed]",
      "text/plain": [
       "<Figure size 432x288 with 1 Axes>"
      ]
     },
     "metadata": {
      "needs_background": "light"
     },
     "output_type": "display_data"
    }
   ],
   "source": [
    "sns.scatterplot(Temperature_df['Celsius'], Temperature_df['Fahrenheit'])"
   ]
  },
  {
   "cell_type": "code",
   "execution_count": 19,
   "metadata": {},
   "outputs": [],
   "source": [
    "X_train = Temperature_df['Celsius']\n",
    "y_train = Temperature_df['Fahrenheit']"
   ]
  },
  {
   "cell_type": "code",
   "execution_count": 20,
   "metadata": {},
   "outputs": [
    {
     "name": "stdout",
     "output_type": "stream",
     "text": [
      "Model: \"sequential\"\n",
      "_________________________________________________________________\n",
      "Layer (type)                 Output Shape              Param #   \n",
      "=================================================================\n",
      "dense (Dense)                (None, 1)                 2         \n",
      "=================================================================\n",
      "Total params: 2\n",
      "Trainable params: 2\n",
      "Non-trainable params: 0\n",
      "_________________________________________________________________\n"
     ]
    }
   ],
   "source": [
    "model = tf.keras.Sequential()\n",
    "model.add(tf.keras.layers.Dense(units=1, input_shape=[1]))\n",
    "model.summary()"
   ]
  },
  {
   "cell_type": "code",
   "execution_count": 21,
   "metadata": {},
   "outputs": [],
   "source": [
    "model.compile(optimizer=tf.keras.optimizers.Adam(0.5), loss='mean_squared_error')"
   ]
  },
  {
   "cell_type": "code",
   "execution_count": 22,
   "metadata": {},
   "outputs": [
    {
     "name": "stdout",
     "output_type": "stream",
     "text": [
      "Epoch 1/300\n",
      "1/1 [==============================] - 0s 2ms/step - loss: 6248.9263\n",
      "Epoch 2/300\n",
      "1/1 [==============================] - 0s 1ms/step - loss: 4711.7075\n",
      "Epoch 3/300\n",
      "1/1 [==============================] - 0s 1ms/step - loss: 3438.7830\n",
      "Epoch 4/300\n",
      "1/1 [==============================] - 0s 911us/step - loss: 2430.9878\n",
      "Epoch 5/300\n",
      "1/1 [==============================] - 0s 1ms/step - loss: 1683.1635\n",
      "Epoch 6/300\n",
      "1/1 [==============================] - 0s 952us/step - loss: 1181.7223\n",
      "Epoch 7/300\n",
      "1/1 [==============================] - 0s 1ms/step - loss: 902.2327\n",
      "Epoch 8/300\n",
      "1/1 [==============================] - 0s 1ms/step - loss: 807.8721\n",
      "Epoch 9/300\n",
      "1/1 [==============================] - 0s 1ms/step - loss: 850.2353\n",
      "Epoch 10/300\n",
      "1/1 [==============================] - 0s 1ms/step - loss: 973.7643\n",
      "Epoch 11/300\n",
      "1/1 [==============================] - 0s 1ms/step - loss: 1123.5251\n",
      "Epoch 12/300\n",
      "1/1 [==============================] - 0s 1ms/step - loss: 1253.8364\n",
      "Epoch 13/300\n",
      "1/1 [==============================] - 0s 1ms/step - loss: 1334.3374\n",
      "Epoch 14/300\n",
      "1/1 [==============================] - 0s 1ms/step - loss: 1351.5734\n",
      "Epoch 15/300\n",
      "1/1 [==============================] - 0s 1ms/step - loss: 1306.6583\n",
      "Epoch 16/300\n",
      "1/1 [==============================] - 0s 1ms/step - loss: 1210.9332\n",
      "Epoch 17/300\n",
      "1/1 [==============================] - 0s 1ms/step - loss: 1081.3772\n",
      "Epoch 18/300\n",
      "1/1 [==============================] - 0s 1ms/step - loss: 936.7068\n",
      "Epoch 19/300\n",
      "1/1 [==============================] - 0s 1ms/step - loss: 794.4379\n",
      "Epoch 20/300\n",
      "1/1 [==============================] - 0s 1ms/step - loss: 668.8448\n",
      "Epoch 21/300\n",
      "1/1 [==============================] - 0s 1ms/step - loss: 569.6967\n",
      "Epoch 22/300\n",
      "1/1 [==============================] - 0s 1ms/step - loss: 501.6783\n",
      "Epoch 23/300\n",
      "1/1 [==============================] - 0s 1ms/step - loss: 464.4617\n",
      "Epoch 24/300\n",
      "1/1 [==============================] - 0s 1ms/step - loss: 453.4009\n",
      "Epoch 25/300\n",
      "1/1 [==============================] - 0s 1ms/step - loss: 460.7671\n",
      "Epoch 26/300\n",
      "1/1 [==============================] - 0s 1ms/step - loss: 477.3468\n",
      "Epoch 27/300\n",
      "1/1 [==============================] - 0s 1ms/step - loss: 494.1282\n",
      "Epoch 28/300\n",
      "1/1 [==============================] - 0s 1ms/step - loss: 503.7622\n",
      "Epoch 29/300\n",
      "1/1 [==============================] - 0s 1ms/step - loss: 501.5443\n",
      "Epoch 30/300\n",
      "1/1 [==============================] - 0s 1ms/step - loss: 485.7859\n",
      "Epoch 31/300\n",
      "1/1 [==============================] - 0s 2ms/step - loss: 457.6027\n",
      "Epoch 32/300\n",
      "1/1 [==============================] - 0s 2ms/step - loss: 420.2523\n",
      "Epoch 33/300\n",
      "1/1 [==============================] - 0s 2ms/step - loss: 378.2217\n",
      "Epoch 34/300\n",
      "1/1 [==============================] - 0s 2ms/step - loss: 336.2572\n",
      "Epoch 35/300\n",
      "1/1 [==============================] - 0s 2ms/step - loss: 298.5048\n",
      "Epoch 36/300\n",
      "1/1 [==============================] - 0s 2ms/step - loss: 267.8775\n",
      "Epoch 37/300\n",
      "1/1 [==============================] - 0s 2ms/step - loss: 245.7206\n",
      "Epoch 38/300\n",
      "1/1 [==============================] - 0s 2ms/step - loss: 231.7908\n",
      "Epoch 39/300\n",
      "1/1 [==============================] - 0s 2ms/step - loss: 224.5200\n",
      "Epoch 40/300\n",
      "1/1 [==============================] - ETA: 0s - loss: 221.486 - 0s 2ms/step - loss: 221.4869\n",
      "Epoch 41/300\n",
      "1/1 [==============================] - 0s 2ms/step - loss: 219.9870\n",
      "Epoch 42/300\n",
      "1/1 [==============================] - 0s 2ms/step - loss: 217.5817\n",
      "Epoch 43/300\n",
      "1/1 [==============================] - 0s 2ms/step - loss: 212.5225\n",
      "Epoch 44/300\n",
      "1/1 [==============================] - 0s 2ms/step - loss: 203.9799\n",
      "Epoch 45/300\n",
      "1/1 [==============================] - 0s 2ms/step - loss: 192.0592\n",
      "Epoch 46/300\n",
      "1/1 [==============================] - 0s 2ms/step - loss: 177.6295\n",
      "Epoch 47/300\n",
      "1/1 [==============================] - 0s 1ms/step - loss: 162.0267\n",
      "Epoch 48/300\n",
      "1/1 [==============================] - 0s 1ms/step - loss: 146.7090\n",
      "Epoch 49/300\n",
      "1/1 [==============================] - 0s 2ms/step - loss: 132.9381\n",
      "Epoch 50/300\n",
      "1/1 [==============================] - 0s 2ms/step - loss: 121.5482\n",
      "Epoch 51/300\n",
      "1/1 [==============================] - 0s 2ms/step - loss: 112.8350\n",
      "Epoch 52/300\n",
      "1/1 [==============================] - 0s 2ms/step - loss: 106.5728\n",
      "Epoch 53/300\n",
      "1/1 [==============================] - 0s 2ms/step - loss: 102.1377\n",
      "Epoch 54/300\n",
      "1/1 [==============================] - 0s 2ms/step - loss: 98.6981\n",
      "Epoch 55/300\n",
      "1/1 [==============================] - 0s 2ms/step - loss: 95.4225\n",
      "Epoch 56/300\n",
      "1/1 [==============================] - 0s 2ms/step - loss: 91.6564\n",
      "Epoch 57/300\n",
      "1/1 [==============================] - 0s 2ms/step - loss: 87.0347\n",
      "Epoch 58/300\n",
      "1/1 [==============================] - ETA: 0s - loss: 81.51 - 0s 2ms/step - loss: 81.5136\n",
      "Epoch 59/300\n",
      "1/1 [==============================] - 0s 1ms/step - loss: 75.3265\n",
      "Epoch 60/300\n",
      "1/1 [==============================] - 0s 2ms/step - loss: 68.8836\n",
      "Epoch 61/300\n",
      "1/1 [==============================] - 0s 953us/step - loss: 62.6482\n",
      "Epoch 62/300\n",
      "1/1 [==============================] - 0s 2ms/step - loss: 57.0194\n",
      "Epoch 63/300\n",
      "1/1 [==============================] - 0s 947us/step - loss: 52.2475\n",
      "Epoch 64/300\n",
      "1/1 [==============================] - 0s 1ms/step - loss: 48.3970\n",
      "Epoch 65/300\n",
      "1/1 [==============================] - 0s 1ms/step - loss: 45.3582\n",
      "Epoch 66/300\n",
      "1/1 [==============================] - 0s 823us/step - loss: 42.8988\n",
      "Epoch 67/300\n",
      "1/1 [==============================] - 0s 948us/step - loss: 40.7362\n",
      "Epoch 68/300\n",
      "1/1 [==============================] - 0s 763us/step - loss: 38.6109\n",
      "Epoch 69/300\n",
      "1/1 [==============================] - 0s 6ms/step - loss: 36.3432\n",
      "Epoch 70/300\n",
      "1/1 [==============================] - 0s 820us/step - loss: 33.8617\n",
      "Epoch 71/300\n",
      "1/1 [==============================] - 0s 918us/step - loss: 31.2010\n",
      "Epoch 72/300\n",
      "1/1 [==============================] - 0s 758us/step - loss: 28.4737\n",
      "Epoch 73/300\n",
      "1/1 [==============================] - 0s 834us/step - loss: 25.8274\n",
      "Epoch 74/300\n",
      "1/1 [==============================] - 0s 793us/step - loss: 23.4002\n",
      "Epoch 75/300\n",
      "1/1 [==============================] - 0s 934us/step - loss: 21.2852\n",
      "Epoch 76/300\n",
      "1/1 [==============================] - 0s 931us/step - loss: 19.5127\n",
      "Epoch 77/300\n",
      "1/1 [==============================] - 0s 882us/step - loss: 18.0506\n",
      "Epoch 78/300\n",
      "1/1 [==============================] - 0s 832us/step - loss: 16.8215\n",
      "Epoch 79/300\n",
      "1/1 [==============================] - 0s 764us/step - loss: 15.7285\n",
      "Epoch 80/300\n",
      "1/1 [==============================] - 0s 1ms/step - loss: 14.6821\n",
      "Epoch 81/300\n",
      "1/1 [==============================] - 0s 1ms/step - loss: 13.6209\n",
      "Epoch 82/300\n",
      "1/1 [==============================] - 0s 2ms/step - loss: 12.5218\n",
      "Epoch 83/300\n",
      "1/1 [==============================] - 0s 843us/step - loss: 11.3982\n",
      "Epoch 84/300\n",
      "1/1 [==============================] - 0s 1ms/step - loss: 10.2891\n",
      "Epoch 85/300\n",
      "1/1 [==============================] - 0s 1ms/step - loss: 9.2427\n",
      "Epoch 86/300\n",
      "1/1 [==============================] - 0s 1ms/step - loss: 8.3011\n",
      "Epoch 87/300\n",
      "1/1 [==============================] - 0s 1ms/step - loss: 7.4878\n",
      "Epoch 88/300\n",
      "1/1 [==============================] - 0s 1ms/step - loss: 6.8040\n",
      "Epoch 89/300\n",
      "1/1 [==============================] - 0s 928us/step - loss: 6.2304\n",
      "Epoch 90/300\n",
      "1/1 [==============================] - 0s 1ms/step - loss: 5.7353\n",
      "Epoch 91/300\n",
      "1/1 [==============================] - 0s 983us/step - loss: 5.2843\n",
      "Epoch 92/300\n",
      "1/1 [==============================] - 0s 1ms/step - loss: 4.8495\n",
      "Epoch 93/300\n",
      "1/1 [==============================] - 0s 1ms/step - loss: 4.4155\n",
      "Epoch 94/300\n",
      "1/1 [==============================] - 0s 791us/step - loss: 3.9808\n",
      "Epoch 95/300\n",
      "1/1 [==============================] - 0s 921us/step - loss: 3.5549\n",
      "Epoch 96/300\n",
      "1/1 [==============================] - 0s 902us/step - loss: 3.1530\n",
      "Epoch 97/300\n",
      "1/1 [==============================] - 0s 1ms/step - loss: 2.7902\n",
      "Epoch 98/300\n",
      "1/1 [==============================] - 0s 1ms/step - loss: 2.4758\n",
      "Epoch 99/300\n",
      "1/1 [==============================] - 0s 904us/step - loss: 2.2115\n",
      "Epoch 100/300\n",
      "1/1 [==============================] - 0s 2ms/step - loss: 1.9914\n",
      "Epoch 101/300\n"
     ]
    },
    {
     "name": "stdout",
     "output_type": "stream",
     "text": [
      "1/1 [==============================] - 0s 1ms/step - loss: 1.8044\n",
      "Epoch 102/300\n",
      "1/1 [==============================] - 0s 1ms/step - loss: 1.6378\n",
      "Epoch 103/300\n",
      "1/1 [==============================] - 0s 909us/step - loss: 1.4810\n",
      "Epoch 104/300\n",
      "1/1 [==============================] - 0s 1ms/step - loss: 1.3278\n",
      "Epoch 105/300\n",
      "1/1 [==============================] - 0s 1ms/step - loss: 1.1768\n",
      "Epoch 106/300\n",
      "1/1 [==============================] - 0s 1ms/step - loss: 1.0311\n",
      "Epoch 107/300\n",
      "1/1 [==============================] - 0s 1ms/step - loss: 0.8957\n",
      "Epoch 108/300\n",
      "1/1 [==============================] - 0s 1ms/step - loss: 0.7755\n",
      "Epoch 109/300\n",
      "1/1 [==============================] - 0s 817us/step - loss: 0.6735\n",
      "Epoch 110/300\n",
      "1/1 [==============================] - 0s 818us/step - loss: 0.5897\n",
      "Epoch 111/300\n",
      "1/1 [==============================] - 0s 1ms/step - loss: 0.5215\n",
      "Epoch 112/300\n",
      "1/1 [==============================] - 0s 1ms/step - loss: 0.4647\n",
      "Epoch 113/300\n",
      "1/1 [==============================] - 0s 841us/step - loss: 0.4145\n",
      "Epoch 114/300\n",
      "1/1 [==============================] - 0s 986us/step - loss: 0.3675\n",
      "Epoch 115/300\n",
      "1/1 [==============================] - 0s 1ms/step - loss: 0.3217\n",
      "Epoch 116/300\n",
      "1/1 [==============================] - 0s 1ms/step - loss: 0.2769\n",
      "Epoch 117/300\n",
      "1/1 [==============================] - 0s 1ms/step - loss: 0.2345\n",
      "Epoch 118/300\n",
      "1/1 [==============================] - 0s 846us/step - loss: 0.1963\n",
      "Epoch 119/300\n",
      "1/1 [==============================] - 0s 1ms/step - loss: 0.1637\n",
      "Epoch 120/300\n",
      "1/1 [==============================] - 0s 1ms/step - loss: 0.1375\n",
      "Epoch 121/300\n",
      "1/1 [==============================] - 0s 1ms/step - loss: 0.1173\n",
      "Epoch 122/300\n",
      "1/1 [==============================] - 0s 887us/step - loss: 0.1016\n",
      "Epoch 123/300\n",
      "1/1 [==============================] - 0s 988us/step - loss: 0.0890\n",
      "Epoch 124/300\n",
      "1/1 [==============================] - 0s 1ms/step - loss: 0.0777\n",
      "Epoch 125/300\n",
      "1/1 [==============================] - 0s 1ms/step - loss: 0.0667\n",
      "Epoch 126/300\n",
      "1/1 [==============================] - 0s 1ms/step - loss: 0.0558\n",
      "Epoch 127/300\n",
      "1/1 [==============================] - 0s 1ms/step - loss: 0.0451\n",
      "Epoch 128/300\n",
      "1/1 [==============================] - 0s 752us/step - loss: 0.0354\n",
      "Epoch 129/300\n",
      "1/1 [==============================] - 0s 1ms/step - loss: 0.0271\n",
      "Epoch 130/300\n",
      "1/1 [==============================] - 0s 1ms/step - loss: 0.0209\n",
      "Epoch 131/300\n",
      "1/1 [==============================] - 0s 1ms/step - loss: 0.0165\n",
      "Epoch 132/300\n",
      "1/1 [==============================] - 0s 847us/step - loss: 0.0137\n",
      "Epoch 133/300\n",
      "1/1 [==============================] - 0s 968us/step - loss: 0.0118\n",
      "Epoch 134/300\n",
      "1/1 [==============================] - 0s 1ms/step - loss: 0.0104\n",
      "Epoch 135/300\n",
      "1/1 [==============================] - 0s 1ms/step - loss: 0.0088\n",
      "Epoch 136/300\n",
      "1/1 [==============================] - 0s 810us/step - loss: 0.0071\n",
      "Epoch 137/300\n",
      "1/1 [==============================] - 0s 1ms/step - loss: 0.0052\n",
      "Epoch 138/300\n",
      "1/1 [==============================] - 0s 1ms/step - loss: 0.0033\n",
      "Epoch 139/300\n",
      "1/1 [==============================] - 0s 1ms/step - loss: 0.0019\n",
      "Epoch 140/300\n",
      "1/1 [==============================] - 0s 1ms/step - loss: 8.8265e-04\n",
      "Epoch 141/300\n",
      "1/1 [==============================] - 0s 1ms/step - loss: 4.5925e-04\n",
      "Epoch 142/300\n",
      "1/1 [==============================] - 0s 974us/step - loss: 4.7125e-04\n",
      "Epoch 143/300\n",
      "1/1 [==============================] - 0s 800us/step - loss: 7.1827e-04\n",
      "Epoch 144/300\n",
      "1/1 [==============================] - 0s 1ms/step - loss: 9.8901e-04\n",
      "Epoch 145/300\n",
      "1/1 [==============================] - 0s 1ms/step - loss: 0.0011\n",
      "Epoch 146/300\n",
      "1/1 [==============================] - 0s 925us/step - loss: 0.0011\n",
      "Epoch 147/300\n",
      "1/1 [==============================] - 0s 867us/step - loss: 9.0112e-04\n",
      "Epoch 148/300\n",
      "1/1 [==============================] - 0s 1ms/step - loss: 6.6401e-04\n",
      "Epoch 149/300\n",
      "1/1 [==============================] - 0s 1ms/step - loss: 4.8491e-04\n",
      "Epoch 150/300\n",
      "1/1 [==============================] - 0s 1ms/step - loss: 4.3594e-04\n",
      "Epoch 151/300\n",
      "1/1 [==============================] - 0s 1ms/step - loss: 5.3245e-04\n",
      "Epoch 152/300\n",
      "1/1 [==============================] - 0s 1ms/step - loss: 7.3513e-04\n",
      "Epoch 153/300\n",
      "1/1 [==============================] - 0s 1ms/step - loss: 9.7247e-04\n",
      "Epoch 154/300\n",
      "1/1 [==============================] - 0s 848us/step - loss: 0.0012\n",
      "Epoch 155/300\n",
      "1/1 [==============================] - 0s 1ms/step - loss: 0.0013\n",
      "Epoch 156/300\n",
      "1/1 [==============================] - 0s 989us/step - loss: 0.0013\n",
      "Epoch 157/300\n",
      "1/1 [==============================] - 0s 959us/step - loss: 0.0013\n",
      "Epoch 158/300\n",
      "1/1 [==============================] - 0s 950us/step - loss: 0.0012\n",
      "Epoch 159/300\n",
      "1/1 [==============================] - 0s 1ms/step - loss: 0.0011\n",
      "Epoch 160/300\n",
      "1/1 [==============================] - 0s 788us/step - loss: 0.0011\n",
      "Epoch 161/300\n",
      "1/1 [==============================] - 0s 973us/step - loss: 0.0011\n",
      "Epoch 162/300\n",
      "1/1 [==============================] - 0s 1ms/step - loss: 0.0011\n",
      "Epoch 163/300\n",
      "1/1 [==============================] - 0s 1ms/step - loss: 0.0012\n",
      "Epoch 164/300\n",
      "1/1 [==============================] - 0s 1ms/step - loss: 0.0012\n",
      "Epoch 165/300\n",
      "1/1 [==============================] - 0s 1ms/step - loss: 0.0012\n",
      "Epoch 166/300\n",
      "1/1 [==============================] - 0s 957us/step - loss: 0.0011\n",
      "Epoch 167/300\n",
      "1/1 [==============================] - 0s 857us/step - loss: 0.0010\n",
      "Epoch 168/300\n",
      "1/1 [==============================] - 0s 1ms/step - loss: 9.5302e-04\n",
      "Epoch 169/300\n",
      "1/1 [==============================] - 0s 1ms/step - loss: 8.8298e-04\n",
      "Epoch 170/300\n",
      "1/1 [==============================] - 0s 1ms/step - loss: 8.3164e-04\n",
      "Epoch 171/300\n",
      "1/1 [==============================] - 0s 866us/step - loss: 7.9695e-04\n",
      "Epoch 172/300\n",
      "1/1 [==============================] - 0s 1ms/step - loss: 7.7013e-04\n",
      "Epoch 173/300\n",
      "1/1 [==============================] - 0s 1ms/step - loss: 7.4091e-04\n",
      "Epoch 174/300\n",
      "1/1 [==============================] - 0s 1ms/step - loss: 7.0166e-04\n",
      "Epoch 175/300\n",
      "1/1 [==============================] - 0s 1ms/step - loss: 6.5075e-04\n",
      "Epoch 176/300\n",
      "1/1 [==============================] - 0s 1ms/step - loss: 5.9161e-04\n",
      "Epoch 177/300\n",
      "1/1 [==============================] - 0s 985us/step - loss: 5.3091e-04\n",
      "Epoch 178/300\n",
      "1/1 [==============================] - 0s 996us/step - loss: 4.7523e-04\n",
      "Epoch 179/300\n",
      "1/1 [==============================] - 0s 1ms/step - loss: 4.2897e-04\n",
      "Epoch 180/300\n",
      "1/1 [==============================] - 0s 1ms/step - loss: 3.9247e-04\n",
      "Epoch 181/300\n",
      "1/1 [==============================] - 0s 1ms/step - loss: 3.6297e-04\n",
      "Epoch 182/300\n",
      "1/1 [==============================] - 0s 1ms/step - loss: 3.3647e-04\n",
      "Epoch 183/300\n",
      "1/1 [==============================] - 0s 1ms/step - loss: 3.0898e-04\n",
      "Epoch 184/300\n",
      "1/1 [==============================] - 0s 1ms/step - loss: 2.7893e-04\n",
      "Epoch 185/300\n",
      "1/1 [==============================] - 0s 871us/step - loss: 2.4678e-04\n",
      "Epoch 186/300\n",
      "1/1 [==============================] - 0s 1ms/step - loss: 2.1480e-04\n",
      "Epoch 187/300\n",
      "1/1 [==============================] - 0s 1ms/step - loss: 1.8556e-04\n",
      "Epoch 188/300\n",
      "1/1 [==============================] - 0s 1ms/step - loss: 1.6093e-04\n",
      "Epoch 189/300\n",
      "1/1 [==============================] - 0s 1ms/step - loss: 1.4138e-04\n",
      "Epoch 190/300\n",
      "1/1 [==============================] - 0s 791us/step - loss: 1.2594e-04\n",
      "Epoch 191/300\n",
      "1/1 [==============================] - 0s 848us/step - loss: 1.1300e-04\n",
      "Epoch 192/300\n",
      "1/1 [==============================] - 0s 1ms/step - loss: 1.0072e-04\n",
      "Epoch 193/300\n",
      "1/1 [==============================] - 0s 1ms/step - loss: 8.8162e-05\n",
      "Epoch 194/300\n",
      "1/1 [==============================] - 0s 1ms/step - loss: 7.5239e-05\n",
      "Epoch 195/300\n",
      "1/1 [==============================] - 0s 1ms/step - loss: 6.2619e-05\n",
      "Epoch 196/300\n",
      "1/1 [==============================] - 0s 1ms/step - loss: 5.1275e-05\n",
      "Epoch 197/300\n",
      "1/1 [==============================] - 0s 1ms/step - loss: 4.1964e-05\n",
      "Epoch 198/300\n",
      "1/1 [==============================] - 0s 899us/step - loss: 3.4954e-05\n",
      "Epoch 199/300\n",
      "1/1 [==============================] - 0s 5ms/step - loss: 2.9832e-05\n",
      "Epoch 200/300\n"
     ]
    },
    {
     "name": "stdout",
     "output_type": "stream",
     "text": [
      "1/1 [==============================] - 0s 738us/step - loss: 2.5898e-05\n",
      "Epoch 201/300\n",
      "1/1 [==============================] - 0s 867us/step - loss: 2.2395e-05\n",
      "Epoch 202/300\n",
      "1/1 [==============================] - 0s 760us/step - loss: 1.8839e-05\n",
      "Epoch 203/300\n",
      "1/1 [==============================] - 0s 1ms/step - loss: 1.5133e-05\n",
      "Epoch 204/300\n",
      "1/1 [==============================] - 0s 1ms/step - loss: 1.1513e-05\n",
      "Epoch 205/300\n",
      "1/1 [==============================] - 0s 1ms/step - loss: 8.3484e-06\n",
      "Epoch 206/300\n",
      "1/1 [==============================] - 0s 1ms/step - loss: 5.9557e-06\n",
      "Epoch 207/300\n",
      "1/1 [==============================] - 0s 1ms/step - loss: 4.4058e-06\n",
      "Epoch 208/300\n",
      "1/1 [==============================] - 0s 1ms/step - loss: 3.5443e-06\n",
      "Epoch 209/300\n",
      "1/1 [==============================] - 0s 1ms/step - loss: 3.0919e-06\n",
      "Epoch 210/300\n",
      "1/1 [==============================] - 0s 1ms/step - loss: 2.7221e-06\n",
      "Epoch 211/300\n",
      "1/1 [==============================] - 0s 773us/step - loss: 2.2428e-06\n",
      "Epoch 212/300\n",
      "1/1 [==============================] - 0s 1ms/step - loss: 1.6186e-06\n",
      "Epoch 213/300\n",
      "1/1 [==============================] - 0s 2ms/step - loss: 9.5659e-07\n",
      "Epoch 214/300\n",
      "1/1 [==============================] - 0s 855us/step - loss: 3.9879e-07\n",
      "Epoch 215/300\n",
      "1/1 [==============================] - 0s 1ms/step - loss: 7.7737e-08\n",
      "Epoch 216/300\n",
      "1/1 [==============================] - 0s 1ms/step - loss: 2.0221e-08\n",
      "Epoch 217/300\n",
      "1/1 [==============================] - 0s 1ms/step - loss: 1.6259e-07\n",
      "Epoch 218/300\n",
      "1/1 [==============================] - 0s 817us/step - loss: 3.8759e-07\n",
      "Epoch 219/300\n",
      "1/1 [==============================] - 0s 805us/step - loss: 5.7750e-07\n",
      "Epoch 220/300\n",
      "1/1 [==============================] - 0s 1ms/step - loss: 6.6612e-07\n",
      "Epoch 221/300\n",
      "1/1 [==============================] - 0s 778us/step - loss: 6.4847e-07\n",
      "Epoch 222/300\n",
      "1/1 [==============================] - 0s 1ms/step - loss: 5.7777e-07\n",
      "Epoch 223/300\n",
      "1/1 [==============================] - 0s 758us/step - loss: 5.1587e-07\n",
      "Epoch 224/300\n",
      "1/1 [==============================] - 0s 893us/step - loss: 5.2137e-07\n",
      "Epoch 225/300\n",
      "1/1 [==============================] - 0s 778us/step - loss: 6.0123e-07\n",
      "Epoch 226/300\n",
      "1/1 [==============================] - 0s 817us/step - loss: 7.2945e-07\n",
      "Epoch 227/300\n",
      "1/1 [==============================] - 0s 871us/step - loss: 8.5814e-07\n",
      "Epoch 228/300\n",
      "1/1 [==============================] - 0s 1ms/step - loss: 9.4365e-07\n",
      "Epoch 229/300\n",
      "1/1 [==============================] - 0s 910us/step - loss: 9.6773e-07\n",
      "Epoch 230/300\n",
      "1/1 [==============================] - 0s 1ms/step - loss: 9.3722e-07\n",
      "Epoch 231/300\n",
      "1/1 [==============================] - 0s 923us/step - loss: 8.8488e-07\n",
      "Epoch 232/300\n",
      "1/1 [==============================] - 0s 1ms/step - loss: 8.3601e-07\n",
      "Epoch 233/300\n",
      "1/1 [==============================] - 0s 1ms/step - loss: 8.1128e-07\n",
      "Epoch 234/300\n",
      "1/1 [==============================] - 0s 1ms/step - loss: 8.0783e-07\n",
      "Epoch 235/300\n",
      "1/1 [==============================] - 0s 1ms/step - loss: 8.1834e-07\n",
      "Epoch 236/300\n",
      "1/1 [==============================] - 0s 1ms/step - loss: 8.2086e-07\n",
      "Epoch 237/300\n",
      "1/1 [==============================] - 0s 835us/step - loss: 8.0386e-07\n",
      "Epoch 238/300\n",
      "1/1 [==============================] - 0s 1ms/step - loss: 7.5821e-07\n",
      "Epoch 239/300\n",
      "1/1 [==============================] - 0s 1ms/step - loss: 6.9735e-07\n",
      "Epoch 240/300\n",
      "1/1 [==============================] - 0s 1ms/step - loss: 6.3281e-07\n",
      "Epoch 241/300\n",
      "1/1 [==============================] - 0s 1ms/step - loss: 5.7560e-07\n",
      "Epoch 242/300\n",
      "1/1 [==============================] - 0s 891us/step - loss: 5.3316e-07\n",
      "Epoch 243/300\n",
      "1/1 [==============================] - 0s 1ms/step - loss: 5.0092e-07\n",
      "Epoch 244/300\n",
      "1/1 [==============================] - 0s 1ms/step - loss: 4.7593e-07\n",
      "Epoch 245/300\n",
      "1/1 [==============================] - 0s 860us/step - loss: 4.4475e-07\n",
      "Epoch 246/300\n",
      "1/1 [==============================] - 0s 2ms/step - loss: 4.0758e-07\n",
      "Epoch 247/300\n",
      "1/1 [==============================] - 0s 1ms/step - loss: 3.6417e-07\n",
      "Epoch 248/300\n",
      "1/1 [==============================] - 0s 1ms/step - loss: 3.1834e-07\n",
      "Epoch 249/300\n",
      "1/1 [==============================] - 0s 766us/step - loss: 2.7593e-07\n",
      "Epoch 250/300\n",
      "1/1 [==============================] - 0s 1ms/step - loss: 2.4057e-07\n",
      "Epoch 251/300\n",
      "1/1 [==============================] - 0s 1ms/step - loss: 2.1441e-07\n",
      "Epoch 252/300\n",
      "1/1 [==============================] - 0s 1ms/step - loss: 1.9422e-07\n",
      "Epoch 253/300\n",
      "1/1 [==============================] - 0s 767us/step - loss: 1.7488e-07\n",
      "Epoch 254/300\n",
      "1/1 [==============================] - 0s 1ms/step - loss: 1.5540e-07\n",
      "Epoch 255/300\n",
      "1/1 [==============================] - 0s 1ms/step - loss: 1.3441e-07\n",
      "Epoch 256/300\n",
      "1/1 [==============================] - 0s 978us/step - loss: 1.1225e-07\n",
      "Epoch 257/300\n",
      "1/1 [==============================] - 0s 765us/step - loss: 9.2243e-08\n",
      "Epoch 258/300\n",
      "1/1 [==============================] - 0s 1ms/step - loss: 7.5560e-08\n",
      "Epoch 259/300\n",
      "1/1 [==============================] - 0s 743us/step - loss: 6.2966e-08\n",
      "Epoch 260/300\n",
      "1/1 [==============================] - 0s 1ms/step - loss: 5.3633e-08\n",
      "Epoch 261/300\n",
      "1/1 [==============================] - 0s 1ms/step - loss: 4.6893e-08\n",
      "Epoch 262/300\n",
      "1/1 [==============================] - 0s 866us/step - loss: 4.0050e-08\n",
      "Epoch 263/300\n",
      "1/1 [==============================] - 0s 791us/step - loss: 3.3020e-08\n",
      "Epoch 264/300\n",
      "1/1 [==============================] - 0s 940us/step - loss: 2.5958e-08\n",
      "Epoch 265/300\n",
      "1/1 [==============================] - 0s 1ms/step - loss: 1.9385e-08\n",
      "Epoch 266/300\n",
      "1/1 [==============================] - 0s 1ms/step - loss: 1.3597e-08\n",
      "Epoch 267/300\n",
      "1/1 [==============================] - 0s 734us/step - loss: 9.8257e-09\n",
      "Epoch 268/300\n",
      "1/1 [==============================] - 0s 1ms/step - loss: 7.4019e-09\n",
      "Epoch 269/300\n",
      "1/1 [==============================] - 0s 1ms/step - loss: 6.1020e-09\n",
      "Epoch 270/300\n",
      "1/1 [==============================] - 0s 1ms/step - loss: 5.1503e-09\n",
      "Epoch 271/300\n",
      "1/1 [==============================] - 0s 1ms/step - loss: 4.1295e-09\n",
      "Epoch 272/300\n",
      "1/1 [==============================] - 0s 1ms/step - loss: 2.9845e-09\n",
      "Epoch 273/300\n",
      "1/1 [==============================] - 0s 1ms/step - loss: 1.7009e-09\n",
      "Epoch 274/300\n",
      "1/1 [==============================] - 0s 818us/step - loss: 5.7532e-10\n",
      "Epoch 275/300\n",
      "1/1 [==============================] - 0s 1ms/step - loss: 8.1521e-11\n",
      "Epoch 276/300\n",
      "1/1 [==============================] - 0s 1ms/step - loss: 1.0262e-10\n",
      "Epoch 277/300\n",
      "1/1 [==============================] - 0s 1ms/step - loss: 5.0619e-10\n",
      "Epoch 278/300\n",
      "1/1 [==============================] - 0s 1ms/step - loss: 1.0301e-09\n",
      "Epoch 279/300\n",
      "1/1 [==============================] - 0s 1ms/step - loss: 1.2725e-09\n",
      "Epoch 280/300\n",
      "1/1 [==============================] - 0s 1ms/step - loss: 1.3390e-09\n",
      "Epoch 281/300\n",
      "1/1 [==============================] - 0s 1ms/step - loss: 1.2161e-09\n",
      "Epoch 282/300\n",
      "1/1 [==============================] - 0s 1ms/step - loss: 1.1699e-09\n",
      "Epoch 283/300\n",
      "1/1 [==============================] - 0s 1ms/step - loss: 1.1883e-09\n",
      "Epoch 284/300\n",
      "1/1 [==============================] - 0s 1ms/step - loss: 1.4820e-09\n",
      "Epoch 285/300\n",
      "1/1 [==============================] - 0s 1ms/step - loss: 1.9303e-09\n",
      "Epoch 286/300\n",
      "1/1 [==============================] - 0s 2ms/step - loss: 2.1079e-09\n",
      "Epoch 287/300\n",
      "1/1 [==============================] - 0s 2ms/step - loss: 2.2137e-09\n",
      "Epoch 288/300\n",
      "1/1 [==============================] - 0s 2ms/step - loss: 2.2137e-09\n",
      "Epoch 289/300\n",
      "1/1 [==============================] - 0s 2ms/step - loss: 2.0348e-09\n",
      "Epoch 290/300\n",
      "1/1 [==============================] - 0s 1ms/step - loss: 1.8410e-09\n",
      "Epoch 291/300\n",
      "1/1 [==============================] - 0s 2ms/step - loss: 1.7658e-09\n",
      "Epoch 292/300\n",
      "1/1 [==============================] - 0s 2ms/step - loss: 1.8097e-09\n",
      "Epoch 293/300\n",
      "1/1 [==============================] - 0s 2ms/step - loss: 1.8725e-09\n",
      "Epoch 294/300\n",
      "1/1 [==============================] - 0s 2ms/step - loss: 1.8903e-09\n",
      "Epoch 295/300\n",
      "1/1 [==============================] - 0s 2ms/step - loss: 1.8903e-09\n",
      "Epoch 296/300\n",
      "1/1 [==============================] - 0s 3ms/step - loss: 1.8903e-09\n"
     ]
    },
    {
     "name": "stdout",
     "output_type": "stream",
     "text": [
      "Epoch 297/300\n",
      "1/1 [==============================] - 0s 1ms/step - loss: 1.8725e-09\n",
      "Epoch 298/300\n",
      "1/1 [==============================] - 0s 1ms/step - loss: 1.8073e-09\n",
      "Epoch 299/300\n",
      "1/1 [==============================] - 0s 1ms/step - loss: 1.8043e-09\n",
      "Epoch 300/300\n",
      "1/1 [==============================] - 0s 1ms/step - loss: 1.7658e-09\n"
     ]
    }
   ],
   "source": [
    "epochs_hist = model.fit(X_train, y_train, epochs = 300)"
   ]
  },
  {
   "cell_type": "code",
   "execution_count": 23,
   "metadata": {},
   "outputs": [
    {
     "data": {
      "text/plain": [
       "dict_keys(['loss'])"
      ]
     },
     "execution_count": 23,
     "metadata": {},
     "output_type": "execute_result"
    }
   ],
   "source": [
    "epochs_hist.history.keys()"
   ]
  },
  {
   "cell_type": "code",
   "execution_count": 24,
   "metadata": {},
   "outputs": [
    {
     "data": {
      "text/plain": [
       "<matplotlib.legend.Legend at 0x7f393828fc40>"
      ]
     },
     "execution_count": 24,
     "metadata": {},
     "output_type": "execute_result"
    },
    {
     "data": {
      "image/png": "[encoded data removed]",
      "text/plain": [
       "<Figure size 432x288 with 1 Axes>"
      ]
     },
     "metadata": {
      "needs_background": "light"
     },
     "output_type": "display_data"
    }
   ],
   "source": [
    "plt.plot(epochs_hist.history['loss'])\n",
    "plt.title('Model Loss Progress During Training')\n",
    "plt.xlabel('Epoch')\n",
    "plt.ylabel('Training Loss')\n",
    "plt.legend(['Training Loss'])"
   ]
  },
  {
   "cell_type": "code",
   "execution_count": 25,
   "metadata": {},
   "outputs": [
    {
     "data": {
      "text/plain": [
       "[array([[1.7999996]], dtype=float32), array([32.000042], dtype=float32)]"
      ]
     },
     "execution_count": 25,
     "metadata": {},
     "output_type": "execute_result"
    }
   ],
   "source": [
    "model.get_weights()"
   ]
  },
  {
   "cell_type": "code",
   "execution_count": 26,
   "metadata": {},
   "outputs": [
    {
     "name": "stdout",
     "output_type": "stream",
     "text": [
      "Temperature in degF Using Trained ANN = [[69.80003]]\n"
     ]
    }
   ],
   "source": [
    "Temp_C = 21\n",
    "Temp_F = model.predict([Temp_C])\n",
    "print('Temperature in degF Using Trained ANN =', Temp_F)"
   ]
  },
  {
   "cell_type": "code",
   "execution_count": 27,
   "metadata": {},
   "outputs": [
    {
     "name": "stdout",
     "output_type": "stream",
     "text": [
      "Temperature in degF Using Equation = 69.80000000000001\n"
     ]
    }
   ],
   "source": [
    "Temp_F = 9/5 * Temp_C + 32\n",
    "print('Temperature in degF Using Equation =', Temp_F)"
   ]
  },
  {
   "cell_type": "markdown",
   "metadata": {},
   "source": [
    "# Tensorflow Linear Regression on Car price"
   ]
  },
  {
   "cell_type": "code",
   "execution_count": 28,
   "metadata": {},
   "outputs": [
    {
     "data": {
      "text/html": [
       "<div>\n",
       "<style scoped>\n",
       "    .dataframe tbody tr th:only-of-type {\n",
       "        vertical-align: middle;\n",
       "    }\n",
       "\n",
       "    .dataframe tbody tr th {\n",
       "        vertical-align: top;\n",
       "    }\n",
       "\n",
       "    .dataframe thead th {\n",
       "        text-align: right;\n",
       "    }\n",
       "</style>\n",
       "<table border=\"1\" class=\"dataframe\">\n",
       "  <thead>\n",
       "    <tr style=\"text-align: right;\">\n",
       "      <th></th>\n",
       "      <th>year</th>\n",
       "      <th>model</th>\n",
       "      <th>price</th>\n",
       "      <th>mileage</th>\n",
       "      <th>color</th>\n",
       "      <th>transmission</th>\n",
       "    </tr>\n",
       "  </thead>\n",
       "  <tbody>\n",
       "    <tr>\n",
       "      <th>0</th>\n",
       "      <td>2011</td>\n",
       "      <td>SEL</td>\n",
       "      <td>21992</td>\n",
       "      <td>7413</td>\n",
       "      <td>Yellow</td>\n",
       "      <td>AUTO</td>\n",
       "    </tr>\n",
       "    <tr>\n",
       "      <th>1</th>\n",
       "      <td>2011</td>\n",
       "      <td>SEL</td>\n",
       "      <td>20995</td>\n",
       "      <td>10926</td>\n",
       "      <td>Gray</td>\n",
       "      <td>AUTO</td>\n",
       "    </tr>\n",
       "    <tr>\n",
       "      <th>2</th>\n",
       "      <td>2011</td>\n",
       "      <td>SEL</td>\n",
       "      <td>19995</td>\n",
       "      <td>7351</td>\n",
       "      <td>Silver</td>\n",
       "      <td>AUTO</td>\n",
       "    </tr>\n",
       "    <tr>\n",
       "      <th>3</th>\n",
       "      <td>2011</td>\n",
       "      <td>SEL</td>\n",
       "      <td>17809</td>\n",
       "      <td>11613</td>\n",
       "      <td>Gray</td>\n",
       "      <td>AUTO</td>\n",
       "    </tr>\n",
       "    <tr>\n",
       "      <th>4</th>\n",
       "      <td>2012</td>\n",
       "      <td>SE</td>\n",
       "      <td>17500</td>\n",
       "      <td>8367</td>\n",
       "      <td>White</td>\n",
       "      <td>AUTO</td>\n",
       "    </tr>\n",
       "    <tr>\n",
       "      <th>...</th>\n",
       "      <td>...</td>\n",
       "      <td>...</td>\n",
       "      <td>...</td>\n",
       "      <td>...</td>\n",
       "      <td>...</td>\n",
       "      <td>...</td>\n",
       "    </tr>\n",
       "    <tr>\n",
       "      <th>145</th>\n",
       "      <td>2006</td>\n",
       "      <td>SES</td>\n",
       "      <td>6200</td>\n",
       "      <td>95000</td>\n",
       "      <td>Silver</td>\n",
       "      <td>AUTO</td>\n",
       "    </tr>\n",
       "    <tr>\n",
       "      <th>146</th>\n",
       "      <td>2002</td>\n",
       "      <td>SE</td>\n",
       "      <td>5995</td>\n",
       "      <td>87003</td>\n",
       "      <td>Red</td>\n",
       "      <td>AUTO</td>\n",
       "    </tr>\n",
       "    <tr>\n",
       "      <th>147</th>\n",
       "      <td>2000</td>\n",
       "      <td>SE</td>\n",
       "      <td>5980</td>\n",
       "      <td>96841</td>\n",
       "      <td>Red</td>\n",
       "      <td>AUTO</td>\n",
       "    </tr>\n",
       "    <tr>\n",
       "      <th>148</th>\n",
       "      <td>2001</td>\n",
       "      <td>SE</td>\n",
       "      <td>4899</td>\n",
       "      <td>151479</td>\n",
       "      <td>Yellow</td>\n",
       "      <td>AUTO</td>\n",
       "    </tr>\n",
       "    <tr>\n",
       "      <th>149</th>\n",
       "      <td>2000</td>\n",
       "      <td>SE</td>\n",
       "      <td>3800</td>\n",
       "      <td>109259</td>\n",
       "      <td>Red</td>\n",
       "      <td>AUTO</td>\n",
       "    </tr>\n",
       "  </tbody>\n",
       "</table>\n",
       "<p>150 rows × 6 columns</p>\n",
       "</div>"
      ],
      "text/plain": [
       "     year model  price  mileage   color transmission\n",
       "0    2011   SEL  21992     7413  Yellow         AUTO\n",
       "1    2011   SEL  20995    10926    Gray         AUTO\n",
       "2    2011   SEL  19995     7351  Silver         AUTO\n",
       "3    2011   SEL  17809    11613    Gray         AUTO\n",
       "4    2012    SE  17500     8367   White         AUTO\n",
       "..    ...   ...    ...      ...     ...          ...\n",
       "145  2006   SES   6200    95000  Silver         AUTO\n",
       "146  2002    SE   5995    87003     Red         AUTO\n",
       "147  2000    SE   5980    96841     Red         AUTO\n",
       "148  2001    SE   4899   151479  Yellow         AUTO\n",
       "149  2000    SE   3800   109259     Red         AUTO\n",
       "\n",
       "[150 rows x 6 columns]"
      ]
     },
     "execution_count": 28,
     "metadata": {},
     "output_type": "execute_result"
    }
   ],
   "source": [
    "import pandas as pd\n",
    "import numpy as np\n",
    "\n",
    "cars_data = pd.read_csv('usedcars.csv')\n",
    "cars_data"
   ]
  },
  {
   "cell_type": "code",
   "execution_count": 29,
   "metadata": {},
   "outputs": [
    {
     "data": {
      "text/plain": [
       "year            0\n",
       "model           0\n",
       "price           0\n",
       "mileage         0\n",
       "color           0\n",
       "transmission    0\n",
       "dtype: int64"
      ]
     },
     "execution_count": 29,
     "metadata": {},
     "output_type": "execute_result"
    }
   ],
   "source": [
    "cars_data.isna().sum()"
   ]
  },
  {
   "cell_type": "code",
   "execution_count": 30,
   "metadata": {},
   "outputs": [
    {
     "data": {
      "text/html": [
       "<div>\n",
       "<style scoped>\n",
       "    .dataframe tbody tr th:only-of-type {\n",
       "        vertical-align: middle;\n",
       "    }\n",
       "\n",
       "    .dataframe tbody tr th {\n",
       "        vertical-align: top;\n",
       "    }\n",
       "\n",
       "    .dataframe thead th {\n",
       "        text-align: right;\n",
       "    }\n",
       "</style>\n",
       "<table border=\"1\" class=\"dataframe\">\n",
       "  <thead>\n",
       "    <tr style=\"text-align: right;\">\n",
       "      <th></th>\n",
       "      <th>year</th>\n",
       "      <th>price</th>\n",
       "      <th>mileage</th>\n",
       "      <th>model_SE</th>\n",
       "      <th>model_SEL</th>\n",
       "      <th>model_SES</th>\n",
       "      <th>color_Black</th>\n",
       "      <th>color_Blue</th>\n",
       "      <th>color_Gold</th>\n",
       "      <th>color_Gray</th>\n",
       "      <th>color_Green</th>\n",
       "      <th>color_Red</th>\n",
       "      <th>color_Silver</th>\n",
       "      <th>color_White</th>\n",
       "      <th>color_Yellow</th>\n",
       "      <th>transmission_AUTO</th>\n",
       "      <th>transmission_MANUAL</th>\n",
       "    </tr>\n",
       "  </thead>\n",
       "  <tbody>\n",
       "    <tr>\n",
       "      <th>0</th>\n",
       "      <td>2011.0</td>\n",
       "      <td>21992.0</td>\n",
       "      <td>7413.0</td>\n",
       "      <td>0.0</td>\n",
       "      <td>1.0</td>\n",
       "      <td>0.0</td>\n",
       "      <td>0.0</td>\n",
       "      <td>0.0</td>\n",
       "      <td>0.0</td>\n",
       "      <td>0.0</td>\n",
       "      <td>0.0</td>\n",
       "      <td>0.0</td>\n",
       "      <td>0.0</td>\n",
       "      <td>0.0</td>\n",
       "      <td>1.0</td>\n",
       "      <td>1.0</td>\n",
       "      <td>0.0</td>\n",
       "    </tr>\n",
       "    <tr>\n",
       "      <th>1</th>\n",
       "      <td>2011.0</td>\n",
       "      <td>20995.0</td>\n",
       "      <td>10926.0</td>\n",
       "      <td>0.0</td>\n",
       "      <td>1.0</td>\n",
       "      <td>0.0</td>\n",
       "      <td>0.0</td>\n",
       "      <td>0.0</td>\n",
       "      <td>0.0</td>\n",
       "      <td>1.0</td>\n",
       "      <td>0.0</td>\n",
       "      <td>0.0</td>\n",
       "      <td>0.0</td>\n",
       "      <td>0.0</td>\n",
       "      <td>0.0</td>\n",
       "      <td>1.0</td>\n",
       "      <td>0.0</td>\n",
       "    </tr>\n",
       "    <tr>\n",
       "      <th>2</th>\n",
       "      <td>2011.0</td>\n",
       "      <td>19995.0</td>\n",
       "      <td>7351.0</td>\n",
       "      <td>0.0</td>\n",
       "      <td>1.0</td>\n",
       "      <td>0.0</td>\n",
       "      <td>0.0</td>\n",
       "      <td>0.0</td>\n",
       "      <td>0.0</td>\n",
       "      <td>0.0</td>\n",
       "      <td>0.0</td>\n",
       "      <td>0.0</td>\n",
       "      <td>1.0</td>\n",
       "      <td>0.0</td>\n",
       "      <td>0.0</td>\n",
       "      <td>1.0</td>\n",
       "      <td>0.0</td>\n",
       "    </tr>\n",
       "    <tr>\n",
       "      <th>3</th>\n",
       "      <td>2011.0</td>\n",
       "      <td>17809.0</td>\n",
       "      <td>11613.0</td>\n",
       "      <td>0.0</td>\n",
       "      <td>1.0</td>\n",
       "      <td>0.0</td>\n",
       "      <td>0.0</td>\n",
       "      <td>0.0</td>\n",
       "      <td>0.0</td>\n",
       "      <td>1.0</td>\n",
       "      <td>0.0</td>\n",
       "      <td>0.0</td>\n",
       "      <td>0.0</td>\n",
       "      <td>0.0</td>\n",
       "      <td>0.0</td>\n",
       "      <td>1.0</td>\n",
       "      <td>0.0</td>\n",
       "    </tr>\n",
       "    <tr>\n",
       "      <th>4</th>\n",
       "      <td>2012.0</td>\n",
       "      <td>17500.0</td>\n",
       "      <td>8367.0</td>\n",
       "      <td>1.0</td>\n",
       "      <td>0.0</td>\n",
       "      <td>0.0</td>\n",
       "      <td>0.0</td>\n",
       "      <td>0.0</td>\n",
       "      <td>0.0</td>\n",
       "      <td>0.0</td>\n",
       "      <td>0.0</td>\n",
       "      <td>0.0</td>\n",
       "      <td>0.0</td>\n",
       "      <td>1.0</td>\n",
       "      <td>0.0</td>\n",
       "      <td>1.0</td>\n",
       "      <td>0.0</td>\n",
       "    </tr>\n",
       "    <tr>\n",
       "      <th>...</th>\n",
       "      <td>...</td>\n",
       "      <td>...</td>\n",
       "      <td>...</td>\n",
       "      <td>...</td>\n",
       "      <td>...</td>\n",
       "      <td>...</td>\n",
       "      <td>...</td>\n",
       "      <td>...</td>\n",
       "      <td>...</td>\n",
       "      <td>...</td>\n",
       "      <td>...</td>\n",
       "      <td>...</td>\n",
       "      <td>...</td>\n",
       "      <td>...</td>\n",
       "      <td>...</td>\n",
       "      <td>...</td>\n",
       "      <td>...</td>\n",
       "    </tr>\n",
       "    <tr>\n",
       "      <th>145</th>\n",
       "      <td>2006.0</td>\n",
       "      <td>6200.0</td>\n",
       "      <td>95000.0</td>\n",
       "      <td>0.0</td>\n",
       "      <td>0.0</td>\n",
       "      <td>1.0</td>\n",
       "      <td>0.0</td>\n",
       "      <td>0.0</td>\n",
       "      <td>0.0</td>\n",
       "      <td>0.0</td>\n",
       "      <td>0.0</td>\n",
       "      <td>0.0</td>\n",
       "      <td>1.0</td>\n",
       "      <td>0.0</td>\n",
       "      <td>0.0</td>\n",
       "      <td>1.0</td>\n",
       "      <td>0.0</td>\n",
       "    </tr>\n",
       "    <tr>\n",
       "      <th>146</th>\n",
       "      <td>2002.0</td>\n",
       "      <td>5995.0</td>\n",
       "      <td>87003.0</td>\n",
       "      <td>1.0</td>\n",
       "      <td>0.0</td>\n",
       "      <td>0.0</td>\n",
       "      <td>0.0</td>\n",
       "      <td>0.0</td>\n",
       "      <td>0.0</td>\n",
       "      <td>0.0</td>\n",
       "      <td>0.0</td>\n",
       "      <td>1.0</td>\n",
       "      <td>0.0</td>\n",
       "      <td>0.0</td>\n",
       "      <td>0.0</td>\n",
       "      <td>1.0</td>\n",
       "      <td>0.0</td>\n",
       "    </tr>\n",
       "    <tr>\n",
       "      <th>147</th>\n",
       "      <td>2000.0</td>\n",
       "      <td>5980.0</td>\n",
       "      <td>96841.0</td>\n",
       "      <td>1.0</td>\n",
       "      <td>0.0</td>\n",
       "      <td>0.0</td>\n",
       "      <td>0.0</td>\n",
       "      <td>0.0</td>\n",
       "      <td>0.0</td>\n",
       "      <td>0.0</td>\n",
       "      <td>0.0</td>\n",
       "      <td>1.0</td>\n",
       "      <td>0.0</td>\n",
       "      <td>0.0</td>\n",
       "      <td>0.0</td>\n",
       "      <td>1.0</td>\n",
       "      <td>0.0</td>\n",
       "    </tr>\n",
       "    <tr>\n",
       "      <th>148</th>\n",
       "      <td>2001.0</td>\n",
       "      <td>4899.0</td>\n",
       "      <td>151479.0</td>\n",
       "      <td>1.0</td>\n",
       "      <td>0.0</td>\n",
       "      <td>0.0</td>\n",
       "      <td>0.0</td>\n",
       "      <td>0.0</td>\n",
       "      <td>0.0</td>\n",
       "      <td>0.0</td>\n",
       "      <td>0.0</td>\n",
       "      <td>0.0</td>\n",
       "      <td>0.0</td>\n",
       "      <td>0.0</td>\n",
       "      <td>1.0</td>\n",
       "      <td>1.0</td>\n",
       "      <td>0.0</td>\n",
       "    </tr>\n",
       "    <tr>\n",
       "      <th>149</th>\n",
       "      <td>2000.0</td>\n",
       "      <td>3800.0</td>\n",
       "      <td>109259.0</td>\n",
       "      <td>1.0</td>\n",
       "      <td>0.0</td>\n",
       "      <td>0.0</td>\n",
       "      <td>0.0</td>\n",
       "      <td>0.0</td>\n",
       "      <td>0.0</td>\n",
       "      <td>0.0</td>\n",
       "      <td>0.0</td>\n",
       "      <td>1.0</td>\n",
       "      <td>0.0</td>\n",
       "      <td>0.0</td>\n",
       "      <td>0.0</td>\n",
       "      <td>1.0</td>\n",
       "      <td>0.0</td>\n",
       "    </tr>\n",
       "  </tbody>\n",
       "</table>\n",
       "<p>150 rows × 17 columns</p>\n",
       "</div>"
      ],
      "text/plain": [
       "       year    price   mileage  model_SE  model_SEL  model_SES  color_Black  \\\n",
       "0    2011.0  21992.0    7413.0       0.0        1.0        0.0          0.0   \n",
       "1    2011.0  20995.0   10926.0       0.0        1.0        0.0          0.0   \n",
       "2    2011.0  19995.0    7351.0       0.0        1.0        0.0          0.0   \n",
       "3    2011.0  17809.0   11613.0       0.0        1.0        0.0          0.0   \n",
       "4    2012.0  17500.0    8367.0       1.0        0.0        0.0          0.0   \n",
       "..      ...      ...       ...       ...        ...        ...          ...   \n",
       "145  2006.0   6200.0   95000.0       0.0        0.0        1.0          0.0   \n",
       "146  2002.0   5995.0   87003.0       1.0        0.0        0.0          0.0   \n",
       "147  2000.0   5980.0   96841.0       1.0        0.0        0.0          0.0   \n",
       "148  2001.0   4899.0  151479.0       1.0        0.0        0.0          0.0   \n",
       "149  2000.0   3800.0  109259.0       1.0        0.0        0.0          0.0   \n",
       "\n",
       "     color_Blue  color_Gold  color_Gray  color_Green  color_Red  color_Silver  \\\n",
       "0           0.0         0.0         0.0          0.0        0.0           0.0   \n",
       "1           0.0         0.0         1.0          0.0        0.0           0.0   \n",
       "2           0.0         0.0         0.0          0.0        0.0           1.0   \n",
       "3           0.0         0.0         1.0          0.0        0.0           0.0   \n",
       "4           0.0         0.0         0.0          0.0        0.0           0.0   \n",
       "..          ...         ...         ...          ...        ...           ...   \n",
       "145         0.0         0.0         0.0          0.0        0.0           1.0   \n",
       "146         0.0         0.0         0.0          0.0        1.0           0.0   \n",
       "147         0.0         0.0         0.0          0.0        1.0           0.0   \n",
       "148         0.0         0.0         0.0          0.0        0.0           0.0   \n",
       "149         0.0         0.0         0.0          0.0        1.0           0.0   \n",
       "\n",
       "     color_White  color_Yellow  transmission_AUTO  transmission_MANUAL  \n",
       "0            0.0           1.0                1.0                  0.0  \n",
       "1            0.0           0.0                1.0                  0.0  \n",
       "2            0.0           0.0                1.0                  0.0  \n",
       "3            0.0           0.0                1.0                  0.0  \n",
       "4            1.0           0.0                1.0                  0.0  \n",
       "..           ...           ...                ...                  ...  \n",
       "145          0.0           0.0                1.0                  0.0  \n",
       "146          0.0           0.0                1.0                  0.0  \n",
       "147          0.0           0.0                1.0                  0.0  \n",
       "148          0.0           1.0                1.0                  0.0  \n",
       "149          0.0           0.0                1.0                  0.0  \n",
       "\n",
       "[150 rows x 17 columns]"
      ]
     },
     "execution_count": 30,
     "metadata": {},
     "output_type": "execute_result"
    }
   ],
   "source": [
    "#just some basic preprocessing\n",
    "cars_data.drop_duplicates()\n",
    "#creating dummy variables for the categorical features\n",
    "cars_data = pd.get_dummies(cars_data)\n",
    "cars_data = cars_data.astype('float32') # we will need to convert the dataset to float in order to be able to convert it into tensors later.\n",
    "cars_data"
   ]
  },
  {
   "cell_type": "code",
   "execution_count": 31,
   "metadata": {},
   "outputs": [
    {
     "data": {
      "text/plain": [
       "Index(['year', 'price', 'mileage', 'model_SE', 'model_SEL', 'model_SES',\n",
       "       'color_Black', 'color_Blue', 'color_Gold', 'color_Gray', 'color_Green',\n",
       "       'color_Red', 'color_Silver', 'color_White', 'color_Yellow',\n",
       "       'transmission_AUTO', 'transmission_MANUAL'],\n",
       "      dtype='object')"
      ]
     },
     "execution_count": 31,
     "metadata": {},
     "output_type": "execute_result"
    }
   ],
   "source": [
    "#explorinfg column names\n",
    "cars_data.columns"
   ]
  },
  {
   "cell_type": "code",
   "execution_count": 32,
   "metadata": {},
   "outputs": [
    {
     "data": {
      "text/plain": [
       "array([[0.75      , 0.27928138, 0.        , ..., 0.        , 1.        ,\n",
       "        0.        ],\n",
       "       [0.58332825, 0.5233474 , 0.        , ..., 1.        , 0.        ,\n",
       "        1.        ],\n",
       "       [0.75      , 0.21721278, 1.        , ..., 0.        , 1.        ,\n",
       "        0.        ],\n",
       "       ...,\n",
       "       [0.83332825, 0.20944397, 0.        , ..., 0.        , 1.        ,\n",
       "        0.        ],\n",
       "       [0.33332825, 0.6878496 , 1.        , ..., 0.        , 1.        ,\n",
       "        0.        ],\n",
       "       [0.83332825, 0.2253431 , 1.        , ..., 0.        , 1.        ,\n",
       "        0.        ]], dtype=float32)"
      ]
     },
     "execution_count": 32,
     "metadata": {},
     "output_type": "execute_result"
    }
   ],
   "source": [
    "#getting the features and labels and finally splitting the test and train data.\n",
    "\n",
    "\n",
    "from sklearn.model_selection import train_test_split\n",
    "X = cars_data[['year','mileage', 'model_SE', 'model_SEL', 'model_SES',\n",
    "       'color_Black', 'color_Blue', 'color_Gold', 'color_Gray', 'color_Green',\n",
    "       'color_Red', 'color_Silver', 'color_White', 'color_Yellow',\n",
    "       'transmission_AUTO', 'transmission_MANUAL']]\n",
    "Y = cars_data['price']\n",
    "\n",
    "\n",
    "X_train, X_test, y_train, y_test = train_test_split(X, Y, test_size=0.20, random_state=1)\n",
    "\n",
    "#let us scale the data as features are on different scales which might be a problem while modelling\n",
    "from sklearn import preprocessing\n",
    "scaler = preprocessing.MinMaxScaler()\n",
    "# MinMaxScalar has been used here. You can go ahead and use the other scalars available and chcek the effect on the results.\n",
    "#fitting the transform on test and train separately\n",
    "X_train = scaler.fit_transform(X_train)\n",
    "X_test = scaler.transform(X_test)\n",
    "X_train"
   ]
  },
  {
   "cell_type": "code",
   "execution_count": 33,
   "metadata": {},
   "outputs": [
    {
     "name": "stdout",
     "output_type": "stream",
     "text": [
      "2.2.0\n"
     ]
    }
   ],
   "source": [
    "import tensorflow as tf\n",
    "print(tf.__version__)\n",
    "# let us now convert the data elements into tensors as we need tensors to be fed into different tensorflow based operations\n",
    "#X-train and X_test were converted to numpy arrays while transformations while the other two need to be transformed into numpy arrays.\n",
    "X_train=tf.convert_to_tensor(X_train)\n",
    "y_train=tf.convert_to_tensor(y_train.values)\n",
    "X_test=tf.convert_to_tensor(X_test)\n",
    "y_test=tf.convert_to_tensor(y_test.values)"
   ]
  },
  {
   "cell_type": "code",
   "execution_count": 34,
   "metadata": {},
   "outputs": [
    {
     "data": {
      "text/plain": [
       "16"
      ]
     },
     "execution_count": 34,
     "metadata": {},
     "output_type": "execute_result"
    }
   ],
   "source": [
    "X_train.shape[1]"
   ]
  },
  {
   "cell_type": "code",
   "execution_count": 35,
   "metadata": {},
   "outputs": [],
   "source": [
    "input_dim = X_train.shape[1]\n",
    "output_dim = 1\n",
    "learning_rate = 0.01\n",
    "\n",
    "# Let us initialize the weights and bias variables. \n",
    "weights = tf.Variable(tf.zeros(shape=(input_dim, output_dim), dtype= tf.float32))\n",
    "bias = tf.Variable(tf.ones(shape=(output_dim,), dtype= tf.float32))\n",
    "\n",
    "def predict(features):\n",
    "  return tf.matmul(features, weights) + bias # note that the matmul is matrix multiplication and is needed for calculating predictions\n",
    "\n",
    "def compute_loss(y_true, predictions):\n",
    "  return tf.reduce_mean(tf.square(y_true - predictions)) # mean square error\n",
    "\n",
    "# Let us now define a function to train the model. We will call the other functions in function definition.\n",
    "def train(x, y):\n",
    "  with tf.GradientTape() as tape:\n",
    "    predictions = predict(x)\n",
    "    loss = compute_loss(y, predictions)\n",
    "    dloss_dw, dloss_db = tape.gradient(loss, [weights, bias]) #note that we can pass lists as well here.\n",
    "  weights.assign_sub(learning_rate * dloss_dw)\n",
    "  bias.assign_sub(learning_rate * dloss_db)\n",
    "  return loss"
   ]
  },
  {
   "cell_type": "code",
   "execution_count": 36,
   "metadata": {},
   "outputs": [
    {
     "name": "stdout",
     "output_type": "stream",
     "text": [
      "Epoch 0: Loss = 176731056.0000\n",
      "Epoch 1: Loss = 157933824.0000\n",
      "Epoch 2: Loss = 141282512.0000\n",
      "Epoch 3: Loss = 126532152.0000\n",
      "Epoch 4: Loss = 113465592.0000\n",
      "Epoch 5: Loss = 101890456.0000\n",
      "Epoch 6: Loss = 91636384.0000\n",
      "Epoch 7: Loss = 82552480.0000\n",
      "Epoch 8: Loss = 74505032.0000\n",
      "Epoch 9: Loss = 67375672.0000\n",
      "Epoch 10: Loss = 61059548.0000\n",
      "Epoch 11: Loss = 55463716.0000\n",
      "Epoch 12: Loss = 50505952.0000\n",
      "Epoch 13: Loss = 46113356.0000\n",
      "Epoch 14: Loss = 42221364.0000\n",
      "Epoch 15: Loss = 38772792.0000\n",
      "Epoch 16: Loss = 35717000.0000\n",
      "Epoch 17: Loss = 33009130.0000\n",
      "Epoch 18: Loss = 30609454.0000\n",
      "Epoch 19: Loss = 28482742.0000\n",
      "Epoch 20: Loss = 26597852.0000\n",
      "Epoch 21: Loss = 24927150.0000\n",
      "Epoch 22: Loss = 23446198.0000\n",
      "Epoch 23: Loss = 22133292.0000\n",
      "Epoch 24: Loss = 20969276.0000\n",
      "Epoch 25: Loss = 19937132.0000\n",
      "Epoch 26: Loss = 19021806.0000\n",
      "Epoch 27: Loss = 18209962.0000\n",
      "Epoch 28: Loss = 17489792.0000\n",
      "Epoch 29: Loss = 16850832.0000\n",
      "Epoch 30: Loss = 16283805.0000\n",
      "Epoch 31: Loss = 15780509.0000\n",
      "Epoch 32: Loss = 15333668.0000\n",
      "Epoch 33: Loss = 14936839.0000\n",
      "Epoch 34: Loss = 14584325.0000\n",
      "Epoch 35: Loss = 14271067.0000\n",
      "Epoch 36: Loss = 13992585.0000\n",
      "Epoch 37: Loss = 13744914.0000\n",
      "Epoch 38: Loss = 13524553.0000\n",
      "Epoch 39: Loss = 13328381.0000\n",
      "Epoch 40: Loss = 13153640.0000\n",
      "Epoch 41: Loss = 12997893.0000\n",
      "Epoch 42: Loss = 12858982.0000\n",
      "Epoch 43: Loss = 12734986.0000\n",
      "Epoch 44: Loss = 12624210.0000\n",
      "Epoch 45: Loss = 12525152.0000\n",
      "Epoch 46: Loss = 12436475.0000\n",
      "Epoch 47: Loss = 12357011.0000\n",
      "Epoch 48: Loss = 12285709.0000\n",
      "Epoch 49: Loss = 12221643.0000\n",
      "Final Weights after 50 epochs:\n",
      "###############################################################################\n",
      "<tf.Variable 'Variable:0' shape=(16, 1) dtype=float32, numpy=\n",
      "array([[3008.1318  ],\n",
      "       [1190.5148  ],\n",
      "       [2035.171   ],\n",
      "       [ 605.12933 ],\n",
      "       [1614.7792  ],\n",
      "       [ 831.8534  ],\n",
      "       [ 515.21155 ],\n",
      "       [  34.478077],\n",
      "       [ 466.3804  ],\n",
      "       [ 203.20662 ],\n",
      "       [ 746.8156  ],\n",
      "       [ 910.93    ],\n",
      "       [ 410.437   ],\n",
      "       [ 135.7667  ],\n",
      "       [3421.8296  ],\n",
      "       [ 833.24805 ]], dtype=float32)>\n",
      "Final Bias after 50 epochs:\n",
      "###############################################################################\n",
      "<tf.Variable 'Variable:0' shape=(1,) dtype=float32, numpy=array([4256.079], dtype=float32)>\n"
     ]
    }
   ],
   "source": [
    "\n",
    "for epoch in range(50):\n",
    "  loss = train(X_train, y_train)\n",
    "  print('Epoch %d: Loss = %.4f' % (epoch, float(loss)))\n",
    "\n",
    "\n",
    "print('Final Weights after 50 epochs:')\n",
    "print('###############################################################################')\n",
    "print(weights)\n",
    "\n",
    "print('Final Bias after 50 epochs:')\n",
    "print('###############################################################################')\n",
    "print(bias)"
   ]
  },
  {
   "cell_type": "code",
   "execution_count": 37,
   "metadata": {},
   "outputs": [
    {
     "name": "stdout",
     "output_type": "stream",
     "text": [
      "tf.Tensor(8548196.0, shape=(), dtype=float32)\n"
     ]
    }
   ],
   "source": [
    "test_predictions = tf.matmul(X_test, weights) + bias\n",
    "print(compute_loss(y_test, test_predictions))"
   ]
  },
  {
   "cell_type": "code",
   "execution_count": null,
   "metadata": {},
   "outputs": [],
   "source": []
  },
  {
   "cell_type": "markdown",
   "metadata": {},
   "source": [
    "# <a id = \"link_churn\"></a>Tensorflow Binary Classification 1: Bank Churn prediction"
   ]
  },
  {
   "cell_type": "code",
   "execution_count": 38,
   "metadata": {
    "id": "8wIx9ivZeSPP"
   },
   "outputs": [],
   "source": [
    "dataset_file = 'bank.csv'"
   ]
  },
  {
   "cell_type": "code",
   "execution_count": 39,
   "metadata": {
    "id": "OM0t4RaJe10y"
   },
   "outputs": [],
   "source": [
    "df = pd.read_csv(dataset_file)"
   ]
  },
  {
   "cell_type": "code",
   "execution_count": 40,
   "metadata": {
    "colab": {
     "base_uri": "https://localhost:8080/",
     "height": 204
    },
    "id": "LzmnvBMKe13i",
    "outputId": "675b0fab-d237-4619-bad9-6c3319674a89"
   },
   "outputs": [
    {
     "data": {
      "text/html": [
       "<div>\n",
       "<style scoped>\n",
       "    .dataframe tbody tr th:only-of-type {\n",
       "        vertical-align: middle;\n",
       "    }\n",
       "\n",
       "    .dataframe tbody tr th {\n",
       "        vertical-align: top;\n",
       "    }\n",
       "\n",
       "    .dataframe thead th {\n",
       "        text-align: right;\n",
       "    }\n",
       "</style>\n",
       "<table border=\"1\" class=\"dataframe\">\n",
       "  <thead>\n",
       "    <tr style=\"text-align: right;\">\n",
       "      <th></th>\n",
       "      <th>RowNumber</th>\n",
       "      <th>CustomerId</th>\n",
       "      <th>Surname</th>\n",
       "      <th>CreditScore</th>\n",
       "      <th>Geography</th>\n",
       "      <th>Gender</th>\n",
       "      <th>Age</th>\n",
       "      <th>Tenure</th>\n",
       "      <th>Balance</th>\n",
       "      <th>NumOfProducts</th>\n",
       "      <th>HasCrCard</th>\n",
       "      <th>IsActiveMember</th>\n",
       "      <th>EstimatedSalary</th>\n",
       "      <th>Exited</th>\n",
       "    </tr>\n",
       "  </thead>\n",
       "  <tbody>\n",
       "    <tr>\n",
       "      <th>0</th>\n",
       "      <td>1</td>\n",
       "      <td>15634602</td>\n",
       "      <td>Hargrave</td>\n",
       "      <td>619</td>\n",
       "      <td>France</td>\n",
       "      <td>Female</td>\n",
       "      <td>42</td>\n",
       "      <td>2</td>\n",
       "      <td>0.00</td>\n",
       "      <td>1</td>\n",
       "      <td>1</td>\n",
       "      <td>1</td>\n",
       "      <td>101348.88</td>\n",
       "      <td>1</td>\n",
       "    </tr>\n",
       "    <tr>\n",
       "      <th>1</th>\n",
       "      <td>2</td>\n",
       "      <td>15647311</td>\n",
       "      <td>Hill</td>\n",
       "      <td>608</td>\n",
       "      <td>Spain</td>\n",
       "      <td>Female</td>\n",
       "      <td>41</td>\n",
       "      <td>1</td>\n",
       "      <td>83807.86</td>\n",
       "      <td>1</td>\n",
       "      <td>0</td>\n",
       "      <td>1</td>\n",
       "      <td>112542.58</td>\n",
       "      <td>0</td>\n",
       "    </tr>\n",
       "    <tr>\n",
       "      <th>2</th>\n",
       "      <td>3</td>\n",
       "      <td>15619304</td>\n",
       "      <td>Onio</td>\n",
       "      <td>502</td>\n",
       "      <td>France</td>\n",
       "      <td>Female</td>\n",
       "      <td>42</td>\n",
       "      <td>8</td>\n",
       "      <td>159660.80</td>\n",
       "      <td>3</td>\n",
       "      <td>1</td>\n",
       "      <td>0</td>\n",
       "      <td>113931.57</td>\n",
       "      <td>1</td>\n",
       "    </tr>\n",
       "    <tr>\n",
       "      <th>3</th>\n",
       "      <td>4</td>\n",
       "      <td>15701354</td>\n",
       "      <td>Boni</td>\n",
       "      <td>699</td>\n",
       "      <td>France</td>\n",
       "      <td>Female</td>\n",
       "      <td>39</td>\n",
       "      <td>1</td>\n",
       "      <td>0.00</td>\n",
       "      <td>2</td>\n",
       "      <td>0</td>\n",
       "      <td>0</td>\n",
       "      <td>93826.63</td>\n",
       "      <td>0</td>\n",
       "    </tr>\n",
       "    <tr>\n",
       "      <th>4</th>\n",
       "      <td>5</td>\n",
       "      <td>15737888</td>\n",
       "      <td>Mitchell</td>\n",
       "      <td>850</td>\n",
       "      <td>Spain</td>\n",
       "      <td>Female</td>\n",
       "      <td>43</td>\n",
       "      <td>2</td>\n",
       "      <td>125510.82</td>\n",
       "      <td>1</td>\n",
       "      <td>1</td>\n",
       "      <td>1</td>\n",
       "      <td>79084.10</td>\n",
       "      <td>0</td>\n",
       "    </tr>\n",
       "  </tbody>\n",
       "</table>\n",
       "</div>"
      ],
      "text/plain": [
       "   RowNumber  CustomerId   Surname  CreditScore Geography  Gender  Age  \\\n",
       "0          1    15634602  Hargrave          619    France  Female   42   \n",
       "1          2    15647311      Hill          608     Spain  Female   41   \n",
       "2          3    15619304      Onio          502    France  Female   42   \n",
       "3          4    15701354      Boni          699    France  Female   39   \n",
       "4          5    15737888  Mitchell          850     Spain  Female   43   \n",
       "\n",
       "   Tenure    Balance  NumOfProducts  HasCrCard  IsActiveMember  \\\n",
       "0       2       0.00              1          1               1   \n",
       "1       1   83807.86              1          0               1   \n",
       "2       8  159660.80              3          1               0   \n",
       "3       1       0.00              2          0               0   \n",
       "4       2  125510.82              1          1               1   \n",
       "\n",
       "   EstimatedSalary  Exited  \n",
       "0        101348.88       1  \n",
       "1        112542.58       0  \n",
       "2        113931.57       1  \n",
       "3         93826.63       0  \n",
       "4         79084.10       0  "
      ]
     },
     "execution_count": 40,
     "metadata": {},
     "output_type": "execute_result"
    }
   ],
   "source": [
    "df.head()"
   ]
  },
  {
   "cell_type": "markdown",
   "metadata": {
    "id": "W67YkKtkG1ZO"
   },
   "source": [
    "We can drop RowNumber, CustomerId and Surname as these fields should have no impact on the churn rate"
   ]
  },
  {
   "cell_type": "code",
   "execution_count": 41,
   "metadata": {
    "id": "XYR1bqVjr74v"
   },
   "outputs": [],
   "source": [
    "df.drop(['RowNumber','CustomerId','Surname'], axis=1, inplace=True)"
   ]
  },
  {
   "cell_type": "markdown",
   "metadata": {
    "id": "hvx8OAjfIE8f"
   },
   "source": [
    "### Univariate and Bivariate analysis"
   ]
  },
  {
   "cell_type": "code",
   "execution_count": 42,
   "metadata": {
    "colab": {
     "base_uri": "https://localhost:8080/"
    },
    "id": "5sbnevkAIN5b",
    "outputId": "d9e03a55-cbbb-4062-c49d-07b429df7ef0"
   },
   "outputs": [
    {
     "name": "stdout",
     "output_type": "stream",
     "text": [
      "<class 'pandas.core.frame.DataFrame'>\n",
      "RangeIndex: 10000 entries, 0 to 9999\n",
      "Data columns (total 11 columns):\n",
      " #   Column           Non-Null Count  Dtype  \n",
      "---  ------           --------------  -----  \n",
      " 0   CreditScore      10000 non-null  int64  \n",
      " 1   Geography        10000 non-null  object \n",
      " 2   Gender           10000 non-null  object \n",
      " 3   Age              10000 non-null  int64  \n",
      " 4   Tenure           10000 non-null  int64  \n",
      " 5   Balance          10000 non-null  float64\n",
      " 6   NumOfProducts    10000 non-null  int64  \n",
      " 7   HasCrCard        10000 non-null  int64  \n",
      " 8   IsActiveMember   10000 non-null  int64  \n",
      " 9   EstimatedSalary  10000 non-null  float64\n",
      " 10  Exited           10000 non-null  int64  \n",
      "dtypes: float64(2), int64(7), object(2)\n",
      "memory usage: 859.5+ KB\n"
     ]
    }
   ],
   "source": [
    "df.info()"
   ]
  },
  {
   "cell_type": "code",
   "execution_count": 43,
   "metadata": {
    "colab": {
     "base_uri": "https://localhost:8080/"
    },
    "id": "Bqi_SfFdIQYJ",
    "outputId": "8d4e427c-345a-41d2-b2d9-b6ba8b44506f"
   },
   "outputs": [
    {
     "data": {
      "text/plain": [
       "CreditScore        0\n",
       "Geography          0\n",
       "Gender             0\n",
       "Age                0\n",
       "Tenure             0\n",
       "Balance            0\n",
       "NumOfProducts      0\n",
       "HasCrCard          0\n",
       "IsActiveMember     0\n",
       "EstimatedSalary    0\n",
       "Exited             0\n",
       "dtype: int64"
      ]
     },
     "execution_count": 43,
     "metadata": {},
     "output_type": "execute_result"
    }
   ],
   "source": [
    "df.isna().sum()"
   ]
  },
  {
   "cell_type": "code",
   "execution_count": 44,
   "metadata": {
    "colab": {
     "base_uri": "https://localhost:8080/"
    },
    "id": "vUlEKCmbIfQi",
    "outputId": "ccf57dce-0e98-4a08-a4f3-0d9c03e86672"
   },
   "outputs": [
    {
     "data": {
      "text/plain": [
       "France     5014\n",
       "Germany    2509\n",
       "Spain      2477\n",
       "Name: Geography, dtype: int64"
      ]
     },
     "execution_count": 44,
     "metadata": {},
     "output_type": "execute_result"
    }
   ],
   "source": [
    "df['Geography'].value_counts()  "
   ]
  },
  {
   "cell_type": "markdown",
   "metadata": {
    "id": "dgiJ2sZhJAcE"
   },
   "source": [
    "Geography has 3 unique values. We can keep this as categorical variable"
   ]
  },
  {
   "cell_type": "code",
   "execution_count": 45,
   "metadata": {
    "colab": {
     "base_uri": "https://localhost:8080/",
     "height": 328
    },
    "id": "CIy7FjzaJJnQ",
    "outputId": "7f2103e3-501d-4e68-90f7-ba68046b1d7d"
   },
   "outputs": [
    {
     "data": {
      "text/html": [
       "<div>\n",
       "<style scoped>\n",
       "    .dataframe tbody tr th:only-of-type {\n",
       "        vertical-align: middle;\n",
       "    }\n",
       "\n",
       "    .dataframe tbody tr th {\n",
       "        vertical-align: top;\n",
       "    }\n",
       "\n",
       "    .dataframe thead th {\n",
       "        text-align: right;\n",
       "    }\n",
       "</style>\n",
       "<table border=\"1\" class=\"dataframe\">\n",
       "  <thead>\n",
       "    <tr style=\"text-align: right;\">\n",
       "      <th></th>\n",
       "      <th>count</th>\n",
       "      <th>mean</th>\n",
       "      <th>std</th>\n",
       "      <th>min</th>\n",
       "      <th>25%</th>\n",
       "      <th>50%</th>\n",
       "      <th>75%</th>\n",
       "      <th>max</th>\n",
       "    </tr>\n",
       "  </thead>\n",
       "  <tbody>\n",
       "    <tr>\n",
       "      <th>CreditScore</th>\n",
       "      <td>10000.0</td>\n",
       "      <td>650.528800</td>\n",
       "      <td>96.653299</td>\n",
       "      <td>350.00</td>\n",
       "      <td>584.00</td>\n",
       "      <td>652.000</td>\n",
       "      <td>718.0000</td>\n",
       "      <td>850.00</td>\n",
       "    </tr>\n",
       "    <tr>\n",
       "      <th>Age</th>\n",
       "      <td>10000.0</td>\n",
       "      <td>38.921800</td>\n",
       "      <td>10.487806</td>\n",
       "      <td>18.00</td>\n",
       "      <td>32.00</td>\n",
       "      <td>37.000</td>\n",
       "      <td>44.0000</td>\n",
       "      <td>92.00</td>\n",
       "    </tr>\n",
       "    <tr>\n",
       "      <th>Tenure</th>\n",
       "      <td>10000.0</td>\n",
       "      <td>5.012800</td>\n",
       "      <td>2.892174</td>\n",
       "      <td>0.00</td>\n",
       "      <td>3.00</td>\n",
       "      <td>5.000</td>\n",
       "      <td>7.0000</td>\n",
       "      <td>10.00</td>\n",
       "    </tr>\n",
       "    <tr>\n",
       "      <th>Balance</th>\n",
       "      <td>10000.0</td>\n",
       "      <td>76485.889288</td>\n",
       "      <td>62397.405202</td>\n",
       "      <td>0.00</td>\n",
       "      <td>0.00</td>\n",
       "      <td>97198.540</td>\n",
       "      <td>127644.2400</td>\n",
       "      <td>250898.09</td>\n",
       "    </tr>\n",
       "    <tr>\n",
       "      <th>NumOfProducts</th>\n",
       "      <td>10000.0</td>\n",
       "      <td>1.530200</td>\n",
       "      <td>0.581654</td>\n",
       "      <td>1.00</td>\n",
       "      <td>1.00</td>\n",
       "      <td>1.000</td>\n",
       "      <td>2.0000</td>\n",
       "      <td>4.00</td>\n",
       "    </tr>\n",
       "    <tr>\n",
       "      <th>HasCrCard</th>\n",
       "      <td>10000.0</td>\n",
       "      <td>0.705500</td>\n",
       "      <td>0.455840</td>\n",
       "      <td>0.00</td>\n",
       "      <td>0.00</td>\n",
       "      <td>1.000</td>\n",
       "      <td>1.0000</td>\n",
       "      <td>1.00</td>\n",
       "    </tr>\n",
       "    <tr>\n",
       "      <th>IsActiveMember</th>\n",
       "      <td>10000.0</td>\n",
       "      <td>0.515100</td>\n",
       "      <td>0.499797</td>\n",
       "      <td>0.00</td>\n",
       "      <td>0.00</td>\n",
       "      <td>1.000</td>\n",
       "      <td>1.0000</td>\n",
       "      <td>1.00</td>\n",
       "    </tr>\n",
       "    <tr>\n",
       "      <th>EstimatedSalary</th>\n",
       "      <td>10000.0</td>\n",
       "      <td>100090.239881</td>\n",
       "      <td>57510.492818</td>\n",
       "      <td>11.58</td>\n",
       "      <td>51002.11</td>\n",
       "      <td>100193.915</td>\n",
       "      <td>149388.2475</td>\n",
       "      <td>199992.48</td>\n",
       "    </tr>\n",
       "    <tr>\n",
       "      <th>Exited</th>\n",
       "      <td>10000.0</td>\n",
       "      <td>0.203700</td>\n",
       "      <td>0.402769</td>\n",
       "      <td>0.00</td>\n",
       "      <td>0.00</td>\n",
       "      <td>0.000</td>\n",
       "      <td>0.0000</td>\n",
       "      <td>1.00</td>\n",
       "    </tr>\n",
       "  </tbody>\n",
       "</table>\n",
       "</div>"
      ],
      "text/plain": [
       "                   count           mean           std     min       25%  \\\n",
       "CreditScore      10000.0     650.528800     96.653299  350.00    584.00   \n",
       "Age              10000.0      38.921800     10.487806   18.00     32.00   \n",
       "Tenure           10000.0       5.012800      2.892174    0.00      3.00   \n",
       "Balance          10000.0   76485.889288  62397.405202    0.00      0.00   \n",
       "NumOfProducts    10000.0       1.530200      0.581654    1.00      1.00   \n",
       "HasCrCard        10000.0       0.705500      0.455840    0.00      0.00   \n",
       "IsActiveMember   10000.0       0.515100      0.499797    0.00      0.00   \n",
       "EstimatedSalary  10000.0  100090.239881  57510.492818   11.58  51002.11   \n",
       "Exited           10000.0       0.203700      0.402769    0.00      0.00   \n",
       "\n",
       "                        50%          75%        max  \n",
       "CreditScore         652.000     718.0000     850.00  \n",
       "Age                  37.000      44.0000      92.00  \n",
       "Tenure                5.000       7.0000      10.00  \n",
       "Balance           97198.540  127644.2400  250898.09  \n",
       "NumOfProducts         1.000       2.0000       4.00  \n",
       "HasCrCard             1.000       1.0000       1.00  \n",
       "IsActiveMember        1.000       1.0000       1.00  \n",
       "EstimatedSalary  100193.915  149388.2475  199992.48  \n",
       "Exited                0.000       0.0000       1.00  "
      ]
     },
     "execution_count": 45,
     "metadata": {},
     "output_type": "execute_result"
    }
   ],
   "source": [
    "df.describe().transpose()"
   ]
  },
  {
   "cell_type": "code",
   "execution_count": 46,
   "metadata": {
    "colab": {
     "base_uri": "https://localhost:8080/"
    },
    "id": "A47B8NjwJQtl",
    "outputId": "57af8252-a5de-4502-9338-cfcc7e22a080"
   },
   "outputs": [
    {
     "data": {
      "text/plain": [
       "0    7963\n",
       "1    2037\n",
       "Name: Exited, dtype: int64"
      ]
     },
     "execution_count": 46,
     "metadata": {},
     "output_type": "execute_result"
    }
   ],
   "source": [
    "df['Exited'].value_counts()  "
   ]
  },
  {
   "cell_type": "markdown",
   "metadata": {
    "id": "B4LcA3ACJiQb"
   },
   "source": [
    "Close to 20% of the customers in the data set exited the bank"
   ]
  },
  {
   "cell_type": "code",
   "execution_count": 47,
   "metadata": {
    "colab": {
     "base_uri": "https://localhost:8080/",
     "height": 542
    },
    "id": "MgbEeUHUJxXm",
    "outputId": "4ebe86fe-569d-41d8-f363-0a0e08b12318"
   },
   "outputs": [
    {
     "data": {
      "image/png": "[encoded data removed]",
      "text/plain": [
       "<Figure size 1080x576 with 1 Axes>"
      ]
     },
     "metadata": {
      "needs_background": "light"
     },
     "output_type": "display_data"
    }
   ],
   "source": [
    "corr = abs(df.corr()) # correlation matrix\n",
    "lower_triangle = np.tril(corr, k = -1)  # select only the lower triangle of the correlation matrix\n",
    "mask = lower_triangle == 0  # to mask the upper triangle in the following heatmap\n",
    "\n",
    "plt.figure(figsize = (15,8))  # setting the figure size\n",
    "sns.set_style(style = 'white')  # Setting it to white so that we do not see the grid lines\n",
    "sns.heatmap(lower_triangle, center=0.5, cmap= 'Blues', annot= True, xticklabels = corr.index, yticklabels = corr.columns,\n",
    "            cbar= False, linewidths= 1, mask = mask)   # Da Heatmap\n",
    "plt.xticks(rotation = 50)  \n",
    "plt.yticks(rotation = 20)   \n",
    "plt.show()"
   ]
  },
  {
   "cell_type": "markdown",
   "metadata": {
    "id": "hry-pdwXpfwg"
   },
   "source": [
    "### All the variables has correlation with the Churn"
   ]
  },
  {
   "cell_type": "code",
   "execution_count": 48,
   "metadata": {
    "colab": {
     "base_uri": "https://localhost:8080/",
     "height": 204
    },
    "id": "b9uV9wFaJfMd",
    "outputId": "aa011bca-ec0c-42c9-91f9-4520a33b08cc"
   },
   "outputs": [
    {
     "data": {
      "text/html": [
       "<div>\n",
       "<style scoped>\n",
       "    .dataframe tbody tr th:only-of-type {\n",
       "        vertical-align: middle;\n",
       "    }\n",
       "\n",
       "    .dataframe tbody tr th {\n",
       "        vertical-align: top;\n",
       "    }\n",
       "\n",
       "    .dataframe thead th {\n",
       "        text-align: right;\n",
       "    }\n",
       "</style>\n",
       "<table border=\"1\" class=\"dataframe\">\n",
       "  <thead>\n",
       "    <tr style=\"text-align: right;\">\n",
       "      <th></th>\n",
       "      <th>CreditScore</th>\n",
       "      <th>Age</th>\n",
       "      <th>Tenure</th>\n",
       "      <th>Balance</th>\n",
       "      <th>NumOfProducts</th>\n",
       "      <th>HasCrCard</th>\n",
       "      <th>IsActiveMember</th>\n",
       "      <th>EstimatedSalary</th>\n",
       "      <th>Exited</th>\n",
       "      <th>Geography_France</th>\n",
       "      <th>Geography_Germany</th>\n",
       "      <th>Geography_Spain</th>\n",
       "      <th>Gender_Female</th>\n",
       "      <th>Gender_Male</th>\n",
       "    </tr>\n",
       "  </thead>\n",
       "  <tbody>\n",
       "    <tr>\n",
       "      <th>0</th>\n",
       "      <td>619</td>\n",
       "      <td>42</td>\n",
       "      <td>2</td>\n",
       "      <td>0.00</td>\n",
       "      <td>1</td>\n",
       "      <td>1</td>\n",
       "      <td>1</td>\n",
       "      <td>101348.88</td>\n",
       "      <td>1</td>\n",
       "      <td>1</td>\n",
       "      <td>0</td>\n",
       "      <td>0</td>\n",
       "      <td>1</td>\n",
       "      <td>0</td>\n",
       "    </tr>\n",
       "    <tr>\n",
       "      <th>1</th>\n",
       "      <td>608</td>\n",
       "      <td>41</td>\n",
       "      <td>1</td>\n",
       "      <td>83807.86</td>\n",
       "      <td>1</td>\n",
       "      <td>0</td>\n",
       "      <td>1</td>\n",
       "      <td>112542.58</td>\n",
       "      <td>0</td>\n",
       "      <td>0</td>\n",
       "      <td>0</td>\n",
       "      <td>1</td>\n",
       "      <td>1</td>\n",
       "      <td>0</td>\n",
       "    </tr>\n",
       "    <tr>\n",
       "      <th>2</th>\n",
       "      <td>502</td>\n",
       "      <td>42</td>\n",
       "      <td>8</td>\n",
       "      <td>159660.80</td>\n",
       "      <td>3</td>\n",
       "      <td>1</td>\n",
       "      <td>0</td>\n",
       "      <td>113931.57</td>\n",
       "      <td>1</td>\n",
       "      <td>1</td>\n",
       "      <td>0</td>\n",
       "      <td>0</td>\n",
       "      <td>1</td>\n",
       "      <td>0</td>\n",
       "    </tr>\n",
       "    <tr>\n",
       "      <th>3</th>\n",
       "      <td>699</td>\n",
       "      <td>39</td>\n",
       "      <td>1</td>\n",
       "      <td>0.00</td>\n",
       "      <td>2</td>\n",
       "      <td>0</td>\n",
       "      <td>0</td>\n",
       "      <td>93826.63</td>\n",
       "      <td>0</td>\n",
       "      <td>1</td>\n",
       "      <td>0</td>\n",
       "      <td>0</td>\n",
       "      <td>1</td>\n",
       "      <td>0</td>\n",
       "    </tr>\n",
       "    <tr>\n",
       "      <th>4</th>\n",
       "      <td>850</td>\n",
       "      <td>43</td>\n",
       "      <td>2</td>\n",
       "      <td>125510.82</td>\n",
       "      <td>1</td>\n",
       "      <td>1</td>\n",
       "      <td>1</td>\n",
       "      <td>79084.10</td>\n",
       "      <td>0</td>\n",
       "      <td>0</td>\n",
       "      <td>0</td>\n",
       "      <td>1</td>\n",
       "      <td>1</td>\n",
       "      <td>0</td>\n",
       "    </tr>\n",
       "  </tbody>\n",
       "</table>\n",
       "</div>"
      ],
      "text/plain": [
       "   CreditScore  Age  Tenure    Balance  NumOfProducts  HasCrCard  \\\n",
       "0          619   42       2       0.00              1          1   \n",
       "1          608   41       1   83807.86              1          0   \n",
       "2          502   42       8  159660.80              3          1   \n",
       "3          699   39       1       0.00              2          0   \n",
       "4          850   43       2  125510.82              1          1   \n",
       "\n",
       "   IsActiveMember  EstimatedSalary  Exited  Geography_France  \\\n",
       "0               1        101348.88       1                 1   \n",
       "1               1        112542.58       0                 0   \n",
       "2               0        113931.57       1                 1   \n",
       "3               0         93826.63       0                 1   \n",
       "4               1         79084.10       0                 0   \n",
       "\n",
       "   Geography_Germany  Geography_Spain  Gender_Female  Gender_Male  \n",
       "0                  0                0              1            0  \n",
       "1                  0                1              1            0  \n",
       "2                  0                0              1            0  \n",
       "3                  0                0              1            0  \n",
       "4                  0                1              1            0  "
      ]
     },
     "execution_count": 48,
     "metadata": {},
     "output_type": "execute_result"
    }
   ],
   "source": [
    "df = pd.get_dummies(df, columns=['Geography'])\n",
    "df = pd.get_dummies(df, columns=['Gender'])\n",
    "df.head()"
   ]
  },
  {
   "cell_type": "code",
   "execution_count": 49,
   "metadata": {
    "id": "akieKIapjODZ"
   },
   "outputs": [],
   "source": [
    "y_data = df['Exited']\n",
    "df = df.drop('Exited', axis=1)"
   ]
  },
  {
   "cell_type": "code",
   "execution_count": 50,
   "metadata": {
    "colab": {
     "base_uri": "https://localhost:8080/"
    },
    "id": "AXpGp4IxjqFv",
    "outputId": "e2b91f41-1d1b-413d-cbae-27fbc08c22a5"
   },
   "outputs": [
    {
     "data": {
      "text/plain": [
       "0       1\n",
       "1       0\n",
       "2       1\n",
       "3       0\n",
       "4       0\n",
       "       ..\n",
       "9995    0\n",
       "9996    0\n",
       "9997    1\n",
       "9998    1\n",
       "9999    0\n",
       "Name: Exited, Length: 10000, dtype: int64"
      ]
     },
     "execution_count": 50,
     "metadata": {},
     "output_type": "execute_result"
    }
   ],
   "source": [
    "y_data"
   ]
  },
  {
   "cell_type": "code",
   "execution_count": 51,
   "metadata": {
    "colab": {
     "base_uri": "https://localhost:8080/",
     "height": 204
    },
    "id": "s_TWOUaCjrrl",
    "outputId": "96962777-26b8-43f9-d8a4-9d18611971db"
   },
   "outputs": [
    {
     "data": {
      "text/html": [
       "<div>\n",
       "<style scoped>\n",
       "    .dataframe tbody tr th:only-of-type {\n",
       "        vertical-align: middle;\n",
       "    }\n",
       "\n",
       "    .dataframe tbody tr th {\n",
       "        vertical-align: top;\n",
       "    }\n",
       "\n",
       "    .dataframe thead th {\n",
       "        text-align: right;\n",
       "    }\n",
       "</style>\n",
       "<table border=\"1\" class=\"dataframe\">\n",
       "  <thead>\n",
       "    <tr style=\"text-align: right;\">\n",
       "      <th></th>\n",
       "      <th>CreditScore</th>\n",
       "      <th>Age</th>\n",
       "      <th>Tenure</th>\n",
       "      <th>Balance</th>\n",
       "      <th>NumOfProducts</th>\n",
       "      <th>HasCrCard</th>\n",
       "      <th>IsActiveMember</th>\n",
       "      <th>EstimatedSalary</th>\n",
       "      <th>Geography_France</th>\n",
       "      <th>Geography_Germany</th>\n",
       "      <th>Geography_Spain</th>\n",
       "      <th>Gender_Female</th>\n",
       "      <th>Gender_Male</th>\n",
       "    </tr>\n",
       "  </thead>\n",
       "  <tbody>\n",
       "    <tr>\n",
       "      <th>0</th>\n",
       "      <td>619</td>\n",
       "      <td>42</td>\n",
       "      <td>2</td>\n",
       "      <td>0.00</td>\n",
       "      <td>1</td>\n",
       "      <td>1</td>\n",
       "      <td>1</td>\n",
       "      <td>101348.88</td>\n",
       "      <td>1</td>\n",
       "      <td>0</td>\n",
       "      <td>0</td>\n",
       "      <td>1</td>\n",
       "      <td>0</td>\n",
       "    </tr>\n",
       "    <tr>\n",
       "      <th>1</th>\n",
       "      <td>608</td>\n",
       "      <td>41</td>\n",
       "      <td>1</td>\n",
       "      <td>83807.86</td>\n",
       "      <td>1</td>\n",
       "      <td>0</td>\n",
       "      <td>1</td>\n",
       "      <td>112542.58</td>\n",
       "      <td>0</td>\n",
       "      <td>0</td>\n",
       "      <td>1</td>\n",
       "      <td>1</td>\n",
       "      <td>0</td>\n",
       "    </tr>\n",
       "    <tr>\n",
       "      <th>2</th>\n",
       "      <td>502</td>\n",
       "      <td>42</td>\n",
       "      <td>8</td>\n",
       "      <td>159660.80</td>\n",
       "      <td>3</td>\n",
       "      <td>1</td>\n",
       "      <td>0</td>\n",
       "      <td>113931.57</td>\n",
       "      <td>1</td>\n",
       "      <td>0</td>\n",
       "      <td>0</td>\n",
       "      <td>1</td>\n",
       "      <td>0</td>\n",
       "    </tr>\n",
       "    <tr>\n",
       "      <th>3</th>\n",
       "      <td>699</td>\n",
       "      <td>39</td>\n",
       "      <td>1</td>\n",
       "      <td>0.00</td>\n",
       "      <td>2</td>\n",
       "      <td>0</td>\n",
       "      <td>0</td>\n",
       "      <td>93826.63</td>\n",
       "      <td>1</td>\n",
       "      <td>0</td>\n",
       "      <td>0</td>\n",
       "      <td>1</td>\n",
       "      <td>0</td>\n",
       "    </tr>\n",
       "    <tr>\n",
       "      <th>4</th>\n",
       "      <td>850</td>\n",
       "      <td>43</td>\n",
       "      <td>2</td>\n",
       "      <td>125510.82</td>\n",
       "      <td>1</td>\n",
       "      <td>1</td>\n",
       "      <td>1</td>\n",
       "      <td>79084.10</td>\n",
       "      <td>0</td>\n",
       "      <td>0</td>\n",
       "      <td>1</td>\n",
       "      <td>1</td>\n",
       "      <td>0</td>\n",
       "    </tr>\n",
       "  </tbody>\n",
       "</table>\n",
       "</div>"
      ],
      "text/plain": [
       "   CreditScore  Age  Tenure    Balance  NumOfProducts  HasCrCard  \\\n",
       "0          619   42       2       0.00              1          1   \n",
       "1          608   41       1   83807.86              1          0   \n",
       "2          502   42       8  159660.80              3          1   \n",
       "3          699   39       1       0.00              2          0   \n",
       "4          850   43       2  125510.82              1          1   \n",
       "\n",
       "   IsActiveMember  EstimatedSalary  Geography_France  Geography_Germany  \\\n",
       "0               1        101348.88                 1                  0   \n",
       "1               1        112542.58                 0                  0   \n",
       "2               0        113931.57                 1                  0   \n",
       "3               0         93826.63                 1                  0   \n",
       "4               1         79084.10                 0                  0   \n",
       "\n",
       "   Geography_Spain  Gender_Female  Gender_Male  \n",
       "0                0              1            0  \n",
       "1                1              1            0  \n",
       "2                0              1            0  \n",
       "3                0              1            0  \n",
       "4                1              1            0  "
      ]
     },
     "execution_count": 51,
     "metadata": {},
     "output_type": "execute_result"
    }
   ],
   "source": [
    "df.head()"
   ]
  },
  {
   "cell_type": "markdown",
   "metadata": {
    "id": "XMPq38ZRqL_K"
   },
   "source": [
    "### Normalize the X data"
   ]
  },
  {
   "cell_type": "code",
   "execution_count": 52,
   "metadata": {
    "colab": {
     "base_uri": "https://localhost:8080/",
     "height": 204
    },
    "id": "KxCy0oydItnB",
    "outputId": "0cb9431a-f7dd-4518-dbca-9fde816cdfed"
   },
   "outputs": [
    {
     "data": {
      "text/html": [
       "<div>\n",
       "<style scoped>\n",
       "    .dataframe tbody tr th:only-of-type {\n",
       "        vertical-align: middle;\n",
       "    }\n",
       "\n",
       "    .dataframe tbody tr th {\n",
       "        vertical-align: top;\n",
       "    }\n",
       "\n",
       "    .dataframe thead th {\n",
       "        text-align: right;\n",
       "    }\n",
       "</style>\n",
       "<table border=\"1\" class=\"dataframe\">\n",
       "  <thead>\n",
       "    <tr style=\"text-align: right;\">\n",
       "      <th></th>\n",
       "      <th>CreditScore</th>\n",
       "      <th>Age</th>\n",
       "      <th>Tenure</th>\n",
       "      <th>Balance</th>\n",
       "      <th>NumOfProducts</th>\n",
       "      <th>HasCrCard</th>\n",
       "      <th>IsActiveMember</th>\n",
       "      <th>EstimatedSalary</th>\n",
       "      <th>Geography_France</th>\n",
       "      <th>Geography_Germany</th>\n",
       "      <th>Geography_Spain</th>\n",
       "      <th>Gender_Female</th>\n",
       "      <th>Gender_Male</th>\n",
       "    </tr>\n",
       "  </thead>\n",
       "  <tbody>\n",
       "    <tr>\n",
       "      <th>0</th>\n",
       "      <td>-0.326221</td>\n",
       "      <td>0.293517</td>\n",
       "      <td>-1.041760</td>\n",
       "      <td>-1.225848</td>\n",
       "      <td>-0.911583</td>\n",
       "      <td>0.646092</td>\n",
       "      <td>0.970243</td>\n",
       "      <td>0.021886</td>\n",
       "      <td>0.997204</td>\n",
       "      <td>-0.578736</td>\n",
       "      <td>-0.573809</td>\n",
       "      <td>1.095988</td>\n",
       "      <td>-1.095988</td>\n",
       "    </tr>\n",
       "    <tr>\n",
       "      <th>1</th>\n",
       "      <td>-0.440036</td>\n",
       "      <td>0.198164</td>\n",
       "      <td>-1.387538</td>\n",
       "      <td>0.117350</td>\n",
       "      <td>-0.911583</td>\n",
       "      <td>-1.547768</td>\n",
       "      <td>0.970243</td>\n",
       "      <td>0.216534</td>\n",
       "      <td>-1.002804</td>\n",
       "      <td>-0.578736</td>\n",
       "      <td>1.742740</td>\n",
       "      <td>1.095988</td>\n",
       "      <td>-1.095988</td>\n",
       "    </tr>\n",
       "    <tr>\n",
       "      <th>2</th>\n",
       "      <td>-1.536794</td>\n",
       "      <td>0.293517</td>\n",
       "      <td>1.032908</td>\n",
       "      <td>1.333053</td>\n",
       "      <td>2.527057</td>\n",
       "      <td>0.646092</td>\n",
       "      <td>-1.030670</td>\n",
       "      <td>0.240687</td>\n",
       "      <td>0.997204</td>\n",
       "      <td>-0.578736</td>\n",
       "      <td>-0.573809</td>\n",
       "      <td>1.095988</td>\n",
       "      <td>-1.095988</td>\n",
       "    </tr>\n",
       "    <tr>\n",
       "      <th>3</th>\n",
       "      <td>0.501521</td>\n",
       "      <td>0.007457</td>\n",
       "      <td>-1.387538</td>\n",
       "      <td>-1.225848</td>\n",
       "      <td>0.807737</td>\n",
       "      <td>-1.547768</td>\n",
       "      <td>-1.030670</td>\n",
       "      <td>-0.108918</td>\n",
       "      <td>0.997204</td>\n",
       "      <td>-0.578736</td>\n",
       "      <td>-0.573809</td>\n",
       "      <td>1.095988</td>\n",
       "      <td>-1.095988</td>\n",
       "    </tr>\n",
       "    <tr>\n",
       "      <th>4</th>\n",
       "      <td>2.063884</td>\n",
       "      <td>0.388871</td>\n",
       "      <td>-1.041760</td>\n",
       "      <td>0.785728</td>\n",
       "      <td>-0.911583</td>\n",
       "      <td>0.646092</td>\n",
       "      <td>0.970243</td>\n",
       "      <td>-0.365276</td>\n",
       "      <td>-1.002804</td>\n",
       "      <td>-0.578736</td>\n",
       "      <td>1.742740</td>\n",
       "      <td>1.095988</td>\n",
       "      <td>-1.095988</td>\n",
       "    </tr>\n",
       "  </tbody>\n",
       "</table>\n",
       "</div>"
      ],
      "text/plain": [
       "   CreditScore       Age    Tenure   Balance  NumOfProducts  HasCrCard  \\\n",
       "0    -0.326221  0.293517 -1.041760 -1.225848      -0.911583   0.646092   \n",
       "1    -0.440036  0.198164 -1.387538  0.117350      -0.911583  -1.547768   \n",
       "2    -1.536794  0.293517  1.032908  1.333053       2.527057   0.646092   \n",
       "3     0.501521  0.007457 -1.387538 -1.225848       0.807737  -1.547768   \n",
       "4     2.063884  0.388871 -1.041760  0.785728      -0.911583   0.646092   \n",
       "\n",
       "   IsActiveMember  EstimatedSalary  Geography_France  Geography_Germany  \\\n",
       "0        0.970243         0.021886          0.997204          -0.578736   \n",
       "1        0.970243         0.216534         -1.002804          -0.578736   \n",
       "2       -1.030670         0.240687          0.997204          -0.578736   \n",
       "3       -1.030670        -0.108918          0.997204          -0.578736   \n",
       "4        0.970243        -0.365276         -1.002804          -0.578736   \n",
       "\n",
       "   Geography_Spain  Gender_Female  Gender_Male  \n",
       "0        -0.573809       1.095988    -1.095988  \n",
       "1         1.742740       1.095988    -1.095988  \n",
       "2        -0.573809       1.095988    -1.095988  \n",
       "3        -0.573809       1.095988    -1.095988  \n",
       "4         1.742740       1.095988    -1.095988  "
      ]
     },
     "execution_count": 52,
     "metadata": {},
     "output_type": "execute_result"
    }
   ],
   "source": [
    "from scipy.stats import zscore\n",
    "df_scaled=df.apply(zscore)\n",
    "df_scaled.head()"
   ]
  },
  {
   "cell_type": "code",
   "execution_count": 53,
   "metadata": {
    "colab": {
     "base_uri": "https://localhost:8080/",
     "height": 452
    },
    "id": "0VPqupPohebn",
    "outputId": "c324ebaa-e4df-4d1f-c7e9-c8dd28d8d954"
   },
   "outputs": [
    {
     "data": {
      "text/html": [
       "<div>\n",
       "<style scoped>\n",
       "    .dataframe tbody tr th:only-of-type {\n",
       "        vertical-align: middle;\n",
       "    }\n",
       "\n",
       "    .dataframe tbody tr th {\n",
       "        vertical-align: top;\n",
       "    }\n",
       "\n",
       "    .dataframe thead th {\n",
       "        text-align: right;\n",
       "    }\n",
       "</style>\n",
       "<table border=\"1\" class=\"dataframe\">\n",
       "  <thead>\n",
       "    <tr style=\"text-align: right;\">\n",
       "      <th></th>\n",
       "      <th>count</th>\n",
       "      <th>mean</th>\n",
       "      <th>std</th>\n",
       "      <th>min</th>\n",
       "      <th>25%</th>\n",
       "      <th>50%</th>\n",
       "      <th>75%</th>\n",
       "      <th>max</th>\n",
       "    </tr>\n",
       "  </thead>\n",
       "  <tbody>\n",
       "    <tr>\n",
       "      <th>CreditScore</th>\n",
       "      <td>10000.0</td>\n",
       "      <td>-4.870326e-16</td>\n",
       "      <td>1.00005</td>\n",
       "      <td>-3.109504</td>\n",
       "      <td>-0.688359</td>\n",
       "      <td>0.015222</td>\n",
       "      <td>0.698109</td>\n",
       "      <td>2.063884</td>\n",
       "    </tr>\n",
       "    <tr>\n",
       "      <th>Age</th>\n",
       "      <td>10000.0</td>\n",
       "      <td>2.484679e-16</td>\n",
       "      <td>1.00005</td>\n",
       "      <td>-1.994969</td>\n",
       "      <td>-0.660018</td>\n",
       "      <td>-0.183251</td>\n",
       "      <td>0.484225</td>\n",
       "      <td>5.061197</td>\n",
       "    </tr>\n",
       "    <tr>\n",
       "      <th>Tenure</th>\n",
       "      <td>10000.0</td>\n",
       "      <td>-1.400324e-16</td>\n",
       "      <td>1.00005</td>\n",
       "      <td>-1.733315</td>\n",
       "      <td>-0.695982</td>\n",
       "      <td>-0.004426</td>\n",
       "      <td>0.687130</td>\n",
       "      <td>1.724464</td>\n",
       "    </tr>\n",
       "    <tr>\n",
       "      <th>Balance</th>\n",
       "      <td>10000.0</td>\n",
       "      <td>-5.978551e-17</td>\n",
       "      <td>1.00005</td>\n",
       "      <td>-1.225848</td>\n",
       "      <td>-1.225848</td>\n",
       "      <td>0.331964</td>\n",
       "      <td>0.819920</td>\n",
       "      <td>2.795323</td>\n",
       "    </tr>\n",
       "    <tr>\n",
       "      <th>NumOfProducts</th>\n",
       "      <td>10000.0</td>\n",
       "      <td>-8.652634e-16</td>\n",
       "      <td>1.00005</td>\n",
       "      <td>-0.911583</td>\n",
       "      <td>-0.911583</td>\n",
       "      <td>-0.911583</td>\n",
       "      <td>0.807737</td>\n",
       "      <td>4.246377</td>\n",
       "    </tr>\n",
       "    <tr>\n",
       "      <th>HasCrCard</th>\n",
       "      <td>10000.0</td>\n",
       "      <td>-2.676082e-16</td>\n",
       "      <td>1.00005</td>\n",
       "      <td>-1.547768</td>\n",
       "      <td>-1.547768</td>\n",
       "      <td>0.646092</td>\n",
       "      <td>0.646092</td>\n",
       "      <td>0.646092</td>\n",
       "    </tr>\n",
       "    <tr>\n",
       "      <th>IsActiveMember</th>\n",
       "      <td>10000.0</td>\n",
       "      <td>2.164047e-16</td>\n",
       "      <td>1.00005</td>\n",
       "      <td>-1.030670</td>\n",
       "      <td>-1.030670</td>\n",
       "      <td>0.970243</td>\n",
       "      <td>0.970243</td>\n",
       "      <td>0.970243</td>\n",
       "    </tr>\n",
       "    <tr>\n",
       "      <th>EstimatedSalary</th>\n",
       "      <td>10000.0</td>\n",
       "      <td>-1.580958e-17</td>\n",
       "      <td>1.00005</td>\n",
       "      <td>-1.740268</td>\n",
       "      <td>-0.853594</td>\n",
       "      <td>0.001803</td>\n",
       "      <td>0.857243</td>\n",
       "      <td>1.737200</td>\n",
       "    </tr>\n",
       "    <tr>\n",
       "      <th>Geography_France</th>\n",
       "      <td>10000.0</td>\n",
       "      <td>7.723266e-16</td>\n",
       "      <td>1.00005</td>\n",
       "      <td>-1.002804</td>\n",
       "      <td>-1.002804</td>\n",
       "      <td>0.997204</td>\n",
       "      <td>0.997204</td>\n",
       "      <td>0.997204</td>\n",
       "    </tr>\n",
       "    <tr>\n",
       "      <th>Geography_Germany</th>\n",
       "      <td>10000.0</td>\n",
       "      <td>5.961232e-16</td>\n",
       "      <td>1.00005</td>\n",
       "      <td>-0.578736</td>\n",
       "      <td>-0.578736</td>\n",
       "      <td>-0.578736</td>\n",
       "      <td>1.727904</td>\n",
       "      <td>1.727904</td>\n",
       "    </tr>\n",
       "    <tr>\n",
       "      <th>Geography_Spain</th>\n",
       "      <td>10000.0</td>\n",
       "      <td>-1.040945e-16</td>\n",
       "      <td>1.00005</td>\n",
       "      <td>-0.573809</td>\n",
       "      <td>-0.573809</td>\n",
       "      <td>-0.573809</td>\n",
       "      <td>-0.573809</td>\n",
       "      <td>1.742740</td>\n",
       "    </tr>\n",
       "    <tr>\n",
       "      <th>Gender_Female</th>\n",
       "      <td>10000.0</td>\n",
       "      <td>2.414668e-15</td>\n",
       "      <td>1.00005</td>\n",
       "      <td>-0.912419</td>\n",
       "      <td>-0.912419</td>\n",
       "      <td>-0.912419</td>\n",
       "      <td>1.095988</td>\n",
       "      <td>1.095988</td>\n",
       "    </tr>\n",
       "    <tr>\n",
       "      <th>Gender_Male</th>\n",
       "      <td>10000.0</td>\n",
       "      <td>2.728262e-16</td>\n",
       "      <td>1.00005</td>\n",
       "      <td>-1.095988</td>\n",
       "      <td>-1.095988</td>\n",
       "      <td>0.912419</td>\n",
       "      <td>0.912419</td>\n",
       "      <td>0.912419</td>\n",
       "    </tr>\n",
       "  </tbody>\n",
       "</table>\n",
       "</div>"
      ],
      "text/plain": [
       "                     count          mean      std       min       25%  \\\n",
       "CreditScore        10000.0 -4.870326e-16  1.00005 -3.109504 -0.688359   \n",
       "Age                10000.0  2.484679e-16  1.00005 -1.994969 -0.660018   \n",
       "Tenure             10000.0 -1.400324e-16  1.00005 -1.733315 -0.695982   \n",
       "Balance            10000.0 -5.978551e-17  1.00005 -1.225848 -1.225848   \n",
       "NumOfProducts      10000.0 -8.652634e-16  1.00005 -0.911583 -0.911583   \n",
       "HasCrCard          10000.0 -2.676082e-16  1.00005 -1.547768 -1.547768   \n",
       "IsActiveMember     10000.0  2.164047e-16  1.00005 -1.030670 -1.030670   \n",
       "EstimatedSalary    10000.0 -1.580958e-17  1.00005 -1.740268 -0.853594   \n",
       "Geography_France   10000.0  7.723266e-16  1.00005 -1.002804 -1.002804   \n",
       "Geography_Germany  10000.0  5.961232e-16  1.00005 -0.578736 -0.578736   \n",
       "Geography_Spain    10000.0 -1.040945e-16  1.00005 -0.573809 -0.573809   \n",
       "Gender_Female      10000.0  2.414668e-15  1.00005 -0.912419 -0.912419   \n",
       "Gender_Male        10000.0  2.728262e-16  1.00005 -1.095988 -1.095988   \n",
       "\n",
       "                        50%       75%       max  \n",
       "CreditScore        0.015222  0.698109  2.063884  \n",
       "Age               -0.183251  0.484225  5.061197  \n",
       "Tenure            -0.004426  0.687130  1.724464  \n",
       "Balance            0.331964  0.819920  2.795323  \n",
       "NumOfProducts     -0.911583  0.807737  4.246377  \n",
       "HasCrCard          0.646092  0.646092  0.646092  \n",
       "IsActiveMember     0.970243  0.970243  0.970243  \n",
       "EstimatedSalary    0.001803  0.857243  1.737200  \n",
       "Geography_France   0.997204  0.997204  0.997204  \n",
       "Geography_Germany -0.578736  1.727904  1.727904  \n",
       "Geography_Spain   -0.573809 -0.573809  1.742740  \n",
       "Gender_Female     -0.912419  1.095988  1.095988  \n",
       "Gender_Male        0.912419  0.912419  0.912419  "
      ]
     },
     "execution_count": 53,
     "metadata": {},
     "output_type": "execute_result"
    }
   ],
   "source": [
    "df_scaled.describe().transpose()"
   ]
  },
  {
   "cell_type": "code",
   "execution_count": 54,
   "metadata": {
    "colab": {
     "base_uri": "https://localhost:8080/"
    },
    "id": "kLXZPnalhp0f",
    "outputId": "b95321c5-e969-4187-c1eb-3dc5a57226b2"
   },
   "outputs": [
    {
     "data": {
      "text/plain": [
       "0       1\n",
       "1       0\n",
       "2       1\n",
       "3       0\n",
       "4       0\n",
       "       ..\n",
       "9995    0\n",
       "9996    0\n",
       "9997    1\n",
       "9998    1\n",
       "9999    0\n",
       "Name: Exited, Length: 10000, dtype: int64"
      ]
     },
     "execution_count": 54,
     "metadata": {},
     "output_type": "execute_result"
    }
   ],
   "source": [
    "y_data"
   ]
  },
  {
   "cell_type": "code",
   "execution_count": 55,
   "metadata": {
    "id": "8jSUoRdjffH1"
   },
   "outputs": [],
   "source": [
    "X_data = df_scaled.iloc[:, :]"
   ]
  },
  {
   "cell_type": "code",
   "execution_count": 56,
   "metadata": {
    "colab": {
     "base_uri": "https://localhost:8080/"
    },
    "id": "cI3wN8jqftKw",
    "outputId": "91b47a3d-b560-4347-aa1b-d8a1cb31a8d9"
   },
   "outputs": [
    {
     "data": {
      "text/plain": [
       "(10000, 13)"
      ]
     },
     "execution_count": 56,
     "metadata": {},
     "output_type": "execute_result"
    }
   ],
   "source": [
    "X_data.shape"
   ]
  },
  {
   "cell_type": "code",
   "execution_count": 57,
   "metadata": {
    "colab": {
     "base_uri": "https://localhost:8080/",
     "height": 204
    },
    "id": "lNVt9nlwr4be",
    "outputId": "4491ec2b-a511-43f6-b586-a4885c04c358"
   },
   "outputs": [
    {
     "data": {
      "text/html": [
       "<div>\n",
       "<style scoped>\n",
       "    .dataframe tbody tr th:only-of-type {\n",
       "        vertical-align: middle;\n",
       "    }\n",
       "\n",
       "    .dataframe tbody tr th {\n",
       "        vertical-align: top;\n",
       "    }\n",
       "\n",
       "    .dataframe thead th {\n",
       "        text-align: right;\n",
       "    }\n",
       "</style>\n",
       "<table border=\"1\" class=\"dataframe\">\n",
       "  <thead>\n",
       "    <tr style=\"text-align: right;\">\n",
       "      <th></th>\n",
       "      <th>CreditScore</th>\n",
       "      <th>Age</th>\n",
       "      <th>Tenure</th>\n",
       "      <th>Balance</th>\n",
       "      <th>NumOfProducts</th>\n",
       "      <th>HasCrCard</th>\n",
       "      <th>IsActiveMember</th>\n",
       "      <th>EstimatedSalary</th>\n",
       "      <th>Geography_France</th>\n",
       "      <th>Geography_Germany</th>\n",
       "      <th>Geography_Spain</th>\n",
       "      <th>Gender_Female</th>\n",
       "      <th>Gender_Male</th>\n",
       "    </tr>\n",
       "  </thead>\n",
       "  <tbody>\n",
       "    <tr>\n",
       "      <th>0</th>\n",
       "      <td>-0.326221</td>\n",
       "      <td>0.293517</td>\n",
       "      <td>-1.041760</td>\n",
       "      <td>-1.225848</td>\n",
       "      <td>-0.911583</td>\n",
       "      <td>0.646092</td>\n",
       "      <td>0.970243</td>\n",
       "      <td>0.021886</td>\n",
       "      <td>0.997204</td>\n",
       "      <td>-0.578736</td>\n",
       "      <td>-0.573809</td>\n",
       "      <td>1.095988</td>\n",
       "      <td>-1.095988</td>\n",
       "    </tr>\n",
       "    <tr>\n",
       "      <th>1</th>\n",
       "      <td>-0.440036</td>\n",
       "      <td>0.198164</td>\n",
       "      <td>-1.387538</td>\n",
       "      <td>0.117350</td>\n",
       "      <td>-0.911583</td>\n",
       "      <td>-1.547768</td>\n",
       "      <td>0.970243</td>\n",
       "      <td>0.216534</td>\n",
       "      <td>-1.002804</td>\n",
       "      <td>-0.578736</td>\n",
       "      <td>1.742740</td>\n",
       "      <td>1.095988</td>\n",
       "      <td>-1.095988</td>\n",
       "    </tr>\n",
       "    <tr>\n",
       "      <th>2</th>\n",
       "      <td>-1.536794</td>\n",
       "      <td>0.293517</td>\n",
       "      <td>1.032908</td>\n",
       "      <td>1.333053</td>\n",
       "      <td>2.527057</td>\n",
       "      <td>0.646092</td>\n",
       "      <td>-1.030670</td>\n",
       "      <td>0.240687</td>\n",
       "      <td>0.997204</td>\n",
       "      <td>-0.578736</td>\n",
       "      <td>-0.573809</td>\n",
       "      <td>1.095988</td>\n",
       "      <td>-1.095988</td>\n",
       "    </tr>\n",
       "    <tr>\n",
       "      <th>3</th>\n",
       "      <td>0.501521</td>\n",
       "      <td>0.007457</td>\n",
       "      <td>-1.387538</td>\n",
       "      <td>-1.225848</td>\n",
       "      <td>0.807737</td>\n",
       "      <td>-1.547768</td>\n",
       "      <td>-1.030670</td>\n",
       "      <td>-0.108918</td>\n",
       "      <td>0.997204</td>\n",
       "      <td>-0.578736</td>\n",
       "      <td>-0.573809</td>\n",
       "      <td>1.095988</td>\n",
       "      <td>-1.095988</td>\n",
       "    </tr>\n",
       "    <tr>\n",
       "      <th>4</th>\n",
       "      <td>2.063884</td>\n",
       "      <td>0.388871</td>\n",
       "      <td>-1.041760</td>\n",
       "      <td>0.785728</td>\n",
       "      <td>-0.911583</td>\n",
       "      <td>0.646092</td>\n",
       "      <td>0.970243</td>\n",
       "      <td>-0.365276</td>\n",
       "      <td>-1.002804</td>\n",
       "      <td>-0.578736</td>\n",
       "      <td>1.742740</td>\n",
       "      <td>1.095988</td>\n",
       "      <td>-1.095988</td>\n",
       "    </tr>\n",
       "  </tbody>\n",
       "</table>\n",
       "</div>"
      ],
      "text/plain": [
       "   CreditScore       Age    Tenure   Balance  NumOfProducts  HasCrCard  \\\n",
       "0    -0.326221  0.293517 -1.041760 -1.225848      -0.911583   0.646092   \n",
       "1    -0.440036  0.198164 -1.387538  0.117350      -0.911583  -1.547768   \n",
       "2    -1.536794  0.293517  1.032908  1.333053       2.527057   0.646092   \n",
       "3     0.501521  0.007457 -1.387538 -1.225848       0.807737  -1.547768   \n",
       "4     2.063884  0.388871 -1.041760  0.785728      -0.911583   0.646092   \n",
       "\n",
       "   IsActiveMember  EstimatedSalary  Geography_France  Geography_Germany  \\\n",
       "0        0.970243         0.021886          0.997204          -0.578736   \n",
       "1        0.970243         0.216534         -1.002804          -0.578736   \n",
       "2       -1.030670         0.240687          0.997204          -0.578736   \n",
       "3       -1.030670        -0.108918          0.997204          -0.578736   \n",
       "4        0.970243        -0.365276         -1.002804          -0.578736   \n",
       "\n",
       "   Geography_Spain  Gender_Female  Gender_Male  \n",
       "0        -0.573809       1.095988    -1.095988  \n",
       "1         1.742740       1.095988    -1.095988  \n",
       "2        -0.573809       1.095988    -1.095988  \n",
       "3        -0.573809       1.095988    -1.095988  \n",
       "4         1.742740       1.095988    -1.095988  "
      ]
     },
     "execution_count": 57,
     "metadata": {},
     "output_type": "execute_result"
    }
   ],
   "source": [
    "X_data.head()"
   ]
  },
  {
   "cell_type": "code",
   "execution_count": 58,
   "metadata": {
    "colab": {
     "base_uri": "https://localhost:8080/"
    },
    "id": "PxJAWm1pf2Pp",
    "outputId": "146efcc2-6b27-4f64-e326-eff2a5ddbbb3"
   },
   "outputs": [
    {
     "data": {
      "text/plain": [
       "(10000,)"
      ]
     },
     "execution_count": 58,
     "metadata": {},
     "output_type": "execute_result"
    }
   ],
   "source": [
    "y_data.shape"
   ]
  },
  {
   "cell_type": "code",
   "execution_count": 59,
   "metadata": {
    "id": "HeY6L0Pd1ZuF"
   },
   "outputs": [],
   "source": [
    "X_train, X_test, y_train, y_test = train_test_split(X_data, y_data, test_size = 0.2, random_state = 7)"
   ]
  },
  {
   "cell_type": "code",
   "execution_count": 60,
   "metadata": {
    "colab": {
     "base_uri": "https://localhost:8080/"
    },
    "id": "tTq5DsKV1ayv",
    "outputId": "317e1614-9dd9-40e7-f66d-26c85e062332"
   },
   "outputs": [
    {
     "name": "stdout",
     "output_type": "stream",
     "text": [
      "(8000, 13)\n",
      "(2000, 13)\n",
      "(8000,)\n",
      "(2000,)\n"
     ]
    }
   ],
   "source": [
    "print(X_train.shape)\n",
    "print(X_test.shape)\n",
    "print(y_train.shape)\n",
    "print(y_test.shape)"
   ]
  },
  {
   "cell_type": "code",
   "execution_count": 61,
   "metadata": {
    "id": "Tf5xPvFh1vpI"
   },
   "outputs": [],
   "source": [
    "model = Sequential()\n"
   ]
  },
  {
   "cell_type": "code",
   "execution_count": 62,
   "metadata": {
    "id": "wSW0d2sX1w4Z"
   },
   "outputs": [],
   "source": [
    "model.add(Dense(64, input_shape = (13,), activation = 'relu'))\n",
    "model.add(Dense(32, activation = 'tanh'))\n",
    "#model.add(Dense(64, activation = 'tanh'))\n",
    "model.add(Dense(1, activation = 'sigmoid'))"
   ]
  },
  {
   "cell_type": "code",
   "execution_count": 63,
   "metadata": {
    "id": "7QyeAsLo2Nj0"
   },
   "outputs": [],
   "source": [
    "sgd = optimizers.Adam(lr = 0.001)"
   ]
  },
  {
   "cell_type": "code",
   "execution_count": 64,
   "metadata": {
    "id": "f4hkSuwa2aFR"
   },
   "outputs": [],
   "source": [
    "model.compile(optimizer = sgd, loss = 'binary_crossentropy', metrics=['accuracy'])"
   ]
  },
  {
   "cell_type": "code",
   "execution_count": 65,
   "metadata": {
    "colab": {
     "base_uri": "https://localhost:8080/"
    },
    "id": "KnQIxKfn2baE",
    "outputId": "b2124723-f7c1-466f-d659-83d3ef6adf9a"
   },
   "outputs": [
    {
     "name": "stdout",
     "output_type": "stream",
     "text": [
      "Model: \"sequential_1\"\n",
      "_________________________________________________________________\n",
      "Layer (type)                 Output Shape              Param #   \n",
      "=================================================================\n",
      "dense_1 (Dense)              (None, 64)                896       \n",
      "_________________________________________________________________\n",
      "dense_2 (Dense)              (None, 32)                2080      \n",
      "_________________________________________________________________\n",
      "dense_3 (Dense)              (None, 1)                 33        \n",
      "=================================================================\n",
      "Total params: 3,009\n",
      "Trainable params: 3,009\n",
      "Non-trainable params: 0\n",
      "_________________________________________________________________\n"
     ]
    }
   ],
   "source": [
    "model.summary()\n"
   ]
  },
  {
   "cell_type": "markdown",
   "metadata": {
    "id": "GPP-Q5O-2iel"
   },
   "source": [
    "### Model Training"
   ]
  },
  {
   "cell_type": "code",
   "execution_count": 66,
   "metadata": {
    "colab": {
     "base_uri": "https://localhost:8080/"
    },
    "id": "Nbj63utw2fHI",
    "outputId": "0813bc61-98b9-45de-af91-23b6ccfd79d9"
   },
   "outputs": [
    {
     "name": "stdout",
     "output_type": "stream",
     "text": [
      "Epoch 1/100\n",
      "12/12 [==============================] - 0s 13ms/step - loss: 0.5684 - accuracy: 0.7487\n",
      "Epoch 2/100\n",
      "12/12 [==============================] - 0s 14ms/step - loss: 0.4922 - accuracy: 0.7968\n",
      "Epoch 3/100\n",
      "12/12 [==============================] - 0s 13ms/step - loss: 0.4558 - accuracy: 0.8005\n",
      "Epoch 4/100\n",
      "12/12 [==============================] - 0s 13ms/step - loss: 0.4402 - accuracy: 0.8055\n",
      "Epoch 5/100\n",
      "12/12 [==============================] - 0s 12ms/step - loss: 0.4298 - accuracy: 0.8102\n",
      "Epoch 6/100\n",
      "12/12 [==============================] - 0s 8ms/step - loss: 0.4230 - accuracy: 0.8131\n",
      "Epoch 7/100\n",
      "12/12 [==============================] - 0s 4ms/step - loss: 0.4178 - accuracy: 0.8158\n",
      "Epoch 8/100\n",
      "12/12 [==============================] - 0s 3ms/step - loss: 0.4124 - accuracy: 0.8207\n",
      "Epoch 9/100\n",
      "12/12 [==============================] - 0s 3ms/step - loss: 0.4068 - accuracy: 0.8229\n",
      "Epoch 10/100\n",
      "12/12 [==============================] - 0s 3ms/step - loss: 0.4014 - accuracy: 0.8282\n",
      "Epoch 11/100\n",
      "12/12 [==============================] - 0s 4ms/step - loss: 0.3958 - accuracy: 0.8325\n",
      "Epoch 12/100\n",
      "12/12 [==============================] - 0s 3ms/step - loss: 0.3897 - accuracy: 0.8359\n",
      "Epoch 13/100\n",
      "12/12 [==============================] - 0s 3ms/step - loss: 0.3837 - accuracy: 0.8400\n",
      "Epoch 14/100\n",
      "12/12 [==============================] - 0s 3ms/step - loss: 0.3775 - accuracy: 0.8432\n",
      "Epoch 15/100\n",
      "12/12 [==============================] - 0s 3ms/step - loss: 0.3718 - accuracy: 0.8456\n",
      "Epoch 16/100\n",
      "12/12 [==============================] - 0s 3ms/step - loss: 0.3660 - accuracy: 0.8495\n",
      "Epoch 17/100\n",
      "12/12 [==============================] - 0s 3ms/step - loss: 0.3609 - accuracy: 0.8526\n",
      "Epoch 18/100\n",
      "12/12 [==============================] - 0s 2ms/step - loss: 0.3562 - accuracy: 0.8545\n",
      "Epoch 19/100\n",
      "12/12 [==============================] - 0s 2ms/step - loss: 0.3520 - accuracy: 0.8564\n",
      "Epoch 20/100\n",
      "12/12 [==============================] - 0s 3ms/step - loss: 0.3488 - accuracy: 0.8581\n",
      "Epoch 21/100\n",
      "12/12 [==============================] - 0s 3ms/step - loss: 0.3459 - accuracy: 0.8593\n",
      "Epoch 22/100\n",
      "12/12 [==============================] - 0s 3ms/step - loss: 0.3432 - accuracy: 0.8604\n",
      "Epoch 23/100\n",
      "12/12 [==============================] - 0s 3ms/step - loss: 0.3418 - accuracy: 0.8611\n",
      "Epoch 24/100\n",
      "12/12 [==============================] - 0s 4ms/step - loss: 0.3412 - accuracy: 0.8600\n",
      "Epoch 25/100\n",
      "12/12 [==============================] - 0s 4ms/step - loss: 0.3383 - accuracy: 0.8609\n",
      "Epoch 26/100\n",
      "12/12 [==============================] - 0s 3ms/step - loss: 0.3369 - accuracy: 0.8625\n",
      "Epoch 27/100\n",
      "12/12 [==============================] - 0s 4ms/step - loss: 0.3355 - accuracy: 0.8625\n",
      "Epoch 28/100\n",
      "12/12 [==============================] - 0s 4ms/step - loss: 0.3344 - accuracy: 0.8641\n",
      "Epoch 29/100\n",
      "12/12 [==============================] - 0s 4ms/step - loss: 0.3340 - accuracy: 0.8611\n",
      "Epoch 30/100\n",
      "12/12 [==============================] - 0s 4ms/step - loss: 0.3324 - accuracy: 0.8643\n",
      "Epoch 31/100\n",
      "12/12 [==============================] - 0s 2ms/step - loss: 0.3316 - accuracy: 0.8635\n",
      "Epoch 32/100\n",
      "12/12 [==============================] - 0s 3ms/step - loss: 0.3307 - accuracy: 0.8656\n",
      "Epoch 33/100\n",
      "12/12 [==============================] - 0s 3ms/step - loss: 0.3299 - accuracy: 0.8654\n",
      "Epoch 34/100\n",
      "12/12 [==============================] - 0s 3ms/step - loss: 0.3294 - accuracy: 0.8651\n",
      "Epoch 35/100\n",
      "12/12 [==============================] - 0s 3ms/step - loss: 0.3288 - accuracy: 0.8640\n",
      "Epoch 36/100\n",
      "12/12 [==============================] - 0s 3ms/step - loss: 0.3290 - accuracy: 0.8661\n",
      "Epoch 37/100\n",
      "12/12 [==============================] - 0s 3ms/step - loss: 0.3275 - accuracy: 0.8656\n",
      "Epoch 38/100\n",
      "12/12 [==============================] - 0s 3ms/step - loss: 0.3269 - accuracy: 0.8640\n",
      "Epoch 39/100\n",
      "12/12 [==============================] - 0s 4ms/step - loss: 0.3260 - accuracy: 0.8659\n",
      "Epoch 40/100\n",
      "12/12 [==============================] - 0s 5ms/step - loss: 0.3256 - accuracy: 0.8658\n",
      "Epoch 41/100\n",
      "12/12 [==============================] - 0s 4ms/step - loss: 0.3252 - accuracy: 0.8662\n",
      "Epoch 42/100\n",
      "12/12 [==============================] - 0s 4ms/step - loss: 0.3244 - accuracy: 0.8660\n",
      "Epoch 43/100\n",
      "12/12 [==============================] - 0s 4ms/step - loss: 0.3244 - accuracy: 0.8661\n",
      "Epoch 44/100\n",
      "12/12 [==============================] - 0s 3ms/step - loss: 0.3243 - accuracy: 0.8676\n",
      "Epoch 45/100\n",
      "12/12 [==============================] - 0s 11ms/step - loss: 0.3229 - accuracy: 0.8673\n",
      "Epoch 46/100\n",
      "12/12 [==============================] - 0s 17ms/step - loss: 0.3232 - accuracy: 0.8666\n",
      "Epoch 47/100\n",
      "12/12 [==============================] - 0s 16ms/step - loss: 0.3217 - accuracy: 0.8660\n",
      "Epoch 48/100\n",
      "12/12 [==============================] - 0s 14ms/step - loss: 0.3211 - accuracy: 0.8677\n",
      "Epoch 49/100\n",
      "12/12 [==============================] - 0s 3ms/step - loss: 0.3206 - accuracy: 0.8700\n",
      "Epoch 50/100\n",
      "12/12 [==============================] - 0s 3ms/step - loss: 0.3203 - accuracy: 0.8684\n",
      "Epoch 51/100\n",
      "12/12 [==============================] - 0s 3ms/step - loss: 0.3200 - accuracy: 0.8696\n",
      "Epoch 52/100\n",
      "12/12 [==============================] - 0s 3ms/step - loss: 0.3196 - accuracy: 0.8694\n",
      "Epoch 53/100\n",
      "12/12 [==============================] - 0s 3ms/step - loss: 0.3195 - accuracy: 0.8686\n",
      "Epoch 54/100\n",
      "12/12 [==============================] - 0s 3ms/step - loss: 0.3182 - accuracy: 0.8692\n",
      "Epoch 55/100\n",
      "12/12 [==============================] - 0s 3ms/step - loss: 0.3182 - accuracy: 0.8685\n",
      "Epoch 56/100\n",
      "12/12 [==============================] - 0s 3ms/step - loss: 0.3180 - accuracy: 0.8695\n",
      "Epoch 57/100\n",
      "12/12 [==============================] - 0s 3ms/step - loss: 0.3170 - accuracy: 0.8701\n",
      "Epoch 58/100\n",
      "12/12 [==============================] - 0s 3ms/step - loss: 0.3168 - accuracy: 0.8694\n",
      "Epoch 59/100\n",
      "12/12 [==============================] - 0s 3ms/step - loss: 0.3161 - accuracy: 0.8700\n",
      "Epoch 60/100\n",
      "12/12 [==============================] - 0s 3ms/step - loss: 0.3156 - accuracy: 0.8715\n",
      "Epoch 61/100\n",
      "12/12 [==============================] - 0s 3ms/step - loss: 0.3150 - accuracy: 0.8706\n",
      "Epoch 62/100\n",
      "12/12 [==============================] - 0s 7ms/step - loss: 0.3148 - accuracy: 0.8695\n",
      "Epoch 63/100\n",
      "12/12 [==============================] - 0s 14ms/step - loss: 0.3144 - accuracy: 0.8714\n",
      "Epoch 64/100\n",
      "12/12 [==============================] - 0s 16ms/step - loss: 0.3141 - accuracy: 0.8717\n",
      "Epoch 65/100\n",
      "12/12 [==============================] - 0s 14ms/step - loss: 0.3134 - accuracy: 0.8719\n",
      "Epoch 66/100\n",
      "12/12 [==============================] - 0s 17ms/step - loss: 0.3133 - accuracy: 0.8720\n",
      "Epoch 67/100\n",
      "12/12 [==============================] - 0s 15ms/step - loss: 0.3130 - accuracy: 0.8708\n",
      "Epoch 68/100\n",
      "12/12 [==============================] - 0s 15ms/step - loss: 0.3139 - accuracy: 0.8715\n",
      "Epoch 69/100\n",
      "12/12 [==============================] - 0s 15ms/step - loss: 0.3132 - accuracy: 0.8714\n",
      "Epoch 70/100\n",
      "12/12 [==============================] - 0s 15ms/step - loss: 0.3119 - accuracy: 0.8724\n",
      "Epoch 71/100\n",
      "12/12 [==============================] - 0s 15ms/step - loss: 0.3116 - accuracy: 0.8724\n",
      "Epoch 72/100\n",
      "12/12 [==============================] - 0s 14ms/step - loss: 0.3115 - accuracy: 0.8727\n",
      "Epoch 73/100\n",
      "12/12 [==============================] - 0s 14ms/step - loss: 0.3115 - accuracy: 0.8734\n",
      "Epoch 74/100\n",
      "12/12 [==============================] - 0s 13ms/step - loss: 0.3111 - accuracy: 0.8727\n",
      "Epoch 75/100\n",
      "12/12 [==============================] - 0s 15ms/step - loss: 0.3111 - accuracy: 0.8715\n",
      "Epoch 76/100\n",
      "12/12 [==============================] - 0s 15ms/step - loss: 0.3101 - accuracy: 0.8720\n",
      "Epoch 77/100\n",
      "12/12 [==============================] - 0s 17ms/step - loss: 0.3099 - accuracy: 0.8716\n",
      "Epoch 78/100\n",
      "12/12 [==============================] - 0s 15ms/step - loss: 0.3095 - accuracy: 0.8723\n",
      "Epoch 79/100\n",
      "12/12 [==============================] - 0s 16ms/step - loss: 0.3096 - accuracy: 0.8731\n",
      "Epoch 80/100\n",
      "12/12 [==============================] - 0s 14ms/step - loss: 0.3085 - accuracy: 0.8726\n",
      "Epoch 81/100\n",
      "12/12 [==============================] - 0s 17ms/step - loss: 0.3083 - accuracy: 0.8733\n",
      "Epoch 82/100\n"
     ]
    },
    {
     "name": "stdout",
     "output_type": "stream",
     "text": [
      "12/12 [==============================] - 0s 16ms/step - loss: 0.3079 - accuracy: 0.8744\n",
      "Epoch 83/100\n",
      "12/12 [==============================] - 0s 8ms/step - loss: 0.3076 - accuracy: 0.8737\n",
      "Epoch 84/100\n",
      "12/12 [==============================] - 0s 3ms/step - loss: 0.3075 - accuracy: 0.8726\n",
      "Epoch 85/100\n",
      "12/12 [==============================] - 0s 4ms/step - loss: 0.3079 - accuracy: 0.8742\n",
      "Epoch 86/100\n",
      "12/12 [==============================] - 0s 4ms/step - loss: 0.3071 - accuracy: 0.8721\n",
      "Epoch 87/100\n",
      "12/12 [==============================] - 0s 3ms/step - loss: 0.3073 - accuracy: 0.8720\n",
      "Epoch 88/100\n",
      "12/12 [==============================] - 0s 3ms/step - loss: 0.3069 - accuracy: 0.8723\n",
      "Epoch 89/100\n",
      "12/12 [==============================] - 0s 3ms/step - loss: 0.3078 - accuracy: 0.8733\n",
      "Epoch 90/100\n",
      "12/12 [==============================] - 0s 3ms/step - loss: 0.3063 - accuracy: 0.8725\n",
      "Epoch 91/100\n",
      "12/12 [==============================] - 0s 2ms/step - loss: 0.3056 - accuracy: 0.8731\n",
      "Epoch 92/100\n",
      "12/12 [==============================] - 0s 2ms/step - loss: 0.3056 - accuracy: 0.8735\n",
      "Epoch 93/100\n",
      "12/12 [==============================] - 0s 2ms/step - loss: 0.3049 - accuracy: 0.8731\n",
      "Epoch 94/100\n",
      "12/12 [==============================] - 0s 2ms/step - loss: 0.3040 - accuracy: 0.8739\n",
      "Epoch 95/100\n",
      "12/12 [==============================] - 0s 2ms/step - loss: 0.3042 - accuracy: 0.8749\n",
      "Epoch 96/100\n",
      "12/12 [==============================] - 0s 2ms/step - loss: 0.3037 - accuracy: 0.8746\n",
      "Epoch 97/100\n",
      "12/12 [==============================] - 0s 2ms/step - loss: 0.3046 - accuracy: 0.8730\n",
      "Epoch 98/100\n",
      "12/12 [==============================] - 0s 3ms/step - loss: 0.3034 - accuracy: 0.8739\n",
      "Epoch 99/100\n",
      "12/12 [==============================] - 0s 2ms/step - loss: 0.3040 - accuracy: 0.8745\n",
      "Epoch 100/100\n",
      "12/12 [==============================] - 0s 2ms/step - loss: 0.3024 - accuracy: 0.8731\n"
     ]
    },
    {
     "data": {
      "text/plain": [
       "<tensorflow.python.keras.callbacks.History at 0x7f3928739130>"
      ]
     },
     "execution_count": 66,
     "metadata": {},
     "output_type": "execute_result"
    }
   ],
   "source": [
    "model.fit(X_train, y_train.values, batch_size = 700, epochs = 100, verbose = 1)"
   ]
  },
  {
   "cell_type": "code",
   "execution_count": 67,
   "metadata": {
    "colab": {
     "base_uri": "https://localhost:8080/"
    },
    "id": "AAULjn-C2n6F",
    "outputId": "240ab979-a40a-4b05-e782-23bf9f73a3f2"
   },
   "outputs": [
    {
     "name": "stdout",
     "output_type": "stream",
     "text": [
      "63/63 [==============================] - 0s 1ms/step - loss: 0.3429 - accuracy: 0.8545\n"
     ]
    }
   ],
   "source": [
    "results = model.evaluate(X_test, y_test)\n"
   ]
  },
  {
   "cell_type": "code",
   "execution_count": 68,
   "metadata": {
    "colab": {
     "base_uri": "https://localhost:8080/"
    },
    "id": "iWPCJvmY2w9Z",
    "outputId": "12f6b606-c23e-4c2f-9df7-51a37fd4f489"
   },
   "outputs": [
    {
     "name": "stdout",
     "output_type": "stream",
     "text": [
      "['loss', 'accuracy']\n",
      "[0.3428872227668762, 0.8544999957084656]\n"
     ]
    }
   ],
   "source": [
    "print(model.metrics_names)\n",
    "print(results)    "
   ]
  },
  {
   "cell_type": "markdown",
   "metadata": {
    "id": "mFVCB24Zud4z"
   },
   "source": [
    "### Confusion Matrix"
   ]
  },
  {
   "cell_type": "code",
   "execution_count": 69,
   "metadata": {
    "colab": {
     "base_uri": "https://localhost:8080/"
    },
    "id": "6ws8ykhbrAdy",
    "outputId": "b0dd3cf3-83f8-4175-c9be-faf25806cbd8"
   },
   "outputs": [
    {
     "name": "stdout",
     "output_type": "stream",
     "text": [
      "WARNING:tensorflow:From <ipython-input-69-672e677043cf>:1: Sequential.predict_classes (from tensorflow.python.keras.engine.sequential) is deprecated and will be removed after 2021-01-01.\n",
      "Instructions for updating:\n",
      "Please use instead:* `np.argmax(model.predict(x), axis=-1)`,   if your model does multi-class classification   (e.g. if it uses a `softmax` last-layer activation).* `(model.predict(x) > 0.5).astype(\"int32\")`,   if your model does binary classification   (e.g. if it uses a `sigmoid` last-layer activation).\n",
      "63/63 [==============================] - 0s 1ms/step - loss: 0.3429 - accuracy: 0.8545\n",
      "Accuracy Model1 (Dropout): 0.8544999957084656\n",
      "Recall_score: 0.48175182481751827\n",
      "Precision_score: 0.717391304347826\n",
      "F-score: 0.5764192139737991\n"
     ]
    },
    {
     "data": {
      "text/plain": [
       "array([[1511,   78],\n",
       "       [ 213,  198]])"
      ]
     },
     "execution_count": 69,
     "metadata": {},
     "output_type": "execute_result"
    }
   ],
   "source": [
    "Y_pred_cls = model.predict_classes(X_test, batch_size=200, verbose=0)\n",
    "print('Accuracy Model1 (Dropout): '+ str(model.evaluate(X_test,y_test.values)[1]))\n",
    "print('Recall_score: ' + str(recall_score(y_test.values,Y_pred_cls)))\n",
    "print('Precision_score: ' + str(precision_score(y_test.values, Y_pred_cls)))\n",
    "print('F-score: ' + str(f1_score(y_test.values,Y_pred_cls)))\n",
    "confusion_matrix(y_test.values, Y_pred_cls)"
   ]
  },
  {
   "cell_type": "code",
   "execution_count": 70,
   "metadata": {
    "id": "W6-p9k8TtUM1"
   },
   "outputs": [],
   "source": [
    "def draw_cm( actual, predicted ):\n",
    "    cm = confusion_matrix( actual, predicted, [1,0] )\n",
    "    sns.heatmap(cm, annot=True,  fmt='.2f', xticklabels = [\"Exited\", \"Not Exited\"] , yticklabels = [\"Exited\", \"Not Exited\"] )\n",
    "    plt.ylabel('True label')\n",
    "    plt.xlabel('Predicted label')\n",
    "    plt.show()"
   ]
  },
  {
   "cell_type": "code",
   "execution_count": 71,
   "metadata": {
    "colab": {
     "base_uri": "https://localhost:8080/",
     "height": 279
    },
    "id": "d3u-ea0bscQR",
    "outputId": "02c33241-5709-47d7-b4bb-dad5fc3911a0"
   },
   "outputs": [
    {
     "name": "stderr",
     "output_type": "stream",
     "text": [
      "/root/anaconda3/lib/python3.8/site-packages/sklearn/utils/validation.py:67: FutureWarning: Pass labels=[1, 0] as keyword args. From version 0.25 passing these as positional arguments will result in an error\n",
      "  warnings.warn(\"Pass {} as keyword args. From version 0.25 \"\n"
     ]
    },
    {
     "data": {
      "image/png": "[encoded data removed]",
      "text/plain": [
       "<Figure size 432x288 with 2 Axes>"
      ]
     },
     "metadata": {},
     "output_type": "display_data"
    }
   ],
   "source": [
    "draw_cm( y_test, Y_pred_cls )"
   ]
  },
  {
   "cell_type": "markdown",
   "metadata": {
    "id": "AkPxUc-uvMZM"
   },
   "source": [
    "### Conclusion\n",
    "\n",
    "1.   We got an accuracy of 85% with the AI model\n",
    "2.   The accuracy is reasonable since we have all 10,000 data records. This is not sifficient for an AI model to have better accuracy\n",
    "\n"
   ]
  },
  {
   "cell_type": "markdown",
   "metadata": {},
   "source": [
    "# <a id = \"link_churn2\"></a>Tensorflow Binary Classification 2: Fraud Detection"
   ]
  },
  {
   "cell_type": "code",
   "execution_count": 72,
   "metadata": {},
   "outputs": [],
   "source": [
    "dataset_file = 'creditcard.csv'"
   ]
  },
  {
   "cell_type": "code",
   "execution_count": 73,
   "metadata": {},
   "outputs": [
    {
     "data": {
      "text/html": [
       "<div>\n",
       "<style scoped>\n",
       "    .dataframe tbody tr th:only-of-type {\n",
       "        vertical-align: middle;\n",
       "    }\n",
       "\n",
       "    .dataframe tbody tr th {\n",
       "        vertical-align: top;\n",
       "    }\n",
       "\n",
       "    .dataframe thead th {\n",
       "        text-align: right;\n",
       "    }\n",
       "</style>\n",
       "<table border=\"1\" class=\"dataframe\">\n",
       "  <thead>\n",
       "    <tr style=\"text-align: right;\">\n",
       "      <th></th>\n",
       "      <th>Time</th>\n",
       "      <th>V1</th>\n",
       "      <th>V2</th>\n",
       "      <th>V3</th>\n",
       "      <th>V4</th>\n",
       "      <th>V5</th>\n",
       "      <th>V6</th>\n",
       "      <th>V7</th>\n",
       "      <th>V8</th>\n",
       "      <th>V9</th>\n",
       "      <th>...</th>\n",
       "      <th>V21</th>\n",
       "      <th>V22</th>\n",
       "      <th>V23</th>\n",
       "      <th>V24</th>\n",
       "      <th>V25</th>\n",
       "      <th>V26</th>\n",
       "      <th>V27</th>\n",
       "      <th>V28</th>\n",
       "      <th>Amount</th>\n",
       "      <th>Class</th>\n",
       "    </tr>\n",
       "  </thead>\n",
       "  <tbody>\n",
       "    <tr>\n",
       "      <th>0</th>\n",
       "      <td>0.0</td>\n",
       "      <td>-1.359807</td>\n",
       "      <td>-0.072781</td>\n",
       "      <td>2.536347</td>\n",
       "      <td>1.378155</td>\n",
       "      <td>-0.338321</td>\n",
       "      <td>0.462388</td>\n",
       "      <td>0.239599</td>\n",
       "      <td>0.098698</td>\n",
       "      <td>0.363787</td>\n",
       "      <td>...</td>\n",
       "      <td>-0.018307</td>\n",
       "      <td>0.277838</td>\n",
       "      <td>-0.110474</td>\n",
       "      <td>0.066928</td>\n",
       "      <td>0.128539</td>\n",
       "      <td>-0.189115</td>\n",
       "      <td>0.133558</td>\n",
       "      <td>-0.021053</td>\n",
       "      <td>149.62</td>\n",
       "      <td>0</td>\n",
       "    </tr>\n",
       "    <tr>\n",
       "      <th>1</th>\n",
       "      <td>0.0</td>\n",
       "      <td>1.191857</td>\n",
       "      <td>0.266151</td>\n",
       "      <td>0.166480</td>\n",
       "      <td>0.448154</td>\n",
       "      <td>0.060018</td>\n",
       "      <td>-0.082361</td>\n",
       "      <td>-0.078803</td>\n",
       "      <td>0.085102</td>\n",
       "      <td>-0.255425</td>\n",
       "      <td>...</td>\n",
       "      <td>-0.225775</td>\n",
       "      <td>-0.638672</td>\n",
       "      <td>0.101288</td>\n",
       "      <td>-0.339846</td>\n",
       "      <td>0.167170</td>\n",
       "      <td>0.125895</td>\n",
       "      <td>-0.008983</td>\n",
       "      <td>0.014724</td>\n",
       "      <td>2.69</td>\n",
       "      <td>0</td>\n",
       "    </tr>\n",
       "    <tr>\n",
       "      <th>2</th>\n",
       "      <td>1.0</td>\n",
       "      <td>-1.358354</td>\n",
       "      <td>-1.340163</td>\n",
       "      <td>1.773209</td>\n",
       "      <td>0.379780</td>\n",
       "      <td>-0.503198</td>\n",
       "      <td>1.800499</td>\n",
       "      <td>0.791461</td>\n",
       "      <td>0.247676</td>\n",
       "      <td>-1.514654</td>\n",
       "      <td>...</td>\n",
       "      <td>0.247998</td>\n",
       "      <td>0.771679</td>\n",
       "      <td>0.909412</td>\n",
       "      <td>-0.689281</td>\n",
       "      <td>-0.327642</td>\n",
       "      <td>-0.139097</td>\n",
       "      <td>-0.055353</td>\n",
       "      <td>-0.059752</td>\n",
       "      <td>378.66</td>\n",
       "      <td>0</td>\n",
       "    </tr>\n",
       "    <tr>\n",
       "      <th>3</th>\n",
       "      <td>1.0</td>\n",
       "      <td>-0.966272</td>\n",
       "      <td>-0.185226</td>\n",
       "      <td>1.792993</td>\n",
       "      <td>-0.863291</td>\n",
       "      <td>-0.010309</td>\n",
       "      <td>1.247203</td>\n",
       "      <td>0.237609</td>\n",
       "      <td>0.377436</td>\n",
       "      <td>-1.387024</td>\n",
       "      <td>...</td>\n",
       "      <td>-0.108300</td>\n",
       "      <td>0.005274</td>\n",
       "      <td>-0.190321</td>\n",
       "      <td>-1.175575</td>\n",
       "      <td>0.647376</td>\n",
       "      <td>-0.221929</td>\n",
       "      <td>0.062723</td>\n",
       "      <td>0.061458</td>\n",
       "      <td>123.50</td>\n",
       "      <td>0</td>\n",
       "    </tr>\n",
       "    <tr>\n",
       "      <th>4</th>\n",
       "      <td>2.0</td>\n",
       "      <td>-1.158233</td>\n",
       "      <td>0.877737</td>\n",
       "      <td>1.548718</td>\n",
       "      <td>0.403034</td>\n",
       "      <td>-0.407193</td>\n",
       "      <td>0.095921</td>\n",
       "      <td>0.592941</td>\n",
       "      <td>-0.270533</td>\n",
       "      <td>0.817739</td>\n",
       "      <td>...</td>\n",
       "      <td>-0.009431</td>\n",
       "      <td>0.798278</td>\n",
       "      <td>-0.137458</td>\n",
       "      <td>0.141267</td>\n",
       "      <td>-0.206010</td>\n",
       "      <td>0.502292</td>\n",
       "      <td>0.219422</td>\n",
       "      <td>0.215153</td>\n",
       "      <td>69.99</td>\n",
       "      <td>0</td>\n",
       "    </tr>\n",
       "  </tbody>\n",
       "</table>\n",
       "<p>5 rows × 31 columns</p>\n",
       "</div>"
      ],
      "text/plain": [
       "   Time        V1        V2        V3        V4        V5        V6        V7  \\\n",
       "0   0.0 -1.359807 -0.072781  2.536347  1.378155 -0.338321  0.462388  0.239599   \n",
       "1   0.0  1.191857  0.266151  0.166480  0.448154  0.060018 -0.082361 -0.078803   \n",
       "2   1.0 -1.358354 -1.340163  1.773209  0.379780 -0.503198  1.800499  0.791461   \n",
       "3   1.0 -0.966272 -0.185226  1.792993 -0.863291 -0.010309  1.247203  0.237609   \n",
       "4   2.0 -1.158233  0.877737  1.548718  0.403034 -0.407193  0.095921  0.592941   \n",
       "\n",
       "         V8        V9  ...       V21       V22       V23       V24       V25  \\\n",
       "0  0.098698  0.363787  ... -0.018307  0.277838 -0.110474  0.066928  0.128539   \n",
       "1  0.085102 -0.255425  ... -0.225775 -0.638672  0.101288 -0.339846  0.167170   \n",
       "2  0.247676 -1.514654  ...  0.247998  0.771679  0.909412 -0.689281 -0.327642   \n",
       "3  0.377436 -1.387024  ... -0.108300  0.005274 -0.190321 -1.175575  0.647376   \n",
       "4 -0.270533  0.817739  ... -0.009431  0.798278 -0.137458  0.141267 -0.206010   \n",
       "\n",
       "        V26       V27       V28  Amount  Class  \n",
       "0 -0.189115  0.133558 -0.021053  149.62      0  \n",
       "1  0.125895 -0.008983  0.014724    2.69      0  \n",
       "2 -0.139097 -0.055353 -0.059752  378.66      0  \n",
       "3 -0.221929  0.062723  0.061458  123.50      0  \n",
       "4  0.502292  0.219422  0.215153   69.99      0  \n",
       "\n",
       "[5 rows x 31 columns]"
      ]
     },
     "execution_count": 73,
     "metadata": {},
     "output_type": "execute_result"
    }
   ],
   "source": [
    "data = pd.read_csv(dataset_file)\n",
    "data.head()"
   ]
  },
  {
   "cell_type": "code",
   "execution_count": 74,
   "metadata": {},
   "outputs": [],
   "source": [
    "data = data.drop(\"Time\", axis = 1)"
   ]
  },
  {
   "cell_type": "code",
   "execution_count": 75,
   "metadata": {},
   "outputs": [],
   "source": [
    "X_data = data.iloc[:, :-1]"
   ]
  },
  {
   "cell_type": "code",
   "execution_count": 76,
   "metadata": {},
   "outputs": [
    {
     "data": {
      "text/plain": [
       "(284807, 29)"
      ]
     },
     "execution_count": 76,
     "metadata": {},
     "output_type": "execute_result"
    }
   ],
   "source": [
    "X_data.shape"
   ]
  },
  {
   "cell_type": "code",
   "execution_count": 77,
   "metadata": {},
   "outputs": [],
   "source": [
    "y_data = data.iloc[:, -1]"
   ]
  },
  {
   "cell_type": "code",
   "execution_count": 78,
   "metadata": {},
   "outputs": [],
   "source": [
    "X_train, X_test, y_train, y_test = train_test_split(X_data, y_data, test_size = 0.2, random_state = 7)"
   ]
  },
  {
   "cell_type": "code",
   "execution_count": 79,
   "metadata": {},
   "outputs": [],
   "source": [
    "X_train = preprocessing.normalize(X_train)"
   ]
  },
  {
   "cell_type": "code",
   "execution_count": 80,
   "metadata": {},
   "outputs": [
    {
     "name": "stdout",
     "output_type": "stream",
     "text": [
      "(227845, 29)\n",
      "(56962, 29)\n",
      "(227845,)\n",
      "(56962,)\n"
     ]
    }
   ],
   "source": [
    "print(X_train.shape)\n",
    "print(X_test.shape)\n",
    "print(y_train.shape)\n",
    "print(y_test.shape)"
   ]
  },
  {
   "cell_type": "code",
   "execution_count": 81,
   "metadata": {},
   "outputs": [],
   "source": [
    "model = Sequential()\n",
    "model.add(Dense(64, input_shape = (29,), activation = 'relu'))\n",
    "model.add(Dense(32, activation = 'tanh'))\n",
    "model.add(Dense(1, activation = 'sigmoid'))"
   ]
  },
  {
   "cell_type": "code",
   "execution_count": 82,
   "metadata": {},
   "outputs": [],
   "source": [
    "sgd = optimizers.Adam(lr = 0.001)"
   ]
  },
  {
   "cell_type": "code",
   "execution_count": 83,
   "metadata": {},
   "outputs": [],
   "source": [
    "model.compile(optimizer = sgd, loss = 'binary_crossentropy', metrics=['accuracy'])"
   ]
  },
  {
   "cell_type": "code",
   "execution_count": 84,
   "metadata": {},
   "outputs": [
    {
     "name": "stdout",
     "output_type": "stream",
     "text": [
      "Model: \"sequential_2\"\n",
      "_________________________________________________________________\n",
      "Layer (type)                 Output Shape              Param #   \n",
      "=================================================================\n",
      "dense_4 (Dense)              (None, 64)                1920      \n",
      "_________________________________________________________________\n",
      "dense_5 (Dense)              (None, 32)                2080      \n",
      "_________________________________________________________________\n",
      "dense_6 (Dense)              (None, 1)                 33        \n",
      "=================================================================\n",
      "Total params: 4,033\n",
      "Trainable params: 4,033\n",
      "Non-trainable params: 0\n",
      "_________________________________________________________________\n"
     ]
    }
   ],
   "source": [
    "model.summary()"
   ]
  },
  {
   "cell_type": "code",
   "execution_count": null,
   "metadata": {},
   "outputs": [
    {
     "name": "stdout",
     "output_type": "stream",
     "text": [
      "Epoch 1/10\n",
      "326/326 [==============================] - 1s 4ms/step - loss: 0.0701 - accuracy: 0.9880\n",
      "Epoch 2/10\n",
      "326/326 [==============================] - 2s 5ms/step - loss: 0.0073 - accuracy: 0.9984\n",
      "Epoch 3/10\n",
      "326/326 [==============================] - 2s 7ms/step - loss: 0.0061 - accuracy: 0.9989\n",
      "Epoch 4/10\n",
      " 12/326 [>.............................] - ETA: 3s - loss: 0.0076 - accuracy: 0.9988"
     ]
    }
   ],
   "source": [
    "model.fit(X_train, y_train.values, batch_size = 700, epochs = 10, verbose = 1)"
   ]
  },
  {
   "cell_type": "code",
   "execution_count": null,
   "metadata": {},
   "outputs": [],
   "source": [
    "X_test = preprocessing.normalize(X_test)"
   ]
  },
  {
   "cell_type": "code",
   "execution_count": null,
   "metadata": {},
   "outputs": [],
   "source": [
    "results = model.evaluate(X_test, y_test.values)"
   ]
  },
  {
   "cell_type": "code",
   "execution_count": null,
   "metadata": {},
   "outputs": [],
   "source": [
    "print(model.metrics_names)\n",
    "print(results)  "
   ]
  },
  {
   "cell_type": "code",
   "execution_count": null,
   "metadata": {},
   "outputs": [],
   "source": [
    "Y_pred_cls = model.predict_classes(X_test, batch_size=200, verbose=0)\n",
    "print('Accuracy Model1 (Dropout): '+ str(model.evaluate(X_test,y_test.values)[1]))\n",
    "print('Recall_score: ' + str(recall_score(y_test.values,Y_pred_cls)))\n",
    "print('Precision_score: ' + str(precision_score(y_test.values, Y_pred_cls)))\n",
    "print('F-score: ' + str(f1_score(y_test.values,Y_pred_cls)))\n",
    "confusion_matrix(y_test.values, Y_pred_cls)"
   ]
  },
  {
   "cell_type": "code",
   "execution_count": null,
   "metadata": {},
   "outputs": [],
   "source": []
  },
  {
   "cell_type": "code",
   "execution_count": null,
   "metadata": {},
   "outputs": [],
   "source": []
  }
 ],
 "metadata": {
  "accelerator": "GPU",
  "colab": {
   "collapsed_sections": [],
   "name": "Project Artificial Neural Networks Bank Churn.ipynb",
   "provenance": [],
   "toc_visible": true
  },
  "kernelspec": {
   "display_name": "Python 3",
   "language": "python",
   "name": "python3"
  },
  "language_info": {
   "codemirror_mode": {
    "name": "ipython",
    "version": 3
   },
   "file_extension": ".py",
   "mimetype": "text/x-python",
   "name": "python",
   "nbconvert_exporter": "python",
   "pygments_lexer": "ipython3",
   "version": "3.8.5"
  }
 },
 "nbformat": 4,
 "nbformat_minor": 1
}
