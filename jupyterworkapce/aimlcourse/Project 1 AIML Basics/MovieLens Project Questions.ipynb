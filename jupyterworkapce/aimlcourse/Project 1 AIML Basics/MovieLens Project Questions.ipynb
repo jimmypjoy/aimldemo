{
 "cells": [
  {
   "cell_type": "markdown",
   "metadata": {},
   "source": [
    "### Project - MovieLens Data Analysis\n",
    "\n",
    "The GroupLens Research Project is a research group in the Department of Computer Science and Engineering at the University of Minnesota. The data is widely used for collaborative filtering and other filtering solutions. However, we will be using this data to act as a means to demonstrate our skill in using Python to “play” with data.\n",
    "\n",
    "### Datasets Information:\n",
    "\n",
    "- Data.csv: It contains information of ratings given by the users to a particular movie. Columns: user id, movie id, rating, timestamp\n",
    "\n",
    "- item.csv: File contains information related to the movies and its genre.\n",
    "\n",
    "- Columns: movie id, movie title, release date, unknown, Action, Adventure, Animation, Children’s, Comedy, Crime, Documentary, Drama, Fantasy, Film-Noir, Horror, Musical, Mystery, Romance, Sci-Fi, Thriller, War, Western\n",
    "\n",
    "- user.csv: It contains information of the users who have rated the movies. Columns: user id, age, gender, occupation, zip code\n",
    "\n",
    "### Objective:\n",
    "\n",
    "`To implement the techniques learnt as a part of the course.`\n",
    "\n",
    "### Learning Outcomes:\n",
    "- Exploratory Data Analysis\n",
    "\n",
    "- Visualization using Python\n",
    "\n",
    "- Pandas – groupby, merging \n",
    "\n",
    "\n",
    "#### Domain \n",
    "`Internet and Entertainment`\n",
    "\n",
    "**Note that the project will need you to apply the concepts of groupby and merging extensively.**"
   ]
  },
  {
   "cell_type": "markdown",
   "metadata": {},
   "source": [
    "#### 1. Import the necessary packages - 2.5 marks"
   ]
  },
  {
   "cell_type": "code",
   "execution_count": 1,
   "metadata": {},
   "outputs": [],
   "source": [
    "import pandas as pd\n",
    "import seaborn as sns\n",
    "import matplotlib.pyplot as plt"
   ]
  },
  {
   "cell_type": "markdown",
   "metadata": {},
   "source": [
    "#### 2. Read the 3 datasets into dataframes - 2.5 marks"
   ]
  },
  {
   "cell_type": "code",
   "execution_count": 2,
   "metadata": {
    "scrolled": true
   },
   "outputs": [],
   "source": [
    "# reading the Data.csv, item.csv and user.csv into data frames\n",
    "data = pd.read_csv('Data.csv')\n",
    "item = pd.read_csv('item.csv')\n",
    "user = pd.read_csv('user.csv')"
   ]
  },
  {
   "cell_type": "markdown",
   "metadata": {},
   "source": [
    "#### 3. Apply info, shape, describe, and find the number of missing values in the data - 5 marks\n",
    " - Note that you will need to do it for all the three datasets seperately"
   ]
  },
  {
   "cell_type": "code",
   "execution_count": 3,
   "metadata": {},
   "outputs": [
    {
     "name": "stdout",
     "output_type": "stream",
     "text": [
      "#Info of data:\n",
      "<class 'pandas.core.frame.DataFrame'>\n",
      "RangeIndex: 100000 entries, 0 to 99999\n",
      "Data columns (total 4 columns):\n",
      " #   Column     Non-Null Count   Dtype\n",
      "---  ------     --------------   -----\n",
      " 0   user id    100000 non-null  int64\n",
      " 1   movie id   100000 non-null  int64\n",
      " 2   rating     100000 non-null  int64\n",
      " 3   timestamp  100000 non-null  int64\n",
      "dtypes: int64(4)\n",
      "memory usage: 3.1 MB\n",
      "None\n",
      "\n",
      "#Shape of data:\n",
      "(100000, 4)\n",
      "\n",
      "#Describe of data:\n",
      "            user id       movie id         rating     timestamp\n",
      "count  100000.00000  100000.000000  100000.000000  1.000000e+05\n",
      "mean      462.48475     425.530130       3.529860  8.835289e+08\n",
      "std       266.61442     330.798356       1.125674  5.343856e+06\n",
      "min         1.00000       1.000000       1.000000  8.747247e+08\n",
      "25%       254.00000     175.000000       3.000000  8.794487e+08\n",
      "50%       447.00000     322.000000       4.000000  8.828269e+08\n",
      "75%       682.00000     631.000000       4.000000  8.882600e+08\n",
      "max       943.00000    1682.000000       5.000000  8.932866e+08\n",
      "\n",
      "#Number of misisng values of each columns of data:\n",
      "user id      0\n",
      "movie id     0\n",
      "rating       0\n",
      "timestamp    0\n",
      "dtype: int64\n"
     ]
    }
   ],
   "source": [
    "print('#Info of data:')\n",
    "print(data.info())\n",
    "print('')\n",
    "print('#Shape of data:')\n",
    "print(data.shape)\n",
    "print('')\n",
    "print('#Describe of data:')\n",
    "print(data.describe())\n",
    "print('')\n",
    "print('#Number of misisng values of each columns of data:')\n",
    "print(data.isnull().sum())"
   ]
  },
  {
   "cell_type": "code",
   "execution_count": 4,
   "metadata": {},
   "outputs": [
    {
     "name": "stdout",
     "output_type": "stream",
     "text": [
      "#Info of item:\n",
      "<class 'pandas.core.frame.DataFrame'>\n",
      "RangeIndex: 1681 entries, 0 to 1680\n",
      "Data columns (total 22 columns):\n",
      " #   Column        Non-Null Count  Dtype \n",
      "---  ------        --------------  ----- \n",
      " 0   movie id      1681 non-null   int64 \n",
      " 1   movie title   1681 non-null   object\n",
      " 2   release date  1681 non-null   object\n",
      " 3   unknown       1681 non-null   int64 \n",
      " 4   Action        1681 non-null   int64 \n",
      " 5   Adventure     1681 non-null   int64 \n",
      " 6   Animation     1681 non-null   int64 \n",
      " 7   Childrens     1681 non-null   int64 \n",
      " 8   Comedy        1681 non-null   int64 \n",
      " 9   Crime         1681 non-null   int64 \n",
      " 10  Documentary   1681 non-null   int64 \n",
      " 11  Drama         1681 non-null   int64 \n",
      " 12  Fantasy       1681 non-null   int64 \n",
      " 13  Film-Noir     1681 non-null   int64 \n",
      " 14  Horror        1681 non-null   int64 \n",
      " 15  Musical       1681 non-null   int64 \n",
      " 16  Mystery       1681 non-null   int64 \n",
      " 17  Romance       1681 non-null   int64 \n",
      " 18  Sci-Fi        1681 non-null   int64 \n",
      " 19  Thriller      1681 non-null   int64 \n",
      " 20  War           1681 non-null   int64 \n",
      " 21  Western       1681 non-null   int64 \n",
      "dtypes: int64(20), object(2)\n",
      "memory usage: 289.0+ KB\n",
      "None\n",
      "\n",
      "#Shape of item:\n",
      "(1681, 22)\n",
      "\n",
      "#Describe of item:\n",
      "          movie id      unknown       Action    Adventure    Animation  \\\n",
      "count  1681.000000  1681.000000  1681.000000  1681.000000  1681.000000   \n",
      "mean    841.841761     0.000595     0.149316     0.080309     0.024985   \n",
      "std     485.638077     0.024390     0.356506     0.271852     0.156126   \n",
      "min       1.000000     0.000000     0.000000     0.000000     0.000000   \n",
      "25%     422.000000     0.000000     0.000000     0.000000     0.000000   \n",
      "50%     842.000000     0.000000     0.000000     0.000000     0.000000   \n",
      "75%    1262.000000     0.000000     0.000000     0.000000     0.000000   \n",
      "max    1682.000000     1.000000     1.000000     1.000000     1.000000   \n",
      "\n",
      "         Childrens       Comedy        Crime  Documentary        Drama  \\\n",
      "count  1681.000000  1681.000000  1681.000000  1681.000000  1681.000000   \n",
      "mean      0.072576     0.300416     0.064842     0.029744     0.431291   \n",
      "std       0.259516     0.458576     0.246321     0.169931     0.495404   \n",
      "min       0.000000     0.000000     0.000000     0.000000     0.000000   \n",
      "25%       0.000000     0.000000     0.000000     0.000000     0.000000   \n",
      "50%       0.000000     0.000000     0.000000     0.000000     0.000000   \n",
      "75%       0.000000     1.000000     0.000000     0.000000     1.000000   \n",
      "max       1.000000     1.000000     1.000000     1.000000     1.000000   \n",
      "\n",
      "           Fantasy    Film-Noir       Horror      Musical      Mystery  \\\n",
      "count  1681.000000  1681.000000  1681.000000  1681.000000  1681.000000   \n",
      "mean      0.013087     0.014277     0.054729     0.033314     0.036288   \n",
      "std       0.113683     0.118667     0.227519     0.179507     0.187061   \n",
      "min       0.000000     0.000000     0.000000     0.000000     0.000000   \n",
      "25%       0.000000     0.000000     0.000000     0.000000     0.000000   \n",
      "50%       0.000000     0.000000     0.000000     0.000000     0.000000   \n",
      "75%       0.000000     0.000000     0.000000     0.000000     0.000000   \n",
      "max       1.000000     1.000000     1.000000     1.000000     1.000000   \n",
      "\n",
      "           Romance       Sci-Fi     Thriller          War      Western  \n",
      "count  1681.000000  1681.000000  1681.000000  1681.000000  1681.000000  \n",
      "mean      0.146936     0.060083     0.149316     0.042237     0.016062  \n",
      "std       0.354148     0.237712     0.356506     0.201189     0.125751  \n",
      "min       0.000000     0.000000     0.000000     0.000000     0.000000  \n",
      "25%       0.000000     0.000000     0.000000     0.000000     0.000000  \n",
      "50%       0.000000     0.000000     0.000000     0.000000     0.000000  \n",
      "75%       0.000000     0.000000     0.000000     0.000000     0.000000  \n",
      "max       1.000000     1.000000     1.000000     1.000000     1.000000  \n",
      "\n",
      "#Number of misisng values of each columns of item:\n",
      "movie id        0\n",
      "movie title     0\n",
      "release date    0\n",
      "unknown         0\n",
      "Action          0\n",
      "Adventure       0\n",
      "Animation       0\n",
      "Childrens       0\n",
      "Comedy          0\n",
      "Crime           0\n",
      "Documentary     0\n",
      "Drama           0\n",
      "Fantasy         0\n",
      "Film-Noir       0\n",
      "Horror          0\n",
      "Musical         0\n",
      "Mystery         0\n",
      "Romance         0\n",
      "Sci-Fi          0\n",
      "Thriller        0\n",
      "War             0\n",
      "Western         0\n",
      "dtype: int64\n"
     ]
    }
   ],
   "source": [
    "print('#Info of item:')\n",
    "print(item.info())\n",
    "print('')\n",
    "print('#Shape of item:')\n",
    "print(item.shape)\n",
    "print('')\n",
    "print('#Describe of item:')\n",
    "print(item.describe())\n",
    "print('')\n",
    "print('#Number of misisng values of each columns of item:')\n",
    "print(item.isnull().sum())"
   ]
  },
  {
   "cell_type": "code",
   "execution_count": 5,
   "metadata": {},
   "outputs": [
    {
     "name": "stdout",
     "output_type": "stream",
     "text": [
      "#Info of user:\n",
      "<class 'pandas.core.frame.DataFrame'>\n",
      "RangeIndex: 943 entries, 0 to 942\n",
      "Data columns (total 5 columns):\n",
      " #   Column      Non-Null Count  Dtype \n",
      "---  ------      --------------  ----- \n",
      " 0   user id     943 non-null    int64 \n",
      " 1   age         943 non-null    int64 \n",
      " 2   gender      943 non-null    object\n",
      " 3   occupation  943 non-null    object\n",
      " 4   zip code    943 non-null    object\n",
      "dtypes: int64(2), object(3)\n",
      "memory usage: 37.0+ KB\n",
      "None\n",
      "\n",
      "#Shape of user:\n",
      "(943, 5)\n",
      "\n",
      "#Describe of user:\n",
      "          user id         age\n",
      "count  943.000000  943.000000\n",
      "mean   472.000000   34.051962\n",
      "std    272.364951   12.192740\n",
      "min      1.000000    7.000000\n",
      "25%    236.500000   25.000000\n",
      "50%    472.000000   31.000000\n",
      "75%    707.500000   43.000000\n",
      "max    943.000000   73.000000\n",
      "\n",
      "#Number of misisng values of each columns of user:\n",
      "user id       0\n",
      "age           0\n",
      "gender        0\n",
      "occupation    0\n",
      "zip code      0\n",
      "dtype: int64\n"
     ]
    }
   ],
   "source": [
    "print('#Info of user:')\n",
    "print(user.info())\n",
    "print('')\n",
    "print('#Shape of user:')\n",
    "print(user.shape)\n",
    "print('')\n",
    "print('#Describe of user:')\n",
    "print(user.describe())\n",
    "print('')\n",
    "print('#Number of misisng values of each columns of user:')\n",
    "print(user.isnull().sum())"
   ]
  },
  {
   "cell_type": "markdown",
   "metadata": {},
   "source": [
    "#### 4. Find the number of movies per genre using the item data - 2.5 marks"
   ]
  },
  {
   "cell_type": "code",
   "execution_count": null,
   "metadata": {
    "scrolled": true
   },
   "outputs": [],
   "source": [
    "print(item.iloc[:, 3:].sum(axis=0))"
   ]
  },
  {
   "cell_type": "markdown",
   "metadata": {},
   "source": [
    "#### 5. Find the movies that have more than one genre - 5 marks"
   ]
  },
  {
   "cell_type": "code",
   "execution_count": null,
   "metadata": {},
   "outputs": [],
   "source": [
    "item_temp = item.copy()\n",
    "item_temp = item_temp.set_index('movie title')\n",
    "item_temp=item_temp.drop(['movie id', 'release date'], axis=1).sum(axis=1)\n",
    "item_temp = item_temp[item_temp[0:] > 1]\n",
    "print(item_temp)"
   ]
  },
  {
   "cell_type": "markdown",
   "metadata": {},
   "source": [
    "#### 6. Drop the movie where the genre is unknown - 2.5 marks"
   ]
  },
  {
   "cell_type": "code",
   "execution_count": null,
   "metadata": {},
   "outputs": [],
   "source": [
    "item_unknown_genre = item[item['unknown'] == 1]\n",
    "print(\"Movies with 'unknown' genre:\")\n",
    "print(item_unknown_genre['movie title'])\n",
    "# below dataframe has movies with unknown genre filtered \n",
    "item_known_genre = item[item['unknown'] != 1]\n",
    "print(item_known_genre.shape)"
   ]
  },
  {
   "cell_type": "markdown",
   "metadata": {},
   "source": [
    "### 7. Univariate plots of columns: 'rating', 'Age', 'release year', 'Gender' and 'Occupation' - 10 marks"
   ]
  },
  {
   "cell_type": "code",
   "execution_count": null,
   "metadata": {},
   "outputs": [],
   "source": [
    "sns.distplot(data['rating'],kde=False);"
   ]
  },
  {
   "cell_type": "code",
   "execution_count": null,
   "metadata": {},
   "outputs": [],
   "source": [
    "sns.distplot(user['age']);"
   ]
  },
  {
   "cell_type": "code",
   "execution_count": null,
   "metadata": {},
   "outputs": [],
   "source": [
    "sns.countplot(user['gender'], hue=user['gender']);"
   ]
  },
  {
   "cell_type": "code",
   "execution_count": null,
   "metadata": {},
   "outputs": [],
   "source": [
    "plt.figure(figsize=(30,20))\n",
    "plt.xticks(rotation=45) \n",
    "sns.countplot(user['occupation']);"
   ]
  },
  {
   "cell_type": "code",
   "execution_count": null,
   "metadata": {},
   "outputs": [],
   "source": [
    "item['release date'] = pd.DatetimeIndex(item['release date']).year\n",
    "item.loc[(item['release date'] > 2021),'release date']=item['release date']-100\n",
    "plt.figure(figsize=(30,20))\n",
    "plt.xticks(rotation=45) \n",
    "sns.countplot(item['release date']);"
   ]
  },
  {
   "cell_type": "markdown",
   "metadata": {},
   "source": [
    "### 8. Visualize how popularity of genres has changed over the years - 10 marks\n",
    "\n",
    "Note that you need to use the number of releases in a year as a parameter of popularity of a genre"
   ]
  },
  {
   "cell_type": "markdown",
   "metadata": {},
   "source": [
    "Hint \n",
    "\n",
    "1: you need to reach to a data frame where the release year is the index and the genre is the column names (one cell shows the number of release in a year in one genre) or vice versa.\n",
    "Once that is achieved, you can either use multiple bivariate plots or can use the heatmap to visualise all the changes over the years in one go. \n",
    "\n",
    "Hint 2: Use groupby on the relevant column and use sum() on the same to find out the nuumber of releases in a year/genre.  "
   ]
  },
  {
   "cell_type": "code",
   "execution_count": null,
   "metadata": {},
   "outputs": [],
   "source": [
    "item_temp = item.copy()\n",
    "#item_temp['release date'] = item_temp['release date'].apply(lambda x: x.split('-')[2])\n",
    "item_temp = item_temp.set_index('release date')\n",
    "item_temp = item_temp.drop(['movie id'], axis=1)\n",
    "item_new = item_temp.groupby('release date').sum()\n",
    "item_new.head()\n",
    "plt.figure(figsize=(30,20))\n",
    "sns.heatmap(item_new, annot=True, cmap='plasma', vmin=-1, vmax=1)\n",
    "plt.figure(figsize=(30,20))\n",
    "sns.jointplot(data=item_new, x=item_new.index.values.tolist(), y='Action')\n"
   ]
  },
  {
   "cell_type": "markdown",
   "metadata": {},
   "source": [
    "### 9. Find the top 25 movies according to average ratings such that each movie has number of ratings more than 100 - 10 marks\n",
    "\n",
    "Hint : \n",
    "\n",
    "1. First find the movies that have more than 100 ratings(use merge, groupby and count). Extract the movie id in a list.\n",
    "2. Find the average rating of all the movies and sort them in the descending order. You will have to use the .merge() function to reach to a data set through which you can get the ids and the average rating.\n",
    "3. Use isin(list obtained from 1) to filter out the movies which have more than 100 ratings.\n",
    "\n",
    "Note: This question will need you to research about groupby and apply your findings. You can find more on groupby on https://realpython.com/pandas-groupby/."
   ]
  },
  {
   "cell_type": "code",
   "execution_count": null,
   "metadata": {},
   "outputs": [],
   "source": [
    "item_temp = item.copy()\n",
    "item_new = item_temp.set_index('movie id')\n",
    "data_item = pd.merge(data, item_new, how='right', on='movie id')\n",
    "movie_review_data = pd.merge(data_item, user, how='right', on='user id')\n",
    "movie_review_data_new = movie_review_data[movie_review_data.groupby('movie id')['movie id'].transform('count').ge(100)]\n",
    "movie_review_data_new_mean = movie_review_data_new[['movie title', 'rating']].groupby('movie title').mean()\n",
    "movie_review_data_new_mean_sorted = movie_review_data_new_mean.sort_values('rating', ascending=False)\n",
    "print(movie_review_data_new_mean_sorted.head(25))"
   ]
  },
  {
   "cell_type": "markdown",
   "metadata": {},
   "source": [
    "### 10. See gender distribution across different genres check for the validity of the below statements - 10 marks\n",
    "\n",
    "* Men watch more drama than women\n",
    "* Women watch more Sci-Fi than men\n",
    "* Men watch more Romance than women\n"
   ]
  },
  {
   "cell_type": "markdown",
   "metadata": {},
   "source": [
    "1. There is no need to conduct statistical tests around this. Just compare the percentages and comment on the validity of the above statements.\n",
    "\n",
    "2. you might want ot use the .sum(), .div() function here.\n",
    "3. Use number of ratings to validate the numbers. For example, if out of 4000 ratings received by women, 3000 are for drama, we will assume that 75% of the women watch drama."
   ]
  },
  {
   "cell_type": "markdown",
   "metadata": {},
   "source": [
    "#### Conclusion:\n",
    "\n"
   ]
  },
  {
   "cell_type": "code",
   "execution_count": null,
   "metadata": {},
   "outputs": [],
   "source": [
    "# Verify Men watch more drama than women\n",
    "total_men = movie_review_data[movie_review_data['gender'] == 'M'].shape[0]\n",
    "total_women = movie_review_data[movie_review_data['gender'] == 'F'].shape[0]\n",
    "no_of_men_watching_drama = \\\n",
    "movie_review_data[(movie_review_data['gender'] == 'M') & (movie_review_data['Drama'] == 1)].shape[0]\n",
    "no_of_women_watching_drama = \\\n",
    "movie_review_data[(movie_review_data['gender'] == 'F') & (movie_review_data['Drama'] == 1)].shape[0]\n",
    "percent_of_men_watching_drama = no_of_men_watching_drama * 100 / total_men\n",
    "percent_of_women_watching_drama = no_of_women_watching_drama * 100 / total_women\n",
    "print('Men watch more drama than women: {}'.format((percent_of_men_watching_drama > percent_of_women_watching_drama)))\n",
    "print('Percent of Men watching Drame: {} \\nPercent of Women watching Drame: {} '.format(percent_of_men_watching_drama,\n",
    "                                                                                        percent_of_women_watching_drama))"
   ]
  },
  {
   "cell_type": "code",
   "execution_count": null,
   "metadata": {},
   "outputs": [],
   "source": [
    "# Verify Women watch more Sci-Fi than men\n",
    "no_of_men_watching_scifi = \\\n",
    "movie_review_data[(movie_review_data['gender'] == 'M') & (movie_review_data['Sci-Fi'] == 1)].shape[0]\n",
    "no_of_women_watching_scifi = \\\n",
    "movie_review_data[(movie_review_data['gender'] == 'F') & (movie_review_data['Sci-Fi'] == 1)].shape[0]\n",
    "percent_of_men_watching_scifi = no_of_men_watching_scifi * 100 / total_men\n",
    "percent_of_women_watching_scifi = no_of_women_watching_scifi * 100 / total_women\n",
    "print('Women watch more Sci-Fi than Men: {}'.format((percent_of_men_watching_scifi < percent_of_women_watching_scifi)))\n",
    "print('Percent of Men watching Sci-Fi: {} \\nPercent of Women watching Sci-Fi: {} '.format(percent_of_men_watching_scifi,\n",
    "                                                                                          percent_of_women_watching_scifi))"
   ]
  },
  {
   "cell_type": "code",
   "execution_count": null,
   "metadata": {},
   "outputs": [],
   "source": [
    "# Verify Men watch more Romance than women\n",
    "no_of_men_watching_romance = \\\n",
    "movie_review_data[(movie_review_data['gender'] == 'M') & (movie_review_data['Romance'] == 1)].shape[0]\n",
    "no_of_women_watching_romance = \\\n",
    "movie_review_data[(movie_review_data['gender'] == 'F') & (movie_review_data['Romance'] == 1)].shape[0]\n",
    "percent_of_men_watching_romance = no_of_men_watching_romance * 100 / total_men\n",
    "percent_of_women_watching_romance = no_of_women_watching_romance * 100 / total_women\n",
    "print('Men watch more Roamnce than women: {}'.format(\n",
    "    (percent_of_men_watching_romance > percent_of_women_watching_romance)))\n",
    "print('Percent of Men watching Roamnce: {} \\nPercent of Women watching Roamnce: {} '.format(\n",
    "    percent_of_men_watching_romance, percent_of_women_watching_romance))\n"
   ]
  },
  {
   "cell_type": "code",
   "execution_count": null,
   "metadata": {},
   "outputs": [],
   "source": []
  }
 ],
 "metadata": {
  "kernelspec": {
   "display_name": "Python 3",
   "language": "python",
   "name": "python3"
  },
  "language_info": {
   "codemirror_mode": {
    "name": "ipython",
    "version": 3
   },
   "file_extension": ".py",
   "mimetype": "text/x-python",
   "name": "python",
   "nbconvert_exporter": "python",
   "pygments_lexer": "ipython3",
   "version": "3.7.6"
  }
 },
 "nbformat": 4,
 "nbformat_minor": 2
}
