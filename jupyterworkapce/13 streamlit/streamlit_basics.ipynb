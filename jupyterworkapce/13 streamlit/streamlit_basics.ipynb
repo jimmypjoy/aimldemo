{
 "cells": [
  {
   "cell_type": "markdown",
   "id": "f70b18fa",
   "metadata": {},
   "source": [
    "# to run the streamlit app locally"
   ]
  },
  {
   "cell_type": "markdown",
   "id": "4eb15f99",
   "metadata": {},
   "source": [
    "* C:\\Users\\jimmy\\AppData\\Roaming\\Python\\Python311\\Scripts\\streamlit run 'C:\\gitworkspace\\aimldemo\\jupyterworkapce\\13 streamlit\\strealit_app.py'"
   ]
  },
  {
   "cell_type": "code",
   "execution_count": 6,
   "id": "dc5089df",
   "metadata": {},
   "outputs": [
    {
     "name": "stdout",
     "output_type": "stream",
     "text": [
      "Streamlit, version 1.30.0\n"
     ]
    }
   ],
   "source": [
    "!C:\\Users\\jimmy\\AppData\\Roaming\\Python\\Python311\\Scripts\\streamlit version"
   ]
  },
  {
   "cell_type": "code",
   "execution_count": 7,
   "id": "955f87a1",
   "metadata": {},
   "outputs": [],
   "source": [
    "import streamlit as st"
   ]
  },
  {
   "cell_type": "code",
   "execution_count": 9,
   "id": "36b87e98",
   "metadata": {},
   "outputs": [
    {
     "name": "stderr",
     "output_type": "stream",
     "text": [
      "Usage: streamlit run [OPTIONS] TARGET [ARGS]...\n",
      "Try 'streamlit run --help' for help.\n",
      "\n",
      "Error: Streamlit requires raw Python (.py) files, but the provided file has no extension.\n",
      "For more information, please see https://docs.streamlit.io\n"
     ]
    }
   ],
   "source": [
    "!C:\\Users\\jimmy\\AppData\\Roaming\\Python\\Python311\\Scripts\\streamlit run 'C:\\gitworkspace\\aimldemo\\jupyterworkapce\\13 streamlit\\strealit_app.py'"
   ]
  },
  {
   "cell_type": "code",
   "execution_count": null,
   "id": "70f30cff",
   "metadata": {},
   "outputs": [],
   "source": []
  }
 ],
 "metadata": {
  "kernelspec": {
   "display_name": "Python 3 (ipykernel)",
   "language": "python",
   "name": "python3"
  },
  "language_info": {
   "codemirror_mode": {
    "name": "ipython",
    "version": 3
   },
   "file_extension": ".py",
   "mimetype": "text/x-python",
   "name": "python",
   "nbconvert_exporter": "python",
   "pygments_lexer": "ipython3",
   "version": "3.11.5"
  }
 },
 "nbformat": 4,
 "nbformat_minor": 5
}
