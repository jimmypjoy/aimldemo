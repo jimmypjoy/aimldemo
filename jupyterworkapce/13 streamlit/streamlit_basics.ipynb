{
 "cells": [
  {
   "cell_type": "markdown",
   "id": "f70b18fa",
   "metadata": {},
   "source": [
    "# To run the streamlit app locally"
   ]
  },
  {
   "cell_type": "code",
   "execution_count": 2,
   "id": "2ebadc7a",
   "metadata": {},
   "outputs": [],
   "source": [
    "import subprocess\n",
    "import time"
   ]
  },
  {
   "cell_type": "markdown",
   "id": "4eb15f99",
   "metadata": {},
   "source": [
    "* C:\\Users\\jimmy\\AppData\\Roaming\\Python\\Python311\\Scripts\\streamlit run 'C:\\gitworkspace\\aimldemo\\jupyterworkapce\\13 streamlit\\strealit_app.py'"
   ]
  },
  {
   "cell_type": "code",
   "execution_count": 3,
   "id": "dc5089df",
   "metadata": {},
   "outputs": [
    {
     "name": "stdout",
     "output_type": "stream",
     "text": [
      "Streamlit, version 1.30.0\n"
     ]
    }
   ],
   "source": [
    "!C:\\Users\\jimmy\\AppData\\Roaming\\Python\\Python311\\Scripts\\streamlit version"
   ]
  },
  {
   "cell_type": "code",
   "execution_count": 4,
   "id": "955f87a1",
   "metadata": {},
   "outputs": [],
   "source": [
    "import streamlit as st"
   ]
  },
  {
   "cell_type": "code",
   "execution_count": 5,
   "id": "36b87e98",
   "metadata": {},
   "outputs": [],
   "source": [
    "#!C:\\Users\\jimmy\\AppData\\Roaming\\Python\\Python311\\Scripts\\streamlit run 'C:\\gitworkspace\\aimldemo\\jupyterworkapce\\13 streamlit\\strealit_app.py'"
   ]
  },
  {
   "cell_type": "code",
   "execution_count": 6,
   "id": "70f30cff",
   "metadata": {},
   "outputs": [],
   "source": [
    "# Start the Streamlit app\n",
    "command = [\"C:\\\\Users\\\\jimmy\\\\AppData\\\\Roaming\\\\Python\\\\Python311\\\\Scripts\\\\streamlit\", \"run\", \"streamlit_app.py\"]\n",
    "process = subprocess.Popen(command)"
   ]
  },
  {
   "cell_type": "code",
   "execution_count": 7,
   "id": "86cc5a5a",
   "metadata": {},
   "outputs": [
    {
     "name": "stdout",
     "output_type": "stream",
     "text": [
      "Streamlit app started with PID: 21016\n"
     ]
    }
   ],
   "source": [
    "print(f\"Streamlit app started with PID: {process.pid}\")"
   ]
  },
  {
   "cell_type": "markdown",
   "id": "4f226073",
   "metadata": {},
   "source": [
    "# Stop the app"
   ]
  },
  {
   "cell_type": "code",
   "execution_count": 8,
   "id": "bfd02b4a",
   "metadata": {},
   "outputs": [
    {
     "name": "stdout",
     "output_type": "stream",
     "text": [
      "Streamlit app with PID 21016 has been stopped.\n"
     ]
    }
   ],
   "source": [
    "# Stop the Streamlit app\n",
    "process.terminate()\n",
    "print(f\"Streamlit app with PID {process.pid} has been stopped.\")"
   ]
  },
  {
   "cell_type": "code",
   "execution_count": null,
   "id": "5e8b9174",
   "metadata": {},
   "outputs": [],
   "source": []
  }
 ],
 "metadata": {
  "kernelspec": {
   "display_name": "Python 3 (ipykernel)",
   "language": "python",
   "name": "python3"
  },
  "language_info": {
   "codemirror_mode": {
    "name": "ipython",
    "version": 3
   },
   "file_extension": ".py",
   "mimetype": "text/x-python",
   "name": "python",
   "nbconvert_exporter": "python",
   "pygments_lexer": "ipython3",
   "version": "3.11.5"
  }
 },
 "nbformat": 4,
 "nbformat_minor": 5
}
