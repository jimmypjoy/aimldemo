{
 "cells": [
  {
   "cell_type": "markdown",
   "metadata": {},
   "source": [
    "# NumPy\n",
    "\n",
    "numpy is python's package for doing math that is more advanced than +-*/\n",
    "\n",
    "This includes special functions like cosine, exponential, sqrt, ...\n",
    "\n",
    "On top of this we can use numpy to generate samples from many types of random variables\n",
    "\n",
    "numpy also has a powerful data type to define vectors, matrices, and tensors\n",
    "\n",
    "With these data types numpy also allows us to do linear algebra - matrix multiplication and matrix-vector solutions"
   ]
  },
  {
   "cell_type": "code",
   "execution_count": 1,
   "metadata": {},
   "outputs": [],
   "source": [
    "# the first step of using numpy is to tell python to use it\n",
    "import numpy as np"
   ]
  },
  {
   "cell_type": "code",
   "execution_count": 2,
   "metadata": {},
   "outputs": [
    {
     "name": "stdout",
     "output_type": "stream",
     "text": [
      "-1.0\n",
      "1.1\n",
      "5.2\n"
     ]
    }
   ],
   "source": [
    "print(np.cos(np.pi))\n",
    "print(np.sqrt(1.21))\n",
    "print(np.log(np.exp(5.2)))"
   ]
  },
  {
   "cell_type": "code",
   "execution_count": 3,
   "metadata": {},
   "outputs": [
    {
     "name": "stdout",
     "output_type": "stream",
     "text": [
      "[1 2 3]\n",
      "\n",
      "[[1 2 1]\n",
      " [4 5 9]\n",
      " [1 8 9]]\n",
      "\n",
      "[[1 4 1]\n",
      " [2 5 8]\n",
      " [1 9 9]]\n"
     ]
    }
   ],
   "source": [
    "# we can create numpy arrays by converting lists\n",
    "# this is a vector\n",
    "vec = np.array([1,2,3])\n",
    "print(vec)\n",
    "# we can create matrices by converting lists of lists\n",
    "mat = np.array([[1,2,1],[4,5,9],[1,8,9]])\n",
    "print('')\n",
    "print(mat)\n",
    "print('')\n",
    "print(mat.T)"
   ]
  },
  {
   "cell_type": "code",
   "execution_count": 4,
   "metadata": {},
   "outputs": [
    {
     "name": "stdout",
     "output_type": "stream",
     "text": [
      "[ 0  1  2  3  4  5  6  7  8  9 10 11 12 13 14]\n",
      "\n",
      "[ 3  9 15]\n"
     ]
    }
   ],
   "source": [
    "# there are lots of other ways to create numpy arrays\n",
    "vec2 = np.arange(0,15)\n",
    "print(vec2)\n",
    "print('')\n",
    "vec3 = np.arange(3,21,6)\n",
    "print(vec3)\n"
   ]
  },
  {
   "cell_type": "code",
   "execution_count": 5,
   "metadata": {},
   "outputs": [
    {
     "name": "stdout",
     "output_type": "stream",
     "text": [
      "[0.         0.55555556 1.11111111 1.66666667 2.22222222 2.77777778\n",
      " 3.33333333 3.88888889 4.44444444 5.        ]\n",
      "\n",
      "[[0.         0.55555556]\n",
      " [1.11111111 1.66666667]\n",
      " [2.22222222 2.77777778]\n",
      " [3.33333333 3.88888889]\n",
      " [4.44444444 5.        ]]\n",
      "[[0.         0.55555556]\n",
      " [1.11111111 1.66666667]\n",
      " [2.22222222 2.77777778]\n",
      " [3.33333333 3.88888889]\n",
      " [4.44444444 5.        ]]\n",
      "[0.         0.55555556 1.11111111 1.66666667 2.22222222 2.77777778\n",
      " 3.33333333 3.88888889 4.44444444 5.        ]\n"
     ]
    }
   ],
   "source": [
    "\n",
    "vec4 = np.linspace(0,5,10)\n",
    "print(vec4)\n",
    "print('')\n",
    "print(vec4.reshape(5,2))\n",
    "vec4_reshaped = vec4.reshape(5,2)\n",
    "print(vec4_reshaped)\n",
    "print(vec4)"
   ]
  },
  {
   "cell_type": "code",
   "execution_count": 6,
   "metadata": {},
   "outputs": [
    {
     "name": "stdout",
     "output_type": "stream",
     "text": [
      "[[0. 0. 0.]\n",
      " [0. 0. 0.]\n",
      " [0. 0. 0.]\n",
      " [0. 0. 0.]\n",
      " [0. 0. 0.]]\n",
      "\n",
      "[[1. 1. 1. 1. 1.]\n",
      " [1. 1. 1. 1. 1.]\n",
      " [1. 1. 1. 1. 1.]]\n",
      "\n",
      "[[1. 0. 0. 0. 0.]\n",
      " [0. 1. 0. 0. 0.]\n",
      " [0. 0. 1. 0. 0.]\n",
      " [0. 0. 0. 1. 0.]\n",
      " [0. 0. 0. 0. 1.]]\n"
     ]
    }
   ],
   "source": [
    "mat2 = np.zeros([5,3])\n",
    "print(mat2)\n",
    "mat3 = np.ones((3,5))\n",
    "print('')\n",
    "print(mat3)\n",
    "mat4 = np.eye(5)\n",
    "print('')\n",
    "print(mat4)"
   ]
  },
  {
   "cell_type": "code",
   "execution_count": 7,
   "metadata": {},
   "outputs": [
    {
     "name": "stdout",
     "output_type": "stream",
     "text": [
      "[1 2 3 4 5]\n",
      "[3 4 5 6 7]\n",
      "[ 4  6  8 10 12]\n",
      "[ 3  8 15 24 35]\n",
      "[1.         0.5        0.33333333 0.25       0.2       ]\n",
      "[1.73205081 2.         2.23606798 2.44948974 2.64575131]\n"
     ]
    }
   ],
   "source": [
    "# we can +-*/ arrays together if they're the right size\n",
    "vec5 = np.arange(1,6)\n",
    "vec6 = np.arange(3,8)\n",
    "print(vec5)\n",
    "print(vec6)\n",
    "print(vec5+vec6)\n",
    "print(vec5*vec6)\n",
    "print(1/vec5)\n",
    "print(np.sqrt(vec6))"
   ]
  },
  {
   "cell_type": "code",
   "execution_count": 8,
   "metadata": {},
   "outputs": [
    {
     "name": "stdout",
     "output_type": "stream",
     "text": [
      "[[1 2 1]\n",
      " [4 5 9]\n",
      " [1 8 9]]\n",
      "\n",
      "[1 2 3]\n",
      "\n",
      "[ 8 41 44]\n"
     ]
    }
   ],
   "source": [
    "# we can do matrix multiplication\n",
    "print(mat)\n",
    "print('')\n",
    "print(vec)\n",
    "print()\n",
    "product = np.matmul(mat,vec)\n",
    "print(product)"
   ]
  },
  {
   "cell_type": "code",
   "execution_count": 9,
   "metadata": {},
   "outputs": [
    {
     "name": "stdout",
     "output_type": "stream",
     "text": [
      "[1. 2. 3.]\n",
      "\n",
      "[[ 0.5         0.18518519 -0.24074074]\n",
      " [ 0.5        -0.14814815  0.09259259]\n",
      " [-0.5         0.11111111  0.05555556]]\n"
     ]
    }
   ],
   "source": [
    "print(np.linalg.solve(mat,product))\n",
    "print('')\n",
    "print(np.linalg.inv(mat))"
   ]
  },
  {
   "cell_type": "code",
   "execution_count": 10,
   "metadata": {},
   "outputs": [
    {
     "name": "stdout",
     "output_type": "stream",
     "text": [
      "['blue' 'red' 'orange' 'purple' 'purple' 'orange' 'Red' '6']\n",
      "['6' 'Red' 'blue' 'orange' 'purple' 'red']\n"
     ]
    }
   ],
   "source": [
    "# we can find the unique values in an array\n",
    "vec7 = np.array(['blue','red','orange','purple','purple','orange','Red',6])\n",
    "print(vec7)\n",
    "print(np.unique(vec7))"
   ]
  },
  {
   "cell_type": "code",
   "execution_count": 11,
   "metadata": {},
   "outputs": [
    {
     "name": "stdout",
     "output_type": "stream",
     "text": [
      "[[0.83059537 0.12666685 0.1196991  0.99406731 0.52583655]\n",
      " [0.72634856 0.1605605  0.21610877 0.1180551  0.80609238]\n",
      " [0.54732923 0.65839349 0.98003778 0.40722124 0.06625722]\n",
      " [0.84201423 0.57696628 0.73730935 0.74917778 0.35955217]\n",
      " [0.40651619 0.28411825 0.08367409 0.04887732 0.16738089]]\n",
      "\n",
      "[[-0.83404353 -0.02352917 -0.70687553 -0.06439323  0.79748248]\n",
      " [ 0.25191872 -0.02172114  0.54988366 -1.19072618  0.06151818]\n",
      " [-0.56871168 -0.45973984 -0.69417228 -0.91221709  1.98357282]\n",
      " [-0.25427228  1.35615765  0.19621822 -1.18168657 -0.08240062]\n",
      " [ 0.72797836 -2.3833607   1.12541374 -0.46534616 -0.99710864]\n",
      " [-0.86305669  0.88564287  0.26260307  0.83589873  0.31750389]\n",
      " [ 0.59630382 -0.61711844  0.40535625 -1.05084538 -0.78281654]\n",
      " [-0.05411213  1.33260329 -0.27961213  0.74612601 -0.32486929]\n",
      " [-1.41570873  0.3110597   2.20681936 -0.64093171 -0.01702433]\n",
      " [ 0.0140522   1.1996399  -1.17640013 -0.14685086  1.16916937]]\n"
     ]
    }
   ],
   "source": [
    "# we can also use numpy to generate samples of a random variable\n",
    "rand_mat = np.random.rand(5,5) # uniform random variable\n",
    "print(rand_mat)\n",
    "rand_mat2 = np.random.randn(10,5) # standard normal random variable\n",
    "print('')\n",
    "print(rand_mat2)"
   ]
  },
  {
   "cell_type": "code",
   "execution_count": 12,
   "metadata": {},
   "outputs": [
    {
     "name": "stdout",
     "output_type": "stream",
     "text": [
      "0.4615542400789372\n",
      "0.9005964009142994\n"
     ]
    }
   ],
   "source": [
    "# we can also use numpy for statistical tools on arrays\n",
    "print(np.mean(rand_mat))\n",
    "print(np.std(rand_mat2))"
   ]
  },
  {
   "cell_type": "code",
   "execution_count": 13,
   "metadata": {},
   "outputs": [
    {
     "name": "stdout",
     "output_type": "stream",
     "text": [
      "0.04887732111344878\n",
      "2.2068193587239393\n"
     ]
    }
   ],
   "source": [
    "print(np.min(rand_mat))\n",
    "print(np.max(rand_mat2))"
   ]
  },
  {
   "cell_type": "code",
   "execution_count": 14,
   "metadata": {},
   "outputs": [],
   "source": [
    "# break here for next video!"
   ]
  },
  {
   "cell_type": "code",
   "execution_count": 15,
   "metadata": {},
   "outputs": [
    {
     "name": "stdout",
     "output_type": "stream",
     "text": [
      "[ 1.24466342 -0.05175066  0.59064507  0.05026384  0.37560707 -0.70510198\n",
      " -0.44727676  1.91620867 -0.28764887  0.26080504 -0.62590064  1.64958164\n",
      "  0.08423595  0.43315862 -0.9953902   0.30019598  1.31272033  0.07285763\n",
      "  1.0133767 ]\n",
      "-0.44727675673571277\n"
     ]
    }
   ],
   "source": [
    "# how do we access entries in a numpy vector\n",
    "rand_vec = np.random.randn(19)\n",
    "print(rand_vec)\n",
    "print(rand_vec[6])"
   ]
  },
  {
   "cell_type": "code",
   "execution_count": 16,
   "metadata": {},
   "outputs": [
    {
     "name": "stdout",
     "output_type": "stream",
     "text": [
      "[ 0.37560707 -0.70510198 -0.44727676  1.91620867 -0.28764887]\n"
     ]
    }
   ],
   "source": [
    "# we can access multiple entries at once using :\n",
    "print(rand_vec[4:9])"
   ]
  },
  {
   "cell_type": "code",
   "execution_count": 17,
   "metadata": {},
   "outputs": [
    {
     "name": "stdout",
     "output_type": "stream",
     "text": [
      "[ 0  3  6  9 12]\n",
      "[ 1.24466342  0.05026384 -0.44727676  0.26080504  0.08423595]\n"
     ]
    }
   ],
   "source": [
    "# we can also access multiple non-consecutive entries using np.arange\n",
    "print(np.arange(0,15,3))\n",
    "print(rand_vec[np.arange(0,15,3)])"
   ]
  },
  {
   "cell_type": "code",
   "execution_count": 18,
   "metadata": {},
   "outputs": [
    {
     "name": "stdout",
     "output_type": "stream",
     "text": [
      "[[0.83059537 0.12666685 0.1196991  0.99406731 0.52583655]\n",
      " [0.72634856 0.1605605  0.21610877 0.1180551  0.80609238]\n",
      " [0.54732923 0.65839349 0.98003778 0.40722124 0.06625722]\n",
      " [0.84201423 0.57696628 0.73730935 0.74917778 0.35955217]\n",
      " [0.40651619 0.28411825 0.08367409 0.04887732 0.16738089]]\n",
      "0.21610876621185326\n",
      "0.21610876621185326\n"
     ]
    }
   ],
   "source": [
    "# what about matrices\n",
    "print(rand_mat)\n",
    "print(rand_mat[1][2])\n",
    "print(rand_mat[1,2])\n"
   ]
  },
  {
   "cell_type": "code",
   "execution_count": 19,
   "metadata": {},
   "outputs": [
    {
     "name": "stdout",
     "output_type": "stream",
     "text": [
      "[[0.12666685 0.1196991 ]\n",
      " [0.1605605  0.21610877]]\n"
     ]
    }
   ],
   "source": [
    "print(rand_mat[0:2,1:3])"
   ]
  },
  {
   "cell_type": "code",
   "execution_count": 20,
   "metadata": {},
   "outputs": [
    {
     "name": "stdout",
     "output_type": "stream",
     "text": [
      "[ 1.24466342 -0.05175066  0.59064507  0.05026384  0.37560707 -0.70510198\n",
      " -0.44727676  1.91620867 -0.28764887  0.26080504 -0.62590064  1.64958164\n",
      "  0.08423595  0.43315862 -0.9953902   0.30019598  1.31272033  0.07285763\n",
      "  1.0133767 ]\n",
      "\n",
      "[ 1.24466342 -0.05175066  0.59064507  4.          4.         -0.70510198\n",
      " -0.44727676  1.91620867 -0.28764887  0.26080504 -0.62590064  1.64958164\n",
      "  0.08423595  0.43315862 -0.9953902   0.30019598  1.31272033  0.07285763\n",
      "  1.0133767 ]\n",
      "\n",
      "[ 1.24466342 -0.05175066  0.59064507  1.          2.         -0.70510198\n",
      " -0.44727676  1.91620867 -0.28764887  0.26080504 -0.62590064  1.64958164\n",
      "  0.08423595  0.43315862 -0.9953902   0.30019598  1.31272033  0.07285763\n",
      "  1.0133767 ]\n"
     ]
    }
   ],
   "source": [
    "# let's change some values in an array!\n",
    "print(rand_vec)\n",
    "rand_vec[3:5] = 4\n",
    "print('')\n",
    "print(rand_vec)\n",
    "rand_vec[3:5] = [1,2]\n",
    "print('')\n",
    "print(rand_vec)"
   ]
  },
  {
   "cell_type": "code",
   "execution_count": 21,
   "metadata": {},
   "outputs": [
    {
     "name": "stdout",
     "output_type": "stream",
     "text": [
      "[[0.83059537 0.12666685 0.1196991  0.99406731 0.52583655]\n",
      " [0.72634856 0.1605605  0.21610877 0.1180551  0.80609238]\n",
      " [0.54732923 0.65839349 0.98003778 0.40722124 0.06625722]\n",
      " [0.84201423 0.57696628 0.73730935 0.74917778 0.35955217]\n",
      " [0.40651619 0.28411825 0.08367409 0.04887732 0.16738089]]\n",
      "\n",
      "[[0.83059537 0.12666685 0.1196991  0.99406731 0.52583655]\n",
      " [0.72634856 0.1605605  0.21610877 0.         0.        ]\n",
      " [0.54732923 0.65839349 0.98003778 0.         0.        ]\n",
      " [0.84201423 0.57696628 0.73730935 0.74917778 0.35955217]\n",
      " [0.40651619 0.28411825 0.08367409 0.04887732 0.16738089]]\n"
     ]
    }
   ],
   "source": [
    "print(rand_mat)\n",
    "rand_mat[1:3,3:5] = 0\n",
    "print('')\n",
    "print(rand_mat)"
   ]
  },
  {
   "cell_type": "code",
   "execution_count": 22,
   "metadata": {},
   "outputs": [
    {
     "name": "stdout",
     "output_type": "stream",
     "text": [
      "[[0.83059537 0.12666685 0.1196991 ]\n",
      " [0.72634856 0.1605605  0.21610877]]\n",
      "[[3. 3. 3.]\n",
      " [3. 3. 3.]]\n"
     ]
    }
   ],
   "source": [
    "sub_mat = rand_mat[0:2,0:3]\n",
    "print(sub_mat)\n",
    "sub_mat[:] = 3\n",
    "print(sub_mat)\n"
   ]
  },
  {
   "cell_type": "code",
   "execution_count": 23,
   "metadata": {},
   "outputs": [
    {
     "name": "stdout",
     "output_type": "stream",
     "text": [
      "[[3.         3.         3.         0.99406731 0.52583655]\n",
      " [3.         3.         3.         0.         0.        ]\n",
      " [0.54732923 0.65839349 0.98003778 0.         0.        ]\n",
      " [0.84201423 0.57696628 0.73730935 0.74917778 0.35955217]\n",
      " [0.40651619 0.28411825 0.08367409 0.04887732 0.16738089]]\n"
     ]
    }
   ],
   "source": [
    "print(rand_mat)"
   ]
  },
  {
   "cell_type": "code",
   "execution_count": 24,
   "metadata": {},
   "outputs": [
    {
     "name": "stdout",
     "output_type": "stream",
     "text": [
      "[[99. 99. 99.]\n",
      " [99. 99. 99.]]\n",
      "[[3.         3.         3.         0.99406731 0.52583655]\n",
      " [3.         3.         3.         0.         0.        ]\n",
      " [0.54732923 0.65839349 0.98003778 0.         0.        ]\n",
      " [0.84201423 0.57696628 0.73730935 0.74917778 0.35955217]\n",
      " [0.40651619 0.28411825 0.08367409 0.04887732 0.16738089]]\n"
     ]
    }
   ],
   "source": [
    "sub_mat2 = rand_mat[0:2,0:3].copy()\n",
    "sub_mat2[:] = 99\n",
    "print(sub_mat2)\n",
    "print(rand_mat)\n"
   ]
  },
  {
   "cell_type": "code",
   "execution_count": 25,
   "metadata": {},
   "outputs": [],
   "source": [
    "# break here for next video"
   ]
  },
  {
   "cell_type": "code",
   "execution_count": 26,
   "metadata": {},
   "outputs": [
    {
     "name": "stdout",
     "output_type": "stream",
     "text": [
      "[-0.94262519  0.66677871 -0.23818523  0.86558486 -0.73625392 -1.02315632\n",
      " -0.02788809 -0.3772447   0.0143068  -1.33347044 -0.23538894 -0.07564612\n",
      "  0.47434641  0.83389878  0.02243637]\n",
      "[False  True False  True False False False False  True False False False\n",
      "  True  True  True]\n",
      "[0.66677871 0.86558486 0.0143068  0.47434641 0.83389878 0.02243637]\n"
     ]
    }
   ],
   "source": [
    "# we can also access entries with logicals\n",
    "rand_vec = np.random.randn(15)\n",
    "\n",
    "print(rand_vec)\n",
    "print(rand_vec>0)\n",
    "print(rand_vec[rand_vec>0])"
   ]
  },
  {
   "cell_type": "code",
   "execution_count": 27,
   "metadata": {},
   "outputs": [
    {
     "name": "stdout",
     "output_type": "stream",
     "text": [
      "[[-0.83404353 -0.02352917 -0.70687553 -0.06439323  0.79748248]\n",
      " [ 0.25191872 -0.02172114  0.54988366 -1.19072618  0.06151818]\n",
      " [-0.56871168 -0.45973984 -0.69417228 -0.91221709  1.98357282]\n",
      " [-0.25427228  1.35615765  0.19621822 -1.18168657 -0.08240062]\n",
      " [ 0.72797836 -2.3833607   1.12541374 -0.46534616 -0.99710864]\n",
      " [-0.86305669  0.88564287  0.26260307  0.83589873  0.31750389]\n",
      " [ 0.59630382 -0.61711844  0.40535625 -1.05084538 -0.78281654]\n",
      " [-0.05411213  1.33260329 -0.27961213  0.74612601 -0.32486929]\n",
      " [-1.41570873  0.3110597   2.20681936 -0.64093171 -0.01702433]\n",
      " [ 0.0140522   1.1996399  -1.17640013 -0.14685086  1.16916937]]\n",
      "[0.79748248 0.25191872 0.54988366 0.06151818 1.98357282 1.35615765\n",
      " 0.19621822 0.72797836 1.12541374 0.88564287 0.26260307 0.83589873\n",
      " 0.31750389 0.59630382 0.40535625 1.33260329 0.74612601 0.3110597\n",
      " 2.20681936 0.0140522  1.1996399  1.16916937]\n"
     ]
    }
   ],
   "source": [
    "print(rand_mat2)\n",
    "print(rand_mat2[rand_mat2>0])"
   ]
  },
  {
   "cell_type": "code",
   "execution_count": 28,
   "metadata": {},
   "outputs": [
    {
     "name": "stdout",
     "output_type": "stream",
     "text": [
      "[-0.94262519  0.66677871 -0.23818523  0.86558486 -0.73625392 -1.02315632\n",
      " -0.02788809 -0.3772447   0.0143068  -1.33347044 -0.23538894 -0.07564612\n",
      "  0.47434641  0.83389878  0.02243637]\n",
      "\n",
      "[-0.94262519 -5.         -0.23818523 -5.         -0.73625392 -1.02315632\n",
      " -0.02788809 -0.3772447   0.0143068  -1.33347044 -0.23538894 -0.07564612\n",
      "  0.47434641 -5.          0.02243637]\n"
     ]
    }
   ],
   "source": [
    "\n",
    "print(rand_vec)\n",
    "print('')\n",
    "rand_vec[rand_vec>0.5] = -5\n",
    "print(rand_vec)"
   ]
  },
  {
   "cell_type": "code",
   "execution_count": 29,
   "metadata": {},
   "outputs": [],
   "source": [
    "# let's save some arrays on the disk for use later!\n",
    "np.save('saved_file_name',rand_mat2)\n"
   ]
  },
  {
   "cell_type": "code",
   "execution_count": 30,
   "metadata": {},
   "outputs": [],
   "source": [
    "np.savez('zipped_file_name',rand_mat=rand_mat,rand_mat2=rand_mat2)"
   ]
  },
  {
   "cell_type": "code",
   "execution_count": 31,
   "metadata": {},
   "outputs": [
    {
     "name": "stdout",
     "output_type": "stream",
     "text": [
      "[[-0.83404353 -0.02352917 -0.70687553 -0.06439323  0.79748248]\n",
      " [ 0.25191872 -0.02172114  0.54988366 -1.19072618  0.06151818]\n",
      " [-0.56871168 -0.45973984 -0.69417228 -0.91221709  1.98357282]\n",
      " [-0.25427228  1.35615765  0.19621822 -1.18168657 -0.08240062]\n",
      " [ 0.72797836 -2.3833607   1.12541374 -0.46534616 -0.99710864]\n",
      " [-0.86305669  0.88564287  0.26260307  0.83589873  0.31750389]\n",
      " [ 0.59630382 -0.61711844  0.40535625 -1.05084538 -0.78281654]\n",
      " [-0.05411213  1.33260329 -0.27961213  0.74612601 -0.32486929]\n",
      " [-1.41570873  0.3110597   2.20681936 -0.64093171 -0.01702433]\n",
      " [ 0.0140522   1.1996399  -1.17640013 -0.14685086  1.16916937]]\n",
      "\n",
      "<numpy.lib.npyio.NpzFile object at 0x000001A90FA78F88>\n"
     ]
    }
   ],
   "source": [
    "# now let's load it\n",
    "loaded_vec = np.load('saved_file_name.npy')\n",
    "loaded_zip = np.load('zipped_file_name.npz')\n",
    "\n",
    "print(loaded_vec)\n",
    "print('')\n",
    "print(loaded_zip)"
   ]
  },
  {
   "cell_type": "code",
   "execution_count": 32,
   "metadata": {},
   "outputs": [
    {
     "name": "stdout",
     "output_type": "stream",
     "text": [
      "[[3.         3.         3.         0.99406731 0.52583655]\n",
      " [3.         3.         3.         0.         0.        ]\n",
      " [0.54732923 0.65839349 0.98003778 0.         0.        ]\n",
      " [0.84201423 0.57696628 0.73730935 0.74917778 0.35955217]\n",
      " [0.40651619 0.28411825 0.08367409 0.04887732 0.16738089]]\n",
      "\n",
      "[[-0.83404353 -0.02352917 -0.70687553 -0.06439323  0.79748248]\n",
      " [ 0.25191872 -0.02172114  0.54988366 -1.19072618  0.06151818]\n",
      " [-0.56871168 -0.45973984 -0.69417228 -0.91221709  1.98357282]\n",
      " [-0.25427228  1.35615765  0.19621822 -1.18168657 -0.08240062]\n",
      " [ 0.72797836 -2.3833607   1.12541374 -0.46534616 -0.99710864]\n",
      " [-0.86305669  0.88564287  0.26260307  0.83589873  0.31750389]\n",
      " [ 0.59630382 -0.61711844  0.40535625 -1.05084538 -0.78281654]\n",
      " [-0.05411213  1.33260329 -0.27961213  0.74612601 -0.32486929]\n",
      " [-1.41570873  0.3110597   2.20681936 -0.64093171 -0.01702433]\n",
      " [ 0.0140522   1.1996399  -1.17640013 -0.14685086  1.16916937]]\n",
      "[[3.         3.         3.         0.99406731 0.52583655]\n",
      " [3.         3.         3.         0.         0.        ]\n",
      " [0.54732923 0.65839349 0.98003778 0.         0.        ]\n",
      " [0.84201423 0.57696628 0.73730935 0.74917778 0.35955217]\n",
      " [0.40651619 0.28411825 0.08367409 0.04887732 0.16738089]]\n"
     ]
    }
   ],
   "source": [
    "print(loaded_zip['rand_mat'])\n",
    "print('')\n",
    "print(loaded_zip['rand_mat2'])\n",
    "\n",
    "new_array  = loaded_zip['rand_mat']\n",
    "print(new_array)"
   ]
  },
  {
   "cell_type": "code",
   "execution_count": 33,
   "metadata": {},
   "outputs": [
    {
     "name": "stdout",
     "output_type": "stream",
     "text": [
      "[[3.         3.         3.         0.99406731 0.52583655]\n",
      " [3.         3.         3.         0.         0.        ]\n",
      " [0.54732923 0.65839349 0.98003778 0.         0.        ]\n",
      " [0.84201423 0.57696628 0.73730935 0.74917778 0.35955217]\n",
      " [0.40651619 0.28411825 0.08367409 0.04887732 0.16738089]]\n",
      "\n",
      "[[3.         3.         3.         0.99406731 0.52583655]\n",
      " [3.         3.         3.         0.         0.        ]\n",
      " [0.54732923 0.65839349 0.98003778 0.         0.        ]\n",
      " [0.84201423 0.57696628 0.73730935 0.74917778 0.35955217]\n",
      " [0.40651619 0.28411825 0.08367409 0.04887732 0.16738089]]\n"
     ]
    }
   ],
   "source": [
    "# we can also save/load as text files...but only single variables\n",
    "np.savetxt('text_file_name.txt',rand_mat,delimiter=',')\n",
    "rand_mat_txt = np.loadtxt('text_file_name.txt',delimiter=',')\n",
    "print(rand_mat)\n",
    "print('')\n",
    "print(rand_mat_txt)"
   ]
  },
  {
   "cell_type": "code",
   "execution_count": null,
   "metadata": {},
   "outputs": [],
   "source": []
  }
 ],
 "metadata": {
  "kernelspec": {
   "display_name": "Python 3",
   "language": "python",
   "name": "python3"
  },
  "language_info": {
   "codemirror_mode": {
    "name": "ipython",
    "version": 3
   },
   "file_extension": ".py",
   "mimetype": "text/x-python",
   "name": "python",
   "nbconvert_exporter": "python",
   "pygments_lexer": "ipython3",
   "version": "3.7.6"
  }
 },
 "nbformat": 4,
 "nbformat_minor": 2
}
