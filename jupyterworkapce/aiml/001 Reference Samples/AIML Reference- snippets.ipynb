{
 "cells": [
  {
   "cell_type": "code",
   "execution_count": 2,
   "metadata": {},
   "outputs": [],
   "source": [
    "import numpy as np\n",
    "import pandas as pd"
   ]
  },
  {
   "cell_type": "code",
   "execution_count": 3,
   "metadata": {},
   "outputs": [],
   "source": [
    "df = pd.read_csv('uberdrive.csv')\n"
   ]
  },
  {
   "cell_type": "markdown",
   "metadata": {},
   "source": [
    "#### Binning\n",
    "\n",
    "bin_edges = [0, 500, 1000,1500,2000, 2500, 5000, 7500, 10000, 15000, 20000]         # edges to define intervals\n",
    "bin_labels = ['0-500', '501-1000', '1001-1500','1501-2000', '2001-2500', '2501-5000', '5001-7500','7501-10000', '10001-15000', '15001-20000']               # labels to denote each interval\n",
    "credit_df['CreditAmount'] = pd.cut(credit_df['CreditAmount'], bins=bin_edges , labels=bin_labels)\n",
    " pd.cut is used to divide the continous column in different groups as per bin egges and named according to bin label."
   ]
  },
  {
   "cell_type": "markdown",
   "metadata": {},
   "source": [
    "credit_df['CreditAmount'] = credit_df['CreditAmount'].cat.codes\n",
    "\n",
    " Converting categorical values inot numbers w.r.t their order, 0-500 is '0' and 15001-20000 is '9'"
   ]
  },
  {
   "cell_type": "markdown",
   "metadata": {},
   "source": [
    "# Visualization"
   ]
  },
  {
   "cell_type": "code",
   "execution_count": null,
   "metadata": {},
   "outputs": [],
   "source": []
  }
 ],
 "metadata": {
  "kernelspec": {
   "display_name": "Python 3",
   "language": "python",
   "name": "python3"
  },
  "language_info": {
   "codemirror_mode": {
    "name": "ipython",
    "version": 3
   },
   "file_extension": ".py",
   "mimetype": "text/x-python",
   "name": "python",
   "nbconvert_exporter": "python",
   "pygments_lexer": "ipython3",
   "version": "3.8.3"
  }
 },
 "nbformat": 4,
 "nbformat_minor": 4
}
