{
 "cells": [
  {
   "cell_type": "markdown",
   "metadata": {
    "colab_type": "text",
    "id": "l9UVOxSmU_om"
   },
   "source": [
    "----------------------------------\n",
    "# Case Study: Factors Influencing Life Expectancy using **Linear Regression**\n",
    "----------------------------------"
   ]
  },
  {
   "cell_type": "markdown",
   "metadata": {
    "colab_type": "text",
    "id": "ZX59mdQ7VlIK"
   },
   "source": [
    "## Context: \n",
    "    \n",
    "- There have been lot of studies undertaken in the past, on factors affecting life expectancy, considering demographic variables, income composition and mortality rates.\n",
    "- It was found that affect of immunization and human development index was not taken into account in the past.\n",
    "- Important immunization like Hepatitis B, Polio and Diphtheria will also be considered. In a nutshell, this case study will focus on immunization factors, mortality factors, economic factors, social factors and other health related factors as well.\n",
    "- In this case study, we will use linear regression to see the effect of various factors on Life Expectancy."
   ]
  },
  {
   "cell_type": "markdown",
   "metadata": {
    "colab_type": "text",
    "id": "l8E1Iv6dWVw0"
   },
   "source": [
    "------------------------------"
   ]
  },
  {
   "cell_type": "markdown",
   "metadata": {
    "colab_type": "text",
    "id": "JB1GE8JTWXUo"
   },
   "source": [
    "## Problem:\n",
    "\n",
    "**The data-set aims to answer the following key questions:**\n",
    "\n",
    "- Does various predicting factors really affect the Life expectancy?\n",
    "- What are the predicting variables actually affecting the life expectancy?\n",
    "- Should a country having a lower life expectancy value increase its healthcare expenditure in order to improve its average lifespan?\n",
    "- Do Infant and Adult mortality rates affect life expectancy?\n",
    "- Does Life Expectancy has positive or negative correlation with a country's status (developing or developed), lifestyle, GDP,  etc.\n",
    "- What is the impact of schooling on the lifespan of humans?\n",
    "- Does Life Expectancy have positive or negative relationship with drinking alcohol?\n",
    "- What is the impact of Immunization coverage (for various disease like Measles,Hepatitis B) on life Expectancy?"
   ]
  },
  {
   "cell_type": "markdown",
   "metadata": {
    "colab_type": "text",
    "id": "sW6HVdi8XE4R"
   },
   "source": [
    "------------------------------"
   ]
  },
  {
   "cell_type": "markdown",
   "metadata": {
    "colab_type": "text",
    "id": "b3OLaXYDXGky"
   },
   "source": [
    "## Attribute Information:\n",
    "\n",
    "- Country: Country\n",
    "- Year: Year\n",
    "- Status: Developed or Developing status\n",
    "- Life expectancy: Life Expectancy in age\n",
    "- Adult Mortality: Adult Mortality Rates of both sexes (probability of dying between 15 and 60 years per 1000 population)\n",
    "- infant deaths: Number of Infant Deaths per 1000 population\n",
    "- Alcohol: Alcohol, recorded per capita (15+) consumption (in litres of pure alcohol)\n",
    "- percentage expenditure: Expenditure on health as a percentage of Gross Domestic Product per capita(%)\n",
    "- Hepatitis B: Hepatitis B (HepB) immunization coverage among 1-year-olds (%)\n",
    "- Measles: Measles - number of reported cases per 1000 population\n",
    "- BMI: Average Body Mass Index of entire population\n",
    "- under-five deaths: Number of under-five deaths per 1000 population\n",
    "- Polio: Polio (Pol3) immunization coverage among 1-year-olds (%)\n",
    "- Total expenditure: General government expenditure on health as a percentage of total government expenditure (%)\n",
    "- Diphtheria: Diphtheria tetanus toxoid and pertussis (DTP3) immunization coverage among 1-year-olds (%)\n",
    "- HIV/AIDS: Deaths per 1 000 live births HIV/AIDS (0-4 years)\n",
    "- GDP: Gross Domestic Product per capita (in USD)\n",
    "- Population: Population of the country\n",
    "- thinness  1-19 years: Prevalence of thinness among children and adolescents for Age 10 to 19 (% )\n",
    "- thinness 5-9 years: Prevalence of thinness among children for Age 5 to 9(%)\n",
    "- Income composition of resources: Human Development Index in terms of income composition of resources (index ranging from 0 to 1)\n",
    "- Schooling: Number of years of Schooling(years)"
   ]
  },
  {
   "cell_type": "markdown",
   "metadata": {
    "colab_type": "text",
    "id": "_NHrDBauZdxs"
   },
   "source": [
    "------------------------\n",
    "# Concepts to Cover\n",
    "------------------------\n",
    "- 1. <a href = #link1>Overview of the data</a>\n",
    "- 2. <a href = #link2>Data Visualization</a>\n",
    "- 3. <a href = #link3>Data Preparation</a>\n",
    "- 4. <a href = #link4>Choose Model, Train and Evaluate</a>\n",
    "- 5. <a href = #link5>Conclusion</a>\n",
    "- 6. <a href = #link6>Bonus: Statsmodels</a>"
   ]
  },
  {
   "cell_type": "markdown",
   "metadata": {
    "colab_type": "text",
    "id": "ztm8i-vTbbj8"
   },
   "source": [
    "# Let's start coding!"
   ]
  },
  {
   "cell_type": "markdown",
   "metadata": {
    "colab_type": "text",
    "id": "vAOm3WNEbeD7"
   },
   "source": [
    "### Import libraries"
   ]
  },
  {
   "cell_type": "code",
   "execution_count": 1,
   "metadata": {
    "colab": {
     "base_uri": "https://localhost:8080/",
     "height": 71
    },
    "colab_type": "code",
    "id": "I1OMxQ78FIOG",
    "outputId": "0204541f-36f3-4c11-a48d-6b5415f9082d"
   },
   "outputs": [],
   "source": [
    "# Import necessary libraries.\n",
    "import numpy as np\n",
    "import pandas as pd\n",
    "import matplotlib.pyplot as plt\n",
    "import seaborn as sns\n",
    "# To enable plotting graphs in Jupyter notebook\n",
    "%matplotlib inline"
   ]
  },
  {
   "cell_type": "markdown",
   "metadata": {
    "colab_type": "text",
    "id": "izYYUqAlbiuz"
   },
   "source": [
    "### Load and explore the data"
   ]
  },
  {
   "cell_type": "code",
   "execution_count": null,
   "metadata": {
    "colab": {},
    "colab_type": "code",
    "id": "s1w7UuCkFTtD"
   },
   "outputs": [],
   "source": [
    "# Load the data into pandas dataframe\n",
    "data = pd.read_csv('Life Expectancy Data.csv')              # Make changes to the path depending on where your data file is stored."
   ]
  },
  {
   "cell_type": "markdown",
   "metadata": {
    "colab_type": "text",
    "id": "27wJaX1Cbnn7"
   },
   "source": [
    "# <a id='link1'>Overview of the data</a>"
   ]
  },
  {
   "cell_type": "code",
   "execution_count": null,
   "metadata": {
    "colab": {
     "base_uri": "https://localhost:8080/",
     "height": 275
    },
    "colab_type": "code",
    "id": "eTZBaF-mFYo3",
    "outputId": "a7cc5b09-0ef3-4d47-df7b-30d3515bf76e"
   },
   "outputs": [],
   "source": [
    "data.head()"
   ]
  },
  {
   "cell_type": "markdown",
   "metadata": {
    "colab_type": "text",
    "id": "zPrKWMblX7Pt"
   },
   "source": [
    "## Think about it:\n",
    "\n",
    "- What do you interpret by looking at the data in the first 5 rows?\n",
    "- Do you see that each column has different scales of data.\n",
    "    - e.g. \"Life expectancy\" column : from 59.2 to 65.0, as we can see, in the first 5 rows.\n",
    "    - Alcohol: 0.01\n",
    "    - Measles: from 430 to 3013\n",
    "\n",
    "    So, what do you think about the effect of the different scales (so features are 100 times of the other features, will the numerical values of features have any effect on the model?)\n",
    "\n",
    "- The \"Status\" column has a value as \"Developing\", how to convert this text to numerical value?"
   ]
  },
  {
   "cell_type": "code",
   "execution_count": null,
   "metadata": {
    "colab": {
     "base_uri": "https://localhost:8080/",
     "height": 34
    },
    "colab_type": "code",
    "id": "5ZUbpN-BFXme",
    "outputId": "4f7800d4-920b-4650-a704-89d49495f83c"
   },
   "outputs": [],
   "source": [
    "# Check number of rows and columns\n",
    "data.shape"
   ]
  },
  {
   "cell_type": "code",
   "execution_count": null,
   "metadata": {
    "colab": {
     "base_uri": "https://localhost:8080/",
     "height": 119
    },
    "colab_type": "code",
    "id": "tvv72L7HF-Hf",
    "outputId": "1d5ead8c-b112-4fb8-9a04-4cf036365911"
   },
   "outputs": [],
   "source": [
    "# Have a look at the column names\n",
    "data.columns"
   ]
  },
  {
   "cell_type": "code",
   "execution_count": null,
   "metadata": {
    "colab": {
     "base_uri": "https://localhost:8080/",
     "height": 510
    },
    "colab_type": "code",
    "id": "SCmj9LyLFZ_W",
    "outputId": "9ad1ac71-1b11-4678-86d7-91edae10efd7"
   },
   "outputs": [],
   "source": [
    "# Check column types and missing values\n",
    "data.info()"
   ]
  },
  {
   "cell_type": "markdown",
   "metadata": {
    "colab_type": "text",
    "id": "0hjxsQxkZvz8"
   },
   "source": [
    "## Think about it:\n",
    "\n",
    "- What do you interpret from the different Dtype (data-type) shown here:\n",
    "     - float64\n",
    "     - int64\n",
    "     - object\n",
    "\n",
    "     How will we deal with the object data-type?\n",
    "\n",
    "- We know that our dataset has 2938 rows of data.\n",
    "- By looking at the above output of data.info(), we see that some columns are having less number of non-null values.\n",
    "    - What does this mean?\n",
    "        - It means some values are NULL (missing)\n",
    "\n",
    "    How to deal with NULL (missing) values here?\n",
    "\n",
    " \n"
   ]
  },
  {
   "cell_type": "code",
   "execution_count": null,
   "metadata": {
    "colab": {},
    "colab_type": "code",
    "id": "yezNtp2vHYr_"
   },
   "outputs": [],
   "source": [
    "# remove the rows of data which have missing value(s)\n",
    "data = data.dropna()"
   ]
  },
  {
   "cell_type": "markdown",
   "metadata": {
    "colab_type": "text",
    "id": "iQIj_Rn4bJee"
   },
   "source": [
    "## Think about it:\n",
    "\n",
    "- What are some other ways to deal with the missing values?"
   ]
  },
  {
   "cell_type": "code",
   "execution_count": null,
   "metadata": {
    "colab": {
     "base_uri": "https://localhost:8080/",
     "height": 408
    },
    "colab_type": "code",
    "id": "vfN3qOpTFdg_",
    "outputId": "0e265569-0513-4a06-a392-458dc7be4512"
   },
   "outputs": [],
   "source": [
    "# Check the unique values in each column of the dataframe.\n",
    "data.nunique()"
   ]
  },
  {
   "cell_type": "markdown",
   "metadata": {
    "colab_type": "text",
    "id": "rO_scYvgbb7M"
   },
   "source": [
    "## Insights:\n",
    "\n",
    "- The \"Status\" column has 2 unique values. i.e. The values are \"Developing\" and \"Developed\"\n",
    "- The \"Country\" column has 133 unique values. i.e. The data is collected from 133 countries.\n",
    "\n",
    "## Think about it:\n",
    "\n",
    "- We already know that the Dtype (data-type) of the two columns: \"Status\" and \"Country\" is object. So, we need to convert them to categorical type for further processing in the next steps."
   ]
  },
  {
   "cell_type": "markdown",
   "metadata": {
    "colab_type": "text",
    "id": "JZcZuUF_cYdX"
   },
   "source": [
    "## Before we further process the data, let's have a look at the graphical visualization of the data to understand it in a better way!"
   ]
  },
  {
   "cell_type": "markdown",
   "metadata": {
    "colab_type": "text",
    "id": "TeuhzPWVbtGq"
   },
   "source": [
    "# <a id='link2'>Data Visualization</a>"
   ]
  },
  {
   "cell_type": "markdown",
   "metadata": {
    "colab_type": "text",
    "id": "DDTMUoz1dw9t"
   },
   "source": [
    "## Think about it:\n",
    "\n",
    "- In this case-study, we are going to apply Linear Regression.\n",
    "- But even before we apply, let's have a look at the data to understand that the data is suitable for this \"Linear Regression\".\n",
    "- To check it, we have to check if there is any linear relationship between the features and the target variable.\n",
    "- The target variable is \"Life expectancy\".\n",
    "- \"Life expectancy\" is age in years."
   ]
  },
  {
   "cell_type": "code",
   "execution_count": null,
   "metadata": {
    "colab": {
     "base_uri": "https://localhost:8080/",
     "height": 463
    },
    "colab_type": "code",
    "id": "-QYdIGW7ONXQ",
    "outputId": "2fd75ff0-acae-4c72-ecc6-c04044ae0d9c"
   },
   "outputs": [],
   "source": [
    "plt.figure(figsize=(10,7))\n",
    "plt.scatter(data['Schooling'], data['Life expectancy'], color='red')\n",
    "plt.title('Life expectancy Vs Schooling', fontsize=14)\n",
    "plt.xlabel('Schooling', fontsize=14)\n",
    "plt.ylabel('Life expectancy', fontsize=14)\n",
    "plt.grid(True)\n",
    "plt.show()"
   ]
  },
  {
   "cell_type": "markdown",
   "metadata": {
    "colab_type": "text",
    "id": "cW2bxPhne7p9"
   },
   "source": [
    "## Insights:\n",
    "\n",
    "- Clearly, we can see in the above plot that, when the number of years of schooling is increasing, the Life expectancy is also increasing.\n",
    "- The relationship is linear, as can be seen from the graph."
   ]
  },
  {
   "cell_type": "markdown",
   "metadata": {
    "colab_type": "text",
    "id": "6Srk2IetfXnL"
   },
   "source": [
    "## Let's check some more features vs Target Variable to better understand the data:"
   ]
  },
  {
   "cell_type": "code",
   "execution_count": null,
   "metadata": {
    "colab": {
     "base_uri": "https://localhost:8080/",
     "height": 463
    },
    "colab_type": "code",
    "id": "qbmucNCLOTOh",
    "outputId": "f690ab14-a01f-4ba1-c4d1-5ccf307e024b"
   },
   "outputs": [],
   "source": [
    "plt.figure(figsize=(10,7))\n",
    "plt.scatter(data['Measles'], data['Life expectancy'], color='red')\n",
    "plt.title('Life expectancy Vs Measles ', fontsize=14)\n",
    "plt.xlabel('Measles', fontsize=14)\n",
    "plt.ylabel('Life expectancy', fontsize=14)\n",
    "plt.grid(True)\n",
    "plt.show()"
   ]
  },
  {
   "cell_type": "code",
   "execution_count": null,
   "metadata": {
    "colab": {
     "base_uri": "https://localhost:8080/",
     "height": 463
    },
    "colab_type": "code",
    "id": "un3ERkRlOCS6",
    "outputId": "adcaf3b9-4c07-461e-aa34-ad2816e8a39b"
   },
   "outputs": [],
   "source": [
    "plt.figure(figsize=(10,7))\n",
    "plt.scatter(data['Alcohol'], data['Life expectancy'], color='red')\n",
    "plt.title('Life expectancy Vs Alcohol', fontsize=14)\n",
    "plt.xlabel('Alcohol', fontsize=14)\n",
    "plt.ylabel('Life expectancy', fontsize=14)\n",
    "plt.grid(True)\n",
    "plt.show()"
   ]
  },
  {
   "cell_type": "code",
   "execution_count": null,
   "metadata": {
    "colab": {
     "base_uri": "https://localhost:8080/",
     "height": 463
    },
    "colab_type": "code",
    "id": "MUkeC0CPNsPE",
    "outputId": "a68e719c-3dfa-40bf-d498-0816418c4326"
   },
   "outputs": [],
   "source": [
    "plt.figure(figsize=(10,7))\n",
    "plt.scatter(data['Total expenditure'], data['Life expectancy'], color='red')\n",
    "plt.title('Life expectancy Vs Total expenditure', fontsize=14)\n",
    "plt.xlabel('Total expenditure', fontsize=14)\n",
    "plt.ylabel('Life expectancy', fontsize=14)\n",
    "plt.grid(True)\n",
    "plt.show()"
   ]
  },
  {
   "cell_type": "code",
   "execution_count": null,
   "metadata": {
    "colab": {
     "base_uri": "https://localhost:8080/",
     "height": 463
    },
    "colab_type": "code",
    "id": "dU5A6gtBGLGH",
    "outputId": "81e93056-598b-4d3e-a5a8-4c6fdf10289d"
   },
   "outputs": [],
   "source": [
    "plt.figure(figsize=(10,7))\n",
    "plt.scatter(data['Adult Mortality'], data['Life expectancy'], color='red')\n",
    "plt.title('Life expectancy Vs Adult Mortality', fontsize=14)\n",
    "plt.xlabel('Adult Mortality', fontsize=14)\n",
    "plt.ylabel('Life expectancy', fontsize=14)\n",
    "plt.grid(True)\n",
    "plt.show()"
   ]
  },
  {
   "cell_type": "markdown",
   "metadata": {
    "colab_type": "text",
    "id": "LNHi51U7fnUb"
   },
   "source": [
    "## Insights:\n",
    "\n",
    "- Here, we see that, as the Adult Mortality is increasing, the Life expectancy is decreasing.\n",
    "- So, there is inverse relationship between this feature on X-axis and the Target variable on Y-axis.\n",
    "- Even though the relationship is inverse, but it is linear relationship, as can be seen from the graph."
   ]
  },
  {
   "cell_type": "markdown",
   "metadata": {
    "colab_type": "text",
    "id": "TmpznlyMg_Z3"
   },
   "source": [
    "## Conclusion:\n",
    "\n",
    "- Yes, by above analysis, we can conclude that, the dataset is a good fit for the application of Linear Regression."
   ]
  },
  {
   "cell_type": "code",
   "execution_count": null,
   "metadata": {
    "colab": {
     "base_uri": "https://localhost:8080/",
     "height": 463
    },
    "colab_type": "code",
    "id": "ppfllLiBFw4I",
    "outputId": "64e08043-ba63-4fc5-99bd-d7584dcdbc1a"
   },
   "outputs": [],
   "source": [
    "plt.figure(figsize=(10,7))\n",
    "plt.scatter(data['Life expectancy'][:200], data['Country'][:200], color='red')\n",
    "plt.title('Country Vs Life expectancy', fontsize=14)\n",
    "plt.xlabel('Life expectancy', fontsize=14)\n",
    "plt.ylabel('Country', fontsize=14)\n",
    "plt.grid(True)\n",
    "plt.show()"
   ]
  },
  {
   "cell_type": "markdown",
   "metadata": {
    "colab_type": "text",
    "id": "D7YHHFdGgKVb"
   },
   "source": [
    "## Insights:\n",
    "\n",
    "- Life expectancy by the country is having a spread of data. (i.e. Some countries might have higher life expectancy and some lower, in the graph, we have plotted 200 data points which are from 15 countries (The names of countries are on Y-axis)\n",
    "- However, we can see that the red dots are more to the right (near 90 years) for some countries and to the left (less than 50 years) for some countries."
   ]
  },
  {
   "cell_type": "code",
   "execution_count": null,
   "metadata": {
    "colab": {
     "base_uri": "https://localhost:8080/",
     "height": 1000
    },
    "colab_type": "code",
    "id": "UaFc74whhONb",
    "outputId": "63b13b2f-ac4a-416c-ee99-6150c23b6952"
   },
   "outputs": [],
   "source": [
    "sns.pairplot(data, height=3, diag_kind='auto', corner=True)\n",
    "plt.show()"
   ]
  },
  {
   "cell_type": "markdown",
   "metadata": {
    "colab_type": "text",
    "id": "f9OnvjOQtQ44"
   },
   "source": [
    "## Insights:\n",
    "\n",
    "- We can see from the 2nd and 3rd column of the graph that, these features have linear (or inversely linear) relationship."
   ]
  },
  {
   "cell_type": "code",
   "execution_count": null,
   "metadata": {
    "colab": {
     "base_uri": "https://localhost:8080/",
     "height": 578
    },
    "colab_type": "code",
    "id": "P82kXVUCtmeu",
    "outputId": "423295ae-dd24-41f3-bbe1-f027b4900eac"
   },
   "outputs": [],
   "source": [
    "plt.figure(figsize=(10,10))\n",
    "sns.boxplot(data['Life expectancy'], orient='v')\n",
    "plt.show()"
   ]
  },
  {
   "cell_type": "markdown",
   "metadata": {
    "colab_type": "text",
    "id": "X7vBbLgVuWZc"
   },
   "source": [
    "## Insights:\n",
    "\n",
    "- The bottom black horizontal line of blue box plot is minimum value, which is around 48 years.\n",
    "- First black horizontal line of rectangle shape of blue box plot is First quartile or 25 percentile. The age corresponding to this line is 64 years.\n",
    "- Second black horizontal line of rectangle shape of blue box plot is Second quartile or 50% or median. The age corresponding to this is 72 years.\n",
    "- Third black horizontal line of rectangle shape of blue box plot is third quartile or 75%. The age corresponding to this is 75 years.\n",
    "- Top black horizontal line of rectangle shape of blue box plot is maximum value. The value corresponding to this is 88 years.\n",
    "- Small diamond shape of blue box plot is outlier data or erroneous data. Which is below the bottom black horizontal line."
   ]
  },
  {
   "cell_type": "code",
   "execution_count": null,
   "metadata": {
    "colab": {
     "base_uri": "https://localhost:8080/",
     "height": 497
    },
    "colab_type": "code",
    "id": "ol-Qb_e0vqF4",
    "outputId": "4cfb2951-878d-4f21-a876-7a408779994e"
   },
   "outputs": [],
   "source": [
    "plt.figure(figsize=(8,8))\n",
    "sns.boxplot(x=\"Status\",y=\"Life expectancy\",data=data)\n",
    "plt.show()"
   ]
  },
  {
   "cell_type": "markdown",
   "metadata": {
    "colab_type": "text",
    "id": "b3s5LcfZwC40"
   },
   "source": [
    "## Insights:\n",
    "\n",
    "- The life expectancy in the developed countries is much higher than the developing countries.\n",
    "- The median value of life expectancy (approximately as can be seen from the boxplot) for:\n",
    "     - Developing: 69 years\n",
    "     - Developed: 78 years"
   ]
  },
  {
   "cell_type": "code",
   "execution_count": null,
   "metadata": {
    "colab": {
     "base_uri": "https://localhost:8080/",
     "height": 374
    },
    "colab_type": "code",
    "id": "UdoEGuzNFy5H",
    "outputId": "ab9f3afc-99f7-45b5-b047-9f4d957b9d46"
   },
   "outputs": [],
   "source": [
    "data[data.columns[:]].corr()['Life expectancy'][:]"
   ]
  },
  {
   "cell_type": "code",
   "execution_count": null,
   "metadata": {
    "colab": {
     "base_uri": "https://localhost:8080/",
     "height": 1000
    },
    "colab_type": "code",
    "id": "uM9F040TG3Zm",
    "outputId": "a4c556ad-4b13-4ab0-a7cb-228cd7326512"
   },
   "outputs": [],
   "source": [
    "plt.figure(figsize=(20,20))\n",
    "sns.heatmap(data.corr(), annot=True, fmt=\".2\")\n",
    "plt.show()"
   ]
  },
  {
   "cell_type": "markdown",
   "metadata": {
    "colab_type": "text",
    "id": "OyKHhUzdMR0W"
   },
   "source": [
    "## Think about it:\n",
    "\n",
    "- What is your interpretation from the above plot?"
   ]
  },
  {
   "cell_type": "markdown",
   "metadata": {
    "colab_type": "text",
    "id": "1THqC335b4Yi"
   },
   "source": [
    "# <a id='link3'>Data Preparation</a>"
   ]
  },
  {
   "cell_type": "code",
   "execution_count": null,
   "metadata": {
    "colab": {
     "base_uri": "https://localhost:8080/",
     "height": 255
    },
    "colab_type": "code",
    "id": "372WHRhJGpj4",
    "outputId": "19cd4b9c-9141-4d8d-b50f-da0dccf5d458"
   },
   "outputs": [],
   "source": [
    "X = data.drop('Life expectancy', axis=1)\n",
    "y = data[['Life expectancy']]\n",
    "\n",
    "print(X.head())\n",
    "print(y.head())"
   ]
  },
  {
   "cell_type": "code",
   "execution_count": null,
   "metadata": {
    "colab": {
     "base_uri": "https://localhost:8080/",
     "height": 51
    },
    "colab_type": "code",
    "id": "jv1XDAV8zQWV",
    "outputId": "214dce2d-058f-49dd-ebb2-9429b7c45385"
   },
   "outputs": [],
   "source": [
    "print(X.shape)\n",
    "print(y.shape)"
   ]
  },
  {
   "cell_type": "code",
   "execution_count": null,
   "metadata": {
    "colab": {
     "base_uri": "https://localhost:8080/",
     "height": 275
    },
    "colab_type": "code",
    "id": "PKfAyxU2Gbgg",
    "outputId": "ca35b772-bf9f-4d6c-bde1-e8d9ddc71321"
   },
   "outputs": [],
   "source": [
    "X.loc[:, 'Country'] = X.loc[:, 'Country'].astype('category')\n",
    "X.loc[:, 'Status'] = X.loc[:, 'Status'].astype('category')\n",
    "\n",
    "X.loc[:, 'Country'] = X.loc[:, 'Country'].cat.codes\n",
    "X.loc[:, 'Status'] = X.loc[:, 'Status'].cat.codes\n",
    "\n",
    "X.head()"
   ]
  },
  {
   "cell_type": "code",
   "execution_count": null,
   "metadata": {
    "colab": {},
    "colab_type": "code",
    "id": "kajwhsxzIerO"
   },
   "outputs": [],
   "source": [
    "X = X.values\n",
    "y = y.values"
   ]
  },
  {
   "cell_type": "code",
   "execution_count": null,
   "metadata": {
    "colab": {},
    "colab_type": "code",
    "id": "CBXfTtAPGoaF"
   },
   "outputs": [],
   "source": [
    "#split the data into train and test\n",
    "from sklearn.model_selection import train_test_split\n",
    "X_train, X_test, y_train, y_test = train_test_split(X, y, test_size=0.3, random_state=42)"
   ]
  },
  {
   "cell_type": "markdown",
   "metadata": {
    "colab_type": "text",
    "id": "GFPrtqxgCGPX"
   },
   "source": [
    "# <a id='link4'>Choose Model, Train and Evaluate</a>"
   ]
  },
  {
   "cell_type": "code",
   "execution_count": null,
   "metadata": {
    "colab": {
     "base_uri": "https://localhost:8080/",
     "height": 153
    },
    "colab_type": "code",
    "id": "Ycx7GmR3HInW",
    "outputId": "d3b26936-2f97-4447-c87d-e0ec0feab5d5"
   },
   "outputs": [],
   "source": [
    "from sklearn.linear_model import LinearRegression\n",
    "linearregression = LinearRegression()                                    \n",
    "linearregression.fit(X_train, y_train)                                  \n",
    "\n",
    "print(\"Intercept of the linear equation:\", linearregression.intercept_) \n",
    "print(\"\\nCOefficients of the equation are:\", linearregression.coef_)\n",
    "\n",
    "from sklearn.metrics import mean_absolute_error, mean_squared_error, r2_score\n",
    "\n",
    "pred = linearregression.predict(X_test)                              "
   ]
  },
  {
   "cell_type": "code",
   "execution_count": null,
   "metadata": {
    "colab": {
     "base_uri": "https://localhost:8080/",
     "height": 34
    },
    "colab_type": "code",
    "id": "vVBBaPtf-BZd",
    "outputId": "29bc7691-3713-4cab-f8bd-77f84c6543e5"
   },
   "outputs": [],
   "source": [
    "# Mean Absolute Error\n",
    "mean_absolute_error(y_test, pred)"
   ]
  },
  {
   "cell_type": "markdown",
   "metadata": {
    "colab_type": "text",
    "id": "BiDMxK2S-Kmu"
   },
   "source": [
    "The mean absolute error (MAE) is the simplest regression error metric to understand. We’ll calculate the residual for every data point, taking only the absolute value of each so that negative and positive residuals do not cancel out. We then take the average of all these residuals. Effectively, MAE describes the typical magnitude of the residuals."
   ]
  },
  {
   "cell_type": "code",
   "execution_count": null,
   "metadata": {
    "colab": {
     "base_uri": "https://localhost:8080/",
     "height": 34
    },
    "colab_type": "code",
    "id": "1rXSdrBO-Coh",
    "outputId": "fe498382-aff4-47a2-a3e8-ae51a6ed63f9"
   },
   "outputs": [],
   "source": [
    "# RMSE\n",
    "mean_squared_error(y_test, pred)**0.5"
   ]
  },
  {
   "cell_type": "markdown",
   "metadata": {
    "colab_type": "text",
    "id": "f_cmu5Q--T2U"
   },
   "source": [
    "The root mean square error (RMSE) is just like the MAE, but squares the difference before summing them all instead of using the absolute value. And then takes the square root of the value."
   ]
  },
  {
   "cell_type": "code",
   "execution_count": null,
   "metadata": {
    "colab": {
     "base_uri": "https://localhost:8080/",
     "height": 34
    },
    "colab_type": "code",
    "id": "UYZ9d_QS-DQJ",
    "outputId": "d371a840-73b0-473f-8bcc-f0d53b9e9173"
   },
   "outputs": [],
   "source": [
    "# R2 Squared:\n",
    "r2_score(y_test, pred)"
   ]
  },
  {
   "cell_type": "markdown",
   "metadata": {
    "colab_type": "text",
    "id": "V9VCPjkM-2M_"
   },
   "source": [
    "R^2 (coefficient of determination) regression score function.\n",
    "\n",
    "Best possible score is 1.0 and it can be negative (because the model can be arbitrarily worse). A constant model that always predicts the expected value of y, disregarding the input features, would get a R^2 score of 0.0."
   ]
  },
  {
   "cell_type": "code",
   "execution_count": null,
   "metadata": {
    "colab": {
     "base_uri": "https://localhost:8080/",
     "height": 34
    },
    "colab_type": "code",
    "id": "g3o33Z5U6VlF",
    "outputId": "8b60dc5c-0749-49d7-cd94-010865684b9d"
   },
   "outputs": [],
   "source": [
    "# Training Score\n",
    "linearregression.score(X_train, y_train)"
   ]
  },
  {
   "cell_type": "code",
   "execution_count": null,
   "metadata": {
    "colab": {
     "base_uri": "https://localhost:8080/",
     "height": 34
    },
    "colab_type": "code",
    "id": "qOUvNyqw6bXc",
    "outputId": "6e5184a0-6b6b-4a7b-ada8-327fddbaba08"
   },
   "outputs": [],
   "source": [
    "# Testing score\n",
    "linearregression.score(X_test, y_test)"
   ]
  },
  {
   "cell_type": "markdown",
   "metadata": {
    "colab_type": "text",
    "id": "lNBWAFigJ31V"
   },
   "source": [
    "#### Now compare the actual output values for X_test with the predicted values, execute the following script:"
   ]
  },
  {
   "cell_type": "code",
   "execution_count": null,
   "metadata": {
    "colab": {
     "base_uri": "https://localhost:8080/",
     "height": 419
    },
    "colab_type": "code",
    "id": "PAtayJx4Ge75",
    "outputId": "d64adf12-5b7b-4dd2-a246-0633b8dcdb83"
   },
   "outputs": [],
   "source": [
    "df = pd.DataFrame({'Actual': y_test.flatten(), 'Predicted': pred.flatten()})\n",
    "df"
   ]
  },
  {
   "cell_type": "markdown",
   "metadata": {
    "colab_type": "text",
    "id": "7KXrJHtFJvEu"
   },
   "source": [
    "- We can also visualize comparison result as a bar graph using the below script :\n",
    "\n",
    "- Note: As the number of records is huge, for representation purpose I’m taking just 25 records."
   ]
  },
  {
   "cell_type": "code",
   "execution_count": null,
   "metadata": {
    "colab": {
     "base_uri": "https://localhost:8080/",
     "height": 594
    },
    "colab_type": "code",
    "id": "USIE8OYpJc7o",
    "outputId": "1d91df19-46e0-4417-e19f-9c1d79b59317"
   },
   "outputs": [],
   "source": [
    "df1 = df.head(25)\n",
    "df1.plot(kind='bar',figsize=(16,10))\n",
    "plt.grid(which='major', linestyle='-', linewidth='0.5', color='green')\n",
    "plt.grid(which='minor', linestyle=':', linewidth='0.5', color='black')\n",
    "plt.show()"
   ]
  },
  {
   "cell_type": "markdown",
   "metadata": {
    "colab_type": "text",
    "id": "gYaLVMHCMrby"
   },
   "source": [
    "- We can observe here that our model has returned pretty good prediction results.\n",
    "- The Actual and Predicted values are comparable."
   ]
  },
  {
   "cell_type": "markdown",
   "metadata": {
    "colab_type": "text",
    "id": "sZRPwvFSP5GR"
   },
   "source": [
    "## Using `normalize=True` in our LinearRegression model:"
   ]
  },
  {
   "cell_type": "code",
   "execution_count": null,
   "metadata": {
    "colab": {
     "base_uri": "https://localhost:8080/",
     "height": 153
    },
    "colab_type": "code",
    "id": "JQbUTqOLFGvh",
    "outputId": "ff07d87b-3630-4446-cf1d-6baeb780972a"
   },
   "outputs": [],
   "source": [
    "linearregression_ = LinearRegression(normalize=True)                            # Linear Regression with hyperparameter normalize=True.             \n",
    "linearregression_.fit(X_train, y_train)                                  \n",
    "\n",
    "print(\"Intercept of the linear equation:\", linearregression_.intercept_) \n",
    "print(\"\\nCOefficients of the equation are:\", linearregression_.coef_)\n",
    "\n",
    "from sklearn.metrics import mean_absolute_error, mean_squared_error, r2_score\n",
    "\n",
    "pred = linearregression_.predict(X_test)    "
   ]
  },
  {
   "cell_type": "code",
   "execution_count": null,
   "metadata": {
    "colab": {
     "base_uri": "https://localhost:8080/",
     "height": 34
    },
    "colab_type": "code",
    "id": "T_3YPxuIFlXZ",
    "outputId": "b9618937-cc9d-44e7-d3af-9b43282b7852"
   },
   "outputs": [],
   "source": [
    "# Mean Absolute Error\n",
    "mean_absolute_error(y_test, pred)"
   ]
  },
  {
   "cell_type": "code",
   "execution_count": null,
   "metadata": {
    "colab": {
     "base_uri": "https://localhost:8080/",
     "height": 34
    },
    "colab_type": "code",
    "id": "hy2zLX8tFor-",
    "outputId": "546e57fe-6a59-4b5a-b890-a81dd2e0dcf8"
   },
   "outputs": [],
   "source": [
    "# RMSE\n",
    "mean_squared_error(y_test, pred)**0.5"
   ]
  },
  {
   "cell_type": "code",
   "execution_count": null,
   "metadata": {
    "colab": {
     "base_uri": "https://localhost:8080/",
     "height": 34
    },
    "colab_type": "code",
    "id": "O63pqAPoFr5D",
    "outputId": "a74038fc-e4a6-44dd-8284-4747e92be9ab"
   },
   "outputs": [],
   "source": [
    "# R2 Squared:\n",
    "r2_score(y_test, pred)"
   ]
  },
  {
   "cell_type": "code",
   "execution_count": null,
   "metadata": {
    "colab": {
     "base_uri": "https://localhost:8080/",
     "height": 34
    },
    "colab_type": "code",
    "id": "TrMlKFDXFwLm",
    "outputId": "248673d9-466d-47e1-e439-4583fb122841"
   },
   "outputs": [],
   "source": [
    "# Training Score\n",
    "linearregression_.score(X_train, y_train)"
   ]
  },
  {
   "cell_type": "code",
   "execution_count": null,
   "metadata": {
    "colab": {
     "base_uri": "https://localhost:8080/",
     "height": 34
    },
    "colab_type": "code",
    "id": "OgRVMq8_FzO_",
    "outputId": "b804379c-7670-4b37-9375-d3227594d00e"
   },
   "outputs": [],
   "source": [
    "# Testing score\n",
    "linearregression_.score(X_test, y_test)"
   ]
  },
  {
   "cell_type": "markdown",
   "metadata": {
    "colab_type": "text",
    "id": "1lqSkj1q51At"
   },
   "source": [
    "# <a id='link5'>Conclusion</a>"
   ]
  },
  {
   "cell_type": "markdown",
   "metadata": {
    "colab_type": "text",
    "id": "doso3U2753mZ"
   },
   "source": [
    "- The Training and testing scores are around 83% and both scores are comparable, hence the model is a good fit.\n",
    "\n",
    "- R2_score is 0.83, that explains 83 % of total variation in the dataset. So, overall the model is very satisfactory.\n",
    "\n",
    "- Setting `normalize=True` do have impact on co-efficients but they dont affect the best fit line anyway. (See, the coefficients and intercepts are changed, but the accuracy is same as before.)"
   ]
  },
  {
   "cell_type": "markdown",
   "metadata": {
    "colab_type": "text",
    "id": "YE57Jz2IyMvp"
   },
   "source": [
    "# <a id='link6'>Bonus: **statsmodels**</a>\n",
    "\n",
    "- Here is the complete syntax to perform the linear regression in Python using statsmodels."
   ]
  },
  {
   "cell_type": "code",
   "execution_count": null,
   "metadata": {
    "colab": {
     "base_uri": "https://localhost:8080/",
     "height": 816
    },
    "colab_type": "code",
    "id": "AQ_s8bVsH3hu",
    "outputId": "0b55c623-027b-4001-8019-135aeb029f6b"
   },
   "outputs": [],
   "source": [
    "import statsmodels.api as sm\n",
    "\n",
    "X = sm.add_constant(X)\n",
    "\n",
    "linearmodel = sm.OLS(y, X).fit()\n",
    "\n",
    "predictions = linearmodel.predict(X) \n",
    "\n",
    "print_model = linearmodel.summary()\n",
    "print(print_model)"
   ]
  },
  {
   "cell_type": "markdown",
   "metadata": {
    "colab_type": "text",
    "id": "H4_Ws9_60WRG"
   },
   "source": [
    "## Interpreting the Regression Results:\n",
    "\n",
    "1. **Adjusted. R-squared**: It reflects the fit of the model.\n",
    "    - R-squared values range from 0 to 1, where a higher value generally indicates a better fit, assuming certain conditions are met.\n",
    "    - In our case, the value for Adj. R-squared is **0.837**, which is good!\n",
    "2. **const coefficient** is the Y-intercept.\n",
    "    - It means that if all the dependent variables (features: like Country, status, Adult mortality and so on..) coefficients are zero, then the expected output (i.e., the Y) would be equal to the const coefficient.\n",
    "    - In our case, the value for const coeff is **308.5849**\n",
    "3. **Status coeff**: It represents the change in the output Y due to a change in the status (everything else held constant).\n",
    "4. **Schooling coeff**: It represents the change in the output Y due to a change of one unit in the Schooling (everything else held constant).\n",
    "5. **std err**: It reflects the level of accuracy of the coefficients.\n",
    "    - The lower it is, the higher is the level of accuracy.\n",
    "6. **P >|t|**: It is p-value.\n",
    "   - A p-value of less than 0.05 is considered to be statistically significant.\n",
    "7. **Confidence Interval**: It represents the range in which our coefficients are likely to fall (with a likelihood of 95%)."
   ]
  },
  {
   "cell_type": "code",
   "execution_count": null,
   "metadata": {
    "colab": {
     "base_uri": "https://localhost:8080/",
     "height": 483
    },
    "colab_type": "code",
    "id": "YU-KXJL6ywoj",
    "outputId": "7e870858-4af7-4679-c9ba-21960b7032ee"
   },
   "outputs": [],
   "source": [
    "# Plot between residual(actual - predicted) and predicted values\n",
    "plt.figure(figsize=(10,8))\n",
    "plt.scatter(linearmodel.resid, linearmodel.predict(), marker='*')\n",
    "plt.show()"
   ]
  },
  {
   "cell_type": "code",
   "execution_count": null,
   "metadata": {
    "colab": {
     "base_uri": "https://localhost:8080/",
     "height": 483
    },
    "colab_type": "code",
    "id": "YNqEGki94z8t",
    "outputId": "f641c9d8-f6c8-4deb-aa63-c9774d5e2267"
   },
   "outputs": [],
   "source": [
    "# error distribution\n",
    "plt.figure(figsize=(10,8))\n",
    "sns.distplot(linearmodel.resid, hist=True, kde=False, color='red')\n",
    "plt.show()"
   ]
  },
  {
   "cell_type": "markdown",
   "metadata": {
    "colab_type": "text",
    "id": "QijhFgmh5PO3"
   },
   "source": [
    "# Appendix:"
   ]
  },
  {
   "cell_type": "markdown",
   "metadata": {
    "colab_type": "text",
    "id": "jPrVnydQ5Nai"
   },
   "source": [
    "\n",
    "- **warnings.filterwarnings(\"ignore\")** : Never print matching warnings.\n",
    "\n",
    "- **Pandas** : Pandas is an open source library providing high-performance, easy-to-use data structures and data analysis tools for the Python programming language.\n",
    "\n",
    "- **Numpy** : The fundamental package for scientific computing with Python.\n",
    "\n",
    "- **Matplotlib** : Matplotlib is a comprehensive library for creating static, animated, and interactive visualizations in Python.\n",
    "\n",
    "- **Seaborn** : Seaborn is a Python data visualization library based on matplotlib. It provides a high-level interface for drawing attractive and informative statistical graphics.\n",
    "\n",
    "- **pairplot** : Plot pairwise relationships in a dataset.\n",
    "\n",
    "- **boxplot** : Draw a box plot to show distributions with respect to categories.\n",
    "\n",
    "- **distplot** : Flexibly plot a univariate distribution of observations.\n",
    "\n",
    "- **pandas.DataFrame.corr** : Compute pairwise correlation of columns, excluding NA/null values.\n",
    "\n",
    "- **sklearn.linear_model.LinearRegression** : Ordinary least squares Linear Regression.\n",
    "\n",
    "- **scipy.stats** : This module contains a large number of probability distributions as well as a growing library of statistical functions.\n",
    "\n",
    "- **statsmodels** : It is a Python module that provides classes and functions for the estimation of many different statistical models, as well as for conducting statistical tests, and statistical data exploration.\n",
    "    - An extensive list of result statistics are available for each estimator.\n",
    "    - The results are tested against existing statistical packages to ensure that they are correct.\n",
    "    - The online documentation is hosted at [statsmodels.org](https://www.statsmodels.org/stable/index.html)."
   ]
  },
  {
   "cell_type": "code",
   "execution_count": null,
   "metadata": {},
   "outputs": [],
   "source": []
  }
 ],
 "metadata": {
  "colab": {
   "collapsed_sections": [
    "ztm8i-vTbbj8",
    "27wJaX1Cbnn7",
    "TeuhzPWVbtGq",
    "1THqC335b4Yi",
    "GFPrtqxgCGPX",
    "1lqSkj1q51At",
    "YE57Jz2IyMvp",
    "QijhFgmh5PO3"
   ],
   "name": "Session CaseStudy: Linear Regression.ipynb",
   "provenance": []
  },
  "kernelspec": {
   "display_name": "Python 3",
   "language": "python",
   "name": "python3"
  },
  "language_info": {
   "codemirror_mode": {
    "name": "ipython",
    "version": 3
   },
   "file_extension": ".py",
   "mimetype": "text/x-python",
   "name": "python",
   "nbconvert_exporter": "python",
   "pygments_lexer": "ipython3",
   "version": "3.7.6"
  }
 },
 "nbformat": 4,
 "nbformat_minor": 1
}
