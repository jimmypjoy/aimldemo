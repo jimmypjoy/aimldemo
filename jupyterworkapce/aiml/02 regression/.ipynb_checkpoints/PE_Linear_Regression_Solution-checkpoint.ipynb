{
 "cells": [
  {
   "cell_type": "markdown",
   "metadata": {},
   "source": [
    "# Practice Exercise Linear Regression"
   ]
  },
  {
   "cell_type": "markdown",
   "metadata": {},
   "source": [
    "## Case Study: Boston Housing Price Prediction\n",
    "\n",
    "### Problem Statement\n",
    "\n",
    "The problem at hand is to predict the housing prices of a town or a suburb based on the features of the locality provided to us. In the process, we need to identify the most important features in the dataset. We need to employ techniques of data preprocessing and build a linear regression model that predicts the prices for us. \n",
    "\n",
    "### Data Information\n",
    "\n",
    "Each record in the database describes a Boston suburb or town. The data was drawn from the Boston Standard Metropolitan Statistical Area (SMSA) in 1970. Detailed attribute information can be found below-\n",
    "\n",
    "Attribute Information (in order):\n",
    "- CRIM:     per capita crime rate by town\n",
    "- ZN:       proportion of residential land zoned for lots over 25,000 sq.ft.\n",
    "- INDUS:    proportion of non-retail business acres per town\n",
    "- CHAS:     Charles River dummy variable (= 1 if tract bounds river; 0 otherwise)\n",
    "- NOX:      nitric oxides concentration (parts per 10 million)\n",
    "- RM:       average number of rooms per dwelling\n",
    "- AGE:      proportion of owner-occupied units built prior to 1940\n",
    "- DIS:      weighted distances to five Boston employment centres\n",
    "- RAD:      index of accessibility to radial highways\n",
    "- TAX:      full-value property-tax rate per 10,000 dollars\n",
    "- PTRATIO:  pupil-teacher ratio by town\n",
    "- LSTAT:    %lower status of the population\n",
    "- MEDV:     Median value of owner-occupied homes in 1000 dollars.\n",
    "\n",
    "### Concepts to cover\n",
    "- <a href= \"#link1\">1.EDA </a>\n",
    "- <a href= \"#link2\">2.Splitting the data </a>\n",
    "- <a href= \"#link3\">3.Modelling </a>\n",
    "- <a href= \"#link4\">4.Bonus: Statsmodel based impementation </a>\n"
   ]
  },
  {
   "cell_type": "markdown",
   "metadata": {},
   "source": [
    "**Importing Libraries**"
   ]
  },
  {
   "cell_type": "code",
   "execution_count": null,
   "metadata": {},
   "outputs": [],
   "source": [
    "from sklearn.datasets import load_boston\n",
    "import pandas as pd\n",
    "import numpy as np\n",
    "import seaborn as sns\n",
    "import matplotlib.pyplot as plt\n",
    "import statsmodels.api as sm\n",
    "from sklearn.model_selection import train_test_split\n",
    "from sklearn.linear_model import LinearRegression\n",
    "from sklearn.metrics import mean_squared_error"
   ]
  },
  {
   "cell_type": "markdown",
   "metadata": {},
   "source": [
    "### <a id = \"link1\">Load the dataset</a>"
   ]
  },
  {
   "cell_type": "code",
   "execution_count": null,
   "metadata": {},
   "outputs": [],
   "source": [
    "df = pd.read_csv(\"Boston.csv\")\n",
    "df.head()"
   ]
  },
  {
   "cell_type": "markdown",
   "metadata": {},
   "source": [
    "**Check the shape of the dataset**"
   ]
  },
  {
   "cell_type": "code",
   "execution_count": null,
   "metadata": {},
   "outputs": [],
   "source": [
    "df.shape"
   ]
  },
  {
   "cell_type": "markdown",
   "metadata": {},
   "source": [
    "**Get the info data types column wise**"
   ]
  },
  {
   "cell_type": "code",
   "execution_count": null,
   "metadata": {
    "scrolled": false
   },
   "outputs": [],
   "source": [
    "df.info()"
   ]
  },
  {
   "cell_type": "code",
   "execution_count": null,
   "metadata": {},
   "outputs": [],
   "source": [
    "df.describe()"
   ]
  },
  {
   "cell_type": "markdown",
   "metadata": {},
   "source": [
    "### Univariate and Bivariate Analysis\n",
    "To do - Identify insights if any from the distributuions."
   ]
  },
  {
   "cell_type": "code",
   "execution_count": null,
   "metadata": {},
   "outputs": [],
   "source": [
    "# let us plot all the columns to look at their distributions\n",
    "\n",
    "import seaborn as sns\n",
    "for i in df.columns:\n",
    "    plt.figure(figsize = (10,10))\n",
    "    sns.distplot(df[i])\n",
    "    plt.show()"
   ]
  },
  {
   "cell_type": "code",
   "execution_count": null,
   "metadata": {},
   "outputs": [],
   "source": [
    "#Bivariate Scatterplot of Prices with all the features\n",
    "for i in df.columns:\n",
    "    plt.figure(figsize = (10,10))\n",
    "    sns.scatterplot(x = df[i], y = df['MEDV'])\n",
    "    plt.show()                "
   ]
  },
  {
   "cell_type": "markdown",
   "metadata": {},
   "source": [
    "**Get the summary statistics of the numerical columns of the dataset**"
   ]
  },
  {
   "cell_type": "markdown",
   "metadata": {},
   "source": [
    "**Get the Correlation Heatmap**"
   ]
  },
  {
   "cell_type": "code",
   "execution_count": null,
   "metadata": {
    "scrolled": false
   },
   "outputs": [],
   "source": [
    "plt.figure(figsize=(12,8))\n",
    "sns.heatmap(df.corr(),annot=True,fmt='.2f',cmap='rainbow', )\n",
    "plt.show()"
   ]
  },
  {
   "cell_type": "markdown",
   "metadata": {},
   "source": [
    "### <a id = \"link2\">Split the dataset</a>\n",
    "Let's split the data into the dependent and independent variables and further split it into train and test set in a ratio of 70:30 for train and test set."
   ]
  },
  {
   "cell_type": "code",
   "execution_count": null,
   "metadata": {},
   "outputs": [],
   "source": [
    "Y = df['MEDV']\n",
    "X = df.drop(columns = {'MEDV'})"
   ]
  },
  {
   "cell_type": "code",
   "execution_count": null,
   "metadata": {},
   "outputs": [],
   "source": [
    "#splitting the data in 70:30 ratio of train to test data\n",
    "X_train, X_test, y_train, y_test = train_test_split(X, Y, test_size=0.30 , random_state=1)"
   ]
  },
  {
   "cell_type": "markdown",
   "metadata": {},
   "source": [
    "### <a id = \"link3\">Using Linear Model from Scikit learn library</a>"
   ]
  },
  {
   "cell_type": "markdown",
   "metadata": {},
   "source": [
    "**Fit the model to the training set**"
   ]
  },
  {
   "cell_type": "code",
   "execution_count": null,
   "metadata": {},
   "outputs": [],
   "source": [
    "#intialise the model to be fit and fir the model on the train data\n",
    "regression_model = LinearRegression(fit_intercept=True)\n",
    "regression_model.fit(X_train, y_train)"
   ]
  },
  {
   "cell_type": "markdown",
   "metadata": {},
   "source": [
    "**Get the score on training set**"
   ]
  },
  {
   "cell_type": "code",
   "execution_count": null,
   "metadata": {},
   "outputs": [],
   "source": [
    "#get the R-square score the fitted train data\n",
    "\n",
    "print('The coefficient of determination R^2 of the prediction on Train set', regression_model.score(X_train, y_train))"
   ]
  },
  {
   "cell_type": "code",
   "execution_count": null,
   "metadata": {},
   "outputs": [],
   "source": [
    "# write your own R-square function for the testing data\n",
    "\n",
    "def r_squared(model, X, y):\n",
    "    y_mean = y_train.mean()\n",
    "    SST = ((y_train - y_mean)**2).sum()\n",
    "    SSE = ((y_train - regression_model.predict(X_train))**2).sum()\n",
    "    r_square = 1 - SSE/SST\n",
    "    return SSE, SST, r_square\n",
    "    \n",
    "SSE, SST, r_square = r_squared(regression_model, X_train, y_train)\n",
    "print(\"SSE: \", SSE)\n",
    "print(\"SST: \", SST)\n",
    "print(\"r_square: \", r_square)"
   ]
  },
  {
   "cell_type": "markdown",
   "metadata": {},
   "source": [
    "**Get the score on test set**"
   ]
  },
  {
   "cell_type": "code",
   "execution_count": null,
   "metadata": {},
   "outputs": [],
   "source": [
    "print('The coefficient of determination R^2 of the prediction on Test set',regression_model.score(X_test, y_test))"
   ]
  },
  {
   "cell_type": "markdown",
   "metadata": {},
   "source": [
    "**Get the RMSE on test set**"
   ]
  },
  {
   "cell_type": "code",
   "execution_count": null,
   "metadata": {
    "scrolled": true
   },
   "outputs": [],
   "source": [
    "print(\"The Root Mean Square Error (RMSE) of the model is for testing set is\",np.sqrt(mean_squared_error(y_test,regression_model.predict(X_test))))"
   ]
  },
  {
   "cell_type": "markdown",
   "metadata": {},
   "source": [
    "**Get model Coefficients**"
   ]
  },
  {
   "cell_type": "code",
   "execution_count": null,
   "metadata": {
    "scrolled": false
   },
   "outputs": [],
   "source": [
    "a = regression_model.coef_\n",
    "coeff_data = pd.DataFrame()\n",
    "coeff_data['Coefs'] = regression_model.coef_\n",
    "coeff_data['Feature'] = X_train.columns\n",
    "coeff_data = coeff_data.append({'Coefs': regression_model.intercept_, 'Feature': \"Intercept\"}, ignore_index = True)\n",
    "coeff_data"
   ]
  },
  {
   "cell_type": "code",
   "execution_count": null,
   "metadata": {},
   "outputs": [],
   "source": [
    "# Let us write the equation of the fit\n",
    "Equation = \"Price =\"\n",
    "print(Equation, end='\\t')\n",
    "for i in range(0, 13):\n",
    "    if(i!=12):\n",
    "        print(\"(\",coeff_data.iloc[i].Coefs,\")\", \"*\", coeff_data.iloc[i].Feature, \"+\", end = '  ')\n",
    "    else:\n",
    "        print(coeff_data.iloc[i].Coefs)"
   ]
  },
  {
   "cell_type": "markdown",
   "metadata": {},
   "source": [
    "## <a id = \"link4\">Bonus: Using Statsmodels OLS</a>"
   ]
  },
  {
   "cell_type": "code",
   "execution_count": null,
   "metadata": {},
   "outputs": [],
   "source": [
    "# This adds the constant term beta0 to the Linear Regression.\n",
    "X_con=sm.add_constant(X)\n",
    "X_trainc, X_testc, y_trainc, y_testc = train_test_split(X_con, Y, test_size=0.30 , random_state=1)"
   ]
  },
  {
   "cell_type": "markdown",
   "metadata": {},
   "source": [
    "**Make the linear model using OLS**"
   ]
  },
  {
   "cell_type": "code",
   "execution_count": null,
   "metadata": {},
   "outputs": [],
   "source": [
    "model = sm.OLS(y_trainc,X_trainc).fit()\n",
    "model.summary()"
   ]
  },
  {
   "cell_type": "markdown",
   "metadata": {},
   "source": [
    "**Get the value of coefficient of determination**"
   ]
  },
  {
   "cell_type": "code",
   "execution_count": null,
   "metadata": {},
   "outputs": [],
   "source": [
    "print('The variation in the independent variable which is explained by the dependent variable is','\\n',\n",
    "      model.rsquared*100,'%')"
   ]
  },
  {
   "cell_type": "markdown",
   "metadata": {},
   "source": [
    "**Get the Predictions on test set**"
   ]
  },
  {
   "cell_type": "code",
   "execution_count": null,
   "metadata": {},
   "outputs": [],
   "source": [
    "ypred = model.predict(X_testc)"
   ]
  },
  {
   "cell_type": "markdown",
   "metadata": {},
   "source": [
    "**Calculate MSE for training set**"
   ]
  },
  {
   "cell_type": "code",
   "execution_count": null,
   "metadata": {},
   "outputs": [],
   "source": [
    "mse = model.mse_model\n",
    "mse"
   ]
  },
  {
   "cell_type": "markdown",
   "metadata": {},
   "source": [
    "**Get the RMSE on training set**"
   ]
  },
  {
   "cell_type": "code",
   "execution_count": null,
   "metadata": {},
   "outputs": [],
   "source": [
    "print(\"The Root Mean Square Error (RMSE) of the model for Training set is\",np.sqrt(mse))"
   ]
  },
  {
   "cell_type": "markdown",
   "metadata": {},
   "source": [
    "**Get the RMSE on test set**"
   ]
  },
  {
   "cell_type": "code",
   "execution_count": null,
   "metadata": {
    "scrolled": true
   },
   "outputs": [],
   "source": [
    "print(\"The Root Mean Square Error (RMSE) of the model is for testing set is\",np.sqrt(mean_squared_error(y_test,ypred)))"
   ]
  },
  {
   "cell_type": "code",
   "execution_count": null,
   "metadata": {},
   "outputs": [],
   "source": []
  }
 ],
 "metadata": {
  "kernelspec": {
   "display_name": "Python 3",
   "language": "python",
   "name": "python3"
  },
  "language_info": {
   "codemirror_mode": {
    "name": "ipython",
    "version": 3
   },
   "file_extension": ".py",
   "mimetype": "text/x-python",
   "name": "python",
   "nbconvert_exporter": "python",
   "pygments_lexer": "ipython3",
   "version": "3.7.6"
  }
 },
 "nbformat": 4,
 "nbformat_minor": 2
}
