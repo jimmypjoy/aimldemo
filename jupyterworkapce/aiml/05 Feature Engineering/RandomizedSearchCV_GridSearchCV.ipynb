{
 "cells": [
  {
   "cell_type": "code",
   "execution_count": 1,
   "metadata": {
    "colab": {},
    "colab_type": "code",
    "id": "iWuzCQLW3wXF"
   },
   "outputs": [],
   "source": [
    "%matplotlib inline"
   ]
  },
  {
   "cell_type": "code",
   "execution_count": 2,
   "metadata": {
    "colab": {},
    "colab_type": "code",
    "id": "p2MVdy__3wXM"
   },
   "outputs": [],
   "source": [
    "import numpy as np\n",
    "from time import time\n",
    "from scipy.stats import randint as sp_randint\n",
    "from sklearn.model_selection import GridSearchCV\n",
    "from sklearn.model_selection import RandomizedSearchCV\n",
    "from sklearn.datasets import load_digits\n",
    "from sklearn.ensemble import RandomForestClassifier"
   ]
  },
  {
   "cell_type": "code",
   "execution_count": 3,
   "metadata": {
    "colab": {},
    "colab_type": "code",
    "id": "bfdKxeQF3wXR"
   },
   "outputs": [],
   "source": [
    "# get data\n",
    "digits = load_digits()  # Source : http://archive.ics.uci.edu/ml/datasets/Pen-Based+Recognition+of+Handwritten+Digits\n",
    "X, y = digits.data, digits.target"
   ]
  },
  {
   "cell_type": "code",
   "execution_count": 4,
   "metadata": {
    "colab": {},
    "colab_type": "code",
    "id": "EDAhL7Yc3wXY"
   },
   "outputs": [],
   "source": [
    "# build a classifier\n",
    "clf = RandomForestClassifier(n_estimators=50)"
   ]
  },
  {
   "cell_type": "code",
   "execution_count": 5,
   "metadata": {
    "colab": {},
    "colab_type": "code",
    "id": "wY-kKYFd3wXb"
   },
   "outputs": [],
   "source": [
    "# specify parameters and distributions to sample from\n",
    "param_dist = {\"max_depth\": [3, None],\n",
    "              \"max_features\": sp_randint(1, 11),\n",
    "              \"min_samples_split\": sp_randint(2, 11),\n",
    "              \"min_samples_leaf\": sp_randint(1, 11),\n",
    "              \"bootstrap\": [True, False],\n",
    "              \"criterion\": [\"gini\", \"entropy\"]}"
   ]
  },
  {
   "cell_type": "code",
   "execution_count": 6,
   "metadata": {
    "colab": {},
    "colab_type": "code",
    "id": "HsdZfVy43wXe"
   },
   "outputs": [],
   "source": [
    "# run randomized search\n",
    "samples = 10  # number of random samples \n",
    "randomCV = RandomizedSearchCV(clf, param_distributions=param_dist, n_iter=samples) #default cv = 3"
   ]
  },
  {
   "cell_type": "code",
   "execution_count": 7,
   "metadata": {
    "colab": {},
    "colab_type": "code",
    "id": "FnDYMJxz3wXi",
    "outputId": "c6ac3a88-6eb7-4cc8-a241-82d89b7d4307"
   },
   "outputs": [
    {
     "name": "stdout",
     "output_type": "stream",
     "text": [
      "{'bootstrap': False, 'criterion': 'gini', 'max_depth': None, 'max_features': 8, 'min_samples_leaf': 2, 'min_samples_split': 2}\n"
     ]
    }
   ],
   "source": [
    "randomCV.fit(X, y)\n",
    "\n",
    " \n",
    "print(randomCV.best_params_)\n"
   ]
  },
  {
   "cell_type": "code",
   "execution_count": 8,
   "metadata": {
    "colab": {},
    "colab_type": "code",
    "id": "BYAjFmNl3wXm"
   },
   "outputs": [],
   "source": [
    "# use a full grid over all parameters\n",
    "param_grid = {\"max_depth\": [3, None],\n",
    "              \"max_features\": [1, 3, 10],\n",
    "              \"min_samples_split\": [2, 3, 10],\n",
    "              \"min_samples_leaf\": [1, 3, 10],\n",
    "              \"bootstrap\": [True, False],\n",
    "              \"criterion\": [\"gini\", \"entropy\"]}"
   ]
  },
  {
   "cell_type": "code",
   "execution_count": 9,
   "metadata": {
    "colab": {},
    "colab_type": "code",
    "id": "flbwV9CY3wXp",
    "outputId": "27b96b5b-4368-4fe6-c1c1-8d7213324915"
   },
   "outputs": [
    {
     "data": {
      "text/plain": [
       "GridSearchCV(estimator=RandomForestClassifier(n_estimators=50),\n",
       "             param_grid={'bootstrap': [True, False],\n",
       "                         'criterion': ['gini', 'entropy'],\n",
       "                         'max_depth': [3, None], 'max_features': [1, 3, 10],\n",
       "                         'min_samples_leaf': [1, 3, 10],\n",
       "                         'min_samples_split': [2, 3, 10]})"
      ]
     },
     "execution_count": 9,
     "metadata": {},
     "output_type": "execute_result"
    }
   ],
   "source": [
    "# run grid search\n",
    "grid_search = GridSearchCV(clf, param_grid=param_grid)\n",
    "start = time()\n",
    "grid_search.fit(X, y)"
   ]
  },
  {
   "cell_type": "code",
   "execution_count": 10,
   "metadata": {
    "colab": {},
    "colab_type": "code",
    "id": "VexE_JsR3wXs",
    "outputId": "3f6a08ba-ffa7-4b89-9f38-1262abb69f15"
   },
   "outputs": [
    {
     "data": {
      "text/plain": [
       "{'bootstrap': False,\n",
       " 'criterion': 'entropy',\n",
       " 'max_depth': None,\n",
       " 'max_features': 3,\n",
       " 'min_samples_leaf': 1,\n",
       " 'min_samples_split': 2}"
      ]
     },
     "execution_count": 10,
     "metadata": {},
     "output_type": "execute_result"
    }
   ],
   "source": [
    "grid_search.best_params_"
   ]
  },
  {
   "cell_type": "code",
   "execution_count": 11,
   "metadata": {
    "colab": {},
    "colab_type": "code",
    "id": "_EjiJe6E3wXv",
    "outputId": "9854d20b-c116-4c6a-bf22-97e1d46c64b1"
   },
   "outputs": [
    {
     "data": {
      "text/plain": [
       "array([0.82584803, 0.80917054, 0.81359177, 0.82416435, 0.81248066,\n",
       "       0.81192201, 0.82417673, 0.80803312, 0.80523677, 0.83084494,\n",
       "       0.85030486, 0.83419065, 0.84140514, 0.8481074 , 0.82693439,\n",
       "       0.83751161, 0.85365986, 0.84365367, 0.82195141, 0.83026772,\n",
       "       0.8241597 , 0.82639431, 0.82082018, 0.82528629, 0.83083101,\n",
       "       0.81579542, 0.8275147 , 0.92934231, 0.93100588, 0.91877437,\n",
       "       0.91097957, 0.90040854, 0.90372795, 0.87646704, 0.87981894,\n",
       "       0.87648561, 0.93157536, 0.93601052, 0.9343485 , 0.93155989,\n",
       "       0.92767409, 0.91710152, 0.90374961, 0.89983751, 0.92098886,\n",
       "       0.93156763, 0.93546271, 0.92100279, 0.92378366, 0.92267255,\n",
       "       0.92044723, 0.90207985, 0.90097184, 0.91208604, 0.79523832,\n",
       "       0.81525998, 0.81693439, 0.82247601, 0.82026308, 0.80246828,\n",
       "       0.79967502, 0.82080625, 0.82473692, 0.84418446, 0.83862426,\n",
       "       0.83364129, 0.83973383, 0.84697926, 0.83140204, 0.84697772,\n",
       "       0.8464268 , 0.84140978, 0.84139585, 0.83473692, 0.82137574,\n",
       "       0.82414732, 0.82638966, 0.83752089, 0.82248375, 0.81914268,\n",
       "       0.8224822 , 0.92210925, 0.92877437, 0.91876818, 0.9059641 ,\n",
       "       0.90652894, 0.9081987 , 0.87034045, 0.88593934, 0.87369545,\n",
       "       0.93936862, 0.93379913, 0.92822501, 0.92045187, 0.91988858,\n",
       "       0.9221108 , 0.91430981, 0.90541628, 0.90041473, 0.93268802,\n",
       "       0.93380223, 0.92546116, 0.93157072, 0.92711699, 0.92878675,\n",
       "       0.9093191 , 0.91265552, 0.90541783, 0.83250387, 0.82193903,\n",
       "       0.81526308, 0.79580316, 0.80913185, 0.825277  , 0.82469669,\n",
       "       0.82251161, 0.81859331, 0.83808573, 0.83530176, 0.84699474,\n",
       "       0.84307645, 0.82973383, 0.8313974 , 0.82915661, 0.85087434,\n",
       "       0.84865986, 0.80970907, 0.81857784, 0.81802383, 0.81303312,\n",
       "       0.81915816, 0.81859022, 0.80082792, 0.80857939, 0.80747292,\n",
       "       0.93268802, 0.93100588, 0.92934076, 0.92712163, 0.91820334,\n",
       "       0.92044259, 0.8887264 , 0.87981275, 0.89817084, 0.93936862,\n",
       "       0.93824822, 0.9354689 , 0.9293485 , 0.9287883 , 0.93546271,\n",
       "       0.91598731, 0.91988239, 0.92043949, 0.93157382, 0.93491334,\n",
       "       0.92768493, 0.92044104, 0.936026  , 0.92878675, 0.91208914,\n",
       "       0.91654906, 0.90988548, 0.80523832, 0.79358403, 0.80636181,\n",
       "       0.81303002, 0.81915661, 0.81468895, 0.80969669, 0.7891009 ,\n",
       "       0.81301919, 0.83138812, 0.84754101, 0.84141133, 0.85257196,\n",
       "       0.83529248, 0.84587898, 0.84807645, 0.84420458, 0.83251625,\n",
       "       0.81747911, 0.80243733, 0.82637419, 0.81694212, 0.8224853 ,\n",
       "       0.81191736, 0.81579851, 0.81413185, 0.80469514, 0.93155679,\n",
       "       0.93212937, 0.93045497, 0.92100124, 0.91821727, 0.91319715,\n",
       "       0.88983596, 0.88368926, 0.88927112, 0.94547663, 0.93880068,\n",
       "       0.93045961, 0.92766945, 0.93156763, 0.92991334, 0.91710616,\n",
       "       0.92322501, 0.92043485, 0.93491179, 0.93713401, 0.9354689 ,\n",
       "       0.92433921, 0.92991179, 0.92378985, 0.91710306, 0.91599041,\n",
       "       0.91154441])"
      ]
     },
     "execution_count": 11,
     "metadata": {},
     "output_type": "execute_result"
    }
   ],
   "source": [
    "grid_search.cv_results_['mean_test_score']"
   ]
  },
  {
   "cell_type": "code",
   "execution_count": 12,
   "metadata": {
    "colab": {},
    "colab_type": "code",
    "id": "Qn-_f2f-3wXy",
    "outputId": "7fe5efb0-7143-49d3-e4d9-630aa0c833c7"
   },
   "outputs": [
    {
     "data": {
      "text/plain": [
       "RandomForestClassifier(bootstrap=False, criterion='entropy', max_features=3,\n",
       "                       n_estimators=50)"
      ]
     },
     "execution_count": 12,
     "metadata": {},
     "output_type": "execute_result"
    }
   ],
   "source": [
    "grid_search.best_estimator_"
   ]
  },
  {
   "cell_type": "code",
   "execution_count": null,
   "metadata": {
    "colab": {},
    "colab_type": "code",
    "id": "W7oP6_oS3wX0"
   },
   "outputs": [],
   "source": []
  }
 ],
 "metadata": {
  "colab": {
   "name": "RandomizedSearchCV_GridSearchCV.ipynb",
   "provenance": [],
   "version": "0.3.2"
  },
  "kernelspec": {
   "display_name": "Python 3",
   "language": "python",
   "name": "python3"
  },
  "language_info": {
   "codemirror_mode": {
    "name": "ipython",
    "version": 3
   },
   "file_extension": ".py",
   "mimetype": "text/x-python",
   "name": "python",
   "nbconvert_exporter": "python",
   "pygments_lexer": "ipython3",
   "version": "3.8.3"
  }
 },
 "nbformat": 4,
 "nbformat_minor": 1
}
