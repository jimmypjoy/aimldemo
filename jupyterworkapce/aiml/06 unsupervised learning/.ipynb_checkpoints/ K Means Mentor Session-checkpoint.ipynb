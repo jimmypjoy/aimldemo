{
 "cells": [
  {
   "cell_type": "markdown",
   "metadata": {},
   "source": [
    "# Simplicity and Depression - K means "
   ]
  },
  {
   "cell_type": "markdown",
   "metadata": {},
   "source": [
    "# Objective:\n",
    "To determine if there is a relationship between higher levels of black and white thinking and higher levels of self-reported \n",
    "depression in psychiatric patients hospitalized for depression.Also apply K means clustering and assign groups for model prediction"
   ]
  },
  {
   "cell_type": "markdown",
   "metadata": {},
   "source": [
    "# Context:\n",
    "It is common for people who tend to think of their reality as a series of black and white events to suffer from depression. \n",
    "Psybersquare, Inc. describes a few examples of this way of thinking by saying that those who suffer from this way of thinking \n",
    "think that, \"If things aren't 'perfect,' then they must be \"horrible.\" If your child isn't \"brilliant\" then he must be 'stupid.' \n",
    "If you're not 'fascinating' then you must be 'boring.'\" This can be a difficult way to live since those suffering from this way \n",
    "of thinking may never feel that their reality is “good enough”. "
   ]
  },
  {
   "cell_type": "markdown",
   "metadata": {},
   "source": [
    "# Data Sources:\n",
    "The data used for this study is from the Ginzberg data frame which is based on psychiatric patients hospitalized for depression. \n",
    "Data is from the book Applied Regression Analysis and Generalized Linear Models, Second Edition by Fox, J. (2008). The dataset \n",
    "includes three variables - simplicity (black and white thinking), fatalism, and depression. The data also includes these \n",
    "variables each adjusted by regression for other variables thought to influence depression. For the purposes of this study, we \n",
    "will use the non-adjusted values. Ginzberg Dataset on Depression display_output(Ginzberg, out_type) simplicity fatalism \n",
    "depression adjsimp adjfatal adjdep \n",
    "\n",
    "Here, \"Black and white thinking\" is referred as \"Simplicity\""
   ]
  },
  {
   "cell_type": "code",
   "execution_count": 1,
   "metadata": {},
   "outputs": [],
   "source": [
    "# To enable plotting graphs in Jupyter notebook\n",
    "%matplotlib inline "
   ]
  },
  {
   "cell_type": "code",
   "execution_count": 2,
   "metadata": {},
   "outputs": [],
   "source": [
    "# Numerical libraries\n",
    "import numpy as np   \n",
    "\n",
    "from sklearn.model_selection import train_test_split\n",
    "\n",
    "from sklearn.cluster import KMeans\n",
    "\n",
    "# to handle data in form of rows and columns \n",
    "import pandas as pd    \n",
    "\n",
    "# importing ploting libraries\n",
    "import matplotlib.pyplot as plt   \n",
    "\n",
    "#importing seaborn for statistical plots\n",
    "import seaborn as sns\n",
    "\n",
    "from sklearn import metrics\n",
    "\n",
    "import pandas as pd"
   ]
  },
  {
   "cell_type": "code",
   "execution_count": 3,
   "metadata": {},
   "outputs": [],
   "source": [
    "# reading the CSV file into pandas dataframe\n",
    "mydata = pd.read_csv(\"Depression.csv\")"
   ]
  },
  {
   "cell_type": "code",
   "execution_count": 4,
   "metadata": {},
   "outputs": [
    {
     "data": {
      "text/html": [
       "<div>\n",
       "<style scoped>\n",
       "    .dataframe tbody tr th:only-of-type {\n",
       "        vertical-align: middle;\n",
       "    }\n",
       "\n",
       "    .dataframe tbody tr th {\n",
       "        vertical-align: top;\n",
       "    }\n",
       "\n",
       "    .dataframe thead th {\n",
       "        text-align: right;\n",
       "    }\n",
       "</style>\n",
       "<table border=\"1\" class=\"dataframe\">\n",
       "  <thead>\n",
       "    <tr style=\"text-align: right;\">\n",
       "      <th></th>\n",
       "      <th>id</th>\n",
       "      <th>simplicity</th>\n",
       "      <th>fatalism</th>\n",
       "      <th>depression</th>\n",
       "      <th>adjsimp</th>\n",
       "      <th>adjfatal</th>\n",
       "      <th>adjdep</th>\n",
       "    </tr>\n",
       "  </thead>\n",
       "  <tbody>\n",
       "    <tr>\n",
       "      <th>0</th>\n",
       "      <td>1</td>\n",
       "      <td>0.92983</td>\n",
       "      <td>0.35589</td>\n",
       "      <td>0.59870</td>\n",
       "      <td>0.75934</td>\n",
       "      <td>0.10673</td>\n",
       "      <td>0.41865</td>\n",
       "    </tr>\n",
       "    <tr>\n",
       "      <th>1</th>\n",
       "      <td>2</td>\n",
       "      <td>0.91097</td>\n",
       "      <td>1.18439</td>\n",
       "      <td>0.72787</td>\n",
       "      <td>0.72717</td>\n",
       "      <td>0.99915</td>\n",
       "      <td>0.51688</td>\n",
       "    </tr>\n",
       "    <tr>\n",
       "      <th>2</th>\n",
       "      <td>3</td>\n",
       "      <td>0.53366</td>\n",
       "      <td>-0.05837</td>\n",
       "      <td>0.53411</td>\n",
       "      <td>0.62176</td>\n",
       "      <td>0.03811</td>\n",
       "      <td>0.70699</td>\n",
       "    </tr>\n",
       "    <tr>\n",
       "      <th>3</th>\n",
       "      <td>4</td>\n",
       "      <td>0.74118</td>\n",
       "      <td>0.35589</td>\n",
       "      <td>0.56641</td>\n",
       "      <td>0.83522</td>\n",
       "      <td>0.42218</td>\n",
       "      <td>0.65639</td>\n",
       "    </tr>\n",
       "    <tr>\n",
       "      <th>4</th>\n",
       "      <td>5</td>\n",
       "      <td>0.53366</td>\n",
       "      <td>0.77014</td>\n",
       "      <td>0.50182</td>\n",
       "      <td>0.47697</td>\n",
       "      <td>0.81423</td>\n",
       "      <td>0.53518</td>\n",
       "    </tr>\n",
       "  </tbody>\n",
       "</table>\n",
       "</div>"
      ],
      "text/plain": [
       "   id  simplicity  fatalism  depression  adjsimp  adjfatal   adjdep\n",
       "0   1     0.92983   0.35589     0.59870  0.75934   0.10673  0.41865\n",
       "1   2     0.91097   1.18439     0.72787  0.72717   0.99915  0.51688\n",
       "2   3     0.53366  -0.05837     0.53411  0.62176   0.03811  0.70699\n",
       "3   4     0.74118   0.35589     0.56641  0.83522   0.42218  0.65639\n",
       "4   5     0.53366   0.77014     0.50182  0.47697   0.81423  0.53518"
      ]
     },
     "execution_count": 4,
     "metadata": {},
     "output_type": "execute_result"
    }
   ],
   "source": [
    "mydata.head()"
   ]
  },
  {
   "cell_type": "code",
   "execution_count": 5,
   "metadata": {},
   "outputs": [],
   "source": [
    "##Remove id since it is redundant\n",
    "mydata.drop('id', axis=1, inplace=True)"
   ]
  },
  {
   "cell_type": "code",
   "execution_count": 6,
   "metadata": {},
   "outputs": [
    {
     "data": {
      "text/plain": [
       "<matplotlib.axes._subplots.AxesSubplot at 0x2bbf11b6f70>"
      ]
     },
     "execution_count": 6,
     "metadata": {},
     "output_type": "execute_result"
    },
    {
     "data": {
      "image/png": "[encoded data removed]",
      "text/plain": [
       "<Figure size 432x288 with 2 Axes>"
      ]
     },
     "metadata": {
      "needs_background": "light"
     },
     "output_type": "display_data"
    }
   ],
   "source": [
    "corr = mydata.corr()\n",
    "sns.heatmap(corr, annot = True)"
   ]
  },
  {
   "cell_type": "code",
   "execution_count": 7,
   "metadata": {},
   "outputs": [
    {
     "name": "stdout",
     "output_type": "stream",
     "text": [
      "<class 'pandas.core.frame.DataFrame'>\n",
      "RangeIndex: 82 entries, 0 to 81\n",
      "Data columns (total 6 columns):\n",
      " #   Column      Non-Null Count  Dtype  \n",
      "---  ------      --------------  -----  \n",
      " 0   simplicity  82 non-null     float64\n",
      " 1   fatalism    82 non-null     float64\n",
      " 2   depression  82 non-null     float64\n",
      " 3   adjsimp     82 non-null     float64\n",
      " 4   adjfatal    82 non-null     float64\n",
      " 5   adjdep      82 non-null     float64\n",
      "dtypes: float64(6)\n",
      "memory usage: 4.0 KB\n"
     ]
    }
   ],
   "source": [
    "mydata.info()"
   ]
  },
  {
   "cell_type": "code",
   "execution_count": 8,
   "metadata": {
    "scrolled": true
   },
   "outputs": [
    {
     "data": {
      "text/html": [
       "<div>\n",
       "<style scoped>\n",
       "    .dataframe tbody tr th:only-of-type {\n",
       "        vertical-align: middle;\n",
       "    }\n",
       "\n",
       "    .dataframe tbody tr th {\n",
       "        vertical-align: top;\n",
       "    }\n",
       "\n",
       "    .dataframe thead th {\n",
       "        text-align: right;\n",
       "    }\n",
       "</style>\n",
       "<table border=\"1\" class=\"dataframe\">\n",
       "  <thead>\n",
       "    <tr style=\"text-align: right;\">\n",
       "      <th></th>\n",
       "      <th>count</th>\n",
       "      <th>mean</th>\n",
       "      <th>std</th>\n",
       "      <th>min</th>\n",
       "      <th>25%</th>\n",
       "      <th>50%</th>\n",
       "      <th>75%</th>\n",
       "      <th>max</th>\n",
       "    </tr>\n",
       "  </thead>\n",
       "  <tbody>\n",
       "    <tr>\n",
       "      <th>simplicity</th>\n",
       "      <td>82.0</td>\n",
       "      <td>1.000000</td>\n",
       "      <td>0.500000</td>\n",
       "      <td>0.25068</td>\n",
       "      <td>0.656282</td>\n",
       "      <td>0.882665</td>\n",
       "      <td>1.26940</td>\n",
       "      <td>2.85408</td>\n",
       "    </tr>\n",
       "    <tr>\n",
       "      <th>fatalism</th>\n",
       "      <td>82.0</td>\n",
       "      <td>1.000000</td>\n",
       "      <td>0.500001</td>\n",
       "      <td>-0.05837</td>\n",
       "      <td>0.563010</td>\n",
       "      <td>0.977270</td>\n",
       "      <td>1.39152</td>\n",
       "      <td>2.22003</td>\n",
       "    </tr>\n",
       "    <tr>\n",
       "      <th>depression</th>\n",
       "      <td>82.0</td>\n",
       "      <td>1.000001</td>\n",
       "      <td>0.500000</td>\n",
       "      <td>0.46953</td>\n",
       "      <td>0.566410</td>\n",
       "      <td>0.824750</td>\n",
       "      <td>1.37373</td>\n",
       "      <td>2.24565</td>\n",
       "    </tr>\n",
       "    <tr>\n",
       "      <th>adjsimp</th>\n",
       "      <td>82.0</td>\n",
       "      <td>1.000000</td>\n",
       "      <td>0.499999</td>\n",
       "      <td>0.23569</td>\n",
       "      <td>0.697958</td>\n",
       "      <td>0.968490</td>\n",
       "      <td>1.20179</td>\n",
       "      <td>2.94977</td>\n",
       "    </tr>\n",
       "    <tr>\n",
       "      <th>adjfatal</th>\n",
       "      <td>82.0</td>\n",
       "      <td>1.000000</td>\n",
       "      <td>0.500000</td>\n",
       "      <td>0.03012</td>\n",
       "      <td>0.731598</td>\n",
       "      <td>0.924290</td>\n",
       "      <td>1.29912</td>\n",
       "      <td>2.24931</td>\n",
       "    </tr>\n",
       "    <tr>\n",
       "      <th>adjdep</th>\n",
       "      <td>82.0</td>\n",
       "      <td>1.000000</td>\n",
       "      <td>0.500000</td>\n",
       "      <td>0.23454</td>\n",
       "      <td>0.596565</td>\n",
       "      <td>0.967845</td>\n",
       "      <td>1.26175</td>\n",
       "      <td>2.78763</td>\n",
       "    </tr>\n",
       "  </tbody>\n",
       "</table>\n",
       "</div>"
      ],
      "text/plain": [
       "            count      mean       std      min       25%       50%      75%  \\\n",
       "simplicity   82.0  1.000000  0.500000  0.25068  0.656282  0.882665  1.26940   \n",
       "fatalism     82.0  1.000000  0.500001 -0.05837  0.563010  0.977270  1.39152   \n",
       "depression   82.0  1.000001  0.500000  0.46953  0.566410  0.824750  1.37373   \n",
       "adjsimp      82.0  1.000000  0.499999  0.23569  0.697958  0.968490  1.20179   \n",
       "adjfatal     82.0  1.000000  0.500000  0.03012  0.731598  0.924290  1.29912   \n",
       "adjdep       82.0  1.000000  0.500000  0.23454  0.596565  0.967845  1.26175   \n",
       "\n",
       "                max  \n",
       "simplicity  2.85408  \n",
       "fatalism    2.22003  \n",
       "depression  2.24565  \n",
       "adjsimp     2.94977  \n",
       "adjfatal    2.24931  \n",
       "adjdep      2.78763  "
      ]
     },
     "execution_count": 8,
     "metadata": {},
     "output_type": "execute_result"
    }
   ],
   "source": [
    "mydata.describe().transpose()"
   ]
  },
  {
   "cell_type": "code",
   "execution_count": 9,
   "metadata": {},
   "outputs": [],
   "source": [
    "mydata.drop(columns = {'simplicity', 'fatalism','depression'}, inplace=True)"
   ]
  },
  {
   "cell_type": "code",
   "execution_count": 10,
   "metadata": {},
   "outputs": [
    {
     "data": {
      "text/plain": [
       "<seaborn.axisgrid.PairGrid at 0x2bbf19cff40>"
      ]
     },
     "execution_count": 10,
     "metadata": {},
     "output_type": "execute_result"
    },
    {
     "data": {
      "image/png": "[encoded data removed]",
      "text/plain": [
       "<Figure size 540x540 with 12 Axes>"
      ]
     },
     "metadata": {
      "needs_background": "light"
     },
     "output_type": "display_data"
    }
   ],
   "source": [
    "import seaborn as sns\n",
    "sns.pairplot(mydata, diag_kind='kde') "
   ]
  },
  {
   "cell_type": "code",
   "execution_count": null,
   "metadata": {},
   "outputs": [],
   "source": [
    "##Based on the kde plots, we can work with 2 or 3 clusters"
   ]
  },
  {
   "cell_type": "code",
   "execution_count": null,
   "metadata": {},
   "outputs": [],
   "source": [
    "##Scale the data\n",
    "from scipy.stats import zscore\n",
    "\n",
    "mydata_z = mydata.apply(zscore)\n"
   ]
  },
  {
   "cell_type": "code",
   "execution_count": null,
   "metadata": {},
   "outputs": [],
   "source": [
    "#Finding optimal no. of clusters\n",
    "from scipy.spatial.distance import cdist\n",
    "clusters=range(1,10)\n",
    "meanDistortions=[]\n",
    "\n",
    "for k in clusters:\n",
    "    model=KMeans(n_clusters=k)\n",
    "    model.fit(mydata)\n",
    "    prediction=model.predict(mydata)\n",
    "    meanDistortions.append(sum(np.min(cdist(mydata, model.cluster_centers_, 'euclidean'), axis=1)) / mydata\n",
    "                           .shape[0])\n",
    "\n",
    "\n",
    "plt.plot(clusters, meanDistortions, 'bx-')\n",
    "plt.xlabel('k')\n",
    "plt.ylabel('Average distortion')\n",
    "plt.title('Selecting k with the Elbow Method')"
   ]
  },
  {
   "cell_type": "code",
   "execution_count": null,
   "metadata": {},
   "outputs": [],
   "source": [
    "#Set the value of k=6\n",
    "kmeans = KMeans(n_clusters=6, n_init = 15, random_state=2345)"
   ]
  },
  {
   "cell_type": "code",
   "execution_count": null,
   "metadata": {},
   "outputs": [],
   "source": [
    "kmeans.fit(mydata_z)"
   ]
  },
  {
   "cell_type": "code",
   "execution_count": null,
   "metadata": {},
   "outputs": [],
   "source": [
    "centroids = kmeans.cluster_centers_"
   ]
  },
  {
   "cell_type": "code",
   "execution_count": null,
   "metadata": {},
   "outputs": [],
   "source": [
    "centroids"
   ]
  },
  {
   "cell_type": "code",
   "execution_count": null,
   "metadata": {},
   "outputs": [],
   "source": [
    "#Clculate the centroids for the columns to profile\n",
    "centroid_df = pd.DataFrame(centroids, columns = list(mydata_z) )"
   ]
  },
  {
   "cell_type": "code",
   "execution_count": null,
   "metadata": {},
   "outputs": [],
   "source": [
    "print(centroid_df)"
   ]
  },
  {
   "cell_type": "code",
   "execution_count": null,
   "metadata": {},
   "outputs": [],
   "source": [
    "## creating a new dataframe only for labels and converting it into categorical variable\n",
    "df_labels = pd.DataFrame(kmeans.labels_ , columns = list(['labels']))\n",
    "\n",
    "df_labels['labels'] = df_labels['labels'].astype('category')"
   ]
  },
  {
   "cell_type": "code",
   "execution_count": null,
   "metadata": {},
   "outputs": [],
   "source": [
    "# Joining the label dataframe with the data frame.\n",
    "df_labeled = mydata.join(df_labels)"
   ]
  },
  {
   "cell_type": "code",
   "execution_count": null,
   "metadata": {},
   "outputs": [],
   "source": [
    "df_analysis = (df_labeled.groupby(['labels'] , axis=0)).head(4177)  # the groupby creates a groupeddataframe that needs \n",
    "# to be converted back to dataframe. \n",
    "df_analysis"
   ]
  },
  {
   "cell_type": "code",
   "execution_count": null,
   "metadata": {},
   "outputs": [],
   "source": [
    "df_labeled['labels'].value_counts()  "
   ]
  },
  {
   "cell_type": "code",
   "execution_count": null,
   "metadata": {},
   "outputs": [],
   "source": [
    "# Let us try with K = 3 (to demonstrate the 3d plot using mplot3d)\n",
    "from mpl_toolkits.mplot3d import Axes3D"
   ]
  },
  {
   "cell_type": "code",
   "execution_count": null,
   "metadata": {},
   "outputs": [],
   "source": [
    "\n",
    "## 3D plots of clusters\n",
    "\n",
    "fig = plt.figure(figsize=(8, 6))\n",
    "ax = Axes3D(fig, rect=[0, 0, .95, 1], elev=20, azim=60)\n",
    "k3_model=KMeans(3)\n",
    "k3_model.fit(mydata_z)\n",
    "labels = k3_model.labels_\n",
    "ax.scatter(mydata_z.iloc[:, 0], mydata_z.iloc[:, 1], mydata_z.iloc[:, 2],c=labels.astype(np.float), edgecolor='k')\n",
    "ax.w_xaxis.set_ticklabels([])\n",
    "ax.w_yaxis.set_ticklabels([])\n",
    "ax.w_zaxis.set_ticklabels([])\n",
    "ax.set_xlabel('Length')\n",
    "ax.set_ylabel('Height')\n",
    "ax.set_zlabel('Weight')\n",
    "ax.set_title('3D plot of KMeans Clustering')"
   ]
  },
  {
   "cell_type": "code",
   "execution_count": null,
   "metadata": {},
   "outputs": [],
   "source": [
    "# Let us try with K = 3 (to demonstrate the 3d plot)\n",
    "final_model=KMeans(3)\n",
    "final_model.fit(mydata)\n",
    "prediction=final_model.predict(mydata)\n",
    "\n",
    "#Append the prediction \n",
    "mydata[\"GROUP\"] = prediction\n",
    "print(\"Groups Assigned : \\n\")\n",
    "mydata[[\"adjdep\", \"GROUP\"]]"
   ]
  },
  {
   "cell_type": "code",
   "execution_count": null,
   "metadata": {},
   "outputs": [],
   "source": [
    "mydata.boxplot(by = 'GROUP',  layout=(2,4), figsize=(20, 15))"
   ]
  },
  {
   "cell_type": "code",
   "execution_count": null,
   "metadata": {},
   "outputs": [],
   "source": [
    "#To determine if a relationship exists between black and white thinking(simplicity) and depression. \n",
    "mydata['adjsimp'].corr(mydata['adjdep'])"
   ]
  },
  {
   "cell_type": "markdown",
   "metadata": {},
   "source": [
    "The correlation coefficient above indicates that the relationship between black and white thinking and depression can be \n",
    "considered moderate and positive. This means that we can see a clear relationship between black and white thinking and \n",
    "Depression, although the relationship is not perfect. The fact that the correlation coefficient is positive, indicates that \n",
    "higher levels of black and white thinking is associated with higher levels of depression"
   ]
  },
  {
   "cell_type": "code",
   "execution_count": null,
   "metadata": {},
   "outputs": [],
   "source": [
    "%matplotlib inline\n",
    "import pandas as pd\n",
    "plt.plot(mydata['adjsimp'], mydata['adjdep'], 'bo')\n",
    "z = np.polyfit(mydata['adjsimp'], mydata['adjdep'],1)\n",
    "p = np.poly1d(z)\n",
    "plt.plot(mydata['adjsimp'], p(mydata['adjsimp']), \"r--\")\n",
    "\n",
    "#geom_point()"
   ]
  },
  {
   "cell_type": "code",
   "execution_count": null,
   "metadata": {},
   "outputs": [],
   "source": [
    "# As you can see from the above graphic, although the data does not form a perfectly straight line, it does fall in a way that \n",
    "#indicates a positive relationship. Therefore, we can once again conclude that there is a relationship between black and white \n",
    "#thinking and depression. It is important to note, however, that correlation does not in any way indicate causality and is merely\n",
    "#indicative of a relationship between the two."
   ]
  },
  {
   "cell_type": "code",
   "execution_count": null,
   "metadata": {},
   "outputs": [],
   "source": []
  }
 ],
 "metadata": {
  "kernelspec": {
   "display_name": "Python 3",
   "language": "python",
   "name": "python3"
  },
  "language_info": {
   "codemirror_mode": {
    "name": "ipython",
    "version": 3
   },
   "file_extension": ".py",
   "mimetype": "text/x-python",
   "name": "python",
   "nbconvert_exporter": "python",
   "pygments_lexer": "ipython3",
   "version": "3.8.3"
  }
 },
 "nbformat": 4,
 "nbformat_minor": 2
}
