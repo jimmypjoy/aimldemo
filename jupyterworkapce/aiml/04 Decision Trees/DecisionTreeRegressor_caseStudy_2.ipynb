{
 "cells": [
  {
   "cell_type": "markdown",
   "metadata": {},
   "source": [
    "# Case Study: Decision Tree Regressor \n",
    "- To predict the Pay Rate of Employees."
   ]
  },
  {
   "cell_type": "code",
   "execution_count": 1,
   "metadata": {},
   "outputs": [],
   "source": [
    "import warnings\n",
    "warnings.filterwarnings('ignore')"
   ]
  },
  {
   "cell_type": "code",
   "execution_count": 2,
   "metadata": {},
   "outputs": [],
   "source": [
    "#Import Library\n",
    "\n",
    "import numpy as np # linear algebra\n",
    "import pandas as pd # data processing, CSV file I/O (e.g. pd.read_csv)"
   ]
  },
  {
   "cell_type": "code",
   "execution_count": 3,
   "metadata": {},
   "outputs": [],
   "source": [
    "#Reading the data from file\n",
    "\n",
    "df = pd.read_excel('HRDataset_v13.xlsx')"
   ]
  },
  {
   "cell_type": "code",
   "execution_count": 4,
   "metadata": {},
   "outputs": [
    {
     "data": {
      "text/html": [
       "<div>\n",
       "<style scoped>\n",
       "    .dataframe tbody tr th:only-of-type {\n",
       "        vertical-align: middle;\n",
       "    }\n",
       "\n",
       "    .dataframe tbody tr th {\n",
       "        vertical-align: top;\n",
       "    }\n",
       "\n",
       "    .dataframe thead th {\n",
       "        text-align: right;\n",
       "    }\n",
       "</style>\n",
       "<table border=\"1\" class=\"dataframe\">\n",
       "  <thead>\n",
       "    <tr style=\"text-align: right;\">\n",
       "      <th></th>\n",
       "      <th>Employee_Name</th>\n",
       "      <th>EmpID</th>\n",
       "      <th>MarriedID</th>\n",
       "      <th>MaritalStatusID</th>\n",
       "      <th>GenderID</th>\n",
       "      <th>EmpStatusID</th>\n",
       "      <th>DeptID</th>\n",
       "      <th>PerfScoreID</th>\n",
       "      <th>FromDiversityJobFairID</th>\n",
       "      <th>PayRate</th>\n",
       "      <th>...</th>\n",
       "      <th>Department</th>\n",
       "      <th>ManagerName</th>\n",
       "      <th>ManagerID</th>\n",
       "      <th>RecruitmentSource</th>\n",
       "      <th>PerformanceScore</th>\n",
       "      <th>EngagementSurvey</th>\n",
       "      <th>EmpSatisfaction</th>\n",
       "      <th>SpecialProjectsCount</th>\n",
       "      <th>LastPerformanceReview_Date</th>\n",
       "      <th>DaysLateLast30</th>\n",
       "    </tr>\n",
       "  </thead>\n",
       "  <tbody>\n",
       "    <tr>\n",
       "      <th>0</th>\n",
       "      <td>Brown, Mia</td>\n",
       "      <td>1103024456</td>\n",
       "      <td>1</td>\n",
       "      <td>1</td>\n",
       "      <td>0</td>\n",
       "      <td>1</td>\n",
       "      <td>1</td>\n",
       "      <td>3</td>\n",
       "      <td>1</td>\n",
       "      <td>28.50</td>\n",
       "      <td>...</td>\n",
       "      <td>Admin Offices</td>\n",
       "      <td>Brandon R. LeBlanc</td>\n",
       "      <td>1</td>\n",
       "      <td>Diversity Job Fair</td>\n",
       "      <td>Fully Meets</td>\n",
       "      <td>2.04</td>\n",
       "      <td>2</td>\n",
       "      <td>6</td>\n",
       "      <td>2019-01-15</td>\n",
       "      <td>0.0</td>\n",
       "    </tr>\n",
       "    <tr>\n",
       "      <th>1</th>\n",
       "      <td>LaRotonda, William</td>\n",
       "      <td>1106026572</td>\n",
       "      <td>0</td>\n",
       "      <td>2</td>\n",
       "      <td>1</td>\n",
       "      <td>1</td>\n",
       "      <td>1</td>\n",
       "      <td>3</td>\n",
       "      <td>0</td>\n",
       "      <td>23.00</td>\n",
       "      <td>...</td>\n",
       "      <td>Admin Offices</td>\n",
       "      <td>Brandon R. LeBlanc</td>\n",
       "      <td>1</td>\n",
       "      <td>Website Banner Ads</td>\n",
       "      <td>Fully Meets</td>\n",
       "      <td>5.00</td>\n",
       "      <td>4</td>\n",
       "      <td>4</td>\n",
       "      <td>2019-01-17</td>\n",
       "      <td>0.0</td>\n",
       "    </tr>\n",
       "    <tr>\n",
       "      <th>2</th>\n",
       "      <td>Steans, Tyrone</td>\n",
       "      <td>1302053333</td>\n",
       "      <td>0</td>\n",
       "      <td>0</td>\n",
       "      <td>1</td>\n",
       "      <td>1</td>\n",
       "      <td>1</td>\n",
       "      <td>3</td>\n",
       "      <td>0</td>\n",
       "      <td>29.00</td>\n",
       "      <td>...</td>\n",
       "      <td>Admin Offices</td>\n",
       "      <td>Brandon R. LeBlanc</td>\n",
       "      <td>1</td>\n",
       "      <td>Internet Search</td>\n",
       "      <td>Fully Meets</td>\n",
       "      <td>3.90</td>\n",
       "      <td>5</td>\n",
       "      <td>5</td>\n",
       "      <td>2019-01-18</td>\n",
       "      <td>0.0</td>\n",
       "    </tr>\n",
       "    <tr>\n",
       "      <th>3</th>\n",
       "      <td>Howard, Estelle</td>\n",
       "      <td>1211050782</td>\n",
       "      <td>1</td>\n",
       "      <td>1</td>\n",
       "      <td>0</td>\n",
       "      <td>1</td>\n",
       "      <td>1</td>\n",
       "      <td>3</td>\n",
       "      <td>0</td>\n",
       "      <td>21.50</td>\n",
       "      <td>...</td>\n",
       "      <td>Admin Offices</td>\n",
       "      <td>Brandon R. LeBlanc</td>\n",
       "      <td>1</td>\n",
       "      <td>Pay Per Click - Google</td>\n",
       "      <td>Fully Meets</td>\n",
       "      <td>3.24</td>\n",
       "      <td>3</td>\n",
       "      <td>4</td>\n",
       "      <td>NaT</td>\n",
       "      <td>NaN</td>\n",
       "    </tr>\n",
       "    <tr>\n",
       "      <th>4</th>\n",
       "      <td>Singh, Nan</td>\n",
       "      <td>1307059817</td>\n",
       "      <td>0</td>\n",
       "      <td>0</td>\n",
       "      <td>0</td>\n",
       "      <td>1</td>\n",
       "      <td>1</td>\n",
       "      <td>3</td>\n",
       "      <td>0</td>\n",
       "      <td>16.56</td>\n",
       "      <td>...</td>\n",
       "      <td>Admin Offices</td>\n",
       "      <td>Brandon R. LeBlanc</td>\n",
       "      <td>1</td>\n",
       "      <td>Website Banner Ads</td>\n",
       "      <td>Fully Meets</td>\n",
       "      <td>5.00</td>\n",
       "      <td>3</td>\n",
       "      <td>5</td>\n",
       "      <td>2019-01-15</td>\n",
       "      <td>0.0</td>\n",
       "    </tr>\n",
       "  </tbody>\n",
       "</table>\n",
       "<p>5 rows × 35 columns</p>\n",
       "</div>"
      ],
      "text/plain": [
       "          Employee_Name       EmpID  MarriedID  MaritalStatusID  GenderID  \\\n",
       "0            Brown, Mia  1103024456          1                1         0   \n",
       "1  LaRotonda, William    1106026572          0                2         1   \n",
       "2      Steans, Tyrone    1302053333          0                0         1   \n",
       "3       Howard, Estelle  1211050782          1                1         0   \n",
       "4           Singh, Nan   1307059817          0                0         0   \n",
       "\n",
       "   EmpStatusID  DeptID  PerfScoreID  FromDiversityJobFairID  PayRate  ...  \\\n",
       "0            1       1            3                       1    28.50  ...   \n",
       "1            1       1            3                       0    23.00  ...   \n",
       "2            1       1            3                       0    29.00  ...   \n",
       "3            1       1            3                       0    21.50  ...   \n",
       "4            1       1            3                       0    16.56  ...   \n",
       "\n",
       "      Department         ManagerName ManagerID       RecruitmentSource  \\\n",
       "0  Admin Offices  Brandon R. LeBlanc         1      Diversity Job Fair   \n",
       "1  Admin Offices  Brandon R. LeBlanc         1      Website Banner Ads   \n",
       "2  Admin Offices  Brandon R. LeBlanc         1         Internet Search   \n",
       "3  Admin Offices  Brandon R. LeBlanc         1  Pay Per Click - Google   \n",
       "4  Admin Offices  Brandon R. LeBlanc         1      Website Banner Ads   \n",
       "\n",
       "   PerformanceScore EngagementSurvey EmpSatisfaction SpecialProjectsCount  \\\n",
       "0       Fully Meets             2.04               2                    6   \n",
       "1       Fully Meets             5.00               4                    4   \n",
       "2       Fully Meets             3.90               5                    5   \n",
       "3       Fully Meets             3.24               3                    4   \n",
       "4       Fully Meets             5.00               3                    5   \n",
       "\n",
       "  LastPerformanceReview_Date DaysLateLast30  \n",
       "0                 2019-01-15            0.0  \n",
       "1                 2019-01-17            0.0  \n",
       "2                 2019-01-18            0.0  \n",
       "3                        NaT            NaN  \n",
       "4                 2019-01-15            0.0  \n",
       "\n",
       "[5 rows x 35 columns]"
      ]
     },
     "execution_count": 4,
     "metadata": {},
     "output_type": "execute_result"
    }
   ],
   "source": [
    "df.head(5) #first five data points"
   ]
  },
  {
   "cell_type": "markdown",
   "metadata": {},
   "source": [
    "# Data Exploration"
   ]
  },
  {
   "cell_type": "code",
   "execution_count": 5,
   "metadata": {},
   "outputs": [
    {
     "data": {
      "text/html": [
       "<div>\n",
       "<style scoped>\n",
       "    .dataframe tbody tr th:only-of-type {\n",
       "        vertical-align: middle;\n",
       "    }\n",
       "\n",
       "    .dataframe tbody tr th {\n",
       "        vertical-align: top;\n",
       "    }\n",
       "\n",
       "    .dataframe thead th {\n",
       "        text-align: right;\n",
       "    }\n",
       "</style>\n",
       "<table border=\"1\" class=\"dataframe\">\n",
       "  <thead>\n",
       "    <tr style=\"text-align: right;\">\n",
       "      <th></th>\n",
       "      <th>count</th>\n",
       "      <th>mean</th>\n",
       "      <th>std</th>\n",
       "      <th>min</th>\n",
       "      <th>25%</th>\n",
       "      <th>50%</th>\n",
       "      <th>75%</th>\n",
       "      <th>max</th>\n",
       "    </tr>\n",
       "  </thead>\n",
       "  <tbody>\n",
       "    <tr>\n",
       "      <th>EmpID</th>\n",
       "      <td>310.0</td>\n",
       "      <td>1.199745e+09</td>\n",
       "      <td>1.829600e+08</td>\n",
       "      <td>6.020003e+08</td>\n",
       "      <td>1.101024e+09</td>\n",
       "      <td>1.203032e+09</td>\n",
       "      <td>1.378814e+09</td>\n",
       "      <td>1.988300e+09</td>\n",
       "    </tr>\n",
       "    <tr>\n",
       "      <th>MarriedID</th>\n",
       "      <td>310.0</td>\n",
       "      <td>3.967742e-01</td>\n",
       "      <td>4.900194e-01</td>\n",
       "      <td>0.000000e+00</td>\n",
       "      <td>0.000000e+00</td>\n",
       "      <td>0.000000e+00</td>\n",
       "      <td>1.000000e+00</td>\n",
       "      <td>1.000000e+00</td>\n",
       "    </tr>\n",
       "    <tr>\n",
       "      <th>MaritalStatusID</th>\n",
       "      <td>310.0</td>\n",
       "      <td>8.096774e-01</td>\n",
       "      <td>9.447024e-01</td>\n",
       "      <td>0.000000e+00</td>\n",
       "      <td>0.000000e+00</td>\n",
       "      <td>1.000000e+00</td>\n",
       "      <td>1.000000e+00</td>\n",
       "      <td>4.000000e+00</td>\n",
       "    </tr>\n",
       "    <tr>\n",
       "      <th>GenderID</th>\n",
       "      <td>310.0</td>\n",
       "      <td>4.290323e-01</td>\n",
       "      <td>4.957382e-01</td>\n",
       "      <td>0.000000e+00</td>\n",
       "      <td>0.000000e+00</td>\n",
       "      <td>0.000000e+00</td>\n",
       "      <td>1.000000e+00</td>\n",
       "      <td>1.000000e+00</td>\n",
       "    </tr>\n",
       "    <tr>\n",
       "      <th>EmpStatusID</th>\n",
       "      <td>310.0</td>\n",
       "      <td>2.396774e+00</td>\n",
       "      <td>1.795533e+00</td>\n",
       "      <td>1.000000e+00</td>\n",
       "      <td>1.000000e+00</td>\n",
       "      <td>1.000000e+00</td>\n",
       "      <td>5.000000e+00</td>\n",
       "      <td>5.000000e+00</td>\n",
       "    </tr>\n",
       "    <tr>\n",
       "      <th>DeptID</th>\n",
       "      <td>310.0</td>\n",
       "      <td>4.606452e+00</td>\n",
       "      <td>1.082349e+00</td>\n",
       "      <td>1.000000e+00</td>\n",
       "      <td>5.000000e+00</td>\n",
       "      <td>5.000000e+00</td>\n",
       "      <td>5.000000e+00</td>\n",
       "      <td>6.000000e+00</td>\n",
       "    </tr>\n",
       "    <tr>\n",
       "      <th>PerfScoreID</th>\n",
       "      <td>310.0</td>\n",
       "      <td>2.983871e+00</td>\n",
       "      <td>5.771242e-01</td>\n",
       "      <td>1.000000e+00</td>\n",
       "      <td>3.000000e+00</td>\n",
       "      <td>3.000000e+00</td>\n",
       "      <td>3.000000e+00</td>\n",
       "      <td>4.000000e+00</td>\n",
       "    </tr>\n",
       "    <tr>\n",
       "      <th>FromDiversityJobFairID</th>\n",
       "      <td>310.0</td>\n",
       "      <td>9.354839e-02</td>\n",
       "      <td>2.916702e-01</td>\n",
       "      <td>0.000000e+00</td>\n",
       "      <td>0.000000e+00</td>\n",
       "      <td>0.000000e+00</td>\n",
       "      <td>0.000000e+00</td>\n",
       "      <td>1.000000e+00</td>\n",
       "    </tr>\n",
       "    <tr>\n",
       "      <th>PayRate</th>\n",
       "      <td>310.0</td>\n",
       "      <td>3.128481e+01</td>\n",
       "      <td>1.538362e+01</td>\n",
       "      <td>1.400000e+01</td>\n",
       "      <td>2.000000e+01</td>\n",
       "      <td>2.400000e+01</td>\n",
       "      <td>4.531500e+01</td>\n",
       "      <td>8.000000e+01</td>\n",
       "    </tr>\n",
       "    <tr>\n",
       "      <th>Termd</th>\n",
       "      <td>310.0</td>\n",
       "      <td>3.322581e-01</td>\n",
       "      <td>4.717845e-01</td>\n",
       "      <td>0.000000e+00</td>\n",
       "      <td>0.000000e+00</td>\n",
       "      <td>0.000000e+00</td>\n",
       "      <td>1.000000e+00</td>\n",
       "      <td>1.000000e+00</td>\n",
       "    </tr>\n",
       "    <tr>\n",
       "      <th>PositionID</th>\n",
       "      <td>310.0</td>\n",
       "      <td>1.683871e+01</td>\n",
       "      <td>6.232272e+00</td>\n",
       "      <td>1.000000e+00</td>\n",
       "      <td>1.800000e+01</td>\n",
       "      <td>1.900000e+01</td>\n",
       "      <td>2.000000e+01</td>\n",
       "      <td>3.000000e+01</td>\n",
       "    </tr>\n",
       "    <tr>\n",
       "      <th>Zip</th>\n",
       "      <td>310.0</td>\n",
       "      <td>6.569732e+03</td>\n",
       "      <td>1.693386e+04</td>\n",
       "      <td>1.013000e+03</td>\n",
       "      <td>1.901250e+03</td>\n",
       "      <td>2.132000e+03</td>\n",
       "      <td>2.357000e+03</td>\n",
       "      <td>9.805200e+04</td>\n",
       "    </tr>\n",
       "    <tr>\n",
       "      <th>ManagerID</th>\n",
       "      <td>310.0</td>\n",
       "      <td>1.520968e+01</td>\n",
       "      <td>8.876968e+00</td>\n",
       "      <td>1.000000e+00</td>\n",
       "      <td>1.000000e+01</td>\n",
       "      <td>1.600000e+01</td>\n",
       "      <td>1.975000e+01</td>\n",
       "      <td>3.900000e+01</td>\n",
       "    </tr>\n",
       "    <tr>\n",
       "      <th>EngagementSurvey</th>\n",
       "      <td>310.0</td>\n",
       "      <td>3.332097e+00</td>\n",
       "      <td>1.290590e+00</td>\n",
       "      <td>1.030000e+00</td>\n",
       "      <td>2.082500e+00</td>\n",
       "      <td>3.470000e+00</td>\n",
       "      <td>4.520000e+00</td>\n",
       "      <td>5.000000e+00</td>\n",
       "    </tr>\n",
       "    <tr>\n",
       "      <th>EmpSatisfaction</th>\n",
       "      <td>310.0</td>\n",
       "      <td>3.890323e+00</td>\n",
       "      <td>9.106898e-01</td>\n",
       "      <td>1.000000e+00</td>\n",
       "      <td>3.000000e+00</td>\n",
       "      <td>4.000000e+00</td>\n",
       "      <td>5.000000e+00</td>\n",
       "      <td>5.000000e+00</td>\n",
       "    </tr>\n",
       "    <tr>\n",
       "      <th>SpecialProjectsCount</th>\n",
       "      <td>310.0</td>\n",
       "      <td>1.209677e+00</td>\n",
       "      <td>2.352009e+00</td>\n",
       "      <td>0.000000e+00</td>\n",
       "      <td>0.000000e+00</td>\n",
       "      <td>0.000000e+00</td>\n",
       "      <td>0.000000e+00</td>\n",
       "      <td>8.000000e+00</td>\n",
       "    </tr>\n",
       "    <tr>\n",
       "      <th>DaysLateLast30</th>\n",
       "      <td>207.0</td>\n",
       "      <td>0.000000e+00</td>\n",
       "      <td>0.000000e+00</td>\n",
       "      <td>0.000000e+00</td>\n",
       "      <td>0.000000e+00</td>\n",
       "      <td>0.000000e+00</td>\n",
       "      <td>0.000000e+00</td>\n",
       "      <td>0.000000e+00</td>\n",
       "    </tr>\n",
       "  </tbody>\n",
       "</table>\n",
       "</div>"
      ],
      "text/plain": [
       "                        count          mean           std           min  \\\n",
       "EmpID                   310.0  1.199745e+09  1.829600e+08  6.020003e+08   \n",
       "MarriedID               310.0  3.967742e-01  4.900194e-01  0.000000e+00   \n",
       "MaritalStatusID         310.0  8.096774e-01  9.447024e-01  0.000000e+00   \n",
       "GenderID                310.0  4.290323e-01  4.957382e-01  0.000000e+00   \n",
       "EmpStatusID             310.0  2.396774e+00  1.795533e+00  1.000000e+00   \n",
       "DeptID                  310.0  4.606452e+00  1.082349e+00  1.000000e+00   \n",
       "PerfScoreID             310.0  2.983871e+00  5.771242e-01  1.000000e+00   \n",
       "FromDiversityJobFairID  310.0  9.354839e-02  2.916702e-01  0.000000e+00   \n",
       "PayRate                 310.0  3.128481e+01  1.538362e+01  1.400000e+01   \n",
       "Termd                   310.0  3.322581e-01  4.717845e-01  0.000000e+00   \n",
       "PositionID              310.0  1.683871e+01  6.232272e+00  1.000000e+00   \n",
       "Zip                     310.0  6.569732e+03  1.693386e+04  1.013000e+03   \n",
       "ManagerID               310.0  1.520968e+01  8.876968e+00  1.000000e+00   \n",
       "EngagementSurvey        310.0  3.332097e+00  1.290590e+00  1.030000e+00   \n",
       "EmpSatisfaction         310.0  3.890323e+00  9.106898e-01  1.000000e+00   \n",
       "SpecialProjectsCount    310.0  1.209677e+00  2.352009e+00  0.000000e+00   \n",
       "DaysLateLast30          207.0  0.000000e+00  0.000000e+00  0.000000e+00   \n",
       "\n",
       "                                 25%           50%           75%           max  \n",
       "EmpID                   1.101024e+09  1.203032e+09  1.378814e+09  1.988300e+09  \n",
       "MarriedID               0.000000e+00  0.000000e+00  1.000000e+00  1.000000e+00  \n",
       "MaritalStatusID         0.000000e+00  1.000000e+00  1.000000e+00  4.000000e+00  \n",
       "GenderID                0.000000e+00  0.000000e+00  1.000000e+00  1.000000e+00  \n",
       "EmpStatusID             1.000000e+00  1.000000e+00  5.000000e+00  5.000000e+00  \n",
       "DeptID                  5.000000e+00  5.000000e+00  5.000000e+00  6.000000e+00  \n",
       "PerfScoreID             3.000000e+00  3.000000e+00  3.000000e+00  4.000000e+00  \n",
       "FromDiversityJobFairID  0.000000e+00  0.000000e+00  0.000000e+00  1.000000e+00  \n",
       "PayRate                 2.000000e+01  2.400000e+01  4.531500e+01  8.000000e+01  \n",
       "Termd                   0.000000e+00  0.000000e+00  1.000000e+00  1.000000e+00  \n",
       "PositionID              1.800000e+01  1.900000e+01  2.000000e+01  3.000000e+01  \n",
       "Zip                     1.901250e+03  2.132000e+03  2.357000e+03  9.805200e+04  \n",
       "ManagerID               1.000000e+01  1.600000e+01  1.975000e+01  3.900000e+01  \n",
       "EngagementSurvey        2.082500e+00  3.470000e+00  4.520000e+00  5.000000e+00  \n",
       "EmpSatisfaction         3.000000e+00  4.000000e+00  5.000000e+00  5.000000e+00  \n",
       "SpecialProjectsCount    0.000000e+00  0.000000e+00  0.000000e+00  8.000000e+00  \n",
       "DaysLateLast30          0.000000e+00  0.000000e+00  0.000000e+00  0.000000e+00  "
      ]
     },
     "execution_count": 5,
     "metadata": {},
     "output_type": "execute_result"
    }
   ],
   "source": [
    "df.describe().transpose()"
   ]
  },
  {
   "cell_type": "code",
   "execution_count": 6,
   "metadata": {},
   "outputs": [
    {
     "data": {
      "text/plain": [
       "(310, 35)"
      ]
     },
     "execution_count": 6,
     "metadata": {},
     "output_type": "execute_result"
    }
   ],
   "source": [
    "df.shape #(rows,columns)"
   ]
  },
  {
   "cell_type": "code",
   "execution_count": 7,
   "metadata": {},
   "outputs": [
    {
     "data": {
      "text/plain": [
       "Index(['Employee_Name', 'EmpID', 'MarriedID', 'MaritalStatusID', 'GenderID',\n",
       "       'EmpStatusID', 'DeptID', 'PerfScoreID', 'FromDiversityJobFairID',\n",
       "       'PayRate', 'Termd', 'PositionID', 'Position', 'State', 'Zip', 'DOB',\n",
       "       'Sex', 'MaritalDesc', 'CitizenDesc', 'HispanicLatino', 'RaceDesc',\n",
       "       'DateofHire', 'DateofTermination', 'TermReason', 'EmploymentStatus',\n",
       "       'Department', 'ManagerName', 'ManagerID', 'RecruitmentSource',\n",
       "       'PerformanceScore', 'EngagementSurvey', 'EmpSatisfaction',\n",
       "       'SpecialProjectsCount', 'LastPerformanceReview_Date', 'DaysLateLast30'],\n",
       "      dtype='object')"
      ]
     },
     "execution_count": 7,
     "metadata": {},
     "output_type": "execute_result"
    }
   ],
   "source": [
    "df.columns #names of columns"
   ]
  },
  {
   "cell_type": "code",
   "execution_count": 8,
   "metadata": {},
   "outputs": [
    {
     "data": {
      "text/plain": [
       "Employee_Name                  0.00\n",
       "EmpID                          0.00\n",
       "MarriedID                      0.00\n",
       "MaritalStatusID                0.00\n",
       "GenderID                       0.00\n",
       "EmpStatusID                    0.00\n",
       "DeptID                         0.00\n",
       "PerfScoreID                    0.00\n",
       "FromDiversityJobFairID         0.00\n",
       "PayRate                        0.00\n",
       "Termd                          0.00\n",
       "PositionID                     0.00\n",
       "Position                       0.00\n",
       "State                          0.00\n",
       "Zip                            0.00\n",
       "DOB                            0.00\n",
       "Sex                            0.00\n",
       "MaritalDesc                    0.00\n",
       "CitizenDesc                    0.00\n",
       "HispanicLatino                 0.00\n",
       "RaceDesc                       0.00\n",
       "DateofHire                     0.00\n",
       "DateofTermination             66.77\n",
       "TermReason                     0.00\n",
       "EmploymentStatus               0.00\n",
       "Department                     0.00\n",
       "ManagerName                    0.00\n",
       "ManagerID                      0.00\n",
       "RecruitmentSource              0.00\n",
       "PerformanceScore               0.00\n",
       "EngagementSurvey               0.00\n",
       "EmpSatisfaction                0.00\n",
       "SpecialProjectsCount           0.00\n",
       "LastPerformanceReview_Date    33.23\n",
       "DaysLateLast30                33.23\n",
       "dtype: float64"
      ]
     },
     "execution_count": 8,
     "metadata": {},
     "output_type": "execute_result"
    }
   ],
   "source": [
    "round(df.isna().sum()*100/df.shape[0],2) #check for % null values"
   ]
  },
  {
   "cell_type": "markdown",
   "metadata": {},
   "source": [
    "# Gender"
   ]
  },
  {
   "cell_type": "code",
   "execution_count": 9,
   "metadata": {},
   "outputs": [
    {
     "data": {
      "text/plain": [
       "F     177\n",
       "M     133\n",
       "Name: Sex, dtype: int64"
      ]
     },
     "execution_count": 9,
     "metadata": {},
     "output_type": "execute_result"
    }
   ],
   "source": [
    "df['Sex'].value_counts()"
   ]
  },
  {
   "cell_type": "code",
   "execution_count": 10,
   "metadata": {},
   "outputs": [
    {
     "data": {
      "image/png": "[encoded data removed]",
      "text/plain": [
       "<Figure size 432x288 with 1 Axes>"
      ]
     },
     "metadata": {
      "needs_background": "light"
     },
     "output_type": "display_data"
    }
   ],
   "source": [
    "import matplotlib.pyplot as plt # import library for making plots\n",
    "\n",
    "df['Sex'].value_counts().plot(kind='bar') # barplot\n",
    "plt.show()"
   ]
  },
  {
   "cell_type": "code",
   "execution_count": 11,
   "metadata": {},
   "outputs": [
    {
     "data": {
      "image/png": "[encoded data removed]",
      "text/plain": [
       "<Figure size 1152x648 with 1 Axes>"
      ]
     },
     "metadata": {
      "needs_background": "light"
     },
     "output_type": "display_data"
    }
   ],
   "source": [
    "# Gender diversity across departmets\n",
    "import seaborn as sns # import seabron library for better visualization.\n",
    "plt.figure(figsize=(16,9)) # set figure size.\n",
    "ax=sns.countplot(x=df['Department'],hue=df['Sex']) # plot of different departments vs the count of Males and Females in each.\n",
    "plt.show()"
   ]
  },
  {
   "cell_type": "markdown",
   "metadata": {},
   "source": [
    "### Conclusions from graph :\n",
    "\n",
    "No males in executive office. Gender diversity is not maintained in production department and software engineering.(No.of females is nearly double the number of males)"
   ]
  },
  {
   "cell_type": "markdown",
   "metadata": {},
   "source": [
    "#### Other Graphs"
   ]
  },
  {
   "cell_type": "code",
   "execution_count": 12,
   "metadata": {},
   "outputs": [
    {
     "data": {
      "text/plain": [
       "<matplotlib.axes._subplots.AxesSubplot at 0x1e07fa6d640>"
      ]
     },
     "execution_count": 12,
     "metadata": {},
     "output_type": "execute_result"
    },
    {
     "data": {
      "image/png": "[encoded data removed]",
      "text/plain": [
       "<Figure size 576x576 with 1 Axes>"
      ]
     },
     "metadata": {},
     "output_type": "display_data"
    }
   ],
   "source": [
    "plt.figure(figsize=(8,8))\n",
    "df['RaceDesc'].value_counts().plot(kind='pie',autopct='%1.0f%%') # Pie chart representation of different Races of people."
   ]
  },
  {
   "cell_type": "code",
   "execution_count": 13,
   "metadata": {},
   "outputs": [
    {
     "data": {
      "text/plain": [
       "array(['US Citizen', 'Eligible NonCitizen', 'Non-Citizen'], dtype=object)"
      ]
     },
     "execution_count": 13,
     "metadata": {},
     "output_type": "execute_result"
    }
   ],
   "source": [
    "df['CitizenDesc'].unique() # Names of unique citizenship type."
   ]
  },
  {
   "cell_type": "code",
   "execution_count": 14,
   "metadata": {},
   "outputs": [
    {
     "data": {
      "image/png": "[encoded data removed]",
      "text/plain": [
       "<Figure size 432x288 with 1 Axes>"
      ]
     },
     "metadata": {
      "needs_background": "light"
     },
     "output_type": "display_data"
    }
   ],
   "source": [
    "df['CitizenDesc'].value_counts().plot(kind='bar')\n",
    "plt.show()"
   ]
  },
  {
   "cell_type": "code",
   "execution_count": 15,
   "metadata": {},
   "outputs": [],
   "source": [
    "df['DOB'] = pd.to_datetime(df['DOB']) # convert DOB (date of birth) data to standard from of \"datetime\" datatype."
   ]
  },
  {
   "cell_type": "code",
   "execution_count": 16,
   "metadata": {},
   "outputs": [
    {
     "data": {
      "text/plain": [
       "0   1987-11-24\n",
       "1   1984-04-26\n",
       "2   1986-09-01\n",
       "3   1985-09-16\n",
       "4   1988-05-19\n",
       "Name: DOB, dtype: datetime64[ns]"
      ]
     },
     "execution_count": 16,
     "metadata": {},
     "output_type": "execute_result"
    }
   ],
   "source": [
    "df['DOB'].head() # we can see below the dtype is datetime64."
   ]
  },
  {
   "cell_type": "code",
   "execution_count": 17,
   "metadata": {},
   "outputs": [],
   "source": [
    "today = pd.to_datetime('today') # today's date and time."
   ]
  },
  {
   "cell_type": "code",
   "execution_count": 18,
   "metadata": {},
   "outputs": [
    {
     "data": {
      "text/plain": [
       "Timestamp('2020-11-05 17:52:13.666541')"
      ]
     },
     "execution_count": 18,
     "metadata": {},
     "output_type": "execute_result"
    }
   ],
   "source": [
    "today"
   ]
  },
  {
   "cell_type": "code",
   "execution_count": 19,
   "metadata": {},
   "outputs": [],
   "source": [
    "from datetime import datetime as dt # import datetime module.\n",
    "df['Age'] = (today.year - df['DOB'].dt.year) # the age (in years) is \"DOB\" subtracted from today's date."
   ]
  },
  {
   "cell_type": "code",
   "execution_count": 20,
   "metadata": {},
   "outputs": [
    {
     "data": {
      "text/plain": [
       "0    33\n",
       "1    36\n",
       "2    34\n",
       "3    35\n",
       "4    32\n",
       "Name: Age, dtype: int64"
      ]
     },
     "execution_count": 20,
     "metadata": {},
     "output_type": "execute_result"
    }
   ],
   "source": [
    "df['Age'].head() # have a look at the new age column."
   ]
  },
  {
   "cell_type": "code",
   "execution_count": 21,
   "metadata": {},
   "outputs": [],
   "source": [
    "df['DateofHire'] = pd.to_datetime(df['DateofHire']) # similar conversion of date of hire to standard \"datetime\" datatype\n",
    "df['DateofTermination'] = pd.to_datetime(df['DateofTermination'])"
   ]
  },
  {
   "cell_type": "code",
   "execution_count": 22,
   "metadata": {},
   "outputs": [],
   "source": [
    "# calculate how many years the employee has spent with company by calculating the subtraction of date of hire from today's date\n",
    "df['DateofHire'] = (today.year - df['DateofHire'].dt.year)\n",
    "df['DateofTermination'] = (today.year - df['DateofTermination'].dt.year)"
   ]
  },
  {
   "cell_type": "code",
   "execution_count": 23,
   "metadata": {},
   "outputs": [
    {
     "name": "stdout",
     "output_type": "stream",
     "text": [
      "0    12\n",
      "1     6\n",
      "2     6\n",
      "3     5\n",
      "4     5\n",
      "Name: DateofHire, dtype: int64\n",
      "0    NaN\n",
      "1    NaN\n",
      "2    NaN\n",
      "3    5.0\n",
      "4    NaN\n",
      "Name: DateofTermination, dtype: float64\n"
     ]
    }
   ],
   "source": [
    "print(df['DateofHire'].head())\n",
    "print(df['DateofTermination'].head())"
   ]
  },
  {
   "cell_type": "code",
   "execution_count": 24,
   "metadata": {},
   "outputs": [],
   "source": [
    "df['DateofTermination'] = df['DateofTermination'].fillna(0) # the null values are filled with zero."
   ]
  },
  {
   "cell_type": "code",
   "execution_count": 25,
   "metadata": {},
   "outputs": [
    {
     "name": "stdout",
     "output_type": "stream",
     "text": [
      "0    0.0\n",
      "1    0.0\n",
      "2    0.0\n",
      "3    5.0\n",
      "4    0.0\n",
      "Name: DateofTermination, dtype: float64\n"
     ]
    }
   ],
   "source": [
    "print(df['DateofTermination'].head())"
   ]
  },
  {
   "cell_type": "code",
   "execution_count": 26,
   "metadata": {},
   "outputs": [
    {
     "name": "stdout",
     "output_type": "stream",
     "text": [
      "<class 'pandas.core.frame.DataFrame'>\n",
      "RangeIndex: 310 entries, 0 to 309\n",
      "Data columns (total 36 columns):\n",
      " #   Column                      Non-Null Count  Dtype         \n",
      "---  ------                      --------------  -----         \n",
      " 0   Employee_Name               310 non-null    object        \n",
      " 1   EmpID                       310 non-null    int64         \n",
      " 2   MarriedID                   310 non-null    int64         \n",
      " 3   MaritalStatusID             310 non-null    int64         \n",
      " 4   GenderID                    310 non-null    int64         \n",
      " 5   EmpStatusID                 310 non-null    int64         \n",
      " 6   DeptID                      310 non-null    int64         \n",
      " 7   PerfScoreID                 310 non-null    int64         \n",
      " 8   FromDiversityJobFairID      310 non-null    int64         \n",
      " 9   PayRate                     310 non-null    float64       \n",
      " 10  Termd                       310 non-null    int64         \n",
      " 11  PositionID                  310 non-null    int64         \n",
      " 12  Position                    310 non-null    object        \n",
      " 13  State                       310 non-null    object        \n",
      " 14  Zip                         310 non-null    int64         \n",
      " 15  DOB                         310 non-null    datetime64[ns]\n",
      " 16  Sex                         310 non-null    object        \n",
      " 17  MaritalDesc                 310 non-null    object        \n",
      " 18  CitizenDesc                 310 non-null    object        \n",
      " 19  HispanicLatino              310 non-null    object        \n",
      " 20  RaceDesc                    310 non-null    object        \n",
      " 21  DateofHire                  310 non-null    int64         \n",
      " 22  DateofTermination           310 non-null    float64       \n",
      " 23  TermReason                  310 non-null    object        \n",
      " 24  EmploymentStatus            310 non-null    object        \n",
      " 25  Department                  310 non-null    object        \n",
      " 26  ManagerName                 310 non-null    object        \n",
      " 27  ManagerID                   310 non-null    int64         \n",
      " 28  RecruitmentSource           310 non-null    object        \n",
      " 29  PerformanceScore            310 non-null    object        \n",
      " 30  EngagementSurvey            310 non-null    float64       \n",
      " 31  EmpSatisfaction             310 non-null    int64         \n",
      " 32  SpecialProjectsCount        310 non-null    int64         \n",
      " 33  LastPerformanceReview_Date  207 non-null    datetime64[ns]\n",
      " 34  DaysLateLast30              207 non-null    float64       \n",
      " 35  Age                         310 non-null    int64         \n",
      "dtypes: datetime64[ns](2), float64(4), int64(16), object(14)\n",
      "memory usage: 87.3+ KB\n"
     ]
    }
   ],
   "source": [
    "df.info()"
   ]
  },
  {
   "cell_type": "code",
   "execution_count": 27,
   "metadata": {},
   "outputs": [
    {
     "data": {
      "image/png": "[encoded data removed]",
      "text/plain": [
       "<Figure size 432x288 with 1 Axes>"
      ]
     },
     "metadata": {
      "needs_background": "light"
     },
     "output_type": "display_data"
    }
   ],
   "source": [
    "sns.distplot(df['Age'],kde=False,color='m')\n",
    "plt.show()"
   ]
  },
  {
   "cell_type": "code",
   "execution_count": 28,
   "metadata": {},
   "outputs": [
    {
     "data": {
      "text/plain": [
       "<matplotlib.axes._subplots.AxesSubplot at 0x1e07fb25ca0>"
      ]
     },
     "execution_count": 28,
     "metadata": {},
     "output_type": "execute_result"
    },
    {
     "data": {
      "image/png": "[encoded data removed]",
      "text/plain": [
       "<Figure size 432x288 with 1 Axes>"
      ]
     },
     "metadata": {
      "needs_background": "light"
     },
     "output_type": "display_data"
    }
   ],
   "source": [
    "df['Age'].hist(bins=40)"
   ]
  },
  {
   "cell_type": "code",
   "execution_count": 29,
   "metadata": {
    "scrolled": true
   },
   "outputs": [
    {
     "data": {
      "text/plain": [
       "array(['Accountant I', 'Administrative Assistant', 'Area Sales Manager',\n",
       "       'BI Developer', 'BI Director', 'CIO', 'Data Architect',\n",
       "       'Database Administrator', 'Data Analyst', 'Data Analyst ',\n",
       "       'Director of Operations', 'Director of Sales', 'IT Director',\n",
       "       'IT Manager - DB', 'IT Manager - Infra', 'IT Manager - Support',\n",
       "       'IT Support', 'Network Engineer', 'President & CEO',\n",
       "       'Production Manager', 'Production Technician I',\n",
       "       'Production Technician II', 'Sales Manager', 'Senior BI Developer',\n",
       "       'Shared Services Manager', 'Software Engineer',\n",
       "       'Software Engineering Manager', 'Sr. Accountant', 'Sr. DBA',\n",
       "       'Enterprise Architect', 'Principal Data Architect',\n",
       "       'Sr. Network Engineer'], dtype=object)"
      ]
     },
     "execution_count": 29,
     "metadata": {},
     "output_type": "execute_result"
    }
   ],
   "source": [
    "df['Position'].unique()"
   ]
  },
  {
   "cell_type": "code",
   "execution_count": 30,
   "metadata": {},
   "outputs": [
    {
     "data": {
      "text/plain": [
       "<matplotlib.axes._subplots.AxesSubplot at 0x1e07fc6f760>"
      ]
     },
     "execution_count": 30,
     "metadata": {},
     "output_type": "execute_result"
    },
    {
     "data": {
      "image/png": "[encoded data removed]",
      "text/plain": [
       "<Figure size 1152x648 with 1 Axes>"
      ]
     },
     "metadata": {
      "needs_background": "light"
     },
     "output_type": "display_data"
    }
   ],
   "source": [
    "plt.figure(figsize=(16,9))\n",
    "df['Position'].value_counts().plot(kind='bar')"
   ]
  },
  {
   "cell_type": "code",
   "execution_count": 31,
   "metadata": {},
   "outputs": [
    {
     "data": {
      "text/plain": [
       "count    310.000000\n",
       "mean      31.284806\n",
       "std       15.383615\n",
       "min       14.000000\n",
       "25%       20.000000\n",
       "50%       24.000000\n",
       "75%       45.315000\n",
       "max       80.000000\n",
       "Name: PayRate, dtype: float64"
      ]
     },
     "execution_count": 31,
     "metadata": {},
     "output_type": "execute_result"
    }
   ],
   "source": [
    "df['PayRate'].describe()"
   ]
  },
  {
   "cell_type": "code",
   "execution_count": 32,
   "metadata": {},
   "outputs": [
    {
     "data": {
      "text/plain": [
       "count    310.00000\n",
       "mean      41.43871\n",
       "std        8.86839\n",
       "min       28.00000\n",
       "25%       34.00000\n",
       "50%       40.00000\n",
       "75%       47.00000\n",
       "max       69.00000\n",
       "Name: Age, dtype: float64"
      ]
     },
     "execution_count": 32,
     "metadata": {},
     "output_type": "execute_result"
    }
   ],
   "source": [
    "df['Age'].describe()"
   ]
  },
  {
   "cell_type": "code",
   "execution_count": 33,
   "metadata": {},
   "outputs": [
    {
     "data": {
      "text/plain": [
       "<matplotlib.axes._subplots.AxesSubplot at 0x1e07fae68e0>"
      ]
     },
     "execution_count": 33,
     "metadata": {},
     "output_type": "execute_result"
    },
    {
     "data": {
      "image/png": "[encoded data removed]",
      "text/plain": [
       "<Figure size 432x288 with 1 Axes>"
      ]
     },
     "metadata": {
      "needs_background": "light"
     },
     "output_type": "display_data"
    }
   ],
   "source": [
    "df.plot(x='Age',y='PayRate',kind='scatter')\n",
    "# Looks like thery are not related! "
   ]
  },
  {
   "cell_type": "code",
   "execution_count": 34,
   "metadata": {},
   "outputs": [
    {
     "data": {
      "text/plain": [
       "array(['Brandon R. LeBlanc', 'John Smith', 'Lynn Daneault',\n",
       "       'Brian Champaigne', 'Jennifer Zamora', 'Janet King', 'Simon Roup',\n",
       "       'Eric Dougall', 'Peter Monroe', 'Board of Directors', 'Amy Dunn',\n",
       "       'Brannon Miller', 'David Stanley', 'Elijiah Gray', 'Kelley Spirea',\n",
       "       'Ketsia Liebig', 'Kissy Sullivan', 'Michael Albert',\n",
       "       'Webster Butler', 'Debra Houlihan', 'Alex Sweetwater'],\n",
       "      dtype=object)"
      ]
     },
     "execution_count": 34,
     "metadata": {},
     "output_type": "execute_result"
    }
   ],
   "source": [
    "df['ManagerName'].unique()"
   ]
  },
  {
   "cell_type": "code",
   "execution_count": 35,
   "metadata": {},
   "outputs": [
    {
     "data": {
      "text/plain": [
       "Fully Meets          243\n",
       "Exceeds               37\n",
       "Needs Improvement     18\n",
       "PIP                   12\n",
       "Name: PerformanceScore, dtype: int64"
      ]
     },
     "execution_count": 35,
     "metadata": {},
     "output_type": "execute_result"
    }
   ],
   "source": [
    "df['PerformanceScore'].value_counts()"
   ]
  },
  {
   "cell_type": "code",
   "execution_count": 36,
   "metadata": {},
   "outputs": [
    {
     "data": {
      "text/plain": [
       "<matplotlib.axes._subplots.AxesSubplot at 0x1e07fad09d0>"
      ]
     },
     "execution_count": 36,
     "metadata": {},
     "output_type": "execute_result"
    },
    {
     "data": {
      "image/png": "[encoded data removed]",
      "text/plain": [
       "<Figure size 1440x1440 with 1 Axes>"
      ]
     },
     "metadata": {
      "needs_background": "light"
     },
     "output_type": "display_data"
    }
   ],
   "source": [
    "plt.figure(figsize=(20,20))\n",
    "sns.countplot(y=df['ManagerName'], hue=df['PerformanceScore'])"
   ]
  },
  {
   "cell_type": "markdown",
   "metadata": {},
   "source": [
    "- Davind Stanley has the highest number of employees who fully meet the expectation.\n",
    "- Brannon has the highest number of exceptional employess!\n",
    "- Employees working with Michael need to improve their performance."
   ]
  },
  {
   "cell_type": "markdown",
   "metadata": {},
   "source": [
    "#### Which department pays more?"
   ]
  },
  {
   "cell_type": "code",
   "execution_count": 37,
   "metadata": {},
   "outputs": [
    {
     "data": {
      "text/plain": [
       "<matplotlib.axes._subplots.AxesSubplot at 0x1e0002ac0d0>"
      ]
     },
     "execution_count": 37,
     "metadata": {},
     "output_type": "execute_result"
    },
    {
     "data": {
      "image/png": "[encoded data removed]",
      "text/plain": [
       "<Figure size 432x288 with 1 Axes>"
      ]
     },
     "metadata": {
      "needs_background": "light"
     },
     "output_type": "display_data"
    }
   ],
   "source": [
    "df.groupby('Department')['PayRate'].sum().plot(kind='bar')\n",
    "#Production department pays more!"
   ]
  },
  {
   "cell_type": "markdown",
   "metadata": {},
   "source": [
    "Which position gives away more money? This doesn't mean that all employees in this position get maximum pay. The number of employees could be more for this dept. Note that we are taking sum of pay rate for each department."
   ]
  },
  {
   "cell_type": "code",
   "execution_count": 38,
   "metadata": {},
   "outputs": [
    {
     "data": {
      "text/plain": [
       "<matplotlib.axes._subplots.AxesSubplot at 0x1e000309ee0>"
      ]
     },
     "execution_count": 38,
     "metadata": {},
     "output_type": "execute_result"
    },
    {
     "data": {
      "image/png": "[encoded data removed]",
      "text/plain": [
       "<Figure size 1152x648 with 1 Axes>"
      ]
     },
     "metadata": {
      "needs_background": "light"
     },
     "output_type": "display_data"
    }
   ],
   "source": [
    "plt.figure(figsize=(16,9))\n",
    "df.groupby('Position')['PayRate'].sum().plot(kind='bar')\n",
    "# by looking at the graph, we can see that \"Production Technician I\" gets the highest pay."
   ]
  },
  {
   "cell_type": "markdown",
   "metadata": {},
   "source": [
    "Who gets the highest salary ?"
   ]
  },
  {
   "cell_type": "code",
   "execution_count": 39,
   "metadata": {},
   "outputs": [
    {
     "data": {
      "text/plain": [
       "Employee_Name                            King, Janet\n",
       "EmpID                                     1001495124\n",
       "MarriedID                                          1\n",
       "MaritalStatusID                                    1\n",
       "GenderID                                           0\n",
       "EmpStatusID                                        1\n",
       "DeptID                                             2\n",
       "PerfScoreID                                        3\n",
       "FromDiversityJobFairID                             0\n",
       "PayRate                                           80\n",
       "Termd                                              0\n",
       "PositionID                                        16\n",
       "Position                             President & CEO\n",
       "State                                             MA\n",
       "Zip                                             1902\n",
       "DOB                              1954-09-21 00:00:00\n",
       "Sex                                                F\n",
       "MaritalDesc                                  Married\n",
       "CitizenDesc                               US Citizen\n",
       "HispanicLatino                                   Yes\n",
       "RaceDesc                                       White\n",
       "DateofHire                                         8\n",
       "DateofTermination                                  0\n",
       "TermReason                      N/A - still employed\n",
       "EmploymentStatus                              Active\n",
       "Department                          Executive Office\n",
       "ManagerName                       Board of Directors\n",
       "ManagerID                                          9\n",
       "RecruitmentSource             Pay Per Click - Google\n",
       "PerformanceScore                         Fully Meets\n",
       "EngagementSurvey                                4.83\n",
       "EmpSatisfaction                                    3\n",
       "SpecialProjectsCount                               0\n",
       "LastPerformanceReview_Date       2019-01-17 00:00:00\n",
       "DaysLateLast30                                     0\n",
       "Age                                               66\n",
       "Name: 73, dtype: object"
      ]
     },
     "execution_count": 39,
     "metadata": {},
     "output_type": "execute_result"
    }
   ],
   "source": [
    "id_of_person_with_highgest_pay = df['PayRate'].idxmax()\n",
    "df.loc[id_of_person_with_highgest_pay]\n",
    "\n",
    "\n",
    "# df.loc[df['PayRate'].idxmax()]"
   ]
  },
  {
   "cell_type": "code",
   "execution_count": 40,
   "metadata": {},
   "outputs": [
    {
     "data": {
      "text/plain": [
       "0    0\n",
       "1    0\n",
       "2    0\n",
       "3    0\n",
       "4    0\n",
       "5    0\n",
       "6    0\n",
       "7    0\n",
       "8    1\n",
       "9    0\n",
       "Name: HispanicLatino, dtype: int64"
      ]
     },
     "execution_count": 40,
     "metadata": {},
     "output_type": "execute_result"
    }
   ],
   "source": [
    "HispLat_map ={'No': 0, 'Yes': 1, 'no': 0, 'yes': 1} # convert \"HispanicLatino\" to more suitable values.\n",
    "df['HispanicLatino'] = df['HispanicLatino'].replace(HispLat_map)\n",
    "df['HispanicLatino'].head(10)"
   ]
  },
  {
   "cell_type": "code",
   "execution_count": 41,
   "metadata": {},
   "outputs": [
    {
     "data": {
      "text/plain": [
       "<matplotlib.axes._subplots.AxesSubplot at 0x1e0003c23a0>"
      ]
     },
     "execution_count": 41,
     "metadata": {},
     "output_type": "execute_result"
    },
    {
     "data": {
      "image/png": "[encoded data removed]",
      "text/plain": [
       "<Figure size 432x288 with 1 Axes>"
      ]
     },
     "metadata": {
      "needs_background": "light"
     },
     "output_type": "display_data"
    }
   ],
   "source": [
    "sns.violinplot('HispanicLatino', 'PayRate', data = df)"
   ]
  },
  {
   "cell_type": "markdown",
   "metadata": {},
   "source": [
    "### Following are different types of plots.\n",
    "- Plot a Bar Chart of the count of Marital Status.\n",
    "- Plot a bar chart of Employment status group by Martial Status."
   ]
  },
  {
   "cell_type": "code",
   "execution_count": 42,
   "metadata": {},
   "outputs": [
    {
     "data": {
      "text/plain": [
       "<matplotlib.axes._subplots.AxesSubplot at 0x1e00068f820>"
      ]
     },
     "execution_count": 42,
     "metadata": {},
     "output_type": "execute_result"
    },
    {
     "data": {
      "image/png": "[encoded data removed]",
      "text/plain": [
       "<Figure size 432x288 with 1 Axes>"
      ]
     },
     "metadata": {
      "needs_background": "light"
     },
     "output_type": "display_data"
    }
   ],
   "source": [
    "df['MaritalDesc'].value_counts().plot(kind='bar')"
   ]
  },
  {
   "cell_type": "code",
   "execution_count": 43,
   "metadata": {},
   "outputs": [
    {
     "data": {
      "image/png": "[encoded data removed]",
      "text/plain": [
       "<Figure size 1152x648 with 1 Axes>"
      ]
     },
     "metadata": {
      "needs_background": "light"
     },
     "output_type": "display_data"
    }
   ],
   "source": [
    "plt.figure(figsize=(16,9))\n",
    "ax=sns.countplot(x=df['EmploymentStatus'],hue=df['MaritalDesc'])"
   ]
  },
  {
   "cell_type": "code",
   "execution_count": 44,
   "metadata": {},
   "outputs": [
    {
     "data": {
      "text/plain": [
       "17"
      ]
     },
     "execution_count": 44,
     "metadata": {},
     "output_type": "execute_result"
    }
   ],
   "source": [
    "df['TermReason'].nunique()"
   ]
  },
  {
   "cell_type": "code",
   "execution_count": 45,
   "metadata": {},
   "outputs": [],
   "source": [
    "columns_to_drop = ['Employee_Name', 'EmpID', 'DOB', 'Zip', 'LastPerformanceReview_Date', 'DaysLateLast30']\n",
    "df = df.drop(columns_to_drop, axis = 1) "
   ]
  },
  {
   "cell_type": "code",
   "execution_count": 46,
   "metadata": {},
   "outputs": [],
   "source": [
    "df1 = pd.get_dummies(df, drop_first=True)"
   ]
  },
  {
   "cell_type": "code",
   "execution_count": 47,
   "metadata": {},
   "outputs": [
    {
     "data": {
      "text/html": [
       "<div>\n",
       "<style scoped>\n",
       "    .dataframe tbody tr th:only-of-type {\n",
       "        vertical-align: middle;\n",
       "    }\n",
       "\n",
       "    .dataframe tbody tr th {\n",
       "        vertical-align: top;\n",
       "    }\n",
       "\n",
       "    .dataframe thead th {\n",
       "        text-align: right;\n",
       "    }\n",
       "</style>\n",
       "<table border=\"1\" class=\"dataframe\">\n",
       "  <thead>\n",
       "    <tr style=\"text-align: right;\">\n",
       "      <th></th>\n",
       "      <th>MarriedID</th>\n",
       "      <th>MaritalStatusID</th>\n",
       "      <th>GenderID</th>\n",
       "      <th>EmpStatusID</th>\n",
       "      <th>DeptID</th>\n",
       "      <th>PerfScoreID</th>\n",
       "      <th>FromDiversityJobFairID</th>\n",
       "      <th>PayRate</th>\n",
       "      <th>Termd</th>\n",
       "      <th>PositionID</th>\n",
       "      <th>...</th>\n",
       "      <th>RecruitmentSource_Pay Per Click - Google</th>\n",
       "      <th>RecruitmentSource_Professional Society</th>\n",
       "      <th>RecruitmentSource_Search Engine - Google Bing Yahoo</th>\n",
       "      <th>RecruitmentSource_Social Networks - Facebook Twitter etc</th>\n",
       "      <th>RecruitmentSource_Vendor Referral</th>\n",
       "      <th>RecruitmentSource_Website Banner Ads</th>\n",
       "      <th>RecruitmentSource_Word of Mouth</th>\n",
       "      <th>PerformanceScore_Fully Meets</th>\n",
       "      <th>PerformanceScore_Needs Improvement</th>\n",
       "      <th>PerformanceScore_PIP</th>\n",
       "    </tr>\n",
       "  </thead>\n",
       "  <tbody>\n",
       "    <tr>\n",
       "      <th>0</th>\n",
       "      <td>1</td>\n",
       "      <td>1</td>\n",
       "      <td>0</td>\n",
       "      <td>1</td>\n",
       "      <td>1</td>\n",
       "      <td>3</td>\n",
       "      <td>1</td>\n",
       "      <td>28.50</td>\n",
       "      <td>0</td>\n",
       "      <td>1</td>\n",
       "      <td>...</td>\n",
       "      <td>0</td>\n",
       "      <td>0</td>\n",
       "      <td>0</td>\n",
       "      <td>0</td>\n",
       "      <td>0</td>\n",
       "      <td>0</td>\n",
       "      <td>0</td>\n",
       "      <td>1</td>\n",
       "      <td>0</td>\n",
       "      <td>0</td>\n",
       "    </tr>\n",
       "    <tr>\n",
       "      <th>1</th>\n",
       "      <td>0</td>\n",
       "      <td>2</td>\n",
       "      <td>1</td>\n",
       "      <td>1</td>\n",
       "      <td>1</td>\n",
       "      <td>3</td>\n",
       "      <td>0</td>\n",
       "      <td>23.00</td>\n",
       "      <td>0</td>\n",
       "      <td>1</td>\n",
       "      <td>...</td>\n",
       "      <td>0</td>\n",
       "      <td>0</td>\n",
       "      <td>0</td>\n",
       "      <td>0</td>\n",
       "      <td>0</td>\n",
       "      <td>1</td>\n",
       "      <td>0</td>\n",
       "      <td>1</td>\n",
       "      <td>0</td>\n",
       "      <td>0</td>\n",
       "    </tr>\n",
       "    <tr>\n",
       "      <th>2</th>\n",
       "      <td>0</td>\n",
       "      <td>0</td>\n",
       "      <td>1</td>\n",
       "      <td>1</td>\n",
       "      <td>1</td>\n",
       "      <td>3</td>\n",
       "      <td>0</td>\n",
       "      <td>29.00</td>\n",
       "      <td>0</td>\n",
       "      <td>1</td>\n",
       "      <td>...</td>\n",
       "      <td>0</td>\n",
       "      <td>0</td>\n",
       "      <td>0</td>\n",
       "      <td>0</td>\n",
       "      <td>0</td>\n",
       "      <td>0</td>\n",
       "      <td>0</td>\n",
       "      <td>1</td>\n",
       "      <td>0</td>\n",
       "      <td>0</td>\n",
       "    </tr>\n",
       "    <tr>\n",
       "      <th>3</th>\n",
       "      <td>1</td>\n",
       "      <td>1</td>\n",
       "      <td>0</td>\n",
       "      <td>1</td>\n",
       "      <td>1</td>\n",
       "      <td>3</td>\n",
       "      <td>0</td>\n",
       "      <td>21.50</td>\n",
       "      <td>1</td>\n",
       "      <td>2</td>\n",
       "      <td>...</td>\n",
       "      <td>1</td>\n",
       "      <td>0</td>\n",
       "      <td>0</td>\n",
       "      <td>0</td>\n",
       "      <td>0</td>\n",
       "      <td>0</td>\n",
       "      <td>0</td>\n",
       "      <td>1</td>\n",
       "      <td>0</td>\n",
       "      <td>0</td>\n",
       "    </tr>\n",
       "    <tr>\n",
       "      <th>4</th>\n",
       "      <td>0</td>\n",
       "      <td>0</td>\n",
       "      <td>0</td>\n",
       "      <td>1</td>\n",
       "      <td>1</td>\n",
       "      <td>3</td>\n",
       "      <td>0</td>\n",
       "      <td>16.56</td>\n",
       "      <td>0</td>\n",
       "      <td>2</td>\n",
       "      <td>...</td>\n",
       "      <td>0</td>\n",
       "      <td>0</td>\n",
       "      <td>0</td>\n",
       "      <td>0</td>\n",
       "      <td>0</td>\n",
       "      <td>1</td>\n",
       "      <td>0</td>\n",
       "      <td>1</td>\n",
       "      <td>0</td>\n",
       "      <td>0</td>\n",
       "    </tr>\n",
       "  </tbody>\n",
       "</table>\n",
       "<p>5 rows × 158 columns</p>\n",
       "</div>"
      ],
      "text/plain": [
       "   MarriedID  MaritalStatusID  GenderID  EmpStatusID  DeptID  PerfScoreID  \\\n",
       "0          1                1         0            1       1            3   \n",
       "1          0                2         1            1       1            3   \n",
       "2          0                0         1            1       1            3   \n",
       "3          1                1         0            1       1            3   \n",
       "4          0                0         0            1       1            3   \n",
       "\n",
       "   FromDiversityJobFairID  PayRate  Termd  PositionID  ...  \\\n",
       "0                       1    28.50      0           1  ...   \n",
       "1                       0    23.00      0           1  ...   \n",
       "2                       0    29.00      0           1  ...   \n",
       "3                       0    21.50      1           2  ...   \n",
       "4                       0    16.56      0           2  ...   \n",
       "\n",
       "   RecruitmentSource_Pay Per Click - Google  \\\n",
       "0                                         0   \n",
       "1                                         0   \n",
       "2                                         0   \n",
       "3                                         1   \n",
       "4                                         0   \n",
       "\n",
       "   RecruitmentSource_Professional Society  \\\n",
       "0                                       0   \n",
       "1                                       0   \n",
       "2                                       0   \n",
       "3                                       0   \n",
       "4                                       0   \n",
       "\n",
       "   RecruitmentSource_Search Engine - Google Bing Yahoo  \\\n",
       "0                                                  0     \n",
       "1                                                  0     \n",
       "2                                                  0     \n",
       "3                                                  0     \n",
       "4                                                  0     \n",
       "\n",
       "   RecruitmentSource_Social Networks - Facebook Twitter etc  \\\n",
       "0                                                  0          \n",
       "1                                                  0          \n",
       "2                                                  0          \n",
       "3                                                  0          \n",
       "4                                                  0          \n",
       "\n",
       "   RecruitmentSource_Vendor Referral  RecruitmentSource_Website Banner Ads  \\\n",
       "0                                  0                                     0   \n",
       "1                                  0                                     1   \n",
       "2                                  0                                     0   \n",
       "3                                  0                                     0   \n",
       "4                                  0                                     1   \n",
       "\n",
       "   RecruitmentSource_Word of Mouth  PerformanceScore_Fully Meets  \\\n",
       "0                                0                             1   \n",
       "1                                0                             1   \n",
       "2                                0                             1   \n",
       "3                                0                             1   \n",
       "4                                0                             1   \n",
       "\n",
       "   PerformanceScore_Needs Improvement  PerformanceScore_PIP  \n",
       "0                                   0                     0  \n",
       "1                                   0                     0  \n",
       "2                                   0                     0  \n",
       "3                                   0                     0  \n",
       "4                                   0                     0  \n",
       "\n",
       "[5 rows x 158 columns]"
      ]
     },
     "execution_count": 47,
     "metadata": {},
     "output_type": "execute_result"
    }
   ],
   "source": [
    "df1.head()"
   ]
  },
  {
   "cell_type": "code",
   "execution_count": 48,
   "metadata": {},
   "outputs": [],
   "source": [
    "X = df1.drop('PayRate', axis=1)\n",
    "y = df1['PayRate']"
   ]
  },
  {
   "cell_type": "code",
   "execution_count": 49,
   "metadata": {},
   "outputs": [
    {
     "data": {
      "text/html": [
       "<div>\n",
       "<style scoped>\n",
       "    .dataframe tbody tr th:only-of-type {\n",
       "        vertical-align: middle;\n",
       "    }\n",
       "\n",
       "    .dataframe tbody tr th {\n",
       "        vertical-align: top;\n",
       "    }\n",
       "\n",
       "    .dataframe thead th {\n",
       "        text-align: right;\n",
       "    }\n",
       "</style>\n",
       "<table border=\"1\" class=\"dataframe\">\n",
       "  <thead>\n",
       "    <tr style=\"text-align: right;\">\n",
       "      <th></th>\n",
       "      <th>MarriedID</th>\n",
       "      <th>MaritalStatusID</th>\n",
       "      <th>GenderID</th>\n",
       "      <th>EmpStatusID</th>\n",
       "      <th>DeptID</th>\n",
       "      <th>PerfScoreID</th>\n",
       "      <th>FromDiversityJobFairID</th>\n",
       "      <th>Termd</th>\n",
       "      <th>PositionID</th>\n",
       "      <th>HispanicLatino</th>\n",
       "      <th>...</th>\n",
       "      <th>RecruitmentSource_Pay Per Click - Google</th>\n",
       "      <th>RecruitmentSource_Professional Society</th>\n",
       "      <th>RecruitmentSource_Search Engine - Google Bing Yahoo</th>\n",
       "      <th>RecruitmentSource_Social Networks - Facebook Twitter etc</th>\n",
       "      <th>RecruitmentSource_Vendor Referral</th>\n",
       "      <th>RecruitmentSource_Website Banner Ads</th>\n",
       "      <th>RecruitmentSource_Word of Mouth</th>\n",
       "      <th>PerformanceScore_Fully Meets</th>\n",
       "      <th>PerformanceScore_Needs Improvement</th>\n",
       "      <th>PerformanceScore_PIP</th>\n",
       "    </tr>\n",
       "  </thead>\n",
       "  <tbody>\n",
       "    <tr>\n",
       "      <th>0</th>\n",
       "      <td>1</td>\n",
       "      <td>1</td>\n",
       "      <td>0</td>\n",
       "      <td>1</td>\n",
       "      <td>1</td>\n",
       "      <td>3</td>\n",
       "      <td>1</td>\n",
       "      <td>0</td>\n",
       "      <td>1</td>\n",
       "      <td>0</td>\n",
       "      <td>...</td>\n",
       "      <td>0</td>\n",
       "      <td>0</td>\n",
       "      <td>0</td>\n",
       "      <td>0</td>\n",
       "      <td>0</td>\n",
       "      <td>0</td>\n",
       "      <td>0</td>\n",
       "      <td>1</td>\n",
       "      <td>0</td>\n",
       "      <td>0</td>\n",
       "    </tr>\n",
       "    <tr>\n",
       "      <th>1</th>\n",
       "      <td>0</td>\n",
       "      <td>2</td>\n",
       "      <td>1</td>\n",
       "      <td>1</td>\n",
       "      <td>1</td>\n",
       "      <td>3</td>\n",
       "      <td>0</td>\n",
       "      <td>0</td>\n",
       "      <td>1</td>\n",
       "      <td>0</td>\n",
       "      <td>...</td>\n",
       "      <td>0</td>\n",
       "      <td>0</td>\n",
       "      <td>0</td>\n",
       "      <td>0</td>\n",
       "      <td>0</td>\n",
       "      <td>1</td>\n",
       "      <td>0</td>\n",
       "      <td>1</td>\n",
       "      <td>0</td>\n",
       "      <td>0</td>\n",
       "    </tr>\n",
       "    <tr>\n",
       "      <th>2</th>\n",
       "      <td>0</td>\n",
       "      <td>0</td>\n",
       "      <td>1</td>\n",
       "      <td>1</td>\n",
       "      <td>1</td>\n",
       "      <td>3</td>\n",
       "      <td>0</td>\n",
       "      <td>0</td>\n",
       "      <td>1</td>\n",
       "      <td>0</td>\n",
       "      <td>...</td>\n",
       "      <td>0</td>\n",
       "      <td>0</td>\n",
       "      <td>0</td>\n",
       "      <td>0</td>\n",
       "      <td>0</td>\n",
       "      <td>0</td>\n",
       "      <td>0</td>\n",
       "      <td>1</td>\n",
       "      <td>0</td>\n",
       "      <td>0</td>\n",
       "    </tr>\n",
       "    <tr>\n",
       "      <th>3</th>\n",
       "      <td>1</td>\n",
       "      <td>1</td>\n",
       "      <td>0</td>\n",
       "      <td>1</td>\n",
       "      <td>1</td>\n",
       "      <td>3</td>\n",
       "      <td>0</td>\n",
       "      <td>1</td>\n",
       "      <td>2</td>\n",
       "      <td>0</td>\n",
       "      <td>...</td>\n",
       "      <td>1</td>\n",
       "      <td>0</td>\n",
       "      <td>0</td>\n",
       "      <td>0</td>\n",
       "      <td>0</td>\n",
       "      <td>0</td>\n",
       "      <td>0</td>\n",
       "      <td>1</td>\n",
       "      <td>0</td>\n",
       "      <td>0</td>\n",
       "    </tr>\n",
       "    <tr>\n",
       "      <th>4</th>\n",
       "      <td>0</td>\n",
       "      <td>0</td>\n",
       "      <td>0</td>\n",
       "      <td>1</td>\n",
       "      <td>1</td>\n",
       "      <td>3</td>\n",
       "      <td>0</td>\n",
       "      <td>0</td>\n",
       "      <td>2</td>\n",
       "      <td>0</td>\n",
       "      <td>...</td>\n",
       "      <td>0</td>\n",
       "      <td>0</td>\n",
       "      <td>0</td>\n",
       "      <td>0</td>\n",
       "      <td>0</td>\n",
       "      <td>1</td>\n",
       "      <td>0</td>\n",
       "      <td>1</td>\n",
       "      <td>0</td>\n",
       "      <td>0</td>\n",
       "    </tr>\n",
       "  </tbody>\n",
       "</table>\n",
       "<p>5 rows × 157 columns</p>\n",
       "</div>"
      ],
      "text/plain": [
       "   MarriedID  MaritalStatusID  GenderID  EmpStatusID  DeptID  PerfScoreID  \\\n",
       "0          1                1         0            1       1            3   \n",
       "1          0                2         1            1       1            3   \n",
       "2          0                0         1            1       1            3   \n",
       "3          1                1         0            1       1            3   \n",
       "4          0                0         0            1       1            3   \n",
       "\n",
       "   FromDiversityJobFairID  Termd  PositionID  HispanicLatino  ...  \\\n",
       "0                       1      0           1               0  ...   \n",
       "1                       0      0           1               0  ...   \n",
       "2                       0      0           1               0  ...   \n",
       "3                       0      1           2               0  ...   \n",
       "4                       0      0           2               0  ...   \n",
       "\n",
       "   RecruitmentSource_Pay Per Click - Google  \\\n",
       "0                                         0   \n",
       "1                                         0   \n",
       "2                                         0   \n",
       "3                                         1   \n",
       "4                                         0   \n",
       "\n",
       "   RecruitmentSource_Professional Society  \\\n",
       "0                                       0   \n",
       "1                                       0   \n",
       "2                                       0   \n",
       "3                                       0   \n",
       "4                                       0   \n",
       "\n",
       "   RecruitmentSource_Search Engine - Google Bing Yahoo  \\\n",
       "0                                                  0     \n",
       "1                                                  0     \n",
       "2                                                  0     \n",
       "3                                                  0     \n",
       "4                                                  0     \n",
       "\n",
       "   RecruitmentSource_Social Networks - Facebook Twitter etc  \\\n",
       "0                                                  0          \n",
       "1                                                  0          \n",
       "2                                                  0          \n",
       "3                                                  0          \n",
       "4                                                  0          \n",
       "\n",
       "   RecruitmentSource_Vendor Referral  RecruitmentSource_Website Banner Ads  \\\n",
       "0                                  0                                     0   \n",
       "1                                  0                                     1   \n",
       "2                                  0                                     0   \n",
       "3                                  0                                     0   \n",
       "4                                  0                                     1   \n",
       "\n",
       "   RecruitmentSource_Word of Mouth  PerformanceScore_Fully Meets  \\\n",
       "0                                0                             1   \n",
       "1                                0                             1   \n",
       "2                                0                             1   \n",
       "3                                0                             1   \n",
       "4                                0                             1   \n",
       "\n",
       "   PerformanceScore_Needs Improvement  PerformanceScore_PIP  \n",
       "0                                   0                     0  \n",
       "1                                   0                     0  \n",
       "2                                   0                     0  \n",
       "3                                   0                     0  \n",
       "4                                   0                     0  \n",
       "\n",
       "[5 rows x 157 columns]"
      ]
     },
     "execution_count": 49,
     "metadata": {},
     "output_type": "execute_result"
    }
   ],
   "source": [
    "X.head()"
   ]
  },
  {
   "cell_type": "code",
   "execution_count": 50,
   "metadata": {},
   "outputs": [
    {
     "data": {
      "text/plain": [
       "0    28.50\n",
       "1    23.00\n",
       "2    29.00\n",
       "3    21.50\n",
       "4    16.56\n",
       "Name: PayRate, dtype: float64"
      ]
     },
     "execution_count": 50,
     "metadata": {},
     "output_type": "execute_result"
    }
   ],
   "source": [
    "y.head()"
   ]
  },
  {
   "cell_type": "code",
   "execution_count": 51,
   "metadata": {},
   "outputs": [],
   "source": [
    "from sklearn.model_selection import train_test_split\n",
    "\n",
    "X_train, X_test, y_train, y_test = train_test_split(X, y, test_size=0.25, random_state=42, shuffle=True)"
   ]
  },
  {
   "cell_type": "code",
   "execution_count": 52,
   "metadata": {},
   "outputs": [
    {
     "data": {
      "text/plain": [
       "DecisionTreeRegressor(random_state=0)"
      ]
     },
     "execution_count": 52,
     "metadata": {},
     "output_type": "execute_result"
    }
   ],
   "source": [
    "# import the regressor \n",
    "from sklearn.tree import DecisionTreeRegressor  \n",
    "  \n",
    "# create a regressor object \n",
    "regressor = DecisionTreeRegressor(random_state = 0)  \n",
    "  \n",
    "# fit the regressor with X and Y data \n",
    "regressor.fit(X_train, y_train) "
   ]
  },
  {
   "cell_type": "code",
   "execution_count": 53,
   "metadata": {},
   "outputs": [],
   "source": [
    "y_pred = regressor.predict(X_test) "
   ]
  },
  {
   "cell_type": "code",
   "execution_count": 54,
   "metadata": {},
   "outputs": [],
   "source": [
    "regressor_score = regressor.score(X_train, y_train)"
   ]
  },
  {
   "cell_type": "code",
   "execution_count": 55,
   "metadata": {},
   "outputs": [
    {
     "name": "stdout",
     "output_type": "stream",
     "text": [
      "coefficient of determination R^2 of the prediction.:  1.0\n"
     ]
    }
   ],
   "source": [
    "from sklearn.metrics import mean_squared_error, r2_score\n",
    "# Have a look at R_squared to give an idea of the fit ,\n",
    "# Explained variance score: 1 is perfect prediction\n",
    "print('coefficient of determination R^2 of the prediction.: ',regressor_score)"
   ]
  },
  {
   "cell_type": "code",
   "execution_count": 56,
   "metadata": {},
   "outputs": [
    {
     "name": "stdout",
     "output_type": "stream",
     "text": [
      "Mean squared error: 65.31\n",
      "Test Variance score: 0.77\n"
     ]
    }
   ],
   "source": [
    "# The mean squared error\n",
    "print('Mean squared error: %.2f'% mean_squared_error(y_test, y_pred))\n",
    "# Explained variance score: 1 is perfect prediction\n",
    "print('Test Variance score: %.2f'% r2_score(y_test, y_pred))"
   ]
  },
  {
   "cell_type": "code",
   "execution_count": 57,
   "metadata": {},
   "outputs": [
    {
     "data": {
      "image/png": "[encoded data removed]",
      "text/plain": [
       "<Figure size 432x288 with 1 Axes>"
      ]
     },
     "metadata": {
      "needs_background": "light"
     },
     "output_type": "display_data"
    }
   ],
   "source": [
    "# So let's run the model against the test data\n",
    "\n",
    "fig, ax = plt.subplots()\n",
    "ax.scatter(y_test, y_pred, edgecolors=(0, 0, 0))\n",
    "ax.plot([y_test.min(), y_test.max()], [y_test.min(), y_test.max()], 'k--', lw=4)\n",
    "ax.set_xlabel('Actual')\n",
    "ax.set_ylabel('Predicted')\n",
    "ax.set_title(\"Ground Truth vs Predicted\")\n",
    "plt.show()"
   ]
  },
  {
   "cell_type": "markdown",
   "metadata": {},
   "source": [
    "# Conclusion\n",
    "- We can see that our R2 score and MSE are both very good. \n",
    "- This means that we have found a good fitting model to predict the Pay Rate of an employee. \n",
    "- There can be a further improvement to the metric by doing some preprocessing before fitting the data. \n",
    "- However, the task of the post was to provide you with enough knowledge to implement your first model. \n",
    "- You can build over the existing pipeline and report your accuracies."
   ]
  }
 ],
 "metadata": {
  "kernelspec": {
   "display_name": "Python 3",
   "language": "python",
   "name": "python3"
  },
  "language_info": {
   "codemirror_mode": {
    "name": "ipython",
    "version": 3
   },
   "file_extension": ".py",
   "mimetype": "text/x-python",
   "name": "python",
   "nbconvert_exporter": "python",
   "pygments_lexer": "ipython3",
   "version": "3.8.3"
  }
 },
 "nbformat": 4,
 "nbformat_minor": 4
}
