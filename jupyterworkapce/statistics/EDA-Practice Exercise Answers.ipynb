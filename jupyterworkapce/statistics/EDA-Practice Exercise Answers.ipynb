{
 "cells": [
  {
   "cell_type": "markdown",
   "metadata": {
    "colab_type": "text",
    "id": "ADSiE-szRZUL"
   },
   "source": [
    "# Practice Exercise: Exploratory Data Analysis"
   ]
  },
  {
   "cell_type": "markdown",
   "metadata": {
    "colab_type": "text",
    "id": "aAVdmSedTBbX"
   },
   "source": [
    "## Context:\n",
    "\n",
    "- The dataset is related to the Portuguese \"Vinho Verde\" wine.\n",
    "- Due to privacy and logistic issues, only physicochemical (inputs) and sensory (the output) variables are available (e.g. there is no data about grape types, wine brand, wine selling price, etc.).\n",
    "\n",
    "- This datasets can be viewed as classification or regression tasks.\n",
    "- The classes are ordered and not balanced (e.g. there are many more normal wines than excellent or poor ones).\n",
    "- Outlier detection algorithms could be used to detect the few excellent or poor wines.\n",
    "- Also, we are not sure if all input variables are relevant. So it could be interesting to test feature selection methods.\n"
   ]
  },
  {
   "cell_type": "markdown",
   "metadata": {
    "colab_type": "text",
    "id": "WhN1urxjTd6K"
   },
   "source": [
    "## Objective:\n",
    "\n",
    "- The objective of this exercise is to analyse the characteristics of wine using statistical techniques (also known as Exploratory Data Analysis)."
   ]
  },
  {
   "cell_type": "markdown",
   "metadata": {
    "colab_type": "text",
    "id": "vanyJ5n0RZUM"
   },
   "source": [
    "## Data Description:\n",
    "\n",
    "Attribute Information: \n",
    "\n",
    "  - fixed acidity\n",
    "  - volatile acidity\n",
    "  - citric acid\n",
    "  - residual sugar\n",
    "  - chlorides\n",
    "  - free sulfur dioxide\n",
    "  - total sulfur dioxide\n",
    "  - density\n",
    "  - pH\n",
    "  - sulphates\n",
    "  - alcohol Output variable (based on sensory data)\n",
    "  - quality (score between 0 and 10)"
   ]
  },
  {
   "cell_type": "markdown",
   "metadata": {
    "colab_type": "text",
    "id": "f2UaOo7zRZUO"
   },
   "source": [
    "## 1. Import the libraries:"
   ]
  },
  {
   "cell_type": "code",
   "execution_count": 1,
   "metadata": {
    "colab": {
     "base_uri": "https://localhost:8080/",
     "height": 71
    },
    "colab_type": "code",
    "id": "gz5FRlWWRZUP",
    "outputId": "dd1fe7bf-4e96-48d5-b88c-37d6f9f620e7"
   },
   "outputs": [],
   "source": [
    "import numpy as np\n",
    "import pandas as pd\n",
    "import seaborn as sns\n",
    "from matplotlib import pyplot as plt"
   ]
  },
  {
   "cell_type": "markdown",
   "metadata": {
    "colab_type": "text",
    "id": "27yIvreXRZUX"
   },
   "source": [
    "## 2. Importing the dataset:"
   ]
  },
  {
   "cell_type": "code",
   "execution_count": 2,
   "metadata": {
    "colab": {
     "base_uri": "https://localhost:8080/",
     "height": 204
    },
    "colab_type": "code",
    "id": "KqmvG5BDRZUY",
    "outputId": "e2e23c33-1616-494e-f7b3-0f3a2e164a6b"
   },
   "outputs": [
    {
     "data": {
      "text/html": [
       "<div>\n",
       "<style scoped>\n",
       "    .dataframe tbody tr th:only-of-type {\n",
       "        vertical-align: middle;\n",
       "    }\n",
       "\n",
       "    .dataframe tbody tr th {\n",
       "        vertical-align: top;\n",
       "    }\n",
       "\n",
       "    .dataframe thead th {\n",
       "        text-align: right;\n",
       "    }\n",
       "</style>\n",
       "<table border=\"1\" class=\"dataframe\">\n",
       "  <thead>\n",
       "    <tr style=\"text-align: right;\">\n",
       "      <th></th>\n",
       "      <th>fixed acidity</th>\n",
       "      <th>volatile acidity</th>\n",
       "      <th>citric acid</th>\n",
       "      <th>residual sugar</th>\n",
       "      <th>chlorides</th>\n",
       "      <th>free sulfur dioxide</th>\n",
       "      <th>total sulfur dioxide</th>\n",
       "      <th>density</th>\n",
       "      <th>pH</th>\n",
       "      <th>sulphates</th>\n",
       "      <th>alcohol</th>\n",
       "      <th>quality</th>\n",
       "    </tr>\n",
       "  </thead>\n",
       "  <tbody>\n",
       "    <tr>\n",
       "      <th>0</th>\n",
       "      <td>7.0</td>\n",
       "      <td>0.27</td>\n",
       "      <td>0.36</td>\n",
       "      <td>20.7</td>\n",
       "      <td>0.045</td>\n",
       "      <td>45.0</td>\n",
       "      <td>170.0</td>\n",
       "      <td>1.0010</td>\n",
       "      <td>3.00</td>\n",
       "      <td>0.45</td>\n",
       "      <td>8.8</td>\n",
       "      <td>6</td>\n",
       "    </tr>\n",
       "    <tr>\n",
       "      <th>1</th>\n",
       "      <td>6.3</td>\n",
       "      <td>0.30</td>\n",
       "      <td>0.34</td>\n",
       "      <td>1.6</td>\n",
       "      <td>0.049</td>\n",
       "      <td>14.0</td>\n",
       "      <td>132.0</td>\n",
       "      <td>0.9940</td>\n",
       "      <td>3.30</td>\n",
       "      <td>0.49</td>\n",
       "      <td>9.5</td>\n",
       "      <td>6</td>\n",
       "    </tr>\n",
       "    <tr>\n",
       "      <th>2</th>\n",
       "      <td>8.1</td>\n",
       "      <td>0.28</td>\n",
       "      <td>0.40</td>\n",
       "      <td>6.9</td>\n",
       "      <td>0.050</td>\n",
       "      <td>30.0</td>\n",
       "      <td>97.0</td>\n",
       "      <td>0.9951</td>\n",
       "      <td>3.26</td>\n",
       "      <td>0.44</td>\n",
       "      <td>10.1</td>\n",
       "      <td>6</td>\n",
       "    </tr>\n",
       "    <tr>\n",
       "      <th>3</th>\n",
       "      <td>7.2</td>\n",
       "      <td>0.23</td>\n",
       "      <td>0.32</td>\n",
       "      <td>8.5</td>\n",
       "      <td>0.058</td>\n",
       "      <td>47.0</td>\n",
       "      <td>186.0</td>\n",
       "      <td>0.9956</td>\n",
       "      <td>3.19</td>\n",
       "      <td>0.40</td>\n",
       "      <td>9.9</td>\n",
       "      <td>6</td>\n",
       "    </tr>\n",
       "    <tr>\n",
       "      <th>4</th>\n",
       "      <td>7.2</td>\n",
       "      <td>0.23</td>\n",
       "      <td>0.32</td>\n",
       "      <td>8.5</td>\n",
       "      <td>0.058</td>\n",
       "      <td>47.0</td>\n",
       "      <td>186.0</td>\n",
       "      <td>0.9956</td>\n",
       "      <td>3.19</td>\n",
       "      <td>0.40</td>\n",
       "      <td>9.9</td>\n",
       "      <td>6</td>\n",
       "    </tr>\n",
       "  </tbody>\n",
       "</table>\n",
       "</div>"
      ],
      "text/plain": [
       "   fixed acidity  volatile acidity  citric acid  residual sugar  chlorides  \\\n",
       "0            7.0              0.27         0.36            20.7      0.045   \n",
       "1            6.3              0.30         0.34             1.6      0.049   \n",
       "2            8.1              0.28         0.40             6.9      0.050   \n",
       "3            7.2              0.23         0.32             8.5      0.058   \n",
       "4            7.2              0.23         0.32             8.5      0.058   \n",
       "\n",
       "   free sulfur dioxide  total sulfur dioxide  density    pH  sulphates  \\\n",
       "0                 45.0                 170.0   1.0010  3.00       0.45   \n",
       "1                 14.0                 132.0   0.9940  3.30       0.49   \n",
       "2                 30.0                  97.0   0.9951  3.26       0.44   \n",
       "3                 47.0                 186.0   0.9956  3.19       0.40   \n",
       "4                 47.0                 186.0   0.9956  3.19       0.40   \n",
       "\n",
       "   alcohol  quality  \n",
       "0      8.8        6  \n",
       "1      9.5        6  \n",
       "2     10.1        6  \n",
       "3      9.9        6  \n",
       "4      9.9        6  "
      ]
     },
     "execution_count": 2,
     "metadata": {},
     "output_type": "execute_result"
    }
   ],
   "source": [
    "wines = pd.read_csv('wine_data.csv')\n",
    "wines.head(5)"
   ]
  },
  {
   "cell_type": "markdown",
   "metadata": {
    "colab_type": "text",
    "id": "r_oAtEkOXcBV"
   },
   "source": [
    "## 3. Check the information about data and data-types of each respective attributes:"
   ]
  },
  {
   "cell_type": "code",
   "execution_count": 3,
   "metadata": {
    "colab": {
     "base_uri": "https://localhost:8080/",
     "height": 340
    },
    "colab_type": "code",
    "id": "BeW5i7Wihswt",
    "outputId": "c0db886e-46d3-4d9d-cf3e-0d8c726122ac"
   },
   "outputs": [
    {
     "name": "stdout",
     "output_type": "stream",
     "text": [
      "<class 'pandas.core.frame.DataFrame'>\n",
      "RangeIndex: 4898 entries, 0 to 4897\n",
      "Data columns (total 12 columns):\n",
      " #   Column                Non-Null Count  Dtype  \n",
      "---  ------                --------------  -----  \n",
      " 0   fixed acidity         4898 non-null   float64\n",
      " 1   volatile acidity      4898 non-null   float64\n",
      " 2   citric acid           4898 non-null   float64\n",
      " 3   residual sugar        4898 non-null   float64\n",
      " 4   chlorides             4898 non-null   float64\n",
      " 5   free sulfur dioxide   4898 non-null   float64\n",
      " 6   total sulfur dioxide  4898 non-null   float64\n",
      " 7   density               4898 non-null   float64\n",
      " 8   pH                    4898 non-null   float64\n",
      " 9   sulphates             4898 non-null   float64\n",
      " 10  alcohol               4898 non-null   float64\n",
      " 11  quality               4898 non-null   int64  \n",
      "dtypes: float64(11), int64(1)\n",
      "memory usage: 459.3 KB\n"
     ]
    }
   ],
   "source": [
    "wines.info()"
   ]
  },
  {
   "cell_type": "markdown",
   "metadata": {
    "colab_type": "text",
    "id": "evGV2VB6Zj85"
   },
   "source": [
    "### Insights:\n",
    "\n",
    "- The above output provides the information about each attributes' count of non-null values and the data-type of the attribute.\n",
    "- We can see that only one attribute \"quality\" is int64 type, the rest are float64 type."
   ]
  },
  {
   "cell_type": "markdown",
   "metadata": {
    "colab_type": "text",
    "id": "hCXorJbp3w2w"
   },
   "source": [
    "## 3.1 Check the number of null values."
   ]
  },
  {
   "cell_type": "code",
   "execution_count": 4,
   "metadata": {
    "colab": {
     "base_uri": "https://localhost:8080/",
     "height": 238
    },
    "colab_type": "code",
    "id": "rzP86zFShvfE",
    "outputId": "9af82b07-fd68-4bda-9872-a28548df37f5"
   },
   "outputs": [
    {
     "data": {
      "text/plain": [
       "fixed acidity           0\n",
       "volatile acidity        0\n",
       "citric acid             0\n",
       "residual sugar          0\n",
       "chlorides               0\n",
       "free sulfur dioxide     0\n",
       "total sulfur dioxide    0\n",
       "density                 0\n",
       "pH                      0\n",
       "sulphates               0\n",
       "alcohol                 0\n",
       "quality                 0\n",
       "dtype: int64"
      ]
     },
     "execution_count": 4,
     "metadata": {},
     "output_type": "execute_result"
    }
   ],
   "source": [
    "wines.isna().sum()"
   ]
  },
  {
   "cell_type": "markdown",
   "metadata": {
    "colab_type": "text",
    "id": "MPvRx85vZ9i_"
   },
   "source": [
    "#### The above output provides the information about the number of null values in each column.\n",
    "#### We can see that there are no null values here."
   ]
  },
  {
   "cell_type": "markdown",
   "metadata": {
    "colab_type": "text",
    "id": "egnMfUtPRZUi"
   },
   "source": [
    "## 4. EDA Descriptive Statistics:"
   ]
  },
  {
   "cell_type": "markdown",
   "metadata": {
    "colab_type": "text",
    "id": "Li0OsajYRZUk"
   },
   "source": [
    "### 4.1.  Measures of Central Tendency\n",
    "\n",
    "Measures of Central Tendency define significant, representative and adequate values for a set of data, depending on what you want to analyze. They are the \n",
    "\n",
    "1. mean\n",
    "2. median\n",
    "3. quantiles and mode."
   ]
  },
  {
   "cell_type": "markdown",
   "metadata": {
    "colab_type": "text",
    "id": "NqQk1t6uRZUl"
   },
   "source": [
    "### 4.2 Check the  mean ,Mode, Median and Quantile for dataset?"
   ]
  },
  {
   "cell_type": "markdown",
   "metadata": {
    "colab_type": "text",
    "id": "eiylhNTqRZUm"
   },
   "source": [
    "#### Mean"
   ]
  },
  {
   "cell_type": "code",
   "execution_count": 5,
   "metadata": {
    "colab": {
     "base_uri": "https://localhost:8080/",
     "height": 238
    },
    "colab_type": "code",
    "id": "UAKycN3JRZUn",
    "outputId": "bf750413-87fa-4f6f-9e2f-538c8cdf0c4c"
   },
   "outputs": [
    {
     "data": {
      "text/plain": [
       "fixed acidity             6.854788\n",
       "volatile acidity          0.278241\n",
       "citric acid               0.334192\n",
       "residual sugar            6.391415\n",
       "chlorides                 0.045772\n",
       "free sulfur dioxide      35.308085\n",
       "total sulfur dioxide    138.360657\n",
       "density                   0.994027\n",
       "pH                        3.188267\n",
       "sulphates                 0.489847\n",
       "alcohol                  10.514267\n",
       "quality                   5.877909\n",
       "dtype: float64"
      ]
     },
     "execution_count": 5,
     "metadata": {},
     "output_type": "execute_result"
    }
   ],
   "source": [
    "wines.mean()"
   ]
  },
  {
   "cell_type": "markdown",
   "metadata": {
    "colab_type": "text",
    "id": "aBtjmvSBRZUr"
   },
   "source": [
    "#### Mode"
   ]
  },
  {
   "cell_type": "code",
   "execution_count": 6,
   "metadata": {
    "colab": {
     "base_uri": "https://localhost:8080/",
     "height": 80
    },
    "colab_type": "code",
    "id": "p0RcwJafRZUr",
    "outputId": "87a3ed94-1167-4322-d1b5-455d3b7ea02a"
   },
   "outputs": [
    {
     "data": {
      "text/html": [
       "<div>\n",
       "<style scoped>\n",
       "    .dataframe tbody tr th:only-of-type {\n",
       "        vertical-align: middle;\n",
       "    }\n",
       "\n",
       "    .dataframe tbody tr th {\n",
       "        vertical-align: top;\n",
       "    }\n",
       "\n",
       "    .dataframe thead th {\n",
       "        text-align: right;\n",
       "    }\n",
       "</style>\n",
       "<table border=\"1\" class=\"dataframe\">\n",
       "  <thead>\n",
       "    <tr style=\"text-align: right;\">\n",
       "      <th></th>\n",
       "      <th>fixed acidity</th>\n",
       "      <th>volatile acidity</th>\n",
       "      <th>citric acid</th>\n",
       "      <th>residual sugar</th>\n",
       "      <th>chlorides</th>\n",
       "      <th>free sulfur dioxide</th>\n",
       "      <th>total sulfur dioxide</th>\n",
       "      <th>density</th>\n",
       "      <th>pH</th>\n",
       "      <th>sulphates</th>\n",
       "      <th>alcohol</th>\n",
       "      <th>quality</th>\n",
       "    </tr>\n",
       "  </thead>\n",
       "  <tbody>\n",
       "    <tr>\n",
       "      <th>0</th>\n",
       "      <td>6.8</td>\n",
       "      <td>0.28</td>\n",
       "      <td>0.3</td>\n",
       "      <td>1.2</td>\n",
       "      <td>0.044</td>\n",
       "      <td>29.0</td>\n",
       "      <td>111.0</td>\n",
       "      <td>0.992</td>\n",
       "      <td>3.14</td>\n",
       "      <td>0.5</td>\n",
       "      <td>9.4</td>\n",
       "      <td>6</td>\n",
       "    </tr>\n",
       "  </tbody>\n",
       "</table>\n",
       "</div>"
      ],
      "text/plain": [
       "   fixed acidity  volatile acidity  citric acid  residual sugar  chlorides  \\\n",
       "0            6.8              0.28          0.3             1.2      0.044   \n",
       "\n",
       "   free sulfur dioxide  total sulfur dioxide  density    pH  sulphates  \\\n",
       "0                 29.0                 111.0    0.992  3.14        0.5   \n",
       "\n",
       "   alcohol  quality  \n",
       "0      9.4        6  "
      ]
     },
     "execution_count": 6,
     "metadata": {},
     "output_type": "execute_result"
    }
   ],
   "source": [
    "wines.mode()\n"
   ]
  },
  {
   "cell_type": "markdown",
   "metadata": {
    "colab_type": "text",
    "id": "4aZjRrPqRZUv"
   },
   "source": [
    "#### Median and Quantile"
   ]
  },
  {
   "cell_type": "code",
   "execution_count": 7,
   "metadata": {
    "colab": {
     "base_uri": "https://localhost:8080/",
     "height": 238
    },
    "colab_type": "code",
    "id": "6mx6bo70RZUv",
    "outputId": "d1f9cb2a-8a8f-4d2c-c5ce-1549d2293730"
   },
   "outputs": [
    {
     "data": {
      "text/plain": [
       "fixed acidity             6.80000\n",
       "volatile acidity          0.26000\n",
       "citric acid               0.32000\n",
       "residual sugar            5.20000\n",
       "chlorides                 0.04300\n",
       "free sulfur dioxide      34.00000\n",
       "total sulfur dioxide    134.00000\n",
       "density                   0.99374\n",
       "pH                        3.18000\n",
       "sulphates                 0.47000\n",
       "alcohol                  10.40000\n",
       "quality                   6.00000\n",
       "dtype: float64"
      ]
     },
     "execution_count": 7,
     "metadata": {},
     "output_type": "execute_result"
    }
   ],
   "source": [
    "wines.median()"
   ]
  },
  {
   "cell_type": "markdown",
   "metadata": {
    "colab_type": "text",
    "id": "2LYcQsDlRZUz"
   },
   "source": [
    "### check (Quantile 25%,50%,75%) for dataset"
   ]
  },
  {
   "cell_type": "markdown",
   "metadata": {
    "colab_type": "text",
    "id": "3yFX0bXsRZU0"
   },
   "source": [
    "#### Quantile 25%"
   ]
  },
  {
   "cell_type": "code",
   "execution_count": 8,
   "metadata": {
    "colab": {
     "base_uri": "https://localhost:8080/",
     "height": 238
    },
    "colab_type": "code",
    "id": "OqGxc72vRZU1",
    "outputId": "1ee823da-0abf-41d1-d71c-34c8136343b2"
   },
   "outputs": [
    {
     "data": {
      "text/plain": [
       "fixed acidity             6.300000\n",
       "volatile acidity          0.210000\n",
       "citric acid               0.270000\n",
       "residual sugar            1.700000\n",
       "chlorides                 0.036000\n",
       "free sulfur dioxide      23.000000\n",
       "total sulfur dioxide    108.000000\n",
       "density                   0.991723\n",
       "pH                        3.090000\n",
       "sulphates                 0.410000\n",
       "alcohol                   9.500000\n",
       "quality                   5.000000\n",
       "Name: 0.25, dtype: float64"
      ]
     },
     "execution_count": 8,
     "metadata": {},
     "output_type": "execute_result"
    }
   ],
   "source": [
    "wines.quantile(q=0.25)                       # Returns the value below which 25% of the data lies."
   ]
  },
  {
   "cell_type": "markdown",
   "metadata": {
    "colab_type": "text",
    "id": "ImadZnDyRZU4"
   },
   "source": [
    "\n",
    "#### Quantile 50%"
   ]
  },
  {
   "cell_type": "code",
   "execution_count": 9,
   "metadata": {
    "colab": {
     "base_uri": "https://localhost:8080/",
     "height": 238
    },
    "colab_type": "code",
    "id": "uElDLgWXRZU4",
    "outputId": "819c8c54-0c37-444d-c8b3-e816887b6dd5"
   },
   "outputs": [
    {
     "data": {
      "text/plain": [
       "fixed acidity             6.80000\n",
       "volatile acidity          0.26000\n",
       "citric acid               0.32000\n",
       "residual sugar            5.20000\n",
       "chlorides                 0.04300\n",
       "free sulfur dioxide      34.00000\n",
       "total sulfur dioxide    134.00000\n",
       "density                   0.99374\n",
       "pH                        3.18000\n",
       "sulphates                 0.47000\n",
       "alcohol                  10.40000\n",
       "quality                   6.00000\n",
       "Name: 0.5, dtype: float64"
      ]
     },
     "execution_count": 9,
     "metadata": {},
     "output_type": "execute_result"
    }
   ],
   "source": [
    "wines.quantile(q=0.50)                       # Prints the value below which 50% of the data lies."
   ]
  },
  {
   "cell_type": "markdown",
   "metadata": {
    "colab_type": "text",
    "id": "80OVdL0lRZU6"
   },
   "source": [
    "#### Quantile 75%"
   ]
  },
  {
   "cell_type": "code",
   "execution_count": 10,
   "metadata": {
    "colab": {
     "base_uri": "https://localhost:8080/",
     "height": 238
    },
    "colab_type": "code",
    "id": "5MGzq3g4RZU7",
    "outputId": "cea02941-60c3-4cd7-c7a1-581c7f4eebb6"
   },
   "outputs": [
    {
     "data": {
      "text/plain": [
       "fixed acidity             7.3000\n",
       "volatile acidity          0.3200\n",
       "citric acid               0.3900\n",
       "residual sugar            9.9000\n",
       "chlorides                 0.0500\n",
       "free sulfur dioxide      46.0000\n",
       "total sulfur dioxide    167.0000\n",
       "density                   0.9961\n",
       "pH                        3.2800\n",
       "sulphates                 0.5500\n",
       "alcohol                  11.4000\n",
       "quality                   6.0000\n",
       "Name: 0.75, dtype: float64"
      ]
     },
     "execution_count": 10,
     "metadata": {},
     "output_type": "execute_result"
    }
   ],
   "source": [
    "wines.quantile(q=0.75)                       # Prints the value below which 75% of the data lies."
   ]
  },
  {
   "cell_type": "markdown",
   "metadata": {
    "colab_type": "text",
    "id": "GU8t-7WoZZTz"
   },
   "source": [
    "## 5. Check the data description:"
   ]
  },
  {
   "cell_type": "code",
   "execution_count": 11,
   "metadata": {
    "colab": {
     "base_uri": "https://localhost:8080/",
     "height": 314
    },
    "colab_type": "code",
    "id": "vSEdoQeLZllp",
    "outputId": "a9be0baf-c5ff-4a2e-bb79-2b49f160e088"
   },
   "outputs": [
    {
     "data": {
      "text/html": [
       "<div>\n",
       "<style scoped>\n",
       "    .dataframe tbody tr th:only-of-type {\n",
       "        vertical-align: middle;\n",
       "    }\n",
       "\n",
       "    .dataframe tbody tr th {\n",
       "        vertical-align: top;\n",
       "    }\n",
       "\n",
       "    .dataframe thead th {\n",
       "        text-align: right;\n",
       "    }\n",
       "</style>\n",
       "<table border=\"1\" class=\"dataframe\">\n",
       "  <thead>\n",
       "    <tr style=\"text-align: right;\">\n",
       "      <th></th>\n",
       "      <th>fixed acidity</th>\n",
       "      <th>volatile acidity</th>\n",
       "      <th>citric acid</th>\n",
       "      <th>residual sugar</th>\n",
       "      <th>chlorides</th>\n",
       "      <th>free sulfur dioxide</th>\n",
       "      <th>total sulfur dioxide</th>\n",
       "      <th>density</th>\n",
       "      <th>pH</th>\n",
       "      <th>sulphates</th>\n",
       "      <th>alcohol</th>\n",
       "      <th>quality</th>\n",
       "    </tr>\n",
       "  </thead>\n",
       "  <tbody>\n",
       "    <tr>\n",
       "      <th>count</th>\n",
       "      <td>4898.000000</td>\n",
       "      <td>4898.000000</td>\n",
       "      <td>4898.000000</td>\n",
       "      <td>4898.000000</td>\n",
       "      <td>4898.000000</td>\n",
       "      <td>4898.000000</td>\n",
       "      <td>4898.000000</td>\n",
       "      <td>4898.000000</td>\n",
       "      <td>4898.000000</td>\n",
       "      <td>4898.000000</td>\n",
       "      <td>4898.000000</td>\n",
       "      <td>4898.000000</td>\n",
       "    </tr>\n",
       "    <tr>\n",
       "      <th>mean</th>\n",
       "      <td>6.854788</td>\n",
       "      <td>0.278241</td>\n",
       "      <td>0.334192</td>\n",
       "      <td>6.391415</td>\n",
       "      <td>0.045772</td>\n",
       "      <td>35.308085</td>\n",
       "      <td>138.360657</td>\n",
       "      <td>0.994027</td>\n",
       "      <td>3.188267</td>\n",
       "      <td>0.489847</td>\n",
       "      <td>10.514267</td>\n",
       "      <td>5.877909</td>\n",
       "    </tr>\n",
       "    <tr>\n",
       "      <th>std</th>\n",
       "      <td>0.843868</td>\n",
       "      <td>0.100795</td>\n",
       "      <td>0.121020</td>\n",
       "      <td>5.072058</td>\n",
       "      <td>0.021848</td>\n",
       "      <td>17.007137</td>\n",
       "      <td>42.498065</td>\n",
       "      <td>0.002991</td>\n",
       "      <td>0.151001</td>\n",
       "      <td>0.114126</td>\n",
       "      <td>1.230621</td>\n",
       "      <td>0.885639</td>\n",
       "    </tr>\n",
       "    <tr>\n",
       "      <th>min</th>\n",
       "      <td>3.800000</td>\n",
       "      <td>0.080000</td>\n",
       "      <td>0.000000</td>\n",
       "      <td>0.600000</td>\n",
       "      <td>0.009000</td>\n",
       "      <td>2.000000</td>\n",
       "      <td>9.000000</td>\n",
       "      <td>0.987110</td>\n",
       "      <td>2.720000</td>\n",
       "      <td>0.220000</td>\n",
       "      <td>8.000000</td>\n",
       "      <td>3.000000</td>\n",
       "    </tr>\n",
       "    <tr>\n",
       "      <th>25%</th>\n",
       "      <td>6.300000</td>\n",
       "      <td>0.210000</td>\n",
       "      <td>0.270000</td>\n",
       "      <td>1.700000</td>\n",
       "      <td>0.036000</td>\n",
       "      <td>23.000000</td>\n",
       "      <td>108.000000</td>\n",
       "      <td>0.991723</td>\n",
       "      <td>3.090000</td>\n",
       "      <td>0.410000</td>\n",
       "      <td>9.500000</td>\n",
       "      <td>5.000000</td>\n",
       "    </tr>\n",
       "    <tr>\n",
       "      <th>50%</th>\n",
       "      <td>6.800000</td>\n",
       "      <td>0.260000</td>\n",
       "      <td>0.320000</td>\n",
       "      <td>5.200000</td>\n",
       "      <td>0.043000</td>\n",
       "      <td>34.000000</td>\n",
       "      <td>134.000000</td>\n",
       "      <td>0.993740</td>\n",
       "      <td>3.180000</td>\n",
       "      <td>0.470000</td>\n",
       "      <td>10.400000</td>\n",
       "      <td>6.000000</td>\n",
       "    </tr>\n",
       "    <tr>\n",
       "      <th>75%</th>\n",
       "      <td>7.300000</td>\n",
       "      <td>0.320000</td>\n",
       "      <td>0.390000</td>\n",
       "      <td>9.900000</td>\n",
       "      <td>0.050000</td>\n",
       "      <td>46.000000</td>\n",
       "      <td>167.000000</td>\n",
       "      <td>0.996100</td>\n",
       "      <td>3.280000</td>\n",
       "      <td>0.550000</td>\n",
       "      <td>11.400000</td>\n",
       "      <td>6.000000</td>\n",
       "    </tr>\n",
       "    <tr>\n",
       "      <th>max</th>\n",
       "      <td>14.200000</td>\n",
       "      <td>1.100000</td>\n",
       "      <td>1.660000</td>\n",
       "      <td>65.800000</td>\n",
       "      <td>0.346000</td>\n",
       "      <td>289.000000</td>\n",
       "      <td>440.000000</td>\n",
       "      <td>1.038980</td>\n",
       "      <td>3.820000</td>\n",
       "      <td>1.080000</td>\n",
       "      <td>14.200000</td>\n",
       "      <td>9.000000</td>\n",
       "    </tr>\n",
       "  </tbody>\n",
       "</table>\n",
       "</div>"
      ],
      "text/plain": [
       "       fixed acidity  volatile acidity  citric acid  residual sugar  \\\n",
       "count    4898.000000       4898.000000  4898.000000     4898.000000   \n",
       "mean        6.854788          0.278241     0.334192        6.391415   \n",
       "std         0.843868          0.100795     0.121020        5.072058   \n",
       "min         3.800000          0.080000     0.000000        0.600000   \n",
       "25%         6.300000          0.210000     0.270000        1.700000   \n",
       "50%         6.800000          0.260000     0.320000        5.200000   \n",
       "75%         7.300000          0.320000     0.390000        9.900000   \n",
       "max        14.200000          1.100000     1.660000       65.800000   \n",
       "\n",
       "         chlorides  free sulfur dioxide  total sulfur dioxide      density  \\\n",
       "count  4898.000000          4898.000000           4898.000000  4898.000000   \n",
       "mean      0.045772            35.308085            138.360657     0.994027   \n",
       "std       0.021848            17.007137             42.498065     0.002991   \n",
       "min       0.009000             2.000000              9.000000     0.987110   \n",
       "25%       0.036000            23.000000            108.000000     0.991723   \n",
       "50%       0.043000            34.000000            134.000000     0.993740   \n",
       "75%       0.050000            46.000000            167.000000     0.996100   \n",
       "max       0.346000           289.000000            440.000000     1.038980   \n",
       "\n",
       "                pH    sulphates      alcohol      quality  \n",
       "count  4898.000000  4898.000000  4898.000000  4898.000000  \n",
       "mean      3.188267     0.489847    10.514267     5.877909  \n",
       "std       0.151001     0.114126     1.230621     0.885639  \n",
       "min       2.720000     0.220000     8.000000     3.000000  \n",
       "25%       3.090000     0.410000     9.500000     5.000000  \n",
       "50%       3.180000     0.470000    10.400000     6.000000  \n",
       "75%       3.280000     0.550000    11.400000     6.000000  \n",
       "max       3.820000     1.080000    14.200000     9.000000  "
      ]
     },
     "execution_count": 11,
     "metadata": {},
     "output_type": "execute_result"
    }
   ],
   "source": [
    "wines.describe()                         # The output results provide the five-point summary."
   ]
  },
  {
   "cell_type": "markdown",
   "metadata": {
    "colab_type": "text",
    "id": "V1UTobrcacob"
   },
   "source": [
    "### Insights:\n",
    "\n",
    "- The above step generates the descriptive statistics for the data.\n",
    "- Descriptive statistics include those that summarize the central tendency, dispersion and shape of a dataset’s distribution, excluding NaN values.\n",
    "- We can see from the std (standard deviation) that, it's lowest for the chlorides and highest for the total sulfur dioxide."
   ]
  },
  {
   "cell_type": "markdown",
   "metadata": {
    "colab_type": "text",
    "id": "sILEhROjRZU9"
   },
   "source": [
    "## 6. Measures of Dispersion"
   ]
  },
  {
   "cell_type": "markdown",
   "metadata": {
    "colab_type": "text",
    "id": "OSP6GCYDRZU9"
   },
   "source": [
    "Measures of Dispersion are measures that indicate how spread the data is, or how they vary. The measures of dispersion are range, variance, standard deviation and the absolute deviation, or mean absolute deviation."
   ]
  },
  {
   "cell_type": "markdown",
   "metadata": {
    "colab_type": "text",
    "id": "aZ9NpFV0RZU-"
   },
   "source": [
    "### 6.1 check the Range,Variance,Standard Deviation,Absolute Deviation or Mean Absolute Deviation?"
   ]
  },
  {
   "cell_type": "code",
   "execution_count": 12,
   "metadata": {
    "colab": {
     "base_uri": "https://localhost:8080/",
     "height": 238
    },
    "colab_type": "code",
    "id": "__OsTeRgbD49",
    "outputId": "3ff86da6-b975-4f89-98bd-998758e63bd5"
   },
   "outputs": [
    {
     "data": {
      "text/plain": [
       "fixed acidity            1.000000\n",
       "volatile acidity         0.110000\n",
       "citric acid              0.120000\n",
       "residual sugar           8.200000\n",
       "chlorides                0.014000\n",
       "free sulfur dioxide     23.000000\n",
       "total sulfur dioxide    59.000000\n",
       "density                  0.004377\n",
       "pH                       0.190000\n",
       "sulphates                0.140000\n",
       "alcohol                  1.900000\n",
       "quality                  1.000000\n",
       "dtype: float64"
      ]
     },
     "execution_count": 12,
     "metadata": {},
     "output_type": "execute_result"
    }
   ],
   "source": [
    "wines.quantile(q=0.75) - wines.quantile(q=0.25)"
   ]
  },
  {
   "cell_type": "markdown",
   "metadata": {
    "colab_type": "text",
    "id": "ix2kuSnnbReE"
   },
   "source": [
    "#### The above output represents the IQR values for all the attributes."
   ]
  },
  {
   "cell_type": "markdown",
   "metadata": {
    "colab_type": "text",
    "id": "ucXf0qGfRZU_"
   },
   "source": [
    "#### Range"
   ]
  },
  {
   "cell_type": "code",
   "execution_count": 13,
   "metadata": {
    "colab": {
     "base_uri": "https://localhost:8080/",
     "height": 238
    },
    "colab_type": "code",
    "id": "SCARooUDRZU_",
    "outputId": "ee7bdd5b-dd9e-402c-c748-130688e68d48"
   },
   "outputs": [
    {
     "name": "stdout",
     "output_type": "stream",
     "text": [
      "fixed acidity            10.40000\n",
      "volatile acidity          1.02000\n",
      "citric acid               1.66000\n",
      "residual sugar           65.20000\n",
      "chlorides                 0.33700\n",
      "free sulfur dioxide     287.00000\n",
      "total sulfur dioxide    431.00000\n",
      "density                   0.05187\n",
      "pH                        1.10000\n",
      "sulphates                 0.86000\n",
      "alcohol                   6.20000\n",
      "quality                   6.00000\n",
      "dtype: float64\n"
     ]
    }
   ],
   "source": [
    "print(wines.max() - wines.min())"
   ]
  },
  {
   "cell_type": "markdown",
   "metadata": {
    "colab_type": "text",
    "id": "N5_sraojbdxK"
   },
   "source": [
    "#### The above output represents the difference between the highest and the lowest values for each individual attributes."
   ]
  },
  {
   "cell_type": "markdown",
   "metadata": {
    "colab_type": "text",
    "id": "GD2vOTlsRZVC"
   },
   "source": [
    "#### Variance"
   ]
  },
  {
   "cell_type": "code",
   "execution_count": 14,
   "metadata": {
    "colab": {},
    "colab_type": "code",
    "id": "g6dr_g5URZVC",
    "outputId": "159b2cd6-539d-4196-d399-e73ab232b75b"
   },
   "outputs": [
    {
     "name": "stdout",
     "output_type": "stream",
     "text": [
      "fixed acidity              0.712114\n",
      "volatile acidity           0.010160\n",
      "citric acid                0.014646\n",
      "residual sugar            25.725770\n",
      "chlorides                  0.000477\n",
      "free sulfur dioxide      289.242720\n",
      "total sulfur dioxide    1806.085491\n",
      "density                    0.000009\n",
      "pH                         0.022801\n",
      "sulphates                  0.013025\n",
      "alcohol                    1.514427\n",
      "quality                    0.784356\n",
      "dtype: float64\n"
     ]
    }
   ],
   "source": [
    "print(wines.var())                     # Prints the variance of the data."
   ]
  },
  {
   "cell_type": "markdown",
   "metadata": {
    "colab_type": "text",
    "id": "5YgikMgSbu-9"
   },
   "source": [
    "#### The above output represents the data dispersion on the square scale."
   ]
  },
  {
   "cell_type": "markdown",
   "metadata": {
    "colab_type": "text",
    "id": "ntsqjDckRZVF"
   },
   "source": [
    "#### Standard Deviation"
   ]
  },
  {
   "cell_type": "code",
   "execution_count": 15,
   "metadata": {
    "colab": {},
    "colab_type": "code",
    "id": "wwehAzyyRZVG",
    "outputId": "6d66e95a-4619-480d-9413-ae4445201b02"
   },
   "outputs": [
    {
     "name": "stdout",
     "output_type": "stream",
     "text": [
      "fixed acidity            0.843868\n",
      "volatile acidity         0.100795\n",
      "citric acid              0.121020\n",
      "residual sugar           5.072058\n",
      "chlorides                0.021848\n",
      "free sulfur dioxide     17.007137\n",
      "total sulfur dioxide    42.498065\n",
      "density                  0.002991\n",
      "pH                       0.151001\n",
      "sulphates                0.114126\n",
      "alcohol                  1.230621\n",
      "quality                  0.885639\n",
      "dtype: float64\n"
     ]
    }
   ],
   "source": [
    "print(wines.std())                  # Prints the standard deviation of the data."
   ]
  },
  {
   "cell_type": "markdown",
   "metadata": {
    "colab_type": "text",
    "id": "fOVqgO31cIlC"
   },
   "source": [
    "#### The above output shows how much the data deviated from the mean."
   ]
  },
  {
   "cell_type": "markdown",
   "metadata": {
    "colab_type": "text",
    "id": "VjvzPXwWRZVM"
   },
   "source": [
    "## 7. Covariance and Correlation"
   ]
  },
  {
   "cell_type": "markdown",
   "metadata": {
    "colab_type": "text",
    "id": "xM6QgDB0RZVM"
   },
   "source": [
    "1. Covariance is a numerical measure that indicates the inter-dependency between two variables. \n",
    "2. Covariance indicates how two variables behave together in relation to their averages. \n",
    "3. A covariance of 0 indicates that the variables are totally independant, while a high and positive covariance value means that a variable is big when the other is big. Analogously, a negative covariance with a high absolute value means that one variable is big when the other is small.\n",
    "4. Covariance can be calculated through the cov() function. "
   ]
  },
  {
   "cell_type": "markdown",
   "metadata": {
    "colab_type": "text",
    "id": "JPtlE6piRZVN"
   },
   "source": [
    "### 7.1 Check the Covariance and Correlation scores . write your Observations?"
   ]
  },
  {
   "cell_type": "markdown",
   "metadata": {
    "colab_type": "text",
    "id": "Z3wbbtXBRZVN"
   },
   "source": [
    "#### Covariance"
   ]
  },
  {
   "cell_type": "code",
   "execution_count": 16,
   "metadata": {
    "colab": {
     "base_uri": "https://localhost:8080/",
     "height": 272
    },
    "colab_type": "code",
    "id": "GaZ3d_qWRZVN",
    "outputId": "363eaf93-707a-430e-a8ee-ea9dc865f77b"
   },
   "outputs": [
    {
     "name": "stdout",
     "output_type": "stream",
     "text": [
      "                      fixed acidity  volatile acidity  citric acid  \\\n",
      "fixed acidity              0.712114         -0.001931     0.029533   \n",
      "volatile acidity          -0.001931          0.010160    -0.001823   \n",
      "citric acid                0.029533         -0.001823     0.014646   \n",
      "residual sugar             0.381022          0.032865     0.057829   \n",
      "chlorides                  0.000426          0.000155     0.000302   \n",
      "free sulfur dioxide       -0.708919         -0.166300     0.193630   \n",
      "total sulfur dioxide       3.266013          0.382354     0.622989   \n",
      "density                    0.000670          0.000008     0.000054   \n",
      "pH                        -0.054265         -0.000486    -0.002992   \n",
      "sulphates                 -0.001651         -0.000411     0.000861   \n",
      "alcohol                   -0.125533          0.008400    -0.011278   \n",
      "quality                   -0.084947         -0.017382    -0.000987   \n",
      "\n",
      "                      residual sugar  chlorides  free sulfur dioxide  \\\n",
      "fixed acidity               0.381022   0.000426            -0.708919   \n",
      "volatile acidity            0.032865   0.000155            -0.166300   \n",
      "citric acid                 0.057829   0.000302             0.193630   \n",
      "residual sugar             25.725770   0.009828            25.800578   \n",
      "chlorides                   0.009828   0.000477             0.037674   \n",
      "free sulfur dioxide        25.800578   0.037674           289.242720   \n",
      "total sulfur dioxide       86.531303   0.184687           444.865891   \n",
      "density                     0.012727   0.000017             0.014966   \n",
      "pH                         -0.148684  -0.000298            -0.001587   \n",
      "sulphates                  -0.015435   0.000042             0.114938   \n",
      "alcohol                    -2.812740  -0.009684            -5.234509   \n",
      "quality                    -0.438316  -0.004062             0.122878   \n",
      "\n",
      "                      total sulfur dioxide   density        pH  sulphates  \\\n",
      "fixed acidity                     3.266013  0.000670 -0.054265  -0.001651   \n",
      "volatile acidity                  0.382354  0.000008 -0.000486  -0.000411   \n",
      "citric acid                       0.622989  0.000054 -0.002992   0.000861   \n",
      "residual sugar                   86.531303  0.012727 -0.148684  -0.015435   \n",
      "chlorides                         0.184687  0.000017 -0.000298   0.000042   \n",
      "free sulfur dioxide             444.865891  0.014966 -0.001587   0.114938   \n",
      "total sulfur dioxide           1806.085491  0.067352  0.014894   0.652645   \n",
      "density                           0.067352  0.000009 -0.000042   0.000025   \n",
      "pH                                0.014894 -0.000042  0.022801   0.002688   \n",
      "sulphates                         0.652645  0.000025  0.002688   0.013025   \n",
      "alcohol                         -23.476605 -0.002871  0.022565  -0.002448   \n",
      "quality                          -6.576746 -0.000814  0.013297   0.005425   \n",
      "\n",
      "                        alcohol   quality  \n",
      "fixed acidity         -0.125533 -0.084947  \n",
      "volatile acidity       0.008400 -0.017382  \n",
      "citric acid           -0.011278 -0.000987  \n",
      "residual sugar        -2.812740 -0.438316  \n",
      "chlorides             -0.009684 -0.004062  \n",
      "free sulfur dioxide   -5.234509  0.122878  \n",
      "total sulfur dioxide -23.476605 -6.576746  \n",
      "density               -0.002871 -0.000814  \n",
      "pH                     0.022565  0.013297  \n",
      "sulphates             -0.002448  0.005425  \n",
      "alcohol                1.514427  0.474726  \n",
      "quality                0.474726  0.784356  \n"
     ]
    }
   ],
   "source": [
    "print(wines.cov())                # Prints the covariance of each attribute against every other attribute."
   ]
  },
  {
   "cell_type": "markdown",
   "metadata": {
    "colab_type": "text",
    "id": "U6oZaGLeRZVQ"
   },
   "source": [
    "### Insights:\n",
    "\n",
    "- Hard to be understood and compared, because it gives us values in different scales as the variables change. \n",
    "- For a better comparison, we normalize covariance to a value that will always be between -1 and 1, so it can be better understood."
   ]
  },
  {
   "cell_type": "markdown",
   "metadata": {
    "colab_type": "text",
    "id": "CxJzOR-rRZVR"
   },
   "source": [
    "#### Correlation"
   ]
  },
  {
   "cell_type": "code",
   "execution_count": 17,
   "metadata": {
    "colab": {
     "base_uri": "https://localhost:8080/",
     "height": 272
    },
    "colab_type": "code",
    "id": "xGr2J0JYRZVR",
    "outputId": "414f585f-547a-4f87-a470-f7c2a076a724"
   },
   "outputs": [
    {
     "name": "stdout",
     "output_type": "stream",
     "text": [
      "                      fixed acidity  volatile acidity  citric acid  \\\n",
      "fixed acidity              1.000000         -0.022697     0.289181   \n",
      "volatile acidity          -0.022697          1.000000    -0.149472   \n",
      "citric acid                0.289181         -0.149472     1.000000   \n",
      "residual sugar             0.089021          0.064286     0.094212   \n",
      "chlorides                  0.023086          0.070512     0.114364   \n",
      "free sulfur dioxide       -0.049396         -0.097012     0.094077   \n",
      "total sulfur dioxide       0.091070          0.089261     0.121131   \n",
      "density                    0.265331          0.027114     0.149503   \n",
      "pH                        -0.425858         -0.031915    -0.163748   \n",
      "sulphates                 -0.017143         -0.035728     0.062331   \n",
      "alcohol                   -0.120881          0.067718    -0.075729   \n",
      "quality                   -0.113663         -0.194723    -0.009209   \n",
      "\n",
      "                      residual sugar  chlorides  free sulfur dioxide  \\\n",
      "fixed acidity               0.089021   0.023086            -0.049396   \n",
      "volatile acidity            0.064286   0.070512            -0.097012   \n",
      "citric acid                 0.094212   0.114364             0.094077   \n",
      "residual sugar              1.000000   0.088685             0.299098   \n",
      "chlorides                   0.088685   1.000000             0.101392   \n",
      "free sulfur dioxide         0.299098   0.101392             1.000000   \n",
      "total sulfur dioxide        0.401439   0.198910             0.615501   \n",
      "density                     0.838966   0.257211             0.294210   \n",
      "pH                         -0.194133  -0.090439            -0.000618   \n",
      "sulphates                  -0.026664   0.016763             0.059217   \n",
      "alcohol                    -0.450631  -0.360189            -0.250104   \n",
      "quality                    -0.097577  -0.209934             0.008158   \n",
      "\n",
      "                      total sulfur dioxide   density        pH  sulphates  \\\n",
      "fixed acidity                     0.091070  0.265331 -0.425858  -0.017143   \n",
      "volatile acidity                  0.089261  0.027114 -0.031915  -0.035728   \n",
      "citric acid                       0.121131  0.149503 -0.163748   0.062331   \n",
      "residual sugar                    0.401439  0.838966 -0.194133  -0.026664   \n",
      "chlorides                         0.198910  0.257211 -0.090439   0.016763   \n",
      "free sulfur dioxide               0.615501  0.294210 -0.000618   0.059217   \n",
      "total sulfur dioxide              1.000000  0.529881  0.002321   0.134562   \n",
      "density                           0.529881  1.000000 -0.093591   0.074493   \n",
      "pH                                0.002321 -0.093591  1.000000   0.155951   \n",
      "sulphates                         0.134562  0.074493  0.155951   1.000000   \n",
      "alcohol                          -0.448892 -0.780138  0.121432  -0.017433   \n",
      "quality                          -0.174737 -0.307123  0.099427   0.053678   \n",
      "\n",
      "                       alcohol   quality  \n",
      "fixed acidity        -0.120881 -0.113663  \n",
      "volatile acidity      0.067718 -0.194723  \n",
      "citric acid          -0.075729 -0.009209  \n",
      "residual sugar       -0.450631 -0.097577  \n",
      "chlorides            -0.360189 -0.209934  \n",
      "free sulfur dioxide  -0.250104  0.008158  \n",
      "total sulfur dioxide -0.448892 -0.174737  \n",
      "density              -0.780138 -0.307123  \n",
      "pH                    0.121432  0.099427  \n",
      "sulphates            -0.017433  0.053678  \n",
      "alcohol               1.000000  0.435575  \n",
      "quality               0.435575  1.000000  \n"
     ]
    }
   ],
   "source": [
    "print(wines.corr())             # Prints the correlation coefficient between each pair of attributes."
   ]
  },
  {
   "cell_type": "markdown",
   "metadata": {
    "colab_type": "text",
    "id": "u_3PAdStRZVT"
   },
   "source": [
    "### Insights:\n",
    "    \n",
    "1. This value is the correlation. Correlation is always between -1, a perfect anti-correlation, and 1, perfect correlation\n",
    "2. Finally, it is also important to note the famous concept that says that “correlation does not imply causation”."
   ]
  },
  {
   "cell_type": "markdown",
   "metadata": {
    "colab_type": "text",
    "id": "ipczwe7Wehe-"
   },
   "source": [
    "## 8. Pairplot for checking correlation:"
   ]
  },
  {
   "cell_type": "code",
   "execution_count": null,
   "metadata": {
    "colab": {
     "base_uri": "https://localhost:8080/",
     "height": 1000
    },
    "colab_type": "code",
    "id": "hBGAdrBxelHG",
    "outputId": "5a334f8c-bb32-4fd7-af5f-053fdad206b1"
   },
   "outputs": [],
   "source": [
    "import seaborn as sns\n",
    "\n",
    "sns.pairplot(wines, kind='reg')\n",
    "plt.show()"
   ]
  },
  {
   "cell_type": "markdown",
   "metadata": {
    "colab_type": "text",
    "id": "cZcpfHP4b1ii"
   },
   "source": [
    "### Insights:\n",
    "\n",
    "- It plots pairwise relationships in a dataset.\n",
    "- The diagonal Axes are treated differently, drawing a plot to show the univariate distribution of the data for the variable in that column.\n",
    "- We can see from the above plot that, the alochol and the density are negatively correlated. i.e. The more alcohol content, the less is the density.\n",
    "- Also, the quality and density are negatively correlated."
   ]
  },
  {
   "cell_type": "markdown",
   "metadata": {
    "colab_type": "text",
    "id": "CObFaZdCf40g"
   },
   "source": [
    "## 9. Heatmap of correlation:"
   ]
  },
  {
   "cell_type": "code",
   "execution_count": null,
   "metadata": {
    "colab": {
     "base_uri": "https://localhost:8080/",
     "height": 951
    },
    "colab_type": "code",
    "id": "2uFytxQVfz2t",
    "outputId": "f9838ae3-19f1-4756-977e-233c87706bce"
   },
   "outputs": [],
   "source": [
    "plt.figure(figsize=(15, 15))\n",
    "sns.heatmap(wines.corr(), annot=True, fmt=\".2\")\n",
    "plt.show()"
   ]
  },
  {
   "cell_type": "markdown",
   "metadata": {
    "colab_type": "text",
    "id": "56esrNvac59G"
   },
   "source": [
    "### Insights:\n",
    "\n",
    "- Plot of rectangular data as a color-encoded matrix.\n",
    "- The value 0.44 indicates that there is a positive correlation between the alcohol content and the quality of the wine.\n",
    "- The value 0.84 indicates that there is a high positive correlation between the density of wine and the amount of residual sugar."
   ]
  },
  {
   "cell_type": "markdown",
   "metadata": {
    "colab_type": "text",
    "id": "PYovcTLVglyk"
   },
   "source": [
    "## 10. Check the skewness:"
   ]
  },
  {
   "cell_type": "code",
   "execution_count": null,
   "metadata": {
    "colab": {
     "base_uri": "https://localhost:8080/",
     "height": 238
    },
    "colab_type": "code",
    "id": "J9MKDmhxgokK",
    "outputId": "9edeaf77-6145-4f13-95de-80c092629a4e"
   },
   "outputs": [],
   "source": [
    "wines.skew()"
   ]
  },
  {
   "cell_type": "markdown",
   "metadata": {
    "colab_type": "text",
    "id": "XKeEKwG2fUZy"
   },
   "source": [
    "- skew() return unbiased skew over requested axis.\n",
    "- The positive values indicate that the data is positively skewed. i.e. The mean and median is greater than the mode."
   ]
  },
  {
   "cell_type": "markdown",
   "metadata": {
    "colab_type": "text",
    "id": "gJ5cF2rjnNaD"
   },
   "source": [
    "## 11. Check the distribution of 'quality' column using distplot."
   ]
  },
  {
   "cell_type": "code",
   "execution_count": null,
   "metadata": {
    "colab": {
     "base_uri": "https://localhost:8080/",
     "height": 296
    },
    "colab_type": "code",
    "id": "7VjLqc2zmIHR",
    "outputId": "e1742640-80e4-4b68-d982-f591c1171b6c"
   },
   "outputs": [],
   "source": [
    "sns.distplot(wines['quality'])"
   ]
  },
  {
   "cell_type": "markdown",
   "metadata": {
    "colab_type": "text",
    "id": "vu9Wuc8vjoSC"
   },
   "source": [
    "#### This is a plot of univariate distribution of the target variable."
   ]
  },
  {
   "cell_type": "markdown",
   "metadata": {
    "colab_type": "text",
    "id": "sz4qI6s0nwcS"
   },
   "source": [
    "## 12. Make a separate dataframe of all columns except the \"quality\" column."
   ]
  },
  {
   "cell_type": "code",
   "execution_count": null,
   "metadata": {
    "colab": {},
    "colab_type": "code",
    "id": "8uol5Uuym6G7"
   },
   "outputs": [],
   "source": [
    "wines_features = wines.drop(['quality'], axis=1)"
   ]
  },
  {
   "cell_type": "markdown",
   "metadata": {
    "colab_type": "text",
    "id": "xK8E2zr4oWoD"
   },
   "source": [
    "## 13. Apply the feature scaling on the dataframe obtained in above step using StandardScalar():"
   ]
  },
  {
   "cell_type": "code",
   "execution_count": null,
   "metadata": {
    "colab": {},
    "colab_type": "code",
    "id": "D84-n4WQoWEU"
   },
   "outputs": [],
   "source": [
    "from sklearn.preprocessing import StandardScaler\n",
    "\n",
    "ss = StandardScaler()\n",
    "\n",
    "wines_features_scaled = ss.fit_transform(wines_features)"
   ]
  },
  {
   "cell_type": "markdown",
   "metadata": {
    "colab_type": "text",
    "id": "pjTnDv0h46Tb"
   },
   "source": [
    "# Conclusion:\n",
    "\n",
    "**Value of Exploratory Data Analysis:**\n",
    "\n",
    "- Exploratory Data Analysis is valuable to data science projects since it allows to get closer to the certainty that the future results will be valid, correctly interpreted, and applicable to the desired business contexts.\n",
    "- Such level of certainty can be achieved only after raw data is validated and checked for anomalies, ensuring that the data set was collected without errors.\n",
    "- EDA also helps to find insights that were not evident or worth investigating to business stakeholders and data scientists but can be very informative about a particular business.\n",
    "\n",
    "- EDA is performed in order to define and refine the selection of feature variables that will be used for machine learning.\n",
    "- Once data scientists become familiar with the data set, they often have to return to feature engineering step, since the initial features may turn out not to be serving their intended purpose.\n",
    "- Once the EDA stage is complete, data scientists get a firm feature set they need for supervised and unsupervised machine learning."
   ]
  },
  {
   "cell_type": "code",
   "execution_count": null,
   "metadata": {
    "colab": {},
    "colab_type": "code",
    "id": "BrU6tM9m5Q_D"
   },
   "outputs": [],
   "source": []
  },
  {
   "cell_type": "code",
   "execution_count": null,
   "metadata": {},
   "outputs": [],
   "source": []
  }
 ],
 "metadata": {
  "colab": {
   "collapsed_sections": [
    "aBtjmvSBRZUr",
    "4aZjRrPqRZUv",
    "ix2kuSnnbReE",
    "ucXf0qGfRZU_",
    "N5_sraojbdxK",
    "GD2vOTlsRZVC",
    "5YgikMgSbu-9",
    "ntsqjDckRZVF",
    "fOVqgO31cIlC",
    "u_3PAdStRZVT"
   ],
   "name": "EDA_Practice_Exercise_Answers.ipynb",
   "provenance": []
  },
  "kernelspec": {
   "display_name": "Python 3",
   "language": "python",
   "name": "python3"
  },
  "language_info": {
   "codemirror_mode": {
    "name": "ipython",
    "version": 3
   },
   "file_extension": ".py",
   "mimetype": "text/x-python",
   "name": "python",
   "nbconvert_exporter": "python",
   "pygments_lexer": "ipython3",
   "version": "3.7.6"
  }
 },
 "nbformat": 4,
 "nbformat_minor": 1
}
