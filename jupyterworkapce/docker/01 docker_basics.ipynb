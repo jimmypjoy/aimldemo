{
 "cells": [
  {
   "cell_type": "markdown",
   "id": "ebfea78d",
   "metadata": {},
   "source": [
    "# Basics"
   ]
  },
  {
   "cell_type": "code",
   "execution_count": 1,
   "id": "a643726e",
   "metadata": {},
   "outputs": [
    {
     "name": "stdout",
     "output_type": "stream",
     "text": [
      "Docker version 24.0.5, build ced0996\r\n"
     ]
    }
   ],
   "source": [
    "!docker --version"
   ]
  },
  {
   "cell_type": "code",
   "execution_count": 16,
   "id": "826bea4d",
   "metadata": {},
   "outputs": [
    {
     "name": "stdout",
     "output_type": "stream",
     "text": [
      "REPOSITORY              TAG             IMAGE ID       CREATED          SIZE\r\n",
      "test/test-python        0.0.2.RELEASE   5ce2e35e16e2   11 minutes ago   91.2MB\r\n",
      "jimmypjoy/spring-demo   1.0             79647e0eaef7   5 years ago      538MB\r\n"
     ]
    }
   ],
   "source": [
    "!docker images"
   ]
  },
  {
   "cell_type": "code",
   "execution_count": 9,
   "id": "77ce5bae",
   "metadata": {},
   "outputs": [
    {
     "name": "stdout",
     "output_type": "stream",
     "text": [
      "CONTAINER ID   IMAGE                            COMMAND                  CREATED         STATUS         PORTS                                       NAMES\r\n",
      "201bdf1aa025   test/test-python:0.0.2.RELEASE   \"/bin/sh -c 'python …\"   8 minutes ago   Up 8 minutes   0.0.0.0:5000->5000/tcp, :::5000->5000/tcp   keen_turing\r\n"
     ]
    }
   ],
   "source": [
    "!docker container ls"
   ]
  },
  {
   "cell_type": "code",
   "execution_count": 13,
   "id": "2d77c47b",
   "metadata": {},
   "outputs": [
    {
     "name": "stdout",
     "output_type": "stream",
     "text": [
      "CONTAINER ID   IMAGE     COMMAND   CREATED   STATUS    PORTS     NAMES\r\n"
     ]
    }
   ],
   "source": [
    "! docker ps"
   ]
  },
  {
   "cell_type": "code",
   "execution_count": 14,
   "id": "955f6c79",
   "metadata": {},
   "outputs": [
    {
     "name": "stdout",
     "output_type": "stream",
     "text": [
      "201bdf1aa025\r\n"
     ]
    }
   ],
   "source": [
    "!docker stop 201bdf1aa025   "
   ]
  },
  {
   "cell_type": "code",
   "execution_count": null,
   "id": "b338e998",
   "metadata": {},
   "outputs": [],
   "source": []
  },
  {
   "cell_type": "markdown",
   "id": "70c9bf0d",
   "metadata": {},
   "source": [
    "# Build Python image"
   ]
  },
  {
   "cell_type": "code",
   "execution_count": 4,
   "id": "f40423fb",
   "metadata": {},
   "outputs": [
    {
     "name": "stdout",
     "output_type": "stream",
     "text": [
      "\u001b[1A\u001b[1B\u001b[0G\u001b[?25l[+] Building 0.0s (0/2)                                          docker:default\n",
      "\u001b[?25h\u001b[1A\u001b[0G\u001b[?25l[+] Building 0.1s (2/3)                                          docker:default\n",
      "\u001b[34m => [internal] load build definition from Dockerfile                       0.0s\n",
      "\u001b[0m\u001b[34m => => transferring dockerfile: 302B                                       0.0s\n",
      "\u001b[0m\u001b[34m => [internal] load .dockerignore                                          0.0s\n",
      "\u001b[0m\u001b[34m => => transferring context: 2B                                            0.0s\n",
      "\u001b[0m => [internal] load metadata for docker.io/library/python:alpine3.10       0.1s\n",
      "\u001b[?25h\u001b[1A\u001b[1A\u001b[1A\u001b[1A\u001b[1A\u001b[1A\u001b[0G\u001b[?25l[+] Building 0.3s (9/9) FINISHED                                 docker:default\n",
      "\u001b[34m => [internal] load build definition from Dockerfile                       0.0s\n",
      "\u001b[0m\u001b[34m => => transferring dockerfile: 302B                                       0.0s\n",
      "\u001b[0m\u001b[34m => [internal] load .dockerignore                                          0.0s\n",
      "\u001b[0m\u001b[34m => => transferring context: 2B                                            0.0s\n",
      "\u001b[0m\u001b[34m => [internal] load metadata for docker.io/library/python:alpine3.10       0.2s\n",
      "\u001b[0m\u001b[34m => [1/4] FROM docker.io/library/python:alpine3.10@sha256:152b1952d4b42e3  0.0s\n",
      "\u001b[0m\u001b[34m => [internal] load build context                                          0.0s\n",
      "\u001b[0m\u001b[34m => => transferring context: 273B                                          0.0s\n",
      "\u001b[0m\u001b[34m => CACHED [2/4] WORKDIR /app                                              0.0s\n",
      "\u001b[0m\u001b[34m => CACHED [3/4] COPY . /app                                               0.0s\n",
      "\u001b[0m\u001b[34m => CACHED [4/4] RUN pip install -r requirements.txt                       0.0s\n",
      "\u001b[0m\u001b[34m => exporting to image                                                     0.0s\n",
      "\u001b[0m\u001b[34m => => exporting layers                                                    0.0s\n",
      "\u001b[0m\u001b[34m => => writing image sha256:5ce2e35e16e241f458896690821b9649f4de40f6bae6b  0.0s\n",
      "\u001b[0m\u001b[34m => => naming to docker.io/test/test-python:0.0.2.RELEASE                  0.0s\n",
      "\u001b[0m\u001b[?25h"
     ]
    }
   ],
   "source": [
    "!docker build -t test/test-python:0.0.2.RELEASE python"
   ]
  },
  {
   "cell_type": "code",
   "execution_count": 5,
   "id": "154d7bcc",
   "metadata": {},
   "outputs": [
    {
     "name": "stdout",
     "output_type": "stream",
     "text": [
      "a49b05b944ad5afd5da4b6cca261c8a721b8d064131810115e0d528c84b83530\n",
      "docker: Error response from daemon: driver failed programming external connectivity on endpoint admiring_yalow (19f7d0cb08cc448b1e60fa3f441af5fe648d67a7c57a6738e95b38c77b44f361): Bind for 0.0.0.0:5000 failed: port is already allocated.\n"
     ]
    }
   ],
   "source": [
    "!docker run -p 5000:5000 -d  test/test-python:0.0.2.RELEASE"
   ]
  },
  {
   "cell_type": "markdown",
   "id": "bfeb514c",
   "metadata": {},
   "source": [
    "* http://44.202.119.87:5000/"
   ]
  },
  {
   "cell_type": "code",
   "execution_count": null,
   "id": "5c6f77bc",
   "metadata": {},
   "outputs": [],
   "source": []
  },
  {
   "cell_type": "markdown",
   "id": "8bd47aeb",
   "metadata": {},
   "source": [
    "# Java/spring app"
   ]
  },
  {
   "cell_type": "code",
   "execution_count": 15,
   "id": "bc768059",
   "metadata": {},
   "outputs": [
    {
     "name": "stdout",
     "output_type": "stream",
     "text": [
      "1.0: Pulling from jimmypjoy/spring-demo\r\n",
      "Digest: sha256:49385fd7ea62b9b40e7b9e242ca9560f3658b172e03c75a374b5b290e4250daf\r\n",
      "Status: Image is up to date for jimmypjoy/spring-demo:1.0\r\n",
      "docker.io/jimmypjoy/spring-demo:1.0\r\n"
     ]
    }
   ],
   "source": [
    "!docker pull jimmypjoy/spring-demo:1.0"
   ]
  },
  {
   "cell_type": "code",
   "execution_count": null,
   "id": "0704380c",
   "metadata": {},
   "outputs": [],
   "source": [
    "!docker run -p 8080:8080 jimmypjoy/spring-demo:1.0"
   ]
  },
  {
   "cell_type": "code",
   "execution_count": 8,
   "id": "44196cc1",
   "metadata": {},
   "outputs": [
    {
     "name": "stdout",
     "output_type": "stream",
     "text": [
      "CONTAINER ID   IMAGE                            COMMAND                  CREATED         STATUS         PORTS                                       NAMES\r\n",
      "201bdf1aa025   test/test-python:0.0.2.RELEASE   \"/bin/sh -c 'python …\"   7 minutes ago   Up 7 minutes   0.0.0.0:5000->5000/tcp, :::5000->5000/tcp   keen_turing\r\n"
     ]
    }
   ],
   "source": [
    "!docker container ls"
   ]
  },
  {
   "cell_type": "code",
   "execution_count": null,
   "id": "31cb439c",
   "metadata": {},
   "outputs": [],
   "source": []
  },
  {
   "cell_type": "code",
   "execution_count": null,
   "id": "c52d216c",
   "metadata": {},
   "outputs": [],
   "source": []
  }
 ],
 "metadata": {
  "kernelspec": {
   "display_name": "Python 3 (ipykernel)",
   "language": "python",
   "name": "python3"
  },
  "language_info": {
   "codemirror_mode": {
    "name": "ipython",
    "version": 3
   },
   "file_extension": ".py",
   "mimetype": "text/x-python",
   "name": "python",
   "nbconvert_exporter": "python",
   "pygments_lexer": "ipython3",
   "version": "3.11.5"
  }
 },
 "nbformat": 4,
 "nbformat_minor": 5
}
