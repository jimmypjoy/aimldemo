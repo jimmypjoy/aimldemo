{
 "cells": [
  {
   "cell_type": "code",
   "execution_count": 1,
   "id": "1c072fb8",
   "metadata": {},
   "outputs": [
    {
     "name": "stderr",
     "output_type": "stream",
     "text": [
      "C:\\Users\\jimmy\\AppData\\Roaming\\Python\\Python311\\site-packages\\sentence_transformers\\cross_encoder\\CrossEncoder.py:11: TqdmExperimentalWarning: Using `tqdm.autonotebook.tqdm` in notebook mode. Use `tqdm.tqdm` instead to force console mode (e.g. in jupyter console)\n",
      "  from tqdm.autonotebook import tqdm, trange\n",
      "C:\\Users\\jimmy\\AppData\\Roaming\\Python\\Python311\\site-packages\\bitsandbytes\\cextension.py:34: UserWarning: The installed version of bitsandbytes was compiled without GPU support. 8-bit optimizers, 8-bit multiplication, and GPU quantization are unavailable.\n",
      "  warn(\"The installed version of bitsandbytes was compiled without GPU support. \"\n"
     ]
    },
    {
     "name": "stdout",
     "output_type": "stream",
     "text": [
      "'NoneType' object has no attribute 'cadam32bit_grad_fp32'\n"
     ]
    }
   ],
   "source": [
    "import os\n",
    "import shutil\n",
    "import json\n",
    "import requests\n",
    "import fitz\n",
    "import nltk\n",
    "from langchain.text_splitter import RecursiveCharacterTextSplitter\n",
    "from langchain_community.vectorstores import Chroma\n",
    "from sentence_transformers import SentenceTransformer, CrossEncoder, util\n",
    "from chromadb.config import Settings\n",
    "from langchain.prompts import PromptTemplate\n",
    "from langchain_openai import ChatOpenAI\n",
    "from langchain_community.llms import HuggingFaceHub"
   ]
  },
  {
   "cell_type": "markdown",
   "id": "5aae055e",
   "metadata": {},
   "source": [
    "# Environment setup"
   ]
  },
  {
   "cell_type": "code",
   "execution_count": 2,
   "id": "65dc69eb",
   "metadata": {},
   "outputs": [],
   "source": [
    "def setup_environment():\n",
    "    import sys\n",
    "    sys.path.append('C:\\\\gitworkspace\\\\aimldemo\\\\jupyterworkapce')\n",
    "    import stratup_env_setup\n",
    "    stratup_env_setup.set_env()"
   ]
  },
  {
   "cell_type": "code",
   "execution_count": 3,
   "id": "ef98e4ce",
   "metadata": {},
   "outputs": [],
   "source": [
    "setup_environment()"
   ]
  },
  {
   "cell_type": "code",
   "execution_count": 4,
   "id": "9aca2911",
   "metadata": {},
   "outputs": [],
   "source": [
    "class HuggingFaceEmbeddings:\n",
    "    \"\"\"Custom wrapper for Hugging Face SentenceTransformer embeddings.\"\"\"\n",
    "    def __init__(self, model_name=\"sentence-transformers/all-MiniLM-L6-v2\"):\n",
    "        self.embedding_model = SentenceTransformer(model_name)\n",
    "    \n",
    "    def embed_documents(self, texts):\n",
    "        \"\"\"Generate embeddings for a list of documents.\"\"\"\n",
    "        return self.embedding_model.encode(texts, convert_to_tensor=False).tolist()\n",
    "    \n",
    "    def embed_query(self, text):\n",
    "        \"\"\"Generate embedding for a single query.\"\"\"\n",
    "        return self.embedding_model.encode(text, convert_to_tensor=False).tolist()"
   ]
  },
  {
   "cell_type": "code",
   "execution_count": 5,
   "id": "eda5a336",
   "metadata": {},
   "outputs": [
    {
     "name": "stderr",
     "output_type": "stream",
     "text": [
      "[nltk_data] Downloading package punkt to\n",
      "[nltk_data]     C:\\Users\\jimmy\\AppData\\Roaming\\nltk_data...\n",
      "[nltk_data]   Package punkt is already up-to-date!\n"
     ]
    },
    {
     "data": {
      "text/plain": [
       "True"
      ]
     },
     "execution_count": 5,
     "metadata": {},
     "output_type": "execute_result"
    }
   ],
   "source": [
    "nltk.download('punkt')"
   ]
  },
  {
   "cell_type": "code",
   "execution_count": 6,
   "id": "11c69f09",
   "metadata": {},
   "outputs": [],
   "source": [
    "chunk_size=500\n",
    "chunk_overlap=50"
   ]
  },
  {
   "cell_type": "code",
   "execution_count": 7,
   "id": "ad176da1",
   "metadata": {},
   "outputs": [],
   "source": [
    "#pdf_path = \"C:\\\\gitworkspace\\\\aimldemo\\\\AIML Demo\\\\Python Demo\\\\pythonbasics\\\\doc_inputs\\\\Form_2287.pdf\"\n",
    "pdf_folder = \"C:\\\\gitworkspace\\\\aimldemo\\\\AIML Demo\\\\Python Demo\\\\pythonbasics\\\\doc_inputs\"\n",
    "output_folder = \"C:\\\\gitworkspace\\\\aimldemo\\\\AIML Demo\\\\Python Demo\\\\pythonbasics\\\\doc_outputs\""
   ]
  },
  {
   "cell_type": "code",
   "execution_count": 8,
   "id": "a99d8d9b",
   "metadata": {},
   "outputs": [],
   "source": [
    "highlighted_pdf_path = os.path.join(output_folder, \"highlighted_output.pdf\")"
   ]
  },
  {
   "cell_type": "code",
   "execution_count": 9,
   "id": "d386f737",
   "metadata": {},
   "outputs": [],
   "source": [
    "llm = ChatOpenAI(model_name=\"gpt-3.5-turbo\", temperature=0.7)\n",
    "#llm = ChatOpenAI(model_name=\"gpt-4o-mini\", temperature=0.7)\n",
    "#llm = HuggingFaceHub(repo_id=\"tiiuae/falcon-7b-instruct\", model_kwargs={\"temperature\": 0.7, \"max_length\": 512})\n"
   ]
  },
  {
   "cell_type": "code",
   "execution_count": 10,
   "id": "42b87cbf",
   "metadata": {},
   "outputs": [],
   "source": [
    "CREDIT_REVIEW_API_URL = \"http://127.0.0.1:8000/getCreditReviewData\""
   ]
  },
  {
   "cell_type": "markdown",
   "id": "d11f4970",
   "metadata": {},
   "source": [
    "# Vectorize PDF Document"
   ]
  },
  {
   "cell_type": "code",
   "execution_count": 11,
   "id": "415e43b0",
   "metadata": {},
   "outputs": [],
   "source": [
    "db_path = \"chroma_db\""
   ]
  },
  {
   "cell_type": "code",
   "execution_count": 12,
   "id": "eff548f5",
   "metadata": {},
   "outputs": [],
   "source": [
    "if os.path.exists(db_path):\n",
    "        print(f\"[INFO] Deleting existing Chroma database at {db_path} to avoid conflicts.\")\n",
    "        shutil.rmtree(db_path, ignore_errors=True)"
   ]
  },
  {
   "cell_type": "code",
   "execution_count": 13,
   "id": "5b777506",
   "metadata": {},
   "outputs": [],
   "source": [
    "embeddings = HuggingFaceEmbeddings()"
   ]
  },
  {
   "cell_type": "code",
   "execution_count": 14,
   "id": "441b2f26",
   "metadata": {},
   "outputs": [],
   "source": [
    "chroma_settings = Settings(persist_directory=db_path, anonymized_telemetry=False)"
   ]
  },
  {
   "cell_type": "code",
   "execution_count": 15,
   "id": "da83efca",
   "metadata": {},
   "outputs": [
    {
     "name": "stderr",
     "output_type": "stream",
     "text": [
      "C:\\Users\\jimmy\\AppData\\Local\\Temp\\ipykernel_7832\\1200157228.py:1: LangChainDeprecationWarning: The class `Chroma` was deprecated in LangChain 0.2.9 and will be removed in 1.0. An updated version of the class exists in the :class:`~langchain-chroma package and should be used instead. To use it run `pip install -U :class:`~langchain-chroma` and import as `from :class:`~langchain_chroma import Chroma``.\n",
      "  vector_db = Chroma(persist_directory=db_path, embedding_function=embeddings, client_settings=chroma_settings)\n"
     ]
    }
   ],
   "source": [
    "vector_db = Chroma(persist_directory=db_path, embedding_function=embeddings, client_settings=chroma_settings)"
   ]
  },
  {
   "cell_type": "code",
   "execution_count": 16,
   "id": "27a1e5bb",
   "metadata": {},
   "outputs": [],
   "source": [
    "def extract_chunks_with_coordinates(pdf_path):\n",
    "    \"\"\"Extract chunks from the PDF along with their coordinates (bounding boxes) and file name.\"\"\"\n",
    "    doc = fitz.open(pdf_path)\n",
    "    chunks_with_metadata = []\n",
    "\n",
    "    # Extract the file name from the full path\n",
    "    file_name = os.path.basename(pdf_path)\n",
    "\n",
    "    for page_num in range(len(doc)):\n",
    "        page = doc[page_num]\n",
    "        page_text = page.get_text(\"blocks\")\n",
    "        full_text = \" \".join(block[4] for block in page_text)\n",
    "\n",
    "        splitter = RecursiveCharacterTextSplitter(chunk_size=chunk_size, chunk_overlap=chunk_overlap)\n",
    "        text_chunks = splitter.split_text(full_text)\n",
    "\n",
    "        for chunk in text_chunks:\n",
    "            coordinates = []\n",
    "            search_results = page.search_for(chunk)\n",
    "            for rect in search_results:\n",
    "                coordinates.append((rect.x0, rect.y0, rect.x1, rect.y1))\n",
    "\n",
    "            chunks_with_metadata.append({\n",
    "                \"text\": chunk,\n",
    "                \"page\": page_num,\n",
    "                \"coordinates\": coordinates,\n",
    "                \"file_name\": file_name  # Add file name to metadata\n",
    "            })\n",
    "\n",
    "    return chunks_with_metadata\n"
   ]
  },
  {
   "cell_type": "code",
   "execution_count": 17,
   "id": "84a3e45d",
   "metadata": {},
   "outputs": [],
   "source": [
    "pdf_files = [os.path.join(pdf_folder, f) for f in os.listdir(pdf_folder) if f.endswith(\".pdf\")]"
   ]
  },
  {
   "cell_type": "code",
   "execution_count": 18,
   "id": "38233687",
   "metadata": {},
   "outputs": [
    {
     "data": {
      "text/plain": [
       "['C:\\\\gitworkspace\\\\aimldemo\\\\AIML Demo\\\\Python Demo\\\\pythonbasics\\\\doc_inputs\\\\Form_2287.pdf',\n",
       " 'C:\\\\gitworkspace\\\\aimldemo\\\\AIML Demo\\\\Python Demo\\\\pythonbasics\\\\doc_inputs\\\\lenovo_license_agreement.pdf']"
      ]
     },
     "execution_count": 18,
     "metadata": {},
     "output_type": "execute_result"
    }
   ],
   "source": [
    "pdf_files"
   ]
  },
  {
   "cell_type": "code",
   "execution_count": 19,
   "id": "a8a42d52",
   "metadata": {},
   "outputs": [],
   "source": [
    "text_chunks_with_metadata = []\n",
    "for pdf_file in pdf_files:\n",
    "    chunks = extract_chunks_with_coordinates(pdf_file)\n",
    "    text_chunks_with_metadata.extend(chunks)"
   ]
  },
  {
   "cell_type": "code",
   "execution_count": 20,
   "id": "279bad1b",
   "metadata": {},
   "outputs": [
    {
     "data": {
      "text/plain": [
       "{'text': 'SBA Form 2287 (04-18) \\n \\n          1 \\n Previous Editions Obsolete \\n  \\n \\n  \\n  \\n  \\n THIRD PARTY LENDER AGREEMENT \\n  \\n \\n \\nTHIS THIRD PARTY LENDER AGREEMENT (“Agreement\") is dated this ______ day \\nof______________, 20____, by and between ________________________________________, \\n(“Third Party Lender”) whose address is ____________________________________________, \\nand________________________________________________________, (“CDC”) whose address is',\n",
       " 'page': 0,\n",
       " 'coordinates': [(74.28336334228516,\n",
       "   736.0769653320312,\n",
       "   161.34852600097656,\n",
       "   747.1239013671875),\n",
       "  (287.99462890625, 736.0769653320312, 290.229736328125, 747.1239013671875),\n",
       "  (395.9959411621094, 736.0769653320312, 424.5137939453125, 747.1239013671875),\n",
       "  (72.0, 745.435546875, 172.51608276367188, 756.4824829101562),\n",
       "  (141.0, 82.16398620605469, 144.0, 98.17198944091797),\n",
       "  (177.0, 82.16398620605469, 180.0, 98.17198944091797),\n",
       "  (138.72000122070312,\n",
       "   107.96397399902344,\n",
       "   141.72000122070312,\n",
       "   123.97197723388672),\n",
       "  (72.0, 133.7639617919922, 75.0, 149.77195739746094),\n",
       "  (306.0, 159.56394958496094, 309.0, 175.5719451904297),\n",
       "  (155.0399932861328,\n",
       "   184.8782196044922,\n",
       "   168.40667724609375,\n",
       "   212.6336212158203),\n",
       "  (168.36000061035156,\n",
       "   189.1377410888672,\n",
       "   214.11094665527344,\n",
       "   211.24234008789062),\n",
       "  (214.0800018310547,\n",
       "   184.8782196044922,\n",
       "   226.32444763183594,\n",
       "   212.6336212158203),\n",
       "  (226.32000732421875,\n",
       "   189.1377410888672,\n",
       "   275.67633056640625,\n",
       "   211.24234008789062),\n",
       "  (275.760009765625, 184.8782196044922, 289.1266784667969, 212.6336212158203),\n",
       "  (289.0799865722656,\n",
       "   189.1377410888672,\n",
       "   349.0002746582031,\n",
       "   211.24234008789062),\n",
       "  (348.9599914550781, 184.8782196044922, 363.4288635253906, 212.6336212158203),\n",
       "  (363.4800109863281,\n",
       "   189.1377410888672,\n",
       "   456.9322509765625,\n",
       "   211.24234008789062),\n",
       "  (456.9599914550781,\n",
       "   193.1639862060547,\n",
       "   459.9599914550781,\n",
       "   209.17198181152344),\n",
       "  (71.99996948242188,\n",
       "   208.4039764404297,\n",
       "   74.99996948242188,\n",
       "   224.41197204589844),\n",
       "  (71.99996948242188,\n",
       "   222.20396423339844,\n",
       "   74.99996948242188,\n",
       "   238.2119598388672),\n",
       "  (71.99996948242188,\n",
       "   235.1639862060547,\n",
       "   74.99996948242188,\n",
       "   251.17198181152344),\n",
       "  (108.0, 236.17486572265625, 505.0855712890625, 250.9022216796875),\n",
       "  (72.00958251953125, 248.771484375, 499.4452819824219, 263.49884033203125),\n",
       "  (72.00961303710938, 261.36810302734375, 500.4130859375, 276.095458984375),\n",
       "  (72.00960540771484,\n",
       "   274.086181640625,\n",
       "   517.8057861328125,\n",
       "   288.81353759765625)],\n",
       " 'file_name': 'Form_2287.pdf'}"
      ]
     },
     "execution_count": 20,
     "metadata": {},
     "output_type": "execute_result"
    }
   ],
   "source": [
    "text_chunks_with_metadata[0]"
   ]
  },
  {
   "cell_type": "code",
   "execution_count": 21,
   "id": "0341e9fc",
   "metadata": {},
   "outputs": [],
   "source": [
    "page_number = 2\n",
    "file_name = 'Form_2287.pdf'"
   ]
  },
  {
   "cell_type": "code",
   "execution_count": 22,
   "id": "7d0685f3",
   "metadata": {},
   "outputs": [
    {
     "name": "stdout",
     "output_type": "stream",
     "text": [
      "Text Chunk: SBA Form 2287 (04-18) \n",
      " \n",
      "          3 \n",
      " Previous Editions Obsolete \n",
      " failure to pay taxes when due or violation of  any financial covenants which would cause a prudent \n",
      "lender to believe that the  prospect of payment or performance of the Third Party Note is impaired. \n",
      " \n",
      " \n",
      "c. \n",
      "No Cross-Collateralization.   Third Party Lender agrees that the Common Collateral \n",
      " will only secure its Third Party Loan and the Common Collateral is not currently, and will not be\n",
      "Page Number: 2\n",
      "File Name: Form_2287.pdf\n",
      "##################################################\n",
      "Text Chunk: used in the future, as security for any other financing provided by Third Party Lender to Borrower \n",
      "that purports to be in a superior position to that of the CDC Lien, unless authorized in writing by \n",
      "CDC and SBA. \n",
      " \n",
      " \n",
      "d. \n",
      "No Cross-Default.   During the term of the 504 Loan, Third Party Lender will not \n",
      " exercise any cross-default, \"deem at-risk,\" or any other provisions in documents evidencing the Third\n",
      "Page Number: 2\n",
      "File Name: Form_2287.pdf\n",
      "##################################################\n",
      "Text Chunk: Party Loan or Third Party Lender Lien which allow Third Party Lender to make demand on the \n",
      "Third Party Loan prior to maturity unless the Third Party Loan is in material default.   \n",
      " \n",
      " \n",
      "e. \n",
      "Maturity and Balloon Payments.   The Third Party Loan must have a term of at \n",
      " least 7 years (when the 504 loan is for a term of 10 years), or a term of at least10 years (when the \n",
      "504 loan is for 20 or 25 years).  If the Third Party Lender has made more than one loan, then an\n",
      "Page Number: 2\n",
      "File Name: Form_2287.pdf\n",
      "##################################################\n",
      "Text Chunk: overall loan maturity must be calculated, taking into account the amounts and maturities of each \n",
      "loan.  Any balloon payment for the Third Party Loan must be clearly identified and disclosed to \n",
      "SBA and approved at application or subsequently approved by SBA. \n",
      " \n",
      "  \n",
      " \n",
      "f. \n",
      "Reasonable Interest Rate.  The Third Party Loan has a reasonable interest rate \n",
      " which does not and will not exceed the maximum interest rate for Third Party Loans from\n",
      "Page Number: 2\n",
      "File Name: Form_2287.pdf\n",
      "##################################################\n",
      "Text Chunk: commercial financial institutions as published periodically by SBA in the Federal Register and in \n",
      "effect as of the date of this Agreement.   \n",
      " \n",
      " 6. \n",
      "Marshaling of Assets.  If the Third Party Lender takes additional collateral as security for the Third \n",
      " Party Loan, in the case of liquidation, any proceeds received from such additional collateral, must be applied \n",
      "to the Third Party Lender's Loan prior to the proceeds from the liquidation of the Common Collateral held by\n",
      "Page Number: 2\n",
      "File Name: Form_2287.pdf\n",
      "##################################################\n",
      "Text Chunk: the CDC/SBA and the Third Party Lender.  If the additional collateral no longer exists at the time of \n",
      "liquidation, or has insufficient value to justify the cost of collection, then the Third Party Lender is not \n",
      "required to liquidate such collateral, provided the Third Party Lender notifies CDC/SBA.   \n",
      " \n",
      "7. \n",
      "Notice of Default under the Third Party Loan.   Within thirty (30) days after the expiration of any\n",
      "Page Number: 2\n",
      "File Name: Form_2287.pdf\n",
      "##################################################\n",
      "Text Chunk: cure period for any continuing material default of the Third Party Loan or Third Party Lender Lien, Third \n",
      "Party Lender must provide written notice (referencing SBA’s loan number for the 504 Loan) of the default to \n",
      "CDC and SBA.  At least sixty 60 days prior to any legal proceedings against or liquidation of the Common \n",
      "Collateral (not including sending a demand letter), Third Party Lender must provide SBA with written notice \n",
      "of its intent to do so. \n",
      " \n",
      "8.\n",
      "Page Number: 2\n",
      "File Name: Form_2287.pdf\n",
      "##################################################\n",
      "Text Chunk: of its intent to do so. \n",
      " \n",
      "8. \n",
      "Limitation on Default Interest Rate.   Third Party Lender may not escalate the rate of interest upon \n",
      " default to a rate greater than the maximum rate published by SBA in the Federal Register.  SBA will only pay \n",
      "the interest rate on the note in effect before the date of Borrower’s default. \n",
      " \n",
      "9. \n",
      " Subordination to 504 Loan and/or CDC Lien, of Amounts Attributable to Default  \n",
      "  \n",
      " \n",
      "Provisions.      \n",
      "  \n",
      " \n",
      " \n",
      "  \n",
      " \n",
      "a.\n",
      "Page Number: 2\n",
      "File Name: Form_2287.pdf\n",
      "##################################################\n",
      "Text Chunk: Provisions.      \n",
      "  \n",
      " \n",
      " \n",
      "  \n",
      " \n",
      "a. \n",
      "The term \"Default Charges\" used in this paragraph includes, but is not limited to, \n",
      "prepayment penalties, late fees, other default charges, and escalated interest after default due under \n",
      "the Third Party Loan.\n",
      "Page Number: 2\n",
      "File Name: Form_2287.pdf\n",
      "##################################################\n"
     ]
    }
   ],
   "source": [
    "for chunk in text_chunks_with_metadata:\n",
    "    if chunk['file_name'] == file_name and chunk['page'] == page_number:\n",
    "        print(\"Text Chunk:\", chunk['text'])\n",
    "        print(\"Page Number:\", chunk['page'])\n",
    "        print(\"File Name:\", chunk['file_name'])\n",
    "        print(\"#\" * 50)"
   ]
  },
  {
   "cell_type": "code",
   "execution_count": 23,
   "id": "3746df7c",
   "metadata": {},
   "outputs": [],
   "source": [
    "chunk_texts = [item[\"text\"] for item in text_chunks_with_metadata]\n",
    "metadata = [{\"page_number\": item[\"page\"], \"file_name\": item[\"file_name\"], \"coordinates\": json.dumps(item[\"coordinates\"])} for item in text_chunks_with_metadata]"
   ]
  },
  {
   "cell_type": "code",
   "execution_count": 24,
   "id": "761b049d",
   "metadata": {},
   "outputs": [
    {
     "data": {
      "text/plain": [
       "'SBA Form 2287 (04-18) \\n \\n          1 \\n Previous Editions Obsolete \\n  \\n \\n  \\n  \\n  \\n THIRD PARTY LENDER AGREEMENT \\n  \\n \\n \\nTHIS THIRD PARTY LENDER AGREEMENT (“Agreement\") is dated this ______ day \\nof______________, 20____, by and between ________________________________________, \\n(“Third Party Lender”) whose address is ____________________________________________, \\nand________________________________________________________, (“CDC”) whose address is'"
      ]
     },
     "execution_count": 24,
     "metadata": {},
     "output_type": "execute_result"
    }
   ],
   "source": [
    "chunk_texts[0]"
   ]
  },
  {
   "cell_type": "code",
   "execution_count": 25,
   "id": "0c402efa",
   "metadata": {},
   "outputs": [
    {
     "data": {
      "text/plain": [
       "{'page_number': 0,\n",
       " 'file_name': 'Form_2287.pdf',\n",
       " 'coordinates': '[[74.28336334228516, 736.0769653320312, 161.34852600097656, 747.1239013671875], [287.99462890625, 736.0769653320312, 290.229736328125, 747.1239013671875], [395.9959411621094, 736.0769653320312, 424.5137939453125, 747.1239013671875], [72.0, 745.435546875, 172.51608276367188, 756.4824829101562], [141.0, 82.16398620605469, 144.0, 98.17198944091797], [177.0, 82.16398620605469, 180.0, 98.17198944091797], [138.72000122070312, 107.96397399902344, 141.72000122070312, 123.97197723388672], [72.0, 133.7639617919922, 75.0, 149.77195739746094], [306.0, 159.56394958496094, 309.0, 175.5719451904297], [155.0399932861328, 184.8782196044922, 168.40667724609375, 212.6336212158203], [168.36000061035156, 189.1377410888672, 214.11094665527344, 211.24234008789062], [214.0800018310547, 184.8782196044922, 226.32444763183594, 212.6336212158203], [226.32000732421875, 189.1377410888672, 275.67633056640625, 211.24234008789062], [275.760009765625, 184.8782196044922, 289.1266784667969, 212.6336212158203], [289.0799865722656, 189.1377410888672, 349.0002746582031, 211.24234008789062], [348.9599914550781, 184.8782196044922, 363.4288635253906, 212.6336212158203], [363.4800109863281, 189.1377410888672, 456.9322509765625, 211.24234008789062], [456.9599914550781, 193.1639862060547, 459.9599914550781, 209.17198181152344], [71.99996948242188, 208.4039764404297, 74.99996948242188, 224.41197204589844], [71.99996948242188, 222.20396423339844, 74.99996948242188, 238.2119598388672], [71.99996948242188, 235.1639862060547, 74.99996948242188, 251.17198181152344], [108.0, 236.17486572265625, 505.0855712890625, 250.9022216796875], [72.00958251953125, 248.771484375, 499.4452819824219, 263.49884033203125], [72.00961303710938, 261.36810302734375, 500.4130859375, 276.095458984375], [72.00960540771484, 274.086181640625, 517.8057861328125, 288.81353759765625]]'}"
      ]
     },
     "execution_count": 25,
     "metadata": {},
     "output_type": "execute_result"
    }
   ],
   "source": [
    "metadata[0]"
   ]
  },
  {
   "cell_type": "code",
   "execution_count": 26,
   "id": "0278055d",
   "metadata": {},
   "outputs": [
    {
     "data": {
      "text/plain": [
       "['f18b0687-9403-47b7-a0dc-d01048fa10ff',\n",
       " '1285a9b6-690d-4445-892b-9a3c068b9684',\n",
       " '34ddb139-9fcb-4670-a21c-2bea78d482b7',\n",
       " '53d6b17f-2ff3-409e-936d-1bfabadd9e9a',\n",
       " '09dd9947-3faf-47f6-80eb-029e71305133',\n",
       " '836b8faf-12b1-4a83-85e3-61a7a84b3b9a',\n",
       " 'd0cce04e-9f4e-405a-9b1a-57263bc11ebb',\n",
       " 'c2537c22-0a89-46fe-8bee-b3d11b9f746c',\n",
       " '4a39e2a4-6f55-4fee-842e-1be42bbc1558',\n",
       " '77f4875a-73b6-4987-9565-ccf2c6e4a46e',\n",
       " '02474009-d6e1-4d5f-b06f-36dce85148de',\n",
       " '616f1210-7f42-46af-932c-74596f10a0f0',\n",
       " '299459ad-40cd-43c7-9b02-4ca5499726b6',\n",
       " 'db52ca2d-578d-4934-b30c-3cc2700f51df',\n",
       " '8968c79c-cf4c-46ed-a3be-d9d3f3585c06',\n",
       " '55a49efc-4ecf-45f4-9bc7-2c03001c5393',\n",
       " 'aed0f69a-be05-4805-ac5a-aefd726f35a9',\n",
       " '3e00b9a2-ff06-48c2-8850-eeecb7fed0af',\n",
       " '1533c79b-5646-4cca-87b8-e00425aa2b07',\n",
       " '1ce71e11-1151-4716-b622-b5402361a9d8',\n",
       " '4cb51f8c-abfb-471d-b312-ecf185d98f11',\n",
       " 'c4500e49-57b3-49b3-b30d-acd42e760567',\n",
       " 'b6259c1d-e54b-45f8-a4f3-3a18bb286cc1',\n",
       " '14892ba5-5af7-4d44-b3db-339f63945eed',\n",
       " '347eee04-7348-4381-9415-f7376769c74f',\n",
       " '57fe5c7b-6046-40f4-88f5-5e37957a4f87',\n",
       " '49d487ab-c547-4e6d-a00e-9e29da8fbce4',\n",
       " '1e46456b-56e8-4047-8ae3-d792ad4069fc',\n",
       " 'f7be6b6f-f7e4-482f-833f-6ad933f51d92',\n",
       " '8de70bac-6958-48bc-9a65-f5d94e1ca8c6',\n",
       " '0b8d4cf3-f978-40f5-b1fb-ab8fb09c881a',\n",
       " '37a7bdf1-30c7-44bd-80b5-ec171aa3c4c6',\n",
       " '3baf4108-ce37-418a-899d-c345c2874082',\n",
       " '9590d0c1-b1c0-4122-adda-0a931271e96e',\n",
       " '61121be1-ad9f-4519-9e08-885df5d4cd93',\n",
       " '52e09062-c19b-4e33-9e21-d185e7a5df5e',\n",
       " 'ea2aca30-3e30-49e9-9b4f-6caa4d4a15f8',\n",
       " '03e44ecd-c7d3-41fd-813c-e104a986b00f',\n",
       " '8405ee22-2169-404d-9de6-bf682ff4e202',\n",
       " '109ee7c0-164b-4af4-947a-7fd344f0c561',\n",
       " '8bcbdfd5-929b-44d9-b030-3536190abb69',\n",
       " 'da372418-524d-4cf8-9010-4ad4fc52759f',\n",
       " '7193713d-34e3-4643-aa14-47047290c379',\n",
       " '0afb17e6-2c9c-4a81-b966-3885aa0af60d',\n",
       " 'f1bda737-5519-4652-922f-ed61eb54028b',\n",
       " 'cf80e7a2-59fb-4ed9-b5c7-7ae39a783466',\n",
       " '06da96ab-70e0-4e05-874a-cf23f79da1eb',\n",
       " '06e9d2b0-cfc8-464a-9cd6-207fc23c9b68',\n",
       " '972d3607-5700-4de6-befe-0585372fbab4',\n",
       " '80041bc1-38f8-43c2-b8b0-04b732db69f7',\n",
       " '0e6f5331-c1e8-45a4-a07a-781a0c3ca319',\n",
       " 'dec602ff-8598-4ab7-b2c0-d8df09fc34ec',\n",
       " '13c99c57-be72-4438-bf70-8432eb87efc7',\n",
       " 'bc317355-b3ef-4416-afeb-ebe3376e3f09',\n",
       " '3dd2b357-baef-457c-81d3-570520d543d0',\n",
       " '3e8dc2ee-4e77-4e35-bf94-679bd6c2372a',\n",
       " '7ce9da4c-3582-4761-8644-466d08c5eafa',\n",
       " 'fa5f82d0-22cb-49ce-8237-a34d3f8a6cd3',\n",
       " '6ed7bb2c-f03b-4883-92ea-f0934040eb62',\n",
       " 'f9a7fe91-9747-4e3a-bd5b-9c15eefbf62b',\n",
       " '9f579d41-4cd3-4179-92b6-3b7efa54649a',\n",
       " 'a2b3427d-97c1-492b-a205-403d31d631ea',\n",
       " 'a9fe78d5-7d4c-45c7-bfd9-d1ab2add5435',\n",
       " '0f8cc574-738a-4860-bb8b-041bfbe2a637',\n",
       " 'c12af98b-bbc6-40ad-a83e-81d771a27406',\n",
       " '3816b7d3-5555-493b-9c15-1183fd4523d0',\n",
       " 'f44e3245-274a-4a5f-aedf-a3fc8b828d78',\n",
       " '30f24c5f-a512-4fc2-b986-0fe7726fa909',\n",
       " 'caf50fa8-2b2d-4763-8ba9-189858009bac',\n",
       " '39636dc1-366f-45bc-9933-c094ea19af12',\n",
       " '46647dff-8ad8-41b2-ab9e-7be7f424b2ce',\n",
       " '7283fcab-e9f7-425f-babd-ff180487ed47',\n",
       " '834296cf-ccee-478b-bd25-0fc0dc7bebe7',\n",
       " 'c03f5ef1-859e-44cb-9366-c010e9a0417f',\n",
       " 'a59ee334-2b4a-4184-8ee9-4c5e00ab000e',\n",
       " 'a2e747d1-133a-484e-a001-1c29280edbbb',\n",
       " '7cea91ff-3120-480e-819a-e5bb3a9ecf00',\n",
       " 'bbe5cdb6-92c7-44b5-9572-f0aff0f24d0a',\n",
       " '5264153b-7b38-46e7-b7bb-18b1d8a14def',\n",
       " 'e97ff2e2-d815-4d53-b74e-82f7150ef250',\n",
       " '8b45a807-acfb-4639-b952-70d042be8409',\n",
       " 'b49b1b6f-c573-499a-b87c-2f1997237db4',\n",
       " '5f1ab719-eab0-477d-b1f0-4e729f13460a',\n",
       " '35fb7927-770f-418b-89dc-c75b11d0c4f5',\n",
       " '500733f5-d707-4576-afed-28872b443d5c',\n",
       " '5629c957-de64-4b77-8c90-a4bc27d7dba4',\n",
       " '87308ea8-fec6-4df2-a9bb-cc3f27f394a6',\n",
       " '63eabbc5-69dc-496b-84c2-28ee2a601e0e',\n",
       " '33412278-19f8-4b58-a850-56fe74f8b5fb',\n",
       " 'a701c961-1691-46fd-a0ad-a0a82fb84267',\n",
       " '93008766-853a-47b1-92da-e1440eef1e06',\n",
       " 'fa104bf2-09eb-4ee4-8643-3a0fe0a09c0a',\n",
       " 'b7078bd9-399e-47af-90eb-2f7806e4b594',\n",
       " 'bc1b1f23-fbf4-4e1b-9827-e57046a7b342',\n",
       " '10c6ea8d-dedb-4ae5-9e87-0d55d7d49187']"
      ]
     },
     "execution_count": 26,
     "metadata": {},
     "output_type": "execute_result"
    }
   ],
   "source": [
    "vector_db.add_texts(chunk_texts, metadatas=metadata)"
   ]
  },
  {
   "cell_type": "code",
   "execution_count": 27,
   "id": "ec7325f1",
   "metadata": {},
   "outputs": [
    {
     "name": "stderr",
     "output_type": "stream",
     "text": [
      "C:\\Users\\jimmy\\AppData\\Local\\Temp\\ipykernel_7832\\2766552738.py:1: LangChainDeprecationWarning: Since Chroma 0.4.x the manual persistence method is no longer supported as docs are automatically persisted.\n",
      "  vector_db.persist()\n"
     ]
    }
   ],
   "source": [
    "vector_db.persist()"
   ]
  },
  {
   "cell_type": "markdown",
   "id": "2ddfa308",
   "metadata": {},
   "source": [
    "# Chat Query"
   ]
  },
  {
   "cell_type": "code",
   "execution_count": 28,
   "id": "18da39b6",
   "metadata": {},
   "outputs": [],
   "source": [
    "#user_query = 'What does this document say about Balloon payments?'\n",
    "#user_query = \"what does this document say about authority to execute agreement?\"\n",
    "#user_query = 'About Balloon payments in page_number 3 of Form_2287.pdf?'\n",
    "user_query = 'What does the docuemnt say about Transferability in page_number 3 of lenovo_license_agreement.pdf?'\n",
    "#user_query = 'How many credit reviews are there for cagid 123?'"
   ]
  },
  {
   "cell_type": "code",
   "execution_count": 29,
   "id": "778483d7",
   "metadata": {},
   "outputs": [],
   "source": [
    "chat_history = [\n",
    "    {\"role\": \"user\", \"content\": \"CDC agrees to make the 504 Loan to the Borrower subject to what?\"},\n",
    "    {\"role\": \"assistant\", \"content\": \"SBA's approval.\"},\n",
    "    {\"role\": \"user\", \"content\": \"Third Party Lender waives its rights for what?\"},\n",
    "    {\"role\": \"assistant\", \"content\": \"Third Party Lender waives its rights to enforce provisions that do not comply with the 504 Loan Program Requirements.\"},\n",
    "    {\"role\": \"user\", \"content\": \"what does this document say about authority to execute agreement?\"},\n",
    "    {\"role\": \"assistant\", \"content\": \"The persons signing below certify that they have been duly authorized to execute this Agreement on behalf of their respective party.\"}\n",
    "]"
   ]
  },
  {
   "cell_type": "markdown",
   "id": "26c95303",
   "metadata": {},
   "source": [
    "* Rephrase the query to identify teh user's intended full question using LLM"
   ]
  },
  {
   "cell_type": "code",
   "execution_count": 30,
   "id": "6142eb68",
   "metadata": {},
   "outputs": [],
   "source": [
    "# Template to rephrase the user query and extract metadata\n",
    "template = \"\"\"\n",
    "Given the chat history and the current user query, rewrite the query so it forms a complete question, maintaining the context of the conversation. Then, extract metadata (only \"file_name\" and \"page_number\" fields) if they are mentioned in the question or chat history.\n",
    "Rewritten query shoudl not have refernce to metadata fields file_name and page_number.\n",
    "\n",
    "Chat History:\n",
    "{chat_history}\n",
    "\n",
    "Current user query: {query}\n",
    "\n",
    "Rewritten query:\n",
    "[Provide the rewritten query here.]\n",
    "\n",
    "Extracted Metadata (JSON format with only file_name and page_number fields):\n",
    "[Provide the metadata here as a valid JSON object.]\n",
    "\"\"\""
   ]
  },
  {
   "cell_type": "code",
   "execution_count": 31,
   "id": "bdcc3c77",
   "metadata": {},
   "outputs": [],
   "source": [
    "# Format the chat history into a string\n",
    "formatted_chat_history = \"\\n\".join([f'{entry[\"role\"].capitalize()}: {entry[\"content\"]}' for entry in chat_history])"
   ]
  },
  {
   "cell_type": "code",
   "execution_count": 32,
   "id": "ac979539",
   "metadata": {},
   "outputs": [],
   "source": [
    "# Create the prompt for the LLM\n",
    "prompt = PromptTemplate.from_template(template).format(\n",
    "    chat_history=formatted_chat_history,\n",
    "    query=user_query\n",
    ")"
   ]
  },
  {
   "cell_type": "code",
   "execution_count": 33,
   "id": "64b5c801",
   "metadata": {},
   "outputs": [
    {
     "data": {
      "text/plain": [
       "'\\nGiven the chat history and the current user query, rewrite the query so it forms a complete question, maintaining the context of the conversation. Then, extract metadata (only \"file_name\" and \"page_number\" fields) if they are mentioned in the question or chat history.\\nRewritten query shoudl not have refernce to metadata fields file_name and page_number.\\n\\nChat History:\\nUser: CDC agrees to make the 504 Loan to the Borrower subject to what?\\nAssistant: SBA\\'s approval.\\nUser: Third Party Lender waives its rights for what?\\nAssistant: Third Party Lender waives its rights to enforce provisions that do not comply with the 504 Loan Program Requirements.\\nUser: what does this document say about authority to execute agreement?\\nAssistant: The persons signing below certify that they have been duly authorized to execute this Agreement on behalf of their respective party.\\n\\nCurrent user query: What does the docuemnt say about Transferability in page_number 3 of lenovo_license_agreement.pdf?\\n\\nRewritten query:\\n[Provide the rewritten query here.]\\n\\nExtracted Metadata (JSON format with only file_name and page_number fields):\\n[Provide the metadata here as a valid JSON object.]\\n'"
      ]
     },
     "execution_count": 33,
     "metadata": {},
     "output_type": "execute_result"
    }
   ],
   "source": [
    "prompt "
   ]
  },
  {
   "cell_type": "code",
   "execution_count": 34,
   "id": "e918d94a",
   "metadata": {},
   "outputs": [],
   "source": [
    "response = llm.invoke(prompt)"
   ]
  },
  {
   "cell_type": "code",
   "execution_count": 37,
   "id": "95ca4d88",
   "metadata": {},
   "outputs": [
    {
     "data": {
      "text/plain": [
       "AIMessage(content='Rewritten query: What does the document say about Transferability in the Lenovo License Agreement?\\n\\nExtracted Metadata:\\n{\\n  \"file_name\": \"lenovo_license_agreement.pdf\",\\n  \"page_number\": 3\\n}', additional_kwargs={'refusal': None}, response_metadata={'token_usage': {'completion_tokens': 46, 'prompt_tokens': 250, 'total_tokens': 296, 'completion_tokens_details': {'accepted_prediction_tokens': 0, 'audio_tokens': 0, 'reasoning_tokens': 0, 'rejected_prediction_tokens': 0}, 'prompt_tokens_details': {'audio_tokens': 0, 'cached_tokens': 0}}, 'model_name': 'gpt-3.5-turbo-0125', 'system_fingerprint': None, 'finish_reason': 'stop', 'logprobs': None}, id='run-70ef3a3b-6894-48b9-9b9c-a99217c43877-0', usage_metadata={'input_tokens': 250, 'output_tokens': 46, 'total_tokens': 296, 'input_token_details': {'audio': 0, 'cache_read': 0}, 'output_token_details': {'audio': 0, 'reasoning': 0}})"
      ]
     },
     "execution_count": 37,
     "metadata": {},
     "output_type": "execute_result"
    }
   ],
   "source": [
    "response"
   ]
  },
  {
   "cell_type": "code",
   "execution_count": 38,
   "id": "858b6f7e",
   "metadata": {},
   "outputs": [],
   "source": [
    "response_content = response.content  "
   ]
  },
  {
   "cell_type": "code",
   "execution_count": 41,
   "id": "ff022124",
   "metadata": {},
   "outputs": [],
   "source": [
    "# Split the response into rewritten query and metadata parts\n",
    "response_parts = response_content.split(\"\\nExtracted Metadata:\")"
   ]
  },
  {
   "cell_type": "code",
   "execution_count": 42,
   "id": "0873a159",
   "metadata": {},
   "outputs": [
    {
     "name": "stdout",
     "output_type": "stream",
     "text": [
      "Rewritten Query: Rewritten query: What does the document say about Transferability in the Lenovo License Agreement?\n",
      "Extracted Metadata: {\n",
      "  \"file_name\": \"lenovo_license_agreement.pdf\",\n",
      "  \"page_number\": 3\n",
      "}\n"
     ]
    }
   ],
   "source": [
    "# Print the extracted parts\n",
    "print(\"Rewritten Query:\", response_parts[0].strip())\n",
    "if len(response_parts) > 1:\n",
    "    print(\"Extracted Metadata:\", response_parts[1].strip())"
   ]
  },
  {
   "cell_type": "code",
   "execution_count": 48,
   "id": "3eaab18f",
   "metadata": {},
   "outputs": [],
   "source": [
    "query = response_parts[0].replace(\"Rewritten query:\", \"\").strip()"
   ]
  },
  {
   "cell_type": "code",
   "execution_count": null,
   "id": "5675ae14",
   "metadata": {},
   "outputs": [],
   "source": []
  },
  {
   "cell_type": "code",
   "execution_count": 44,
   "id": "7e5f9c9a",
   "metadata": {},
   "outputs": [],
   "source": [
    "metadata_str = response_parts[1].strip()"
   ]
  },
  {
   "cell_type": "code",
   "execution_count": 45,
   "id": "17d7b787",
   "metadata": {},
   "outputs": [],
   "source": [
    "metadata = json.loads(metadata_str)"
   ]
  },
  {
   "cell_type": "code",
   "execution_count": 46,
   "id": "343631ca",
   "metadata": {},
   "outputs": [
    {
     "data": {
      "text/plain": [
       "{'file_name': 'lenovo_license_agreement.pdf', 'page_number': 3}"
      ]
     },
     "execution_count": 46,
     "metadata": {},
     "output_type": "execute_result"
    }
   ],
   "source": [
    "metadata"
   ]
  },
  {
   "cell_type": "code",
   "execution_count": 47,
   "id": "3104e008",
   "metadata": {},
   "outputs": [
    {
     "data": {
      "text/plain": [
       "'What does the document say about Transferability in the Lenovo License Agreement?'"
      ]
     },
     "execution_count": 47,
     "metadata": {},
     "output_type": "execute_result"
    }
   ],
   "source": [
    "query"
   ]
  },
  {
   "cell_type": "markdown",
   "id": "6da8b341",
   "metadata": {},
   "source": [
    "# Agent for Rest Services"
   ]
  },
  {
   "cell_type": "code",
   "execution_count": null,
   "id": "1317b671",
   "metadata": {},
   "outputs": [],
   "source": [
    "prompt_template = PromptTemplate(\n",
    "    input_variables=[\"query\"],\n",
    "    template=\"\"\"\n",
    "    Analyze the following user query and determine whether to query the credit review REST API or search the vector database.\n",
    "\n",
    "    If the query is related to credit review (e.g., approvals, CAGID, or review type), determine:\n",
    "    - Mandatory parameters: CAGID\n",
    "    - Optional filters: creationDate, creditReviewType, approvedBy, tfa\n",
    "    - Which specific field the user wants (e.g., \"approvedBy\").\n",
    "\n",
    "    Return a JSON object with the following fields:\n",
    "    - \"invoke_rest\": true/false\n",
    "    - \"params\": {{\"CAGID\": \"<value>\", \"creationDate\": \"<value>\", \"creditReviewType\": \"<value>\", \"approvedBy\": \"<value>\", \"tfa\": \"<value>\"}}\n",
    "    - \"required_field\": the specific field the user needs, if applicable.\n",
    "\n",
    "    User query: \"{query}\"\n",
    "    \"\"\"\n",
    ")"
   ]
  },
  {
   "cell_type": "code",
   "execution_count": null,
   "id": "1049dded",
   "metadata": {},
   "outputs": [],
   "source": [
    "formatted_prompt = prompt_template.format(query=user_query)"
   ]
  },
  {
   "cell_type": "code",
   "execution_count": null,
   "id": "470dff6e",
   "metadata": {},
   "outputs": [],
   "source": [
    "response = llm.predict(formatted_prompt)"
   ]
  },
  {
   "cell_type": "code",
   "execution_count": null,
   "id": "557f33e8",
   "metadata": {},
   "outputs": [],
   "source": [
    "response"
   ]
  },
  {
   "cell_type": "code",
   "execution_count": null,
   "id": "be5c709d",
   "metadata": {},
   "outputs": [],
   "source": [
    "import re"
   ]
  },
  {
   "cell_type": "code",
   "execution_count": null,
   "id": "a0ddf587",
   "metadata": {},
   "outputs": [],
   "source": [
    "match = re.search(r'\\{.*\\}', response, re.DOTALL)\n",
    "if match:\n",
    "    json_str = match.group(0)\n",
    "    try:\n",
    "        response_dict = json.loads(json_str)\n",
    "        print(\"Parsed JSON successfully:\", response_dict)\n",
    "    except json.JSONDecodeError as e:\n",
    "        print(\"Error parsing JSON:\", e)\n",
    "else:\n",
    "    print(\"No JSON object found in response.\")"
   ]
  },
  {
   "cell_type": "code",
   "execution_count": null,
   "id": "0049e417",
   "metadata": {},
   "outputs": [],
   "source": [
    "if response_dict.get(\"invoke_rest\"):\n",
    "    print(\"Calling REST API with parameters:\", response_dict[\"params\"])\n",
    "else:\n",
    "    print(\"No REST API call needed.\")"
   ]
  },
  {
   "cell_type": "markdown",
   "id": "b850dbe7",
   "metadata": {},
   "source": [
    "# If Condition to call REST Endpoint"
   ]
  },
  {
   "cell_type": "code",
   "execution_count": null,
   "id": "1ecd7dad",
   "metadata": {},
   "outputs": [],
   "source": [
    "api_params = {\n",
    "    \"cagid\": response_dict[\"params\"].get(\"CAGID\")  # Convert key to lowercase\n",
    "}"
   ]
  },
  {
   "cell_type": "code",
   "execution_count": null,
   "id": "dd7ff4d0",
   "metadata": {},
   "outputs": [],
   "source": [
    "api_params"
   ]
  },
  {
   "cell_type": "code",
   "execution_count": null,
   "id": "07e1a621",
   "metadata": {},
   "outputs": [],
   "source": [
    "response = requests.get(CREDIT_REVIEW_API_URL, params=api_params)"
   ]
  },
  {
   "cell_type": "code",
   "execution_count": null,
   "id": "5e3b131f",
   "metadata": {},
   "outputs": [],
   "source": [
    "response"
   ]
  },
  {
   "cell_type": "code",
   "execution_count": null,
   "id": "d1073b97",
   "metadata": {},
   "outputs": [],
   "source": [
    "if response.status_code == 200:\n",
    "    api_response = response.json()\n",
    "    print(\"API Response Received Successfully:\")\n",
    "    print(json.dumps(api_response, indent=4))\n",
    "else:\n",
    "    print(f\"API call failed with status code: {response.status_code}\")\n",
    "    print(response.text)"
   ]
  },
  {
   "cell_type": "code",
   "execution_count": null,
   "id": "eb43a8fa",
   "metadata": {},
   "outputs": [],
   "source": [
    "prompt = f\"\"\"\n",
    "You are an intelligent assistant. I have the following JSON data retrieved from a REST API:\n",
    "\n",
    "JSON Structure:\n",
    "- Each element in the JSON array represents a credit review record.\n",
    "- Fields:\n",
    "    - `cagid`: The unique identifier for the customer.\n",
    "    - `creationDate`: The date the credit review was created.\n",
    "    - `creditReviewType`: The type of credit review (e.g., ANNUAL_REVIEW, INTERIM_REVIEW, CREDIT_MEMO).\n",
    "    - `camId`: The unique identifier for the credit application memo.\n",
    "    - `approvedBy`: The SOEID of the approver.\n",
    "    - `tfa`: The total facility amount for the credit review.\n",
    "\n",
    "JSON Data:\n",
    "{json.dumps(api_response, indent=4)}\n",
    "\n",
    "Using the JSON data above, answer the following query in natural language:\n",
    "{user_query}\n",
    "\"\"\""
   ]
  },
  {
   "cell_type": "code",
   "execution_count": null,
   "id": "d1b30671",
   "metadata": {},
   "outputs": [],
   "source": [
    "response = llm.predict(prompt)"
   ]
  },
  {
   "cell_type": "code",
   "execution_count": null,
   "id": "b158df86",
   "metadata": {},
   "outputs": [],
   "source": [
    "response"
   ]
  },
  {
   "cell_type": "markdown",
   "id": "b9775096",
   "metadata": {},
   "source": [
    "# Fetch relevant chunks from Vector DB- (Else condition)"
   ]
  },
  {
   "cell_type": "code",
   "execution_count": null,
   "id": "a78472ad",
   "metadata": {},
   "outputs": [],
   "source": [
    " metadata_filter = {\n",
    "        \"$and\": [\n",
    "            {key: {\"$eq\": (value - 1 if key == \"page_number\" else value)}}\n",
    "            for key, value in metadata.items()\n",
    "        ]\n",
    "    }"
   ]
  },
  {
   "cell_type": "code",
   "execution_count": null,
   "id": "1a803556",
   "metadata": {},
   "outputs": [],
   "source": [
    "metadata_filter"
   ]
  },
  {
   "cell_type": "code",
   "execution_count": null,
   "id": "122de57f",
   "metadata": {},
   "outputs": [],
   "source": [
    "top_chunks_with_scores = vector_db.similarity_search_with_score(query, k=3)\n",
    "top_chunks_with_scores = vector_db.similarity_search_with_score(\n",
    "    query=query,\n",
    "    k=3,\n",
    "    filter=metadata_filter\n",
    ")"
   ]
  },
  {
   "cell_type": "code",
   "execution_count": null,
   "id": "239bab94",
   "metadata": {},
   "outputs": [],
   "source": [
    "top_chunks_with_scores"
   ]
  },
  {
   "cell_type": "code",
   "execution_count": null,
   "id": "373c9f0b",
   "metadata": {},
   "outputs": [],
   "source": [
    "# Extract chunk texts for cross-encoding\n",
    "top_chunks = [chunk.page_content for chunk, _ in top_chunks_with_scores]"
   ]
  },
  {
   "cell_type": "code",
   "execution_count": null,
   "id": "69a81ae7",
   "metadata": {},
   "outputs": [],
   "source": [
    "cross_encoder = CrossEncoder(\"cross-encoder/ms-marco-MiniLM-L-6-v2\")"
   ]
  },
  {
   "cell_type": "code",
   "execution_count": null,
   "id": "dd3f88ed",
   "metadata": {},
   "outputs": [],
   "source": [
    "query_chunk_pairs = [(query, chunk) for chunk in top_chunks]"
   ]
  },
  {
   "cell_type": "code",
   "execution_count": null,
   "id": "c8c6c273",
   "metadata": {},
   "outputs": [],
   "source": [
    "query_chunk_pairs"
   ]
  },
  {
   "cell_type": "code",
   "execution_count": null,
   "id": "899f91a3",
   "metadata": {},
   "outputs": [],
   "source": [
    "cross_encoded_scores = cross_encoder.predict(query_chunk_pairs)"
   ]
  },
  {
   "cell_type": "code",
   "execution_count": null,
   "id": "caec509d",
   "metadata": {},
   "outputs": [],
   "source": [
    "# Pair chunks with their cross-encoder scores and sort them in descending order\n",
    "ranked_chunks_with_scores = sorted(\n",
    "    zip(top_chunks_with_scores, cross_encoded_scores),\n",
    "    key=lambda x: x[1],  # Sort by score (descending)\n",
    "    reverse=True\n",
    ")"
   ]
  },
  {
   "cell_type": "code",
   "execution_count": null,
   "id": "0157b74b",
   "metadata": {},
   "outputs": [],
   "source": [
    "top_chunk_cross_encoded, top_cross_encoded_score = ranked_chunks_with_scores[0][0]"
   ]
  },
  {
   "cell_type": "code",
   "execution_count": null,
   "id": "93b43789",
   "metadata": {},
   "outputs": [],
   "source": [
    "metadata_of_top_chunk = top_chunk_cross_encoded.metadata"
   ]
  },
  {
   "cell_type": "code",
   "execution_count": null,
   "id": "1a5f3012",
   "metadata": {},
   "outputs": [],
   "source": [
    "metadata_of_top_chunk"
   ]
  },
  {
   "cell_type": "code",
   "execution_count": null,
   "id": "af72b15a",
   "metadata": {},
   "outputs": [],
   "source": [
    "top_chunk_cross_encoded"
   ]
  },
  {
   "cell_type": "code",
   "execution_count": null,
   "id": "3777fb28",
   "metadata": {},
   "outputs": [],
   "source": [
    "metadata_of_top_chunk"
   ]
  },
  {
   "cell_type": "markdown",
   "id": "659ad976",
   "metadata": {},
   "source": [
    "# LLM query"
   ]
  },
  {
   "cell_type": "code",
   "execution_count": null,
   "id": "e2b92b7b",
   "metadata": {},
   "outputs": [],
   "source": [
    "llm_instruction = \"Please answer the question by carefully considering both the provided context and the chat history. Use the context for accurate information and take into account any relevant details from the chat history to generate a well-informed response. If enough information is not available, please respond by saying: 'There is not enough information to answer the question.'\""
   ]
  },
  {
   "cell_type": "code",
   "execution_count": null,
   "id": "e32fb893",
   "metadata": {},
   "outputs": [],
   "source": [
    "# Create the prompt\n",
    "template = \"\"\"\n",
    "Context: \n",
    "{context}\n",
    "\n",
    "Chat history:\n",
    "{chat_history}\n",
    "\n",
    "Instruction: \n",
    "{llm_instruction}\n",
    "\n",
    "User question: {question}\n",
    "\"\"\""
   ]
  },
  {
   "cell_type": "code",
   "execution_count": null,
   "id": "b2012c7a",
   "metadata": {},
   "outputs": [],
   "source": [
    "formatted_prompt = PromptTemplate.from_template(template).format(\n",
    "    context=top_chunk_cross_encoded.page_content,\n",
    "    chat_history=\"\\n\".join([f'{entry[\"role\"].capitalize()}: {entry[\"content\"]}' for entry in chat_history]),\n",
    "    question=query,\n",
    "    llm_instruction=llm_instruction\n",
    ")"
   ]
  },
  {
   "cell_type": "code",
   "execution_count": null,
   "id": "c51aaca3",
   "metadata": {},
   "outputs": [],
   "source": [
    "formatted_prompt"
   ]
  },
  {
   "cell_type": "code",
   "execution_count": null,
   "id": "6db01b34",
   "metadata": {},
   "outputs": [],
   "source": [
    "# Get response from LLM\n",
    "llm_response = llm.predict(formatted_prompt)"
   ]
  },
  {
   "cell_type": "code",
   "execution_count": null,
   "id": "f9dcf023",
   "metadata": {},
   "outputs": [],
   "source": [
    "print(\"#\"*50)\n",
    "print(llm_response)"
   ]
  },
  {
   "cell_type": "markdown",
   "id": "95f1fbe6",
   "metadata": {},
   "source": [
    "# PDF Highlighting"
   ]
  },
  {
   "cell_type": "code",
   "execution_count": null,
   "id": "178c6963",
   "metadata": {},
   "outputs": [],
   "source": [
    "# Configurable cosine similarity threshold\n",
    "COSINE_SIMILARITY_THRESHOLD = 0.5"
   ]
  },
  {
   "cell_type": "code",
   "execution_count": null,
   "id": "19161a5c",
   "metadata": {},
   "outputs": [],
   "source": [
    "page_number =  metadata_of_top_chunk[\"page_number\"]"
   ]
  },
  {
   "cell_type": "code",
   "execution_count": null,
   "id": "87b0c048",
   "metadata": {},
   "outputs": [],
   "source": [
    "page_number"
   ]
  },
  {
   "cell_type": "code",
   "execution_count": null,
   "id": "fd852b90",
   "metadata": {},
   "outputs": [],
   "source": [
    "coordinates_str = metadata_of_top_chunk[\"coordinates\"]"
   ]
  },
  {
   "cell_type": "code",
   "execution_count": null,
   "id": "3ae28fee",
   "metadata": {},
   "outputs": [],
   "source": [
    "coordinates_str"
   ]
  },
  {
   "cell_type": "code",
   "execution_count": null,
   "id": "56cfa411",
   "metadata": {},
   "outputs": [],
   "source": [
    "coordinates = json.loads(coordinates_str)"
   ]
  },
  {
   "cell_type": "code",
   "execution_count": null,
   "id": "2b02d316",
   "metadata": {},
   "outputs": [],
   "source": [
    "coordinates"
   ]
  },
  {
   "cell_type": "code",
   "execution_count": null,
   "id": "6086d415",
   "metadata": {},
   "outputs": [],
   "source": [
    "file_for_highlighting = os.path.join(pdf_folder, metadata_of_top_chunk['file_name'])"
   ]
  },
  {
   "cell_type": "code",
   "execution_count": null,
   "id": "179a0c54",
   "metadata": {},
   "outputs": [],
   "source": [
    "file_for_highlighting"
   ]
  },
  {
   "cell_type": "code",
   "execution_count": null,
   "id": "0535880d",
   "metadata": {},
   "outputs": [],
   "source": [
    "highlighted_pdf_path"
   ]
  },
  {
   "cell_type": "code",
   "execution_count": null,
   "id": "f5a6d4d3",
   "metadata": {},
   "outputs": [],
   "source": [
    "doc = fitz.open(file_for_highlighting)"
   ]
  },
  {
   "cell_type": "code",
   "execution_count": null,
   "id": "ae321497",
   "metadata": {},
   "outputs": [],
   "source": [
    "page = doc.load_page(page_num)"
   ]
  },
  {
   "cell_type": "code",
   "execution_count": null,
   "id": "7b5499bd",
   "metadata": {},
   "outputs": [],
   "source": [
    "type(page) "
   ]
  },
  {
   "cell_type": "code",
   "execution_count": null,
   "id": "24208367",
   "metadata": {},
   "outputs": [],
   "source": [
    "page.get_text()"
   ]
  },
  {
   "cell_type": "code",
   "execution_count": null,
   "id": "286cf55e",
   "metadata": {},
   "outputs": [],
   "source": [
    "chunk_text = \" \".join(page.get_textbox(fitz.Rect(*coord)) for coord in coordinates)"
   ]
  },
  {
   "cell_type": "code",
   "execution_count": null,
   "id": "b4cc65de",
   "metadata": {},
   "outputs": [],
   "source": [
    "chunk_text"
   ]
  },
  {
   "cell_type": "code",
   "execution_count": null,
   "id": "1377c2de",
   "metadata": {},
   "outputs": [],
   "source": [
    "sentences = nltk.sent_tokenize(chunk_text)"
   ]
  },
  {
   "cell_type": "code",
   "execution_count": null,
   "id": "835a7a81",
   "metadata": {},
   "outputs": [],
   "source": [
    "# Initialize Sentence Transformer for cosine similarity\n",
    "similarity_model = SentenceTransformer(\"sentence-transformers/all-MiniLM-L6-v2\")"
   ]
  },
  {
   "cell_type": "code",
   "execution_count": null,
   "id": "cecb8e1a",
   "metadata": {},
   "outputs": [],
   "source": [
    "# Compute embeddings for the LLM response and sentences\n",
    "llm_response_embedding = similarity_model.encode(llm_response, convert_to_tensor=True)\n",
    "sentence_embeddings = similarity_model.encode(sentences, convert_to_tensor=True)"
   ]
  },
  {
   "cell_type": "code",
   "execution_count": null,
   "id": "585d9618",
   "metadata": {},
   "outputs": [],
   "source": [
    "# Compute cosine similarities\n",
    "similarities = util.cos_sim(llm_response_embedding, sentence_embeddings)[0].tolist()"
   ]
  },
  {
   "cell_type": "code",
   "execution_count": null,
   "id": "773cd1ba",
   "metadata": {},
   "outputs": [],
   "source": [
    "# Pair sentences with their similarity scores\n",
    "sentences_with_scores = list(zip(sentences, similarities))"
   ]
  },
  {
   "cell_type": "code",
   "execution_count": null,
   "id": "2e34a824",
   "metadata": {},
   "outputs": [],
   "source": [
    "# Sort sentences by similarity score in descending order\n",
    "sorted_sentences_with_scores = sorted(sentences_with_scores, key=lambda x: x[1], reverse=True)"
   ]
  },
  {
   "cell_type": "code",
   "execution_count": null,
   "id": "606e73c6",
   "metadata": {},
   "outputs": [],
   "source": [
    "for sentence, score in sorted_sentences_with_scores:\n",
    "    print(f\"Score: {score:.4f}, Sentence: {sentence}\")\n",
    "    print(\"#\"*20)"
   ]
  },
  {
   "cell_type": "code",
   "execution_count": null,
   "id": "50fa14d6",
   "metadata": {},
   "outputs": [],
   "source": [
    "# Find high-similarity sentences and their coordinates\n",
    "high_similarity_sentences = []\n",
    "for sentence, score in sorted_sentences_with_scores:\n",
    "    if score >= COSINE_SIMILARITY_THRESHOLD:\n",
    "        search_results = page.search_for(sentence)\n",
    "        if search_results:  # Ensure search_results is not empty\n",
    "            high_similarity_sentences.append(fitz.Rect(*search_results[0]))"
   ]
  },
  {
   "cell_type": "code",
   "execution_count": null,
   "id": "ffcab16a",
   "metadata": {},
   "outputs": [],
   "source": [
    "high_similarity_sentences"
   ]
  },
  {
   "cell_type": "code",
   "execution_count": null,
   "id": "4635d498",
   "metadata": {},
   "outputs": [],
   "source": [
    "# Highlight the entire chunk in yellow\n",
    "for coord in coordinates:\n",
    "    rect = fitz.Rect(*coord)\n",
    "    page.add_highlight_annot(rect)"
   ]
  },
  {
   "cell_type": "code",
   "execution_count": null,
   "id": "3fb04b6c",
   "metadata": {},
   "outputs": [],
   "source": [
    "# Highlight high-similarity sentences in green\n",
    "for rect in high_similarity_sentences:\n",
    "    highlight = page.add_highlight_annot(rect)\n",
    "    highlight.set_colors(stroke=(0, 1, 0))  # Green color\n",
    "    highlight.update()"
   ]
  },
  {
   "cell_type": "code",
   "execution_count": null,
   "id": "00e2f4af",
   "metadata": {},
   "outputs": [],
   "source": [
    "doc.save(highlighted_pdf_path, garbage=4)\n",
    "doc.close()"
   ]
  },
  {
   "cell_type": "code",
   "execution_count": null,
   "id": "2def8c59",
   "metadata": {},
   "outputs": [],
   "source": []
  }
 ],
 "metadata": {
  "kernelspec": {
   "display_name": "Python 3 (ipykernel)",
   "language": "python",
   "name": "python3"
  },
  "language_info": {
   "codemirror_mode": {
    "name": "ipython",
    "version": 3
   },
   "file_extension": ".py",
   "mimetype": "text/x-python",
   "name": "python",
   "nbconvert_exporter": "python",
   "pygments_lexer": "ipython3",
   "version": "3.11.5"
  }
 },
 "nbformat": 4,
 "nbformat_minor": 5
}
