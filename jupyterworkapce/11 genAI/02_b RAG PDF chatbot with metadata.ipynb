{
 "cells": [
  {
   "cell_type": "code",
   "execution_count": 117,
   "id": "1c072fb8",
   "metadata": {},
   "outputs": [],
   "source": [
    "import os\n",
    "import shutil\n",
    "import json\n",
    "import requests\n",
    "import fitz\n",
    "import nltk\n",
    "from langchain.text_splitter import RecursiveCharacterTextSplitter\n",
    "from langchain_community.vectorstores import Chroma\n",
    "from sentence_transformers import SentenceTransformer, CrossEncoder, util\n",
    "from chromadb.config import Settings\n",
    "from langchain.prompts import PromptTemplate\n",
    "from langchain_openai import ChatOpenAI"
   ]
  },
  {
   "cell_type": "markdown",
   "id": "5aae055e",
   "metadata": {},
   "source": [
    "# Environment setup"
   ]
  },
  {
   "cell_type": "code",
   "execution_count": 118,
   "id": "65dc69eb",
   "metadata": {},
   "outputs": [],
   "source": [
    "def setup_environment():\n",
    "    import sys\n",
    "    sys.path.append('C:\\\\gitworkspace\\\\aimldemo\\\\jupyterworkapce')\n",
    "    import stratup_env_setup\n",
    "    stratup_env_setup.set_env()"
   ]
  },
  {
   "cell_type": "code",
   "execution_count": 119,
   "id": "ef98e4ce",
   "metadata": {},
   "outputs": [],
   "source": [
    "setup_environment()"
   ]
  },
  {
   "cell_type": "code",
   "execution_count": 120,
   "id": "9aca2911",
   "metadata": {},
   "outputs": [],
   "source": [
    "class HuggingFaceEmbeddings:\n",
    "    \"\"\"Custom wrapper for Hugging Face SentenceTransformer embeddings.\"\"\"\n",
    "    def __init__(self, model_name=\"sentence-transformers/all-MiniLM-L6-v2\"):\n",
    "        self.embedding_model = SentenceTransformer(model_name)\n",
    "    \n",
    "    def embed_documents(self, texts):\n",
    "        \"\"\"Generate embeddings for a list of documents.\"\"\"\n",
    "        return self.embedding_model.encode(texts, convert_to_tensor=False).tolist()\n",
    "    \n",
    "    def embed_query(self, text):\n",
    "        \"\"\"Generate embedding for a single query.\"\"\"\n",
    "        return self.embedding_model.encode(text, convert_to_tensor=False).tolist()"
   ]
  },
  {
   "cell_type": "code",
   "execution_count": 121,
   "id": "eda5a336",
   "metadata": {},
   "outputs": [
    {
     "name": "stderr",
     "output_type": "stream",
     "text": [
      "[nltk_data] Downloading package punkt to\n",
      "[nltk_data]     C:\\Users\\jimmy\\AppData\\Roaming\\nltk_data...\n",
      "[nltk_data]   Package punkt is already up-to-date!\n"
     ]
    },
    {
     "data": {
      "text/plain": [
       "True"
      ]
     },
     "execution_count": 121,
     "metadata": {},
     "output_type": "execute_result"
    }
   ],
   "source": [
    "nltk.download('punkt')"
   ]
  },
  {
   "cell_type": "code",
   "execution_count": 122,
   "id": "11c69f09",
   "metadata": {},
   "outputs": [],
   "source": [
    "chunk_size=500\n",
    "chunk_overlap=50"
   ]
  },
  {
   "cell_type": "code",
   "execution_count": 123,
   "id": "ad176da1",
   "metadata": {},
   "outputs": [],
   "source": [
    "#pdf_path = \"C:\\\\gitworkspace\\\\aimldemo\\\\AIML Demo\\\\Python Demo\\\\pythonbasics\\\\doc_inputs\\\\Form_2287.pdf\"\n",
    "pdf_folder = \"C:\\\\gitworkspace\\\\aimldemo\\\\AIML Demo\\\\Python Demo\\\\pythonbasics\\\\doc_inputs\"\n",
    "output_folder = \"C:\\\\gitworkspace\\\\aimldemo\\\\AIML Demo\\\\Python Demo\\\\pythonbasics\\\\doc_outputs\""
   ]
  },
  {
   "cell_type": "code",
   "execution_count": 124,
   "id": "a99d8d9b",
   "metadata": {},
   "outputs": [],
   "source": [
    "highlighted_pdf_path = os.path.join(output_folder, \"highlighted_output.pdf\")"
   ]
  },
  {
   "cell_type": "code",
   "execution_count": 125,
   "id": "d386f737",
   "metadata": {},
   "outputs": [],
   "source": [
    "llm = ChatOpenAI(model_name=\"gpt-3.5-turbo\", temperature=0.7)"
   ]
  },
  {
   "cell_type": "markdown",
   "id": "d11f4970",
   "metadata": {},
   "source": [
    "# Vectorize PDF Document"
   ]
  },
  {
   "cell_type": "code",
   "execution_count": 126,
   "id": "415e43b0",
   "metadata": {},
   "outputs": [],
   "source": [
    "db_path = \"chroma_db\""
   ]
  },
  {
   "cell_type": "code",
   "execution_count": 127,
   "id": "eff548f5",
   "metadata": {},
   "outputs": [],
   "source": [
    "if os.path.exists(db_path):\n",
    "        print(f\"[INFO] Deleting existing Chroma database at {db_path} to avoid conflicts.\")\n",
    "        shutil.rmtree(db_path, ignore_errors=True)"
   ]
  },
  {
   "cell_type": "code",
   "execution_count": 128,
   "id": "5b777506",
   "metadata": {},
   "outputs": [],
   "source": [
    "embeddings = HuggingFaceEmbeddings()"
   ]
  },
  {
   "cell_type": "code",
   "execution_count": 129,
   "id": "441b2f26",
   "metadata": {},
   "outputs": [],
   "source": [
    "chroma_settings = Settings(persist_directory=db_path, anonymized_telemetry=False)"
   ]
  },
  {
   "cell_type": "code",
   "execution_count": 130,
   "id": "da83efca",
   "metadata": {},
   "outputs": [],
   "source": [
    "vector_db = Chroma(persist_directory=db_path, embedding_function=embeddings, client_settings=chroma_settings)"
   ]
  },
  {
   "cell_type": "code",
   "execution_count": 131,
   "id": "27a1e5bb",
   "metadata": {},
   "outputs": [],
   "source": [
    "def extract_chunks_with_coordinates(pdf_path):\n",
    "    \"\"\"Extract chunks from the PDF along with their coordinates (bounding boxes) and file name.\"\"\"\n",
    "    doc = fitz.open(pdf_path)\n",
    "    chunks_with_metadata = []\n",
    "\n",
    "    # Extract the file name from the full path\n",
    "    file_name = os.path.basename(pdf_path)\n",
    "\n",
    "    for page_num in range(len(doc)):\n",
    "        page = doc[page_num]\n",
    "        page_text = page.get_text(\"blocks\")\n",
    "        full_text = \" \".join(block[4] for block in page_text)\n",
    "\n",
    "        splitter = RecursiveCharacterTextSplitter(chunk_size=chunk_size, chunk_overlap=chunk_overlap)\n",
    "        text_chunks = splitter.split_text(full_text)\n",
    "\n",
    "        for chunk in text_chunks:\n",
    "            coordinates = []\n",
    "            search_results = page.search_for(chunk)\n",
    "            for rect in search_results:\n",
    "                coordinates.append((rect.x0, rect.y0, rect.x1, rect.y1))\n",
    "\n",
    "            chunks_with_metadata.append({\n",
    "                \"text\": chunk,\n",
    "                \"page\": page_num,\n",
    "                \"coordinates\": coordinates,\n",
    "                \"file_name\": file_name  # Add file name to metadata\n",
    "            })\n",
    "\n",
    "    return chunks_with_metadata\n"
   ]
  },
  {
   "cell_type": "code",
   "execution_count": 132,
   "id": "84a3e45d",
   "metadata": {},
   "outputs": [],
   "source": [
    "pdf_files = [os.path.join(pdf_folder, f) for f in os.listdir(pdf_folder) if f.endswith(\".pdf\")]"
   ]
  },
  {
   "cell_type": "code",
   "execution_count": 133,
   "id": "38233687",
   "metadata": {},
   "outputs": [
    {
     "data": {
      "text/plain": [
       "['C:\\\\gitworkspace\\\\aimldemo\\\\AIML Demo\\\\Python Demo\\\\pythonbasics\\\\doc_inputs\\\\Form_2287.pdf',\n",
       " 'C:\\\\gitworkspace\\\\aimldemo\\\\AIML Demo\\\\Python Demo\\\\pythonbasics\\\\doc_inputs\\\\lenovo_license_agreement.pdf']"
      ]
     },
     "execution_count": 133,
     "metadata": {},
     "output_type": "execute_result"
    }
   ],
   "source": [
    "pdf_files"
   ]
  },
  {
   "cell_type": "code",
   "execution_count": 134,
   "id": "a8a42d52",
   "metadata": {},
   "outputs": [],
   "source": [
    "text_chunks_with_metadata = []\n",
    "for pdf_file in pdf_files:\n",
    "    chunks = extract_chunks_with_coordinates(pdf_file)\n",
    "    text_chunks_with_metadata.extend(chunks)"
   ]
  },
  {
   "cell_type": "code",
   "execution_count": 135,
   "id": "279bad1b",
   "metadata": {},
   "outputs": [
    {
     "data": {
      "text/plain": [
       "{'text': 'SBA Form 2287 (04-18) \\n \\n          1 \\n Previous Editions Obsolete \\n  \\n \\n  \\n  \\n  \\n THIRD PARTY LENDER AGREEMENT \\n  \\n \\n \\nTHIS THIRD PARTY LENDER AGREEMENT (“Agreement\") is dated this ______ day \\nof______________, 20____, by and between ________________________________________, \\n(“Third Party Lender”) whose address is ____________________________________________, \\nand________________________________________________________, (“CDC”) whose address is',\n",
       " 'page': 0,\n",
       " 'coordinates': [(74.28336334228516,\n",
       "   736.0769653320312,\n",
       "   161.34852600097656,\n",
       "   747.1239013671875),\n",
       "  (287.99462890625, 736.0769653320312, 290.229736328125, 747.1239013671875),\n",
       "  (395.9959411621094, 736.0769653320312, 424.5137939453125, 747.1239013671875),\n",
       "  (72.0, 745.435546875, 172.51608276367188, 756.4824829101562),\n",
       "  (141.0, 82.16398620605469, 144.0, 98.17198944091797),\n",
       "  (177.0, 82.16398620605469, 180.0, 98.17198944091797),\n",
       "  (138.72000122070312,\n",
       "   107.96397399902344,\n",
       "   141.72000122070312,\n",
       "   123.97197723388672),\n",
       "  (72.0, 133.7639617919922, 75.0, 149.77195739746094),\n",
       "  (306.0, 159.56394958496094, 309.0, 175.5719451904297),\n",
       "  (155.0399932861328,\n",
       "   184.8782196044922,\n",
       "   168.40667724609375,\n",
       "   212.6336212158203),\n",
       "  (168.36000061035156,\n",
       "   189.1377410888672,\n",
       "   214.11094665527344,\n",
       "   211.24234008789062),\n",
       "  (214.0800018310547,\n",
       "   184.8782196044922,\n",
       "   226.32444763183594,\n",
       "   212.6336212158203),\n",
       "  (226.32000732421875,\n",
       "   189.1377410888672,\n",
       "   275.67633056640625,\n",
       "   211.24234008789062),\n",
       "  (275.760009765625, 184.8782196044922, 289.1266784667969, 212.6336212158203),\n",
       "  (289.0799865722656,\n",
       "   189.1377410888672,\n",
       "   349.0002746582031,\n",
       "   211.24234008789062),\n",
       "  (348.9599914550781, 184.8782196044922, 363.4288635253906, 212.6336212158203),\n",
       "  (363.4800109863281,\n",
       "   189.1377410888672,\n",
       "   456.9322509765625,\n",
       "   211.24234008789062),\n",
       "  (456.9599914550781,\n",
       "   193.1639862060547,\n",
       "   459.9599914550781,\n",
       "   209.17198181152344),\n",
       "  (71.99996948242188,\n",
       "   208.4039764404297,\n",
       "   74.99996948242188,\n",
       "   224.41197204589844),\n",
       "  (71.99996948242188,\n",
       "   222.20396423339844,\n",
       "   74.99996948242188,\n",
       "   238.2119598388672),\n",
       "  (71.99996948242188,\n",
       "   235.1639862060547,\n",
       "   74.99996948242188,\n",
       "   251.17198181152344),\n",
       "  (108.0, 236.17486572265625, 505.0855712890625, 250.9022216796875),\n",
       "  (72.00958251953125, 248.771484375, 499.4452819824219, 263.49884033203125),\n",
       "  (72.00961303710938, 261.36810302734375, 500.4130859375, 276.095458984375),\n",
       "  (72.00960540771484,\n",
       "   274.086181640625,\n",
       "   517.8057861328125,\n",
       "   288.81353759765625)],\n",
       " 'file_name': 'Form_2287.pdf'}"
      ]
     },
     "execution_count": 135,
     "metadata": {},
     "output_type": "execute_result"
    }
   ],
   "source": [
    "text_chunks_with_metadata[0]"
   ]
  },
  {
   "cell_type": "code",
   "execution_count": 136,
   "id": "0341e9fc",
   "metadata": {},
   "outputs": [],
   "source": [
    "page_number = 2\n",
    "file_name = 'Form_2287.pdf'"
   ]
  },
  {
   "cell_type": "code",
   "execution_count": 140,
   "id": "7d0685f3",
   "metadata": {},
   "outputs": [
    {
     "name": "stdout",
     "output_type": "stream",
     "text": [
      "Text Chunk: SBA Form 2287 (04-18) \n",
      " \n",
      "          3 \n",
      " Previous Editions Obsolete \n",
      " failure to pay taxes when due or violation of  any financial covenants which would cause a prudent \n",
      "lender to believe that the  prospect of payment or performance of the Third Party Note is impaired. \n",
      " \n",
      " \n",
      "c. \n",
      "No Cross-Collateralization.   Third Party Lender agrees that the Common Collateral \n",
      " will only secure its Third Party Loan and the Common Collateral is not currently, and will not be\n",
      "Page Number: 2\n",
      "File Name: Form_2287.pdf\n",
      "##################################################\n",
      "Text Chunk: used in the future, as security for any other financing provided by Third Party Lender to Borrower \n",
      "that purports to be in a superior position to that of the CDC Lien, unless authorized in writing by \n",
      "CDC and SBA. \n",
      " \n",
      " \n",
      "d. \n",
      "No Cross-Default.   During the term of the 504 Loan, Third Party Lender will not \n",
      " exercise any cross-default, \"deem at-risk,\" or any other provisions in documents evidencing the Third\n",
      "Page Number: 2\n",
      "File Name: Form_2287.pdf\n",
      "##################################################\n",
      "Text Chunk: Party Loan or Third Party Lender Lien which allow Third Party Lender to make demand on the \n",
      "Third Party Loan prior to maturity unless the Third Party Loan is in material default.   \n",
      " \n",
      " \n",
      "e. \n",
      "Maturity and Balloon Payments.   The Third Party Loan must have a term of at \n",
      " least 7 years (when the 504 loan is for a term of 10 years), or a term of at least10 years (when the \n",
      "504 loan is for 20 or 25 years).  If the Third Party Lender has made more than one loan, then an\n",
      "Page Number: 2\n",
      "File Name: Form_2287.pdf\n",
      "##################################################\n",
      "Text Chunk: overall loan maturity must be calculated, taking into account the amounts and maturities of each \n",
      "loan.  Any balloon payment for the Third Party Loan must be clearly identified and disclosed to \n",
      "SBA and approved at application or subsequently approved by SBA. \n",
      " \n",
      "  \n",
      " \n",
      "f. \n",
      "Reasonable Interest Rate.  The Third Party Loan has a reasonable interest rate \n",
      " which does not and will not exceed the maximum interest rate for Third Party Loans from\n",
      "Page Number: 2\n",
      "File Name: Form_2287.pdf\n",
      "##################################################\n",
      "Text Chunk: commercial financial institutions as published periodically by SBA in the Federal Register and in \n",
      "effect as of the date of this Agreement.   \n",
      " \n",
      " 6. \n",
      "Marshaling of Assets.  If the Third Party Lender takes additional collateral as security for the Third \n",
      " Party Loan, in the case of liquidation, any proceeds received from such additional collateral, must be applied \n",
      "to the Third Party Lender's Loan prior to the proceeds from the liquidation of the Common Collateral held by\n",
      "Page Number: 2\n",
      "File Name: Form_2287.pdf\n",
      "##################################################\n",
      "Text Chunk: the CDC/SBA and the Third Party Lender.  If the additional collateral no longer exists at the time of \n",
      "liquidation, or has insufficient value to justify the cost of collection, then the Third Party Lender is not \n",
      "required to liquidate such collateral, provided the Third Party Lender notifies CDC/SBA.   \n",
      " \n",
      "7. \n",
      "Notice of Default under the Third Party Loan.   Within thirty (30) days after the expiration of any\n",
      "Page Number: 2\n",
      "File Name: Form_2287.pdf\n",
      "##################################################\n",
      "Text Chunk: cure period for any continuing material default of the Third Party Loan or Third Party Lender Lien, Third \n",
      "Party Lender must provide written notice (referencing SBA’s loan number for the 504 Loan) of the default to \n",
      "CDC and SBA.  At least sixty 60 days prior to any legal proceedings against or liquidation of the Common \n",
      "Collateral (not including sending a demand letter), Third Party Lender must provide SBA with written notice \n",
      "of its intent to do so. \n",
      " \n",
      "8.\n",
      "Page Number: 2\n",
      "File Name: Form_2287.pdf\n",
      "##################################################\n",
      "Text Chunk: of its intent to do so. \n",
      " \n",
      "8. \n",
      "Limitation on Default Interest Rate.   Third Party Lender may not escalate the rate of interest upon \n",
      " default to a rate greater than the maximum rate published by SBA in the Federal Register.  SBA will only pay \n",
      "the interest rate on the note in effect before the date of Borrower’s default. \n",
      " \n",
      "9. \n",
      " Subordination to 504 Loan and/or CDC Lien, of Amounts Attributable to Default  \n",
      "  \n",
      " \n",
      "Provisions.      \n",
      "  \n",
      " \n",
      " \n",
      "  \n",
      " \n",
      "a.\n",
      "Page Number: 2\n",
      "File Name: Form_2287.pdf\n",
      "##################################################\n",
      "Text Chunk: Provisions.      \n",
      "  \n",
      " \n",
      " \n",
      "  \n",
      " \n",
      "a. \n",
      "The term \"Default Charges\" used in this paragraph includes, but is not limited to, \n",
      "prepayment penalties, late fees, other default charges, and escalated interest after default due under \n",
      "the Third Party Loan.\n",
      "Page Number: 2\n",
      "File Name: Form_2287.pdf\n",
      "##################################################\n"
     ]
    }
   ],
   "source": [
    "for chunk in text_chunks_with_metadata:\n",
    "    if chunk['file_name'] == file_name and chunk['page'] == page_number:\n",
    "        print(\"Text Chunk:\", chunk['text'])\n",
    "        print(\"Page Number:\", chunk['page'])\n",
    "        print(\"File Name:\", chunk['file_name'])\n",
    "        print(\"#\" * 50)"
   ]
  },
  {
   "cell_type": "code",
   "execution_count": 141,
   "id": "3746df7c",
   "metadata": {},
   "outputs": [],
   "source": [
    "chunk_texts = [item[\"text\"] for item in text_chunks_with_metadata]\n",
    "metadata = [{\"page_number\": item[\"page\"], \"file_name\": item[\"file_name\"], \"coordinates\": json.dumps(item[\"coordinates\"])} for item in text_chunks_with_metadata]"
   ]
  },
  {
   "cell_type": "code",
   "execution_count": 142,
   "id": "761b049d",
   "metadata": {},
   "outputs": [
    {
     "data": {
      "text/plain": [
       "'SBA Form 2287 (04-18) \\n \\n          1 \\n Previous Editions Obsolete \\n  \\n \\n  \\n  \\n  \\n THIRD PARTY LENDER AGREEMENT \\n  \\n \\n \\nTHIS THIRD PARTY LENDER AGREEMENT (“Agreement\") is dated this ______ day \\nof______________, 20____, by and between ________________________________________, \\n(“Third Party Lender”) whose address is ____________________________________________, \\nand________________________________________________________, (“CDC”) whose address is'"
      ]
     },
     "execution_count": 142,
     "metadata": {},
     "output_type": "execute_result"
    }
   ],
   "source": [
    "chunk_texts[0]"
   ]
  },
  {
   "cell_type": "code",
   "execution_count": 143,
   "id": "0c402efa",
   "metadata": {},
   "outputs": [
    {
     "data": {
      "text/plain": [
       "{'page_number': 0,\n",
       " 'file_name': 'Form_2287.pdf',\n",
       " 'coordinates': '[[74.28336334228516, 736.0769653320312, 161.34852600097656, 747.1239013671875], [287.99462890625, 736.0769653320312, 290.229736328125, 747.1239013671875], [395.9959411621094, 736.0769653320312, 424.5137939453125, 747.1239013671875], [72.0, 745.435546875, 172.51608276367188, 756.4824829101562], [141.0, 82.16398620605469, 144.0, 98.17198944091797], [177.0, 82.16398620605469, 180.0, 98.17198944091797], [138.72000122070312, 107.96397399902344, 141.72000122070312, 123.97197723388672], [72.0, 133.7639617919922, 75.0, 149.77195739746094], [306.0, 159.56394958496094, 309.0, 175.5719451904297], [155.0399932861328, 184.8782196044922, 168.40667724609375, 212.6336212158203], [168.36000061035156, 189.1377410888672, 214.11094665527344, 211.24234008789062], [214.0800018310547, 184.8782196044922, 226.32444763183594, 212.6336212158203], [226.32000732421875, 189.1377410888672, 275.67633056640625, 211.24234008789062], [275.760009765625, 184.8782196044922, 289.1266784667969, 212.6336212158203], [289.0799865722656, 189.1377410888672, 349.0002746582031, 211.24234008789062], [348.9599914550781, 184.8782196044922, 363.4288635253906, 212.6336212158203], [363.4800109863281, 189.1377410888672, 456.9322509765625, 211.24234008789062], [456.9599914550781, 193.1639862060547, 459.9599914550781, 209.17198181152344], [71.99996948242188, 208.4039764404297, 74.99996948242188, 224.41197204589844], [71.99996948242188, 222.20396423339844, 74.99996948242188, 238.2119598388672], [71.99996948242188, 235.1639862060547, 74.99996948242188, 251.17198181152344], [108.0, 236.17486572265625, 505.0855712890625, 250.9022216796875], [72.00958251953125, 248.771484375, 499.4452819824219, 263.49884033203125], [72.00961303710938, 261.36810302734375, 500.4130859375, 276.095458984375], [72.00960540771484, 274.086181640625, 517.8057861328125, 288.81353759765625]]'}"
      ]
     },
     "execution_count": 143,
     "metadata": {},
     "output_type": "execute_result"
    }
   ],
   "source": [
    "metadata[0]"
   ]
  },
  {
   "cell_type": "code",
   "execution_count": 144,
   "id": "0278055d",
   "metadata": {},
   "outputs": [
    {
     "data": {
      "text/plain": [
       "['8da7d0a4-5008-4603-bd77-260972ecdb35',\n",
       " '118fa21f-a658-4f1c-b3bb-53839990e1c1',\n",
       " '20fb948b-a488-4e0b-b62b-71687b010244',\n",
       " '601f8059-4b52-4407-8442-362aa50914b1',\n",
       " '77524a06-9fe5-4bdd-a41b-531269a4f703',\n",
       " 'a976601d-99bd-4a56-9564-40b9d62e4be5',\n",
       " '02ffe311-d074-445f-a86e-92c196f533f7',\n",
       " '7aceb540-7380-4ee3-9323-2e43204e7a5c',\n",
       " '668f76e5-8e65-42a8-9755-1d682bbc8318',\n",
       " 'b9ea370f-c5b1-498d-9abc-000dfdc245e2',\n",
       " '08e649ad-7a68-4827-a0d2-65a2a00231b7',\n",
       " 'fe20b68b-0d10-4e3f-8cf0-3f7d12e97286',\n",
       " '5cd40958-fb4b-450e-a3da-4fc845600fb2',\n",
       " '4cb8a1a2-1a67-435a-8357-819920f17224',\n",
       " 'e13606b5-fff4-471a-953b-edbafcf85b4e',\n",
       " 'afc40f4d-a349-4cfb-be7f-aa767c9f49ce',\n",
       " 'fce9739e-9d9b-4e6c-94a7-7b1b617ba754',\n",
       " 'e662dacb-654b-4e26-a106-5b045392076a',\n",
       " '0f8ace1f-09cd-420b-84f1-51670d207a60',\n",
       " 'bce3826f-65b7-4f72-8cba-8184b92cd5a8',\n",
       " 'e20dc6c9-b5e4-4c88-be30-a1d32e332a16',\n",
       " '85aca721-d84c-4df3-8103-3df08487bedd',\n",
       " 'df821263-f680-48f5-b2c3-8304ffca708d',\n",
       " 'daa7d7ab-4ab2-4b2c-97a3-29edc911f4f0',\n",
       " 'c6853ebf-3aa2-4a76-982a-523b7f362ab8',\n",
       " '3ef90b41-44a7-4917-9632-4968032c99f0',\n",
       " '10ac3abd-ae87-4437-881a-aa4b8205f89f',\n",
       " 'fe616243-6726-4f6d-8a46-6fb132f04f05',\n",
       " '3cb4913f-9f59-4c79-87ce-ecf6fc82e0fd',\n",
       " '3a6da0d9-f0eb-4444-b746-474184929808',\n",
       " '110eddec-b528-46d1-90a6-0725b6f4e199',\n",
       " '68219747-c778-4d63-83df-497620af0b40',\n",
       " '683e9c17-a147-420a-ac64-96f424ce6d23',\n",
       " '4c3e1b4a-2775-4c3f-a7fe-384842d8b82e',\n",
       " '1b1a028b-e123-4320-b69b-0fd28c603d41',\n",
       " 'd90510be-928e-43d7-839d-81b745c83529',\n",
       " '17f0ceac-ac19-4d31-bbc0-5cc5c4878ea5',\n",
       " 'd6c6fe4a-8019-4ae6-ab7f-eca5b7a72650',\n",
       " 'c38138f2-8764-458f-8df1-ece35b9db33a',\n",
       " '8b221498-7b02-49e5-89d6-837c29a26a64',\n",
       " '89cb9438-df89-45fb-b155-c5cd04cd6a6d',\n",
       " '3fd41aa4-a787-4de8-99fb-c38ff773cbb8',\n",
       " '5fca4425-52fe-4c63-8184-1ee829b6ee55',\n",
       " 'fa1f5268-5bc8-408e-a398-811af6a146c6',\n",
       " 'f5a4c498-c5c7-47d6-8c34-db14676977ef',\n",
       " '01396cbf-a18e-4f40-8aaa-a1d76205c5de',\n",
       " 'b275cf05-32ae-435d-8789-e0a883c60def',\n",
       " 'ff167bc5-6810-4f05-b909-381963633909',\n",
       " '19d74ae1-ca3b-4af1-bcb3-3451ac0f01d0',\n",
       " '442f5ad2-91ec-45ea-ab19-4215b3f32caf',\n",
       " '7cc13c3a-9144-4570-a49d-2bc61ddb2858',\n",
       " '4b2e6e79-3961-4ad3-947e-035bd3a9f1ea',\n",
       " 'c64deb0e-bab9-4959-b690-716bfeae54cd',\n",
       " '6d4cf96a-57e2-47e1-b887-02710384bfb4',\n",
       " '1fa919d8-d268-4026-abc5-3ab98b7f712c',\n",
       " 'c1f4d407-d06b-49e8-bc64-76c79dba460c',\n",
       " 'f4efc226-f433-4156-8676-87f741a4fe0d',\n",
       " '2240b731-28f9-4c9a-a70e-cecbf7984d90',\n",
       " 'a9de0d1e-bff1-42db-9521-1395a180f888',\n",
       " '97f6c4cb-703c-475c-a25a-ad10e56bc165',\n",
       " '10fe6e26-55a4-4794-af95-ae9ad22d05c9',\n",
       " '11d53f5e-7ccf-4f2f-a429-f558ce4bd323',\n",
       " '25949e1e-9f3b-4ec4-aa9a-771126fe492c',\n",
       " 'cac20311-f4a3-4cb7-9176-8a9c9d660e55',\n",
       " '36f681c4-e75f-43d2-9222-ebffe56ac87d',\n",
       " '480c11f0-954f-42e7-8c68-22db13161c97',\n",
       " 'e1831103-13e0-4472-968a-0c39ca64919f',\n",
       " 'f182cc6f-87ab-4b92-a0ec-d41aee0fe9db',\n",
       " '7806fade-b099-4acc-b0c0-656b99eb6ff6',\n",
       " '7549ad4a-18c1-497e-bb54-5756e3bca387',\n",
       " '07caec3a-ecda-4c68-a701-c8acb32425d2',\n",
       " '1df22eb9-8733-44f5-8606-ed5b96af9cd8',\n",
       " '9f148060-872a-4f25-aa6d-1d67e77c0111',\n",
       " '53a78db5-53e8-4616-9fb4-5794ff2cddb9',\n",
       " 'ab80d334-e90d-4ed3-9d4f-6d10e468c887',\n",
       " 'd479f406-6949-4947-962d-ae890018bb43',\n",
       " '9c4cc8e4-ad51-4c6a-8ef8-9f24534b2493',\n",
       " 'a5df9743-dfa6-49b9-97b9-c8a91bed04f2',\n",
       " '9538ddab-5a4d-4343-8a08-2656894e6682',\n",
       " 'd3b5875d-ec2a-4d8f-9dbb-6f7b97c8385c',\n",
       " '8dcde036-978f-4461-b88a-5e17f7db3034',\n",
       " '27b96877-ffb9-4627-9aeb-42957e738568',\n",
       " 'd1e0bb9c-74ec-4f3d-9ea9-18383808c33b',\n",
       " 'c32dfde0-5250-4edd-b2d8-95bf31f5acf4',\n",
       " '187b9925-dad6-46d1-8532-93b3a0fea4b7',\n",
       " '1c183863-eeeb-4669-936d-988ed5e13f92',\n",
       " '659f5cb9-8247-4d83-a0c2-20adb1e8adf7',\n",
       " '5d27cbd5-d543-473f-ac49-26e845b71982',\n",
       " 'e5f52c4b-cb62-4a26-af62-c8f88ff219ce',\n",
       " '5b80ff10-8416-457f-ba6c-877f0858b7b0',\n",
       " '41859cfb-3561-41e5-9765-8e86875b117e',\n",
       " '4976a173-b151-4937-b1af-a90fd435dca0',\n",
       " 'eb5508c4-8aa9-49af-9547-f44a6d619596',\n",
       " '917d754b-725f-4045-b769-3d1ff6e01034',\n",
       " '83bbde13-2e3e-4249-923c-c05644c0c65e']"
      ]
     },
     "execution_count": 144,
     "metadata": {},
     "output_type": "execute_result"
    }
   ],
   "source": [
    "vector_db.add_texts(chunk_texts, metadatas=metadata)"
   ]
  },
  {
   "cell_type": "code",
   "execution_count": 145,
   "id": "ec7325f1",
   "metadata": {},
   "outputs": [],
   "source": [
    "vector_db.persist()"
   ]
  },
  {
   "cell_type": "markdown",
   "id": "2ddfa308",
   "metadata": {},
   "source": [
    "# Chat Query"
   ]
  },
  {
   "cell_type": "code",
   "execution_count": 241,
   "id": "18da39b6",
   "metadata": {},
   "outputs": [],
   "source": [
    "#user_query = 'What does this document say about Balloon payments?'\n",
    "#user_query = \"what does this document say about authority to execute agreement?\"\n",
    "user_query = 'About Balloon payments in page_number 3 of Form_2287.pdf?'\n",
    "user_query = 'What does the docuemnt say about Transferability in page_number 3 of lenovo_license_agreement.pdf?'"
   ]
  },
  {
   "cell_type": "code",
   "execution_count": 242,
   "id": "778483d7",
   "metadata": {},
   "outputs": [],
   "source": [
    "chat_history = [\n",
    "    {\"role\": \"user\", \"content\": \"CDC agrees to make the 504 Loan to the Borrower subject to what?\"},\n",
    "    {\"role\": \"assistant\", \"content\": \"SBA's approval.\"},\n",
    "    {\"role\": \"user\", \"content\": \"Third Party Lender waives its rights for what?\"},\n",
    "    {\"role\": \"assistant\", \"content\": \"Third Party Lender waives its rights to enforce provisions that do not comply with the 504 Loan Program Requirements.\"},\n",
    "    {\"role\": \"user\", \"content\": \"what does this document say about authority to execute agreement?\"},\n",
    "    {\"role\": \"assistant\", \"content\": \"The persons signing below certify that they have been duly authorized to execute this Agreement on behalf of their respective party.\"}\n",
    "]"
   ]
  },
  {
   "cell_type": "markdown",
   "id": "26c95303",
   "metadata": {},
   "source": [
    "* Rephrase the query to identify teh user's intended full question using LLM"
   ]
  },
  {
   "cell_type": "code",
   "execution_count": 243,
   "id": "6142eb68",
   "metadata": {},
   "outputs": [],
   "source": [
    "# Template to rephrase the user query and extract metadata\n",
    "template = \"\"\"\n",
    "Given the chat history and the current user query, rewrite the query so it forms a complete question, maintaining the context of the conversation. Then, extract metadata (only \"file_name\" and \"page_number\" fields) if they are mentioned in the question or chat history.\n",
    "Rewritten query shoudl not have refernce to metadata fields file_name and page_number.\n",
    "\n",
    "Chat History:\n",
    "{chat_history}\n",
    "\n",
    "Current user query: {query}\n",
    "\n",
    "Rewritten query:\n",
    "[Provide the rewritten query here.]\n",
    "\n",
    "Extracted Metadata (JSON format with only file_name and page_number fields):\n",
    "[Provide the metadata here as a valid JSON object.]\n",
    "\"\"\""
   ]
  },
  {
   "cell_type": "code",
   "execution_count": 244,
   "id": "bdcc3c77",
   "metadata": {},
   "outputs": [],
   "source": [
    "# Format the chat history into a string\n",
    "formatted_chat_history = \"\\n\".join([f'{entry[\"role\"].capitalize()}: {entry[\"content\"]}' for entry in chat_history])"
   ]
  },
  {
   "cell_type": "code",
   "execution_count": 245,
   "id": "ac979539",
   "metadata": {},
   "outputs": [],
   "source": [
    "# Create the prompt for the LLM\n",
    "prompt = PromptTemplate.from_template(template).format(\n",
    "    chat_history=formatted_chat_history,\n",
    "    query=user_query\n",
    ")"
   ]
  },
  {
   "cell_type": "code",
   "execution_count": 246,
   "id": "64b5c801",
   "metadata": {},
   "outputs": [
    {
     "data": {
      "text/plain": [
       "'\\nGiven the chat history and the current user query, rewrite the query so it forms a complete question, maintaining the context of the conversation. Then, extract metadata (only \"file_name\" and \"page_number\" fields) if they are mentioned in the question or chat history.\\nRewritten query shoudl not have refernce to metadata fields file_name and page_number.\\n\\nChat History:\\nUser: CDC agrees to make the 504 Loan to the Borrower subject to what?\\nAssistant: SBA\\'s approval.\\nUser: Third Party Lender waives its rights for what?\\nAssistant: Third Party Lender waives its rights to enforce provisions that do not comply with the 504 Loan Program Requirements.\\nUser: what does this document say about authority to execute agreement?\\nAssistant: The persons signing below certify that they have been duly authorized to execute this Agreement on behalf of their respective party.\\n\\nCurrent user query: What does the docuemnt say about Transferability in page_number 3 of lenovo_license_agreement.pdf?\\n\\nRewritten query:\\n[Provide the rewritten query here.]\\n\\nExtracted Metadata (JSON format with only file_name and page_number fields):\\n[Provide the metadata here as a valid JSON object.]\\n'"
      ]
     },
     "execution_count": 246,
     "metadata": {},
     "output_type": "execute_result"
    }
   ],
   "source": [
    "prompt"
   ]
  },
  {
   "cell_type": "code",
   "execution_count": 247,
   "id": "b0fd0a55",
   "metadata": {},
   "outputs": [],
   "source": [
    "response = llm.predict(prompt)"
   ]
  },
  {
   "cell_type": "code",
   "execution_count": 248,
   "id": "95ca4d88",
   "metadata": {},
   "outputs": [
    {
     "data": {
      "text/plain": [
       "'Rewritten query: What does the document say about Transferability in lenovo_license_agreement.pdf?\\n\\nExtracted Metadata:\\n{\\n  \"file_name\": \"lenovo_license_agreement.pdf\",\\n  \"page_number\": 3\\n}'"
      ]
     },
     "execution_count": 248,
     "metadata": {},
     "output_type": "execute_result"
    }
   ],
   "source": [
    "response"
   ]
  },
  {
   "cell_type": "code",
   "execution_count": 249,
   "id": "ff022124",
   "metadata": {},
   "outputs": [],
   "source": [
    "# Split the response into rewritten query and metadata parts\n",
    "response_parts = response.split(\"\\nExtracted Metadata:\")"
   ]
  },
  {
   "cell_type": "code",
   "execution_count": 250,
   "id": "3eaab18f",
   "metadata": {},
   "outputs": [],
   "source": [
    "query = response_parts[0].replace(\"Rewritten query:\", \"\").strip()"
   ]
  },
  {
   "cell_type": "code",
   "execution_count": 251,
   "id": "7e5f9c9a",
   "metadata": {},
   "outputs": [],
   "source": [
    "metadata_str = response_parts[1].strip()"
   ]
  },
  {
   "cell_type": "code",
   "execution_count": 252,
   "id": "17d7b787",
   "metadata": {},
   "outputs": [],
   "source": [
    "metadata = json.loads(metadata_str)"
   ]
  },
  {
   "cell_type": "code",
   "execution_count": 253,
   "id": "343631ca",
   "metadata": {},
   "outputs": [
    {
     "data": {
      "text/plain": [
       "{'file_name': 'lenovo_license_agreement.pdf', 'page_number': 3}"
      ]
     },
     "execution_count": 253,
     "metadata": {},
     "output_type": "execute_result"
    }
   ],
   "source": [
    "metadata"
   ]
  },
  {
   "cell_type": "code",
   "execution_count": 254,
   "id": "3104e008",
   "metadata": {},
   "outputs": [
    {
     "data": {
      "text/plain": [
       "'What does the document say about Transferability in lenovo_license_agreement.pdf?'"
      ]
     },
     "execution_count": 254,
     "metadata": {},
     "output_type": "execute_result"
    }
   ],
   "source": [
    "query"
   ]
  },
  {
   "cell_type": "markdown",
   "id": "b9775096",
   "metadata": {},
   "source": [
    "# Fetch relevant chunks from Vector DB"
   ]
  },
  {
   "cell_type": "code",
   "execution_count": 255,
   "id": "a78472ad",
   "metadata": {},
   "outputs": [],
   "source": [
    " metadata_filter = {\n",
    "        \"$and\": [\n",
    "            {key: {\"$eq\": (value - 1 if key == \"page_number\" else value)}}\n",
    "            for key, value in metadata.items()\n",
    "        ]\n",
    "    }"
   ]
  },
  {
   "cell_type": "code",
   "execution_count": 256,
   "id": "1a803556",
   "metadata": {},
   "outputs": [
    {
     "data": {
      "text/plain": [
       "{'$and': [{'file_name': {'$eq': 'lenovo_license_agreement.pdf'}},\n",
       "  {'page_number': {'$eq': 2}}]}"
      ]
     },
     "execution_count": 256,
     "metadata": {},
     "output_type": "execute_result"
    }
   ],
   "source": [
    "metadata_filter"
   ]
  },
  {
   "cell_type": "code",
   "execution_count": 257,
   "id": "122de57f",
   "metadata": {},
   "outputs": [],
   "source": [
    "top_chunks_with_scores = vector_db.similarity_search_with_score(query, k=3)\n",
    "top_chunks_with_scores = vector_db.similarity_search_with_score(\n",
    "    query=query,\n",
    "    k=3,\n",
    "    filter=metadata_filter\n",
    ")"
   ]
  },
  {
   "cell_type": "code",
   "execution_count": 258,
   "id": "239bab94",
   "metadata": {},
   "outputs": [
    {
     "data": {
      "text/plain": [
       "[(Document(metadata={'coordinates': '[[72.02400207519531, 204.51251220703125, 79.56449127197266, 214.56719970703125], [79.58399963378906, 203.02996826171875, 82.08599853515625, 215.4229736328125], [108.0199966430664, 203.02996826171875, 172.56199645996094, 215.4229736328125], [120.5, 225.3049774169922, 123.00199890136719, 237.6709747314453], [144.02000427246094, 225.3049774169922, 542.3473510742188, 237.6709747314453], [144.02000427246094, 235.66998291015625, 184.20199584960938, 247.85598754882812], [184.22000122070312, 237.15252685546875, 246.6890411376953, 247.20721435546875], [246.64999389648438, 235.62498474121094, 251.552001953125, 247.99098205566406], [120.5, 258.09503173828125, 123.00199890136719, 270.4610290527344], [144.02000427246094, 258.09503173828125, 542.5930786132812, 270.4610290527344], [144.02000427246094, 268.4150390625, 542.578125, 280.7810363769531], [144.02000427246094, 278.7350158691406, 518.842041015625, 291.10101318359375], [72.02400207519531, 302.5825500488281, 79.56449127197266, 312.6372375488281], [79.58399963378906, 301.1000061035156, 82.08599853515625, 313.4930114746094], [108.0199966430664, 301.1000061035156, 301.0580139160156, 313.4930114746094]]', 'file_name': 'lenovo_license_agreement.pdf', 'page_number': 2}, page_content='6. \\nTransferability \\n  \\nYou may not transfer or assign the Software Product to any other party, except as permitted in this \\nSection 6 “Transferability”. \\n  \\nPreinstalled Software Products are licensed for use only on the Lenovo hardware product on which \\nthey are preinstalled or with which they are included and may be transferred only with that Lenovo \\nhardware product. They may not be transferred independent of the Lenovo hardware product. \\n 7. \\nOpen Source and Other Third-Party Products'),\n",
       "  0.5677584409713745),\n",
       " (Document(metadata={'coordinates': '[[144.02000427246094, 364.89501953125, 542.3803100585938, 377.2610168457031], [144.02000427246094, 375.21502685546875, 450.1720275878906, 387.5810241699219], [120.5, 397.5350036621094, 123.00199890136719, 409.9010009765625], [144.02000427246094, 399.0625305175781, 542.0437622070312, 409.1172180175781], [144.02000427246094, 407.8550109863281, 542.2703857421875, 420.22100830078125], [144.02000427246094, 418.31500244140625, 539.7113647460938, 430.6809997558594]]', 'file_name': 'lenovo_license_agreement.pdf', 'page_number': 2}, page_content='event that all or any portion of the Software Product provided hereunder does not reference, or \\notherwise indicate, such Open Source License, this Agreement shall control. \\n  \\nAny Open Source Software is provided on an “AS IS” basis, without any indemnity, representation \\nor warranty of any kind being provided by Lenovo or any author of or contributor to the Open Source \\nSoftware, whether express or implied, including without limitation any indemnity, representation or'),\n",
       "  0.7249491810798645),\n",
       " (Document(metadata={'coordinates': '[[72.02400207519531, 34.44002914428711, 232.1060028076172, 50.964027404785156], [72.02400207519531, 48.25199508666992, 75.09312438964844, 63.420955657958984], [72.02400207519531, 60.85197067260742, 75.09312438964844, 76.02092742919922], [483.82000732421875, 731.5079956054688, 543.1690673828125, 746.6769409179688], [72.02400207519531, 744.5010375976562, 279.7220153808594, 756.8670043945312], [279.6499938964844, 742.3080444335938, 282.7191162109375, 757.4769897460938], [120.5, 73.84501647949219, 123.00199890136719, 86.21102142333984], [144.02000427246094, 73.84501647949219, 162.583984375, 86.21102142333984], [164.86997985839844, 73.84501647949219, 180.32296752929688, 86.21102142333984], [182.6089630126953, 73.84501647949219, 208.12396240234375, 86.21102142333984], [210.4099578857422, 73.84501647949219, 258.8299560546875, 86.21102142333984], [261.115966796875, 73.84501647949219, 274.04901123046875, 86.21102142333984], [276.3440246582031, 73.84501647949219, 324.8720703125, 86.21102142333984], [327.1580810546875, 73.84501647949219, 342.1251220703125, 86.21102142333984], [344.29412841796875, 73.84501647949219, 401.3271789550781, 86.21102142333984], [403.6131896972656, 73.84501647949219, 413.6482238769531, 86.21102142333984], [415.8352355957031, 73.84501647949219, 435.8422546386719, 86.21102142333984], [438.13726806640625, 73.84501647949219, 473.12030029296875, 86.21102142333984], [475.4242858886719, 73.84501647949219, 522.3953247070312, 86.21102142333984], [524.5643310546875, 73.84501647949219, 542.0513916015625, 86.21102142333984], [144.02000427246094, 84.18498229980469, 541.9644165039062, 96.55098724365234], [144.02000427246094, 94.50498962402344, 356.2120056152344, 106.8709945678711], [120.5, 116.94499206542969, 123.00199890136719, 129.3109893798828], [144.02000427246094, 116.94499206542969, 539.7476196289062, 129.3109893798828]]', 'file_name': 'lenovo_license_agreement.pdf', 'page_number': 2}, page_content='Lenovo License Agreement \\n \\n \\n Page 3 of 6 \\n COE-30002-01 Lenovo License Agreement 03.2022 \\n  \\nYou are solely responsible for maintaining the confidentiality of your Account information and \\npassword. At all times, You are solely liable for any activities occurring on or through your Account, \\neven if such activities may not be authorized by You. \\n  \\nYou shall immediately notify Lenovo of any unauthorized use of your Account or if any other breach'),\n",
       "  0.7315990328788757)]"
      ]
     },
     "execution_count": 258,
     "metadata": {},
     "output_type": "execute_result"
    }
   ],
   "source": [
    "top_chunks_with_scores"
   ]
  },
  {
   "cell_type": "code",
   "execution_count": 259,
   "id": "373c9f0b",
   "metadata": {},
   "outputs": [],
   "source": [
    "# Extract chunk texts for cross-encoding\n",
    "top_chunks = [chunk.page_content for chunk, _ in top_chunks_with_scores]"
   ]
  },
  {
   "cell_type": "code",
   "execution_count": 260,
   "id": "69a81ae7",
   "metadata": {},
   "outputs": [],
   "source": [
    "cross_encoder = CrossEncoder(\"cross-encoder/ms-marco-MiniLM-L-6-v2\")"
   ]
  },
  {
   "cell_type": "code",
   "execution_count": 261,
   "id": "dd3f88ed",
   "metadata": {},
   "outputs": [],
   "source": [
    "query_chunk_pairs = [(query, chunk) for chunk in top_chunks]"
   ]
  },
  {
   "cell_type": "code",
   "execution_count": 262,
   "id": "c8c6c273",
   "metadata": {},
   "outputs": [
    {
     "data": {
      "text/plain": [
       "[('What does the document say about Transferability in lenovo_license_agreement.pdf?',\n",
       "  '6. \\nTransferability \\n  \\nYou may not transfer or assign the Software Product to any other party, except as permitted in this \\nSection 6 “Transferability”. \\n  \\nPreinstalled Software Products are licensed for use only on the Lenovo hardware product on which \\nthey are preinstalled or with which they are included and may be transferred only with that Lenovo \\nhardware product. They may not be transferred independent of the Lenovo hardware product. \\n 7. \\nOpen Source and Other Third-Party Products'),\n",
       " ('What does the document say about Transferability in lenovo_license_agreement.pdf?',\n",
       "  'event that all or any portion of the Software Product provided hereunder does not reference, or \\notherwise indicate, such Open Source License, this Agreement shall control. \\n  \\nAny Open Source Software is provided on an “AS IS” basis, without any indemnity, representation \\nor warranty of any kind being provided by Lenovo or any author of or contributor to the Open Source \\nSoftware, whether express or implied, including without limitation any indemnity, representation or'),\n",
       " ('What does the document say about Transferability in lenovo_license_agreement.pdf?',\n",
       "  'Lenovo License Agreement \\n \\n \\n Page 3 of 6 \\n COE-30002-01 Lenovo License Agreement 03.2022 \\n  \\nYou are solely responsible for maintaining the confidentiality of your Account information and \\npassword. At all times, You are solely liable for any activities occurring on or through your Account, \\neven if such activities may not be authorized by You. \\n  \\nYou shall immediately notify Lenovo of any unauthorized use of your Account or if any other breach')]"
      ]
     },
     "execution_count": 262,
     "metadata": {},
     "output_type": "execute_result"
    }
   ],
   "source": [
    "query_chunk_pairs"
   ]
  },
  {
   "cell_type": "code",
   "execution_count": 263,
   "id": "899f91a3",
   "metadata": {},
   "outputs": [],
   "source": [
    "cross_encoded_scores = cross_encoder.predict(query_chunk_pairs)"
   ]
  },
  {
   "cell_type": "code",
   "execution_count": 264,
   "id": "caec509d",
   "metadata": {},
   "outputs": [],
   "source": [
    "# Pair chunks with their cross-encoder scores and sort them in descending order\n",
    "ranked_chunks_with_scores = sorted(\n",
    "    zip(top_chunks_with_scores, cross_encoded_scores),\n",
    "    key=lambda x: x[1],  # Sort by score (descending)\n",
    "    reverse=True\n",
    ")"
   ]
  },
  {
   "cell_type": "code",
   "execution_count": 265,
   "id": "0157b74b",
   "metadata": {},
   "outputs": [],
   "source": [
    "top_chunk_cross_encoded, top_cross_encoded_score = ranked_chunks_with_scores[0][0]"
   ]
  },
  {
   "cell_type": "code",
   "execution_count": 266,
   "id": "93b43789",
   "metadata": {},
   "outputs": [],
   "source": [
    "metadata_of_top_chunk = top_chunk_cross_encoded.metadata"
   ]
  },
  {
   "cell_type": "code",
   "execution_count": 267,
   "id": "1a5f3012",
   "metadata": {},
   "outputs": [
    {
     "data": {
      "text/plain": [
       "{'coordinates': '[[72.02400207519531, 204.51251220703125, 79.56449127197266, 214.56719970703125], [79.58399963378906, 203.02996826171875, 82.08599853515625, 215.4229736328125], [108.0199966430664, 203.02996826171875, 172.56199645996094, 215.4229736328125], [120.5, 225.3049774169922, 123.00199890136719, 237.6709747314453], [144.02000427246094, 225.3049774169922, 542.3473510742188, 237.6709747314453], [144.02000427246094, 235.66998291015625, 184.20199584960938, 247.85598754882812], [184.22000122070312, 237.15252685546875, 246.6890411376953, 247.20721435546875], [246.64999389648438, 235.62498474121094, 251.552001953125, 247.99098205566406], [120.5, 258.09503173828125, 123.00199890136719, 270.4610290527344], [144.02000427246094, 258.09503173828125, 542.5930786132812, 270.4610290527344], [144.02000427246094, 268.4150390625, 542.578125, 280.7810363769531], [144.02000427246094, 278.7350158691406, 518.842041015625, 291.10101318359375], [72.02400207519531, 302.5825500488281, 79.56449127197266, 312.6372375488281], [79.58399963378906, 301.1000061035156, 82.08599853515625, 313.4930114746094], [108.0199966430664, 301.1000061035156, 301.0580139160156, 313.4930114746094]]',\n",
       " 'file_name': 'lenovo_license_agreement.pdf',\n",
       " 'page_number': 2}"
      ]
     },
     "execution_count": 267,
     "metadata": {},
     "output_type": "execute_result"
    }
   ],
   "source": [
    "metadata_of_top_chunk"
   ]
  },
  {
   "cell_type": "code",
   "execution_count": 268,
   "id": "af72b15a",
   "metadata": {},
   "outputs": [
    {
     "data": {
      "text/plain": [
       "Document(metadata={'coordinates': '[[72.02400207519531, 204.51251220703125, 79.56449127197266, 214.56719970703125], [79.58399963378906, 203.02996826171875, 82.08599853515625, 215.4229736328125], [108.0199966430664, 203.02996826171875, 172.56199645996094, 215.4229736328125], [120.5, 225.3049774169922, 123.00199890136719, 237.6709747314453], [144.02000427246094, 225.3049774169922, 542.3473510742188, 237.6709747314453], [144.02000427246094, 235.66998291015625, 184.20199584960938, 247.85598754882812], [184.22000122070312, 237.15252685546875, 246.6890411376953, 247.20721435546875], [246.64999389648438, 235.62498474121094, 251.552001953125, 247.99098205566406], [120.5, 258.09503173828125, 123.00199890136719, 270.4610290527344], [144.02000427246094, 258.09503173828125, 542.5930786132812, 270.4610290527344], [144.02000427246094, 268.4150390625, 542.578125, 280.7810363769531], [144.02000427246094, 278.7350158691406, 518.842041015625, 291.10101318359375], [72.02400207519531, 302.5825500488281, 79.56449127197266, 312.6372375488281], [79.58399963378906, 301.1000061035156, 82.08599853515625, 313.4930114746094], [108.0199966430664, 301.1000061035156, 301.0580139160156, 313.4930114746094]]', 'file_name': 'lenovo_license_agreement.pdf', 'page_number': 2}, page_content='6. \\nTransferability \\n  \\nYou may not transfer or assign the Software Product to any other party, except as permitted in this \\nSection 6 “Transferability”. \\n  \\nPreinstalled Software Products are licensed for use only on the Lenovo hardware product on which \\nthey are preinstalled or with which they are included and may be transferred only with that Lenovo \\nhardware product. They may not be transferred independent of the Lenovo hardware product. \\n 7. \\nOpen Source and Other Third-Party Products')"
      ]
     },
     "execution_count": 268,
     "metadata": {},
     "output_type": "execute_result"
    }
   ],
   "source": [
    "top_chunk_cross_encoded"
   ]
  },
  {
   "cell_type": "code",
   "execution_count": 269,
   "id": "3777fb28",
   "metadata": {},
   "outputs": [
    {
     "data": {
      "text/plain": [
       "{'coordinates': '[[72.02400207519531, 204.51251220703125, 79.56449127197266, 214.56719970703125], [79.58399963378906, 203.02996826171875, 82.08599853515625, 215.4229736328125], [108.0199966430664, 203.02996826171875, 172.56199645996094, 215.4229736328125], [120.5, 225.3049774169922, 123.00199890136719, 237.6709747314453], [144.02000427246094, 225.3049774169922, 542.3473510742188, 237.6709747314453], [144.02000427246094, 235.66998291015625, 184.20199584960938, 247.85598754882812], [184.22000122070312, 237.15252685546875, 246.6890411376953, 247.20721435546875], [246.64999389648438, 235.62498474121094, 251.552001953125, 247.99098205566406], [120.5, 258.09503173828125, 123.00199890136719, 270.4610290527344], [144.02000427246094, 258.09503173828125, 542.5930786132812, 270.4610290527344], [144.02000427246094, 268.4150390625, 542.578125, 280.7810363769531], [144.02000427246094, 278.7350158691406, 518.842041015625, 291.10101318359375], [72.02400207519531, 302.5825500488281, 79.56449127197266, 312.6372375488281], [79.58399963378906, 301.1000061035156, 82.08599853515625, 313.4930114746094], [108.0199966430664, 301.1000061035156, 301.0580139160156, 313.4930114746094]]',\n",
       " 'file_name': 'lenovo_license_agreement.pdf',\n",
       " 'page_number': 2}"
      ]
     },
     "execution_count": 269,
     "metadata": {},
     "output_type": "execute_result"
    }
   ],
   "source": [
    "metadata_of_top_chunk"
   ]
  },
  {
   "cell_type": "markdown",
   "id": "659ad976",
   "metadata": {},
   "source": [
    "# LLM query"
   ]
  },
  {
   "cell_type": "code",
   "execution_count": 270,
   "id": "e2b92b7b",
   "metadata": {},
   "outputs": [],
   "source": [
    "llm_instruction = \"Please answer the question by carefully considering both the provided context and the chat history. Use the context for accurate information and take into account any relevant details from the chat history to generate a well-informed response. If enough information is not available, please respond by saying: 'There is not enough information to answer the question.'\""
   ]
  },
  {
   "cell_type": "code",
   "execution_count": 271,
   "id": "e32fb893",
   "metadata": {},
   "outputs": [],
   "source": [
    "# Create the prompt\n",
    "template = \"\"\"\n",
    "Context: \n",
    "{context}\n",
    "\n",
    "Chat history:\n",
    "{chat_history}\n",
    "\n",
    "Instruction: \n",
    "{llm_instruction}\n",
    "\n",
    "User question: {question}\n",
    "\"\"\""
   ]
  },
  {
   "cell_type": "code",
   "execution_count": 272,
   "id": "b2012c7a",
   "metadata": {},
   "outputs": [],
   "source": [
    "formatted_prompt = PromptTemplate.from_template(template).format(\n",
    "    context=top_chunk_cross_encoded.page_content,\n",
    "    chat_history=\"\\n\".join([f'{entry[\"role\"].capitalize()}: {entry[\"content\"]}' for entry in chat_history]),\n",
    "    question=query,\n",
    "    llm_instruction=llm_instruction\n",
    ")"
   ]
  },
  {
   "cell_type": "code",
   "execution_count": 273,
   "id": "c51aaca3",
   "metadata": {},
   "outputs": [
    {
     "data": {
      "text/plain": [
       "\"\\nContext: \\n6. \\nTransferability \\n  \\nYou may not transfer or assign the Software Product to any other party, except as permitted in this \\nSection 6 “Transferability”. \\n  \\nPreinstalled Software Products are licensed for use only on the Lenovo hardware product on which \\nthey are preinstalled or with which they are included and may be transferred only with that Lenovo \\nhardware product. They may not be transferred independent of the Lenovo hardware product. \\n 7. \\nOpen Source and Other Third-Party Products\\n\\nChat history:\\nUser: CDC agrees to make the 504 Loan to the Borrower subject to what?\\nAssistant: SBA's approval.\\nUser: Third Party Lender waives its rights for what?\\nAssistant: Third Party Lender waives its rights to enforce provisions that do not comply with the 504 Loan Program Requirements.\\nUser: what does this document say about authority to execute agreement?\\nAssistant: The persons signing below certify that they have been duly authorized to execute this Agreement on behalf of their respective party.\\n\\nInstruction: \\nPlease answer the question by carefully considering both the provided context and the chat history. Use the context for accurate information and take into account any relevant details from the chat history to generate a well-informed response. If enough information is not available, please respond by saying: 'There is not enough information to answer the question.'\\n\\nUser question: What does the document say about Transferability in lenovo_license_agreement.pdf?\\n\""
      ]
     },
     "execution_count": 273,
     "metadata": {},
     "output_type": "execute_result"
    }
   ],
   "source": [
    "formatted_prompt"
   ]
  },
  {
   "cell_type": "code",
   "execution_count": 274,
   "id": "6db01b34",
   "metadata": {},
   "outputs": [],
   "source": [
    "# Get response from LLM\n",
    "llm_response = llm.predict(formatted_prompt)"
   ]
  },
  {
   "cell_type": "code",
   "execution_count": 275,
   "id": "f9dcf023",
   "metadata": {},
   "outputs": [
    {
     "name": "stdout",
     "output_type": "stream",
     "text": [
      "##################################################\n",
      "Based on the context provided in the lenovo_license_agreement.pdf, the document states that the Software Product may not be transferred or assigned to any other party, except as permitted in the Transferability section. It also specifies that Preinstalled Software Products can only be transferred with the Lenovo hardware product on which they are preinstalled or included, and cannot be transferred independently of the Lenovo hardware product.\n"
     ]
    }
   ],
   "source": [
    "print(\"#\"*50)\n",
    "print(llm_response)"
   ]
  },
  {
   "cell_type": "markdown",
   "id": "95f1fbe6",
   "metadata": {},
   "source": [
    "# PDF Highlighting"
   ]
  },
  {
   "cell_type": "code",
   "execution_count": 276,
   "id": "178c6963",
   "metadata": {},
   "outputs": [],
   "source": [
    "# Configurable cosine similarity threshold\n",
    "COSINE_SIMILARITY_THRESHOLD = 0.5"
   ]
  },
  {
   "cell_type": "code",
   "execution_count": 277,
   "id": "19161a5c",
   "metadata": {},
   "outputs": [],
   "source": [
    "page_number =  metadata_of_top_chunk[\"page_number\"]"
   ]
  },
  {
   "cell_type": "code",
   "execution_count": 278,
   "id": "87b0c048",
   "metadata": {},
   "outputs": [
    {
     "data": {
      "text/plain": [
       "2"
      ]
     },
     "execution_count": 278,
     "metadata": {},
     "output_type": "execute_result"
    }
   ],
   "source": [
    "page_number"
   ]
  },
  {
   "cell_type": "code",
   "execution_count": 279,
   "id": "fd852b90",
   "metadata": {},
   "outputs": [],
   "source": [
    "coordinates_str = metadata_of_top_chunk[\"coordinates\"]"
   ]
  },
  {
   "cell_type": "code",
   "execution_count": 280,
   "id": "3ae28fee",
   "metadata": {},
   "outputs": [
    {
     "data": {
      "text/plain": [
       "'[[72.02400207519531, 204.51251220703125, 79.56449127197266, 214.56719970703125], [79.58399963378906, 203.02996826171875, 82.08599853515625, 215.4229736328125], [108.0199966430664, 203.02996826171875, 172.56199645996094, 215.4229736328125], [120.5, 225.3049774169922, 123.00199890136719, 237.6709747314453], [144.02000427246094, 225.3049774169922, 542.3473510742188, 237.6709747314453], [144.02000427246094, 235.66998291015625, 184.20199584960938, 247.85598754882812], [184.22000122070312, 237.15252685546875, 246.6890411376953, 247.20721435546875], [246.64999389648438, 235.62498474121094, 251.552001953125, 247.99098205566406], [120.5, 258.09503173828125, 123.00199890136719, 270.4610290527344], [144.02000427246094, 258.09503173828125, 542.5930786132812, 270.4610290527344], [144.02000427246094, 268.4150390625, 542.578125, 280.7810363769531], [144.02000427246094, 278.7350158691406, 518.842041015625, 291.10101318359375], [72.02400207519531, 302.5825500488281, 79.56449127197266, 312.6372375488281], [79.58399963378906, 301.1000061035156, 82.08599853515625, 313.4930114746094], [108.0199966430664, 301.1000061035156, 301.0580139160156, 313.4930114746094]]'"
      ]
     },
     "execution_count": 280,
     "metadata": {},
     "output_type": "execute_result"
    }
   ],
   "source": [
    "coordinates_str"
   ]
  },
  {
   "cell_type": "code",
   "execution_count": 281,
   "id": "56cfa411",
   "metadata": {},
   "outputs": [],
   "source": [
    "coordinates = json.loads(coordinates_str)"
   ]
  },
  {
   "cell_type": "code",
   "execution_count": 282,
   "id": "2b02d316",
   "metadata": {},
   "outputs": [
    {
     "data": {
      "text/plain": [
       "[[72.02400207519531,\n",
       "  204.51251220703125,\n",
       "  79.56449127197266,\n",
       "  214.56719970703125],\n",
       " [79.58399963378906, 203.02996826171875, 82.08599853515625, 215.4229736328125],\n",
       " [108.0199966430664,\n",
       "  203.02996826171875,\n",
       "  172.56199645996094,\n",
       "  215.4229736328125],\n",
       " [120.5, 225.3049774169922, 123.00199890136719, 237.6709747314453],\n",
       " [144.02000427246094, 225.3049774169922, 542.3473510742188, 237.6709747314453],\n",
       " [144.02000427246094,\n",
       "  235.66998291015625,\n",
       "  184.20199584960938,\n",
       "  247.85598754882812],\n",
       " [184.22000122070312,\n",
       "  237.15252685546875,\n",
       "  246.6890411376953,\n",
       "  247.20721435546875],\n",
       " [246.64999389648438,\n",
       "  235.62498474121094,\n",
       "  251.552001953125,\n",
       "  247.99098205566406],\n",
       " [120.5, 258.09503173828125, 123.00199890136719, 270.4610290527344],\n",
       " [144.02000427246094,\n",
       "  258.09503173828125,\n",
       "  542.5930786132812,\n",
       "  270.4610290527344],\n",
       " [144.02000427246094, 268.4150390625, 542.578125, 280.7810363769531],\n",
       " [144.02000427246094, 278.7350158691406, 518.842041015625, 291.10101318359375],\n",
       " [72.02400207519531, 302.5825500488281, 79.56449127197266, 312.6372375488281],\n",
       " [79.58399963378906, 301.1000061035156, 82.08599853515625, 313.4930114746094],\n",
       " [108.0199966430664, 301.1000061035156, 301.0580139160156, 313.4930114746094]]"
      ]
     },
     "execution_count": 282,
     "metadata": {},
     "output_type": "execute_result"
    }
   ],
   "source": [
    "coordinates"
   ]
  },
  {
   "cell_type": "code",
   "execution_count": 283,
   "id": "6086d415",
   "metadata": {},
   "outputs": [],
   "source": [
    "file_for_highlighting = os.path.join(pdf_folder, metadata_of_top_chunk['file_name'])"
   ]
  },
  {
   "cell_type": "code",
   "execution_count": 284,
   "id": "179a0c54",
   "metadata": {},
   "outputs": [
    {
     "data": {
      "text/plain": [
       "'C:\\\\gitworkspace\\\\aimldemo\\\\AIML Demo\\\\Python Demo\\\\pythonbasics\\\\doc_inputs\\\\lenovo_license_agreement.pdf'"
      ]
     },
     "execution_count": 284,
     "metadata": {},
     "output_type": "execute_result"
    }
   ],
   "source": [
    "file_for_highlighting"
   ]
  },
  {
   "cell_type": "code",
   "execution_count": 285,
   "id": "0535880d",
   "metadata": {},
   "outputs": [
    {
     "data": {
      "text/plain": [
       "'C:\\\\gitworkspace\\\\aimldemo\\\\AIML Demo\\\\Python Demo\\\\pythonbasics\\\\doc_outputs\\\\highlighted_output.pdf'"
      ]
     },
     "execution_count": 285,
     "metadata": {},
     "output_type": "execute_result"
    }
   ],
   "source": [
    "highlighted_pdf_path"
   ]
  },
  {
   "cell_type": "code",
   "execution_count": 286,
   "id": "f5a6d4d3",
   "metadata": {},
   "outputs": [],
   "source": [
    "doc = fitz.open(file_for_highlighting)"
   ]
  },
  {
   "cell_type": "code",
   "execution_count": 287,
   "id": "ae321497",
   "metadata": {},
   "outputs": [],
   "source": [
    "page = doc.load_page(page_num)"
   ]
  },
  {
   "cell_type": "code",
   "execution_count": 288,
   "id": "7b5499bd",
   "metadata": {},
   "outputs": [
    {
     "data": {
      "text/plain": [
       "pymupdf.Page"
      ]
     },
     "execution_count": 288,
     "metadata": {},
     "output_type": "execute_result"
    }
   ],
   "source": [
    "type(page) "
   ]
  },
  {
   "cell_type": "code",
   "execution_count": 289,
   "id": "24208367",
   "metadata": {},
   "outputs": [
    {
     "data": {
      "text/plain": [
       "'Lenovo License Agreement \\n \\n \\nPage 3 of 6 \\nCOE-30002-01 Lenovo License Agreement 03.2022 \\n \\nYou are solely responsible for maintaining the confidentiality of your Account information and \\npassword. At all times, You are solely liable for any activities occurring on or through your Account, \\neven if such activities may not be authorized by You. \\n \\nYou shall immediately notify Lenovo of any unauthorized use of your Account or if any other breach \\nof security has occurred. In no event shall Lenovo be liable for any unauthorized use of your Account. \\n \\nYou shall be the Account owner when you create the Account. Subsequent changes to ownership \\nmust be supported by appropriate legal documents. Lenovo will not adjudicate any ownership-related \\ndispute. If Lenovo is unable to determine the valid owner of the Account, Lenovo may at its own \\ndiscretion suspend or terminate the Account. \\n6. \\nTransferability \\n \\nYou may not transfer or assign the Software Product to any other party, except as permitted in this \\nSection 6 “Transferability”. \\n \\nPreinstalled Software Products are licensed for use only on the Lenovo hardware product on which \\nthey are preinstalled or with which they are included and may be transferred only with that Lenovo \\nhardware product. They may not be transferred independent of the Lenovo hardware product. \\n7. \\nOpen Source and Other Third-Party Products \\n \\nPortion(s) of the Software Products and future updates and patches provided hereunder may include \\nOpen Source software licensed under a particular Open Source License. To the extent that the terms \\nof this Agreement conflict with the terms of such Open Source License, then the terms of such Open \\nSource License shall control for such applicable Open Source software. For the sake of clarity, in the \\nevent that all or any portion of the Software Product provided hereunder does not reference, or \\notherwise indicate, such Open Source License, this Agreement shall control. \\n \\nAny Open Source Software is provided on an “AS IS” basis, without any indemnity, representation \\nor warranty of any kind being provided by Lenovo or any author of or contributor to the Open Source \\nSoftware, whether express or implied, including without limitation any indemnity, representation or \\nwarranty of title, non-infringement, merchantability or fitness for a particular purpose.  Neither Lenovo \\nnor any author of or contributor to the Open Source Software shall have liability for any damages \\ncaused by the Open Source Software, including direct, indirect, special, incidental and consequential \\ndamages, such as lost profits. \\n \\nYou acknowledge and agree that You are and shall be responsible for complying with the terms and \\nconditions of any Open Source License applicable to any Software Product used or redistributed by \\nYou. Lenovo will provide You reasonable assistance with respect to Your compliance obligations, but \\nYou bear ultimate responsibility for compliance with all applicable Open Source Licenses. \\n \\nLenovo Software Products, their functions, features or future updates and patches may contain, work \\ntogether with, rely on or provide links to software components, applications, websites or other \\nproducts or services provided by a third party (collectively “Third Party Products”). Third Party \\nProducts are not controlled or operated by Lenovo. They are usually licensed/provided by third \\nparties under their own terms and conditions and may be subject to license fees and/or other costs. \\nThird Party Products licensed/provided by Lenovo are governed by the terms of this Agreement if no \\nthird party terms and conditions are available. Any Open Source License compliance obligations \\nassociated with the use of any Open Source Software included in the Third Party Products are the \\nsole responsibility of the applicable third party. \\n \\nYOU UNDERSTAND THAT DOWNLOADING AND/OR USE OF THIRD PARTY PRODUCTS MAY \\nBE SUBJECT TO ADDITIONAL TERMS AND CONDITIONS, LICENSE/SERVICE FEES OR \\nOTHER COSTS REQUIRED/CHARGED BY THE THIRD PARTIES. YOU ACKNOWLEDGE AND \\nAGREE THAT YOU ARE SOLELY RESPONSIBLE FOR COMPLIANCE WITH SUCH TERMS AND \\nCONDITIONS AND PAYMENT OF THE FEES AND COSTS.  \\n'"
      ]
     },
     "execution_count": 289,
     "metadata": {},
     "output_type": "execute_result"
    }
   ],
   "source": [
    "page.get_text()"
   ]
  },
  {
   "cell_type": "code",
   "execution_count": 290,
   "id": "286cf55e",
   "metadata": {},
   "outputs": [],
   "source": [
    "chunk_text = \" \".join(page.get_textbox(fitz.Rect(*coord)) for coord in coordinates)"
   ]
  },
  {
   "cell_type": "code",
   "execution_count": 291,
   "id": "b4cc65de",
   "metadata": {},
   "outputs": [
    {
     "data": {
      "text/plain": [
       "'6.   Transferability    You may not transfer or assign the Software Product to any other party, except as permitted in this \\nSection 6 “Transferability”.  You may n\\nSection 6  not transfer or a\\n“Transferability”. ass\\n”.    Preinstalled Software Products are licensed for use only on the Lenovo hardware product on which \\nthey are preinstalled or with which they are included and may be transferred only with that Lenovo  Preinstalled Software Products are licensed for use only on the Lenovo hardware product on which \\nthey are preinstalled or with which they are included and may be transferred only with that Lenovo \\nhardware product. They may not be transferred independent of the Lenovo hardware product.  they are preinstalled or with which they are included and may be transferred only with that Le\\nhardware product. They may not be transferred independent of the Lenovo hardware product.  7.   Open Source and Other Third-Party Products '"
      ]
     },
     "execution_count": 291,
     "metadata": {},
     "output_type": "execute_result"
    }
   ],
   "source": [
    "chunk_text"
   ]
  },
  {
   "cell_type": "code",
   "execution_count": 292,
   "id": "1377c2de",
   "metadata": {},
   "outputs": [],
   "source": [
    "sentences = nltk.sent_tokenize(chunk_text)"
   ]
  },
  {
   "cell_type": "code",
   "execution_count": 293,
   "id": "835a7a81",
   "metadata": {},
   "outputs": [],
   "source": [
    "# Initialize Sentence Transformer for cosine similarity\n",
    "similarity_model = SentenceTransformer(\"sentence-transformers/all-MiniLM-L6-v2\")"
   ]
  },
  {
   "cell_type": "code",
   "execution_count": 294,
   "id": "cecb8e1a",
   "metadata": {},
   "outputs": [],
   "source": [
    "# Compute embeddings for the LLM response and sentences\n",
    "llm_response_embedding = similarity_model.encode(llm_response, convert_to_tensor=True)\n",
    "sentence_embeddings = similarity_model.encode(sentences, convert_to_tensor=True)"
   ]
  },
  {
   "cell_type": "code",
   "execution_count": 295,
   "id": "585d9618",
   "metadata": {},
   "outputs": [],
   "source": [
    "# Compute cosine similarities\n",
    "similarities = util.cos_sim(llm_response_embedding, sentence_embeddings)[0].tolist()"
   ]
  },
  {
   "cell_type": "code",
   "execution_count": 296,
   "id": "773cd1ba",
   "metadata": {},
   "outputs": [],
   "source": [
    "# Pair sentences with their similarity scores\n",
    "sentences_with_scores = list(zip(sentences, similarities))"
   ]
  },
  {
   "cell_type": "code",
   "execution_count": 297,
   "id": "2e34a824",
   "metadata": {},
   "outputs": [],
   "source": [
    "# Sort sentences by similarity score in descending order\n",
    "sorted_sentences_with_scores = sorted(sentences_with_scores, key=lambda x: x[1], reverse=True)"
   ]
  },
  {
   "cell_type": "code",
   "execution_count": 298,
   "id": "606e73c6",
   "metadata": {},
   "outputs": [
    {
     "name": "stdout",
     "output_type": "stream",
     "text": [
      "Score: 0.8419, Sentence: Preinstalled Software Products are licensed for use only on the Lenovo hardware product on which \n",
      "they are preinstalled or with which they are included and may be transferred only with that Lenovo  Preinstalled Software Products are licensed for use only on the Lenovo hardware product on which \n",
      "they are preinstalled or with which they are included and may be transferred only with that Lenovo \n",
      "hardware product.\n",
      "####################\n",
      "Score: 0.7350, Sentence: Transferability    You may not transfer or assign the Software Product to any other party, except as permitted in this \n",
      "Section 6 “Transferability”.\n",
      "####################\n",
      "Score: 0.7172, Sentence: They may not be transferred independent of the Lenovo hardware product.\n",
      "####################\n",
      "Score: 0.7172, Sentence: They may not be transferred independent of the Lenovo hardware product.\n",
      "####################\n",
      "Score: 0.4949, Sentence: they are preinstalled or with which they are included and may be transferred only with that Le\n",
      "hardware product.\n",
      "####################\n",
      "Score: 0.4047, Sentence: You may n\n",
      "Section 6  not transfer or a\n",
      "“Transferability”.\n",
      "####################\n",
      "Score: 0.2935, Sentence: Open Source and Other Third-Party Products\n",
      "####################\n",
      "Score: 0.0078, Sentence: ass\n",
      "”.\n",
      "####################\n",
      "Score: 0.0073, Sentence: 7.\n",
      "####################\n",
      "Score: -0.0163, Sentence: 6.\n",
      "####################\n"
     ]
    }
   ],
   "source": [
    "for sentence, score in sorted_sentences_with_scores:\n",
    "    print(f\"Score: {score:.4f}, Sentence: {sentence}\")\n",
    "    print(\"#\"*20)"
   ]
  },
  {
   "cell_type": "code",
   "execution_count": 299,
   "id": "50fa14d6",
   "metadata": {},
   "outputs": [],
   "source": [
    "# Find high-similarity sentences and their coordinates\n",
    "high_similarity_sentences = []\n",
    "for sentence, score in sorted_sentences_with_scores:\n",
    "    if score >= COSINE_SIMILARITY_THRESHOLD:\n",
    "        search_results = page.search_for(sentence)\n",
    "        if search_results:  # Ensure search_results is not empty\n",
    "            high_similarity_sentences.append(fitz.Rect(*search_results[0]))"
   ]
  },
  {
   "cell_type": "code",
   "execution_count": 300,
   "id": "ffcab16a",
   "metadata": {},
   "outputs": [
    {
     "data": {
      "text/plain": [
       "[Rect(108.0199966430664, 203.02996826171875, 172.56199645996094, 215.4229736328125),\n",
       " Rect(219.0529327392578, 278.7350158691406, 516.3160400390625, 291.10101318359375),\n",
       " Rect(219.0529327392578, 278.7350158691406, 516.3160400390625, 291.10101318359375)]"
      ]
     },
     "execution_count": 300,
     "metadata": {},
     "output_type": "execute_result"
    }
   ],
   "source": [
    "high_similarity_sentences"
   ]
  },
  {
   "cell_type": "code",
   "execution_count": 301,
   "id": "4635d498",
   "metadata": {},
   "outputs": [],
   "source": [
    "# Highlight the entire chunk in yellow\n",
    "for coord in coordinates:\n",
    "    rect = fitz.Rect(*coord)\n",
    "    page.add_highlight_annot(rect)"
   ]
  },
  {
   "cell_type": "code",
   "execution_count": 302,
   "id": "3fb04b6c",
   "metadata": {},
   "outputs": [],
   "source": [
    "# Highlight high-similarity sentences in green\n",
    "for rect in high_similarity_sentences:\n",
    "    highlight = page.add_highlight_annot(rect)\n",
    "    highlight.set_colors(stroke=(0, 1, 0))  # Green color\n",
    "    highlight.update()"
   ]
  },
  {
   "cell_type": "code",
   "execution_count": 303,
   "id": "00e2f4af",
   "metadata": {},
   "outputs": [],
   "source": [
    "doc.save(highlighted_pdf_path, garbage=4)\n",
    "doc.close()"
   ]
  },
  {
   "cell_type": "code",
   "execution_count": null,
   "id": "2def8c59",
   "metadata": {},
   "outputs": [],
   "source": []
  }
 ],
 "metadata": {
  "kernelspec": {
   "display_name": "Python 3 (ipykernel)",
   "language": "python",
   "name": "python3"
  },
  "language_info": {
   "codemirror_mode": {
    "name": "ipython",
    "version": 3
   },
   "file_extension": ".py",
   "mimetype": "text/x-python",
   "name": "python",
   "nbconvert_exporter": "python",
   "pygments_lexer": "ipython3",
   "version": "3.11.5"
  }
 },
 "nbformat": 4,
 "nbformat_minor": 5
}
