{
 "cells": [
  {
   "cell_type": "code",
   "execution_count": 65,
   "id": "1c072fb8",
   "metadata": {},
   "outputs": [],
   "source": [
    "import os\n",
    "import shutil\n",
    "import json\n",
    "import requests\n",
    "import fitz\n",
    "import nltk\n",
    "from langchain.text_splitter import RecursiveCharacterTextSplitter\n",
    "from langchain_community.vectorstores import Chroma\n",
    "from sentence_transformers import SentenceTransformer, CrossEncoder, util\n",
    "from chromadb.config import Settings\n",
    "from langchain.prompts import PromptTemplate\n",
    "from langchain_openai import ChatOpenAI"
   ]
  },
  {
   "cell_type": "markdown",
   "id": "5aae055e",
   "metadata": {},
   "source": [
    "# Environment setup"
   ]
  },
  {
   "cell_type": "code",
   "execution_count": 2,
   "id": "65dc69eb",
   "metadata": {},
   "outputs": [],
   "source": [
    "def setup_environment():\n",
    "    import sys\n",
    "    sys.path.append('C:\\\\gitworkspace\\\\aimldemo\\\\jupyterworkapce')\n",
    "    import stratup_env_setup\n",
    "    stratup_env_setup.set_env()"
   ]
  },
  {
   "cell_type": "code",
   "execution_count": 10,
   "id": "ef98e4ce",
   "metadata": {},
   "outputs": [],
   "source": [
    "setup_environment()"
   ]
  },
  {
   "cell_type": "code",
   "execution_count": 11,
   "id": "9aca2911",
   "metadata": {},
   "outputs": [],
   "source": [
    "class HuggingFaceEmbeddings:\n",
    "    \"\"\"Custom wrapper for Hugging Face SentenceTransformer embeddings.\"\"\"\n",
    "    def __init__(self, model_name=\"sentence-transformers/all-MiniLM-L6-v2\"):\n",
    "        self.embedding_model = SentenceTransformer(model_name)\n",
    "    \n",
    "    def embed_documents(self, texts):\n",
    "        \"\"\"Generate embeddings for a list of documents.\"\"\"\n",
    "        return self.embedding_model.encode(texts, convert_to_tensor=False).tolist()\n",
    "    \n",
    "    def embed_query(self, text):\n",
    "        \"\"\"Generate embedding for a single query.\"\"\"\n",
    "        return self.embedding_model.encode(text, convert_to_tensor=False).tolist()"
   ]
  },
  {
   "cell_type": "code",
   "execution_count": 18,
   "id": "eda5a336",
   "metadata": {},
   "outputs": [
    {
     "name": "stderr",
     "output_type": "stream",
     "text": [
      "[nltk_data] Downloading package punkt to\n",
      "[nltk_data]     C:\\Users\\jimmy\\AppData\\Roaming\\nltk_data...\n",
      "[nltk_data]   Package punkt is already up-to-date!\n"
     ]
    },
    {
     "data": {
      "text/plain": [
       "True"
      ]
     },
     "execution_count": 18,
     "metadata": {},
     "output_type": "execute_result"
    }
   ],
   "source": [
    "nltk.download('punkt')"
   ]
  },
  {
   "cell_type": "code",
   "execution_count": 30,
   "id": "11c69f09",
   "metadata": {},
   "outputs": [],
   "source": [
    "chunk_size=500\n",
    "chunk_overlap=50"
   ]
  },
  {
   "cell_type": "code",
   "execution_count": 66,
   "id": "ad176da1",
   "metadata": {},
   "outputs": [],
   "source": [
    "pdf_path = \"C:\\\\gitworkspace\\\\aimldemo\\\\AIML Demo\\\\Python Demo\\\\pythonbasics\\\\doc_inputs\\\\Form_2287.pdf\"\n",
    "output_folder = \"C:\\\\gitworkspace\\\\aimldemo\\\\AIML Demo\\\\Python Demo\\\\pythonbasics\\\\doc_outputs\""
   ]
  },
  {
   "cell_type": "code",
   "execution_count": 67,
   "id": "a99d8d9b",
   "metadata": {},
   "outputs": [],
   "source": [
    "highlighted_pdf_path = os.path.join(output_folder, \"highlighted_output.pdf\")"
   ]
  },
  {
   "cell_type": "code",
   "execution_count": 68,
   "id": "d386f737",
   "metadata": {},
   "outputs": [],
   "source": [
    "llm = ChatOpenAI(model_name=\"gpt-3.5-turbo\", temperature=0.7)"
   ]
  },
  {
   "cell_type": "markdown",
   "id": "d11f4970",
   "metadata": {},
   "source": [
    "# Vectorize PDF Document"
   ]
  },
  {
   "cell_type": "code",
   "execution_count": 5,
   "id": "6f670b2b",
   "metadata": {},
   "outputs": [],
   "source": [
    "pdf_path = \"C:\\\\gitworkspace\\\\aimldemo\\\\AIML Demo\\\\Python Demo\\\\pythonbasics\\\\doc_inputs\\\\Form_2287.pdf\""
   ]
  },
  {
   "cell_type": "code",
   "execution_count": 6,
   "id": "415e43b0",
   "metadata": {},
   "outputs": [],
   "source": [
    "db_path = \"chroma_db\""
   ]
  },
  {
   "cell_type": "code",
   "execution_count": 9,
   "id": "eff548f5",
   "metadata": {},
   "outputs": [
    {
     "name": "stdout",
     "output_type": "stream",
     "text": [
      "[INFO] Deleting existing Chroma database at chroma_db to avoid conflicts.\n"
     ]
    }
   ],
   "source": [
    "if os.path.exists(db_path):\n",
    "        print(f\"[INFO] Deleting existing Chroma database at {db_path} to avoid conflicts.\")\n",
    "        shutil.rmtree(db_path, ignore_errors=True)"
   ]
  },
  {
   "cell_type": "code",
   "execution_count": 14,
   "id": "5b777506",
   "metadata": {},
   "outputs": [],
   "source": [
    "embeddings = HuggingFaceEmbeddings()"
   ]
  },
  {
   "cell_type": "code",
   "execution_count": 15,
   "id": "441b2f26",
   "metadata": {},
   "outputs": [],
   "source": [
    "chroma_settings = Settings(persist_directory=db_path, anonymized_telemetry=False)"
   ]
  },
  {
   "cell_type": "code",
   "execution_count": 20,
   "id": "da83efca",
   "metadata": {},
   "outputs": [],
   "source": [
    "vector_db = Chroma(persist_directory=db_path, embedding_function=embeddings, client_settings=chroma_settings)"
   ]
  },
  {
   "cell_type": "code",
   "execution_count": 21,
   "id": "27a1e5bb",
   "metadata": {},
   "outputs": [],
   "source": [
    "def extract_chunks_with_coordinates(pdf_path, chunk_size=chunk_size, chunk_overlap=chunk_overlap):\n",
    "    \"\"\"Extract chunks from the PDF along with their coordinates (bounding boxes).\"\"\"\n",
    "    doc = fitz.open(pdf_path)\n",
    "    chunks_with_metadata = []\n",
    "\n",
    "    for page_num in range(len(doc)):\n",
    "        page = doc[page_num]\n",
    "        page_text = page.get_text(\"blocks\")\n",
    "        full_text = \" \".join(block[4] for block in page_text)\n",
    "\n",
    "        splitter = RecursiveCharacterTextSplitter(chunk_size=chunk_size, chunk_overlap=chunk_overlap)\n",
    "        text_chunks = splitter.split_text(full_text)\n",
    "\n",
    "        for chunk in text_chunks:\n",
    "            coordinates = []\n",
    "            search_results = page.search_for(chunk)\n",
    "            for rect in search_results:\n",
    "                coordinates.append((rect.x0, rect.y0, rect.x1, rect.y1))\n",
    "\n",
    "            chunks_with_metadata.append({\n",
    "                \"text\": chunk,\n",
    "                \"page\": page_num,\n",
    "                \"coordinates\": coordinates\n",
    "            })\n",
    "\n",
    "    return chunks_with_metadata"
   ]
  },
  {
   "cell_type": "code",
   "execution_count": 22,
   "id": "12b19004",
   "metadata": {},
   "outputs": [],
   "source": [
    "text_chunks_with_metadata = extract_chunks_with_coordinates(pdf_path)"
   ]
  },
  {
   "cell_type": "code",
   "execution_count": 23,
   "id": "279bad1b",
   "metadata": {},
   "outputs": [
    {
     "data": {
      "text/plain": [
       "{'text': 'SBA Form 2287 (04-18) \\n \\n          1 \\n Previous Editions Obsolete \\n  \\n \\n  \\n  \\n  \\n THIRD PARTY LENDER AGREEMENT \\n  \\n \\n \\nTHIS THIRD PARTY LENDER AGREEMENT (“Agreement\") is dated this ______ day \\nof______________, 20____, by and between ________________________________________, \\n(“Third Party Lender”) whose address is ____________________________________________, \\nand________________________________________________________, (“CDC”) whose address is',\n",
       " 'page': 0,\n",
       " 'coordinates': [(74.28336334228516,\n",
       "   736.0769653320312,\n",
       "   161.34852600097656,\n",
       "   747.1239013671875),\n",
       "  (287.99462890625, 736.0769653320312, 290.229736328125, 747.1239013671875),\n",
       "  (395.9959411621094, 736.0769653320312, 424.5137939453125, 747.1239013671875),\n",
       "  (72.0, 745.435546875, 172.51608276367188, 756.4824829101562),\n",
       "  (141.0, 82.16398620605469, 144.0, 98.17198944091797),\n",
       "  (177.0, 82.16398620605469, 180.0, 98.17198944091797),\n",
       "  (138.72000122070312,\n",
       "   107.96397399902344,\n",
       "   141.72000122070312,\n",
       "   123.97197723388672),\n",
       "  (72.0, 133.7639617919922, 75.0, 149.77195739746094),\n",
       "  (306.0, 159.56394958496094, 309.0, 175.5719451904297),\n",
       "  (155.0399932861328,\n",
       "   184.8782196044922,\n",
       "   168.40667724609375,\n",
       "   212.6336212158203),\n",
       "  (168.36000061035156,\n",
       "   189.1377410888672,\n",
       "   214.11094665527344,\n",
       "   211.24234008789062),\n",
       "  (214.0800018310547,\n",
       "   184.8782196044922,\n",
       "   226.32444763183594,\n",
       "   212.6336212158203),\n",
       "  (226.32000732421875,\n",
       "   189.1377410888672,\n",
       "   275.67633056640625,\n",
       "   211.24234008789062),\n",
       "  (275.760009765625, 184.8782196044922, 289.1266784667969, 212.6336212158203),\n",
       "  (289.0799865722656,\n",
       "   189.1377410888672,\n",
       "   349.0002746582031,\n",
       "   211.24234008789062),\n",
       "  (348.9599914550781, 184.8782196044922, 363.4288635253906, 212.6336212158203),\n",
       "  (363.4800109863281,\n",
       "   189.1377410888672,\n",
       "   456.9322509765625,\n",
       "   211.24234008789062),\n",
       "  (456.9599914550781,\n",
       "   193.1639862060547,\n",
       "   459.9599914550781,\n",
       "   209.17198181152344),\n",
       "  (71.99996948242188,\n",
       "   208.4039764404297,\n",
       "   74.99996948242188,\n",
       "   224.41197204589844),\n",
       "  (71.99996948242188,\n",
       "   222.20396423339844,\n",
       "   74.99996948242188,\n",
       "   238.2119598388672),\n",
       "  (71.99996948242188,\n",
       "   235.1639862060547,\n",
       "   74.99996948242188,\n",
       "   251.17198181152344),\n",
       "  (108.0, 236.17486572265625, 505.0855712890625, 250.9022216796875),\n",
       "  (72.00958251953125, 248.771484375, 499.4452819824219, 263.49884033203125),\n",
       "  (72.00961303710938, 261.36810302734375, 500.4130859375, 276.095458984375),\n",
       "  (72.00960540771484,\n",
       "   274.086181640625,\n",
       "   517.8057861328125,\n",
       "   288.81353759765625)]}"
      ]
     },
     "execution_count": 23,
     "metadata": {},
     "output_type": "execute_result"
    }
   ],
   "source": [
    "text_chunks_with_metadata[0]"
   ]
  },
  {
   "cell_type": "code",
   "execution_count": 24,
   "id": "3746df7c",
   "metadata": {},
   "outputs": [],
   "source": [
    "chunk_texts = [item[\"text\"] for item in text_chunks_with_metadata]\n",
    "metadata = [{\"page\": item[\"page\"], \"coordinates\": json.dumps(item[\"coordinates\"])} for item in text_chunks_with_metadata]"
   ]
  },
  {
   "cell_type": "code",
   "execution_count": 26,
   "id": "761b049d",
   "metadata": {},
   "outputs": [
    {
     "data": {
      "text/plain": [
       "'SBA Form 2287 (04-18) \\n \\n          1 \\n Previous Editions Obsolete \\n  \\n \\n  \\n  \\n  \\n THIRD PARTY LENDER AGREEMENT \\n  \\n \\n \\nTHIS THIRD PARTY LENDER AGREEMENT (“Agreement\") is dated this ______ day \\nof______________, 20____, by and between ________________________________________, \\n(“Third Party Lender”) whose address is ____________________________________________, \\nand________________________________________________________, (“CDC”) whose address is'"
      ]
     },
     "execution_count": 26,
     "metadata": {},
     "output_type": "execute_result"
    }
   ],
   "source": [
    "chunk_texts[0]"
   ]
  },
  {
   "cell_type": "code",
   "execution_count": 27,
   "id": "0c402efa",
   "metadata": {},
   "outputs": [
    {
     "data": {
      "text/plain": [
       "{'page': 0,\n",
       " 'coordinates': '[[74.28336334228516, 736.0769653320312, 161.34852600097656, 747.1239013671875], [287.99462890625, 736.0769653320312, 290.229736328125, 747.1239013671875], [395.9959411621094, 736.0769653320312, 424.5137939453125, 747.1239013671875], [72.0, 745.435546875, 172.51608276367188, 756.4824829101562], [141.0, 82.16398620605469, 144.0, 98.17198944091797], [177.0, 82.16398620605469, 180.0, 98.17198944091797], [138.72000122070312, 107.96397399902344, 141.72000122070312, 123.97197723388672], [72.0, 133.7639617919922, 75.0, 149.77195739746094], [306.0, 159.56394958496094, 309.0, 175.5719451904297], [155.0399932861328, 184.8782196044922, 168.40667724609375, 212.6336212158203], [168.36000061035156, 189.1377410888672, 214.11094665527344, 211.24234008789062], [214.0800018310547, 184.8782196044922, 226.32444763183594, 212.6336212158203], [226.32000732421875, 189.1377410888672, 275.67633056640625, 211.24234008789062], [275.760009765625, 184.8782196044922, 289.1266784667969, 212.6336212158203], [289.0799865722656, 189.1377410888672, 349.0002746582031, 211.24234008789062], [348.9599914550781, 184.8782196044922, 363.4288635253906, 212.6336212158203], [363.4800109863281, 189.1377410888672, 456.9322509765625, 211.24234008789062], [456.9599914550781, 193.1639862060547, 459.9599914550781, 209.17198181152344], [71.99996948242188, 208.4039764404297, 74.99996948242188, 224.41197204589844], [71.99996948242188, 222.20396423339844, 74.99996948242188, 238.2119598388672], [71.99996948242188, 235.1639862060547, 74.99996948242188, 251.17198181152344], [108.0, 236.17486572265625, 505.0855712890625, 250.9022216796875], [72.00958251953125, 248.771484375, 499.4452819824219, 263.49884033203125], [72.00961303710938, 261.36810302734375, 500.4130859375, 276.095458984375], [72.00960540771484, 274.086181640625, 517.8057861328125, 288.81353759765625]]'}"
      ]
     },
     "execution_count": 27,
     "metadata": {},
     "output_type": "execute_result"
    }
   ],
   "source": [
    "metadata[0]"
   ]
  },
  {
   "cell_type": "code",
   "execution_count": 28,
   "id": "0278055d",
   "metadata": {},
   "outputs": [
    {
     "data": {
      "text/plain": [
       "['3a73adcd-f2e4-47e7-8543-749217f82630',\n",
       " 'a05764fa-7e94-4aaf-9a5d-4fd9d4af6400',\n",
       " 'eeb75dbf-7139-4196-a7d9-5451973bbd6d',\n",
       " '79ad2077-0c55-4e2f-a1db-f170b8b7bff2',\n",
       " '46ea2def-e371-4183-b7c4-5a940617ce4c',\n",
       " '2803179f-cd58-46da-ba98-0f5d44e6f966',\n",
       " 'bf8a6693-a6a7-40f7-b9d1-1713cbba9be9',\n",
       " '73666281-ccfb-4e9a-a578-cd8af10cc18a',\n",
       " '51f56c96-5fe8-4cce-9de5-819df3911b4c',\n",
       " 'f2971dcd-f97a-4178-9c40-c02fa45db1e0',\n",
       " 'e121d4ad-b1d6-456a-ba1c-59c6f7a3005b',\n",
       " '30bf1265-8bc6-476f-b854-c4371e6b0484',\n",
       " '67d0200e-a83b-426f-9cb4-0fd526c5eec8',\n",
       " 'c9f9bd51-ec84-49ec-8a50-111068c4a806',\n",
       " 'f5131a96-4503-496c-871a-ae73116d043e',\n",
       " 'f3bb3d44-8c35-446b-8f66-40db0a63a0a0',\n",
       " 'c2c80f12-f8e1-4641-9840-e375c71231d9',\n",
       " '7878c08a-20db-4272-bf8e-66ef9d02a8ab',\n",
       " '7e48fa80-de52-4604-8b67-4711b0138a47',\n",
       " '6fd5076b-7783-48e6-9123-4d488b6cef76',\n",
       " '885d2643-0d0b-4ff6-b36f-5c635e2bf767',\n",
       " 'c6ce05df-4b38-4464-a839-a2f643d5c716',\n",
       " 'd4744246-eefb-4caf-ac2e-0326285d0858',\n",
       " 'b4830c09-0e78-48ea-afed-a0af188ac50d',\n",
       " 'f2fe4a78-e1be-4e26-b7e9-96c7ee1228a8',\n",
       " '820600c5-ddf5-4df8-ba4c-0a740c945d70',\n",
       " 'dfa963ea-6bdf-4cb1-b10a-8b3e9ed5b5f0',\n",
       " 'c8c34e3f-40e5-4184-8e98-80b6670c7065',\n",
       " 'f9c161ee-d1ab-4292-979e-345c5207c9a5',\n",
       " '5f9b1896-135c-4a2f-ae75-39aaaefedbaa',\n",
       " 'b4447014-187b-4e45-9db5-f2c54a4b36af',\n",
       " 'ba22ec5d-f8c9-4682-bb09-190e8175ffac',\n",
       " '4f84309b-27f1-47fa-bbdc-68c20b63f327',\n",
       " 'bb1bfeff-69ae-4990-8bb8-c3ce3c90aa86',\n",
       " '012bf63d-104d-43ce-ade5-3d7e073d7411',\n",
       " '4c30e80d-5d2a-4185-9cf8-ae528f465642',\n",
       " 'b34010ea-1488-4515-8ab2-912f27a3b95a',\n",
       " '90ec7f0d-c467-4883-b4ca-fd1e541e6679',\n",
       " '3a6cc0f0-ddaa-4444-bfff-bbe63cab1e66',\n",
       " '9a02dc97-d4f1-4fca-8664-9fe53d738cfa',\n",
       " 'a646c4e0-5652-435a-9e41-e03ef7e01729',\n",
       " 'a8161434-f2e7-4dcc-b3b3-7d338e954256',\n",
       " 'fb107dee-bb15-4127-8634-42a2eed14470',\n",
       " '6d384ba2-f5b9-4a01-b2b8-febdcf6e1a69',\n",
       " '06f5df8b-127d-403e-a24b-5e5c62022ef9']"
      ]
     },
     "execution_count": 28,
     "metadata": {},
     "output_type": "execute_result"
    }
   ],
   "source": [
    "vector_db.add_texts(chunk_texts, metadatas=metadata)"
   ]
  },
  {
   "cell_type": "code",
   "execution_count": 29,
   "id": "ec7325f1",
   "metadata": {},
   "outputs": [
    {
     "name": "stderr",
     "output_type": "stream",
     "text": [
      "C:\\Users\\jimmy\\AppData\\Local\\Temp\\ipykernel_39092\\2766552738.py:1: LangChainDeprecationWarning: Since Chroma 0.4.x the manual persistence method is no longer supported as docs are automatically persisted.\n",
      "  vector_db.persist()\n"
     ]
    }
   ],
   "source": [
    "vector_db.persist()"
   ]
  },
  {
   "cell_type": "markdown",
   "id": "2ddfa308",
   "metadata": {},
   "source": [
    "# Chat Query"
   ]
  },
  {
   "cell_type": "code",
   "execution_count": 34,
   "id": "18da39b6",
   "metadata": {},
   "outputs": [],
   "source": [
    "query = 'What does this document say about Balloon payments?'"
   ]
  },
  {
   "cell_type": "code",
   "execution_count": 60,
   "id": "778483d7",
   "metadata": {},
   "outputs": [],
   "source": [
    "chat_history = [\n",
    "    \"CDC agrees to make the 504 Loan to the Borrower subject to what?\",\n",
    "    \"SBA's approval.\",\n",
    "    \"Third Party Lender waives its rights for what?\",\n",
    "    \"Third Party Lender waives its rights to enforce provisions that do not comply with the 504 Loan Program Requirements.\"    \n",
    "]"
   ]
  },
  {
   "cell_type": "code",
   "execution_count": 61,
   "id": "ec517753",
   "metadata": {},
   "outputs": [],
   "source": [
    "llm_instruction = 'Please answer the question by carefully considering both the provided context and the chat history. Use the context for accurate information and take into account any relevant details from the chat history to generate a well-informed response. If enough information is not avaiable, please respond saying There is not enough information to answer the question'"
   ]
  },
  {
   "cell_type": "markdown",
   "id": "b9775096",
   "metadata": {},
   "source": [
    "# Fetch relevent chunks from Vector DB"
   ]
  },
  {
   "cell_type": "code",
   "execution_count": 38,
   "id": "122de57f",
   "metadata": {},
   "outputs": [],
   "source": [
    "top_chunks_with_scores = vector_db.similarity_search_with_score(query, k=3)"
   ]
  },
  {
   "cell_type": "code",
   "execution_count": 39,
   "id": "239bab94",
   "metadata": {},
   "outputs": [
    {
     "data": {
      "text/plain": [
       "[(Document(metadata={'coordinates': '[[107.99996948242188, 285.3695983886719, 534.00146484375, 300.0969543457031], [107.99996948242188, 297.96624755859375, 532.0783081054688, 312.693603515625], [107.99996948242188, 310.684326171875, 413.28912353515625, 325.41168212890625], [432.012939453125, 310.684326171875, 434.77294921875, 325.41168212890625], [108.0, 323.2948913574219, 110.76000213623047, 338.0222473144531], [108.0, 336.014892578125, 110.76000213623047, 350.74224853515625], [144.00143432617188, 336.014892578125, 153.12046813964844, 350.74224853515625], [180.00286865234375, 336.014892578125, 525.3757934570312, 350.74224853515625], [108.0, 348.6148681640625, 503.7100524902344, 363.34222412109375]]', 'page': 2}, page_content='overall loan maturity must be calculated, taking into account the amounts and maturities of each \\nloan.  Any balloon payment for the Third Party Loan must be clearly identified and disclosed to \\nSBA and approved at application or subsequently approved by SBA. \\n \\n  \\n \\nf. \\nReasonable Interest Rate.  The Third Party Loan has a reasonable interest rate \\n which does not and will not exceed the maximum interest rate for Third Party Loans from'),\n",
       "  1.055420160293579),\n",
       " (Document(metadata={'coordinates': '[[144.00286865234375, 639.494873046875, 207.36141967773438, 654.2222290039062], [72.0, 652.21484375, 74.76000213623047, 666.9421997070312], [108.00143432617188, 652.21484375, 110.76143646240234, 666.9421997070312], [144.00286865234375, 652.21484375, 146.7628631591797, 666.9421997070312], [71.99999237060547, 664.8115234375, 74.75999450683594, 679.5388793945312], [108.00143432617188, 664.8115234375, 110.76143646240234, 679.5388793945312], [144.00286865234375, 664.8115234375, 154.08238220214844, 679.5388793945312], [180.00430297851562, 664.8115234375, 527.5213623046875, 679.5388793945312], [108.00140380859375, 677.5296020507812, 531.2487182617188, 692.2569580078125], [108.01240539550781, 690.126220703125, 199.80224609375, 704.8535766601562]]', 'page': 2}, page_content='Provisions.      \\n  \\n \\n \\n  \\n \\na. \\nThe term \"Default Charges\" used in this paragraph includes, but is not limited to, \\nprepayment penalties, late fees, other default charges, and escalated interest after default due under \\nthe Third Party Loan.'),\n",
       "  1.2663999795913696),\n",
       " (Document(metadata={'coordinates': '[[108.0, 361.2115173339844, 538.9165649414062, 375.9388732910156], [108.0, 373.93487548828125, 287.0357360839844, 388.6622314453125], [108.0, 386.5348815917969, 110.76000213623047, 401.2622375488281], [72.0, 399.2548828125, 82.6756820678711, 413.98223876953125], [107.99040222167969, 399.2548828125, 532.0621337890625, 413.98223876953125], [72.0, 411.8548889160156, 537.002685546875, 426.5822448730469], [72.0, 424.4515380859375, 537.1152954101562, 439.17889404296875]]', 'page': 2}, page_content=\"commercial financial institutions as published periodically by SBA in the Federal Register and in \\neffect as of the date of this Agreement.   \\n \\n 6. \\nMarshaling of Assets.  If the Third Party Lender takes additional collateral as security for the Third \\n Party Loan, in the case of liquidation, any proceeds received from such additional collateral, must be applied \\nto the Third Party Lender's Loan prior to the proceeds from the liquidation of the Common Collateral held by\"),\n",
       "  1.3207505941390991)]"
      ]
     },
     "execution_count": 39,
     "metadata": {},
     "output_type": "execute_result"
    }
   ],
   "source": [
    "top_chunks_with_scores"
   ]
  },
  {
   "cell_type": "code",
   "execution_count": 40,
   "id": "373c9f0b",
   "metadata": {},
   "outputs": [],
   "source": [
    "# Extract chunk texts for cross-encoding\n",
    "top_chunks = [chunk.page_content for chunk, _ in top_chunks_with_scores]"
   ]
  },
  {
   "cell_type": "code",
   "execution_count": 41,
   "id": "69a81ae7",
   "metadata": {},
   "outputs": [],
   "source": [
    "cross_encoder = CrossEncoder(\"cross-encoder/ms-marco-MiniLM-L-6-v2\")"
   ]
  },
  {
   "cell_type": "code",
   "execution_count": 43,
   "id": "dd3f88ed",
   "metadata": {},
   "outputs": [],
   "source": [
    "query_chunk_pairs = [(query, chunk) for chunk in top_chunks]"
   ]
  },
  {
   "cell_type": "code",
   "execution_count": 44,
   "id": "c8c6c273",
   "metadata": {},
   "outputs": [
    {
     "data": {
      "text/plain": [
       "[('What does this document say about Balloon payments?',\n",
       "  'overall loan maturity must be calculated, taking into account the amounts and maturities of each \\nloan.  Any balloon payment for the Third Party Loan must be clearly identified and disclosed to \\nSBA and approved at application or subsequently approved by SBA. \\n \\n  \\n \\nf. \\nReasonable Interest Rate.  The Third Party Loan has a reasonable interest rate \\n which does not and will not exceed the maximum interest rate for Third Party Loans from'),\n",
       " ('What does this document say about Balloon payments?',\n",
       "  'Provisions.      \\n  \\n \\n \\n  \\n \\na. \\nThe term \"Default Charges\" used in this paragraph includes, but is not limited to, \\nprepayment penalties, late fees, other default charges, and escalated interest after default due under \\nthe Third Party Loan.'),\n",
       " ('What does this document say about Balloon payments?',\n",
       "  \"commercial financial institutions as published periodically by SBA in the Federal Register and in \\neffect as of the date of this Agreement.   \\n \\n 6. \\nMarshaling of Assets.  If the Third Party Lender takes additional collateral as security for the Third \\n Party Loan, in the case of liquidation, any proceeds received from such additional collateral, must be applied \\nto the Third Party Lender's Loan prior to the proceeds from the liquidation of the Common Collateral held by\")]"
      ]
     },
     "execution_count": 44,
     "metadata": {},
     "output_type": "execute_result"
    }
   ],
   "source": [
    "query_chunk_pairs"
   ]
  },
  {
   "cell_type": "code",
   "execution_count": 45,
   "id": "899f91a3",
   "metadata": {},
   "outputs": [],
   "source": [
    "cross_encoded_scores = cross_encoder.predict(query_chunk_pairs)"
   ]
  },
  {
   "cell_type": "code",
   "execution_count": 47,
   "id": "caec509d",
   "metadata": {},
   "outputs": [],
   "source": [
    "# Pair chunks with their cross-encoder scores and sort them in descending order\n",
    "ranked_chunks_with_scores = sorted(\n",
    "    zip(top_chunks_with_scores, cross_encoded_scores),\n",
    "    key=lambda x: x[1],  # Sort by score (descending)\n",
    "    reverse=True\n",
    ")"
   ]
  },
  {
   "cell_type": "code",
   "execution_count": 51,
   "id": "0157b74b",
   "metadata": {},
   "outputs": [],
   "source": [
    "top_chunk_cross_encoded, top_cross_encoded_score = ranked_chunks_with_scores[0][0]"
   ]
  },
  {
   "cell_type": "code",
   "execution_count": 57,
   "id": "93b43789",
   "metadata": {},
   "outputs": [],
   "source": [
    "metadata_of_top_chunk = top_chunk_cross_encoded.metadata"
   ]
  },
  {
   "cell_type": "code",
   "execution_count": 58,
   "id": "af72b15a",
   "metadata": {},
   "outputs": [
    {
     "data": {
      "text/plain": [
       "Document(metadata={'coordinates': '[[107.99996948242188, 285.3695983886719, 534.00146484375, 300.0969543457031], [107.99996948242188, 297.96624755859375, 532.0783081054688, 312.693603515625], [107.99996948242188, 310.684326171875, 413.28912353515625, 325.41168212890625], [432.012939453125, 310.684326171875, 434.77294921875, 325.41168212890625], [108.0, 323.2948913574219, 110.76000213623047, 338.0222473144531], [108.0, 336.014892578125, 110.76000213623047, 350.74224853515625], [144.00143432617188, 336.014892578125, 153.12046813964844, 350.74224853515625], [180.00286865234375, 336.014892578125, 525.3757934570312, 350.74224853515625], [108.0, 348.6148681640625, 503.7100524902344, 363.34222412109375]]', 'page': 2}, page_content='overall loan maturity must be calculated, taking into account the amounts and maturities of each \\nloan.  Any balloon payment for the Third Party Loan must be clearly identified and disclosed to \\nSBA and approved at application or subsequently approved by SBA. \\n \\n  \\n \\nf. \\nReasonable Interest Rate.  The Third Party Loan has a reasonable interest rate \\n which does not and will not exceed the maximum interest rate for Third Party Loans from')"
      ]
     },
     "execution_count": 58,
     "metadata": {},
     "output_type": "execute_result"
    }
   ],
   "source": [
    "top_chunk_cross_encoded"
   ]
  },
  {
   "cell_type": "code",
   "execution_count": 59,
   "id": "3777fb28",
   "metadata": {},
   "outputs": [
    {
     "data": {
      "text/plain": [
       "{'coordinates': '[[107.99996948242188, 285.3695983886719, 534.00146484375, 300.0969543457031], [107.99996948242188, 297.96624755859375, 532.0783081054688, 312.693603515625], [107.99996948242188, 310.684326171875, 413.28912353515625, 325.41168212890625], [432.012939453125, 310.684326171875, 434.77294921875, 325.41168212890625], [108.0, 323.2948913574219, 110.76000213623047, 338.0222473144531], [108.0, 336.014892578125, 110.76000213623047, 350.74224853515625], [144.00143432617188, 336.014892578125, 153.12046813964844, 350.74224853515625], [180.00286865234375, 336.014892578125, 525.3757934570312, 350.74224853515625], [108.0, 348.6148681640625, 503.7100524902344, 363.34222412109375]]',\n",
       " 'page': 2}"
      ]
     },
     "execution_count": 59,
     "metadata": {},
     "output_type": "execute_result"
    }
   ],
   "source": [
    "metadata_of_top_chunk"
   ]
  },
  {
   "cell_type": "markdown",
   "id": "659ad976",
   "metadata": {},
   "source": [
    "# LLM query"
   ]
  },
  {
   "cell_type": "code",
   "execution_count": 71,
   "id": "e32fb893",
   "metadata": {},
   "outputs": [],
   "source": [
    "# Create the prompt\n",
    "template = \"\"\"\n",
    "Context: \n",
    "{context}\n",
    "\n",
    "Chat history:\n",
    "{chat_history}\n",
    "\n",
    "Instruction: \n",
    "{llm_instruction}\n",
    "\n",
    "User question: {question}\n",
    "\"\"\""
   ]
  },
  {
   "cell_type": "code",
   "execution_count": 72,
   "id": "b2012c7a",
   "metadata": {},
   "outputs": [],
   "source": [
    "formatted_prompt = PromptTemplate.from_template(template).format(\n",
    "            context=top_chunk_cross_encoded.page_content, chat_history=\"\\n\".join(chat_history), question=query, llm_instruction=llm_instruction\n",
    "        )"
   ]
  },
  {
   "cell_type": "code",
   "execution_count": 73,
   "id": "c51aaca3",
   "metadata": {},
   "outputs": [
    {
     "data": {
      "text/plain": [
       "\"\\nContext: \\noverall loan maturity must be calculated, taking into account the amounts and maturities of each \\nloan.  Any balloon payment for the Third Party Loan must be clearly identified and disclosed to \\nSBA and approved at application or subsequently approved by SBA. \\n \\n  \\n \\nf. \\nReasonable Interest Rate.  The Third Party Loan has a reasonable interest rate \\n which does not and will not exceed the maximum interest rate for Third Party Loans from\\n\\nChat history:\\nCDC agrees to make the 504 Loan to the Borrower subject to what?\\nSBA's approval.\\nThird Party Lender waives its rights for what?\\nThird Party Lender waives its rights to enforce provisions that do not comply with the 504 Loan Program Requirements.\\n\\nInstruction: \\nPlease answer the question by carefully considering both the provided context and the chat history. Use the context for accurate information and take into account any relevant details from the chat history to generate a well-informed response. If enough information is not avaiable, please respond saying There is not enough information to answer the question\\n\\nUser question: What does this document say about Balloon payments?\\n\""
      ]
     },
     "execution_count": 73,
     "metadata": {},
     "output_type": "execute_result"
    }
   ],
   "source": [
    "formatted_prompt"
   ]
  },
  {
   "cell_type": "code",
   "execution_count": 91,
   "id": "6db01b34",
   "metadata": {},
   "outputs": [],
   "source": [
    "# Get response from LLM\n",
    "llm_response = llm.predict(formatted_prompt)"
   ]
  },
  {
   "cell_type": "code",
   "execution_count": 92,
   "id": "f9dcf023",
   "metadata": {},
   "outputs": [
    {
     "name": "stdout",
     "output_type": "stream",
     "text": [
      "##################################################\n",
      "This document indicates that any balloon payment for the Third Party Loan must be clearly identified and disclosed to SBA and approved at application or subsequently approved by SBA.\n"
     ]
    }
   ],
   "source": [
    "print(\"#\"*50)\n",
    "print(llm_response)"
   ]
  },
  {
   "cell_type": "markdown",
   "id": "95f1fbe6",
   "metadata": {},
   "source": [
    "# PDF Highlighting"
   ]
  },
  {
   "cell_type": "code",
   "execution_count": 156,
   "id": "178c6963",
   "metadata": {},
   "outputs": [],
   "source": [
    "# Configurable cosine similarity threshold\n",
    "COSINE_SIMILARITY_THRESHOLD = 0.5"
   ]
  },
  {
   "cell_type": "code",
   "execution_count": 117,
   "id": "19161a5c",
   "metadata": {},
   "outputs": [],
   "source": [
    "page_num =  metadata_of_top_chunk[\"page\"]"
   ]
  },
  {
   "cell_type": "code",
   "execution_count": 118,
   "id": "87b0c048",
   "metadata": {},
   "outputs": [
    {
     "data": {
      "text/plain": [
       "2"
      ]
     },
     "execution_count": 118,
     "metadata": {},
     "output_type": "execute_result"
    }
   ],
   "source": [
    "page_num"
   ]
  },
  {
   "cell_type": "code",
   "execution_count": 131,
   "id": "fd852b90",
   "metadata": {},
   "outputs": [],
   "source": [
    "coordinates_str = metadata_of_top_chunk[\"coordinates\"]"
   ]
  },
  {
   "cell_type": "code",
   "execution_count": 134,
   "id": "3ae28fee",
   "metadata": {},
   "outputs": [
    {
     "data": {
      "text/plain": [
       "'[[107.99996948242188, 285.3695983886719, 534.00146484375, 300.0969543457031], [107.99996948242188, 297.96624755859375, 532.0783081054688, 312.693603515625], [107.99996948242188, 310.684326171875, 413.28912353515625, 325.41168212890625], [432.012939453125, 310.684326171875, 434.77294921875, 325.41168212890625], [108.0, 323.2948913574219, 110.76000213623047, 338.0222473144531], [108.0, 336.014892578125, 110.76000213623047, 350.74224853515625], [144.00143432617188, 336.014892578125, 153.12046813964844, 350.74224853515625], [180.00286865234375, 336.014892578125, 525.3757934570312, 350.74224853515625], [108.0, 348.6148681640625, 503.7100524902344, 363.34222412109375]]'"
      ]
     },
     "execution_count": 134,
     "metadata": {},
     "output_type": "execute_result"
    }
   ],
   "source": [
    "coordinates_str"
   ]
  },
  {
   "cell_type": "code",
   "execution_count": 165,
   "id": "56cfa411",
   "metadata": {},
   "outputs": [],
   "source": [
    "coordinates = json.loads(coordinates_str)"
   ]
  },
  {
   "cell_type": "code",
   "execution_count": 166,
   "id": "2b02d316",
   "metadata": {},
   "outputs": [
    {
     "data": {
      "text/plain": [
       "[[107.99996948242188, 285.3695983886719, 534.00146484375, 300.0969543457031],\n",
       " [107.99996948242188, 297.96624755859375, 532.0783081054688, 312.693603515625],\n",
       " [107.99996948242188,\n",
       "  310.684326171875,\n",
       "  413.28912353515625,\n",
       "  325.41168212890625],\n",
       " [432.012939453125, 310.684326171875, 434.77294921875, 325.41168212890625],\n",
       " [108.0, 323.2948913574219, 110.76000213623047, 338.0222473144531],\n",
       " [108.0, 336.014892578125, 110.76000213623047, 350.74224853515625],\n",
       " [144.00143432617188,\n",
       "  336.014892578125,\n",
       "  153.12046813964844,\n",
       "  350.74224853515625],\n",
       " [180.00286865234375, 336.014892578125, 525.3757934570312, 350.74224853515625],\n",
       " [108.0, 348.6148681640625, 503.7100524902344, 363.34222412109375]]"
      ]
     },
     "execution_count": 166,
     "metadata": {},
     "output_type": "execute_result"
    }
   ],
   "source": [
    "coordinates"
   ]
  },
  {
   "cell_type": "code",
   "execution_count": 136,
   "id": "6086d415",
   "metadata": {},
   "outputs": [
    {
     "data": {
      "text/plain": [
       "'C:\\\\gitworkspace\\\\aimldemo\\\\AIML Demo\\\\Python Demo\\\\pythonbasics\\\\doc_inputs\\\\Form_2287.pdf'"
      ]
     },
     "execution_count": 136,
     "metadata": {},
     "output_type": "execute_result"
    }
   ],
   "source": [
    "pdf_path"
   ]
  },
  {
   "cell_type": "code",
   "execution_count": 137,
   "id": "0535880d",
   "metadata": {},
   "outputs": [
    {
     "data": {
      "text/plain": [
       "'C:\\\\gitworkspace\\\\aimldemo\\\\AIML Demo\\\\Python Demo\\\\pythonbasics\\\\doc_outputs\\\\highlighted_output.pdf'"
      ]
     },
     "execution_count": 137,
     "metadata": {},
     "output_type": "execute_result"
    }
   ],
   "source": [
    "highlighted_pdf_path"
   ]
  },
  {
   "cell_type": "code",
   "execution_count": 138,
   "id": "f5a6d4d3",
   "metadata": {},
   "outputs": [],
   "source": [
    "doc = fitz.open(pdf_path)"
   ]
  },
  {
   "cell_type": "code",
   "execution_count": 139,
   "id": "ae321497",
   "metadata": {},
   "outputs": [],
   "source": [
    "page = doc.load_page(page_num)"
   ]
  },
  {
   "cell_type": "code",
   "execution_count": 140,
   "id": "7b5499bd",
   "metadata": {},
   "outputs": [
    {
     "data": {
      "text/plain": [
       "pymupdf.Page"
      ]
     },
     "execution_count": 140,
     "metadata": {},
     "output_type": "execute_result"
    }
   ],
   "source": [
    "type(page) "
   ]
  },
  {
   "cell_type": "code",
   "execution_count": 141,
   "id": "24208367",
   "metadata": {},
   "outputs": [
    {
     "data": {
      "text/plain": [
       "' \\n \\n \\n \\n SBA Form 2287 (04-18) \\n \\n          3 \\n Previous Editions Obsolete \\nfailure to pay taxes when due or violation of  any financial covenants which would cause a prudent \\nlender to believe that the  prospect of payment or performance of the Third Party Note is impaired. \\n \\n \\nc. \\nNo Cross-Collateralization.   Third Party Lender agrees that the Common Collateral \\nwill only secure its Third Party Loan and the Common Collateral is not currently, and will not be \\nused in the future, as security for any other financing provided by Third Party Lender to Borrower \\nthat purports to be in a superior position to that of the CDC Lien, unless authorized in writing by \\nCDC and SBA. \\n \\n \\nd. \\nNo Cross-Default.   During the term of the 504 Loan, Third Party Lender will not \\nexercise any cross-default, \"deem at-risk,\" or any other provisions in documents evidencing the Third \\nParty Loan or Third Party Lender Lien which allow Third Party Lender to make demand on the \\nThird Party Loan prior to maturity unless the Third Party Loan is in material default.   \\n \\n \\ne. \\nMaturity and Balloon Payments.   The Third Party Loan must have a term of at \\nleast 7 years (when the 504 loan is for a term of 10 years), or a term of at least10 years (when the \\n504 loan is for 20 or 25 years).  If the Third Party Lender has made more than one loan, then an \\noverall loan maturity must be calculated, taking into account the amounts and maturities of each \\nloan.  Any balloon payment for the Third Party Loan must be clearly identified and disclosed to \\nSBA and approved at application or subsequently approved by SBA. \\n \\n \\n \\nf. \\nReasonable Interest Rate.  The Third Party Loan has a reasonable interest rate \\nwhich does not and will not exceed the maximum interest rate for Third Party Loans from \\ncommercial financial institutions as published periodically by SBA in the Federal Register and in \\neffect as of the date of this Agreement.   \\n \\n6. \\nMarshaling of Assets.  If the Third Party Lender takes additional collateral as security for the Third \\nParty Loan, in the case of liquidation, any proceeds received from such additional collateral, must be applied \\nto the Third Party Lender\\'s Loan prior to the proceeds from the liquidation of the Common Collateral held by \\nthe CDC/SBA and the Third Party Lender.  If the additional collateral no longer exists at the time of \\nliquidation, or has insufficient value to justify the cost of collection, then the Third Party Lender is not \\nrequired to liquidate such collateral, provided the Third Party Lender notifies CDC/SBA.   \\n \\n7. \\nNotice of Default under the Third Party Loan.   Within thirty (30) days after the expiration of any \\ncure period for any continuing material default of the Third Party Loan or Third Party Lender Lien, Third \\nParty Lender must provide written notice (referencing SBA’s loan number for the 504 Loan) of the default to \\nCDC and SBA.  At least sixty 60 days prior to any legal proceedings against or liquidation of the Common \\nCollateral (not including sending a demand letter), Third Party Lender must provide SBA with written notice \\nof its intent to do so. \\n \\n8. \\nLimitation on Default Interest Rate.   Third Party Lender may not escalate the rate of interest upon \\ndefault to a rate greater than the maximum rate published by SBA in the Federal Register.  SBA will only pay \\nthe interest rate on the note in effect before the date of Borrower’s default. \\n \\n9. \\n Subordination to 504 Loan and/or CDC Lien, of Amounts Attributable to Default  \\n \\n \\nProvisions.      \\n \\n \\n \\n \\n \\na. \\nThe term \"Default Charges\" used in this paragraph includes, but is not limited to, \\nprepayment penalties, late fees, other default charges, and escalated interest after default due under \\nthe Third Party Loan. \\n \\n \\n \\n'"
      ]
     },
     "execution_count": 141,
     "metadata": {},
     "output_type": "execute_result"
    }
   ],
   "source": [
    "page.get_text()"
   ]
  },
  {
   "cell_type": "code",
   "execution_count": 142,
   "id": "286cf55e",
   "metadata": {},
   "outputs": [],
   "source": [
    "chunk_text = \" \".join(page.get_textbox(fitz.Rect(*coord)) for coord in coordinates)"
   ]
  },
  {
   "cell_type": "code",
   "execution_count": 143,
   "id": "b4cc65de",
   "metadata": {},
   "outputs": [
    {
     "data": {
      "text/plain": [
       "'504 loan is for 20 or 25 years).  If the Third Party Lender has made more than one loan, then an \\noverall loan maturity must be calculated, taking into account the amounts and maturities of each \\nloan.  Any balloon payment for the Third Party Loan must be clearly identified and disclosed to  overall loan maturity must be calculated, taking into account the amounts and maturities of each \\nloan.  Any balloon payment for the Third Party Loan must be clearly identified and disclosed to \\nSBA and approved at application or subsequently approved by SBA. \\n  loan.  Any balloon payment for the Third Party Loan must be clearly \\nSBA and approved at application or subsequently approved by SBA. \\n  nt\\n  S\\n \\n   \\n \\nw f. \\noe Reasonable Interest Rate.  The Third Party Loan has a reasonable interest rate \\nand will not exceed the maximum interest rate for Third Party Loans from   \\nf. \\nReasonable Interest Rate.  The Third Party Loan has a reasonable interest \\nwhich does not and will not exceed the maximum interest rate for Third Party Loans from \\ncommercial financial institutions as published periodically by SBA in the Federal Register'"
      ]
     },
     "execution_count": 143,
     "metadata": {},
     "output_type": "execute_result"
    }
   ],
   "source": [
    "chunk_text"
   ]
  },
  {
   "cell_type": "code",
   "execution_count": 144,
   "id": "1377c2de",
   "metadata": {},
   "outputs": [],
   "source": [
    "sentences = nltk.sent_tokenize(chunk_text)"
   ]
  },
  {
   "cell_type": "code",
   "execution_count": 145,
   "id": "835a7a81",
   "metadata": {},
   "outputs": [],
   "source": [
    "# Initialize Sentence Transformer for cosine similarity\n",
    "similarity_model = SentenceTransformer(\"sentence-transformers/all-MiniLM-L6-v2\")"
   ]
  },
  {
   "cell_type": "code",
   "execution_count": 146,
   "id": "cecb8e1a",
   "metadata": {},
   "outputs": [],
   "source": [
    "# Compute embeddings for the LLM response and sentences\n",
    "llm_response_embedding = similarity_model.encode(llm_response, convert_to_tensor=True)\n",
    "sentence_embeddings = similarity_model.encode(sentences, convert_to_tensor=True)"
   ]
  },
  {
   "cell_type": "code",
   "execution_count": 147,
   "id": "585d9618",
   "metadata": {},
   "outputs": [],
   "source": [
    "# Compute cosine similarities\n",
    "similarities = util.cos_sim(llm_response_embedding, sentence_embeddings)[0].tolist()"
   ]
  },
  {
   "cell_type": "code",
   "execution_count": 149,
   "id": "773cd1ba",
   "metadata": {},
   "outputs": [],
   "source": [
    "# Pair sentences with their similarity scores\n",
    "sentences_with_scores = list(zip(sentences, similarities))"
   ]
  },
  {
   "cell_type": "code",
   "execution_count": 150,
   "id": "2e34a824",
   "metadata": {},
   "outputs": [],
   "source": [
    "# Sort sentences by similarity score in descending order\n",
    "sorted_sentences_with_scores = sorted(sentences_with_scores, key=lambda x: x[1], reverse=True)"
   ]
  },
  {
   "cell_type": "code",
   "execution_count": 154,
   "id": "606e73c6",
   "metadata": {},
   "outputs": [
    {
     "name": "stdout",
     "output_type": "stream",
     "text": [
      "Score: 0.9782, Sentence: Any balloon payment for the Third Party Loan must be clearly identified and disclosed to \n",
      "SBA and approved at application or subsequently approved by SBA.\n",
      "####################\n",
      "Score: 0.9185, Sentence: Any balloon payment for the Third Party Loan must be clearly \n",
      "SBA and approved at application or subsequently approved by SBA.\n",
      "####################\n",
      "Score: 0.7432, Sentence: Any balloon payment for the Third Party Loan must be clearly identified and disclosed to  overall loan maturity must be calculated, taking into account the amounts and maturities of each \n",
      "loan.\n",
      "####################\n",
      "Score: 0.6368, Sentence: The Third Party Loan has a reasonable interest \n",
      "which does not and will not exceed the maximum interest rate for Third Party Loans from \n",
      "commercial financial institutions as published periodically by SBA in the Federal Register\n",
      "####################\n",
      "Score: 0.4901, Sentence: The Third Party Loan has a reasonable interest rate \n",
      "and will not exceed the maximum interest rate for Third Party Loans from   \n",
      "f. \n",
      "Reasonable Interest Rate.\n",
      "####################\n",
      "Score: 0.4317, Sentence: If the Third Party Lender has made more than one loan, then an \n",
      "overall loan maturity must be calculated, taking into account the amounts and maturities of each \n",
      "loan.\n",
      "####################\n",
      "Score: 0.3111, Sentence: loan.\n",
      "####################\n",
      "Score: 0.2624, Sentence: nt\n",
      "  S\n",
      " \n",
      "   \n",
      " \n",
      "w f. \n",
      "oe Reasonable Interest Rate.\n",
      "####################\n",
      "Score: 0.2485, Sentence: 504 loan is for 20 or 25 years).\n",
      "####################\n"
     ]
    }
   ],
   "source": [
    "for sentence, score in sorted_sentences_with_scores:\n",
    "    print(f\"Score: {score:.4f}, Sentence: {sentence}\")\n",
    "    print(\"#\"*20)"
   ]
  },
  {
   "cell_type": "code",
   "execution_count": 157,
   "id": "50fa14d6",
   "metadata": {},
   "outputs": [],
   "source": [
    "# Find high-similarity sentences and their coordinates\n",
    "high_similarity_sentences = []\n",
    "for sentence, score in sorted_sentences_with_scores:\n",
    "    if score >= COSINE_SIMILARITY_THRESHOLD:\n",
    "        search_results = page.search_for(sentence)\n",
    "        if search_results:  # Ensure search_results is not empty\n",
    "            high_similarity_sentences.append(fitz.Rect(*search_results[0]))"
   ]
  },
  {
   "cell_type": "code",
   "execution_count": 158,
   "id": "ffcab16a",
   "metadata": {},
   "outputs": [
    {
     "data": {
      "text/plain": [
       "[Rect(135.36038208007812, 297.96624755859375, 532.0783081054688, 312.693603515625)]"
      ]
     },
     "execution_count": 158,
     "metadata": {},
     "output_type": "execute_result"
    }
   ],
   "source": [
    "high_similarity_sentences"
   ]
  },
  {
   "cell_type": "code",
   "execution_count": 163,
   "id": "4635d498",
   "metadata": {},
   "outputs": [],
   "source": [
    "# Highlight the entire chunk in yellow\n",
    "for coord in coordinates:\n",
    "    rect = fitz.Rect(*coord)\n",
    "    page.add_highlight_annot(rect)"
   ]
  },
  {
   "cell_type": "code",
   "execution_count": 167,
   "id": "3fb04b6c",
   "metadata": {},
   "outputs": [],
   "source": [
    "# Highlight high-similarity sentences in green\n",
    "for rect in high_similarity_sentences:\n",
    "    highlight = page.add_highlight_annot(rect)\n",
    "    highlight.set_colors(stroke=(0, 1, 0))  # Green color\n",
    "    highlight.update()"
   ]
  },
  {
   "cell_type": "code",
   "execution_count": 169,
   "id": "00e2f4af",
   "metadata": {},
   "outputs": [],
   "source": [
    "doc.save(highlighted_pdf_path, garbage=4)\n",
    "doc.close()"
   ]
  },
  {
   "cell_type": "code",
   "execution_count": null,
   "id": "2def8c59",
   "metadata": {},
   "outputs": [],
   "source": []
  }
 ],
 "metadata": {
  "kernelspec": {
   "display_name": "Python 3 (ipykernel)",
   "language": "python",
   "name": "python3"
  },
  "language_info": {
   "codemirror_mode": {
    "name": "ipython",
    "version": 3
   },
   "file_extension": ".py",
   "mimetype": "text/x-python",
   "name": "python",
   "nbconvert_exporter": "python",
   "pygments_lexer": "ipython3",
   "version": "3.11.5"
  }
 },
 "nbformat": 4,
 "nbformat_minor": 5
}
