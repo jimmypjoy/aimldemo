{
 "cells": [
  {
   "cell_type": "code",
   "execution_count": 24,
   "id": "1c072fb8",
   "metadata": {},
   "outputs": [],
   "source": [
    "import os\n",
    "import shutil\n",
    "import json\n",
    "import requests\n",
    "import fitz\n",
    "import nltk\n",
    "from langchain.text_splitter import RecursiveCharacterTextSplitter\n",
    "from langchain_community.vectorstores import Chroma\n",
    "from sentence_transformers import SentenceTransformer, CrossEncoder, util\n",
    "from chromadb.config import Settings\n",
    "from langchain.prompts import PromptTemplate\n",
    "from langchain_openai import ChatOpenAI\n",
    "from transformers import AutoTokenizer\n",
    "import numpy as np"
   ]
  },
  {
   "cell_type": "markdown",
   "id": "5aae055e",
   "metadata": {},
   "source": [
    "# Environment setup"
   ]
  },
  {
   "cell_type": "code",
   "execution_count": 25,
   "id": "65dc69eb",
   "metadata": {},
   "outputs": [],
   "source": [
    "def setup_environment():\n",
    "    import sys\n",
    "    sys.path.append('C:\\\\gitworkspace\\\\aimldemo\\\\jupyterworkapce')\n",
    "    import stratup_env_setup\n",
    "    stratup_env_setup.set_env()"
   ]
  },
  {
   "cell_type": "code",
   "execution_count": 26,
   "id": "ef98e4ce",
   "metadata": {},
   "outputs": [],
   "source": [
    "setup_environment()"
   ]
  },
  {
   "cell_type": "code",
   "execution_count": 27,
   "id": "9aca2911",
   "metadata": {},
   "outputs": [],
   "source": [
    "class HuggingFaceEmbeddings:\n",
    "    \"\"\"Custom wrapper for Hugging Face SentenceTransformer embeddings.\"\"\"\n",
    "    def __init__(self, model_name=\"sentence-transformers/all-MiniLM-L6-v2\"):\n",
    "        self.embedding_model = SentenceTransformer(model_name)\n",
    "    \n",
    "    def embed_documents(self, texts):\n",
    "        \"\"\"Generate embeddings for a list of documents.\"\"\"\n",
    "        return self.embedding_model.encode(texts, convert_to_tensor=False).tolist()\n",
    "    \n",
    "    def embed_query(self, text):\n",
    "        \"\"\"Generate embedding for a single query.\"\"\"\n",
    "        return self.embedding_model.encode(text, convert_to_tensor=False).tolist()"
   ]
  },
  {
   "cell_type": "code",
   "execution_count": 28,
   "id": "eda5a336",
   "metadata": {},
   "outputs": [
    {
     "name": "stderr",
     "output_type": "stream",
     "text": [
      "[nltk_data] Downloading package punkt to\n",
      "[nltk_data]     C:\\Users\\jimmy\\AppData\\Roaming\\nltk_data...\n",
      "[nltk_data]   Package punkt is already up-to-date!\n"
     ]
    },
    {
     "data": {
      "text/plain": [
       "True"
      ]
     },
     "execution_count": 28,
     "metadata": {},
     "output_type": "execute_result"
    }
   ],
   "source": [
    "nltk.download('punkt')"
   ]
  },
  {
   "cell_type": "code",
   "execution_count": 29,
   "id": "0174d28b",
   "metadata": {},
   "outputs": [],
   "source": [
    "# Load tokenizer for all-MiniLM-L6-v2\n",
    "tokenizer = AutoTokenizer.from_pretrained(\"sentence-transformers/all-MiniLM-L6-v2\")"
   ]
  },
  {
   "cell_type": "code",
   "execution_count": 30,
   "id": "11c69f09",
   "metadata": {},
   "outputs": [],
   "source": [
    "#chunk_size=500\n",
    "chunk_size=5000\n",
    "chunk_overlap=50\n",
    "max_token_limit_for_pooling=250"
   ]
  },
  {
   "cell_type": "code",
   "execution_count": 31,
   "id": "ad176da1",
   "metadata": {},
   "outputs": [],
   "source": [
    "pdf_path = \"C:\\\\gitworkspace\\\\aimldemo\\\\AIML Demo\\\\Python Demo\\\\pythonbasics\\\\doc_inputs\\\\Form_2287.pdf\"\n",
    "output_folder = \"C:\\\\gitworkspace\\\\aimldemo\\\\AIML Demo\\\\Python Demo\\\\pythonbasics\\\\doc_outputs\""
   ]
  },
  {
   "cell_type": "code",
   "execution_count": 32,
   "id": "a99d8d9b",
   "metadata": {},
   "outputs": [],
   "source": [
    "highlighted_pdf_path = os.path.join(output_folder, \"highlighted_output.pdf\")"
   ]
  },
  {
   "cell_type": "code",
   "execution_count": 33,
   "id": "d386f737",
   "metadata": {},
   "outputs": [],
   "source": [
    "llm = ChatOpenAI(model_name=\"gpt-3.5-turbo\", temperature=0.7)"
   ]
  },
  {
   "cell_type": "markdown",
   "id": "d11f4970",
   "metadata": {},
   "source": [
    "# Vectorize PDF Document"
   ]
  },
  {
   "cell_type": "code",
   "execution_count": 34,
   "id": "415e43b0",
   "metadata": {},
   "outputs": [],
   "source": [
    "db_path = \"chroma_db\""
   ]
  },
  {
   "cell_type": "code",
   "execution_count": 35,
   "id": "eff548f5",
   "metadata": {},
   "outputs": [],
   "source": [
    "if os.path.exists(db_path):\n",
    "        print(f\"[INFO] Deleting existing Chroma database at {db_path} to avoid conflicts.\")\n",
    "        shutil.rmtree(db_path, ignore_errors=True)"
   ]
  },
  {
   "cell_type": "code",
   "execution_count": 36,
   "id": "5b777506",
   "metadata": {},
   "outputs": [],
   "source": [
    "embeddings = HuggingFaceEmbeddings()"
   ]
  },
  {
   "cell_type": "code",
   "execution_count": 37,
   "id": "441b2f26",
   "metadata": {},
   "outputs": [],
   "source": [
    "chroma_settings = Settings(persist_directory=db_path, anonymized_telemetry=False)"
   ]
  },
  {
   "cell_type": "code",
   "execution_count": 38,
   "id": "da83efca",
   "metadata": {},
   "outputs": [],
   "source": [
    "vector_db = Chroma(persist_directory=db_path, embedding_function=embeddings, client_settings=chroma_settings)"
   ]
  },
  {
   "cell_type": "code",
   "execution_count": 39,
   "id": "81983915",
   "metadata": {},
   "outputs": [],
   "source": [
    "def compute_pooled_embedding(text_chunks, model, pooling_strategy=\"mean\", weighting_strategy=\"equal\"):\n",
    "    \"\"\"Computes pooled embedding for token-limited text chunks\"\"\"\n",
    "    embeddings = model.encode(text_chunks, convert_to_numpy=True)\n",
    "\n",
    "    if weighting_strategy == \"equal\":\n",
    "        weights = np.ones(len(text_chunks)) / len(text_chunks)  # Equal weighting\n",
    "    else:\n",
    "        raise ValueError(\"Unsupported weighting strategy\")\n",
    "\n",
    "    if pooling_strategy == \"mean\":\n",
    "        pooled_embedding = np.average(embeddings, axis=0, weights=weights)\n",
    "    else:\n",
    "        raise ValueError(\"Unsupported pooling strategy\")\n",
    "\n",
    "    return pooled_embedding.tolist()"
   ]
  },
  {
   "cell_type": "code",
   "execution_count": 40,
   "id": "2e9c03aa",
   "metadata": {},
   "outputs": [],
   "source": [
    "# Function to split text into token-based chunks\n",
    "def split_text_by_tokens(text, max_tokens):\n",
    "    \"\"\"Splits a text into chunks of max_tokens tokens using the model's tokenizer.\"\"\"\n",
    "    tokens = tokenizer.encode(text, add_special_tokens=False)\n",
    "    chunks = []\n",
    "    start = 0\n",
    "    while start < len(tokens):\n",
    "        end = min(start + max_tokens, len(tokens))\n",
    "        chunk_text = tokenizer.decode(tokens[start:end])\n",
    "        chunks.append(chunk_text)\n",
    "        start += max_tokens  # No overlap in token-based splitting\n",
    "    return chunks"
   ]
  },
  {
   "cell_type": "code",
   "execution_count": 41,
   "id": "27a1e5bb",
   "metadata": {},
   "outputs": [],
   "source": [
    "def extract_chunks_with_coordinates(pdf_path):\n",
    "    \"\"\"Extract chunks from the PDF along with their coordinates (bounding boxes).\"\"\"\n",
    "    doc = fitz.open(pdf_path)\n",
    "    chunks_with_metadata = []\n",
    "       \n",
    "\n",
    "    for page_num in range(len(doc)):\n",
    "        page = doc[page_num]\n",
    "        page_text = page.get_text(\"blocks\")\n",
    "        full_text = \" \".join(block[4] for block in page_text)\n",
    "\n",
    "        splitter = RecursiveCharacterTextSplitter(chunk_size=chunk_size, chunk_overlap=chunk_overlap)\n",
    "        text_chunks = splitter.split_text(full_text)\n",
    "        \n",
    "        print(\"#\"*50)\n",
    "        print(f\"For page no: {page_num+1} Number of chunks: {len(text_chunks)}\")\n",
    "        # Print token count for each chunk\n",
    "        for i, chunk in enumerate(text_chunks):\n",
    "            token_count = len(tokenizer.encode(chunk, add_special_tokens=True))\n",
    "            print(f\"Chunk {i+1}: {token_count} tokens\")\n",
    "            \n",
    "            # If chunk exceeds max_token_limit_for_pooling, split and pool embeddings\n",
    "            if token_count > max_token_limit_for_pooling:\n",
    "                sub_chunks = split_text_by_tokens(chunk, max_token_limit_for_pooling)\n",
    "                pooled_embedding = compute_pooled_embedding(sub_chunks, embeddings.embedding_model)\n",
    "                final_chunk_text = \" \".join(sub_chunks)  # Merge sub-chunks\n",
    "            else:\n",
    "                pooled_embedding = embeddings.embed_query(chunk)\n",
    "                final_chunk_text = chunk  # Keep original chunk\n",
    "                \n",
    "            # Extract coordinates\n",
    "            coordinates = []\n",
    "            search_results = page.search_for(chunk)\n",
    "            for rect in search_results:\n",
    "                coordinates.append((rect.x0, rect.y0, rect.x1, rect.y1))\n",
    "\n",
    "            # Store chunk with metadata\n",
    "            chunks_with_metadata.append({\n",
    "                \"text\": final_chunk_text,\n",
    "                \"page\": page_num,\n",
    "                \"coordinates\": coordinates,\n",
    "                \"embedding\": pooled_embedding\n",
    "            })\n",
    "\n",
    "    return chunks_with_metadata"
   ]
  },
  {
   "cell_type": "code",
   "execution_count": 42,
   "id": "12b19004",
   "metadata": {},
   "outputs": [
    {
     "name": "stderr",
     "output_type": "stream",
     "text": [
      "Token indices sequence length is longer than the specified maximum sequence length for this model (983 > 512). Running this sequence through the model will result in indexing errors\n"
     ]
    },
    {
     "name": "stdout",
     "output_type": "stream",
     "text": [
      "##################################################\n",
      "For page no: 1 Number of chunks: 1\n",
      "Chunk 1: 983 tokens\n",
      "##################################################\n",
      "For page no: 2 Number of chunks: 1\n",
      "Chunk 1: 787 tokens\n",
      "##################################################\n",
      "For page no: 3 Number of chunks: 1\n",
      "Chunk 1: 776 tokens\n",
      "##################################################\n",
      "For page no: 4 Number of chunks: 1\n",
      "Chunk 1: 770 tokens\n",
      "##################################################\n",
      "For page no: 5 Number of chunks: 1\n",
      "Chunk 1: 876 tokens\n",
      "##################################################\n",
      "For page no: 6 Number of chunks: 1\n",
      "Chunk 1: 608 tokens\n"
     ]
    }
   ],
   "source": [
    "text_chunks_with_metadata = extract_chunks_with_coordinates(pdf_path)"
   ]
  },
  {
   "cell_type": "code",
   "execution_count": 43,
   "id": "279bad1b",
   "metadata": {},
   "outputs": [
    {
     "data": {
      "text/plain": [
       "{'text': 'sba form 2287 ( 04 - 18 ) 1 previous editions obsolete third party lender agreement this third party lender agreement ( “ agreement \" ) is dated this _ _ _ _ _ _ day of _ _ _ _ _ _ _ _ _ _ _ _ _ _, 20 _ _ _ _, by and between _ _ _ _ _ _ _ _ _ _ _ _ _ _ _ _ _ _ _ _ _ _ _ _ _ _ _ _ _ _ _ _ _ _ _ _ _ _ _ _, ( “ third party lender ” ) whose address is _ _ _ _ _ _ _ _ _ _ _ _ _ _ _ _ _ _ _ _ _ _ _ _ _ _ _ _ _ _ _ _ _ _ _ _ _ _ _ _ _ _ _ _, and _ _ _ _ _ _ _ _ _ _ _ _ _ _ _ _ _ _ _ _ _ _ _ _ _ _ _ _ _ _ _ _ _ _ _ _ _ _ _ _ _ _ _ _ _ _ _ _ _ _ _ _ _ _ _ _, ( “ cdc ” ) whose address is _ _ _ _ _ _ _ _ _ _ _ _ _ _ _ _ _ _ _ _ _ _ _ _ _ _ _ _ _ _ _ _ _ _ _ _ _ _ _ _ _ _ _ _ _ _ _ _ _ _ _ _ _ _ _ _ _ _ _ _ _ _ _ _ _. recitals 1. the third party lender and cdc will provide separate loans to the borrower and operating company, if any ( collectively “ borrower ” ), according to the terms in the authorization for debenture guarantee ( sba 504 loan ), as amended ( “ authorization ” ). the third party lender will provide term financing ( “ third party loan ” ), and the cdc will provide a loan ( “ 504 loan ” ) funded by a debenture issued by the cdc and guaranteed by the u. s. small business administration ( “ sba ” ), for purposes of financing the project described in the authorization, which involves the acquisition and / or improvement of the real and / or personal property described below, and in exhibit a attached hereto and incorporated herein by reference ( “ project property ” ) : sba loan # : _ _ _ _ _ _ _ _ _ _ _ _ _ _ _ _ _ _ _ _ _ _ _ _ _ _ _ _ _ _ _ _ _ _ _ _ _ _ _ _ _ _ _ _ _ _ _ _ _ _ sba loan name : _ _ _ _ _ _ _ _ _ _ _ _ _ _ _ _ _ _ _ _ _ _ _ _ _ _ _ _ _ _ _ _ _ _ _ _ _ _ _ _ _ _ _ _ _ _ borrower : _ _ _ _ _ _ _ _ _ _ _ _ _ _ _ _ _ _ _ _ _ _ _ _ _ _ _ _ _ _ _ _ _ _ _ _ _ _ _ _ _ _ _ _ _ _ _ _ _ _ _ _ operating company ( if any ) : _ _ _ _ _ _ _ _ _ _ _ _ _ _ _ _ _ _ _ _ _ _ _ _ _ _ _ _ _ _ _ _ _ _ _ _ _ _ third party loan amount : _ _ _ _ _ _ _ _ _ _ _ _ _ _ _ _ _ _ _ _ _ _ _ _ _ _ _ _ _ _ _ _ _ _ term of third party loan : _ _ _ _ _ _ _ _ _ _ _ _ _ _ _ _ _ _ _ _ _ _ _ _ _ _ _ _ _ _ _ _ _ _ if real property - - project property address : street address : _ _ _ _ _ _ _ _ _ _ _ _ _ _ _ _ _ _ _ _ _ _ _ _ _ _ _ _ _ _ _ _ _ _ _ _ _ city, state, zip code : _ _ _ _ _ _ _ _ _ _ _ _ _ _ _ _ _ _ _ _ _ _ _ _ _ _ _ _ _ _ _ _ _ _ _ _ _ attach legal description as an exhibit. if personal property : describe property, including name of manufacturer, name of equipment, and applicable serial number ( s ) or other identifying numbers for property valued at $ 5000 or more. attach a detailed description as an exhibit. 2. the parties have required the borrower to grant liens on the project property to secure the separate loans advanced by the parties ( “ common collateral ” ), and the lien of the cdc ( “ cdc lien ” ) will be junior and subordinate to the lien of the third party lender ( “ third party lender lien ” ), unless third party lender, cdc and sba agree otherwise in writing.',\n",
       " 'page': 0,\n",
       " 'coordinates': [(74.28336334228516,\n",
       "   736.0769653320312,\n",
       "   161.34852600097656,\n",
       "   747.1239013671875),\n",
       "  (287.99462890625, 736.0769653320312, 290.229736328125, 747.1239013671875),\n",
       "  (395.9959411621094, 736.0769653320312, 424.5137939453125, 747.1239013671875),\n",
       "  (72.0, 745.435546875, 172.51608276367188, 756.4824829101562),\n",
       "  (141.0, 82.16398620605469, 144.0, 98.17198944091797),\n",
       "  (177.0, 82.16398620605469, 180.0, 98.17198944091797),\n",
       "  (138.72000122070312,\n",
       "   107.96397399902344,\n",
       "   141.72000122070312,\n",
       "   123.97197723388672),\n",
       "  (72.0, 133.7639617919922, 75.0, 149.77195739746094),\n",
       "  (306.0, 159.56394958496094, 309.0, 175.5719451904297),\n",
       "  (155.0399932861328,\n",
       "   184.8782196044922,\n",
       "   168.40667724609375,\n",
       "   212.6336212158203),\n",
       "  (168.36000061035156,\n",
       "   189.1377410888672,\n",
       "   214.11094665527344,\n",
       "   211.24234008789062),\n",
       "  (214.0800018310547,\n",
       "   184.8782196044922,\n",
       "   226.32444763183594,\n",
       "   212.6336212158203),\n",
       "  (226.32000732421875,\n",
       "   189.1377410888672,\n",
       "   275.67633056640625,\n",
       "   211.24234008789062),\n",
       "  (275.760009765625, 184.8782196044922, 289.1266784667969, 212.6336212158203),\n",
       "  (289.0799865722656,\n",
       "   189.1377410888672,\n",
       "   349.0002746582031,\n",
       "   211.24234008789062),\n",
       "  (348.9599914550781, 184.8782196044922, 363.4288635253906, 212.6336212158203),\n",
       "  (363.4800109863281,\n",
       "   189.1377410888672,\n",
       "   456.9322509765625,\n",
       "   211.24234008789062),\n",
       "  (456.9599914550781,\n",
       "   193.1639862060547,\n",
       "   459.9599914550781,\n",
       "   209.17198181152344),\n",
       "  (71.99996948242188,\n",
       "   208.4039764404297,\n",
       "   74.99996948242188,\n",
       "   224.41197204589844),\n",
       "  (71.99996948242188,\n",
       "   222.20396423339844,\n",
       "   74.99996948242188,\n",
       "   238.2119598388672),\n",
       "  (71.99996948242188,\n",
       "   235.1639862060547,\n",
       "   74.99996948242188,\n",
       "   251.17198181152344),\n",
       "  (108.0, 236.17486572265625, 505.0855712890625, 250.9022216796875),\n",
       "  (72.00958251953125, 248.771484375, 499.4452819824219, 263.49884033203125),\n",
       "  (72.00961303710938, 261.36810302734375, 500.4130859375, 276.095458984375),\n",
       "  (72.00960540771484, 274.086181640625, 520.587890625, 288.81353759765625),\n",
       "  (72.0206298828125, 286.6828308105469, 434.8944091796875, 301.4101867675781),\n",
       "  (72.00961303710938, 299.4009094238281, 74.76961517333984, 314.1282653808594),\n",
       "  (280.32000732421875,\n",
       "   312.014892578125,\n",
       "   334.4381103515625,\n",
       "   326.74224853515625),\n",
       "  (72.0, 324.6148681640625, 74.76000213623047, 339.34222412109375),\n",
       "  (72.0, 337.33294677734375, 537.5844116210938, 352.060302734375),\n",
       "  (72.0, 349.9295959472656, 533.6344604492188, 364.6569519042969),\n",
       "  (71.98892211914062, 362.6476745605469, 530.0308227539062, 377.3750305175781),\n",
       "  (71.98892211914062, 375.24432373046875, 528.3438720703125, 389.9716796875),\n",
       "  (71.98892211914062, 387.8409729003906, 535.8843994140625, 402.5683288574219),\n",
       "  (71.99996948242188, 400.5590515136719, 542.1231689453125, 415.2864074707031),\n",
       "  (71.99996948242188, 413.15570068359375, 525.9624633789062, 427.883056640625),\n",
       "  (71.99993896484375,\n",
       "   425.873779296875,\n",
       "   125.52185821533203,\n",
       "   440.60113525390625),\n",
       "  (71.99993896484375, 438.4704284667969, 77.39849853515625, 453.1977844238281),\n",
       "  (108.00137329101562,\n",
       "   451.1885070800781,\n",
       "   449.2809143066406,\n",
       "   465.9158630371094),\n",
       "  (108.00137329101562, 463.78515625, 453.5975646972656, 478.51251220703125),\n",
       "  (71.99996948242188, 476.3818054199219, 74.75997161865234, 491.1091613769531),\n",
       "  (108.00140380859375,\n",
       "   476.3818054199219,\n",
       "   447.3599853515625,\n",
       "   491.1091613769531),\n",
       "  (71.99996948242188, 489.0998840332031, 74.75997161865234, 503.8272399902344),\n",
       "  (108.00140380859375, 489.0998840332031, 453.36572265625, 503.8272399902344),\n",
       "  (108.00137329101562,\n",
       "   501.696533203125,\n",
       "   420.84185791015625,\n",
       "   516.4238891601562),\n",
       "  (108.00137329101562,\n",
       "   514.4146118164062,\n",
       "   420.48858642578125,\n",
       "   529.1419677734375),\n",
       "  (108.01242065429688, 527.01123046875, 308.1676330566406, 541.7385864257812),\n",
       "  (108.01243591308594, 539.60791015625, 110.7724380493164, 554.3352661132812),\n",
       "  (144.0138702392578, 539.60791015625, 146.77386474609375, 554.3352661132812),\n",
       "  (180.0153045654297, 539.60791015625, 456.2581787109375, 554.3352661132812),\n",
       "  (108.02346801757812, 552.325927734375, 110.7834701538086, 567.0532836914062),\n",
       "  (144.02490234375, 552.325927734375, 146.78489685058594, 567.0532836914062),\n",
       "  (180.02633666992188, 552.325927734375, 491.0562744140625, 567.0532836914062),\n",
       "  (108.01242065429688,\n",
       "   564.922607421875,\n",
       "   110.77242279052734,\n",
       "   579.6499633789062),\n",
       "  (144.01385498046875, 564.922607421875, 146.7738494873047, 579.6499633789062),\n",
       "  (180.01528930664062, 564.922607421875, 352.6919250488281, 579.6499633789062),\n",
       "  (108.01239013671875,\n",
       "   577.6406860351562,\n",
       "   527.1681518554688,\n",
       "   592.3680419921875),\n",
       "  (108.01239013671875, 590.2373046875, 518.6527099609375, 604.9646606445312),\n",
       "  (108.01239013671875, 602.8339233398438, 337.1918029785156, 617.561279296875),\n",
       "  (71.98892211914062, 615.552001953125, 74.7489242553711, 630.2793579101562),\n",
       "  (71.98892211914062, 628.148681640625, 532.899169921875, 642.8760375976562),\n",
       "  (71.98895263671875, 640.86669921875, 526.1668701171875, 655.5940551757812),\n",
       "  (71.97793579101562, 653.46337890625, 522.0875854492188, 668.1907348632812),\n",
       "  (71.97793579101562,\n",
       "   666.0599975585938,\n",
       "   252.44107055664062,\n",
       "   680.787353515625)],\n",
       " 'embedding': [-0.04264921066351235,\n",
       "  -0.02119720121845603,\n",
       "  -0.021985525963827968,\n",
       "  -0.08267219085246325,\n",
       "  -0.05874320212751627,\n",
       "  0.029916602186858654,\n",
       "  -0.006850443547591567,\n",
       "  0.012695376673946157,\n",
       "  0.035985307302325964,\n",
       "  -0.033638418884947896,\n",
       "  0.035170897375792265,\n",
       "  -0.03573729516938329,\n",
       "  -0.023095199489034712,\n",
       "  -0.00597599963657558,\n",
       "  -0.0035808762186206877,\n",
       "  0.04013284621760249,\n",
       "  -0.035188688430935144,\n",
       "  -0.006376792676746845,\n",
       "  -0.04878004780039191,\n",
       "  0.059904407360590994,\n",
       "  0.070986601524055,\n",
       "  -0.010031024226918817,\n",
       "  -0.02114839933346957,\n",
       "  0.00047163490671664476,\n",
       "  0.03269746247678995,\n",
       "  -0.029283901676535606,\n",
       "  0.06138380942866206,\n",
       "  0.053674799390137196,\n",
       "  -0.022333391243591905,\n",
       "  -0.03846134687773883,\n",
       "  -0.02217149903299287,\n",
       "  0.08718139212578535,\n",
       "  0.046271299943327904,\n",
       "  -0.05078430543653667,\n",
       "  0.1377289667725563,\n",
       "  0.02124914526939392,\n",
       "  -0.07236796338111162,\n",
       "  -0.019509159494191408,\n",
       "  -0.03150531731080264,\n",
       "  0.002835172228515148,\n",
       "  -0.023807730176486075,\n",
       "  -0.058609346277080476,\n",
       "  0.02386894542723894,\n",
       "  -0.025101776875089854,\n",
       "  -0.006980561418458819,\n",
       "  -0.03532247920520604,\n",
       "  -0.03440702427178621,\n",
       "  0.02682699915021658,\n",
       "  0.053335164790041745,\n",
       "  0.02698718151077628,\n",
       "  -0.03818330843932927,\n",
       "  -0.02982236910611391,\n",
       "  -0.03704302525147796,\n",
       "  0.03712700982578099,\n",
       "  -0.054750371258705854,\n",
       "  -0.026195117505267262,\n",
       "  -0.011552800424396992,\n",
       "  -0.02232983079738915,\n",
       "  -0.023032985685858876,\n",
       "  0.009386570178321563,\n",
       "  0.05660844873636961,\n",
       "  0.05631144065409899,\n",
       "  0.01991304906550795,\n",
       "  0.0034332125505898148,\n",
       "  0.010111048584803939,\n",
       "  0.041669297963380814,\n",
       "  -0.0004291487857699394,\n",
       "  -0.01323881244752556,\n",
       "  -0.045487103052437305,\n",
       "  -0.021734854206442833,\n",
       "  0.013376577815506607,\n",
       "  -0.04252942674793303,\n",
       "  -0.030317103723064065,\n",
       "  -0.022869054693728685,\n",
       "  0.010904097463935614,\n",
       "  -0.0170309622772038,\n",
       "  -0.025536908768117428,\n",
       "  0.05495332274585962,\n",
       "  0.02796565811149776,\n",
       "  -0.10679436754435301,\n",
       "  -0.002876636339351535,\n",
       "  -0.0014926997828297317,\n",
       "  -0.04155159799847752,\n",
       "  -0.019833721686154604,\n",
       "  -0.09599478542804718,\n",
       "  0.010597052052617073,\n",
       "  -0.06292783468961716,\n",
       "  0.013400679978076369,\n",
       "  0.06181181129068136,\n",
       "  0.04626921424642205,\n",
       "  0.004057378275319934,\n",
       "  -0.052876594781992026,\n",
       "  0.018933984683826566,\n",
       "  -0.07481290400028229,\n",
       "  0.005181789747439325,\n",
       "  -0.01474596670595929,\n",
       "  -0.03161037573590875,\n",
       "  -0.04193889116868377,\n",
       "  0.052177717443555593,\n",
       "  0.031922625843435526,\n",
       "  -0.01682295836508274,\n",
       "  0.0009950731182470918,\n",
       "  -0.03131635271711275,\n",
       "  -0.01741210650652647,\n",
       "  -0.020591671636793762,\n",
       "  -0.0018052304512821138,\n",
       "  -0.006287950338446535,\n",
       "  -0.0021573801059275866,\n",
       "  0.023745510930893943,\n",
       "  0.02962256762839388,\n",
       "  -0.04471467761322856,\n",
       "  0.03758445009589195,\n",
       "  -0.021841090638190508,\n",
       "  -0.03597296914085746,\n",
       "  -0.022782796761021018,\n",
       "  0.012600708345416933,\n",
       "  -0.02864078967832029,\n",
       "  0.03284683031961322,\n",
       "  0.08888645097613335,\n",
       "  -0.09638454206287861,\n",
       "  0.04011860582977533,\n",
       "  0.026999049354344606,\n",
       "  -0.0198403331451118,\n",
       "  -0.0904048290103674,\n",
       "  -0.0830503343604505,\n",
       "  -0.041860812809318304,\n",
       "  -0.04481960507109761,\n",
       "  -3.0225113390579077e-33,\n",
       "  0.01203744811937213,\n",
       "  -0.030532680306350812,\n",
       "  0.040399361634626985,\n",
       "  0.019373961142264307,\n",
       "  0.027805338613688946,\n",
       "  0.006146497733425349,\n",
       "  0.03141450765542686,\n",
       "  0.050522797740995884,\n",
       "  -0.0942259132862091,\n",
       "  0.04427587892860174,\n",
       "  -0.01245620078407228,\n",
       "  -0.040856751846149564,\n",
       "  0.019082126178545877,\n",
       "  -0.06923929712502286,\n",
       "  -0.021264675015117973,\n",
       "  0.03056773531716317,\n",
       "  -0.02626220916863531,\n",
       "  0.03860321803949773,\n",
       "  -0.007197516853921115,\n",
       "  0.05572852399200201,\n",
       "  0.04476904962211847,\n",
       "  0.009335300652310252,\n",
       "  0.03269433043897152,\n",
       "  0.03531848266720772,\n",
       "  0.08769855555146933,\n",
       "  -0.05315813282504678,\n",
       "  0.02871214458718896,\n",
       "  0.04320158762857318,\n",
       "  0.02200630900915712,\n",
       "  -0.015218477696180344,\n",
       "  0.06163674918934703,\n",
       "  0.0051671783439815044,\n",
       "  0.04166602436453104,\n",
       "  -0.02149645343888551,\n",
       "  0.010264576121699065,\n",
       "  -0.0012317065556999296,\n",
       "  -0.025264555792091414,\n",
       "  -0.06646599993109703,\n",
       "  -0.03498411912005395,\n",
       "  0.03630477702245116,\n",
       "  -0.005619144591037184,\n",
       "  -0.00896352349082008,\n",
       "  0.005847991909831762,\n",
       "  -0.013812356628477573,\n",
       "  0.02299590163238463,\n",
       "  -0.029726339504122734,\n",
       "  0.007779969135299325,\n",
       "  0.03719890397042036,\n",
       "  0.020668549928814173,\n",
       "  0.029148932197131217,\n",
       "  -0.038548137061297894,\n",
       "  0.012049569399096072,\n",
       "  -0.06610356317833066,\n",
       "  -0.020355652901344,\n",
       "  0.006459064781665802,\n",
       "  -0.05215276179660577,\n",
       "  -0.045354809146374464,\n",
       "  0.06474409531801939,\n",
       "  -0.03370661661028862,\n",
       "  -0.014470701105892658,\n",
       "  -0.02499878266826272,\n",
       "  -0.010922648129053414,\n",
       "  -0.03962330939248204,\n",
       "  0.0007418380118906498,\n",
       "  -0.03232351806946099,\n",
       "  0.019902854692190886,\n",
       "  -0.01665294321719557,\n",
       "  -0.03763410681858659,\n",
       "  0.06090808240696788,\n",
       "  -0.06743910443037748,\n",
       "  -0.040536470856750384,\n",
       "  -0.061081389896571636,\n",
       "  0.006015793536789715,\n",
       "  0.06300451327115297,\n",
       "  -0.006176239849082776,\n",
       "  -0.09057342074811459,\n",
       "  -0.05672287289053202,\n",
       "  0.07286003045737743,\n",
       "  0.051914338022470474,\n",
       "  -0.016174980904906988,\n",
       "  -0.07399648055434227,\n",
       "  0.016063544899225235,\n",
       "  -0.005633078282698989,\n",
       "  0.0712233791127801,\n",
       "  -0.054116773419082165,\n",
       "  0.03359431168064475,\n",
       "  0.065132400020957,\n",
       "  -0.06491459161043167,\n",
       "  -0.052948192693293095,\n",
       "  -0.052613327658036724,\n",
       "  -0.08788193948566914,\n",
       "  -0.018658460583537817,\n",
       "  -0.042113083647564054,\n",
       "  0.05495244171470404,\n",
       "  0.06601418927311897,\n",
       "  -5.360048849662474e-33,\n",
       "  -0.019774581538513303,\n",
       "  -0.03280228259973228,\n",
       "  -0.021572411060333252,\n",
       "  -0.03875059331767261,\n",
       "  0.013764668139629066,\n",
       "  -0.019108308712020516,\n",
       "  -0.004298236221075058,\n",
       "  -0.0522577534429729,\n",
       "  0.060330504551529884,\n",
       "  0.010897958185523748,\n",
       "  -0.02261145133525133,\n",
       "  -0.02477383497171104,\n",
       "  0.0239190140273422,\n",
       "  -0.03869880270212889,\n",
       "  -0.017177739180624485,\n",
       "  0.017777326982468367,\n",
       "  -0.026513280114158988,\n",
       "  -0.035118718165904284,\n",
       "  -0.050419367267750204,\n",
       "  0.0409364253282547,\n",
       "  0.011998179368674755,\n",
       "  0.1120606567710638,\n",
       "  0.0763720441609621,\n",
       "  0.049181814305484295,\n",
       "  -0.035364966839551926,\n",
       "  -0.044125575106590986,\n",
       "  -0.040600201580673456,\n",
       "  -0.002935470169177279,\n",
       "  -0.04976851586252451,\n",
       "  0.013639627024531364,\n",
       "  -0.039035049732774496,\n",
       "  -0.05225997418165207,\n",
       "  -0.05414786655455828,\n",
       "  0.05000205710530281,\n",
       "  -0.08297619223594666,\n",
       "  -0.10640886425971985,\n",
       "  0.0766423549503088,\n",
       "  -0.04765033628791571,\n",
       "  -0.030848621026962064,\n",
       "  0.004251745529472828,\n",
       "  0.0827767988666892,\n",
       "  0.016275139641948044,\n",
       "  0.03157125087454915,\n",
       "  0.06913523562252522,\n",
       "  -0.02886941540054977,\n",
       "  -0.023421747493557632,\n",
       "  -0.018170695984736085,\n",
       "  -0.09336473606526852,\n",
       "  0.024742334615439177,\n",
       "  0.0005144376773387194,\n",
       "  -0.0641721747815609,\n",
       "  -0.027617685263976455,\n",
       "  -0.01287298952229321,\n",
       "  0.03655556627199985,\n",
       "  0.009382990188896656,\n",
       "  0.022323333239910426,\n",
       "  0.06773113645613194,\n",
       "  -0.02436316665261984,\n",
       "  0.013927191961556673,\n",
       "  0.025612855795770884,\n",
       "  0.06572949234396219,\n",
       "  0.038112109643407166,\n",
       "  0.0360257038846612,\n",
       "  0.07995353266596794,\n",
       "  0.06382116000168025,\n",
       "  -0.0524368928745389,\n",
       "  -0.007641832693479955,\n",
       "  -0.032972668996080756,\n",
       "  0.03275815863162279,\n",
       "  -0.08166726771742105,\n",
       "  0.019483649404719472,\n",
       "  -0.059108076558914036,\n",
       "  -0.024379933020099998,\n",
       "  0.0250734823057428,\n",
       "  0.034662712598219514,\n",
       "  -0.02959855820517987,\n",
       "  -0.026578975608572364,\n",
       "  0.011684307479299605,\n",
       "  -0.02586398972198367,\n",
       "  -0.012767647625878453,\n",
       "  -0.03757928323466331,\n",
       "  0.01908453946816735,\n",
       "  -0.011148804100230336,\n",
       "  0.08189373463392258,\n",
       "  0.012198898009955883,\n",
       "  -0.0741601912304759,\n",
       "  0.09232438914477825,\n",
       "  -0.07255713641643524,\n",
       "  -0.00014896311040502042,\n",
       "  0.03911047975998372,\n",
       "  -0.06193339452147484,\n",
       "  -0.01760562008348643,\n",
       "  0.02986389258876443,\n",
       "  0.015809586242539808,\n",
       "  -0.017480124486610293,\n",
       "  -5.3134642463703585e-08,\n",
       "  0.010780445765703917,\n",
       "  0.028037300493451767,\n",
       "  -0.0702669033780694,\n",
       "  -0.005426507443189621,\n",
       "  0.03978282189927995,\n",
       "  -0.05827830941416323,\n",
       "  -0.04893957544118166,\n",
       "  0.024625461548566818,\n",
       "  -0.024556594784371555,\n",
       "  0.006614904617890716,\n",
       "  0.03944607696030289,\n",
       "  0.012546632497105747,\n",
       "  -0.08001080248504877,\n",
       "  -0.006621812906814739,\n",
       "  -0.04684530105441809,\n",
       "  -0.05244871787726879,\n",
       "  -0.025268946948926896,\n",
       "  0.01024131040321663,\n",
       "  -0.06222138553857803,\n",
       "  -0.020743371642311104,\n",
       "  -0.010665127541869879,\n",
       "  -0.012771339330356568,\n",
       "  0.004092627059435472,\n",
       "  -0.0025566075346432626,\n",
       "  -0.017781320842914283,\n",
       "  -0.004800404669367708,\n",
       "  -0.027185924351215363,\n",
       "  0.03983302530832589,\n",
       "  0.024320829892531037,\n",
       "  0.04248852236196399,\n",
       "  -0.02303985320031643,\n",
       "  0.031346499687060714,\n",
       "  0.02194670378230512,\n",
       "  -0.04806079203262925,\n",
       "  -0.031889849342405796,\n",
       "  0.021313113160431385,\n",
       "  0.018918060464784503,\n",
       "  0.019325043773278594,\n",
       "  0.03487491514533758,\n",
       "  0.014085427741520107,\n",
       "  -0.05175259057432413,\n",
       "  -0.054948185570538044,\n",
       "  -0.061354619450867176,\n",
       "  0.032030451111495495,\n",
       "  0.08213887363672256,\n",
       "  -0.05149087682366371,\n",
       "  -0.09418980590999126,\n",
       "  -0.03949230071157217,\n",
       "  0.01334110926836729,\n",
       "  -0.04710850492119789,\n",
       "  -0.016379539389163256,\n",
       "  -0.051073428709059954,\n",
       "  0.0064623658545315266,\n",
       "  0.005176438018679619,\n",
       "  -0.01981763355433941,\n",
       "  -0.013985819183290005,\n",
       "  -0.018936035688966513,\n",
       "  0.07887705694884062,\n",
       "  0.04222003137692809,\n",
       "  -0.020518115255981684,\n",
       "  0.06640873663127422,\n",
       "  -0.020118937827646732,\n",
       "  0.009942038916051388,\n",
       "  0.0030328298453241587]}"
      ]
     },
     "execution_count": 43,
     "metadata": {},
     "output_type": "execute_result"
    }
   ],
   "source": [
    "text_chunks_with_metadata[0]"
   ]
  },
  {
   "cell_type": "code",
   "execution_count": 44,
   "id": "3746df7c",
   "metadata": {},
   "outputs": [],
   "source": [
    "chunk_texts = [item[\"text\"] for item in text_chunks_with_metadata]\n",
    "metadata = [{\"page\": item[\"page\"], \"coordinates\": json.dumps(item[\"coordinates\"])} for item in text_chunks_with_metadata]\n",
    "embeddings_list = [item[\"embedding\"] for item in text_chunks_with_metadata]"
   ]
  },
  {
   "cell_type": "code",
   "execution_count": 105,
   "id": "761b049d",
   "metadata": {},
   "outputs": [
    {
     "data": {
      "text/plain": [
       "'sba form 2287 ( 04 - 18 ) 2 previous editions obsolete terms and conditions in consideration of the above, the mutual agreements set forth below, and for other good and valuable consideration, the receipt and sufficiency of which are hereby acknowledged, the parties agree as follows : 1. amount of third party loan. the third party lender represents that the third party loan is fully advanced ; does not exceed the amount stated in the authorization ; and, will not exceed the amount allowed by the authorization, plus reasonable costs of collection, maintenance, and protection of the third party lender lien. any amounts owed by borrower to lender in excess of the third party lender lien amount stated in the authorization cannot be secured by a lien on the common collateral unless it is subordinate to the 504 loan. 2. subordination of 504 loan. cdc agrees to make the 504 loan to the borrower, subject to sba ’ s approval, and accept a junior and subordinate lien position in the common collateral upon the conditions that third party lender executes this agreement and disburses the third party loan according to the terms represented to cdc and sba. 3. accurate information. the third party lender warrants and represents that all information provided by the third party lender to cdc, including, without limitation, all information regarding the borrower ’ s financial condition, is accurate to the best of its knowledge and that third party lender has not withheld any material information. third party lender acknowledges that for purpose of this transaction, cdc is acting on behalf of sba, an agency in the united states government, except that sba accepts no liability or responsibility for any wrongful act or omission by cdc. third party lender further acknowledges that any false statements to cdc can be considered false statements to the federal government under 18 u. s. c. § 1001, and may subject the third party lender to criminal penalties, and that cdc and sba are relying upon the information submitted by the third party lender. 4. waiver of provision not to encumber common collateral. third party lender waives its rights to enforce, as against cdc and sba, any provisions in its documents that prohibit borrower from further encumbering the common collateral or which restrict borrower ’ s ability to assign its lease on, or rents, income or profits from, the common collateral. 5. compliance with 504 loan program requirements. third party lender agrees that all documents evidencing the third party loan and the third party lender lien will comply with the 504 loan program requirements as established by sba, including those identified in the following subparagraphs, and, in the event one or more of the provisions in such documents do not comply with these 504 loan program requirements, third party lender waives any right to enforce such provisions while the 504 loan has any unpaid balance and agrees that it must act in a commercially reasonable manner with regard to any enforcement action. a. no open - ended features and no future advances. the third party loan must not be open - ended. after completion of the project, the third party lender may not make future advances under the third party loan except for reasonable costs of collection, maintenance, and protection of the third party loan and third party lender lien. b. no early call or demand provisions. third party lender agrees that documents evidencing the third party loan and the third party lender lien do not contain an early call feature or any provision which allows third party lender to make demand under the third party lender loan other than when there is a material default under the terms of its third party loan documents, which shall include, but not be limited to, failure to make timely payments on the third party loan,'"
      ]
     },
     "execution_count": 105,
     "metadata": {},
     "output_type": "execute_result"
    }
   ],
   "source": [
    "chunk_texts[1]"
   ]
  },
  {
   "cell_type": "code",
   "execution_count": 111,
   "id": "ab1fbdc7",
   "metadata": {},
   "outputs": [],
   "source": [
    "chunk_tokens = tokenizer.tokenize(chunk_texts[1])"
   ]
  },
  {
   "cell_type": "code",
   "execution_count": 115,
   "id": "ab551b85",
   "metadata": {},
   "outputs": [
    {
     "data": {
      "text/plain": [
       "list"
      ]
     },
     "execution_count": 115,
     "metadata": {},
     "output_type": "execute_result"
    }
   ],
   "source": [
    "type(chunk_tokens)"
   ]
  },
  {
   "cell_type": "code",
   "execution_count": 116,
   "id": "89887be9",
   "metadata": {},
   "outputs": [
    {
     "data": {
      "text/plain": [
       "785"
      ]
     },
     "execution_count": 116,
     "metadata": {},
     "output_type": "execute_result"
    }
   ],
   "source": [
    "len(chunk_tokens)"
   ]
  },
  {
   "cell_type": "code",
   "execution_count": 117,
   "id": "729100cf",
   "metadata": {},
   "outputs": [
    {
     "data": {
      "text/plain": [
       "['sb',\n",
       " '##a',\n",
       " 'form',\n",
       " '228',\n",
       " '##7',\n",
       " '(',\n",
       " '04',\n",
       " '-',\n",
       " '18',\n",
       " ')',\n",
       " '2',\n",
       " 'previous',\n",
       " 'editions',\n",
       " 'obsolete',\n",
       " 'terms',\n",
       " 'and',\n",
       " 'conditions',\n",
       " 'in',\n",
       " 'consideration',\n",
       " 'of',\n",
       " 'the',\n",
       " 'above',\n",
       " ',',\n",
       " 'the',\n",
       " 'mutual',\n",
       " 'agreements',\n",
       " 'set',\n",
       " 'forth',\n",
       " 'below',\n",
       " ',',\n",
       " 'and',\n",
       " 'for',\n",
       " 'other',\n",
       " 'good',\n",
       " 'and',\n",
       " 'valuable',\n",
       " 'consideration',\n",
       " ',',\n",
       " 'the',\n",
       " 'receipt',\n",
       " 'and',\n",
       " 'su',\n",
       " '##ffi',\n",
       " '##ciency',\n",
       " 'of',\n",
       " 'which',\n",
       " 'are',\n",
       " 'here',\n",
       " '##by',\n",
       " 'acknowledged',\n",
       " ',',\n",
       " 'the',\n",
       " 'parties',\n",
       " 'agree',\n",
       " 'as',\n",
       " 'follows',\n",
       " ':',\n",
       " '1',\n",
       " '.',\n",
       " 'amount',\n",
       " 'of',\n",
       " 'third',\n",
       " 'party',\n",
       " 'loan',\n",
       " '.',\n",
       " 'the',\n",
       " 'third',\n",
       " 'party',\n",
       " 'lend',\n",
       " '##er',\n",
       " 'represents',\n",
       " 'that',\n",
       " 'the',\n",
       " 'third',\n",
       " 'party',\n",
       " 'loan',\n",
       " 'is',\n",
       " 'fully',\n",
       " 'advanced',\n",
       " ';',\n",
       " 'does',\n",
       " 'not',\n",
       " 'exceed',\n",
       " 'the',\n",
       " 'amount',\n",
       " 'stated',\n",
       " 'in',\n",
       " 'the',\n",
       " 'authorization',\n",
       " ';',\n",
       " 'and',\n",
       " ',',\n",
       " 'will',\n",
       " 'not',\n",
       " 'exceed',\n",
       " 'the',\n",
       " 'amount',\n",
       " 'allowed',\n",
       " 'by',\n",
       " 'the',\n",
       " 'authorization',\n",
       " ',',\n",
       " 'plus',\n",
       " 'reasonable',\n",
       " 'costs',\n",
       " 'of',\n",
       " 'collection',\n",
       " ',',\n",
       " 'maintenance',\n",
       " ',',\n",
       " 'and',\n",
       " 'protection',\n",
       " 'of',\n",
       " 'the',\n",
       " 'third',\n",
       " 'party',\n",
       " 'lend',\n",
       " '##er',\n",
       " 'lie',\n",
       " '##n',\n",
       " '.',\n",
       " 'any',\n",
       " 'amounts',\n",
       " 'owed',\n",
       " 'by',\n",
       " 'borrow',\n",
       " '##er',\n",
       " 'to',\n",
       " 'lend',\n",
       " '##er',\n",
       " 'in',\n",
       " 'excess',\n",
       " 'of',\n",
       " 'the',\n",
       " 'third',\n",
       " 'party',\n",
       " 'lend',\n",
       " '##er',\n",
       " 'lie',\n",
       " '##n',\n",
       " 'amount',\n",
       " 'stated',\n",
       " 'in',\n",
       " 'the',\n",
       " 'authorization',\n",
       " 'cannot',\n",
       " 'be',\n",
       " 'secured',\n",
       " 'by',\n",
       " 'a',\n",
       " 'lie',\n",
       " '##n',\n",
       " 'on',\n",
       " 'the',\n",
       " 'common',\n",
       " 'collateral',\n",
       " 'unless',\n",
       " 'it',\n",
       " 'is',\n",
       " 'subordinate',\n",
       " 'to',\n",
       " 'the',\n",
       " '50',\n",
       " '##4',\n",
       " 'loan',\n",
       " '.',\n",
       " '2',\n",
       " '.',\n",
       " 'sub',\n",
       " '##ord',\n",
       " '##ination',\n",
       " 'of',\n",
       " '50',\n",
       " '##4',\n",
       " 'loan',\n",
       " '.',\n",
       " 'cdc',\n",
       " 'agrees',\n",
       " 'to',\n",
       " 'make',\n",
       " 'the',\n",
       " '50',\n",
       " '##4',\n",
       " 'loan',\n",
       " 'to',\n",
       " 'the',\n",
       " 'borrow',\n",
       " '##er',\n",
       " ',',\n",
       " 'subject',\n",
       " 'to',\n",
       " 'sb',\n",
       " '##a',\n",
       " '’',\n",
       " 's',\n",
       " 'approval',\n",
       " ',',\n",
       " 'and',\n",
       " 'accept',\n",
       " 'a',\n",
       " 'junior',\n",
       " 'and',\n",
       " 'subordinate',\n",
       " 'lie',\n",
       " '##n',\n",
       " 'position',\n",
       " 'in',\n",
       " 'the',\n",
       " 'common',\n",
       " 'collateral',\n",
       " 'upon',\n",
       " 'the',\n",
       " 'conditions',\n",
       " 'that',\n",
       " 'third',\n",
       " 'party',\n",
       " 'lend',\n",
       " '##er',\n",
       " 'execute',\n",
       " '##s',\n",
       " 'this',\n",
       " 'agreement',\n",
       " 'and',\n",
       " 'di',\n",
       " '##sb',\n",
       " '##urse',\n",
       " '##s',\n",
       " 'the',\n",
       " 'third',\n",
       " 'party',\n",
       " 'loan',\n",
       " 'according',\n",
       " 'to',\n",
       " 'the',\n",
       " 'terms',\n",
       " 'represented',\n",
       " 'to',\n",
       " 'cdc',\n",
       " 'and',\n",
       " 'sb',\n",
       " '##a',\n",
       " '.',\n",
       " '3',\n",
       " '.',\n",
       " 'accurate',\n",
       " 'information',\n",
       " '.',\n",
       " 'the',\n",
       " 'third',\n",
       " 'party',\n",
       " 'lend',\n",
       " '##er',\n",
       " 'warrant',\n",
       " '##s',\n",
       " 'and',\n",
       " 'represents',\n",
       " 'that',\n",
       " 'all',\n",
       " 'information',\n",
       " 'provided',\n",
       " 'by',\n",
       " 'the',\n",
       " 'third',\n",
       " 'party',\n",
       " 'lend',\n",
       " '##er',\n",
       " 'to',\n",
       " 'cdc',\n",
       " ',',\n",
       " 'including',\n",
       " ',',\n",
       " 'without',\n",
       " 'limitation',\n",
       " ',',\n",
       " 'all',\n",
       " 'information',\n",
       " 'regarding',\n",
       " 'the',\n",
       " 'borrow',\n",
       " '##er',\n",
       " '’',\n",
       " 's',\n",
       " 'financial',\n",
       " 'condition',\n",
       " ',',\n",
       " 'is',\n",
       " 'accurate',\n",
       " 'to',\n",
       " 'the',\n",
       " 'best',\n",
       " 'of',\n",
       " 'its',\n",
       " 'knowledge',\n",
       " 'and',\n",
       " 'that',\n",
       " 'third',\n",
       " 'party',\n",
       " 'lend',\n",
       " '##er',\n",
       " 'has',\n",
       " 'not',\n",
       " 'with',\n",
       " '##held',\n",
       " 'any',\n",
       " 'material',\n",
       " 'information',\n",
       " '.',\n",
       " 'third',\n",
       " 'party',\n",
       " 'lend',\n",
       " '##er',\n",
       " 'acknowledges',\n",
       " 'that',\n",
       " 'for',\n",
       " 'purpose',\n",
       " 'of',\n",
       " 'this',\n",
       " 'transaction',\n",
       " ',',\n",
       " 'cdc',\n",
       " 'is',\n",
       " 'acting',\n",
       " 'on',\n",
       " 'behalf',\n",
       " 'of',\n",
       " 'sb',\n",
       " '##a',\n",
       " ',',\n",
       " 'an',\n",
       " 'agency',\n",
       " 'in',\n",
       " 'the',\n",
       " 'united',\n",
       " 'states',\n",
       " 'government',\n",
       " ',',\n",
       " 'except',\n",
       " 'that',\n",
       " 'sb',\n",
       " '##a',\n",
       " 'accepts',\n",
       " 'no',\n",
       " 'liability',\n",
       " 'or',\n",
       " 'responsibility',\n",
       " 'for',\n",
       " 'any',\n",
       " 'wrong',\n",
       " '##ful',\n",
       " 'act',\n",
       " 'or',\n",
       " 'om',\n",
       " '##iss',\n",
       " '##ion',\n",
       " 'by',\n",
       " 'cdc',\n",
       " '.',\n",
       " 'third',\n",
       " 'party',\n",
       " 'lend',\n",
       " '##er',\n",
       " 'further',\n",
       " 'acknowledges',\n",
       " 'that',\n",
       " 'any',\n",
       " 'false',\n",
       " 'statements',\n",
       " 'to',\n",
       " 'cdc',\n",
       " 'can',\n",
       " 'be',\n",
       " 'considered',\n",
       " 'false',\n",
       " 'statements',\n",
       " 'to',\n",
       " 'the',\n",
       " 'federal',\n",
       " 'government',\n",
       " 'under',\n",
       " '18',\n",
       " 'u',\n",
       " '.',\n",
       " 's',\n",
       " '.',\n",
       " 'c',\n",
       " '.',\n",
       " '§',\n",
       " '100',\n",
       " '##1',\n",
       " ',',\n",
       " 'and',\n",
       " 'may',\n",
       " 'subject',\n",
       " 'the',\n",
       " 'third',\n",
       " 'party',\n",
       " 'lend',\n",
       " '##er',\n",
       " 'to',\n",
       " 'criminal',\n",
       " 'penalties',\n",
       " ',',\n",
       " 'and',\n",
       " 'that',\n",
       " 'cdc',\n",
       " 'and',\n",
       " 'sb',\n",
       " '##a',\n",
       " 'are',\n",
       " 'relying',\n",
       " 'upon',\n",
       " 'the',\n",
       " 'information',\n",
       " 'submitted',\n",
       " 'by',\n",
       " 'the',\n",
       " 'third',\n",
       " 'party',\n",
       " 'lend',\n",
       " '##er',\n",
       " '.',\n",
       " '4',\n",
       " '.',\n",
       " 'wai',\n",
       " '##ver',\n",
       " 'of',\n",
       " 'provision',\n",
       " 'not',\n",
       " 'to',\n",
       " 'en',\n",
       " '##cum',\n",
       " '##ber',\n",
       " 'common',\n",
       " 'collateral',\n",
       " '.',\n",
       " 'third',\n",
       " 'party',\n",
       " 'lend',\n",
       " '##er',\n",
       " 'wai',\n",
       " '##ves',\n",
       " 'its',\n",
       " 'rights',\n",
       " 'to',\n",
       " 'enforce',\n",
       " ',',\n",
       " 'as',\n",
       " 'against',\n",
       " 'cdc',\n",
       " 'and',\n",
       " 'sb',\n",
       " '##a',\n",
       " ',',\n",
       " 'any',\n",
       " 'provisions',\n",
       " 'in',\n",
       " 'its',\n",
       " 'documents',\n",
       " 'that',\n",
       " 'prohibit',\n",
       " 'borrow',\n",
       " '##er',\n",
       " 'from',\n",
       " 'further',\n",
       " 'en',\n",
       " '##cum',\n",
       " '##ber',\n",
       " '##ing',\n",
       " 'the',\n",
       " 'common',\n",
       " 'collateral',\n",
       " 'or',\n",
       " 'which',\n",
       " 'restrict',\n",
       " 'borrow',\n",
       " '##er',\n",
       " '’',\n",
       " 's',\n",
       " 'ability',\n",
       " 'to',\n",
       " 'assign',\n",
       " 'its',\n",
       " 'lease',\n",
       " 'on',\n",
       " ',',\n",
       " 'or',\n",
       " 'rents',\n",
       " ',',\n",
       " 'income',\n",
       " 'or',\n",
       " 'profits',\n",
       " 'from',\n",
       " ',',\n",
       " 'the',\n",
       " 'common',\n",
       " 'collateral',\n",
       " '.',\n",
       " '5',\n",
       " '.',\n",
       " 'compliance',\n",
       " 'with',\n",
       " '50',\n",
       " '##4',\n",
       " 'loan',\n",
       " 'program',\n",
       " 'requirements',\n",
       " '.',\n",
       " 'third',\n",
       " 'party',\n",
       " 'lend',\n",
       " '##er',\n",
       " 'agrees',\n",
       " 'that',\n",
       " 'all',\n",
       " 'documents',\n",
       " 'ev',\n",
       " '##ide',\n",
       " '##nc',\n",
       " '##ing',\n",
       " 'the',\n",
       " 'third',\n",
       " 'party',\n",
       " 'loan',\n",
       " 'and',\n",
       " 'the',\n",
       " 'third',\n",
       " 'party',\n",
       " 'lend',\n",
       " '##er',\n",
       " 'lie',\n",
       " '##n',\n",
       " 'will',\n",
       " 'comply',\n",
       " 'with',\n",
       " 'the',\n",
       " '50',\n",
       " '##4',\n",
       " 'loan',\n",
       " 'program',\n",
       " 'requirements',\n",
       " 'as',\n",
       " 'established',\n",
       " 'by',\n",
       " 'sb',\n",
       " '##a',\n",
       " ',',\n",
       " 'including',\n",
       " 'those',\n",
       " 'identified',\n",
       " 'in',\n",
       " 'the',\n",
       " 'following',\n",
       " 'sub',\n",
       " '##para',\n",
       " '##graphs',\n",
       " ',',\n",
       " 'and',\n",
       " ',',\n",
       " 'in',\n",
       " 'the',\n",
       " 'event',\n",
       " 'one',\n",
       " 'or',\n",
       " 'more',\n",
       " 'of',\n",
       " 'the',\n",
       " 'provisions',\n",
       " 'in',\n",
       " 'such',\n",
       " 'documents',\n",
       " 'do',\n",
       " 'not',\n",
       " 'comply',\n",
       " 'with',\n",
       " 'these',\n",
       " '50',\n",
       " '##4',\n",
       " 'loan',\n",
       " 'program',\n",
       " 'requirements',\n",
       " ',',\n",
       " 'third',\n",
       " 'party',\n",
       " 'lend',\n",
       " '##er',\n",
       " 'wai',\n",
       " '##ves',\n",
       " 'any',\n",
       " 'right',\n",
       " 'to',\n",
       " 'enforce',\n",
       " 'such',\n",
       " 'provisions',\n",
       " 'while',\n",
       " 'the',\n",
       " '50',\n",
       " '##4',\n",
       " 'loan',\n",
       " 'has',\n",
       " 'any',\n",
       " 'unpaid',\n",
       " 'balance',\n",
       " 'and',\n",
       " 'agrees',\n",
       " 'that',\n",
       " 'it',\n",
       " 'must',\n",
       " 'act',\n",
       " 'in',\n",
       " 'a',\n",
       " 'commercially',\n",
       " 'reasonable',\n",
       " 'manner',\n",
       " 'with',\n",
       " 'regard',\n",
       " 'to',\n",
       " 'any',\n",
       " 'enforcement',\n",
       " 'action',\n",
       " '.',\n",
       " 'a',\n",
       " '.',\n",
       " 'no',\n",
       " 'open',\n",
       " '-',\n",
       " 'ended',\n",
       " 'features',\n",
       " 'and',\n",
       " 'no',\n",
       " 'future',\n",
       " 'advances',\n",
       " '.',\n",
       " 'the',\n",
       " 'third',\n",
       " 'party',\n",
       " 'loan',\n",
       " 'must',\n",
       " 'not',\n",
       " 'be',\n",
       " 'open',\n",
       " '-',\n",
       " 'ended',\n",
       " '.',\n",
       " 'after',\n",
       " 'completion',\n",
       " 'of',\n",
       " 'the',\n",
       " 'project',\n",
       " ',',\n",
       " 'the',\n",
       " 'third',\n",
       " 'party',\n",
       " 'lend',\n",
       " '##er',\n",
       " 'may',\n",
       " 'not',\n",
       " 'make',\n",
       " 'future',\n",
       " 'advances',\n",
       " 'under',\n",
       " 'the',\n",
       " 'third',\n",
       " 'party',\n",
       " 'loan',\n",
       " 'except',\n",
       " 'for',\n",
       " 'reasonable',\n",
       " 'costs',\n",
       " 'of',\n",
       " 'collection',\n",
       " ',',\n",
       " 'maintenance',\n",
       " ',',\n",
       " 'and',\n",
       " 'protection',\n",
       " 'of',\n",
       " 'the',\n",
       " 'third',\n",
       " 'party',\n",
       " 'loan',\n",
       " 'and',\n",
       " 'third',\n",
       " 'party',\n",
       " 'lend',\n",
       " '##er',\n",
       " 'lie',\n",
       " '##n',\n",
       " '.',\n",
       " 'b',\n",
       " '.',\n",
       " 'no',\n",
       " 'early',\n",
       " 'call',\n",
       " 'or',\n",
       " 'demand',\n",
       " 'provisions',\n",
       " '.',\n",
       " 'third',\n",
       " 'party',\n",
       " 'lend',\n",
       " '##er',\n",
       " 'agrees',\n",
       " 'that',\n",
       " 'documents',\n",
       " 'ev',\n",
       " '##ide',\n",
       " '##nc',\n",
       " '##ing',\n",
       " 'the',\n",
       " 'third',\n",
       " 'party',\n",
       " 'loan',\n",
       " 'and',\n",
       " 'the',\n",
       " 'third',\n",
       " 'party',\n",
       " 'lend',\n",
       " '##er',\n",
       " 'lie',\n",
       " '##n',\n",
       " 'do',\n",
       " 'not',\n",
       " 'contain',\n",
       " 'an',\n",
       " 'early',\n",
       " 'call',\n",
       " 'feature',\n",
       " 'or',\n",
       " 'any',\n",
       " 'provision',\n",
       " 'which',\n",
       " 'allows',\n",
       " 'third',\n",
       " 'party',\n",
       " 'lend',\n",
       " '##er',\n",
       " 'to',\n",
       " 'make',\n",
       " 'demand',\n",
       " 'under',\n",
       " 'the',\n",
       " 'third',\n",
       " 'party',\n",
       " 'lend',\n",
       " '##er',\n",
       " 'loan',\n",
       " 'other',\n",
       " 'than',\n",
       " 'when',\n",
       " 'there',\n",
       " 'is',\n",
       " 'a',\n",
       " 'material',\n",
       " 'default',\n",
       " 'under',\n",
       " 'the',\n",
       " 'terms',\n",
       " 'of',\n",
       " 'its',\n",
       " 'third',\n",
       " 'party',\n",
       " 'loan',\n",
       " 'documents',\n",
       " ',',\n",
       " 'which',\n",
       " 'shall',\n",
       " 'include',\n",
       " ',',\n",
       " 'but',\n",
       " 'not',\n",
       " 'be',\n",
       " 'limited',\n",
       " 'to',\n",
       " ',',\n",
       " 'failure',\n",
       " 'to',\n",
       " 'make',\n",
       " 'timely',\n",
       " 'payments',\n",
       " 'on',\n",
       " 'the',\n",
       " 'third',\n",
       " 'party',\n",
       " 'loan',\n",
       " ',']"
      ]
     },
     "execution_count": 117,
     "metadata": {},
     "output_type": "execute_result"
    }
   ],
   "source": [
    "chunk_tokens"
   ]
  },
  {
   "cell_type": "code",
   "execution_count": 118,
   "id": "0c402efa",
   "metadata": {},
   "outputs": [
    {
     "data": {
      "text/plain": [
       "{'page': 0,\n",
       " 'coordinates': '[[74.28336334228516, 736.0769653320312, 161.34852600097656, 747.1239013671875], [287.99462890625, 736.0769653320312, 290.229736328125, 747.1239013671875], [395.9959411621094, 736.0769653320312, 424.5137939453125, 747.1239013671875], [72.0, 745.435546875, 172.51608276367188, 756.4824829101562], [141.0, 82.16398620605469, 144.0, 98.17198944091797], [177.0, 82.16398620605469, 180.0, 98.17198944091797], [138.72000122070312, 107.96397399902344, 141.72000122070312, 123.97197723388672], [72.0, 133.7639617919922, 75.0, 149.77195739746094], [306.0, 159.56394958496094, 309.0, 175.5719451904297], [155.0399932861328, 184.8782196044922, 168.40667724609375, 212.6336212158203], [168.36000061035156, 189.1377410888672, 214.11094665527344, 211.24234008789062], [214.0800018310547, 184.8782196044922, 226.32444763183594, 212.6336212158203], [226.32000732421875, 189.1377410888672, 275.67633056640625, 211.24234008789062], [275.760009765625, 184.8782196044922, 289.1266784667969, 212.6336212158203], [289.0799865722656, 189.1377410888672, 349.0002746582031, 211.24234008789062], [348.9599914550781, 184.8782196044922, 363.4288635253906, 212.6336212158203], [363.4800109863281, 189.1377410888672, 456.9322509765625, 211.24234008789062], [456.9599914550781, 193.1639862060547, 459.9599914550781, 209.17198181152344], [71.99996948242188, 208.4039764404297, 74.99996948242188, 224.41197204589844], [71.99996948242188, 222.20396423339844, 74.99996948242188, 238.2119598388672], [71.99996948242188, 235.1639862060547, 74.99996948242188, 251.17198181152344], [108.0, 236.17486572265625, 505.0855712890625, 250.9022216796875], [72.00958251953125, 248.771484375, 499.4452819824219, 263.49884033203125], [72.00961303710938, 261.36810302734375, 500.4130859375, 276.095458984375], [72.00960540771484, 274.086181640625, 520.587890625, 288.81353759765625], [72.0206298828125, 286.6828308105469, 434.8944091796875, 301.4101867675781], [72.00961303710938, 299.4009094238281, 74.76961517333984, 314.1282653808594], [280.32000732421875, 312.014892578125, 334.4381103515625, 326.74224853515625], [72.0, 324.6148681640625, 74.76000213623047, 339.34222412109375], [72.0, 337.33294677734375, 537.5844116210938, 352.060302734375], [72.0, 349.9295959472656, 533.6344604492188, 364.6569519042969], [71.98892211914062, 362.6476745605469, 530.0308227539062, 377.3750305175781], [71.98892211914062, 375.24432373046875, 528.3438720703125, 389.9716796875], [71.98892211914062, 387.8409729003906, 535.8843994140625, 402.5683288574219], [71.99996948242188, 400.5590515136719, 542.1231689453125, 415.2864074707031], [71.99996948242188, 413.15570068359375, 525.9624633789062, 427.883056640625], [71.99993896484375, 425.873779296875, 125.52185821533203, 440.60113525390625], [71.99993896484375, 438.4704284667969, 77.39849853515625, 453.1977844238281], [108.00137329101562, 451.1885070800781, 449.2809143066406, 465.9158630371094], [108.00137329101562, 463.78515625, 453.5975646972656, 478.51251220703125], [71.99996948242188, 476.3818054199219, 74.75997161865234, 491.1091613769531], [108.00140380859375, 476.3818054199219, 447.3599853515625, 491.1091613769531], [71.99996948242188, 489.0998840332031, 74.75997161865234, 503.8272399902344], [108.00140380859375, 489.0998840332031, 453.36572265625, 503.8272399902344], [108.00137329101562, 501.696533203125, 420.84185791015625, 516.4238891601562], [108.00137329101562, 514.4146118164062, 420.48858642578125, 529.1419677734375], [108.01242065429688, 527.01123046875, 308.1676330566406, 541.7385864257812], [108.01243591308594, 539.60791015625, 110.7724380493164, 554.3352661132812], [144.0138702392578, 539.60791015625, 146.77386474609375, 554.3352661132812], [180.0153045654297, 539.60791015625, 456.2581787109375, 554.3352661132812], [108.02346801757812, 552.325927734375, 110.7834701538086, 567.0532836914062], [144.02490234375, 552.325927734375, 146.78489685058594, 567.0532836914062], [180.02633666992188, 552.325927734375, 491.0562744140625, 567.0532836914062], [108.01242065429688, 564.922607421875, 110.77242279052734, 579.6499633789062], [144.01385498046875, 564.922607421875, 146.7738494873047, 579.6499633789062], [180.01528930664062, 564.922607421875, 352.6919250488281, 579.6499633789062], [108.01239013671875, 577.6406860351562, 527.1681518554688, 592.3680419921875], [108.01239013671875, 590.2373046875, 518.6527099609375, 604.9646606445312], [108.01239013671875, 602.8339233398438, 337.1918029785156, 617.561279296875], [71.98892211914062, 615.552001953125, 74.7489242553711, 630.2793579101562], [71.98892211914062, 628.148681640625, 532.899169921875, 642.8760375976562], [71.98895263671875, 640.86669921875, 526.1668701171875, 655.5940551757812], [71.97793579101562, 653.46337890625, 522.0875854492188, 668.1907348632812], [71.97793579101562, 666.0599975585938, 252.44107055664062, 680.787353515625]]'}"
      ]
     },
     "execution_count": 118,
     "metadata": {},
     "output_type": "execute_result"
    }
   ],
   "source": [
    "metadata[0]"
   ]
  },
  {
   "cell_type": "code",
   "execution_count": 47,
   "id": "0278055d",
   "metadata": {},
   "outputs": [
    {
     "data": {
      "text/plain": [
       "['197a6489-3f86-4fa5-9d07-ed83896a04b2',\n",
       " '6526039d-e02b-49e8-95dd-1c3c002b9a8c',\n",
       " 'c3aac443-8159-4f12-a2bd-8706b23d8f03',\n",
       " 'ddc900aa-2090-4047-b473-46168ff7ead5',\n",
       " 'a61add84-6ea6-4ba5-afaa-94aa1022c5cf',\n",
       " '32f62325-af93-4852-8d32-610cb9d0ee94']"
      ]
     },
     "execution_count": 47,
     "metadata": {},
     "output_type": "execute_result"
    }
   ],
   "source": [
    "vector_db.add_texts(chunk_texts, metadatas=metadata, embeddings=embeddings_list)"
   ]
  },
  {
   "cell_type": "code",
   "execution_count": 48,
   "id": "ec7325f1",
   "metadata": {},
   "outputs": [
    {
     "name": "stderr",
     "output_type": "stream",
     "text": [
      "C:\\Users\\jimmy\\AppData\\Local\\Temp\\ipykernel_11112\\2766552738.py:1: LangChainDeprecationWarning: Since Chroma 0.4.x the manual persistence method is no longer supported as docs are automatically persisted.\n",
      "  vector_db.persist()\n"
     ]
    }
   ],
   "source": [
    "vector_db.persist()"
   ]
  },
  {
   "cell_type": "markdown",
   "id": "2ddfa308",
   "metadata": {},
   "source": [
    "# Chat Query"
   ]
  },
  {
   "cell_type": "code",
   "execution_count": 49,
   "id": "18da39b6",
   "metadata": {},
   "outputs": [],
   "source": [
    "#user_query = 'What does this document say about Balloon payments?'\n",
    "#user_query = \"what does this document say about authority to execute agreement?\"\n",
    "user_query = 'About Balloon payments?'"
   ]
  },
  {
   "cell_type": "code",
   "execution_count": 50,
   "id": "778483d7",
   "metadata": {},
   "outputs": [],
   "source": [
    "chat_history = [\n",
    "    {\"role\": \"user\", \"content\": \"CDC agrees to make the 504 Loan to the Borrower subject to what?\"},\n",
    "    {\"role\": \"assistant\", \"content\": \"SBA's approval.\"},\n",
    "    {\"role\": \"user\", \"content\": \"Third Party Lender waives its rights for what?\"},\n",
    "    {\"role\": \"assistant\", \"content\": \"Third Party Lender waives its rights to enforce provisions that do not comply with the 504 Loan Program Requirements.\"},\n",
    "    {\"role\": \"user\", \"content\": \"what does this document say about authority to execute agreement?\"},\n",
    "    {\"role\": \"assistant\", \"content\": \"The persons signing below certify that they have been duly authorized to execute this Agreement on behalf of their respective party.\"}\n",
    "]"
   ]
  },
  {
   "cell_type": "markdown",
   "id": "26c95303",
   "metadata": {},
   "source": [
    "* Rephrase the query to identify teh user's intended full question using LLM"
   ]
  },
  {
   "cell_type": "code",
   "execution_count": 51,
   "id": "6142eb68",
   "metadata": {},
   "outputs": [],
   "source": [
    "template = \"\"\"\n",
    "Given the chat history and the current user query, rewrite the query so it forms a complete question, maintaining the context of the conversation. The rewritten query should follow the style and intent of the previous user queries.\n",
    "\n",
    "Chat History:\n",
    "{chat_history}\n",
    "\n",
    "Current user query: {query}\n",
    "\n",
    "Rewritten query:\n",
    "\"\"\""
   ]
  },
  {
   "cell_type": "code",
   "execution_count": 52,
   "id": "bdcc3c77",
   "metadata": {},
   "outputs": [],
   "source": [
    "# Format the chat history into a string\n",
    "formatted_chat_history = \"\\n\".join([f'{entry[\"role\"].capitalize()}: {entry[\"content\"]}' for entry in chat_history])\n"
   ]
  },
  {
   "cell_type": "code",
   "execution_count": 53,
   "id": "ac979539",
   "metadata": {},
   "outputs": [],
   "source": [
    "# Create the prompt for the LLM\n",
    "prompt = PromptTemplate.from_template(template).format(\n",
    "    chat_history=formatted_chat_history,\n",
    "    query=user_query\n",
    ")"
   ]
  },
  {
   "cell_type": "code",
   "execution_count": 54,
   "id": "64b5c801",
   "metadata": {},
   "outputs": [
    {
     "data": {
      "text/plain": [
       "\"\\nGiven the chat history and the current user query, rewrite the query so it forms a complete question, maintaining the context of the conversation. The rewritten query should follow the style and intent of the previous user queries.\\n\\nChat History:\\nUser: CDC agrees to make the 504 Loan to the Borrower subject to what?\\nAssistant: SBA's approval.\\nUser: Third Party Lender waives its rights for what?\\nAssistant: Third Party Lender waives its rights to enforce provisions that do not comply with the 504 Loan Program Requirements.\\nUser: what does this document say about authority to execute agreement?\\nAssistant: The persons signing below certify that they have been duly authorized to execute this Agreement on behalf of their respective party.\\n\\nCurrent user query: About Balloon payments?\\n\\nRewritten query:\\n\""
      ]
     },
     "execution_count": 54,
     "metadata": {},
     "output_type": "execute_result"
    }
   ],
   "source": [
    "prompt"
   ]
  },
  {
   "cell_type": "code",
   "execution_count": 55,
   "id": "5cf8c78a",
   "metadata": {},
   "outputs": [
    {
     "name": "stderr",
     "output_type": "stream",
     "text": [
      "C:\\Users\\jimmy\\AppData\\Local\\Temp\\ipykernel_11112\\3271359314.py:2: LangChainDeprecationWarning: The method `BaseChatModel.__call__` was deprecated in langchain-core 0.1.7 and will be removed in 1.0. Use :meth:`~invoke` instead.\n",
      "  rewritten_query = llm(prompt)\n"
     ]
    }
   ],
   "source": [
    "# Get the response from the LLM\n",
    "rewritten_query = llm(prompt)"
   ]
  },
  {
   "cell_type": "code",
   "execution_count": 56,
   "id": "696ab252",
   "metadata": {},
   "outputs": [
    {
     "data": {
      "text/plain": [
       "AIMessage(content='What does the document say about Balloon payments?', additional_kwargs={'refusal': None}, response_metadata={'token_usage': {'completion_tokens': 11, 'prompt_tokens': 166, 'total_tokens': 177, 'completion_tokens_details': {'accepted_prediction_tokens': 0, 'audio_tokens': 0, 'reasoning_tokens': 0, 'rejected_prediction_tokens': 0}, 'prompt_tokens_details': {'audio_tokens': 0, 'cached_tokens': 0}}, 'model_name': 'gpt-3.5-turbo-0125', 'system_fingerprint': None, 'finish_reason': 'stop', 'logprobs': None}, id='run-89fb00f9-a29f-4033-8cfc-05d1ab794b4a-0', usage_metadata={'input_tokens': 166, 'output_tokens': 11, 'total_tokens': 177, 'input_token_details': {'audio': 0, 'cache_read': 0}, 'output_token_details': {'audio': 0, 'reasoning': 0}})"
      ]
     },
     "execution_count": 56,
     "metadata": {},
     "output_type": "execute_result"
    }
   ],
   "source": [
    "rewritten_query"
   ]
  },
  {
   "cell_type": "code",
   "execution_count": 57,
   "id": "3cf7de57",
   "metadata": {},
   "outputs": [],
   "source": [
    "query = rewritten_query.content"
   ]
  },
  {
   "cell_type": "code",
   "execution_count": 58,
   "id": "9a97d4a2",
   "metadata": {},
   "outputs": [
    {
     "data": {
      "text/plain": [
       "'What does the document say about Balloon payments?'"
      ]
     },
     "execution_count": 58,
     "metadata": {},
     "output_type": "execute_result"
    }
   ],
   "source": [
    "# reaphrased query to be searched in vector DB\n",
    "query"
   ]
  },
  {
   "cell_type": "markdown",
   "id": "b9775096",
   "metadata": {},
   "source": [
    "# Fetch relevant chunks from Vector DB"
   ]
  },
  {
   "cell_type": "code",
   "execution_count": 59,
   "id": "122de57f",
   "metadata": {},
   "outputs": [],
   "source": [
    "top_chunks_with_scores = vector_db.similarity_search_with_score(query, k=3)"
   ]
  },
  {
   "cell_type": "code",
   "execution_count": 60,
   "id": "239bab94",
   "metadata": {},
   "outputs": [
    {
     "data": {
      "text/plain": [
       "[(Document(metadata={'coordinates': '[[74.28336334228516, 736.0769653320312, 161.34852600097656, 747.1239013671875], [287.99462890625, 736.0769653320312, 290.229736328125, 747.1239013671875], [395.9959411621094, 736.0769653320312, 424.5137939453125, 747.1239013671875], [72.0, 745.435546875, 172.51608276367188, 756.4824829101562], [108.0, 70.33489990234375, 531.4722900390625, 85.06226348876953], [107.98892211914062, 82.9315185546875, 530.2137451171875, 97.65888214111328], [107.98892974853516, 95.64959716796875, 110.74893188476562, 110.37696075439453], [108.0, 108.2548828125, 110.76000213623047, 122.98224639892578], [144.00143432617188, 108.2548828125, 154.08094787597656, 122.98224639892578], [180.00286865234375, 108.2548828125, 540.229248046875, 122.98224639892578], [108.0, 120.974853515625, 523.3866577148438, 135.70220947265625], [107.98895263671875, 133.57147216796875, 527.734130859375, 148.298828125], [107.98892211914062, 146.1680908203125, 520.8927001953125, 160.89544677734375], [107.98892211914062, 158.88616943359375, 177.11036682128906, 173.613525390625], [108.0, 171.494873046875, 110.76000213623047, 186.22222900390625], [108.0, 184.21490478515625, 110.76000213623047, 198.9422607421875], [144.00143432617188, 184.21490478515625, 154.67710876464844, 198.9422607421875], [179.99183654785156, 184.21490478515625, 529.27978515625, 198.9422607421875], [108.0, 196.81488037109375, 542.4618530273438, 211.542236328125], [107.98898315429688, 209.4114990234375, 517.02099609375, 224.13885498046875], [107.98898315429688, 222.12957763671875, 475.4222717285156, 236.85693359375], [108.0, 234.73486328125, 110.76000213623047, 249.46221923828125], [108.0, 247.45489501953125, 110.76000213623047, 262.1822509765625], [144.00143432617188, 247.45489501953125, 154.4452667236328, 262.1822509765625], [180.0028839111328, 247.45489501953125, 530.530517578125, 262.1822509765625], [108.0, 260.05487060546875, 538.1978149414062, 274.7822265625], [108.0, 272.77294921875, 531.600341796875, 287.50030517578125], [107.99996948242188, 285.3695983886719, 534.00146484375, 300.0969543457031], [107.99996948242188, 297.96624755859375, 532.0783081054688, 312.693603515625], [107.99996948242188, 310.684326171875, 413.28912353515625, 325.41168212890625], [432.012939453125, 310.684326171875, 434.77294921875, 325.41168212890625], [108.0, 323.2948913574219, 110.76000213623047, 338.0222473144531], [108.0, 336.014892578125, 110.76000213623047, 350.74224853515625], [144.00143432617188, 336.014892578125, 153.12046813964844, 350.74224853515625], [180.00286865234375, 336.014892578125, 525.3757934570312, 350.74224853515625], [108.0, 348.6148681640625, 506.2823791503906, 363.34222412109375], [108.0, 361.2115173339844, 538.9165649414062, 375.9388732910156], [108.0, 373.93487548828125, 287.0357360839844, 388.6622314453125], [108.0, 386.5348815917969, 110.76000213623047, 401.2622375488281], [72.0, 399.2548828125, 82.6756820678711, 413.98223876953125], [107.99040222167969, 399.2548828125, 532.0621337890625, 413.98223876953125], [72.0, 411.8548889160156, 537.002685546875, 426.5822448730469], [72.0, 424.4515380859375, 539.6357421875, 439.17889404296875], [71.98895263671875, 437.16961669921875, 500.5091552734375, 451.89697265625], [71.98895263671875, 449.7662658691406, 509.095703125, 464.4936218261719], [71.98895263671875, 462.4843444824219, 458.71478271484375, 477.2117004394531], [72.0, 475.0948791503906, 74.76000213623047, 489.8222351074219], [72.0, 487.69488525390625, 82.6756820678711, 502.4222412109375], [107.99040222167969, 487.69488525390625, 524.5969848632812, 502.4222412109375], [72.0, 500.4149169921875, 523.3008422851562, 515.1422729492188], [71.98895263671875, 513.0115356445312, 539.389404296875, 527.7388916015625], [71.9888916015625, 525.7296142578125, 529.6664428710938, 540.4569702148438], [71.98892211914062, 538.3262329101562, 538.394775390625, 553.0535888671875], [71.9779052734375, 550.9228515625, 161.7143096923828, 565.6502075195312], [72.0, 563.6549072265625, 74.76000213623047, 578.3822631835938], [72.0, 576.2548828125, 82.6756820678711, 590.9822387695312], [107.99040222167969, 576.2548828125, 529.0595092773438, 590.9822387695312], [72.0, 588.974853515625, 541.66796875, 603.7022094726562], [72.0, 601.5748901367188, 390.48193359375, 616.30224609375], [72.0, 614.2948608398438, 74.76000213623047, 629.022216796875], [72.0, 626.8948974609375, 82.6756820678711, 641.6222534179688], [107.99040222167969, 626.8948974609375, 462.58416748046875, 641.6222534179688], [72.0, 639.494873046875, 74.76000213623047, 654.2222290039062], [108.00143432617188, 639.494873046875, 110.76143646240234, 654.2222290039062], [144.00286865234375, 639.494873046875, 207.36141967773438, 654.2222290039062], [72.0, 652.21484375, 74.76000213623047, 666.9421997070312], [108.00143432617188, 652.21484375, 110.76143646240234, 666.9421997070312], [144.00286865234375, 652.21484375, 146.7628631591797, 666.9421997070312], [71.99999237060547, 664.8115234375, 74.75999450683594, 679.5388793945312], [108.00143432617188, 664.8115234375, 110.76143646240234, 679.5388793945312], [144.00286865234375, 664.8115234375, 154.08238220214844, 679.5388793945312], [180.00430297851562, 664.8115234375, 527.5213623046875, 679.5388793945312], [108.00140380859375, 677.5296020507812, 531.2487182617188, 692.2569580078125], [108.01240539550781, 690.126220703125, 199.80224609375, 704.8535766601562]]', 'page': 2}, page_content='sba form 2287 ( 04 - 18 ) 3 previous editions obsolete failure to pay taxes when due or violation of any financial covenants which would cause a prudent lender to believe that the prospect of payment or performance of the third party note is impaired. c. no cross - collateralization. third party lender agrees that the common collateral will only secure its third party loan and the common collateral is not currently, and will not be used in the future, as security for any other financing provided by third party lender to borrower that purports to be in a superior position to that of the cdc lien, unless authorized in writing by cdc and sba. d. no cross - default. during the term of the 504 loan, third party lender will not exercise any cross - default, \" deem at - risk, \" or any other provisions in documents evidencing the third party loan or third party lender lien which allow third party lender to make demand on the third party loan prior to maturity unless the third party loan is in material default. e. maturity and balloon payments. the third party loan must have a term of at least 7 years ( when the 504 loan is for a term of 10 years ), or a term of at least10 years ( when the 504 loan is for 20 or 25 years ). if the third party lender has made more than one loan, then an overall loan maturity must be calculated, taking into account the amounts and maturities of each loan. any balloon payment for the third party loan must be clearly identified and disclosed to sba and approved at application or subsequently approved by sba. f. reasonable interest rate. the third party loan has a reasonable interest rate which does not and will not exceed the maximum interest rate for third party loans from commercial financial institutions as published periodically by sba in the federal register and in effect as of the date of this agreement. 6. marshaling of assets. if the third party lender takes additional collateral as security for the third party loan, in the case of liquidation, any proceeds received from such additional collateral, must be applied to the third party lender \\' s loan prior to the proceeds from the liquidation of the common collateral held by the cdc / sba and the third party lender. if the additional collateral no longer exists at the time of liquidation, or has insufficient value to justify the cost of collection, then the third party lend ##er is not required to liquidate such collateral, provided the third party lender notifies cdc / sba. 7. notice of default under the third party loan. within thirty ( 30 ) days after the expiration of any cure period for any continuing material default of the third party loan or third party lender lien, third party lender must provide written notice ( referencing sba ’ s loan number for the 504 loan ) of the default to cdc and sba. at least sixty 60 days prior to any legal proceedings against or liquidation of the common collateral ( not including sending a demand letter ), third party lender must provide sba with written notice of its intent to do so. 8. limitation on default interest rate. third party lender may not escalate the rate of interest upon default to a rate greater than the maximum rate published by sba in the federal register. sba will only pay the interest rate on the note in effect before the date of borrower ’ s default. 9. subordination to 504 loan and / or cdc lien, of amounts attributable to default provisions. a. the term \" default charges \" used in this paragraph includes, but is not limited to, prepayment penalties, late fees, other default charges, and escalated interest after default due under the third party loan.'),\n",
       "  1.386155128479004),\n",
       " (Document(metadata={'coordinates': '[[74.28336334228516, 736.0769653320312, 161.34852600097656, 747.1239013671875], [287.99462890625, 736.0769653320312, 290.229736328125, 747.1239013671875], [395.9959411621094, 736.0769653320312, 424.5137939453125, 747.1239013671875], [72.0, 745.435546875, 172.51608276367188, 756.4824829101562], [72.0, 70.33489990234375, 90.72383880615234, 85.06226348876953], [108.00143432617188, 70.33489990234375, 536.7574462890625, 85.06226348876953], [72.0, 82.93487548828125, 513.7203369140625, 97.66223907470703], [72.0, 95.6529541015625, 511.0798034667969, 110.38031768798828], [72.0, 108.24957275390625, 509.6444091796875, 122.97693634033203], [72.0, 120.9676513671875, 510.1202697753906, 135.69500732421875], [72.0, 133.56427001953125, 517.239501953125, 148.2916259765625], [72.0, 146.160888671875, 542.752197265625, 160.88824462890625], [71.98894500732422, 158.87896728515625, 503.38934326171875, 173.6063232421875], [71.98894500732422, 171.4755859375, 483.4608154296875, 186.20294189453125], [72.0, 184.21490478515625, 74.76000213623047, 198.9422607421875], [72.0, 196.81488037109375, 530.9725341796875, 211.542236328125], [72.0, 209.41485595703125, 517.011474609375, 224.1422119140625], [72.0, 222.1329345703125, 520.1533203125, 236.86029052734375], [72.0, 234.72955322265625, 536.8104858398438, 249.4569091796875], [72.0, 247.4476318359375, 256.7985534667969, 262.17498779296875], [72.0, 260.05487060546875, 74.76000213623047, 274.7822265625], [72.0, 273.8990173339844, 525.953369140625, 287.3788757324219], [71.99996948242188, 286.49566650390625, 136.79373168945312, 299.97552490234375], [71.98893737792969, 299.0923156738281, 74.74893951416016, 312.5721740722656], [72.0, 310.69488525390625, 88.55999755859375, 325.4222412109375], [108.00143432617188, 310.69488525390625, 518.0469360351562, 325.4222412109375], [72.0, 323.2948913574219, 513.240234375, 338.0222473144531], [72.0, 336.0129699707031, 498.9599609375, 350.7403259277344], [72.0, 348.609619140625, 525.8401489257812, 363.33697509765625], [72.0, 361.2062683105469, 344.87567138671875, 375.9336242675781], [72.0, 373.93487548828125, 74.76000213623047, 388.6622314453125], [72.0, 386.5348815917969, 88.0742416381836, 401.2622375488281], [107.99040222167969, 386.5348815917969, 526.0567016601562, 401.2622375488281], [72.0, 399.2548828125, 522.5303955078125, 413.98223876953125], [72.0, 411.8515319824219, 535.4439086914062, 426.5788879394531], [72.00003051757812, 424.44818115234375, 520.6778564453125, 439.175537109375], [72.00003051757812, 437.166259765625, 520.2008666992188, 451.89361572265625], [72.00003051757812, 449.7629089355469, 193.3075408935547, 464.4902648925781], [72.0, 462.494873046875, 74.76000213623047, 477.22222900390625], [72.0, 475.0948791503906, 85.43568420410156, 489.8222351074219], [107.99040222167969, 475.0948791503906, 541.97314453125, 489.8222351074219], [72.0, 487.69488525390625, 532.9078369140625, 502.4222412109375], [71.98898315429688, 500.4129638671875, 537.1802978515625, 515.1403198242188], [71.98898315429688, 513.0096435546875, 512.26416015625, 527.7369995117188], [72.0, 525.73486328125, 74.76000213623047, 540.4622192382812], [72.0, 538.3348999023438, 88.0742416381836, 553.062255859375], [107.99040222167969, 538.3348999023438, 167.03231811523438, 553.062255859375], [179.9932861328125, 538.3348999023438, 531.5182495117188, 553.062255859375], [72.0, 550.9348754882812, 537.6561279296875, 565.6622314453125], [72.0, 563.6529541015625, 526.9179077148438, 578.3803100585938], [72.0, 576.2495727539062, 540.7619018554688, 590.9769287109375], [72.0, 588.9676513671875, 535.9097290039062, 603.6950073242188], [72.0, 601.5643310546875, 528.702880859375, 616.2916870117188], [71.99996948242188, 614.2823486328125, 516.3599853515625, 629.0097045898438], [72.0, 626.8948974609375, 74.76000213623047, 641.6222534179688], [72.0, 639.494873046875, 88.0742416381836, 654.2222290039062], [107.99040222167969, 639.494873046875, 531.7167358398438, 654.2222290039062], [72.0, 652.21484375, 343.79486083984375, 666.9421997070312], [72.0, 664.8148803710938, 74.76000213623047, 679.542236328125], [72.0, 677.534912109375, 88.0742416381836, 692.2622680664062], [107.99040222167969, 677.534912109375, 542.2687377929688, 692.2622680664062], [72.0, 690.1348876953125, 448.7666015625, 704.8622436523438]]', 'page': 4}, page_content=\"sba form 2287 ( 04 - 18 ) 5 previous editions obsolete 10. liquidation. in the event that either the third party loan or the 504 loan is declared in default, third party lender and cdc and sba agree to cooperate in liquidating and / or selling the common collateral. third party lender agrees to ( a ) accept a u. s. treasury check ( s ) in connection with any purchase of third party lender ’ s note or any foreclosure or liquidation bid by cdc or sba ; ( b ) to provide cdc and sba with the loan payment status, loan payment history, and an itemized payoff statement of the third party loan ; ( c ) to provide cdc and sba, at no charge ( except for reasonable charges for photocopies ) with copies of any appraisals, environmental investigations, or title examinations or searches of the collateral conducted by or for third party lender ; and ( d ) to provide any other information about borrower or the third party loan requested by cdc and sba in writing. 11. waiver of right to indemnification by sba or cdc. if third party lender ' s documents contain provisions granting third party lender the right to indemnification by subsequent owners of the project property, then third party lender waives its right to enforce such provisions against sba or cdc in the event sba or cdc acquires title to the project property through foreclosure of the cdc lien, acceptance of a deed in lieu of foreclosure, or otherwise. paragraph 12 is optional and should be marked if cdc uses third party lender to perform customer identification. 12. bank regulatory issues. if third party lender is regulated by one of the federal functional regulators ( comptroller of the currency, federal deposit insurance corporation, or national credit union administration ), third party lender represents that it is subject to the joint final rule on customer identification programs ( cip ) in 31 c. f. r. 103. 121 and that it or its agent will perform with respect to the borrower the specified requirements of its cip. 13. no implied third party beneficiaries. to the extent there is a conflict between this agreement and any provision in any agreement either party may have with a third party, including but not limited to, borrower, the terms and conditions in this agreement shall supersede any such provision. the parties agree that sba may enforce this agreement as a third party beneficiary, and further agree that this agreement shall not grant any right, benefit, priority, or interest to any other third party, including but not limited to, borrower and guarantor ( s ). 14 successors and assigns. this agreement will inure to the benefit of and bind the respective parties to this agreement, and their successors and assigns, including any party acquiring the third party loan and third party lender lien by sale, assignment, or other transfer from third party lender. third party lender agrees that cdc may assign this agreement to sba, and waives all rights to contest such assignment. 15. federal law. when sba is the holder of the loan instruments evidencing the 504 loan and any security for that loan ( including but not limited to the cdc lien on the common collateral ), this agreement and all such instruments will be construed in accordance with federal law. cdc or sba may use local or state procedures for purposes such as filing papers, recording documents, giving notice, foreclosing liens, and other purposes, but by using these procedures, sba does not waive any federal immunity from local or state control, penalty, tax, or liability. the third party lender may not claim or assert against sba any local or state law to deny any obligation of borrower, or defeat any claim of sba with respect to the 504 loan. 16. termination : this document will be released and terminated upon the payment in full of either the third party loan or the 504 loan and all costs related thereto. 17. counterparts. this agreement may be executed in any number of counterparts, each of which will be deemed an original, and all of which together constitute one and the same instrument.\"),\n",
       "  1.4220768213272095),\n",
       " (Document(metadata={'coordinates': '[[74.28336334228516, 736.0769653320312, 161.34852600097656, 747.1239013671875], [287.99462890625, 736.0769653320312, 290.229736328125, 747.1239013671875], [395.9959411621094, 736.0769653320312, 424.5137939453125, 747.1239013671875], [72.0, 745.435546875, 172.51608276367188, 756.4824829101562], [72.0, 70.33489990234375, 88.0742416381836, 85.06226348876953], [107.99040222167969, 70.33489990234375, 530.093994140625, 85.06226348876953], [72.0, 82.93487548828125, 526.9142456054688, 97.66223907470703], [72.0, 95.6549072265625, 74.76000213623047, 110.38227081298828], [72.0, 108.2548828125, 88.0742416381836, 122.98224639892578], [107.99040222167969, 108.2548828125, 523.3705444335938, 122.98224639892578], [72.0, 120.974853515625, 507.3624267578125, 135.70220947265625], [72.0, 133.57147216796875, 484.6080017089844, 148.298828125], [72.0, 146.17486572265625, 74.76000213623047, 160.9022216796875], [72.0, 158.8948974609375, 88.08528137207031, 173.62225341796875], [108.00143432617188, 158.8948974609375, 519.549560546875, 173.62225341796875], [72.0, 171.494873046875, 384.9619140625, 186.22222900390625], [72.0, 184.21490478515625, 74.76000213623047, 198.9422607421875], [72.0, 197.15423583984375, 123.23664093017578, 212.4446258544922], [72.0, 209.41485595703125, 74.76000213623047, 224.1422119140625], [72.0, 222.1329345703125, 74.76000213623047, 236.86029052734375], [72.0, 234.72955322265625, 293.39617919921875, 249.4569091796875], [72.0, 247.4476318359375, 292.3253173828125, 262.17498779296875], [72.00001525878906, 260.04425048828125, 290.40435791015625, 274.7716064453125], [72.00001525878906, 272.7623291015625, 74.76001739501953, 287.48968505859375], [72.00001525878906, 285.3589782714844, 74.76001739501953, 300.0863342285156], [72.0, 298.3142395019531, 317.165283203125, 313.6046447753906], [72.0, 310.69488525390625, 74.76000213623047, 325.4222412109375], [72.0, 323.2915344238281, 74.76000213623047, 338.0188903808594], [72.0, 336.0096130371094, 293.39617919921875, 350.7369689941406], [72.0, 348.60626220703125, 292.3142395019531, 363.3336181640625], [71.98893737792969, 361.2029113769531, 290.3932800292969, 375.9302673339844], [71.98893737792969, 373.9209899902344, 74.74893951416016, 388.6483459472656], [71.98893737792969, 386.51763916015625, 74.74893951416016, 401.2449951171875], [248.87181091308594, 399.4786071777344, 365.87371826171875, 414.8683776855469], [71.9888916015625, 411.8434143066406, 319.54986572265625, 426.5707702636719], [71.9888916015625, 424.4400634765625, 74.74889373779297, 439.16741943359375], [71.9888916015625, 437.15814208984375, 466.06170654296875, 451.885498046875], [72.0, 449.7748718261719, 493.79425048828125, 464.5022277832031], [72.0, 462.494873046875, 319.6448059082031, 477.22222900390625], [108.00143432617188, 475.0915222167969, 110.76143646240234, 489.8188781738281], [72.0, 487.68817138671875, 75.67632293701172, 502.41552734375], [75.7204818725586, 488.8142395019531, 542.7685546875, 502.2940979003906], [72.0, 501.5323181152344, 100.80004119873047, 515.0121459960938], [104.52052307128906, 501.5323181152344, 113.4011001586914, 515.0121459960938], [117.12158203125, 501.5323181152344, 154.8011016845703, 515.0121459960938], [158.52157592773438, 501.5323181152344, 186.96173095703125, 515.0121459960938], [190.56187438964844, 501.5323181152344, 214.0814971923828, 515.0121459960938], [217.80197143554688, 501.5323181152344, 239.28138732910156, 515.0121459960938], [243.00186157226562, 501.5323181152344, 245.76185607910156, 515.0121459960938], [249.48233032226562, 501.5323181152344, 258.9612731933594, 515.0121459960938], [262.6817626953125, 501.5323181152344, 272.76129150390625, 515.0121459960938], [276.4817810058594, 501.5323181152344, 301.8020324707031, 515.0121459960938], [305.52252197265625, 501.5323181152344, 352.44140625, 515.0121459960938], [356.04156494140625, 501.5323181152344, 418.8017272949219, 515.0121459960938], [422.4007873535156, 501.5323181152344, 433.68145751953125, 515.0121459960938], [437.4019470214844, 501.5323181152344, 456.721923828125, 515.0121459960938], [460.4424133300781, 501.5323181152344, 479.1618347167969, 515.0121459960938], [482.88232421875, 501.5323181152344, 526.5620727539062, 515.0121459960938], [530.2825317382812, 501.5323181152344, 542.7621459960938, 515.0121459960938], [72.0, 514.1290283203125, 307.9236145019531, 527.6088256835938], [307.9248046875, 513.0029296875, 311.60113525390625, 527.7302856445312]]', 'page': 5}, page_content='sba form 2287 ( 04 - 18 ) 6 previous editions obsolete 18. validity of provisions. in the event that any provision of this agreement is deemed invalid by a court of competent jurisdiction, all other provisions of this agreement shall remain valid and enforceable. 19. revision of this agreement. both third party lender and cdc agree that this agreement is a standard sba form, and, as such, neither party has authority to modify or delete any provision in this agreement, or add any additional provisions, without prior written authorization from the sba. 20. authority to execute agreement. the persons signing below certify that they have been duly authorized to execute this agreement on behalf of their respective party. lender : by : _ _ _ _ _ _ _ _ _ _ _ _ _ _ _ _ _ _ _ _ _ _ _ _ _ _ _ _ _ _ _ _ _ _ _ _ _ print name : _ _ _ _ _ _ _ _ _ _ _ _ _ _ _ _ _ _ _ _ _ _ _ _ _ _ _ _ _ _ title : _ _ _ _ _ _ _ _ _ _ _ _ _ _ _ _ _ _ _ _ _ _ _ _ _ _ _ _ _ _ _ _ _ _ _ _ certified development company ( cdc ) : by : _ _ _ _ _ _ _ _ _ _ _ _ _ _ _ _ _ _ _ _ _ _ _ _ _ _ _ _ _ _ _ _ _ _ _ _ _ print name : _ _ _ _ _ _ _ _ _ _ _ _ _ _ _ _ _ _ _ _ _ _ _ _ _ _ _ _ _ _ title : _ _ _ _ _ _ _ _ _ _ _ _ _ _ _ _ _ _ _ _ _ _ _ _ _ _ _ _ _ _ _ _ _ _ _ _ assignment to sba cdc assigns this third party lender agreement to sba. by : _ _ _ _ _ _ _ _ _ _ _ _ _ _ _ _ _ _ _ _ _ _ _ _ _ _ _ _ _ _ _ _ _ _ _ _ _ _ _ _ _ _ _ _ _ _ _ _ _ _ _ _ _ date : _ _ _ _ _ _ _ _ _ _ _ typed name : _ _ _ _ _ _ _ _ _ _ _ _ _ _ _ _ _ _ _ _ _ _ _ _ _ _ _ _ _ _ _ _ _ _ _ _ _ _ _ _ _ _ _ _, authorized officer of cdc. attest : _ _ _ _ _ _ _ _ _ _ _ _ _ _ _ _ _ _ _ _ _ _ _ _ _ _ _ _ _ _ _ _ _ _ _ _ _ _ _ _ [ note : this document or a memorandum of same must be recorded in the appropriate forum for lien filing, if allowed under state law. it is cdc counsel ’ s responsibility to add any language or acknowledgments required by state law for recording ]'),\n",
       "  1.4894229173660278)]"
      ]
     },
     "execution_count": 60,
     "metadata": {},
     "output_type": "execute_result"
    }
   ],
   "source": [
    "top_chunks_with_scores"
   ]
  },
  {
   "cell_type": "code",
   "execution_count": 61,
   "id": "373c9f0b",
   "metadata": {},
   "outputs": [],
   "source": [
    "# Extract chunk texts for cross-encoding\n",
    "top_chunks = [chunk.page_content for chunk, _ in top_chunks_with_scores]"
   ]
  },
  {
   "cell_type": "code",
   "execution_count": 62,
   "id": "69a81ae7",
   "metadata": {},
   "outputs": [],
   "source": [
    "cross_encoder = CrossEncoder(\"cross-encoder/ms-marco-MiniLM-L-6-v2\")"
   ]
  },
  {
   "cell_type": "code",
   "execution_count": 63,
   "id": "dd3f88ed",
   "metadata": {},
   "outputs": [],
   "source": [
    "query_chunk_pairs = [(query, chunk) for chunk in top_chunks]"
   ]
  },
  {
   "cell_type": "code",
   "execution_count": 64,
   "id": "c8c6c273",
   "metadata": {},
   "outputs": [
    {
     "data": {
      "text/plain": [
       "[('What does the document say about Balloon payments?',\n",
       "  'sba form 2287 ( 04 - 18 ) 3 previous editions obsolete failure to pay taxes when due or violation of any financial covenants which would cause a prudent lender to believe that the prospect of payment or performance of the third party note is impaired. c. no cross - collateralization. third party lender agrees that the common collateral will only secure its third party loan and the common collateral is not currently, and will not be used in the future, as security for any other financing provided by third party lender to borrower that purports to be in a superior position to that of the cdc lien, unless authorized in writing by cdc and sba. d. no cross - default. during the term of the 504 loan, third party lender will not exercise any cross - default, \" deem at - risk, \" or any other provisions in documents evidencing the third party loan or third party lender lien which allow third party lender to make demand on the third party loan prior to maturity unless the third party loan is in material default. e. maturity and balloon payments. the third party loan must have a term of at least 7 years ( when the 504 loan is for a term of 10 years ), or a term of at least10 years ( when the 504 loan is for 20 or 25 years ). if the third party lender has made more than one loan, then an overall loan maturity must be calculated, taking into account the amounts and maturities of each loan. any balloon payment for the third party loan must be clearly identified and disclosed to sba and approved at application or subsequently approved by sba. f. reasonable interest rate. the third party loan has a reasonable interest rate which does not and will not exceed the maximum interest rate for third party loans from commercial financial institutions as published periodically by sba in the federal register and in effect as of the date of this agreement. 6. marshaling of assets. if the third party lender takes additional collateral as security for the third party loan, in the case of liquidation, any proceeds received from such additional collateral, must be applied to the third party lender \\' s loan prior to the proceeds from the liquidation of the common collateral held by the cdc / sba and the third party lender. if the additional collateral no longer exists at the time of liquidation, or has insufficient value to justify the cost of collection, then the third party lend ##er is not required to liquidate such collateral, provided the third party lender notifies cdc / sba. 7. notice of default under the third party loan. within thirty ( 30 ) days after the expiration of any cure period for any continuing material default of the third party loan or third party lender lien, third party lender must provide written notice ( referencing sba ’ s loan number for the 504 loan ) of the default to cdc and sba. at least sixty 60 days prior to any legal proceedings against or liquidation of the common collateral ( not including sending a demand letter ), third party lender must provide sba with written notice of its intent to do so. 8. limitation on default interest rate. third party lender may not escalate the rate of interest upon default to a rate greater than the maximum rate published by sba in the federal register. sba will only pay the interest rate on the note in effect before the date of borrower ’ s default. 9. subordination to 504 loan and / or cdc lien, of amounts attributable to default provisions. a. the term \" default charges \" used in this paragraph includes, but is not limited to, prepayment penalties, late fees, other default charges, and escalated interest after default due under the third party loan.'),\n",
       " ('What does the document say about Balloon payments?',\n",
       "  \"sba form 2287 ( 04 - 18 ) 5 previous editions obsolete 10. liquidation. in the event that either the third party loan or the 504 loan is declared in default, third party lender and cdc and sba agree to cooperate in liquidating and / or selling the common collateral. third party lender agrees to ( a ) accept a u. s. treasury check ( s ) in connection with any purchase of third party lender ’ s note or any foreclosure or liquidation bid by cdc or sba ; ( b ) to provide cdc and sba with the loan payment status, loan payment history, and an itemized payoff statement of the third party loan ; ( c ) to provide cdc and sba, at no charge ( except for reasonable charges for photocopies ) with copies of any appraisals, environmental investigations, or title examinations or searches of the collateral conducted by or for third party lender ; and ( d ) to provide any other information about borrower or the third party loan requested by cdc and sba in writing. 11. waiver of right to indemnification by sba or cdc. if third party lender ' s documents contain provisions granting third party lender the right to indemnification by subsequent owners of the project property, then third party lender waives its right to enforce such provisions against sba or cdc in the event sba or cdc acquires title to the project property through foreclosure of the cdc lien, acceptance of a deed in lieu of foreclosure, or otherwise. paragraph 12 is optional and should be marked if cdc uses third party lender to perform customer identification. 12. bank regulatory issues. if third party lender is regulated by one of the federal functional regulators ( comptroller of the currency, federal deposit insurance corporation, or national credit union administration ), third party lender represents that it is subject to the joint final rule on customer identification programs ( cip ) in 31 c. f. r. 103. 121 and that it or its agent will perform with respect to the borrower the specified requirements of its cip. 13. no implied third party beneficiaries. to the extent there is a conflict between this agreement and any provision in any agreement either party may have with a third party, including but not limited to, borrower, the terms and conditions in this agreement shall supersede any such provision. the parties agree that sba may enforce this agreement as a third party beneficiary, and further agree that this agreement shall not grant any right, benefit, priority, or interest to any other third party, including but not limited to, borrower and guarantor ( s ). 14 successors and assigns. this agreement will inure to the benefit of and bind the respective parties to this agreement, and their successors and assigns, including any party acquiring the third party loan and third party lender lien by sale, assignment, or other transfer from third party lender. third party lender agrees that cdc may assign this agreement to sba, and waives all rights to contest such assignment. 15. federal law. when sba is the holder of the loan instruments evidencing the 504 loan and any security for that loan ( including but not limited to the cdc lien on the common collateral ), this agreement and all such instruments will be construed in accordance with federal law. cdc or sba may use local or state procedures for purposes such as filing papers, recording documents, giving notice, foreclosing liens, and other purposes, but by using these procedures, sba does not waive any federal immunity from local or state control, penalty, tax, or liability. the third party lender may not claim or assert against sba any local or state law to deny any obligation of borrower, or defeat any claim of sba with respect to the 504 loan. 16. termination : this document will be released and terminated upon the payment in full of either the third party loan or the 504 loan and all costs related thereto. 17. counterparts. this agreement may be executed in any number of counterparts, each of which will be deemed an original, and all of which together constitute one and the same instrument.\"),\n",
       " ('What does the document say about Balloon payments?',\n",
       "  'sba form 2287 ( 04 - 18 ) 6 previous editions obsolete 18. validity of provisions. in the event that any provision of this agreement is deemed invalid by a court of competent jurisdiction, all other provisions of this agreement shall remain valid and enforceable. 19. revision of this agreement. both third party lender and cdc agree that this agreement is a standard sba form, and, as such, neither party has authority to modify or delete any provision in this agreement, or add any additional provisions, without prior written authorization from the sba. 20. authority to execute agreement. the persons signing below certify that they have been duly authorized to execute this agreement on behalf of their respective party. lender : by : _ _ _ _ _ _ _ _ _ _ _ _ _ _ _ _ _ _ _ _ _ _ _ _ _ _ _ _ _ _ _ _ _ _ _ _ _ print name : _ _ _ _ _ _ _ _ _ _ _ _ _ _ _ _ _ _ _ _ _ _ _ _ _ _ _ _ _ _ title : _ _ _ _ _ _ _ _ _ _ _ _ _ _ _ _ _ _ _ _ _ _ _ _ _ _ _ _ _ _ _ _ _ _ _ _ certified development company ( cdc ) : by : _ _ _ _ _ _ _ _ _ _ _ _ _ _ _ _ _ _ _ _ _ _ _ _ _ _ _ _ _ _ _ _ _ _ _ _ _ print name : _ _ _ _ _ _ _ _ _ _ _ _ _ _ _ _ _ _ _ _ _ _ _ _ _ _ _ _ _ _ title : _ _ _ _ _ _ _ _ _ _ _ _ _ _ _ _ _ _ _ _ _ _ _ _ _ _ _ _ _ _ _ _ _ _ _ _ assignment to sba cdc assigns this third party lender agreement to sba. by : _ _ _ _ _ _ _ _ _ _ _ _ _ _ _ _ _ _ _ _ _ _ _ _ _ _ _ _ _ _ _ _ _ _ _ _ _ _ _ _ _ _ _ _ _ _ _ _ _ _ _ _ _ date : _ _ _ _ _ _ _ _ _ _ _ typed name : _ _ _ _ _ _ _ _ _ _ _ _ _ _ _ _ _ _ _ _ _ _ _ _ _ _ _ _ _ _ _ _ _ _ _ _ _ _ _ _ _ _ _ _, authorized officer of cdc. attest : _ _ _ _ _ _ _ _ _ _ _ _ _ _ _ _ _ _ _ _ _ _ _ _ _ _ _ _ _ _ _ _ _ _ _ _ _ _ _ _ [ note : this document or a memorandum of same must be recorded in the appropriate forum for lien filing, if allowed under state law. it is cdc counsel ’ s responsibility to add any language or acknowledgments required by state law for recording ]')]"
      ]
     },
     "execution_count": 64,
     "metadata": {},
     "output_type": "execute_result"
    }
   ],
   "source": [
    "query_chunk_pairs"
   ]
  },
  {
   "cell_type": "code",
   "execution_count": 65,
   "id": "899f91a3",
   "metadata": {},
   "outputs": [],
   "source": [
    "cross_encoded_scores = cross_encoder.predict(query_chunk_pairs)"
   ]
  },
  {
   "cell_type": "code",
   "execution_count": 66,
   "id": "caec509d",
   "metadata": {},
   "outputs": [],
   "source": [
    "# Pair chunks with their cross-encoder scores and sort them in descending order\n",
    "ranked_chunks_with_scores = sorted(\n",
    "    zip(top_chunks_with_scores, cross_encoded_scores),\n",
    "    key=lambda x: x[1],  # Sort by score (descending)\n",
    "    reverse=True\n",
    ")"
   ]
  },
  {
   "cell_type": "code",
   "execution_count": 67,
   "id": "0157b74b",
   "metadata": {},
   "outputs": [],
   "source": [
    "top_chunk_cross_encoded, top_cross_encoded_score = ranked_chunks_with_scores[0][0]"
   ]
  },
  {
   "cell_type": "code",
   "execution_count": 68,
   "id": "93b43789",
   "metadata": {},
   "outputs": [],
   "source": [
    "metadata_of_top_chunk = top_chunk_cross_encoded.metadata"
   ]
  },
  {
   "cell_type": "code",
   "execution_count": 69,
   "id": "af72b15a",
   "metadata": {},
   "outputs": [
    {
     "data": {
      "text/plain": [
       "Document(metadata={'coordinates': '[[74.28336334228516, 736.0769653320312, 161.34852600097656, 747.1239013671875], [287.99462890625, 736.0769653320312, 290.229736328125, 747.1239013671875], [395.9959411621094, 736.0769653320312, 424.5137939453125, 747.1239013671875], [72.0, 745.435546875, 172.51608276367188, 756.4824829101562], [108.0, 70.33489990234375, 531.4722900390625, 85.06226348876953], [107.98892211914062, 82.9315185546875, 530.2137451171875, 97.65888214111328], [107.98892974853516, 95.64959716796875, 110.74893188476562, 110.37696075439453], [108.0, 108.2548828125, 110.76000213623047, 122.98224639892578], [144.00143432617188, 108.2548828125, 154.08094787597656, 122.98224639892578], [180.00286865234375, 108.2548828125, 540.229248046875, 122.98224639892578], [108.0, 120.974853515625, 523.3866577148438, 135.70220947265625], [107.98895263671875, 133.57147216796875, 527.734130859375, 148.298828125], [107.98892211914062, 146.1680908203125, 520.8927001953125, 160.89544677734375], [107.98892211914062, 158.88616943359375, 177.11036682128906, 173.613525390625], [108.0, 171.494873046875, 110.76000213623047, 186.22222900390625], [108.0, 184.21490478515625, 110.76000213623047, 198.9422607421875], [144.00143432617188, 184.21490478515625, 154.67710876464844, 198.9422607421875], [179.99183654785156, 184.21490478515625, 529.27978515625, 198.9422607421875], [108.0, 196.81488037109375, 542.4618530273438, 211.542236328125], [107.98898315429688, 209.4114990234375, 517.02099609375, 224.13885498046875], [107.98898315429688, 222.12957763671875, 475.4222717285156, 236.85693359375], [108.0, 234.73486328125, 110.76000213623047, 249.46221923828125], [108.0, 247.45489501953125, 110.76000213623047, 262.1822509765625], [144.00143432617188, 247.45489501953125, 154.4452667236328, 262.1822509765625], [180.0028839111328, 247.45489501953125, 530.530517578125, 262.1822509765625], [108.0, 260.05487060546875, 538.1978149414062, 274.7822265625], [108.0, 272.77294921875, 531.600341796875, 287.50030517578125], [107.99996948242188, 285.3695983886719, 534.00146484375, 300.0969543457031], [107.99996948242188, 297.96624755859375, 532.0783081054688, 312.693603515625], [107.99996948242188, 310.684326171875, 413.28912353515625, 325.41168212890625], [432.012939453125, 310.684326171875, 434.77294921875, 325.41168212890625], [108.0, 323.2948913574219, 110.76000213623047, 338.0222473144531], [108.0, 336.014892578125, 110.76000213623047, 350.74224853515625], [144.00143432617188, 336.014892578125, 153.12046813964844, 350.74224853515625], [180.00286865234375, 336.014892578125, 525.3757934570312, 350.74224853515625], [108.0, 348.6148681640625, 506.2823791503906, 363.34222412109375], [108.0, 361.2115173339844, 538.9165649414062, 375.9388732910156], [108.0, 373.93487548828125, 287.0357360839844, 388.6622314453125], [108.0, 386.5348815917969, 110.76000213623047, 401.2622375488281], [72.0, 399.2548828125, 82.6756820678711, 413.98223876953125], [107.99040222167969, 399.2548828125, 532.0621337890625, 413.98223876953125], [72.0, 411.8548889160156, 537.002685546875, 426.5822448730469], [72.0, 424.4515380859375, 539.6357421875, 439.17889404296875], [71.98895263671875, 437.16961669921875, 500.5091552734375, 451.89697265625], [71.98895263671875, 449.7662658691406, 509.095703125, 464.4936218261719], [71.98895263671875, 462.4843444824219, 458.71478271484375, 477.2117004394531], [72.0, 475.0948791503906, 74.76000213623047, 489.8222351074219], [72.0, 487.69488525390625, 82.6756820678711, 502.4222412109375], [107.99040222167969, 487.69488525390625, 524.5969848632812, 502.4222412109375], [72.0, 500.4149169921875, 523.3008422851562, 515.1422729492188], [71.98895263671875, 513.0115356445312, 539.389404296875, 527.7388916015625], [71.9888916015625, 525.7296142578125, 529.6664428710938, 540.4569702148438], [71.98892211914062, 538.3262329101562, 538.394775390625, 553.0535888671875], [71.9779052734375, 550.9228515625, 161.7143096923828, 565.6502075195312], [72.0, 563.6549072265625, 74.76000213623047, 578.3822631835938], [72.0, 576.2548828125, 82.6756820678711, 590.9822387695312], [107.99040222167969, 576.2548828125, 529.0595092773438, 590.9822387695312], [72.0, 588.974853515625, 541.66796875, 603.7022094726562], [72.0, 601.5748901367188, 390.48193359375, 616.30224609375], [72.0, 614.2948608398438, 74.76000213623047, 629.022216796875], [72.0, 626.8948974609375, 82.6756820678711, 641.6222534179688], [107.99040222167969, 626.8948974609375, 462.58416748046875, 641.6222534179688], [72.0, 639.494873046875, 74.76000213623047, 654.2222290039062], [108.00143432617188, 639.494873046875, 110.76143646240234, 654.2222290039062], [144.00286865234375, 639.494873046875, 207.36141967773438, 654.2222290039062], [72.0, 652.21484375, 74.76000213623047, 666.9421997070312], [108.00143432617188, 652.21484375, 110.76143646240234, 666.9421997070312], [144.00286865234375, 652.21484375, 146.7628631591797, 666.9421997070312], [71.99999237060547, 664.8115234375, 74.75999450683594, 679.5388793945312], [108.00143432617188, 664.8115234375, 110.76143646240234, 679.5388793945312], [144.00286865234375, 664.8115234375, 154.08238220214844, 679.5388793945312], [180.00430297851562, 664.8115234375, 527.5213623046875, 679.5388793945312], [108.00140380859375, 677.5296020507812, 531.2487182617188, 692.2569580078125], [108.01240539550781, 690.126220703125, 199.80224609375, 704.8535766601562]]', 'page': 2}, page_content='sba form 2287 ( 04 - 18 ) 3 previous editions obsolete failure to pay taxes when due or violation of any financial covenants which would cause a prudent lender to believe that the prospect of payment or performance of the third party note is impaired. c. no cross - collateralization. third party lender agrees that the common collateral will only secure its third party loan and the common collateral is not currently, and will not be used in the future, as security for any other financing provided by third party lender to borrower that purports to be in a superior position to that of the cdc lien, unless authorized in writing by cdc and sba. d. no cross - default. during the term of the 504 loan, third party lender will not exercise any cross - default, \" deem at - risk, \" or any other provisions in documents evidencing the third party loan or third party lender lien which allow third party lender to make demand on the third party loan prior to maturity unless the third party loan is in material default. e. maturity and balloon payments. the third party loan must have a term of at least 7 years ( when the 504 loan is for a term of 10 years ), or a term of at least10 years ( when the 504 loan is for 20 or 25 years ). if the third party lender has made more than one loan, then an overall loan maturity must be calculated, taking into account the amounts and maturities of each loan. any balloon payment for the third party loan must be clearly identified and disclosed to sba and approved at application or subsequently approved by sba. f. reasonable interest rate. the third party loan has a reasonable interest rate which does not and will not exceed the maximum interest rate for third party loans from commercial financial institutions as published periodically by sba in the federal register and in effect as of the date of this agreement. 6. marshaling of assets. if the third party lender takes additional collateral as security for the third party loan, in the case of liquidation, any proceeds received from such additional collateral, must be applied to the third party lender \\' s loan prior to the proceeds from the liquidation of the common collateral held by the cdc / sba and the third party lender. if the additional collateral no longer exists at the time of liquidation, or has insufficient value to justify the cost of collection, then the third party lend ##er is not required to liquidate such collateral, provided the third party lender notifies cdc / sba. 7. notice of default under the third party loan. within thirty ( 30 ) days after the expiration of any cure period for any continuing material default of the third party loan or third party lender lien, third party lender must provide written notice ( referencing sba ’ s loan number for the 504 loan ) of the default to cdc and sba. at least sixty 60 days prior to any legal proceedings against or liquidation of the common collateral ( not including sending a demand letter ), third party lender must provide sba with written notice of its intent to do so. 8. limitation on default interest rate. third party lender may not escalate the rate of interest upon default to a rate greater than the maximum rate published by sba in the federal register. sba will only pay the interest rate on the note in effect before the date of borrower ’ s default. 9. subordination to 504 loan and / or cdc lien, of amounts attributable to default provisions. a. the term \" default charges \" used in this paragraph includes, but is not limited to, prepayment penalties, late fees, other default charges, and escalated interest after default due under the third party loan.')"
      ]
     },
     "execution_count": 69,
     "metadata": {},
     "output_type": "execute_result"
    }
   ],
   "source": [
    "top_chunk_cross_encoded"
   ]
  },
  {
   "cell_type": "code",
   "execution_count": 70,
   "id": "3777fb28",
   "metadata": {},
   "outputs": [
    {
     "data": {
      "text/plain": [
       "{'coordinates': '[[74.28336334228516, 736.0769653320312, 161.34852600097656, 747.1239013671875], [287.99462890625, 736.0769653320312, 290.229736328125, 747.1239013671875], [395.9959411621094, 736.0769653320312, 424.5137939453125, 747.1239013671875], [72.0, 745.435546875, 172.51608276367188, 756.4824829101562], [108.0, 70.33489990234375, 531.4722900390625, 85.06226348876953], [107.98892211914062, 82.9315185546875, 530.2137451171875, 97.65888214111328], [107.98892974853516, 95.64959716796875, 110.74893188476562, 110.37696075439453], [108.0, 108.2548828125, 110.76000213623047, 122.98224639892578], [144.00143432617188, 108.2548828125, 154.08094787597656, 122.98224639892578], [180.00286865234375, 108.2548828125, 540.229248046875, 122.98224639892578], [108.0, 120.974853515625, 523.3866577148438, 135.70220947265625], [107.98895263671875, 133.57147216796875, 527.734130859375, 148.298828125], [107.98892211914062, 146.1680908203125, 520.8927001953125, 160.89544677734375], [107.98892211914062, 158.88616943359375, 177.11036682128906, 173.613525390625], [108.0, 171.494873046875, 110.76000213623047, 186.22222900390625], [108.0, 184.21490478515625, 110.76000213623047, 198.9422607421875], [144.00143432617188, 184.21490478515625, 154.67710876464844, 198.9422607421875], [179.99183654785156, 184.21490478515625, 529.27978515625, 198.9422607421875], [108.0, 196.81488037109375, 542.4618530273438, 211.542236328125], [107.98898315429688, 209.4114990234375, 517.02099609375, 224.13885498046875], [107.98898315429688, 222.12957763671875, 475.4222717285156, 236.85693359375], [108.0, 234.73486328125, 110.76000213623047, 249.46221923828125], [108.0, 247.45489501953125, 110.76000213623047, 262.1822509765625], [144.00143432617188, 247.45489501953125, 154.4452667236328, 262.1822509765625], [180.0028839111328, 247.45489501953125, 530.530517578125, 262.1822509765625], [108.0, 260.05487060546875, 538.1978149414062, 274.7822265625], [108.0, 272.77294921875, 531.600341796875, 287.50030517578125], [107.99996948242188, 285.3695983886719, 534.00146484375, 300.0969543457031], [107.99996948242188, 297.96624755859375, 532.0783081054688, 312.693603515625], [107.99996948242188, 310.684326171875, 413.28912353515625, 325.41168212890625], [432.012939453125, 310.684326171875, 434.77294921875, 325.41168212890625], [108.0, 323.2948913574219, 110.76000213623047, 338.0222473144531], [108.0, 336.014892578125, 110.76000213623047, 350.74224853515625], [144.00143432617188, 336.014892578125, 153.12046813964844, 350.74224853515625], [180.00286865234375, 336.014892578125, 525.3757934570312, 350.74224853515625], [108.0, 348.6148681640625, 506.2823791503906, 363.34222412109375], [108.0, 361.2115173339844, 538.9165649414062, 375.9388732910156], [108.0, 373.93487548828125, 287.0357360839844, 388.6622314453125], [108.0, 386.5348815917969, 110.76000213623047, 401.2622375488281], [72.0, 399.2548828125, 82.6756820678711, 413.98223876953125], [107.99040222167969, 399.2548828125, 532.0621337890625, 413.98223876953125], [72.0, 411.8548889160156, 537.002685546875, 426.5822448730469], [72.0, 424.4515380859375, 539.6357421875, 439.17889404296875], [71.98895263671875, 437.16961669921875, 500.5091552734375, 451.89697265625], [71.98895263671875, 449.7662658691406, 509.095703125, 464.4936218261719], [71.98895263671875, 462.4843444824219, 458.71478271484375, 477.2117004394531], [72.0, 475.0948791503906, 74.76000213623047, 489.8222351074219], [72.0, 487.69488525390625, 82.6756820678711, 502.4222412109375], [107.99040222167969, 487.69488525390625, 524.5969848632812, 502.4222412109375], [72.0, 500.4149169921875, 523.3008422851562, 515.1422729492188], [71.98895263671875, 513.0115356445312, 539.389404296875, 527.7388916015625], [71.9888916015625, 525.7296142578125, 529.6664428710938, 540.4569702148438], [71.98892211914062, 538.3262329101562, 538.394775390625, 553.0535888671875], [71.9779052734375, 550.9228515625, 161.7143096923828, 565.6502075195312], [72.0, 563.6549072265625, 74.76000213623047, 578.3822631835938], [72.0, 576.2548828125, 82.6756820678711, 590.9822387695312], [107.99040222167969, 576.2548828125, 529.0595092773438, 590.9822387695312], [72.0, 588.974853515625, 541.66796875, 603.7022094726562], [72.0, 601.5748901367188, 390.48193359375, 616.30224609375], [72.0, 614.2948608398438, 74.76000213623047, 629.022216796875], [72.0, 626.8948974609375, 82.6756820678711, 641.6222534179688], [107.99040222167969, 626.8948974609375, 462.58416748046875, 641.6222534179688], [72.0, 639.494873046875, 74.76000213623047, 654.2222290039062], [108.00143432617188, 639.494873046875, 110.76143646240234, 654.2222290039062], [144.00286865234375, 639.494873046875, 207.36141967773438, 654.2222290039062], [72.0, 652.21484375, 74.76000213623047, 666.9421997070312], [108.00143432617188, 652.21484375, 110.76143646240234, 666.9421997070312], [144.00286865234375, 652.21484375, 146.7628631591797, 666.9421997070312], [71.99999237060547, 664.8115234375, 74.75999450683594, 679.5388793945312], [108.00143432617188, 664.8115234375, 110.76143646240234, 679.5388793945312], [144.00286865234375, 664.8115234375, 154.08238220214844, 679.5388793945312], [180.00430297851562, 664.8115234375, 527.5213623046875, 679.5388793945312], [108.00140380859375, 677.5296020507812, 531.2487182617188, 692.2569580078125], [108.01240539550781, 690.126220703125, 199.80224609375, 704.8535766601562]]',\n",
       " 'page': 2}"
      ]
     },
     "execution_count": 70,
     "metadata": {},
     "output_type": "execute_result"
    }
   ],
   "source": [
    "metadata_of_top_chunk"
   ]
  },
  {
   "cell_type": "markdown",
   "id": "659ad976",
   "metadata": {},
   "source": [
    "# LLM query"
   ]
  },
  {
   "cell_type": "code",
   "execution_count": 71,
   "id": "e2b92b7b",
   "metadata": {},
   "outputs": [],
   "source": [
    "llm_instruction = \"Please answer the question by carefully considering both the provided context and the chat history. Use the context for accurate information and take into account any relevant details from the chat history to generate a well-informed response. If enough information is not available, please respond by saying: 'There is not enough information to answer the question.'\""
   ]
  },
  {
   "cell_type": "code",
   "execution_count": 72,
   "id": "e32fb893",
   "metadata": {},
   "outputs": [],
   "source": [
    "# Create the prompt\n",
    "template = \"\"\"\n",
    "Context: \n",
    "{context}\n",
    "\n",
    "Chat history:\n",
    "{chat_history}\n",
    "\n",
    "Instruction: \n",
    "{llm_instruction}\n",
    "\n",
    "User question: {question}\n",
    "\"\"\""
   ]
  },
  {
   "cell_type": "code",
   "execution_count": 73,
   "id": "b2012c7a",
   "metadata": {},
   "outputs": [],
   "source": [
    "formatted_prompt = PromptTemplate.from_template(template).format(\n",
    "    context=top_chunk_cross_encoded.page_content,\n",
    "    chat_history=\"\\n\".join([f'{entry[\"role\"].capitalize()}: {entry[\"content\"]}' for entry in chat_history]),\n",
    "    question=query,\n",
    "    llm_instruction=llm_instruction\n",
    ")"
   ]
  },
  {
   "cell_type": "code",
   "execution_count": 74,
   "id": "c51aaca3",
   "metadata": {},
   "outputs": [
    {
     "data": {
      "text/plain": [
       "'\\nContext: \\nsba form 2287 ( 04 - 18 ) 3 previous editions obsolete failure to pay taxes when due or violation of any financial covenants which would cause a prudent lender to believe that the prospect of payment or performance of the third party note is impaired. c. no cross - collateralization. third party lender agrees that the common collateral will only secure its third party loan and the common collateral is not currently, and will not be used in the future, as security for any other financing provided by third party lender to borrower that purports to be in a superior position to that of the cdc lien, unless authorized in writing by cdc and sba. d. no cross - default. during the term of the 504 loan, third party lender will not exercise any cross - default, \" deem at - risk, \" or any other provisions in documents evidencing the third party loan or third party lender lien which allow third party lender to make demand on the third party loan prior to maturity unless the third party loan is in material default. e. maturity and balloon payments. the third party loan must have a term of at least 7 years ( when the 504 loan is for a term of 10 years ), or a term of at least10 years ( when the 504 loan is for 20 or 25 years ). if the third party lender has made more than one loan, then an overall loan maturity must be calculated, taking into account the amounts and maturities of each loan. any balloon payment for the third party loan must be clearly identified and disclosed to sba and approved at application or subsequently approved by sba. f. reasonable interest rate. the third party loan has a reasonable interest rate which does not and will not exceed the maximum interest rate for third party loans from commercial financial institutions as published periodically by sba in the federal register and in effect as of the date of this agreement. 6. marshaling of assets. if the third party lender takes additional collateral as security for the third party loan, in the case of liquidation, any proceeds received from such additional collateral, must be applied to the third party lender \\' s loan prior to the proceeds from the liquidation of the common collateral held by the cdc / sba and the third party lender. if the additional collateral no longer exists at the time of liquidation, or has insufficient value to justify the cost of collection, then the third party lend ##er is not required to liquidate such collateral, provided the third party lender notifies cdc / sba. 7. notice of default under the third party loan. within thirty ( 30 ) days after the expiration of any cure period for any continuing material default of the third party loan or third party lender lien, third party lender must provide written notice ( referencing sba ’ s loan number for the 504 loan ) of the default to cdc and sba. at least sixty 60 days prior to any legal proceedings against or liquidation of the common collateral ( not including sending a demand letter ), third party lender must provide sba with written notice of its intent to do so. 8. limitation on default interest rate. third party lender may not escalate the rate of interest upon default to a rate greater than the maximum rate published by sba in the federal register. sba will only pay the interest rate on the note in effect before the date of borrower ’ s default. 9. subordination to 504 loan and / or cdc lien, of amounts attributable to default provisions. a. the term \" default charges \" used in this paragraph includes, but is not limited to, prepayment penalties, late fees, other default charges, and escalated interest after default due under the third party loan.\\n\\nChat history:\\nUser: CDC agrees to make the 504 Loan to the Borrower subject to what?\\nAssistant: SBA\\'s approval.\\nUser: Third Party Lender waives its rights for what?\\nAssistant: Third Party Lender waives its rights to enforce provisions that do not comply with the 504 Loan Program Requirements.\\nUser: what does this document say about authority to execute agreement?\\nAssistant: The persons signing below certify that they have been duly authorized to execute this Agreement on behalf of their respective party.\\n\\nInstruction: \\nPlease answer the question by carefully considering both the provided context and the chat history. Use the context for accurate information and take into account any relevant details from the chat history to generate a well-informed response. If enough information is not available, please respond by saying: \\'There is not enough information to answer the question.\\'\\n\\nUser question: What does the document say about Balloon payments?\\n'"
      ]
     },
     "execution_count": 74,
     "metadata": {},
     "output_type": "execute_result"
    }
   ],
   "source": [
    "formatted_prompt"
   ]
  },
  {
   "cell_type": "code",
   "execution_count": 75,
   "id": "6db01b34",
   "metadata": {},
   "outputs": [
    {
     "name": "stderr",
     "output_type": "stream",
     "text": [
      "C:\\Users\\jimmy\\AppData\\Local\\Temp\\ipykernel_11112\\1007685302.py:2: LangChainDeprecationWarning: The method `BaseChatModel.predict` was deprecated in langchain-core 0.1.7 and will be removed in 1.0. Use :meth:`~invoke` instead.\n",
      "  llm_response = llm.predict(formatted_prompt)\n"
     ]
    }
   ],
   "source": [
    "# Get response from LLM\n",
    "llm_response = llm.predict(formatted_prompt)"
   ]
  },
  {
   "cell_type": "code",
   "execution_count": 76,
   "id": "f9dcf023",
   "metadata": {},
   "outputs": [
    {
     "name": "stdout",
     "output_type": "stream",
     "text": [
      "##################################################\n",
      "The document states that any balloon payment for the third party loan must be clearly identified and disclosed to SBA and approved at application or subsequently approved by SBA.\n"
     ]
    }
   ],
   "source": [
    "print(\"#\"*50)\n",
    "print(llm_response)"
   ]
  },
  {
   "cell_type": "markdown",
   "id": "95f1fbe6",
   "metadata": {},
   "source": [
    "# PDF Highlighting"
   ]
  },
  {
   "cell_type": "code",
   "execution_count": 77,
   "id": "178c6963",
   "metadata": {},
   "outputs": [],
   "source": [
    "# Configurable cosine similarity threshold\n",
    "COSINE_SIMILARITY_THRESHOLD = 0.5"
   ]
  },
  {
   "cell_type": "code",
   "execution_count": 78,
   "id": "19161a5c",
   "metadata": {},
   "outputs": [],
   "source": [
    "page_num =  metadata_of_top_chunk[\"page\"]"
   ]
  },
  {
   "cell_type": "code",
   "execution_count": 79,
   "id": "87b0c048",
   "metadata": {},
   "outputs": [
    {
     "data": {
      "text/plain": [
       "2"
      ]
     },
     "execution_count": 79,
     "metadata": {},
     "output_type": "execute_result"
    }
   ],
   "source": [
    "page_num"
   ]
  },
  {
   "cell_type": "code",
   "execution_count": 80,
   "id": "fd852b90",
   "metadata": {},
   "outputs": [],
   "source": [
    "coordinates_str = metadata_of_top_chunk[\"coordinates\"]"
   ]
  },
  {
   "cell_type": "code",
   "execution_count": 81,
   "id": "3ae28fee",
   "metadata": {},
   "outputs": [
    {
     "data": {
      "text/plain": [
       "'[[74.28336334228516, 736.0769653320312, 161.34852600097656, 747.1239013671875], [287.99462890625, 736.0769653320312, 290.229736328125, 747.1239013671875], [395.9959411621094, 736.0769653320312, 424.5137939453125, 747.1239013671875], [72.0, 745.435546875, 172.51608276367188, 756.4824829101562], [108.0, 70.33489990234375, 531.4722900390625, 85.06226348876953], [107.98892211914062, 82.9315185546875, 530.2137451171875, 97.65888214111328], [107.98892974853516, 95.64959716796875, 110.74893188476562, 110.37696075439453], [108.0, 108.2548828125, 110.76000213623047, 122.98224639892578], [144.00143432617188, 108.2548828125, 154.08094787597656, 122.98224639892578], [180.00286865234375, 108.2548828125, 540.229248046875, 122.98224639892578], [108.0, 120.974853515625, 523.3866577148438, 135.70220947265625], [107.98895263671875, 133.57147216796875, 527.734130859375, 148.298828125], [107.98892211914062, 146.1680908203125, 520.8927001953125, 160.89544677734375], [107.98892211914062, 158.88616943359375, 177.11036682128906, 173.613525390625], [108.0, 171.494873046875, 110.76000213623047, 186.22222900390625], [108.0, 184.21490478515625, 110.76000213623047, 198.9422607421875], [144.00143432617188, 184.21490478515625, 154.67710876464844, 198.9422607421875], [179.99183654785156, 184.21490478515625, 529.27978515625, 198.9422607421875], [108.0, 196.81488037109375, 542.4618530273438, 211.542236328125], [107.98898315429688, 209.4114990234375, 517.02099609375, 224.13885498046875], [107.98898315429688, 222.12957763671875, 475.4222717285156, 236.85693359375], [108.0, 234.73486328125, 110.76000213623047, 249.46221923828125], [108.0, 247.45489501953125, 110.76000213623047, 262.1822509765625], [144.00143432617188, 247.45489501953125, 154.4452667236328, 262.1822509765625], [180.0028839111328, 247.45489501953125, 530.530517578125, 262.1822509765625], [108.0, 260.05487060546875, 538.1978149414062, 274.7822265625], [108.0, 272.77294921875, 531.600341796875, 287.50030517578125], [107.99996948242188, 285.3695983886719, 534.00146484375, 300.0969543457031], [107.99996948242188, 297.96624755859375, 532.0783081054688, 312.693603515625], [107.99996948242188, 310.684326171875, 413.28912353515625, 325.41168212890625], [432.012939453125, 310.684326171875, 434.77294921875, 325.41168212890625], [108.0, 323.2948913574219, 110.76000213623047, 338.0222473144531], [108.0, 336.014892578125, 110.76000213623047, 350.74224853515625], [144.00143432617188, 336.014892578125, 153.12046813964844, 350.74224853515625], [180.00286865234375, 336.014892578125, 525.3757934570312, 350.74224853515625], [108.0, 348.6148681640625, 506.2823791503906, 363.34222412109375], [108.0, 361.2115173339844, 538.9165649414062, 375.9388732910156], [108.0, 373.93487548828125, 287.0357360839844, 388.6622314453125], [108.0, 386.5348815917969, 110.76000213623047, 401.2622375488281], [72.0, 399.2548828125, 82.6756820678711, 413.98223876953125], [107.99040222167969, 399.2548828125, 532.0621337890625, 413.98223876953125], [72.0, 411.8548889160156, 537.002685546875, 426.5822448730469], [72.0, 424.4515380859375, 539.6357421875, 439.17889404296875], [71.98895263671875, 437.16961669921875, 500.5091552734375, 451.89697265625], [71.98895263671875, 449.7662658691406, 509.095703125, 464.4936218261719], [71.98895263671875, 462.4843444824219, 458.71478271484375, 477.2117004394531], [72.0, 475.0948791503906, 74.76000213623047, 489.8222351074219], [72.0, 487.69488525390625, 82.6756820678711, 502.4222412109375], [107.99040222167969, 487.69488525390625, 524.5969848632812, 502.4222412109375], [72.0, 500.4149169921875, 523.3008422851562, 515.1422729492188], [71.98895263671875, 513.0115356445312, 539.389404296875, 527.7388916015625], [71.9888916015625, 525.7296142578125, 529.6664428710938, 540.4569702148438], [71.98892211914062, 538.3262329101562, 538.394775390625, 553.0535888671875], [71.9779052734375, 550.9228515625, 161.7143096923828, 565.6502075195312], [72.0, 563.6549072265625, 74.76000213623047, 578.3822631835938], [72.0, 576.2548828125, 82.6756820678711, 590.9822387695312], [107.99040222167969, 576.2548828125, 529.0595092773438, 590.9822387695312], [72.0, 588.974853515625, 541.66796875, 603.7022094726562], [72.0, 601.5748901367188, 390.48193359375, 616.30224609375], [72.0, 614.2948608398438, 74.76000213623047, 629.022216796875], [72.0, 626.8948974609375, 82.6756820678711, 641.6222534179688], [107.99040222167969, 626.8948974609375, 462.58416748046875, 641.6222534179688], [72.0, 639.494873046875, 74.76000213623047, 654.2222290039062], [108.00143432617188, 639.494873046875, 110.76143646240234, 654.2222290039062], [144.00286865234375, 639.494873046875, 207.36141967773438, 654.2222290039062], [72.0, 652.21484375, 74.76000213623047, 666.9421997070312], [108.00143432617188, 652.21484375, 110.76143646240234, 666.9421997070312], [144.00286865234375, 652.21484375, 146.7628631591797, 666.9421997070312], [71.99999237060547, 664.8115234375, 74.75999450683594, 679.5388793945312], [108.00143432617188, 664.8115234375, 110.76143646240234, 679.5388793945312], [144.00286865234375, 664.8115234375, 154.08238220214844, 679.5388793945312], [180.00430297851562, 664.8115234375, 527.5213623046875, 679.5388793945312], [108.00140380859375, 677.5296020507812, 531.2487182617188, 692.2569580078125], [108.01240539550781, 690.126220703125, 199.80224609375, 704.8535766601562]]'"
      ]
     },
     "execution_count": 81,
     "metadata": {},
     "output_type": "execute_result"
    }
   ],
   "source": [
    "coordinates_str"
   ]
  },
  {
   "cell_type": "code",
   "execution_count": 82,
   "id": "56cfa411",
   "metadata": {},
   "outputs": [],
   "source": [
    "coordinates = json.loads(coordinates_str)"
   ]
  },
  {
   "cell_type": "code",
   "execution_count": 83,
   "id": "2b02d316",
   "metadata": {},
   "outputs": [
    {
     "data": {
      "text/plain": [
       "[[74.28336334228516, 736.0769653320312, 161.34852600097656, 747.1239013671875],\n",
       " [287.99462890625, 736.0769653320312, 290.229736328125, 747.1239013671875],\n",
       " [395.9959411621094, 736.0769653320312, 424.5137939453125, 747.1239013671875],\n",
       " [72.0, 745.435546875, 172.51608276367188, 756.4824829101562],\n",
       " [108.0, 70.33489990234375, 531.4722900390625, 85.06226348876953],\n",
       " [107.98892211914062, 82.9315185546875, 530.2137451171875, 97.65888214111328],\n",
       " [107.98892974853516,\n",
       "  95.64959716796875,\n",
       "  110.74893188476562,\n",
       "  110.37696075439453],\n",
       " [108.0, 108.2548828125, 110.76000213623047, 122.98224639892578],\n",
       " [144.00143432617188, 108.2548828125, 154.08094787597656, 122.98224639892578],\n",
       " [180.00286865234375, 108.2548828125, 540.229248046875, 122.98224639892578],\n",
       " [108.0, 120.974853515625, 523.3866577148438, 135.70220947265625],\n",
       " [107.98895263671875, 133.57147216796875, 527.734130859375, 148.298828125],\n",
       " [107.98892211914062,\n",
       "  146.1680908203125,\n",
       "  520.8927001953125,\n",
       "  160.89544677734375],\n",
       " [107.98892211914062,\n",
       "  158.88616943359375,\n",
       "  177.11036682128906,\n",
       "  173.613525390625],\n",
       " [108.0, 171.494873046875, 110.76000213623047, 186.22222900390625],\n",
       " [108.0, 184.21490478515625, 110.76000213623047, 198.9422607421875],\n",
       " [144.00143432617188,\n",
       "  184.21490478515625,\n",
       "  154.67710876464844,\n",
       "  198.9422607421875],\n",
       " [179.99183654785156, 184.21490478515625, 529.27978515625, 198.9422607421875],\n",
       " [108.0, 196.81488037109375, 542.4618530273438, 211.542236328125],\n",
       " [107.98898315429688, 209.4114990234375, 517.02099609375, 224.13885498046875],\n",
       " [107.98898315429688, 222.12957763671875, 475.4222717285156, 236.85693359375],\n",
       " [108.0, 234.73486328125, 110.76000213623047, 249.46221923828125],\n",
       " [108.0, 247.45489501953125, 110.76000213623047, 262.1822509765625],\n",
       " [144.00143432617188,\n",
       "  247.45489501953125,\n",
       "  154.4452667236328,\n",
       "  262.1822509765625],\n",
       " [180.0028839111328, 247.45489501953125, 530.530517578125, 262.1822509765625],\n",
       " [108.0, 260.05487060546875, 538.1978149414062, 274.7822265625],\n",
       " [108.0, 272.77294921875, 531.600341796875, 287.50030517578125],\n",
       " [107.99996948242188, 285.3695983886719, 534.00146484375, 300.0969543457031],\n",
       " [107.99996948242188, 297.96624755859375, 532.0783081054688, 312.693603515625],\n",
       " [107.99996948242188,\n",
       "  310.684326171875,\n",
       "  413.28912353515625,\n",
       "  325.41168212890625],\n",
       " [432.012939453125, 310.684326171875, 434.77294921875, 325.41168212890625],\n",
       " [108.0, 323.2948913574219, 110.76000213623047, 338.0222473144531],\n",
       " [108.0, 336.014892578125, 110.76000213623047, 350.74224853515625],\n",
       " [144.00143432617188,\n",
       "  336.014892578125,\n",
       "  153.12046813964844,\n",
       "  350.74224853515625],\n",
       " [180.00286865234375, 336.014892578125, 525.3757934570312, 350.74224853515625],\n",
       " [108.0, 348.6148681640625, 506.2823791503906, 363.34222412109375],\n",
       " [108.0, 361.2115173339844, 538.9165649414062, 375.9388732910156],\n",
       " [108.0, 373.93487548828125, 287.0357360839844, 388.6622314453125],\n",
       " [108.0, 386.5348815917969, 110.76000213623047, 401.2622375488281],\n",
       " [72.0, 399.2548828125, 82.6756820678711, 413.98223876953125],\n",
       " [107.99040222167969, 399.2548828125, 532.0621337890625, 413.98223876953125],\n",
       " [72.0, 411.8548889160156, 537.002685546875, 426.5822448730469],\n",
       " [72.0, 424.4515380859375, 539.6357421875, 439.17889404296875],\n",
       " [71.98895263671875, 437.16961669921875, 500.5091552734375, 451.89697265625],\n",
       " [71.98895263671875, 449.7662658691406, 509.095703125, 464.4936218261719],\n",
       " [71.98895263671875, 462.4843444824219, 458.71478271484375, 477.2117004394531],\n",
       " [72.0, 475.0948791503906, 74.76000213623047, 489.8222351074219],\n",
       " [72.0, 487.69488525390625, 82.6756820678711, 502.4222412109375],\n",
       " [107.99040222167969,\n",
       "  487.69488525390625,\n",
       "  524.5969848632812,\n",
       "  502.4222412109375],\n",
       " [72.0, 500.4149169921875, 523.3008422851562, 515.1422729492188],\n",
       " [71.98895263671875, 513.0115356445312, 539.389404296875, 527.7388916015625],\n",
       " [71.9888916015625, 525.7296142578125, 529.6664428710938, 540.4569702148438],\n",
       " [71.98892211914062, 538.3262329101562, 538.394775390625, 553.0535888671875],\n",
       " [71.9779052734375, 550.9228515625, 161.7143096923828, 565.6502075195312],\n",
       " [72.0, 563.6549072265625, 74.76000213623047, 578.3822631835938],\n",
       " [72.0, 576.2548828125, 82.6756820678711, 590.9822387695312],\n",
       " [107.99040222167969, 576.2548828125, 529.0595092773438, 590.9822387695312],\n",
       " [72.0, 588.974853515625, 541.66796875, 603.7022094726562],\n",
       " [72.0, 601.5748901367188, 390.48193359375, 616.30224609375],\n",
       " [72.0, 614.2948608398438, 74.76000213623047, 629.022216796875],\n",
       " [72.0, 626.8948974609375, 82.6756820678711, 641.6222534179688],\n",
       " [107.99040222167969,\n",
       "  626.8948974609375,\n",
       "  462.58416748046875,\n",
       "  641.6222534179688],\n",
       " [72.0, 639.494873046875, 74.76000213623047, 654.2222290039062],\n",
       " [108.00143432617188, 639.494873046875, 110.76143646240234, 654.2222290039062],\n",
       " [144.00286865234375, 639.494873046875, 207.36141967773438, 654.2222290039062],\n",
       " [72.0, 652.21484375, 74.76000213623047, 666.9421997070312],\n",
       " [108.00143432617188, 652.21484375, 110.76143646240234, 666.9421997070312],\n",
       " [144.00286865234375, 652.21484375, 146.7628631591797, 666.9421997070312],\n",
       " [71.99999237060547, 664.8115234375, 74.75999450683594, 679.5388793945312],\n",
       " [108.00143432617188, 664.8115234375, 110.76143646240234, 679.5388793945312],\n",
       " [144.00286865234375, 664.8115234375, 154.08238220214844, 679.5388793945312],\n",
       " [180.00430297851562, 664.8115234375, 527.5213623046875, 679.5388793945312],\n",
       " [108.00140380859375, 677.5296020507812, 531.2487182617188, 692.2569580078125],\n",
       " [108.01240539550781, 690.126220703125, 199.80224609375, 704.8535766601562]]"
      ]
     },
     "execution_count": 83,
     "metadata": {},
     "output_type": "execute_result"
    }
   ],
   "source": [
    "coordinates"
   ]
  },
  {
   "cell_type": "code",
   "execution_count": 84,
   "id": "6086d415",
   "metadata": {},
   "outputs": [
    {
     "data": {
      "text/plain": [
       "'C:\\\\gitworkspace\\\\aimldemo\\\\AIML Demo\\\\Python Demo\\\\pythonbasics\\\\doc_inputs\\\\Form_2287.pdf'"
      ]
     },
     "execution_count": 84,
     "metadata": {},
     "output_type": "execute_result"
    }
   ],
   "source": [
    "pdf_path"
   ]
  },
  {
   "cell_type": "code",
   "execution_count": 85,
   "id": "0535880d",
   "metadata": {},
   "outputs": [
    {
     "data": {
      "text/plain": [
       "'C:\\\\gitworkspace\\\\aimldemo\\\\AIML Demo\\\\Python Demo\\\\pythonbasics\\\\doc_outputs\\\\highlighted_output.pdf'"
      ]
     },
     "execution_count": 85,
     "metadata": {},
     "output_type": "execute_result"
    }
   ],
   "source": [
    "highlighted_pdf_path"
   ]
  },
  {
   "cell_type": "code",
   "execution_count": 86,
   "id": "f5a6d4d3",
   "metadata": {},
   "outputs": [],
   "source": [
    "doc = fitz.open(pdf_path)"
   ]
  },
  {
   "cell_type": "code",
   "execution_count": 87,
   "id": "ae321497",
   "metadata": {},
   "outputs": [],
   "source": [
    "page = doc.load_page(page_num)"
   ]
  },
  {
   "cell_type": "code",
   "execution_count": 88,
   "id": "7b5499bd",
   "metadata": {},
   "outputs": [
    {
     "data": {
      "text/plain": [
       "pymupdf.Page"
      ]
     },
     "execution_count": 88,
     "metadata": {},
     "output_type": "execute_result"
    }
   ],
   "source": [
    "type(page) "
   ]
  },
  {
   "cell_type": "code",
   "execution_count": 89,
   "id": "24208367",
   "metadata": {},
   "outputs": [
    {
     "data": {
      "text/plain": [
       "' \\n \\n \\n \\n SBA Form 2287 (04-18) \\n \\n          3 \\n Previous Editions Obsolete \\nfailure to pay taxes when due or violation of  any financial covenants which would cause a prudent \\nlender to believe that the  prospect of payment or performance of the Third Party Note is impaired. \\n \\n \\nc. \\nNo Cross-Collateralization.   Third Party Lender agrees that the Common Collateral \\nwill only secure its Third Party Loan and the Common Collateral is not currently, and will not be \\nused in the future, as security for any other financing provided by Third Party Lender to Borrower \\nthat purports to be in a superior position to that of the CDC Lien, unless authorized in writing by \\nCDC and SBA. \\n \\n \\nd. \\nNo Cross-Default.   During the term of the 504 Loan, Third Party Lender will not \\nexercise any cross-default, \"deem at-risk,\" or any other provisions in documents evidencing the Third \\nParty Loan or Third Party Lender Lien which allow Third Party Lender to make demand on the \\nThird Party Loan prior to maturity unless the Third Party Loan is in material default.   \\n \\n \\ne. \\nMaturity and Balloon Payments.   The Third Party Loan must have a term of at \\nleast 7 years (when the 504 loan is for a term of 10 years), or a term of at least10 years (when the \\n504 loan is for 20 or 25 years).  If the Third Party Lender has made more than one loan, then an \\noverall loan maturity must be calculated, taking into account the amounts and maturities of each \\nloan.  Any balloon payment for the Third Party Loan must be clearly identified and disclosed to \\nSBA and approved at application or subsequently approved by SBA. \\n \\n \\n \\nf. \\nReasonable Interest Rate.  The Third Party Loan has a reasonable interest rate \\nwhich does not and will not exceed the maximum interest rate for Third Party Loans from \\ncommercial financial institutions as published periodically by SBA in the Federal Register and in \\neffect as of the date of this Agreement.   \\n \\n6. \\nMarshaling of Assets.  If the Third Party Lender takes additional collateral as security for the Third \\nParty Loan, in the case of liquidation, any proceeds received from such additional collateral, must be applied \\nto the Third Party Lender\\'s Loan prior to the proceeds from the liquidation of the Common Collateral held by \\nthe CDC/SBA and the Third Party Lender.  If the additional collateral no longer exists at the time of \\nliquidation, or has insufficient value to justify the cost of collection, then the Third Party Lender is not \\nrequired to liquidate such collateral, provided the Third Party Lender notifies CDC/SBA.   \\n \\n7. \\nNotice of Default under the Third Party Loan.   Within thirty (30) days after the expiration of any \\ncure period for any continuing material default of the Third Party Loan or Third Party Lender Lien, Third \\nParty Lender must provide written notice (referencing SBA’s loan number for the 504 Loan) of the default to \\nCDC and SBA.  At least sixty 60 days prior to any legal proceedings against or liquidation of the Common \\nCollateral (not including sending a demand letter), Third Party Lender must provide SBA with written notice \\nof its intent to do so. \\n \\n8. \\nLimitation on Default Interest Rate.   Third Party Lender may not escalate the rate of interest upon \\ndefault to a rate greater than the maximum rate published by SBA in the Federal Register.  SBA will only pay \\nthe interest rate on the note in effect before the date of Borrower’s default. \\n \\n9. \\n Subordination to 504 Loan and/or CDC Lien, of Amounts Attributable to Default  \\n \\n \\nProvisions.      \\n \\n \\n \\n \\n \\na. \\nThe term \"Default Charges\" used in this paragraph includes, but is not limited to, \\nprepayment penalties, late fees, other default charges, and escalated interest after default due under \\nthe Third Party Loan. \\n \\n \\n \\n'"
      ]
     },
     "execution_count": 89,
     "metadata": {},
     "output_type": "execute_result"
    }
   ],
   "source": [
    "page.get_text()"
   ]
  },
  {
   "cell_type": "code",
   "execution_count": 90,
   "id": "286cf55e",
   "metadata": {},
   "outputs": [],
   "source": [
    "chunk_text = \" \".join(page.get_textbox(fitz.Rect(*coord)) for coord in coordinates)"
   ]
  },
  {
   "cell_type": "code",
   "execution_count": 91,
   "id": "b4cc65de",
   "metadata": {},
   "outputs": [
    {
     "data": {
      "text/plain": [
       "'SBA Form 2287 (04-18) \\nPrevious Editions Obsole             3   SBA Form 2287 (04-18) \\n Previous Editions Obsolete  failure to pay taxes when due or violation of  any financial covenants which would cause a prudent \\nlender to believe that the  prospect of payment or performance of the Third Party Note is impaired.  failure to pay taxes when due or violation of  any financial covenants which would cause a prudent \\nlender to believe that the  prospect of payment or performance of the Third Party Note is impaired. \\n  l\\n \\n   \\n \\nw c. \\ny se No Cross-Collateralization.   Third Party Lender agrees that the Common Collateral \\nits Third Party Loan and the Common Collateral is not currently, and will not be   \\nc. \\nNo Cross-Collateralization.   Third Party Lender agrees that the Common Collate\\nwill only secure its Third Party Loan and the Common Collateral is not currently, and will not be \\nused in the future, as security for any other financing provided by Third Party Lender to Borrower will only secure its Third Party Loan and the Common Collateral is not currently, and will not be \\nused in the future, as security for any other financing provided by Third Party Lender to Borrower \\nthat purports to be in a superior position to that of the CDC Lien, unless authorized in writing by  used in the future, as security for any other financing provided by Third Party Lender to Borrowe\\nthat purports to be in a superior position to that of the CDC Lien, unless authorized in writing by \\nCDC and SBA.  that purports to b\\nCDC and SBA. \\n  C\\n \\n   \\n \\ne d. \\n an No Cross-Default.   During the term of the 504 Loan, Third Party Lender will not \\nss-default, \"deem at-risk,\" or any other provisions in documents evidencing the Thi  \\nd. \\nNo Cross-Default.   During the term of the 504 Loan, Third Party Lender will not \\nexercise any cross-default, \"deem at-risk,\" or any other provisions in documents evidencing the Third \\nParty Loan or Third Party Lender Lien which allow Third Party Lender to make demand on the  exercise any cross-default, \"deem at-risk,\" or any other provisions in documents evidencing the T\\nParty Loan or Third Party Lender Lien which allow Third Party Lender to make demand on the \\nThird Party Loan prior to maturity unless the Third Party Loan is in material default.    Party Loan or Third Party Lender Lien which allow Third Party Lender to make deman\\nThird Party Loan prior to maturity unless the Third Party Loan is in material default.   \\n  T\\n \\n   \\n \\nl e. \\nyea Maturity and Balloon Payments.   The Third Party Loan must have a term of at \\nhen the 504 loan is for a term of 10 years), or a term of at least10 years (when the  \\ne. \\nMaturity and Balloon Payments.   The Third Party Loan must have a term of at \\nleast 7 years (when the 504 loan is for a term of 10 years), or a term of at least10 years (when the \\n504 loan is for 20 or 25 years).  If the Third Party Lender has made more than one loan, then an  least 7 years (when the 504 loan is for a term of 10 years), or a term of at least10 years (when the\\n504 loan is for 20 or 25 years).  If the Third Party Lender has made more than one loan, then an \\noverall loan maturity must be calculated, taking into account the amounts and maturities of each  504 loan is for 20 or 25 years).  If the Third Party Lender has made more than one loan, then an \\noverall loan maturity must be calculated, taking into account the amounts and maturities of each \\nloan.  Any balloon payment for the Third Party Loan must be clearly identified and disclosed to  overall loan maturity must be calculated, taking into account the amounts and maturities of each \\nloan.  Any balloon payment for the Third Party Loan must be clearly identified and disclosed to \\nSBA and approved at application or subsequently approved by SBA. \\n  loan.  Any balloon payment for the Third Party Loan must be clearly \\nSBA and approved at application or subsequently approved by SBA. \\n  nt\\n  S\\n \\n   \\n \\nw f. \\noe Reasonable Interest Rate.  The Third Party Loan has a reasonable interest rate \\nand will not exceed the maximum interest rate for Third Party Loans from   \\nf. \\nReasonable Interest Rate.  The Third Party Loan has a reasonable interest r\\nwhich does not and will not exceed the maximum interest rate for Third Party Loans from \\ncommercial financial institutions as published periodically by SBA in the Federal Register  which does not and will not exceed the maximum interest rate for Third Party Loans from \\ncommercial financial institutions as published periodically by SBA in the Federal Register and in \\neffect as of the date of this Agreement.    commercial financial institutions as publ\\neffect as of the date of this Agreement.   \\n  e\\n \\nM 6. \\nPa  \\nMarshaling of Assets.  If the Third Party Lender takes additional collateral as security for the Third \\noan, in the case of liquidation, any proceeds received from such additional collateral, must be applied 6. \\nMarshaling of Assets.  If the Third Party Lender takes additional collateral as security for the Third \\nParty Loan, in the case of liquidation, any proceeds received from such additional collateral, must be applied \\nto the Third Party Lender\\'s Loan prior to the proceeds from the liquidation of the Common Collateral held by  Party Loan, in the case of liquidation, any proceeds received from such additional collateral, must be applied \\nto the Third Party Lender\\'s Loan prior to the proceeds from the liquidation of the Common Collateral held by \\nthe CDC/SBA and the Third Party Lender.  If the additional collateral no longer exists at the time of  to the Third Party Lender\\'s Loan prior to the proceeds from the liquidation of the Common Collateral\\nthe CDC/SBA and the Third Party Lender.  If the additional collateral no longer exists at the time of \\nliquidation, or has insufficient value to justify the cost of collection, then the Third Party Lender is no the CDC/SBA and the Third Party Lender.  If the additional collateral no longer exists at the time of \\nliquidation, or has insufficient value to justify the cost of collection, then the Third Party Lender is not \\nrequired to liquidate such collateral, provided the Third Party Lender notifies CDC/SBA.    liquidation, or has insufficient value to justify the cost of collection, then the Third Party Le\\nrequired to liquidate such collateral, provided the Third Party Lender notifies CDC/SBA.   \\n  r\\n \\n7  \\n7. \\ncur Notice of Default under the Third Party Loan.   Within thirty (30) days after the expiration of any \\niod for any continuing material default of the Third Party Loan or Third Party Lender Lien, Third  7. \\nNotice of Default under the Third Party Loan.   Within thirty (30) days after the expiration of any \\ncure period for any continuing material default of the Third Party Loan or Third Party Lender Lien, Third \\nParty Lender must provide written notice (referencing SBA’s loan number for the 504 Loan) of the default cure period for any continuing material default of the Third Party Loan or Third Party Lender Lien, Third \\nParty Lender must provide written notice (referencing SBA’s loan number for the 504 Loan) of the default to \\nCDC and SBA.  At least sixty 60 days prior to any legal proceedings against or liquidation of the Common  Party Lender must provide written notice (referencing SBA’s loan number for the 504 Loan) of the default t\\nCDC and SBA.  At least sixty 60 days prior to any legal proceedings against or liquidation of the Common \\nCollateral (not including sending a demand letter), Third Party Lender must provide SBA with written notic CDC and SBA.  At least sixty 60 days prior to any legal proceedings against or liquidation of the Common \\nCollateral (not including sending a demand letter), Third Party Lender must provide SBA with written notice \\nof its intent to do so.  Collateral (not includ\\nof its intent to do so. \\n  o\\n \\n8  \\n8. \\ndef Limitation on Default Interest Rate.   Third Party Lender may not escalate the rate of interest upon \\no a rate greater than the maximum rate published by SBA in the Federal Register.  SBA will only pa 8. \\nLimitation on Default Interest Rate.   Third Party Lender may not escalate the rate of interest upon \\ndefault to a rate greater than the maximum rate published by SBA in the Federal Register.  SBA will only pay \\nthe interest rate on the note in effect before the date of Borrower’s default.  default to a rate greater than the maximum rate published by SBA in the Fe\\nthe interest rate on the note in effect before the date of Borrower’s default. \\n  t\\n \\n9  \\n9. \\n   Subordination to 504 Loan and/or CDC Lien, of Amounts Attributable to Default  \\n \\nProvisions.       9\\n \\n   S\\n \\n  ination to 504 L\\nProvisions.      \\n   \\n \\n   \\n \\n  P\\n \\na  \\n   \\n \\np  \\na. \\nmen The term \"Default Charges\" used in this paragraph includes, but is not limited to, \\nalties, late fees, other default charges, and escalated interest after default due under  \\na. \\nThe term \"Default Charges\" used in this paragraph includes, but is not limited to, \\nprepayment penalties, late fees, other default charges, and escalated interest after default due under \\nthe Third Party Loan.  prepayment penalties,\\nthe Third Party Loan. \\n \\n '"
      ]
     },
     "execution_count": 91,
     "metadata": {},
     "output_type": "execute_result"
    }
   ],
   "source": [
    "chunk_text"
   ]
  },
  {
   "cell_type": "code",
   "execution_count": 92,
   "id": "1377c2de",
   "metadata": {},
   "outputs": [],
   "source": [
    "sentences = nltk.sent_tokenize(chunk_text)"
   ]
  },
  {
   "cell_type": "code",
   "execution_count": 93,
   "id": "835a7a81",
   "metadata": {},
   "outputs": [],
   "source": [
    "# Initialize Sentence Transformer for cosine similarity\n",
    "similarity_model = SentenceTransformer(\"sentence-transformers/all-MiniLM-L6-v2\")"
   ]
  },
  {
   "cell_type": "code",
   "execution_count": 94,
   "id": "cecb8e1a",
   "metadata": {},
   "outputs": [],
   "source": [
    "# Compute embeddings for the LLM response and sentences\n",
    "llm_response_embedding = similarity_model.encode(llm_response, convert_to_tensor=True)\n",
    "sentence_embeddings = similarity_model.encode(sentences, convert_to_tensor=True)"
   ]
  },
  {
   "cell_type": "code",
   "execution_count": 95,
   "id": "585d9618",
   "metadata": {},
   "outputs": [],
   "source": [
    "# Compute cosine similarities\n",
    "similarities = util.cos_sim(llm_response_embedding, sentence_embeddings)[0].tolist()"
   ]
  },
  {
   "cell_type": "code",
   "execution_count": 96,
   "id": "773cd1ba",
   "metadata": {},
   "outputs": [],
   "source": [
    "# Pair sentences with their similarity scores\n",
    "sentences_with_scores = list(zip(sentences, similarities))"
   ]
  },
  {
   "cell_type": "code",
   "execution_count": 97,
   "id": "2e34a824",
   "metadata": {},
   "outputs": [],
   "source": [
    "# Sort sentences by similarity score in descending order\n",
    "sorted_sentences_with_scores = sorted(sentences_with_scores, key=lambda x: x[1], reverse=True)"
   ]
  },
  {
   "cell_type": "code",
   "execution_count": 98,
   "id": "606e73c6",
   "metadata": {},
   "outputs": [
    {
     "name": "stdout",
     "output_type": "stream",
     "text": [
      "Score: 0.9778, Sentence: Any balloon payment for the Third Party Loan must be clearly identified and disclosed to \n",
      "SBA and approved at application or subsequently approved by SBA.\n",
      "####################\n",
      "Score: 0.9087, Sentence: Any balloon payment for the Third Party Loan must be clearly \n",
      "SBA and approved at application or subsequently approved by SBA.\n",
      "####################\n",
      "Score: 0.7380, Sentence: Any balloon payment for the Third Party Loan must be clearly identified and disclosed to  overall loan maturity must be calculated, taking into account the amounts and maturities of each \n",
      "loan.\n",
      "####################\n",
      "Score: 0.6104, Sentence: The Third Party Loan has a reasonable interest r\n",
      "which does not and will not exceed the maximum interest rate for Third Party Loans from \n",
      "commercial financial institutions as published periodically by SBA in the Federal Register  which does not and will not exceed the maximum interest rate for Third Party Loans from \n",
      "commercial financial institutions as published periodically by SBA in the Federal Register and in \n",
      "effect as of the date of this Agreement.\n",
      "####################\n",
      "Score: 0.6055, Sentence: At least sixty 60 days prior to any legal proceedings against or liquidation of the Common \n",
      "Collateral (not including sending a demand letter), Third Party Lender must provide SBA with written notice \n",
      "of its intent to do so.\n",
      "####################\n",
      "Score: 0.5589, Sentence: At least sixty 60 days prior to any legal proceedings against or liquidation of the Common \n",
      "Collateral (not including sending a demand letter), Third Party Lender must provide SBA with written notic CDC and SBA.\n",
      "####################\n",
      "Score: 0.5428, Sentence: If the Third Party Lender takes additional collateral as security for the Third \n",
      "Party Loan, in the case of liquidation, any proceeds received from such additional collateral, must be applied \n",
      "to the Third Party Lender's Loan prior to the proceeds from the liquidation of the Common Collateral held by  Party Loan, in the case of liquidation, any proceeds received from such additional collateral, must be applied \n",
      "to the Third Party Lender's Loan prior to the proceeds from the liquidation of the Common Collateral held by \n",
      "the CDC/SBA and the Third Party Lender.\n",
      "####################\n",
      "Score: 0.5211, Sentence: If the additional collateral no longer exists at the time of \n",
      "liquidation, or has insufficient value to justify the cost of collection, then the Third Party Lender is not \n",
      "required to liquidate such collateral, provided the Third Party Lender notifies CDC/SBA.\n",
      "####################\n",
      "Score: 0.5190, Sentence: SBA Form 2287 (04-18) \n",
      "Previous Editions Obsole             3   SBA Form 2287 (04-18) \n",
      " Previous Editions Obsolete  failure to pay taxes when due or violation of  any financial covenants which would cause a prudent \n",
      "lender to believe that the  prospect of payment or performance of the Third Party Note is impaired.\n",
      "####################\n",
      "Score: 0.5108, Sentence: Notice of Default under the Third Party Loan.\n",
      "####################\n",
      "Score: 0.5083, Sentence: Third Party Lender may not escalate the rate of interest upon \n",
      "o a rate greater than the maximum rate published by SBA in the Federal Register.\n",
      "####################\n",
      "Score: 0.5070, Sentence: liquidation, or has insufficient value to justify the cost of collection, then the Third Party Le\n",
      "required to liquidate such collateral, provided the Third Party Lender notifies CDC/SBA.\n",
      "####################\n",
      "Score: 0.5033, Sentence: If the additional collateral no longer exists at the time of \n",
      "liquidation, or has insufficient value to justify the cost of collection, then the Third Party Lender is no the CDC/SBA and the Third Party Lender.\n",
      "####################\n",
      "Score: 0.4987, Sentence: Third Party Lender may not escalate the rate of interest upon \n",
      "default to a rate greater than the maximum rate published by SBA in the Federal Register.\n",
      "####################\n",
      "Score: 0.4970, Sentence: Within thirty (30) days after the expiration of any \n",
      "cure period for any continuing material default of the Third Party Loan or Third Party Lender Lien, Third \n",
      "Party Lender must provide written notice (referencing SBA’s loan number for the 504 Loan) of the default cure period for any continuing material default of the Third Party Loan or Third Party Lender Lien, Third \n",
      "Party Lender must provide written notice (referencing SBA’s loan number for the 504 Loan) of the default to \n",
      "CDC and SBA.\n",
      "####################\n",
      "Score: 0.4725, Sentence: The Third Party Loan has a reasonable interest rate \n",
      "and will not exceed the maximum interest rate for Third Party Loans from   \n",
      "f. \n",
      "Reasonable Interest Rate.\n",
      "####################\n",
      "Score: 0.4636, Sentence: Third Party Lender agrees that the Common Collate\n",
      "will only secure its Third Party Loan and the Common Collateral is not currently, and will not be \n",
      "used in the future, as security for any other financing provided by Third Party Lender to Borrower will only secure its Third Party Loan and the Common Collateral is not currently, and will not be \n",
      "used in the future, as security for any other financing provided by Third Party Lender to Borrower \n",
      "that purports to be in a superior position to that of the CDC Lien, unless authorized in writing by  used in the future, as security for any other financing provided by Third Party Lender to Borrowe\n",
      "that purports to be in a superior position to that of the CDC Lien, unless authorized in writing by \n",
      "CDC and SBA.\n",
      "####################\n",
      "Score: 0.4601, Sentence: SBA will only pay \n",
      "the interest rate on the note in effect before the date of Borrower’s default.\n",
      "####################\n",
      "Score: 0.4597, Sentence: If the Third Party Lender takes additional collateral as security for the Third \n",
      "oan, in the case of liquidation, any proceeds received from such additional collateral, must be applied 6.\n",
      "####################\n",
      "Score: 0.4568, Sentence: Party Loan or Third Party Lender Lien which allow Third Party Lender to make deman\n",
      "Third Party Loan prior to maturity unless the Third Party Loan is in material default.\n",
      "####################\n",
      "Score: 0.4533, Sentence: prepayment penalties,\n",
      "the Third Party Loan.\n",
      "####################\n",
      "Score: 0.4509, Sentence: The Third Party Loan must have a term of at \n",
      "hen the 504 loan is for a term of 10 years), or a term of at least10 years (when the  \n",
      "e. \n",
      "Maturity and Balloon Payments.\n",
      "####################\n",
      "Score: 0.4509, Sentence: At least sixty 60 days prior to any legal proceedings against or liquidation of the Common  Party Lender must provide written notice (referencing SBA’s loan number for the 504 Loan) of the default t\n",
      "CDC and SBA.\n",
      "####################\n",
      "Score: 0.4447, Sentence: Third Party Lender agrees that the Common Collateral \n",
      "its Third Party Loan and the Common Collateral is not currently, and will not be   \n",
      "c. \n",
      "No Cross-Collateralization.\n",
      "####################\n",
      "Score: 0.4444, Sentence: If the additional collateral no longer exists at the time of  to the Third Party Lender's Loan prior to the proceeds from the liquidation of the Common Collateral\n",
      "the CDC/SBA and the Third Party Lender.\n",
      "####################\n",
      "Score: 0.4287, Sentence: During the term of the 504 Loan, Third Party Lender will not \n",
      "exercise any cross-default, \"deem at-risk,\" or any other provisions in documents evidencing the Third \n",
      "Party Loan or Third Party Lender Lien which allow Third Party Lender to make demand on the  exercise any cross-default, \"deem at-risk,\" or any other provisions in documents evidencing the T\n",
      "Party Loan or Third Party Lender Lien which allow Third Party Lender to make demand on the \n",
      "Third Party Loan prior to maturity unless the Third Party Loan is in material default.\n",
      "####################\n",
      "Score: 0.4232, Sentence: T\n",
      " \n",
      "   \n",
      " \n",
      "l e. \n",
      "yea Maturity and Balloon Payments.\n",
      "####################\n",
      "Score: 0.4202, Sentence: r\n",
      " \n",
      "7  \n",
      "7. \n",
      "cur Notice of Default under the Third Party Loan.\n",
      "####################\n",
      "Score: 0.4089, Sentence: If the Third Party Lender has made more than one loan, then an \n",
      "overall loan maturity must be calculated, taking into account the amounts and maturities of each \n",
      "loan.\n",
      "####################\n",
      "Score: 0.4010, Sentence: failure to pay taxes when due or violation of  any financial covenants which would cause a prudent \n",
      "lender to believe that the  prospect of payment or performance of the Third Party Note is impaired.\n",
      "####################\n",
      "Score: 0.3984, Sentence: default to a rate greater than the maximum rate published by SBA in the Fe\n",
      "the interest rate on the note in effect before the date of Borrower’s default.\n",
      "####################\n",
      "Score: 0.3883, Sentence: The term \"Default Charges\" used in this paragraph includes, but is not limited to, \n",
      "prepayment penalties, late fees, other default charges, and escalated interest after default due under \n",
      "the Third Party Loan.\n",
      "####################\n",
      "Score: 0.3730, Sentence: The Third Party Loan must have a term of at \n",
      "least 7 years (when the 504 loan is for a term of 10 years), or a term of at least10 years (when the \n",
      "504 loan is for 20 or 25 years).\n",
      "####################\n",
      "Score: 0.3530, Sentence: During the term of the 504 Loan, Third Party Lender will not \n",
      "ss-default, \"deem at-risk,\" or any other provisions in documents evidencing the Thi  \n",
      "d. \n",
      "No Cross-Default.\n",
      "####################\n",
      "Score: 0.3446, Sentence: Within thirty (30) days after the expiration of any \n",
      "iod for any continuing material default of the Third Party Loan or Third Party Lender Lien, Third  7.\n",
      "####################\n",
      "Score: 0.3416, Sentence: If the Third Party Lender has made more than one loan, then an \n",
      "overall loan maturity must be calculated, taking into account the amounts and maturities of each  504 loan is for 20 or 25 years).\n",
      "####################\n",
      "Score: 0.3377, Sentence: Collateral (not includ\n",
      "of its intent to do so.\n",
      "####################\n",
      "Score: 0.3263, Sentence: If the Third Party Lender has made more than one loan, then an  least 7 years (when the 504 loan is for a term of 10 years), or a term of at least10 years (when the\n",
      "504 loan is for 20 or 25 years).\n",
      "####################\n",
      "Score: 0.3254, Sentence: Subordination to 504 Loan and/or CDC Lien, of Amounts Attributable to Default  \n",
      " \n",
      "Provisions.\n",
      "####################\n",
      "Score: 0.3112, Sentence: commercial financial institutions as publ\n",
      "effect as of the date of this Agreement.\n",
      "####################\n",
      "Score: 0.2810, Sentence: loan.\n",
      "####################\n",
      "Score: 0.2693, Sentence: SBA will only pa 8.\n",
      "####################\n",
      "Score: 0.2636, Sentence: P\n",
      " \n",
      "a  \n",
      "   \n",
      " \n",
      "p  \n",
      "a. \n",
      "men The term \"Default Charges\" used in this paragraph includes, but is not limited to, \n",
      "alties, late fees, other default charges, and escalated interest after default due under  \n",
      "a.\n",
      "####################\n",
      "Score: 0.2470, Sentence: o\n",
      " \n",
      "8  \n",
      "8. \n",
      "def Limitation on Default Interest Rate.\n",
      "####################\n",
      "Score: 0.2448, Sentence: nt\n",
      "  S\n",
      " \n",
      "   \n",
      " \n",
      "w f. \n",
      "oe Reasonable Interest Rate.\n",
      "####################\n",
      "Score: 0.2329, Sentence: that purports to b\n",
      "CDC and SBA.\n",
      "####################\n",
      "Score: 0.2190, Sentence: Limitation on Default Interest Rate.\n",
      "####################\n",
      "Score: 0.2064, Sentence: l\n",
      " \n",
      "   \n",
      " \n",
      "w c. \n",
      "y se No Cross-Collateralization.\n",
      "####################\n",
      "Score: 0.1982, Sentence: Pa  \n",
      "Marshaling of Assets.\n",
      "####################\n",
      "Score: 0.1933, Sentence: Marshaling of Assets.\n",
      "####################\n",
      "Score: 0.1868, Sentence: 9\n",
      " \n",
      "   S\n",
      " \n",
      "  ination to 504 L\n",
      "Provisions.\n",
      "####################\n",
      "Score: 0.0577, Sentence: C\n",
      " \n",
      "   \n",
      " \n",
      "e d. \n",
      " an No Cross-Default.\n",
      "####################\n",
      "Score: -0.0091, Sentence: t\n",
      " \n",
      "9  \n",
      "9.\n",
      "####################\n",
      "Score: -0.0456, Sentence: e\n",
      " \n",
      "M 6.\n",
      "####################\n"
     ]
    }
   ],
   "source": [
    "for sentence, score in sorted_sentences_with_scores:\n",
    "    print(f\"Score: {score:.4f}, Sentence: {sentence}\")\n",
    "    print(\"#\"*20)"
   ]
  },
  {
   "cell_type": "code",
   "execution_count": 99,
   "id": "50fa14d6",
   "metadata": {},
   "outputs": [],
   "source": [
    "# Find high-similarity sentences and their coordinates\n",
    "high_similarity_sentences = []\n",
    "for sentence, score in sorted_sentences_with_scores:\n",
    "    if score >= COSINE_SIMILARITY_THRESHOLD:\n",
    "        search_results = page.search_for(sentence)\n",
    "        if search_results:  # Ensure search_results is not empty\n",
    "            high_similarity_sentences.append(fitz.Rect(*search_results[0]))"
   ]
  },
  {
   "cell_type": "code",
   "execution_count": 100,
   "id": "ffcab16a",
   "metadata": {},
   "outputs": [
    {
     "data": {
      "text/plain": [
       "[Rect(135.36038208007812, 297.96624755859375, 532.0783081054688, 312.693603515625),\n",
       " Rect(143.62855529785156, 525.7296142578125, 529.6664428710938, 540.4569702148438),\n",
       " Rect(259.4261169433594, 437.16961669921875, 500.5091552734375, 451.89697265625),\n",
       " Rect(107.99040222167969, 487.69488525390625, 303.70196533203125, 502.4222412109375)]"
      ]
     },
     "execution_count": 100,
     "metadata": {},
     "output_type": "execute_result"
    }
   ],
   "source": [
    "high_similarity_sentences"
   ]
  },
  {
   "cell_type": "code",
   "execution_count": 101,
   "id": "4635d498",
   "metadata": {},
   "outputs": [],
   "source": [
    "# Highlight the entire chunk in yellow\n",
    "for coord in coordinates:\n",
    "    rect = fitz.Rect(*coord)\n",
    "    page.add_highlight_annot(rect)"
   ]
  },
  {
   "cell_type": "code",
   "execution_count": 102,
   "id": "3fb04b6c",
   "metadata": {},
   "outputs": [],
   "source": [
    "# Highlight high-similarity sentences in green\n",
    "for rect in high_similarity_sentences:\n",
    "    highlight = page.add_highlight_annot(rect)\n",
    "    highlight.set_colors(stroke=(0, 1, 0))  # Green color\n",
    "    highlight.update()"
   ]
  },
  {
   "cell_type": "code",
   "execution_count": 103,
   "id": "00e2f4af",
   "metadata": {},
   "outputs": [],
   "source": [
    "doc.save(highlighted_pdf_path, garbage=4)\n",
    "doc.close()"
   ]
  },
  {
   "cell_type": "code",
   "execution_count": null,
   "id": "2def8c59",
   "metadata": {},
   "outputs": [],
   "source": []
  }
 ],
 "metadata": {
  "kernelspec": {
   "display_name": "Python 3 (ipykernel)",
   "language": "python",
   "name": "python3"
  },
  "language_info": {
   "codemirror_mode": {
    "name": "ipython",
    "version": 3
   },
   "file_extension": ".py",
   "mimetype": "text/x-python",
   "name": "python",
   "nbconvert_exporter": "python",
   "pygments_lexer": "ipython3",
   "version": "3.11.5"
  }
 },
 "nbformat": 4,
 "nbformat_minor": 5
}
