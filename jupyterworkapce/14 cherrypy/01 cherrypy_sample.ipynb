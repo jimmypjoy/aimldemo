{
 "cells": [
  {
   "cell_type": "code",
   "execution_count": 8,
   "id": "5f301d5a",
   "metadata": {},
   "outputs": [],
   "source": [
    "import cherrypy\n",
    "from threading import Thread"
   ]
  },
  {
   "cell_type": "code",
   "execution_count": 9,
   "id": "95de5f74",
   "metadata": {},
   "outputs": [],
   "source": [
    "class MyWebApp:\n",
    "    @cherrypy.expose\n",
    "    def index(self):\n",
    "        # Custom HTML content as a string\n",
    "        return \"\"\"<html>\n",
    "                  <head><title>My Custom Page</title></head>\n",
    "                  <body><h1>Hello,tst JMJ sampel web app using Cherrypy</h1></body>\n",
    "                  </html>\"\"\"\n",
    "\n",
    "    @cherrypy.expose\n",
    "    def page(self, name=\"Visitor\"):\n",
    "        # Dynamic content using a simple Python string template\n",
    "        return f\"<html><body><h1>Welcome, {name}!</h1></body></html>\""
   ]
  },
  {
   "cell_type": "code",
   "execution_count": 10,
   "id": "91fd0fc2",
   "metadata": {},
   "outputs": [],
   "source": [
    "def start_cherrypy():\n",
    "    cherrypy.quickstart(MyWebApp(), config={'global': {'server.socket_port': 8080}})"
   ]
  },
  {
   "cell_type": "code",
   "execution_count": 11,
   "id": "876b13ab",
   "metadata": {},
   "outputs": [
    {
     "name": "stderr",
     "output_type": "stream",
     "text": [
      "[22/Aug/2024:12:52:56] ENGINE Bus STARTING\n",
      "[22/Aug/2024:12:52:56] ENGINE Set handler for console events.\n",
      "[22/Aug/2024:12:52:56] ENGINE Started monitor thread 'Autoreloader'.\n",
      "[22/Aug/2024:12:52:57] ENGINE Serving on http://127.0.0.1:8080\n",
      "[22/Aug/2024:12:52:57] ENGINE Bus STARTED\n"
     ]
    },
    {
     "name": "stdout",
     "output_type": "stream",
     "text": [
      "127.0.0.1 - - [22/Aug/2024:12:53:00] \"GET / HTTP/1.1\" 200 177 \"\" \"Mozilla/5.0 (Windows NT 10.0; Win64; x64) AppleWebKit/537.36 (KHTML, like Gecko) Chrome/127.0.0.0 Safari/537.36\"\n",
      "127.0.0.1 - - [22/Aug/2024:12:53:00] \"GET /favicon.ico HTTP/1.1\" 304 - \"http://127.0.0.1:8080/\" \"Mozilla/5.0 (Windows NT 10.0; Win64; x64) AppleWebKit/537.36 (KHTML, like Gecko) Chrome/127.0.0.0 Safari/537.36\"\n"
     ]
    }
   ],
   "source": [
    "# Start CherryPy in a separate thread to avoid blocking the Jupyter Notebook\n",
    "thread = Thread(target=start_cherrypy)\n",
    "thread.start()"
   ]
  },
  {
   "cell_type": "code",
   "execution_count": 12,
   "id": "6666c88b",
   "metadata": {},
   "outputs": [
    {
     "name": "stderr",
     "output_type": "stream",
     "text": [
      "[22/Aug/2024:12:53:03] ENGINE Bus STOPPING\n"
     ]
    },
    {
     "name": "stdout",
     "output_type": "stream",
     "text": [
      "127.0.0.1 - - [22/Aug/2024:12:53:07] \"GET / HTTP/1.1\" 200 177 \"\" \"Mozilla/5.0 (Windows NT 10.0; Win64; x64) AppleWebKit/537.36 (KHTML, like Gecko) Chrome/127.0.0.0 Safari/537.36\"\n"
     ]
    },
    {
     "name": "stderr",
     "output_type": "stream",
     "text": [
      "[22/Aug/2024:12:53:07] ENGINE HTTP Server cherrypy._cpwsgi_server.CPWSGIServer(('127.0.0.1', 8080)) shut down\n",
      "[22/Aug/2024:12:53:07] ENGINE Removed handler for console events.\n",
      "[22/Aug/2024:12:53:07] ENGINE Stopped thread 'Autoreloader'.\n",
      "[22/Aug/2024:12:53:07] ENGINE Bus STOPPED\n",
      "[22/Aug/2024:12:53:07] ENGINE Bus EXITING\n",
      "[22/Aug/2024:12:53:07] ENGINE Waiting for child threads to terminate...\n",
      "[22/Aug/2024:12:53:07] ENGINE Bus EXITED\n",
      "[22/Aug/2024:13:06:39] ENGINE Console event 0: shutting down bus\n",
      "[22/Aug/2024:13:06:39] ENGINE Handler for console events already off.\n",
      "[22/Aug/2024:13:06:39] ENGINE Bus STOPPING\n",
      "[22/Aug/2024:13:06:39] ENGINE HTTP Server cherrypy._cpwsgi_server.CPWSGIServer(('127.0.0.1', 8080)) already shut down\n",
      "[22/Aug/2024:13:06:39] ENGINE Handler for console events already off.\n",
      "[22/Aug/2024:13:06:39] ENGINE No thread running for None.\n",
      "[22/Aug/2024:13:06:39] ENGINE Bus STOPPED\n",
      "[22/Aug/2024:13:06:39] ENGINE Bus EXITING\n",
      "[22/Aug/2024:13:06:39] ENGINE Bus EXITED\n"
     ]
    }
   ],
   "source": [
    "cherrypy.engine.exit()"
   ]
  },
  {
   "cell_type": "code",
   "execution_count": null,
   "id": "238f87ff",
   "metadata": {},
   "outputs": [],
   "source": []
  }
 ],
 "metadata": {
  "kernelspec": {
   "display_name": "Python 3 (ipykernel)",
   "language": "python",
   "name": "python3"
  },
  "language_info": {
   "codemirror_mode": {
    "name": "ipython",
    "version": 3
   },
   "file_extension": ".py",
   "mimetype": "text/x-python",
   "name": "python",
   "nbconvert_exporter": "python",
   "pygments_lexer": "ipython3",
   "version": "3.11.5"
  }
 },
 "nbformat": 4,
 "nbformat_minor": 5
}
