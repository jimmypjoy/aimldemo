{
 "cells": [
  {
   "cell_type": "markdown",
   "metadata": {},
   "source": [
    "# NumPy\n",
    "\n",
    "numpy is python's package for doing math that is more advanced than +-*/\n",
    "\n",
    "This includes special functions like cosine, exponential, sqrt, ...\n",
    "\n",
    "On top of this we can use numpy to generate samples from many types of random variables\n",
    "\n",
    "numpy also has a powerful data type to define vectors, matrices, and tensors\n",
    "\n",
    "With these data types numpy also allows us to do linear algebra - matrix multiplication and matrix-vector solutions"
   ]
  },
  {
   "cell_type": "code",
   "execution_count": 1,
   "metadata": {},
   "outputs": [],
   "source": [
    "import numpy as np\n",
    "from numpy import *"
   ]
  },
  {
   "cell_type": "code",
   "execution_count": 2,
   "metadata": {},
   "outputs": [],
   "source": [
    "arr = np.array([[1,2,3,4,5],[2,4,6,8,10]],int)"
   ]
  },
  {
   "cell_type": "code",
   "execution_count": 3,
   "metadata": {},
   "outputs": [
    {
     "data": {
      "text/plain": [
       "array([[ 1,  2,  3,  4,  5],\n",
       "       [ 2,  4,  6,  8, 10]])"
      ]
     },
     "execution_count": 3,
     "metadata": {},
     "output_type": "execute_result"
    }
   ],
   "source": [
    "arr"
   ]
  },
  {
   "cell_type": "code",
   "execution_count": 4,
   "metadata": {},
   "outputs": [
    {
     "data": {
      "text/plain": [
       "numpy.ndarray"
      ]
     },
     "execution_count": 4,
     "metadata": {},
     "output_type": "execute_result"
    }
   ],
   "source": [
    "type(arr)"
   ]
  },
  {
   "cell_type": "code",
   "execution_count": 5,
   "metadata": {},
   "outputs": [
    {
     "data": {
      "text/plain": [
       "array([[ 1,  2],\n",
       "       [ 2,  4],\n",
       "       [ 3,  6],\n",
       "       [ 4,  8],\n",
       "       [ 5, 10]])"
      ]
     },
     "execution_count": 5,
     "metadata": {},
     "output_type": "execute_result"
    }
   ],
   "source": [
    "#transpse\n",
    "arr.T"
   ]
  },
  {
   "cell_type": "code",
   "execution_count": 6,
   "metadata": {},
   "outputs": [
    {
     "data": {
      "text/plain": [
       "array([[1, 2, 3, 4, 5]])"
      ]
     },
     "execution_count": 6,
     "metadata": {},
     "output_type": "execute_result"
    }
   ],
   "source": [
    "arr[0:1]"
   ]
  },
  {
   "cell_type": "code",
   "execution_count": 7,
   "metadata": {},
   "outputs": [
    {
     "data": {
      "text/plain": [
       "array([[False, False, False, False, False],\n",
       "       [False, False, False, False, False]])"
      ]
     },
     "execution_count": 7,
     "metadata": {},
     "output_type": "execute_result"
    }
   ],
   "source": [
    "arr>10"
   ]
  },
  {
   "cell_type": "code",
   "execution_count": 8,
   "metadata": {},
   "outputs": [
    {
     "data": {
      "text/plain": [
       "(2, 5)"
      ]
     },
     "execution_count": 8,
     "metadata": {},
     "output_type": "execute_result"
    }
   ],
   "source": [
    "arr.shape"
   ]
  },
  {
   "cell_type": "code",
   "execution_count": 9,
   "metadata": {},
   "outputs": [
    {
     "data": {
      "text/plain": [
       "10"
      ]
     },
     "execution_count": 9,
     "metadata": {},
     "output_type": "execute_result"
    }
   ],
   "source": [
    "arr.size"
   ]
  },
  {
   "cell_type": "code",
   "execution_count": 10,
   "metadata": {},
   "outputs": [
    {
     "data": {
      "text/plain": [
       "dtype('int32')"
      ]
     },
     "execution_count": 10,
     "metadata": {},
     "output_type": "execute_result"
    }
   ],
   "source": [
    "arr.dtype"
   ]
  },
  {
   "cell_type": "code",
   "execution_count": 11,
   "metadata": {},
   "outputs": [
    {
     "data": {
      "text/plain": [
       "array([[ True,  True,  True,  True,  True],\n",
       "       [ True,  True,  True,  True, False]])"
      ]
     },
     "execution_count": 11,
     "metadata": {},
     "output_type": "execute_result"
    }
   ],
   "source": [
    "arr<10"
   ]
  },
  {
   "cell_type": "code",
   "execution_count": 12,
   "metadata": {},
   "outputs": [
    {
     "data": {
      "text/plain": [
       "array([[1, 0, 3, 0, 5],\n",
       "       [0, 0, 0, 0, 0]])"
      ]
     },
     "execution_count": 12,
     "metadata": {},
     "output_type": "execute_result"
    }
   ],
   "source": [
    "where(arr%2!=0,arr,0) "
   ]
  },
  {
   "cell_type": "code",
   "execution_count": 13,
   "metadata": {},
   "outputs": [],
   "source": [
    "#we can also use the arange method and then reshape the array into the desired matrix\n",
    "d2 = np.arange(start = 9, stop = 0, step = -1)\n",
    "d2 = d2.reshape(3,3)"
   ]
  },
  {
   "cell_type": "code",
   "execution_count": 14,
   "metadata": {},
   "outputs": [
    {
     "data": {
      "text/plain": [
       "array([[9, 8, 7],\n",
       "       [6, 5, 4],\n",
       "       [3, 2, 1]])"
      ]
     },
     "execution_count": 14,
     "metadata": {},
     "output_type": "execute_result"
    }
   ],
   "source": [
    "d2"
   ]
  },
  {
   "cell_type": "code",
   "execution_count": 15,
   "metadata": {},
   "outputs": [
    {
     "data": {
      "text/plain": [
       "array([[10,  9,  8],\n",
       "       [ 7,  6,  5],\n",
       "       [ 4,  3,  2]])"
      ]
     },
     "execution_count": 15,
     "metadata": {},
     "output_type": "execute_result"
    }
   ],
   "source": [
    "# Adds the constant to each element of the array.\n",
    "d2 + 1"
   ]
  },
  {
   "cell_type": "code",
   "execution_count": 16,
   "metadata": {},
   "outputs": [
    {
     "data": {
      "text/plain": [
       "5.0"
      ]
     },
     "execution_count": 16,
     "metadata": {},
     "output_type": "execute_result"
    }
   ],
   "source": [
    "# Returns mean of the elements of array.\n",
    "d2.mean()"
   ]
  },
  {
   "cell_type": "code",
   "execution_count": 57,
   "metadata": {},
   "outputs": [],
   "source": [
    "lp = np.linspace(0,20,6)"
   ]
  },
  {
   "cell_type": "code",
   "execution_count": 58,
   "metadata": {},
   "outputs": [
    {
     "data": {
      "text/plain": [
       "array([ 0.,  4.,  8., 12., 16., 20.])"
      ]
     },
     "execution_count": 58,
     "metadata": {},
     "output_type": "execute_result"
    }
   ],
   "source": [
    "lp"
   ]
  },
  {
   "cell_type": "code",
   "execution_count": 59,
   "metadata": {},
   "outputs": [
    {
     "data": {
      "text/plain": [
       "array([[1., 0., 0., 0., 0.],\n",
       "       [0., 1., 0., 0., 0.],\n",
       "       [0., 0., 1., 0., 0.],\n",
       "       [0., 0., 0., 1., 0.],\n",
       "       [0., 0., 0., 0., 1.]])"
      ]
     },
     "execution_count": 59,
     "metadata": {},
     "output_type": "execute_result"
    }
   ],
   "source": [
    "# 5x5 array of 0 with 1 on diagonal (Identity matrix)\n",
    "np.eye(5)"
   ]
  },
  {
   "cell_type": "code",
   "execution_count": 60,
   "metadata": {},
   "outputs": [
    {
     "data": {
      "text/plain": [
       "array([[8, 8, 8],\n",
       "       [8, 8, 8]])"
      ]
     },
     "execution_count": 60,
     "metadata": {},
     "output_type": "execute_result"
    }
   ],
   "source": [
    " # 2x3 array with all values 8\n",
    "np.full((2,3),8)"
   ]
  },
  {
   "cell_type": "code",
   "execution_count": 19,
   "metadata": {},
   "outputs": [
    {
     "data": {
      "text/plain": [
       "-1.0"
      ]
     },
     "execution_count": 19,
     "metadata": {},
     "output_type": "execute_result"
    }
   ],
   "source": [
    "np.cos(np.pi)"
   ]
  },
  {
   "cell_type": "code",
   "execution_count": 20,
   "metadata": {},
   "outputs": [
    {
     "data": {
      "text/plain": [
       "9.00555384193554"
      ]
     },
     "execution_count": 20,
     "metadata": {},
     "output_type": "execute_result"
    }
   ],
   "source": [
    "np.sqrt(81.1)"
   ]
  },
  {
   "cell_type": "code",
   "execution_count": 21,
   "metadata": {},
   "outputs": [
    {
     "data": {
      "text/plain": [
       "5.2"
      ]
     },
     "execution_count": 21,
     "metadata": {},
     "output_type": "execute_result"
    }
   ],
   "source": [
    "np.log(np.exp(5.2))"
   ]
  },
  {
   "cell_type": "code",
   "execution_count": 22,
   "metadata": {},
   "outputs": [],
   "source": [
    "# there are lots of other ways to create numpy arrays\n",
    "vec2 = np.arange(0,15)"
   ]
  },
  {
   "cell_type": "code",
   "execution_count": 23,
   "metadata": {},
   "outputs": [
    {
     "data": {
      "text/plain": [
       "array([ 0,  1,  2,  3,  4,  5,  6,  7,  8,  9, 10, 11, 12, 13, 14])"
      ]
     },
     "execution_count": 23,
     "metadata": {},
     "output_type": "execute_result"
    }
   ],
   "source": [
    "vec2"
   ]
  },
  {
   "cell_type": "code",
   "execution_count": 24,
   "metadata": {},
   "outputs": [],
   "source": [
    "vec3 = np.arange(3,21,6)"
   ]
  },
  {
   "cell_type": "code",
   "execution_count": 25,
   "metadata": {},
   "outputs": [
    {
     "data": {
      "text/plain": [
       "array([ 3,  9, 15])"
      ]
     },
     "execution_count": 25,
     "metadata": {},
     "output_type": "execute_result"
    }
   ],
   "source": [
    "vec3"
   ]
  },
  {
   "cell_type": "code",
   "execution_count": 26,
   "metadata": {},
   "outputs": [
    {
     "name": "stdout",
     "output_type": "stream",
     "text": [
      "[0.         0.55555556 1.11111111 1.66666667 2.22222222 2.77777778\n",
      " 3.33333333 3.88888889 4.44444444 5.        ]\n",
      "\n",
      "[[0.         0.55555556]\n",
      " [1.11111111 1.66666667]\n",
      " [2.22222222 2.77777778]\n",
      " [3.33333333 3.88888889]\n",
      " [4.44444444 5.        ]]\n",
      "[[0.         0.55555556]\n",
      " [1.11111111 1.66666667]\n",
      " [2.22222222 2.77777778]\n",
      " [3.33333333 3.88888889]\n",
      " [4.44444444 5.        ]]\n",
      "[0.         0.55555556 1.11111111 1.66666667 2.22222222 2.77777778\n",
      " 3.33333333 3.88888889 4.44444444 5.        ]\n"
     ]
    }
   ],
   "source": [
    "\n",
    "vec4 = np.linspace(0,5,10)\n",
    "print(vec4)\n",
    "print('')\n",
    "print(vec4.reshape(5,2))\n",
    "vec4_reshaped = vec4.reshape(5,2)\n",
    "print(vec4_reshaped)\n",
    "print(vec4)"
   ]
  },
  {
   "cell_type": "code",
   "execution_count": 27,
   "metadata": {},
   "outputs": [
    {
     "name": "stdout",
     "output_type": "stream",
     "text": [
      "[[0. 0. 0.]\n",
      " [0. 0. 0.]\n",
      " [0. 0. 0.]\n",
      " [0. 0. 0.]\n",
      " [0. 0. 0.]]\n",
      "\n",
      "[[1. 1. 1. 1. 1.]\n",
      " [1. 1. 1. 1. 1.]\n",
      " [1. 1. 1. 1. 1.]]\n",
      "\n",
      "[[1. 0. 0. 0. 0.]\n",
      " [0. 1. 0. 0. 0.]\n",
      " [0. 0. 1. 0. 0.]\n",
      " [0. 0. 0. 1. 0.]\n",
      " [0. 0. 0. 0. 1.]]\n"
     ]
    }
   ],
   "source": [
    "mat2 = np.zeros([5,3])\n",
    "print(mat2)\n",
    "mat3 = np.ones((3,5))\n",
    "print('')\n",
    "print(mat3)\n",
    "mat4 = np.eye(5)\n",
    "print('')\n",
    "print(mat4)"
   ]
  },
  {
   "cell_type": "code",
   "execution_count": 28,
   "metadata": {},
   "outputs": [
    {
     "name": "stdout",
     "output_type": "stream",
     "text": [
      "[1 2 3 4 5]\n",
      "[3 4 5 6 7]\n",
      "[ 4  6  8 10 12]\n",
      "[ 3  8 15 24 35]\n",
      "[1.         0.5        0.33333333 0.25       0.2       ]\n",
      "[1.73205081 2.         2.23606798 2.44948974 2.64575131]\n"
     ]
    }
   ],
   "source": [
    "# we can +-*/ arrays together if they're the right size\n",
    "vec5 = np.arange(1,6)\n",
    "vec6 = np.arange(3,8)\n",
    "print(vec5)\n",
    "print(vec6)\n",
    "print(vec5+vec6)\n",
    "print(vec5*vec6)\n",
    "print(1/vec5)\n",
    "print(np.sqrt(vec6))"
   ]
  },
  {
   "cell_type": "code",
   "execution_count": 29,
   "metadata": {},
   "outputs": [
    {
     "name": "stdout",
     "output_type": "stream",
     "text": [
      "['blue' 'red' 'orange' 'purple' 'purple' 'orange' 'Red' '6']\n",
      "['6' 'Red' 'blue' 'orange' 'purple' 'red']\n"
     ]
    }
   ],
   "source": [
    "# we can find the unique values in an array\n",
    "vec7 = np.array(['blue','red','orange','purple','purple','orange','Red',6])\n",
    "print(vec7)\n",
    "print(np.unique(vec7))"
   ]
  },
  {
   "cell_type": "code",
   "execution_count": 30,
   "metadata": {},
   "outputs": [
    {
     "name": "stdout",
     "output_type": "stream",
     "text": [
      "[[0.59559304 0.22220342 0.12787051 0.69320645 0.84810147]\n",
      " [0.53952948 0.30822766 0.14995893 0.8736937  0.45616715]\n",
      " [0.96017356 0.46808799 0.25185454 0.36232907 0.16971996]\n",
      " [0.06624064 0.72990069 0.11185028 0.40726834 0.53033297]\n",
      " [0.1170142  0.04330027 0.27407198 0.45303816 0.48738825]]\n",
      "\n",
      "[[ 1.36413317 -0.91854407 -0.01737141 -0.37241814  0.1939815 ]\n",
      " [ 0.72798862  0.73127385 -1.16812128 -1.44215804  1.522981  ]\n",
      " [ 0.49613574 -0.07461444  0.42902284 -0.95615609  2.21064991]\n",
      " [ 0.93142495  0.7481022   0.07240928 -1.15976102 -1.01927743]\n",
      " [-0.75564431 -1.00893731 -0.06893155 -0.26521186  0.80359658]\n",
      " [ 1.61040148  0.12236433 -1.03733869 -0.292318   -0.00811614]\n",
      " [-0.29589636  0.80182963 -0.12167325  0.94470546  0.75764065]\n",
      " [-1.04466882  0.00452903  0.10635619  2.19454379  1.88665051]\n",
      " [-1.12798944 -1.18773131 -0.24095546  0.81747617 -1.95892565]\n",
      " [-2.14683676 -0.73097672 -0.45614487  0.6961071  -0.7279252 ]]\n"
     ]
    }
   ],
   "source": [
    "# we can also use numpy to generate samples of a random variable\n",
    "rand_mat = np.random.rand(5,5) # uniform random variable\n",
    "print(rand_mat)\n",
    "rand_mat2 = np.random.randn(10,5) # standard normal random variable\n",
    "print('')\n",
    "print(rand_mat2)"
   ]
  },
  {
   "cell_type": "code",
   "execution_count": 31,
   "metadata": {},
   "outputs": [
    {
     "name": "stdout",
     "output_type": "stream",
     "text": [
      "0.4098849086087166\n",
      "1.011352022071101\n"
     ]
    }
   ],
   "source": [
    "# we can also use numpy for statistical tools on arrays\n",
    "print(np.mean(rand_mat))\n",
    "print(np.std(rand_mat2))"
   ]
  },
  {
   "cell_type": "code",
   "execution_count": 32,
   "metadata": {},
   "outputs": [
    {
     "name": "stdout",
     "output_type": "stream",
     "text": [
      "0.043300273346935314\n",
      "2.2106499075354393\n"
     ]
    }
   ],
   "source": [
    "print(np.min(rand_mat))\n",
    "print(np.max(rand_mat2))"
   ]
  },
  {
   "cell_type": "code",
   "execution_count": 33,
   "metadata": {},
   "outputs": [],
   "source": [
    "# break here for next video!"
   ]
  },
  {
   "cell_type": "code",
   "execution_count": 34,
   "metadata": {},
   "outputs": [
    {
     "name": "stdout",
     "output_type": "stream",
     "text": [
      "[ 2.30713799  0.08645967 -0.82625317  0.16231963 -1.40820745 -0.65876501\n",
      " -0.76055059 -0.28718882  0.36597923  0.37653586 -1.45325193 -0.06319211\n",
      "  1.01134751  2.10234578  0.02276088 -0.88066349  0.38198651 -1.70620476\n",
      "  1.40707189]\n",
      "-0.7605505915837529\n"
     ]
    }
   ],
   "source": [
    "# how do we access entries in a numpy vector\n",
    "rand_vec = np.random.randn(19)\n",
    "print(rand_vec)\n",
    "print(rand_vec[6])"
   ]
  },
  {
   "cell_type": "code",
   "execution_count": 35,
   "metadata": {},
   "outputs": [
    {
     "name": "stdout",
     "output_type": "stream",
     "text": [
      "[-1.40820745 -0.65876501 -0.76055059 -0.28718882  0.36597923]\n"
     ]
    }
   ],
   "source": [
    "# we can access multiple entries at once using :\n",
    "print(rand_vec[4:9])"
   ]
  },
  {
   "cell_type": "code",
   "execution_count": 36,
   "metadata": {},
   "outputs": [
    {
     "name": "stdout",
     "output_type": "stream",
     "text": [
      "[ 0  3  6  9 12]\n",
      "[ 2.30713799  0.16231963 -0.76055059  0.37653586  1.01134751]\n"
     ]
    }
   ],
   "source": [
    "# we can also access multiple non-consecutive entries using np.arange\n",
    "print(np.arange(0,15,3))\n",
    "print(rand_vec[np.arange(0,15,3)])"
   ]
  },
  {
   "cell_type": "code",
   "execution_count": 37,
   "metadata": {},
   "outputs": [
    {
     "name": "stdout",
     "output_type": "stream",
     "text": [
      "[[0.59559304 0.22220342 0.12787051 0.69320645 0.84810147]\n",
      " [0.53952948 0.30822766 0.14995893 0.8736937  0.45616715]\n",
      " [0.96017356 0.46808799 0.25185454 0.36232907 0.16971996]\n",
      " [0.06624064 0.72990069 0.11185028 0.40726834 0.53033297]\n",
      " [0.1170142  0.04330027 0.27407198 0.45303816 0.48738825]]\n",
      "0.14995893268813765\n",
      "0.14995893268813765\n"
     ]
    }
   ],
   "source": [
    "# what about matrices\n",
    "print(rand_mat)\n",
    "print(rand_mat[1][2])\n",
    "print(rand_mat[1,2])\n"
   ]
  },
  {
   "cell_type": "code",
   "execution_count": 38,
   "metadata": {},
   "outputs": [
    {
     "name": "stdout",
     "output_type": "stream",
     "text": [
      "[[0.22220342 0.12787051]\n",
      " [0.30822766 0.14995893]]\n"
     ]
    }
   ],
   "source": [
    "print(rand_mat[0:2,1:3])"
   ]
  },
  {
   "cell_type": "code",
   "execution_count": 39,
   "metadata": {},
   "outputs": [
    {
     "name": "stdout",
     "output_type": "stream",
     "text": [
      "[ 2.30713799  0.08645967 -0.82625317  0.16231963 -1.40820745 -0.65876501\n",
      " -0.76055059 -0.28718882  0.36597923  0.37653586 -1.45325193 -0.06319211\n",
      "  1.01134751  2.10234578  0.02276088 -0.88066349  0.38198651 -1.70620476\n",
      "  1.40707189]\n",
      "\n",
      "[ 2.30713799  0.08645967 -0.82625317  4.          4.         -0.65876501\n",
      " -0.76055059 -0.28718882  0.36597923  0.37653586 -1.45325193 -0.06319211\n",
      "  1.01134751  2.10234578  0.02276088 -0.88066349  0.38198651 -1.70620476\n",
      "  1.40707189]\n",
      "\n",
      "[ 2.30713799  0.08645967 -0.82625317  1.          2.         -0.65876501\n",
      " -0.76055059 -0.28718882  0.36597923  0.37653586 -1.45325193 -0.06319211\n",
      "  1.01134751  2.10234578  0.02276088 -0.88066349  0.38198651 -1.70620476\n",
      "  1.40707189]\n"
     ]
    }
   ],
   "source": [
    "# let's change some values in an array!\n",
    "print(rand_vec)\n",
    "rand_vec[3:5] = 4\n",
    "print('')\n",
    "print(rand_vec)\n",
    "rand_vec[3:5] = [1,2]\n",
    "print('')\n",
    "print(rand_vec)"
   ]
  },
  {
   "cell_type": "code",
   "execution_count": 40,
   "metadata": {},
   "outputs": [
    {
     "name": "stdout",
     "output_type": "stream",
     "text": [
      "[[0.59559304 0.22220342 0.12787051 0.69320645 0.84810147]\n",
      " [0.53952948 0.30822766 0.14995893 0.8736937  0.45616715]\n",
      " [0.96017356 0.46808799 0.25185454 0.36232907 0.16971996]\n",
      " [0.06624064 0.72990069 0.11185028 0.40726834 0.53033297]\n",
      " [0.1170142  0.04330027 0.27407198 0.45303816 0.48738825]]\n",
      "\n",
      "[[0.59559304 0.22220342 0.12787051 0.69320645 0.84810147]\n",
      " [0.53952948 0.30822766 0.14995893 0.         0.        ]\n",
      " [0.96017356 0.46808799 0.25185454 0.         0.        ]\n",
      " [0.06624064 0.72990069 0.11185028 0.40726834 0.53033297]\n",
      " [0.1170142  0.04330027 0.27407198 0.45303816 0.48738825]]\n"
     ]
    }
   ],
   "source": [
    "print(rand_mat)\n",
    "rand_mat[1:3,3:5] = 0\n",
    "print('')\n",
    "print(rand_mat)"
   ]
  },
  {
   "cell_type": "code",
   "execution_count": 41,
   "metadata": {},
   "outputs": [
    {
     "name": "stdout",
     "output_type": "stream",
     "text": [
      "[[0.59559304 0.22220342 0.12787051]\n",
      " [0.53952948 0.30822766 0.14995893]]\n",
      "[[3. 3. 3.]\n",
      " [3. 3. 3.]]\n"
     ]
    }
   ],
   "source": [
    "sub_mat = rand_mat[0:2,0:3]\n",
    "print(sub_mat)\n",
    "sub_mat[:] = 3\n",
    "print(sub_mat)\n"
   ]
  },
  {
   "cell_type": "code",
   "execution_count": 42,
   "metadata": {},
   "outputs": [
    {
     "name": "stdout",
     "output_type": "stream",
     "text": [
      "[[3.         3.         3.         0.69320645 0.84810147]\n",
      " [3.         3.         3.         0.         0.        ]\n",
      " [0.96017356 0.46808799 0.25185454 0.         0.        ]\n",
      " [0.06624064 0.72990069 0.11185028 0.40726834 0.53033297]\n",
      " [0.1170142  0.04330027 0.27407198 0.45303816 0.48738825]]\n"
     ]
    }
   ],
   "source": [
    "print(rand_mat)"
   ]
  },
  {
   "cell_type": "code",
   "execution_count": 43,
   "metadata": {},
   "outputs": [
    {
     "name": "stdout",
     "output_type": "stream",
     "text": [
      "[[99. 99. 99.]\n",
      " [99. 99. 99.]]\n",
      "[[3.         3.         3.         0.69320645 0.84810147]\n",
      " [3.         3.         3.         0.         0.        ]\n",
      " [0.96017356 0.46808799 0.25185454 0.         0.        ]\n",
      " [0.06624064 0.72990069 0.11185028 0.40726834 0.53033297]\n",
      " [0.1170142  0.04330027 0.27407198 0.45303816 0.48738825]]\n"
     ]
    }
   ],
   "source": [
    "sub_mat2 = rand_mat[0:2,0:3].copy()\n",
    "sub_mat2[:] = 99\n",
    "print(sub_mat2)\n",
    "print(rand_mat)\n"
   ]
  },
  {
   "cell_type": "code",
   "execution_count": 44,
   "metadata": {},
   "outputs": [],
   "source": [
    "# break here for next video"
   ]
  },
  {
   "cell_type": "code",
   "execution_count": 45,
   "metadata": {},
   "outputs": [
    {
     "name": "stdout",
     "output_type": "stream",
     "text": [
      "[-2.45752485  0.62070023 -0.80344797 -0.68903295  0.94728621 -0.31313704\n",
      " -1.37192366 -0.39473577 -0.96078293 -1.1041482  -0.43537795 -0.1733273\n",
      " -1.17012309 -1.506668    0.57943234]\n",
      "[False  True False False  True False False False False False False False\n",
      " False False  True]\n",
      "[0.62070023 0.94728621 0.57943234]\n"
     ]
    }
   ],
   "source": [
    "# we can also access entries with logicals\n",
    "rand_vec = np.random.randn(15)\n",
    "\n",
    "print(rand_vec)\n",
    "print(rand_vec>0)\n",
    "print(rand_vec[rand_vec>0])"
   ]
  },
  {
   "cell_type": "code",
   "execution_count": 46,
   "metadata": {},
   "outputs": [
    {
     "name": "stdout",
     "output_type": "stream",
     "text": [
      "[[ 1.36413317 -0.91854407 -0.01737141 -0.37241814  0.1939815 ]\n",
      " [ 0.72798862  0.73127385 -1.16812128 -1.44215804  1.522981  ]\n",
      " [ 0.49613574 -0.07461444  0.42902284 -0.95615609  2.21064991]\n",
      " [ 0.93142495  0.7481022   0.07240928 -1.15976102 -1.01927743]\n",
      " [-0.75564431 -1.00893731 -0.06893155 -0.26521186  0.80359658]\n",
      " [ 1.61040148  0.12236433 -1.03733869 -0.292318   -0.00811614]\n",
      " [-0.29589636  0.80182963 -0.12167325  0.94470546  0.75764065]\n",
      " [-1.04466882  0.00452903  0.10635619  2.19454379  1.88665051]\n",
      " [-1.12798944 -1.18773131 -0.24095546  0.81747617 -1.95892565]\n",
      " [-2.14683676 -0.73097672 -0.45614487  0.6961071  -0.7279252 ]]\n",
      "[1.36413317 0.1939815  0.72798862 0.73127385 1.522981   0.49613574\n",
      " 0.42902284 2.21064991 0.93142495 0.7481022  0.07240928 0.80359658\n",
      " 1.61040148 0.12236433 0.80182963 0.94470546 0.75764065 0.00452903\n",
      " 0.10635619 2.19454379 1.88665051 0.81747617 0.6961071 ]\n"
     ]
    }
   ],
   "source": [
    "print(rand_mat2)\n",
    "print(rand_mat2[rand_mat2>0])"
   ]
  },
  {
   "cell_type": "code",
   "execution_count": 47,
   "metadata": {},
   "outputs": [
    {
     "name": "stdout",
     "output_type": "stream",
     "text": [
      "[-2.45752485  0.62070023 -0.80344797 -0.68903295  0.94728621 -0.31313704\n",
      " -1.37192366 -0.39473577 -0.96078293 -1.1041482  -0.43537795 -0.1733273\n",
      " -1.17012309 -1.506668    0.57943234]\n",
      "\n",
      "[-2.45752485 -5.         -0.80344797 -0.68903295 -5.         -0.31313704\n",
      " -1.37192366 -0.39473577 -0.96078293 -1.1041482  -0.43537795 -0.1733273\n",
      " -1.17012309 -1.506668   -5.        ]\n"
     ]
    }
   ],
   "source": [
    "\n",
    "print(rand_vec)\n",
    "print('')\n",
    "rand_vec[rand_vec>0.5] = -5\n",
    "print(rand_vec)"
   ]
  },
  {
   "cell_type": "code",
   "execution_count": 48,
   "metadata": {},
   "outputs": [],
   "source": [
    "# let's save some arrays on the disk for use later!\n",
    "np.save('saved_file_name',rand_mat2)\n"
   ]
  },
  {
   "cell_type": "code",
   "execution_count": 49,
   "metadata": {},
   "outputs": [],
   "source": [
    "np.savez('zipped_file_name',rand_mat=rand_mat,rand_mat2=rand_mat2)"
   ]
  },
  {
   "cell_type": "code",
   "execution_count": 50,
   "metadata": {},
   "outputs": [
    {
     "name": "stdout",
     "output_type": "stream",
     "text": [
      "[[ 1.36413317 -0.91854407 -0.01737141 -0.37241814  0.1939815 ]\n",
      " [ 0.72798862  0.73127385 -1.16812128 -1.44215804  1.522981  ]\n",
      " [ 0.49613574 -0.07461444  0.42902284 -0.95615609  2.21064991]\n",
      " [ 0.93142495  0.7481022   0.07240928 -1.15976102 -1.01927743]\n",
      " [-0.75564431 -1.00893731 -0.06893155 -0.26521186  0.80359658]\n",
      " [ 1.61040148  0.12236433 -1.03733869 -0.292318   -0.00811614]\n",
      " [-0.29589636  0.80182963 -0.12167325  0.94470546  0.75764065]\n",
      " [-1.04466882  0.00452903  0.10635619  2.19454379  1.88665051]\n",
      " [-1.12798944 -1.18773131 -0.24095546  0.81747617 -1.95892565]\n",
      " [-2.14683676 -0.73097672 -0.45614487  0.6961071  -0.7279252 ]]\n",
      "\n",
      "<numpy.lib.npyio.NpzFile object at 0x000002417711E100>\n"
     ]
    }
   ],
   "source": [
    "# now let's load it\n",
    "loaded_vec = np.load('saved_file_name.npy')\n",
    "loaded_zip = np.load('zipped_file_name.npz')\n",
    "\n",
    "print(loaded_vec)\n",
    "print('')\n",
    "print(loaded_zip)"
   ]
  },
  {
   "cell_type": "code",
   "execution_count": 51,
   "metadata": {},
   "outputs": [
    {
     "name": "stdout",
     "output_type": "stream",
     "text": [
      "[[3.         3.         3.         0.69320645 0.84810147]\n",
      " [3.         3.         3.         0.         0.        ]\n",
      " [0.96017356 0.46808799 0.25185454 0.         0.        ]\n",
      " [0.06624064 0.72990069 0.11185028 0.40726834 0.53033297]\n",
      " [0.1170142  0.04330027 0.27407198 0.45303816 0.48738825]]\n",
      "\n",
      "[[ 1.36413317 -0.91854407 -0.01737141 -0.37241814  0.1939815 ]\n",
      " [ 0.72798862  0.73127385 -1.16812128 -1.44215804  1.522981  ]\n",
      " [ 0.49613574 -0.07461444  0.42902284 -0.95615609  2.21064991]\n",
      " [ 0.93142495  0.7481022   0.07240928 -1.15976102 -1.01927743]\n",
      " [-0.75564431 -1.00893731 -0.06893155 -0.26521186  0.80359658]\n",
      " [ 1.61040148  0.12236433 -1.03733869 -0.292318   -0.00811614]\n",
      " [-0.29589636  0.80182963 -0.12167325  0.94470546  0.75764065]\n",
      " [-1.04466882  0.00452903  0.10635619  2.19454379  1.88665051]\n",
      " [-1.12798944 -1.18773131 -0.24095546  0.81747617 -1.95892565]\n",
      " [-2.14683676 -0.73097672 -0.45614487  0.6961071  -0.7279252 ]]\n",
      "[[3.         3.         3.         0.69320645 0.84810147]\n",
      " [3.         3.         3.         0.         0.        ]\n",
      " [0.96017356 0.46808799 0.25185454 0.         0.        ]\n",
      " [0.06624064 0.72990069 0.11185028 0.40726834 0.53033297]\n",
      " [0.1170142  0.04330027 0.27407198 0.45303816 0.48738825]]\n"
     ]
    }
   ],
   "source": [
    "print(loaded_zip['rand_mat'])\n",
    "print('')\n",
    "print(loaded_zip['rand_mat2'])\n",
    "\n",
    "new_array  = loaded_zip['rand_mat']\n",
    "print(new_array)"
   ]
  },
  {
   "cell_type": "code",
   "execution_count": 52,
   "metadata": {},
   "outputs": [
    {
     "name": "stdout",
     "output_type": "stream",
     "text": [
      "[[3.         3.         3.         0.69320645 0.84810147]\n",
      " [3.         3.         3.         0.         0.        ]\n",
      " [0.96017356 0.46808799 0.25185454 0.         0.        ]\n",
      " [0.06624064 0.72990069 0.11185028 0.40726834 0.53033297]\n",
      " [0.1170142  0.04330027 0.27407198 0.45303816 0.48738825]]\n",
      "\n",
      "[[3.         3.         3.         0.69320645 0.84810147]\n",
      " [3.         3.         3.         0.         0.        ]\n",
      " [0.96017356 0.46808799 0.25185454 0.         0.        ]\n",
      " [0.06624064 0.72990069 0.11185028 0.40726834 0.53033297]\n",
      " [0.1170142  0.04330027 0.27407198 0.45303816 0.48738825]]\n"
     ]
    }
   ],
   "source": [
    "# we can also save/load as text files...but only single variables\n",
    "np.savetxt('text_file_name.txt',rand_mat,delimiter=',')\n",
    "rand_mat_txt = np.loadtxt('text_file_name.txt',delimiter=',')\n",
    "print(rand_mat)\n",
    "print('')\n",
    "print(rand_mat_txt)"
   ]
  },
  {
   "cell_type": "code",
   "execution_count": null,
   "metadata": {},
   "outputs": [],
   "source": []
  }
 ],
 "metadata": {
  "kernelspec": {
   "display_name": "Python 3",
   "language": "python",
   "name": "python3"
  },
  "language_info": {
   "codemirror_mode": {
    "name": "ipython",
    "version": 3
   },
   "file_extension": ".py",
   "mimetype": "text/x-python",
   "name": "python",
   "nbconvert_exporter": "python",
   "pygments_lexer": "ipython3",
   "version": "3.8.3"
  }
 },
 "nbformat": 4,
 "nbformat_minor": 2
}
